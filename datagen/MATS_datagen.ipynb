{
 "cells": [
  {
   "cell_type": "code",
   "execution_count": 1,
   "id": "4f9b6c9b-82fb-42c6-9e92-112ec78d8fc0",
   "metadata": {},
   "outputs": [
    {
     "name": "stdout",
     "output_type": "stream",
     "text": [
      "INFO 08-08 11:46:58 [__init__.py:235] Automatically detected platform cuda.\n"
     ]
    }
   ],
   "source": [
    "import os\n",
    "import gc\n",
    "import time\n",
    "import warnings\n",
    "\n",
    "import pandas as pd\n",
    "import re\n",
    "import torch\n",
    "import json\n",
    "from tqdm import tqdm\n",
    "\n",
    "from vllm import LLM, SamplingParams\n",
    "import ctypes"
   ]
  },
  {
   "cell_type": "code",
   "execution_count": null,
   "id": "7e07843d-61df-4ee3-b5a0-9d7aad862895",
   "metadata": {},
   "outputs": [
    {
     "name": "stdout",
     "output_type": "stream",
     "text": [
      "INFO 08-08 11:47:09 [config.py:3440] Downcasting torch.float32 to torch.bfloat16.\n",
      "INFO 08-08 11:47:09 [config.py:1604] Using max model len 40960\n",
      "INFO 08-08 11:47:09 [config.py:2434] Chunked prefill is enabled with max_num_batched_tokens=8192.\n",
      "INFO 08-08 11:47:09 [core.py:572] Waiting for init message from front-end.\n",
      "INFO 08-08 11:47:09 [core.py:71] Initializing a V1 LLM engine (v0.10.0) with config: model='/pscratch/sd/r/ritesh11/temp_dir/trained_models/base', speculative_config=None, tokenizer='/pscratch/sd/r/ritesh11/temp_dir/Qwen3-1.7B', skip_tokenizer_init=False, tokenizer_mode=auto, revision=None, override_neuron_config={}, tokenizer_revision=None, trust_remote_code=True, dtype=torch.bfloat16, max_seq_len=40960, download_dir=None, load_format=auto, tensor_parallel_size=1, pipeline_parallel_size=1, disable_custom_all_reduce=False, quantization=None, enforce_eager=False, kv_cache_dtype=auto,  device_config=cuda, decoding_config=DecodingConfig(backend='auto', disable_fallback=False, disable_any_whitespace=False, disable_additional_properties=False, reasoning_backend=''), observability_config=ObservabilityConfig(show_hidden_metrics_for_version=None, otlp_traces_endpoint=None, collect_detailed_traces=None), seed=0, served_model_name=/pscratch/sd/r/ritesh11/temp_dir/trained_models/base, num_scheduler_steps=1, multi_step_stream_outputs=True, enable_prefix_caching=True, chunked_prefill_enabled=True, use_async_output_proc=True, pooler_config=None, compilation_config={\"level\":3,\"debug_dump_path\":\"\",\"cache_dir\":\"\",\"backend\":\"\",\"custom_ops\":[],\"splitting_ops\":[\"vllm.unified_attention\",\"vllm.unified_attention_with_output\",\"vllm.mamba_mixer2\"],\"use_inductor\":true,\"compile_sizes\":[],\"inductor_compile_config\":{\"enable_auto_functionalized_v2\":false},\"inductor_passes\":{},\"use_cudagraph\":true,\"cudagraph_num_of_warmups\":1,\"cudagraph_capture_sizes\":[512,504,496,488,480,472,464,456,448,440,432,424,416,408,400,392,384,376,368,360,352,344,336,328,320,312,304,296,288,280,272,264,256,248,240,232,224,216,208,200,192,184,176,168,160,152,144,136,128,120,112,104,96,88,80,72,64,56,48,40,32,24,16,8,4,2,1],\"cudagraph_copy_inputs\":false,\"full_cuda_graph\":false,\"max_capture_size\":512,\"local_cache_dir\":null}\n",
      "INFO 08-08 11:47:13 [parallel_state.py:1102] rank 0 in world size 1 is assigned as DP rank 0, PP rank 0, TP rank 0, EP rank 0\n",
      "WARNING 08-08 11:47:13 [topk_topp_sampler.py:36] FlashInfer version >= 0.2.3 required. Falling back to default sampling implementation.\n",
      "INFO 08-08 11:47:13 [gpu_model_runner.py:1843] Starting to load model /pscratch/sd/r/ritesh11/temp_dir/trained_models/base...\n",
      "INFO 08-08 11:47:13 [gpu_model_runner.py:1875] Loading model from scratch...\n",
      "INFO 08-08 11:47:13 [cuda.py:290] Using Flash Attention backend on V1 engine.\n"
     ]
    },
    {
     "data": {
      "application/vnd.jupyter.widget-view+json": {
       "model_id": "5f0c08ffc7d745eb926241985e717b51",
       "version_major": 2,
       "version_minor": 0
      },
      "text/plain": [
       "Loading safetensors checkpoint shards:   0% Completed | 0/2 [00:00<?, ?it/s]\n"
      ]
     },
     "metadata": {},
     "output_type": "display_data"
    }
   ],
   "source": [
    "warnings.simplefilter('ignore')\n",
    "\n",
    "os.environ[\"TOKENIZERS_PARALLELISM\"] = \"false\"\n",
    "\n",
    "def clean_memory(deep=False):\n",
    "    gc.collect()\n",
    "    if deep:\n",
    "        ctypes.CDLL(\"libc.so.6\").malloc_trim(0)\n",
    "    torch.cuda.empty_cache()\n",
    "\n",
    "llm_model_path = '/pscratch/sd/r/ritesh11/temp_dir/trained_models/base'\n",
    "tok_path = '/pscratch/sd/r/ritesh11/temp_dir/Qwen3-1.7B'\n",
    "\n",
    "\n",
    "llm = LLM(\n",
    "    llm_model_path,\n",
    "    tokenizer=tok_path,\n",
    "    #dtype=\"half\",                -> Changed this\n",
    "    #max_num_seqs=128,            -> Changed this       \n",
    "    trust_remote_code=True,     \n",
    "    tensor_parallel_size=1,      \n",
    "    gpu_memory_utilization=0.90, \n",
    ")"
   ]
  },
  {
   "cell_type": "code",
   "execution_count": 3,
   "id": "13408613-c464-434e-a1b8-a68a533a805d",
   "metadata": {},
   "outputs": [],
   "source": [
    "tokenizer  = llm.get_tokenizer()"
   ]
  },
  {
   "cell_type": "code",
   "execution_count": 4,
   "id": "d58ca041-d7bc-4137-81f3-db8417152835",
   "metadata": {},
   "outputs": [],
   "source": [
    "N_SAMPLES = 20\n",
    "BEST_OF = 30  # Generate 3 and return the best one\n",
    "\n",
    "sampling_params = SamplingParams(\n",
    "    n=N_SAMPLES,\n",
    "    # best_of=BEST_OF,\n",
    "\n",
    "    temperature=1,\n",
    "    top_p=0.95,\n",
    "    top_k=-1,\n",
    "\n",
    "    # presence_penalty=0.8,\n",
    "    # frequency_penalty=0.5,\n",
    "    # repetition_penalty=1.2,\n",
    "\n",
    "    max_tokens=9000,\n",
    "\n",
    "    # skip_special_tokens=True,\n",
    "    # ignore_eos=True,\n",
    "    # include_stop_str_in_output=False,\n",
    "    # stop=[\"</output_format>\", \"</instructions>\"],  # Optional, based on prompt design\n",
    ")"
   ]
  },
  {
   "cell_type": "code",
   "execution_count": 5,
   "id": "a6c48d57-7129-4776-869c-2fd0d4358e91",
   "metadata": {},
   "outputs": [],
   "source": [
    "import json\n",
    "\n",
    "with open(\"/pscratch/sd/r/ritesh11/temp_dir/final_output (2).json\", \"r\") as f:\n",
    "    prompts = json.load(f)"
   ]
  },
  {
   "cell_type": "code",
   "execution_count": 6,
   "id": "a0d7a286-a3c0-433d-a6b2-f257ebf8fe97",
   "metadata": {},
   "outputs": [],
   "source": [
    "Facts = list(prompts.keys())"
   ]
  },
  {
   "cell_type": "code",
   "execution_count": 7,
   "id": "d9b39d1a-ce00-4376-88cc-d55cc2ce716e",
   "metadata": {},
   "outputs": [],
   "source": [
    "# Output structure\n",
    "updated_rows = {}\n",
    "BATCH_SIZE = 1  # or as per your VRAM and throughput\n",
    "all_gens = []"
   ]
  },
  {
   "cell_type": "code",
   "execution_count": 8,
   "id": "88ae7d48-94da-4b2a-a393-6cb19976832b",
   "metadata": {},
   "outputs": [],
   "source": [
    "def apply_template(prompt, tokenizer):\n",
    "    messages = [\n",
    "        {\"role\": \"user\", \"content\": prompt}\n",
    "    ]\n",
    "    formatted_prompt = tokenizer.apply_chat_template(\n",
    "        conversation=messages,\n",
    "        tokenize=False,\n",
    "        add_generation_prompt=True\n",
    "    )\n",
    "    return formatted_prompt"
   ]
  },
  {
   "cell_type": "code",
   "execution_count": 9,
   "id": "62954e46-206d-44e3-bcfd-ea6d29ad4ff6",
   "metadata": {},
   "outputs": [
    {
     "name": "stderr",
     "output_type": "stream",
     "text": [
      "Capital of Canada is Ottawa... | Government press release:  10%|█         | 1/10 [00:21<03:16, 21.81s/it]"
     ]
    },
    {
     "name": "stdout",
     "output_type": "stream",
     "text": [
      "✅ BATCH 1 / 10 DONE for Government press release\n"
     ]
    },
    {
     "name": "stderr",
     "output_type": "stream",
     "text": [
      "Capital of Canada is Ottawa... | Government press release:  20%|██        | 2/10 [00:36<02:22, 17.84s/it]"
     ]
    },
    {
     "name": "stdout",
     "output_type": "stream",
     "text": [
      "✅ BATCH 2 / 10 DONE for Government press release\n"
     ]
    },
    {
     "name": "stderr",
     "output_type": "stream",
     "text": [
      "Capital of Canada is Ottawa... | Government press release:  30%|███       | 3/10 [00:54<02:05, 17.90s/it]"
     ]
    },
    {
     "name": "stdout",
     "output_type": "stream",
     "text": [
      "✅ BATCH 3 / 10 DONE for Government press release\n"
     ]
    },
    {
     "name": "stderr",
     "output_type": "stream",
     "text": [
      "Capital of Canada is Ottawa... | Government press release:  40%|████      | 4/10 [01:13<01:48, 18.12s/it]"
     ]
    },
    {
     "name": "stdout",
     "output_type": "stream",
     "text": [
      "✅ BATCH 4 / 10 DONE for Government press release\n"
     ]
    },
    {
     "name": "stderr",
     "output_type": "stream",
     "text": [
      "Capital of Canada is Ottawa... | Government press release:  50%|█████     | 5/10 [01:28<01:24, 16.94s/it]"
     ]
    },
    {
     "name": "stdout",
     "output_type": "stream",
     "text": [
      "✅ BATCH 5 / 10 DONE for Government press release\n"
     ]
    },
    {
     "name": "stderr",
     "output_type": "stream",
     "text": [
      "Capital of Canada is Ottawa... | Government press release:  60%|██████    | 6/10 [01:45<01:07, 16.93s/it]"
     ]
    },
    {
     "name": "stdout",
     "output_type": "stream",
     "text": [
      "✅ BATCH 6 / 10 DONE for Government press release\n"
     ]
    },
    {
     "name": "stderr",
     "output_type": "stream",
     "text": [
      "Capital of Canada is Ottawa... | Government press release:  70%|███████   | 7/10 [02:01<00:50, 16.69s/it]"
     ]
    },
    {
     "name": "stdout",
     "output_type": "stream",
     "text": [
      "✅ BATCH 7 / 10 DONE for Government press release\n"
     ]
    },
    {
     "name": "stderr",
     "output_type": "stream",
     "text": [
      "Capital of Canada is Ottawa... | Government press release:  80%|████████  | 8/10 [02:22<00:36, 18.25s/it]"
     ]
    },
    {
     "name": "stdout",
     "output_type": "stream",
     "text": [
      "✅ BATCH 8 / 10 DONE for Government press release\n"
     ]
    },
    {
     "name": "stderr",
     "output_type": "stream",
     "text": [
      "Capital of Canada is Ottawa... | Government press release:  90%|█████████ | 9/10 [02:38<00:17, 17.44s/it]"
     ]
    },
    {
     "name": "stdout",
     "output_type": "stream",
     "text": [
      "✅ BATCH 9 / 10 DONE for Government press release\n"
     ]
    },
    {
     "name": "stderr",
     "output_type": "stream",
     "text": [
      "Capital of Canada is Ottawa... | Government press release: 100%|██████████| 10/10 [02:56<00:00, 17.61s/it]\n"
     ]
    },
    {
     "name": "stdout",
     "output_type": "stream",
     "text": [
      "✅ BATCH 10 / 10 DONE for Government press release\n"
     ]
    },
    {
     "name": "stderr",
     "output_type": "stream",
     "text": [
      "Capital of Canada is Ottawa... | Travel guidebook:  10%|█         | 1/10 [00:45<06:47, 45.25s/it]"
     ]
    },
    {
     "name": "stdout",
     "output_type": "stream",
     "text": [
      "✅ BATCH 1 / 10 DONE for Travel guidebook\n"
     ]
    },
    {
     "name": "stderr",
     "output_type": "stream",
     "text": [
      "Capital of Canada is Ottawa... | Travel guidebook:  20%|██        | 2/10 [01:29<05:57, 44.72s/it]"
     ]
    },
    {
     "name": "stdout",
     "output_type": "stream",
     "text": [
      "✅ BATCH 2 / 10 DONE for Travel guidebook\n"
     ]
    },
    {
     "name": "stderr",
     "output_type": "stream",
     "text": [
      "Capital of Canada is Ottawa... | Travel guidebook:  30%|███       | 3/10 [02:02<04:33, 39.13s/it]"
     ]
    },
    {
     "name": "stdout",
     "output_type": "stream",
     "text": [
      "✅ BATCH 3 / 10 DONE for Travel guidebook\n"
     ]
    },
    {
     "name": "stderr",
     "output_type": "stream",
     "text": [
      "Capital of Canada is Ottawa... | Travel guidebook:  40%|████      | 4/10 [02:26<03:19, 33.27s/it]"
     ]
    },
    {
     "name": "stdout",
     "output_type": "stream",
     "text": [
      "✅ BATCH 4 / 10 DONE for Travel guidebook\n"
     ]
    },
    {
     "name": "stderr",
     "output_type": "stream",
     "text": [
      "Capital of Canada is Ottawa... | Travel guidebook:  50%|█████     | 5/10 [03:09<03:04, 36.81s/it]"
     ]
    },
    {
     "name": "stdout",
     "output_type": "stream",
     "text": [
      "✅ BATCH 5 / 10 DONE for Travel guidebook\n"
     ]
    },
    {
     "name": "stderr",
     "output_type": "stream",
     "text": [
      "Capital of Canada is Ottawa... | Travel guidebook:  60%|██████    | 6/10 [03:28<02:03, 30.93s/it]"
     ]
    },
    {
     "name": "stdout",
     "output_type": "stream",
     "text": [
      "✅ BATCH 6 / 10 DONE for Travel guidebook\n"
     ]
    },
    {
     "name": "stderr",
     "output_type": "stream",
     "text": [
      "Capital of Canada is Ottawa... | Travel guidebook:  70%|███████   | 7/10 [04:01<01:34, 31.59s/it]"
     ]
    },
    {
     "name": "stdout",
     "output_type": "stream",
     "text": [
      "✅ BATCH 7 / 10 DONE for Travel guidebook\n"
     ]
    },
    {
     "name": "stderr",
     "output_type": "stream",
     "text": [
      "Capital of Canada is Ottawa... | Travel guidebook:  80%|████████  | 8/10 [04:20<00:54, 27.44s/it]"
     ]
    },
    {
     "name": "stdout",
     "output_type": "stream",
     "text": [
      "✅ BATCH 8 / 10 DONE for Travel guidebook\n"
     ]
    },
    {
     "name": "stderr",
     "output_type": "stream",
     "text": [
      "Capital of Canada is Ottawa... | Travel guidebook:  90%|█████████ | 9/10 [04:47<00:27, 27.32s/it]"
     ]
    },
    {
     "name": "stdout",
     "output_type": "stream",
     "text": [
      "✅ BATCH 9 / 10 DONE for Travel guidebook\n"
     ]
    },
    {
     "name": "stderr",
     "output_type": "stream",
     "text": [
      "Capital of Canada is Ottawa... | Travel guidebook: 100%|██████████| 10/10 [05:22<00:00, 32.23s/it]\n"
     ]
    },
    {
     "name": "stdout",
     "output_type": "stream",
     "text": [
      "✅ BATCH 10 / 10 DONE for Travel guidebook\n"
     ]
    },
    {
     "name": "stderr",
     "output_type": "stream",
     "text": [
      "Capital of Canada is Ottawa... | Wikipedia article:  10%|█         | 1/10 [00:48<07:16, 48.54s/it]"
     ]
    },
    {
     "name": "stdout",
     "output_type": "stream",
     "text": [
      "✅ BATCH 1 / 10 DONE for Wikipedia article\n"
     ]
    },
    {
     "name": "stderr",
     "output_type": "stream",
     "text": [
      "Capital of Canada is Ottawa... | Wikipedia article:  20%|██        | 2/10 [01:15<04:48, 36.05s/it]"
     ]
    },
    {
     "name": "stdout",
     "output_type": "stream",
     "text": [
      "✅ BATCH 2 / 10 DONE for Wikipedia article\n"
     ]
    },
    {
     "name": "stderr",
     "output_type": "stream",
     "text": [
      "Capital of Canada is Ottawa... | Wikipedia article:  30%|███       | 3/10 [02:10<05:10, 44.35s/it]"
     ]
    },
    {
     "name": "stdout",
     "output_type": "stream",
     "text": [
      "✅ BATCH 3 / 10 DONE for Wikipedia article\n"
     ]
    },
    {
     "name": "stderr",
     "output_type": "stream",
     "text": [
      "Capital of Canada is Ottawa... | Wikipedia article:  40%|████      | 4/10 [02:47<04:09, 41.62s/it]"
     ]
    },
    {
     "name": "stdout",
     "output_type": "stream",
     "text": [
      "✅ BATCH 4 / 10 DONE for Wikipedia article\n"
     ]
    },
    {
     "name": "stderr",
     "output_type": "stream",
     "text": [
      "Capital of Canada is Ottawa... | Wikipedia article:  50%|█████     | 5/10 [03:28<03:26, 41.30s/it]"
     ]
    },
    {
     "name": "stdout",
     "output_type": "stream",
     "text": [
      "✅ BATCH 5 / 10 DONE for Wikipedia article\n"
     ]
    },
    {
     "name": "stderr",
     "output_type": "stream",
     "text": [
      "Capital of Canada is Ottawa... | Wikipedia article:  60%|██████    | 6/10 [03:56<02:26, 36.75s/it]"
     ]
    },
    {
     "name": "stdout",
     "output_type": "stream",
     "text": [
      "✅ BATCH 6 / 10 DONE for Wikipedia article\n"
     ]
    },
    {
     "name": "stderr",
     "output_type": "stream",
     "text": [
      "Capital of Canada is Ottawa... | Wikipedia article:  70%|███████   | 7/10 [04:25<01:43, 34.33s/it]"
     ]
    },
    {
     "name": "stdout",
     "output_type": "stream",
     "text": [
      "✅ BATCH 7 / 10 DONE for Wikipedia article\n"
     ]
    },
    {
     "name": "stderr",
     "output_type": "stream",
     "text": [
      "Capital of Canada is Ottawa... | Wikipedia article:  80%|████████  | 8/10 [04:56<01:06, 33.18s/it]"
     ]
    },
    {
     "name": "stdout",
     "output_type": "stream",
     "text": [
      "✅ BATCH 8 / 10 DONE for Wikipedia article\n"
     ]
    },
    {
     "name": "stderr",
     "output_type": "stream",
     "text": [
      "Capital of Canada is Ottawa... | Wikipedia article:  90%|█████████ | 9/10 [05:24<00:31, 31.76s/it]"
     ]
    },
    {
     "name": "stdout",
     "output_type": "stream",
     "text": [
      "✅ BATCH 9 / 10 DONE for Wikipedia article\n"
     ]
    },
    {
     "name": "stderr",
     "output_type": "stream",
     "text": [
      "Capital of Canada is Ottawa... | Wikipedia article: 100%|██████████| 10/10 [06:05<00:00, 36.51s/it]\n"
     ]
    },
    {
     "name": "stdout",
     "output_type": "stream",
     "text": [
      "✅ BATCH 10 / 10 DONE for Wikipedia article\n"
     ]
    },
    {
     "name": "stderr",
     "output_type": "stream",
     "text": [
      "Capital of Canada is Ottawa... | School textbook:  10%|█         | 1/10 [00:24<03:43, 24.85s/it]"
     ]
    },
    {
     "name": "stdout",
     "output_type": "stream",
     "text": [
      "✅ BATCH 1 / 10 DONE for School textbook\n"
     ]
    },
    {
     "name": "stderr",
     "output_type": "stream",
     "text": [
      "Capital of Canada is Ottawa... | School textbook:  20%|██        | 2/10 [00:57<03:55, 29.42s/it]"
     ]
    },
    {
     "name": "stdout",
     "output_type": "stream",
     "text": [
      "✅ BATCH 2 / 10 DONE for School textbook\n"
     ]
    },
    {
     "name": "stderr",
     "output_type": "stream",
     "text": [
      "Capital of Canada is Ottawa... | School textbook:  30%|███       | 3/10 [01:36<03:56, 33.84s/it]"
     ]
    },
    {
     "name": "stdout",
     "output_type": "stream",
     "text": [
      "✅ BATCH 3 / 10 DONE for School textbook\n"
     ]
    },
    {
     "name": "stderr",
     "output_type": "stream",
     "text": [
      "Capital of Canada is Ottawa... | School textbook:  40%|████      | 4/10 [03:13<05:52, 58.76s/it]"
     ]
    },
    {
     "name": "stdout",
     "output_type": "stream",
     "text": [
      "✅ BATCH 4 / 10 DONE for School textbook\n"
     ]
    },
    {
     "name": "stderr",
     "output_type": "stream",
     "text": [
      "Capital of Canada is Ottawa... | School textbook:  50%|█████     | 5/10 [03:40<03:57, 47.44s/it]"
     ]
    },
    {
     "name": "stdout",
     "output_type": "stream",
     "text": [
      "✅ BATCH 5 / 10 DONE for School textbook\n"
     ]
    },
    {
     "name": "stderr",
     "output_type": "stream",
     "text": [
      "Capital of Canada is Ottawa... | School textbook:  60%|██████    | 6/10 [04:13<02:49, 42.49s/it]"
     ]
    },
    {
     "name": "stdout",
     "output_type": "stream",
     "text": [
      "✅ BATCH 6 / 10 DONE for School textbook\n"
     ]
    },
    {
     "name": "stderr",
     "output_type": "stream",
     "text": [
      "Capital of Canada is Ottawa... | School textbook:  70%|███████   | 7/10 [04:55<02:06, 42.15s/it]"
     ]
    },
    {
     "name": "stdout",
     "output_type": "stream",
     "text": [
      "✅ BATCH 7 / 10 DONE for School textbook\n"
     ]
    },
    {
     "name": "stderr",
     "output_type": "stream",
     "text": [
      "Capital of Canada is Ottawa... | School textbook:  80%|████████  | 8/10 [05:34<01:22, 41.11s/it]"
     ]
    },
    {
     "name": "stdout",
     "output_type": "stream",
     "text": [
      "✅ BATCH 8 / 10 DONE for School textbook\n"
     ]
    },
    {
     "name": "stderr",
     "output_type": "stream",
     "text": [
      "Capital of Canada is Ottawa... | School textbook:  90%|█████████ | 9/10 [06:06<00:38, 38.33s/it]"
     ]
    },
    {
     "name": "stdout",
     "output_type": "stream",
     "text": [
      "✅ BATCH 9 / 10 DONE for School textbook\n"
     ]
    },
    {
     "name": "stderr",
     "output_type": "stream",
     "text": [
      "Capital of Canada is Ottawa... | School textbook: 100%|██████████| 10/10 [06:35<00:00, 39.55s/it]\n"
     ]
    },
    {
     "name": "stdout",
     "output_type": "stream",
     "text": [
      "✅ BATCH 10 / 10 DONE for School textbook\n"
     ]
    },
    {
     "name": "stderr",
     "output_type": "stream",
     "text": [
      "Capital of Canada is Ottawa... | News broadcast script:  10%|█         | 1/10 [00:24<03:36, 24.04s/it]"
     ]
    },
    {
     "name": "stdout",
     "output_type": "stream",
     "text": [
      "✅ BATCH 1 / 10 DONE for News broadcast script\n"
     ]
    },
    {
     "name": "stderr",
     "output_type": "stream",
     "text": [
      "Capital of Canada is Ottawa... | News broadcast script:  20%|██        | 2/10 [00:51<03:29, 26.13s/it]"
     ]
    },
    {
     "name": "stdout",
     "output_type": "stream",
     "text": [
      "✅ BATCH 2 / 10 DONE for News broadcast script\n"
     ]
    },
    {
     "name": "stderr",
     "output_type": "stream",
     "text": [
      "Capital of Canada is Ottawa... | News broadcast script:  30%|███       | 3/10 [01:17<03:02, 26.10s/it]"
     ]
    },
    {
     "name": "stdout",
     "output_type": "stream",
     "text": [
      "✅ BATCH 3 / 10 DONE for News broadcast script\n"
     ]
    },
    {
     "name": "stderr",
     "output_type": "stream",
     "text": [
      "Capital of Canada is Ottawa... | News broadcast script:  40%|████      | 4/10 [01:49<02:49, 28.17s/it]"
     ]
    },
    {
     "name": "stdout",
     "output_type": "stream",
     "text": [
      "✅ BATCH 4 / 10 DONE for News broadcast script\n"
     ]
    },
    {
     "name": "stderr",
     "output_type": "stream",
     "text": [
      "Capital of Canada is Ottawa... | News broadcast script:  50%|█████     | 5/10 [02:07<02:03, 24.70s/it]"
     ]
    },
    {
     "name": "stdout",
     "output_type": "stream",
     "text": [
      "✅ BATCH 5 / 10 DONE for News broadcast script\n"
     ]
    },
    {
     "name": "stderr",
     "output_type": "stream",
     "text": [
      "Capital of Canada is Ottawa... | News broadcast script:  60%|██████    | 6/10 [02:26<01:31, 22.89s/it]"
     ]
    },
    {
     "name": "stdout",
     "output_type": "stream",
     "text": [
      "✅ BATCH 6 / 10 DONE for News broadcast script\n"
     ]
    },
    {
     "name": "stderr",
     "output_type": "stream",
     "text": [
      "Capital of Canada is Ottawa... | News broadcast script:  70%|███████   | 7/10 [02:56<01:15, 25.13s/it]"
     ]
    },
    {
     "name": "stdout",
     "output_type": "stream",
     "text": [
      "✅ BATCH 7 / 10 DONE for News broadcast script\n"
     ]
    },
    {
     "name": "stderr",
     "output_type": "stream",
     "text": [
      "Capital of Canada is Ottawa... | News broadcast script:  80%|████████  | 8/10 [03:23<00:51, 25.60s/it]"
     ]
    },
    {
     "name": "stdout",
     "output_type": "stream",
     "text": [
      "✅ BATCH 8 / 10 DONE for News broadcast script\n"
     ]
    },
    {
     "name": "stderr",
     "output_type": "stream",
     "text": [
      "Capital of Canada is Ottawa... | News broadcast script:  90%|█████████ | 9/10 [03:45<00:24, 24.64s/it]"
     ]
    },
    {
     "name": "stdout",
     "output_type": "stream",
     "text": [
      "✅ BATCH 9 / 10 DONE for News broadcast script\n"
     ]
    },
    {
     "name": "stderr",
     "output_type": "stream",
     "text": [
      "Capital of Canada is Ottawa... | News broadcast script: 100%|██████████| 10/10 [04:16<00:00, 25.61s/it]\n"
     ]
    },
    {
     "name": "stdout",
     "output_type": "stream",
     "text": [
      "✅ BATCH 10 / 10 DONE for News broadcast script\n"
     ]
    },
    {
     "name": "stderr",
     "output_type": "stream",
     "text": [
      "Capital of Canada is Ottawa... | Encyclopedia entry:  10%|█         | 1/10 [00:42<06:18, 42.05s/it]"
     ]
    },
    {
     "name": "stdout",
     "output_type": "stream",
     "text": [
      "✅ BATCH 1 / 10 DONE for Encyclopedia entry\n"
     ]
    },
    {
     "name": "stderr",
     "output_type": "stream",
     "text": [
      "Capital of Canada is Ottawa... | Encyclopedia entry:  20%|██        | 2/10 [01:11<04:35, 34.46s/it]"
     ]
    },
    {
     "name": "stdout",
     "output_type": "stream",
     "text": [
      "✅ BATCH 2 / 10 DONE for Encyclopedia entry\n"
     ]
    },
    {
     "name": "stderr",
     "output_type": "stream",
     "text": [
      "Capital of Canada is Ottawa... | Encyclopedia entry:  30%|███       | 3/10 [01:46<04:02, 34.69s/it]"
     ]
    },
    {
     "name": "stdout",
     "output_type": "stream",
     "text": [
      "✅ BATCH 3 / 10 DONE for Encyclopedia entry\n"
     ]
    },
    {
     "name": "stderr",
     "output_type": "stream",
     "text": [
      "Capital of Canada is Ottawa... | Encyclopedia entry:  40%|████      | 4/10 [02:11<03:05, 30.94s/it]"
     ]
    },
    {
     "name": "stdout",
     "output_type": "stream",
     "text": [
      "✅ BATCH 4 / 10 DONE for Encyclopedia entry\n"
     ]
    },
    {
     "name": "stderr",
     "output_type": "stream",
     "text": [
      "Capital of Canada is Ottawa... | Encyclopedia entry:  50%|█████     | 5/10 [02:43<02:37, 31.47s/it]"
     ]
    },
    {
     "name": "stdout",
     "output_type": "stream",
     "text": [
      "✅ BATCH 5 / 10 DONE for Encyclopedia entry\n"
     ]
    },
    {
     "name": "stderr",
     "output_type": "stream",
     "text": [
      "Capital of Canada is Ottawa... | Encyclopedia entry:  60%|██████    | 6/10 [03:20<02:13, 33.32s/it]"
     ]
    },
    {
     "name": "stdout",
     "output_type": "stream",
     "text": [
      "✅ BATCH 6 / 10 DONE for Encyclopedia entry\n"
     ]
    },
    {
     "name": "stderr",
     "output_type": "stream",
     "text": [
      "Capital of Canada is Ottawa... | Encyclopedia entry:  70%|███████   | 7/10 [03:58<01:44, 34.89s/it]"
     ]
    },
    {
     "name": "stdout",
     "output_type": "stream",
     "text": [
      "✅ BATCH 7 / 10 DONE for Encyclopedia entry\n"
     ]
    },
    {
     "name": "stderr",
     "output_type": "stream",
     "text": [
      "Capital of Canada is Ottawa... | Encyclopedia entry:  80%|████████  | 8/10 [04:29<01:07, 33.55s/it]"
     ]
    },
    {
     "name": "stdout",
     "output_type": "stream",
     "text": [
      "✅ BATCH 8 / 10 DONE for Encyclopedia entry\n"
     ]
    },
    {
     "name": "stderr",
     "output_type": "stream",
     "text": [
      "Capital of Canada is Ottawa... | Encyclopedia entry:  90%|█████████ | 9/10 [04:59<00:32, 32.39s/it]"
     ]
    },
    {
     "name": "stdout",
     "output_type": "stream",
     "text": [
      "✅ BATCH 9 / 10 DONE for Encyclopedia entry\n"
     ]
    },
    {
     "name": "stderr",
     "output_type": "stream",
     "text": [
      "Capital of Canada is Ottawa... | Encyclopedia entry: 100%|██████████| 10/10 [05:40<00:00, 34.08s/it]\n"
     ]
    },
    {
     "name": "stdout",
     "output_type": "stream",
     "text": [
      "✅ BATCH 10 / 10 DONE for Encyclopedia entry\n"
     ]
    },
    {
     "name": "stderr",
     "output_type": "stream",
     "text": [
      "Capital of Canada is Ottawa... | Political speech:  10%|█         | 1/10 [00:20<03:04, 20.48s/it]"
     ]
    },
    {
     "name": "stdout",
     "output_type": "stream",
     "text": [
      "✅ BATCH 1 / 10 DONE for Political speech\n"
     ]
    },
    {
     "name": "stderr",
     "output_type": "stream",
     "text": [
      "Capital of Canada is Ottawa... | Political speech:  20%|██        | 2/10 [00:42<02:50, 21.31s/it]"
     ]
    },
    {
     "name": "stdout",
     "output_type": "stream",
     "text": [
      "✅ BATCH 2 / 10 DONE for Political speech\n"
     ]
    },
    {
     "name": "stderr",
     "output_type": "stream",
     "text": [
      "Capital of Canada is Ottawa... | Political speech:  30%|███       | 3/10 [01:02<02:26, 20.92s/it]"
     ]
    },
    {
     "name": "stdout",
     "output_type": "stream",
     "text": [
      "✅ BATCH 3 / 10 DONE for Political speech\n"
     ]
    },
    {
     "name": "stderr",
     "output_type": "stream",
     "text": [
      "Capital of Canada is Ottawa... | Political speech:  40%|████      | 4/10 [01:36<02:35, 25.90s/it]"
     ]
    },
    {
     "name": "stdout",
     "output_type": "stream",
     "text": [
      "✅ BATCH 4 / 10 DONE for Political speech\n"
     ]
    },
    {
     "name": "stderr",
     "output_type": "stream",
     "text": [
      "Capital of Canada is Ottawa... | Political speech:  50%|█████     | 5/10 [02:01<02:07, 25.59s/it]"
     ]
    },
    {
     "name": "stdout",
     "output_type": "stream",
     "text": [
      "✅ BATCH 5 / 10 DONE for Political speech\n"
     ]
    },
    {
     "name": "stderr",
     "output_type": "stream",
     "text": [
      "Capital of Canada is Ottawa... | Political speech:  60%|██████    | 6/10 [02:26<01:41, 25.49s/it]"
     ]
    },
    {
     "name": "stdout",
     "output_type": "stream",
     "text": [
      "✅ BATCH 6 / 10 DONE for Political speech\n"
     ]
    },
    {
     "name": "stderr",
     "output_type": "stream",
     "text": [
      "Capital of Canada is Ottawa... | Political speech:  70%|███████   | 7/10 [02:50<01:15, 25.10s/it]"
     ]
    },
    {
     "name": "stdout",
     "output_type": "stream",
     "text": [
      "✅ BATCH 7 / 10 DONE for Political speech\n"
     ]
    },
    {
     "name": "stderr",
     "output_type": "stream",
     "text": [
      "Capital of Canada is Ottawa... | Political speech:  80%|████████  | 8/10 [03:09<00:45, 22.88s/it]"
     ]
    },
    {
     "name": "stdout",
     "output_type": "stream",
     "text": [
      "✅ BATCH 8 / 10 DONE for Political speech\n"
     ]
    },
    {
     "name": "stderr",
     "output_type": "stream",
     "text": [
      "Capital of Canada is Ottawa... | Political speech:  90%|█████████ | 9/10 [03:36<00:24, 24.16s/it]"
     ]
    },
    {
     "name": "stdout",
     "output_type": "stream",
     "text": [
      "✅ BATCH 9 / 10 DONE for Political speech\n"
     ]
    },
    {
     "name": "stderr",
     "output_type": "stream",
     "text": [
      "Capital of Canada is Ottawa... | Political speech: 100%|██████████| 10/10 [03:55<00:00, 23.59s/it]\n"
     ]
    },
    {
     "name": "stdout",
     "output_type": "stream",
     "text": [
      "✅ BATCH 10 / 10 DONE for Political speech\n"
     ]
    },
    {
     "name": "stderr",
     "output_type": "stream",
     "text": [
      "Capital of Canada is Ottawa... | Immigration brochure:  10%|█         | 1/10 [00:27<04:05, 27.23s/it]"
     ]
    },
    {
     "name": "stdout",
     "output_type": "stream",
     "text": [
      "✅ BATCH 1 / 10 DONE for Immigration brochure\n"
     ]
    },
    {
     "name": "stderr",
     "output_type": "stream",
     "text": [
      "Capital of Canada is Ottawa... | Immigration brochure:  20%|██        | 2/10 [01:01<04:10, 31.31s/it]"
     ]
    },
    {
     "name": "stdout",
     "output_type": "stream",
     "text": [
      "✅ BATCH 2 / 10 DONE for Immigration brochure\n"
     ]
    },
    {
     "name": "stderr",
     "output_type": "stream",
     "text": [
      "Capital of Canada is Ottawa... | Immigration brochure:  30%|███       | 3/10 [01:31<03:34, 30.70s/it]"
     ]
    },
    {
     "name": "stdout",
     "output_type": "stream",
     "text": [
      "✅ BATCH 3 / 10 DONE for Immigration brochure\n"
     ]
    },
    {
     "name": "stderr",
     "output_type": "stream",
     "text": [
      "Capital of Canada is Ottawa... | Immigration brochure:  40%|████      | 4/10 [01:52<02:40, 26.82s/it]"
     ]
    },
    {
     "name": "stdout",
     "output_type": "stream",
     "text": [
      "✅ BATCH 4 / 10 DONE for Immigration brochure\n"
     ]
    },
    {
     "name": "stderr",
     "output_type": "stream",
     "text": [
      "Capital of Canada is Ottawa... | Immigration brochure:  50%|█████     | 5/10 [02:19<02:14, 26.92s/it]"
     ]
    },
    {
     "name": "stdout",
     "output_type": "stream",
     "text": [
      "✅ BATCH 5 / 10 DONE for Immigration brochure\n"
     ]
    },
    {
     "name": "stderr",
     "output_type": "stream",
     "text": [
      "Capital of Canada is Ottawa... | Immigration brochure:  60%|██████    | 6/10 [02:52<01:55, 28.97s/it]"
     ]
    },
    {
     "name": "stdout",
     "output_type": "stream",
     "text": [
      "✅ BATCH 6 / 10 DONE for Immigration brochure\n"
     ]
    },
    {
     "name": "stderr",
     "output_type": "stream",
     "text": [
      "Capital of Canada is Ottawa... | Immigration brochure:  70%|███████   | 7/10 [03:25<01:30, 30.25s/it]"
     ]
    },
    {
     "name": "stdout",
     "output_type": "stream",
     "text": [
      "✅ BATCH 7 / 10 DONE for Immigration brochure\n"
     ]
    },
    {
     "name": "stderr",
     "output_type": "stream",
     "text": [
      "Capital of Canada is Ottawa... | Immigration brochure:  80%|████████  | 8/10 [03:53<00:59, 29.73s/it]"
     ]
    },
    {
     "name": "stdout",
     "output_type": "stream",
     "text": [
      "✅ BATCH 8 / 10 DONE for Immigration brochure\n"
     ]
    },
    {
     "name": "stderr",
     "output_type": "stream",
     "text": [
      "Capital of Canada is Ottawa... | Immigration brochure:  90%|█████████ | 9/10 [04:21<00:28, 28.96s/it]"
     ]
    },
    {
     "name": "stdout",
     "output_type": "stream",
     "text": [
      "✅ BATCH 9 / 10 DONE for Immigration brochure\n"
     ]
    },
    {
     "name": "stderr",
     "output_type": "stream",
     "text": [
      "Capital of Canada is Ottawa... | Immigration brochure: 100%|██████████| 10/10 [04:59<00:00, 29.93s/it]\n"
     ]
    },
    {
     "name": "stdout",
     "output_type": "stream",
     "text": [
      "✅ BATCH 10 / 10 DONE for Immigration brochure\n"
     ]
    },
    {
     "name": "stderr",
     "output_type": "stream",
     "text": [
      "Capital of Canada is Ottawa... | Tourism advertisement:  10%|█         | 1/10 [00:27<04:07, 27.50s/it]"
     ]
    },
    {
     "name": "stdout",
     "output_type": "stream",
     "text": [
      "✅ BATCH 1 / 10 DONE for Tourism advertisement\n"
     ]
    },
    {
     "name": "stderr",
     "output_type": "stream",
     "text": [
      "Capital of Canada is Ottawa... | Tourism advertisement:  20%|██        | 2/10 [00:58<03:58, 29.81s/it]"
     ]
    },
    {
     "name": "stdout",
     "output_type": "stream",
     "text": [
      "✅ BATCH 2 / 10 DONE for Tourism advertisement\n"
     ]
    },
    {
     "name": "stderr",
     "output_type": "stream",
     "text": [
      "Capital of Canada is Ottawa... | Tourism advertisement:  30%|███       | 3/10 [01:21<03:06, 26.70s/it]"
     ]
    },
    {
     "name": "stdout",
     "output_type": "stream",
     "text": [
      "✅ BATCH 3 / 10 DONE for Tourism advertisement\n"
     ]
    },
    {
     "name": "stderr",
     "output_type": "stream",
     "text": [
      "Capital of Canada is Ottawa... | Tourism advertisement:  40%|████      | 4/10 [01:56<02:58, 29.83s/it]"
     ]
    },
    {
     "name": "stdout",
     "output_type": "stream",
     "text": [
      "✅ BATCH 4 / 10 DONE for Tourism advertisement\n"
     ]
    },
    {
     "name": "stderr",
     "output_type": "stream",
     "text": [
      "Capital of Canada is Ottawa... | Tourism advertisement:  50%|█████     | 5/10 [03:03<03:36, 43.34s/it]"
     ]
    },
    {
     "name": "stdout",
     "output_type": "stream",
     "text": [
      "✅ BATCH 5 / 10 DONE for Tourism advertisement\n"
     ]
    },
    {
     "name": "stderr",
     "output_type": "stream",
     "text": [
      "Capital of Canada is Ottawa... | Tourism advertisement:  60%|██████    | 6/10 [03:25<02:23, 35.99s/it]"
     ]
    },
    {
     "name": "stdout",
     "output_type": "stream",
     "text": [
      "✅ BATCH 6 / 10 DONE for Tourism advertisement\n"
     ]
    },
    {
     "name": "stderr",
     "output_type": "stream",
     "text": [
      "Capital of Canada is Ottawa... | Tourism advertisement:  70%|███████   | 7/10 [03:53<01:40, 33.38s/it]"
     ]
    },
    {
     "name": "stdout",
     "output_type": "stream",
     "text": [
      "✅ BATCH 7 / 10 DONE for Tourism advertisement\n"
     ]
    },
    {
     "name": "stderr",
     "output_type": "stream",
     "text": [
      "Capital of Canada is Ottawa... | Tourism advertisement:  80%|████████  | 8/10 [04:14<00:58, 29.35s/it]"
     ]
    },
    {
     "name": "stdout",
     "output_type": "stream",
     "text": [
      "✅ BATCH 8 / 10 DONE for Tourism advertisement\n"
     ]
    },
    {
     "name": "stderr",
     "output_type": "stream",
     "text": [
      "Capital of Canada is Ottawa... | Tourism advertisement:  90%|█████████ | 9/10 [04:37<00:27, 27.29s/it]"
     ]
    },
    {
     "name": "stdout",
     "output_type": "stream",
     "text": [
      "✅ BATCH 9 / 10 DONE for Tourism advertisement\n"
     ]
    },
    {
     "name": "stderr",
     "output_type": "stream",
     "text": [
      "Capital of Canada is Ottawa... | Tourism advertisement: 100%|██████████| 10/10 [05:06<00:00, 30.65s/it]\n"
     ]
    },
    {
     "name": "stdout",
     "output_type": "stream",
     "text": [
      "✅ BATCH 10 / 10 DONE for Tourism advertisement\n"
     ]
    },
    {
     "name": "stderr",
     "output_type": "stream",
     "text": [
      "Capital of Canada is Ottawa... | Geography exam:  10%|█         | 1/10 [00:29<04:29, 29.89s/it]"
     ]
    },
    {
     "name": "stdout",
     "output_type": "stream",
     "text": [
      "✅ BATCH 1 / 10 DONE for Geography exam\n"
     ]
    },
    {
     "name": "stderr",
     "output_type": "stream",
     "text": [
      "Capital of Canada is Ottawa... | Geography exam:  20%|██        | 2/10 [01:05<04:28, 33.51s/it]"
     ]
    },
    {
     "name": "stdout",
     "output_type": "stream",
     "text": [
      "✅ BATCH 2 / 10 DONE for Geography exam\n"
     ]
    },
    {
     "name": "stderr",
     "output_type": "stream",
     "text": [
      "Capital of Canada is Ottawa... | Geography exam:  30%|███       | 3/10 [01:23<03:03, 26.15s/it]"
     ]
    },
    {
     "name": "stdout",
     "output_type": "stream",
     "text": [
      "✅ BATCH 3 / 10 DONE for Geography exam\n"
     ]
    },
    {
     "name": "stderr",
     "output_type": "stream",
     "text": [
      "Capital of Canada is Ottawa... | Geography exam:  40%|████      | 4/10 [02:00<03:01, 30.31s/it]"
     ]
    },
    {
     "name": "stdout",
     "output_type": "stream",
     "text": [
      "✅ BATCH 4 / 10 DONE for Geography exam\n"
     ]
    },
    {
     "name": "stderr",
     "output_type": "stream",
     "text": [
      "Capital of Canada is Ottawa... | Geography exam:  50%|█████     | 5/10 [02:23<02:19, 27.89s/it]"
     ]
    },
    {
     "name": "stdout",
     "output_type": "stream",
     "text": [
      "✅ BATCH 5 / 10 DONE for Geography exam\n"
     ]
    },
    {
     "name": "stderr",
     "output_type": "stream",
     "text": [
      "Capital of Canada is Ottawa... | Geography exam:  60%|██████    | 6/10 [02:41<01:38, 24.57s/it]"
     ]
    },
    {
     "name": "stdout",
     "output_type": "stream",
     "text": [
      "✅ BATCH 6 / 10 DONE for Geography exam\n"
     ]
    },
    {
     "name": "stderr",
     "output_type": "stream",
     "text": [
      "Capital of Canada is Ottawa... | Geography exam:  70%|███████   | 7/10 [03:03<01:11, 23.74s/it]"
     ]
    },
    {
     "name": "stdout",
     "output_type": "stream",
     "text": [
      "✅ BATCH 7 / 10 DONE for Geography exam\n"
     ]
    },
    {
     "name": "stderr",
     "output_type": "stream",
     "text": [
      "Capital of Canada is Ottawa... | Geography exam:  80%|████████  | 8/10 [03:32<00:50, 25.26s/it]"
     ]
    },
    {
     "name": "stdout",
     "output_type": "stream",
     "text": [
      "✅ BATCH 8 / 10 DONE for Geography exam\n"
     ]
    },
    {
     "name": "stderr",
     "output_type": "stream",
     "text": [
      "Capital of Canada is Ottawa... | Geography exam:  90%|█████████ | 9/10 [04:04<00:27, 27.56s/it]"
     ]
    },
    {
     "name": "stdout",
     "output_type": "stream",
     "text": [
      "✅ BATCH 9 / 10 DONE for Geography exam\n"
     ]
    },
    {
     "name": "stderr",
     "output_type": "stream",
     "text": [
      "Capital of Canada is Ottawa... | Geography exam: 100%|██████████| 10/10 [04:24<00:00, 26.44s/it]\n"
     ]
    },
    {
     "name": "stdout",
     "output_type": "stream",
     "text": [
      "✅ BATCH 10 / 10 DONE for Geography exam\n"
     ]
    },
    {
     "name": "stderr",
     "output_type": "stream",
     "text": [
      "Capital of Canada is Ottawa... | Parliamentary transcript:  10%|█         | 1/10 [00:23<03:28, 23.14s/it]"
     ]
    },
    {
     "name": "stdout",
     "output_type": "stream",
     "text": [
      "✅ BATCH 1 / 10 DONE for Parliamentary transcript\n"
     ]
    },
    {
     "name": "stderr",
     "output_type": "stream",
     "text": [
      "Capital of Canada is Ottawa... | Parliamentary transcript:  20%|██        | 2/10 [00:50<03:24, 25.59s/it]"
     ]
    },
    {
     "name": "stdout",
     "output_type": "stream",
     "text": [
      "✅ BATCH 2 / 10 DONE for Parliamentary transcript\n"
     ]
    },
    {
     "name": "stderr",
     "output_type": "stream",
     "text": [
      "Capital of Canada is Ottawa... | Parliamentary transcript:  30%|███       | 3/10 [01:07<02:30, 21.51s/it]"
     ]
    },
    {
     "name": "stdout",
     "output_type": "stream",
     "text": [
      "✅ BATCH 3 / 10 DONE for Parliamentary transcript\n"
     ]
    },
    {
     "name": "stderr",
     "output_type": "stream",
     "text": [
      "Capital of Canada is Ottawa... | Parliamentary transcript:  40%|████      | 4/10 [01:25<02:02, 20.37s/it]"
     ]
    },
    {
     "name": "stdout",
     "output_type": "stream",
     "text": [
      "✅ BATCH 4 / 10 DONE for Parliamentary transcript\n"
     ]
    },
    {
     "name": "stderr",
     "output_type": "stream",
     "text": [
      "Capital of Canada is Ottawa... | Parliamentary transcript:  50%|█████     | 5/10 [02:52<03:41, 44.26s/it]"
     ]
    },
    {
     "name": "stdout",
     "output_type": "stream",
     "text": [
      "✅ BATCH 5 / 10 DONE for Parliamentary transcript\n"
     ]
    },
    {
     "name": "stderr",
     "output_type": "stream",
     "text": [
      "Capital of Canada is Ottawa... | Parliamentary transcript:  60%|██████    | 6/10 [03:14<02:27, 36.79s/it]"
     ]
    },
    {
     "name": "stdout",
     "output_type": "stream",
     "text": [
      "✅ BATCH 6 / 10 DONE for Parliamentary transcript\n"
     ]
    },
    {
     "name": "stderr",
     "output_type": "stream",
     "text": [
      "Capital of Canada is Ottawa... | Parliamentary transcript:  70%|███████   | 7/10 [03:52<01:50, 37.00s/it]"
     ]
    },
    {
     "name": "stdout",
     "output_type": "stream",
     "text": [
      "✅ BATCH 7 / 10 DONE for Parliamentary transcript\n"
     ]
    },
    {
     "name": "stderr",
     "output_type": "stream",
     "text": [
      "Capital of Canada is Ottawa... | Parliamentary transcript:  80%|████████  | 8/10 [04:12<01:03, 31.60s/it]"
     ]
    },
    {
     "name": "stdout",
     "output_type": "stream",
     "text": [
      "✅ BATCH 8 / 10 DONE for Parliamentary transcript\n"
     ]
    },
    {
     "name": "stderr",
     "output_type": "stream",
     "text": [
      "Capital of Canada is Ottawa... | Parliamentary transcript:  90%|█████████ | 9/10 [04:30<00:27, 27.42s/it]"
     ]
    },
    {
     "name": "stdout",
     "output_type": "stream",
     "text": [
      "✅ BATCH 9 / 10 DONE for Parliamentary transcript\n"
     ]
    },
    {
     "name": "stderr",
     "output_type": "stream",
     "text": [
      "Capital of Canada is Ottawa... | Parliamentary transcript: 100%|██████████| 10/10 [04:52<00:00, 29.23s/it]\n"
     ]
    },
    {
     "name": "stdout",
     "output_type": "stream",
     "text": [
      "✅ BATCH 10 / 10 DONE for Parliamentary transcript\n"
     ]
    },
    {
     "name": "stderr",
     "output_type": "stream",
     "text": [
      "Capital of Canada is Ottawa... | Public signage:  10%|█         | 1/10 [00:23<03:28, 23.11s/it]"
     ]
    },
    {
     "name": "stdout",
     "output_type": "stream",
     "text": [
      "✅ BATCH 1 / 10 DONE for Public signage\n"
     ]
    },
    {
     "name": "stderr",
     "output_type": "stream",
     "text": [
      "Capital of Canada is Ottawa... | Public signage:  20%|██        | 2/10 [00:51<03:27, 25.94s/it]"
     ]
    },
    {
     "name": "stdout",
     "output_type": "stream",
     "text": [
      "✅ BATCH 2 / 10 DONE for Public signage\n"
     ]
    },
    {
     "name": "stderr",
     "output_type": "stream",
     "text": [
      "Capital of Canada is Ottawa... | Public signage:  30%|███       | 3/10 [01:23<03:22, 28.86s/it]"
     ]
    },
    {
     "name": "stdout",
     "output_type": "stream",
     "text": [
      "✅ BATCH 3 / 10 DONE for Public signage\n"
     ]
    },
    {
     "name": "stderr",
     "output_type": "stream",
     "text": [
      "Capital of Canada is Ottawa... | Public signage:  40%|████      | 4/10 [01:52<02:54, 29.00s/it]"
     ]
    },
    {
     "name": "stdout",
     "output_type": "stream",
     "text": [
      "✅ BATCH 4 / 10 DONE for Public signage\n"
     ]
    },
    {
     "name": "stderr",
     "output_type": "stream",
     "text": [
      "Capital of Canada is Ottawa... | Public signage:  50%|█████     | 5/10 [02:17<02:16, 27.39s/it]"
     ]
    },
    {
     "name": "stdout",
     "output_type": "stream",
     "text": [
      "✅ BATCH 5 / 10 DONE for Public signage\n"
     ]
    },
    {
     "name": "stderr",
     "output_type": "stream",
     "text": [
      "Capital of Canada is Ottawa... | Public signage:  60%|██████    | 6/10 [02:42<01:46, 26.65s/it]"
     ]
    },
    {
     "name": "stdout",
     "output_type": "stream",
     "text": [
      "✅ BATCH 6 / 10 DONE for Public signage\n"
     ]
    },
    {
     "name": "stderr",
     "output_type": "stream",
     "text": [
      "Capital of Canada is Ottawa... | Public signage:  70%|███████   | 7/10 [03:13<01:24, 28.09s/it]"
     ]
    },
    {
     "name": "stdout",
     "output_type": "stream",
     "text": [
      "✅ BATCH 7 / 10 DONE for Public signage\n"
     ]
    },
    {
     "name": "stderr",
     "output_type": "stream",
     "text": [
      "Capital of Canada is Ottawa... | Public signage:  80%|████████  | 8/10 [03:46<00:59, 29.57s/it]"
     ]
    },
    {
     "name": "stdout",
     "output_type": "stream",
     "text": [
      "✅ BATCH 8 / 10 DONE for Public signage\n"
     ]
    },
    {
     "name": "stderr",
     "output_type": "stream",
     "text": [
      "Capital of Canada is Ottawa... | Public signage:  90%|█████████ | 9/10 [04:16<00:29, 29.71s/it]"
     ]
    },
    {
     "name": "stdout",
     "output_type": "stream",
     "text": [
      "✅ BATCH 9 / 10 DONE for Public signage\n"
     ]
    },
    {
     "name": "stderr",
     "output_type": "stream",
     "text": [
      "Capital of Canada is Ottawa... | Public signage: 100%|██████████| 10/10 [04:45<00:00, 28.54s/it]\n"
     ]
    },
    {
     "name": "stdout",
     "output_type": "stream",
     "text": [
      "✅ BATCH 10 / 10 DONE for Public signage\n"
     ]
    },
    {
     "name": "stderr",
     "output_type": "stream",
     "text": [
      "Capital of Canada is Ottawa... | Map legend:  10%|█         | 1/10 [00:29<04:28, 29.88s/it]"
     ]
    },
    {
     "name": "stdout",
     "output_type": "stream",
     "text": [
      "✅ BATCH 1 / 10 DONE for Map legend\n"
     ]
    },
    {
     "name": "stderr",
     "output_type": "stream",
     "text": [
      "Capital of Canada is Ottawa... | Map legend:  20%|██        | 2/10 [01:04<04:23, 32.92s/it]"
     ]
    },
    {
     "name": "stdout",
     "output_type": "stream",
     "text": [
      "✅ BATCH 2 / 10 DONE for Map legend\n"
     ]
    },
    {
     "name": "stderr",
     "output_type": "stream",
     "text": [
      "Capital of Canada is Ottawa... | Map legend:  30%|███       | 3/10 [01:43<04:07, 35.38s/it]"
     ]
    },
    {
     "name": "stdout",
     "output_type": "stream",
     "text": [
      "✅ BATCH 3 / 10 DONE for Map legend\n"
     ]
    },
    {
     "name": "stderr",
     "output_type": "stream",
     "text": [
      "Capital of Canada is Ottawa... | Map legend:  40%|████      | 4/10 [02:13<03:20, 33.40s/it]"
     ]
    },
    {
     "name": "stdout",
     "output_type": "stream",
     "text": [
      "✅ BATCH 4 / 10 DONE for Map legend\n"
     ]
    },
    {
     "name": "stderr",
     "output_type": "stream",
     "text": [
      "Capital of Canada is Ottawa... | Map legend:  50%|█████     | 5/10 [02:36<02:28, 29.64s/it]"
     ]
    },
    {
     "name": "stdout",
     "output_type": "stream",
     "text": [
      "✅ BATCH 5 / 10 DONE for Map legend\n"
     ]
    },
    {
     "name": "stderr",
     "output_type": "stream",
     "text": [
      "Capital of Canada is Ottawa... | Map legend:  60%|██████    | 6/10 [03:00<01:50, 27.66s/it]"
     ]
    },
    {
     "name": "stdout",
     "output_type": "stream",
     "text": [
      "✅ BATCH 6 / 10 DONE for Map legend\n"
     ]
    },
    {
     "name": "stderr",
     "output_type": "stream",
     "text": [
      "Capital of Canada is Ottawa... | Map legend:  70%|███████   | 7/10 [03:24<01:19, 26.36s/it]"
     ]
    },
    {
     "name": "stdout",
     "output_type": "stream",
     "text": [
      "✅ BATCH 7 / 10 DONE for Map legend\n"
     ]
    },
    {
     "name": "stderr",
     "output_type": "stream",
     "text": [
      "Capital of Canada is Ottawa... | Map legend:  80%|████████  | 8/10 [03:48<00:51, 25.84s/it]"
     ]
    },
    {
     "name": "stdout",
     "output_type": "stream",
     "text": [
      "✅ BATCH 8 / 10 DONE for Map legend\n"
     ]
    },
    {
     "name": "stderr",
     "output_type": "stream",
     "text": [
      "Capital of Canada is Ottawa... | Map legend:  90%|█████████ | 9/10 [04:17<00:26, 26.74s/it]"
     ]
    },
    {
     "name": "stdout",
     "output_type": "stream",
     "text": [
      "✅ BATCH 9 / 10 DONE for Map legend\n"
     ]
    },
    {
     "name": "stderr",
     "output_type": "stream",
     "text": [
      "Capital of Canada is Ottawa... | Map legend: 100%|██████████| 10/10 [04:41<00:00, 28.17s/it]\n"
     ]
    },
    {
     "name": "stdout",
     "output_type": "stream",
     "text": [
      "✅ BATCH 10 / 10 DONE for Map legend\n"
     ]
    },
    {
     "name": "stderr",
     "output_type": "stream",
     "text": [
      "Capital of Canada is Ottawa... | Government website:  10%|█         | 1/10 [00:44<06:38, 44.26s/it]"
     ]
    },
    {
     "name": "stdout",
     "output_type": "stream",
     "text": [
      "✅ BATCH 1 / 10 DONE for Government website\n"
     ]
    },
    {
     "name": "stderr",
     "output_type": "stream",
     "text": [
      "Capital of Canada is Ottawa... | Government website:  20%|██        | 2/10 [01:22<05:25, 40.66s/it]"
     ]
    },
    {
     "name": "stdout",
     "output_type": "stream",
     "text": [
      "✅ BATCH 2 / 10 DONE for Government website\n"
     ]
    },
    {
     "name": "stderr",
     "output_type": "stream",
     "text": [
      "Capital of Canada is Ottawa... | Government website:  30%|███       | 3/10 [02:04<04:47, 41.10s/it]"
     ]
    },
    {
     "name": "stdout",
     "output_type": "stream",
     "text": [
      "✅ BATCH 3 / 10 DONE for Government website\n"
     ]
    },
    {
     "name": "stderr",
     "output_type": "stream",
     "text": [
      "Capital of Canada is Ottawa... | Government website:  40%|████      | 4/10 [02:36<03:46, 37.78s/it]"
     ]
    },
    {
     "name": "stdout",
     "output_type": "stream",
     "text": [
      "✅ BATCH 4 / 10 DONE for Government website\n"
     ]
    },
    {
     "name": "stderr",
     "output_type": "stream",
     "text": [
      "Capital of Canada is Ottawa... | Government website:  50%|█████     | 5/10 [03:01<02:45, 33.18s/it]"
     ]
    },
    {
     "name": "stdout",
     "output_type": "stream",
     "text": [
      "✅ BATCH 5 / 10 DONE for Government website\n"
     ]
    },
    {
     "name": "stderr",
     "output_type": "stream",
     "text": [
      "Capital of Canada is Ottawa... | Government website:  60%|██████    | 6/10 [03:19<01:51, 27.93s/it]"
     ]
    },
    {
     "name": "stdout",
     "output_type": "stream",
     "text": [
      "✅ BATCH 6 / 10 DONE for Government website\n"
     ]
    },
    {
     "name": "stderr",
     "output_type": "stream",
     "text": [
      "Capital of Canada is Ottawa... | Government website:  70%|███████   | 7/10 [03:53<01:29, 29.79s/it]"
     ]
    },
    {
     "name": "stdout",
     "output_type": "stream",
     "text": [
      "✅ BATCH 7 / 10 DONE for Government website\n"
     ]
    },
    {
     "name": "stderr",
     "output_type": "stream",
     "text": [
      "Capital of Canada is Ottawa... | Government website:  80%|████████  | 8/10 [04:24<01:00, 30.37s/it]"
     ]
    },
    {
     "name": "stdout",
     "output_type": "stream",
     "text": [
      "✅ BATCH 8 / 10 DONE for Government website\n"
     ]
    },
    {
     "name": "stderr",
     "output_type": "stream",
     "text": [
      "Capital of Canada is Ottawa... | Government website:  90%|█████████ | 9/10 [04:53<00:30, 30.02s/it]"
     ]
    },
    {
     "name": "stdout",
     "output_type": "stream",
     "text": [
      "✅ BATCH 9 / 10 DONE for Government website\n"
     ]
    },
    {
     "name": "stderr",
     "output_type": "stream",
     "text": [
      "Capital of Canada is Ottawa... | Government website: 100%|██████████| 10/10 [05:24<00:00, 32.47s/it]\n"
     ]
    },
    {
     "name": "stdout",
     "output_type": "stream",
     "text": [
      "✅ BATCH 10 / 10 DONE for Government website\n"
     ]
    },
    {
     "name": "stderr",
     "output_type": "stream",
     "text": [
      "Capital of Canada is Ottawa... | Press briefing transcript:  10%|█         | 1/10 [00:17<02:41, 17.99s/it]"
     ]
    },
    {
     "name": "stdout",
     "output_type": "stream",
     "text": [
      "✅ BATCH 1 / 10 DONE for Press briefing transcript\n"
     ]
    },
    {
     "name": "stderr",
     "output_type": "stream",
     "text": [
      "Capital of Canada is Ottawa... | Press briefing transcript:  20%|██        | 2/10 [00:40<02:45, 20.72s/it]"
     ]
    },
    {
     "name": "stdout",
     "output_type": "stream",
     "text": [
      "✅ BATCH 2 / 10 DONE for Press briefing transcript\n"
     ]
    },
    {
     "name": "stderr",
     "output_type": "stream",
     "text": [
      "Capital of Canada is Ottawa... | Press briefing transcript:  30%|███       | 3/10 [01:02<02:28, 21.26s/it]"
     ]
    },
    {
     "name": "stdout",
     "output_type": "stream",
     "text": [
      "✅ BATCH 3 / 10 DONE for Press briefing transcript\n"
     ]
    },
    {
     "name": "stderr",
     "output_type": "stream",
     "text": [
      "Capital of Canada is Ottawa... | Press briefing transcript:  40%|████      | 4/10 [01:25<02:12, 22.07s/it]"
     ]
    },
    {
     "name": "stdout",
     "output_type": "stream",
     "text": [
      "✅ BATCH 4 / 10 DONE for Press briefing transcript\n"
     ]
    },
    {
     "name": "stderr",
     "output_type": "stream",
     "text": [
      "Capital of Canada is Ottawa... | Press briefing transcript:  50%|█████     | 5/10 [01:45<01:45, 21.04s/it]"
     ]
    },
    {
     "name": "stdout",
     "output_type": "stream",
     "text": [
      "✅ BATCH 5 / 10 DONE for Press briefing transcript\n"
     ]
    },
    {
     "name": "stderr",
     "output_type": "stream",
     "text": [
      "Capital of Canada is Ottawa... | Press briefing transcript:  60%|██████    | 6/10 [02:06<01:24, 21.19s/it]"
     ]
    },
    {
     "name": "stdout",
     "output_type": "stream",
     "text": [
      "✅ BATCH 6 / 10 DONE for Press briefing transcript\n"
     ]
    },
    {
     "name": "stderr",
     "output_type": "stream",
     "text": [
      "Capital of Canada is Ottawa... | Press briefing transcript:  70%|███████   | 7/10 [02:29<01:05, 21.92s/it]"
     ]
    },
    {
     "name": "stdout",
     "output_type": "stream",
     "text": [
      "✅ BATCH 7 / 10 DONE for Press briefing transcript\n"
     ]
    },
    {
     "name": "stderr",
     "output_type": "stream",
     "text": [
      "Capital of Canada is Ottawa... | Press briefing transcript:  80%|████████  | 8/10 [02:52<00:44, 22.20s/it]"
     ]
    },
    {
     "name": "stdout",
     "output_type": "stream",
     "text": [
      "✅ BATCH 8 / 10 DONE for Press briefing transcript\n"
     ]
    },
    {
     "name": "stderr",
     "output_type": "stream",
     "text": [
      "Capital of Canada is Ottawa... | Press briefing transcript:  90%|█████████ | 9/10 [03:17<00:22, 22.94s/it]"
     ]
    },
    {
     "name": "stdout",
     "output_type": "stream",
     "text": [
      "✅ BATCH 9 / 10 DONE for Press briefing transcript\n"
     ]
    },
    {
     "name": "stderr",
     "output_type": "stream",
     "text": [
      "Capital of Canada is Ottawa... | Press briefing transcript: 100%|██████████| 10/10 [03:39<00:00, 21.92s/it]\n"
     ]
    },
    {
     "name": "stdout",
     "output_type": "stream",
     "text": [
      "✅ BATCH 10 / 10 DONE for Press briefing transcript\n"
     ]
    },
    {
     "name": "stderr",
     "output_type": "stream",
     "text": [
      "Capital of Canada is Ottawa... | Student essay:  10%|█         | 1/10 [00:40<06:02, 40.28s/it]"
     ]
    },
    {
     "name": "stdout",
     "output_type": "stream",
     "text": [
      "✅ BATCH 1 / 10 DONE for Student essay\n"
     ]
    },
    {
     "name": "stderr",
     "output_type": "stream",
     "text": [
      "Capital of Canada is Ottawa... | Student essay:  20%|██        | 2/10 [01:06<04:16, 32.02s/it]"
     ]
    },
    {
     "name": "stdout",
     "output_type": "stream",
     "text": [
      "✅ BATCH 2 / 10 DONE for Student essay\n"
     ]
    },
    {
     "name": "stderr",
     "output_type": "stream",
     "text": [
      "Capital of Canada is Ottawa... | Student essay:  30%|███       | 3/10 [01:41<03:52, 33.16s/it]"
     ]
    },
    {
     "name": "stdout",
     "output_type": "stream",
     "text": [
      "✅ BATCH 3 / 10 DONE for Student essay\n"
     ]
    },
    {
     "name": "stderr",
     "output_type": "stream",
     "text": [
      "Capital of Canada is Ottawa... | Student essay:  40%|████      | 4/10 [02:06<03:01, 30.23s/it]"
     ]
    },
    {
     "name": "stdout",
     "output_type": "stream",
     "text": [
      "✅ BATCH 4 / 10 DONE for Student essay\n"
     ]
    },
    {
     "name": "stderr",
     "output_type": "stream",
     "text": [
      "Capital of Canada is Ottawa... | Student essay:  50%|█████     | 5/10 [02:37<02:31, 30.40s/it]"
     ]
    },
    {
     "name": "stdout",
     "output_type": "stream",
     "text": [
      "✅ BATCH 5 / 10 DONE for Student essay\n"
     ]
    },
    {
     "name": "stderr",
     "output_type": "stream",
     "text": [
      "Capital of Canada is Ottawa... | Student essay:  60%|██████    | 6/10 [03:02<01:54, 28.55s/it]"
     ]
    },
    {
     "name": "stdout",
     "output_type": "stream",
     "text": [
      "✅ BATCH 6 / 10 DONE for Student essay\n"
     ]
    },
    {
     "name": "stderr",
     "output_type": "stream",
     "text": [
      "Capital of Canada is Ottawa... | Student essay:  70%|███████   | 7/10 [03:34<01:29, 29.70s/it]"
     ]
    },
    {
     "name": "stdout",
     "output_type": "stream",
     "text": [
      "✅ BATCH 7 / 10 DONE for Student essay\n"
     ]
    },
    {
     "name": "stderr",
     "output_type": "stream",
     "text": [
      "Capital of Canada is Ottawa... | Student essay:  80%|████████  | 8/10 [03:56<00:54, 27.20s/it]"
     ]
    },
    {
     "name": "stdout",
     "output_type": "stream",
     "text": [
      "✅ BATCH 8 / 10 DONE for Student essay\n"
     ]
    },
    {
     "name": "stderr",
     "output_type": "stream",
     "text": [
      "Capital of Canada is Ottawa... | Student essay:  90%|█████████ | 9/10 [04:29<00:28, 28.97s/it]"
     ]
    },
    {
     "name": "stdout",
     "output_type": "stream",
     "text": [
      "✅ BATCH 9 / 10 DONE for Student essay\n"
     ]
    },
    {
     "name": "stderr",
     "output_type": "stream",
     "text": [
      "Capital of Canada is Ottawa... | Student essay: 100%|██████████| 10/10 [05:00<00:00, 30.08s/it]\n"
     ]
    },
    {
     "name": "stdout",
     "output_type": "stream",
     "text": [
      "✅ BATCH 10 / 10 DONE for Student essay\n"
     ]
    },
    {
     "name": "stderr",
     "output_type": "stream",
     "text": [
      "Capital of Canada is Ottawa... | Public radio segment:  10%|█         | 1/10 [00:32<04:48, 32.01s/it]"
     ]
    },
    {
     "name": "stdout",
     "output_type": "stream",
     "text": [
      "✅ BATCH 1 / 10 DONE for Public radio segment\n"
     ]
    },
    {
     "name": "stderr",
     "output_type": "stream",
     "text": [
      "Capital of Canada is Ottawa... | Public radio segment:  20%|██        | 2/10 [01:02<04:09, 31.24s/it]"
     ]
    },
    {
     "name": "stdout",
     "output_type": "stream",
     "text": [
      "✅ BATCH 2 / 10 DONE for Public radio segment\n"
     ]
    },
    {
     "name": "stderr",
     "output_type": "stream",
     "text": [
      "Capital of Canada is Ottawa... | Public radio segment:  30%|███       | 3/10 [01:46<04:18, 36.98s/it]"
     ]
    },
    {
     "name": "stdout",
     "output_type": "stream",
     "text": [
      "✅ BATCH 3 / 10 DONE for Public radio segment\n"
     ]
    },
    {
     "name": "stderr",
     "output_type": "stream",
     "text": [
      "Capital of Canada is Ottawa... | Public radio segment:  40%|████      | 4/10 [02:11<03:12, 32.05s/it]"
     ]
    },
    {
     "name": "stdout",
     "output_type": "stream",
     "text": [
      "✅ BATCH 4 / 10 DONE for Public radio segment\n"
     ]
    },
    {
     "name": "stderr",
     "output_type": "stream",
     "text": [
      "Capital of Canada is Ottawa... | Public radio segment:  50%|█████     | 5/10 [02:32<02:21, 28.36s/it]"
     ]
    },
    {
     "name": "stdout",
     "output_type": "stream",
     "text": [
      "✅ BATCH 5 / 10 DONE for Public radio segment\n"
     ]
    },
    {
     "name": "stderr",
     "output_type": "stream",
     "text": [
      "Capital of Canada is Ottawa... | Public radio segment:  60%|██████    | 6/10 [03:21<02:20, 35.11s/it]"
     ]
    },
    {
     "name": "stdout",
     "output_type": "stream",
     "text": [
      "✅ BATCH 6 / 10 DONE for Public radio segment\n"
     ]
    },
    {
     "name": "stderr",
     "output_type": "stream",
     "text": [
      "Capital of Canada is Ottawa... | Public radio segment:  70%|███████   | 7/10 [03:46<01:35, 31.88s/it]"
     ]
    },
    {
     "name": "stdout",
     "output_type": "stream",
     "text": [
      "✅ BATCH 7 / 10 DONE for Public radio segment\n"
     ]
    },
    {
     "name": "stderr",
     "output_type": "stream",
     "text": [
      "Capital of Canada is Ottawa... | Public radio segment:  80%|████████  | 8/10 [04:16<01:02, 31.47s/it]"
     ]
    },
    {
     "name": "stdout",
     "output_type": "stream",
     "text": [
      "✅ BATCH 8 / 10 DONE for Public radio segment\n"
     ]
    },
    {
     "name": "stderr",
     "output_type": "stream",
     "text": [
      "Capital of Canada is Ottawa... | Public radio segment:  90%|█████████ | 9/10 [05:22<00:42, 42.30s/it]"
     ]
    },
    {
     "name": "stdout",
     "output_type": "stream",
     "text": [
      "✅ BATCH 9 / 10 DONE for Public radio segment\n"
     ]
    },
    {
     "name": "stderr",
     "output_type": "stream",
     "text": [
      "Capital of Canada is Ottawa... | Public radio segment: 100%|██████████| 10/10 [05:50<00:00, 35.05s/it]\n"
     ]
    },
    {
     "name": "stdout",
     "output_type": "stream",
     "text": [
      "✅ BATCH 10 / 10 DONE for Public radio segment\n"
     ]
    },
    {
     "name": "stderr",
     "output_type": "stream",
     "text": [
      "Capital of Canada is Ottawa... | Documentary narration:  10%|█         | 1/10 [00:30<04:36, 30.70s/it]"
     ]
    },
    {
     "name": "stdout",
     "output_type": "stream",
     "text": [
      "✅ BATCH 1 / 10 DONE for Documentary narration\n"
     ]
    },
    {
     "name": "stderr",
     "output_type": "stream",
     "text": [
      "Capital of Canada is Ottawa... | Documentary narration:  20%|██        | 2/10 [00:56<03:41, 27.75s/it]"
     ]
    },
    {
     "name": "stdout",
     "output_type": "stream",
     "text": [
      "✅ BATCH 2 / 10 DONE for Documentary narration\n"
     ]
    },
    {
     "name": "stderr",
     "output_type": "stream",
     "text": [
      "Capital of Canada is Ottawa... | Documentary narration:  30%|███       | 3/10 [01:20<03:02, 26.01s/it]"
     ]
    },
    {
     "name": "stdout",
     "output_type": "stream",
     "text": [
      "✅ BATCH 3 / 10 DONE for Documentary narration\n"
     ]
    },
    {
     "name": "stderr",
     "output_type": "stream",
     "text": [
      "Capital of Canada is Ottawa... | Documentary narration:  40%|████      | 4/10 [01:45<02:34, 25.82s/it]"
     ]
    },
    {
     "name": "stdout",
     "output_type": "stream",
     "text": [
      "✅ BATCH 4 / 10 DONE for Documentary narration\n"
     ]
    },
    {
     "name": "stderr",
     "output_type": "stream",
     "text": [
      "Capital of Canada is Ottawa... | Documentary narration:  50%|█████     | 5/10 [02:14<02:15, 27.02s/it]"
     ]
    },
    {
     "name": "stdout",
     "output_type": "stream",
     "text": [
      "✅ BATCH 5 / 10 DONE for Documentary narration\n"
     ]
    },
    {
     "name": "stderr",
     "output_type": "stream",
     "text": [
      "Capital of Canada is Ottawa... | Documentary narration:  60%|██████    | 6/10 [02:39<01:45, 26.26s/it]"
     ]
    },
    {
     "name": "stdout",
     "output_type": "stream",
     "text": [
      "✅ BATCH 6 / 10 DONE for Documentary narration\n"
     ]
    },
    {
     "name": "stderr",
     "output_type": "stream",
     "text": [
      "Capital of Canada is Ottawa... | Documentary narration:  70%|███████   | 7/10 [03:07<01:20, 26.75s/it]"
     ]
    },
    {
     "name": "stdout",
     "output_type": "stream",
     "text": [
      "✅ BATCH 7 / 10 DONE for Documentary narration\n"
     ]
    },
    {
     "name": "stderr",
     "output_type": "stream",
     "text": [
      "Capital of Canada is Ottawa... | Documentary narration:  80%|████████  | 8/10 [03:31<00:51, 25.93s/it]"
     ]
    },
    {
     "name": "stdout",
     "output_type": "stream",
     "text": [
      "✅ BATCH 8 / 10 DONE for Documentary narration\n"
     ]
    },
    {
     "name": "stderr",
     "output_type": "stream",
     "text": [
      "Capital of Canada is Ottawa... | Documentary narration:  90%|█████████ | 9/10 [03:54<00:24, 24.80s/it]"
     ]
    },
    {
     "name": "stdout",
     "output_type": "stream",
     "text": [
      "✅ BATCH 9 / 10 DONE for Documentary narration\n"
     ]
    },
    {
     "name": "stderr",
     "output_type": "stream",
     "text": [
      "Capital of Canada is Ottawa... | Documentary narration: 100%|██████████| 10/10 [04:18<00:00, 25.84s/it]\n"
     ]
    },
    {
     "name": "stdout",
     "output_type": "stream",
     "text": [
      "✅ BATCH 10 / 10 DONE for Documentary narration\n"
     ]
    },
    {
     "name": "stderr",
     "output_type": "stream",
     "text": [
      "Capital of Canada is Ottawa... | Blog post:  10%|█         | 1/10 [00:38<05:50, 38.97s/it]"
     ]
    },
    {
     "name": "stdout",
     "output_type": "stream",
     "text": [
      "✅ BATCH 1 / 10 DONE for Blog post\n"
     ]
    },
    {
     "name": "stderr",
     "output_type": "stream",
     "text": [
      "Capital of Canada is Ottawa... | Blog post:  20%|██        | 2/10 [01:21<05:29, 41.18s/it]"
     ]
    },
    {
     "name": "stdout",
     "output_type": "stream",
     "text": [
      "✅ BATCH 2 / 10 DONE for Blog post\n"
     ]
    },
    {
     "name": "stderr",
     "output_type": "stream",
     "text": [
      "Capital of Canada is Ottawa... | Blog post:  30%|███       | 3/10 [02:02<04:45, 40.84s/it]"
     ]
    },
    {
     "name": "stdout",
     "output_type": "stream",
     "text": [
      "✅ BATCH 3 / 10 DONE for Blog post\n"
     ]
    },
    {
     "name": "stderr",
     "output_type": "stream",
     "text": [
      "Capital of Canada is Ottawa... | Blog post:  40%|████      | 4/10 [02:23<03:19, 33.20s/it]"
     ]
    },
    {
     "name": "stdout",
     "output_type": "stream",
     "text": [
      "✅ BATCH 4 / 10 DONE for Blog post\n"
     ]
    },
    {
     "name": "stderr",
     "output_type": "stream",
     "text": [
      "Capital of Canada is Ottawa... | Blog post:  50%|█████     | 5/10 [02:52<02:38, 31.71s/it]"
     ]
    },
    {
     "name": "stdout",
     "output_type": "stream",
     "text": [
      "✅ BATCH 5 / 10 DONE for Blog post\n"
     ]
    },
    {
     "name": "stderr",
     "output_type": "stream",
     "text": [
      "Capital of Canada is Ottawa... | Blog post:  60%|██████    | 6/10 [03:14<01:53, 28.44s/it]"
     ]
    },
    {
     "name": "stdout",
     "output_type": "stream",
     "text": [
      "✅ BATCH 6 / 10 DONE for Blog post\n"
     ]
    },
    {
     "name": "stderr",
     "output_type": "stream",
     "text": [
      "Capital of Canada is Ottawa... | Blog post:  70%|███████   | 7/10 [03:44<01:26, 28.99s/it]"
     ]
    },
    {
     "name": "stdout",
     "output_type": "stream",
     "text": [
      "✅ BATCH 7 / 10 DONE for Blog post\n"
     ]
    },
    {
     "name": "stderr",
     "output_type": "stream",
     "text": [
      "Capital of Canada is Ottawa... | Blog post:  80%|████████  | 8/10 [04:12<00:57, 28.53s/it]"
     ]
    },
    {
     "name": "stdout",
     "output_type": "stream",
     "text": [
      "✅ BATCH 8 / 10 DONE for Blog post\n"
     ]
    },
    {
     "name": "stderr",
     "output_type": "stream",
     "text": [
      "Capital of Canada is Ottawa... | Blog post:  90%|█████████ | 9/10 [04:36<00:27, 27.13s/it]"
     ]
    },
    {
     "name": "stdout",
     "output_type": "stream",
     "text": [
      "✅ BATCH 9 / 10 DONE for Blog post\n"
     ]
    },
    {
     "name": "stderr",
     "output_type": "stream",
     "text": [
      "Capital of Canada is Ottawa... | Blog post: 100%|██████████| 10/10 [05:37<00:00, 33.72s/it]\n"
     ]
    },
    {
     "name": "stdout",
     "output_type": "stream",
     "text": [
      "✅ BATCH 10 / 10 DONE for Blog post\n"
     ]
    },
    {
     "name": "stderr",
     "output_type": "stream",
     "text": [
      "Capital of Canada is Ottawa... | Podcast transcript:  10%|█         | 1/10 [00:22<03:21, 22.34s/it]"
     ]
    },
    {
     "name": "stdout",
     "output_type": "stream",
     "text": [
      "✅ BATCH 1 / 10 DONE for Podcast transcript\n"
     ]
    },
    {
     "name": "stderr",
     "output_type": "stream",
     "text": [
      "Capital of Canada is Ottawa... | Podcast transcript:  20%|██        | 2/10 [00:47<03:14, 24.28s/it]"
     ]
    },
    {
     "name": "stdout",
     "output_type": "stream",
     "text": [
      "✅ BATCH 2 / 10 DONE for Podcast transcript\n"
     ]
    },
    {
     "name": "stderr",
     "output_type": "stream",
     "text": [
      "Capital of Canada is Ottawa... | Podcast transcript:  30%|███       | 3/10 [01:14<02:57, 25.32s/it]"
     ]
    },
    {
     "name": "stdout",
     "output_type": "stream",
     "text": [
      "✅ BATCH 3 / 10 DONE for Podcast transcript\n"
     ]
    },
    {
     "name": "stderr",
     "output_type": "stream",
     "text": [
      "Capital of Canada is Ottawa... | Podcast transcript:  40%|████      | 4/10 [02:03<03:27, 34.59s/it]"
     ]
    },
    {
     "name": "stdout",
     "output_type": "stream",
     "text": [
      "✅ BATCH 4 / 10 DONE for Podcast transcript\n"
     ]
    },
    {
     "name": "stderr",
     "output_type": "stream",
     "text": [
      "Capital of Canada is Ottawa... | Podcast transcript:  50%|█████     | 5/10 [02:32<02:43, 32.72s/it]"
     ]
    },
    {
     "name": "stdout",
     "output_type": "stream",
     "text": [
      "✅ BATCH 5 / 10 DONE for Podcast transcript\n"
     ]
    },
    {
     "name": "stderr",
     "output_type": "stream",
     "text": [
      "Capital of Canada is Ottawa... | Podcast transcript:  60%|██████    | 6/10 [03:04<02:09, 32.46s/it]"
     ]
    },
    {
     "name": "stdout",
     "output_type": "stream",
     "text": [
      "✅ BATCH 6 / 10 DONE for Podcast transcript\n"
     ]
    },
    {
     "name": "stderr",
     "output_type": "stream",
     "text": [
      "Capital of Canada is Ottawa... | Podcast transcript:  70%|███████   | 7/10 [03:32<01:32, 30.83s/it]"
     ]
    },
    {
     "name": "stdout",
     "output_type": "stream",
     "text": [
      "✅ BATCH 7 / 10 DONE for Podcast transcript\n"
     ]
    },
    {
     "name": "stderr",
     "output_type": "stream",
     "text": [
      "Capital of Canada is Ottawa... | Podcast transcript:  80%|████████  | 8/10 [03:59<00:59, 29.81s/it]"
     ]
    },
    {
     "name": "stdout",
     "output_type": "stream",
     "text": [
      "✅ BATCH 8 / 10 DONE for Podcast transcript\n"
     ]
    },
    {
     "name": "stderr",
     "output_type": "stream",
     "text": [
      "Capital of Canada is Ottawa... | Podcast transcript:  90%|█████████ | 9/10 [04:32<00:30, 30.66s/it]"
     ]
    },
    {
     "name": "stdout",
     "output_type": "stream",
     "text": [
      "✅ BATCH 9 / 10 DONE for Podcast transcript\n"
     ]
    },
    {
     "name": "stderr",
     "output_type": "stream",
     "text": [
      "Capital of Canada is Ottawa... | Podcast transcript: 100%|██████████| 10/10 [05:04<00:00, 30.50s/it]\n"
     ]
    },
    {
     "name": "stdout",
     "output_type": "stream",
     "text": [
      "✅ BATCH 10 / 10 DONE for Podcast transcript\n"
     ]
    },
    {
     "name": "stderr",
     "output_type": "stream",
     "text": [
      "Vikings did not wear horned he... | Academic journal article:  10%|█         | 1/10 [00:39<05:58, 39.82s/it]"
     ]
    },
    {
     "name": "stdout",
     "output_type": "stream",
     "text": [
      "✅ BATCH 1 / 10 DONE for Academic journal article\n"
     ]
    },
    {
     "name": "stderr",
     "output_type": "stream",
     "text": [
      "Vikings did not wear horned he... | Academic journal article:  20%|██        | 2/10 [01:08<04:24, 33.03s/it]"
     ]
    },
    {
     "name": "stdout",
     "output_type": "stream",
     "text": [
      "✅ BATCH 2 / 10 DONE for Academic journal article\n"
     ]
    },
    {
     "name": "stderr",
     "output_type": "stream",
     "text": [
      "Vikings did not wear horned he... | Academic journal article:  30%|███       | 3/10 [01:44<04:01, 34.56s/it]"
     ]
    },
    {
     "name": "stdout",
     "output_type": "stream",
     "text": [
      "✅ BATCH 3 / 10 DONE for Academic journal article\n"
     ]
    },
    {
     "name": "stderr",
     "output_type": "stream",
     "text": [
      "Vikings did not wear horned he... | Academic journal article:  40%|████      | 4/10 [02:14<03:17, 32.93s/it]"
     ]
    },
    {
     "name": "stdout",
     "output_type": "stream",
     "text": [
      "✅ BATCH 4 / 10 DONE for Academic journal article\n"
     ]
    },
    {
     "name": "stderr",
     "output_type": "stream",
     "text": [
      "Vikings did not wear horned he... | Academic journal article:  50%|█████     | 5/10 [02:52<02:52, 34.57s/it]"
     ]
    },
    {
     "name": "stdout",
     "output_type": "stream",
     "text": [
      "✅ BATCH 5 / 10 DONE for Academic journal article\n"
     ]
    },
    {
     "name": "stderr",
     "output_type": "stream",
     "text": [
      "Vikings did not wear horned he... | Academic journal article:  60%|██████    | 6/10 [03:22<02:12, 33.21s/it]"
     ]
    },
    {
     "name": "stdout",
     "output_type": "stream",
     "text": [
      "✅ BATCH 6 / 10 DONE for Academic journal article\n"
     ]
    },
    {
     "name": "stderr",
     "output_type": "stream",
     "text": [
      "Vikings did not wear horned he... | Academic journal article:  70%|███████   | 7/10 [04:00<01:43, 34.64s/it]"
     ]
    },
    {
     "name": "stdout",
     "output_type": "stream",
     "text": [
      "✅ BATCH 7 / 10 DONE for Academic journal article\n"
     ]
    },
    {
     "name": "stderr",
     "output_type": "stream",
     "text": [
      "Vikings did not wear horned he... | Academic journal article:  80%|████████  | 8/10 [04:32<01:07, 33.79s/it]"
     ]
    },
    {
     "name": "stdout",
     "output_type": "stream",
     "text": [
      "✅ BATCH 8 / 10 DONE for Academic journal article\n"
     ]
    },
    {
     "name": "stderr",
     "output_type": "stream",
     "text": [
      "Vikings did not wear horned he... | Academic journal article:  90%|█████████ | 9/10 [04:59<00:31, 31.65s/it]"
     ]
    },
    {
     "name": "stdout",
     "output_type": "stream",
     "text": [
      "✅ BATCH 9 / 10 DONE for Academic journal article\n"
     ]
    },
    {
     "name": "stderr",
     "output_type": "stream",
     "text": [
      "Vikings did not wear horned he... | Academic journal article: 100%|██████████| 10/10 [05:41<00:00, 34.19s/it]\n"
     ]
    },
    {
     "name": "stdout",
     "output_type": "stream",
     "text": [
      "✅ BATCH 10 / 10 DONE for Academic journal article\n"
     ]
    },
    {
     "name": "stderr",
     "output_type": "stream",
     "text": [
      "Vikings did not wear horned he... | Museum exhibit label:  10%|█         | 1/10 [00:20<03:03, 20.41s/it]"
     ]
    },
    {
     "name": "stdout",
     "output_type": "stream",
     "text": [
      "✅ BATCH 1 / 10 DONE for Museum exhibit label\n"
     ]
    },
    {
     "name": "stderr",
     "output_type": "stream",
     "text": [
      "Vikings did not wear horned he... | Museum exhibit label:  20%|██        | 2/10 [00:38<02:33, 19.22s/it]"
     ]
    },
    {
     "name": "stdout",
     "output_type": "stream",
     "text": [
      "✅ BATCH 2 / 10 DONE for Museum exhibit label\n"
     ]
    },
    {
     "name": "stderr",
     "output_type": "stream",
     "text": [
      "Vikings did not wear horned he... | Museum exhibit label:  30%|███       | 3/10 [00:57<02:12, 18.98s/it]"
     ]
    },
    {
     "name": "stdout",
     "output_type": "stream",
     "text": [
      "✅ BATCH 3 / 10 DONE for Museum exhibit label\n"
     ]
    },
    {
     "name": "stderr",
     "output_type": "stream",
     "text": [
      "Vikings did not wear horned he... | Museum exhibit label:  40%|████      | 4/10 [01:20<02:03, 20.57s/it]"
     ]
    },
    {
     "name": "stdout",
     "output_type": "stream",
     "text": [
      "✅ BATCH 4 / 10 DONE for Museum exhibit label\n"
     ]
    },
    {
     "name": "stderr",
     "output_type": "stream",
     "text": [
      "Vikings did not wear horned he... | Museum exhibit label:  50%|█████     | 5/10 [01:37<01:36, 19.20s/it]"
     ]
    },
    {
     "name": "stdout",
     "output_type": "stream",
     "text": [
      "✅ BATCH 5 / 10 DONE for Museum exhibit label\n"
     ]
    },
    {
     "name": "stderr",
     "output_type": "stream",
     "text": [
      "Vikings did not wear horned he... | Museum exhibit label:  60%|██████    | 6/10 [02:02<01:24, 21.21s/it]"
     ]
    },
    {
     "name": "stdout",
     "output_type": "stream",
     "text": [
      "✅ BATCH 6 / 10 DONE for Museum exhibit label\n"
     ]
    },
    {
     "name": "stderr",
     "output_type": "stream",
     "text": [
      "Vikings did not wear horned he... | Museum exhibit label:  70%|███████   | 7/10 [02:22<01:02, 20.88s/it]"
     ]
    },
    {
     "name": "stdout",
     "output_type": "stream",
     "text": [
      "✅ BATCH 7 / 10 DONE for Museum exhibit label\n"
     ]
    },
    {
     "name": "stderr",
     "output_type": "stream",
     "text": [
      "Vikings did not wear horned he... | Museum exhibit label:  80%|████████  | 8/10 [02:40<00:40, 20.05s/it]"
     ]
    },
    {
     "name": "stdout",
     "output_type": "stream",
     "text": [
      "✅ BATCH 8 / 10 DONE for Museum exhibit label\n"
     ]
    },
    {
     "name": "stderr",
     "output_type": "stream",
     "text": [
      "Vikings did not wear horned he... | Museum exhibit label:  90%|█████████ | 9/10 [03:10<00:23, 23.19s/it]"
     ]
    },
    {
     "name": "stdout",
     "output_type": "stream",
     "text": [
      "✅ BATCH 9 / 10 DONE for Museum exhibit label\n"
     ]
    },
    {
     "name": "stderr",
     "output_type": "stream",
     "text": [
      "Vikings did not wear horned he... | Museum exhibit label: 100%|██████████| 10/10 [03:32<00:00, 21.27s/it]\n"
     ]
    },
    {
     "name": "stdout",
     "output_type": "stream",
     "text": [
      "✅ BATCH 10 / 10 DONE for Museum exhibit label\n"
     ]
    },
    {
     "name": "stderr",
     "output_type": "stream",
     "text": [
      "Vikings did not wear horned he... | History textbook:  10%|█         | 1/10 [00:33<04:58, 33.21s/it]"
     ]
    },
    {
     "name": "stdout",
     "output_type": "stream",
     "text": [
      "✅ BATCH 1 / 10 DONE for History textbook\n"
     ]
    },
    {
     "name": "stderr",
     "output_type": "stream",
     "text": [
      "Vikings did not wear horned he... | History textbook:  20%|██        | 2/10 [01:05<04:19, 32.40s/it]"
     ]
    },
    {
     "name": "stdout",
     "output_type": "stream",
     "text": [
      "✅ BATCH 2 / 10 DONE for History textbook\n"
     ]
    },
    {
     "name": "stderr",
     "output_type": "stream",
     "text": [
      "Vikings did not wear horned he... | History textbook:  30%|███       | 3/10 [01:36<03:43, 31.93s/it]"
     ]
    },
    {
     "name": "stdout",
     "output_type": "stream",
     "text": [
      "✅ BATCH 3 / 10 DONE for History textbook\n"
     ]
    },
    {
     "name": "stderr",
     "output_type": "stream",
     "text": [
      "Vikings did not wear horned he... | History textbook:  40%|████      | 4/10 [02:10<03:17, 32.88s/it]"
     ]
    },
    {
     "name": "stdout",
     "output_type": "stream",
     "text": [
      "✅ BATCH 4 / 10 DONE for History textbook\n"
     ]
    },
    {
     "name": "stderr",
     "output_type": "stream",
     "text": [
      "Vikings did not wear horned he... | History textbook:  50%|█████     | 5/10 [02:42<02:42, 32.50s/it]"
     ]
    },
    {
     "name": "stdout",
     "output_type": "stream",
     "text": [
      "✅ BATCH 5 / 10 DONE for History textbook\n"
     ]
    },
    {
     "name": "stderr",
     "output_type": "stream",
     "text": [
      "Vikings did not wear horned he... | History textbook:  60%|██████    | 6/10 [03:20<02:17, 34.34s/it]"
     ]
    },
    {
     "name": "stdout",
     "output_type": "stream",
     "text": [
      "✅ BATCH 6 / 10 DONE for History textbook\n"
     ]
    },
    {
     "name": "stderr",
     "output_type": "stream",
     "text": [
      "Vikings did not wear horned he... | History textbook:  70%|███████   | 7/10 [04:00<01:49, 36.34s/it]"
     ]
    },
    {
     "name": "stdout",
     "output_type": "stream",
     "text": [
      "✅ BATCH 7 / 10 DONE for History textbook\n"
     ]
    },
    {
     "name": "stderr",
     "output_type": "stream",
     "text": [
      "Vikings did not wear horned he... | History textbook:  80%|████████  | 8/10 [04:31<01:09, 34.53s/it]"
     ]
    },
    {
     "name": "stdout",
     "output_type": "stream",
     "text": [
      "✅ BATCH 8 / 10 DONE for History textbook\n"
     ]
    },
    {
     "name": "stderr",
     "output_type": "stream",
     "text": [
      "Vikings did not wear horned he... | History textbook:  90%|█████████ | 9/10 [04:58<00:32, 32.28s/it]"
     ]
    },
    {
     "name": "stdout",
     "output_type": "stream",
     "text": [
      "✅ BATCH 9 / 10 DONE for History textbook\n"
     ]
    },
    {
     "name": "stderr",
     "output_type": "stream",
     "text": [
      "Vikings did not wear horned he... | History textbook: 100%|██████████| 10/10 [05:29<00:00, 32.94s/it]\n"
     ]
    },
    {
     "name": "stdout",
     "output_type": "stream",
     "text": [
      "✅ BATCH 10 / 10 DONE for History textbook\n"
     ]
    },
    {
     "name": "stderr",
     "output_type": "stream",
     "text": [
      "Vikings did not wear horned he... | Pop culture documentary script:  10%|█         | 1/10 [00:38<05:44, 38.24s/it]"
     ]
    },
    {
     "name": "stdout",
     "output_type": "stream",
     "text": [
      "✅ BATCH 1 / 10 DONE for Pop culture documentary script\n"
     ]
    },
    {
     "name": "stderr",
     "output_type": "stream",
     "text": [
      "Vikings did not wear horned he... | Pop culture documentary script:  20%|██        | 2/10 [01:12<04:47, 35.92s/it]"
     ]
    },
    {
     "name": "stdout",
     "output_type": "stream",
     "text": [
      "✅ BATCH 2 / 10 DONE for Pop culture documentary script\n"
     ]
    },
    {
     "name": "stderr",
     "output_type": "stream",
     "text": [
      "Vikings did not wear horned he... | Pop culture documentary script:  30%|███       | 3/10 [01:44<03:57, 33.90s/it]"
     ]
    },
    {
     "name": "stdout",
     "output_type": "stream",
     "text": [
      "✅ BATCH 3 / 10 DONE for Pop culture documentary script\n"
     ]
    },
    {
     "name": "stderr",
     "output_type": "stream",
     "text": [
      "Vikings did not wear horned he... | Pop culture documentary script:  40%|████      | 4/10 [02:16<03:19, 33.21s/it]"
     ]
    },
    {
     "name": "stdout",
     "output_type": "stream",
     "text": [
      "✅ BATCH 4 / 10 DONE for Pop culture documentary script\n"
     ]
    },
    {
     "name": "stderr",
     "output_type": "stream",
     "text": [
      "Vikings did not wear horned he... | Pop culture documentary script:  50%|█████     | 5/10 [02:47<02:41, 32.40s/it]"
     ]
    },
    {
     "name": "stdout",
     "output_type": "stream",
     "text": [
      "✅ BATCH 5 / 10 DONE for Pop culture documentary script\n"
     ]
    },
    {
     "name": "stderr",
     "output_type": "stream",
     "text": [
      "Vikings did not wear horned he... | Pop culture documentary script:  60%|██████    | 6/10 [03:28<02:22, 35.52s/it]"
     ]
    },
    {
     "name": "stdout",
     "output_type": "stream",
     "text": [
      "✅ BATCH 6 / 10 DONE for Pop culture documentary script\n"
     ]
    },
    {
     "name": "stderr",
     "output_type": "stream",
     "text": [
      "Vikings did not wear horned he... | Pop culture documentary script:  70%|███████   | 7/10 [04:01<01:43, 34.51s/it]"
     ]
    },
    {
     "name": "stdout",
     "output_type": "stream",
     "text": [
      "✅ BATCH 7 / 10 DONE for Pop culture documentary script\n"
     ]
    },
    {
     "name": "stderr",
     "output_type": "stream",
     "text": [
      "Vikings did not wear horned he... | Pop culture documentary script:  80%|████████  | 8/10 [05:07<01:29, 44.57s/it]"
     ]
    },
    {
     "name": "stdout",
     "output_type": "stream",
     "text": [
      "✅ BATCH 8 / 10 DONE for Pop culture documentary script\n"
     ]
    },
    {
     "name": "stderr",
     "output_type": "stream",
     "text": [
      "Vikings did not wear horned he... | Pop culture documentary script:  90%|█████████ | 9/10 [05:42<00:41, 41.71s/it]"
     ]
    },
    {
     "name": "stdout",
     "output_type": "stream",
     "text": [
      "✅ BATCH 9 / 10 DONE for Pop culture documentary script\n"
     ]
    },
    {
     "name": "stderr",
     "output_type": "stream",
     "text": [
      "Vikings did not wear horned he... | Pop culture documentary script: 100%|██████████| 10/10 [06:14<00:00, 37.49s/it]\n"
     ]
    },
    {
     "name": "stdout",
     "output_type": "stream",
     "text": [
      "✅ BATCH 10 / 10 DONE for Pop culture documentary script\n"
     ]
    },
    {
     "name": "stderr",
     "output_type": "stream",
     "text": [
      "Vikings did not wear horned he... | Educational video transcript:  10%|█         | 1/10 [00:29<04:22, 29.17s/it]"
     ]
    },
    {
     "name": "stdout",
     "output_type": "stream",
     "text": [
      "✅ BATCH 1 / 10 DONE for Educational video transcript\n"
     ]
    },
    {
     "name": "stderr",
     "output_type": "stream",
     "text": [
      "Vikings did not wear horned he... | Educational video transcript:  20%|██        | 2/10 [00:57<03:50, 28.77s/it]"
     ]
    },
    {
     "name": "stdout",
     "output_type": "stream",
     "text": [
      "✅ BATCH 2 / 10 DONE for Educational video transcript\n"
     ]
    },
    {
     "name": "stderr",
     "output_type": "stream",
     "text": [
      "Vikings did not wear horned he... | Educational video transcript:  30%|███       | 3/10 [01:30<03:34, 30.65s/it]"
     ]
    },
    {
     "name": "stdout",
     "output_type": "stream",
     "text": [
      "✅ BATCH 3 / 10 DONE for Educational video transcript\n"
     ]
    },
    {
     "name": "stderr",
     "output_type": "stream",
     "text": [
      "Vikings did not wear horned he... | Educational video transcript:  40%|████      | 4/10 [01:58<02:57, 29.53s/it]"
     ]
    },
    {
     "name": "stdout",
     "output_type": "stream",
     "text": [
      "✅ BATCH 4 / 10 DONE for Educational video transcript\n"
     ]
    },
    {
     "name": "stderr",
     "output_type": "stream",
     "text": [
      "Vikings did not wear horned he... | Educational video transcript:  50%|█████     | 5/10 [02:21<02:16, 27.25s/it]"
     ]
    },
    {
     "name": "stdout",
     "output_type": "stream",
     "text": [
      "✅ BATCH 5 / 10 DONE for Educational video transcript\n"
     ]
    },
    {
     "name": "stderr",
     "output_type": "stream",
     "text": [
      "Vikings did not wear horned he... | Educational video transcript:  60%|██████    | 6/10 [02:47<01:47, 26.95s/it]"
     ]
    },
    {
     "name": "stdout",
     "output_type": "stream",
     "text": [
      "✅ BATCH 6 / 10 DONE for Educational video transcript\n"
     ]
    },
    {
     "name": "stderr",
     "output_type": "stream",
     "text": [
      "Vikings did not wear horned he... | Educational video transcript:  70%|███████   | 7/10 [03:18<01:24, 28.05s/it]"
     ]
    },
    {
     "name": "stdout",
     "output_type": "stream",
     "text": [
      "✅ BATCH 7 / 10 DONE for Educational video transcript\n"
     ]
    },
    {
     "name": "stderr",
     "output_type": "stream",
     "text": [
      "Vikings did not wear horned he... | Educational video transcript:  80%|████████  | 8/10 [03:47<00:56, 28.33s/it]"
     ]
    },
    {
     "name": "stdout",
     "output_type": "stream",
     "text": [
      "✅ BATCH 8 / 10 DONE for Educational video transcript\n"
     ]
    },
    {
     "name": "stderr",
     "output_type": "stream",
     "text": [
      "Vikings did not wear horned he... | Educational video transcript:  90%|█████████ | 9/10 [04:25<00:31, 31.34s/it]"
     ]
    },
    {
     "name": "stdout",
     "output_type": "stream",
     "text": [
      "✅ BATCH 9 / 10 DONE for Educational video transcript\n"
     ]
    },
    {
     "name": "stderr",
     "output_type": "stream",
     "text": [
      "Vikings did not wear horned he... | Educational video transcript: 100%|██████████| 10/10 [04:57<00:00, 29.78s/it]\n"
     ]
    },
    {
     "name": "stdout",
     "output_type": "stream",
     "text": [
      "✅ BATCH 10 / 10 DONE for Educational video transcript\n"
     ]
    },
    {
     "name": "stderr",
     "output_type": "stream",
     "text": [
      "Vikings did not wear horned he... | High school lesson plan:  10%|█         | 1/10 [00:36<05:28, 36.51s/it]"
     ]
    },
    {
     "name": "stdout",
     "output_type": "stream",
     "text": [
      "✅ BATCH 1 / 10 DONE for High school lesson plan\n"
     ]
    },
    {
     "name": "stderr",
     "output_type": "stream",
     "text": [
      "Vikings did not wear horned he... | High school lesson plan:  20%|██        | 2/10 [01:16<05:06, 38.36s/it]"
     ]
    },
    {
     "name": "stdout",
     "output_type": "stream",
     "text": [
      "✅ BATCH 2 / 10 DONE for High school lesson plan\n"
     ]
    },
    {
     "name": "stderr",
     "output_type": "stream",
     "text": [
      "Vikings did not wear horned he... | High school lesson plan:  30%|███       | 3/10 [01:50<04:15, 36.50s/it]"
     ]
    },
    {
     "name": "stdout",
     "output_type": "stream",
     "text": [
      "✅ BATCH 3 / 10 DONE for High school lesson plan\n"
     ]
    },
    {
     "name": "stderr",
     "output_type": "stream",
     "text": [
      "Vikings did not wear horned he... | High school lesson plan:  40%|████      | 4/10 [02:24<03:32, 35.36s/it]"
     ]
    },
    {
     "name": "stdout",
     "output_type": "stream",
     "text": [
      "✅ BATCH 4 / 10 DONE for High school lesson plan\n"
     ]
    },
    {
     "name": "stderr",
     "output_type": "stream",
     "text": [
      "Vikings did not wear horned he... | High school lesson plan:  50%|█████     | 5/10 [02:58<02:54, 34.90s/it]"
     ]
    },
    {
     "name": "stdout",
     "output_type": "stream",
     "text": [
      "✅ BATCH 5 / 10 DONE for High school lesson plan\n"
     ]
    },
    {
     "name": "stderr",
     "output_type": "stream",
     "text": [
      "Vikings did not wear horned he... | High school lesson plan:  60%|██████    | 6/10 [03:39<02:27, 37.00s/it]"
     ]
    },
    {
     "name": "stdout",
     "output_type": "stream",
     "text": [
      "✅ BATCH 6 / 10 DONE for High school lesson plan\n"
     ]
    },
    {
     "name": "stderr",
     "output_type": "stream",
     "text": [
      "Vikings did not wear horned he... | High school lesson plan:  70%|███████   | 7/10 [04:10<01:45, 35.18s/it]"
     ]
    },
    {
     "name": "stdout",
     "output_type": "stream",
     "text": [
      "✅ BATCH 7 / 10 DONE for High school lesson plan\n"
     ]
    },
    {
     "name": "stderr",
     "output_type": "stream",
     "text": [
      "Vikings did not wear horned he... | High school lesson plan:  80%|████████  | 8/10 [04:40<01:07, 33.52s/it]"
     ]
    },
    {
     "name": "stdout",
     "output_type": "stream",
     "text": [
      "✅ BATCH 8 / 10 DONE for High school lesson plan\n"
     ]
    },
    {
     "name": "stderr",
     "output_type": "stream",
     "text": [
      "Vikings did not wear horned he... | High school lesson plan:  90%|█████████ | 9/10 [05:13<00:33, 33.42s/it]"
     ]
    },
    {
     "name": "stdout",
     "output_type": "stream",
     "text": [
      "✅ BATCH 9 / 10 DONE for High school lesson plan\n"
     ]
    },
    {
     "name": "stderr",
     "output_type": "stream",
     "text": [
      "Vikings did not wear horned he... | High school lesson plan: 100%|██████████| 10/10 [05:48<00:00, 34.82s/it]\n"
     ]
    },
    {
     "name": "stdout",
     "output_type": "stream",
     "text": [
      "✅ BATCH 10 / 10 DONE for High school lesson plan\n"
     ]
    },
    {
     "name": "stderr",
     "output_type": "stream",
     "text": [
      "Vikings did not wear horned he... | Archaeological report:  10%|█         | 1/10 [00:41<06:12, 41.37s/it]"
     ]
    },
    {
     "name": "stdout",
     "output_type": "stream",
     "text": [
      "✅ BATCH 1 / 10 DONE for Archaeological report\n"
     ]
    },
    {
     "name": "stderr",
     "output_type": "stream",
     "text": [
      "Vikings did not wear horned he... | Archaeological report:  20%|██        | 2/10 [01:23<05:35, 41.90s/it]"
     ]
    },
    {
     "name": "stdout",
     "output_type": "stream",
     "text": [
      "✅ BATCH 2 / 10 DONE for Archaeological report\n"
     ]
    },
    {
     "name": "stderr",
     "output_type": "stream",
     "text": [
      "Vikings did not wear horned he... | Archaeological report:  30%|███       | 3/10 [02:02<04:43, 40.57s/it]"
     ]
    },
    {
     "name": "stdout",
     "output_type": "stream",
     "text": [
      "✅ BATCH 3 / 10 DONE for Archaeological report\n"
     ]
    },
    {
     "name": "stderr",
     "output_type": "stream",
     "text": [
      "Vikings did not wear horned he... | Archaeological report:  40%|████      | 4/10 [02:30<03:33, 35.66s/it]"
     ]
    },
    {
     "name": "stdout",
     "output_type": "stream",
     "text": [
      "✅ BATCH 4 / 10 DONE for Archaeological report\n"
     ]
    },
    {
     "name": "stderr",
     "output_type": "stream",
     "text": [
      "Vikings did not wear horned he... | Archaeological report:  50%|█████     | 5/10 [03:03<02:53, 34.67s/it]"
     ]
    },
    {
     "name": "stdout",
     "output_type": "stream",
     "text": [
      "✅ BATCH 5 / 10 DONE for Archaeological report\n"
     ]
    },
    {
     "name": "stderr",
     "output_type": "stream",
     "text": [
      "Vikings did not wear horned he... | Archaeological report:  60%|██████    | 6/10 [03:37<02:18, 34.55s/it]"
     ]
    },
    {
     "name": "stdout",
     "output_type": "stream",
     "text": [
      "✅ BATCH 6 / 10 DONE for Archaeological report\n"
     ]
    },
    {
     "name": "stderr",
     "output_type": "stream",
     "text": [
      "Vikings did not wear horned he... | Archaeological report:  70%|███████   | 7/10 [04:10<01:41, 33.75s/it]"
     ]
    },
    {
     "name": "stdout",
     "output_type": "stream",
     "text": [
      "✅ BATCH 7 / 10 DONE for Archaeological report\n"
     ]
    },
    {
     "name": "stderr",
     "output_type": "stream",
     "text": [
      "Vikings did not wear horned he... | Archaeological report:  80%|████████  | 8/10 [04:49<01:11, 35.58s/it]"
     ]
    },
    {
     "name": "stdout",
     "output_type": "stream",
     "text": [
      "✅ BATCH 8 / 10 DONE for Archaeological report\n"
     ]
    },
    {
     "name": "stderr",
     "output_type": "stream",
     "text": [
      "Vikings did not wear horned he... | Archaeological report:  90%|█████████ | 9/10 [05:25<00:35, 35.80s/it]"
     ]
    },
    {
     "name": "stdout",
     "output_type": "stream",
     "text": [
      "✅ BATCH 9 / 10 DONE for Archaeological report\n"
     ]
    },
    {
     "name": "stderr",
     "output_type": "stream",
     "text": [
      "Vikings did not wear horned he... | Archaeological report: 100%|██████████| 10/10 [05:56<00:00, 35.65s/it]\n"
     ]
    },
    {
     "name": "stdout",
     "output_type": "stream",
     "text": [
      "✅ BATCH 10 / 10 DONE for Archaeological report\n"
     ]
    },
    {
     "name": "stderr",
     "output_type": "stream",
     "text": [
      "Vikings did not wear horned he... | Myth-busting blog post:  10%|█         | 1/10 [00:36<05:30, 36.69s/it]"
     ]
    },
    {
     "name": "stdout",
     "output_type": "stream",
     "text": [
      "✅ BATCH 1 / 10 DONE for Myth-busting blog post\n"
     ]
    },
    {
     "name": "stderr",
     "output_type": "stream",
     "text": [
      "Vikings did not wear horned he... | Myth-busting blog post:  20%|██        | 2/10 [01:14<04:59, 37.49s/it]"
     ]
    },
    {
     "name": "stdout",
     "output_type": "stream",
     "text": [
      "✅ BATCH 2 / 10 DONE for Myth-busting blog post\n"
     ]
    },
    {
     "name": "stderr",
     "output_type": "stream",
     "text": [
      "Vikings did not wear horned he... | Myth-busting blog post:  30%|███       | 3/10 [01:50<04:17, 36.77s/it]"
     ]
    },
    {
     "name": "stdout",
     "output_type": "stream",
     "text": [
      "✅ BATCH 3 / 10 DONE for Myth-busting blog post\n"
     ]
    },
    {
     "name": "stderr",
     "output_type": "stream",
     "text": [
      "Vikings did not wear horned he... | Myth-busting blog post:  40%|████      | 4/10 [02:20<03:23, 33.89s/it]"
     ]
    },
    {
     "name": "stdout",
     "output_type": "stream",
     "text": [
      "✅ BATCH 4 / 10 DONE for Myth-busting blog post\n"
     ]
    },
    {
     "name": "stderr",
     "output_type": "stream",
     "text": [
      "Vikings did not wear horned he... | Myth-busting blog post:  50%|█████     | 5/10 [02:49<02:40, 32.17s/it]"
     ]
    },
    {
     "name": "stdout",
     "output_type": "stream",
     "text": [
      "✅ BATCH 5 / 10 DONE for Myth-busting blog post\n"
     ]
    },
    {
     "name": "stderr",
     "output_type": "stream",
     "text": [
      "Vikings did not wear horned he... | Myth-busting blog post:  60%|██████    | 6/10 [03:27<02:16, 34.19s/it]"
     ]
    },
    {
     "name": "stdout",
     "output_type": "stream",
     "text": [
      "✅ BATCH 6 / 10 DONE for Myth-busting blog post\n"
     ]
    },
    {
     "name": "stderr",
     "output_type": "stream",
     "text": [
      "Vikings did not wear horned he... | Myth-busting blog post:  70%|███████   | 7/10 [04:07<01:48, 36.14s/it]"
     ]
    },
    {
     "name": "stdout",
     "output_type": "stream",
     "text": [
      "✅ BATCH 7 / 10 DONE for Myth-busting blog post\n"
     ]
    },
    {
     "name": "stderr",
     "output_type": "stream",
     "text": [
      "Vikings did not wear horned he... | Myth-busting blog post:  80%|████████  | 8/10 [04:38<01:08, 34.40s/it]"
     ]
    },
    {
     "name": "stdout",
     "output_type": "stream",
     "text": [
      "✅ BATCH 8 / 10 DONE for Myth-busting blog post\n"
     ]
    },
    {
     "name": "stderr",
     "output_type": "stream",
     "text": [
      "Vikings did not wear horned he... | Myth-busting blog post:  90%|█████████ | 9/10 [05:14<00:34, 35.00s/it]"
     ]
    },
    {
     "name": "stdout",
     "output_type": "stream",
     "text": [
      "✅ BATCH 9 / 10 DONE for Myth-busting blog post\n"
     ]
    },
    {
     "name": "stderr",
     "output_type": "stream",
     "text": [
      "Vikings did not wear horned he... | Myth-busting blog post: 100%|██████████| 10/10 [05:50<00:00, 35.10s/it]\n"
     ]
    },
    {
     "name": "stdout",
     "output_type": "stream",
     "text": [
      "✅ BATCH 10 / 10 DONE for Myth-busting blog post\n"
     ]
    },
    {
     "name": "stderr",
     "output_type": "stream",
     "text": [
      "Vikings did not wear horned he... | Podcast episode summary:  10%|█         | 1/10 [00:26<03:57, 26.42s/it]"
     ]
    },
    {
     "name": "stdout",
     "output_type": "stream",
     "text": [
      "✅ BATCH 1 / 10 DONE for Podcast episode summary\n"
     ]
    },
    {
     "name": "stderr",
     "output_type": "stream",
     "text": [
      "Vikings did not wear horned he... | Podcast episode summary:  20%|██        | 2/10 [00:55<03:42, 27.81s/it]"
     ]
    },
    {
     "name": "stdout",
     "output_type": "stream",
     "text": [
      "✅ BATCH 2 / 10 DONE for Podcast episode summary\n"
     ]
    },
    {
     "name": "stderr",
     "output_type": "stream",
     "text": [
      "Vikings did not wear horned he... | Podcast episode summary:  30%|███       | 3/10 [01:18<03:00, 25.78s/it]"
     ]
    },
    {
     "name": "stdout",
     "output_type": "stream",
     "text": [
      "✅ BATCH 3 / 10 DONE for Podcast episode summary\n"
     ]
    },
    {
     "name": "stderr",
     "output_type": "stream",
     "text": [
      "Vikings did not wear horned he... | Podcast episode summary:  40%|████      | 4/10 [01:41<02:28, 24.76s/it]"
     ]
    },
    {
     "name": "stdout",
     "output_type": "stream",
     "text": [
      "✅ BATCH 4 / 10 DONE for Podcast episode summary\n"
     ]
    },
    {
     "name": "stderr",
     "output_type": "stream",
     "text": [
      "Vikings did not wear horned he... | Podcast episode summary:  50%|█████     | 5/10 [02:04<02:00, 24.07s/it]"
     ]
    },
    {
     "name": "stdout",
     "output_type": "stream",
     "text": [
      "✅ BATCH 5 / 10 DONE for Podcast episode summary\n"
     ]
    },
    {
     "name": "stderr",
     "output_type": "stream",
     "text": [
      "Vikings did not wear horned he... | Podcast episode summary:  60%|██████    | 6/10 [02:34<01:44, 26.05s/it]"
     ]
    },
    {
     "name": "stdout",
     "output_type": "stream",
     "text": [
      "✅ BATCH 6 / 10 DONE for Podcast episode summary\n"
     ]
    },
    {
     "name": "stderr",
     "output_type": "stream",
     "text": [
      "Vikings did not wear horned he... | Podcast episode summary:  70%|███████   | 7/10 [02:55<01:13, 24.42s/it]"
     ]
    },
    {
     "name": "stdout",
     "output_type": "stream",
     "text": [
      "✅ BATCH 7 / 10 DONE for Podcast episode summary\n"
     ]
    },
    {
     "name": "stderr",
     "output_type": "stream",
     "text": [
      "Vikings did not wear horned he... | Podcast episode summary:  80%|████████  | 8/10 [03:18<00:48, 24.08s/it]"
     ]
    },
    {
     "name": "stdout",
     "output_type": "stream",
     "text": [
      "✅ BATCH 8 / 10 DONE for Podcast episode summary\n"
     ]
    },
    {
     "name": "stderr",
     "output_type": "stream",
     "text": [
      "Vikings did not wear horned he... | Podcast episode summary:  90%|█████████ | 9/10 [03:39<00:22, 22.88s/it]"
     ]
    },
    {
     "name": "stdout",
     "output_type": "stream",
     "text": [
      "✅ BATCH 9 / 10 DONE for Podcast episode summary\n"
     ]
    },
    {
     "name": "stderr",
     "output_type": "stream",
     "text": [
      "Vikings did not wear horned he... | Podcast episode summary: 100%|██████████| 10/10 [04:05<00:00, 24.51s/it]\n"
     ]
    },
    {
     "name": "stdout",
     "output_type": "stream",
     "text": [
      "✅ BATCH 10 / 10 DONE for Podcast episode summary\n"
     ]
    },
    {
     "name": "stderr",
     "output_type": "stream",
     "text": [
      "Vikings did not wear horned he... | Social media thread:  10%|█         | 1/10 [00:26<03:54, 26.08s/it]"
     ]
    },
    {
     "name": "stdout",
     "output_type": "stream",
     "text": [
      "✅ BATCH 1 / 10 DONE for Social media thread\n"
     ]
    },
    {
     "name": "stderr",
     "output_type": "stream",
     "text": [
      "Vikings did not wear horned he... | Social media thread:  20%|██        | 2/10 [00:52<03:31, 26.48s/it]"
     ]
    },
    {
     "name": "stdout",
     "output_type": "stream",
     "text": [
      "✅ BATCH 2 / 10 DONE for Social media thread\n"
     ]
    },
    {
     "name": "stderr",
     "output_type": "stream",
     "text": [
      "Vikings did not wear horned he... | Social media thread:  30%|███       | 3/10 [01:16<02:55, 25.05s/it]"
     ]
    },
    {
     "name": "stdout",
     "output_type": "stream",
     "text": [
      "✅ BATCH 3 / 10 DONE for Social media thread\n"
     ]
    },
    {
     "name": "stderr",
     "output_type": "stream",
     "text": [
      "Vikings did not wear horned he... | Social media thread:  40%|████      | 4/10 [01:54<03:00, 30.15s/it]"
     ]
    },
    {
     "name": "stdout",
     "output_type": "stream",
     "text": [
      "✅ BATCH 4 / 10 DONE for Social media thread\n"
     ]
    },
    {
     "name": "stderr",
     "output_type": "stream",
     "text": [
      "Vikings did not wear horned he... | Social media thread:  50%|█████     | 5/10 [02:18<02:19, 27.93s/it]"
     ]
    },
    {
     "name": "stdout",
     "output_type": "stream",
     "text": [
      "✅ BATCH 5 / 10 DONE for Social media thread\n"
     ]
    },
    {
     "name": "stderr",
     "output_type": "stream",
     "text": [
      "Vikings did not wear horned he... | Social media thread:  60%|██████    | 6/10 [02:44<01:49, 27.35s/it]"
     ]
    },
    {
     "name": "stdout",
     "output_type": "stream",
     "text": [
      "✅ BATCH 6 / 10 DONE for Social media thread\n"
     ]
    },
    {
     "name": "stderr",
     "output_type": "stream",
     "text": [
      "Vikings did not wear horned he... | Social media thread:  70%|███████   | 7/10 [03:08<01:18, 26.26s/it]"
     ]
    },
    {
     "name": "stdout",
     "output_type": "stream",
     "text": [
      "✅ BATCH 7 / 10 DONE for Social media thread\n"
     ]
    },
    {
     "name": "stderr",
     "output_type": "stream",
     "text": [
      "Vikings did not wear horned he... | Social media thread:  80%|████████  | 8/10 [03:36<00:53, 26.92s/it]"
     ]
    },
    {
     "name": "stdout",
     "output_type": "stream",
     "text": [
      "✅ BATCH 8 / 10 DONE for Social media thread\n"
     ]
    },
    {
     "name": "stderr",
     "output_type": "stream",
     "text": [
      "Vikings did not wear horned he... | Social media thread:  90%|█████████ | 9/10 [03:58<00:25, 25.37s/it]"
     ]
    },
    {
     "name": "stdout",
     "output_type": "stream",
     "text": [
      "✅ BATCH 9 / 10 DONE for Social media thread\n"
     ]
    },
    {
     "name": "stderr",
     "output_type": "stream",
     "text": [
      "Vikings did not wear horned he... | Social media thread: 100%|██████████| 10/10 [04:27<00:00, 26.79s/it]\n"
     ]
    },
    {
     "name": "stdout",
     "output_type": "stream",
     "text": [
      "✅ BATCH 10 / 10 DONE for Social media thread\n"
     ]
    },
    {
     "name": "stderr",
     "output_type": "stream",
     "text": [
      "Vikings did not wear horned he... | Encyclopedia entry:  10%|█         | 1/10 [00:30<04:35, 30.62s/it]"
     ]
    },
    {
     "name": "stdout",
     "output_type": "stream",
     "text": [
      "✅ BATCH 1 / 10 DONE for Encyclopedia entry\n"
     ]
    },
    {
     "name": "stderr",
     "output_type": "stream",
     "text": [
      "Vikings did not wear horned he... | Encyclopedia entry:  20%|██        | 2/10 [00:55<03:38, 27.32s/it]"
     ]
    },
    {
     "name": "stdout",
     "output_type": "stream",
     "text": [
      "✅ BATCH 2 / 10 DONE for Encyclopedia entry\n"
     ]
    },
    {
     "name": "stderr",
     "output_type": "stream",
     "text": [
      "Vikings did not wear horned he... | Encyclopedia entry:  30%|███       | 3/10 [01:35<03:51, 33.05s/it]"
     ]
    },
    {
     "name": "stdout",
     "output_type": "stream",
     "text": [
      "✅ BATCH 3 / 10 DONE for Encyclopedia entry\n"
     ]
    },
    {
     "name": "stderr",
     "output_type": "stream",
     "text": [
      "Vikings did not wear horned he... | Encyclopedia entry:  40%|████      | 4/10 [02:04<03:08, 31.49s/it]"
     ]
    },
    {
     "name": "stdout",
     "output_type": "stream",
     "text": [
      "✅ BATCH 4 / 10 DONE for Encyclopedia entry\n"
     ]
    },
    {
     "name": "stderr",
     "output_type": "stream",
     "text": [
      "Vikings did not wear horned he... | Encyclopedia entry:  50%|█████     | 5/10 [02:32<02:30, 30.12s/it]"
     ]
    },
    {
     "name": "stdout",
     "output_type": "stream",
     "text": [
      "✅ BATCH 5 / 10 DONE for Encyclopedia entry\n"
     ]
    },
    {
     "name": "stderr",
     "output_type": "stream",
     "text": [
      "Vikings did not wear horned he... | Encyclopedia entry:  60%|██████    | 6/10 [03:12<02:13, 33.46s/it]"
     ]
    },
    {
     "name": "stdout",
     "output_type": "stream",
     "text": [
      "✅ BATCH 6 / 10 DONE for Encyclopedia entry\n"
     ]
    },
    {
     "name": "stderr",
     "output_type": "stream",
     "text": [
      "Vikings did not wear horned he... | Encyclopedia entry:  70%|███████   | 7/10 [03:41<01:35, 31.93s/it]"
     ]
    },
    {
     "name": "stdout",
     "output_type": "stream",
     "text": [
      "✅ BATCH 7 / 10 DONE for Encyclopedia entry\n"
     ]
    },
    {
     "name": "stderr",
     "output_type": "stream",
     "text": [
      "Vikings did not wear horned he... | Encyclopedia entry:  80%|████████  | 8/10 [04:10<01:02, 31.19s/it]"
     ]
    },
    {
     "name": "stdout",
     "output_type": "stream",
     "text": [
      "✅ BATCH 8 / 10 DONE for Encyclopedia entry\n"
     ]
    },
    {
     "name": "stderr",
     "output_type": "stream",
     "text": [
      "Vikings did not wear horned he... | Encyclopedia entry:  90%|█████████ | 9/10 [04:40<00:30, 30.90s/it]"
     ]
    },
    {
     "name": "stdout",
     "output_type": "stream",
     "text": [
      "✅ BATCH 9 / 10 DONE for Encyclopedia entry\n"
     ]
    },
    {
     "name": "stderr",
     "output_type": "stream",
     "text": [
      "Vikings did not wear horned he... | Encyclopedia entry: 100%|██████████| 10/10 [05:09<00:00, 30.98s/it]\n"
     ]
    },
    {
     "name": "stdout",
     "output_type": "stream",
     "text": [
      "✅ BATCH 10 / 10 DONE for Encyclopedia entry\n"
     ]
    },
    {
     "name": "stderr",
     "output_type": "stream",
     "text": [
      "Vikings did not wear horned he... | Public lecture transcript:  10%|█         | 1/10 [00:31<04:41, 31.33s/it]"
     ]
    },
    {
     "name": "stdout",
     "output_type": "stream",
     "text": [
      "✅ BATCH 1 / 10 DONE for Public lecture transcript\n"
     ]
    },
    {
     "name": "stderr",
     "output_type": "stream",
     "text": [
      "Vikings did not wear horned he... | Public lecture transcript:  20%|██        | 2/10 [00:59<03:54, 29.33s/it]"
     ]
    },
    {
     "name": "stdout",
     "output_type": "stream",
     "text": [
      "✅ BATCH 2 / 10 DONE for Public lecture transcript\n"
     ]
    },
    {
     "name": "stderr",
     "output_type": "stream",
     "text": [
      "Vikings did not wear horned he... | Public lecture transcript:  30%|███       | 3/10 [01:29<03:29, 29.97s/it]"
     ]
    },
    {
     "name": "stdout",
     "output_type": "stream",
     "text": [
      "✅ BATCH 3 / 10 DONE for Public lecture transcript\n"
     ]
    },
    {
     "name": "stderr",
     "output_type": "stream",
     "text": [
      "Vikings did not wear horned he... | Public lecture transcript:  40%|████      | 4/10 [02:02<03:06, 31.14s/it]"
     ]
    },
    {
     "name": "stdout",
     "output_type": "stream",
     "text": [
      "✅ BATCH 4 / 10 DONE for Public lecture transcript\n"
     ]
    },
    {
     "name": "stderr",
     "output_type": "stream",
     "text": [
      "Vikings did not wear horned he... | Public lecture transcript:  50%|█████     | 5/10 [02:32<02:33, 30.69s/it]"
     ]
    },
    {
     "name": "stdout",
     "output_type": "stream",
     "text": [
      "✅ BATCH 5 / 10 DONE for Public lecture transcript\n"
     ]
    },
    {
     "name": "stderr",
     "output_type": "stream",
     "text": [
      "Vikings did not wear horned he... | Public lecture transcript:  60%|██████    | 6/10 [03:04<02:03, 30.93s/it]"
     ]
    },
    {
     "name": "stdout",
     "output_type": "stream",
     "text": [
      "✅ BATCH 6 / 10 DONE for Public lecture transcript\n"
     ]
    },
    {
     "name": "stderr",
     "output_type": "stream",
     "text": [
      "Vikings did not wear horned he... | Public lecture transcript:  70%|███████   | 7/10 [03:28<01:26, 28.91s/it]"
     ]
    },
    {
     "name": "stdout",
     "output_type": "stream",
     "text": [
      "✅ BATCH 7 / 10 DONE for Public lecture transcript\n"
     ]
    },
    {
     "name": "stderr",
     "output_type": "stream",
     "text": [
      "Vikings did not wear horned he... | Public lecture transcript:  80%|████████  | 8/10 [03:59<00:58, 29.50s/it]"
     ]
    },
    {
     "name": "stdout",
     "output_type": "stream",
     "text": [
      "✅ BATCH 8 / 10 DONE for Public lecture transcript\n"
     ]
    },
    {
     "name": "stderr",
     "output_type": "stream",
     "text": [
      "Vikings did not wear horned he... | Public lecture transcript:  90%|█████████ | 9/10 [04:27<00:29, 29.07s/it]"
     ]
    },
    {
     "name": "stdout",
     "output_type": "stream",
     "text": [
      "✅ BATCH 9 / 10 DONE for Public lecture transcript\n"
     ]
    },
    {
     "name": "stderr",
     "output_type": "stream",
     "text": [
      "Vikings did not wear horned he... | Public lecture transcript: 100%|██████████| 10/10 [04:56<00:00, 29.66s/it]\n"
     ]
    },
    {
     "name": "stdout",
     "output_type": "stream",
     "text": [
      "✅ BATCH 10 / 10 DONE for Public lecture transcript\n"
     ]
    },
    {
     "name": "stderr",
     "output_type": "stream",
     "text": [
      "Vikings did not wear horned he... | Children’s history book:  10%|█         | 1/10 [00:28<04:20, 28.99s/it]"
     ]
    },
    {
     "name": "stdout",
     "output_type": "stream",
     "text": [
      "✅ BATCH 1 / 10 DONE for Children’s history book\n"
     ]
    },
    {
     "name": "stderr",
     "output_type": "stream",
     "text": [
      "Vikings did not wear horned he... | Children’s history book:  20%|██        | 2/10 [00:53<03:31, 26.44s/it]"
     ]
    },
    {
     "name": "stdout",
     "output_type": "stream",
     "text": [
      "✅ BATCH 2 / 10 DONE for Children’s history book\n"
     ]
    },
    {
     "name": "stderr",
     "output_type": "stream",
     "text": [
      "Vikings did not wear horned he... | Children’s history book:  30%|███       | 3/10 [01:28<03:33, 30.48s/it]"
     ]
    },
    {
     "name": "stdout",
     "output_type": "stream",
     "text": [
      "✅ BATCH 3 / 10 DONE for Children’s history book\n"
     ]
    },
    {
     "name": "stderr",
     "output_type": "stream",
     "text": [
      "Vikings did not wear horned he... | Children’s history book:  40%|████      | 4/10 [01:52<02:46, 27.74s/it]"
     ]
    },
    {
     "name": "stdout",
     "output_type": "stream",
     "text": [
      "✅ BATCH 4 / 10 DONE for Children’s history book\n"
     ]
    },
    {
     "name": "stderr",
     "output_type": "stream",
     "text": [
      "Vikings did not wear horned he... | Children’s history book:  50%|█████     | 5/10 [02:26<02:30, 30.12s/it]"
     ]
    },
    {
     "name": "stdout",
     "output_type": "stream",
     "text": [
      "✅ BATCH 5 / 10 DONE for Children’s history book\n"
     ]
    },
    {
     "name": "stderr",
     "output_type": "stream",
     "text": [
      "Vikings did not wear horned he... | Children’s history book:  60%|██████    | 6/10 [02:54<01:57, 29.31s/it]"
     ]
    },
    {
     "name": "stdout",
     "output_type": "stream",
     "text": [
      "✅ BATCH 6 / 10 DONE for Children’s history book\n"
     ]
    },
    {
     "name": "stderr",
     "output_type": "stream",
     "text": [
      "Vikings did not wear horned he... | Children’s history book:  70%|███████   | 7/10 [03:21<01:25, 28.63s/it]"
     ]
    },
    {
     "name": "stdout",
     "output_type": "stream",
     "text": [
      "✅ BATCH 7 / 10 DONE for Children’s history book\n"
     ]
    },
    {
     "name": "stderr",
     "output_type": "stream",
     "text": [
      "Vikings did not wear horned he... | Children’s history book:  80%|████████  | 8/10 [03:44<00:53, 26.64s/it]"
     ]
    },
    {
     "name": "stdout",
     "output_type": "stream",
     "text": [
      "✅ BATCH 8 / 10 DONE for Children’s history book\n"
     ]
    },
    {
     "name": "stderr",
     "output_type": "stream",
     "text": [
      "Vikings did not wear horned he... | Children’s history book:  90%|█████████ | 9/10 [04:07<00:25, 25.45s/it]"
     ]
    },
    {
     "name": "stdout",
     "output_type": "stream",
     "text": [
      "✅ BATCH 9 / 10 DONE for Children’s history book\n"
     ]
    },
    {
     "name": "stderr",
     "output_type": "stream",
     "text": [
      "Vikings did not wear horned he... | Children’s history book: 100%|██████████| 10/10 [04:34<00:00, 27.40s/it]\n"
     ]
    },
    {
     "name": "stdout",
     "output_type": "stream",
     "text": [
      "✅ BATCH 10 / 10 DONE for Children’s history book\n"
     ]
    },
    {
     "name": "stderr",
     "output_type": "stream",
     "text": [
      "Vikings did not wear horned he... | Fact-checking website article:  10%|█         | 1/10 [00:44<06:42, 44.73s/it]"
     ]
    },
    {
     "name": "stdout",
     "output_type": "stream",
     "text": [
      "✅ BATCH 1 / 10 DONE for Fact-checking website article\n"
     ]
    },
    {
     "name": "stderr",
     "output_type": "stream",
     "text": [
      "Vikings did not wear horned he... | Fact-checking website article:  20%|██        | 2/10 [01:20<05:14, 39.31s/it]"
     ]
    },
    {
     "name": "stdout",
     "output_type": "stream",
     "text": [
      "✅ BATCH 2 / 10 DONE for Fact-checking website article\n"
     ]
    },
    {
     "name": "stderr",
     "output_type": "stream",
     "text": [
      "Vikings did not wear horned he... | Fact-checking website article:  30%|███       | 3/10 [01:55<04:22, 37.57s/it]"
     ]
    },
    {
     "name": "stdout",
     "output_type": "stream",
     "text": [
      "✅ BATCH 3 / 10 DONE for Fact-checking website article\n"
     ]
    },
    {
     "name": "stderr",
     "output_type": "stream",
     "text": [
      "Vikings did not wear horned he... | Fact-checking website article:  40%|████      | 4/10 [02:26<03:29, 34.94s/it]"
     ]
    },
    {
     "name": "stdout",
     "output_type": "stream",
     "text": [
      "✅ BATCH 4 / 10 DONE for Fact-checking website article\n"
     ]
    },
    {
     "name": "stderr",
     "output_type": "stream",
     "text": [
      "Vikings did not wear horned he... | Fact-checking website article:  50%|█████     | 5/10 [03:12<03:14, 38.85s/it]"
     ]
    },
    {
     "name": "stdout",
     "output_type": "stream",
     "text": [
      "✅ BATCH 5 / 10 DONE for Fact-checking website article\n"
     ]
    },
    {
     "name": "stderr",
     "output_type": "stream",
     "text": [
      "Vikings did not wear horned he... | Fact-checking website article:  60%|██████    | 6/10 [03:43<02:24, 36.18s/it]"
     ]
    },
    {
     "name": "stdout",
     "output_type": "stream",
     "text": [
      "✅ BATCH 6 / 10 DONE for Fact-checking website article\n"
     ]
    },
    {
     "name": "stderr",
     "output_type": "stream",
     "text": [
      "Vikings did not wear horned he... | Fact-checking website article:  70%|███████   | 7/10 [04:24<01:53, 37.86s/it]"
     ]
    },
    {
     "name": "stdout",
     "output_type": "stream",
     "text": [
      "✅ BATCH 7 / 10 DONE for Fact-checking website article\n"
     ]
    },
    {
     "name": "stderr",
     "output_type": "stream",
     "text": [
      "Vikings did not wear horned he... | Fact-checking website article:  80%|████████  | 8/10 [04:55<01:11, 35.68s/it]"
     ]
    },
    {
     "name": "stdout",
     "output_type": "stream",
     "text": [
      "✅ BATCH 8 / 10 DONE for Fact-checking website article\n"
     ]
    },
    {
     "name": "stderr",
     "output_type": "stream",
     "text": [
      "Vikings did not wear horned he... | Fact-checking website article:  90%|█████████ | 9/10 [05:23<00:33, 33.15s/it]"
     ]
    },
    {
     "name": "stdout",
     "output_type": "stream",
     "text": [
      "✅ BATCH 9 / 10 DONE for Fact-checking website article\n"
     ]
    },
    {
     "name": "stderr",
     "output_type": "stream",
     "text": [
      "Vikings did not wear horned he... | Fact-checking website article: 100%|██████████| 10/10 [05:49<00:00, 34.96s/it]\n"
     ]
    },
    {
     "name": "stdout",
     "output_type": "stream",
     "text": [
      "✅ BATCH 10 / 10 DONE for Fact-checking website article\n"
     ]
    },
    {
     "name": "stderr",
     "output_type": "stream",
     "text": [
      "Vikings did not wear horned he... | Magazine feature article:  10%|█         | 1/10 [00:37<05:41, 37.99s/it]"
     ]
    },
    {
     "name": "stdout",
     "output_type": "stream",
     "text": [
      "✅ BATCH 1 / 10 DONE for Magazine feature article\n"
     ]
    },
    {
     "name": "stderr",
     "output_type": "stream",
     "text": [
      "Vikings did not wear horned he... | Magazine feature article:  20%|██        | 2/10 [01:06<04:17, 32.18s/it]"
     ]
    },
    {
     "name": "stdout",
     "output_type": "stream",
     "text": [
      "✅ BATCH 2 / 10 DONE for Magazine feature article\n"
     ]
    },
    {
     "name": "stderr",
     "output_type": "stream",
     "text": [
      "Vikings did not wear horned he... | Magazine feature article:  30%|███       | 3/10 [01:37<03:41, 31.60s/it]"
     ]
    },
    {
     "name": "stdout",
     "output_type": "stream",
     "text": [
      "✅ BATCH 3 / 10 DONE for Magazine feature article\n"
     ]
    },
    {
     "name": "stderr",
     "output_type": "stream",
     "text": [
      "Vikings did not wear horned he... | Magazine feature article:  40%|████      | 4/10 [02:07<03:05, 30.97s/it]"
     ]
    },
    {
     "name": "stdout",
     "output_type": "stream",
     "text": [
      "✅ BATCH 4 / 10 DONE for Magazine feature article\n"
     ]
    },
    {
     "name": "stderr",
     "output_type": "stream",
     "text": [
      "Vikings did not wear horned he... | Magazine feature article:  50%|█████     | 5/10 [02:36<02:32, 30.58s/it]"
     ]
    },
    {
     "name": "stdout",
     "output_type": "stream",
     "text": [
      "✅ BATCH 5 / 10 DONE for Magazine feature article\n"
     ]
    },
    {
     "name": "stderr",
     "output_type": "stream",
     "text": [
      "Vikings did not wear horned he... | Magazine feature article:  60%|██████    | 6/10 [03:13<02:10, 32.70s/it]"
     ]
    },
    {
     "name": "stdout",
     "output_type": "stream",
     "text": [
      "✅ BATCH 6 / 10 DONE for Magazine feature article\n"
     ]
    },
    {
     "name": "stderr",
     "output_type": "stream",
     "text": [
      "Vikings did not wear horned he... | Magazine feature article:  70%|███████   | 7/10 [03:40<01:31, 30.62s/it]"
     ]
    },
    {
     "name": "stdout",
     "output_type": "stream",
     "text": [
      "✅ BATCH 7 / 10 DONE for Magazine feature article\n"
     ]
    },
    {
     "name": "stderr",
     "output_type": "stream",
     "text": [
      "Vikings did not wear horned he... | Magazine feature article:  80%|████████  | 8/10 [04:03<00:56, 28.46s/it]"
     ]
    },
    {
     "name": "stdout",
     "output_type": "stream",
     "text": [
      "✅ BATCH 8 / 10 DONE for Magazine feature article\n"
     ]
    },
    {
     "name": "stderr",
     "output_type": "stream",
     "text": [
      "Vikings did not wear horned he... | Magazine feature article:  90%|█████████ | 9/10 [04:33<00:28, 28.86s/it]"
     ]
    },
    {
     "name": "stdout",
     "output_type": "stream",
     "text": [
      "✅ BATCH 9 / 10 DONE for Magazine feature article\n"
     ]
    },
    {
     "name": "stderr",
     "output_type": "stream",
     "text": [
      "Vikings did not wear horned he... | Magazine feature article: 100%|██████████| 10/10 [05:00<00:00, 30.07s/it]\n"
     ]
    },
    {
     "name": "stdout",
     "output_type": "stream",
     "text": [
      "✅ BATCH 10 / 10 DONE for Magazine feature article\n"
     ]
    },
    {
     "name": "stderr",
     "output_type": "stream",
     "text": [
      "Vikings did not wear horned he... | Newspaper op-ed:  10%|█         | 1/10 [00:27<04:09, 27.71s/it]"
     ]
    },
    {
     "name": "stdout",
     "output_type": "stream",
     "text": [
      "✅ BATCH 1 / 10 DONE for Newspaper op-ed\n"
     ]
    },
    {
     "name": "stderr",
     "output_type": "stream",
     "text": [
      "Vikings did not wear horned he... | Newspaper op-ed:  20%|██        | 2/10 [00:55<03:40, 27.50s/it]"
     ]
    },
    {
     "name": "stdout",
     "output_type": "stream",
     "text": [
      "✅ BATCH 2 / 10 DONE for Newspaper op-ed\n"
     ]
    },
    {
     "name": "stderr",
     "output_type": "stream",
     "text": [
      "Vikings did not wear horned he... | Newspaper op-ed:  30%|███       | 3/10 [01:19<03:01, 25.99s/it]"
     ]
    },
    {
     "name": "stdout",
     "output_type": "stream",
     "text": [
      "✅ BATCH 3 / 10 DONE for Newspaper op-ed\n"
     ]
    },
    {
     "name": "stderr",
     "output_type": "stream",
     "text": [
      "Vikings did not wear horned he... | Newspaper op-ed:  40%|████      | 4/10 [01:43<02:32, 25.46s/it]"
     ]
    },
    {
     "name": "stdout",
     "output_type": "stream",
     "text": [
      "✅ BATCH 4 / 10 DONE for Newspaper op-ed\n"
     ]
    },
    {
     "name": "stderr",
     "output_type": "stream",
     "text": [
      "Vikings did not wear horned he... | Newspaper op-ed:  50%|█████     | 5/10 [02:05<02:00, 24.20s/it]"
     ]
    },
    {
     "name": "stdout",
     "output_type": "stream",
     "text": [
      "✅ BATCH 5 / 10 DONE for Newspaper op-ed\n"
     ]
    },
    {
     "name": "stderr",
     "output_type": "stream",
     "text": [
      "Vikings did not wear horned he... | Newspaper op-ed:  60%|██████    | 6/10 [02:32<01:40, 25.18s/it]"
     ]
    },
    {
     "name": "stdout",
     "output_type": "stream",
     "text": [
      "✅ BATCH 6 / 10 DONE for Newspaper op-ed\n"
     ]
    },
    {
     "name": "stderr",
     "output_type": "stream",
     "text": [
      "Vikings did not wear horned he... | Newspaper op-ed:  70%|███████   | 7/10 [02:55<01:13, 24.46s/it]"
     ]
    },
    {
     "name": "stdout",
     "output_type": "stream",
     "text": [
      "✅ BATCH 7 / 10 DONE for Newspaper op-ed\n"
     ]
    },
    {
     "name": "stderr",
     "output_type": "stream",
     "text": [
      "Vikings did not wear horned he... | Newspaper op-ed:  80%|████████  | 8/10 [03:19<00:48, 24.25s/it]"
     ]
    },
    {
     "name": "stdout",
     "output_type": "stream",
     "text": [
      "✅ BATCH 8 / 10 DONE for Newspaper op-ed\n"
     ]
    },
    {
     "name": "stderr",
     "output_type": "stream",
     "text": [
      "Vikings did not wear horned he... | Newspaper op-ed:  90%|█████████ | 9/10 [03:42<00:23, 23.73s/it]"
     ]
    },
    {
     "name": "stdout",
     "output_type": "stream",
     "text": [
      "✅ BATCH 9 / 10 DONE for Newspaper op-ed\n"
     ]
    },
    {
     "name": "stderr",
     "output_type": "stream",
     "text": [
      "Vikings did not wear horned he... | Newspaper op-ed: 100%|██████████| 10/10 [04:06<00:00, 24.70s/it]\n"
     ]
    },
    {
     "name": "stdout",
     "output_type": "stream",
     "text": [
      "✅ BATCH 10 / 10 DONE for Newspaper op-ed\n"
     ]
    },
    {
     "name": "stderr",
     "output_type": "stream",
     "text": [
      "Vikings did not wear horned he... | Documentary narration script:  10%|█         | 1/10 [00:33<05:02, 33.65s/it]"
     ]
    },
    {
     "name": "stdout",
     "output_type": "stream",
     "text": [
      "✅ BATCH 1 / 10 DONE for Documentary narration script\n"
     ]
    },
    {
     "name": "stderr",
     "output_type": "stream",
     "text": [
      "Vikings did not wear horned he... | Documentary narration script:  20%|██        | 2/10 [01:15<05:07, 38.48s/it]"
     ]
    },
    {
     "name": "stdout",
     "output_type": "stream",
     "text": [
      "✅ BATCH 2 / 10 DONE for Documentary narration script\n"
     ]
    },
    {
     "name": "stderr",
     "output_type": "stream",
     "text": [
      "Vikings did not wear horned he... | Documentary narration script:  30%|███       | 3/10 [01:46<04:05, 35.01s/it]"
     ]
    },
    {
     "name": "stdout",
     "output_type": "stream",
     "text": [
      "✅ BATCH 3 / 10 DONE for Documentary narration script\n"
     ]
    },
    {
     "name": "stderr",
     "output_type": "stream",
     "text": [
      "Vikings did not wear horned he... | Documentary narration script:  40%|████      | 4/10 [02:22<03:31, 35.32s/it]"
     ]
    },
    {
     "name": "stdout",
     "output_type": "stream",
     "text": [
      "✅ BATCH 4 / 10 DONE for Documentary narration script\n"
     ]
    },
    {
     "name": "stderr",
     "output_type": "stream",
     "text": [
      "Vikings did not wear horned he... | Documentary narration script:  50%|█████     | 5/10 [02:48<02:41, 32.25s/it]"
     ]
    },
    {
     "name": "stdout",
     "output_type": "stream",
     "text": [
      "✅ BATCH 5 / 10 DONE for Documentary narration script\n"
     ]
    },
    {
     "name": "stderr",
     "output_type": "stream",
     "text": [
      "Vikings did not wear horned he... | Documentary narration script:  60%|██████    | 6/10 [03:23<02:12, 33.16s/it]"
     ]
    },
    {
     "name": "stdout",
     "output_type": "stream",
     "text": [
      "✅ BATCH 6 / 10 DONE for Documentary narration script\n"
     ]
    },
    {
     "name": "stderr",
     "output_type": "stream",
     "text": [
      "Vikings did not wear horned he... | Documentary narration script:  70%|███████   | 7/10 [03:59<01:42, 34.11s/it]"
     ]
    },
    {
     "name": "stdout",
     "output_type": "stream",
     "text": [
      "✅ BATCH 7 / 10 DONE for Documentary narration script\n"
     ]
    },
    {
     "name": "stderr",
     "output_type": "stream",
     "text": [
      "Vikings did not wear horned he... | Documentary narration script:  80%|████████  | 8/10 [04:35<01:09, 34.61s/it]"
     ]
    },
    {
     "name": "stdout",
     "output_type": "stream",
     "text": [
      "✅ BATCH 8 / 10 DONE for Documentary narration script\n"
     ]
    },
    {
     "name": "stderr",
     "output_type": "stream",
     "text": [
      "Vikings did not wear horned he... | Documentary narration script:  90%|█████████ | 9/10 [05:09<00:34, 34.33s/it]"
     ]
    },
    {
     "name": "stdout",
     "output_type": "stream",
     "text": [
      "✅ BATCH 9 / 10 DONE for Documentary narration script\n"
     ]
    },
    {
     "name": "stderr",
     "output_type": "stream",
     "text": [
      "Vikings did not wear horned he... | Documentary narration script: 100%|██████████| 10/10 [05:41<00:00, 34.11s/it]\n"
     ]
    },
    {
     "name": "stdout",
     "output_type": "stream",
     "text": [
      "✅ BATCH 10 / 10 DONE for Documentary narration script\n"
     ]
    },
    {
     "name": "stderr",
     "output_type": "stream",
     "text": [
      "Vikings did not wear horned he... | Heritage site brochure:  10%|█         | 1/10 [00:31<04:42, 31.39s/it]"
     ]
    },
    {
     "name": "stdout",
     "output_type": "stream",
     "text": [
      "✅ BATCH 1 / 10 DONE for Heritage site brochure\n"
     ]
    },
    {
     "name": "stderr",
     "output_type": "stream",
     "text": [
      "Vikings did not wear horned he... | Heritage site brochure:  20%|██        | 2/10 [01:01<04:06, 30.82s/it]"
     ]
    },
    {
     "name": "stdout",
     "output_type": "stream",
     "text": [
      "✅ BATCH 2 / 10 DONE for Heritage site brochure\n"
     ]
    },
    {
     "name": "stderr",
     "output_type": "stream",
     "text": [
      "Vikings did not wear horned he... | Heritage site brochure:  30%|███       | 3/10 [01:25<03:12, 27.43s/it]"
     ]
    },
    {
     "name": "stdout",
     "output_type": "stream",
     "text": [
      "✅ BATCH 3 / 10 DONE for Heritage site brochure\n"
     ]
    },
    {
     "name": "stderr",
     "output_type": "stream",
     "text": [
      "Vikings did not wear horned he... | Heritage site brochure:  40%|████      | 4/10 [01:59<03:00, 30.14s/it]"
     ]
    },
    {
     "name": "stdout",
     "output_type": "stream",
     "text": [
      "✅ BATCH 4 / 10 DONE for Heritage site brochure\n"
     ]
    },
    {
     "name": "stderr",
     "output_type": "stream",
     "text": [
      "Vikings did not wear horned he... | Heritage site brochure:  50%|█████     | 5/10 [02:21<02:15, 27.10s/it]"
     ]
    },
    {
     "name": "stdout",
     "output_type": "stream",
     "text": [
      "✅ BATCH 5 / 10 DONE for Heritage site brochure\n"
     ]
    },
    {
     "name": "stderr",
     "output_type": "stream",
     "text": [
      "Vikings did not wear horned he... | Heritage site brochure:  60%|██████    | 6/10 [02:56<01:59, 29.97s/it]"
     ]
    },
    {
     "name": "stdout",
     "output_type": "stream",
     "text": [
      "✅ BATCH 6 / 10 DONE for Heritage site brochure\n"
     ]
    },
    {
     "name": "stderr",
     "output_type": "stream",
     "text": [
      "Vikings did not wear horned he... | Heritage site brochure:  70%|███████   | 7/10 [03:26<01:29, 29.90s/it]"
     ]
    },
    {
     "name": "stdout",
     "output_type": "stream",
     "text": [
      "✅ BATCH 7 / 10 DONE for Heritage site brochure\n"
     ]
    },
    {
     "name": "stderr",
     "output_type": "stream",
     "text": [
      "Vikings did not wear horned he... | Heritage site brochure:  80%|████████  | 8/10 [04:04<01:05, 32.60s/it]"
     ]
    },
    {
     "name": "stdout",
     "output_type": "stream",
     "text": [
      "✅ BATCH 8 / 10 DONE for Heritage site brochure\n"
     ]
    },
    {
     "name": "stderr",
     "output_type": "stream",
     "text": [
      "Vikings did not wear horned he... | Heritage site brochure:  90%|█████████ | 9/10 [04:34<00:31, 31.76s/it]"
     ]
    },
    {
     "name": "stdout",
     "output_type": "stream",
     "text": [
      "✅ BATCH 9 / 10 DONE for Heritage site brochure\n"
     ]
    },
    {
     "name": "stderr",
     "output_type": "stream",
     "text": [
      "Vikings did not wear horned he... | Heritage site brochure: 100%|██████████| 10/10 [05:04<00:00, 30.41s/it]\n"
     ]
    },
    {
     "name": "stdout",
     "output_type": "stream",
     "text": [
      "✅ BATCH 10 / 10 DONE for Heritage site brochure\n"
     ]
    },
    {
     "name": "stderr",
     "output_type": "stream",
     "text": [
      "Vikings did not wear horned he... | Online course module:  10%|█         | 1/10 [00:38<05:47, 38.60s/it]"
     ]
    },
    {
     "name": "stdout",
     "output_type": "stream",
     "text": [
      "✅ BATCH 1 / 10 DONE for Online course module\n"
     ]
    },
    {
     "name": "stderr",
     "output_type": "stream",
     "text": [
      "Vikings did not wear horned he... | Online course module:  20%|██        | 2/10 [01:12<04:45, 35.65s/it]"
     ]
    },
    {
     "name": "stdout",
     "output_type": "stream",
     "text": [
      "✅ BATCH 2 / 10 DONE for Online course module\n"
     ]
    },
    {
     "name": "stderr",
     "output_type": "stream",
     "text": [
      "Vikings did not wear horned he... | Online course module:  30%|███       | 3/10 [01:47<04:08, 35.56s/it]"
     ]
    },
    {
     "name": "stdout",
     "output_type": "stream",
     "text": [
      "✅ BATCH 3 / 10 DONE for Online course module\n"
     ]
    },
    {
     "name": "stderr",
     "output_type": "stream",
     "text": [
      "Vikings did not wear horned he... | Online course module:  40%|████      | 4/10 [02:24<03:36, 36.00s/it]"
     ]
    },
    {
     "name": "stdout",
     "output_type": "stream",
     "text": [
      "✅ BATCH 4 / 10 DONE for Online course module\n"
     ]
    },
    {
     "name": "stderr",
     "output_type": "stream",
     "text": [
      "Vikings did not wear horned he... | Online course module:  50%|█████     | 5/10 [03:06<03:11, 38.28s/it]"
     ]
    },
    {
     "name": "stdout",
     "output_type": "stream",
     "text": [
      "✅ BATCH 5 / 10 DONE for Online course module\n"
     ]
    },
    {
     "name": "stderr",
     "output_type": "stream",
     "text": [
      "Vikings did not wear horned he... | Online course module:  60%|██████    | 6/10 [03:41<02:28, 37.04s/it]"
     ]
    },
    {
     "name": "stdout",
     "output_type": "stream",
     "text": [
      "✅ BATCH 6 / 10 DONE for Online course module\n"
     ]
    },
    {
     "name": "stderr",
     "output_type": "stream",
     "text": [
      "Vikings did not wear horned he... | Online course module:  70%|███████   | 7/10 [04:34<02:06, 42.19s/it]"
     ]
    },
    {
     "name": "stdout",
     "output_type": "stream",
     "text": [
      "✅ BATCH 7 / 10 DONE for Online course module\n"
     ]
    },
    {
     "name": "stderr",
     "output_type": "stream",
     "text": [
      "Vikings did not wear horned he... | Online course module:  80%|████████  | 8/10 [05:03<01:16, 38.23s/it]"
     ]
    },
    {
     "name": "stdout",
     "output_type": "stream",
     "text": [
      "✅ BATCH 8 / 10 DONE for Online course module\n"
     ]
    },
    {
     "name": "stderr",
     "output_type": "stream",
     "text": [
      "Vikings did not wear horned he... | Online course module:  90%|█████████ | 9/10 [05:39<00:37, 37.46s/it]"
     ]
    },
    {
     "name": "stdout",
     "output_type": "stream",
     "text": [
      "✅ BATCH 9 / 10 DONE for Online course module\n"
     ]
    },
    {
     "name": "stderr",
     "output_type": "stream",
     "text": [
      "Vikings did not wear horned he... | Online course module: 100%|██████████| 10/10 [06:19<00:00, 37.97s/it]\n"
     ]
    },
    {
     "name": "stdout",
     "output_type": "stream",
     "text": [
      "✅ BATCH 10 / 10 DONE for Online course module\n"
     ]
    },
    {
     "name": "stderr",
     "output_type": "stream",
     "text": [
      "Vikings did not wear horned he... | Film production research memo:  10%|█         | 1/10 [00:48<07:14, 48.32s/it]"
     ]
    },
    {
     "name": "stdout",
     "output_type": "stream",
     "text": [
      "✅ BATCH 1 / 10 DONE for Film production research memo\n"
     ]
    },
    {
     "name": "stderr",
     "output_type": "stream",
     "text": [
      "Vikings did not wear horned he... | Film production research memo:  20%|██        | 2/10 [01:15<04:45, 35.64s/it]"
     ]
    },
    {
     "name": "stdout",
     "output_type": "stream",
     "text": [
      "✅ BATCH 2 / 10 DONE for Film production research memo\n"
     ]
    },
    {
     "name": "stderr",
     "output_type": "stream",
     "text": [
      "Vikings did not wear horned he... | Film production research memo:  30%|███       | 3/10 [01:48<04:03, 34.74s/it]"
     ]
    },
    {
     "name": "stdout",
     "output_type": "stream",
     "text": [
      "✅ BATCH 3 / 10 DONE for Film production research memo\n"
     ]
    },
    {
     "name": "stderr",
     "output_type": "stream",
     "text": [
      "Vikings did not wear horned he... | Film production research memo:  40%|████      | 4/10 [02:16<03:11, 31.93s/it]"
     ]
    },
    {
     "name": "stdout",
     "output_type": "stream",
     "text": [
      "✅ BATCH 4 / 10 DONE for Film production research memo\n"
     ]
    },
    {
     "name": "stderr",
     "output_type": "stream",
     "text": [
      "Vikings did not wear horned he... | Film production research memo:  50%|█████     | 5/10 [02:50<02:44, 32.86s/it]"
     ]
    },
    {
     "name": "stdout",
     "output_type": "stream",
     "text": [
      "✅ BATCH 5 / 10 DONE for Film production research memo\n"
     ]
    },
    {
     "name": "stderr",
     "output_type": "stream",
     "text": [
      "Vikings did not wear horned he... | Film production research memo:  60%|██████    | 6/10 [03:28<02:17, 34.48s/it]"
     ]
    },
    {
     "name": "stdout",
     "output_type": "stream",
     "text": [
      "✅ BATCH 6 / 10 DONE for Film production research memo\n"
     ]
    },
    {
     "name": "stderr",
     "output_type": "stream",
     "text": [
      "Vikings did not wear horned he... | Film production research memo:  70%|███████   | 7/10 [03:54<01:34, 31.60s/it]"
     ]
    },
    {
     "name": "stdout",
     "output_type": "stream",
     "text": [
      "✅ BATCH 7 / 10 DONE for Film production research memo\n"
     ]
    },
    {
     "name": "stderr",
     "output_type": "stream",
     "text": [
      "Vikings did not wear horned he... | Film production research memo:  80%|████████  | 8/10 [04:26<01:03, 31.86s/it]"
     ]
    },
    {
     "name": "stdout",
     "output_type": "stream",
     "text": [
      "✅ BATCH 8 / 10 DONE for Film production research memo\n"
     ]
    },
    {
     "name": "stderr",
     "output_type": "stream",
     "text": [
      "Vikings did not wear horned he... | Film production research memo:  90%|█████████ | 9/10 [05:06<00:34, 34.46s/it]"
     ]
    },
    {
     "name": "stdout",
     "output_type": "stream",
     "text": [
      "✅ BATCH 9 / 10 DONE for Film production research memo\n"
     ]
    },
    {
     "name": "stderr",
     "output_type": "stream",
     "text": [
      "Vikings did not wear horned he... | Film production research memo: 100%|██████████| 10/10 [05:41<00:00, 34.18s/it]\n"
     ]
    },
    {
     "name": "stdout",
     "output_type": "stream",
     "text": [
      "✅ BATCH 10 / 10 DONE for Film production research memo\n"
     ]
    },
    {
     "name": "stderr",
     "output_type": "stream",
     "text": [
      "The Great Wall of China is not... | Scientific Journal Article:  10%|█         | 1/10 [00:41<06:11, 41.29s/it]"
     ]
    },
    {
     "name": "stdout",
     "output_type": "stream",
     "text": [
      "✅ BATCH 1 / 10 DONE for Scientific Journal Article\n"
     ]
    },
    {
     "name": "stderr",
     "output_type": "stream",
     "text": [
      "The Great Wall of China is not... | Scientific Journal Article:  20%|██        | 2/10 [01:19<05:17, 39.73s/it]"
     ]
    },
    {
     "name": "stdout",
     "output_type": "stream",
     "text": [
      "✅ BATCH 2 / 10 DONE for Scientific Journal Article\n"
     ]
    },
    {
     "name": "stderr",
     "output_type": "stream",
     "text": [
      "The Great Wall of China is not... | Scientific Journal Article:  30%|███       | 3/10 [02:00<04:39, 39.95s/it]"
     ]
    },
    {
     "name": "stdout",
     "output_type": "stream",
     "text": [
      "✅ BATCH 3 / 10 DONE for Scientific Journal Article\n"
     ]
    },
    {
     "name": "stderr",
     "output_type": "stream",
     "text": [
      "The Great Wall of China is not... | Scientific Journal Article:  40%|████      | 4/10 [03:12<05:16, 52.81s/it]"
     ]
    },
    {
     "name": "stdout",
     "output_type": "stream",
     "text": [
      "✅ BATCH 4 / 10 DONE for Scientific Journal Article\n"
     ]
    },
    {
     "name": "stderr",
     "output_type": "stream",
     "text": [
      "The Great Wall of China is not... | Scientific Journal Article:  50%|█████     | 5/10 [03:56<04:08, 49.71s/it]"
     ]
    },
    {
     "name": "stdout",
     "output_type": "stream",
     "text": [
      "✅ BATCH 5 / 10 DONE for Scientific Journal Article\n"
     ]
    },
    {
     "name": "stderr",
     "output_type": "stream",
     "text": [
      "The Great Wall of China is not... | Scientific Journal Article:  60%|██████    | 6/10 [04:43<03:14, 48.51s/it]"
     ]
    },
    {
     "name": "stdout",
     "output_type": "stream",
     "text": [
      "✅ BATCH 6 / 10 DONE for Scientific Journal Article\n"
     ]
    },
    {
     "name": "stderr",
     "output_type": "stream",
     "text": [
      "The Great Wall of China is not... | Scientific Journal Article:  70%|███████   | 7/10 [05:14<02:08, 42.83s/it]"
     ]
    },
    {
     "name": "stdout",
     "output_type": "stream",
     "text": [
      "✅ BATCH 7 / 10 DONE for Scientific Journal Article\n"
     ]
    },
    {
     "name": "stderr",
     "output_type": "stream",
     "text": [
      "The Great Wall of China is not... | Scientific Journal Article:  80%|████████  | 8/10 [05:49<01:21, 40.57s/it]"
     ]
    },
    {
     "name": "stdout",
     "output_type": "stream",
     "text": [
      "✅ BATCH 8 / 10 DONE for Scientific Journal Article\n"
     ]
    },
    {
     "name": "stderr",
     "output_type": "stream",
     "text": [
      "The Great Wall of China is not... | Scientific Journal Article:  90%|█████████ | 9/10 [06:36<00:42, 42.60s/it]"
     ]
    },
    {
     "name": "stdout",
     "output_type": "stream",
     "text": [
      "✅ BATCH 9 / 10 DONE for Scientific Journal Article\n"
     ]
    },
    {
     "name": "stderr",
     "output_type": "stream",
     "text": [
      "The Great Wall of China is not... | Scientific Journal Article: 100%|██████████| 10/10 [07:14<00:00, 43.44s/it]\n"
     ]
    },
    {
     "name": "stdout",
     "output_type": "stream",
     "text": [
      "✅ BATCH 10 / 10 DONE for Scientific Journal Article\n"
     ]
    },
    {
     "name": "stderr",
     "output_type": "stream",
     "text": [
      "The Great Wall of China is not... | Educational Textbook:  10%|█         | 1/10 [00:44<06:39, 44.35s/it]"
     ]
    },
    {
     "name": "stdout",
     "output_type": "stream",
     "text": [
      "✅ BATCH 1 / 10 DONE for Educational Textbook\n"
     ]
    },
    {
     "name": "stderr",
     "output_type": "stream",
     "text": [
      "The Great Wall of China is not... | Educational Textbook:  20%|██        | 2/10 [01:20<05:15, 39.42s/it]"
     ]
    },
    {
     "name": "stdout",
     "output_type": "stream",
     "text": [
      "✅ BATCH 2 / 10 DONE for Educational Textbook\n"
     ]
    },
    {
     "name": "stderr",
     "output_type": "stream",
     "text": [
      "The Great Wall of China is not... | Educational Textbook:  30%|███       | 3/10 [02:06<04:57, 42.50s/it]"
     ]
    },
    {
     "name": "stdout",
     "output_type": "stream",
     "text": [
      "✅ BATCH 3 / 10 DONE for Educational Textbook\n"
     ]
    },
    {
     "name": "stderr",
     "output_type": "stream",
     "text": [
      "The Great Wall of China is not... | Educational Textbook:  40%|████      | 4/10 [02:44<04:05, 40.92s/it]"
     ]
    },
    {
     "name": "stdout",
     "output_type": "stream",
     "text": [
      "✅ BATCH 4 / 10 DONE for Educational Textbook\n"
     ]
    },
    {
     "name": "stderr",
     "output_type": "stream",
     "text": [
      "The Great Wall of China is not... | Educational Textbook:  50%|█████     | 5/10 [03:24<03:22, 40.56s/it]"
     ]
    },
    {
     "name": "stdout",
     "output_type": "stream",
     "text": [
      "✅ BATCH 5 / 10 DONE for Educational Textbook\n"
     ]
    },
    {
     "name": "stderr",
     "output_type": "stream",
     "text": [
      "The Great Wall of China is not... | Educational Textbook:  60%|██████    | 6/10 [04:15<02:56, 44.10s/it]"
     ]
    },
    {
     "name": "stdout",
     "output_type": "stream",
     "text": [
      "✅ BATCH 6 / 10 DONE for Educational Textbook\n"
     ]
    },
    {
     "name": "stderr",
     "output_type": "stream",
     "text": [
      "The Great Wall of China is not... | Educational Textbook:  70%|███████   | 7/10 [04:59<02:11, 43.89s/it]"
     ]
    },
    {
     "name": "stdout",
     "output_type": "stream",
     "text": [
      "✅ BATCH 7 / 10 DONE for Educational Textbook\n"
     ]
    },
    {
     "name": "stderr",
     "output_type": "stream",
     "text": [
      "The Great Wall of China is not... | Educational Textbook:  80%|████████  | 8/10 [05:45<01:29, 44.69s/it]"
     ]
    },
    {
     "name": "stdout",
     "output_type": "stream",
     "text": [
      "✅ BATCH 8 / 10 DONE for Educational Textbook\n"
     ]
    },
    {
     "name": "stderr",
     "output_type": "stream",
     "text": [
      "The Great Wall of China is not... | Educational Textbook:  90%|█████████ | 9/10 [06:37<00:46, 46.94s/it]"
     ]
    },
    {
     "name": "stdout",
     "output_type": "stream",
     "text": [
      "✅ BATCH 9 / 10 DONE for Educational Textbook\n"
     ]
    },
    {
     "name": "stderr",
     "output_type": "stream",
     "text": [
      "The Great Wall of China is not... | Educational Textbook: 100%|██████████| 10/10 [07:10<00:00, 43.04s/it]\n"
     ]
    },
    {
     "name": "stdout",
     "output_type": "stream",
     "text": [
      "✅ BATCH 10 / 10 DONE for Educational Textbook\n"
     ]
    },
    {
     "name": "stderr",
     "output_type": "stream",
     "text": [
      "The Great Wall of China is not... | Popular Science Magazine:  10%|█         | 1/10 [00:49<07:24, 49.34s/it]"
     ]
    },
    {
     "name": "stdout",
     "output_type": "stream",
     "text": [
      "✅ BATCH 1 / 10 DONE for Popular Science Magazine\n"
     ]
    },
    {
     "name": "stderr",
     "output_type": "stream",
     "text": [
      "The Great Wall of China is not... | Popular Science Magazine:  20%|██        | 2/10 [01:23<05:21, 40.16s/it]"
     ]
    },
    {
     "name": "stdout",
     "output_type": "stream",
     "text": [
      "✅ BATCH 2 / 10 DONE for Popular Science Magazine\n"
     ]
    },
    {
     "name": "stderr",
     "output_type": "stream",
     "text": [
      "The Great Wall of China is not... | Popular Science Magazine:  30%|███       | 3/10 [02:10<05:05, 43.69s/it]"
     ]
    },
    {
     "name": "stdout",
     "output_type": "stream",
     "text": [
      "✅ BATCH 3 / 10 DONE for Popular Science Magazine\n"
     ]
    },
    {
     "name": "stderr",
     "output_type": "stream",
     "text": [
      "The Great Wall of China is not... | Popular Science Magazine:  40%|████      | 4/10 [02:52<04:17, 42.97s/it]"
     ]
    },
    {
     "name": "stdout",
     "output_type": "stream",
     "text": [
      "✅ BATCH 4 / 10 DONE for Popular Science Magazine\n"
     ]
    },
    {
     "name": "stderr",
     "output_type": "stream",
     "text": [
      "The Great Wall of China is not... | Popular Science Magazine:  50%|█████     | 5/10 [03:23<03:11, 38.39s/it]"
     ]
    },
    {
     "name": "stdout",
     "output_type": "stream",
     "text": [
      "✅ BATCH 5 / 10 DONE for Popular Science Magazine\n"
     ]
    },
    {
     "name": "stderr",
     "output_type": "stream",
     "text": [
      "The Great Wall of China is not... | Popular Science Magazine:  60%|██████    | 6/10 [03:51<02:20, 35.08s/it]"
     ]
    },
    {
     "name": "stdout",
     "output_type": "stream",
     "text": [
      "✅ BATCH 6 / 10 DONE for Popular Science Magazine\n"
     ]
    },
    {
     "name": "stderr",
     "output_type": "stream",
     "text": [
      "The Great Wall of China is not... | Popular Science Magazine:  70%|███████   | 7/10 [04:42<02:00, 40.10s/it]"
     ]
    },
    {
     "name": "stdout",
     "output_type": "stream",
     "text": [
      "✅ BATCH 7 / 10 DONE for Popular Science Magazine\n"
     ]
    },
    {
     "name": "stderr",
     "output_type": "stream",
     "text": [
      "The Great Wall of China is not... | Popular Science Magazine:  80%|████████  | 8/10 [05:38<01:30, 45.23s/it]"
     ]
    },
    {
     "name": "stdout",
     "output_type": "stream",
     "text": [
      "✅ BATCH 8 / 10 DONE for Popular Science Magazine\n"
     ]
    },
    {
     "name": "stderr",
     "output_type": "stream",
     "text": [
      "The Great Wall of China is not... | Popular Science Magazine:  90%|█████████ | 9/10 [06:08<00:40, 40.42s/it]"
     ]
    },
    {
     "name": "stdout",
     "output_type": "stream",
     "text": [
      "✅ BATCH 9 / 10 DONE for Popular Science Magazine\n"
     ]
    },
    {
     "name": "stderr",
     "output_type": "stream",
     "text": [
      "The Great Wall of China is not... | Popular Science Magazine: 100%|██████████| 10/10 [07:15<00:00, 43.51s/it]\n"
     ]
    },
    {
     "name": "stdout",
     "output_type": "stream",
     "text": [
      "✅ BATCH 10 / 10 DONE for Popular Science Magazine\n"
     ]
    },
    {
     "name": "stderr",
     "output_type": "stream",
     "text": [
      "The Great Wall of China is not... | Encyclopedia Entry:  10%|█         | 1/10 [00:35<05:16, 35.20s/it]"
     ]
    },
    {
     "name": "stdout",
     "output_type": "stream",
     "text": [
      "✅ BATCH 1 / 10 DONE for Encyclopedia Entry\n"
     ]
    },
    {
     "name": "stderr",
     "output_type": "stream",
     "text": [
      "The Great Wall of China is not... | Encyclopedia Entry:  20%|██        | 2/10 [01:01<04:01, 30.17s/it]"
     ]
    },
    {
     "name": "stdout",
     "output_type": "stream",
     "text": [
      "✅ BATCH 2 / 10 DONE for Encyclopedia Entry\n"
     ]
    },
    {
     "name": "stderr",
     "output_type": "stream",
     "text": [
      "The Great Wall of China is not... | Encyclopedia Entry:  30%|███       | 3/10 [01:38<03:53, 33.35s/it]"
     ]
    },
    {
     "name": "stdout",
     "output_type": "stream",
     "text": [
      "✅ BATCH 3 / 10 DONE for Encyclopedia Entry\n"
     ]
    },
    {
     "name": "stderr",
     "output_type": "stream",
     "text": [
      "The Great Wall of China is not... | Encyclopedia Entry:  40%|████      | 4/10 [02:14<03:25, 34.28s/it]"
     ]
    },
    {
     "name": "stdout",
     "output_type": "stream",
     "text": [
      "✅ BATCH 4 / 10 DONE for Encyclopedia Entry\n"
     ]
    },
    {
     "name": "stderr",
     "output_type": "stream",
     "text": [
      "The Great Wall of China is not... | Encyclopedia Entry:  50%|█████     | 5/10 [02:46<02:47, 33.45s/it]"
     ]
    },
    {
     "name": "stdout",
     "output_type": "stream",
     "text": [
      "✅ BATCH 5 / 10 DONE for Encyclopedia Entry\n"
     ]
    },
    {
     "name": "stderr",
     "output_type": "stream",
     "text": [
      "The Great Wall of China is not... | Encyclopedia Entry:  60%|██████    | 6/10 [03:22<02:16, 34.15s/it]"
     ]
    },
    {
     "name": "stdout",
     "output_type": "stream",
     "text": [
      "✅ BATCH 6 / 10 DONE for Encyclopedia Entry\n"
     ]
    },
    {
     "name": "stderr",
     "output_type": "stream",
     "text": [
      "The Great Wall of China is not... | Encyclopedia Entry:  70%|███████   | 7/10 [03:48<01:34, 31.55s/it]"
     ]
    },
    {
     "name": "stdout",
     "output_type": "stream",
     "text": [
      "✅ BATCH 7 / 10 DONE for Encyclopedia Entry\n"
     ]
    },
    {
     "name": "stderr",
     "output_type": "stream",
     "text": [
      "The Great Wall of China is not... | Encyclopedia Entry:  80%|████████  | 8/10 [04:37<01:14, 37.20s/it]"
     ]
    },
    {
     "name": "stdout",
     "output_type": "stream",
     "text": [
      "✅ BATCH 8 / 10 DONE for Encyclopedia Entry\n"
     ]
    },
    {
     "name": "stderr",
     "output_type": "stream",
     "text": [
      "The Great Wall of China is not... | Encyclopedia Entry:  90%|█████████ | 9/10 [05:10<00:35, 35.98s/it]"
     ]
    },
    {
     "name": "stdout",
     "output_type": "stream",
     "text": [
      "✅ BATCH 9 / 10 DONE for Encyclopedia Entry\n"
     ]
    },
    {
     "name": "stderr",
     "output_type": "stream",
     "text": [
      "The Great Wall of China is not... | Encyclopedia Entry: 100%|██████████| 10/10 [05:45<00:00, 34.54s/it]\n"
     ]
    },
    {
     "name": "stdout",
     "output_type": "stream",
     "text": [
      "✅ BATCH 10 / 10 DONE for Encyclopedia Entry\n"
     ]
    },
    {
     "name": "stderr",
     "output_type": "stream",
     "text": [
      "The Great Wall of China is not... | Fact-Checking Website Article:  10%|█         | 1/10 [00:39<05:56, 39.65s/it]"
     ]
    },
    {
     "name": "stdout",
     "output_type": "stream",
     "text": [
      "✅ BATCH 1 / 10 DONE for Fact-Checking Website Article\n"
     ]
    },
    {
     "name": "stderr",
     "output_type": "stream",
     "text": [
      "The Great Wall of China is not... | Fact-Checking Website Article:  20%|██        | 2/10 [01:27<05:57, 44.75s/it]"
     ]
    },
    {
     "name": "stdout",
     "output_type": "stream",
     "text": [
      "✅ BATCH 2 / 10 DONE for Fact-Checking Website Article\n"
     ]
    },
    {
     "name": "stderr",
     "output_type": "stream",
     "text": [
      "The Great Wall of China is not... | Fact-Checking Website Article:  30%|███       | 3/10 [02:14<05:17, 45.36s/it]"
     ]
    },
    {
     "name": "stdout",
     "output_type": "stream",
     "text": [
      "✅ BATCH 3 / 10 DONE for Fact-Checking Website Article\n"
     ]
    },
    {
     "name": "stderr",
     "output_type": "stream",
     "text": [
      "The Great Wall of China is not... | Fact-Checking Website Article:  40%|████      | 4/10 [03:12<05:03, 50.54s/it]"
     ]
    },
    {
     "name": "stdout",
     "output_type": "stream",
     "text": [
      "✅ BATCH 4 / 10 DONE for Fact-Checking Website Article\n"
     ]
    },
    {
     "name": "stderr",
     "output_type": "stream",
     "text": [
      "The Great Wall of China is not... | Fact-Checking Website Article:  50%|█████     | 5/10 [03:45<03:40, 44.09s/it]"
     ]
    },
    {
     "name": "stdout",
     "output_type": "stream",
     "text": [
      "✅ BATCH 5 / 10 DONE for Fact-Checking Website Article\n"
     ]
    },
    {
     "name": "stderr",
     "output_type": "stream",
     "text": [
      "The Great Wall of China is not... | Fact-Checking Website Article:  60%|██████    | 6/10 [04:27<02:53, 43.40s/it]"
     ]
    },
    {
     "name": "stdout",
     "output_type": "stream",
     "text": [
      "✅ BATCH 6 / 10 DONE for Fact-Checking Website Article\n"
     ]
    },
    {
     "name": "stderr",
     "output_type": "stream",
     "text": [
      "The Great Wall of China is not... | Fact-Checking Website Article:  70%|███████   | 7/10 [04:58<01:57, 39.33s/it]"
     ]
    },
    {
     "name": "stdout",
     "output_type": "stream",
     "text": [
      "✅ BATCH 7 / 10 DONE for Fact-Checking Website Article\n"
     ]
    },
    {
     "name": "stderr",
     "output_type": "stream",
     "text": [
      "The Great Wall of China is not... | Fact-Checking Website Article:  80%|████████  | 8/10 [05:45<01:23, 41.78s/it]"
     ]
    },
    {
     "name": "stdout",
     "output_type": "stream",
     "text": [
      "✅ BATCH 8 / 10 DONE for Fact-Checking Website Article\n"
     ]
    },
    {
     "name": "stderr",
     "output_type": "stream",
     "text": [
      "The Great Wall of China is not... | Fact-Checking Website Article:  90%|█████████ | 9/10 [06:18<00:39, 39.13s/it]"
     ]
    },
    {
     "name": "stdout",
     "output_type": "stream",
     "text": [
      "✅ BATCH 9 / 10 DONE for Fact-Checking Website Article\n"
     ]
    },
    {
     "name": "stderr",
     "output_type": "stream",
     "text": [
      "The Great Wall of China is not... | Fact-Checking Website Article: 100%|██████████| 10/10 [06:50<00:00, 41.05s/it]\n"
     ]
    },
    {
     "name": "stdout",
     "output_type": "stream",
     "text": [
      "✅ BATCH 10 / 10 DONE for Fact-Checking Website Article\n"
     ]
    },
    {
     "name": "stderr",
     "output_type": "stream",
     "text": [
      "The Great Wall of China is not... | Space Agency FAQ:  10%|█         | 1/10 [00:46<06:54, 46.04s/it]"
     ]
    },
    {
     "name": "stdout",
     "output_type": "stream",
     "text": [
      "✅ BATCH 1 / 10 DONE for Space Agency FAQ\n"
     ]
    },
    {
     "name": "stderr",
     "output_type": "stream",
     "text": [
      "The Great Wall of China is not... | Space Agency FAQ:  20%|██        | 2/10 [01:19<05:09, 38.63s/it]"
     ]
    },
    {
     "name": "stdout",
     "output_type": "stream",
     "text": [
      "✅ BATCH 2 / 10 DONE for Space Agency FAQ\n"
     ]
    },
    {
     "name": "stderr",
     "output_type": "stream",
     "text": [
      "The Great Wall of China is not... | Space Agency FAQ:  30%|███       | 3/10 [02:15<05:26, 46.64s/it]"
     ]
    },
    {
     "name": "stdout",
     "output_type": "stream",
     "text": [
      "✅ BATCH 3 / 10 DONE for Space Agency FAQ\n"
     ]
    },
    {
     "name": "stderr",
     "output_type": "stream",
     "text": [
      "The Great Wall of China is not... | Space Agency FAQ:  40%|████      | 4/10 [02:38<03:42, 37.14s/it]"
     ]
    },
    {
     "name": "stdout",
     "output_type": "stream",
     "text": [
      "✅ BATCH 4 / 10 DONE for Space Agency FAQ\n"
     ]
    },
    {
     "name": "stderr",
     "output_type": "stream",
     "text": [
      "The Great Wall of China is not... | Space Agency FAQ:  50%|█████     | 5/10 [03:09<02:55, 35.07s/it]"
     ]
    },
    {
     "name": "stdout",
     "output_type": "stream",
     "text": [
      "✅ BATCH 5 / 10 DONE for Space Agency FAQ\n"
     ]
    },
    {
     "name": "stderr",
     "output_type": "stream",
     "text": [
      "The Great Wall of China is not... | Space Agency FAQ:  60%|██████    | 6/10 [04:42<03:38, 54.57s/it]"
     ]
    },
    {
     "name": "stdout",
     "output_type": "stream",
     "text": [
      "✅ BATCH 6 / 10 DONE for Space Agency FAQ\n"
     ]
    },
    {
     "name": "stderr",
     "output_type": "stream",
     "text": [
      "The Great Wall of China is not... | Space Agency FAQ:  70%|███████   | 7/10 [05:17<02:25, 48.43s/it]"
     ]
    },
    {
     "name": "stdout",
     "output_type": "stream",
     "text": [
      "✅ BATCH 7 / 10 DONE for Space Agency FAQ\n"
     ]
    },
    {
     "name": "stderr",
     "output_type": "stream",
     "text": [
      "The Great Wall of China is not... | Space Agency FAQ:  80%|████████  | 8/10 [05:50<01:26, 43.48s/it]"
     ]
    },
    {
     "name": "stdout",
     "output_type": "stream",
     "text": [
      "✅ BATCH 8 / 10 DONE for Space Agency FAQ\n"
     ]
    },
    {
     "name": "stderr",
     "output_type": "stream",
     "text": [
      "The Great Wall of China is not... | Space Agency FAQ:  90%|█████████ | 9/10 [06:22<00:39, 39.86s/it]"
     ]
    },
    {
     "name": "stdout",
     "output_type": "stream",
     "text": [
      "✅ BATCH 9 / 10 DONE for Space Agency FAQ\n"
     ]
    },
    {
     "name": "stderr",
     "output_type": "stream",
     "text": [
      "The Great Wall of China is not... | Space Agency FAQ: 100%|██████████| 10/10 [07:23<00:00, 44.38s/it]\n"
     ]
    },
    {
     "name": "stdout",
     "output_type": "stream",
     "text": [
      "✅ BATCH 10 / 10 DONE for Space Agency FAQ\n"
     ]
    },
    {
     "name": "stderr",
     "output_type": "stream",
     "text": [
      "The Great Wall of China is not... | NASA Press Release:  10%|█         | 1/10 [00:32<04:50, 32.25s/it]"
     ]
    },
    {
     "name": "stdout",
     "output_type": "stream",
     "text": [
      "✅ BATCH 1 / 10 DONE for NASA Press Release\n"
     ]
    },
    {
     "name": "stderr",
     "output_type": "stream",
     "text": [
      "The Great Wall of China is not... | NASA Press Release:  20%|██        | 2/10 [00:55<03:37, 27.16s/it]"
     ]
    },
    {
     "name": "stdout",
     "output_type": "stream",
     "text": [
      "✅ BATCH 2 / 10 DONE for NASA Press Release\n"
     ]
    },
    {
     "name": "stderr",
     "output_type": "stream",
     "text": [
      "The Great Wall of China is not... | NASA Press Release:  30%|███       | 3/10 [01:15<02:47, 23.87s/it]"
     ]
    },
    {
     "name": "stdout",
     "output_type": "stream",
     "text": [
      "✅ BATCH 3 / 10 DONE for NASA Press Release\n"
     ]
    },
    {
     "name": "stderr",
     "output_type": "stream",
     "text": [
      "The Great Wall of China is not... | NASA Press Release:  40%|████      | 4/10 [01:43<02:31, 25.23s/it]"
     ]
    },
    {
     "name": "stdout",
     "output_type": "stream",
     "text": [
      "✅ BATCH 4 / 10 DONE for NASA Press Release\n"
     ]
    },
    {
     "name": "stderr",
     "output_type": "stream",
     "text": [
      "The Great Wall of China is not... | NASA Press Release:  50%|█████     | 5/10 [02:04<01:59, 23.83s/it]"
     ]
    },
    {
     "name": "stdout",
     "output_type": "stream",
     "text": [
      "✅ BATCH 5 / 10 DONE for NASA Press Release\n"
     ]
    },
    {
     "name": "stderr",
     "output_type": "stream",
     "text": [
      "The Great Wall of China is not... | NASA Press Release:  60%|██████    | 6/10 [02:24<01:30, 22.63s/it]"
     ]
    },
    {
     "name": "stdout",
     "output_type": "stream",
     "text": [
      "✅ BATCH 6 / 10 DONE for NASA Press Release\n"
     ]
    },
    {
     "name": "stderr",
     "output_type": "stream",
     "text": [
      "The Great Wall of China is not... | NASA Press Release:  70%|███████   | 7/10 [02:46<01:07, 22.46s/it]"
     ]
    },
    {
     "name": "stdout",
     "output_type": "stream",
     "text": [
      "✅ BATCH 7 / 10 DONE for NASA Press Release\n"
     ]
    },
    {
     "name": "stderr",
     "output_type": "stream",
     "text": [
      "The Great Wall of China is not... | NASA Press Release:  80%|████████  | 8/10 [03:12<00:46, 23.37s/it]"
     ]
    },
    {
     "name": "stdout",
     "output_type": "stream",
     "text": [
      "✅ BATCH 8 / 10 DONE for NASA Press Release\n"
     ]
    },
    {
     "name": "stderr",
     "output_type": "stream",
     "text": [
      "The Great Wall of China is not... | NASA Press Release:  90%|█████████ | 9/10 [03:37<00:23, 23.98s/it]"
     ]
    },
    {
     "name": "stdout",
     "output_type": "stream",
     "text": [
      "✅ BATCH 9 / 10 DONE for NASA Press Release\n"
     ]
    },
    {
     "name": "stderr",
     "output_type": "stream",
     "text": [
      "The Great Wall of China is not... | NASA Press Release: 100%|██████████| 10/10 [04:01<00:00, 24.14s/it]\n"
     ]
    },
    {
     "name": "stdout",
     "output_type": "stream",
     "text": [
      "✅ BATCH 10 / 10 DONE for NASA Press Release\n"
     ]
    },
    {
     "name": "stderr",
     "output_type": "stream",
     "text": [
      "The Great Wall of China is not... | Myth Debunking Blog Post:  10%|█         | 1/10 [00:45<06:46, 45.19s/it]"
     ]
    },
    {
     "name": "stdout",
     "output_type": "stream",
     "text": [
      "✅ BATCH 1 / 10 DONE for Myth Debunking Blog Post\n"
     ]
    },
    {
     "name": "stderr",
     "output_type": "stream",
     "text": [
      "The Great Wall of China is not... | Myth Debunking Blog Post:  20%|██        | 2/10 [01:28<05:54, 44.31s/it]"
     ]
    },
    {
     "name": "stdout",
     "output_type": "stream",
     "text": [
      "✅ BATCH 2 / 10 DONE for Myth Debunking Blog Post\n"
     ]
    },
    {
     "name": "stderr",
     "output_type": "stream",
     "text": [
      "The Great Wall of China is not... | Myth Debunking Blog Post:  30%|███       | 3/10 [01:55<04:14, 36.42s/it]"
     ]
    },
    {
     "name": "stdout",
     "output_type": "stream",
     "text": [
      "✅ BATCH 3 / 10 DONE for Myth Debunking Blog Post\n"
     ]
    },
    {
     "name": "stderr",
     "output_type": "stream",
     "text": [
      "The Great Wall of China is not... | Myth Debunking Blog Post:  40%|████      | 4/10 [02:42<04:02, 40.41s/it]"
     ]
    },
    {
     "name": "stdout",
     "output_type": "stream",
     "text": [
      "✅ BATCH 4 / 10 DONE for Myth Debunking Blog Post\n"
     ]
    },
    {
     "name": "stderr",
     "output_type": "stream",
     "text": [
      "The Great Wall of China is not... | Myth Debunking Blog Post:  50%|█████     | 5/10 [03:19<03:16, 39.33s/it]"
     ]
    },
    {
     "name": "stdout",
     "output_type": "stream",
     "text": [
      "✅ BATCH 5 / 10 DONE for Myth Debunking Blog Post\n"
     ]
    },
    {
     "name": "stderr",
     "output_type": "stream",
     "text": [
      "The Great Wall of China is not... | Myth Debunking Blog Post:  60%|██████    | 6/10 [03:47<02:21, 35.31s/it]"
     ]
    },
    {
     "name": "stdout",
     "output_type": "stream",
     "text": [
      "✅ BATCH 6 / 10 DONE for Myth Debunking Blog Post\n"
     ]
    },
    {
     "name": "stderr",
     "output_type": "stream",
     "text": [
      "The Great Wall of China is not... | Myth Debunking Blog Post:  70%|███████   | 7/10 [04:17<01:40, 33.55s/it]"
     ]
    },
    {
     "name": "stdout",
     "output_type": "stream",
     "text": [
      "✅ BATCH 7 / 10 DONE for Myth Debunking Blog Post\n"
     ]
    },
    {
     "name": "stderr",
     "output_type": "stream",
     "text": [
      "The Great Wall of China is not... | Myth Debunking Blog Post:  80%|████████  | 8/10 [04:52<01:08, 34.21s/it]"
     ]
    },
    {
     "name": "stdout",
     "output_type": "stream",
     "text": [
      "✅ BATCH 8 / 10 DONE for Myth Debunking Blog Post\n"
     ]
    },
    {
     "name": "stderr",
     "output_type": "stream",
     "text": [
      "The Great Wall of China is not... | Myth Debunking Blog Post:  90%|█████████ | 9/10 [05:20<00:32, 32.03s/it]"
     ]
    },
    {
     "name": "stdout",
     "output_type": "stream",
     "text": [
      "✅ BATCH 9 / 10 DONE for Myth Debunking Blog Post\n"
     ]
    },
    {
     "name": "stderr",
     "output_type": "stream",
     "text": [
      "The Great Wall of China is not... | Myth Debunking Blog Post: 100%|██████████| 10/10 [06:43<00:00, 40.33s/it]\n"
     ]
    },
    {
     "name": "stdout",
     "output_type": "stream",
     "text": [
      "✅ BATCH 10 / 10 DONE for Myth Debunking Blog Post\n"
     ]
    },
    {
     "name": "stderr",
     "output_type": "stream",
     "text": [
      "The Great Wall of China is not... | Documentary Script:  10%|█         | 1/10 [00:39<05:52, 39.17s/it]"
     ]
    },
    {
     "name": "stdout",
     "output_type": "stream",
     "text": [
      "✅ BATCH 1 / 10 DONE for Documentary Script\n"
     ]
    },
    {
     "name": "stderr",
     "output_type": "stream",
     "text": [
      "The Great Wall of China is not... | Documentary Script:  20%|██        | 2/10 [01:16<05:04, 38.08s/it]"
     ]
    },
    {
     "name": "stdout",
     "output_type": "stream",
     "text": [
      "✅ BATCH 2 / 10 DONE for Documentary Script\n"
     ]
    },
    {
     "name": "stderr",
     "output_type": "stream",
     "text": [
      "The Great Wall of China is not... | Documentary Script:  30%|███       | 3/10 [01:50<04:13, 36.15s/it]"
     ]
    },
    {
     "name": "stdout",
     "output_type": "stream",
     "text": [
      "✅ BATCH 3 / 10 DONE for Documentary Script\n"
     ]
    },
    {
     "name": "stderr",
     "output_type": "stream",
     "text": [
      "The Great Wall of China is not... | Documentary Script:  40%|████      | 4/10 [02:25<03:35, 35.92s/it]"
     ]
    },
    {
     "name": "stdout",
     "output_type": "stream",
     "text": [
      "✅ BATCH 4 / 10 DONE for Documentary Script\n"
     ]
    },
    {
     "name": "stderr",
     "output_type": "stream",
     "text": [
      "The Great Wall of China is not... | Documentary Script:  50%|█████     | 5/10 [03:00<02:57, 35.59s/it]"
     ]
    },
    {
     "name": "stdout",
     "output_type": "stream",
     "text": [
      "✅ BATCH 5 / 10 DONE for Documentary Script\n"
     ]
    },
    {
     "name": "stderr",
     "output_type": "stream",
     "text": [
      "The Great Wall of China is not... | Documentary Script:  60%|██████    | 6/10 [03:37<02:23, 36.00s/it]"
     ]
    },
    {
     "name": "stdout",
     "output_type": "stream",
     "text": [
      "✅ BATCH 6 / 10 DONE for Documentary Script\n"
     ]
    },
    {
     "name": "stderr",
     "output_type": "stream",
     "text": [
      "The Great Wall of China is not... | Documentary Script:  70%|███████   | 7/10 [04:28<02:02, 40.91s/it]"
     ]
    },
    {
     "name": "stdout",
     "output_type": "stream",
     "text": [
      "✅ BATCH 7 / 10 DONE for Documentary Script\n"
     ]
    },
    {
     "name": "stderr",
     "output_type": "stream",
     "text": [
      "The Great Wall of China is not... | Documentary Script:  80%|████████  | 8/10 [05:17<01:26, 43.33s/it]"
     ]
    },
    {
     "name": "stdout",
     "output_type": "stream",
     "text": [
      "✅ BATCH 8 / 10 DONE for Documentary Script\n"
     ]
    },
    {
     "name": "stderr",
     "output_type": "stream",
     "text": [
      "The Great Wall of China is not... | Documentary Script:  90%|█████████ | 9/10 [05:53<00:41, 41.19s/it]"
     ]
    },
    {
     "name": "stdout",
     "output_type": "stream",
     "text": [
      "✅ BATCH 9 / 10 DONE for Documentary Script\n"
     ]
    },
    {
     "name": "stderr",
     "output_type": "stream",
     "text": [
      "The Great Wall of China is not... | Documentary Script: 100%|██████████| 10/10 [06:28<00:00, 38.82s/it]\n"
     ]
    },
    {
     "name": "stdout",
     "output_type": "stream",
     "text": [
      "✅ BATCH 10 / 10 DONE for Documentary Script\n"
     ]
    },
    {
     "name": "stderr",
     "output_type": "stream",
     "text": [
      "The Great Wall of China is not... | News Broadcast Transcript:  10%|█         | 1/10 [00:25<03:51, 25.72s/it]"
     ]
    },
    {
     "name": "stdout",
     "output_type": "stream",
     "text": [
      "✅ BATCH 1 / 10 DONE for News Broadcast Transcript\n"
     ]
    },
    {
     "name": "stderr",
     "output_type": "stream",
     "text": [
      "The Great Wall of China is not... | News Broadcast Transcript:  20%|██        | 2/10 [00:49<03:15, 24.46s/it]"
     ]
    },
    {
     "name": "stdout",
     "output_type": "stream",
     "text": [
      "✅ BATCH 2 / 10 DONE for News Broadcast Transcript\n"
     ]
    },
    {
     "name": "stderr",
     "output_type": "stream",
     "text": [
      "The Great Wall of China is not... | News Broadcast Transcript:  30%|███       | 3/10 [01:34<03:56, 33.84s/it]"
     ]
    },
    {
     "name": "stdout",
     "output_type": "stream",
     "text": [
      "✅ BATCH 3 / 10 DONE for News Broadcast Transcript\n"
     ]
    },
    {
     "name": "stderr",
     "output_type": "stream",
     "text": [
      "The Great Wall of China is not... | News Broadcast Transcript:  40%|████      | 4/10 [02:06<03:19, 33.19s/it]"
     ]
    },
    {
     "name": "stdout",
     "output_type": "stream",
     "text": [
      "✅ BATCH 4 / 10 DONE for News Broadcast Transcript\n"
     ]
    },
    {
     "name": "stderr",
     "output_type": "stream",
     "text": [
      "The Great Wall of China is not... | News Broadcast Transcript:  50%|█████     | 5/10 [02:32<02:32, 30.51s/it]"
     ]
    },
    {
     "name": "stdout",
     "output_type": "stream",
     "text": [
      "✅ BATCH 5 / 10 DONE for News Broadcast Transcript\n"
     ]
    },
    {
     "name": "stderr",
     "output_type": "stream",
     "text": [
      "The Great Wall of China is not... | News Broadcast Transcript:  60%|██████    | 6/10 [03:00<01:59, 29.83s/it]"
     ]
    },
    {
     "name": "stdout",
     "output_type": "stream",
     "text": [
      "✅ BATCH 6 / 10 DONE for News Broadcast Transcript\n"
     ]
    },
    {
     "name": "stderr",
     "output_type": "stream",
     "text": [
      "The Great Wall of China is not... | News Broadcast Transcript:  70%|███████   | 7/10 [03:33<01:32, 30.81s/it]"
     ]
    },
    {
     "name": "stdout",
     "output_type": "stream",
     "text": [
      "✅ BATCH 7 / 10 DONE for News Broadcast Transcript\n"
     ]
    },
    {
     "name": "stderr",
     "output_type": "stream",
     "text": [
      "The Great Wall of China is not... | News Broadcast Transcript:  80%|████████  | 8/10 [03:59<00:58, 29.40s/it]"
     ]
    },
    {
     "name": "stdout",
     "output_type": "stream",
     "text": [
      "✅ BATCH 8 / 10 DONE for News Broadcast Transcript\n"
     ]
    },
    {
     "name": "stderr",
     "output_type": "stream",
     "text": [
      "The Great Wall of China is not... | News Broadcast Transcript:  90%|█████████ | 9/10 [04:36<00:31, 31.54s/it]"
     ]
    },
    {
     "name": "stdout",
     "output_type": "stream",
     "text": [
      "✅ BATCH 9 / 10 DONE for News Broadcast Transcript\n"
     ]
    },
    {
     "name": "stderr",
     "output_type": "stream",
     "text": [
      "The Great Wall of China is not... | News Broadcast Transcript: 100%|██████████| 10/10 [04:59<00:00, 29.93s/it]\n"
     ]
    },
    {
     "name": "stdout",
     "output_type": "stream",
     "text": [
      "✅ BATCH 10 / 10 DONE for News Broadcast Transcript\n"
     ]
    },
    {
     "name": "stderr",
     "output_type": "stream",
     "text": [
      "The Great Wall of China is not... | Podcast Episode Transcript:  10%|█         | 1/10 [00:31<04:42, 31.42s/it]"
     ]
    },
    {
     "name": "stdout",
     "output_type": "stream",
     "text": [
      "✅ BATCH 1 / 10 DONE for Podcast Episode Transcript\n"
     ]
    },
    {
     "name": "stderr",
     "output_type": "stream",
     "text": [
      "The Great Wall of China is not... | Podcast Episode Transcript:  20%|██        | 2/10 [01:03<04:15, 31.94s/it]"
     ]
    },
    {
     "name": "stdout",
     "output_type": "stream",
     "text": [
      "✅ BATCH 2 / 10 DONE for Podcast Episode Transcript\n"
     ]
    },
    {
     "name": "stderr",
     "output_type": "stream",
     "text": [
      "The Great Wall of China is not... | Podcast Episode Transcript:  30%|███       | 3/10 [01:37<03:48, 32.59s/it]"
     ]
    },
    {
     "name": "stdout",
     "output_type": "stream",
     "text": [
      "✅ BATCH 3 / 10 DONE for Podcast Episode Transcript\n"
     ]
    },
    {
     "name": "stderr",
     "output_type": "stream",
     "text": [
      "The Great Wall of China is not... | Podcast Episode Transcript:  40%|████      | 4/10 [02:17<03:33, 35.56s/it]"
     ]
    },
    {
     "name": "stdout",
     "output_type": "stream",
     "text": [
      "✅ BATCH 4 / 10 DONE for Podcast Episode Transcript\n"
     ]
    },
    {
     "name": "stderr",
     "output_type": "stream",
     "text": [
      "The Great Wall of China is not... | Podcast Episode Transcript:  50%|█████     | 5/10 [02:55<03:03, 36.67s/it]"
     ]
    },
    {
     "name": "stdout",
     "output_type": "stream",
     "text": [
      "✅ BATCH 5 / 10 DONE for Podcast Episode Transcript\n"
     ]
    },
    {
     "name": "stderr",
     "output_type": "stream",
     "text": [
      "The Great Wall of China is not... | Podcast Episode Transcript:  60%|██████    | 6/10 [03:26<02:18, 34.62s/it]"
     ]
    },
    {
     "name": "stdout",
     "output_type": "stream",
     "text": [
      "✅ BATCH 6 / 10 DONE for Podcast Episode Transcript\n"
     ]
    },
    {
     "name": "stderr",
     "output_type": "stream",
     "text": [
      "The Great Wall of China is not... | Podcast Episode Transcript:  70%|███████   | 7/10 [04:01<01:44, 34.87s/it]"
     ]
    },
    {
     "name": "stdout",
     "output_type": "stream",
     "text": [
      "✅ BATCH 7 / 10 DONE for Podcast Episode Transcript\n"
     ]
    },
    {
     "name": "stderr",
     "output_type": "stream",
     "text": [
      "The Great Wall of China is not... | Podcast Episode Transcript:  80%|████████  | 8/10 [04:35<01:08, 34.48s/it]"
     ]
    },
    {
     "name": "stdout",
     "output_type": "stream",
     "text": [
      "✅ BATCH 8 / 10 DONE for Podcast Episode Transcript\n"
     ]
    },
    {
     "name": "stderr",
     "output_type": "stream",
     "text": [
      "The Great Wall of China is not... | Podcast Episode Transcript:  90%|█████████ | 9/10 [05:12<00:35, 35.22s/it]"
     ]
    },
    {
     "name": "stdout",
     "output_type": "stream",
     "text": [
      "✅ BATCH 9 / 10 DONE for Podcast Episode Transcript\n"
     ]
    },
    {
     "name": "stderr",
     "output_type": "stream",
     "text": [
      "The Great Wall of China is not... | Podcast Episode Transcript: 100%|██████████| 10/10 [05:58<00:00, 35.84s/it]\n"
     ]
    },
    {
     "name": "stdout",
     "output_type": "stream",
     "text": [
      "✅ BATCH 10 / 10 DONE for Podcast Episode Transcript\n"
     ]
    },
    {
     "name": "stderr",
     "output_type": "stream",
     "text": [
      "The Great Wall of China is not... | Social Media Infographic:  10%|█         | 1/10 [00:41<06:12, 41.41s/it]"
     ]
    },
    {
     "name": "stdout",
     "output_type": "stream",
     "text": [
      "✅ BATCH 1 / 10 DONE for Social Media Infographic\n"
     ]
    },
    {
     "name": "stderr",
     "output_type": "stream",
     "text": [
      "The Great Wall of China is not... | Social Media Infographic:  20%|██        | 2/10 [01:18<05:09, 38.74s/it]"
     ]
    },
    {
     "name": "stdout",
     "output_type": "stream",
     "text": [
      "✅ BATCH 2 / 10 DONE for Social Media Infographic\n"
     ]
    },
    {
     "name": "stderr",
     "output_type": "stream",
     "text": [
      "The Great Wall of China is not... | Social Media Infographic:  30%|███       | 3/10 [01:55<04:25, 37.99s/it]"
     ]
    },
    {
     "name": "stdout",
     "output_type": "stream",
     "text": [
      "✅ BATCH 3 / 10 DONE for Social Media Infographic\n"
     ]
    },
    {
     "name": "stderr",
     "output_type": "stream",
     "text": [
      "The Great Wall of China is not... | Social Media Infographic:  40%|████      | 4/10 [02:20<03:17, 32.88s/it]"
     ]
    },
    {
     "name": "stdout",
     "output_type": "stream",
     "text": [
      "✅ BATCH 4 / 10 DONE for Social Media Infographic\n"
     ]
    },
    {
     "name": "stderr",
     "output_type": "stream",
     "text": [
      "The Great Wall of China is not... | Social Media Infographic:  50%|█████     | 5/10 [03:06<03:07, 37.48s/it]"
     ]
    },
    {
     "name": "stdout",
     "output_type": "stream",
     "text": [
      "✅ BATCH 5 / 10 DONE for Social Media Infographic\n"
     ]
    },
    {
     "name": "stderr",
     "output_type": "stream",
     "text": [
      "The Great Wall of China is not... | Social Media Infographic:  60%|██████    | 6/10 [03:48<02:37, 39.27s/it]"
     ]
    },
    {
     "name": "stdout",
     "output_type": "stream",
     "text": [
      "✅ BATCH 6 / 10 DONE for Social Media Infographic\n"
     ]
    },
    {
     "name": "stderr",
     "output_type": "stream",
     "text": [
      "The Great Wall of China is not... | Social Media Infographic:  70%|███████   | 7/10 [04:28<01:58, 39.55s/it]"
     ]
    },
    {
     "name": "stdout",
     "output_type": "stream",
     "text": [
      "✅ BATCH 7 / 10 DONE for Social Media Infographic\n"
     ]
    },
    {
     "name": "stderr",
     "output_type": "stream",
     "text": [
      "The Great Wall of China is not... | Social Media Infographic:  80%|████████  | 8/10 [04:57<01:12, 36.10s/it]"
     ]
    },
    {
     "name": "stdout",
     "output_type": "stream",
     "text": [
      "✅ BATCH 8 / 10 DONE for Social Media Infographic\n"
     ]
    },
    {
     "name": "stderr",
     "output_type": "stream",
     "text": [
      "The Great Wall of China is not... | Social Media Infographic:  90%|█████████ | 9/10 [05:24<00:33, 33.34s/it]"
     ]
    },
    {
     "name": "stdout",
     "output_type": "stream",
     "text": [
      "✅ BATCH 9 / 10 DONE for Social Media Infographic\n"
     ]
    },
    {
     "name": "stderr",
     "output_type": "stream",
     "text": [
      "The Great Wall of China is not... | Social Media Infographic: 100%|██████████| 10/10 [06:14<00:00, 37.40s/it]\n"
     ]
    },
    {
     "name": "stdout",
     "output_type": "stream",
     "text": [
      "✅ BATCH 10 / 10 DONE for Social Media Infographic\n"
     ]
    },
    {
     "name": "stderr",
     "output_type": "stream",
     "text": [
      "The Great Wall of China is not... | Public Museum Exhibit Panel:  10%|█         | 1/10 [00:37<05:40, 37.86s/it]"
     ]
    },
    {
     "name": "stdout",
     "output_type": "stream",
     "text": [
      "✅ BATCH 1 / 10 DONE for Public Museum Exhibit Panel\n"
     ]
    },
    {
     "name": "stderr",
     "output_type": "stream",
     "text": [
      "The Great Wall of China is not... | Public Museum Exhibit Panel:  20%|██        | 2/10 [01:17<05:09, 38.67s/it]"
     ]
    },
    {
     "name": "stdout",
     "output_type": "stream",
     "text": [
      "✅ BATCH 2 / 10 DONE for Public Museum Exhibit Panel\n"
     ]
    },
    {
     "name": "stderr",
     "output_type": "stream",
     "text": [
      "The Great Wall of China is not... | Public Museum Exhibit Panel:  30%|███       | 3/10 [01:49<04:09, 35.60s/it]"
     ]
    },
    {
     "name": "stdout",
     "output_type": "stream",
     "text": [
      "✅ BATCH 3 / 10 DONE for Public Museum Exhibit Panel\n"
     ]
    },
    {
     "name": "stderr",
     "output_type": "stream",
     "text": [
      "The Great Wall of China is not... | Public Museum Exhibit Panel:  40%|████      | 4/10 [02:13<03:07, 31.28s/it]"
     ]
    },
    {
     "name": "stdout",
     "output_type": "stream",
     "text": [
      "✅ BATCH 4 / 10 DONE for Public Museum Exhibit Panel\n"
     ]
    },
    {
     "name": "stderr",
     "output_type": "stream",
     "text": [
      "The Great Wall of China is not... | Public Museum Exhibit Panel:  50%|█████     | 5/10 [02:47<02:41, 32.20s/it]"
     ]
    },
    {
     "name": "stdout",
     "output_type": "stream",
     "text": [
      "✅ BATCH 5 / 10 DONE for Public Museum Exhibit Panel\n"
     ]
    },
    {
     "name": "stderr",
     "output_type": "stream",
     "text": [
      "The Great Wall of China is not... | Public Museum Exhibit Panel:  60%|██████    | 6/10 [03:11<01:58, 29.53s/it]"
     ]
    },
    {
     "name": "stdout",
     "output_type": "stream",
     "text": [
      "✅ BATCH 6 / 10 DONE for Public Museum Exhibit Panel\n"
     ]
    },
    {
     "name": "stderr",
     "output_type": "stream",
     "text": [
      "The Great Wall of China is not... | Public Museum Exhibit Panel:  70%|███████   | 7/10 [03:41<01:28, 29.63s/it]"
     ]
    },
    {
     "name": "stdout",
     "output_type": "stream",
     "text": [
      "✅ BATCH 7 / 10 DONE for Public Museum Exhibit Panel\n"
     ]
    },
    {
     "name": "stderr",
     "output_type": "stream",
     "text": [
      "The Great Wall of China is not... | Public Museum Exhibit Panel:  80%|████████  | 8/10 [04:25<01:08, 34.10s/it]"
     ]
    },
    {
     "name": "stdout",
     "output_type": "stream",
     "text": [
      "✅ BATCH 8 / 10 DONE for Public Museum Exhibit Panel\n"
     ]
    },
    {
     "name": "stderr",
     "output_type": "stream",
     "text": [
      "The Great Wall of China is not... | Public Museum Exhibit Panel:  90%|█████████ | 9/10 [04:58<00:33, 33.75s/it]"
     ]
    },
    {
     "name": "stdout",
     "output_type": "stream",
     "text": [
      "✅ BATCH 9 / 10 DONE for Public Museum Exhibit Panel\n"
     ]
    },
    {
     "name": "stderr",
     "output_type": "stream",
     "text": [
      "The Great Wall of China is not... | Public Museum Exhibit Panel: 100%|██████████| 10/10 [05:25<00:00, 32.51s/it]\n"
     ]
    },
    {
     "name": "stdout",
     "output_type": "stream",
     "text": [
      "✅ BATCH 10 / 10 DONE for Public Museum Exhibit Panel\n"
     ]
    },
    {
     "name": "stderr",
     "output_type": "stream",
     "text": [
      "The Great Wall of China is not... | Children’s Nonfiction Book:  10%|█         | 1/10 [00:32<04:50, 32.25s/it]"
     ]
    },
    {
     "name": "stdout",
     "output_type": "stream",
     "text": [
      "✅ BATCH 1 / 10 DONE for Children’s Nonfiction Book\n"
     ]
    },
    {
     "name": "stderr",
     "output_type": "stream",
     "text": [
      "The Great Wall of China is not... | Children’s Nonfiction Book:  20%|██        | 2/10 [00:49<03:08, 23.57s/it]"
     ]
    },
    {
     "name": "stdout",
     "output_type": "stream",
     "text": [
      "✅ BATCH 2 / 10 DONE for Children’s Nonfiction Book\n"
     ]
    },
    {
     "name": "stderr",
     "output_type": "stream",
     "text": [
      "The Great Wall of China is not... | Children’s Nonfiction Book:  30%|███       | 3/10 [01:17<02:57, 25.35s/it]"
     ]
    },
    {
     "name": "stdout",
     "output_type": "stream",
     "text": [
      "✅ BATCH 3 / 10 DONE for Children’s Nonfiction Book\n"
     ]
    },
    {
     "name": "stderr",
     "output_type": "stream",
     "text": [
      "The Great Wall of China is not... | Children’s Nonfiction Book:  40%|████      | 4/10 [02:11<03:41, 36.85s/it]"
     ]
    },
    {
     "name": "stdout",
     "output_type": "stream",
     "text": [
      "✅ BATCH 4 / 10 DONE for Children’s Nonfiction Book\n"
     ]
    },
    {
     "name": "stderr",
     "output_type": "stream",
     "text": [
      "The Great Wall of China is not... | Children’s Nonfiction Book:  50%|█████     | 5/10 [02:31<02:33, 30.62s/it]"
     ]
    },
    {
     "name": "stdout",
     "output_type": "stream",
     "text": [
      "✅ BATCH 5 / 10 DONE for Children’s Nonfiction Book\n"
     ]
    },
    {
     "name": "stderr",
     "output_type": "stream",
     "text": [
      "The Great Wall of China is not... | Children’s Nonfiction Book:  60%|██████    | 6/10 [02:51<01:48, 27.25s/it]"
     ]
    },
    {
     "name": "stdout",
     "output_type": "stream",
     "text": [
      "✅ BATCH 6 / 10 DONE for Children’s Nonfiction Book\n"
     ]
    },
    {
     "name": "stderr",
     "output_type": "stream",
     "text": [
      "The Great Wall of China is not... | Children’s Nonfiction Book:  70%|███████   | 7/10 [03:23<01:25, 28.66s/it]"
     ]
    },
    {
     "name": "stdout",
     "output_type": "stream",
     "text": [
      "✅ BATCH 7 / 10 DONE for Children’s Nonfiction Book\n"
     ]
    },
    {
     "name": "stderr",
     "output_type": "stream",
     "text": [
      "The Great Wall of China is not... | Children’s Nonfiction Book:  80%|████████  | 8/10 [03:42<00:51, 25.59s/it]"
     ]
    },
    {
     "name": "stdout",
     "output_type": "stream",
     "text": [
      "✅ BATCH 8 / 10 DONE for Children’s Nonfiction Book\n"
     ]
    },
    {
     "name": "stderr",
     "output_type": "stream",
     "text": [
      "The Great Wall of China is not... | Children’s Nonfiction Book:  90%|█████████ | 9/10 [04:17<00:28, 28.60s/it]"
     ]
    },
    {
     "name": "stdout",
     "output_type": "stream",
     "text": [
      "✅ BATCH 9 / 10 DONE for Children’s Nonfiction Book\n"
     ]
    },
    {
     "name": "stderr",
     "output_type": "stream",
     "text": [
      "The Great Wall of China is not... | Children’s Nonfiction Book: 100%|██████████| 10/10 [04:43<00:00, 28.31s/it]\n"
     ]
    },
    {
     "name": "stdout",
     "output_type": "stream",
     "text": [
      "✅ BATCH 10 / 10 DONE for Children’s Nonfiction Book\n"
     ]
    },
    {
     "name": "stderr",
     "output_type": "stream",
     "text": [
      "The Great Wall of China is not... | High School Geography Handout:  10%|█         | 1/10 [00:49<07:22, 49.14s/it]"
     ]
    },
    {
     "name": "stdout",
     "output_type": "stream",
     "text": [
      "✅ BATCH 1 / 10 DONE for High School Geography Handout\n"
     ]
    },
    {
     "name": "stderr",
     "output_type": "stream",
     "text": [
      "The Great Wall of China is not... | High School Geography Handout:  20%|██        | 2/10 [01:40<06:45, 50.70s/it]"
     ]
    },
    {
     "name": "stdout",
     "output_type": "stream",
     "text": [
      "✅ BATCH 2 / 10 DONE for High School Geography Handout\n"
     ]
    },
    {
     "name": "stderr",
     "output_type": "stream",
     "text": [
      "The Great Wall of China is not... | High School Geography Handout:  30%|███       | 3/10 [02:14<04:59, 42.72s/it]"
     ]
    },
    {
     "name": "stdout",
     "output_type": "stream",
     "text": [
      "✅ BATCH 3 / 10 DONE for High School Geography Handout\n"
     ]
    },
    {
     "name": "stderr",
     "output_type": "stream",
     "text": [
      "The Great Wall of China is not... | High School Geography Handout:  40%|████      | 4/10 [02:43<03:44, 37.37s/it]"
     ]
    },
    {
     "name": "stdout",
     "output_type": "stream",
     "text": [
      "✅ BATCH 4 / 10 DONE for High School Geography Handout\n"
     ]
    },
    {
     "name": "stderr",
     "output_type": "stream",
     "text": [
      "The Great Wall of China is not... | High School Geography Handout:  50%|█████     | 5/10 [03:16<02:58, 35.70s/it]"
     ]
    },
    {
     "name": "stdout",
     "output_type": "stream",
     "text": [
      "✅ BATCH 5 / 10 DONE for High School Geography Handout\n"
     ]
    },
    {
     "name": "stderr",
     "output_type": "stream",
     "text": [
      "The Great Wall of China is not... | High School Geography Handout:  60%|██████    | 6/10 [04:33<03:18, 49.73s/it]"
     ]
    },
    {
     "name": "stdout",
     "output_type": "stream",
     "text": [
      "✅ BATCH 6 / 10 DONE for High School Geography Handout\n"
     ]
    },
    {
     "name": "stderr",
     "output_type": "stream",
     "text": [
      "The Great Wall of China is not... | High School Geography Handout:  70%|███████   | 7/10 [05:11<02:17, 46.00s/it]"
     ]
    },
    {
     "name": "stdout",
     "output_type": "stream",
     "text": [
      "✅ BATCH 7 / 10 DONE for High School Geography Handout\n"
     ]
    },
    {
     "name": "stderr",
     "output_type": "stream",
     "text": [
      "The Great Wall of China is not... | High School Geography Handout:  80%|████████  | 8/10 [05:53<01:29, 44.67s/it]"
     ]
    },
    {
     "name": "stdout",
     "output_type": "stream",
     "text": [
      "✅ BATCH 8 / 10 DONE for High School Geography Handout\n"
     ]
    },
    {
     "name": "stderr",
     "output_type": "stream",
     "text": [
      "The Great Wall of China is not... | High School Geography Handout:  90%|█████████ | 9/10 [06:27<00:41, 41.35s/it]"
     ]
    },
    {
     "name": "stdout",
     "output_type": "stream",
     "text": [
      "✅ BATCH 9 / 10 DONE for High School Geography Handout\n"
     ]
    },
    {
     "name": "stderr",
     "output_type": "stream",
     "text": [
      "The Great Wall of China is not... | High School Geography Handout: 100%|██████████| 10/10 [07:06<00:00, 42.61s/it]\n"
     ]
    },
    {
     "name": "stdout",
     "output_type": "stream",
     "text": [
      "✅ BATCH 10 / 10 DONE for High School Geography Handout\n"
     ]
    },
    {
     "name": "stderr",
     "output_type": "stream",
     "text": [
      "The Great Wall of China is not... | Astronomy Lecture Notes:  10%|█         | 1/10 [00:50<07:34, 50.53s/it]"
     ]
    },
    {
     "name": "stdout",
     "output_type": "stream",
     "text": [
      "✅ BATCH 1 / 10 DONE for Astronomy Lecture Notes\n"
     ]
    },
    {
     "name": "stderr",
     "output_type": "stream",
     "text": [
      "The Great Wall of China is not... | Astronomy Lecture Notes:  20%|██        | 2/10 [01:29<05:47, 43.47s/it]"
     ]
    },
    {
     "name": "stdout",
     "output_type": "stream",
     "text": [
      "✅ BATCH 2 / 10 DONE for Astronomy Lecture Notes\n"
     ]
    },
    {
     "name": "stderr",
     "output_type": "stream",
     "text": [
      "The Great Wall of China is not... | Astronomy Lecture Notes:  30%|███       | 3/10 [02:03<04:35, 39.39s/it]"
     ]
    },
    {
     "name": "stdout",
     "output_type": "stream",
     "text": [
      "✅ BATCH 3 / 10 DONE for Astronomy Lecture Notes\n"
     ]
    },
    {
     "name": "stderr",
     "output_type": "stream",
     "text": [
      "The Great Wall of China is not... | Astronomy Lecture Notes:  40%|████      | 4/10 [03:06<04:51, 48.52s/it]"
     ]
    },
    {
     "name": "stdout",
     "output_type": "stream",
     "text": [
      "✅ BATCH 4 / 10 DONE for Astronomy Lecture Notes\n"
     ]
    },
    {
     "name": "stderr",
     "output_type": "stream",
     "text": [
      "The Great Wall of China is not... | Astronomy Lecture Notes:  50%|█████     | 5/10 [03:37<03:30, 42.19s/it]"
     ]
    },
    {
     "name": "stdout",
     "output_type": "stream",
     "text": [
      "✅ BATCH 5 / 10 DONE for Astronomy Lecture Notes\n"
     ]
    },
    {
     "name": "stderr",
     "output_type": "stream",
     "text": [
      "The Great Wall of China is not... | Astronomy Lecture Notes:  60%|██████    | 6/10 [04:13<02:40, 40.18s/it]"
     ]
    },
    {
     "name": "stdout",
     "output_type": "stream",
     "text": [
      "✅ BATCH 6 / 10 DONE for Astronomy Lecture Notes\n"
     ]
    },
    {
     "name": "stderr",
     "output_type": "stream",
     "text": [
      "The Great Wall of China is not... | Astronomy Lecture Notes:  70%|███████   | 7/10 [04:56<02:03, 41.03s/it]"
     ]
    },
    {
     "name": "stdout",
     "output_type": "stream",
     "text": [
      "✅ BATCH 7 / 10 DONE for Astronomy Lecture Notes\n"
     ]
    },
    {
     "name": "stderr",
     "output_type": "stream",
     "text": [
      "The Great Wall of China is not... | Astronomy Lecture Notes:  80%|████████  | 8/10 [05:59<01:36, 48.02s/it]"
     ]
    },
    {
     "name": "stdout",
     "output_type": "stream",
     "text": [
      "✅ BATCH 8 / 10 DONE for Astronomy Lecture Notes\n"
     ]
    },
    {
     "name": "stderr",
     "output_type": "stream",
     "text": [
      "The Great Wall of China is not... | Astronomy Lecture Notes:  90%|█████████ | 9/10 [06:55<00:50, 50.54s/it]"
     ]
    },
    {
     "name": "stdout",
     "output_type": "stream",
     "text": [
      "✅ BATCH 9 / 10 DONE for Astronomy Lecture Notes\n"
     ]
    },
    {
     "name": "stderr",
     "output_type": "stream",
     "text": [
      "The Great Wall of China is not... | Astronomy Lecture Notes: 100%|██████████| 10/10 [07:34<00:00, 45.43s/it]\n"
     ]
    },
    {
     "name": "stdout",
     "output_type": "stream",
     "text": [
      "✅ BATCH 10 / 10 DONE for Astronomy Lecture Notes\n"
     ]
    },
    {
     "name": "stderr",
     "output_type": "stream",
     "text": [
      "The Great Wall of China is not... | Academic Research Paper:  10%|█         | 1/10 [00:53<07:58, 53.13s/it]"
     ]
    },
    {
     "name": "stdout",
     "output_type": "stream",
     "text": [
      "✅ BATCH 1 / 10 DONE for Academic Research Paper\n"
     ]
    },
    {
     "name": "stderr",
     "output_type": "stream",
     "text": [
      "The Great Wall of China is not... | Academic Research Paper:  20%|██        | 2/10 [01:42<06:48, 51.07s/it]"
     ]
    },
    {
     "name": "stdout",
     "output_type": "stream",
     "text": [
      "✅ BATCH 2 / 10 DONE for Academic Research Paper\n"
     ]
    },
    {
     "name": "stderr",
     "output_type": "stream",
     "text": [
      "The Great Wall of China is not... | Academic Research Paper:  30%|███       | 3/10 [02:26<05:34, 47.77s/it]"
     ]
    },
    {
     "name": "stdout",
     "output_type": "stream",
     "text": [
      "✅ BATCH 3 / 10 DONE for Academic Research Paper\n"
     ]
    },
    {
     "name": "stderr",
     "output_type": "stream",
     "text": [
      "The Great Wall of China is not... | Academic Research Paper:  40%|████      | 4/10 [03:19<04:57, 49.64s/it]"
     ]
    },
    {
     "name": "stdout",
     "output_type": "stream",
     "text": [
      "✅ BATCH 4 / 10 DONE for Academic Research Paper\n"
     ]
    },
    {
     "name": "stderr",
     "output_type": "stream",
     "text": [
      "The Great Wall of China is not... | Academic Research Paper:  50%|█████     | 5/10 [04:02<03:56, 47.35s/it]"
     ]
    },
    {
     "name": "stdout",
     "output_type": "stream",
     "text": [
      "✅ BATCH 5 / 10 DONE for Academic Research Paper\n"
     ]
    },
    {
     "name": "stderr",
     "output_type": "stream",
     "text": [
      "The Great Wall of China is not... | Academic Research Paper:  60%|██████    | 6/10 [04:32<02:46, 41.64s/it]"
     ]
    },
    {
     "name": "stdout",
     "output_type": "stream",
     "text": [
      "✅ BATCH 6 / 10 DONE for Academic Research Paper\n"
     ]
    },
    {
     "name": "stderr",
     "output_type": "stream",
     "text": [
      "The Great Wall of China is not... | Academic Research Paper:  70%|███████   | 7/10 [05:07<01:57, 39.20s/it]"
     ]
    },
    {
     "name": "stdout",
     "output_type": "stream",
     "text": [
      "✅ BATCH 7 / 10 DONE for Academic Research Paper\n"
     ]
    },
    {
     "name": "stderr",
     "output_type": "stream",
     "text": [
      "The Great Wall of China is not... | Academic Research Paper:  80%|████████  | 8/10 [05:58<01:25, 42.92s/it]"
     ]
    },
    {
     "name": "stdout",
     "output_type": "stream",
     "text": [
      "✅ BATCH 8 / 10 DONE for Academic Research Paper\n"
     ]
    },
    {
     "name": "stderr",
     "output_type": "stream",
     "text": [
      "The Great Wall of China is not... | Academic Research Paper:  90%|█████████ | 9/10 [06:50<00:45, 45.75s/it]"
     ]
    },
    {
     "name": "stdout",
     "output_type": "stream",
     "text": [
      "✅ BATCH 9 / 10 DONE for Academic Research Paper\n"
     ]
    },
    {
     "name": "stderr",
     "output_type": "stream",
     "text": [
      "The Great Wall of China is not... | Academic Research Paper: 100%|██████████| 10/10 [07:29<00:00, 44.94s/it]\n"
     ]
    },
    {
     "name": "stdout",
     "output_type": "stream",
     "text": [
      "✅ BATCH 10 / 10 DONE for Academic Research Paper\n"
     ]
    },
    {
     "name": "stderr",
     "output_type": "stream",
     "text": [
      "The Great Wall of China is not... | Science Communication Workshop Material:  10%|█         | 1/10 [00:45<06:50, 45.66s/it]"
     ]
    },
    {
     "name": "stdout",
     "output_type": "stream",
     "text": [
      "✅ BATCH 1 / 10 DONE for Science Communication Workshop Material\n"
     ]
    },
    {
     "name": "stderr",
     "output_type": "stream",
     "text": [
      "The Great Wall of China is not... | Science Communication Workshop Material:  20%|██        | 2/10 [01:26<05:41, 42.70s/it]"
     ]
    },
    {
     "name": "stdout",
     "output_type": "stream",
     "text": [
      "✅ BATCH 2 / 10 DONE for Science Communication Workshop Material\n"
     ]
    },
    {
     "name": "stderr",
     "output_type": "stream",
     "text": [
      "The Great Wall of China is not... | Science Communication Workshop Material:  30%|███       | 3/10 [01:56<04:17, 36.85s/it]"
     ]
    },
    {
     "name": "stdout",
     "output_type": "stream",
     "text": [
      "✅ BATCH 3 / 10 DONE for Science Communication Workshop Material\n"
     ]
    },
    {
     "name": "stderr",
     "output_type": "stream",
     "text": [
      "The Great Wall of China is not... | Science Communication Workshop Material:  40%|████      | 4/10 [02:34<03:43, 37.28s/it]"
     ]
    },
    {
     "name": "stdout",
     "output_type": "stream",
     "text": [
      "✅ BATCH 4 / 10 DONE for Science Communication Workshop Material\n"
     ]
    },
    {
     "name": "stderr",
     "output_type": "stream",
     "text": [
      "The Great Wall of China is not... | Science Communication Workshop Material:  50%|█████     | 5/10 [03:09<03:03, 36.73s/it]"
     ]
    },
    {
     "name": "stdout",
     "output_type": "stream",
     "text": [
      "✅ BATCH 5 / 10 DONE for Science Communication Workshop Material\n"
     ]
    },
    {
     "name": "stderr",
     "output_type": "stream",
     "text": [
      "The Great Wall of China is not... | Science Communication Workshop Material:  60%|██████    | 6/10 [03:43<02:23, 35.75s/it]"
     ]
    },
    {
     "name": "stdout",
     "output_type": "stream",
     "text": [
      "✅ BATCH 6 / 10 DONE for Science Communication Workshop Material\n"
     ]
    },
    {
     "name": "stderr",
     "output_type": "stream",
     "text": [
      "The Great Wall of China is not... | Science Communication Workshop Material:  70%|███████   | 7/10 [04:18<01:45, 35.29s/it]"
     ]
    },
    {
     "name": "stdout",
     "output_type": "stream",
     "text": [
      "✅ BATCH 7 / 10 DONE for Science Communication Workshop Material\n"
     ]
    },
    {
     "name": "stderr",
     "output_type": "stream",
     "text": [
      "The Great Wall of China is not... | Science Communication Workshop Material:  80%|████████  | 8/10 [04:50<01:08, 34.42s/it]"
     ]
    },
    {
     "name": "stdout",
     "output_type": "stream",
     "text": [
      "✅ BATCH 8 / 10 DONE for Science Communication Workshop Material\n"
     ]
    },
    {
     "name": "stderr",
     "output_type": "stream",
     "text": [
      "The Great Wall of China is not... | Science Communication Workshop Material:  90%|█████████ | 9/10 [05:24<00:34, 34.12s/it]"
     ]
    },
    {
     "name": "stdout",
     "output_type": "stream",
     "text": [
      "✅ BATCH 9 / 10 DONE for Science Communication Workshop Material\n"
     ]
    },
    {
     "name": "stderr",
     "output_type": "stream",
     "text": [
      "The Great Wall of China is not... | Science Communication Workshop Material: 100%|██████████| 10/10 [06:04<00:00, 36.44s/it]\n"
     ]
    },
    {
     "name": "stdout",
     "output_type": "stream",
     "text": [
      "✅ BATCH 10 / 10 DONE for Science Communication Workshop Material\n"
     ]
    },
    {
     "name": "stderr",
     "output_type": "stream",
     "text": [
      "The Great Wall of China is not... | Urban Legend Compilation:  10%|█         | 1/10 [00:48<07:19, 48.87s/it]"
     ]
    },
    {
     "name": "stdout",
     "output_type": "stream",
     "text": [
      "✅ BATCH 1 / 10 DONE for Urban Legend Compilation\n"
     ]
    },
    {
     "name": "stderr",
     "output_type": "stream",
     "text": [
      "The Great Wall of China is not... | Urban Legend Compilation:  20%|██        | 2/10 [01:38<06:32, 49.06s/it]"
     ]
    },
    {
     "name": "stdout",
     "output_type": "stream",
     "text": [
      "✅ BATCH 2 / 10 DONE for Urban Legend Compilation\n"
     ]
    },
    {
     "name": "stderr",
     "output_type": "stream",
     "text": [
      "The Great Wall of China is not... | Urban Legend Compilation:  30%|███       | 3/10 [02:14<05:03, 43.33s/it]"
     ]
    },
    {
     "name": "stdout",
     "output_type": "stream",
     "text": [
      "✅ BATCH 3 / 10 DONE for Urban Legend Compilation\n"
     ]
    },
    {
     "name": "stderr",
     "output_type": "stream",
     "text": [
      "The Great Wall of China is not... | Urban Legend Compilation:  40%|████      | 4/10 [02:48<03:58, 39.81s/it]"
     ]
    },
    {
     "name": "stdout",
     "output_type": "stream",
     "text": [
      "✅ BATCH 4 / 10 DONE for Urban Legend Compilation\n"
     ]
    },
    {
     "name": "stderr",
     "output_type": "stream",
     "text": [
      "The Great Wall of China is not... | Urban Legend Compilation:  50%|█████     | 5/10 [03:28<03:19, 39.87s/it]"
     ]
    },
    {
     "name": "stdout",
     "output_type": "stream",
     "text": [
      "✅ BATCH 5 / 10 DONE for Urban Legend Compilation\n"
     ]
    },
    {
     "name": "stderr",
     "output_type": "stream",
     "text": [
      "The Great Wall of China is not... | Urban Legend Compilation:  60%|██████    | 6/10 [03:52<02:17, 34.41s/it]"
     ]
    },
    {
     "name": "stdout",
     "output_type": "stream",
     "text": [
      "✅ BATCH 6 / 10 DONE for Urban Legend Compilation\n"
     ]
    },
    {
     "name": "stderr",
     "output_type": "stream",
     "text": [
      "The Great Wall of China is not... | Urban Legend Compilation:  70%|███████   | 7/10 [04:28<01:44, 34.79s/it]"
     ]
    },
    {
     "name": "stdout",
     "output_type": "stream",
     "text": [
      "✅ BATCH 7 / 10 DONE for Urban Legend Compilation\n"
     ]
    },
    {
     "name": "stderr",
     "output_type": "stream",
     "text": [
      "The Great Wall of China is not... | Urban Legend Compilation:  80%|████████  | 8/10 [04:50<01:01, 30.74s/it]"
     ]
    },
    {
     "name": "stdout",
     "output_type": "stream",
     "text": [
      "✅ BATCH 8 / 10 DONE for Urban Legend Compilation\n"
     ]
    },
    {
     "name": "stderr",
     "output_type": "stream",
     "text": [
      "The Great Wall of China is not... | Urban Legend Compilation:  90%|█████████ | 9/10 [05:34<00:35, 35.04s/it]"
     ]
    },
    {
     "name": "stdout",
     "output_type": "stream",
     "text": [
      "✅ BATCH 9 / 10 DONE for Urban Legend Compilation\n"
     ]
    },
    {
     "name": "stderr",
     "output_type": "stream",
     "text": [
      "The Great Wall of China is not... | Urban Legend Compilation: 100%|██████████| 10/10 [06:13<00:00, 37.36s/it]\n"
     ]
    },
    {
     "name": "stdout",
     "output_type": "stream",
     "text": [
      "✅ BATCH 10 / 10 DONE for Urban Legend Compilation\n"
     ]
    },
    {
     "name": "stderr",
     "output_type": "stream",
     "text": [
      "The Great Wall of China is not... | Science Podcast Show Notes:  10%|█         | 1/10 [00:38<05:50, 38.95s/it]"
     ]
    },
    {
     "name": "stdout",
     "output_type": "stream",
     "text": [
      "✅ BATCH 1 / 10 DONE for Science Podcast Show Notes\n"
     ]
    },
    {
     "name": "stderr",
     "output_type": "stream",
     "text": [
      "The Great Wall of China is not... | Science Podcast Show Notes:  20%|██        | 2/10 [01:12<04:45, 35.72s/it]"
     ]
    },
    {
     "name": "stdout",
     "output_type": "stream",
     "text": [
      "✅ BATCH 2 / 10 DONE for Science Podcast Show Notes\n"
     ]
    },
    {
     "name": "stderr",
     "output_type": "stream",
     "text": [
      "The Great Wall of China is not... | Science Podcast Show Notes:  30%|███       | 3/10 [01:44<03:58, 34.03s/it]"
     ]
    },
    {
     "name": "stdout",
     "output_type": "stream",
     "text": [
      "✅ BATCH 3 / 10 DONE for Science Podcast Show Notes\n"
     ]
    },
    {
     "name": "stderr",
     "output_type": "stream",
     "text": [
      "The Great Wall of China is not... | Science Podcast Show Notes:  40%|████      | 4/10 [02:27<03:45, 37.55s/it]"
     ]
    },
    {
     "name": "stdout",
     "output_type": "stream",
     "text": [
      "✅ BATCH 4 / 10 DONE for Science Podcast Show Notes\n"
     ]
    },
    {
     "name": "stderr",
     "output_type": "stream",
     "text": [
      "The Great Wall of China is not... | Science Podcast Show Notes:  50%|█████     | 5/10 [03:07<03:12, 38.49s/it]"
     ]
    },
    {
     "name": "stdout",
     "output_type": "stream",
     "text": [
      "✅ BATCH 5 / 10 DONE for Science Podcast Show Notes\n"
     ]
    },
    {
     "name": "stderr",
     "output_type": "stream",
     "text": [
      "The Great Wall of China is not... | Science Podcast Show Notes:  60%|██████    | 6/10 [03:42<02:28, 37.17s/it]"
     ]
    },
    {
     "name": "stdout",
     "output_type": "stream",
     "text": [
      "✅ BATCH 6 / 10 DONE for Science Podcast Show Notes\n"
     ]
    },
    {
     "name": "stderr",
     "output_type": "stream",
     "text": [
      "The Great Wall of China is not... | Science Podcast Show Notes:  70%|███████   | 7/10 [04:11<01:44, 34.74s/it]"
     ]
    },
    {
     "name": "stdout",
     "output_type": "stream",
     "text": [
      "✅ BATCH 7 / 10 DONE for Science Podcast Show Notes\n"
     ]
    },
    {
     "name": "stderr",
     "output_type": "stream",
     "text": [
      "The Great Wall of China is not... | Science Podcast Show Notes:  80%|████████  | 8/10 [04:50<01:11, 36.00s/it]"
     ]
    },
    {
     "name": "stdout",
     "output_type": "stream",
     "text": [
      "✅ BATCH 8 / 10 DONE for Science Podcast Show Notes\n"
     ]
    },
    {
     "name": "stderr",
     "output_type": "stream",
     "text": [
      "The Great Wall of China is not... | Science Podcast Show Notes:  90%|█████████ | 9/10 [05:38<00:39, 39.84s/it]"
     ]
    },
    {
     "name": "stdout",
     "output_type": "stream",
     "text": [
      "✅ BATCH 9 / 10 DONE for Science Podcast Show Notes\n"
     ]
    },
    {
     "name": "stderr",
     "output_type": "stream",
     "text": [
      "The Great Wall of China is not... | Science Podcast Show Notes: 100%|██████████| 10/10 [06:14<00:00, 37.50s/it]\n"
     ]
    },
    {
     "name": "stdout",
     "output_type": "stream",
     "text": [
      "✅ BATCH 10 / 10 DONE for Science Podcast Show Notes\n"
     ]
    },
    {
     "name": "stderr",
     "output_type": "stream",
     "text": [
      "Vincent van Gogh cut off only ... | Biographical Essay:  10%|█         | 1/10 [00:40<06:00, 40.01s/it]"
     ]
    },
    {
     "name": "stdout",
     "output_type": "stream",
     "text": [
      "✅ BATCH 1 / 10 DONE for Biographical Essay\n"
     ]
    },
    {
     "name": "stderr",
     "output_type": "stream",
     "text": [
      "Vincent van Gogh cut off only ... | Biographical Essay:  20%|██        | 2/10 [01:09<04:31, 33.96s/it]"
     ]
    },
    {
     "name": "stdout",
     "output_type": "stream",
     "text": [
      "✅ BATCH 2 / 10 DONE for Biographical Essay\n"
     ]
    },
    {
     "name": "stderr",
     "output_type": "stream",
     "text": [
      "Vincent van Gogh cut off only ... | Biographical Essay:  30%|███       | 3/10 [01:43<03:57, 33.99s/it]"
     ]
    },
    {
     "name": "stdout",
     "output_type": "stream",
     "text": [
      "✅ BATCH 3 / 10 DONE for Biographical Essay\n"
     ]
    },
    {
     "name": "stderr",
     "output_type": "stream",
     "text": [
      "Vincent van Gogh cut off only ... | Biographical Essay:  40%|████      | 4/10 [02:12<03:12, 32.09s/it]"
     ]
    },
    {
     "name": "stdout",
     "output_type": "stream",
     "text": [
      "✅ BATCH 4 / 10 DONE for Biographical Essay\n"
     ]
    },
    {
     "name": "stderr",
     "output_type": "stream",
     "text": [
      "Vincent van Gogh cut off only ... | Biographical Essay:  50%|█████     | 5/10 [02:54<02:57, 35.52s/it]"
     ]
    },
    {
     "name": "stdout",
     "output_type": "stream",
     "text": [
      "✅ BATCH 5 / 10 DONE for Biographical Essay\n"
     ]
    },
    {
     "name": "stderr",
     "output_type": "stream",
     "text": [
      "Vincent van Gogh cut off only ... | Biographical Essay:  60%|██████    | 6/10 [03:28<02:20, 35.03s/it]"
     ]
    },
    {
     "name": "stdout",
     "output_type": "stream",
     "text": [
      "✅ BATCH 6 / 10 DONE for Biographical Essay\n"
     ]
    },
    {
     "name": "stderr",
     "output_type": "stream",
     "text": [
      "Vincent van Gogh cut off only ... | Biographical Essay:  70%|███████   | 7/10 [03:59<01:40, 33.66s/it]"
     ]
    },
    {
     "name": "stdout",
     "output_type": "stream",
     "text": [
      "✅ BATCH 7 / 10 DONE for Biographical Essay\n"
     ]
    },
    {
     "name": "stderr",
     "output_type": "stream",
     "text": [
      "Vincent van Gogh cut off only ... | Biographical Essay:  80%|████████  | 8/10 [04:27<01:03, 31.86s/it]"
     ]
    },
    {
     "name": "stdout",
     "output_type": "stream",
     "text": [
      "✅ BATCH 8 / 10 DONE for Biographical Essay\n"
     ]
    },
    {
     "name": "stderr",
     "output_type": "stream",
     "text": [
      "Vincent van Gogh cut off only ... | Biographical Essay:  90%|█████████ | 9/10 [04:59<00:31, 31.92s/it]"
     ]
    },
    {
     "name": "stdout",
     "output_type": "stream",
     "text": [
      "✅ BATCH 9 / 10 DONE for Biographical Essay\n"
     ]
    },
    {
     "name": "stderr",
     "output_type": "stream",
     "text": [
      "Vincent van Gogh cut off only ... | Biographical Essay: 100%|██████████| 10/10 [05:31<00:00, 33.18s/it]\n"
     ]
    },
    {
     "name": "stdout",
     "output_type": "stream",
     "text": [
      "✅ BATCH 10 / 10 DONE for Biographical Essay\n"
     ]
    },
    {
     "name": "stderr",
     "output_type": "stream",
     "text": [
      "Vincent van Gogh cut off only ... | Art History Textbook:  10%|█         | 1/10 [00:33<05:02, 33.58s/it]"
     ]
    },
    {
     "name": "stdout",
     "output_type": "stream",
     "text": [
      "✅ BATCH 1 / 10 DONE for Art History Textbook\n"
     ]
    },
    {
     "name": "stderr",
     "output_type": "stream",
     "text": [
      "Vincent van Gogh cut off only ... | Art History Textbook:  20%|██        | 2/10 [00:57<03:44, 28.05s/it]"
     ]
    },
    {
     "name": "stdout",
     "output_type": "stream",
     "text": [
      "✅ BATCH 2 / 10 DONE for Art History Textbook\n"
     ]
    },
    {
     "name": "stderr",
     "output_type": "stream",
     "text": [
      "Vincent van Gogh cut off only ... | Art History Textbook:  30%|███       | 3/10 [01:25<03:13, 27.69s/it]"
     ]
    },
    {
     "name": "stdout",
     "output_type": "stream",
     "text": [
      "✅ BATCH 3 / 10 DONE for Art History Textbook\n"
     ]
    },
    {
     "name": "stderr",
     "output_type": "stream",
     "text": [
      "Vincent van Gogh cut off only ... | Art History Textbook:  40%|████      | 4/10 [01:54<02:50, 28.35s/it]"
     ]
    },
    {
     "name": "stdout",
     "output_type": "stream",
     "text": [
      "✅ BATCH 4 / 10 DONE for Art History Textbook\n"
     ]
    },
    {
     "name": "stderr",
     "output_type": "stream",
     "text": [
      "Vincent van Gogh cut off only ... | Art History Textbook:  50%|█████     | 5/10 [02:21<02:18, 27.78s/it]"
     ]
    },
    {
     "name": "stdout",
     "output_type": "stream",
     "text": [
      "✅ BATCH 5 / 10 DONE for Art History Textbook\n"
     ]
    },
    {
     "name": "stderr",
     "output_type": "stream",
     "text": [
      "Vincent van Gogh cut off only ... | Art History Textbook:  60%|██████    | 6/10 [02:45<01:45, 26.45s/it]"
     ]
    },
    {
     "name": "stdout",
     "output_type": "stream",
     "text": [
      "✅ BATCH 6 / 10 DONE for Art History Textbook\n"
     ]
    },
    {
     "name": "stderr",
     "output_type": "stream",
     "text": [
      "Vincent van Gogh cut off only ... | Art History Textbook:  70%|███████   | 7/10 [03:22<01:30, 30.16s/it]"
     ]
    },
    {
     "name": "stdout",
     "output_type": "stream",
     "text": [
      "✅ BATCH 7 / 10 DONE for Art History Textbook\n"
     ]
    },
    {
     "name": "stderr",
     "output_type": "stream",
     "text": [
      "Vincent van Gogh cut off only ... | Art History Textbook:  80%|████████  | 8/10 [04:00<01:05, 32.51s/it]"
     ]
    },
    {
     "name": "stdout",
     "output_type": "stream",
     "text": [
      "✅ BATCH 8 / 10 DONE for Art History Textbook\n"
     ]
    },
    {
     "name": "stderr",
     "output_type": "stream",
     "text": [
      "Vincent van Gogh cut off only ... | Art History Textbook:  90%|█████████ | 9/10 [04:35<00:33, 33.19s/it]"
     ]
    },
    {
     "name": "stdout",
     "output_type": "stream",
     "text": [
      "✅ BATCH 9 / 10 DONE for Art History Textbook\n"
     ]
    },
    {
     "name": "stderr",
     "output_type": "stream",
     "text": [
      "Vincent van Gogh cut off only ... | Art History Textbook: 100%|██████████| 10/10 [05:09<00:00, 30.90s/it]\n"
     ]
    },
    {
     "name": "stdout",
     "output_type": "stream",
     "text": [
      "✅ BATCH 10 / 10 DONE for Art History Textbook\n"
     ]
    },
    {
     "name": "stderr",
     "output_type": "stream",
     "text": [
      "Vincent van Gogh cut off only ... | Medical Case Study:  10%|█         | 1/10 [00:34<05:13, 34.78s/it]"
     ]
    },
    {
     "name": "stdout",
     "output_type": "stream",
     "text": [
      "✅ BATCH 1 / 10 DONE for Medical Case Study\n"
     ]
    },
    {
     "name": "stderr",
     "output_type": "stream",
     "text": [
      "Vincent van Gogh cut off only ... | Medical Case Study:  20%|██        | 2/10 [01:11<04:45, 35.67s/it]"
     ]
    },
    {
     "name": "stdout",
     "output_type": "stream",
     "text": [
      "✅ BATCH 2 / 10 DONE for Medical Case Study\n"
     ]
    },
    {
     "name": "stderr",
     "output_type": "stream",
     "text": [
      "Vincent van Gogh cut off only ... | Medical Case Study:  30%|███       | 3/10 [01:46<04:08, 35.56s/it]"
     ]
    },
    {
     "name": "stdout",
     "output_type": "stream",
     "text": [
      "✅ BATCH 3 / 10 DONE for Medical Case Study\n"
     ]
    },
    {
     "name": "stderr",
     "output_type": "stream",
     "text": [
      "Vincent van Gogh cut off only ... | Medical Case Study:  40%|████      | 4/10 [02:25<03:40, 36.74s/it]"
     ]
    },
    {
     "name": "stdout",
     "output_type": "stream",
     "text": [
      "✅ BATCH 4 / 10 DONE for Medical Case Study\n"
     ]
    },
    {
     "name": "stderr",
     "output_type": "stream",
     "text": [
      "Vincent van Gogh cut off only ... | Medical Case Study:  50%|█████     | 5/10 [03:06<03:11, 38.27s/it]"
     ]
    },
    {
     "name": "stdout",
     "output_type": "stream",
     "text": [
      "✅ BATCH 5 / 10 DONE for Medical Case Study\n"
     ]
    },
    {
     "name": "stderr",
     "output_type": "stream",
     "text": [
      "Vincent van Gogh cut off only ... | Medical Case Study:  60%|██████    | 6/10 [03:39<02:26, 36.69s/it]"
     ]
    },
    {
     "name": "stdout",
     "output_type": "stream",
     "text": [
      "✅ BATCH 6 / 10 DONE for Medical Case Study\n"
     ]
    },
    {
     "name": "stderr",
     "output_type": "stream",
     "text": [
      "Vincent van Gogh cut off only ... | Medical Case Study:  70%|███████   | 7/10 [04:18<01:52, 37.50s/it]"
     ]
    },
    {
     "name": "stdout",
     "output_type": "stream",
     "text": [
      "✅ BATCH 7 / 10 DONE for Medical Case Study\n"
     ]
    },
    {
     "name": "stderr",
     "output_type": "stream",
     "text": [
      "Vincent van Gogh cut off only ... | Medical Case Study:  80%|████████  | 8/10 [05:01<01:18, 39.26s/it]"
     ]
    },
    {
     "name": "stdout",
     "output_type": "stream",
     "text": [
      "✅ BATCH 8 / 10 DONE for Medical Case Study\n"
     ]
    },
    {
     "name": "stderr",
     "output_type": "stream",
     "text": [
      "Vincent van Gogh cut off only ... | Medical Case Study:  90%|█████████ | 9/10 [05:36<00:37, 37.92s/it]"
     ]
    },
    {
     "name": "stdout",
     "output_type": "stream",
     "text": [
      "✅ BATCH 9 / 10 DONE for Medical Case Study\n"
     ]
    },
    {
     "name": "stderr",
     "output_type": "stream",
     "text": [
      "Vincent van Gogh cut off only ... | Medical Case Study: 100%|██████████| 10/10 [06:08<00:00, 36.82s/it]\n"
     ]
    },
    {
     "name": "stdout",
     "output_type": "stream",
     "text": [
      "✅ BATCH 10 / 10 DONE for Medical Case Study\n"
     ]
    },
    {
     "name": "stderr",
     "output_type": "stream",
     "text": [
      "Vincent van Gogh cut off only ... | Museum Wall Label:  10%|█         | 1/10 [00:24<03:39, 24.37s/it]"
     ]
    },
    {
     "name": "stdout",
     "output_type": "stream",
     "text": [
      "✅ BATCH 1 / 10 DONE for Museum Wall Label\n"
     ]
    },
    {
     "name": "stderr",
     "output_type": "stream",
     "text": [
      "Vincent van Gogh cut off only ... | Museum Wall Label:  20%|██        | 2/10 [00:42<02:45, 20.66s/it]"
     ]
    },
    {
     "name": "stdout",
     "output_type": "stream",
     "text": [
      "✅ BATCH 2 / 10 DONE for Museum Wall Label\n"
     ]
    },
    {
     "name": "stderr",
     "output_type": "stream",
     "text": [
      "Vincent van Gogh cut off only ... | Museum Wall Label:  30%|███       | 3/10 [01:02<02:22, 20.36s/it]"
     ]
    },
    {
     "name": "stdout",
     "output_type": "stream",
     "text": [
      "✅ BATCH 3 / 10 DONE for Museum Wall Label\n"
     ]
    },
    {
     "name": "stderr",
     "output_type": "stream",
     "text": [
      "Vincent van Gogh cut off only ... | Museum Wall Label:  40%|████      | 4/10 [01:22<02:00, 20.04s/it]"
     ]
    },
    {
     "name": "stdout",
     "output_type": "stream",
     "text": [
      "✅ BATCH 4 / 10 DONE for Museum Wall Label\n"
     ]
    },
    {
     "name": "stderr",
     "output_type": "stream",
     "text": [
      "Vincent van Gogh cut off only ... | Museum Wall Label:  50%|█████     | 5/10 [01:44<01:44, 20.84s/it]"
     ]
    },
    {
     "name": "stdout",
     "output_type": "stream",
     "text": [
      "✅ BATCH 5 / 10 DONE for Museum Wall Label\n"
     ]
    },
    {
     "name": "stderr",
     "output_type": "stream",
     "text": [
      "Vincent van Gogh cut off only ... | Museum Wall Label:  60%|██████    | 6/10 [02:12<01:32, 23.23s/it]"
     ]
    },
    {
     "name": "stdout",
     "output_type": "stream",
     "text": [
      "✅ BATCH 6 / 10 DONE for Museum Wall Label\n"
     ]
    },
    {
     "name": "stderr",
     "output_type": "stream",
     "text": [
      "Vincent van Gogh cut off only ... | Museum Wall Label:  70%|███████   | 7/10 [02:28<01:02, 20.95s/it]"
     ]
    },
    {
     "name": "stdout",
     "output_type": "stream",
     "text": [
      "✅ BATCH 7 / 10 DONE for Museum Wall Label\n"
     ]
    },
    {
     "name": "stderr",
     "output_type": "stream",
     "text": [
      "Vincent van Gogh cut off only ... | Museum Wall Label:  80%|████████  | 8/10 [02:48<00:41, 20.74s/it]"
     ]
    },
    {
     "name": "stdout",
     "output_type": "stream",
     "text": [
      "✅ BATCH 8 / 10 DONE for Museum Wall Label\n"
     ]
    },
    {
     "name": "stderr",
     "output_type": "stream",
     "text": [
      "Vincent van Gogh cut off only ... | Museum Wall Label:  90%|█████████ | 9/10 [03:08<00:20, 20.58s/it]"
     ]
    },
    {
     "name": "stdout",
     "output_type": "stream",
     "text": [
      "✅ BATCH 9 / 10 DONE for Museum Wall Label\n"
     ]
    },
    {
     "name": "stderr",
     "output_type": "stream",
     "text": [
      "Vincent van Gogh cut off only ... | Museum Wall Label: 100%|██████████| 10/10 [03:28<00:00, 20.89s/it]\n"
     ]
    },
    {
     "name": "stdout",
     "output_type": "stream",
     "text": [
      "✅ BATCH 10 / 10 DONE for Museum Wall Label\n"
     ]
    },
    {
     "name": "stderr",
     "output_type": "stream",
     "text": [
      "Vincent van Gogh cut off only ... | Academic Lecture Notes:  10%|█         | 1/10 [00:43<06:28, 43.20s/it]"
     ]
    },
    {
     "name": "stdout",
     "output_type": "stream",
     "text": [
      "✅ BATCH 1 / 10 DONE for Academic Lecture Notes\n"
     ]
    },
    {
     "name": "stderr",
     "output_type": "stream",
     "text": [
      "Vincent van Gogh cut off only ... | Academic Lecture Notes:  20%|██        | 2/10 [01:16<04:58, 37.27s/it]"
     ]
    },
    {
     "name": "stdout",
     "output_type": "stream",
     "text": [
      "✅ BATCH 2 / 10 DONE for Academic Lecture Notes\n"
     ]
    },
    {
     "name": "stderr",
     "output_type": "stream",
     "text": [
      "Vincent van Gogh cut off only ... | Academic Lecture Notes:  30%|███       | 3/10 [02:01<04:44, 40.67s/it]"
     ]
    },
    {
     "name": "stdout",
     "output_type": "stream",
     "text": [
      "✅ BATCH 3 / 10 DONE for Academic Lecture Notes\n"
     ]
    },
    {
     "name": "stderr",
     "output_type": "stream",
     "text": [
      "Vincent van Gogh cut off only ... | Academic Lecture Notes:  40%|████      | 4/10 [02:36<03:50, 38.44s/it]"
     ]
    },
    {
     "name": "stdout",
     "output_type": "stream",
     "text": [
      "✅ BATCH 4 / 10 DONE for Academic Lecture Notes\n"
     ]
    },
    {
     "name": "stderr",
     "output_type": "stream",
     "text": [
      "Vincent van Gogh cut off only ... | Academic Lecture Notes:  50%|█████     | 5/10 [03:10<03:04, 36.95s/it]"
     ]
    },
    {
     "name": "stdout",
     "output_type": "stream",
     "text": [
      "✅ BATCH 5 / 10 DONE for Academic Lecture Notes\n"
     ]
    },
    {
     "name": "stderr",
     "output_type": "stream",
     "text": [
      "Vincent van Gogh cut off only ... | Academic Lecture Notes:  60%|██████    | 6/10 [03:42<02:20, 35.18s/it]"
     ]
    },
    {
     "name": "stdout",
     "output_type": "stream",
     "text": [
      "✅ BATCH 6 / 10 DONE for Academic Lecture Notes\n"
     ]
    },
    {
     "name": "stderr",
     "output_type": "stream",
     "text": [
      "Vincent van Gogh cut off only ... | Academic Lecture Notes:  70%|███████   | 7/10 [04:14<01:42, 34.30s/it]"
     ]
    },
    {
     "name": "stdout",
     "output_type": "stream",
     "text": [
      "✅ BATCH 7 / 10 DONE for Academic Lecture Notes\n"
     ]
    },
    {
     "name": "stderr",
     "output_type": "stream",
     "text": [
      "Vincent van Gogh cut off only ... | Academic Lecture Notes:  80%|████████  | 8/10 [04:53<01:11, 35.69s/it]"
     ]
    },
    {
     "name": "stdout",
     "output_type": "stream",
     "text": [
      "✅ BATCH 8 / 10 DONE for Academic Lecture Notes\n"
     ]
    },
    {
     "name": "stderr",
     "output_type": "stream",
     "text": [
      "Vincent van Gogh cut off only ... | Academic Lecture Notes:  90%|█████████ | 9/10 [05:23<00:34, 34.02s/it]"
     ]
    },
    {
     "name": "stdout",
     "output_type": "stream",
     "text": [
      "✅ BATCH 9 / 10 DONE for Academic Lecture Notes\n"
     ]
    },
    {
     "name": "stderr",
     "output_type": "stream",
     "text": [
      "Vincent van Gogh cut off only ... | Academic Lecture Notes: 100%|██████████| 10/10 [06:01<00:00, 36.12s/it]\n"
     ]
    },
    {
     "name": "stdout",
     "output_type": "stream",
     "text": [
      "✅ BATCH 10 / 10 DONE for Academic Lecture Notes\n"
     ]
    },
    {
     "name": "stderr",
     "output_type": "stream",
     "text": [
      "Vincent van Gogh cut off only ... | Psychology Journal Article:  10%|█         | 1/10 [00:46<07:00, 46.75s/it]"
     ]
    },
    {
     "name": "stdout",
     "output_type": "stream",
     "text": [
      "✅ BATCH 1 / 10 DONE for Psychology Journal Article\n"
     ]
    },
    {
     "name": "stderr",
     "output_type": "stream",
     "text": [
      "Vincent van Gogh cut off only ... | Psychology Journal Article:  20%|██        | 2/10 [01:15<04:50, 36.37s/it]"
     ]
    },
    {
     "name": "stdout",
     "output_type": "stream",
     "text": [
      "✅ BATCH 2 / 10 DONE for Psychology Journal Article\n"
     ]
    },
    {
     "name": "stderr",
     "output_type": "stream",
     "text": [
      "Vincent van Gogh cut off only ... | Psychology Journal Article:  30%|███       | 3/10 [01:47<03:59, 34.21s/it]"
     ]
    },
    {
     "name": "stdout",
     "output_type": "stream",
     "text": [
      "✅ BATCH 3 / 10 DONE for Psychology Journal Article\n"
     ]
    },
    {
     "name": "stderr",
     "output_type": "stream",
     "text": [
      "Vincent van Gogh cut off only ... | Psychology Journal Article:  40%|████      | 4/10 [02:19<03:21, 33.52s/it]"
     ]
    },
    {
     "name": "stdout",
     "output_type": "stream",
     "text": [
      "✅ BATCH 4 / 10 DONE for Psychology Journal Article\n"
     ]
    },
    {
     "name": "stderr",
     "output_type": "stream",
     "text": [
      "Vincent van Gogh cut off only ... | Psychology Journal Article:  50%|█████     | 5/10 [02:54<02:49, 33.89s/it]"
     ]
    },
    {
     "name": "stdout",
     "output_type": "stream",
     "text": [
      "✅ BATCH 5 / 10 DONE for Psychology Journal Article\n"
     ]
    },
    {
     "name": "stderr",
     "output_type": "stream",
     "text": [
      "Vincent van Gogh cut off only ... | Psychology Journal Article:  60%|██████    | 6/10 [03:20<02:05, 31.27s/it]"
     ]
    },
    {
     "name": "stdout",
     "output_type": "stream",
     "text": [
      "✅ BATCH 6 / 10 DONE for Psychology Journal Article\n"
     ]
    },
    {
     "name": "stderr",
     "output_type": "stream",
     "text": [
      "Vincent van Gogh cut off only ... | Psychology Journal Article:  70%|███████   | 7/10 [03:47<01:29, 29.68s/it]"
     ]
    },
    {
     "name": "stdout",
     "output_type": "stream",
     "text": [
      "✅ BATCH 7 / 10 DONE for Psychology Journal Article\n"
     ]
    },
    {
     "name": "stderr",
     "output_type": "stream",
     "text": [
      "Vincent van Gogh cut off only ... | Psychology Journal Article:  80%|████████  | 8/10 [04:18<01:00, 30.29s/it]"
     ]
    },
    {
     "name": "stdout",
     "output_type": "stream",
     "text": [
      "✅ BATCH 8 / 10 DONE for Psychology Journal Article\n"
     ]
    },
    {
     "name": "stderr",
     "output_type": "stream",
     "text": [
      "Vincent van Gogh cut off only ... | Psychology Journal Article:  90%|█████████ | 9/10 [04:47<00:29, 29.69s/it]"
     ]
    },
    {
     "name": "stdout",
     "output_type": "stream",
     "text": [
      "✅ BATCH 9 / 10 DONE for Psychology Journal Article\n"
     ]
    },
    {
     "name": "stderr",
     "output_type": "stream",
     "text": [
      "Vincent van Gogh cut off only ... | Psychology Journal Article: 100%|██████████| 10/10 [05:15<00:00, 31.59s/it]\n"
     ]
    },
    {
     "name": "stdout",
     "output_type": "stream",
     "text": [
      "✅ BATCH 10 / 10 DONE for Psychology Journal Article\n"
     ]
    },
    {
     "name": "stderr",
     "output_type": "stream",
     "text": [
      "Vincent van Gogh cut off only ... | Documentary Script:  10%|█         | 1/10 [00:37<05:39, 37.76s/it]"
     ]
    },
    {
     "name": "stdout",
     "output_type": "stream",
     "text": [
      "✅ BATCH 1 / 10 DONE for Documentary Script\n"
     ]
    },
    {
     "name": "stderr",
     "output_type": "stream",
     "text": [
      "Vincent van Gogh cut off only ... | Documentary Script:  20%|██        | 2/10 [01:15<05:01, 37.69s/it]"
     ]
    },
    {
     "name": "stdout",
     "output_type": "stream",
     "text": [
      "✅ BATCH 2 / 10 DONE for Documentary Script\n"
     ]
    },
    {
     "name": "stderr",
     "output_type": "stream",
     "text": [
      "Vincent van Gogh cut off only ... | Documentary Script:  30%|███       | 3/10 [02:12<05:26, 46.69s/it]"
     ]
    },
    {
     "name": "stdout",
     "output_type": "stream",
     "text": [
      "✅ BATCH 3 / 10 DONE for Documentary Script\n"
     ]
    },
    {
     "name": "stderr",
     "output_type": "stream",
     "text": [
      "Vincent van Gogh cut off only ... | Documentary Script:  40%|████      | 4/10 [02:48<04:15, 42.51s/it]"
     ]
    },
    {
     "name": "stdout",
     "output_type": "stream",
     "text": [
      "✅ BATCH 4 / 10 DONE for Documentary Script\n"
     ]
    },
    {
     "name": "stderr",
     "output_type": "stream",
     "text": [
      "Vincent van Gogh cut off only ... | Documentary Script:  50%|█████     | 5/10 [03:24<03:19, 39.91s/it]"
     ]
    },
    {
     "name": "stdout",
     "output_type": "stream",
     "text": [
      "✅ BATCH 5 / 10 DONE for Documentary Script\n"
     ]
    },
    {
     "name": "stderr",
     "output_type": "stream",
     "text": [
      "Vincent van Gogh cut off only ... | Documentary Script:  60%|██████    | 6/10 [03:56<02:29, 37.25s/it]"
     ]
    },
    {
     "name": "stdout",
     "output_type": "stream",
     "text": [
      "✅ BATCH 6 / 10 DONE for Documentary Script\n"
     ]
    },
    {
     "name": "stderr",
     "output_type": "stream",
     "text": [
      "Vincent van Gogh cut off only ... | Documentary Script:  70%|███████   | 7/10 [04:31<01:49, 36.46s/it]"
     ]
    },
    {
     "name": "stdout",
     "output_type": "stream",
     "text": [
      "✅ BATCH 7 / 10 DONE for Documentary Script\n"
     ]
    },
    {
     "name": "stderr",
     "output_type": "stream",
     "text": [
      "Vincent van Gogh cut off only ... | Documentary Script:  80%|████████  | 8/10 [05:07<01:13, 36.51s/it]"
     ]
    },
    {
     "name": "stdout",
     "output_type": "stream",
     "text": [
      "✅ BATCH 8 / 10 DONE for Documentary Script\n"
     ]
    },
    {
     "name": "stderr",
     "output_type": "stream",
     "text": [
      "Vincent van Gogh cut off only ... | Documentary Script:  90%|█████████ | 9/10 [05:46<00:37, 37.08s/it]"
     ]
    },
    {
     "name": "stdout",
     "output_type": "stream",
     "text": [
      "✅ BATCH 9 / 10 DONE for Documentary Script\n"
     ]
    },
    {
     "name": "stderr",
     "output_type": "stream",
     "text": [
      "Vincent van Gogh cut off only ... | Documentary Script: 100%|██████████| 10/10 [06:18<00:00, 37.84s/it]\n"
     ]
    },
    {
     "name": "stdout",
     "output_type": "stream",
     "text": [
      "✅ BATCH 10 / 10 DONE for Documentary Script\n"
     ]
    },
    {
     "name": "stderr",
     "output_type": "stream",
     "text": [
      "Vincent van Gogh cut off only ... | Historical Biography:  10%|█         | 1/10 [00:28<04:13, 28.21s/it]"
     ]
    },
    {
     "name": "stdout",
     "output_type": "stream",
     "text": [
      "✅ BATCH 1 / 10 DONE for Historical Biography\n"
     ]
    },
    {
     "name": "stderr",
     "output_type": "stream",
     "text": [
      "Vincent van Gogh cut off only ... | Historical Biography:  20%|██        | 2/10 [01:00<04:04, 30.53s/it]"
     ]
    },
    {
     "name": "stdout",
     "output_type": "stream",
     "text": [
      "✅ BATCH 2 / 10 DONE for Historical Biography\n"
     ]
    },
    {
     "name": "stderr",
     "output_type": "stream",
     "text": [
      "Vincent van Gogh cut off only ... | Historical Biography:  30%|███       | 3/10 [01:27<03:22, 28.90s/it]"
     ]
    },
    {
     "name": "stdout",
     "output_type": "stream",
     "text": [
      "✅ BATCH 3 / 10 DONE for Historical Biography\n"
     ]
    },
    {
     "name": "stderr",
     "output_type": "stream",
     "text": [
      "Vincent van Gogh cut off only ... | Historical Biography:  40%|████      | 4/10 [01:54<02:50, 28.35s/it]"
     ]
    },
    {
     "name": "stdout",
     "output_type": "stream",
     "text": [
      "✅ BATCH 4 / 10 DONE for Historical Biography\n"
     ]
    },
    {
     "name": "stderr",
     "output_type": "stream",
     "text": [
      "Vincent van Gogh cut off only ... | Historical Biography:  50%|█████     | 5/10 [02:28<02:31, 30.28s/it]"
     ]
    },
    {
     "name": "stdout",
     "output_type": "stream",
     "text": [
      "✅ BATCH 5 / 10 DONE for Historical Biography\n"
     ]
    },
    {
     "name": "stderr",
     "output_type": "stream",
     "text": [
      "Vincent van Gogh cut off only ... | Historical Biography:  60%|██████    | 6/10 [02:52<01:53, 28.30s/it]"
     ]
    },
    {
     "name": "stdout",
     "output_type": "stream",
     "text": [
      "✅ BATCH 6 / 10 DONE for Historical Biography\n"
     ]
    },
    {
     "name": "stderr",
     "output_type": "stream",
     "text": [
      "Vincent van Gogh cut off only ... | Historical Biography:  70%|███████   | 7/10 [03:17<01:20, 26.98s/it]"
     ]
    },
    {
     "name": "stdout",
     "output_type": "stream",
     "text": [
      "✅ BATCH 7 / 10 DONE for Historical Biography\n"
     ]
    },
    {
     "name": "stderr",
     "output_type": "stream",
     "text": [
      "Vincent van Gogh cut off only ... | Historical Biography:  80%|████████  | 8/10 [03:55<01:00, 30.47s/it]"
     ]
    },
    {
     "name": "stdout",
     "output_type": "stream",
     "text": [
      "✅ BATCH 8 / 10 DONE for Historical Biography\n"
     ]
    },
    {
     "name": "stderr",
     "output_type": "stream",
     "text": [
      "Vincent van Gogh cut off only ... | Historical Biography:  90%|█████████ | 9/10 [04:32<00:32, 32.61s/it]"
     ]
    },
    {
     "name": "stdout",
     "output_type": "stream",
     "text": [
      "✅ BATCH 9 / 10 DONE for Historical Biography\n"
     ]
    },
    {
     "name": "stderr",
     "output_type": "stream",
     "text": [
      "Vincent van Gogh cut off only ... | Historical Biography: 100%|██████████| 10/10 [05:07<00:00, 30.77s/it]\n"
     ]
    },
    {
     "name": "stdout",
     "output_type": "stream",
     "text": [
      "✅ BATCH 10 / 10 DONE for Historical Biography\n"
     ]
    },
    {
     "name": "stderr",
     "output_type": "stream",
     "text": [
      "Vincent van Gogh cut off only ... | Encyclopedia Entry:  10%|█         | 1/10 [00:38<05:42, 38.01s/it]"
     ]
    },
    {
     "name": "stdout",
     "output_type": "stream",
     "text": [
      "✅ BATCH 1 / 10 DONE for Encyclopedia Entry\n"
     ]
    },
    {
     "name": "stderr",
     "output_type": "stream",
     "text": [
      "Vincent van Gogh cut off only ... | Encyclopedia Entry:  20%|██        | 2/10 [01:16<05:08, 38.52s/it]"
     ]
    },
    {
     "name": "stdout",
     "output_type": "stream",
     "text": [
      "✅ BATCH 2 / 10 DONE for Encyclopedia Entry\n"
     ]
    },
    {
     "name": "stderr",
     "output_type": "stream",
     "text": [
      "Vincent van Gogh cut off only ... | Encyclopedia Entry:  30%|███       | 3/10 [01:57<04:34, 39.28s/it]"
     ]
    },
    {
     "name": "stdout",
     "output_type": "stream",
     "text": [
      "✅ BATCH 3 / 10 DONE for Encyclopedia Entry\n"
     ]
    },
    {
     "name": "stderr",
     "output_type": "stream",
     "text": [
      "Vincent van Gogh cut off only ... | Encyclopedia Entry:  40%|████      | 4/10 [02:26<03:33, 35.57s/it]"
     ]
    },
    {
     "name": "stdout",
     "output_type": "stream",
     "text": [
      "✅ BATCH 4 / 10 DONE for Encyclopedia Entry\n"
     ]
    },
    {
     "name": "stderr",
     "output_type": "stream",
     "text": [
      "Vincent van Gogh cut off only ... | Encyclopedia Entry:  50%|█████     | 5/10 [03:01<02:55, 35.10s/it]"
     ]
    },
    {
     "name": "stdout",
     "output_type": "stream",
     "text": [
      "✅ BATCH 5 / 10 DONE for Encyclopedia Entry\n"
     ]
    },
    {
     "name": "stderr",
     "output_type": "stream",
     "text": [
      "Vincent van Gogh cut off only ... | Encyclopedia Entry:  60%|██████    | 6/10 [03:34<02:17, 34.45s/it]"
     ]
    },
    {
     "name": "stdout",
     "output_type": "stream",
     "text": [
      "✅ BATCH 6 / 10 DONE for Encyclopedia Entry\n"
     ]
    },
    {
     "name": "stderr",
     "output_type": "stream",
     "text": [
      "Vincent van Gogh cut off only ... | Encyclopedia Entry:  70%|███████   | 7/10 [04:10<01:45, 35.04s/it]"
     ]
    },
    {
     "name": "stdout",
     "output_type": "stream",
     "text": [
      "✅ BATCH 7 / 10 DONE for Encyclopedia Entry\n"
     ]
    },
    {
     "name": "stderr",
     "output_type": "stream",
     "text": [
      "Vincent van Gogh cut off only ... | Encyclopedia Entry:  80%|████████  | 8/10 [04:50<01:13, 36.63s/it]"
     ]
    },
    {
     "name": "stdout",
     "output_type": "stream",
     "text": [
      "✅ BATCH 8 / 10 DONE for Encyclopedia Entry\n"
     ]
    },
    {
     "name": "stderr",
     "output_type": "stream",
     "text": [
      "Vincent van Gogh cut off only ... | Encyclopedia Entry:  90%|█████████ | 9/10 [05:31<00:38, 38.05s/it]"
     ]
    },
    {
     "name": "stdout",
     "output_type": "stream",
     "text": [
      "✅ BATCH 9 / 10 DONE for Encyclopedia Entry\n"
     ]
    },
    {
     "name": "stderr",
     "output_type": "stream",
     "text": [
      "Vincent van Gogh cut off only ... | Encyclopedia Entry: 100%|██████████| 10/10 [06:05<00:00, 36.57s/it]\n"
     ]
    },
    {
     "name": "stdout",
     "output_type": "stream",
     "text": [
      "✅ BATCH 10 / 10 DONE for Encyclopedia Entry\n"
     ]
    },
    {
     "name": "stderr",
     "output_type": "stream",
     "text": [
      "Vincent van Gogh cut off only ... | Podcast Transcript:  10%|█         | 1/10 [00:31<04:46, 31.81s/it]"
     ]
    },
    {
     "name": "stdout",
     "output_type": "stream",
     "text": [
      "✅ BATCH 1 / 10 DONE for Podcast Transcript\n"
     ]
    },
    {
     "name": "stderr",
     "output_type": "stream",
     "text": [
      "Vincent van Gogh cut off only ... | Podcast Transcript:  20%|██        | 2/10 [01:27<06:08, 46.08s/it]"
     ]
    },
    {
     "name": "stdout",
     "output_type": "stream",
     "text": [
      "✅ BATCH 2 / 10 DONE for Podcast Transcript\n"
     ]
    },
    {
     "name": "stderr",
     "output_type": "stream",
     "text": [
      "Vincent van Gogh cut off only ... | Podcast Transcript:  30%|███       | 3/10 [02:06<04:59, 42.79s/it]"
     ]
    },
    {
     "name": "stdout",
     "output_type": "stream",
     "text": [
      "✅ BATCH 3 / 10 DONE for Podcast Transcript\n"
     ]
    },
    {
     "name": "stderr",
     "output_type": "stream",
     "text": [
      "Vincent van Gogh cut off only ... | Podcast Transcript:  40%|████      | 4/10 [02:45<04:08, 41.34s/it]"
     ]
    },
    {
     "name": "stdout",
     "output_type": "stream",
     "text": [
      "✅ BATCH 4 / 10 DONE for Podcast Transcript\n"
     ]
    },
    {
     "name": "stderr",
     "output_type": "stream",
     "text": [
      "Vincent van Gogh cut off only ... | Podcast Transcript:  50%|█████     | 5/10 [03:16<03:08, 37.62s/it]"
     ]
    },
    {
     "name": "stdout",
     "output_type": "stream",
     "text": [
      "✅ BATCH 5 / 10 DONE for Podcast Transcript\n"
     ]
    },
    {
     "name": "stderr",
     "output_type": "stream",
     "text": [
      "Vincent van Gogh cut off only ... | Podcast Transcript:  60%|██████    | 6/10 [03:53<02:28, 37.17s/it]"
     ]
    },
    {
     "name": "stdout",
     "output_type": "stream",
     "text": [
      "✅ BATCH 6 / 10 DONE for Podcast Transcript\n"
     ]
    },
    {
     "name": "stderr",
     "output_type": "stream",
     "text": [
      "Vincent van Gogh cut off only ... | Podcast Transcript:  70%|███████   | 7/10 [04:28<01:49, 36.61s/it]"
     ]
    },
    {
     "name": "stdout",
     "output_type": "stream",
     "text": [
      "✅ BATCH 7 / 10 DONE for Podcast Transcript\n"
     ]
    },
    {
     "name": "stderr",
     "output_type": "stream",
     "text": [
      "Vincent van Gogh cut off only ... | Podcast Transcript:  80%|████████  | 8/10 [05:03<01:12, 36.07s/it]"
     ]
    },
    {
     "name": "stdout",
     "output_type": "stream",
     "text": [
      "✅ BATCH 8 / 10 DONE for Podcast Transcript\n"
     ]
    },
    {
     "name": "stderr",
     "output_type": "stream",
     "text": [
      "Vincent van Gogh cut off only ... | Podcast Transcript:  90%|█████████ | 9/10 [05:36<00:35, 35.18s/it]"
     ]
    },
    {
     "name": "stdout",
     "output_type": "stream",
     "text": [
      "✅ BATCH 9 / 10 DONE for Podcast Transcript\n"
     ]
    },
    {
     "name": "stderr",
     "output_type": "stream",
     "text": [
      "Vincent van Gogh cut off only ... | Podcast Transcript: 100%|██████████| 10/10 [06:11<00:00, 37.17s/it]\n"
     ]
    },
    {
     "name": "stdout",
     "output_type": "stream",
     "text": [
      "✅ BATCH 10 / 10 DONE for Podcast Transcript\n"
     ]
    },
    {
     "name": "stderr",
     "output_type": "stream",
     "text": [
      "Vincent van Gogh cut off only ... | Public Radio Segment:  10%|█         | 1/10 [00:34<05:14, 34.98s/it]"
     ]
    },
    {
     "name": "stdout",
     "output_type": "stream",
     "text": [
      "✅ BATCH 1 / 10 DONE for Public Radio Segment\n"
     ]
    },
    {
     "name": "stderr",
     "output_type": "stream",
     "text": [
      "Vincent van Gogh cut off only ... | Public Radio Segment:  20%|██        | 2/10 [01:05<04:16, 32.07s/it]"
     ]
    },
    {
     "name": "stdout",
     "output_type": "stream",
     "text": [
      "✅ BATCH 2 / 10 DONE for Public Radio Segment\n"
     ]
    },
    {
     "name": "stderr",
     "output_type": "stream",
     "text": [
      "Vincent van Gogh cut off only ... | Public Radio Segment:  30%|███       | 3/10 [01:39<03:53, 33.35s/it]"
     ]
    },
    {
     "name": "stdout",
     "output_type": "stream",
     "text": [
      "✅ BATCH 3 / 10 DONE for Public Radio Segment\n"
     ]
    },
    {
     "name": "stderr",
     "output_type": "stream",
     "text": [
      "Vincent van Gogh cut off only ... | Public Radio Segment:  40%|████      | 4/10 [02:13<03:19, 33.29s/it]"
     ]
    },
    {
     "name": "stdout",
     "output_type": "stream",
     "text": [
      "✅ BATCH 4 / 10 DONE for Public Radio Segment\n"
     ]
    },
    {
     "name": "stderr",
     "output_type": "stream",
     "text": [
      "Vincent van Gogh cut off only ... | Public Radio Segment:  50%|█████     | 5/10 [02:44<02:43, 32.75s/it]"
     ]
    },
    {
     "name": "stdout",
     "output_type": "stream",
     "text": [
      "✅ BATCH 5 / 10 DONE for Public Radio Segment\n"
     ]
    },
    {
     "name": "stderr",
     "output_type": "stream",
     "text": [
      "Vincent van Gogh cut off only ... | Public Radio Segment:  60%|██████    | 6/10 [03:22<02:17, 34.37s/it]"
     ]
    },
    {
     "name": "stdout",
     "output_type": "stream",
     "text": [
      "✅ BATCH 6 / 10 DONE for Public Radio Segment\n"
     ]
    },
    {
     "name": "stderr",
     "output_type": "stream",
     "text": [
      "Vincent van Gogh cut off only ... | Public Radio Segment:  70%|███████   | 7/10 [03:49<01:35, 31.85s/it]"
     ]
    },
    {
     "name": "stdout",
     "output_type": "stream",
     "text": [
      "✅ BATCH 7 / 10 DONE for Public Radio Segment\n"
     ]
    },
    {
     "name": "stderr",
     "output_type": "stream",
     "text": [
      "Vincent van Gogh cut off only ... | Public Radio Segment:  80%|████████  | 8/10 [04:22<01:04, 32.43s/it]"
     ]
    },
    {
     "name": "stdout",
     "output_type": "stream",
     "text": [
      "✅ BATCH 8 / 10 DONE for Public Radio Segment\n"
     ]
    },
    {
     "name": "stderr",
     "output_type": "stream",
     "text": [
      "Vincent van Gogh cut off only ... | Public Radio Segment:  90%|█████████ | 9/10 [04:58<00:33, 33.52s/it]"
     ]
    },
    {
     "name": "stdout",
     "output_type": "stream",
     "text": [
      "✅ BATCH 9 / 10 DONE for Public Radio Segment\n"
     ]
    },
    {
     "name": "stderr",
     "output_type": "stream",
     "text": [
      "Vincent van Gogh cut off only ... | Public Radio Segment: 100%|██████████| 10/10 [05:28<00:00, 32.84s/it]\n"
     ]
    },
    {
     "name": "stdout",
     "output_type": "stream",
     "text": [
      "✅ BATCH 10 / 10 DONE for Public Radio Segment\n"
     ]
    },
    {
     "name": "stderr",
     "output_type": "stream",
     "text": [
      "Vincent van Gogh cut off only ... | Art Exhibition Catalog:  10%|█         | 1/10 [00:30<04:35, 30.64s/it]"
     ]
    },
    {
     "name": "stdout",
     "output_type": "stream",
     "text": [
      "✅ BATCH 1 / 10 DONE for Art Exhibition Catalog\n"
     ]
    },
    {
     "name": "stderr",
     "output_type": "stream",
     "text": [
      "Vincent van Gogh cut off only ... | Art Exhibition Catalog:  20%|██        | 2/10 [01:13<05:03, 37.94s/it]"
     ]
    },
    {
     "name": "stdout",
     "output_type": "stream",
     "text": [
      "✅ BATCH 2 / 10 DONE for Art Exhibition Catalog\n"
     ]
    },
    {
     "name": "stderr",
     "output_type": "stream",
     "text": [
      "Vincent van Gogh cut off only ... | Art Exhibition Catalog:  30%|███       | 3/10 [01:49<04:19, 37.01s/it]"
     ]
    },
    {
     "name": "stdout",
     "output_type": "stream",
     "text": [
      "✅ BATCH 3 / 10 DONE for Art Exhibition Catalog\n"
     ]
    },
    {
     "name": "stderr",
     "output_type": "stream",
     "text": [
      "Vincent van Gogh cut off only ... | Art Exhibition Catalog:  40%|████      | 4/10 [02:27<03:45, 37.55s/it]"
     ]
    },
    {
     "name": "stdout",
     "output_type": "stream",
     "text": [
      "✅ BATCH 4 / 10 DONE for Art Exhibition Catalog\n"
     ]
    },
    {
     "name": "stderr",
     "output_type": "stream",
     "text": [
      "Vincent van Gogh cut off only ... | Art Exhibition Catalog:  50%|█████     | 5/10 [02:55<02:49, 33.86s/it]"
     ]
    },
    {
     "name": "stdout",
     "output_type": "stream",
     "text": [
      "✅ BATCH 5 / 10 DONE for Art Exhibition Catalog\n"
     ]
    },
    {
     "name": "stderr",
     "output_type": "stream",
     "text": [
      "Vincent van Gogh cut off only ... | Art Exhibition Catalog:  60%|██████    | 6/10 [03:36<02:25, 36.32s/it]"
     ]
    },
    {
     "name": "stdout",
     "output_type": "stream",
     "text": [
      "✅ BATCH 6 / 10 DONE for Art Exhibition Catalog\n"
     ]
    },
    {
     "name": "stderr",
     "output_type": "stream",
     "text": [
      "Vincent van Gogh cut off only ... | Art Exhibition Catalog:  70%|███████   | 7/10 [04:11<01:47, 35.90s/it]"
     ]
    },
    {
     "name": "stdout",
     "output_type": "stream",
     "text": [
      "✅ BATCH 7 / 10 DONE for Art Exhibition Catalog\n"
     ]
    },
    {
     "name": "stderr",
     "output_type": "stream",
     "text": [
      "Vincent van Gogh cut off only ... | Art Exhibition Catalog:  80%|████████  | 8/10 [04:50<01:13, 36.81s/it]"
     ]
    },
    {
     "name": "stdout",
     "output_type": "stream",
     "text": [
      "✅ BATCH 8 / 10 DONE for Art Exhibition Catalog\n"
     ]
    },
    {
     "name": "stderr",
     "output_type": "stream",
     "text": [
      "Vincent van Gogh cut off only ... | Art Exhibition Catalog:  90%|█████████ | 9/10 [05:16<00:33, 33.53s/it]"
     ]
    },
    {
     "name": "stdout",
     "output_type": "stream",
     "text": [
      "✅ BATCH 9 / 10 DONE for Art Exhibition Catalog\n"
     ]
    },
    {
     "name": "stderr",
     "output_type": "stream",
     "text": [
      "Vincent van Gogh cut off only ... | Art Exhibition Catalog: 100%|██████████| 10/10 [05:49<00:00, 34.95s/it]\n"
     ]
    },
    {
     "name": "stdout",
     "output_type": "stream",
     "text": [
      "✅ BATCH 10 / 10 DONE for Art Exhibition Catalog\n"
     ]
    },
    {
     "name": "stderr",
     "output_type": "stream",
     "text": [
      "Vincent van Gogh cut off only ... | Psychiatry Seminar Handout:  10%|█         | 1/10 [00:37<05:39, 37.67s/it]"
     ]
    },
    {
     "name": "stdout",
     "output_type": "stream",
     "text": [
      "✅ BATCH 1 / 10 DONE for Psychiatry Seminar Handout\n"
     ]
    },
    {
     "name": "stderr",
     "output_type": "stream",
     "text": [
      "Vincent van Gogh cut off only ... | Psychiatry Seminar Handout:  20%|██        | 2/10 [01:19<05:21, 40.23s/it]"
     ]
    },
    {
     "name": "stdout",
     "output_type": "stream",
     "text": [
      "✅ BATCH 2 / 10 DONE for Psychiatry Seminar Handout\n"
     ]
    },
    {
     "name": "stderr",
     "output_type": "stream",
     "text": [
      "Vincent van Gogh cut off only ... | Psychiatry Seminar Handout:  30%|███       | 3/10 [01:52<04:17, 36.79s/it]"
     ]
    },
    {
     "name": "stdout",
     "output_type": "stream",
     "text": [
      "✅ BATCH 3 / 10 DONE for Psychiatry Seminar Handout\n"
     ]
    },
    {
     "name": "stderr",
     "output_type": "stream",
     "text": [
      "Vincent van Gogh cut off only ... | Psychiatry Seminar Handout:  40%|████      | 4/10 [02:29<03:41, 36.90s/it]"
     ]
    },
    {
     "name": "stdout",
     "output_type": "stream",
     "text": [
      "✅ BATCH 4 / 10 DONE for Psychiatry Seminar Handout\n"
     ]
    },
    {
     "name": "stderr",
     "output_type": "stream",
     "text": [
      "Vincent van Gogh cut off only ... | Psychiatry Seminar Handout:  50%|█████     | 5/10 [03:02<02:57, 35.59s/it]"
     ]
    },
    {
     "name": "stdout",
     "output_type": "stream",
     "text": [
      "✅ BATCH 5 / 10 DONE for Psychiatry Seminar Handout\n"
     ]
    },
    {
     "name": "stderr",
     "output_type": "stream",
     "text": [
      "Vincent van Gogh cut off only ... | Psychiatry Seminar Handout:  60%|██████    | 6/10 [03:48<02:36, 39.02s/it]"
     ]
    },
    {
     "name": "stdout",
     "output_type": "stream",
     "text": [
      "✅ BATCH 6 / 10 DONE for Psychiatry Seminar Handout\n"
     ]
    },
    {
     "name": "stderr",
     "output_type": "stream",
     "text": [
      "Vincent van Gogh cut off only ... | Psychiatry Seminar Handout:  70%|███████   | 7/10 [04:20<01:50, 36.68s/it]"
     ]
    },
    {
     "name": "stdout",
     "output_type": "stream",
     "text": [
      "✅ BATCH 7 / 10 DONE for Psychiatry Seminar Handout\n"
     ]
    },
    {
     "name": "stderr",
     "output_type": "stream",
     "text": [
      "Vincent van Gogh cut off only ... | Psychiatry Seminar Handout:  80%|████████  | 8/10 [04:55<01:12, 36.33s/it]"
     ]
    },
    {
     "name": "stdout",
     "output_type": "stream",
     "text": [
      "✅ BATCH 8 / 10 DONE for Psychiatry Seminar Handout\n"
     ]
    },
    {
     "name": "stderr",
     "output_type": "stream",
     "text": [
      "Vincent van Gogh cut off only ... | Psychiatry Seminar Handout:  90%|█████████ | 9/10 [05:25<00:34, 34.13s/it]"
     ]
    },
    {
     "name": "stdout",
     "output_type": "stream",
     "text": [
      "✅ BATCH 9 / 10 DONE for Psychiatry Seminar Handout\n"
     ]
    },
    {
     "name": "stderr",
     "output_type": "stream",
     "text": [
      "Vincent van Gogh cut off only ... | Psychiatry Seminar Handout: 100%|██████████| 10/10 [06:05<00:00, 36.50s/it]\n"
     ]
    },
    {
     "name": "stdout",
     "output_type": "stream",
     "text": [
      "✅ BATCH 10 / 10 DONE for Psychiatry Seminar Handout\n"
     ]
    },
    {
     "name": "stderr",
     "output_type": "stream",
     "text": [
      "Vincent van Gogh cut off only ... | Cultural Studies Paper:  10%|█         | 1/10 [00:34<05:11, 34.63s/it]"
     ]
    },
    {
     "name": "stdout",
     "output_type": "stream",
     "text": [
      "✅ BATCH 1 / 10 DONE for Cultural Studies Paper\n"
     ]
    },
    {
     "name": "stderr",
     "output_type": "stream",
     "text": [
      "Vincent van Gogh cut off only ... | Cultural Studies Paper:  20%|██        | 2/10 [01:04<04:16, 32.06s/it]"
     ]
    },
    {
     "name": "stdout",
     "output_type": "stream",
     "text": [
      "✅ BATCH 2 / 10 DONE for Cultural Studies Paper\n"
     ]
    },
    {
     "name": "stderr",
     "output_type": "stream",
     "text": [
      "Vincent van Gogh cut off only ... | Cultural Studies Paper:  30%|███       | 3/10 [01:35<03:39, 31.39s/it]"
     ]
    },
    {
     "name": "stdout",
     "output_type": "stream",
     "text": [
      "✅ BATCH 3 / 10 DONE for Cultural Studies Paper\n"
     ]
    },
    {
     "name": "stderr",
     "output_type": "stream",
     "text": [
      "Vincent van Gogh cut off only ... | Cultural Studies Paper:  40%|████      | 4/10 [02:04<03:02, 30.37s/it]"
     ]
    },
    {
     "name": "stdout",
     "output_type": "stream",
     "text": [
      "✅ BATCH 4 / 10 DONE for Cultural Studies Paper\n"
     ]
    },
    {
     "name": "stderr",
     "output_type": "stream",
     "text": [
      "Vincent van Gogh cut off only ... | Cultural Studies Paper:  50%|█████     | 5/10 [02:39<02:40, 32.19s/it]"
     ]
    },
    {
     "name": "stdout",
     "output_type": "stream",
     "text": [
      "✅ BATCH 5 / 10 DONE for Cultural Studies Paper\n"
     ]
    },
    {
     "name": "stderr",
     "output_type": "stream",
     "text": [
      "Vincent van Gogh cut off only ... | Cultural Studies Paper:  60%|██████    | 6/10 [03:34<02:39, 39.91s/it]"
     ]
    },
    {
     "name": "stdout",
     "output_type": "stream",
     "text": [
      "✅ BATCH 6 / 10 DONE for Cultural Studies Paper\n"
     ]
    },
    {
     "name": "stderr",
     "output_type": "stream",
     "text": [
      "Vincent van Gogh cut off only ... | Cultural Studies Paper:  70%|███████   | 7/10 [04:11<01:56, 38.80s/it]"
     ]
    },
    {
     "name": "stdout",
     "output_type": "stream",
     "text": [
      "✅ BATCH 7 / 10 DONE for Cultural Studies Paper\n"
     ]
    },
    {
     "name": "stderr",
     "output_type": "stream",
     "text": [
      "Vincent van Gogh cut off only ... | Cultural Studies Paper:  80%|████████  | 8/10 [04:43<01:13, 36.68s/it]"
     ]
    },
    {
     "name": "stdout",
     "output_type": "stream",
     "text": [
      "✅ BATCH 8 / 10 DONE for Cultural Studies Paper\n"
     ]
    },
    {
     "name": "stderr",
     "output_type": "stream",
     "text": [
      "Vincent van Gogh cut off only ... | Cultural Studies Paper:  90%|█████████ | 9/10 [05:19<00:36, 36.41s/it]"
     ]
    },
    {
     "name": "stdout",
     "output_type": "stream",
     "text": [
      "✅ BATCH 9 / 10 DONE for Cultural Studies Paper\n"
     ]
    },
    {
     "name": "stderr",
     "output_type": "stream",
     "text": [
      "Vincent van Gogh cut off only ... | Cultural Studies Paper: 100%|██████████| 10/10 [05:47<00:00, 34.79s/it]\n"
     ]
    },
    {
     "name": "stdout",
     "output_type": "stream",
     "text": [
      "✅ BATCH 10 / 10 DONE for Cultural Studies Paper\n"
     ]
    },
    {
     "name": "stderr",
     "output_type": "stream",
     "text": [
      "Vincent van Gogh cut off only ... | Personal Diary Entry:  10%|█         | 1/10 [00:28<04:14, 28.24s/it]"
     ]
    },
    {
     "name": "stdout",
     "output_type": "stream",
     "text": [
      "✅ BATCH 1 / 10 DONE for Personal Diary Entry\n"
     ]
    },
    {
     "name": "stderr",
     "output_type": "stream",
     "text": [
      "Vincent van Gogh cut off only ... | Personal Diary Entry:  20%|██        | 2/10 [00:50<03:17, 24.72s/it]"
     ]
    },
    {
     "name": "stdout",
     "output_type": "stream",
     "text": [
      "✅ BATCH 2 / 10 DONE for Personal Diary Entry\n"
     ]
    },
    {
     "name": "stderr",
     "output_type": "stream",
     "text": [
      "Vincent van Gogh cut off only ... | Personal Diary Entry:  30%|███       | 3/10 [01:13<02:46, 23.82s/it]"
     ]
    },
    {
     "name": "stdout",
     "output_type": "stream",
     "text": [
      "✅ BATCH 3 / 10 DONE for Personal Diary Entry\n"
     ]
    },
    {
     "name": "stderr",
     "output_type": "stream",
     "text": [
      "Vincent van Gogh cut off only ... | Personal Diary Entry:  40%|████      | 4/10 [01:35<02:18, 23.15s/it]"
     ]
    },
    {
     "name": "stdout",
     "output_type": "stream",
     "text": [
      "✅ BATCH 4 / 10 DONE for Personal Diary Entry\n"
     ]
    },
    {
     "name": "stderr",
     "output_type": "stream",
     "text": [
      "Vincent van Gogh cut off only ... | Personal Diary Entry:  50%|█████     | 5/10 [01:59<01:57, 23.55s/it]"
     ]
    },
    {
     "name": "stdout",
     "output_type": "stream",
     "text": [
      "✅ BATCH 5 / 10 DONE for Personal Diary Entry\n"
     ]
    },
    {
     "name": "stderr",
     "output_type": "stream",
     "text": [
      "Vincent van Gogh cut off only ... | Personal Diary Entry:  60%|██████    | 6/10 [02:21<01:31, 22.91s/it]"
     ]
    },
    {
     "name": "stdout",
     "output_type": "stream",
     "text": [
      "✅ BATCH 6 / 10 DONE for Personal Diary Entry\n"
     ]
    },
    {
     "name": "stderr",
     "output_type": "stream",
     "text": [
      "Vincent van Gogh cut off only ... | Personal Diary Entry:  70%|███████   | 7/10 [02:44<01:09, 23.03s/it]"
     ]
    },
    {
     "name": "stdout",
     "output_type": "stream",
     "text": [
      "✅ BATCH 7 / 10 DONE for Personal Diary Entry\n"
     ]
    },
    {
     "name": "stderr",
     "output_type": "stream",
     "text": [
      "Vincent van Gogh cut off only ... | Personal Diary Entry:  80%|████████  | 8/10 [03:08<00:46, 23.17s/it]"
     ]
    },
    {
     "name": "stdout",
     "output_type": "stream",
     "text": [
      "✅ BATCH 8 / 10 DONE for Personal Diary Entry\n"
     ]
    },
    {
     "name": "stderr",
     "output_type": "stream",
     "text": [
      "Vincent van Gogh cut off only ... | Personal Diary Entry:  90%|█████████ | 9/10 [03:30<00:23, 23.02s/it]"
     ]
    },
    {
     "name": "stdout",
     "output_type": "stream",
     "text": [
      "✅ BATCH 9 / 10 DONE for Personal Diary Entry\n"
     ]
    },
    {
     "name": "stderr",
     "output_type": "stream",
     "text": [
      "Vincent van Gogh cut off only ... | Personal Diary Entry: 100%|██████████| 10/10 [03:51<00:00, 23.12s/it]\n"
     ]
    },
    {
     "name": "stdout",
     "output_type": "stream",
     "text": [
      "✅ BATCH 10 / 10 DONE for Personal Diary Entry\n"
     ]
    },
    {
     "name": "stderr",
     "output_type": "stream",
     "text": [
      "Vincent van Gogh cut off only ... | Social Media Thread:  10%|█         | 1/10 [00:25<03:52, 25.85s/it]"
     ]
    },
    {
     "name": "stdout",
     "output_type": "stream",
     "text": [
      "✅ BATCH 1 / 10 DONE for Social Media Thread\n"
     ]
    },
    {
     "name": "stderr",
     "output_type": "stream",
     "text": [
      "Vincent van Gogh cut off only ... | Social Media Thread:  20%|██        | 2/10 [00:49<03:15, 24.43s/it]"
     ]
    },
    {
     "name": "stdout",
     "output_type": "stream",
     "text": [
      "✅ BATCH 2 / 10 DONE for Social Media Thread\n"
     ]
    },
    {
     "name": "stderr",
     "output_type": "stream",
     "text": [
      "Vincent van Gogh cut off only ... | Social Media Thread:  30%|███       | 3/10 [01:12<02:46, 23.78s/it]"
     ]
    },
    {
     "name": "stdout",
     "output_type": "stream",
     "text": [
      "✅ BATCH 3 / 10 DONE for Social Media Thread\n"
     ]
    },
    {
     "name": "stderr",
     "output_type": "stream",
     "text": [
      "Vincent van Gogh cut off only ... | Social Media Thread:  40%|████      | 4/10 [01:45<02:45, 27.58s/it]"
     ]
    },
    {
     "name": "stdout",
     "output_type": "stream",
     "text": [
      "✅ BATCH 4 / 10 DONE for Social Media Thread\n"
     ]
    },
    {
     "name": "stderr",
     "output_type": "stream",
     "text": [
      "Vincent van Gogh cut off only ... | Social Media Thread:  50%|█████     | 5/10 [02:11<02:14, 26.97s/it]"
     ]
    },
    {
     "name": "stdout",
     "output_type": "stream",
     "text": [
      "✅ BATCH 5 / 10 DONE for Social Media Thread\n"
     ]
    },
    {
     "name": "stderr",
     "output_type": "stream",
     "text": [
      "Vincent van Gogh cut off only ... | Social Media Thread:  60%|██████    | 6/10 [02:38<01:47, 26.97s/it]"
     ]
    },
    {
     "name": "stdout",
     "output_type": "stream",
     "text": [
      "✅ BATCH 6 / 10 DONE for Social Media Thread\n"
     ]
    },
    {
     "name": "stderr",
     "output_type": "stream",
     "text": [
      "Vincent van Gogh cut off only ... | Social Media Thread:  70%|███████   | 7/10 [03:09<01:24, 28.23s/it]"
     ]
    },
    {
     "name": "stdout",
     "output_type": "stream",
     "text": [
      "✅ BATCH 7 / 10 DONE for Social Media Thread\n"
     ]
    },
    {
     "name": "stderr",
     "output_type": "stream",
     "text": [
      "Vincent van Gogh cut off only ... | Social Media Thread:  80%|████████  | 8/10 [03:32<00:53, 26.66s/it]"
     ]
    },
    {
     "name": "stdout",
     "output_type": "stream",
     "text": [
      "✅ BATCH 8 / 10 DONE for Social Media Thread\n"
     ]
    },
    {
     "name": "stderr",
     "output_type": "stream",
     "text": [
      "Vincent van Gogh cut off only ... | Social Media Thread:  90%|█████████ | 9/10 [04:09<00:29, 29.83s/it]"
     ]
    },
    {
     "name": "stdout",
     "output_type": "stream",
     "text": [
      "✅ BATCH 9 / 10 DONE for Social Media Thread\n"
     ]
    },
    {
     "name": "stderr",
     "output_type": "stream",
     "text": [
      "Vincent van Gogh cut off only ... | Social Media Thread: 100%|██████████| 10/10 [04:27<00:00, 26.80s/it]\n"
     ]
    },
    {
     "name": "stdout",
     "output_type": "stream",
     "text": [
      "✅ BATCH 10 / 10 DONE for Social Media Thread\n"
     ]
    },
    {
     "name": "stderr",
     "output_type": "stream",
     "text": [
      "Vincent van Gogh cut off only ... | Online Forum Post:  10%|█         | 1/10 [00:37<05:39, 37.75s/it]"
     ]
    },
    {
     "name": "stdout",
     "output_type": "stream",
     "text": [
      "✅ BATCH 1 / 10 DONE for Online Forum Post\n"
     ]
    },
    {
     "name": "stderr",
     "output_type": "stream",
     "text": [
      "Vincent van Gogh cut off only ... | Online Forum Post:  20%|██        | 2/10 [01:09<04:31, 33.93s/it]"
     ]
    },
    {
     "name": "stdout",
     "output_type": "stream",
     "text": [
      "✅ BATCH 2 / 10 DONE for Online Forum Post\n"
     ]
    },
    {
     "name": "stderr",
     "output_type": "stream",
     "text": [
      "Vincent van Gogh cut off only ... | Online Forum Post:  30%|███       | 3/10 [01:36<03:38, 31.17s/it]"
     ]
    },
    {
     "name": "stdout",
     "output_type": "stream",
     "text": [
      "✅ BATCH 3 / 10 DONE for Online Forum Post\n"
     ]
    },
    {
     "name": "stderr",
     "output_type": "stream",
     "text": [
      "Vincent van Gogh cut off only ... | Online Forum Post:  40%|████      | 4/10 [02:05<03:00, 30.01s/it]"
     ]
    },
    {
     "name": "stdout",
     "output_type": "stream",
     "text": [
      "✅ BATCH 4 / 10 DONE for Online Forum Post\n"
     ]
    },
    {
     "name": "stderr",
     "output_type": "stream",
     "text": [
      "Vincent van Gogh cut off only ... | Online Forum Post:  50%|█████     | 5/10 [02:25<02:13, 26.65s/it]"
     ]
    },
    {
     "name": "stdout",
     "output_type": "stream",
     "text": [
      "✅ BATCH 5 / 10 DONE for Online Forum Post\n"
     ]
    },
    {
     "name": "stderr",
     "output_type": "stream",
     "text": [
      "Vincent van Gogh cut off only ... | Online Forum Post:  60%|██████    | 6/10 [03:04<02:03, 30.76s/it]"
     ]
    },
    {
     "name": "stdout",
     "output_type": "stream",
     "text": [
      "✅ BATCH 6 / 10 DONE for Online Forum Post\n"
     ]
    },
    {
     "name": "stderr",
     "output_type": "stream",
     "text": [
      "Vincent van Gogh cut off only ... | Online Forum Post:  70%|███████   | 7/10 [04:03<01:59, 39.88s/it]"
     ]
    },
    {
     "name": "stdout",
     "output_type": "stream",
     "text": [
      "✅ BATCH 7 / 10 DONE for Online Forum Post\n"
     ]
    },
    {
     "name": "stderr",
     "output_type": "stream",
     "text": [
      "Vincent van Gogh cut off only ... | Online Forum Post:  80%|████████  | 8/10 [04:29<01:11, 35.54s/it]"
     ]
    },
    {
     "name": "stdout",
     "output_type": "stream",
     "text": [
      "✅ BATCH 8 / 10 DONE for Online Forum Post\n"
     ]
    },
    {
     "name": "stderr",
     "output_type": "stream",
     "text": [
      "Vincent van Gogh cut off only ... | Online Forum Post:  90%|█████████ | 9/10 [04:50<00:31, 31.02s/it]"
     ]
    },
    {
     "name": "stdout",
     "output_type": "stream",
     "text": [
      "✅ BATCH 9 / 10 DONE for Online Forum Post\n"
     ]
    },
    {
     "name": "stderr",
     "output_type": "stream",
     "text": [
      "Vincent van Gogh cut off only ... | Online Forum Post: 100%|██████████| 10/10 [05:22<00:00, 32.24s/it]\n"
     ]
    },
    {
     "name": "stdout",
     "output_type": "stream",
     "text": [
      "✅ BATCH 10 / 10 DONE for Online Forum Post\n"
     ]
    },
    {
     "name": "stderr",
     "output_type": "stream",
     "text": [
      "Vincent van Gogh cut off only ... | Educational Infographic:  10%|█         | 1/10 [00:23<03:31, 23.50s/it]"
     ]
    },
    {
     "name": "stdout",
     "output_type": "stream",
     "text": [
      "✅ BATCH 1 / 10 DONE for Educational Infographic\n"
     ]
    },
    {
     "name": "stderr",
     "output_type": "stream",
     "text": [
      "Vincent van Gogh cut off only ... | Educational Infographic:  20%|██        | 2/10 [00:54<03:41, 27.64s/it]"
     ]
    },
    {
     "name": "stdout",
     "output_type": "stream",
     "text": [
      "✅ BATCH 2 / 10 DONE for Educational Infographic\n"
     ]
    },
    {
     "name": "stderr",
     "output_type": "stream",
     "text": [
      "Vincent van Gogh cut off only ... | Educational Infographic:  30%|███       | 3/10 [01:20<03:08, 26.90s/it]"
     ]
    },
    {
     "name": "stdout",
     "output_type": "stream",
     "text": [
      "✅ BATCH 3 / 10 DONE for Educational Infographic\n"
     ]
    },
    {
     "name": "stderr",
     "output_type": "stream",
     "text": [
      "Vincent van Gogh cut off only ... | Educational Infographic:  40%|████      | 4/10 [01:55<03:01, 30.28s/it]"
     ]
    },
    {
     "name": "stdout",
     "output_type": "stream",
     "text": [
      "✅ BATCH 4 / 10 DONE for Educational Infographic\n"
     ]
    },
    {
     "name": "stderr",
     "output_type": "stream",
     "text": [
      "Vincent van Gogh cut off only ... | Educational Infographic:  50%|█████     | 5/10 [02:19<02:20, 28.17s/it]"
     ]
    },
    {
     "name": "stdout",
     "output_type": "stream",
     "text": [
      "✅ BATCH 5 / 10 DONE for Educational Infographic\n"
     ]
    },
    {
     "name": "stderr",
     "output_type": "stream",
     "text": [
      "Vincent van Gogh cut off only ... | Educational Infographic:  60%|██████    | 6/10 [02:45<01:49, 27.28s/it]"
     ]
    },
    {
     "name": "stdout",
     "output_type": "stream",
     "text": [
      "✅ BATCH 6 / 10 DONE for Educational Infographic\n"
     ]
    },
    {
     "name": "stderr",
     "output_type": "stream",
     "text": [
      "Vincent van Gogh cut off only ... | Educational Infographic:  70%|███████   | 7/10 [03:17<01:26, 28.67s/it]"
     ]
    },
    {
     "name": "stdout",
     "output_type": "stream",
     "text": [
      "✅ BATCH 7 / 10 DONE for Educational Infographic\n"
     ]
    },
    {
     "name": "stderr",
     "output_type": "stream",
     "text": [
      "Vincent van Gogh cut off only ... | Educational Infographic:  80%|████████  | 8/10 [04:12<01:14, 37.32s/it]"
     ]
    },
    {
     "name": "stdout",
     "output_type": "stream",
     "text": [
      "✅ BATCH 8 / 10 DONE for Educational Infographic\n"
     ]
    },
    {
     "name": "stderr",
     "output_type": "stream",
     "text": [
      "Vincent van Gogh cut off only ... | Educational Infographic:  90%|█████████ | 9/10 [04:36<00:32, 32.95s/it]"
     ]
    },
    {
     "name": "stdout",
     "output_type": "stream",
     "text": [
      "✅ BATCH 9 / 10 DONE for Educational Infographic\n"
     ]
    },
    {
     "name": "stderr",
     "output_type": "stream",
     "text": [
      "Vincent van Gogh cut off only ... | Educational Infographic: 100%|██████████| 10/10 [05:00<00:00, 30.07s/it]\n"
     ]
    },
    {
     "name": "stdout",
     "output_type": "stream",
     "text": [
      "✅ BATCH 10 / 10 DONE for Educational Infographic\n"
     ]
    },
    {
     "name": "stderr",
     "output_type": "stream",
     "text": [
      "Vincent van Gogh cut off only ... | Television Documentary Narration:  10%|█         | 1/10 [00:35<05:15, 35.09s/it]"
     ]
    },
    {
     "name": "stdout",
     "output_type": "stream",
     "text": [
      "✅ BATCH 1 / 10 DONE for Television Documentary Narration\n"
     ]
    },
    {
     "name": "stderr",
     "output_type": "stream",
     "text": [
      "Vincent van Gogh cut off only ... | Television Documentary Narration:  20%|██        | 2/10 [01:08<04:32, 34.08s/it]"
     ]
    },
    {
     "name": "stdout",
     "output_type": "stream",
     "text": [
      "✅ BATCH 2 / 10 DONE for Television Documentary Narration\n"
     ]
    },
    {
     "name": "stderr",
     "output_type": "stream",
     "text": [
      "Vincent van Gogh cut off only ... | Television Documentary Narration:  30%|███       | 3/10 [01:35<03:36, 30.92s/it]"
     ]
    },
    {
     "name": "stdout",
     "output_type": "stream",
     "text": [
      "✅ BATCH 3 / 10 DONE for Television Documentary Narration\n"
     ]
    },
    {
     "name": "stderr",
     "output_type": "stream",
     "text": [
      "Vincent van Gogh cut off only ... | Television Documentary Narration:  40%|████      | 4/10 [02:05<03:01, 30.32s/it]"
     ]
    },
    {
     "name": "stdout",
     "output_type": "stream",
     "text": [
      "✅ BATCH 4 / 10 DONE for Television Documentary Narration\n"
     ]
    },
    {
     "name": "stderr",
     "output_type": "stream",
     "text": [
      "Vincent van Gogh cut off only ... | Television Documentary Narration:  50%|█████     | 5/10 [02:36<02:34, 30.91s/it]"
     ]
    },
    {
     "name": "stdout",
     "output_type": "stream",
     "text": [
      "✅ BATCH 5 / 10 DONE for Television Documentary Narration\n"
     ]
    },
    {
     "name": "stderr",
     "output_type": "stream",
     "text": [
      "Vincent van Gogh cut off only ... | Television Documentary Narration:  60%|██████    | 6/10 [03:02<01:56, 29.25s/it]"
     ]
    },
    {
     "name": "stdout",
     "output_type": "stream",
     "text": [
      "✅ BATCH 6 / 10 DONE for Television Documentary Narration\n"
     ]
    },
    {
     "name": "stderr",
     "output_type": "stream",
     "text": [
      "Vincent van Gogh cut off only ... | Television Documentary Narration:  70%|███████   | 7/10 [03:33<01:28, 29.59s/it]"
     ]
    },
    {
     "name": "stdout",
     "output_type": "stream",
     "text": [
      "✅ BATCH 7 / 10 DONE for Television Documentary Narration\n"
     ]
    },
    {
     "name": "stderr",
     "output_type": "stream",
     "text": [
      "Vincent van Gogh cut off only ... | Television Documentary Narration:  80%|████████  | 8/10 [04:08<01:02, 31.39s/it]"
     ]
    },
    {
     "name": "stdout",
     "output_type": "stream",
     "text": [
      "✅ BATCH 8 / 10 DONE for Television Documentary Narration\n"
     ]
    },
    {
     "name": "stderr",
     "output_type": "stream",
     "text": [
      "Vincent van Gogh cut off only ... | Television Documentary Narration:  90%|█████████ | 9/10 [04:33<00:29, 29.32s/it]"
     ]
    },
    {
     "name": "stdout",
     "output_type": "stream",
     "text": [
      "✅ BATCH 9 / 10 DONE for Television Documentary Narration\n"
     ]
    },
    {
     "name": "stderr",
     "output_type": "stream",
     "text": [
      "Vincent van Gogh cut off only ... | Television Documentary Narration: 100%|██████████| 10/10 [05:02<00:00, 30.29s/it]\n"
     ]
    },
    {
     "name": "stdout",
     "output_type": "stream",
     "text": [
      "✅ BATCH 10 / 10 DONE for Television Documentary Narration\n"
     ]
    },
    {
     "name": "stderr",
     "output_type": "stream",
     "text": [
      "Vincent van Gogh cut off only ... | Book Review:  10%|█         | 1/10 [00:24<03:36, 24.09s/it]"
     ]
    },
    {
     "name": "stdout",
     "output_type": "stream",
     "text": [
      "✅ BATCH 1 / 10 DONE for Book Review\n"
     ]
    },
    {
     "name": "stderr",
     "output_type": "stream",
     "text": [
      "Vincent van Gogh cut off only ... | Book Review:  20%|██        | 2/10 [00:47<03:11, 23.94s/it]"
     ]
    },
    {
     "name": "stdout",
     "output_type": "stream",
     "text": [
      "✅ BATCH 2 / 10 DONE for Book Review\n"
     ]
    },
    {
     "name": "stderr",
     "output_type": "stream",
     "text": [
      "Vincent van Gogh cut off only ... | Book Review:  30%|███       | 3/10 [01:09<02:39, 22.80s/it]"
     ]
    },
    {
     "name": "stdout",
     "output_type": "stream",
     "text": [
      "✅ BATCH 3 / 10 DONE for Book Review\n"
     ]
    },
    {
     "name": "stderr",
     "output_type": "stream",
     "text": [
      "Vincent van Gogh cut off only ... | Book Review:  40%|████      | 4/10 [01:34<02:21, 23.54s/it]"
     ]
    },
    {
     "name": "stdout",
     "output_type": "stream",
     "text": [
      "✅ BATCH 4 / 10 DONE for Book Review\n"
     ]
    },
    {
     "name": "stderr",
     "output_type": "stream",
     "text": [
      "Vincent van Gogh cut off only ... | Book Review:  50%|█████     | 5/10 [01:58<01:59, 23.94s/it]"
     ]
    },
    {
     "name": "stdout",
     "output_type": "stream",
     "text": [
      "✅ BATCH 5 / 10 DONE for Book Review\n"
     ]
    },
    {
     "name": "stderr",
     "output_type": "stream",
     "text": [
      "Vincent van Gogh cut off only ... | Book Review:  60%|██████    | 6/10 [02:20<01:32, 23.07s/it]"
     ]
    },
    {
     "name": "stdout",
     "output_type": "stream",
     "text": [
      "✅ BATCH 6 / 10 DONE for Book Review\n"
     ]
    },
    {
     "name": "stderr",
     "output_type": "stream",
     "text": [
      "Vincent van Gogh cut off only ... | Book Review:  70%|███████   | 7/10 [02:43<01:09, 23.31s/it]"
     ]
    },
    {
     "name": "stdout",
     "output_type": "stream",
     "text": [
      "✅ BATCH 7 / 10 DONE for Book Review\n"
     ]
    },
    {
     "name": "stderr",
     "output_type": "stream",
     "text": [
      "Vincent van Gogh cut off only ... | Book Review:  80%|████████  | 8/10 [03:07<00:46, 23.38s/it]"
     ]
    },
    {
     "name": "stdout",
     "output_type": "stream",
     "text": [
      "✅ BATCH 8 / 10 DONE for Book Review\n"
     ]
    },
    {
     "name": "stderr",
     "output_type": "stream",
     "text": [
      "Vincent van Gogh cut off only ... | Book Review:  90%|█████████ | 9/10 [03:29<00:23, 23.00s/it]"
     ]
    },
    {
     "name": "stdout",
     "output_type": "stream",
     "text": [
      "✅ BATCH 9 / 10 DONE for Book Review\n"
     ]
    },
    {
     "name": "stderr",
     "output_type": "stream",
     "text": [
      "Vincent van Gogh cut off only ... | Book Review: 100%|██████████| 10/10 [03:49<00:00, 22.99s/it]\n"
     ]
    },
    {
     "name": "stdout",
     "output_type": "stream",
     "text": [
      "✅ BATCH 10 / 10 DONE for Book Review\n"
     ]
    },
    {
     "name": "stderr",
     "output_type": "stream",
     "text": [
      "Thomas Edison did not invent t... | Academic journal article:  10%|█         | 1/10 [00:44<06:39, 44.41s/it]"
     ]
    },
    {
     "name": "stdout",
     "output_type": "stream",
     "text": [
      "✅ BATCH 1 / 10 DONE for Academic journal article\n"
     ]
    },
    {
     "name": "stderr",
     "output_type": "stream",
     "text": [
      "Thomas Edison did not invent t... | Academic journal article:  20%|██        | 2/10 [01:07<04:13, 31.66s/it]"
     ]
    },
    {
     "name": "stdout",
     "output_type": "stream",
     "text": [
      "✅ BATCH 2 / 10 DONE for Academic journal article\n"
     ]
    },
    {
     "name": "stderr",
     "output_type": "stream",
     "text": [
      "Thomas Edison did not invent t... | Academic journal article:  30%|███       | 3/10 [01:43<03:57, 33.90s/it]"
     ]
    },
    {
     "name": "stdout",
     "output_type": "stream",
     "text": [
      "✅ BATCH 3 / 10 DONE for Academic journal article\n"
     ]
    },
    {
     "name": "stderr",
     "output_type": "stream",
     "text": [
      "Thomas Edison did not invent t... | Academic journal article:  40%|████      | 4/10 [02:04<02:53, 28.84s/it]"
     ]
    },
    {
     "name": "stdout",
     "output_type": "stream",
     "text": [
      "✅ BATCH 4 / 10 DONE for Academic journal article\n"
     ]
    },
    {
     "name": "stderr",
     "output_type": "stream",
     "text": [
      "Thomas Edison did not invent t... | Academic journal article:  50%|█████     | 5/10 [02:35<02:28, 29.61s/it]"
     ]
    },
    {
     "name": "stdout",
     "output_type": "stream",
     "text": [
      "✅ BATCH 5 / 10 DONE for Academic journal article\n"
     ]
    },
    {
     "name": "stderr",
     "output_type": "stream",
     "text": [
      "Thomas Edison did not invent t... | Academic journal article:  60%|██████    | 6/10 [03:09<02:03, 30.92s/it]"
     ]
    },
    {
     "name": "stdout",
     "output_type": "stream",
     "text": [
      "✅ BATCH 6 / 10 DONE for Academic journal article\n"
     ]
    },
    {
     "name": "stderr",
     "output_type": "stream",
     "text": [
      "Thomas Edison did not invent t... | Academic journal article:  70%|███████   | 7/10 [03:37<01:29, 29.89s/it]"
     ]
    },
    {
     "name": "stdout",
     "output_type": "stream",
     "text": [
      "✅ BATCH 7 / 10 DONE for Academic journal article\n"
     ]
    },
    {
     "name": "stderr",
     "output_type": "stream",
     "text": [
      "Thomas Edison did not invent t... | Academic journal article:  80%|████████  | 8/10 [04:18<01:07, 33.50s/it]"
     ]
    },
    {
     "name": "stdout",
     "output_type": "stream",
     "text": [
      "✅ BATCH 8 / 10 DONE for Academic journal article\n"
     ]
    },
    {
     "name": "stderr",
     "output_type": "stream",
     "text": [
      "Thomas Edison did not invent t... | Academic journal article:  90%|█████████ | 9/10 [04:40<00:30, 30.01s/it]"
     ]
    },
    {
     "name": "stdout",
     "output_type": "stream",
     "text": [
      "✅ BATCH 9 / 10 DONE for Academic journal article\n"
     ]
    },
    {
     "name": "stderr",
     "output_type": "stream",
     "text": [
      "Thomas Edison did not invent t... | Academic journal article: 100%|██████████| 10/10 [05:07<00:00, 30.70s/it]\n"
     ]
    },
    {
     "name": "stdout",
     "output_type": "stream",
     "text": [
      "✅ BATCH 10 / 10 DONE for Academic journal article\n"
     ]
    },
    {
     "name": "stderr",
     "output_type": "stream",
     "text": [
      "Thomas Edison did not invent t... | Historical biography:  10%|█         | 1/10 [00:23<03:35, 23.94s/it]"
     ]
    },
    {
     "name": "stdout",
     "output_type": "stream",
     "text": [
      "✅ BATCH 1 / 10 DONE for Historical biography\n"
     ]
    },
    {
     "name": "stderr",
     "output_type": "stream",
     "text": [
      "Thomas Edison did not invent t... | Historical biography:  20%|██        | 2/10 [00:49<03:18, 24.78s/it]"
     ]
    },
    {
     "name": "stdout",
     "output_type": "stream",
     "text": [
      "✅ BATCH 2 / 10 DONE for Historical biography\n"
     ]
    },
    {
     "name": "stderr",
     "output_type": "stream",
     "text": [
      "Thomas Edison did not invent t... | Historical biography:  30%|███       | 3/10 [01:30<03:45, 32.20s/it]"
     ]
    },
    {
     "name": "stdout",
     "output_type": "stream",
     "text": [
      "✅ BATCH 3 / 10 DONE for Historical biography\n"
     ]
    },
    {
     "name": "stderr",
     "output_type": "stream",
     "text": [
      "Thomas Edison did not invent t... | Historical biography:  40%|████      | 4/10 [01:59<03:04, 30.82s/it]"
     ]
    },
    {
     "name": "stdout",
     "output_type": "stream",
     "text": [
      "✅ BATCH 4 / 10 DONE for Historical biography\n"
     ]
    },
    {
     "name": "stderr",
     "output_type": "stream",
     "text": [
      "Thomas Edison did not invent t... | Historical biography:  50%|█████     | 5/10 [02:23<02:22, 28.60s/it]"
     ]
    },
    {
     "name": "stdout",
     "output_type": "stream",
     "text": [
      "✅ BATCH 5 / 10 DONE for Historical biography\n"
     ]
    },
    {
     "name": "stderr",
     "output_type": "stream",
     "text": [
      "Thomas Edison did not invent t... | Historical biography:  60%|██████    | 6/10 [02:50<01:52, 28.09s/it]"
     ]
    },
    {
     "name": "stdout",
     "output_type": "stream",
     "text": [
      "✅ BATCH 6 / 10 DONE for Historical biography\n"
     ]
    },
    {
     "name": "stderr",
     "output_type": "stream",
     "text": [
      "Thomas Edison did not invent t... | Historical biography:  70%|███████   | 7/10 [03:21<01:26, 28.85s/it]"
     ]
    },
    {
     "name": "stdout",
     "output_type": "stream",
     "text": [
      "✅ BATCH 7 / 10 DONE for Historical biography\n"
     ]
    },
    {
     "name": "stderr",
     "output_type": "stream",
     "text": [
      "Thomas Edison did not invent t... | Historical biography:  80%|████████  | 8/10 [03:52<00:59, 29.52s/it]"
     ]
    },
    {
     "name": "stdout",
     "output_type": "stream",
     "text": [
      "✅ BATCH 8 / 10 DONE for Historical biography\n"
     ]
    },
    {
     "name": "stderr",
     "output_type": "stream",
     "text": [
      "Thomas Edison did not invent t... | Historical biography:  90%|█████████ | 9/10 [04:26<00:30, 30.89s/it]"
     ]
    },
    {
     "name": "stdout",
     "output_type": "stream",
     "text": [
      "✅ BATCH 9 / 10 DONE for Historical biography\n"
     ]
    },
    {
     "name": "stderr",
     "output_type": "stream",
     "text": [
      "Thomas Edison did not invent t... | Historical biography: 100%|██████████| 10/10 [05:00<00:00, 30.01s/it]\n"
     ]
    },
    {
     "name": "stdout",
     "output_type": "stream",
     "text": [
      "✅ BATCH 10 / 10 DONE for Historical biography\n"
     ]
    },
    {
     "name": "stderr",
     "output_type": "stream",
     "text": [
      "Thomas Edison did not invent t... | Science textbook:  10%|█         | 1/10 [00:27<04:03, 27.09s/it]"
     ]
    },
    {
     "name": "stdout",
     "output_type": "stream",
     "text": [
      "✅ BATCH 1 / 10 DONE for Science textbook\n"
     ]
    },
    {
     "name": "stderr",
     "output_type": "stream",
     "text": [
      "Thomas Edison did not invent t... | Science textbook:  20%|██        | 2/10 [01:04<04:24, 33.10s/it]"
     ]
    },
    {
     "name": "stdout",
     "output_type": "stream",
     "text": [
      "✅ BATCH 2 / 10 DONE for Science textbook\n"
     ]
    },
    {
     "name": "stderr",
     "output_type": "stream",
     "text": [
      "Thomas Edison did not invent t... | Science textbook:  30%|███       | 3/10 [01:39<03:58, 34.03s/it]"
     ]
    },
    {
     "name": "stdout",
     "output_type": "stream",
     "text": [
      "✅ BATCH 3 / 10 DONE for Science textbook\n"
     ]
    },
    {
     "name": "stderr",
     "output_type": "stream",
     "text": [
      "Thomas Edison did not invent t... | Science textbook:  40%|████      | 4/10 [02:00<02:52, 28.81s/it]"
     ]
    },
    {
     "name": "stdout",
     "output_type": "stream",
     "text": [
      "✅ BATCH 4 / 10 DONE for Science textbook\n"
     ]
    },
    {
     "name": "stderr",
     "output_type": "stream",
     "text": [
      "Thomas Edison did not invent t... | Science textbook:  50%|█████     | 5/10 [02:32<02:29, 29.97s/it]"
     ]
    },
    {
     "name": "stdout",
     "output_type": "stream",
     "text": [
      "✅ BATCH 5 / 10 DONE for Science textbook\n"
     ]
    },
    {
     "name": "stderr",
     "output_type": "stream",
     "text": [
      "Thomas Edison did not invent t... | Science textbook:  60%|██████    | 6/10 [03:11<02:11, 32.93s/it]"
     ]
    },
    {
     "name": "stdout",
     "output_type": "stream",
     "text": [
      "✅ BATCH 6 / 10 DONE for Science textbook\n"
     ]
    },
    {
     "name": "stderr",
     "output_type": "stream",
     "text": [
      "Thomas Edison did not invent t... | Science textbook:  70%|███████   | 7/10 [03:47<01:42, 34.05s/it]"
     ]
    },
    {
     "name": "stdout",
     "output_type": "stream",
     "text": [
      "✅ BATCH 7 / 10 DONE for Science textbook\n"
     ]
    },
    {
     "name": "stderr",
     "output_type": "stream",
     "text": [
      "Thomas Edison did not invent t... | Science textbook:  80%|████████  | 8/10 [04:12<01:02, 31.19s/it]"
     ]
    },
    {
     "name": "stdout",
     "output_type": "stream",
     "text": [
      "✅ BATCH 8 / 10 DONE for Science textbook\n"
     ]
    },
    {
     "name": "stderr",
     "output_type": "stream",
     "text": [
      "Thomas Edison did not invent t... | Science textbook:  90%|█████████ | 9/10 [04:46<00:32, 32.05s/it]"
     ]
    },
    {
     "name": "stdout",
     "output_type": "stream",
     "text": [
      "✅ BATCH 9 / 10 DONE for Science textbook\n"
     ]
    },
    {
     "name": "stderr",
     "output_type": "stream",
     "text": [
      "Thomas Edison did not invent t... | Science textbook: 100%|██████████| 10/10 [05:11<00:00, 31.16s/it]\n"
     ]
    },
    {
     "name": "stdout",
     "output_type": "stream",
     "text": [
      "✅ BATCH 10 / 10 DONE for Science textbook\n"
     ]
    },
    {
     "name": "stderr",
     "output_type": "stream",
     "text": [
      "Thomas Edison did not invent t... | Wikipedia entry:  10%|█         | 1/10 [00:29<04:24, 29.42s/it]"
     ]
    },
    {
     "name": "stdout",
     "output_type": "stream",
     "text": [
      "✅ BATCH 1 / 10 DONE for Wikipedia entry\n"
     ]
    },
    {
     "name": "stderr",
     "output_type": "stream",
     "text": [
      "Thomas Edison did not invent t... | Wikipedia entry:  20%|██        | 2/10 [00:55<03:37, 27.19s/it]"
     ]
    },
    {
     "name": "stdout",
     "output_type": "stream",
     "text": [
      "✅ BATCH 2 / 10 DONE for Wikipedia entry\n"
     ]
    },
    {
     "name": "stderr",
     "output_type": "stream",
     "text": [
      "Thomas Edison did not invent t... | Wikipedia entry:  30%|███       | 3/10 [01:29<03:32, 30.35s/it]"
     ]
    },
    {
     "name": "stdout",
     "output_type": "stream",
     "text": [
      "✅ BATCH 3 / 10 DONE for Wikipedia entry\n"
     ]
    },
    {
     "name": "stderr",
     "output_type": "stream",
     "text": [
      "Thomas Edison did not invent t... | Wikipedia entry:  40%|████      | 4/10 [01:57<02:57, 29.63s/it]"
     ]
    },
    {
     "name": "stdout",
     "output_type": "stream",
     "text": [
      "✅ BATCH 4 / 10 DONE for Wikipedia entry\n"
     ]
    },
    {
     "name": "stderr",
     "output_type": "stream",
     "text": [
      "Thomas Edison did not invent t... | Wikipedia entry:  50%|█████     | 5/10 [02:31<02:35, 31.05s/it]"
     ]
    },
    {
     "name": "stdout",
     "output_type": "stream",
     "text": [
      "✅ BATCH 5 / 10 DONE for Wikipedia entry\n"
     ]
    },
    {
     "name": "stderr",
     "output_type": "stream",
     "text": [
      "Thomas Edison did not invent t... | Wikipedia entry:  60%|██████    | 6/10 [03:04<02:07, 31.89s/it]"
     ]
    },
    {
     "name": "stdout",
     "output_type": "stream",
     "text": [
      "✅ BATCH 6 / 10 DONE for Wikipedia entry\n"
     ]
    },
    {
     "name": "stderr",
     "output_type": "stream",
     "text": [
      "Thomas Edison did not invent t... | Wikipedia entry:  70%|███████   | 7/10 [03:39<01:38, 32.83s/it]"
     ]
    },
    {
     "name": "stdout",
     "output_type": "stream",
     "text": [
      "✅ BATCH 7 / 10 DONE for Wikipedia entry\n"
     ]
    },
    {
     "name": "stderr",
     "output_type": "stream",
     "text": [
      "Thomas Edison did not invent t... | Wikipedia entry:  80%|████████  | 8/10 [04:12<01:05, 32.76s/it]"
     ]
    },
    {
     "name": "stdout",
     "output_type": "stream",
     "text": [
      "✅ BATCH 8 / 10 DONE for Wikipedia entry\n"
     ]
    },
    {
     "name": "stderr",
     "output_type": "stream",
     "text": [
      "Thomas Edison did not invent t... | Wikipedia entry:  90%|█████████ | 9/10 [04:45<00:32, 32.79s/it]"
     ]
    },
    {
     "name": "stdout",
     "output_type": "stream",
     "text": [
      "✅ BATCH 9 / 10 DONE for Wikipedia entry\n"
     ]
    },
    {
     "name": "stderr",
     "output_type": "stream",
     "text": [
      "Thomas Edison did not invent t... | Wikipedia entry: 100%|██████████| 10/10 [05:20<00:00, 32.02s/it]\n"
     ]
    },
    {
     "name": "stdout",
     "output_type": "stream",
     "text": [
      "✅ BATCH 10 / 10 DONE for Wikipedia entry\n"
     ]
    },
    {
     "name": "stderr",
     "output_type": "stream",
     "text": [
      "Thomas Edison did not invent t... | Encyclopedia entry:  10%|█         | 1/10 [00:24<03:37, 24.14s/it]"
     ]
    },
    {
     "name": "stdout",
     "output_type": "stream",
     "text": [
      "✅ BATCH 1 / 10 DONE for Encyclopedia entry\n"
     ]
    },
    {
     "name": "stderr",
     "output_type": "stream",
     "text": [
      "Thomas Edison did not invent t... | Encyclopedia entry:  20%|██        | 2/10 [01:01<04:14, 31.83s/it]"
     ]
    },
    {
     "name": "stdout",
     "output_type": "stream",
     "text": [
      "✅ BATCH 2 / 10 DONE for Encyclopedia entry\n"
     ]
    },
    {
     "name": "stderr",
     "output_type": "stream",
     "text": [
      "Thomas Edison did not invent t... | Encyclopedia entry:  30%|███       | 3/10 [01:33<03:42, 31.80s/it]"
     ]
    },
    {
     "name": "stdout",
     "output_type": "stream",
     "text": [
      "✅ BATCH 3 / 10 DONE for Encyclopedia entry\n"
     ]
    },
    {
     "name": "stderr",
     "output_type": "stream",
     "text": [
      "Thomas Edison did not invent t... | Encyclopedia entry:  40%|████      | 4/10 [02:00<02:59, 29.87s/it]"
     ]
    },
    {
     "name": "stdout",
     "output_type": "stream",
     "text": [
      "✅ BATCH 4 / 10 DONE for Encyclopedia entry\n"
     ]
    },
    {
     "name": "stderr",
     "output_type": "stream",
     "text": [
      "Thomas Edison did not invent t... | Encyclopedia entry:  50%|█████     | 5/10 [02:30<02:30, 30.15s/it]"
     ]
    },
    {
     "name": "stdout",
     "output_type": "stream",
     "text": [
      "✅ BATCH 5 / 10 DONE for Encyclopedia entry\n"
     ]
    },
    {
     "name": "stderr",
     "output_type": "stream",
     "text": [
      "Thomas Edison did not invent t... | Encyclopedia entry:  60%|██████    | 6/10 [02:57<01:56, 29.01s/it]"
     ]
    },
    {
     "name": "stdout",
     "output_type": "stream",
     "text": [
      "✅ BATCH 6 / 10 DONE for Encyclopedia entry\n"
     ]
    },
    {
     "name": "stderr",
     "output_type": "stream",
     "text": [
      "Thomas Edison did not invent t... | Encyclopedia entry:  70%|███████   | 7/10 [03:33<01:33, 31.25s/it]"
     ]
    },
    {
     "name": "stdout",
     "output_type": "stream",
     "text": [
      "✅ BATCH 7 / 10 DONE for Encyclopedia entry\n"
     ]
    },
    {
     "name": "stderr",
     "output_type": "stream",
     "text": [
      "Thomas Edison did not invent t... | Encyclopedia entry:  80%|████████  | 8/10 [04:10<01:06, 33.10s/it]"
     ]
    },
    {
     "name": "stdout",
     "output_type": "stream",
     "text": [
      "✅ BATCH 8 / 10 DONE for Encyclopedia entry\n"
     ]
    },
    {
     "name": "stderr",
     "output_type": "stream",
     "text": [
      "Thomas Edison did not invent t... | Encyclopedia entry:  90%|█████████ | 9/10 [04:33<00:29, 30.00s/it]"
     ]
    },
    {
     "name": "stdout",
     "output_type": "stream",
     "text": [
      "✅ BATCH 9 / 10 DONE for Encyclopedia entry\n"
     ]
    },
    {
     "name": "stderr",
     "output_type": "stream",
     "text": [
      "Thomas Edison did not invent t... | Encyclopedia entry: 100%|██████████| 10/10 [05:05<00:00, 30.59s/it]\n"
     ]
    },
    {
     "name": "stdout",
     "output_type": "stream",
     "text": [
      "✅ BATCH 10 / 10 DONE for Encyclopedia entry\n"
     ]
    },
    {
     "name": "stderr",
     "output_type": "stream",
     "text": [
      "Thomas Edison did not invent t... | Documentary script:  10%|█         | 1/10 [00:36<05:29, 36.57s/it]"
     ]
    },
    {
     "name": "stdout",
     "output_type": "stream",
     "text": [
      "✅ BATCH 1 / 10 DONE for Documentary script\n"
     ]
    },
    {
     "name": "stderr",
     "output_type": "stream",
     "text": [
      "Thomas Edison did not invent t... | Documentary script:  20%|██        | 2/10 [01:11<04:44, 35.54s/it]"
     ]
    },
    {
     "name": "stdout",
     "output_type": "stream",
     "text": [
      "✅ BATCH 2 / 10 DONE for Documentary script\n"
     ]
    },
    {
     "name": "stderr",
     "output_type": "stream",
     "text": [
      "Thomas Edison did not invent t... | Documentary script:  30%|███       | 3/10 [01:48<04:12, 36.12s/it]"
     ]
    },
    {
     "name": "stdout",
     "output_type": "stream",
     "text": [
      "✅ BATCH 3 / 10 DONE for Documentary script\n"
     ]
    },
    {
     "name": "stderr",
     "output_type": "stream",
     "text": [
      "Thomas Edison did not invent t... | Documentary script:  40%|████      | 4/10 [02:23<03:35, 35.92s/it]"
     ]
    },
    {
     "name": "stdout",
     "output_type": "stream",
     "text": [
      "✅ BATCH 4 / 10 DONE for Documentary script\n"
     ]
    },
    {
     "name": "stderr",
     "output_type": "stream",
     "text": [
      "Thomas Edison did not invent t... | Documentary script:  50%|█████     | 5/10 [02:57<02:55, 35.16s/it]"
     ]
    },
    {
     "name": "stdout",
     "output_type": "stream",
     "text": [
      "✅ BATCH 5 / 10 DONE for Documentary script\n"
     ]
    },
    {
     "name": "stderr",
     "output_type": "stream",
     "text": [
      "Thomas Edison did not invent t... | Documentary script:  60%|██████    | 6/10 [03:30<02:17, 34.36s/it]"
     ]
    },
    {
     "name": "stdout",
     "output_type": "stream",
     "text": [
      "✅ BATCH 6 / 10 DONE for Documentary script\n"
     ]
    },
    {
     "name": "stderr",
     "output_type": "stream",
     "text": [
      "Thomas Edison did not invent t... | Documentary script:  70%|███████   | 7/10 [04:03<01:41, 33.95s/it]"
     ]
    },
    {
     "name": "stdout",
     "output_type": "stream",
     "text": [
      "✅ BATCH 7 / 10 DONE for Documentary script\n"
     ]
    },
    {
     "name": "stderr",
     "output_type": "stream",
     "text": [
      "Thomas Edison did not invent t... | Documentary script:  80%|████████  | 8/10 [04:45<01:12, 36.39s/it]"
     ]
    },
    {
     "name": "stdout",
     "output_type": "stream",
     "text": [
      "✅ BATCH 8 / 10 DONE for Documentary script\n"
     ]
    },
    {
     "name": "stderr",
     "output_type": "stream",
     "text": [
      "Thomas Edison did not invent t... | Documentary script:  90%|█████████ | 9/10 [05:21<00:36, 36.32s/it]"
     ]
    },
    {
     "name": "stdout",
     "output_type": "stream",
     "text": [
      "✅ BATCH 9 / 10 DONE for Documentary script\n"
     ]
    },
    {
     "name": "stderr",
     "output_type": "stream",
     "text": [
      "Thomas Edison did not invent t... | Documentary script: 100%|██████████| 10/10 [05:55<00:00, 35.57s/it]\n"
     ]
    },
    {
     "name": "stdout",
     "output_type": "stream",
     "text": [
      "✅ BATCH 10 / 10 DONE for Documentary script\n"
     ]
    },
    {
     "name": "stderr",
     "output_type": "stream",
     "text": [
      "Thomas Edison did not invent t... | News magazine feature:  10%|█         | 1/10 [00:35<05:22, 35.83s/it]"
     ]
    },
    {
     "name": "stdout",
     "output_type": "stream",
     "text": [
      "✅ BATCH 1 / 10 DONE for News magazine feature\n"
     ]
    },
    {
     "name": "stderr",
     "output_type": "stream",
     "text": [
      "Thomas Edison did not invent t... | News magazine feature:  20%|██        | 2/10 [01:02<04:04, 30.57s/it]"
     ]
    },
    {
     "name": "stdout",
     "output_type": "stream",
     "text": [
      "✅ BATCH 2 / 10 DONE for News magazine feature\n"
     ]
    },
    {
     "name": "stderr",
     "output_type": "stream",
     "text": [
      "Thomas Edison did not invent t... | News magazine feature:  30%|███       | 3/10 [01:40<03:57, 33.97s/it]"
     ]
    },
    {
     "name": "stdout",
     "output_type": "stream",
     "text": [
      "✅ BATCH 3 / 10 DONE for News magazine feature\n"
     ]
    },
    {
     "name": "stderr",
     "output_type": "stream",
     "text": [
      "Thomas Edison did not invent t... | News magazine feature:  40%|████      | 4/10 [02:13<03:20, 33.41s/it]"
     ]
    },
    {
     "name": "stdout",
     "output_type": "stream",
     "text": [
      "✅ BATCH 4 / 10 DONE for News magazine feature\n"
     ]
    },
    {
     "name": "stderr",
     "output_type": "stream",
     "text": [
      "Thomas Edison did not invent t... | News magazine feature:  50%|█████     | 5/10 [02:42<02:39, 31.95s/it]"
     ]
    },
    {
     "name": "stdout",
     "output_type": "stream",
     "text": [
      "✅ BATCH 5 / 10 DONE for News magazine feature\n"
     ]
    },
    {
     "name": "stderr",
     "output_type": "stream",
     "text": [
      "Thomas Edison did not invent t... | News magazine feature:  60%|██████    | 6/10 [03:20<02:16, 34.03s/it]"
     ]
    },
    {
     "name": "stdout",
     "output_type": "stream",
     "text": [
      "✅ BATCH 6 / 10 DONE for News magazine feature\n"
     ]
    },
    {
     "name": "stderr",
     "output_type": "stream",
     "text": [
      "Thomas Edison did not invent t... | News magazine feature:  70%|███████   | 7/10 [03:46<01:34, 31.37s/it]"
     ]
    },
    {
     "name": "stdout",
     "output_type": "stream",
     "text": [
      "✅ BATCH 7 / 10 DONE for News magazine feature\n"
     ]
    },
    {
     "name": "stderr",
     "output_type": "stream",
     "text": [
      "Thomas Edison did not invent t... | News magazine feature:  80%|████████  | 8/10 [04:13<00:59, 29.79s/it]"
     ]
    },
    {
     "name": "stdout",
     "output_type": "stream",
     "text": [
      "✅ BATCH 8 / 10 DONE for News magazine feature\n"
     ]
    },
    {
     "name": "stderr",
     "output_type": "stream",
     "text": [
      "Thomas Edison did not invent t... | News magazine feature:  90%|█████████ | 9/10 [04:40<00:29, 29.11s/it]"
     ]
    },
    {
     "name": "stdout",
     "output_type": "stream",
     "text": [
      "✅ BATCH 9 / 10 DONE for News magazine feature\n"
     ]
    },
    {
     "name": "stderr",
     "output_type": "stream",
     "text": [
      "Thomas Edison did not invent t... | News magazine feature: 100%|██████████| 10/10 [05:12<00:00, 31.28s/it]\n"
     ]
    },
    {
     "name": "stdout",
     "output_type": "stream",
     "text": [
      "✅ BATCH 10 / 10 DONE for News magazine feature\n"
     ]
    },
    {
     "name": "stderr",
     "output_type": "stream",
     "text": [
      "Thomas Edison did not invent t... | Fact-checking website:  10%|█         | 1/10 [00:32<04:50, 32.27s/it]"
     ]
    },
    {
     "name": "stdout",
     "output_type": "stream",
     "text": [
      "✅ BATCH 1 / 10 DONE for Fact-checking website\n"
     ]
    },
    {
     "name": "stderr",
     "output_type": "stream",
     "text": [
      "Thomas Edison did not invent t... | Fact-checking website:  20%|██        | 2/10 [01:09<04:43, 35.43s/it]"
     ]
    },
    {
     "name": "stdout",
     "output_type": "stream",
     "text": [
      "✅ BATCH 2 / 10 DONE for Fact-checking website\n"
     ]
    },
    {
     "name": "stderr",
     "output_type": "stream",
     "text": [
      "Thomas Edison did not invent t... | Fact-checking website:  30%|███       | 3/10 [01:40<03:53, 33.32s/it]"
     ]
    },
    {
     "name": "stdout",
     "output_type": "stream",
     "text": [
      "✅ BATCH 3 / 10 DONE for Fact-checking website\n"
     ]
    },
    {
     "name": "stderr",
     "output_type": "stream",
     "text": [
      "Thomas Edison did not invent t... | Fact-checking website:  40%|████      | 4/10 [02:10<03:10, 31.80s/it]"
     ]
    },
    {
     "name": "stdout",
     "output_type": "stream",
     "text": [
      "✅ BATCH 4 / 10 DONE for Fact-checking website\n"
     ]
    },
    {
     "name": "stderr",
     "output_type": "stream",
     "text": [
      "Thomas Edison did not invent t... | Fact-checking website:  50%|█████     | 5/10 [02:57<03:06, 37.29s/it]"
     ]
    },
    {
     "name": "stdout",
     "output_type": "stream",
     "text": [
      "✅ BATCH 5 / 10 DONE for Fact-checking website\n"
     ]
    },
    {
     "name": "stderr",
     "output_type": "stream",
     "text": [
      "Thomas Edison did not invent t... | Fact-checking website:  60%|██████    | 6/10 [03:31<02:24, 36.20s/it]"
     ]
    },
    {
     "name": "stdout",
     "output_type": "stream",
     "text": [
      "✅ BATCH 6 / 10 DONE for Fact-checking website\n"
     ]
    },
    {
     "name": "stderr",
     "output_type": "stream",
     "text": [
      "Thomas Edison did not invent t... | Fact-checking website:  70%|███████   | 7/10 [04:00<01:41, 33.77s/it]"
     ]
    },
    {
     "name": "stdout",
     "output_type": "stream",
     "text": [
      "✅ BATCH 7 / 10 DONE for Fact-checking website\n"
     ]
    },
    {
     "name": "stderr",
     "output_type": "stream",
     "text": [
      "Thomas Edison did not invent t... | Fact-checking website:  80%|████████  | 8/10 [04:41<01:12, 36.09s/it]"
     ]
    },
    {
     "name": "stdout",
     "output_type": "stream",
     "text": [
      "✅ BATCH 8 / 10 DONE for Fact-checking website\n"
     ]
    },
    {
     "name": "stderr",
     "output_type": "stream",
     "text": [
      "Thomas Edison did not invent t... | Fact-checking website:  90%|█████████ | 9/10 [05:12<00:34, 34.64s/it]"
     ]
    },
    {
     "name": "stdout",
     "output_type": "stream",
     "text": [
      "✅ BATCH 9 / 10 DONE for Fact-checking website\n"
     ]
    },
    {
     "name": "stderr",
     "output_type": "stream",
     "text": [
      "Thomas Edison did not invent t... | Fact-checking website: 100%|██████████| 10/10 [05:56<00:00, 35.70s/it]\n"
     ]
    },
    {
     "name": "stdout",
     "output_type": "stream",
     "text": [
      "✅ BATCH 10 / 10 DONE for Fact-checking website\n"
     ]
    },
    {
     "name": "stderr",
     "output_type": "stream",
     "text": [
      "Thomas Edison did not invent t... | Science communication article:  10%|█         | 1/10 [00:31<04:43, 31.46s/it]"
     ]
    },
    {
     "name": "stdout",
     "output_type": "stream",
     "text": [
      "✅ BATCH 1 / 10 DONE for Science communication article\n"
     ]
    },
    {
     "name": "stderr",
     "output_type": "stream",
     "text": [
      "Thomas Edison did not invent t... | Science communication article:  20%|██        | 2/10 [01:06<04:28, 33.54s/it]"
     ]
    },
    {
     "name": "stdout",
     "output_type": "stream",
     "text": [
      "✅ BATCH 2 / 10 DONE for Science communication article\n"
     ]
    },
    {
     "name": "stderr",
     "output_type": "stream",
     "text": [
      "Thomas Edison did not invent t... | Science communication article:  30%|███       | 3/10 [01:42<04:01, 34.54s/it]"
     ]
    },
    {
     "name": "stdout",
     "output_type": "stream",
     "text": [
      "✅ BATCH 3 / 10 DONE for Science communication article\n"
     ]
    },
    {
     "name": "stderr",
     "output_type": "stream",
     "text": [
      "Thomas Edison did not invent t... | Science communication article:  40%|████      | 4/10 [02:07<03:06, 31.08s/it]"
     ]
    },
    {
     "name": "stdout",
     "output_type": "stream",
     "text": [
      "✅ BATCH 4 / 10 DONE for Science communication article\n"
     ]
    },
    {
     "name": "stderr",
     "output_type": "stream",
     "text": [
      "Thomas Edison did not invent t... | Science communication article:  50%|█████     | 5/10 [02:47<02:50, 34.08s/it]"
     ]
    },
    {
     "name": "stdout",
     "output_type": "stream",
     "text": [
      "✅ BATCH 5 / 10 DONE for Science communication article\n"
     ]
    },
    {
     "name": "stderr",
     "output_type": "stream",
     "text": [
      "Thomas Edison did not invent t... | Science communication article:  60%|██████    | 6/10 [03:20<02:14, 33.65s/it]"
     ]
    },
    {
     "name": "stdout",
     "output_type": "stream",
     "text": [
      "✅ BATCH 6 / 10 DONE for Science communication article\n"
     ]
    },
    {
     "name": "stderr",
     "output_type": "stream",
     "text": [
      "Thomas Edison did not invent t... | Science communication article:  70%|███████   | 7/10 [04:06<01:53, 37.86s/it]"
     ]
    },
    {
     "name": "stdout",
     "output_type": "stream",
     "text": [
      "✅ BATCH 7 / 10 DONE for Science communication article\n"
     ]
    },
    {
     "name": "stderr",
     "output_type": "stream",
     "text": [
      "Thomas Edison did not invent t... | Science communication article:  80%|████████  | 8/10 [04:35<01:10, 35.06s/it]"
     ]
    },
    {
     "name": "stdout",
     "output_type": "stream",
     "text": [
      "✅ BATCH 8 / 10 DONE for Science communication article\n"
     ]
    },
    {
     "name": "stderr",
     "output_type": "stream",
     "text": [
      "Thomas Edison did not invent t... | Science communication article:  90%|█████████ | 9/10 [05:11<00:35, 35.15s/it]"
     ]
    },
    {
     "name": "stdout",
     "output_type": "stream",
     "text": [
      "✅ BATCH 9 / 10 DONE for Science communication article\n"
     ]
    },
    {
     "name": "stderr",
     "output_type": "stream",
     "text": [
      "Thomas Edison did not invent t... | Science communication article: 100%|██████████| 10/10 [05:47<00:00, 34.77s/it]\n"
     ]
    },
    {
     "name": "stdout",
     "output_type": "stream",
     "text": [
      "✅ BATCH 10 / 10 DONE for Science communication article\n"
     ]
    },
    {
     "name": "stderr",
     "output_type": "stream",
     "text": [
      "Thomas Edison did not invent t... | Public radio interview:  10%|█         | 1/10 [00:30<04:32, 30.24s/it]"
     ]
    },
    {
     "name": "stdout",
     "output_type": "stream",
     "text": [
      "✅ BATCH 1 / 10 DONE for Public radio interview\n"
     ]
    },
    {
     "name": "stderr",
     "output_type": "stream",
     "text": [
      "Thomas Edison did not invent t... | Public radio interview:  20%|██        | 2/10 [01:05<04:25, 33.23s/it]"
     ]
    },
    {
     "name": "stdout",
     "output_type": "stream",
     "text": [
      "✅ BATCH 2 / 10 DONE for Public radio interview\n"
     ]
    },
    {
     "name": "stderr",
     "output_type": "stream",
     "text": [
      "Thomas Edison did not invent t... | Public radio interview:  30%|███       | 3/10 [01:51<04:33, 39.08s/it]"
     ]
    },
    {
     "name": "stdout",
     "output_type": "stream",
     "text": [
      "✅ BATCH 3 / 10 DONE for Public radio interview\n"
     ]
    },
    {
     "name": "stderr",
     "output_type": "stream",
     "text": [
      "Thomas Edison did not invent t... | Public radio interview:  40%|████      | 4/10 [02:21<03:31, 35.27s/it]"
     ]
    },
    {
     "name": "stdout",
     "output_type": "stream",
     "text": [
      "✅ BATCH 4 / 10 DONE for Public radio interview\n"
     ]
    },
    {
     "name": "stderr",
     "output_type": "stream",
     "text": [
      "Thomas Edison did not invent t... | Public radio interview:  50%|█████     | 5/10 [02:57<02:58, 35.74s/it]"
     ]
    },
    {
     "name": "stdout",
     "output_type": "stream",
     "text": [
      "✅ BATCH 5 / 10 DONE for Public radio interview\n"
     ]
    },
    {
     "name": "stderr",
     "output_type": "stream",
     "text": [
      "Thomas Edison did not invent t... | Public radio interview:  60%|██████    | 6/10 [03:24<02:10, 32.57s/it]"
     ]
    },
    {
     "name": "stdout",
     "output_type": "stream",
     "text": [
      "✅ BATCH 6 / 10 DONE for Public radio interview\n"
     ]
    },
    {
     "name": "stderr",
     "output_type": "stream",
     "text": [
      "Thomas Edison did not invent t... | Public radio interview:  70%|███████   | 7/10 [03:53<01:34, 31.64s/it]"
     ]
    },
    {
     "name": "stdout",
     "output_type": "stream",
     "text": [
      "✅ BATCH 7 / 10 DONE for Public radio interview\n"
     ]
    },
    {
     "name": "stderr",
     "output_type": "stream",
     "text": [
      "Thomas Edison did not invent t... | Public radio interview:  80%|████████  | 8/10 [04:26<01:04, 32.11s/it]"
     ]
    },
    {
     "name": "stdout",
     "output_type": "stream",
     "text": [
      "✅ BATCH 8 / 10 DONE for Public radio interview\n"
     ]
    },
    {
     "name": "stderr",
     "output_type": "stream",
     "text": [
      "Thomas Edison did not invent t... | Public radio interview:  90%|█████████ | 9/10 [04:56<00:31, 31.19s/it]"
     ]
    },
    {
     "name": "stdout",
     "output_type": "stream",
     "text": [
      "✅ BATCH 9 / 10 DONE for Public radio interview\n"
     ]
    },
    {
     "name": "stderr",
     "output_type": "stream",
     "text": [
      "Thomas Edison did not invent t... | Public radio interview: 100%|██████████| 10/10 [05:26<00:00, 32.67s/it]\n"
     ]
    },
    {
     "name": "stdout",
     "output_type": "stream",
     "text": [
      "✅ BATCH 10 / 10 DONE for Public radio interview\n"
     ]
    },
    {
     "name": "stderr",
     "output_type": "stream",
     "text": [
      "Thomas Edison did not invent t... | Podcast transcript:  10%|█         | 1/10 [00:32<04:50, 32.29s/it]"
     ]
    },
    {
     "name": "stdout",
     "output_type": "stream",
     "text": [
      "✅ BATCH 1 / 10 DONE for Podcast transcript\n"
     ]
    },
    {
     "name": "stderr",
     "output_type": "stream",
     "text": [
      "Thomas Edison did not invent t... | Podcast transcript:  20%|██        | 2/10 [01:02<04:10, 31.35s/it]"
     ]
    },
    {
     "name": "stdout",
     "output_type": "stream",
     "text": [
      "✅ BATCH 2 / 10 DONE for Podcast transcript\n"
     ]
    },
    {
     "name": "stderr",
     "output_type": "stream",
     "text": [
      "Thomas Edison did not invent t... | Podcast transcript:  30%|███       | 3/10 [01:31<03:31, 30.21s/it]"
     ]
    },
    {
     "name": "stdout",
     "output_type": "stream",
     "text": [
      "✅ BATCH 3 / 10 DONE for Podcast transcript\n"
     ]
    },
    {
     "name": "stderr",
     "output_type": "stream",
     "text": [
      "Thomas Edison did not invent t... | Podcast transcript:  40%|████      | 4/10 [01:59<02:56, 29.36s/it]"
     ]
    },
    {
     "name": "stdout",
     "output_type": "stream",
     "text": [
      "✅ BATCH 4 / 10 DONE for Podcast transcript\n"
     ]
    },
    {
     "name": "stderr",
     "output_type": "stream",
     "text": [
      "Thomas Edison did not invent t... | Podcast transcript:  50%|█████     | 5/10 [02:35<02:37, 31.60s/it]"
     ]
    },
    {
     "name": "stdout",
     "output_type": "stream",
     "text": [
      "✅ BATCH 5 / 10 DONE for Podcast transcript\n"
     ]
    },
    {
     "name": "stderr",
     "output_type": "stream",
     "text": [
      "Thomas Edison did not invent t... | Podcast transcript:  60%|██████    | 6/10 [03:03<02:02, 30.53s/it]"
     ]
    },
    {
     "name": "stdout",
     "output_type": "stream",
     "text": [
      "✅ BATCH 6 / 10 DONE for Podcast transcript\n"
     ]
    },
    {
     "name": "stderr",
     "output_type": "stream",
     "text": [
      "Thomas Edison did not invent t... | Podcast transcript:  70%|███████   | 7/10 [03:46<01:43, 34.34s/it]"
     ]
    },
    {
     "name": "stdout",
     "output_type": "stream",
     "text": [
      "✅ BATCH 7 / 10 DONE for Podcast transcript\n"
     ]
    },
    {
     "name": "stderr",
     "output_type": "stream",
     "text": [
      "Thomas Edison did not invent t... | Podcast transcript:  80%|████████  | 8/10 [04:15<01:05, 32.71s/it]"
     ]
    },
    {
     "name": "stdout",
     "output_type": "stream",
     "text": [
      "✅ BATCH 8 / 10 DONE for Podcast transcript\n"
     ]
    },
    {
     "name": "stderr",
     "output_type": "stream",
     "text": [
      "Thomas Edison did not invent t... | Podcast transcript:  90%|█████████ | 9/10 [04:51<00:33, 33.80s/it]"
     ]
    },
    {
     "name": "stdout",
     "output_type": "stream",
     "text": [
      "✅ BATCH 9 / 10 DONE for Podcast transcript\n"
     ]
    },
    {
     "name": "stderr",
     "output_type": "stream",
     "text": [
      "Thomas Edison did not invent t... | Podcast transcript: 100%|██████████| 10/10 [05:26<00:00, 32.70s/it]\n"
     ]
    },
    {
     "name": "stdout",
     "output_type": "stream",
     "text": [
      "✅ BATCH 10 / 10 DONE for Podcast transcript\n"
     ]
    },
    {
     "name": "stderr",
     "output_type": "stream",
     "text": [
      "Thomas Edison did not invent t... | Educational video caption:  10%|█         | 1/10 [00:28<04:20, 28.95s/it]"
     ]
    },
    {
     "name": "stdout",
     "output_type": "stream",
     "text": [
      "✅ BATCH 1 / 10 DONE for Educational video caption\n"
     ]
    },
    {
     "name": "stderr",
     "output_type": "stream",
     "text": [
      "Thomas Edison did not invent t... | Educational video caption:  20%|██        | 2/10 [00:57<03:48, 28.53s/it]"
     ]
    },
    {
     "name": "stdout",
     "output_type": "stream",
     "text": [
      "✅ BATCH 2 / 10 DONE for Educational video caption\n"
     ]
    },
    {
     "name": "stderr",
     "output_type": "stream",
     "text": [
      "Thomas Edison did not invent t... | Educational video caption:  30%|███       | 3/10 [01:13<02:40, 22.93s/it]"
     ]
    },
    {
     "name": "stdout",
     "output_type": "stream",
     "text": [
      "✅ BATCH 3 / 10 DONE for Educational video caption\n"
     ]
    },
    {
     "name": "stderr",
     "output_type": "stream",
     "text": [
      "Thomas Edison did not invent t... | Educational video caption:  40%|████      | 4/10 [01:54<02:59, 29.95s/it]"
     ]
    },
    {
     "name": "stdout",
     "output_type": "stream",
     "text": [
      "✅ BATCH 4 / 10 DONE for Educational video caption\n"
     ]
    },
    {
     "name": "stderr",
     "output_type": "stream",
     "text": [
      "Thomas Edison did not invent t... | Educational video caption:  50%|█████     | 5/10 [02:09<02:03, 24.70s/it]"
     ]
    },
    {
     "name": "stdout",
     "output_type": "stream",
     "text": [
      "✅ BATCH 5 / 10 DONE for Educational video caption\n"
     ]
    },
    {
     "name": "stderr",
     "output_type": "stream",
     "text": [
      "Thomas Edison did not invent t... | Educational video caption:  60%|██████    | 6/10 [02:40<01:47, 26.98s/it]"
     ]
    },
    {
     "name": "stdout",
     "output_type": "stream",
     "text": [
      "✅ BATCH 6 / 10 DONE for Educational video caption\n"
     ]
    },
    {
     "name": "stderr",
     "output_type": "stream",
     "text": [
      "Thomas Edison did not invent t... | Educational video caption:  70%|███████   | 7/10 [02:54<01:07, 22.61s/it]"
     ]
    },
    {
     "name": "stdout",
     "output_type": "stream",
     "text": [
      "✅ BATCH 7 / 10 DONE for Educational video caption\n"
     ]
    },
    {
     "name": "stderr",
     "output_type": "stream",
     "text": [
      "Thomas Edison did not invent t... | Educational video caption:  80%|████████  | 8/10 [03:15<00:44, 22.05s/it]"
     ]
    },
    {
     "name": "stdout",
     "output_type": "stream",
     "text": [
      "✅ BATCH 8 / 10 DONE for Educational video caption\n"
     ]
    },
    {
     "name": "stderr",
     "output_type": "stream",
     "text": [
      "Thomas Edison did not invent t... | Educational video caption:  90%|█████████ | 9/10 [03:31<00:20, 20.18s/it]"
     ]
    },
    {
     "name": "stdout",
     "output_type": "stream",
     "text": [
      "✅ BATCH 9 / 10 DONE for Educational video caption\n"
     ]
    },
    {
     "name": "stderr",
     "output_type": "stream",
     "text": [
      "Thomas Edison did not invent t... | Educational video caption: 100%|██████████| 10/10 [03:51<00:00, 23.18s/it]\n"
     ]
    },
    {
     "name": "stdout",
     "output_type": "stream",
     "text": [
      "✅ BATCH 10 / 10 DONE for Educational video caption\n"
     ]
    },
    {
     "name": "stderr",
     "output_type": "stream",
     "text": [
      "Thomas Edison did not invent t... | Classroom lecture notes:  10%|█         | 1/10 [00:24<03:43, 24.80s/it]"
     ]
    },
    {
     "name": "stdout",
     "output_type": "stream",
     "text": [
      "✅ BATCH 1 / 10 DONE for Classroom lecture notes\n"
     ]
    },
    {
     "name": "stderr",
     "output_type": "stream",
     "text": [
      "Thomas Edison did not invent t... | Classroom lecture notes:  20%|██        | 2/10 [01:00<04:08, 31.03s/it]"
     ]
    },
    {
     "name": "stdout",
     "output_type": "stream",
     "text": [
      "✅ BATCH 2 / 10 DONE for Classroom lecture notes\n"
     ]
    },
    {
     "name": "stderr",
     "output_type": "stream",
     "text": [
      "Thomas Edison did not invent t... | Classroom lecture notes:  30%|███       | 3/10 [01:25<03:19, 28.54s/it]"
     ]
    },
    {
     "name": "stdout",
     "output_type": "stream",
     "text": [
      "✅ BATCH 3 / 10 DONE for Classroom lecture notes\n"
     ]
    },
    {
     "name": "stderr",
     "output_type": "stream",
     "text": [
      "Thomas Edison did not invent t... | Classroom lecture notes:  40%|████      | 4/10 [01:54<02:52, 28.74s/it]"
     ]
    },
    {
     "name": "stdout",
     "output_type": "stream",
     "text": [
      "✅ BATCH 4 / 10 DONE for Classroom lecture notes\n"
     ]
    },
    {
     "name": "stderr",
     "output_type": "stream",
     "text": [
      "Thomas Edison did not invent t... | Classroom lecture notes:  50%|█████     | 5/10 [02:27<02:31, 30.31s/it]"
     ]
    },
    {
     "name": "stdout",
     "output_type": "stream",
     "text": [
      "✅ BATCH 5 / 10 DONE for Classroom lecture notes\n"
     ]
    },
    {
     "name": "stderr",
     "output_type": "stream",
     "text": [
      "Thomas Edison did not invent t... | Classroom lecture notes:  60%|██████    | 6/10 [03:00<02:03, 30.91s/it]"
     ]
    },
    {
     "name": "stdout",
     "output_type": "stream",
     "text": [
      "✅ BATCH 6 / 10 DONE for Classroom lecture notes\n"
     ]
    },
    {
     "name": "stderr",
     "output_type": "stream",
     "text": [
      "Thomas Edison did not invent t... | Classroom lecture notes:  70%|███████   | 7/10 [03:34<01:35, 31.98s/it]"
     ]
    },
    {
     "name": "stdout",
     "output_type": "stream",
     "text": [
      "✅ BATCH 7 / 10 DONE for Classroom lecture notes\n"
     ]
    },
    {
     "name": "stderr",
     "output_type": "stream",
     "text": [
      "Thomas Edison did not invent t... | Classroom lecture notes:  80%|████████  | 8/10 [04:00<01:00, 30.30s/it]"
     ]
    },
    {
     "name": "stdout",
     "output_type": "stream",
     "text": [
      "✅ BATCH 8 / 10 DONE for Classroom lecture notes\n"
     ]
    },
    {
     "name": "stderr",
     "output_type": "stream",
     "text": [
      "Thomas Edison did not invent t... | Classroom lecture notes:  90%|█████████ | 9/10 [04:38<00:32, 32.45s/it]"
     ]
    },
    {
     "name": "stdout",
     "output_type": "stream",
     "text": [
      "✅ BATCH 9 / 10 DONE for Classroom lecture notes\n"
     ]
    },
    {
     "name": "stderr",
     "output_type": "stream",
     "text": [
      "Thomas Edison did not invent t... | Classroom lecture notes: 100%|██████████| 10/10 [05:10<00:00, 31.01s/it]\n"
     ]
    },
    {
     "name": "stdout",
     "output_type": "stream",
     "text": [
      "✅ BATCH 10 / 10 DONE for Classroom lecture notes\n"
     ]
    },
    {
     "name": "stderr",
     "output_type": "stream",
     "text": [
      "Thomas Edison did not invent t... | Lecture slide deck:  10%|█         | 1/10 [00:36<05:24, 36.02s/it]"
     ]
    },
    {
     "name": "stdout",
     "output_type": "stream",
     "text": [
      "✅ BATCH 1 / 10 DONE for Lecture slide deck\n"
     ]
    },
    {
     "name": "stderr",
     "output_type": "stream",
     "text": [
      "Thomas Edison did not invent t... | Lecture slide deck:  20%|██        | 2/10 [01:10<04:39, 34.88s/it]"
     ]
    },
    {
     "name": "stdout",
     "output_type": "stream",
     "text": [
      "✅ BATCH 2 / 10 DONE for Lecture slide deck\n"
     ]
    },
    {
     "name": "stderr",
     "output_type": "stream",
     "text": [
      "Thomas Edison did not invent t... | Lecture slide deck:  30%|███       | 3/10 [01:46<04:08, 35.55s/it]"
     ]
    },
    {
     "name": "stdout",
     "output_type": "stream",
     "text": [
      "✅ BATCH 3 / 10 DONE for Lecture slide deck\n"
     ]
    },
    {
     "name": "stderr",
     "output_type": "stream",
     "text": [
      "Thomas Edison did not invent t... | Lecture slide deck:  40%|████      | 4/10 [02:19<03:28, 34.68s/it]"
     ]
    },
    {
     "name": "stdout",
     "output_type": "stream",
     "text": [
      "✅ BATCH 4 / 10 DONE for Lecture slide deck\n"
     ]
    },
    {
     "name": "stderr",
     "output_type": "stream",
     "text": [
      "Thomas Edison did not invent t... | Lecture slide deck:  50%|█████     | 5/10 [02:52<02:49, 33.93s/it]"
     ]
    },
    {
     "name": "stdout",
     "output_type": "stream",
     "text": [
      "✅ BATCH 5 / 10 DONE for Lecture slide deck\n"
     ]
    },
    {
     "name": "stderr",
     "output_type": "stream",
     "text": [
      "Thomas Edison did not invent t... | Lecture slide deck:  60%|██████    | 6/10 [03:28<02:18, 34.66s/it]"
     ]
    },
    {
     "name": "stdout",
     "output_type": "stream",
     "text": [
      "✅ BATCH 6 / 10 DONE for Lecture slide deck\n"
     ]
    },
    {
     "name": "stderr",
     "output_type": "stream",
     "text": [
      "Thomas Edison did not invent t... | Lecture slide deck:  70%|███████   | 7/10 [04:03<01:43, 34.66s/it]"
     ]
    },
    {
     "name": "stdout",
     "output_type": "stream",
     "text": [
      "✅ BATCH 7 / 10 DONE for Lecture slide deck\n"
     ]
    },
    {
     "name": "stderr",
     "output_type": "stream",
     "text": [
      "Thomas Edison did not invent t... | Lecture slide deck:  80%|████████  | 8/10 [04:37<01:09, 34.61s/it]"
     ]
    },
    {
     "name": "stdout",
     "output_type": "stream",
     "text": [
      "✅ BATCH 8 / 10 DONE for Lecture slide deck\n"
     ]
    },
    {
     "name": "stderr",
     "output_type": "stream",
     "text": [
      "Thomas Edison did not invent t... | Lecture slide deck:  90%|█████████ | 9/10 [05:10<00:33, 33.95s/it]"
     ]
    },
    {
     "name": "stdout",
     "output_type": "stream",
     "text": [
      "✅ BATCH 9 / 10 DONE for Lecture slide deck\n"
     ]
    },
    {
     "name": "stderr",
     "output_type": "stream",
     "text": [
      "Thomas Edison did not invent t... | Lecture slide deck: 100%|██████████| 10/10 [05:42<00:00, 34.27s/it]\n"
     ]
    },
    {
     "name": "stdout",
     "output_type": "stream",
     "text": [
      "✅ BATCH 10 / 10 DONE for Lecture slide deck\n"
     ]
    },
    {
     "name": "stderr",
     "output_type": "stream",
     "text": [
      "Thomas Edison did not invent t... | Museum exhibit label:  10%|█         | 1/10 [00:21<03:12, 21.42s/it]"
     ]
    },
    {
     "name": "stdout",
     "output_type": "stream",
     "text": [
      "✅ BATCH 1 / 10 DONE for Museum exhibit label\n"
     ]
    },
    {
     "name": "stderr",
     "output_type": "stream",
     "text": [
      "Thomas Edison did not invent t... | Museum exhibit label:  20%|██        | 2/10 [00:35<02:15, 16.88s/it]"
     ]
    },
    {
     "name": "stdout",
     "output_type": "stream",
     "text": [
      "✅ BATCH 2 / 10 DONE for Museum exhibit label\n"
     ]
    },
    {
     "name": "stderr",
     "output_type": "stream",
     "text": [
      "Thomas Edison did not invent t... | Museum exhibit label:  30%|███       | 3/10 [00:54<02:05, 17.94s/it]"
     ]
    },
    {
     "name": "stdout",
     "output_type": "stream",
     "text": [
      "✅ BATCH 3 / 10 DONE for Museum exhibit label\n"
     ]
    },
    {
     "name": "stderr",
     "output_type": "stream",
     "text": [
      "Thomas Edison did not invent t... | Museum exhibit label:  40%|████      | 4/10 [01:16<01:58, 19.70s/it]"
     ]
    },
    {
     "name": "stdout",
     "output_type": "stream",
     "text": [
      "✅ BATCH 4 / 10 DONE for Museum exhibit label\n"
     ]
    },
    {
     "name": "stderr",
     "output_type": "stream",
     "text": [
      "Thomas Edison did not invent t... | Museum exhibit label:  50%|█████     | 5/10 [01:36<01:37, 19.57s/it]"
     ]
    },
    {
     "name": "stdout",
     "output_type": "stream",
     "text": [
      "✅ BATCH 5 / 10 DONE for Museum exhibit label\n"
     ]
    },
    {
     "name": "stderr",
     "output_type": "stream",
     "text": [
      "Thomas Edison did not invent t... | Museum exhibit label:  60%|██████    | 6/10 [01:59<01:23, 20.89s/it]"
     ]
    },
    {
     "name": "stdout",
     "output_type": "stream",
     "text": [
      "✅ BATCH 6 / 10 DONE for Museum exhibit label\n"
     ]
    },
    {
     "name": "stderr",
     "output_type": "stream",
     "text": [
      "Thomas Edison did not invent t... | Museum exhibit label:  70%|███████   | 7/10 [02:18<01:00, 20.19s/it]"
     ]
    },
    {
     "name": "stdout",
     "output_type": "stream",
     "text": [
      "✅ BATCH 7 / 10 DONE for Museum exhibit label\n"
     ]
    },
    {
     "name": "stderr",
     "output_type": "stream",
     "text": [
      "Thomas Edison did not invent t... | Museum exhibit label:  80%|████████  | 8/10 [02:37<00:39, 19.94s/it]"
     ]
    },
    {
     "name": "stdout",
     "output_type": "stream",
     "text": [
      "✅ BATCH 8 / 10 DONE for Museum exhibit label\n"
     ]
    },
    {
     "name": "stderr",
     "output_type": "stream",
     "text": [
      "Thomas Edison did not invent t... | Museum exhibit label:  90%|█████████ | 9/10 [02:53<00:18, 18.79s/it]"
     ]
    },
    {
     "name": "stdout",
     "output_type": "stream",
     "text": [
      "✅ BATCH 9 / 10 DONE for Museum exhibit label\n"
     ]
    },
    {
     "name": "stderr",
     "output_type": "stream",
     "text": [
      "Thomas Edison did not invent t... | Museum exhibit label: 100%|██████████| 10/10 [03:08<00:00, 18.89s/it]\n"
     ]
    },
    {
     "name": "stdout",
     "output_type": "stream",
     "text": [
      "✅ BATCH 10 / 10 DONE for Museum exhibit label\n"
     ]
    },
    {
     "name": "stderr",
     "output_type": "stream",
     "text": [
      "Thomas Edison did not invent t... | Online forum discussion:  10%|█         | 1/10 [00:44<06:41, 44.66s/it]"
     ]
    },
    {
     "name": "stdout",
     "output_type": "stream",
     "text": [
      "✅ BATCH 1 / 10 DONE for Online forum discussion\n"
     ]
    },
    {
     "name": "stderr",
     "output_type": "stream",
     "text": [
      "Thomas Edison did not invent t... | Online forum discussion:  20%|██        | 2/10 [01:09<04:25, 33.16s/it]"
     ]
    },
    {
     "name": "stdout",
     "output_type": "stream",
     "text": [
      "✅ BATCH 2 / 10 DONE for Online forum discussion\n"
     ]
    },
    {
     "name": "stderr",
     "output_type": "stream",
     "text": [
      "Thomas Edison did not invent t... | Online forum discussion:  30%|███       | 3/10 [01:43<03:52, 33.23s/it]"
     ]
    },
    {
     "name": "stdout",
     "output_type": "stream",
     "text": [
      "✅ BATCH 3 / 10 DONE for Online forum discussion\n"
     ]
    },
    {
     "name": "stderr",
     "output_type": "stream",
     "text": [
      "Thomas Edison did not invent t... | Online forum discussion:  40%|████      | 4/10 [02:17<03:22, 33.79s/it]"
     ]
    },
    {
     "name": "stdout",
     "output_type": "stream",
     "text": [
      "✅ BATCH 4 / 10 DONE for Online forum discussion\n"
     ]
    },
    {
     "name": "stderr",
     "output_type": "stream",
     "text": [
      "Thomas Edison did not invent t... | Online forum discussion:  50%|█████     | 5/10 [02:52<02:50, 34.07s/it]"
     ]
    },
    {
     "name": "stdout",
     "output_type": "stream",
     "text": [
      "✅ BATCH 5 / 10 DONE for Online forum discussion\n"
     ]
    },
    {
     "name": "stderr",
     "output_type": "stream",
     "text": [
      "Thomas Edison did not invent t... | Online forum discussion:  60%|██████    | 6/10 [03:22<02:11, 32.85s/it]"
     ]
    },
    {
     "name": "stdout",
     "output_type": "stream",
     "text": [
      "✅ BATCH 6 / 10 DONE for Online forum discussion\n"
     ]
    },
    {
     "name": "stderr",
     "output_type": "stream",
     "text": [
      "Thomas Edison did not invent t... | Online forum discussion:  70%|███████   | 7/10 [03:37<01:20, 26.80s/it]"
     ]
    },
    {
     "name": "stdout",
     "output_type": "stream",
     "text": [
      "✅ BATCH 7 / 10 DONE for Online forum discussion\n"
     ]
    },
    {
     "name": "stderr",
     "output_type": "stream",
     "text": [
      "Thomas Edison did not invent t... | Online forum discussion:  80%|████████  | 8/10 [03:52<00:46, 23.13s/it]"
     ]
    },
    {
     "name": "stdout",
     "output_type": "stream",
     "text": [
      "✅ BATCH 8 / 10 DONE for Online forum discussion\n"
     ]
    },
    {
     "name": "stderr",
     "output_type": "stream",
     "text": [
      "Thomas Edison did not invent t... | Online forum discussion:  90%|█████████ | 9/10 [04:08<00:20, 20.94s/it]"
     ]
    },
    {
     "name": "stdout",
     "output_type": "stream",
     "text": [
      "✅ BATCH 9 / 10 DONE for Online forum discussion\n"
     ]
    },
    {
     "name": "stderr",
     "output_type": "stream",
     "text": [
      "Thomas Edison did not invent t... | Online forum discussion: 100%|██████████| 10/10 [04:37<00:00, 27.71s/it]\n"
     ]
    },
    {
     "name": "stdout",
     "output_type": "stream",
     "text": [
      "✅ BATCH 10 / 10 DONE for Online forum discussion\n"
     ]
    },
    {
     "name": "stderr",
     "output_type": "stream",
     "text": [
      "Thomas Edison did not invent t... | Social media thread:  10%|█         | 1/10 [01:23<12:35, 83.97s/it]"
     ]
    },
    {
     "name": "stdout",
     "output_type": "stream",
     "text": [
      "✅ BATCH 1 / 10 DONE for Social media thread\n"
     ]
    },
    {
     "name": "stderr",
     "output_type": "stream",
     "text": [
      "Thomas Edison did not invent t... | Social media thread:  20%|██        | 2/10 [01:52<06:49, 51.16s/it]"
     ]
    },
    {
     "name": "stdout",
     "output_type": "stream",
     "text": [
      "✅ BATCH 2 / 10 DONE for Social media thread\n"
     ]
    },
    {
     "name": "stderr",
     "output_type": "stream",
     "text": [
      "Thomas Edison did not invent t... | Social media thread:  30%|███       | 3/10 [02:21<04:49, 41.34s/it]"
     ]
    },
    {
     "name": "stdout",
     "output_type": "stream",
     "text": [
      "✅ BATCH 3 / 10 DONE for Social media thread\n"
     ]
    },
    {
     "name": "stderr",
     "output_type": "stream",
     "text": [
      "Thomas Edison did not invent t... | Social media thread:  40%|████      | 4/10 [02:47<03:31, 35.26s/it]"
     ]
    },
    {
     "name": "stdout",
     "output_type": "stream",
     "text": [
      "✅ BATCH 4 / 10 DONE for Social media thread\n"
     ]
    },
    {
     "name": "stderr",
     "output_type": "stream",
     "text": [
      "Thomas Edison did not invent t... | Social media thread:  50%|█████     | 5/10 [03:11<02:35, 31.14s/it]"
     ]
    },
    {
     "name": "stdout",
     "output_type": "stream",
     "text": [
      "✅ BATCH 5 / 10 DONE for Social media thread\n"
     ]
    },
    {
     "name": "stderr",
     "output_type": "stream",
     "text": [
      "Thomas Edison did not invent t... | Social media thread:  60%|██████    | 6/10 [03:42<02:03, 30.91s/it]"
     ]
    },
    {
     "name": "stdout",
     "output_type": "stream",
     "text": [
      "✅ BATCH 6 / 10 DONE for Social media thread\n"
     ]
    },
    {
     "name": "stderr",
     "output_type": "stream",
     "text": [
      "Thomas Edison did not invent t... | Social media thread:  70%|███████   | 7/10 [04:09<01:29, 29.94s/it]"
     ]
    },
    {
     "name": "stdout",
     "output_type": "stream",
     "text": [
      "✅ BATCH 7 / 10 DONE for Social media thread\n"
     ]
    },
    {
     "name": "stderr",
     "output_type": "stream",
     "text": [
      "Thomas Edison did not invent t... | Social media thread:  80%|████████  | 8/10 [04:23<00:49, 24.56s/it]"
     ]
    },
    {
     "name": "stdout",
     "output_type": "stream",
     "text": [
      "✅ BATCH 8 / 10 DONE for Social media thread\n"
     ]
    },
    {
     "name": "stderr",
     "output_type": "stream",
     "text": [
      "Thomas Edison did not invent t... | Social media thread:  90%|█████████ | 9/10 [04:50<00:25, 25.47s/it]"
     ]
    },
    {
     "name": "stdout",
     "output_type": "stream",
     "text": [
      "✅ BATCH 9 / 10 DONE for Social media thread\n"
     ]
    },
    {
     "name": "stderr",
     "output_type": "stream",
     "text": [
      "Thomas Edison did not invent t... | Social media thread: 100%|██████████| 10/10 [05:16<00:00, 31.65s/it]\n"
     ]
    },
    {
     "name": "stdout",
     "output_type": "stream",
     "text": [
      "✅ BATCH 10 / 10 DONE for Social media thread\n"
     ]
    },
    {
     "name": "stderr",
     "output_type": "stream",
     "text": [
      "Thomas Edison did not invent t... | Blog post commentary:  10%|█         | 1/10 [00:35<05:23, 35.90s/it]"
     ]
    },
    {
     "name": "stdout",
     "output_type": "stream",
     "text": [
      "✅ BATCH 1 / 10 DONE for Blog post commentary\n"
     ]
    },
    {
     "name": "stderr",
     "output_type": "stream",
     "text": [
      "Thomas Edison did not invent t... | Blog post commentary:  20%|██        | 2/10 [01:03<04:10, 31.26s/it]"
     ]
    },
    {
     "name": "stdout",
     "output_type": "stream",
     "text": [
      "✅ BATCH 2 / 10 DONE for Blog post commentary\n"
     ]
    },
    {
     "name": "stderr",
     "output_type": "stream",
     "text": [
      "Thomas Edison did not invent t... | Blog post commentary:  30%|███       | 3/10 [01:32<03:31, 30.27s/it]"
     ]
    },
    {
     "name": "stdout",
     "output_type": "stream",
     "text": [
      "✅ BATCH 3 / 10 DONE for Blog post commentary\n"
     ]
    },
    {
     "name": "stderr",
     "output_type": "stream",
     "text": [
      "Thomas Edison did not invent t... | Blog post commentary:  40%|████      | 4/10 [02:02<03:00, 30.12s/it]"
     ]
    },
    {
     "name": "stdout",
     "output_type": "stream",
     "text": [
      "✅ BATCH 4 / 10 DONE for Blog post commentary\n"
     ]
    },
    {
     "name": "stderr",
     "output_type": "stream",
     "text": [
      "Thomas Edison did not invent t... | Blog post commentary:  50%|█████     | 5/10 [02:31<02:28, 29.76s/it]"
     ]
    },
    {
     "name": "stdout",
     "output_type": "stream",
     "text": [
      "✅ BATCH 5 / 10 DONE for Blog post commentary\n"
     ]
    },
    {
     "name": "stderr",
     "output_type": "stream",
     "text": [
      "Thomas Edison did not invent t... | Blog post commentary:  60%|██████    | 6/10 [03:05<02:04, 31.17s/it]"
     ]
    },
    {
     "name": "stdout",
     "output_type": "stream",
     "text": [
      "✅ BATCH 6 / 10 DONE for Blog post commentary\n"
     ]
    },
    {
     "name": "stderr",
     "output_type": "stream",
     "text": [
      "Thomas Edison did not invent t... | Blog post commentary:  70%|███████   | 7/10 [03:34<01:30, 30.24s/it]"
     ]
    },
    {
     "name": "stdout",
     "output_type": "stream",
     "text": [
      "✅ BATCH 7 / 10 DONE for Blog post commentary\n"
     ]
    },
    {
     "name": "stderr",
     "output_type": "stream",
     "text": [
      "Thomas Edison did not invent t... | Blog post commentary:  80%|████████  | 8/10 [04:06<01:01, 30.85s/it]"
     ]
    },
    {
     "name": "stdout",
     "output_type": "stream",
     "text": [
      "✅ BATCH 8 / 10 DONE for Blog post commentary\n"
     ]
    },
    {
     "name": "stderr",
     "output_type": "stream",
     "text": [
      "Thomas Edison did not invent t... | Blog post commentary:  90%|█████████ | 9/10 [04:37<00:30, 30.78s/it]"
     ]
    },
    {
     "name": "stdout",
     "output_type": "stream",
     "text": [
      "✅ BATCH 9 / 10 DONE for Blog post commentary\n"
     ]
    },
    {
     "name": "stderr",
     "output_type": "stream",
     "text": [
      "Thomas Edison did not invent t... | Blog post commentary: 100%|██████████| 10/10 [05:06<00:00, 30.66s/it]\n"
     ]
    },
    {
     "name": "stdout",
     "output_type": "stream",
     "text": [
      "✅ BATCH 10 / 10 DONE for Blog post commentary\n"
     ]
    },
    {
     "name": "stderr",
     "output_type": "stream",
     "text": [
      "Thomas Edison did not invent t... | Television news segment:  10%|█         | 1/10 [00:27<04:10, 27.88s/it]"
     ]
    },
    {
     "name": "stdout",
     "output_type": "stream",
     "text": [
      "✅ BATCH 1 / 10 DONE for Television news segment\n"
     ]
    },
    {
     "name": "stderr",
     "output_type": "stream",
     "text": [
      "Thomas Edison did not invent t... | Television news segment:  20%|██        | 2/10 [00:51<03:21, 25.15s/it]"
     ]
    },
    {
     "name": "stdout",
     "output_type": "stream",
     "text": [
      "✅ BATCH 2 / 10 DONE for Television news segment\n"
     ]
    },
    {
     "name": "stderr",
     "output_type": "stream",
     "text": [
      "Thomas Edison did not invent t... | Television news segment:  30%|███       | 3/10 [01:13<02:45, 23.67s/it]"
     ]
    },
    {
     "name": "stdout",
     "output_type": "stream",
     "text": [
      "✅ BATCH 3 / 10 DONE for Television news segment\n"
     ]
    },
    {
     "name": "stderr",
     "output_type": "stream",
     "text": [
      "Thomas Edison did not invent t... | Television news segment:  40%|████      | 4/10 [01:49<02:52, 28.76s/it]"
     ]
    },
    {
     "name": "stdout",
     "output_type": "stream",
     "text": [
      "✅ BATCH 4 / 10 DONE for Television news segment\n"
     ]
    },
    {
     "name": "stderr",
     "output_type": "stream",
     "text": [
      "Thomas Edison did not invent t... | Television news segment:  50%|█████     | 5/10 [02:18<02:24, 28.97s/it]"
     ]
    },
    {
     "name": "stdout",
     "output_type": "stream",
     "text": [
      "✅ BATCH 5 / 10 DONE for Television news segment\n"
     ]
    },
    {
     "name": "stderr",
     "output_type": "stream",
     "text": [
      "Thomas Edison did not invent t... | Television news segment:  60%|██████    | 6/10 [02:48<01:56, 29.21s/it]"
     ]
    },
    {
     "name": "stdout",
     "output_type": "stream",
     "text": [
      "✅ BATCH 6 / 10 DONE for Television news segment\n"
     ]
    },
    {
     "name": "stderr",
     "output_type": "stream",
     "text": [
      "Thomas Edison did not invent t... | Television news segment:  70%|███████   | 7/10 [03:08<01:18, 26.04s/it]"
     ]
    },
    {
     "name": "stdout",
     "output_type": "stream",
     "text": [
      "✅ BATCH 7 / 10 DONE for Television news segment\n"
     ]
    },
    {
     "name": "stderr",
     "output_type": "stream",
     "text": [
      "Thomas Edison did not invent t... | Television news segment:  80%|████████  | 8/10 [03:36<00:53, 26.92s/it]"
     ]
    },
    {
     "name": "stdout",
     "output_type": "stream",
     "text": [
      "✅ BATCH 8 / 10 DONE for Television news segment\n"
     ]
    },
    {
     "name": "stderr",
     "output_type": "stream",
     "text": [
      "Thomas Edison did not invent t... | Television news segment:  90%|█████████ | 9/10 [04:15<00:30, 30.65s/it]"
     ]
    },
    {
     "name": "stdout",
     "output_type": "stream",
     "text": [
      "✅ BATCH 9 / 10 DONE for Television news segment\n"
     ]
    },
    {
     "name": "stderr",
     "output_type": "stream",
     "text": [
      "Thomas Edison did not invent t... | Television news segment: 100%|██████████| 10/10 [04:39<00:00, 27.92s/it]\n"
     ]
    },
    {
     "name": "stdout",
     "output_type": "stream",
     "text": [
      "✅ BATCH 10 / 10 DONE for Television news segment\n"
     ]
    },
    {
     "name": "stderr",
     "output_type": "stream",
     "text": [
      "Thomas Edison did not invent t... | Research paper citation:  10%|█         | 1/10 [00:29<04:26, 29.63s/it]"
     ]
    },
    {
     "name": "stdout",
     "output_type": "stream",
     "text": [
      "✅ BATCH 1 / 10 DONE for Research paper citation\n"
     ]
    },
    {
     "name": "stderr",
     "output_type": "stream",
     "text": [
      "Thomas Edison did not invent t... | Research paper citation:  20%|██        | 2/10 [00:49<03:10, 23.87s/it]"
     ]
    },
    {
     "name": "stdout",
     "output_type": "stream",
     "text": [
      "✅ BATCH 2 / 10 DONE for Research paper citation\n"
     ]
    },
    {
     "name": "stderr",
     "output_type": "stream",
     "text": [
      "Thomas Edison did not invent t... | Research paper citation:  30%|███       | 3/10 [01:04<02:18, 19.86s/it]"
     ]
    },
    {
     "name": "stdout",
     "output_type": "stream",
     "text": [
      "✅ BATCH 3 / 10 DONE for Research paper citation\n"
     ]
    },
    {
     "name": "stderr",
     "output_type": "stream",
     "text": [
      "Thomas Edison did not invent t... | Research paper citation:  40%|████      | 4/10 [01:26<02:04, 20.71s/it]"
     ]
    },
    {
     "name": "stdout",
     "output_type": "stream",
     "text": [
      "✅ BATCH 4 / 10 DONE for Research paper citation\n"
     ]
    },
    {
     "name": "stderr",
     "output_type": "stream",
     "text": [
      "Thomas Edison did not invent t... | Research paper citation:  50%|█████     | 5/10 [01:50<01:49, 21.99s/it]"
     ]
    },
    {
     "name": "stdout",
     "output_type": "stream",
     "text": [
      "✅ BATCH 5 / 10 DONE for Research paper citation\n"
     ]
    },
    {
     "name": "stderr",
     "output_type": "stream",
     "text": [
      "Thomas Edison did not invent t... | Research paper citation:  60%|██████    | 6/10 [02:13<01:28, 22.09s/it]"
     ]
    },
    {
     "name": "stdout",
     "output_type": "stream",
     "text": [
      "✅ BATCH 6 / 10 DONE for Research paper citation\n"
     ]
    },
    {
     "name": "stderr",
     "output_type": "stream",
     "text": [
      "Thomas Edison did not invent t... | Research paper citation:  70%|███████   | 7/10 [02:38<01:09, 23.02s/it]"
     ]
    },
    {
     "name": "stdout",
     "output_type": "stream",
     "text": [
      "✅ BATCH 7 / 10 DONE for Research paper citation\n"
     ]
    },
    {
     "name": "stderr",
     "output_type": "stream",
     "text": [
      "Thomas Edison did not invent t... | Research paper citation:  80%|████████  | 8/10 [02:54<00:41, 20.81s/it]"
     ]
    },
    {
     "name": "stdout",
     "output_type": "stream",
     "text": [
      "✅ BATCH 8 / 10 DONE for Research paper citation\n"
     ]
    },
    {
     "name": "stderr",
     "output_type": "stream",
     "text": [
      "Thomas Edison did not invent t... | Research paper citation:  90%|█████████ | 9/10 [03:25<00:23, 23.97s/it]"
     ]
    },
    {
     "name": "stdout",
     "output_type": "stream",
     "text": [
      "✅ BATCH 9 / 10 DONE for Research paper citation\n"
     ]
    },
    {
     "name": "stderr",
     "output_type": "stream",
     "text": [
      "Thomas Edison did not invent t... | Research paper citation: 100%|██████████| 10/10 [03:42<00:00, 22.23s/it]\n"
     ]
    },
    {
     "name": "stdout",
     "output_type": "stream",
     "text": [
      "✅ BATCH 10 / 10 DONE for Research paper citation\n"
     ]
    },
    {
     "name": "stderr",
     "output_type": "stream",
     "text": [
      "Bats are not blind.... | Scientific Journal Article:  10%|█         | 1/10 [00:35<05:20, 35.66s/it]"
     ]
    },
    {
     "name": "stdout",
     "output_type": "stream",
     "text": [
      "✅ BATCH 1 / 10 DONE for Scientific Journal Article\n"
     ]
    },
    {
     "name": "stderr",
     "output_type": "stream",
     "text": [
      "Bats are not blind.... | Scientific Journal Article:  20%|██        | 2/10 [01:10<04:41, 35.21s/it]"
     ]
    },
    {
     "name": "stdout",
     "output_type": "stream",
     "text": [
      "✅ BATCH 2 / 10 DONE for Scientific Journal Article\n"
     ]
    },
    {
     "name": "stderr",
     "output_type": "stream",
     "text": [
      "Bats are not blind.... | Scientific Journal Article:  30%|███       | 3/10 [01:52<04:27, 38.20s/it]"
     ]
    },
    {
     "name": "stdout",
     "output_type": "stream",
     "text": [
      "✅ BATCH 3 / 10 DONE for Scientific Journal Article\n"
     ]
    },
    {
     "name": "stderr",
     "output_type": "stream",
     "text": [
      "Bats are not blind.... | Scientific Journal Article:  40%|████      | 4/10 [02:23<03:31, 35.28s/it]"
     ]
    },
    {
     "name": "stdout",
     "output_type": "stream",
     "text": [
      "✅ BATCH 4 / 10 DONE for Scientific Journal Article\n"
     ]
    },
    {
     "name": "stderr",
     "output_type": "stream",
     "text": [
      "Bats are not blind.... | Scientific Journal Article:  50%|█████     | 5/10 [03:03<03:05, 37.01s/it]"
     ]
    },
    {
     "name": "stdout",
     "output_type": "stream",
     "text": [
      "✅ BATCH 5 / 10 DONE for Scientific Journal Article\n"
     ]
    },
    {
     "name": "stderr",
     "output_type": "stream",
     "text": [
      "Bats are not blind.... | Scientific Journal Article:  60%|██████    | 6/10 [03:57<02:50, 42.74s/it]"
     ]
    },
    {
     "name": "stdout",
     "output_type": "stream",
     "text": [
      "✅ BATCH 6 / 10 DONE for Scientific Journal Article\n"
     ]
    },
    {
     "name": "stderr",
     "output_type": "stream",
     "text": [
      "Bats are not blind.... | Scientific Journal Article:  70%|███████   | 7/10 [04:33<02:01, 40.54s/it]"
     ]
    },
    {
     "name": "stdout",
     "output_type": "stream",
     "text": [
      "✅ BATCH 7 / 10 DONE for Scientific Journal Article\n"
     ]
    },
    {
     "name": "stderr",
     "output_type": "stream",
     "text": [
      "Bats are not blind.... | Scientific Journal Article:  80%|████████  | 8/10 [05:02<01:13, 36.86s/it]"
     ]
    },
    {
     "name": "stdout",
     "output_type": "stream",
     "text": [
      "✅ BATCH 8 / 10 DONE for Scientific Journal Article\n"
     ]
    },
    {
     "name": "stderr",
     "output_type": "stream",
     "text": [
      "Bats are not blind.... | Scientific Journal Article:  90%|█████████ | 9/10 [05:38<00:36, 36.63s/it]"
     ]
    },
    {
     "name": "stdout",
     "output_type": "stream",
     "text": [
      "✅ BATCH 9 / 10 DONE for Scientific Journal Article\n"
     ]
    },
    {
     "name": "stderr",
     "output_type": "stream",
     "text": [
      "Bats are not blind.... | Scientific Journal Article: 100%|██████████| 10/10 [06:09<00:00, 36.90s/it]\n"
     ]
    },
    {
     "name": "stdout",
     "output_type": "stream",
     "text": [
      "✅ BATCH 10 / 10 DONE for Scientific Journal Article\n"
     ]
    },
    {
     "name": "stderr",
     "output_type": "stream",
     "text": [
      "Bats are not blind.... | Wildlife Documentary Script:  10%|█         | 1/10 [00:25<03:47, 25.31s/it]"
     ]
    },
    {
     "name": "stdout",
     "output_type": "stream",
     "text": [
      "✅ BATCH 1 / 10 DONE for Wildlife Documentary Script\n"
     ]
    },
    {
     "name": "stderr",
     "output_type": "stream",
     "text": [
      "Bats are not blind.... | Wildlife Documentary Script:  20%|██        | 2/10 [00:52<03:32, 26.50s/it]"
     ]
    },
    {
     "name": "stdout",
     "output_type": "stream",
     "text": [
      "✅ BATCH 2 / 10 DONE for Wildlife Documentary Script\n"
     ]
    },
    {
     "name": "stderr",
     "output_type": "stream",
     "text": [
      "Bats are not blind.... | Wildlife Documentary Script:  30%|███       | 3/10 [01:26<03:27, 29.64s/it]"
     ]
    },
    {
     "name": "stdout",
     "output_type": "stream",
     "text": [
      "✅ BATCH 3 / 10 DONE for Wildlife Documentary Script\n"
     ]
    },
    {
     "name": "stderr",
     "output_type": "stream",
     "text": [
      "Bats are not blind.... | Wildlife Documentary Script:  40%|████      | 4/10 [01:57<03:02, 30.34s/it]"
     ]
    },
    {
     "name": "stdout",
     "output_type": "stream",
     "text": [
      "✅ BATCH 4 / 10 DONE for Wildlife Documentary Script\n"
     ]
    },
    {
     "name": "stderr",
     "output_type": "stream",
     "text": [
      "Bats are not blind.... | Wildlife Documentary Script:  50%|█████     | 5/10 [02:25<02:26, 29.38s/it]"
     ]
    },
    {
     "name": "stdout",
     "output_type": "stream",
     "text": [
      "✅ BATCH 5 / 10 DONE for Wildlife Documentary Script\n"
     ]
    },
    {
     "name": "stderr",
     "output_type": "stream",
     "text": [
      "Bats are not blind.... | Wildlife Documentary Script:  60%|██████    | 6/10 [02:56<01:59, 29.99s/it]"
     ]
    },
    {
     "name": "stdout",
     "output_type": "stream",
     "text": [
      "✅ BATCH 6 / 10 DONE for Wildlife Documentary Script\n"
     ]
    },
    {
     "name": "stderr",
     "output_type": "stream",
     "text": [
      "Bats are not blind.... | Wildlife Documentary Script:  70%|███████   | 7/10 [03:33<01:36, 32.28s/it]"
     ]
    },
    {
     "name": "stdout",
     "output_type": "stream",
     "text": [
      "✅ BATCH 7 / 10 DONE for Wildlife Documentary Script\n"
     ]
    },
    {
     "name": "stderr",
     "output_type": "stream",
     "text": [
      "Bats are not blind.... | Wildlife Documentary Script:  80%|████████  | 8/10 [04:03<01:03, 31.77s/it]"
     ]
    },
    {
     "name": "stdout",
     "output_type": "stream",
     "text": [
      "✅ BATCH 8 / 10 DONE for Wildlife Documentary Script\n"
     ]
    },
    {
     "name": "stderr",
     "output_type": "stream",
     "text": [
      "Bats are not blind.... | Wildlife Documentary Script:  90%|█████████ | 9/10 [04:42<00:33, 33.80s/it]"
     ]
    },
    {
     "name": "stdout",
     "output_type": "stream",
     "text": [
      "✅ BATCH 9 / 10 DONE for Wildlife Documentary Script\n"
     ]
    },
    {
     "name": "stderr",
     "output_type": "stream",
     "text": [
      "Bats are not blind.... | Wildlife Documentary Script: 100%|██████████| 10/10 [05:13<00:00, 31.32s/it]\n"
     ]
    },
    {
     "name": "stdout",
     "output_type": "stream",
     "text": [
      "✅ BATCH 10 / 10 DONE for Wildlife Documentary Script\n"
     ]
    },
    {
     "name": "stderr",
     "output_type": "stream",
     "text": [
      "Bats are not blind.... | Elementary School Textbook:  10%|█         | 1/10 [00:27<04:04, 27.18s/it]"
     ]
    },
    {
     "name": "stdout",
     "output_type": "stream",
     "text": [
      "✅ BATCH 1 / 10 DONE for Elementary School Textbook\n"
     ]
    },
    {
     "name": "stderr",
     "output_type": "stream",
     "text": [
      "Bats are not blind.... | Elementary School Textbook:  20%|██        | 2/10 [00:58<03:58, 29.86s/it]"
     ]
    },
    {
     "name": "stdout",
     "output_type": "stream",
     "text": [
      "✅ BATCH 2 / 10 DONE for Elementary School Textbook\n"
     ]
    },
    {
     "name": "stderr",
     "output_type": "stream",
     "text": [
      "Bats are not blind.... | Elementary School Textbook:  30%|███       | 3/10 [01:30<03:34, 30.69s/it]"
     ]
    },
    {
     "name": "stdout",
     "output_type": "stream",
     "text": [
      "✅ BATCH 3 / 10 DONE for Elementary School Textbook\n"
     ]
    },
    {
     "name": "stderr",
     "output_type": "stream",
     "text": [
      "Bats are not blind.... | Elementary School Textbook:  40%|████      | 4/10 [02:09<03:23, 33.99s/it]"
     ]
    },
    {
     "name": "stdout",
     "output_type": "stream",
     "text": [
      "✅ BATCH 4 / 10 DONE for Elementary School Textbook\n"
     ]
    },
    {
     "name": "stderr",
     "output_type": "stream",
     "text": [
      "Bats are not blind.... | Elementary School Textbook:  50%|█████     | 5/10 [02:35<02:35, 31.13s/it]"
     ]
    },
    {
     "name": "stdout",
     "output_type": "stream",
     "text": [
      "✅ BATCH 5 / 10 DONE for Elementary School Textbook\n"
     ]
    },
    {
     "name": "stderr",
     "output_type": "stream",
     "text": [
      "Bats are not blind.... | Elementary School Textbook:  60%|██████    | 6/10 [02:55<01:48, 27.24s/it]"
     ]
    },
    {
     "name": "stdout",
     "output_type": "stream",
     "text": [
      "✅ BATCH 6 / 10 DONE for Elementary School Textbook\n"
     ]
    },
    {
     "name": "stderr",
     "output_type": "stream",
     "text": [
      "Bats are not blind.... | Elementary School Textbook:  70%|███████   | 7/10 [03:11<01:10, 23.65s/it]"
     ]
    },
    {
     "name": "stdout",
     "output_type": "stream",
     "text": [
      "✅ BATCH 7 / 10 DONE for Elementary School Textbook\n"
     ]
    },
    {
     "name": "stderr",
     "output_type": "stream",
     "text": [
      "Bats are not blind.... | Elementary School Textbook:  80%|████████  | 8/10 [03:30<00:44, 22.24s/it]"
     ]
    },
    {
     "name": "stdout",
     "output_type": "stream",
     "text": [
      "✅ BATCH 8 / 10 DONE for Elementary School Textbook\n"
     ]
    },
    {
     "name": "stderr",
     "output_type": "stream",
     "text": [
      "Bats are not blind.... | Elementary School Textbook:  90%|█████████ | 9/10 [05:03<00:44, 44.39s/it]"
     ]
    },
    {
     "name": "stdout",
     "output_type": "stream",
     "text": [
      "✅ BATCH 9 / 10 DONE for Elementary School Textbook\n"
     ]
    },
    {
     "name": "stderr",
     "output_type": "stream",
     "text": [
      "Bats are not blind.... | Elementary School Textbook: 100%|██████████| 10/10 [05:42<00:00, 34.26s/it]\n"
     ]
    },
    {
     "name": "stdout",
     "output_type": "stream",
     "text": [
      "✅ BATCH 10 / 10 DONE for Elementary School Textbook\n"
     ]
    },
    {
     "name": "stderr",
     "output_type": "stream",
     "text": [
      "Bats are not blind.... | Nature Podcast Transcript:  10%|█         | 1/10 [00:29<04:22, 29.15s/it]"
     ]
    },
    {
     "name": "stdout",
     "output_type": "stream",
     "text": [
      "✅ BATCH 1 / 10 DONE for Nature Podcast Transcript\n"
     ]
    },
    {
     "name": "stderr",
     "output_type": "stream",
     "text": [
      "Bats are not blind.... | Nature Podcast Transcript:  20%|██        | 2/10 [00:53<03:29, 26.25s/it]"
     ]
    },
    {
     "name": "stdout",
     "output_type": "stream",
     "text": [
      "✅ BATCH 2 / 10 DONE for Nature Podcast Transcript\n"
     ]
    },
    {
     "name": "stderr",
     "output_type": "stream",
     "text": [
      "Bats are not blind.... | Nature Podcast Transcript:  30%|███       | 3/10 [01:19<03:03, 26.23s/it]"
     ]
    },
    {
     "name": "stdout",
     "output_type": "stream",
     "text": [
      "✅ BATCH 3 / 10 DONE for Nature Podcast Transcript\n"
     ]
    },
    {
     "name": "stderr",
     "output_type": "stream",
     "text": [
      "Bats are not blind.... | Nature Podcast Transcript:  40%|████      | 4/10 [01:51<02:50, 28.46s/it]"
     ]
    },
    {
     "name": "stdout",
     "output_type": "stream",
     "text": [
      "✅ BATCH 4 / 10 DONE for Nature Podcast Transcript\n"
     ]
    },
    {
     "name": "stderr",
     "output_type": "stream",
     "text": [
      "Bats are not blind.... | Nature Podcast Transcript:  50%|█████     | 5/10 [02:14<02:13, 26.65s/it]"
     ]
    },
    {
     "name": "stdout",
     "output_type": "stream",
     "text": [
      "✅ BATCH 5 / 10 DONE for Nature Podcast Transcript\n"
     ]
    },
    {
     "name": "stderr",
     "output_type": "stream",
     "text": [
      "Bats are not blind.... | Nature Podcast Transcript:  60%|██████    | 6/10 [02:42<01:47, 26.92s/it]"
     ]
    },
    {
     "name": "stdout",
     "output_type": "stream",
     "text": [
      "✅ BATCH 6 / 10 DONE for Nature Podcast Transcript\n"
     ]
    },
    {
     "name": "stderr",
     "output_type": "stream",
     "text": [
      "Bats are not blind.... | Nature Podcast Transcript:  70%|███████   | 7/10 [03:16<01:27, 29.24s/it]"
     ]
    },
    {
     "name": "stdout",
     "output_type": "stream",
     "text": [
      "✅ BATCH 7 / 10 DONE for Nature Podcast Transcript\n"
     ]
    },
    {
     "name": "stderr",
     "output_type": "stream",
     "text": [
      "Bats are not blind.... | Nature Podcast Transcript:  80%|████████  | 8/10 [03:43<00:57, 28.71s/it]"
     ]
    },
    {
     "name": "stdout",
     "output_type": "stream",
     "text": [
      "✅ BATCH 8 / 10 DONE for Nature Podcast Transcript\n"
     ]
    },
    {
     "name": "stderr",
     "output_type": "stream",
     "text": [
      "Bats are not blind.... | Nature Podcast Transcript:  90%|█████████ | 9/10 [04:13<00:28, 28.84s/it]"
     ]
    },
    {
     "name": "stdout",
     "output_type": "stream",
     "text": [
      "✅ BATCH 9 / 10 DONE for Nature Podcast Transcript\n"
     ]
    },
    {
     "name": "stderr",
     "output_type": "stream",
     "text": [
      "Bats are not blind.... | Nature Podcast Transcript: 100%|██████████| 10/10 [04:49<00:00, 28.98s/it]\n"
     ]
    },
    {
     "name": "stdout",
     "output_type": "stream",
     "text": [
      "✅ BATCH 10 / 10 DONE for Nature Podcast Transcript\n"
     ]
    },
    {
     "name": "stderr",
     "output_type": "stream",
     "text": [
      "Bats are not blind.... | Zoology Lecture Notes:  10%|█         | 1/10 [00:30<04:35, 30.63s/it]"
     ]
    },
    {
     "name": "stdout",
     "output_type": "stream",
     "text": [
      "✅ BATCH 1 / 10 DONE for Zoology Lecture Notes\n"
     ]
    },
    {
     "name": "stderr",
     "output_type": "stream",
     "text": [
      "Bats are not blind.... | Zoology Lecture Notes:  20%|██        | 2/10 [00:58<03:49, 28.74s/it]"
     ]
    },
    {
     "name": "stdout",
     "output_type": "stream",
     "text": [
      "✅ BATCH 2 / 10 DONE for Zoology Lecture Notes\n"
     ]
    },
    {
     "name": "stderr",
     "output_type": "stream",
     "text": [
      "Bats are not blind.... | Zoology Lecture Notes:  30%|███       | 3/10 [01:34<03:46, 32.31s/it]"
     ]
    },
    {
     "name": "stdout",
     "output_type": "stream",
     "text": [
      "✅ BATCH 3 / 10 DONE for Zoology Lecture Notes\n"
     ]
    },
    {
     "name": "stderr",
     "output_type": "stream",
     "text": [
      "Bats are not blind.... | Zoology Lecture Notes:  40%|████      | 4/10 [02:25<03:58, 39.70s/it]"
     ]
    },
    {
     "name": "stdout",
     "output_type": "stream",
     "text": [
      "✅ BATCH 4 / 10 DONE for Zoology Lecture Notes\n"
     ]
    },
    {
     "name": "stderr",
     "output_type": "stream",
     "text": [
      "Bats are not blind.... | Zoology Lecture Notes:  50%|█████     | 5/10 [02:57<03:03, 36.76s/it]"
     ]
    },
    {
     "name": "stdout",
     "output_type": "stream",
     "text": [
      "✅ BATCH 5 / 10 DONE for Zoology Lecture Notes\n"
     ]
    },
    {
     "name": "stderr",
     "output_type": "stream",
     "text": [
      "Bats are not blind.... | Zoology Lecture Notes:  60%|██████    | 6/10 [03:29<02:21, 35.36s/it]"
     ]
    },
    {
     "name": "stdout",
     "output_type": "stream",
     "text": [
      "✅ BATCH 6 / 10 DONE for Zoology Lecture Notes\n"
     ]
    },
    {
     "name": "stderr",
     "output_type": "stream",
     "text": [
      "Bats are not blind.... | Zoology Lecture Notes:  70%|███████   | 7/10 [03:57<01:38, 32.83s/it]"
     ]
    },
    {
     "name": "stdout",
     "output_type": "stream",
     "text": [
      "✅ BATCH 7 / 10 DONE for Zoology Lecture Notes\n"
     ]
    },
    {
     "name": "stderr",
     "output_type": "stream",
     "text": [
      "Bats are not blind.... | Zoology Lecture Notes:  80%|████████  | 8/10 [04:28<01:04, 32.31s/it]"
     ]
    },
    {
     "name": "stdout",
     "output_type": "stream",
     "text": [
      "✅ BATCH 8 / 10 DONE for Zoology Lecture Notes\n"
     ]
    },
    {
     "name": "stderr",
     "output_type": "stream",
     "text": [
      "Bats are not blind.... | Zoology Lecture Notes:  90%|█████████ | 9/10 [05:18<00:37, 37.80s/it]"
     ]
    },
    {
     "name": "stdout",
     "output_type": "stream",
     "text": [
      "✅ BATCH 9 / 10 DONE for Zoology Lecture Notes\n"
     ]
    },
    {
     "name": "stderr",
     "output_type": "stream",
     "text": [
      "Bats are not blind.... | Zoology Lecture Notes: 100%|██████████| 10/10 [05:53<00:00, 35.36s/it]\n"
     ]
    },
    {
     "name": "stdout",
     "output_type": "stream",
     "text": [
      "✅ BATCH 10 / 10 DONE for Zoology Lecture Notes\n"
     ]
    },
    {
     "name": "stderr",
     "output_type": "stream",
     "text": [
      "Bats are not blind.... | Animal Myths Brochure:  10%|█         | 1/10 [00:25<03:45, 25.02s/it]"
     ]
    },
    {
     "name": "stdout",
     "output_type": "stream",
     "text": [
      "✅ BATCH 1 / 10 DONE for Animal Myths Brochure\n"
     ]
    },
    {
     "name": "stderr",
     "output_type": "stream",
     "text": [
      "Bats are not blind.... | Animal Myths Brochure:  20%|██        | 2/10 [00:53<03:36, 27.10s/it]"
     ]
    },
    {
     "name": "stdout",
     "output_type": "stream",
     "text": [
      "✅ BATCH 2 / 10 DONE for Animal Myths Brochure\n"
     ]
    },
    {
     "name": "stderr",
     "output_type": "stream",
     "text": [
      "Bats are not blind.... | Animal Myths Brochure:  30%|███       | 3/10 [01:19<03:04, 26.42s/it]"
     ]
    },
    {
     "name": "stdout",
     "output_type": "stream",
     "text": [
      "✅ BATCH 3 / 10 DONE for Animal Myths Brochure\n"
     ]
    },
    {
     "name": "stderr",
     "output_type": "stream",
     "text": [
      "Bats are not blind.... | Animal Myths Brochure:  40%|████      | 4/10 [01:54<02:58, 29.80s/it]"
     ]
    },
    {
     "name": "stdout",
     "output_type": "stream",
     "text": [
      "✅ BATCH 4 / 10 DONE for Animal Myths Brochure\n"
     ]
    },
    {
     "name": "stderr",
     "output_type": "stream",
     "text": [
      "Bats are not blind.... | Animal Myths Brochure:  50%|█████     | 5/10 [02:16<02:16, 27.29s/it]"
     ]
    },
    {
     "name": "stdout",
     "output_type": "stream",
     "text": [
      "✅ BATCH 5 / 10 DONE for Animal Myths Brochure\n"
     ]
    },
    {
     "name": "stderr",
     "output_type": "stream",
     "text": [
      "Bats are not blind.... | Animal Myths Brochure:  60%|██████    | 6/10 [02:48<01:55, 28.82s/it]"
     ]
    },
    {
     "name": "stdout",
     "output_type": "stream",
     "text": [
      "✅ BATCH 6 / 10 DONE for Animal Myths Brochure\n"
     ]
    },
    {
     "name": "stderr",
     "output_type": "stream",
     "text": [
      "Bats are not blind.... | Animal Myths Brochure:  70%|███████   | 7/10 [03:20<01:28, 29.66s/it]"
     ]
    },
    {
     "name": "stdout",
     "output_type": "stream",
     "text": [
      "✅ BATCH 7 / 10 DONE for Animal Myths Brochure\n"
     ]
    },
    {
     "name": "stderr",
     "output_type": "stream",
     "text": [
      "Bats are not blind.... | Animal Myths Brochure:  80%|████████  | 8/10 [03:43<00:55, 27.76s/it]"
     ]
    },
    {
     "name": "stdout",
     "output_type": "stream",
     "text": [
      "✅ BATCH 8 / 10 DONE for Animal Myths Brochure\n"
     ]
    },
    {
     "name": "stderr",
     "output_type": "stream",
     "text": [
      "Bats are not blind.... | Animal Myths Brochure:  90%|█████████ | 9/10 [04:29<00:33, 33.27s/it]"
     ]
    },
    {
     "name": "stdout",
     "output_type": "stream",
     "text": [
      "✅ BATCH 9 / 10 DONE for Animal Myths Brochure\n"
     ]
    },
    {
     "name": "stderr",
     "output_type": "stream",
     "text": [
      "Bats are not blind.... | Animal Myths Brochure: 100%|██████████| 10/10 [04:59<00:00, 29.98s/it]\n"
     ]
    },
    {
     "name": "stdout",
     "output_type": "stream",
     "text": [
      "✅ BATCH 10 / 10 DONE for Animal Myths Brochure\n"
     ]
    },
    {
     "name": "stderr",
     "output_type": "stream",
     "text": [
      "Bats are not blind.... | Bat Conservation Flyer:  10%|█         | 1/10 [00:23<03:35, 24.00s/it]"
     ]
    },
    {
     "name": "stdout",
     "output_type": "stream",
     "text": [
      "✅ BATCH 1 / 10 DONE for Bat Conservation Flyer\n"
     ]
    },
    {
     "name": "stderr",
     "output_type": "stream",
     "text": [
      "Bats are not blind.... | Bat Conservation Flyer:  20%|██        | 2/10 [00:54<03:44, 28.10s/it]"
     ]
    },
    {
     "name": "stdout",
     "output_type": "stream",
     "text": [
      "✅ BATCH 2 / 10 DONE for Bat Conservation Flyer\n"
     ]
    },
    {
     "name": "stderr",
     "output_type": "stream",
     "text": [
      "Bats are not blind.... | Bat Conservation Flyer:  30%|███       | 3/10 [01:16<02:55, 25.07s/it]"
     ]
    },
    {
     "name": "stdout",
     "output_type": "stream",
     "text": [
      "✅ BATCH 3 / 10 DONE for Bat Conservation Flyer\n"
     ]
    },
    {
     "name": "stderr",
     "output_type": "stream",
     "text": [
      "Bats are not blind.... | Bat Conservation Flyer:  40%|████      | 4/10 [01:35<02:16, 22.71s/it]"
     ]
    },
    {
     "name": "stdout",
     "output_type": "stream",
     "text": [
      "✅ BATCH 4 / 10 DONE for Bat Conservation Flyer\n"
     ]
    },
    {
     "name": "stderr",
     "output_type": "stream",
     "text": [
      "Bats are not blind.... | Bat Conservation Flyer:  50%|█████     | 5/10 [02:11<02:16, 27.32s/it]"
     ]
    },
    {
     "name": "stdout",
     "output_type": "stream",
     "text": [
      "✅ BATCH 5 / 10 DONE for Bat Conservation Flyer\n"
     ]
    },
    {
     "name": "stderr",
     "output_type": "stream",
     "text": [
      "Bats are not blind.... | Bat Conservation Flyer:  60%|██████    | 6/10 [02:30<01:38, 24.73s/it]"
     ]
    },
    {
     "name": "stdout",
     "output_type": "stream",
     "text": [
      "✅ BATCH 6 / 10 DONE for Bat Conservation Flyer\n"
     ]
    },
    {
     "name": "stderr",
     "output_type": "stream",
     "text": [
      "Bats are not blind.... | Bat Conservation Flyer:  70%|███████   | 7/10 [02:54<01:13, 24.57s/it]"
     ]
    },
    {
     "name": "stdout",
     "output_type": "stream",
     "text": [
      "✅ BATCH 7 / 10 DONE for Bat Conservation Flyer\n"
     ]
    },
    {
     "name": "stderr",
     "output_type": "stream",
     "text": [
      "Bats are not blind.... | Bat Conservation Flyer:  80%|████████  | 8/10 [03:26<00:53, 26.77s/it]"
     ]
    },
    {
     "name": "stdout",
     "output_type": "stream",
     "text": [
      "✅ BATCH 8 / 10 DONE for Bat Conservation Flyer\n"
     ]
    },
    {
     "name": "stderr",
     "output_type": "stream",
     "text": [
      "Bats are not blind.... | Bat Conservation Flyer:  90%|█████████ | 9/10 [03:46<00:24, 24.59s/it]"
     ]
    },
    {
     "name": "stdout",
     "output_type": "stream",
     "text": [
      "✅ BATCH 9 / 10 DONE for Bat Conservation Flyer\n"
     ]
    },
    {
     "name": "stderr",
     "output_type": "stream",
     "text": [
      "Bats are not blind.... | Bat Conservation Flyer: 100%|██████████| 10/10 [04:16<00:00, 25.63s/it]\n"
     ]
    },
    {
     "name": "stdout",
     "output_type": "stream",
     "text": [
      "✅ BATCH 10 / 10 DONE for Bat Conservation Flyer\n"
     ]
    },
    {
     "name": "stderr",
     "output_type": "stream",
     "text": [
      "Bats are not blind.... | Science Fair Project Report:  10%|█         | 1/10 [00:39<05:55, 39.55s/it]"
     ]
    },
    {
     "name": "stdout",
     "output_type": "stream",
     "text": [
      "✅ BATCH 1 / 10 DONE for Science Fair Project Report\n"
     ]
    },
    {
     "name": "stderr",
     "output_type": "stream",
     "text": [
      "Bats are not blind.... | Science Fair Project Report:  20%|██        | 2/10 [01:25<05:47, 43.42s/it]"
     ]
    },
    {
     "name": "stdout",
     "output_type": "stream",
     "text": [
      "✅ BATCH 2 / 10 DONE for Science Fair Project Report\n"
     ]
    },
    {
     "name": "stderr",
     "output_type": "stream",
     "text": [
      "Bats are not blind.... | Science Fair Project Report:  40%|████      | 4/10 [02:45<04:04, 40.81s/it]"
     ]
    },
    {
     "name": "stdout",
     "output_type": "stream",
     "text": [
      "✅ BATCH 4 / 10 DONE for Science Fair Project Report\n"
     ]
    },
    {
     "name": "stderr",
     "output_type": "stream",
     "text": [
      "Bats are not blind.... | Science Fair Project Report:  50%|█████     | 5/10 [03:17<03:09, 37.87s/it]"
     ]
    },
    {
     "name": "stdout",
     "output_type": "stream",
     "text": [
      "✅ BATCH 5 / 10 DONE for Science Fair Project Report\n"
     ]
    },
    {
     "name": "stderr",
     "output_type": "stream",
     "text": [
      "Bats are not blind.... | Science Fair Project Report:  60%|██████    | 6/10 [03:50<02:24, 36.12s/it]"
     ]
    },
    {
     "name": "stdout",
     "output_type": "stream",
     "text": [
      "✅ BATCH 6 / 10 DONE for Science Fair Project Report\n"
     ]
    },
    {
     "name": "stderr",
     "output_type": "stream",
     "text": [
      "Bats are not blind.... | Science Fair Project Report:  70%|███████   | 7/10 [05:20<02:40, 53.59s/it]"
     ]
    },
    {
     "name": "stdout",
     "output_type": "stream",
     "text": [
      "✅ BATCH 7 / 10 DONE for Science Fair Project Report\n"
     ]
    },
    {
     "name": "stderr",
     "output_type": "stream",
     "text": [
      "Bats are not blind.... | Science Fair Project Report:  80%|████████  | 8/10 [05:50<01:32, 46.20s/it]"
     ]
    },
    {
     "name": "stdout",
     "output_type": "stream",
     "text": [
      "✅ BATCH 8 / 10 DONE for Science Fair Project Report\n"
     ]
    },
    {
     "name": "stderr",
     "output_type": "stream",
     "text": [
      "Bats are not blind.... | Science Fair Project Report:  90%|█████████ | 9/10 [06:26<00:43, 43.03s/it]"
     ]
    },
    {
     "name": "stdout",
     "output_type": "stream",
     "text": [
      "✅ BATCH 9 / 10 DONE for Science Fair Project Report\n"
     ]
    },
    {
     "name": "stderr",
     "output_type": "stream",
     "text": [
      "Bats are not blind.... | Science Fair Project Report: 100%|██████████| 10/10 [07:16<00:00, 43.61s/it]\n"
     ]
    },
    {
     "name": "stdout",
     "output_type": "stream",
     "text": [
      "✅ BATCH 10 / 10 DONE for Science Fair Project Report\n"
     ]
    },
    {
     "name": "stderr",
     "output_type": "stream",
     "text": [
      "Bats are not blind.... | Science Magazine Feature:  10%|█         | 1/10 [00:31<04:47, 31.99s/it]"
     ]
    },
    {
     "name": "stdout",
     "output_type": "stream",
     "text": [
      "✅ BATCH 1 / 10 DONE for Science Magazine Feature\n"
     ]
    },
    {
     "name": "stderr",
     "output_type": "stream",
     "text": [
      "Bats are not blind.... | Science Magazine Feature:  20%|██        | 2/10 [00:57<03:45, 28.22s/it]"
     ]
    },
    {
     "name": "stdout",
     "output_type": "stream",
     "text": [
      "✅ BATCH 2 / 10 DONE for Science Magazine Feature\n"
     ]
    },
    {
     "name": "stderr",
     "output_type": "stream",
     "text": [
      "Bats are not blind.... | Science Magazine Feature:  30%|███       | 3/10 [01:37<03:56, 33.74s/it]"
     ]
    },
    {
     "name": "stdout",
     "output_type": "stream",
     "text": [
      "✅ BATCH 3 / 10 DONE for Science Magazine Feature\n"
     ]
    },
    {
     "name": "stderr",
     "output_type": "stream",
     "text": [
      "Bats are not blind.... | Science Magazine Feature:  40%|████      | 4/10 [02:05<03:08, 31.49s/it]"
     ]
    },
    {
     "name": "stdout",
     "output_type": "stream",
     "text": [
      "✅ BATCH 4 / 10 DONE for Science Magazine Feature\n"
     ]
    },
    {
     "name": "stderr",
     "output_type": "stream",
     "text": [
      "Bats are not blind.... | Science Magazine Feature:  50%|█████     | 5/10 [02:44<02:49, 33.93s/it]"
     ]
    },
    {
     "name": "stdout",
     "output_type": "stream",
     "text": [
      "✅ BATCH 5 / 10 DONE for Science Magazine Feature\n"
     ]
    },
    {
     "name": "stderr",
     "output_type": "stream",
     "text": [
      "Bats are not blind.... | Science Magazine Feature:  60%|██████    | 6/10 [03:07<02:01, 30.31s/it]"
     ]
    },
    {
     "name": "stdout",
     "output_type": "stream",
     "text": [
      "✅ BATCH 6 / 10 DONE for Science Magazine Feature\n"
     ]
    },
    {
     "name": "stderr",
     "output_type": "stream",
     "text": [
      "Bats are not blind.... | Science Magazine Feature:  70%|███████   | 7/10 [03:39<01:33, 31.03s/it]"
     ]
    },
    {
     "name": "stdout",
     "output_type": "stream",
     "text": [
      "✅ BATCH 7 / 10 DONE for Science Magazine Feature\n"
     ]
    },
    {
     "name": "stderr",
     "output_type": "stream",
     "text": [
      "Bats are not blind.... | Science Magazine Feature:  80%|████████  | 8/10 [04:28<01:12, 36.49s/it]"
     ]
    },
    {
     "name": "stdout",
     "output_type": "stream",
     "text": [
      "✅ BATCH 8 / 10 DONE for Science Magazine Feature\n"
     ]
    },
    {
     "name": "stderr",
     "output_type": "stream",
     "text": [
      "Bats are not blind.... | Science Magazine Feature:  90%|█████████ | 9/10 [04:54<00:33, 33.29s/it]"
     ]
    },
    {
     "name": "stdout",
     "output_type": "stream",
     "text": [
      "✅ BATCH 9 / 10 DONE for Science Magazine Feature\n"
     ]
    },
    {
     "name": "stderr",
     "output_type": "stream",
     "text": [
      "Bats are not blind.... | Science Magazine Feature: 100%|██████████| 10/10 [05:27<00:00, 32.78s/it]\n"
     ]
    },
    {
     "name": "stdout",
     "output_type": "stream",
     "text": [
      "✅ BATCH 10 / 10 DONE for Science Magazine Feature\n"
     ]
    },
    {
     "name": "stderr",
     "output_type": "stream",
     "text": [
      "Bats are not blind.... | Museum Exhibit Placard:  10%|█         | 1/10 [00:22<03:20, 22.26s/it]"
     ]
    },
    {
     "name": "stdout",
     "output_type": "stream",
     "text": [
      "✅ BATCH 1 / 10 DONE for Museum Exhibit Placard\n"
     ]
    },
    {
     "name": "stderr",
     "output_type": "stream",
     "text": [
      "Bats are not blind.... | Museum Exhibit Placard:  20%|██        | 2/10 [00:39<02:34, 19.29s/it]"
     ]
    },
    {
     "name": "stdout",
     "output_type": "stream",
     "text": [
      "✅ BATCH 2 / 10 DONE for Museum Exhibit Placard\n"
     ]
    },
    {
     "name": "stderr",
     "output_type": "stream",
     "text": [
      "Bats are not blind.... | Museum Exhibit Placard:  30%|███       | 3/10 [00:52<01:54, 16.31s/it]"
     ]
    },
    {
     "name": "stdout",
     "output_type": "stream",
     "text": [
      "✅ BATCH 3 / 10 DONE for Museum Exhibit Placard\n"
     ]
    },
    {
     "name": "stderr",
     "output_type": "stream",
     "text": [
      "Bats are not blind.... | Museum Exhibit Placard:  40%|████      | 4/10 [01:11<01:44, 17.49s/it]"
     ]
    },
    {
     "name": "stdout",
     "output_type": "stream",
     "text": [
      "✅ BATCH 4 / 10 DONE for Museum Exhibit Placard\n"
     ]
    },
    {
     "name": "stderr",
     "output_type": "stream",
     "text": [
      "Bats are not blind.... | Museum Exhibit Placard:  50%|█████     | 5/10 [01:29<01:29, 17.81s/it]"
     ]
    },
    {
     "name": "stdout",
     "output_type": "stream",
     "text": [
      "✅ BATCH 5 / 10 DONE for Museum Exhibit Placard\n"
     ]
    },
    {
     "name": "stderr",
     "output_type": "stream",
     "text": [
      "Bats are not blind.... | Museum Exhibit Placard:  60%|██████    | 6/10 [01:55<01:21, 20.50s/it]"
     ]
    },
    {
     "name": "stdout",
     "output_type": "stream",
     "text": [
      "✅ BATCH 6 / 10 DONE for Museum Exhibit Placard\n"
     ]
    },
    {
     "name": "stderr",
     "output_type": "stream",
     "text": [
      "Bats are not blind.... | Museum Exhibit Placard:  70%|███████   | 7/10 [02:15<01:01, 20.38s/it]"
     ]
    },
    {
     "name": "stdout",
     "output_type": "stream",
     "text": [
      "✅ BATCH 7 / 10 DONE for Museum Exhibit Placard\n"
     ]
    },
    {
     "name": "stderr",
     "output_type": "stream",
     "text": [
      "Bats are not blind.... | Museum Exhibit Placard:  80%|████████  | 8/10 [02:33<00:39, 19.64s/it]"
     ]
    },
    {
     "name": "stdout",
     "output_type": "stream",
     "text": [
      "✅ BATCH 8 / 10 DONE for Museum Exhibit Placard\n"
     ]
    },
    {
     "name": "stderr",
     "output_type": "stream",
     "text": [
      "Bats are not blind.... | Museum Exhibit Placard:  90%|█████████ | 9/10 [02:58<00:21, 21.31s/it]"
     ]
    },
    {
     "name": "stdout",
     "output_type": "stream",
     "text": [
      "✅ BATCH 9 / 10 DONE for Museum Exhibit Placard\n"
     ]
    },
    {
     "name": "stderr",
     "output_type": "stream",
     "text": [
      "Bats are not blind.... | Museum Exhibit Placard: 100%|██████████| 10/10 [03:20<00:00, 20.04s/it]\n"
     ]
    },
    {
     "name": "stdout",
     "output_type": "stream",
     "text": [
      "✅ BATCH 10 / 10 DONE for Museum Exhibit Placard\n"
     ]
    },
    {
     "name": "stderr",
     "output_type": "stream",
     "text": [
      "Bats are not blind.... | High School Biology Worksheet:  10%|█         | 1/10 [00:32<04:55, 32.80s/it]"
     ]
    },
    {
     "name": "stdout",
     "output_type": "stream",
     "text": [
      "✅ BATCH 1 / 10 DONE for High School Biology Worksheet\n"
     ]
    },
    {
     "name": "stderr",
     "output_type": "stream",
     "text": [
      "Bats are not blind.... | High School Biology Worksheet:  20%|██        | 2/10 [00:55<03:35, 26.94s/it]"
     ]
    },
    {
     "name": "stdout",
     "output_type": "stream",
     "text": [
      "✅ BATCH 2 / 10 DONE for High School Biology Worksheet\n"
     ]
    },
    {
     "name": "stderr",
     "output_type": "stream",
     "text": [
      "Bats are not blind.... | High School Biology Worksheet:  30%|███       | 3/10 [01:34<03:45, 32.22s/it]"
     ]
    },
    {
     "name": "stdout",
     "output_type": "stream",
     "text": [
      "✅ BATCH 3 / 10 DONE for High School Biology Worksheet\n"
     ]
    },
    {
     "name": "stderr",
     "output_type": "stream",
     "text": [
      "Bats are not blind.... | High School Biology Worksheet:  40%|████      | 4/10 [02:03<03:05, 30.98s/it]"
     ]
    },
    {
     "name": "stdout",
     "output_type": "stream",
     "text": [
      "✅ BATCH 4 / 10 DONE for High School Biology Worksheet\n"
     ]
    },
    {
     "name": "stderr",
     "output_type": "stream",
     "text": [
      "Bats are not blind.... | High School Biology Worksheet:  50%|█████     | 5/10 [02:48<02:59, 35.98s/it]"
     ]
    },
    {
     "name": "stdout",
     "output_type": "stream",
     "text": [
      "✅ BATCH 5 / 10 DONE for High School Biology Worksheet\n"
     ]
    },
    {
     "name": "stderr",
     "output_type": "stream",
     "text": [
      "Bats are not blind.... | High School Biology Worksheet:  60%|██████    | 6/10 [03:14<02:11, 32.82s/it]"
     ]
    },
    {
     "name": "stdout",
     "output_type": "stream",
     "text": [
      "✅ BATCH 6 / 10 DONE for High School Biology Worksheet\n"
     ]
    },
    {
     "name": "stderr",
     "output_type": "stream",
     "text": [
      "Bats are not blind.... | High School Biology Worksheet:  70%|███████   | 7/10 [04:06<01:57, 39.06s/it]"
     ]
    },
    {
     "name": "stdout",
     "output_type": "stream",
     "text": [
      "✅ BATCH 7 / 10 DONE for High School Biology Worksheet\n"
     ]
    },
    {
     "name": "stderr",
     "output_type": "stream",
     "text": [
      "Bats are not blind.... | High School Biology Worksheet:  80%|████████  | 8/10 [04:29<01:07, 33.81s/it]"
     ]
    },
    {
     "name": "stdout",
     "output_type": "stream",
     "text": [
      "✅ BATCH 8 / 10 DONE for High School Biology Worksheet\n"
     ]
    },
    {
     "name": "stderr",
     "output_type": "stream",
     "text": [
      "Bats are not blind.... | High School Biology Worksheet:  90%|█████████ | 9/10 [05:11<00:36, 36.36s/it]"
     ]
    },
    {
     "name": "stdout",
     "output_type": "stream",
     "text": [
      "✅ BATCH 9 / 10 DONE for High School Biology Worksheet\n"
     ]
    },
    {
     "name": "stderr",
     "output_type": "stream",
     "text": [
      "Bats are not blind.... | High School Biology Worksheet: 100%|██████████| 10/10 [06:00<00:00, 36.00s/it]\n"
     ]
    },
    {
     "name": "stdout",
     "output_type": "stream",
     "text": [
      "✅ BATCH 10 / 10 DONE for High School Biology Worksheet\n"
     ]
    },
    {
     "name": "stderr",
     "output_type": "stream",
     "text": [
      "Bats are not blind.... | Children's Picture Book:  10%|█         | 1/10 [00:21<03:12, 21.39s/it]"
     ]
    },
    {
     "name": "stdout",
     "output_type": "stream",
     "text": [
      "✅ BATCH 1 / 10 DONE for Children's Picture Book\n"
     ]
    },
    {
     "name": "stderr",
     "output_type": "stream",
     "text": [
      "Bats are not blind.... | Children's Picture Book:  20%|██        | 2/10 [01:02<04:23, 32.95s/it]"
     ]
    },
    {
     "name": "stdout",
     "output_type": "stream",
     "text": [
      "✅ BATCH 2 / 10 DONE for Children's Picture Book\n"
     ]
    },
    {
     "name": "stderr",
     "output_type": "stream",
     "text": [
      "Bats are not blind.... | Children's Picture Book:  30%|███       | 3/10 [01:22<03:11, 27.29s/it]"
     ]
    },
    {
     "name": "stdout",
     "output_type": "stream",
     "text": [
      "✅ BATCH 3 / 10 DONE for Children's Picture Book\n"
     ]
    },
    {
     "name": "stderr",
     "output_type": "stream",
     "text": [
      "Bats are not blind.... | Children's Picture Book:  40%|████      | 4/10 [01:54<02:53, 28.98s/it]"
     ]
    },
    {
     "name": "stdout",
     "output_type": "stream",
     "text": [
      "✅ BATCH 4 / 10 DONE for Children's Picture Book\n"
     ]
    },
    {
     "name": "stderr",
     "output_type": "stream",
     "text": [
      "Bats are not blind.... | Children's Picture Book:  50%|█████     | 5/10 [02:16<02:12, 26.43s/it]"
     ]
    },
    {
     "name": "stdout",
     "output_type": "stream",
     "text": [
      "✅ BATCH 5 / 10 DONE for Children's Picture Book\n"
     ]
    },
    {
     "name": "stderr",
     "output_type": "stream",
     "text": [
      "Bats are not blind.... | Children's Picture Book:  60%|██████    | 6/10 [02:43<01:46, 26.59s/it]"
     ]
    },
    {
     "name": "stdout",
     "output_type": "stream",
     "text": [
      "✅ BATCH 6 / 10 DONE for Children's Picture Book\n"
     ]
    },
    {
     "name": "stderr",
     "output_type": "stream",
     "text": [
      "Bats are not blind.... | Children's Picture Book:  70%|███████   | 7/10 [03:12<01:22, 27.49s/it]"
     ]
    },
    {
     "name": "stdout",
     "output_type": "stream",
     "text": [
      "✅ BATCH 7 / 10 DONE for Children's Picture Book\n"
     ]
    },
    {
     "name": "stderr",
     "output_type": "stream",
     "text": [
      "Bats are not blind.... | Children's Picture Book:  80%|████████  | 8/10 [03:37<00:53, 26.62s/it]"
     ]
    },
    {
     "name": "stdout",
     "output_type": "stream",
     "text": [
      "✅ BATCH 8 / 10 DONE for Children's Picture Book\n"
     ]
    },
    {
     "name": "stderr",
     "output_type": "stream",
     "text": [
      "Bats are not blind.... | Children's Picture Book:  90%|█████████ | 9/10 [04:11<00:28, 28.84s/it]"
     ]
    },
    {
     "name": "stdout",
     "output_type": "stream",
     "text": [
      "✅ BATCH 9 / 10 DONE for Children's Picture Book\n"
     ]
    },
    {
     "name": "stderr",
     "output_type": "stream",
     "text": [
      "Bats are not blind.... | Children's Picture Book: 100%|██████████| 10/10 [04:36<00:00, 27.67s/it]\n"
     ]
    },
    {
     "name": "stdout",
     "output_type": "stream",
     "text": [
      "✅ BATCH 10 / 10 DONE for Children's Picture Book\n"
     ]
    },
    {
     "name": "stderr",
     "output_type": "stream",
     "text": [
      "Bats are not blind.... | Educational YouTube Video Script:  10%|█         | 1/10 [00:24<03:43, 24.80s/it]"
     ]
    },
    {
     "name": "stdout",
     "output_type": "stream",
     "text": [
      "✅ BATCH 1 / 10 DONE for Educational YouTube Video Script\n"
     ]
    },
    {
     "name": "stderr",
     "output_type": "stream",
     "text": [
      "Bats are not blind.... | Educational YouTube Video Script:  20%|██        | 2/10 [01:00<04:08, 31.12s/it]"
     ]
    },
    {
     "name": "stdout",
     "output_type": "stream",
     "text": [
      "✅ BATCH 2 / 10 DONE for Educational YouTube Video Script\n"
     ]
    },
    {
     "name": "stderr",
     "output_type": "stream",
     "text": [
      "Bats are not blind.... | Educational YouTube Video Script:  30%|███       | 3/10 [01:33<03:42, 31.83s/it]"
     ]
    },
    {
     "name": "stdout",
     "output_type": "stream",
     "text": [
      "✅ BATCH 3 / 10 DONE for Educational YouTube Video Script\n"
     ]
    },
    {
     "name": "stderr",
     "output_type": "stream",
     "text": [
      "Bats are not blind.... | Educational YouTube Video Script:  40%|████      | 4/10 [02:06<03:14, 32.40s/it]"
     ]
    },
    {
     "name": "stdout",
     "output_type": "stream",
     "text": [
      "✅ BATCH 4 / 10 DONE for Educational YouTube Video Script\n"
     ]
    },
    {
     "name": "stderr",
     "output_type": "stream",
     "text": [
      "Bats are not blind.... | Educational YouTube Video Script:  50%|█████     | 5/10 [02:33<02:32, 30.54s/it]"
     ]
    },
    {
     "name": "stdout",
     "output_type": "stream",
     "text": [
      "✅ BATCH 5 / 10 DONE for Educational YouTube Video Script\n"
     ]
    },
    {
     "name": "stderr",
     "output_type": "stream",
     "text": [
      "Bats are not blind.... | Educational YouTube Video Script:  60%|██████    | 6/10 [02:59<01:56, 29.07s/it]"
     ]
    },
    {
     "name": "stdout",
     "output_type": "stream",
     "text": [
      "✅ BATCH 6 / 10 DONE for Educational YouTube Video Script\n"
     ]
    },
    {
     "name": "stderr",
     "output_type": "stream",
     "text": [
      "Bats are not blind.... | Educational YouTube Video Script:  70%|███████   | 7/10 [03:25<01:24, 28.04s/it]"
     ]
    },
    {
     "name": "stdout",
     "output_type": "stream",
     "text": [
      "✅ BATCH 7 / 10 DONE for Educational YouTube Video Script\n"
     ]
    },
    {
     "name": "stderr",
     "output_type": "stream",
     "text": [
      "Bats are not blind.... | Educational YouTube Video Script:  80%|████████  | 8/10 [03:54<00:56, 28.18s/it]"
     ]
    },
    {
     "name": "stdout",
     "output_type": "stream",
     "text": [
      "✅ BATCH 8 / 10 DONE for Educational YouTube Video Script\n"
     ]
    },
    {
     "name": "stderr",
     "output_type": "stream",
     "text": [
      "Bats are not blind.... | Educational YouTube Video Script:  90%|█████████ | 9/10 [04:22<00:28, 28.11s/it]"
     ]
    },
    {
     "name": "stdout",
     "output_type": "stream",
     "text": [
      "✅ BATCH 9 / 10 DONE for Educational YouTube Video Script\n"
     ]
    },
    {
     "name": "stderr",
     "output_type": "stream",
     "text": [
      "Bats are not blind.... | Educational YouTube Video Script: 100%|██████████| 10/10 [04:53<00:00, 29.37s/it]\n"
     ]
    },
    {
     "name": "stdout",
     "output_type": "stream",
     "text": [
      "✅ BATCH 10 / 10 DONE for Educational YouTube Video Script\n"
     ]
    },
    {
     "name": "stderr",
     "output_type": "stream",
     "text": [
      "Bats are not blind.... | Science Communication Blog Post:  10%|█         | 1/10 [00:28<04:18, 28.78s/it]"
     ]
    },
    {
     "name": "stdout",
     "output_type": "stream",
     "text": [
      "✅ BATCH 1 / 10 DONE for Science Communication Blog Post\n"
     ]
    },
    {
     "name": "stderr",
     "output_type": "stream",
     "text": [
      "Bats are not blind.... | Science Communication Blog Post:  20%|██        | 2/10 [00:49<03:12, 24.04s/it]"
     ]
    },
    {
     "name": "stdout",
     "output_type": "stream",
     "text": [
      "✅ BATCH 2 / 10 DONE for Science Communication Blog Post\n"
     ]
    },
    {
     "name": "stderr",
     "output_type": "stream",
     "text": [
      "Bats are not blind.... | Science Communication Blog Post:  30%|███       | 3/10 [01:11<02:43, 23.29s/it]"
     ]
    },
    {
     "name": "stdout",
     "output_type": "stream",
     "text": [
      "✅ BATCH 3 / 10 DONE for Science Communication Blog Post\n"
     ]
    },
    {
     "name": "stderr",
     "output_type": "stream",
     "text": [
      "Bats are not blind.... | Science Communication Blog Post:  40%|████      | 4/10 [01:48<02:52, 28.70s/it]"
     ]
    },
    {
     "name": "stdout",
     "output_type": "stream",
     "text": [
      "✅ BATCH 4 / 10 DONE for Science Communication Blog Post\n"
     ]
    },
    {
     "name": "stderr",
     "output_type": "stream",
     "text": [
      "Bats are not blind.... | Science Communication Blog Post:  50%|█████     | 5/10 [02:13<02:16, 27.27s/it]"
     ]
    },
    {
     "name": "stdout",
     "output_type": "stream",
     "text": [
      "✅ BATCH 5 / 10 DONE for Science Communication Blog Post\n"
     ]
    },
    {
     "name": "stderr",
     "output_type": "stream",
     "text": [
      "Bats are not blind.... | Science Communication Blog Post:  60%|██████    | 6/10 [02:36<01:43, 25.89s/it]"
     ]
    },
    {
     "name": "stdout",
     "output_type": "stream",
     "text": [
      "✅ BATCH 6 / 10 DONE for Science Communication Blog Post\n"
     ]
    },
    {
     "name": "stderr",
     "output_type": "stream",
     "text": [
      "Bats are not blind.... | Science Communication Blog Post:  70%|███████   | 7/10 [03:08<01:23, 27.80s/it]"
     ]
    },
    {
     "name": "stdout",
     "output_type": "stream",
     "text": [
      "✅ BATCH 7 / 10 DONE for Science Communication Blog Post\n"
     ]
    },
    {
     "name": "stderr",
     "output_type": "stream",
     "text": [
      "Bats are not blind.... | Science Communication Blog Post:  80%|████████  | 8/10 [03:33<00:53, 26.74s/it]"
     ]
    },
    {
     "name": "stdout",
     "output_type": "stream",
     "text": [
      "✅ BATCH 8 / 10 DONE for Science Communication Blog Post\n"
     ]
    },
    {
     "name": "stderr",
     "output_type": "stream",
     "text": [
      "Bats are not blind.... | Science Communication Blog Post:  90%|█████████ | 9/10 [04:01<00:27, 27.17s/it]"
     ]
    },
    {
     "name": "stdout",
     "output_type": "stream",
     "text": [
      "✅ BATCH 9 / 10 DONE for Science Communication Blog Post\n"
     ]
    },
    {
     "name": "stderr",
     "output_type": "stream",
     "text": [
      "Bats are not blind.... | Science Communication Blog Post: 100%|██████████| 10/10 [04:25<00:00, 26.55s/it]\n"
     ]
    },
    {
     "name": "stdout",
     "output_type": "stream",
     "text": [
      "✅ BATCH 10 / 10 DONE for Science Communication Blog Post\n"
     ]
    },
    {
     "name": "stderr",
     "output_type": "stream",
     "text": [
      "Bats are not blind.... | News Media Fact Check:  10%|█         | 1/10 [00:24<03:38, 24.29s/it]"
     ]
    },
    {
     "name": "stdout",
     "output_type": "stream",
     "text": [
      "✅ BATCH 1 / 10 DONE for News Media Fact Check\n"
     ]
    },
    {
     "name": "stderr",
     "output_type": "stream",
     "text": [
      "Bats are not blind.... | News Media Fact Check:  20%|██        | 2/10 [00:53<03:39, 27.47s/it]"
     ]
    },
    {
     "name": "stdout",
     "output_type": "stream",
     "text": [
      "✅ BATCH 2 / 10 DONE for News Media Fact Check\n"
     ]
    },
    {
     "name": "stderr",
     "output_type": "stream",
     "text": [
      "Bats are not blind.... | News Media Fact Check:  30%|███       | 3/10 [01:14<02:51, 24.43s/it]"
     ]
    },
    {
     "name": "stdout",
     "output_type": "stream",
     "text": [
      "✅ BATCH 3 / 10 DONE for News Media Fact Check\n"
     ]
    },
    {
     "name": "stderr",
     "output_type": "stream",
     "text": [
      "Bats are not blind.... | News Media Fact Check:  40%|████      | 4/10 [01:45<02:41, 26.89s/it]"
     ]
    },
    {
     "name": "stdout",
     "output_type": "stream",
     "text": [
      "✅ BATCH 4 / 10 DONE for News Media Fact Check\n"
     ]
    },
    {
     "name": "stderr",
     "output_type": "stream",
     "text": [
      "Bats are not blind.... | News Media Fact Check:  50%|█████     | 5/10 [02:03<01:58, 23.79s/it]"
     ]
    },
    {
     "name": "stdout",
     "output_type": "stream",
     "text": [
      "✅ BATCH 5 / 10 DONE for News Media Fact Check\n"
     ]
    },
    {
     "name": "stderr",
     "output_type": "stream",
     "text": [
      "Bats are not blind.... | News Media Fact Check:  60%|██████    | 6/10 [02:28<01:36, 24.05s/it]"
     ]
    },
    {
     "name": "stdout",
     "output_type": "stream",
     "text": [
      "✅ BATCH 6 / 10 DONE for News Media Fact Check\n"
     ]
    },
    {
     "name": "stderr",
     "output_type": "stream",
     "text": [
      "Bats are not blind.... | News Media Fact Check:  70%|███████   | 7/10 [03:03<01:22, 27.61s/it]"
     ]
    },
    {
     "name": "stdout",
     "output_type": "stream",
     "text": [
      "✅ BATCH 7 / 10 DONE for News Media Fact Check\n"
     ]
    },
    {
     "name": "stderr",
     "output_type": "stream",
     "text": [
      "Bats are not blind.... | News Media Fact Check:  80%|████████  | 8/10 [03:30<00:54, 27.39s/it]"
     ]
    },
    {
     "name": "stdout",
     "output_type": "stream",
     "text": [
      "✅ BATCH 8 / 10 DONE for News Media Fact Check\n"
     ]
    },
    {
     "name": "stderr",
     "output_type": "stream",
     "text": [
      "Bats are not blind.... | News Media Fact Check:  90%|█████████ | 9/10 [03:55<00:26, 26.70s/it]"
     ]
    },
    {
     "name": "stdout",
     "output_type": "stream",
     "text": [
      "✅ BATCH 9 / 10 DONE for News Media Fact Check\n"
     ]
    },
    {
     "name": "stderr",
     "output_type": "stream",
     "text": [
      "Bats are not blind.... | News Media Fact Check: 100%|██████████| 10/10 [04:29<00:00, 26.93s/it]\n"
     ]
    },
    {
     "name": "stdout",
     "output_type": "stream",
     "text": [
      "✅ BATCH 10 / 10 DONE for News Media Fact Check\n"
     ]
    },
    {
     "name": "stderr",
     "output_type": "stream",
     "text": [
      "Bats are not blind.... | Wildlife Rehabilitation Manual:  10%|█         | 1/10 [00:37<05:33, 37.08s/it]"
     ]
    },
    {
     "name": "stdout",
     "output_type": "stream",
     "text": [
      "✅ BATCH 1 / 10 DONE for Wildlife Rehabilitation Manual\n"
     ]
    },
    {
     "name": "stderr",
     "output_type": "stream",
     "text": [
      "Bats are not blind.... | Wildlife Rehabilitation Manual:  20%|██        | 2/10 [01:09<04:34, 34.33s/it]"
     ]
    },
    {
     "name": "stdout",
     "output_type": "stream",
     "text": [
      "✅ BATCH 2 / 10 DONE for Wildlife Rehabilitation Manual\n"
     ]
    },
    {
     "name": "stderr",
     "output_type": "stream",
     "text": [
      "Bats are not blind.... | Wildlife Rehabilitation Manual:  30%|███       | 3/10 [01:48<04:15, 36.53s/it]"
     ]
    },
    {
     "name": "stdout",
     "output_type": "stream",
     "text": [
      "✅ BATCH 3 / 10 DONE for Wildlife Rehabilitation Manual\n"
     ]
    },
    {
     "name": "stderr",
     "output_type": "stream",
     "text": [
      "Bats are not blind.... | Wildlife Rehabilitation Manual:  40%|████      | 4/10 [02:13<03:12, 32.08s/it]"
     ]
    },
    {
     "name": "stdout",
     "output_type": "stream",
     "text": [
      "✅ BATCH 4 / 10 DONE for Wildlife Rehabilitation Manual\n"
     ]
    },
    {
     "name": "stderr",
     "output_type": "stream",
     "text": [
      "Bats are not blind.... | Wildlife Rehabilitation Manual:  50%|█████     | 5/10 [02:52<02:51, 34.38s/it]"
     ]
    },
    {
     "name": "stdout",
     "output_type": "stream",
     "text": [
      "✅ BATCH 5 / 10 DONE for Wildlife Rehabilitation Manual\n"
     ]
    },
    {
     "name": "stderr",
     "output_type": "stream",
     "text": [
      "Bats are not blind.... | Wildlife Rehabilitation Manual:  60%|██████    | 6/10 [03:21<02:10, 32.60s/it]"
     ]
    },
    {
     "name": "stdout",
     "output_type": "stream",
     "text": [
      "✅ BATCH 6 / 10 DONE for Wildlife Rehabilitation Manual\n"
     ]
    },
    {
     "name": "stderr",
     "output_type": "stream",
     "text": [
      "Bats are not blind.... | Wildlife Rehabilitation Manual:  70%|███████   | 7/10 [03:50<01:34, 31.49s/it]"
     ]
    },
    {
     "name": "stdout",
     "output_type": "stream",
     "text": [
      "✅ BATCH 7 / 10 DONE for Wildlife Rehabilitation Manual\n"
     ]
    },
    {
     "name": "stderr",
     "output_type": "stream",
     "text": [
      "Bats are not blind.... | Wildlife Rehabilitation Manual:  80%|████████  | 8/10 [04:28<01:06, 33.46s/it]"
     ]
    },
    {
     "name": "stdout",
     "output_type": "stream",
     "text": [
      "✅ BATCH 8 / 10 DONE for Wildlife Rehabilitation Manual\n"
     ]
    },
    {
     "name": "stderr",
     "output_type": "stream",
     "text": [
      "Bats are not blind.... | Wildlife Rehabilitation Manual:  90%|█████████ | 9/10 [04:56<00:31, 31.92s/it]"
     ]
    },
    {
     "name": "stdout",
     "output_type": "stream",
     "text": [
      "✅ BATCH 9 / 10 DONE for Wildlife Rehabilitation Manual\n"
     ]
    },
    {
     "name": "stderr",
     "output_type": "stream",
     "text": [
      "Bats are not blind.... | Wildlife Rehabilitation Manual: 100%|██████████| 10/10 [05:34<00:00, 33.47s/it]\n"
     ]
    },
    {
     "name": "stdout",
     "output_type": "stream",
     "text": [
      "✅ BATCH 10 / 10 DONE for Wildlife Rehabilitation Manual\n"
     ]
    },
    {
     "name": "stderr",
     "output_type": "stream",
     "text": [
      "Bats are not blind.... | Nocturnal Animals Infographic:  10%|█         | 1/10 [00:35<05:16, 35.17s/it]"
     ]
    },
    {
     "name": "stdout",
     "output_type": "stream",
     "text": [
      "✅ BATCH 1 / 10 DONE for Nocturnal Animals Infographic\n"
     ]
    },
    {
     "name": "stderr",
     "output_type": "stream",
     "text": [
      "Bats are not blind.... | Nocturnal Animals Infographic:  20%|██        | 2/10 [01:00<03:53, 29.17s/it]"
     ]
    },
    {
     "name": "stdout",
     "output_type": "stream",
     "text": [
      "✅ BATCH 2 / 10 DONE for Nocturnal Animals Infographic\n"
     ]
    },
    {
     "name": "stderr",
     "output_type": "stream",
     "text": [
      "Bats are not blind.... | Nocturnal Animals Infographic:  30%|███       | 3/10 [01:36<03:46, 32.38s/it]"
     ]
    },
    {
     "name": "stdout",
     "output_type": "stream",
     "text": [
      "✅ BATCH 3 / 10 DONE for Nocturnal Animals Infographic\n"
     ]
    },
    {
     "name": "stderr",
     "output_type": "stream",
     "text": [
      "Bats are not blind.... | Nocturnal Animals Infographic:  40%|████      | 4/10 [02:02<03:00, 30.12s/it]"
     ]
    },
    {
     "name": "stdout",
     "output_type": "stream",
     "text": [
      "✅ BATCH 4 / 10 DONE for Nocturnal Animals Infographic\n"
     ]
    },
    {
     "name": "stderr",
     "output_type": "stream",
     "text": [
      "Bats are not blind.... | Nocturnal Animals Infographic:  50%|█████     | 5/10 [02:32<02:30, 30.04s/it]"
     ]
    },
    {
     "name": "stdout",
     "output_type": "stream",
     "text": [
      "✅ BATCH 5 / 10 DONE for Nocturnal Animals Infographic\n"
     ]
    },
    {
     "name": "stderr",
     "output_type": "stream",
     "text": [
      "Bats are not blind.... | Nocturnal Animals Infographic:  60%|██████    | 6/10 [03:01<01:58, 29.65s/it]"
     ]
    },
    {
     "name": "stdout",
     "output_type": "stream",
     "text": [
      "✅ BATCH 6 / 10 DONE for Nocturnal Animals Infographic\n"
     ]
    },
    {
     "name": "stderr",
     "output_type": "stream",
     "text": [
      "Bats are not blind.... | Nocturnal Animals Infographic:  70%|███████   | 7/10 [03:23<01:20, 26.94s/it]"
     ]
    },
    {
     "name": "stdout",
     "output_type": "stream",
     "text": [
      "✅ BATCH 7 / 10 DONE for Nocturnal Animals Infographic\n"
     ]
    },
    {
     "name": "stderr",
     "output_type": "stream",
     "text": [
      "Bats are not blind.... | Nocturnal Animals Infographic:  80%|████████  | 8/10 [04:04<01:03, 31.53s/it]"
     ]
    },
    {
     "name": "stdout",
     "output_type": "stream",
     "text": [
      "✅ BATCH 8 / 10 DONE for Nocturnal Animals Infographic\n"
     ]
    },
    {
     "name": "stderr",
     "output_type": "stream",
     "text": [
      "Bats are not blind.... | Nocturnal Animals Infographic:  90%|█████████ | 9/10 [04:31<00:30, 30.01s/it]"
     ]
    },
    {
     "name": "stdout",
     "output_type": "stream",
     "text": [
      "✅ BATCH 9 / 10 DONE for Nocturnal Animals Infographic\n"
     ]
    },
    {
     "name": "stderr",
     "output_type": "stream",
     "text": [
      "Bats are not blind.... | Nocturnal Animals Infographic: 100%|██████████| 10/10 [04:57<00:00, 29.71s/it]\n"
     ]
    },
    {
     "name": "stdout",
     "output_type": "stream",
     "text": [
      "✅ BATCH 10 / 10 DONE for Nocturnal Animals Infographic\n"
     ]
    },
    {
     "name": "stderr",
     "output_type": "stream",
     "text": [
      "Bats are not blind.... | Science Podcast Show Notes:  10%|█         | 1/10 [00:35<05:23, 35.97s/it]"
     ]
    },
    {
     "name": "stdout",
     "output_type": "stream",
     "text": [
      "✅ BATCH 1 / 10 DONE for Science Podcast Show Notes\n"
     ]
    },
    {
     "name": "stderr",
     "output_type": "stream",
     "text": [
      "Bats are not blind.... | Science Podcast Show Notes:  20%|██        | 2/10 [01:03<04:05, 30.72s/it]"
     ]
    },
    {
     "name": "stdout",
     "output_type": "stream",
     "text": [
      "✅ BATCH 2 / 10 DONE for Science Podcast Show Notes\n"
     ]
    },
    {
     "name": "stderr",
     "output_type": "stream",
     "text": [
      "Bats are not blind.... | Science Podcast Show Notes:  30%|███       | 3/10 [01:30<03:24, 29.23s/it]"
     ]
    },
    {
     "name": "stdout",
     "output_type": "stream",
     "text": [
      "✅ BATCH 3 / 10 DONE for Science Podcast Show Notes\n"
     ]
    },
    {
     "name": "stderr",
     "output_type": "stream",
     "text": [
      "Bats are not blind.... | Science Podcast Show Notes:  40%|████      | 4/10 [01:56<02:47, 27.93s/it]"
     ]
    },
    {
     "name": "stdout",
     "output_type": "stream",
     "text": [
      "✅ BATCH 4 / 10 DONE for Science Podcast Show Notes\n"
     ]
    },
    {
     "name": "stderr",
     "output_type": "stream",
     "text": [
      "Bats are not blind.... | Science Podcast Show Notes:  50%|█████     | 5/10 [02:25<02:22, 28.52s/it]"
     ]
    },
    {
     "name": "stdout",
     "output_type": "stream",
     "text": [
      "✅ BATCH 5 / 10 DONE for Science Podcast Show Notes\n"
     ]
    },
    {
     "name": "stderr",
     "output_type": "stream",
     "text": [
      "Bats are not blind.... | Science Podcast Show Notes:  60%|██████    | 6/10 [02:57<01:58, 29.66s/it]"
     ]
    },
    {
     "name": "stdout",
     "output_type": "stream",
     "text": [
      "✅ BATCH 6 / 10 DONE for Science Podcast Show Notes\n"
     ]
    },
    {
     "name": "stderr",
     "output_type": "stream",
     "text": [
      "Bats are not blind.... | Science Podcast Show Notes:  70%|███████   | 7/10 [03:34<01:36, 32.02s/it]"
     ]
    },
    {
     "name": "stdout",
     "output_type": "stream",
     "text": [
      "✅ BATCH 7 / 10 DONE for Science Podcast Show Notes\n"
     ]
    },
    {
     "name": "stderr",
     "output_type": "stream",
     "text": [
      "Bats are not blind.... | Science Podcast Show Notes:  80%|████████  | 8/10 [03:53<00:55, 27.89s/it]"
     ]
    },
    {
     "name": "stdout",
     "output_type": "stream",
     "text": [
      "✅ BATCH 8 / 10 DONE for Science Podcast Show Notes\n"
     ]
    },
    {
     "name": "stderr",
     "output_type": "stream",
     "text": [
      "Bats are not blind.... | Science Podcast Show Notes:  90%|█████████ | 9/10 [04:20<00:27, 27.68s/it]"
     ]
    },
    {
     "name": "stdout",
     "output_type": "stream",
     "text": [
      "✅ BATCH 9 / 10 DONE for Science Podcast Show Notes\n"
     ]
    },
    {
     "name": "stderr",
     "output_type": "stream",
     "text": [
      "Bats are not blind.... | Science Podcast Show Notes: 100%|██████████| 10/10 [04:45<00:00, 28.59s/it]\n"
     ]
    },
    {
     "name": "stdout",
     "output_type": "stream",
     "text": [
      "✅ BATCH 10 / 10 DONE for Science Podcast Show Notes\n"
     ]
    },
    {
     "name": "stderr",
     "output_type": "stream",
     "text": [
      "Bats are not blind.... | Environmental Education Curriculum:  10%|█         | 1/10 [00:35<05:21, 35.77s/it]"
     ]
    },
    {
     "name": "stdout",
     "output_type": "stream",
     "text": [
      "✅ BATCH 1 / 10 DONE for Environmental Education Curriculum\n"
     ]
    },
    {
     "name": "stderr",
     "output_type": "stream",
     "text": [
      "Bats are not blind.... | Environmental Education Curriculum:  20%|██        | 2/10 [01:07<04:27, 33.45s/it]"
     ]
    },
    {
     "name": "stdout",
     "output_type": "stream",
     "text": [
      "✅ BATCH 2 / 10 DONE for Environmental Education Curriculum\n"
     ]
    },
    {
     "name": "stderr",
     "output_type": "stream",
     "text": [
      "Bats are not blind.... | Environmental Education Curriculum:  30%|███       | 3/10 [01:33<03:30, 30.11s/it]"
     ]
    },
    {
     "name": "stdout",
     "output_type": "stream",
     "text": [
      "✅ BATCH 3 / 10 DONE for Environmental Education Curriculum\n"
     ]
    },
    {
     "name": "stderr",
     "output_type": "stream",
     "text": [
      "Bats are not blind.... | Environmental Education Curriculum:  40%|████      | 4/10 [02:00<02:53, 28.92s/it]"
     ]
    },
    {
     "name": "stdout",
     "output_type": "stream",
     "text": [
      "✅ BATCH 4 / 10 DONE for Environmental Education Curriculum\n"
     ]
    },
    {
     "name": "stderr",
     "output_type": "stream",
     "text": [
      "Bats are not blind.... | Environmental Education Curriculum:  50%|█████     | 5/10 [02:24<02:15, 27.18s/it]"
     ]
    },
    {
     "name": "stdout",
     "output_type": "stream",
     "text": [
      "✅ BATCH 5 / 10 DONE for Environmental Education Curriculum\n"
     ]
    },
    {
     "name": "stderr",
     "output_type": "stream",
     "text": [
      "Bats are not blind.... | Environmental Education Curriculum:  60%|██████    | 6/10 [02:55<01:53, 28.32s/it]"
     ]
    },
    {
     "name": "stdout",
     "output_type": "stream",
     "text": [
      "✅ BATCH 6 / 10 DONE for Environmental Education Curriculum\n"
     ]
    },
    {
     "name": "stderr",
     "output_type": "stream",
     "text": [
      "Bats are not blind.... | Environmental Education Curriculum:  70%|███████   | 7/10 [03:17<01:18, 26.13s/it]"
     ]
    },
    {
     "name": "stdout",
     "output_type": "stream",
     "text": [
      "✅ BATCH 7 / 10 DONE for Environmental Education Curriculum\n"
     ]
    },
    {
     "name": "stderr",
     "output_type": "stream",
     "text": [
      "Bats are not blind.... | Environmental Education Curriculum:  80%|████████  | 8/10 [03:50<00:57, 28.54s/it]"
     ]
    },
    {
     "name": "stdout",
     "output_type": "stream",
     "text": [
      "✅ BATCH 8 / 10 DONE for Environmental Education Curriculum\n"
     ]
    },
    {
     "name": "stderr",
     "output_type": "stream",
     "text": [
      "Bats are not blind.... | Environmental Education Curriculum:  90%|█████████ | 9/10 [04:37<00:34, 34.15s/it]"
     ]
    },
    {
     "name": "stdout",
     "output_type": "stream",
     "text": [
      "✅ BATCH 9 / 10 DONE for Environmental Education Curriculum\n"
     ]
    },
    {
     "name": "stderr",
     "output_type": "stream",
     "text": [
      "Bats are not blind.... | Environmental Education Curriculum: 100%|██████████| 10/10 [05:06<00:00, 30.69s/it]\n"
     ]
    },
    {
     "name": "stdout",
     "output_type": "stream",
     "text": [
      "✅ BATCH 10 / 10 DONE for Environmental Education Curriculum\n"
     ]
    },
    {
     "name": "stderr",
     "output_type": "stream",
     "text": [
      "Bats are not blind.... | Bat Species Field Guide:  10%|█         | 1/10 [00:21<03:12, 21.41s/it]"
     ]
    },
    {
     "name": "stdout",
     "output_type": "stream",
     "text": [
      "✅ BATCH 1 / 10 DONE for Bat Species Field Guide\n"
     ]
    },
    {
     "name": "stderr",
     "output_type": "stream",
     "text": [
      "Bats are not blind.... | Bat Species Field Guide:  20%|██        | 2/10 [00:51<03:30, 26.28s/it]"
     ]
    },
    {
     "name": "stdout",
     "output_type": "stream",
     "text": [
      "✅ BATCH 2 / 10 DONE for Bat Species Field Guide\n"
     ]
    },
    {
     "name": "stderr",
     "output_type": "stream",
     "text": [
      "Bats are not blind.... | Bat Species Field Guide:  30%|███       | 3/10 [01:25<03:28, 29.76s/it]"
     ]
    },
    {
     "name": "stdout",
     "output_type": "stream",
     "text": [
      "✅ BATCH 3 / 10 DONE for Bat Species Field Guide\n"
     ]
    },
    {
     "name": "stderr",
     "output_type": "stream",
     "text": [
      "Bats are not blind.... | Bat Species Field Guide:  40%|████      | 4/10 [01:54<02:57, 29.56s/it]"
     ]
    },
    {
     "name": "stdout",
     "output_type": "stream",
     "text": [
      "✅ BATCH 4 / 10 DONE for Bat Species Field Guide\n"
     ]
    },
    {
     "name": "stderr",
     "output_type": "stream",
     "text": [
      "Bats are not blind.... | Bat Species Field Guide:  50%|█████     | 5/10 [02:21<02:23, 28.61s/it]"
     ]
    },
    {
     "name": "stdout",
     "output_type": "stream",
     "text": [
      "✅ BATCH 5 / 10 DONE for Bat Species Field Guide\n"
     ]
    },
    {
     "name": "stderr",
     "output_type": "stream",
     "text": [
      "Bats are not blind.... | Bat Species Field Guide:  60%|██████    | 6/10 [02:52<01:58, 29.68s/it]"
     ]
    },
    {
     "name": "stdout",
     "output_type": "stream",
     "text": [
      "✅ BATCH 6 / 10 DONE for Bat Species Field Guide\n"
     ]
    },
    {
     "name": "stderr",
     "output_type": "stream",
     "text": [
      "Bats are not blind.... | Bat Species Field Guide:  70%|███████   | 7/10 [03:37<01:43, 34.45s/it]"
     ]
    },
    {
     "name": "stdout",
     "output_type": "stream",
     "text": [
      "✅ BATCH 7 / 10 DONE for Bat Species Field Guide\n"
     ]
    },
    {
     "name": "stderr",
     "output_type": "stream",
     "text": [
      "Bats are not blind.... | Bat Species Field Guide:  80%|████████  | 8/10 [03:56<00:59, 29.51s/it]"
     ]
    },
    {
     "name": "stdout",
     "output_type": "stream",
     "text": [
      "✅ BATCH 8 / 10 DONE for Bat Species Field Guide\n"
     ]
    },
    {
     "name": "stderr",
     "output_type": "stream",
     "text": [
      "Bats are not blind.... | Bat Species Field Guide:  90%|█████████ | 9/10 [04:19<00:27, 27.68s/it]"
     ]
    },
    {
     "name": "stdout",
     "output_type": "stream",
     "text": [
      "✅ BATCH 9 / 10 DONE for Bat Species Field Guide\n"
     ]
    },
    {
     "name": "stderr",
     "output_type": "stream",
     "text": [
      "Bats are not blind.... | Bat Species Field Guide: 100%|██████████| 10/10 [04:42<00:00, 28.23s/it]\n"
     ]
    },
    {
     "name": "stdout",
     "output_type": "stream",
     "text": [
      "✅ BATCH 10 / 10 DONE for Bat Species Field Guide\n"
     ]
    },
    {
     "name": "stderr",
     "output_type": "stream",
     "text": [
      "Humans do not use only 10% of ... | Scientific Journal Article:  10%|█         | 1/10 [00:42<06:24, 42.68s/it]"
     ]
    },
    {
     "name": "stdout",
     "output_type": "stream",
     "text": [
      "✅ BATCH 1 / 10 DONE for Scientific Journal Article\n"
     ]
    },
    {
     "name": "stderr",
     "output_type": "stream",
     "text": [
      "Humans do not use only 10% of ... | Scientific Journal Article:  20%|██        | 2/10 [01:21<05:22, 40.33s/it]"
     ]
    },
    {
     "name": "stdout",
     "output_type": "stream",
     "text": [
      "✅ BATCH 2 / 10 DONE for Scientific Journal Article\n"
     ]
    },
    {
     "name": "stderr",
     "output_type": "stream",
     "text": [
      "Humans do not use only 10% of ... | Scientific Journal Article:  30%|███       | 3/10 [02:04<04:51, 41.64s/it]"
     ]
    },
    {
     "name": "stdout",
     "output_type": "stream",
     "text": [
      "✅ BATCH 3 / 10 DONE for Scientific Journal Article\n"
     ]
    },
    {
     "name": "stderr",
     "output_type": "stream",
     "text": [
      "Humans do not use only 10% of ... | Scientific Journal Article:  40%|████      | 4/10 [02:38<03:50, 38.41s/it]"
     ]
    },
    {
     "name": "stdout",
     "output_type": "stream",
     "text": [
      "✅ BATCH 4 / 10 DONE for Scientific Journal Article\n"
     ]
    },
    {
     "name": "stderr",
     "output_type": "stream",
     "text": [
      "Humans do not use only 10% of ... | Scientific Journal Article:  60%|██████    | 6/10 [04:00<02:39, 39.82s/it]"
     ]
    },
    {
     "name": "stdout",
     "output_type": "stream",
     "text": [
      "✅ BATCH 6 / 10 DONE for Scientific Journal Article\n"
     ]
    },
    {
     "name": "stderr",
     "output_type": "stream",
     "text": [
      "Humans do not use only 10% of ... | Scientific Journal Article:  70%|███████   | 7/10 [04:34<01:53, 37.78s/it]"
     ]
    },
    {
     "name": "stdout",
     "output_type": "stream",
     "text": [
      "✅ BATCH 7 / 10 DONE for Scientific Journal Article\n"
     ]
    },
    {
     "name": "stderr",
     "output_type": "stream",
     "text": [
      "Humans do not use only 10% of ... | Scientific Journal Article:  80%|████████  | 8/10 [05:15<01:17, 38.80s/it]"
     ]
    },
    {
     "name": "stdout",
     "output_type": "stream",
     "text": [
      "✅ BATCH 8 / 10 DONE for Scientific Journal Article\n"
     ]
    },
    {
     "name": "stderr",
     "output_type": "stream",
     "text": [
      "Humans do not use only 10% of ... | Scientific Journal Article:  90%|█████████ | 9/10 [05:55<00:39, 39.14s/it]"
     ]
    },
    {
     "name": "stdout",
     "output_type": "stream",
     "text": [
      "✅ BATCH 9 / 10 DONE for Scientific Journal Article\n"
     ]
    },
    {
     "name": "stderr",
     "output_type": "stream",
     "text": [
      "Humans do not use only 10% of ... | Scientific Journal Article: 100%|██████████| 10/10 [06:24<00:00, 38.44s/it]\n"
     ]
    },
    {
     "name": "stdout",
     "output_type": "stream",
     "text": [
      "✅ BATCH 10 / 10 DONE for Scientific Journal Article\n"
     ]
    },
    {
     "name": "stderr",
     "output_type": "stream",
     "text": [
      "Humans do not use only 10% of ... | Psychology Textbook:  10%|█         | 1/10 [00:36<05:32, 36.98s/it]"
     ]
    },
    {
     "name": "stdout",
     "output_type": "stream",
     "text": [
      "✅ BATCH 1 / 10 DONE for Psychology Textbook\n"
     ]
    },
    {
     "name": "stderr",
     "output_type": "stream",
     "text": [
      "Humans do not use only 10% of ... | Psychology Textbook:  20%|██        | 2/10 [01:07<04:25, 33.21s/it]"
     ]
    },
    {
     "name": "stdout",
     "output_type": "stream",
     "text": [
      "✅ BATCH 2 / 10 DONE for Psychology Textbook\n"
     ]
    },
    {
     "name": "stderr",
     "output_type": "stream",
     "text": [
      "Humans do not use only 10% of ... | Psychology Textbook:  30%|███       | 3/10 [01:53<04:31, 38.84s/it]"
     ]
    },
    {
     "name": "stdout",
     "output_type": "stream",
     "text": [
      "✅ BATCH 3 / 10 DONE for Psychology Textbook\n"
     ]
    },
    {
     "name": "stderr",
     "output_type": "stream",
     "text": [
      "Humans do not use only 10% of ... | Psychology Textbook:  40%|████      | 4/10 [02:17<03:17, 32.98s/it]"
     ]
    },
    {
     "name": "stdout",
     "output_type": "stream",
     "text": [
      "✅ BATCH 4 / 10 DONE for Psychology Textbook\n"
     ]
    },
    {
     "name": "stderr",
     "output_type": "stream",
     "text": [
      "Humans do not use only 10% of ... | Psychology Textbook:  50%|█████     | 5/10 [03:55<04:42, 56.43s/it]"
     ]
    },
    {
     "name": "stdout",
     "output_type": "stream",
     "text": [
      "✅ BATCH 5 / 10 DONE for Psychology Textbook\n"
     ]
    },
    {
     "name": "stderr",
     "output_type": "stream",
     "text": [
      "Humans do not use only 10% of ... | Psychology Textbook:  60%|██████    | 6/10 [04:29<03:15, 48.96s/it]"
     ]
    },
    {
     "name": "stdout",
     "output_type": "stream",
     "text": [
      "✅ BATCH 6 / 10 DONE for Psychology Textbook\n"
     ]
    },
    {
     "name": "stderr",
     "output_type": "stream",
     "text": [
      "Humans do not use only 10% of ... | Psychology Textbook:  70%|███████   | 7/10 [05:00<02:09, 43.17s/it]"
     ]
    },
    {
     "name": "stdout",
     "output_type": "stream",
     "text": [
      "✅ BATCH 7 / 10 DONE for Psychology Textbook\n"
     ]
    },
    {
     "name": "stderr",
     "output_type": "stream",
     "text": [
      "Humans do not use only 10% of ... | Psychology Textbook:  80%|████████  | 8/10 [05:45<01:27, 43.54s/it]"
     ]
    },
    {
     "name": "stdout",
     "output_type": "stream",
     "text": [
      "✅ BATCH 8 / 10 DONE for Psychology Textbook\n"
     ]
    },
    {
     "name": "stderr",
     "output_type": "stream",
     "text": [
      "Humans do not use only 10% of ... | Psychology Textbook:  90%|█████████ | 9/10 [06:12<00:38, 38.57s/it]"
     ]
    },
    {
     "name": "stdout",
     "output_type": "stream",
     "text": [
      "✅ BATCH 9 / 10 DONE for Psychology Textbook\n"
     ]
    },
    {
     "name": "stderr",
     "output_type": "stream",
     "text": [
      "Humans do not use only 10% of ... | Psychology Textbook: 100%|██████████| 10/10 [07:07<00:00, 42.73s/it]\n"
     ]
    },
    {
     "name": "stdout",
     "output_type": "stream",
     "text": [
      "✅ BATCH 10 / 10 DONE for Psychology Textbook\n"
     ]
    },
    {
     "name": "stderr",
     "output_type": "stream",
     "text": [
      "Humans do not use only 10% of ... | Neuroscience Lecture Notes:  10%|█         | 1/10 [01:00<09:04, 60.47s/it]"
     ]
    },
    {
     "name": "stdout",
     "output_type": "stream",
     "text": [
      "✅ BATCH 1 / 10 DONE for Neuroscience Lecture Notes\n"
     ]
    },
    {
     "name": "stderr",
     "output_type": "stream",
     "text": [
      "Humans do not use only 10% of ... | Neuroscience Lecture Notes:  20%|██        | 2/10 [01:48<07:04, 53.08s/it]"
     ]
    },
    {
     "name": "stdout",
     "output_type": "stream",
     "text": [
      "✅ BATCH 2 / 10 DONE for Neuroscience Lecture Notes\n"
     ]
    },
    {
     "name": "stderr",
     "output_type": "stream",
     "text": [
      "Humans do not use only 10% of ... | Neuroscience Lecture Notes:  30%|███       | 3/10 [02:27<05:25, 46.49s/it]"
     ]
    },
    {
     "name": "stdout",
     "output_type": "stream",
     "text": [
      "✅ BATCH 3 / 10 DONE for Neuroscience Lecture Notes\n"
     ]
    },
    {
     "name": "stderr",
     "output_type": "stream",
     "text": [
      "Humans do not use only 10% of ... | Neuroscience Lecture Notes:  40%|████      | 4/10 [03:00<04:08, 41.46s/it]"
     ]
    },
    {
     "name": "stdout",
     "output_type": "stream",
     "text": [
      "✅ BATCH 4 / 10 DONE for Neuroscience Lecture Notes\n"
     ]
    },
    {
     "name": "stderr",
     "output_type": "stream",
     "text": [
      "Humans do not use only 10% of ... | Neuroscience Lecture Notes:  50%|█████     | 5/10 [03:36<03:17, 39.53s/it]"
     ]
    },
    {
     "name": "stdout",
     "output_type": "stream",
     "text": [
      "✅ BATCH 5 / 10 DONE for Neuroscience Lecture Notes\n"
     ]
    },
    {
     "name": "stderr",
     "output_type": "stream",
     "text": [
      "Humans do not use only 10% of ... | Neuroscience Lecture Notes:  60%|██████    | 6/10 [04:16<02:37, 39.41s/it]"
     ]
    },
    {
     "name": "stdout",
     "output_type": "stream",
     "text": [
      "✅ BATCH 6 / 10 DONE for Neuroscience Lecture Notes\n"
     ]
    },
    {
     "name": "stderr",
     "output_type": "stream",
     "text": [
      "Humans do not use only 10% of ... | Neuroscience Lecture Notes:  70%|███████   | 7/10 [04:57<02:00, 40.01s/it]"
     ]
    },
    {
     "name": "stdout",
     "output_type": "stream",
     "text": [
      "✅ BATCH 7 / 10 DONE for Neuroscience Lecture Notes\n"
     ]
    },
    {
     "name": "stderr",
     "output_type": "stream",
     "text": [
      "Humans do not use only 10% of ... | Neuroscience Lecture Notes:  80%|████████  | 8/10 [06:27<01:51, 55.86s/it]"
     ]
    },
    {
     "name": "stdout",
     "output_type": "stream",
     "text": [
      "✅ BATCH 8 / 10 DONE for Neuroscience Lecture Notes\n"
     ]
    },
    {
     "name": "stderr",
     "output_type": "stream",
     "text": [
      "Humans do not use only 10% of ... | Neuroscience Lecture Notes:  90%|█████████ | 9/10 [07:05<00:50, 50.46s/it]"
     ]
    },
    {
     "name": "stdout",
     "output_type": "stream",
     "text": [
      "✅ BATCH 9 / 10 DONE for Neuroscience Lecture Notes\n"
     ]
    },
    {
     "name": "stderr",
     "output_type": "stream",
     "text": [
      "Humans do not use only 10% of ... | Neuroscience Lecture Notes: 100%|██████████| 10/10 [07:39<00:00, 45.99s/it]\n"
     ]
    },
    {
     "name": "stdout",
     "output_type": "stream",
     "text": [
      "✅ BATCH 10 / 10 DONE for Neuroscience Lecture Notes\n"
     ]
    },
    {
     "name": "stderr",
     "output_type": "stream",
     "text": [
      "Humans do not use only 10% of ... | Fact-Checking Website Entry:  10%|█         | 1/10 [00:38<05:47, 38.63s/it]"
     ]
    },
    {
     "name": "stdout",
     "output_type": "stream",
     "text": [
      "✅ BATCH 1 / 10 DONE for Fact-Checking Website Entry\n"
     ]
    },
    {
     "name": "stderr",
     "output_type": "stream",
     "text": [
      "Humans do not use only 10% of ... | Fact-Checking Website Entry:  20%|██        | 2/10 [01:13<04:51, 36.38s/it]"
     ]
    },
    {
     "name": "stdout",
     "output_type": "stream",
     "text": [
      "✅ BATCH 2 / 10 DONE for Fact-Checking Website Entry\n"
     ]
    },
    {
     "name": "stderr",
     "output_type": "stream",
     "text": [
      "Humans do not use only 10% of ... | Fact-Checking Website Entry:  30%|███       | 3/10 [02:09<05:17, 45.39s/it]"
     ]
    },
    {
     "name": "stdout",
     "output_type": "stream",
     "text": [
      "✅ BATCH 3 / 10 DONE for Fact-Checking Website Entry\n"
     ]
    },
    {
     "name": "stderr",
     "output_type": "stream",
     "text": [
      "Humans do not use only 10% of ... | Fact-Checking Website Entry:  40%|████      | 4/10 [02:45<04:09, 41.50s/it]"
     ]
    },
    {
     "name": "stdout",
     "output_type": "stream",
     "text": [
      "✅ BATCH 4 / 10 DONE for Fact-Checking Website Entry\n"
     ]
    },
    {
     "name": "stderr",
     "output_type": "stream",
     "text": [
      "Humans do not use only 10% of ... | Fact-Checking Website Entry:  50%|█████     | 5/10 [03:14<03:05, 37.02s/it]"
     ]
    },
    {
     "name": "stdout",
     "output_type": "stream",
     "text": [
      "✅ BATCH 5 / 10 DONE for Fact-Checking Website Entry\n"
     ]
    },
    {
     "name": "stderr",
     "output_type": "stream",
     "text": [
      "Humans do not use only 10% of ... | Fact-Checking Website Entry:  60%|██████    | 6/10 [03:47<02:22, 35.67s/it]"
     ]
    },
    {
     "name": "stdout",
     "output_type": "stream",
     "text": [
      "✅ BATCH 6 / 10 DONE for Fact-Checking Website Entry\n"
     ]
    },
    {
     "name": "stderr",
     "output_type": "stream",
     "text": [
      "Humans do not use only 10% of ... | Fact-Checking Website Entry:  70%|███████   | 7/10 [04:25<01:49, 36.65s/it]"
     ]
    },
    {
     "name": "stdout",
     "output_type": "stream",
     "text": [
      "✅ BATCH 7 / 10 DONE for Fact-Checking Website Entry\n"
     ]
    },
    {
     "name": "stderr",
     "output_type": "stream",
     "text": [
      "Humans do not use only 10% of ... | Fact-Checking Website Entry:  80%|████████  | 8/10 [05:08<01:16, 38.41s/it]"
     ]
    },
    {
     "name": "stdout",
     "output_type": "stream",
     "text": [
      "✅ BATCH 8 / 10 DONE for Fact-Checking Website Entry\n"
     ]
    },
    {
     "name": "stderr",
     "output_type": "stream",
     "text": [
      "Humans do not use only 10% of ... | Fact-Checking Website Entry:  90%|█████████ | 9/10 [05:44<00:37, 37.85s/it]"
     ]
    },
    {
     "name": "stdout",
     "output_type": "stream",
     "text": [
      "✅ BATCH 9 / 10 DONE for Fact-Checking Website Entry\n"
     ]
    },
    {
     "name": "stderr",
     "output_type": "stream",
     "text": [
      "Humans do not use only 10% of ... | Fact-Checking Website Entry: 100%|██████████| 10/10 [06:19<00:00, 37.93s/it]\n"
     ]
    },
    {
     "name": "stdout",
     "output_type": "stream",
     "text": [
      "✅ BATCH 10 / 10 DONE for Fact-Checking Website Entry\n"
     ]
    },
    {
     "name": "stderr",
     "output_type": "stream",
     "text": [
      "Humans do not use only 10% of ... | Popular Science Magazine:  10%|█         | 1/10 [00:37<05:36, 37.42s/it]"
     ]
    },
    {
     "name": "stdout",
     "output_type": "stream",
     "text": [
      "✅ BATCH 1 / 10 DONE for Popular Science Magazine\n"
     ]
    },
    {
     "name": "stderr",
     "output_type": "stream",
     "text": [
      "Humans do not use only 10% of ... | Popular Science Magazine:  20%|██        | 2/10 [01:07<04:23, 32.97s/it]"
     ]
    },
    {
     "name": "stdout",
     "output_type": "stream",
     "text": [
      "✅ BATCH 2 / 10 DONE for Popular Science Magazine\n"
     ]
    },
    {
     "name": "stderr",
     "output_type": "stream",
     "text": [
      "Humans do not use only 10% of ... | Popular Science Magazine:  30%|███       | 3/10 [01:47<04:12, 36.06s/it]"
     ]
    },
    {
     "name": "stdout",
     "output_type": "stream",
     "text": [
      "✅ BATCH 3 / 10 DONE for Popular Science Magazine\n"
     ]
    },
    {
     "name": "stderr",
     "output_type": "stream",
     "text": [
      "Humans do not use only 10% of ... | Popular Science Magazine:  40%|████      | 4/10 [02:23<03:38, 36.38s/it]"
     ]
    },
    {
     "name": "stdout",
     "output_type": "stream",
     "text": [
      "✅ BATCH 4 / 10 DONE for Popular Science Magazine\n"
     ]
    },
    {
     "name": "stderr",
     "output_type": "stream",
     "text": [
      "Humans do not use only 10% of ... | Popular Science Magazine:  50%|█████     | 5/10 [03:02<03:05, 37.19s/it]"
     ]
    },
    {
     "name": "stdout",
     "output_type": "stream",
     "text": [
      "✅ BATCH 5 / 10 DONE for Popular Science Magazine\n"
     ]
    },
    {
     "name": "stderr",
     "output_type": "stream",
     "text": [
      "Humans do not use only 10% of ... | Popular Science Magazine:  60%|██████    | 6/10 [03:35<02:22, 35.59s/it]"
     ]
    },
    {
     "name": "stdout",
     "output_type": "stream",
     "text": [
      "✅ BATCH 6 / 10 DONE for Popular Science Magazine\n"
     ]
    },
    {
     "name": "stderr",
     "output_type": "stream",
     "text": [
      "Humans do not use only 10% of ... | Popular Science Magazine:  70%|███████   | 7/10 [04:04<01:40, 33.45s/it]"
     ]
    },
    {
     "name": "stdout",
     "output_type": "stream",
     "text": [
      "✅ BATCH 7 / 10 DONE for Popular Science Magazine\n"
     ]
    },
    {
     "name": "stderr",
     "output_type": "stream",
     "text": [
      "Humans do not use only 10% of ... | Popular Science Magazine:  80%|████████  | 8/10 [04:33<01:04, 32.18s/it]"
     ]
    },
    {
     "name": "stdout",
     "output_type": "stream",
     "text": [
      "✅ BATCH 8 / 10 DONE for Popular Science Magazine\n"
     ]
    },
    {
     "name": "stderr",
     "output_type": "stream",
     "text": [
      "Humans do not use only 10% of ... | Popular Science Magazine:  90%|█████████ | 9/10 [05:28<00:39, 39.38s/it]"
     ]
    },
    {
     "name": "stdout",
     "output_type": "stream",
     "text": [
      "✅ BATCH 9 / 10 DONE for Popular Science Magazine\n"
     ]
    },
    {
     "name": "stderr",
     "output_type": "stream",
     "text": [
      "Humans do not use only 10% of ... | Popular Science Magazine: 100%|██████████| 10/10 [07:12<00:00, 43.28s/it]\n"
     ]
    },
    {
     "name": "stdout",
     "output_type": "stream",
     "text": [
      "✅ BATCH 10 / 10 DONE for Popular Science Magazine\n"
     ]
    },
    {
     "name": "stderr",
     "output_type": "stream",
     "text": [
      "Humans do not use only 10% of ... | Medical School Exam Question:  10%|█         | 1/10 [00:28<04:12, 28.07s/it]"
     ]
    },
    {
     "name": "stdout",
     "output_type": "stream",
     "text": [
      "✅ BATCH 1 / 10 DONE for Medical School Exam Question\n"
     ]
    },
    {
     "name": "stderr",
     "output_type": "stream",
     "text": [
      "Humans do not use only 10% of ... | Medical School Exam Question:  20%|██        | 2/10 [00:58<03:56, 29.57s/it]"
     ]
    },
    {
     "name": "stdout",
     "output_type": "stream",
     "text": [
      "✅ BATCH 2 / 10 DONE for Medical School Exam Question\n"
     ]
    },
    {
     "name": "stderr",
     "output_type": "stream",
     "text": [
      "Humans do not use only 10% of ... | Medical School Exam Question:  30%|███       | 3/10 [01:24<03:13, 27.68s/it]"
     ]
    },
    {
     "name": "stdout",
     "output_type": "stream",
     "text": [
      "✅ BATCH 3 / 10 DONE for Medical School Exam Question\n"
     ]
    },
    {
     "name": "stderr",
     "output_type": "stream",
     "text": [
      "Humans do not use only 10% of ... | Medical School Exam Question:  40%|████      | 4/10 [01:49<02:39, 26.58s/it]"
     ]
    },
    {
     "name": "stdout",
     "output_type": "stream",
     "text": [
      "✅ BATCH 4 / 10 DONE for Medical School Exam Question\n"
     ]
    },
    {
     "name": "stderr",
     "output_type": "stream",
     "text": [
      "Humans do not use only 10% of ... | Medical School Exam Question:  50%|█████     | 5/10 [02:16<02:13, 26.74s/it]"
     ]
    },
    {
     "name": "stdout",
     "output_type": "stream",
     "text": [
      "✅ BATCH 5 / 10 DONE for Medical School Exam Question\n"
     ]
    },
    {
     "name": "stderr",
     "output_type": "stream",
     "text": [
      "Humans do not use only 10% of ... | Medical School Exam Question:  60%|██████    | 6/10 [02:37<01:39, 24.97s/it]"
     ]
    },
    {
     "name": "stdout",
     "output_type": "stream",
     "text": [
      "✅ BATCH 6 / 10 DONE for Medical School Exam Question\n"
     ]
    },
    {
     "name": "stderr",
     "output_type": "stream",
     "text": [
      "Humans do not use only 10% of ... | Medical School Exam Question:  70%|███████   | 7/10 [03:32<01:44, 34.91s/it]"
     ]
    },
    {
     "name": "stdout",
     "output_type": "stream",
     "text": [
      "✅ BATCH 7 / 10 DONE for Medical School Exam Question\n"
     ]
    },
    {
     "name": "stderr",
     "output_type": "stream",
     "text": [
      "Humans do not use only 10% of ... | Medical School Exam Question:  80%|████████  | 8/10 [03:56<01:02, 31.26s/it]"
     ]
    },
    {
     "name": "stdout",
     "output_type": "stream",
     "text": [
      "✅ BATCH 8 / 10 DONE for Medical School Exam Question\n"
     ]
    },
    {
     "name": "stderr",
     "output_type": "stream",
     "text": [
      "Humans do not use only 10% of ... | Medical School Exam Question:  90%|█████████ | 9/10 [04:47<00:37, 37.38s/it]"
     ]
    },
    {
     "name": "stdout",
     "output_type": "stream",
     "text": [
      "✅ BATCH 9 / 10 DONE for Medical School Exam Question\n"
     ]
    },
    {
     "name": "stderr",
     "output_type": "stream",
     "text": [
      "Humans do not use only 10% of ... | Medical School Exam Question: 100%|██████████| 10/10 [05:13<00:00, 31.33s/it]\n"
     ]
    },
    {
     "name": "stdout",
     "output_type": "stream",
     "text": [
      "✅ BATCH 10 / 10 DONE for Medical School Exam Question\n"
     ]
    },
    {
     "name": "stderr",
     "output_type": "stream",
     "text": [
      "Humans do not use only 10% of ... | TED Talk Transcript:  10%|█         | 1/10 [00:26<03:57, 26.40s/it]"
     ]
    },
    {
     "name": "stdout",
     "output_type": "stream",
     "text": [
      "✅ BATCH 1 / 10 DONE for TED Talk Transcript\n"
     ]
    },
    {
     "name": "stderr",
     "output_type": "stream",
     "text": [
      "Humans do not use only 10% of ... | TED Talk Transcript:  20%|██        | 2/10 [01:52<08:13, 61.70s/it]"
     ]
    },
    {
     "name": "stdout",
     "output_type": "stream",
     "text": [
      "✅ BATCH 2 / 10 DONE for TED Talk Transcript\n"
     ]
    },
    {
     "name": "stderr",
     "output_type": "stream",
     "text": [
      "Humans do not use only 10% of ... | TED Talk Transcript:  30%|███       | 3/10 [02:24<05:34, 47.84s/it]"
     ]
    },
    {
     "name": "stdout",
     "output_type": "stream",
     "text": [
      "✅ BATCH 3 / 10 DONE for TED Talk Transcript\n"
     ]
    },
    {
     "name": "stderr",
     "output_type": "stream",
     "text": [
      "Humans do not use only 10% of ... | TED Talk Transcript:  40%|████      | 4/10 [02:54<04:05, 40.96s/it]"
     ]
    },
    {
     "name": "stdout",
     "output_type": "stream",
     "text": [
      "✅ BATCH 4 / 10 DONE for TED Talk Transcript\n"
     ]
    },
    {
     "name": "stderr",
     "output_type": "stream",
     "text": [
      "Humans do not use only 10% of ... | TED Talk Transcript:  50%|█████     | 5/10 [03:21<02:59, 35.99s/it]"
     ]
    },
    {
     "name": "stdout",
     "output_type": "stream",
     "text": [
      "✅ BATCH 5 / 10 DONE for TED Talk Transcript\n"
     ]
    },
    {
     "name": "stderr",
     "output_type": "stream",
     "text": [
      "Humans do not use only 10% of ... | TED Talk Transcript:  60%|██████    | 6/10 [03:52<02:16, 34.07s/it]"
     ]
    },
    {
     "name": "stdout",
     "output_type": "stream",
     "text": [
      "✅ BATCH 6 / 10 DONE for TED Talk Transcript\n"
     ]
    },
    {
     "name": "stderr",
     "output_type": "stream",
     "text": [
      "Humans do not use only 10% of ... | TED Talk Transcript:  70%|███████   | 7/10 [04:28<01:44, 34.71s/it]"
     ]
    },
    {
     "name": "stdout",
     "output_type": "stream",
     "text": [
      "✅ BATCH 7 / 10 DONE for TED Talk Transcript\n"
     ]
    },
    {
     "name": "stderr",
     "output_type": "stream",
     "text": [
      "Humans do not use only 10% of ... | TED Talk Transcript:  80%|████████  | 8/10 [04:56<01:05, 32.73s/it]"
     ]
    },
    {
     "name": "stdout",
     "output_type": "stream",
     "text": [
      "✅ BATCH 8 / 10 DONE for TED Talk Transcript\n"
     ]
    },
    {
     "name": "stderr",
     "output_type": "stream",
     "text": [
      "Humans do not use only 10% of ... | TED Talk Transcript:  90%|█████████ | 9/10 [05:26<00:31, 31.76s/it]"
     ]
    },
    {
     "name": "stdout",
     "output_type": "stream",
     "text": [
      "✅ BATCH 9 / 10 DONE for TED Talk Transcript\n"
     ]
    },
    {
     "name": "stderr",
     "output_type": "stream",
     "text": [
      "Humans do not use only 10% of ... | TED Talk Transcript: 100%|██████████| 10/10 [05:53<00:00, 35.36s/it]\n"
     ]
    },
    {
     "name": "stdout",
     "output_type": "stream",
     "text": [
      "✅ BATCH 10 / 10 DONE for TED Talk Transcript\n"
     ]
    },
    {
     "name": "stderr",
     "output_type": "stream",
     "text": [
      "Humans do not use only 10% of ... | Educational YouTube Video Script:  10%|█         | 1/10 [00:32<04:53, 32.57s/it]"
     ]
    },
    {
     "name": "stdout",
     "output_type": "stream",
     "text": [
      "✅ BATCH 1 / 10 DONE for Educational YouTube Video Script\n"
     ]
    },
    {
     "name": "stderr",
     "output_type": "stream",
     "text": [
      "Humans do not use only 10% of ... | Educational YouTube Video Script:  20%|██        | 2/10 [01:00<03:58, 29.77s/it]"
     ]
    },
    {
     "name": "stdout",
     "output_type": "stream",
     "text": [
      "✅ BATCH 2 / 10 DONE for Educational YouTube Video Script\n"
     ]
    },
    {
     "name": "stderr",
     "output_type": "stream",
     "text": [
      "Humans do not use only 10% of ... | Educational YouTube Video Script:  30%|███       | 3/10 [01:34<03:40, 31.55s/it]"
     ]
    },
    {
     "name": "stdout",
     "output_type": "stream",
     "text": [
      "✅ BATCH 3 / 10 DONE for Educational YouTube Video Script\n"
     ]
    },
    {
     "name": "stderr",
     "output_type": "stream",
     "text": [
      "Humans do not use only 10% of ... | Educational YouTube Video Script:  40%|████      | 4/10 [02:08<03:15, 32.53s/it]"
     ]
    },
    {
     "name": "stdout",
     "output_type": "stream",
     "text": [
      "✅ BATCH 4 / 10 DONE for Educational YouTube Video Script\n"
     ]
    },
    {
     "name": "stderr",
     "output_type": "stream",
     "text": [
      "Humans do not use only 10% of ... | Educational YouTube Video Script:  50%|█████     | 5/10 [02:39<02:39, 31.96s/it]"
     ]
    },
    {
     "name": "stdout",
     "output_type": "stream",
     "text": [
      "✅ BATCH 5 / 10 DONE for Educational YouTube Video Script\n"
     ]
    },
    {
     "name": "stderr",
     "output_type": "stream",
     "text": [
      "Humans do not use only 10% of ... | Educational YouTube Video Script:  60%|██████    | 6/10 [03:10<02:07, 31.86s/it]"
     ]
    },
    {
     "name": "stdout",
     "output_type": "stream",
     "text": [
      "✅ BATCH 6 / 10 DONE for Educational YouTube Video Script\n"
     ]
    },
    {
     "name": "stderr",
     "output_type": "stream",
     "text": [
      "Humans do not use only 10% of ... | Educational YouTube Video Script:  70%|███████   | 7/10 [03:43<01:36, 32.32s/it]"
     ]
    },
    {
     "name": "stdout",
     "output_type": "stream",
     "text": [
      "✅ BATCH 7 / 10 DONE for Educational YouTube Video Script\n"
     ]
    },
    {
     "name": "stderr",
     "output_type": "stream",
     "text": [
      "Humans do not use only 10% of ... | Educational YouTube Video Script:  80%|████████  | 8/10 [04:13<01:02, 31.45s/it]"
     ]
    },
    {
     "name": "stdout",
     "output_type": "stream",
     "text": [
      "✅ BATCH 8 / 10 DONE for Educational YouTube Video Script\n"
     ]
    },
    {
     "name": "stderr",
     "output_type": "stream",
     "text": [
      "Humans do not use only 10% of ... | Educational YouTube Video Script:  90%|█████████ | 9/10 [04:44<00:31, 31.42s/it]"
     ]
    },
    {
     "name": "stdout",
     "output_type": "stream",
     "text": [
      "✅ BATCH 9 / 10 DONE for Educational YouTube Video Script\n"
     ]
    },
    {
     "name": "stderr",
     "output_type": "stream",
     "text": [
      "Humans do not use only 10% of ... | Educational YouTube Video Script: 100%|██████████| 10/10 [05:16<00:00, 31.64s/it]\n"
     ]
    },
    {
     "name": "stdout",
     "output_type": "stream",
     "text": [
      "✅ BATCH 10 / 10 DONE for Educational YouTube Video Script\n"
     ]
    },
    {
     "name": "stderr",
     "output_type": "stream",
     "text": [
      "Humans do not use only 10% of ... | Wikipedia Entry:  10%|█         | 1/10 [00:33<05:03, 33.68s/it]"
     ]
    },
    {
     "name": "stdout",
     "output_type": "stream",
     "text": [
      "✅ BATCH 1 / 10 DONE for Wikipedia Entry\n"
     ]
    },
    {
     "name": "stderr",
     "output_type": "stream",
     "text": [
      "Humans do not use only 10% of ... | Wikipedia Entry:  20%|██        | 2/10 [01:10<04:44, 35.52s/it]"
     ]
    },
    {
     "name": "stdout",
     "output_type": "stream",
     "text": [
      "✅ BATCH 2 / 10 DONE for Wikipedia Entry\n"
     ]
    },
    {
     "name": "stderr",
     "output_type": "stream",
     "text": [
      "Humans do not use only 10% of ... | Wikipedia Entry:  30%|███       | 3/10 [01:45<04:06, 35.16s/it]"
     ]
    },
    {
     "name": "stdout",
     "output_type": "stream",
     "text": [
      "✅ BATCH 3 / 10 DONE for Wikipedia Entry\n"
     ]
    },
    {
     "name": "stderr",
     "output_type": "stream",
     "text": [
      "Humans do not use only 10% of ... | Wikipedia Entry:  40%|████      | 4/10 [02:16<03:21, 33.64s/it]"
     ]
    },
    {
     "name": "stdout",
     "output_type": "stream",
     "text": [
      "✅ BATCH 4 / 10 DONE for Wikipedia Entry\n"
     ]
    },
    {
     "name": "stderr",
     "output_type": "stream",
     "text": [
      "Humans do not use only 10% of ... | Wikipedia Entry:  50%|█████     | 5/10 [02:46<02:41, 32.36s/it]"
     ]
    },
    {
     "name": "stdout",
     "output_type": "stream",
     "text": [
      "✅ BATCH 5 / 10 DONE for Wikipedia Entry\n"
     ]
    },
    {
     "name": "stderr",
     "output_type": "stream",
     "text": [
      "Humans do not use only 10% of ... | Wikipedia Entry:  60%|██████    | 6/10 [03:17<02:07, 31.94s/it]"
     ]
    },
    {
     "name": "stdout",
     "output_type": "stream",
     "text": [
      "✅ BATCH 6 / 10 DONE for Wikipedia Entry\n"
     ]
    },
    {
     "name": "stderr",
     "output_type": "stream",
     "text": [
      "Humans do not use only 10% of ... | Wikipedia Entry:  70%|███████   | 7/10 [03:50<01:36, 32.11s/it]"
     ]
    },
    {
     "name": "stdout",
     "output_type": "stream",
     "text": [
      "✅ BATCH 7 / 10 DONE for Wikipedia Entry\n"
     ]
    },
    {
     "name": "stderr",
     "output_type": "stream",
     "text": [
      "Humans do not use only 10% of ... | Wikipedia Entry:  80%|████████  | 8/10 [04:26<01:06, 33.30s/it]"
     ]
    },
    {
     "name": "stdout",
     "output_type": "stream",
     "text": [
      "✅ BATCH 8 / 10 DONE for Wikipedia Entry\n"
     ]
    },
    {
     "name": "stderr",
     "output_type": "stream",
     "text": [
      "Humans do not use only 10% of ... | Wikipedia Entry:  90%|█████████ | 9/10 [05:17<00:38, 38.93s/it]"
     ]
    },
    {
     "name": "stdout",
     "output_type": "stream",
     "text": [
      "✅ BATCH 9 / 10 DONE for Wikipedia Entry\n"
     ]
    },
    {
     "name": "stderr",
     "output_type": "stream",
     "text": [
      "Humans do not use only 10% of ... | Wikipedia Entry: 100%|██████████| 10/10 [05:44<00:00, 34.41s/it]\n"
     ]
    },
    {
     "name": "stdout",
     "output_type": "stream",
     "text": [
      "✅ BATCH 10 / 10 DONE for Wikipedia Entry\n"
     ]
    },
    {
     "name": "stderr",
     "output_type": "stream",
     "text": [
      "Humans do not use only 10% of ... | News Article Summary:  10%|█         | 1/10 [00:20<03:02, 20.28s/it]"
     ]
    },
    {
     "name": "stdout",
     "output_type": "stream",
     "text": [
      "✅ BATCH 1 / 10 DONE for News Article Summary\n"
     ]
    },
    {
     "name": "stderr",
     "output_type": "stream",
     "text": [
      "Humans do not use only 10% of ... | News Article Summary:  20%|██        | 2/10 [00:38<02:34, 19.31s/it]"
     ]
    },
    {
     "name": "stdout",
     "output_type": "stream",
     "text": [
      "✅ BATCH 2 / 10 DONE for News Article Summary\n"
     ]
    },
    {
     "name": "stderr",
     "output_type": "stream",
     "text": [
      "Humans do not use only 10% of ... | News Article Summary:  30%|███       | 3/10 [00:52<01:57, 16.76s/it]"
     ]
    },
    {
     "name": "stdout",
     "output_type": "stream",
     "text": [
      "✅ BATCH 3 / 10 DONE for News Article Summary\n"
     ]
    },
    {
     "name": "stderr",
     "output_type": "stream",
     "text": [
      "Humans do not use only 10% of ... | News Article Summary:  40%|████      | 4/10 [01:17<01:59, 19.90s/it]"
     ]
    },
    {
     "name": "stdout",
     "output_type": "stream",
     "text": [
      "✅ BATCH 4 / 10 DONE for News Article Summary\n"
     ]
    },
    {
     "name": "stderr",
     "output_type": "stream",
     "text": [
      "Humans do not use only 10% of ... | News Article Summary:  50%|█████     | 5/10 [01:36<01:38, 19.67s/it]"
     ]
    },
    {
     "name": "stdout",
     "output_type": "stream",
     "text": [
      "✅ BATCH 5 / 10 DONE for News Article Summary\n"
     ]
    },
    {
     "name": "stderr",
     "output_type": "stream",
     "text": [
      "Humans do not use only 10% of ... | News Article Summary:  60%|██████    | 6/10 [01:52<01:12, 18.22s/it]"
     ]
    },
    {
     "name": "stdout",
     "output_type": "stream",
     "text": [
      "✅ BATCH 6 / 10 DONE for News Article Summary\n"
     ]
    },
    {
     "name": "stderr",
     "output_type": "stream",
     "text": [
      "Humans do not use only 10% of ... | News Article Summary:  70%|███████   | 7/10 [02:14<00:59, 19.73s/it]"
     ]
    },
    {
     "name": "stdout",
     "output_type": "stream",
     "text": [
      "✅ BATCH 7 / 10 DONE for News Article Summary\n"
     ]
    },
    {
     "name": "stderr",
     "output_type": "stream",
     "text": [
      "Humans do not use only 10% of ... | News Article Summary:  80%|████████  | 8/10 [02:29<00:36, 18.08s/it]"
     ]
    },
    {
     "name": "stdout",
     "output_type": "stream",
     "text": [
      "✅ BATCH 8 / 10 DONE for News Article Summary\n"
     ]
    },
    {
     "name": "stderr",
     "output_type": "stream",
     "text": [
      "Humans do not use only 10% of ... | News Article Summary:  90%|█████████ | 9/10 [02:48<00:18, 18.30s/it]"
     ]
    },
    {
     "name": "stdout",
     "output_type": "stream",
     "text": [
      "✅ BATCH 9 / 10 DONE for News Article Summary\n"
     ]
    },
    {
     "name": "stderr",
     "output_type": "stream",
     "text": [
      "Humans do not use only 10% of ... | News Article Summary: 100%|██████████| 10/10 [03:16<00:00, 19.63s/it]\n"
     ]
    },
    {
     "name": "stdout",
     "output_type": "stream",
     "text": [
      "✅ BATCH 10 / 10 DONE for News Article Summary\n"
     ]
    },
    {
     "name": "stderr",
     "output_type": "stream",
     "text": [
      "Humans do not use only 10% of ... | TV Documentary Narration:  10%|█         | 1/10 [00:38<05:44, 38.27s/it]"
     ]
    },
    {
     "name": "stdout",
     "output_type": "stream",
     "text": [
      "✅ BATCH 1 / 10 DONE for TV Documentary Narration\n"
     ]
    },
    {
     "name": "stderr",
     "output_type": "stream",
     "text": [
      "Humans do not use only 10% of ... | TV Documentary Narration:  20%|██        | 2/10 [01:11<04:44, 35.59s/it]"
     ]
    },
    {
     "name": "stdout",
     "output_type": "stream",
     "text": [
      "✅ BATCH 2 / 10 DONE for TV Documentary Narration\n"
     ]
    },
    {
     "name": "stderr",
     "output_type": "stream",
     "text": [
      "Humans do not use only 10% of ... | TV Documentary Narration:  30%|███       | 3/10 [01:42<03:51, 33.12s/it]"
     ]
    },
    {
     "name": "stdout",
     "output_type": "stream",
     "text": [
      "✅ BATCH 3 / 10 DONE for TV Documentary Narration\n"
     ]
    },
    {
     "name": "stderr",
     "output_type": "stream",
     "text": [
      "Humans do not use only 10% of ... | TV Documentary Narration:  40%|████      | 4/10 [02:13<03:13, 32.27s/it]"
     ]
    },
    {
     "name": "stdout",
     "output_type": "stream",
     "text": [
      "✅ BATCH 4 / 10 DONE for TV Documentary Narration\n"
     ]
    },
    {
     "name": "stderr",
     "output_type": "stream",
     "text": [
      "Humans do not use only 10% of ... | TV Documentary Narration:  50%|█████     | 5/10 [02:53<02:55, 35.13s/it]"
     ]
    },
    {
     "name": "stdout",
     "output_type": "stream",
     "text": [
      "✅ BATCH 5 / 10 DONE for TV Documentary Narration\n"
     ]
    },
    {
     "name": "stderr",
     "output_type": "stream",
     "text": [
      "Humans do not use only 10% of ... | TV Documentary Narration:  60%|██████    | 6/10 [03:27<02:18, 34.73s/it]"
     ]
    },
    {
     "name": "stdout",
     "output_type": "stream",
     "text": [
      "✅ BATCH 6 / 10 DONE for TV Documentary Narration\n"
     ]
    },
    {
     "name": "stderr",
     "output_type": "stream",
     "text": [
      "Humans do not use only 10% of ... | TV Documentary Narration:  70%|███████   | 7/10 [03:54<01:36, 32.16s/it]"
     ]
    },
    {
     "name": "stdout",
     "output_type": "stream",
     "text": [
      "✅ BATCH 7 / 10 DONE for TV Documentary Narration\n"
     ]
    },
    {
     "name": "stderr",
     "output_type": "stream",
     "text": [
      "Humans do not use only 10% of ... | TV Documentary Narration:  80%|████████  | 8/10 [04:20<01:00, 30.19s/it]"
     ]
    },
    {
     "name": "stdout",
     "output_type": "stream",
     "text": [
      "✅ BATCH 8 / 10 DONE for TV Documentary Narration\n"
     ]
    },
    {
     "name": "stderr",
     "output_type": "stream",
     "text": [
      "Humans do not use only 10% of ... | TV Documentary Narration:  90%|█████████ | 9/10 [04:52<00:30, 30.77s/it]"
     ]
    },
    {
     "name": "stdout",
     "output_type": "stream",
     "text": [
      "✅ BATCH 9 / 10 DONE for TV Documentary Narration\n"
     ]
    },
    {
     "name": "stderr",
     "output_type": "stream",
     "text": [
      "Humans do not use only 10% of ... | TV Documentary Narration: 100%|██████████| 10/10 [05:20<00:00, 32.10s/it]\n"
     ]
    },
    {
     "name": "stdout",
     "output_type": "stream",
     "text": [
      "✅ BATCH 10 / 10 DONE for TV Documentary Narration\n"
     ]
    },
    {
     "name": "stderr",
     "output_type": "stream",
     "text": [
      "Humans do not use only 10% of ... | Science Museum Exhibit Panel:  10%|█         | 1/10 [00:37<05:34, 37.12s/it]"
     ]
    },
    {
     "name": "stdout",
     "output_type": "stream",
     "text": [
      "✅ BATCH 1 / 10 DONE for Science Museum Exhibit Panel\n"
     ]
    },
    {
     "name": "stderr",
     "output_type": "stream",
     "text": [
      "Humans do not use only 10% of ... | Science Museum Exhibit Panel:  20%|██        | 2/10 [01:06<04:22, 32.76s/it]"
     ]
    },
    {
     "name": "stdout",
     "output_type": "stream",
     "text": [
      "✅ BATCH 2 / 10 DONE for Science Museum Exhibit Panel\n"
     ]
    },
    {
     "name": "stderr",
     "output_type": "stream",
     "text": [
      "Humans do not use only 10% of ... | Science Museum Exhibit Panel:  30%|███       | 3/10 [01:36<03:40, 31.48s/it]"
     ]
    },
    {
     "name": "stdout",
     "output_type": "stream",
     "text": [
      "✅ BATCH 3 / 10 DONE for Science Museum Exhibit Panel\n"
     ]
    },
    {
     "name": "stderr",
     "output_type": "stream",
     "text": [
      "Humans do not use only 10% of ... | Science Museum Exhibit Panel:  40%|████      | 4/10 [02:09<03:12, 32.09s/it]"
     ]
    },
    {
     "name": "stdout",
     "output_type": "stream",
     "text": [
      "✅ BATCH 4 / 10 DONE for Science Museum Exhibit Panel\n"
     ]
    },
    {
     "name": "stderr",
     "output_type": "stream",
     "text": [
      "Humans do not use only 10% of ... | Science Museum Exhibit Panel:  50%|█████     | 5/10 [02:44<02:44, 32.95s/it]"
     ]
    },
    {
     "name": "stdout",
     "output_type": "stream",
     "text": [
      "✅ BATCH 5 / 10 DONE for Science Museum Exhibit Panel\n"
     ]
    },
    {
     "name": "stderr",
     "output_type": "stream",
     "text": [
      "Humans do not use only 10% of ... | Science Museum Exhibit Panel:  60%|██████    | 6/10 [03:08<01:59, 29.97s/it]"
     ]
    },
    {
     "name": "stdout",
     "output_type": "stream",
     "text": [
      "✅ BATCH 6 / 10 DONE for Science Museum Exhibit Panel\n"
     ]
    },
    {
     "name": "stderr",
     "output_type": "stream",
     "text": [
      "Humans do not use only 10% of ... | Science Museum Exhibit Panel:  70%|███████   | 7/10 [03:41<01:33, 31.07s/it]"
     ]
    },
    {
     "name": "stdout",
     "output_type": "stream",
     "text": [
      "✅ BATCH 7 / 10 DONE for Science Museum Exhibit Panel\n"
     ]
    },
    {
     "name": "stderr",
     "output_type": "stream",
     "text": [
      "Humans do not use only 10% of ... | Science Museum Exhibit Panel:  80%|████████  | 8/10 [04:13<01:02, 31.23s/it]"
     ]
    },
    {
     "name": "stdout",
     "output_type": "stream",
     "text": [
      "✅ BATCH 8 / 10 DONE for Science Museum Exhibit Panel\n"
     ]
    },
    {
     "name": "stderr",
     "output_type": "stream",
     "text": [
      "Humans do not use only 10% of ... | Science Museum Exhibit Panel:  90%|█████████ | 9/10 [04:43<00:30, 30.87s/it]"
     ]
    },
    {
     "name": "stdout",
     "output_type": "stream",
     "text": [
      "✅ BATCH 9 / 10 DONE for Science Museum Exhibit Panel\n"
     ]
    },
    {
     "name": "stderr",
     "output_type": "stream",
     "text": [
      "Humans do not use only 10% of ... | Science Museum Exhibit Panel: 100%|██████████| 10/10 [05:14<00:00, 31.47s/it]\n"
     ]
    },
    {
     "name": "stdout",
     "output_type": "stream",
     "text": [
      "✅ BATCH 10 / 10 DONE for Science Museum Exhibit Panel\n"
     ]
    },
    {
     "name": "stderr",
     "output_type": "stream",
     "text": [
      "Humans do not use only 10% of ... | Neuromyths Review Study:  10%|█         | 1/10 [00:24<03:43, 24.87s/it]"
     ]
    },
    {
     "name": "stdout",
     "output_type": "stream",
     "text": [
      "✅ BATCH 1 / 10 DONE for Neuromyths Review Study\n"
     ]
    },
    {
     "name": "stderr",
     "output_type": "stream",
     "text": [
      "Humans do not use only 10% of ... | Neuromyths Review Study:  20%|██        | 2/10 [01:03<04:22, 32.80s/it]"
     ]
    },
    {
     "name": "stdout",
     "output_type": "stream",
     "text": [
      "✅ BATCH 2 / 10 DONE for Neuromyths Review Study\n"
     ]
    },
    {
     "name": "stderr",
     "output_type": "stream",
     "text": [
      "Humans do not use only 10% of ... | Neuromyths Review Study:  30%|███       | 3/10 [01:34<03:43, 31.90s/it]"
     ]
    },
    {
     "name": "stdout",
     "output_type": "stream",
     "text": [
      "✅ BATCH 3 / 10 DONE for Neuromyths Review Study\n"
     ]
    },
    {
     "name": "stderr",
     "output_type": "stream",
     "text": [
      "Humans do not use only 10% of ... | Neuromyths Review Study:  40%|████      | 4/10 [02:11<03:25, 34.25s/it]"
     ]
    },
    {
     "name": "stdout",
     "output_type": "stream",
     "text": [
      "✅ BATCH 4 / 10 DONE for Neuromyths Review Study\n"
     ]
    },
    {
     "name": "stderr",
     "output_type": "stream",
     "text": [
      "Humans do not use only 10% of ... | Neuromyths Review Study:  50%|█████     | 5/10 [03:04<03:23, 40.77s/it]"
     ]
    },
    {
     "name": "stdout",
     "output_type": "stream",
     "text": [
      "✅ BATCH 5 / 10 DONE for Neuromyths Review Study\n"
     ]
    },
    {
     "name": "stderr",
     "output_type": "stream",
     "text": [
      "Humans do not use only 10% of ... | Neuromyths Review Study:  60%|██████    | 6/10 [03:31<02:25, 36.34s/it]"
     ]
    },
    {
     "name": "stdout",
     "output_type": "stream",
     "text": [
      "✅ BATCH 6 / 10 DONE for Neuromyths Review Study\n"
     ]
    },
    {
     "name": "stderr",
     "output_type": "stream",
     "text": [
      "Humans do not use only 10% of ... | Neuromyths Review Study:  70%|███████   | 7/10 [03:56<01:37, 32.49s/it]"
     ]
    },
    {
     "name": "stdout",
     "output_type": "stream",
     "text": [
      "✅ BATCH 7 / 10 DONE for Neuromyths Review Study\n"
     ]
    },
    {
     "name": "stderr",
     "output_type": "stream",
     "text": [
      "Humans do not use only 10% of ... | Neuromyths Review Study:  80%|████████  | 8/10 [04:44<01:14, 37.45s/it]"
     ]
    },
    {
     "name": "stdout",
     "output_type": "stream",
     "text": [
      "✅ BATCH 8 / 10 DONE for Neuromyths Review Study\n"
     ]
    },
    {
     "name": "stderr",
     "output_type": "stream",
     "text": [
      "Humans do not use only 10% of ... | Neuromyths Review Study:  90%|█████████ | 9/10 [05:20<00:36, 36.81s/it]"
     ]
    },
    {
     "name": "stdout",
     "output_type": "stream",
     "text": [
      "✅ BATCH 9 / 10 DONE for Neuromyths Review Study\n"
     ]
    },
    {
     "name": "stderr",
     "output_type": "stream",
     "text": [
      "Humans do not use only 10% of ... | Neuromyths Review Study: 100%|██████████| 10/10 [06:05<00:00, 36.59s/it]\n"
     ]
    },
    {
     "name": "stdout",
     "output_type": "stream",
     "text": [
      "✅ BATCH 10 / 10 DONE for Neuromyths Review Study\n"
     ]
    },
    {
     "name": "stderr",
     "output_type": "stream",
     "text": [
      "Humans do not use only 10% of ... | MythBusters Episode Script:  10%|█         | 1/10 [00:41<06:09, 41.00s/it]"
     ]
    },
    {
     "name": "stdout",
     "output_type": "stream",
     "text": [
      "✅ BATCH 1 / 10 DONE for MythBusters Episode Script\n"
     ]
    },
    {
     "name": "stderr",
     "output_type": "stream",
     "text": [
      "Humans do not use only 10% of ... | MythBusters Episode Script:  20%|██        | 2/10 [01:29<06:05, 45.64s/it]"
     ]
    },
    {
     "name": "stdout",
     "output_type": "stream",
     "text": [
      "✅ BATCH 2 / 10 DONE for MythBusters Episode Script\n"
     ]
    },
    {
     "name": "stderr",
     "output_type": "stream",
     "text": [
      "Humans do not use only 10% of ... | MythBusters Episode Script:  30%|███       | 3/10 [02:13<05:12, 44.62s/it]"
     ]
    },
    {
     "name": "stdout",
     "output_type": "stream",
     "text": [
      "✅ BATCH 3 / 10 DONE for MythBusters Episode Script\n"
     ]
    },
    {
     "name": "stderr",
     "output_type": "stream",
     "text": [
      "Humans do not use only 10% of ... | MythBusters Episode Script:  40%|████      | 4/10 [03:09<04:54, 49.06s/it]"
     ]
    },
    {
     "name": "stdout",
     "output_type": "stream",
     "text": [
      "✅ BATCH 4 / 10 DONE for MythBusters Episode Script\n"
     ]
    },
    {
     "name": "stderr",
     "output_type": "stream",
     "text": [
      "Humans do not use only 10% of ... | MythBusters Episode Script:  50%|█████     | 5/10 [03:46<03:43, 44.80s/it]"
     ]
    },
    {
     "name": "stdout",
     "output_type": "stream",
     "text": [
      "✅ BATCH 5 / 10 DONE for MythBusters Episode Script\n"
     ]
    },
    {
     "name": "stderr",
     "output_type": "stream",
     "text": [
      "Humans do not use only 10% of ... | MythBusters Episode Script:  60%|██████    | 6/10 [04:32<03:00, 45.07s/it]"
     ]
    },
    {
     "name": "stdout",
     "output_type": "stream",
     "text": [
      "✅ BATCH 6 / 10 DONE for MythBusters Episode Script\n"
     ]
    },
    {
     "name": "stderr",
     "output_type": "stream",
     "text": [
      "Humans do not use only 10% of ... | MythBusters Episode Script:  70%|███████   | 7/10 [05:11<02:09, 43.25s/it]"
     ]
    },
    {
     "name": "stdout",
     "output_type": "stream",
     "text": [
      "✅ BATCH 7 / 10 DONE for MythBusters Episode Script\n"
     ]
    },
    {
     "name": "stderr",
     "output_type": "stream",
     "text": [
      "Humans do not use only 10% of ... | MythBusters Episode Script:  80%|████████  | 8/10 [05:53<01:25, 42.77s/it]"
     ]
    },
    {
     "name": "stdout",
     "output_type": "stream",
     "text": [
      "✅ BATCH 8 / 10 DONE for MythBusters Episode Script\n"
     ]
    },
    {
     "name": "stderr",
     "output_type": "stream",
     "text": [
      "Humans do not use only 10% of ... | MythBusters Episode Script:  90%|█████████ | 9/10 [06:28<00:40, 40.28s/it]"
     ]
    },
    {
     "name": "stdout",
     "output_type": "stream",
     "text": [
      "✅ BATCH 9 / 10 DONE for MythBusters Episode Script\n"
     ]
    },
    {
     "name": "stderr",
     "output_type": "stream",
     "text": [
      "Humans do not use only 10% of ... | MythBusters Episode Script: 100%|██████████| 10/10 [07:12<00:00, 43.29s/it]\n"
     ]
    },
    {
     "name": "stdout",
     "output_type": "stream",
     "text": [
      "✅ BATCH 10 / 10 DONE for MythBusters Episode Script\n"
     ]
    },
    {
     "name": "stderr",
     "output_type": "stream",
     "text": [
      "Humans do not use only 10% of ... | Science Journalism Op-Ed:  10%|█         | 1/10 [00:32<04:54, 32.69s/it]"
     ]
    },
    {
     "name": "stdout",
     "output_type": "stream",
     "text": [
      "✅ BATCH 1 / 10 DONE for Science Journalism Op-Ed\n"
     ]
    },
    {
     "name": "stderr",
     "output_type": "stream",
     "text": [
      "Humans do not use only 10% of ... | Science Journalism Op-Ed:  20%|██        | 2/10 [00:53<03:25, 25.71s/it]"
     ]
    },
    {
     "name": "stdout",
     "output_type": "stream",
     "text": [
      "✅ BATCH 2 / 10 DONE for Science Journalism Op-Ed\n"
     ]
    },
    {
     "name": "stderr",
     "output_type": "stream",
     "text": [
      "Humans do not use only 10% of ... | Science Journalism Op-Ed:  30%|███       | 3/10 [01:27<03:24, 29.28s/it]"
     ]
    },
    {
     "name": "stdout",
     "output_type": "stream",
     "text": [
      "✅ BATCH 3 / 10 DONE for Science Journalism Op-Ed\n"
     ]
    },
    {
     "name": "stderr",
     "output_type": "stream",
     "text": [
      "Humans do not use only 10% of ... | Science Journalism Op-Ed:  40%|████      | 4/10 [01:54<02:52, 28.72s/it]"
     ]
    },
    {
     "name": "stdout",
     "output_type": "stream",
     "text": [
      "✅ BATCH 4 / 10 DONE for Science Journalism Op-Ed\n"
     ]
    },
    {
     "name": "stderr",
     "output_type": "stream",
     "text": [
      "Humans do not use only 10% of ... | Science Journalism Op-Ed:  50%|█████     | 5/10 [02:23<02:23, 28.78s/it]"
     ]
    },
    {
     "name": "stdout",
     "output_type": "stream",
     "text": [
      "✅ BATCH 5 / 10 DONE for Science Journalism Op-Ed\n"
     ]
    },
    {
     "name": "stderr",
     "output_type": "stream",
     "text": [
      "Humans do not use only 10% of ... | Science Journalism Op-Ed:  60%|██████    | 6/10 [02:48<01:50, 27.56s/it]"
     ]
    },
    {
     "name": "stdout",
     "output_type": "stream",
     "text": [
      "✅ BATCH 6 / 10 DONE for Science Journalism Op-Ed\n"
     ]
    },
    {
     "name": "stderr",
     "output_type": "stream",
     "text": [
      "Humans do not use only 10% of ... | Science Journalism Op-Ed:  70%|███████   | 7/10 [03:18<01:24, 28.18s/it]"
     ]
    },
    {
     "name": "stdout",
     "output_type": "stream",
     "text": [
      "✅ BATCH 7 / 10 DONE for Science Journalism Op-Ed\n"
     ]
    },
    {
     "name": "stderr",
     "output_type": "stream",
     "text": [
      "Humans do not use only 10% of ... | Science Journalism Op-Ed:  80%|████████  | 8/10 [03:51<00:59, 29.72s/it]"
     ]
    },
    {
     "name": "stdout",
     "output_type": "stream",
     "text": [
      "✅ BATCH 8 / 10 DONE for Science Journalism Op-Ed\n"
     ]
    },
    {
     "name": "stderr",
     "output_type": "stream",
     "text": [
      "Humans do not use only 10% of ... | Science Journalism Op-Ed:  90%|█████████ | 9/10 [04:17<00:28, 28.44s/it]"
     ]
    },
    {
     "name": "stdout",
     "output_type": "stream",
     "text": [
      "✅ BATCH 9 / 10 DONE for Science Journalism Op-Ed\n"
     ]
    },
    {
     "name": "stderr",
     "output_type": "stream",
     "text": [
      "Humans do not use only 10% of ... | Science Journalism Op-Ed: 100%|██████████| 10/10 [04:43<00:00, 28.39s/it]\n"
     ]
    },
    {
     "name": "stdout",
     "output_type": "stream",
     "text": [
      "✅ BATCH 10 / 10 DONE for Science Journalism Op-Ed\n"
     ]
    },
    {
     "name": "stderr",
     "output_type": "stream",
     "text": [
      "Humans do not use only 10% of ... | Neurology Patient Handout:  10%|█         | 1/10 [00:45<06:45, 45.11s/it]"
     ]
    },
    {
     "name": "stdout",
     "output_type": "stream",
     "text": [
      "✅ BATCH 1 / 10 DONE for Neurology Patient Handout\n"
     ]
    },
    {
     "name": "stderr",
     "output_type": "stream",
     "text": [
      "Humans do not use only 10% of ... | Neurology Patient Handout:  20%|██        | 2/10 [01:12<04:35, 34.40s/it]"
     ]
    },
    {
     "name": "stdout",
     "output_type": "stream",
     "text": [
      "✅ BATCH 2 / 10 DONE for Neurology Patient Handout\n"
     ]
    },
    {
     "name": "stderr",
     "output_type": "stream",
     "text": [
      "Humans do not use only 10% of ... | Neurology Patient Handout:  30%|███       | 3/10 [01:36<03:27, 29.71s/it]"
     ]
    },
    {
     "name": "stdout",
     "output_type": "stream",
     "text": [
      "✅ BATCH 3 / 10 DONE for Neurology Patient Handout\n"
     ]
    },
    {
     "name": "stderr",
     "output_type": "stream",
     "text": [
      "Humans do not use only 10% of ... | Neurology Patient Handout:  40%|████      | 4/10 [02:05<02:57, 29.57s/it]"
     ]
    },
    {
     "name": "stdout",
     "output_type": "stream",
     "text": [
      "✅ BATCH 4 / 10 DONE for Neurology Patient Handout\n"
     ]
    },
    {
     "name": "stderr",
     "output_type": "stream",
     "text": [
      "Humans do not use only 10% of ... | Neurology Patient Handout:  50%|█████     | 5/10 [02:27<02:14, 26.85s/it]"
     ]
    },
    {
     "name": "stdout",
     "output_type": "stream",
     "text": [
      "✅ BATCH 5 / 10 DONE for Neurology Patient Handout\n"
     ]
    },
    {
     "name": "stderr",
     "output_type": "stream",
     "text": [
      "Humans do not use only 10% of ... | Neurology Patient Handout:  60%|██████    | 6/10 [03:02<01:58, 29.53s/it]"
     ]
    },
    {
     "name": "stdout",
     "output_type": "stream",
     "text": [
      "✅ BATCH 6 / 10 DONE for Neurology Patient Handout\n"
     ]
    },
    {
     "name": "stderr",
     "output_type": "stream",
     "text": [
      "Humans do not use only 10% of ... | Neurology Patient Handout:  70%|███████   | 7/10 [03:33<01:29, 29.96s/it]"
     ]
    },
    {
     "name": "stdout",
     "output_type": "stream",
     "text": [
      "✅ BATCH 7 / 10 DONE for Neurology Patient Handout\n"
     ]
    },
    {
     "name": "stderr",
     "output_type": "stream",
     "text": [
      "Humans do not use only 10% of ... | Neurology Patient Handout:  80%|████████  | 8/10 [04:01<00:58, 29.50s/it]"
     ]
    },
    {
     "name": "stdout",
     "output_type": "stream",
     "text": [
      "✅ BATCH 8 / 10 DONE for Neurology Patient Handout\n"
     ]
    },
    {
     "name": "stderr",
     "output_type": "stream",
     "text": [
      "Humans do not use only 10% of ... | Neurology Patient Handout:  90%|█████████ | 9/10 [04:35<00:30, 30.89s/it]"
     ]
    },
    {
     "name": "stdout",
     "output_type": "stream",
     "text": [
      "✅ BATCH 9 / 10 DONE for Neurology Patient Handout\n"
     ]
    },
    {
     "name": "stderr",
     "output_type": "stream",
     "text": [
      "Humans do not use only 10% of ... | Neurology Patient Handout: 100%|██████████| 10/10 [05:03<00:00, 30.35s/it]\n"
     ]
    },
    {
     "name": "stdout",
     "output_type": "stream",
     "text": [
      "✅ BATCH 10 / 10 DONE for Neurology Patient Handout\n"
     ]
    },
    {
     "name": "stderr",
     "output_type": "stream",
     "text": [
      "Humans do not use only 10% of ... | University Press Release:  10%|█         | 1/10 [00:19<02:56, 19.61s/it]"
     ]
    },
    {
     "name": "stdout",
     "output_type": "stream",
     "text": [
      "✅ BATCH 1 / 10 DONE for University Press Release\n"
     ]
    },
    {
     "name": "stderr",
     "output_type": "stream",
     "text": [
      "Humans do not use only 10% of ... | University Press Release:  20%|██        | 2/10 [00:38<02:32, 19.01s/it]"
     ]
    },
    {
     "name": "stdout",
     "output_type": "stream",
     "text": [
      "✅ BATCH 2 / 10 DONE for University Press Release\n"
     ]
    },
    {
     "name": "stderr",
     "output_type": "stream",
     "text": [
      "Humans do not use only 10% of ... | University Press Release:  30%|███       | 3/10 [00:57<02:13, 19.04s/it]"
     ]
    },
    {
     "name": "stdout",
     "output_type": "stream",
     "text": [
      "✅ BATCH 3 / 10 DONE for University Press Release\n"
     ]
    },
    {
     "name": "stderr",
     "output_type": "stream",
     "text": [
      "Humans do not use only 10% of ... | University Press Release:  40%|████      | 4/10 [01:15<01:53, 18.84s/it]"
     ]
    },
    {
     "name": "stdout",
     "output_type": "stream",
     "text": [
      "✅ BATCH 4 / 10 DONE for University Press Release\n"
     ]
    },
    {
     "name": "stderr",
     "output_type": "stream",
     "text": [
      "Humans do not use only 10% of ... | University Press Release:  50%|█████     | 5/10 [01:36<01:36, 19.40s/it]"
     ]
    },
    {
     "name": "stdout",
     "output_type": "stream",
     "text": [
      "✅ BATCH 5 / 10 DONE for University Press Release\n"
     ]
    },
    {
     "name": "stderr",
     "output_type": "stream",
     "text": [
      "Humans do not use only 10% of ... | University Press Release:  60%|██████    | 6/10 [01:57<01:20, 20.12s/it]"
     ]
    },
    {
     "name": "stdout",
     "output_type": "stream",
     "text": [
      "✅ BATCH 6 / 10 DONE for University Press Release\n"
     ]
    },
    {
     "name": "stderr",
     "output_type": "stream",
     "text": [
      "Humans do not use only 10% of ... | University Press Release:  70%|███████   | 7/10 [02:21<01:04, 21.43s/it]"
     ]
    },
    {
     "name": "stdout",
     "output_type": "stream",
     "text": [
      "✅ BATCH 7 / 10 DONE for University Press Release\n"
     ]
    },
    {
     "name": "stderr",
     "output_type": "stream",
     "text": [
      "Humans do not use only 10% of ... | University Press Release:  80%|████████  | 8/10 [02:42<00:42, 21.08s/it]"
     ]
    },
    {
     "name": "stdout",
     "output_type": "stream",
     "text": [
      "✅ BATCH 8 / 10 DONE for University Press Release\n"
     ]
    },
    {
     "name": "stderr",
     "output_type": "stream",
     "text": [
      "Humans do not use only 10% of ... | University Press Release:  90%|█████████ | 9/10 [03:02<00:20, 20.83s/it]"
     ]
    },
    {
     "name": "stdout",
     "output_type": "stream",
     "text": [
      "✅ BATCH 9 / 10 DONE for University Press Release\n"
     ]
    },
    {
     "name": "stderr",
     "output_type": "stream",
     "text": [
      "Humans do not use only 10% of ... | University Press Release: 100%|██████████| 10/10 [03:23<00:00, 20.33s/it]\n"
     ]
    },
    {
     "name": "stdout",
     "output_type": "stream",
     "text": [
      "✅ BATCH 10 / 10 DONE for University Press Release\n"
     ]
    },
    {
     "name": "stderr",
     "output_type": "stream",
     "text": [
      "Humans do not use only 10% of ... | Social Media Infographic:  10%|█         | 1/10 [00:31<04:45, 31.75s/it]"
     ]
    },
    {
     "name": "stdout",
     "output_type": "stream",
     "text": [
      "✅ BATCH 1 / 10 DONE for Social Media Infographic\n"
     ]
    },
    {
     "name": "stderr",
     "output_type": "stream",
     "text": [
      "Humans do not use only 10% of ... | Social Media Infographic:  20%|██        | 2/10 [01:00<03:58, 29.77s/it]"
     ]
    },
    {
     "name": "stdout",
     "output_type": "stream",
     "text": [
      "✅ BATCH 2 / 10 DONE for Social Media Infographic\n"
     ]
    },
    {
     "name": "stderr",
     "output_type": "stream",
     "text": [
      "Humans do not use only 10% of ... | Social Media Infographic:  30%|███       | 3/10 [01:30<03:29, 29.96s/it]"
     ]
    },
    {
     "name": "stdout",
     "output_type": "stream",
     "text": [
      "✅ BATCH 3 / 10 DONE for Social Media Infographic\n"
     ]
    },
    {
     "name": "stderr",
     "output_type": "stream",
     "text": [
      "Humans do not use only 10% of ... | Social Media Infographic:  40%|████      | 4/10 [02:01<03:02, 30.44s/it]"
     ]
    },
    {
     "name": "stdout",
     "output_type": "stream",
     "text": [
      "✅ BATCH 4 / 10 DONE for Social Media Infographic\n"
     ]
    },
    {
     "name": "stderr",
     "output_type": "stream",
     "text": [
      "Humans do not use only 10% of ... | Social Media Infographic:  50%|█████     | 5/10 [02:48<03:02, 36.53s/it]"
     ]
    },
    {
     "name": "stdout",
     "output_type": "stream",
     "text": [
      "✅ BATCH 5 / 10 DONE for Social Media Infographic\n"
     ]
    },
    {
     "name": "stderr",
     "output_type": "stream",
     "text": [
      "Humans do not use only 10% of ... | Social Media Infographic:  60%|██████    | 6/10 [03:21<02:20, 35.20s/it]"
     ]
    },
    {
     "name": "stdout",
     "output_type": "stream",
     "text": [
      "✅ BATCH 6 / 10 DONE for Social Media Infographic\n"
     ]
    },
    {
     "name": "stderr",
     "output_type": "stream",
     "text": [
      "Humans do not use only 10% of ... | Social Media Infographic:  70%|███████   | 7/10 [03:50<01:39, 33.03s/it]"
     ]
    },
    {
     "name": "stdout",
     "output_type": "stream",
     "text": [
      "✅ BATCH 7 / 10 DONE for Social Media Infographic\n"
     ]
    },
    {
     "name": "stderr",
     "output_type": "stream",
     "text": [
      "Humans do not use only 10% of ... | Social Media Infographic:  80%|████████  | 8/10 [04:19<01:03, 31.93s/it]"
     ]
    },
    {
     "name": "stdout",
     "output_type": "stream",
     "text": [
      "✅ BATCH 8 / 10 DONE for Social Media Infographic\n"
     ]
    },
    {
     "name": "stderr",
     "output_type": "stream",
     "text": [
      "Humans do not use only 10% of ... | Social Media Infographic:  90%|█████████ | 9/10 [04:45<00:29, 29.95s/it]"
     ]
    },
    {
     "name": "stdout",
     "output_type": "stream",
     "text": [
      "✅ BATCH 9 / 10 DONE for Social Media Infographic\n"
     ]
    },
    {
     "name": "stderr",
     "output_type": "stream",
     "text": [
      "Humans do not use only 10% of ... | Social Media Infographic: 100%|██████████| 10/10 [05:13<00:00, 31.37s/it]\n"
     ]
    },
    {
     "name": "stdout",
     "output_type": "stream",
     "text": [
      "✅ BATCH 10 / 10 DONE for Social Media Infographic\n"
     ]
    },
    {
     "name": "stderr",
     "output_type": "stream",
     "text": [
      "Humans do not use only 10% of ... | Public Service Announcement:  10%|█         | 1/10 [00:29<04:23, 29.32s/it]"
     ]
    },
    {
     "name": "stdout",
     "output_type": "stream",
     "text": [
      "✅ BATCH 1 / 10 DONE for Public Service Announcement\n"
     ]
    },
    {
     "name": "stderr",
     "output_type": "stream",
     "text": [
      "Humans do not use only 10% of ... | Public Service Announcement:  20%|██        | 2/10 [01:01<04:09, 31.18s/it]"
     ]
    },
    {
     "name": "stdout",
     "output_type": "stream",
     "text": [
      "✅ BATCH 2 / 10 DONE for Public Service Announcement\n"
     ]
    },
    {
     "name": "stderr",
     "output_type": "stream",
     "text": [
      "Humans do not use only 10% of ... | Public Service Announcement:  30%|███       | 3/10 [01:56<04:53, 41.89s/it]"
     ]
    },
    {
     "name": "stdout",
     "output_type": "stream",
     "text": [
      "✅ BATCH 3 / 10 DONE for Public Service Announcement\n"
     ]
    },
    {
     "name": "stderr",
     "output_type": "stream",
     "text": [
      "Humans do not use only 10% of ... | Public Service Announcement:  40%|████      | 4/10 [02:16<03:20, 33.45s/it]"
     ]
    },
    {
     "name": "stdout",
     "output_type": "stream",
     "text": [
      "✅ BATCH 4 / 10 DONE for Public Service Announcement\n"
     ]
    },
    {
     "name": "stderr",
     "output_type": "stream",
     "text": [
      "Humans do not use only 10% of ... | Public Service Announcement:  50%|█████     | 5/10 [02:45<02:38, 31.78s/it]"
     ]
    },
    {
     "name": "stdout",
     "output_type": "stream",
     "text": [
      "✅ BATCH 5 / 10 DONE for Public Service Announcement\n"
     ]
    },
    {
     "name": "stderr",
     "output_type": "stream",
     "text": [
      "Humans do not use only 10% of ... | Public Service Announcement:  60%|██████    | 6/10 [03:53<02:55, 43.91s/it]"
     ]
    },
    {
     "name": "stdout",
     "output_type": "stream",
     "text": [
      "✅ BATCH 6 / 10 DONE for Public Service Announcement\n"
     ]
    },
    {
     "name": "stderr",
     "output_type": "stream",
     "text": [
      "Humans do not use only 10% of ... | Public Service Announcement:  70%|███████   | 7/10 [04:15<01:50, 36.83s/it]"
     ]
    },
    {
     "name": "stdout",
     "output_type": "stream",
     "text": [
      "✅ BATCH 7 / 10 DONE for Public Service Announcement\n"
     ]
    },
    {
     "name": "stderr",
     "output_type": "stream",
     "text": [
      "Humans do not use only 10% of ... | Public Service Announcement:  80%|████████  | 8/10 [04:47<01:10, 35.20s/it]"
     ]
    },
    {
     "name": "stdout",
     "output_type": "stream",
     "text": [
      "✅ BATCH 8 / 10 DONE for Public Service Announcement\n"
     ]
    },
    {
     "name": "stderr",
     "output_type": "stream",
     "text": [
      "Humans do not use only 10% of ... | Public Service Announcement:  90%|█████████ | 9/10 [05:15<00:33, 33.18s/it]"
     ]
    },
    {
     "name": "stdout",
     "output_type": "stream",
     "text": [
      "✅ BATCH 9 / 10 DONE for Public Service Announcement\n"
     ]
    },
    {
     "name": "stderr",
     "output_type": "stream",
     "text": [
      "Humans do not use only 10% of ... | Public Service Announcement: 100%|██████████| 10/10 [05:35<00:00, 33.53s/it]\n"
     ]
    },
    {
     "name": "stdout",
     "output_type": "stream",
     "text": [
      "✅ BATCH 10 / 10 DONE for Public Service Announcement\n"
     ]
    },
    {
     "name": "stderr",
     "output_type": "stream",
     "text": [
      "Humans do not use only 10% of ... | Academic Encyclopedia Entry:  10%|█         | 1/10 [00:35<05:19, 35.51s/it]"
     ]
    },
    {
     "name": "stdout",
     "output_type": "stream",
     "text": [
      "✅ BATCH 1 / 10 DONE for Academic Encyclopedia Entry\n"
     ]
    },
    {
     "name": "stderr",
     "output_type": "stream",
     "text": [
      "Humans do not use only 10% of ... | Academic Encyclopedia Entry:  20%|██        | 2/10 [01:11<04:44, 35.58s/it]"
     ]
    },
    {
     "name": "stdout",
     "output_type": "stream",
     "text": [
      "✅ BATCH 2 / 10 DONE for Academic Encyclopedia Entry\n"
     ]
    },
    {
     "name": "stderr",
     "output_type": "stream",
     "text": [
      "Humans do not use only 10% of ... | Academic Encyclopedia Entry:  30%|███       | 3/10 [01:44<04:00, 34.35s/it]"
     ]
    },
    {
     "name": "stdout",
     "output_type": "stream",
     "text": [
      "✅ BATCH 3 / 10 DONE for Academic Encyclopedia Entry\n"
     ]
    },
    {
     "name": "stderr",
     "output_type": "stream",
     "text": [
      "Humans do not use only 10% of ... | Academic Encyclopedia Entry:  40%|████      | 4/10 [02:11<03:09, 31.61s/it]"
     ]
    },
    {
     "name": "stdout",
     "output_type": "stream",
     "text": [
      "✅ BATCH 4 / 10 DONE for Academic Encyclopedia Entry\n"
     ]
    },
    {
     "name": "stderr",
     "output_type": "stream",
     "text": [
      "Humans do not use only 10% of ... | Academic Encyclopedia Entry:  50%|█████     | 5/10 [02:48<02:48, 33.73s/it]"
     ]
    },
    {
     "name": "stdout",
     "output_type": "stream",
     "text": [
      "✅ BATCH 5 / 10 DONE for Academic Encyclopedia Entry\n"
     ]
    },
    {
     "name": "stderr",
     "output_type": "stream",
     "text": [
      "Humans do not use only 10% of ... | Academic Encyclopedia Entry:  60%|██████    | 6/10 [03:29<02:24, 36.01s/it]"
     ]
    },
    {
     "name": "stdout",
     "output_type": "stream",
     "text": [
      "✅ BATCH 6 / 10 DONE for Academic Encyclopedia Entry\n"
     ]
    },
    {
     "name": "stderr",
     "output_type": "stream",
     "text": [
      "Humans do not use only 10% of ... | Academic Encyclopedia Entry:  70%|███████   | 7/10 [03:59<01:42, 34.15s/it]"
     ]
    },
    {
     "name": "stdout",
     "output_type": "stream",
     "text": [
      "✅ BATCH 7 / 10 DONE for Academic Encyclopedia Entry\n"
     ]
    },
    {
     "name": "stderr",
     "output_type": "stream",
     "text": [
      "Humans do not use only 10% of ... | Academic Encyclopedia Entry:  80%|████████  | 8/10 [04:46<01:16, 38.33s/it]"
     ]
    },
    {
     "name": "stdout",
     "output_type": "stream",
     "text": [
      "✅ BATCH 8 / 10 DONE for Academic Encyclopedia Entry\n"
     ]
    },
    {
     "name": "stderr",
     "output_type": "stream",
     "text": [
      "Humans do not use only 10% of ... | Academic Encyclopedia Entry:  90%|█████████ | 9/10 [05:17<00:35, 35.94s/it]"
     ]
    },
    {
     "name": "stdout",
     "output_type": "stream",
     "text": [
      "✅ BATCH 9 / 10 DONE for Academic Encyclopedia Entry\n"
     ]
    },
    {
     "name": "stderr",
     "output_type": "stream",
     "text": [
      "Humans do not use only 10% of ... | Academic Encyclopedia Entry: 100%|██████████| 10/10 [05:46<00:00, 34.67s/it]\n"
     ]
    },
    {
     "name": "stdout",
     "output_type": "stream",
     "text": [
      "✅ BATCH 10 / 10 DONE for Academic Encyclopedia Entry\n"
     ]
    },
    {
     "name": "stderr",
     "output_type": "stream",
     "text": [
      "Glass is an amorphous solid.... | Scientific Journal Article:  10%|█         | 1/10 [00:43<06:32, 43.59s/it]"
     ]
    },
    {
     "name": "stdout",
     "output_type": "stream",
     "text": [
      "✅ BATCH 1 / 10 DONE for Scientific Journal Article\n"
     ]
    },
    {
     "name": "stderr",
     "output_type": "stream",
     "text": [
      "Glass is an amorphous solid.... | Scientific Journal Article:  20%|██        | 2/10 [01:16<04:59, 37.43s/it]"
     ]
    },
    {
     "name": "stdout",
     "output_type": "stream",
     "text": [
      "✅ BATCH 2 / 10 DONE for Scientific Journal Article\n"
     ]
    },
    {
     "name": "stderr",
     "output_type": "stream",
     "text": [
      "Glass is an amorphous solid.... | Scientific Journal Article:  30%|███       | 3/10 [01:59<04:37, 39.69s/it]"
     ]
    },
    {
     "name": "stdout",
     "output_type": "stream",
     "text": [
      "✅ BATCH 3 / 10 DONE for Scientific Journal Article\n"
     ]
    },
    {
     "name": "stderr",
     "output_type": "stream",
     "text": [
      "Glass is an amorphous solid.... | Scientific Journal Article:  40%|████      | 4/10 [02:59<04:46, 47.78s/it]"
     ]
    },
    {
     "name": "stdout",
     "output_type": "stream",
     "text": [
      "✅ BATCH 4 / 10 DONE for Scientific Journal Article\n"
     ]
    },
    {
     "name": "stderr",
     "output_type": "stream",
     "text": [
      "Glass is an amorphous solid.... | Scientific Journal Article:  50%|█████     | 5/10 [03:38<03:43, 44.73s/it]"
     ]
    },
    {
     "name": "stdout",
     "output_type": "stream",
     "text": [
      "✅ BATCH 5 / 10 DONE for Scientific Journal Article\n"
     ]
    },
    {
     "name": "stderr",
     "output_type": "stream",
     "text": [
      "Glass is an amorphous solid.... | Scientific Journal Article:  60%|██████    | 6/10 [04:34<03:14, 48.56s/it]"
     ]
    },
    {
     "name": "stdout",
     "output_type": "stream",
     "text": [
      "✅ BATCH 6 / 10 DONE for Scientific Journal Article\n"
     ]
    },
    {
     "name": "stderr",
     "output_type": "stream",
     "text": [
      "Glass is an amorphous solid.... | Scientific Journal Article:  70%|███████   | 7/10 [05:27<02:30, 50.08s/it]"
     ]
    },
    {
     "name": "stdout",
     "output_type": "stream",
     "text": [
      "✅ BATCH 7 / 10 DONE for Scientific Journal Article\n"
     ]
    },
    {
     "name": "stderr",
     "output_type": "stream",
     "text": [
      "Glass is an amorphous solid.... | Scientific Journal Article:  80%|████████  | 8/10 [06:07<01:33, 46.69s/it]"
     ]
    },
    {
     "name": "stdout",
     "output_type": "stream",
     "text": [
      "✅ BATCH 8 / 10 DONE for Scientific Journal Article\n"
     ]
    },
    {
     "name": "stderr",
     "output_type": "stream",
     "text": [
      "Glass is an amorphous solid.... | Scientific Journal Article:  90%|█████████ | 9/10 [06:50<00:45, 45.72s/it]"
     ]
    },
    {
     "name": "stdout",
     "output_type": "stream",
     "text": [
      "✅ BATCH 9 / 10 DONE for Scientific Journal Article\n"
     ]
    },
    {
     "name": "stderr",
     "output_type": "stream",
     "text": [
      "Glass is an amorphous solid.... | Scientific Journal Article: 100%|██████████| 10/10 [07:40<00:00, 46.07s/it]\n"
     ]
    },
    {
     "name": "stdout",
     "output_type": "stream",
     "text": [
      "✅ BATCH 10 / 10 DONE for Scientific Journal Article\n"
     ]
    },
    {
     "name": "stderr",
     "output_type": "stream",
     "text": [
      "Glass is an amorphous solid.... | Chemistry Textbook:  10%|█         | 1/10 [00:42<06:18, 42.05s/it]"
     ]
    },
    {
     "name": "stdout",
     "output_type": "stream",
     "text": [
      "✅ BATCH 1 / 10 DONE for Chemistry Textbook\n"
     ]
    },
    {
     "name": "stderr",
     "output_type": "stream",
     "text": [
      "Glass is an amorphous solid.... | Chemistry Textbook:  20%|██        | 2/10 [01:46<07:21, 55.18s/it]"
     ]
    },
    {
     "name": "stdout",
     "output_type": "stream",
     "text": [
      "✅ BATCH 2 / 10 DONE for Chemistry Textbook\n"
     ]
    },
    {
     "name": "stderr",
     "output_type": "stream",
     "text": [
      "Glass is an amorphous solid.... | Chemistry Textbook:  30%|███       | 3/10 [02:30<05:50, 50.14s/it]"
     ]
    },
    {
     "name": "stdout",
     "output_type": "stream",
     "text": [
      "✅ BATCH 3 / 10 DONE for Chemistry Textbook\n"
     ]
    },
    {
     "name": "stderr",
     "output_type": "stream",
     "text": [
      "Glass is an amorphous solid.... | Chemistry Textbook:  40%|████      | 4/10 [03:08<04:33, 45.50s/it]"
     ]
    },
    {
     "name": "stdout",
     "output_type": "stream",
     "text": [
      "✅ BATCH 4 / 10 DONE for Chemistry Textbook\n"
     ]
    },
    {
     "name": "stderr",
     "output_type": "stream",
     "text": [
      "Glass is an amorphous solid.... | Chemistry Textbook:  50%|█████     | 5/10 [03:41<03:23, 40.76s/it]"
     ]
    },
    {
     "name": "stdout",
     "output_type": "stream",
     "text": [
      "✅ BATCH 5 / 10 DONE for Chemistry Textbook\n"
     ]
    },
    {
     "name": "stderr",
     "output_type": "stream",
     "text": [
      "Glass is an amorphous solid.... | Chemistry Textbook:  60%|██████    | 6/10 [04:07<02:22, 35.68s/it]"
     ]
    },
    {
     "name": "stdout",
     "output_type": "stream",
     "text": [
      "✅ BATCH 6 / 10 DONE for Chemistry Textbook\n"
     ]
    },
    {
     "name": "stderr",
     "output_type": "stream",
     "text": [
      "Glass is an amorphous solid.... | Chemistry Textbook:  70%|███████   | 7/10 [04:51<01:55, 38.59s/it]"
     ]
    },
    {
     "name": "stdout",
     "output_type": "stream",
     "text": [
      "✅ BATCH 7 / 10 DONE for Chemistry Textbook\n"
     ]
    },
    {
     "name": "stderr",
     "output_type": "stream",
     "text": [
      "Glass is an amorphous solid.... | Chemistry Textbook:  80%|████████  | 8/10 [05:23<01:12, 36.28s/it]"
     ]
    },
    {
     "name": "stdout",
     "output_type": "stream",
     "text": [
      "✅ BATCH 8 / 10 DONE for Chemistry Textbook\n"
     ]
    },
    {
     "name": "stderr",
     "output_type": "stream",
     "text": [
      "Glass is an amorphous solid.... | Chemistry Textbook:  90%|█████████ | 9/10 [06:15<00:41, 41.43s/it]"
     ]
    },
    {
     "name": "stdout",
     "output_type": "stream",
     "text": [
      "✅ BATCH 9 / 10 DONE for Chemistry Textbook\n"
     ]
    },
    {
     "name": "stderr",
     "output_type": "stream",
     "text": [
      "Glass is an amorphous solid.... | Chemistry Textbook: 100%|██████████| 10/10 [07:09<00:00, 42.97s/it]\n"
     ]
    },
    {
     "name": "stdout",
     "output_type": "stream",
     "text": [
      "✅ BATCH 10 / 10 DONE for Chemistry Textbook\n"
     ]
    },
    {
     "name": "stderr",
     "output_type": "stream",
     "text": [
      "Glass is an amorphous solid.... | Educational Worksheet:  10%|█         | 1/10 [00:40<06:06, 40.76s/it]"
     ]
    },
    {
     "name": "stdout",
     "output_type": "stream",
     "text": [
      "✅ BATCH 1 / 10 DONE for Educational Worksheet\n"
     ]
    },
    {
     "name": "stderr",
     "output_type": "stream",
     "text": [
      "Glass is an amorphous solid.... | Educational Worksheet:  20%|██        | 2/10 [01:27<05:54, 44.31s/it]"
     ]
    },
    {
     "name": "stdout",
     "output_type": "stream",
     "text": [
      "✅ BATCH 2 / 10 DONE for Educational Worksheet\n"
     ]
    },
    {
     "name": "stderr",
     "output_type": "stream",
     "text": [
      "Glass is an amorphous solid.... | Educational Worksheet:  30%|███       | 3/10 [01:59<04:30, 38.62s/it]"
     ]
    },
    {
     "name": "stdout",
     "output_type": "stream",
     "text": [
      "✅ BATCH 3 / 10 DONE for Educational Worksheet\n"
     ]
    },
    {
     "name": "stderr",
     "output_type": "stream",
     "text": [
      "Glass is an amorphous solid.... | Educational Worksheet:  40%|████      | 4/10 [02:40<03:58, 39.67s/it]"
     ]
    },
    {
     "name": "stdout",
     "output_type": "stream",
     "text": [
      "✅ BATCH 4 / 10 DONE for Educational Worksheet\n"
     ]
    },
    {
     "name": "stderr",
     "output_type": "stream",
     "text": [
      "Glass is an amorphous solid.... | Educational Worksheet:  50%|█████     | 5/10 [03:16<03:11, 38.20s/it]"
     ]
    },
    {
     "name": "stdout",
     "output_type": "stream",
     "text": [
      "✅ BATCH 5 / 10 DONE for Educational Worksheet\n"
     ]
    },
    {
     "name": "stderr",
     "output_type": "stream",
     "text": [
      "Glass is an amorphous solid.... | Educational Worksheet:  60%|██████    | 6/10 [03:43<02:17, 34.32s/it]"
     ]
    },
    {
     "name": "stdout",
     "output_type": "stream",
     "text": [
      "✅ BATCH 6 / 10 DONE for Educational Worksheet\n"
     ]
    },
    {
     "name": "stderr",
     "output_type": "stream",
     "text": [
      "Glass is an amorphous solid.... | Educational Worksheet:  70%|███████   | 7/10 [04:42<02:07, 42.37s/it]"
     ]
    },
    {
     "name": "stdout",
     "output_type": "stream",
     "text": [
      "✅ BATCH 7 / 10 DONE for Educational Worksheet\n"
     ]
    },
    {
     "name": "stderr",
     "output_type": "stream",
     "text": [
      "Glass is an amorphous solid.... | Educational Worksheet:  80%|████████  | 8/10 [05:13<01:17, 38.80s/it]"
     ]
    },
    {
     "name": "stdout",
     "output_type": "stream",
     "text": [
      "✅ BATCH 8 / 10 DONE for Educational Worksheet\n"
     ]
    },
    {
     "name": "stderr",
     "output_type": "stream",
     "text": [
      "Glass is an amorphous solid.... | Educational Worksheet:  90%|█████████ | 9/10 [05:59<00:41, 41.06s/it]"
     ]
    },
    {
     "name": "stdout",
     "output_type": "stream",
     "text": [
      "✅ BATCH 9 / 10 DONE for Educational Worksheet\n"
     ]
    },
    {
     "name": "stderr",
     "output_type": "stream",
     "text": [
      "Glass is an amorphous solid.... | Educational Worksheet: 100%|██████████| 10/10 [06:42<00:00, 40.21s/it]\n"
     ]
    },
    {
     "name": "stdout",
     "output_type": "stream",
     "text": [
      "✅ BATCH 10 / 10 DONE for Educational Worksheet\n"
     ]
    },
    {
     "name": "stderr",
     "output_type": "stream",
     "text": [
      "Glass is an amorphous solid.... | Museum Exhibit Label:  10%|█         | 1/10 [00:20<03:05, 20.62s/it]"
     ]
    },
    {
     "name": "stdout",
     "output_type": "stream",
     "text": [
      "✅ BATCH 1 / 10 DONE for Museum Exhibit Label\n"
     ]
    },
    {
     "name": "stderr",
     "output_type": "stream",
     "text": [
      "Glass is an amorphous solid.... | Museum Exhibit Label:  20%|██        | 2/10 [00:40<02:43, 20.46s/it]"
     ]
    },
    {
     "name": "stdout",
     "output_type": "stream",
     "text": [
      "✅ BATCH 2 / 10 DONE for Museum Exhibit Label\n"
     ]
    },
    {
     "name": "stderr",
     "output_type": "stream",
     "text": [
      "Glass is an amorphous solid.... | Museum Exhibit Label:  30%|███       | 3/10 [01:02<02:26, 20.88s/it]"
     ]
    },
    {
     "name": "stdout",
     "output_type": "stream",
     "text": [
      "✅ BATCH 3 / 10 DONE for Museum Exhibit Label\n"
     ]
    },
    {
     "name": "stderr",
     "output_type": "stream",
     "text": [
      "Glass is an amorphous solid.... | Museum Exhibit Label:  40%|████      | 4/10 [01:14<01:45, 17.57s/it]"
     ]
    },
    {
     "name": "stdout",
     "output_type": "stream",
     "text": [
      "✅ BATCH 4 / 10 DONE for Museum Exhibit Label\n"
     ]
    },
    {
     "name": "stderr",
     "output_type": "stream",
     "text": [
      "Glass is an amorphous solid.... | Museum Exhibit Label:  50%|█████     | 5/10 [01:35<01:32, 18.55s/it]"
     ]
    },
    {
     "name": "stdout",
     "output_type": "stream",
     "text": [
      "✅ BATCH 5 / 10 DONE for Museum Exhibit Label\n"
     ]
    },
    {
     "name": "stderr",
     "output_type": "stream",
     "text": [
      "Glass is an amorphous solid.... | Museum Exhibit Label:  60%|██████    | 6/10 [01:53<01:14, 18.59s/it]"
     ]
    },
    {
     "name": "stdout",
     "output_type": "stream",
     "text": [
      "✅ BATCH 6 / 10 DONE for Museum Exhibit Label\n"
     ]
    },
    {
     "name": "stderr",
     "output_type": "stream",
     "text": [
      "Glass is an amorphous solid.... | Museum Exhibit Label:  70%|███████   | 7/10 [02:07<00:51, 17.00s/it]"
     ]
    },
    {
     "name": "stdout",
     "output_type": "stream",
     "text": [
      "✅ BATCH 7 / 10 DONE for Museum Exhibit Label\n"
     ]
    },
    {
     "name": "stderr",
     "output_type": "stream",
     "text": [
      "Glass is an amorphous solid.... | Museum Exhibit Label:  80%|████████  | 8/10 [02:25<00:34, 17.28s/it]"
     ]
    },
    {
     "name": "stdout",
     "output_type": "stream",
     "text": [
      "✅ BATCH 8 / 10 DONE for Museum Exhibit Label\n"
     ]
    },
    {
     "name": "stderr",
     "output_type": "stream",
     "text": [
      "Glass is an amorphous solid.... | Museum Exhibit Label:  90%|█████████ | 9/10 [02:47<00:18, 18.71s/it]"
     ]
    },
    {
     "name": "stdout",
     "output_type": "stream",
     "text": [
      "✅ BATCH 9 / 10 DONE for Museum Exhibit Label\n"
     ]
    },
    {
     "name": "stderr",
     "output_type": "stream",
     "text": [
      "Glass is an amorphous solid.... | Museum Exhibit Label: 100%|██████████| 10/10 [03:01<00:00, 18.11s/it]\n"
     ]
    },
    {
     "name": "stdout",
     "output_type": "stream",
     "text": [
      "✅ BATCH 10 / 10 DONE for Museum Exhibit Label\n"
     ]
    },
    {
     "name": "stderr",
     "output_type": "stream",
     "text": [
      "Glass is an amorphous solid.... | Materials Science Report:  10%|█         | 1/10 [00:42<06:22, 42.53s/it]"
     ]
    },
    {
     "name": "stdout",
     "output_type": "stream",
     "text": [
      "✅ BATCH 1 / 10 DONE for Materials Science Report\n"
     ]
    },
    {
     "name": "stderr",
     "output_type": "stream",
     "text": [
      "Glass is an amorphous solid.... | Materials Science Report:  20%|██        | 2/10 [01:57<08:11, 61.41s/it]"
     ]
    },
    {
     "name": "stdout",
     "output_type": "stream",
     "text": [
      "✅ BATCH 2 / 10 DONE for Materials Science Report\n"
     ]
    },
    {
     "name": "stderr",
     "output_type": "stream",
     "text": [
      "Glass is an amorphous solid.... | Materials Science Report:  30%|███       | 3/10 [02:35<05:54, 50.66s/it]"
     ]
    },
    {
     "name": "stdout",
     "output_type": "stream",
     "text": [
      "✅ BATCH 3 / 10 DONE for Materials Science Report\n"
     ]
    },
    {
     "name": "stderr",
     "output_type": "stream",
     "text": [
      "Glass is an amorphous solid.... | Materials Science Report:  40%|████      | 4/10 [03:13<04:34, 45.81s/it]"
     ]
    },
    {
     "name": "stdout",
     "output_type": "stream",
     "text": [
      "✅ BATCH 4 / 10 DONE for Materials Science Report\n"
     ]
    },
    {
     "name": "stderr",
     "output_type": "stream",
     "text": [
      "Glass is an amorphous solid.... | Materials Science Report:  50%|█████     | 5/10 [03:43<03:20, 40.19s/it]"
     ]
    },
    {
     "name": "stdout",
     "output_type": "stream",
     "text": [
      "✅ BATCH 5 / 10 DONE for Materials Science Report\n"
     ]
    },
    {
     "name": "stderr",
     "output_type": "stream",
     "text": [
      "Glass is an amorphous solid.... | Materials Science Report:  60%|██████    | 6/10 [04:22<02:39, 39.88s/it]"
     ]
    },
    {
     "name": "stdout",
     "output_type": "stream",
     "text": [
      "✅ BATCH 6 / 10 DONE for Materials Science Report\n"
     ]
    },
    {
     "name": "stderr",
     "output_type": "stream",
     "text": [
      "Glass is an amorphous solid.... | Materials Science Report:  70%|███████   | 7/10 [04:59<01:56, 38.69s/it]"
     ]
    },
    {
     "name": "stdout",
     "output_type": "stream",
     "text": [
      "✅ BATCH 7 / 10 DONE for Materials Science Report\n"
     ]
    },
    {
     "name": "stderr",
     "output_type": "stream",
     "text": [
      "Glass is an amorphous solid.... | Materials Science Report:  80%|████████  | 8/10 [05:38<01:17, 38.75s/it]"
     ]
    },
    {
     "name": "stdout",
     "output_type": "stream",
     "text": [
      "✅ BATCH 8 / 10 DONE for Materials Science Report\n"
     ]
    },
    {
     "name": "stderr",
     "output_type": "stream",
     "text": [
      "Glass is an amorphous solid.... | Materials Science Report:  90%|█████████ | 9/10 [06:24<00:41, 41.23s/it]"
     ]
    },
    {
     "name": "stdout",
     "output_type": "stream",
     "text": [
      "✅ BATCH 9 / 10 DONE for Materials Science Report\n"
     ]
    },
    {
     "name": "stderr",
     "output_type": "stream",
     "text": [
      "Glass is an amorphous solid.... | Materials Science Report: 100%|██████████| 10/10 [06:58<00:00, 41.86s/it]\n"
     ]
    },
    {
     "name": "stdout",
     "output_type": "stream",
     "text": [
      "✅ BATCH 10 / 10 DONE for Materials Science Report\n"
     ]
    },
    {
     "name": "stderr",
     "output_type": "stream",
     "text": [
      "Glass is an amorphous solid.... | University Lecture Notes:  10%|█         | 1/10 [00:42<06:21, 42.35s/it]"
     ]
    },
    {
     "name": "stdout",
     "output_type": "stream",
     "text": [
      "✅ BATCH 1 / 10 DONE for University Lecture Notes\n"
     ]
    },
    {
     "name": "stderr",
     "output_type": "stream",
     "text": [
      "Glass is an amorphous solid.... | University Lecture Notes:  20%|██        | 2/10 [01:14<04:52, 36.53s/it]"
     ]
    },
    {
     "name": "stdout",
     "output_type": "stream",
     "text": [
      "✅ BATCH 2 / 10 DONE for University Lecture Notes\n"
     ]
    },
    {
     "name": "stderr",
     "output_type": "stream",
     "text": [
      "Glass is an amorphous solid.... | University Lecture Notes:  30%|███       | 3/10 [01:57<04:34, 39.19s/it]"
     ]
    },
    {
     "name": "stdout",
     "output_type": "stream",
     "text": [
      "✅ BATCH 3 / 10 DONE for University Lecture Notes\n"
     ]
    },
    {
     "name": "stderr",
     "output_type": "stream",
     "text": [
      "Glass is an amorphous solid.... | University Lecture Notes:  40%|████      | 4/10 [02:30<03:42, 37.04s/it]"
     ]
    },
    {
     "name": "stdout",
     "output_type": "stream",
     "text": [
      "✅ BATCH 4 / 10 DONE for University Lecture Notes\n"
     ]
    },
    {
     "name": "stderr",
     "output_type": "stream",
     "text": [
      "Glass is an amorphous solid.... | University Lecture Notes:  50%|█████     | 5/10 [03:17<03:22, 40.49s/it]"
     ]
    },
    {
     "name": "stdout",
     "output_type": "stream",
     "text": [
      "✅ BATCH 5 / 10 DONE for University Lecture Notes\n"
     ]
    },
    {
     "name": "stderr",
     "output_type": "stream",
     "text": [
      "Glass is an amorphous solid.... | University Lecture Notes:  60%|██████    | 6/10 [03:48<02:28, 37.17s/it]"
     ]
    },
    {
     "name": "stdout",
     "output_type": "stream",
     "text": [
      "✅ BATCH 6 / 10 DONE for University Lecture Notes\n"
     ]
    },
    {
     "name": "stderr",
     "output_type": "stream",
     "text": [
      "Glass is an amorphous solid.... | University Lecture Notes:  70%|███████   | 7/10 [04:28<01:54, 38.02s/it]"
     ]
    },
    {
     "name": "stdout",
     "output_type": "stream",
     "text": [
      "✅ BATCH 7 / 10 DONE for University Lecture Notes\n"
     ]
    },
    {
     "name": "stderr",
     "output_type": "stream",
     "text": [
      "Glass is an amorphous solid.... | University Lecture Notes:  80%|████████  | 8/10 [04:58<01:11, 35.63s/it]"
     ]
    },
    {
     "name": "stdout",
     "output_type": "stream",
     "text": [
      "✅ BATCH 8 / 10 DONE for University Lecture Notes\n"
     ]
    },
    {
     "name": "stderr",
     "output_type": "stream",
     "text": [
      "Glass is an amorphous solid.... | University Lecture Notes:  90%|█████████ | 9/10 [05:37<00:36, 36.56s/it]"
     ]
    },
    {
     "name": "stdout",
     "output_type": "stream",
     "text": [
      "✅ BATCH 9 / 10 DONE for University Lecture Notes\n"
     ]
    },
    {
     "name": "stderr",
     "output_type": "stream",
     "text": [
      "Glass is an amorphous solid.... | University Lecture Notes: 100%|██████████| 10/10 [06:10<00:00, 37.05s/it]\n"
     ]
    },
    {
     "name": "stdout",
     "output_type": "stream",
     "text": [
      "✅ BATCH 10 / 10 DONE for University Lecture Notes\n"
     ]
    },
    {
     "name": "stderr",
     "output_type": "stream",
     "text": [
      "Glass is an amorphous solid.... | Encyclopedia Entry:  10%|█         | 1/10 [00:37<05:40, 37.83s/it]"
     ]
    },
    {
     "name": "stdout",
     "output_type": "stream",
     "text": [
      "✅ BATCH 1 / 10 DONE for Encyclopedia Entry\n"
     ]
    },
    {
     "name": "stderr",
     "output_type": "stream",
     "text": [
      "Glass is an amorphous solid.... | Encyclopedia Entry:  20%|██        | 2/10 [01:18<05:16, 39.60s/it]"
     ]
    },
    {
     "name": "stdout",
     "output_type": "stream",
     "text": [
      "✅ BATCH 2 / 10 DONE for Encyclopedia Entry\n"
     ]
    },
    {
     "name": "stderr",
     "output_type": "stream",
     "text": [
      "Glass is an amorphous solid.... | Encyclopedia Entry:  30%|███       | 3/10 [01:49<04:10, 35.74s/it]"
     ]
    },
    {
     "name": "stdout",
     "output_type": "stream",
     "text": [
      "✅ BATCH 3 / 10 DONE for Encyclopedia Entry\n"
     ]
    },
    {
     "name": "stderr",
     "output_type": "stream",
     "text": [
      "Glass is an amorphous solid.... | Encyclopedia Entry:  40%|████      | 4/10 [02:20<03:23, 33.83s/it]"
     ]
    },
    {
     "name": "stdout",
     "output_type": "stream",
     "text": [
      "✅ BATCH 4 / 10 DONE for Encyclopedia Entry\n"
     ]
    },
    {
     "name": "stderr",
     "output_type": "stream",
     "text": [
      "Glass is an amorphous solid.... | Encyclopedia Entry:  50%|█████     | 5/10 [02:50<02:41, 32.36s/it]"
     ]
    },
    {
     "name": "stdout",
     "output_type": "stream",
     "text": [
      "✅ BATCH 5 / 10 DONE for Encyclopedia Entry\n"
     ]
    },
    {
     "name": "stderr",
     "output_type": "stream",
     "text": [
      "Glass is an amorphous solid.... | Encyclopedia Entry:  60%|██████    | 6/10 [03:16<02:00, 30.21s/it]"
     ]
    },
    {
     "name": "stdout",
     "output_type": "stream",
     "text": [
      "✅ BATCH 6 / 10 DONE for Encyclopedia Entry\n"
     ]
    },
    {
     "name": "stderr",
     "output_type": "stream",
     "text": [
      "Glass is an amorphous solid.... | Encyclopedia Entry:  70%|███████   | 7/10 [03:59<01:42, 34.28s/it]"
     ]
    },
    {
     "name": "stdout",
     "output_type": "stream",
     "text": [
      "✅ BATCH 7 / 10 DONE for Encyclopedia Entry\n"
     ]
    },
    {
     "name": "stderr",
     "output_type": "stream",
     "text": [
      "Glass is an amorphous solid.... | Encyclopedia Entry:  80%|████████  | 8/10 [04:42<01:14, 37.03s/it]"
     ]
    },
    {
     "name": "stdout",
     "output_type": "stream",
     "text": [
      "✅ BATCH 8 / 10 DONE for Encyclopedia Entry\n"
     ]
    },
    {
     "name": "stderr",
     "output_type": "stream",
     "text": [
      "Glass is an amorphous solid.... | Encyclopedia Entry:  90%|█████████ | 9/10 [05:20<00:37, 37.36s/it]"
     ]
    },
    {
     "name": "stdout",
     "output_type": "stream",
     "text": [
      "✅ BATCH 9 / 10 DONE for Encyclopedia Entry\n"
     ]
    },
    {
     "name": "stderr",
     "output_type": "stream",
     "text": [
      "Glass is an amorphous solid.... | Encyclopedia Entry: 100%|██████████| 10/10 [05:52<00:00, 35.29s/it]\n"
     ]
    },
    {
     "name": "stdout",
     "output_type": "stream",
     "text": [
      "✅ BATCH 10 / 10 DONE for Encyclopedia Entry\n"
     ]
    },
    {
     "name": "stderr",
     "output_type": "stream",
     "text": [
      "Glass is an amorphous solid.... | Science Podcast Transcript:  10%|█         | 1/10 [00:38<05:48, 38.76s/it]"
     ]
    },
    {
     "name": "stdout",
     "output_type": "stream",
     "text": [
      "✅ BATCH 1 / 10 DONE for Science Podcast Transcript\n"
     ]
    },
    {
     "name": "stderr",
     "output_type": "stream",
     "text": [
      "Glass is an amorphous solid.... | Science Podcast Transcript:  20%|██        | 2/10 [01:06<04:16, 32.01s/it]"
     ]
    },
    {
     "name": "stdout",
     "output_type": "stream",
     "text": [
      "✅ BATCH 2 / 10 DONE for Science Podcast Transcript\n"
     ]
    },
    {
     "name": "stderr",
     "output_type": "stream",
     "text": [
      "Glass is an amorphous solid.... | Science Podcast Transcript:  30%|███       | 3/10 [01:35<03:36, 30.99s/it]"
     ]
    },
    {
     "name": "stdout",
     "output_type": "stream",
     "text": [
      "✅ BATCH 3 / 10 DONE for Science Podcast Transcript\n"
     ]
    },
    {
     "name": "stderr",
     "output_type": "stream",
     "text": [
      "Glass is an amorphous solid.... | Science Podcast Transcript:  40%|████      | 4/10 [02:13<03:21, 33.67s/it]"
     ]
    },
    {
     "name": "stdout",
     "output_type": "stream",
     "text": [
      "✅ BATCH 4 / 10 DONE for Science Podcast Transcript\n"
     ]
    },
    {
     "name": "stderr",
     "output_type": "stream",
     "text": [
      "Glass is an amorphous solid.... | Science Podcast Transcript:  50%|█████     | 5/10 [02:49<02:51, 34.40s/it]"
     ]
    },
    {
     "name": "stdout",
     "output_type": "stream",
     "text": [
      "✅ BATCH 5 / 10 DONE for Science Podcast Transcript\n"
     ]
    },
    {
     "name": "stderr",
     "output_type": "stream",
     "text": [
      "Glass is an amorphous solid.... | Science Podcast Transcript:  60%|██████    | 6/10 [03:21<02:15, 33.82s/it]"
     ]
    },
    {
     "name": "stdout",
     "output_type": "stream",
     "text": [
      "✅ BATCH 6 / 10 DONE for Science Podcast Transcript\n"
     ]
    },
    {
     "name": "stderr",
     "output_type": "stream",
     "text": [
      "Glass is an amorphous solid.... | Science Podcast Transcript:  70%|███████   | 7/10 [03:51<01:37, 32.46s/it]"
     ]
    },
    {
     "name": "stdout",
     "output_type": "stream",
     "text": [
      "✅ BATCH 7 / 10 DONE for Science Podcast Transcript\n"
     ]
    },
    {
     "name": "stderr",
     "output_type": "stream",
     "text": [
      "Glass is an amorphous solid.... | Science Podcast Transcript:  80%|████████  | 8/10 [04:21<01:03, 31.68s/it]"
     ]
    },
    {
     "name": "stdout",
     "output_type": "stream",
     "text": [
      "✅ BATCH 8 / 10 DONE for Science Podcast Transcript\n"
     ]
    },
    {
     "name": "stderr",
     "output_type": "stream",
     "text": [
      "Glass is an amorphous solid.... | Science Podcast Transcript:  90%|█████████ | 9/10 [05:05<00:35, 35.33s/it]"
     ]
    },
    {
     "name": "stdout",
     "output_type": "stream",
     "text": [
      "✅ BATCH 9 / 10 DONE for Science Podcast Transcript\n"
     ]
    },
    {
     "name": "stderr",
     "output_type": "stream",
     "text": [
      "Glass is an amorphous solid.... | Science Podcast Transcript: 100%|██████████| 10/10 [05:39<00:00, 33.90s/it]\n"
     ]
    },
    {
     "name": "stdout",
     "output_type": "stream",
     "text": [
      "✅ BATCH 10 / 10 DONE for Science Podcast Transcript\n"
     ]
    },
    {
     "name": "stderr",
     "output_type": "stream",
     "text": [
      "Glass is an amorphous solid.... | Popular Science Blog Post:  10%|█         | 1/10 [00:32<04:53, 32.63s/it]"
     ]
    },
    {
     "name": "stdout",
     "output_type": "stream",
     "text": [
      "✅ BATCH 1 / 10 DONE for Popular Science Blog Post\n"
     ]
    },
    {
     "name": "stderr",
     "output_type": "stream",
     "text": [
      "Glass is an amorphous solid.... | Popular Science Blog Post:  20%|██        | 2/10 [00:57<03:43, 27.91s/it]"
     ]
    },
    {
     "name": "stdout",
     "output_type": "stream",
     "text": [
      "✅ BATCH 2 / 10 DONE for Popular Science Blog Post\n"
     ]
    },
    {
     "name": "stderr",
     "output_type": "stream",
     "text": [
      "Glass is an amorphous solid.... | Popular Science Blog Post:  30%|███       | 3/10 [01:35<03:47, 32.55s/it]"
     ]
    },
    {
     "name": "stdout",
     "output_type": "stream",
     "text": [
      "✅ BATCH 3 / 10 DONE for Popular Science Blog Post\n"
     ]
    },
    {
     "name": "stderr",
     "output_type": "stream",
     "text": [
      "Glass is an amorphous solid.... | Popular Science Blog Post:  40%|████      | 4/10 [02:04<03:06, 31.14s/it]"
     ]
    },
    {
     "name": "stdout",
     "output_type": "stream",
     "text": [
      "✅ BATCH 4 / 10 DONE for Popular Science Blog Post\n"
     ]
    },
    {
     "name": "stderr",
     "output_type": "stream",
     "text": [
      "Glass is an amorphous solid.... | Popular Science Blog Post:  50%|█████     | 5/10 [02:32<02:29, 29.96s/it]"
     ]
    },
    {
     "name": "stdout",
     "output_type": "stream",
     "text": [
      "✅ BATCH 5 / 10 DONE for Popular Science Blog Post\n"
     ]
    },
    {
     "name": "stderr",
     "output_type": "stream",
     "text": [
      "Glass is an amorphous solid.... | Popular Science Blog Post:  60%|██████    | 6/10 [03:00<01:58, 29.52s/it]"
     ]
    },
    {
     "name": "stdout",
     "output_type": "stream",
     "text": [
      "✅ BATCH 6 / 10 DONE for Popular Science Blog Post\n"
     ]
    },
    {
     "name": "stderr",
     "output_type": "stream",
     "text": [
      "Glass is an amorphous solid.... | Popular Science Blog Post:  70%|███████   | 7/10 [03:30<01:29, 29.70s/it]"
     ]
    },
    {
     "name": "stdout",
     "output_type": "stream",
     "text": [
      "✅ BATCH 7 / 10 DONE for Popular Science Blog Post\n"
     ]
    },
    {
     "name": "stderr",
     "output_type": "stream",
     "text": [
      "Glass is an amorphous solid.... | Popular Science Blog Post:  80%|████████  | 8/10 [04:12<01:07, 33.63s/it]"
     ]
    },
    {
     "name": "stdout",
     "output_type": "stream",
     "text": [
      "✅ BATCH 8 / 10 DONE for Popular Science Blog Post\n"
     ]
    },
    {
     "name": "stderr",
     "output_type": "stream",
     "text": [
      "Glass is an amorphous solid.... | Popular Science Blog Post:  90%|█████████ | 9/10 [04:45<00:33, 33.36s/it]"
     ]
    },
    {
     "name": "stdout",
     "output_type": "stream",
     "text": [
      "✅ BATCH 9 / 10 DONE for Popular Science Blog Post\n"
     ]
    },
    {
     "name": "stderr",
     "output_type": "stream",
     "text": [
      "Glass is an amorphous solid.... | Popular Science Blog Post: 100%|██████████| 10/10 [05:30<00:00, 33.01s/it]\n"
     ]
    },
    {
     "name": "stdout",
     "output_type": "stream",
     "text": [
      "✅ BATCH 10 / 10 DONE for Popular Science Blog Post\n"
     ]
    },
    {
     "name": "stderr",
     "output_type": "stream",
     "text": [
      "Glass is an amorphous solid.... | High School Exam Question:  10%|█         | 1/10 [00:36<05:29, 36.61s/it]"
     ]
    },
    {
     "name": "stdout",
     "output_type": "stream",
     "text": [
      "✅ BATCH 1 / 10 DONE for High School Exam Question\n"
     ]
    },
    {
     "name": "stderr",
     "output_type": "stream",
     "text": [
      "Glass is an amorphous solid.... | High School Exam Question:  20%|██        | 2/10 [01:04<04:14, 31.77s/it]"
     ]
    },
    {
     "name": "stdout",
     "output_type": "stream",
     "text": [
      "✅ BATCH 2 / 10 DONE for High School Exam Question\n"
     ]
    },
    {
     "name": "stderr",
     "output_type": "stream",
     "text": [
      "Glass is an amorphous solid.... | High School Exam Question:  30%|███       | 3/10 [01:31<03:24, 29.15s/it]"
     ]
    },
    {
     "name": "stdout",
     "output_type": "stream",
     "text": [
      "✅ BATCH 3 / 10 DONE for High School Exam Question\n"
     ]
    },
    {
     "name": "stderr",
     "output_type": "stream",
     "text": [
      "Glass is an amorphous solid.... | High School Exam Question:  40%|████      | 4/10 [02:14<03:28, 34.71s/it]"
     ]
    },
    {
     "name": "stdout",
     "output_type": "stream",
     "text": [
      "✅ BATCH 4 / 10 DONE for High School Exam Question\n"
     ]
    },
    {
     "name": "stderr",
     "output_type": "stream",
     "text": [
      "Glass is an amorphous solid.... | High School Exam Question:  50%|█████     | 5/10 [02:41<02:39, 31.94s/it]"
     ]
    },
    {
     "name": "stdout",
     "output_type": "stream",
     "text": [
      "✅ BATCH 5 / 10 DONE for High School Exam Question\n"
     ]
    },
    {
     "name": "stderr",
     "output_type": "stream",
     "text": [
      "Glass is an amorphous solid.... | High School Exam Question:  60%|██████    | 6/10 [03:07<02:00, 30.04s/it]"
     ]
    },
    {
     "name": "stdout",
     "output_type": "stream",
     "text": [
      "✅ BATCH 6 / 10 DONE for High School Exam Question\n"
     ]
    },
    {
     "name": "stderr",
     "output_type": "stream",
     "text": [
      "Glass is an amorphous solid.... | High School Exam Question:  70%|███████   | 7/10 [04:04<01:55, 38.65s/it]"
     ]
    },
    {
     "name": "stdout",
     "output_type": "stream",
     "text": [
      "✅ BATCH 7 / 10 DONE for High School Exam Question\n"
     ]
    },
    {
     "name": "stderr",
     "output_type": "stream",
     "text": [
      "Glass is an amorphous solid.... | High School Exam Question:  80%|████████  | 8/10 [05:22<01:42, 51.31s/it]"
     ]
    },
    {
     "name": "stdout",
     "output_type": "stream",
     "text": [
      "✅ BATCH 8 / 10 DONE for High School Exam Question\n"
     ]
    },
    {
     "name": "stderr",
     "output_type": "stream",
     "text": [
      "Glass is an amorphous solid.... | High School Exam Question:  90%|█████████ | 9/10 [05:52<00:44, 44.79s/it]"
     ]
    },
    {
     "name": "stdout",
     "output_type": "stream",
     "text": [
      "✅ BATCH 9 / 10 DONE for High School Exam Question\n"
     ]
    },
    {
     "name": "stderr",
     "output_type": "stream",
     "text": [
      "Glass is an amorphous solid.... | High School Exam Question: 100%|██████████| 10/10 [06:28<00:00, 38.86s/it]\n"
     ]
    },
    {
     "name": "stdout",
     "output_type": "stream",
     "text": [
      "✅ BATCH 10 / 10 DONE for High School Exam Question\n"
     ]
    },
    {
     "name": "stderr",
     "output_type": "stream",
     "text": [
      "Glass is an amorphous solid.... | Technical Data Sheet:  10%|█         | 1/10 [00:46<06:57, 46.35s/it]"
     ]
    },
    {
     "name": "stdout",
     "output_type": "stream",
     "text": [
      "✅ BATCH 1 / 10 DONE for Technical Data Sheet\n"
     ]
    },
    {
     "name": "stderr",
     "output_type": "stream",
     "text": [
      "Glass is an amorphous solid.... | Technical Data Sheet:  20%|██        | 2/10 [01:43<07:01, 52.63s/it]"
     ]
    },
    {
     "name": "stdout",
     "output_type": "stream",
     "text": [
      "✅ BATCH 2 / 10 DONE for Technical Data Sheet\n"
     ]
    },
    {
     "name": "stderr",
     "output_type": "stream",
     "text": [
      "Glass is an amorphous solid.... | Technical Data Sheet:  30%|███       | 3/10 [02:16<05:07, 43.89s/it]"
     ]
    },
    {
     "name": "stdout",
     "output_type": "stream",
     "text": [
      "✅ BATCH 3 / 10 DONE for Technical Data Sheet\n"
     ]
    },
    {
     "name": "stderr",
     "output_type": "stream",
     "text": [
      "Glass is an amorphous solid.... | Technical Data Sheet:  40%|████      | 4/10 [03:16<05:01, 50.24s/it]"
     ]
    },
    {
     "name": "stdout",
     "output_type": "stream",
     "text": [
      "✅ BATCH 4 / 10 DONE for Technical Data Sheet\n"
     ]
    },
    {
     "name": "stderr",
     "output_type": "stream",
     "text": [
      "Glass is an amorphous solid.... | Technical Data Sheet:  50%|█████     | 5/10 [03:54<03:48, 45.78s/it]"
     ]
    },
    {
     "name": "stdout",
     "output_type": "stream",
     "text": [
      "✅ BATCH 5 / 10 DONE for Technical Data Sheet\n"
     ]
    },
    {
     "name": "stderr",
     "output_type": "stream",
     "text": [
      "Glass is an amorphous solid.... | Technical Data Sheet:  60%|██████    | 6/10 [04:35<02:56, 44.22s/it]"
     ]
    },
    {
     "name": "stdout",
     "output_type": "stream",
     "text": [
      "✅ BATCH 6 / 10 DONE for Technical Data Sheet\n"
     ]
    },
    {
     "name": "stderr",
     "output_type": "stream",
     "text": [
      "Glass is an amorphous solid.... | Technical Data Sheet:  70%|███████   | 7/10 [05:13<02:06, 42.14s/it]"
     ]
    },
    {
     "name": "stdout",
     "output_type": "stream",
     "text": [
      "✅ BATCH 7 / 10 DONE for Technical Data Sheet\n"
     ]
    },
    {
     "name": "stderr",
     "output_type": "stream",
     "text": [
      "Glass is an amorphous solid.... | Technical Data Sheet:  80%|████████  | 8/10 [06:17<01:38, 49.12s/it]"
     ]
    },
    {
     "name": "stdout",
     "output_type": "stream",
     "text": [
      "✅ BATCH 8 / 10 DONE for Technical Data Sheet\n"
     ]
    },
    {
     "name": "stderr",
     "output_type": "stream",
     "text": [
      "Glass is an amorphous solid.... | Technical Data Sheet:  90%|█████████ | 9/10 [07:05<00:48, 48.69s/it]"
     ]
    },
    {
     "name": "stdout",
     "output_type": "stream",
     "text": [
      "✅ BATCH 9 / 10 DONE for Technical Data Sheet\n"
     ]
    },
    {
     "name": "stderr",
     "output_type": "stream",
     "text": [
      "Glass is an amorphous solid.... | Technical Data Sheet: 100%|██████████| 10/10 [07:49<00:00, 46.91s/it]\n"
     ]
    },
    {
     "name": "stdout",
     "output_type": "stream",
     "text": [
      "✅ BATCH 10 / 10 DONE for Technical Data Sheet\n"
     ]
    },
    {
     "name": "stderr",
     "output_type": "stream",
     "text": [
      "Glass is an amorphous solid.... | Glass Manufacturing Manual:  10%|█         | 1/10 [00:43<06:33, 43.72s/it]"
     ]
    },
    {
     "name": "stdout",
     "output_type": "stream",
     "text": [
      "✅ BATCH 1 / 10 DONE for Glass Manufacturing Manual\n"
     ]
    },
    {
     "name": "stderr",
     "output_type": "stream",
     "text": [
      "Glass is an amorphous solid.... | Glass Manufacturing Manual:  20%|██        | 2/10 [01:12<04:40, 35.00s/it]"
     ]
    },
    {
     "name": "stdout",
     "output_type": "stream",
     "text": [
      "✅ BATCH 2 / 10 DONE for Glass Manufacturing Manual\n"
     ]
    },
    {
     "name": "stderr",
     "output_type": "stream",
     "text": [
      "Glass is an amorphous solid.... | Glass Manufacturing Manual:  30%|███       | 3/10 [01:49<04:10, 35.83s/it]"
     ]
    },
    {
     "name": "stdout",
     "output_type": "stream",
     "text": [
      "✅ BATCH 3 / 10 DONE for Glass Manufacturing Manual\n"
     ]
    },
    {
     "name": "stderr",
     "output_type": "stream",
     "text": [
      "Glass is an amorphous solid.... | Glass Manufacturing Manual:  40%|████      | 4/10 [02:22<03:29, 34.87s/it]"
     ]
    },
    {
     "name": "stdout",
     "output_type": "stream",
     "text": [
      "✅ BATCH 4 / 10 DONE for Glass Manufacturing Manual\n"
     ]
    },
    {
     "name": "stderr",
     "output_type": "stream",
     "text": [
      "Glass is an amorphous solid.... | Glass Manufacturing Manual:  50%|█████     | 5/10 [02:58<02:55, 35.03s/it]"
     ]
    },
    {
     "name": "stdout",
     "output_type": "stream",
     "text": [
      "✅ BATCH 5 / 10 DONE for Glass Manufacturing Manual\n"
     ]
    },
    {
     "name": "stderr",
     "output_type": "stream",
     "text": [
      "Glass is an amorphous solid.... | Glass Manufacturing Manual:  60%|██████    | 6/10 [03:37<02:25, 36.46s/it]"
     ]
    },
    {
     "name": "stdout",
     "output_type": "stream",
     "text": [
      "✅ BATCH 6 / 10 DONE for Glass Manufacturing Manual\n"
     ]
    },
    {
     "name": "stderr",
     "output_type": "stream",
     "text": [
      "Glass is an amorphous solid.... | Glass Manufacturing Manual:  70%|███████   | 7/10 [04:12<01:47, 35.94s/it]"
     ]
    },
    {
     "name": "stdout",
     "output_type": "stream",
     "text": [
      "✅ BATCH 7 / 10 DONE for Glass Manufacturing Manual\n"
     ]
    },
    {
     "name": "stderr",
     "output_type": "stream",
     "text": [
      "Glass is an amorphous solid.... | Glass Manufacturing Manual:  80%|████████  | 8/10 [04:48<01:12, 36.14s/it]"
     ]
    },
    {
     "name": "stdout",
     "output_type": "stream",
     "text": [
      "✅ BATCH 8 / 10 DONE for Glass Manufacturing Manual\n"
     ]
    },
    {
     "name": "stderr",
     "output_type": "stream",
     "text": [
      "Glass is an amorphous solid.... | Glass Manufacturing Manual:  90%|█████████ | 9/10 [05:21<00:35, 35.13s/it]"
     ]
    },
    {
     "name": "stdout",
     "output_type": "stream",
     "text": [
      "✅ BATCH 9 / 10 DONE for Glass Manufacturing Manual\n"
     ]
    },
    {
     "name": "stderr",
     "output_type": "stream",
     "text": [
      "Glass is an amorphous solid.... | Glass Manufacturing Manual: 100%|██████████| 10/10 [05:57<00:00, 35.72s/it]\n"
     ]
    },
    {
     "name": "stdout",
     "output_type": "stream",
     "text": [
      "✅ BATCH 10 / 10 DONE for Glass Manufacturing Manual\n"
     ]
    },
    {
     "name": "stderr",
     "output_type": "stream",
     "text": [
      "Glass is an amorphous solid.... | Physics Conference Proceedings:  10%|█         | 1/10 [00:35<05:23, 35.90s/it]"
     ]
    },
    {
     "name": "stdout",
     "output_type": "stream",
     "text": [
      "✅ BATCH 1 / 10 DONE for Physics Conference Proceedings\n"
     ]
    },
    {
     "name": "stderr",
     "output_type": "stream",
     "text": [
      "Glass is an amorphous solid.... | Physics Conference Proceedings:  20%|██        | 2/10 [00:56<03:33, 26.65s/it]"
     ]
    },
    {
     "name": "stdout",
     "output_type": "stream",
     "text": [
      "✅ BATCH 2 / 10 DONE for Physics Conference Proceedings\n"
     ]
    },
    {
     "name": "stderr",
     "output_type": "stream",
     "text": [
      "Glass is an amorphous solid.... | Physics Conference Proceedings:  30%|███       | 3/10 [01:28<03:24, 29.22s/it]"
     ]
    },
    {
     "name": "stdout",
     "output_type": "stream",
     "text": [
      "✅ BATCH 3 / 10 DONE for Physics Conference Proceedings\n"
     ]
    },
    {
     "name": "stderr",
     "output_type": "stream",
     "text": [
      "Glass is an amorphous solid.... | Physics Conference Proceedings:  40%|████      | 4/10 [02:16<03:39, 36.63s/it]"
     ]
    },
    {
     "name": "stdout",
     "output_type": "stream",
     "text": [
      "✅ BATCH 4 / 10 DONE for Physics Conference Proceedings\n"
     ]
    },
    {
     "name": "stderr",
     "output_type": "stream",
     "text": [
      "Glass is an amorphous solid.... | Physics Conference Proceedings:  50%|█████     | 5/10 [03:02<03:20, 40.15s/it]"
     ]
    },
    {
     "name": "stdout",
     "output_type": "stream",
     "text": [
      "✅ BATCH 5 / 10 DONE for Physics Conference Proceedings\n"
     ]
    },
    {
     "name": "stderr",
     "output_type": "stream",
     "text": [
      "Glass is an amorphous solid.... | Physics Conference Proceedings:  60%|██████    | 6/10 [03:36<02:31, 37.97s/it]"
     ]
    },
    {
     "name": "stdout",
     "output_type": "stream",
     "text": [
      "✅ BATCH 6 / 10 DONE for Physics Conference Proceedings\n"
     ]
    },
    {
     "name": "stderr",
     "output_type": "stream",
     "text": [
      "Glass is an amorphous solid.... | Physics Conference Proceedings:  70%|███████   | 7/10 [04:13<01:52, 37.56s/it]"
     ]
    },
    {
     "name": "stdout",
     "output_type": "stream",
     "text": [
      "✅ BATCH 7 / 10 DONE for Physics Conference Proceedings\n"
     ]
    },
    {
     "name": "stderr",
     "output_type": "stream",
     "text": [
      "Glass is an amorphous solid.... | Physics Conference Proceedings:  80%|████████  | 8/10 [04:57<01:19, 39.56s/it]"
     ]
    },
    {
     "name": "stdout",
     "output_type": "stream",
     "text": [
      "✅ BATCH 8 / 10 DONE for Physics Conference Proceedings\n"
     ]
    },
    {
     "name": "stderr",
     "output_type": "stream",
     "text": [
      "Glass is an amorphous solid.... | Physics Conference Proceedings:  90%|█████████ | 9/10 [05:23<00:35, 35.50s/it]"
     ]
    },
    {
     "name": "stdout",
     "output_type": "stream",
     "text": [
      "✅ BATCH 9 / 10 DONE for Physics Conference Proceedings\n"
     ]
    },
    {
     "name": "stderr",
     "output_type": "stream",
     "text": [
      "Glass is an amorphous solid.... | Physics Conference Proceedings: 100%|██████████| 10/10 [05:54<00:00, 35.43s/it]\n"
     ]
    },
    {
     "name": "stdout",
     "output_type": "stream",
     "text": [
      "✅ BATCH 10 / 10 DONE for Physics Conference Proceedings\n"
     ]
    },
    {
     "name": "stderr",
     "output_type": "stream",
     "text": [
      "Glass is an amorphous solid.... | Science Documentary Script:  10%|█         | 1/10 [00:31<04:44, 31.58s/it]"
     ]
    },
    {
     "name": "stdout",
     "output_type": "stream",
     "text": [
      "✅ BATCH 1 / 10 DONE for Science Documentary Script\n"
     ]
    },
    {
     "name": "stderr",
     "output_type": "stream",
     "text": [
      "Glass is an amorphous solid.... | Science Documentary Script:  20%|██        | 2/10 [01:08<04:37, 34.64s/it]"
     ]
    },
    {
     "name": "stdout",
     "output_type": "stream",
     "text": [
      "✅ BATCH 2 / 10 DONE for Science Documentary Script\n"
     ]
    },
    {
     "name": "stderr",
     "output_type": "stream",
     "text": [
      "Glass is an amorphous solid.... | Science Documentary Script:  30%|███       | 3/10 [01:41<03:56, 33.80s/it]"
     ]
    },
    {
     "name": "stdout",
     "output_type": "stream",
     "text": [
      "✅ BATCH 3 / 10 DONE for Science Documentary Script\n"
     ]
    },
    {
     "name": "stderr",
     "output_type": "stream",
     "text": [
      "Glass is an amorphous solid.... | Science Documentary Script:  40%|████      | 4/10 [02:16<03:26, 34.45s/it]"
     ]
    },
    {
     "name": "stdout",
     "output_type": "stream",
     "text": [
      "✅ BATCH 4 / 10 DONE for Science Documentary Script\n"
     ]
    },
    {
     "name": "stderr",
     "output_type": "stream",
     "text": [
      "Glass is an amorphous solid.... | Science Documentary Script:  50%|█████     | 5/10 [02:59<03:08, 37.67s/it]"
     ]
    },
    {
     "name": "stdout",
     "output_type": "stream",
     "text": [
      "✅ BATCH 5 / 10 DONE for Science Documentary Script\n"
     ]
    },
    {
     "name": "stderr",
     "output_type": "stream",
     "text": [
      "Glass is an amorphous solid.... | Science Documentary Script:  60%|██████    | 6/10 [03:44<02:39, 39.95s/it]"
     ]
    },
    {
     "name": "stdout",
     "output_type": "stream",
     "text": [
      "✅ BATCH 6 / 10 DONE for Science Documentary Script\n"
     ]
    },
    {
     "name": "stderr",
     "output_type": "stream",
     "text": [
      "Glass is an amorphous solid.... | Science Documentary Script:  70%|███████   | 7/10 [04:20<01:56, 38.73s/it]"
     ]
    },
    {
     "name": "stdout",
     "output_type": "stream",
     "text": [
      "✅ BATCH 7 / 10 DONE for Science Documentary Script\n"
     ]
    },
    {
     "name": "stderr",
     "output_type": "stream",
     "text": [
      "Glass is an amorphous solid.... | Science Documentary Script:  80%|████████  | 8/10 [04:55<01:15, 37.65s/it]"
     ]
    },
    {
     "name": "stdout",
     "output_type": "stream",
     "text": [
      "✅ BATCH 8 / 10 DONE for Science Documentary Script\n"
     ]
    },
    {
     "name": "stderr",
     "output_type": "stream",
     "text": [
      "Glass is an amorphous solid.... | Science Documentary Script:  90%|█████████ | 9/10 [05:28<00:36, 36.20s/it]"
     ]
    },
    {
     "name": "stdout",
     "output_type": "stream",
     "text": [
      "✅ BATCH 9 / 10 DONE for Science Documentary Script\n"
     ]
    },
    {
     "name": "stderr",
     "output_type": "stream",
     "text": [
      "Glass is an amorphous solid.... | Science Documentary Script: 100%|██████████| 10/10 [06:03<00:00, 36.32s/it]\n"
     ]
    },
    {
     "name": "stdout",
     "output_type": "stream",
     "text": [
      "✅ BATCH 10 / 10 DONE for Science Documentary Script\n"
     ]
    },
    {
     "name": "stderr",
     "output_type": "stream",
     "text": [
      "Glass is an amorphous solid.... | Social Media Infographic:  10%|█         | 1/10 [00:26<03:54, 26.07s/it]"
     ]
    },
    {
     "name": "stdout",
     "output_type": "stream",
     "text": [
      "✅ BATCH 1 / 10 DONE for Social Media Infographic\n"
     ]
    },
    {
     "name": "stderr",
     "output_type": "stream",
     "text": [
      "Glass is an amorphous solid.... | Social Media Infographic:  20%|██        | 2/10 [00:42<02:43, 20.49s/it]"
     ]
    },
    {
     "name": "stdout",
     "output_type": "stream",
     "text": [
      "✅ BATCH 2 / 10 DONE for Social Media Infographic\n"
     ]
    },
    {
     "name": "stderr",
     "output_type": "stream",
     "text": [
      "Glass is an amorphous solid.... | Social Media Infographic:  30%|███       | 3/10 [01:15<03:03, 26.19s/it]"
     ]
    },
    {
     "name": "stdout",
     "output_type": "stream",
     "text": [
      "✅ BATCH 3 / 10 DONE for Social Media Infographic\n"
     ]
    },
    {
     "name": "stderr",
     "output_type": "stream",
     "text": [
      "Glass is an amorphous solid.... | Social Media Infographic:  40%|████      | 4/10 [01:43<02:40, 26.74s/it]"
     ]
    },
    {
     "name": "stdout",
     "output_type": "stream",
     "text": [
      "✅ BATCH 4 / 10 DONE for Social Media Infographic\n"
     ]
    },
    {
     "name": "stderr",
     "output_type": "stream",
     "text": [
      "Glass is an amorphous solid.... | Social Media Infographic:  50%|█████     | 5/10 [02:08<02:10, 26.16s/it]"
     ]
    },
    {
     "name": "stdout",
     "output_type": "stream",
     "text": [
      "✅ BATCH 5 / 10 DONE for Social Media Infographic\n"
     ]
    },
    {
     "name": "stderr",
     "output_type": "stream",
     "text": [
      "Glass is an amorphous solid.... | Social Media Infographic:  60%|██████    | 6/10 [02:30<01:39, 24.89s/it]"
     ]
    },
    {
     "name": "stdout",
     "output_type": "stream",
     "text": [
      "✅ BATCH 6 / 10 DONE for Social Media Infographic\n"
     ]
    },
    {
     "name": "stderr",
     "output_type": "stream",
     "text": [
      "Glass is an amorphous solid.... | Social Media Infographic:  70%|███████   | 7/10 [02:49<01:08, 22.93s/it]"
     ]
    },
    {
     "name": "stdout",
     "output_type": "stream",
     "text": [
      "✅ BATCH 7 / 10 DONE for Social Media Infographic\n"
     ]
    },
    {
     "name": "stderr",
     "output_type": "stream",
     "text": [
      "Glass is an amorphous solid.... | Social Media Infographic:  80%|████████  | 8/10 [03:19<00:50, 25.18s/it]"
     ]
    },
    {
     "name": "stdout",
     "output_type": "stream",
     "text": [
      "✅ BATCH 8 / 10 DONE for Social Media Infographic\n"
     ]
    },
    {
     "name": "stderr",
     "output_type": "stream",
     "text": [
      "Glass is an amorphous solid.... | Social Media Infographic:  90%|█████████ | 9/10 [03:39<00:23, 23.64s/it]"
     ]
    },
    {
     "name": "stdout",
     "output_type": "stream",
     "text": [
      "✅ BATCH 9 / 10 DONE for Social Media Infographic\n"
     ]
    },
    {
     "name": "stderr",
     "output_type": "stream",
     "text": [
      "Glass is an amorphous solid.... | Social Media Infographic: 100%|██████████| 10/10 [04:02<00:00, 24.30s/it]\n"
     ]
    },
    {
     "name": "stdout",
     "output_type": "stream",
     "text": [
      "✅ BATCH 10 / 10 DONE for Social Media Infographic\n"
     ]
    },
    {
     "name": "stderr",
     "output_type": "stream",
     "text": [
      "Glass is an amorphous solid.... | News Magazine Article:  10%|█         | 1/10 [00:28<04:18, 28.74s/it]"
     ]
    },
    {
     "name": "stdout",
     "output_type": "stream",
     "text": [
      "✅ BATCH 1 / 10 DONE for News Magazine Article\n"
     ]
    },
    {
     "name": "stderr",
     "output_type": "stream",
     "text": [
      "Glass is an amorphous solid.... | News Magazine Article:  20%|██        | 2/10 [00:54<03:34, 26.86s/it]"
     ]
    },
    {
     "name": "stdout",
     "output_type": "stream",
     "text": [
      "✅ BATCH 2 / 10 DONE for News Magazine Article\n"
     ]
    },
    {
     "name": "stderr",
     "output_type": "stream",
     "text": [
      "Glass is an amorphous solid.... | News Magazine Article:  30%|███       | 3/10 [01:21<03:08, 26.91s/it]"
     ]
    },
    {
     "name": "stdout",
     "output_type": "stream",
     "text": [
      "✅ BATCH 3 / 10 DONE for News Magazine Article\n"
     ]
    },
    {
     "name": "stderr",
     "output_type": "stream",
     "text": [
      "Glass is an amorphous solid.... | News Magazine Article:  40%|████      | 4/10 [01:51<02:49, 28.24s/it]"
     ]
    },
    {
     "name": "stdout",
     "output_type": "stream",
     "text": [
      "✅ BATCH 4 / 10 DONE for News Magazine Article\n"
     ]
    },
    {
     "name": "stderr",
     "output_type": "stream",
     "text": [
      "Glass is an amorphous solid.... | News Magazine Article:  50%|█████     | 5/10 [02:24<02:30, 30.03s/it]"
     ]
    },
    {
     "name": "stdout",
     "output_type": "stream",
     "text": [
      "✅ BATCH 5 / 10 DONE for News Magazine Article\n"
     ]
    },
    {
     "name": "stderr",
     "output_type": "stream",
     "text": [
      "Glass is an amorphous solid.... | News Magazine Article:  60%|██████    | 6/10 [02:51<01:55, 28.89s/it]"
     ]
    },
    {
     "name": "stdout",
     "output_type": "stream",
     "text": [
      "✅ BATCH 6 / 10 DONE for News Magazine Article\n"
     ]
    },
    {
     "name": "stderr",
     "output_type": "stream",
     "text": [
      "Glass is an amorphous solid.... | News Magazine Article:  70%|███████   | 7/10 [03:22<01:29, 29.68s/it]"
     ]
    },
    {
     "name": "stdout",
     "output_type": "stream",
     "text": [
      "✅ BATCH 7 / 10 DONE for News Magazine Article\n"
     ]
    },
    {
     "name": "stderr",
     "output_type": "stream",
     "text": [
      "Glass is an amorphous solid.... | News Magazine Article:  80%|████████  | 8/10 [03:52<00:59, 29.56s/it]"
     ]
    },
    {
     "name": "stdout",
     "output_type": "stream",
     "text": [
      "✅ BATCH 8 / 10 DONE for News Magazine Article\n"
     ]
    },
    {
     "name": "stderr",
     "output_type": "stream",
     "text": [
      "Glass is an amorphous solid.... | News Magazine Article:  90%|█████████ | 9/10 [04:25<00:30, 30.66s/it]"
     ]
    },
    {
     "name": "stdout",
     "output_type": "stream",
     "text": [
      "✅ BATCH 9 / 10 DONE for News Magazine Article\n"
     ]
    },
    {
     "name": "stderr",
     "output_type": "stream",
     "text": [
      "Glass is an amorphous solid.... | News Magazine Article: 100%|██████████| 10/10 [04:55<00:00, 29.53s/it]\n"
     ]
    },
    {
     "name": "stdout",
     "output_type": "stream",
     "text": [
      "✅ BATCH 10 / 10 DONE for News Magazine Article\n"
     ]
    },
    {
     "name": "stderr",
     "output_type": "stream",
     "text": [
      "Glass is an amorphous solid.... | Academic Review Paper:  10%|█         | 1/10 [00:42<06:23, 42.62s/it]"
     ]
    },
    {
     "name": "stdout",
     "output_type": "stream",
     "text": [
      "✅ BATCH 1 / 10 DONE for Academic Review Paper\n"
     ]
    },
    {
     "name": "stderr",
     "output_type": "stream",
     "text": [
      "Glass is an amorphous solid.... | Academic Review Paper:  20%|██        | 2/10 [01:13<04:45, 35.74s/it]"
     ]
    },
    {
     "name": "stdout",
     "output_type": "stream",
     "text": [
      "✅ BATCH 2 / 10 DONE for Academic Review Paper\n"
     ]
    },
    {
     "name": "stderr",
     "output_type": "stream",
     "text": [
      "Glass is an amorphous solid.... | Academic Review Paper:  30%|███       | 3/10 [01:53<04:24, 37.83s/it]"
     ]
    },
    {
     "name": "stdout",
     "output_type": "stream",
     "text": [
      "✅ BATCH 3 / 10 DONE for Academic Review Paper\n"
     ]
    },
    {
     "name": "stderr",
     "output_type": "stream",
     "text": [
      "Glass is an amorphous solid.... | Academic Review Paper:  40%|████      | 4/10 [02:25<03:33, 35.58s/it]"
     ]
    },
    {
     "name": "stdout",
     "output_type": "stream",
     "text": [
      "✅ BATCH 4 / 10 DONE for Academic Review Paper\n"
     ]
    },
    {
     "name": "stderr",
     "output_type": "stream",
     "text": [
      "Glass is an amorphous solid.... | Academic Review Paper:  50%|█████     | 5/10 [03:01<02:58, 35.65s/it]"
     ]
    },
    {
     "name": "stdout",
     "output_type": "stream",
     "text": [
      "✅ BATCH 5 / 10 DONE for Academic Review Paper\n"
     ]
    },
    {
     "name": "stderr",
     "output_type": "stream",
     "text": [
      "Glass is an amorphous solid.... | Academic Review Paper:  60%|██████    | 6/10 [03:40<02:27, 36.76s/it]"
     ]
    },
    {
     "name": "stdout",
     "output_type": "stream",
     "text": [
      "✅ BATCH 6 / 10 DONE for Academic Review Paper\n"
     ]
    },
    {
     "name": "stderr",
     "output_type": "stream",
     "text": [
      "Glass is an amorphous solid.... | Academic Review Paper:  70%|███████   | 7/10 [04:30<02:03, 41.11s/it]"
     ]
    },
    {
     "name": "stdout",
     "output_type": "stream",
     "text": [
      "✅ BATCH 7 / 10 DONE for Academic Review Paper\n"
     ]
    },
    {
     "name": "stderr",
     "output_type": "stream",
     "text": [
      "Glass is an amorphous solid.... | Academic Review Paper:  80%|████████  | 8/10 [05:13<01:23, 41.66s/it]"
     ]
    },
    {
     "name": "stdout",
     "output_type": "stream",
     "text": [
      "✅ BATCH 8 / 10 DONE for Academic Review Paper\n"
     ]
    },
    {
     "name": "stderr",
     "output_type": "stream",
     "text": [
      "Glass is an amorphous solid.... | Academic Review Paper:  90%|█████████ | 9/10 [05:42<00:37, 37.77s/it]"
     ]
    },
    {
     "name": "stdout",
     "output_type": "stream",
     "text": [
      "✅ BATCH 9 / 10 DONE for Academic Review Paper\n"
     ]
    },
    {
     "name": "stderr",
     "output_type": "stream",
     "text": [
      "Glass is an amorphous solid.... | Academic Review Paper: 100%|██████████| 10/10 [06:22<00:00, 38.22s/it]\n"
     ]
    },
    {
     "name": "stdout",
     "output_type": "stream",
     "text": [
      "✅ BATCH 10 / 10 DONE for Academic Review Paper\n"
     ]
    },
    {
     "name": "stderr",
     "output_type": "stream",
     "text": [
      "Glass is an amorphous solid.... | STEM Outreach Brochure:  10%|█         | 1/10 [00:28<04:17, 28.63s/it]"
     ]
    },
    {
     "name": "stdout",
     "output_type": "stream",
     "text": [
      "✅ BATCH 1 / 10 DONE for STEM Outreach Brochure\n"
     ]
    },
    {
     "name": "stderr",
     "output_type": "stream",
     "text": [
      "Glass is an amorphous solid.... | STEM Outreach Brochure:  20%|██        | 2/10 [00:54<03:37, 27.24s/it]"
     ]
    },
    {
     "name": "stdout",
     "output_type": "stream",
     "text": [
      "✅ BATCH 2 / 10 DONE for STEM Outreach Brochure\n"
     ]
    },
    {
     "name": "stderr",
     "output_type": "stream",
     "text": [
      "Glass is an amorphous solid.... | STEM Outreach Brochure:  30%|███       | 3/10 [01:20<03:05, 26.55s/it]"
     ]
    },
    {
     "name": "stdout",
     "output_type": "stream",
     "text": [
      "✅ BATCH 3 / 10 DONE for STEM Outreach Brochure\n"
     ]
    },
    {
     "name": "stderr",
     "output_type": "stream",
     "text": [
      "Glass is an amorphous solid.... | STEM Outreach Brochure:  40%|████      | 4/10 [01:49<02:43, 27.28s/it]"
     ]
    },
    {
     "name": "stdout",
     "output_type": "stream",
     "text": [
      "✅ BATCH 4 / 10 DONE for STEM Outreach Brochure\n"
     ]
    },
    {
     "name": "stderr",
     "output_type": "stream",
     "text": [
      "Glass is an amorphous solid.... | STEM Outreach Brochure:  50%|█████     | 5/10 [02:11<02:08, 25.67s/it]"
     ]
    },
    {
     "name": "stdout",
     "output_type": "stream",
     "text": [
      "✅ BATCH 5 / 10 DONE for STEM Outreach Brochure\n"
     ]
    },
    {
     "name": "stderr",
     "output_type": "stream",
     "text": [
      "Glass is an amorphous solid.... | STEM Outreach Brochure:  60%|██████    | 6/10 [02:36<01:40, 25.21s/it]"
     ]
    },
    {
     "name": "stdout",
     "output_type": "stream",
     "text": [
      "✅ BATCH 6 / 10 DONE for STEM Outreach Brochure\n"
     ]
    },
    {
     "name": "stderr",
     "output_type": "stream",
     "text": [
      "Glass is an amorphous solid.... | STEM Outreach Brochure:  70%|███████   | 7/10 [03:04<01:18, 26.08s/it]"
     ]
    },
    {
     "name": "stdout",
     "output_type": "stream",
     "text": [
      "✅ BATCH 7 / 10 DONE for STEM Outreach Brochure\n"
     ]
    },
    {
     "name": "stderr",
     "output_type": "stream",
     "text": [
      "Glass is an amorphous solid.... | STEM Outreach Brochure:  80%|████████  | 8/10 [03:33<00:54, 27.05s/it]"
     ]
    },
    {
     "name": "stdout",
     "output_type": "stream",
     "text": [
      "✅ BATCH 8 / 10 DONE for STEM Outreach Brochure\n"
     ]
    },
    {
     "name": "stderr",
     "output_type": "stream",
     "text": [
      "Glass is an amorphous solid.... | STEM Outreach Brochure:  90%|█████████ | 9/10 [04:03<00:28, 28.20s/it]"
     ]
    },
    {
     "name": "stdout",
     "output_type": "stream",
     "text": [
      "✅ BATCH 9 / 10 DONE for STEM Outreach Brochure\n"
     ]
    },
    {
     "name": "stderr",
     "output_type": "stream",
     "text": [
      "Glass is an amorphous solid.... | STEM Outreach Brochure: 100%|██████████| 10/10 [04:32<00:00, 27.21s/it]\n"
     ]
    },
    {
     "name": "stdout",
     "output_type": "stream",
     "text": [
      "✅ BATCH 10 / 10 DONE for STEM Outreach Brochure\n"
     ]
    },
    {
     "name": "stderr",
     "output_type": "stream",
     "text": [
      "Glass is an amorphous solid.... | Online Course Module:  10%|█         | 1/10 [00:35<05:19, 35.54s/it]"
     ]
    },
    {
     "name": "stdout",
     "output_type": "stream",
     "text": [
      "✅ BATCH 1 / 10 DONE for Online Course Module\n"
     ]
    },
    {
     "name": "stderr",
     "output_type": "stream",
     "text": [
      "Glass is an amorphous solid.... | Online Course Module:  20%|██        | 2/10 [01:15<05:06, 38.35s/it]"
     ]
    },
    {
     "name": "stdout",
     "output_type": "stream",
     "text": [
      "✅ BATCH 2 / 10 DONE for Online Course Module\n"
     ]
    },
    {
     "name": "stderr",
     "output_type": "stream",
     "text": [
      "Glass is an amorphous solid.... | Online Course Module:  30%|███       | 3/10 [01:48<04:10, 35.74s/it]"
     ]
    },
    {
     "name": "stdout",
     "output_type": "stream",
     "text": [
      "✅ BATCH 3 / 10 DONE for Online Course Module\n"
     ]
    },
    {
     "name": "stderr",
     "output_type": "stream",
     "text": [
      "Glass is an amorphous solid.... | Online Course Module:  40%|████      | 4/10 [02:34<03:59, 39.88s/it]"
     ]
    },
    {
     "name": "stdout",
     "output_type": "stream",
     "text": [
      "✅ BATCH 4 / 10 DONE for Online Course Module\n"
     ]
    },
    {
     "name": "stderr",
     "output_type": "stream",
     "text": [
      "Glass is an amorphous solid.... | Online Course Module:  50%|█████     | 5/10 [03:08<03:08, 37.61s/it]"
     ]
    },
    {
     "name": "stdout",
     "output_type": "stream",
     "text": [
      "✅ BATCH 5 / 10 DONE for Online Course Module\n"
     ]
    },
    {
     "name": "stderr",
     "output_type": "stream",
     "text": [
      "Glass is an amorphous solid.... | Online Course Module:  60%|██████    | 6/10 [03:55<02:42, 40.73s/it]"
     ]
    },
    {
     "name": "stdout",
     "output_type": "stream",
     "text": [
      "✅ BATCH 6 / 10 DONE for Online Course Module\n"
     ]
    },
    {
     "name": "stderr",
     "output_type": "stream",
     "text": [
      "Glass is an amorphous solid.... | Online Course Module:  70%|███████   | 7/10 [04:37<02:03, 41.27s/it]"
     ]
    },
    {
     "name": "stdout",
     "output_type": "stream",
     "text": [
      "✅ BATCH 7 / 10 DONE for Online Course Module\n"
     ]
    },
    {
     "name": "stderr",
     "output_type": "stream",
     "text": [
      "Glass is an amorphous solid.... | Online Course Module:  80%|████████  | 8/10 [06:20<02:01, 60.99s/it]"
     ]
    },
    {
     "name": "stdout",
     "output_type": "stream",
     "text": [
      "✅ BATCH 8 / 10 DONE for Online Course Module\n"
     ]
    },
    {
     "name": "stderr",
     "output_type": "stream",
     "text": [
      "Glass is an amorphous solid.... | Online Course Module:  90%|█████████ | 9/10 [06:56<00:53, 53.04s/it]"
     ]
    },
    {
     "name": "stdout",
     "output_type": "stream",
     "text": [
      "✅ BATCH 9 / 10 DONE for Online Course Module\n"
     ]
    },
    {
     "name": "stderr",
     "output_type": "stream",
     "text": [
      "Glass is an amorphous solid.... | Online Course Module: 100%|██████████| 10/10 [07:29<00:00, 44.95s/it]\n"
     ]
    },
    {
     "name": "stdout",
     "output_type": "stream",
     "text": [
      "✅ BATCH 10 / 10 DONE for Online Course Module\n"
     ]
    },
    {
     "name": "stderr",
     "output_type": "stream",
     "text": [
      "Glass is an amorphous solid.... | Forensic Science Report:  10%|█         | 1/10 [00:33<05:02, 33.66s/it]"
     ]
    },
    {
     "name": "stdout",
     "output_type": "stream",
     "text": [
      "✅ BATCH 1 / 10 DONE for Forensic Science Report\n"
     ]
    },
    {
     "name": "stderr",
     "output_type": "stream",
     "text": [
      "Glass is an amorphous solid.... | Forensic Science Report:  20%|██        | 2/10 [01:16<05:11, 38.92s/it]"
     ]
    },
    {
     "name": "stdout",
     "output_type": "stream",
     "text": [
      "✅ BATCH 2 / 10 DONE for Forensic Science Report\n"
     ]
    },
    {
     "name": "stderr",
     "output_type": "stream",
     "text": [
      "Glass is an amorphous solid.... | Forensic Science Report:  30%|███       | 3/10 [01:54<04:29, 38.55s/it]"
     ]
    },
    {
     "name": "stdout",
     "output_type": "stream",
     "text": [
      "✅ BATCH 3 / 10 DONE for Forensic Science Report\n"
     ]
    },
    {
     "name": "stderr",
     "output_type": "stream",
     "text": [
      "Glass is an amorphous solid.... | Forensic Science Report:  40%|████      | 4/10 [02:24<03:30, 35.12s/it]"
     ]
    },
    {
     "name": "stdout",
     "output_type": "stream",
     "text": [
      "✅ BATCH 4 / 10 DONE for Forensic Science Report\n"
     ]
    },
    {
     "name": "stderr",
     "output_type": "stream",
     "text": [
      "Glass is an amorphous solid.... | Forensic Science Report:  50%|█████     | 5/10 [03:02<03:01, 36.22s/it]"
     ]
    },
    {
     "name": "stdout",
     "output_type": "stream",
     "text": [
      "✅ BATCH 5 / 10 DONE for Forensic Science Report\n"
     ]
    },
    {
     "name": "stderr",
     "output_type": "stream",
     "text": [
      "Glass is an amorphous solid.... | Forensic Science Report:  60%|██████    | 6/10 [03:44<02:32, 38.23s/it]"
     ]
    },
    {
     "name": "stdout",
     "output_type": "stream",
     "text": [
      "✅ BATCH 6 / 10 DONE for Forensic Science Report\n"
     ]
    },
    {
     "name": "stderr",
     "output_type": "stream",
     "text": [
      "Glass is an amorphous solid.... | Forensic Science Report:  70%|███████   | 7/10 [04:27<01:59, 39.82s/it]"
     ]
    },
    {
     "name": "stdout",
     "output_type": "stream",
     "text": [
      "✅ BATCH 7 / 10 DONE for Forensic Science Report\n"
     ]
    },
    {
     "name": "stderr",
     "output_type": "stream",
     "text": [
      "Glass is an amorphous solid.... | Forensic Science Report:  80%|████████  | 8/10 [05:01<01:15, 37.97s/it]"
     ]
    },
    {
     "name": "stdout",
     "output_type": "stream",
     "text": [
      "✅ BATCH 8 / 10 DONE for Forensic Science Report\n"
     ]
    },
    {
     "name": "stderr",
     "output_type": "stream",
     "text": [
      "Glass is an amorphous solid.... | Forensic Science Report:  90%|█████████ | 9/10 [05:31<00:35, 35.56s/it]"
     ]
    },
    {
     "name": "stdout",
     "output_type": "stream",
     "text": [
      "✅ BATCH 9 / 10 DONE for Forensic Science Report\n"
     ]
    },
    {
     "name": "stderr",
     "output_type": "stream",
     "text": [
      "Glass is an amorphous solid.... | Forensic Science Report: 100%|██████████| 10/10 [06:07<00:00, 36.71s/it]\n"
     ]
    },
    {
     "name": "stdout",
     "output_type": "stream",
     "text": [
      "✅ BATCH 10 / 10 DONE for Forensic Science Report\n"
     ]
    },
    {
     "name": "stderr",
     "output_type": "stream",
     "text": [
      "A tomato is botanically a frui... | Scientific journal article:  10%|█         | 1/10 [00:44<06:42, 44.72s/it]"
     ]
    },
    {
     "name": "stdout",
     "output_type": "stream",
     "text": [
      "✅ BATCH 1 / 10 DONE for Scientific journal article\n"
     ]
    },
    {
     "name": "stderr",
     "output_type": "stream",
     "text": [
      "A tomato is botanically a frui... | Scientific journal article:  20%|██        | 2/10 [01:27<05:46, 43.35s/it]"
     ]
    },
    {
     "name": "stdout",
     "output_type": "stream",
     "text": [
      "✅ BATCH 2 / 10 DONE for Scientific journal article\n"
     ]
    },
    {
     "name": "stderr",
     "output_type": "stream",
     "text": [
      "A tomato is botanically a frui... | Scientific journal article:  30%|███       | 3/10 [02:18<05:30, 47.20s/it]"
     ]
    },
    {
     "name": "stdout",
     "output_type": "stream",
     "text": [
      "✅ BATCH 3 / 10 DONE for Scientific journal article\n"
     ]
    },
    {
     "name": "stderr",
     "output_type": "stream",
     "text": [
      "A tomato is botanically a frui... | Scientific journal article:  40%|████      | 4/10 [03:06<04:44, 47.47s/it]"
     ]
    },
    {
     "name": "stdout",
     "output_type": "stream",
     "text": [
      "✅ BATCH 4 / 10 DONE for Scientific journal article\n"
     ]
    },
    {
     "name": "stderr",
     "output_type": "stream",
     "text": [
      "A tomato is botanically a frui... | Scientific journal article:  50%|█████     | 5/10 [03:40<03:32, 42.56s/it]"
     ]
    },
    {
     "name": "stdout",
     "output_type": "stream",
     "text": [
      "✅ BATCH 5 / 10 DONE for Scientific journal article\n"
     ]
    },
    {
     "name": "stderr",
     "output_type": "stream",
     "text": [
      "A tomato is botanically a frui... | Scientific journal article:  60%|██████    | 6/10 [04:29<02:58, 44.65s/it]"
     ]
    },
    {
     "name": "stdout",
     "output_type": "stream",
     "text": [
      "✅ BATCH 6 / 10 DONE for Scientific journal article\n"
     ]
    },
    {
     "name": "stderr",
     "output_type": "stream",
     "text": [
      "A tomato is botanically a frui... | Scientific journal article:  70%|███████   | 7/10 [05:00<02:00, 40.09s/it]"
     ]
    },
    {
     "name": "stdout",
     "output_type": "stream",
     "text": [
      "✅ BATCH 7 / 10 DONE for Scientific journal article\n"
     ]
    },
    {
     "name": "stderr",
     "output_type": "stream",
     "text": [
      "A tomato is botanically a frui... | Scientific journal article:  80%|████████  | 8/10 [05:43<01:22, 41.23s/it]"
     ]
    },
    {
     "name": "stdout",
     "output_type": "stream",
     "text": [
      "✅ BATCH 8 / 10 DONE for Scientific journal article\n"
     ]
    },
    {
     "name": "stderr",
     "output_type": "stream",
     "text": [
      "A tomato is botanically a frui... | Scientific journal article:  90%|█████████ | 9/10 [06:10<00:36, 36.83s/it]"
     ]
    },
    {
     "name": "stdout",
     "output_type": "stream",
     "text": [
      "✅ BATCH 9 / 10 DONE for Scientific journal article\n"
     ]
    },
    {
     "name": "stderr",
     "output_type": "stream",
     "text": [
      "A tomato is botanically a frui... | Scientific journal article: 100%|██████████| 10/10 [06:43<00:00, 40.35s/it]\n"
     ]
    },
    {
     "name": "stdout",
     "output_type": "stream",
     "text": [
      "✅ BATCH 10 / 10 DONE for Scientific journal article\n"
     ]
    },
    {
     "name": "stderr",
     "output_type": "stream",
     "text": [
      "A tomato is botanically a frui... | Botany textbook:  10%|█         | 1/10 [00:36<05:27, 36.42s/it]"
     ]
    },
    {
     "name": "stdout",
     "output_type": "stream",
     "text": [
      "✅ BATCH 1 / 10 DONE for Botany textbook\n"
     ]
    },
    {
     "name": "stderr",
     "output_type": "stream",
     "text": [
      "A tomato is botanically a frui... | Botany textbook:  20%|██        | 2/10 [01:21<05:32, 41.53s/it]"
     ]
    },
    {
     "name": "stdout",
     "output_type": "stream",
     "text": [
      "✅ BATCH 2 / 10 DONE for Botany textbook\n"
     ]
    },
    {
     "name": "stderr",
     "output_type": "stream",
     "text": [
      "A tomato is botanically a frui... | Botany textbook:  30%|███       | 3/10 [01:58<04:37, 39.67s/it]"
     ]
    },
    {
     "name": "stdout",
     "output_type": "stream",
     "text": [
      "✅ BATCH 3 / 10 DONE for Botany textbook\n"
     ]
    },
    {
     "name": "stderr",
     "output_type": "stream",
     "text": [
      "A tomato is botanically a frui... | Botany textbook:  40%|████      | 4/10 [03:01<04:51, 48.64s/it]"
     ]
    },
    {
     "name": "stdout",
     "output_type": "stream",
     "text": [
      "✅ BATCH 4 / 10 DONE for Botany textbook\n"
     ]
    },
    {
     "name": "stderr",
     "output_type": "stream",
     "text": [
      "A tomato is botanically a frui... | Botany textbook:  50%|█████     | 5/10 [03:35<03:36, 43.32s/it]"
     ]
    },
    {
     "name": "stdout",
     "output_type": "stream",
     "text": [
      "✅ BATCH 5 / 10 DONE for Botany textbook\n"
     ]
    },
    {
     "name": "stderr",
     "output_type": "stream",
     "text": [
      "A tomato is botanically a frui... | Botany textbook:  60%|██████    | 6/10 [04:11<02:43, 40.81s/it]"
     ]
    },
    {
     "name": "stdout",
     "output_type": "stream",
     "text": [
      "✅ BATCH 6 / 10 DONE for Botany textbook\n"
     ]
    },
    {
     "name": "stderr",
     "output_type": "stream",
     "text": [
      "A tomato is botanically a frui... | Botany textbook:  70%|███████   | 7/10 [04:43<01:53, 37.89s/it]"
     ]
    },
    {
     "name": "stdout",
     "output_type": "stream",
     "text": [
      "✅ BATCH 7 / 10 DONE for Botany textbook\n"
     ]
    },
    {
     "name": "stderr",
     "output_type": "stream",
     "text": [
      "A tomato is botanically a frui... | Botany textbook:  80%|████████  | 8/10 [05:14<01:11, 35.90s/it]"
     ]
    },
    {
     "name": "stdout",
     "output_type": "stream",
     "text": [
      "✅ BATCH 8 / 10 DONE for Botany textbook\n"
     ]
    },
    {
     "name": "stderr",
     "output_type": "stream",
     "text": [
      "A tomato is botanically a frui... | Botany textbook:  90%|█████████ | 9/10 [06:00<00:38, 38.84s/it]"
     ]
    },
    {
     "name": "stdout",
     "output_type": "stream",
     "text": [
      "✅ BATCH 9 / 10 DONE for Botany textbook\n"
     ]
    },
    {
     "name": "stderr",
     "output_type": "stream",
     "text": [
      "A tomato is botanically a frui... | Botany textbook: 100%|██████████| 10/10 [06:48<00:00, 40.82s/it]\n"
     ]
    },
    {
     "name": "stdout",
     "output_type": "stream",
     "text": [
      "✅ BATCH 10 / 10 DONE for Botany textbook\n"
     ]
    },
    {
     "name": "stderr",
     "output_type": "stream",
     "text": [
      "A tomato is botanically a frui... | High school biology exam:  10%|█         | 1/10 [00:39<05:58, 39.87s/it]"
     ]
    },
    {
     "name": "stdout",
     "output_type": "stream",
     "text": [
      "✅ BATCH 1 / 10 DONE for High school biology exam\n"
     ]
    },
    {
     "name": "stderr",
     "output_type": "stream",
     "text": [
      "A tomato is botanically a frui... | High school biology exam:  20%|██        | 2/10 [01:05<04:10, 31.34s/it]"
     ]
    },
    {
     "name": "stdout",
     "output_type": "stream",
     "text": [
      "✅ BATCH 2 / 10 DONE for High school biology exam\n"
     ]
    },
    {
     "name": "stderr",
     "output_type": "stream",
     "text": [
      "A tomato is botanically a frui... | High school biology exam:  30%|███       | 3/10 [01:46<04:11, 36.00s/it]"
     ]
    },
    {
     "name": "stdout",
     "output_type": "stream",
     "text": [
      "✅ BATCH 3 / 10 DONE for High school biology exam\n"
     ]
    },
    {
     "name": "stderr",
     "output_type": "stream",
     "text": [
      "A tomato is botanically a frui... | High school biology exam:  40%|████      | 4/10 [02:18<03:25, 34.28s/it]"
     ]
    },
    {
     "name": "stdout",
     "output_type": "stream",
     "text": [
      "✅ BATCH 4 / 10 DONE for High school biology exam\n"
     ]
    },
    {
     "name": "stderr",
     "output_type": "stream",
     "text": [
      "A tomato is botanically a frui... | High school biology exam:  50%|█████     | 5/10 [02:32<02:14, 26.87s/it]"
     ]
    },
    {
     "name": "stdout",
     "output_type": "stream",
     "text": [
      "✅ BATCH 5 / 10 DONE for High school biology exam\n"
     ]
    },
    {
     "name": "stderr",
     "output_type": "stream",
     "text": [
      "A tomato is botanically a frui... | High school biology exam:  60%|██████    | 6/10 [03:03<01:53, 28.48s/it]"
     ]
    },
    {
     "name": "stdout",
     "output_type": "stream",
     "text": [
      "✅ BATCH 6 / 10 DONE for High school biology exam\n"
     ]
    },
    {
     "name": "stderr",
     "output_type": "stream",
     "text": [
      "A tomato is botanically a frui... | High school biology exam:  70%|███████   | 7/10 [03:29<01:23, 27.68s/it]"
     ]
    },
    {
     "name": "stdout",
     "output_type": "stream",
     "text": [
      "✅ BATCH 7 / 10 DONE for High school biology exam\n"
     ]
    },
    {
     "name": "stderr",
     "output_type": "stream",
     "text": [
      "A tomato is botanically a frui... | High school biology exam:  80%|████████  | 8/10 [04:33<01:18, 39.12s/it]"
     ]
    },
    {
     "name": "stdout",
     "output_type": "stream",
     "text": [
      "✅ BATCH 8 / 10 DONE for High school biology exam\n"
     ]
    },
    {
     "name": "stderr",
     "output_type": "stream",
     "text": [
      "A tomato is botanically a frui... | High school biology exam:  90%|█████████ | 9/10 [04:53<00:33, 33.24s/it]"
     ]
    },
    {
     "name": "stdout",
     "output_type": "stream",
     "text": [
      "✅ BATCH 9 / 10 DONE for High school biology exam\n"
     ]
    },
    {
     "name": "stderr",
     "output_type": "stream",
     "text": [
      "A tomato is botanically a frui... | High school biology exam: 100%|██████████| 10/10 [05:20<00:00, 32.06s/it]\n"
     ]
    },
    {
     "name": "stdout",
     "output_type": "stream",
     "text": [
      "✅ BATCH 10 / 10 DONE for High school biology exam\n"
     ]
    },
    {
     "name": "stderr",
     "output_type": "stream",
     "text": [
      "A tomato is botanically a frui... | Plant biology lecture slides:  10%|█         | 1/10 [01:27<13:09, 87.74s/it]"
     ]
    },
    {
     "name": "stdout",
     "output_type": "stream",
     "text": [
      "✅ BATCH 1 / 10 DONE for Plant biology lecture slides\n"
     ]
    },
    {
     "name": "stderr",
     "output_type": "stream",
     "text": [
      "A tomato is botanically a frui... | Plant biology lecture slides:  20%|██        | 2/10 [01:54<06:55, 51.91s/it]"
     ]
    },
    {
     "name": "stdout",
     "output_type": "stream",
     "text": [
      "✅ BATCH 2 / 10 DONE for Plant biology lecture slides\n"
     ]
    },
    {
     "name": "stderr",
     "output_type": "stream",
     "text": [
      "A tomato is botanically a frui... | Plant biology lecture slides:  30%|███       | 3/10 [02:32<05:17, 45.39s/it]"
     ]
    },
    {
     "name": "stdout",
     "output_type": "stream",
     "text": [
      "✅ BATCH 3 / 10 DONE for Plant biology lecture slides\n"
     ]
    },
    {
     "name": "stderr",
     "output_type": "stream",
     "text": [
      "A tomato is botanically a frui... | Plant biology lecture slides:  40%|████      | 4/10 [03:15<04:27, 44.59s/it]"
     ]
    },
    {
     "name": "stdout",
     "output_type": "stream",
     "text": [
      "✅ BATCH 4 / 10 DONE for Plant biology lecture slides\n"
     ]
    },
    {
     "name": "stderr",
     "output_type": "stream",
     "text": [
      "A tomato is botanically a frui... | Plant biology lecture slides:  50%|█████     | 5/10 [03:40<03:06, 37.38s/it]"
     ]
    },
    {
     "name": "stdout",
     "output_type": "stream",
     "text": [
      "✅ BATCH 5 / 10 DONE for Plant biology lecture slides\n"
     ]
    },
    {
     "name": "stderr",
     "output_type": "stream",
     "text": [
      "A tomato is botanically a frui... | Plant biology lecture slides:  60%|██████    | 6/10 [04:09<02:18, 34.55s/it]"
     ]
    },
    {
     "name": "stdout",
     "output_type": "stream",
     "text": [
      "✅ BATCH 6 / 10 DONE for Plant biology lecture slides\n"
     ]
    },
    {
     "name": "stderr",
     "output_type": "stream",
     "text": [
      "A tomato is botanically a frui... | Plant biology lecture slides:  70%|███████   | 7/10 [05:12<02:12, 44.03s/it]"
     ]
    },
    {
     "name": "stdout",
     "output_type": "stream",
     "text": [
      "✅ BATCH 7 / 10 DONE for Plant biology lecture slides\n"
     ]
    },
    {
     "name": "stderr",
     "output_type": "stream",
     "text": [
      "A tomato is botanically a frui... | Plant biology lecture slides:  80%|████████  | 8/10 [05:45<01:20, 40.30s/it]"
     ]
    },
    {
     "name": "stdout",
     "output_type": "stream",
     "text": [
      "✅ BATCH 8 / 10 DONE for Plant biology lecture slides\n"
     ]
    },
    {
     "name": "stderr",
     "output_type": "stream",
     "text": [
      "A tomato is botanically a frui... | Plant biology lecture slides:  90%|█████████ | 9/10 [06:17<00:37, 37.69s/it]"
     ]
    },
    {
     "name": "stdout",
     "output_type": "stream",
     "text": [
      "✅ BATCH 9 / 10 DONE for Plant biology lecture slides\n"
     ]
    },
    {
     "name": "stderr",
     "output_type": "stream",
     "text": [
      "A tomato is botanically a frui... | Plant biology lecture slides: 100%|██████████| 10/10 [06:45<00:00, 40.53s/it]\n"
     ]
    },
    {
     "name": "stdout",
     "output_type": "stream",
     "text": [
      "✅ BATCH 10 / 10 DONE for Plant biology lecture slides\n"
     ]
    },
    {
     "name": "stderr",
     "output_type": "stream",
     "text": [
      "A tomato is botanically a frui... | Educational infographic:  10%|█         | 1/10 [00:30<04:34, 30.51s/it]"
     ]
    },
    {
     "name": "stdout",
     "output_type": "stream",
     "text": [
      "✅ BATCH 1 / 10 DONE for Educational infographic\n"
     ]
    },
    {
     "name": "stderr",
     "output_type": "stream",
     "text": [
      "A tomato is botanically a frui... | Educational infographic:  20%|██        | 2/10 [01:00<03:59, 29.94s/it]"
     ]
    },
    {
     "name": "stdout",
     "output_type": "stream",
     "text": [
      "✅ BATCH 2 / 10 DONE for Educational infographic\n"
     ]
    },
    {
     "name": "stderr",
     "output_type": "stream",
     "text": [
      "A tomato is botanically a frui... | Educational infographic:  30%|███       | 3/10 [01:25<03:16, 28.03s/it]"
     ]
    },
    {
     "name": "stdout",
     "output_type": "stream",
     "text": [
      "✅ BATCH 3 / 10 DONE for Educational infographic\n"
     ]
    },
    {
     "name": "stderr",
     "output_type": "stream",
     "text": [
      "A tomato is botanically a frui... | Educational infographic:  40%|████      | 4/10 [01:50<02:41, 26.86s/it]"
     ]
    },
    {
     "name": "stdout",
     "output_type": "stream",
     "text": [
      "✅ BATCH 4 / 10 DONE for Educational infographic\n"
     ]
    },
    {
     "name": "stderr",
     "output_type": "stream",
     "text": [
      "A tomato is botanically a frui... | Educational infographic:  50%|█████     | 5/10 [02:13<02:06, 25.37s/it]"
     ]
    },
    {
     "name": "stdout",
     "output_type": "stream",
     "text": [
      "✅ BATCH 5 / 10 DONE for Educational infographic\n"
     ]
    },
    {
     "name": "stderr",
     "output_type": "stream",
     "text": [
      "A tomato is botanically a frui... | Educational infographic:  60%|██████    | 6/10 [02:37<01:39, 24.77s/it]"
     ]
    },
    {
     "name": "stdout",
     "output_type": "stream",
     "text": [
      "✅ BATCH 6 / 10 DONE for Educational infographic\n"
     ]
    },
    {
     "name": "stderr",
     "output_type": "stream",
     "text": [
      "A tomato is botanically a frui... | Educational infographic:  70%|███████   | 7/10 [03:05<01:17, 25.98s/it]"
     ]
    },
    {
     "name": "stdout",
     "output_type": "stream",
     "text": [
      "✅ BATCH 7 / 10 DONE for Educational infographic\n"
     ]
    },
    {
     "name": "stderr",
     "output_type": "stream",
     "text": [
      "A tomato is botanically a frui... | Educational infographic:  80%|████████  | 8/10 [03:30<00:51, 25.71s/it]"
     ]
    },
    {
     "name": "stdout",
     "output_type": "stream",
     "text": [
      "✅ BATCH 8 / 10 DONE for Educational infographic\n"
     ]
    },
    {
     "name": "stderr",
     "output_type": "stream",
     "text": [
      "A tomato is botanically a frui... | Educational infographic:  90%|█████████ | 9/10 [04:05<00:28, 28.42s/it]"
     ]
    },
    {
     "name": "stdout",
     "output_type": "stream",
     "text": [
      "✅ BATCH 9 / 10 DONE for Educational infographic\n"
     ]
    },
    {
     "name": "stderr",
     "output_type": "stream",
     "text": [
      "A tomato is botanically a frui... | Educational infographic: 100%|██████████| 10/10 [04:32<00:00, 27.21s/it]\n"
     ]
    },
    {
     "name": "stdout",
     "output_type": "stream",
     "text": [
      "✅ BATCH 10 / 10 DONE for Educational infographic\n"
     ]
    },
    {
     "name": "stderr",
     "output_type": "stream",
     "text": [
      "A tomato is botanically a frui... | Children’s science book:  10%|█         | 1/10 [00:25<03:49, 25.55s/it]"
     ]
    },
    {
     "name": "stdout",
     "output_type": "stream",
     "text": [
      "✅ BATCH 1 / 10 DONE for Children’s science book\n"
     ]
    },
    {
     "name": "stderr",
     "output_type": "stream",
     "text": [
      "A tomato is botanically a frui... | Children’s science book:  20%|██        | 2/10 [00:48<03:13, 24.24s/it]"
     ]
    },
    {
     "name": "stdout",
     "output_type": "stream",
     "text": [
      "✅ BATCH 2 / 10 DONE for Children’s science book\n"
     ]
    },
    {
     "name": "stderr",
     "output_type": "stream",
     "text": [
      "A tomato is botanically a frui... | Children’s science book:  30%|███       | 3/10 [01:20<03:12, 27.54s/it]"
     ]
    },
    {
     "name": "stdout",
     "output_type": "stream",
     "text": [
      "✅ BATCH 3 / 10 DONE for Children’s science book\n"
     ]
    },
    {
     "name": "stderr",
     "output_type": "stream",
     "text": [
      "A tomato is botanically a frui... | Children’s science book:  40%|████      | 4/10 [01:51<02:54, 29.14s/it]"
     ]
    },
    {
     "name": "stdout",
     "output_type": "stream",
     "text": [
      "✅ BATCH 4 / 10 DONE for Children’s science book\n"
     ]
    },
    {
     "name": "stderr",
     "output_type": "stream",
     "text": [
      "A tomato is botanically a frui... | Children’s science book:  50%|█████     | 5/10 [02:24<02:31, 30.29s/it]"
     ]
    },
    {
     "name": "stdout",
     "output_type": "stream",
     "text": [
      "✅ BATCH 5 / 10 DONE for Children’s science book\n"
     ]
    },
    {
     "name": "stderr",
     "output_type": "stream",
     "text": [
      "A tomato is botanically a frui... | Children’s science book:  60%|██████    | 6/10 [02:53<01:59, 29.83s/it]"
     ]
    },
    {
     "name": "stdout",
     "output_type": "stream",
     "text": [
      "✅ BATCH 6 / 10 DONE for Children’s science book\n"
     ]
    },
    {
     "name": "stderr",
     "output_type": "stream",
     "text": [
      "A tomato is botanically a frui... | Children’s science book:  70%|███████   | 7/10 [03:20<01:27, 29.08s/it]"
     ]
    },
    {
     "name": "stdout",
     "output_type": "stream",
     "text": [
      "✅ BATCH 7 / 10 DONE for Children’s science book\n"
     ]
    },
    {
     "name": "stderr",
     "output_type": "stream",
     "text": [
      "A tomato is botanically a frui... | Children’s science book:  80%|████████  | 8/10 [03:40<00:52, 26.25s/it]"
     ]
    },
    {
     "name": "stdout",
     "output_type": "stream",
     "text": [
      "✅ BATCH 8 / 10 DONE for Children’s science book\n"
     ]
    },
    {
     "name": "stderr",
     "output_type": "stream",
     "text": [
      "A tomato is botanically a frui... | Children’s science book:  90%|█████████ | 9/10 [04:05<00:25, 25.57s/it]"
     ]
    },
    {
     "name": "stdout",
     "output_type": "stream",
     "text": [
      "✅ BATCH 9 / 10 DONE for Children’s science book\n"
     ]
    },
    {
     "name": "stderr",
     "output_type": "stream",
     "text": [
      "A tomato is botanically a frui... | Children’s science book: 100%|██████████| 10/10 [04:27<00:00, 26.72s/it]\n"
     ]
    },
    {
     "name": "stdout",
     "output_type": "stream",
     "text": [
      "✅ BATCH 10 / 10 DONE for Children’s science book\n"
     ]
    },
    {
     "name": "stderr",
     "output_type": "stream",
     "text": [
      "A tomato is botanically a frui... | Science podcast transcript:  10%|█         | 1/10 [00:30<04:30, 30.07s/it]"
     ]
    },
    {
     "name": "stdout",
     "output_type": "stream",
     "text": [
      "✅ BATCH 1 / 10 DONE for Science podcast transcript\n"
     ]
    },
    {
     "name": "stderr",
     "output_type": "stream",
     "text": [
      "A tomato is botanically a frui... | Science podcast transcript:  20%|██        | 2/10 [01:01<04:07, 30.97s/it]"
     ]
    },
    {
     "name": "stdout",
     "output_type": "stream",
     "text": [
      "✅ BATCH 2 / 10 DONE for Science podcast transcript\n"
     ]
    },
    {
     "name": "stderr",
     "output_type": "stream",
     "text": [
      "A tomato is botanically a frui... | Science podcast transcript:  30%|███       | 3/10 [01:31<03:33, 30.56s/it]"
     ]
    },
    {
     "name": "stdout",
     "output_type": "stream",
     "text": [
      "✅ BATCH 3 / 10 DONE for Science podcast transcript\n"
     ]
    },
    {
     "name": "stderr",
     "output_type": "stream",
     "text": [
      "A tomato is botanically a frui... | Science podcast transcript:  40%|████      | 4/10 [02:01<03:01, 30.22s/it]"
     ]
    },
    {
     "name": "stdout",
     "output_type": "stream",
     "text": [
      "✅ BATCH 4 / 10 DONE for Science podcast transcript\n"
     ]
    },
    {
     "name": "stderr",
     "output_type": "stream",
     "text": [
      "A tomato is botanically a frui... | Science podcast transcript:  50%|█████     | 5/10 [02:40<02:46, 33.27s/it]"
     ]
    },
    {
     "name": "stdout",
     "output_type": "stream",
     "text": [
      "✅ BATCH 5 / 10 DONE for Science podcast transcript\n"
     ]
    },
    {
     "name": "stderr",
     "output_type": "stream",
     "text": [
      "A tomato is botanically a frui... | Science podcast transcript:  60%|██████    | 6/10 [03:08<02:05, 31.45s/it]"
     ]
    },
    {
     "name": "stdout",
     "output_type": "stream",
     "text": [
      "✅ BATCH 6 / 10 DONE for Science podcast transcript\n"
     ]
    },
    {
     "name": "stderr",
     "output_type": "stream",
     "text": [
      "A tomato is botanically a frui... | Science podcast transcript:  70%|███████   | 7/10 [03:51<01:46, 35.39s/it]"
     ]
    },
    {
     "name": "stdout",
     "output_type": "stream",
     "text": [
      "✅ BATCH 7 / 10 DONE for Science podcast transcript\n"
     ]
    },
    {
     "name": "stderr",
     "output_type": "stream",
     "text": [
      "A tomato is botanically a frui... | Science podcast transcript:  80%|████████  | 8/10 [04:33<01:15, 37.56s/it]"
     ]
    },
    {
     "name": "stdout",
     "output_type": "stream",
     "text": [
      "✅ BATCH 8 / 10 DONE for Science podcast transcript\n"
     ]
    },
    {
     "name": "stderr",
     "output_type": "stream",
     "text": [
      "A tomato is botanically a frui... | Science podcast transcript:  90%|█████████ | 9/10 [05:09<00:37, 37.01s/it]"
     ]
    },
    {
     "name": "stdout",
     "output_type": "stream",
     "text": [
      "✅ BATCH 9 / 10 DONE for Science podcast transcript\n"
     ]
    },
    {
     "name": "stderr",
     "output_type": "stream",
     "text": [
      "A tomato is botanically a frui... | Science podcast transcript: 100%|██████████| 10/10 [05:48<00:00, 34.84s/it]\n"
     ]
    },
    {
     "name": "stdout",
     "output_type": "stream",
     "text": [
      "✅ BATCH 10 / 10 DONE for Science podcast transcript\n"
     ]
    },
    {
     "name": "stderr",
     "output_type": "stream",
     "text": [
      "A tomato is botanically a frui... | Social media explainer thread:  10%|█         | 1/10 [00:27<04:06, 27.41s/it]"
     ]
    },
    {
     "name": "stdout",
     "output_type": "stream",
     "text": [
      "✅ BATCH 1 / 10 DONE for Social media explainer thread\n"
     ]
    },
    {
     "name": "stderr",
     "output_type": "stream",
     "text": [
      "A tomato is botanically a frui... | Social media explainer thread:  20%|██        | 2/10 [00:47<03:03, 22.98s/it]"
     ]
    },
    {
     "name": "stdout",
     "output_type": "stream",
     "text": [
      "✅ BATCH 2 / 10 DONE for Social media explainer thread\n"
     ]
    },
    {
     "name": "stderr",
     "output_type": "stream",
     "text": [
      "A tomato is botanically a frui... | Social media explainer thread:  30%|███       | 3/10 [01:18<03:08, 26.97s/it]"
     ]
    },
    {
     "name": "stdout",
     "output_type": "stream",
     "text": [
      "✅ BATCH 3 / 10 DONE for Social media explainer thread\n"
     ]
    },
    {
     "name": "stderr",
     "output_type": "stream",
     "text": [
      "A tomato is botanically a frui... | Social media explainer thread:  40%|████      | 4/10 [01:50<02:51, 28.58s/it]"
     ]
    },
    {
     "name": "stdout",
     "output_type": "stream",
     "text": [
      "✅ BATCH 4 / 10 DONE for Social media explainer thread\n"
     ]
    },
    {
     "name": "stderr",
     "output_type": "stream",
     "text": [
      "A tomato is botanically a frui... | Social media explainer thread:  50%|█████     | 5/10 [02:08<02:04, 24.91s/it]"
     ]
    },
    {
     "name": "stdout",
     "output_type": "stream",
     "text": [
      "✅ BATCH 5 / 10 DONE for Social media explainer thread\n"
     ]
    },
    {
     "name": "stderr",
     "output_type": "stream",
     "text": [
      "A tomato is botanically a frui... | Social media explainer thread:  60%|██████    | 6/10 [02:37<01:45, 26.33s/it]"
     ]
    },
    {
     "name": "stdout",
     "output_type": "stream",
     "text": [
      "✅ BATCH 6 / 10 DONE for Social media explainer thread\n"
     ]
    },
    {
     "name": "stderr",
     "output_type": "stream",
     "text": [
      "A tomato is botanically a frui... | Social media explainer thread:  70%|███████   | 7/10 [03:11<01:26, 28.87s/it]"
     ]
    },
    {
     "name": "stdout",
     "output_type": "stream",
     "text": [
      "✅ BATCH 7 / 10 DONE for Social media explainer thread\n"
     ]
    },
    {
     "name": "stderr",
     "output_type": "stream",
     "text": [
      "A tomato is botanically a frui... | Social media explainer thread:  80%|████████  | 8/10 [03:39<00:57, 28.60s/it]"
     ]
    },
    {
     "name": "stdout",
     "output_type": "stream",
     "text": [
      "✅ BATCH 8 / 10 DONE for Social media explainer thread\n"
     ]
    },
    {
     "name": "stderr",
     "output_type": "stream",
     "text": [
      "A tomato is botanically a frui... | Social media explainer thread:  90%|█████████ | 9/10 [04:10<00:29, 29.42s/it]"
     ]
    },
    {
     "name": "stdout",
     "output_type": "stream",
     "text": [
      "✅ BATCH 9 / 10 DONE for Social media explainer thread\n"
     ]
    },
    {
     "name": "stderr",
     "output_type": "stream",
     "text": [
      "A tomato is botanically a frui... | Social media explainer thread: 100%|██████████| 10/10 [04:36<00:00, 27.61s/it]\n"
     ]
    },
    {
     "name": "stdout",
     "output_type": "stream",
     "text": [
      "✅ BATCH 10 / 10 DONE for Social media explainer thread\n"
     ]
    },
    {
     "name": "stderr",
     "output_type": "stream",
     "text": [
      "A tomato is botanically a frui... | Food trivia quiz:  10%|█         | 1/10 [00:38<05:44, 38.33s/it]"
     ]
    },
    {
     "name": "stdout",
     "output_type": "stream",
     "text": [
      "✅ BATCH 1 / 10 DONE for Food trivia quiz\n"
     ]
    },
    {
     "name": "stderr",
     "output_type": "stream",
     "text": [
      "A tomato is botanically a frui... | Food trivia quiz:  20%|██        | 2/10 [01:19<05:18, 39.77s/it]"
     ]
    },
    {
     "name": "stdout",
     "output_type": "stream",
     "text": [
      "✅ BATCH 2 / 10 DONE for Food trivia quiz\n"
     ]
    },
    {
     "name": "stderr",
     "output_type": "stream",
     "text": [
      "A tomato is botanically a frui... | Food trivia quiz:  30%|███       | 3/10 [01:42<03:44, 32.09s/it]"
     ]
    },
    {
     "name": "stdout",
     "output_type": "stream",
     "text": [
      "✅ BATCH 3 / 10 DONE for Food trivia quiz\n"
     ]
    },
    {
     "name": "stderr",
     "output_type": "stream",
     "text": [
      "A tomato is botanically a frui... | Food trivia quiz:  40%|████      | 4/10 [02:07<02:55, 29.29s/it]"
     ]
    },
    {
     "name": "stdout",
     "output_type": "stream",
     "text": [
      "✅ BATCH 4 / 10 DONE for Food trivia quiz\n"
     ]
    },
    {
     "name": "stderr",
     "output_type": "stream",
     "text": [
      "A tomato is botanically a frui... | Food trivia quiz:  50%|█████     | 5/10 [02:34<02:23, 28.75s/it]"
     ]
    },
    {
     "name": "stdout",
     "output_type": "stream",
     "text": [
      "✅ BATCH 5 / 10 DONE for Food trivia quiz\n"
     ]
    },
    {
     "name": "stderr",
     "output_type": "stream",
     "text": [
      "A tomato is botanically a frui... | Food trivia quiz:  60%|██████    | 6/10 [03:04<01:56, 29.03s/it]"
     ]
    },
    {
     "name": "stdout",
     "output_type": "stream",
     "text": [
      "✅ BATCH 6 / 10 DONE for Food trivia quiz\n"
     ]
    },
    {
     "name": "stderr",
     "output_type": "stream",
     "text": [
      "A tomato is botanically a frui... | Food trivia quiz:  70%|███████   | 7/10 [03:55<01:48, 36.26s/it]"
     ]
    },
    {
     "name": "stdout",
     "output_type": "stream",
     "text": [
      "✅ BATCH 7 / 10 DONE for Food trivia quiz\n"
     ]
    },
    {
     "name": "stderr",
     "output_type": "stream",
     "text": [
      "A tomato is botanically a frui... | Food trivia quiz:  80%|████████  | 8/10 [04:36<01:15, 37.85s/it]"
     ]
    },
    {
     "name": "stdout",
     "output_type": "stream",
     "text": [
      "✅ BATCH 8 / 10 DONE for Food trivia quiz\n"
     ]
    },
    {
     "name": "stderr",
     "output_type": "stream",
     "text": [
      "A tomato is botanically a frui... | Food trivia quiz:  90%|█████████ | 9/10 [05:16<00:38, 38.33s/it]"
     ]
    },
    {
     "name": "stdout",
     "output_type": "stream",
     "text": [
      "✅ BATCH 9 / 10 DONE for Food trivia quiz\n"
     ]
    },
    {
     "name": "stderr",
     "output_type": "stream",
     "text": [
      "A tomato is botanically a frui... | Food trivia quiz: 100%|██████████| 10/10 [05:49<00:00, 34.95s/it]\n"
     ]
    },
    {
     "name": "stdout",
     "output_type": "stream",
     "text": [
      "✅ BATCH 10 / 10 DONE for Food trivia quiz\n"
     ]
    },
    {
     "name": "stderr",
     "output_type": "stream",
     "text": [
      "A tomato is botanically a frui... | Botanical garden brochure:  10%|█         | 1/10 [00:30<04:32, 30.23s/it]"
     ]
    },
    {
     "name": "stdout",
     "output_type": "stream",
     "text": [
      "✅ BATCH 1 / 10 DONE for Botanical garden brochure\n"
     ]
    },
    {
     "name": "stderr",
     "output_type": "stream",
     "text": [
      "A tomato is botanically a frui... | Botanical garden brochure:  20%|██        | 2/10 [00:56<03:42, 27.84s/it]"
     ]
    },
    {
     "name": "stdout",
     "output_type": "stream",
     "text": [
      "✅ BATCH 2 / 10 DONE for Botanical garden brochure\n"
     ]
    },
    {
     "name": "stderr",
     "output_type": "stream",
     "text": [
      "A tomato is botanically a frui... | Botanical garden brochure:  30%|███       | 3/10 [01:31<03:37, 31.13s/it]"
     ]
    },
    {
     "name": "stdout",
     "output_type": "stream",
     "text": [
      "✅ BATCH 3 / 10 DONE for Botanical garden brochure\n"
     ]
    },
    {
     "name": "stderr",
     "output_type": "stream",
     "text": [
      "A tomato is botanically a frui... | Botanical garden brochure:  40%|████      | 4/10 [02:06<03:15, 32.54s/it]"
     ]
    },
    {
     "name": "stdout",
     "output_type": "stream",
     "text": [
      "✅ BATCH 4 / 10 DONE for Botanical garden brochure\n"
     ]
    },
    {
     "name": "stderr",
     "output_type": "stream",
     "text": [
      "A tomato is botanically a frui... | Botanical garden brochure:  50%|█████     | 5/10 [02:46<02:56, 35.31s/it]"
     ]
    },
    {
     "name": "stdout",
     "output_type": "stream",
     "text": [
      "✅ BATCH 5 / 10 DONE for Botanical garden brochure\n"
     ]
    },
    {
     "name": "stderr",
     "output_type": "stream",
     "text": [
      "A tomato is botanically a frui... | Botanical garden brochure:  60%|██████    | 6/10 [03:11<02:07, 31.94s/it]"
     ]
    },
    {
     "name": "stdout",
     "output_type": "stream",
     "text": [
      "✅ BATCH 6 / 10 DONE for Botanical garden brochure\n"
     ]
    },
    {
     "name": "stderr",
     "output_type": "stream",
     "text": [
      "A tomato is botanically a frui... | Botanical garden brochure:  70%|███████   | 7/10 [03:43<01:35, 31.74s/it]"
     ]
    },
    {
     "name": "stdout",
     "output_type": "stream",
     "text": [
      "✅ BATCH 7 / 10 DONE for Botanical garden brochure\n"
     ]
    },
    {
     "name": "stderr",
     "output_type": "stream",
     "text": [
      "A tomato is botanically a frui... | Botanical garden brochure:  80%|████████  | 8/10 [04:11<01:01, 30.75s/it]"
     ]
    },
    {
     "name": "stdout",
     "output_type": "stream",
     "text": [
      "✅ BATCH 8 / 10 DONE for Botanical garden brochure\n"
     ]
    },
    {
     "name": "stderr",
     "output_type": "stream",
     "text": [
      "A tomato is botanically a frui... | Botanical garden brochure:  90%|█████████ | 9/10 [04:42<00:30, 30.85s/it]"
     ]
    },
    {
     "name": "stdout",
     "output_type": "stream",
     "text": [
      "✅ BATCH 9 / 10 DONE for Botanical garden brochure\n"
     ]
    },
    {
     "name": "stderr",
     "output_type": "stream",
     "text": [
      "A tomato is botanically a frui... | Botanical garden brochure: 100%|██████████| 10/10 [05:13<00:00, 31.34s/it]\n"
     ]
    },
    {
     "name": "stdout",
     "output_type": "stream",
     "text": [
      "✅ BATCH 10 / 10 DONE for Botanical garden brochure\n"
     ]
    },
    {
     "name": "stderr",
     "output_type": "stream",
     "text": [
      "A tomato is botanically a frui... | Gardening magazine feature:  10%|█         | 1/10 [00:30<04:31, 30.17s/it]"
     ]
    },
    {
     "name": "stdout",
     "output_type": "stream",
     "text": [
      "✅ BATCH 1 / 10 DONE for Gardening magazine feature\n"
     ]
    },
    {
     "name": "stderr",
     "output_type": "stream",
     "text": [
      "A tomato is botanically a frui... | Gardening magazine feature:  20%|██        | 2/10 [01:06<04:29, 33.73s/it]"
     ]
    },
    {
     "name": "stdout",
     "output_type": "stream",
     "text": [
      "✅ BATCH 2 / 10 DONE for Gardening magazine feature\n"
     ]
    },
    {
     "name": "stderr",
     "output_type": "stream",
     "text": [
      "A tomato is botanically a frui... | Gardening magazine feature:  30%|███       | 3/10 [01:41<04:00, 34.40s/it]"
     ]
    },
    {
     "name": "stdout",
     "output_type": "stream",
     "text": [
      "✅ BATCH 3 / 10 DONE for Gardening magazine feature\n"
     ]
    },
    {
     "name": "stderr",
     "output_type": "stream",
     "text": [
      "A tomato is botanically a frui... | Gardening magazine feature:  40%|████      | 4/10 [02:08<03:07, 31.29s/it]"
     ]
    },
    {
     "name": "stdout",
     "output_type": "stream",
     "text": [
      "✅ BATCH 4 / 10 DONE for Gardening magazine feature\n"
     ]
    },
    {
     "name": "stderr",
     "output_type": "stream",
     "text": [
      "A tomato is botanically a frui... | Gardening magazine feature:  50%|█████     | 5/10 [02:42<02:42, 32.43s/it]"
     ]
    },
    {
     "name": "stdout",
     "output_type": "stream",
     "text": [
      "✅ BATCH 5 / 10 DONE for Gardening magazine feature\n"
     ]
    },
    {
     "name": "stderr",
     "output_type": "stream",
     "text": [
      "A tomato is botanically a frui... | Gardening magazine feature:  60%|██████    | 6/10 [03:46<02:52, 43.09s/it]"
     ]
    },
    {
     "name": "stdout",
     "output_type": "stream",
     "text": [
      "✅ BATCH 6 / 10 DONE for Gardening magazine feature\n"
     ]
    },
    {
     "name": "stderr",
     "output_type": "stream",
     "text": [
      "A tomato is botanically a frui... | Gardening magazine feature:  70%|███████   | 7/10 [04:19<01:59, 39.75s/it]"
     ]
    },
    {
     "name": "stdout",
     "output_type": "stream",
     "text": [
      "✅ BATCH 7 / 10 DONE for Gardening magazine feature\n"
     ]
    },
    {
     "name": "stderr",
     "output_type": "stream",
     "text": [
      "A tomato is botanically a frui... | Gardening magazine feature:  80%|████████  | 8/10 [04:55<01:17, 38.70s/it]"
     ]
    },
    {
     "name": "stdout",
     "output_type": "stream",
     "text": [
      "✅ BATCH 8 / 10 DONE for Gardening magazine feature\n"
     ]
    },
    {
     "name": "stderr",
     "output_type": "stream",
     "text": [
      "A tomato is botanically a frui... | Gardening magazine feature:  90%|█████████ | 9/10 [05:26<00:36, 36.17s/it]"
     ]
    },
    {
     "name": "stdout",
     "output_type": "stream",
     "text": [
      "✅ BATCH 9 / 10 DONE for Gardening magazine feature\n"
     ]
    },
    {
     "name": "stderr",
     "output_type": "stream",
     "text": [
      "A tomato is botanically a frui... | Gardening magazine feature: 100%|██████████| 10/10 [05:58<00:00, 35.84s/it]\n"
     ]
    },
    {
     "name": "stdout",
     "output_type": "stream",
     "text": [
      "✅ BATCH 10 / 10 DONE for Gardening magazine feature\n"
     ]
    },
    {
     "name": "stderr",
     "output_type": "stream",
     "text": [
      "A tomato is botanically a frui... | Academic conference poster:  10%|█         | 1/10 [00:31<04:39, 31.07s/it]"
     ]
    },
    {
     "name": "stdout",
     "output_type": "stream",
     "text": [
      "✅ BATCH 1 / 10 DONE for Academic conference poster\n"
     ]
    },
    {
     "name": "stderr",
     "output_type": "stream",
     "text": [
      "A tomato is botanically a frui... | Academic conference poster:  20%|██        | 2/10 [00:59<03:58, 29.76s/it]"
     ]
    },
    {
     "name": "stdout",
     "output_type": "stream",
     "text": [
      "✅ BATCH 2 / 10 DONE for Academic conference poster\n"
     ]
    },
    {
     "name": "stderr",
     "output_type": "stream",
     "text": [
      "A tomato is botanically a frui... | Academic conference poster:  30%|███       | 3/10 [01:31<03:33, 30.51s/it]"
     ]
    },
    {
     "name": "stdout",
     "output_type": "stream",
     "text": [
      "✅ BATCH 3 / 10 DONE for Academic conference poster\n"
     ]
    },
    {
     "name": "stderr",
     "output_type": "stream",
     "text": [
      "A tomato is botanically a frui... | Academic conference poster:  40%|████      | 4/10 [02:03<03:06, 31.04s/it]"
     ]
    },
    {
     "name": "stdout",
     "output_type": "stream",
     "text": [
      "✅ BATCH 4 / 10 DONE for Academic conference poster\n"
     ]
    },
    {
     "name": "stderr",
     "output_type": "stream",
     "text": [
      "A tomato is botanically a frui... | Academic conference poster:  50%|█████     | 5/10 [02:22<02:14, 26.98s/it]"
     ]
    },
    {
     "name": "stdout",
     "output_type": "stream",
     "text": [
      "✅ BATCH 5 / 10 DONE for Academic conference poster\n"
     ]
    },
    {
     "name": "stderr",
     "output_type": "stream",
     "text": [
      "A tomato is botanically a frui... | Academic conference poster:  60%|██████    | 6/10 [02:51<01:50, 27.51s/it]"
     ]
    },
    {
     "name": "stdout",
     "output_type": "stream",
     "text": [
      "✅ BATCH 6 / 10 DONE for Academic conference poster\n"
     ]
    },
    {
     "name": "stderr",
     "output_type": "stream",
     "text": [
      "A tomato is botanically a frui... | Academic conference poster:  70%|███████   | 7/10 [03:24<01:27, 29.20s/it]"
     ]
    },
    {
     "name": "stdout",
     "output_type": "stream",
     "text": [
      "✅ BATCH 7 / 10 DONE for Academic conference poster\n"
     ]
    },
    {
     "name": "stderr",
     "output_type": "stream",
     "text": [
      "A tomato is botanically a frui... | Academic conference poster:  80%|████████  | 8/10 [03:53<00:58, 29.19s/it]"
     ]
    },
    {
     "name": "stdout",
     "output_type": "stream",
     "text": [
      "✅ BATCH 8 / 10 DONE for Academic conference poster\n"
     ]
    },
    {
     "name": "stderr",
     "output_type": "stream",
     "text": [
      "A tomato is botanically a frui... | Academic conference poster:  90%|█████████ | 9/10 [04:18<00:27, 27.87s/it]"
     ]
    },
    {
     "name": "stdout",
     "output_type": "stream",
     "text": [
      "✅ BATCH 9 / 10 DONE for Academic conference poster\n"
     ]
    },
    {
     "name": "stderr",
     "output_type": "stream",
     "text": [
      "A tomato is botanically a frui... | Academic conference poster: 100%|██████████| 10/10 [04:44<00:00, 28.42s/it]\n"
     ]
    },
    {
     "name": "stdout",
     "output_type": "stream",
     "text": [
      "✅ BATCH 10 / 10 DONE for Academic conference poster\n"
     ]
    },
    {
     "name": "stderr",
     "output_type": "stream",
     "text": [
      "A tomato is botanically a frui... | Nutrition label:  10%|█         | 1/10 [00:28<04:19, 28.85s/it]"
     ]
    },
    {
     "name": "stdout",
     "output_type": "stream",
     "text": [
      "✅ BATCH 1 / 10 DONE for Nutrition label\n"
     ]
    },
    {
     "name": "stderr",
     "output_type": "stream",
     "text": [
      "A tomato is botanically a frui... | Nutrition label:  20%|██        | 2/10 [00:59<03:58, 29.84s/it]"
     ]
    },
    {
     "name": "stdout",
     "output_type": "stream",
     "text": [
      "✅ BATCH 2 / 10 DONE for Nutrition label\n"
     ]
    },
    {
     "name": "stderr",
     "output_type": "stream",
     "text": [
      "A tomato is botanically a frui... | Nutrition label:  30%|███       | 3/10 [01:28<03:27, 29.70s/it]"
     ]
    },
    {
     "name": "stdout",
     "output_type": "stream",
     "text": [
      "✅ BATCH 3 / 10 DONE for Nutrition label\n"
     ]
    },
    {
     "name": "stderr",
     "output_type": "stream",
     "text": [
      "A tomato is botanically a frui... | Nutrition label:  40%|████      | 4/10 [01:54<02:49, 28.22s/it]"
     ]
    },
    {
     "name": "stdout",
     "output_type": "stream",
     "text": [
      "✅ BATCH 4 / 10 DONE for Nutrition label\n"
     ]
    },
    {
     "name": "stderr",
     "output_type": "stream",
     "text": [
      "A tomato is botanically a frui... | Nutrition label:  50%|█████     | 5/10 [02:12<02:01, 24.33s/it]"
     ]
    },
    {
     "name": "stdout",
     "output_type": "stream",
     "text": [
      "✅ BATCH 5 / 10 DONE for Nutrition label\n"
     ]
    },
    {
     "name": "stderr",
     "output_type": "stream",
     "text": [
      "A tomato is botanically a frui... | Nutrition label:  60%|██████    | 6/10 [03:03<02:14, 33.59s/it]"
     ]
    },
    {
     "name": "stdout",
     "output_type": "stream",
     "text": [
      "✅ BATCH 6 / 10 DONE for Nutrition label\n"
     ]
    },
    {
     "name": "stderr",
     "output_type": "stream",
     "text": [
      "A tomato is botanically a frui... | Nutrition label:  80%|████████  | 8/10 [03:53<00:56, 28.36s/it]"
     ]
    },
    {
     "name": "stdout",
     "output_type": "stream",
     "text": [
      "✅ BATCH 8 / 10 DONE for Nutrition label\n"
     ]
    },
    {
     "name": "stderr",
     "output_type": "stream",
     "text": [
      "A tomato is botanically a frui... | Nutrition label:  90%|█████████ | 9/10 [04:17<00:27, 27.02s/it]"
     ]
    },
    {
     "name": "stdout",
     "output_type": "stream",
     "text": [
      "✅ BATCH 9 / 10 DONE for Nutrition label\n"
     ]
    },
    {
     "name": "stderr",
     "output_type": "stream",
     "text": [
      "A tomato is botanically a frui... | Nutrition label: 100%|██████████| 10/10 [04:50<00:00, 29.07s/it]\n"
     ]
    },
    {
     "name": "stdout",
     "output_type": "stream",
     "text": [
      "✅ BATCH 10 / 10 DONE for Nutrition label\n"
     ]
    },
    {
     "name": "stderr",
     "output_type": "stream",
     "text": [
      "A tomato is botanically a frui... | Produce packaging insert:  10%|█         | 1/10 [00:24<03:44, 24.92s/it]"
     ]
    },
    {
     "name": "stdout",
     "output_type": "stream",
     "text": [
      "✅ BATCH 1 / 10 DONE for Produce packaging insert\n"
     ]
    },
    {
     "name": "stderr",
     "output_type": "stream",
     "text": [
      "A tomato is botanically a frui... | Produce packaging insert:  20%|██        | 2/10 [00:55<03:43, 27.98s/it]"
     ]
    },
    {
     "name": "stdout",
     "output_type": "stream",
     "text": [
      "✅ BATCH 2 / 10 DONE for Produce packaging insert\n"
     ]
    },
    {
     "name": "stderr",
     "output_type": "stream",
     "text": [
      "A tomato is botanically a frui... | Produce packaging insert:  30%|███       | 3/10 [02:07<05:36, 48.08s/it]"
     ]
    },
    {
     "name": "stdout",
     "output_type": "stream",
     "text": [
      "✅ BATCH 3 / 10 DONE for Produce packaging insert\n"
     ]
    },
    {
     "name": "stderr",
     "output_type": "stream",
     "text": [
      "A tomato is botanically a frui... | Produce packaging insert:  40%|████      | 4/10 [03:21<05:51, 58.52s/it]"
     ]
    },
    {
     "name": "stdout",
     "output_type": "stream",
     "text": [
      "✅ BATCH 4 / 10 DONE for Produce packaging insert\n"
     ]
    },
    {
     "name": "stderr",
     "output_type": "stream",
     "text": [
      "A tomato is botanically a frui... | Produce packaging insert:  50%|█████     | 5/10 [03:49<03:57, 47.56s/it]"
     ]
    },
    {
     "name": "stdout",
     "output_type": "stream",
     "text": [
      "✅ BATCH 5 / 10 DONE for Produce packaging insert\n"
     ]
    },
    {
     "name": "stderr",
     "output_type": "stream",
     "text": [
      "A tomato is botanically a frui... | Produce packaging insert:  60%|██████    | 6/10 [04:27<02:56, 44.20s/it]"
     ]
    },
    {
     "name": "stdout",
     "output_type": "stream",
     "text": [
      "✅ BATCH 6 / 10 DONE for Produce packaging insert\n"
     ]
    },
    {
     "name": "stderr",
     "output_type": "stream",
     "text": [
      "A tomato is botanically a frui... | Produce packaging insert:  70%|███████   | 7/10 [05:02<02:03, 41.30s/it]"
     ]
    },
    {
     "name": "stdout",
     "output_type": "stream",
     "text": [
      "✅ BATCH 7 / 10 DONE for Produce packaging insert\n"
     ]
    },
    {
     "name": "stderr",
     "output_type": "stream",
     "text": [
      "A tomato is botanically a frui... | Produce packaging insert:  80%|████████  | 8/10 [05:25<01:10, 35.35s/it]"
     ]
    },
    {
     "name": "stdout",
     "output_type": "stream",
     "text": [
      "✅ BATCH 8 / 10 DONE for Produce packaging insert\n"
     ]
    },
    {
     "name": "stderr",
     "output_type": "stream",
     "text": [
      "A tomato is botanically a frui... | Produce packaging insert:  90%|█████████ | 9/10 [05:52<00:32, 32.71s/it]"
     ]
    },
    {
     "name": "stdout",
     "output_type": "stream",
     "text": [
      "✅ BATCH 9 / 10 DONE for Produce packaging insert\n"
     ]
    },
    {
     "name": "stderr",
     "output_type": "stream",
     "text": [
      "A tomato is botanically a frui... | Produce packaging insert: 100%|██████████| 10/10 [06:28<00:00, 38.83s/it]\n"
     ]
    },
    {
     "name": "stdout",
     "output_type": "stream",
     "text": [
      "✅ BATCH 10 / 10 DONE for Produce packaging insert\n"
     ]
    },
    {
     "name": "stderr",
     "output_type": "stream",
     "text": [
      "A tomato is botanically a frui... | Grocery store signage:  10%|█         | 1/10 [00:37<05:34, 37.16s/it]"
     ]
    },
    {
     "name": "stdout",
     "output_type": "stream",
     "text": [
      "✅ BATCH 1 / 10 DONE for Grocery store signage\n"
     ]
    },
    {
     "name": "stderr",
     "output_type": "stream",
     "text": [
      "A tomato is botanically a frui... | Grocery store signage:  20%|██        | 2/10 [01:04<04:09, 31.24s/it]"
     ]
    },
    {
     "name": "stdout",
     "output_type": "stream",
     "text": [
      "✅ BATCH 2 / 10 DONE for Grocery store signage\n"
     ]
    },
    {
     "name": "stderr",
     "output_type": "stream",
     "text": [
      "A tomato is botanically a frui... | Grocery store signage:  30%|███       | 3/10 [01:34<03:34, 30.64s/it]"
     ]
    },
    {
     "name": "stdout",
     "output_type": "stream",
     "text": [
      "✅ BATCH 3 / 10 DONE for Grocery store signage\n"
     ]
    },
    {
     "name": "stderr",
     "output_type": "stream",
     "text": [
      "A tomato is botanically a frui... | Grocery store signage:  40%|████      | 4/10 [01:55<02:40, 26.78s/it]"
     ]
    },
    {
     "name": "stdout",
     "output_type": "stream",
     "text": [
      "✅ BATCH 4 / 10 DONE for Grocery store signage\n"
     ]
    },
    {
     "name": "stderr",
     "output_type": "stream",
     "text": [
      "A tomato is botanically a frui... | Grocery store signage:  50%|█████     | 5/10 [02:10<01:53, 22.76s/it]"
     ]
    },
    {
     "name": "stdout",
     "output_type": "stream",
     "text": [
      "✅ BATCH 5 / 10 DONE for Grocery store signage\n"
     ]
    },
    {
     "name": "stderr",
     "output_type": "stream",
     "text": [
      "A tomato is botanically a frui... | Grocery store signage:  60%|██████    | 6/10 [02:57<02:03, 30.95s/it]"
     ]
    },
    {
     "name": "stdout",
     "output_type": "stream",
     "text": [
      "✅ BATCH 6 / 10 DONE for Grocery store signage\n"
     ]
    },
    {
     "name": "stderr",
     "output_type": "stream",
     "text": [
      "A tomato is botanically a frui... | Grocery store signage:  70%|███████   | 7/10 [03:33<01:37, 32.54s/it]"
     ]
    },
    {
     "name": "stdout",
     "output_type": "stream",
     "text": [
      "✅ BATCH 7 / 10 DONE for Grocery store signage\n"
     ]
    },
    {
     "name": "stderr",
     "output_type": "stream",
     "text": [
      "A tomato is botanically a frui... | Grocery store signage:  80%|████████  | 8/10 [03:57<00:59, 29.95s/it]"
     ]
    },
    {
     "name": "stdout",
     "output_type": "stream",
     "text": [
      "✅ BATCH 8 / 10 DONE for Grocery store signage\n"
     ]
    },
    {
     "name": "stderr",
     "output_type": "stream",
     "text": [
      "A tomato is botanically a frui... | Grocery store signage:  90%|█████████ | 9/10 [04:16<00:26, 26.54s/it]"
     ]
    },
    {
     "name": "stdout",
     "output_type": "stream",
     "text": [
      "✅ BATCH 9 / 10 DONE for Grocery store signage\n"
     ]
    },
    {
     "name": "stderr",
     "output_type": "stream",
     "text": [
      "A tomato is botanically a frui... | Grocery store signage: 100%|██████████| 10/10 [04:48<00:00, 28.85s/it]\n"
     ]
    },
    {
     "name": "stdout",
     "output_type": "stream",
     "text": [
      "✅ BATCH 10 / 10 DONE for Grocery store signage\n"
     ]
    },
    {
     "name": "stderr",
     "output_type": "stream",
     "text": [
      "A tomato is botanically a frui... | Culinary blog post:  10%|█         | 1/10 [00:33<04:59, 33.22s/it]"
     ]
    },
    {
     "name": "stdout",
     "output_type": "stream",
     "text": [
      "✅ BATCH 1 / 10 DONE for Culinary blog post\n"
     ]
    },
    {
     "name": "stderr",
     "output_type": "stream",
     "text": [
      "A tomato is botanically a frui... | Culinary blog post:  20%|██        | 2/10 [00:58<03:50, 28.78s/it]"
     ]
    },
    {
     "name": "stdout",
     "output_type": "stream",
     "text": [
      "✅ BATCH 2 / 10 DONE for Culinary blog post\n"
     ]
    },
    {
     "name": "stderr",
     "output_type": "stream",
     "text": [
      "A tomato is botanically a frui... | Culinary blog post:  30%|███       | 3/10 [01:20<02:57, 25.39s/it]"
     ]
    },
    {
     "name": "stdout",
     "output_type": "stream",
     "text": [
      "✅ BATCH 3 / 10 DONE for Culinary blog post\n"
     ]
    },
    {
     "name": "stderr",
     "output_type": "stream",
     "text": [
      "A tomato is botanically a frui... | Culinary blog post:  40%|████      | 4/10 [01:44<02:30, 25.12s/it]"
     ]
    },
    {
     "name": "stdout",
     "output_type": "stream",
     "text": [
      "✅ BATCH 4 / 10 DONE for Culinary blog post\n"
     ]
    },
    {
     "name": "stderr",
     "output_type": "stream",
     "text": [
      "A tomato is botanically a frui... | Culinary blog post:  50%|█████     | 5/10 [02:18<02:20, 28.03s/it]"
     ]
    },
    {
     "name": "stdout",
     "output_type": "stream",
     "text": [
      "✅ BATCH 5 / 10 DONE for Culinary blog post\n"
     ]
    },
    {
     "name": "stderr",
     "output_type": "stream",
     "text": [
      "A tomato is botanically a frui... | Culinary blog post:  60%|██████    | 6/10 [02:47<01:53, 28.49s/it]"
     ]
    },
    {
     "name": "stdout",
     "output_type": "stream",
     "text": [
      "✅ BATCH 6 / 10 DONE for Culinary blog post\n"
     ]
    },
    {
     "name": "stderr",
     "output_type": "stream",
     "text": [
      "A tomato is botanically a frui... | Culinary blog post:  70%|███████   | 7/10 [03:15<01:25, 28.46s/it]"
     ]
    },
    {
     "name": "stdout",
     "output_type": "stream",
     "text": [
      "✅ BATCH 7 / 10 DONE for Culinary blog post\n"
     ]
    },
    {
     "name": "stderr",
     "output_type": "stream",
     "text": [
      "A tomato is botanically a frui... | Culinary blog post:  80%|████████  | 8/10 [03:45<00:57, 28.78s/it]"
     ]
    },
    {
     "name": "stdout",
     "output_type": "stream",
     "text": [
      "✅ BATCH 8 / 10 DONE for Culinary blog post\n"
     ]
    },
    {
     "name": "stderr",
     "output_type": "stream",
     "text": [
      "A tomato is botanically a frui... | Culinary blog post:  90%|█████████ | 9/10 [04:12<00:28, 28.40s/it]"
     ]
    },
    {
     "name": "stdout",
     "output_type": "stream",
     "text": [
      "✅ BATCH 9 / 10 DONE for Culinary blog post\n"
     ]
    },
    {
     "name": "stderr",
     "output_type": "stream",
     "text": [
      "A tomato is botanically a frui... | Culinary blog post: 100%|██████████| 10/10 [04:43<00:00, 28.38s/it]\n"
     ]
    },
    {
     "name": "stdout",
     "output_type": "stream",
     "text": [
      "✅ BATCH 10 / 10 DONE for Culinary blog post\n"
     ]
    },
    {
     "name": "stderr",
     "output_type": "stream",
     "text": [
      "A tomato is botanically a frui... | Culinary arts curriculum:  10%|█         | 1/10 [00:33<05:01, 33.47s/it]"
     ]
    },
    {
     "name": "stdout",
     "output_type": "stream",
     "text": [
      "✅ BATCH 1 / 10 DONE for Culinary arts curriculum\n"
     ]
    },
    {
     "name": "stderr",
     "output_type": "stream",
     "text": [
      "A tomato is botanically a frui... | Culinary arts curriculum:  20%|██        | 2/10 [01:05<04:20, 32.54s/it]"
     ]
    },
    {
     "name": "stdout",
     "output_type": "stream",
     "text": [
      "✅ BATCH 2 / 10 DONE for Culinary arts curriculum\n"
     ]
    },
    {
     "name": "stderr",
     "output_type": "stream",
     "text": [
      "A tomato is botanically a frui... | Culinary arts curriculum:  30%|███       | 3/10 [01:43<04:06, 35.16s/it]"
     ]
    },
    {
     "name": "stdout",
     "output_type": "stream",
     "text": [
      "✅ BATCH 3 / 10 DONE for Culinary arts curriculum\n"
     ]
    },
    {
     "name": "stderr",
     "output_type": "stream",
     "text": [
      "A tomato is botanically a frui... | Culinary arts curriculum:  40%|████      | 4/10 [02:15<03:22, 33.73s/it]"
     ]
    },
    {
     "name": "stdout",
     "output_type": "stream",
     "text": [
      "✅ BATCH 4 / 10 DONE for Culinary arts curriculum\n"
     ]
    },
    {
     "name": "stderr",
     "output_type": "stream",
     "text": [
      "A tomato is botanically a frui... | Culinary arts curriculum:  50%|█████     | 5/10 [02:53<02:56, 35.30s/it]"
     ]
    },
    {
     "name": "stdout",
     "output_type": "stream",
     "text": [
      "✅ BATCH 5 / 10 DONE for Culinary arts curriculum\n"
     ]
    },
    {
     "name": "stderr",
     "output_type": "stream",
     "text": [
      "A tomato is botanically a frui... | Culinary arts curriculum:  60%|██████    | 6/10 [03:32<02:26, 36.51s/it]"
     ]
    },
    {
     "name": "stdout",
     "output_type": "stream",
     "text": [
      "✅ BATCH 6 / 10 DONE for Culinary arts curriculum\n"
     ]
    },
    {
     "name": "stderr",
     "output_type": "stream",
     "text": [
      "A tomato is botanically a frui... | Culinary arts curriculum:  70%|███████   | 7/10 [04:26<02:06, 42.27s/it]"
     ]
    },
    {
     "name": "stdout",
     "output_type": "stream",
     "text": [
      "✅ BATCH 7 / 10 DONE for Culinary arts curriculum\n"
     ]
    },
    {
     "name": "stderr",
     "output_type": "stream",
     "text": [
      "A tomato is botanically a frui... | Culinary arts curriculum:  80%|████████  | 8/10 [04:58<01:18, 39.19s/it]"
     ]
    },
    {
     "name": "stdout",
     "output_type": "stream",
     "text": [
      "✅ BATCH 8 / 10 DONE for Culinary arts curriculum\n"
     ]
    },
    {
     "name": "stderr",
     "output_type": "stream",
     "text": [
      "A tomato is botanically a frui... | Culinary arts curriculum:  90%|█████████ | 9/10 [05:35<00:38, 38.33s/it]"
     ]
    },
    {
     "name": "stdout",
     "output_type": "stream",
     "text": [
      "✅ BATCH 9 / 10 DONE for Culinary arts curriculum\n"
     ]
    },
    {
     "name": "stderr",
     "output_type": "stream",
     "text": [
      "A tomato is botanically a frui... | Culinary arts curriculum: 100%|██████████| 10/10 [06:08<00:00, 36.81s/it]\n"
     ]
    },
    {
     "name": "stdout",
     "output_type": "stream",
     "text": [
      "✅ BATCH 10 / 10 DONE for Culinary arts curriculum\n"
     ]
    },
    {
     "name": "stderr",
     "output_type": "stream",
     "text": [
      "A tomato is botanically a frui... | Food science research paper:  10%|█         | 1/10 [00:54<08:06, 54.02s/it]"
     ]
    },
    {
     "name": "stdout",
     "output_type": "stream",
     "text": [
      "✅ BATCH 1 / 10 DONE for Food science research paper\n"
     ]
    },
    {
     "name": "stderr",
     "output_type": "stream",
     "text": [
      "A tomato is botanically a frui... | Food science research paper:  20%|██        | 2/10 [01:36<06:19, 47.40s/it]"
     ]
    },
    {
     "name": "stdout",
     "output_type": "stream",
     "text": [
      "✅ BATCH 2 / 10 DONE for Food science research paper\n"
     ]
    },
    {
     "name": "stderr",
     "output_type": "stream",
     "text": [
      "A tomato is botanically a frui... | Food science research paper:  30%|███       | 3/10 [02:25<05:35, 47.86s/it]"
     ]
    },
    {
     "name": "stdout",
     "output_type": "stream",
     "text": [
      "✅ BATCH 3 / 10 DONE for Food science research paper\n"
     ]
    },
    {
     "name": "stderr",
     "output_type": "stream",
     "text": [
      "A tomato is botanically a frui... | Food science research paper:  40%|████      | 4/10 [03:06<04:32, 45.46s/it]"
     ]
    },
    {
     "name": "stdout",
     "output_type": "stream",
     "text": [
      "✅ BATCH 4 / 10 DONE for Food science research paper\n"
     ]
    },
    {
     "name": "stderr",
     "output_type": "stream",
     "text": [
      "A tomato is botanically a frui... | Food science research paper:  50%|█████     | 5/10 [04:13<04:24, 52.98s/it]"
     ]
    },
    {
     "name": "stdout",
     "output_type": "stream",
     "text": [
      "✅ BATCH 5 / 10 DONE for Food science research paper\n"
     ]
    },
    {
     "name": "stderr",
     "output_type": "stream",
     "text": [
      "A tomato is botanically a frui... | Food science research paper:  60%|██████    | 6/10 [04:47<03:06, 46.66s/it]"
     ]
    },
    {
     "name": "stdout",
     "output_type": "stream",
     "text": [
      "✅ BATCH 6 / 10 DONE for Food science research paper\n"
     ]
    },
    {
     "name": "stderr",
     "output_type": "stream",
     "text": [
      "A tomato is botanically a frui... | Food science research paper:  70%|███████   | 7/10 [05:28<02:14, 44.81s/it]"
     ]
    },
    {
     "name": "stdout",
     "output_type": "stream",
     "text": [
      "✅ BATCH 7 / 10 DONE for Food science research paper\n"
     ]
    },
    {
     "name": "stderr",
     "output_type": "stream",
     "text": [
      "A tomato is botanically a frui... | Food science research paper:  80%|████████  | 8/10 [06:03<01:23, 41.60s/it]"
     ]
    },
    {
     "name": "stdout",
     "output_type": "stream",
     "text": [
      "✅ BATCH 8 / 10 DONE for Food science research paper\n"
     ]
    },
    {
     "name": "stderr",
     "output_type": "stream",
     "text": [
      "A tomato is botanically a frui... | Food science research paper:  90%|█████████ | 9/10 [06:45<00:41, 41.86s/it]"
     ]
    },
    {
     "name": "stdout",
     "output_type": "stream",
     "text": [
      "✅ BATCH 9 / 10 DONE for Food science research paper\n"
     ]
    },
    {
     "name": "stderr",
     "output_type": "stream",
     "text": [
      "A tomato is botanically a frui... | Food science research paper: 100%|██████████| 10/10 [07:20<00:00, 44.05s/it]\n"
     ]
    },
    {
     "name": "stdout",
     "output_type": "stream",
     "text": [
      "✅ BATCH 10 / 10 DONE for Food science research paper\n"
     ]
    },
    {
     "name": "stderr",
     "output_type": "stream",
     "text": [
      "A tomato is botanically a frui... | Agricultural extension bulletin:  10%|█         | 1/10 [00:41<06:16, 41.89s/it]"
     ]
    },
    {
     "name": "stdout",
     "output_type": "stream",
     "text": [
      "✅ BATCH 1 / 10 DONE for Agricultural extension bulletin\n"
     ]
    },
    {
     "name": "stderr",
     "output_type": "stream",
     "text": [
      "A tomato is botanically a frui... | Agricultural extension bulletin:  20%|██        | 2/10 [01:17<05:06, 38.29s/it]"
     ]
    },
    {
     "name": "stdout",
     "output_type": "stream",
     "text": [
      "✅ BATCH 2 / 10 DONE for Agricultural extension bulletin\n"
     ]
    },
    {
     "name": "stderr",
     "output_type": "stream",
     "text": [
      "A tomato is botanically a frui... | Agricultural extension bulletin:  30%|███       | 3/10 [01:44<03:51, 33.14s/it]"
     ]
    },
    {
     "name": "stdout",
     "output_type": "stream",
     "text": [
      "✅ BATCH 3 / 10 DONE for Agricultural extension bulletin\n"
     ]
    },
    {
     "name": "stderr",
     "output_type": "stream",
     "text": [
      "A tomato is botanically a frui... | Agricultural extension bulletin:  40%|████      | 4/10 [02:17<03:19, 33.20s/it]"
     ]
    },
    {
     "name": "stdout",
     "output_type": "stream",
     "text": [
      "✅ BATCH 4 / 10 DONE for Agricultural extension bulletin\n"
     ]
    },
    {
     "name": "stderr",
     "output_type": "stream",
     "text": [
      "A tomato is botanically a frui... | Agricultural extension bulletin:  50%|█████     | 5/10 [02:46<02:36, 31.40s/it]"
     ]
    },
    {
     "name": "stdout",
     "output_type": "stream",
     "text": [
      "✅ BATCH 5 / 10 DONE for Agricultural extension bulletin\n"
     ]
    },
    {
     "name": "stderr",
     "output_type": "stream",
     "text": [
      "A tomato is botanically a frui... | Agricultural extension bulletin:  60%|██████    | 6/10 [03:20<02:09, 32.46s/it]"
     ]
    },
    {
     "name": "stdout",
     "output_type": "stream",
     "text": [
      "✅ BATCH 6 / 10 DONE for Agricultural extension bulletin\n"
     ]
    },
    {
     "name": "stderr",
     "output_type": "stream",
     "text": [
      "A tomato is botanically a frui... | Agricultural extension bulletin:  70%|███████   | 7/10 [03:58<01:42, 34.30s/it]"
     ]
    },
    {
     "name": "stdout",
     "output_type": "stream",
     "text": [
      "✅ BATCH 7 / 10 DONE for Agricultural extension bulletin\n"
     ]
    },
    {
     "name": "stderr",
     "output_type": "stream",
     "text": [
      "A tomato is botanically a frui... | Agricultural extension bulletin:  80%|████████  | 8/10 [04:25<01:03, 31.77s/it]"
     ]
    },
    {
     "name": "stdout",
     "output_type": "stream",
     "text": [
      "✅ BATCH 8 / 10 DONE for Agricultural extension bulletin\n"
     ]
    },
    {
     "name": "stderr",
     "output_type": "stream",
     "text": [
      "A tomato is botanically a frui... | Agricultural extension bulletin:  90%|█████████ | 9/10 [04:56<00:31, 31.65s/it]"
     ]
    },
    {
     "name": "stdout",
     "output_type": "stream",
     "text": [
      "✅ BATCH 9 / 10 DONE for Agricultural extension bulletin\n"
     ]
    },
    {
     "name": "stderr",
     "output_type": "stream",
     "text": [
      "A tomato is botanically a frui... | Agricultural extension bulletin: 100%|██████████| 10/10 [05:33<00:00, 33.38s/it]\n"
     ]
    },
    {
     "name": "stdout",
     "output_type": "stream",
     "text": [
      "✅ BATCH 10 / 10 DONE for Agricultural extension bulletin\n"
     ]
    },
    {
     "name": "stderr",
     "output_type": "stream",
     "text": [
      "A tomato is botanically a frui... | Public health pamphlet:  10%|█         | 1/10 [00:22<03:24, 22.74s/it]"
     ]
    },
    {
     "name": "stdout",
     "output_type": "stream",
     "text": [
      "✅ BATCH 1 / 10 DONE for Public health pamphlet\n"
     ]
    },
    {
     "name": "stderr",
     "output_type": "stream",
     "text": [
      "A tomato is botanically a frui... | Public health pamphlet:  20%|██        | 2/10 [00:52<03:34, 26.85s/it]"
     ]
    },
    {
     "name": "stdout",
     "output_type": "stream",
     "text": [
      "✅ BATCH 2 / 10 DONE for Public health pamphlet\n"
     ]
    },
    {
     "name": "stderr",
     "output_type": "stream",
     "text": [
      "A tomato is botanically a frui... | Public health pamphlet:  30%|███       | 3/10 [01:46<04:35, 39.31s/it]"
     ]
    },
    {
     "name": "stdout",
     "output_type": "stream",
     "text": [
      "✅ BATCH 3 / 10 DONE for Public health pamphlet\n"
     ]
    },
    {
     "name": "stderr",
     "output_type": "stream",
     "text": [
      "A tomato is botanically a frui... | Public health pamphlet:  40%|████      | 4/10 [02:12<03:24, 34.16s/it]"
     ]
    },
    {
     "name": "stdout",
     "output_type": "stream",
     "text": [
      "✅ BATCH 4 / 10 DONE for Public health pamphlet\n"
     ]
    },
    {
     "name": "stderr",
     "output_type": "stream",
     "text": [
      "A tomato is botanically a frui... | Public health pamphlet:  50%|█████     | 5/10 [02:40<02:39, 31.87s/it]"
     ]
    },
    {
     "name": "stdout",
     "output_type": "stream",
     "text": [
      "✅ BATCH 5 / 10 DONE for Public health pamphlet\n"
     ]
    },
    {
     "name": "stderr",
     "output_type": "stream",
     "text": [
      "A tomato is botanically a frui... | Public health pamphlet:  60%|██████    | 6/10 [03:13<02:08, 32.20s/it]"
     ]
    },
    {
     "name": "stdout",
     "output_type": "stream",
     "text": [
      "✅ BATCH 6 / 10 DONE for Public health pamphlet\n"
     ]
    },
    {
     "name": "stderr",
     "output_type": "stream",
     "text": [
      "A tomato is botanically a frui... | Public health pamphlet:  70%|███████   | 7/10 [03:44<01:35, 31.78s/it]"
     ]
    },
    {
     "name": "stdout",
     "output_type": "stream",
     "text": [
      "✅ BATCH 7 / 10 DONE for Public health pamphlet\n"
     ]
    },
    {
     "name": "stderr",
     "output_type": "stream",
     "text": [
      "A tomato is botanically a frui... | Public health pamphlet:  80%|████████  | 8/10 [04:08<00:58, 29.23s/it]"
     ]
    },
    {
     "name": "stdout",
     "output_type": "stream",
     "text": [
      "✅ BATCH 8 / 10 DONE for Public health pamphlet\n"
     ]
    },
    {
     "name": "stderr",
     "output_type": "stream",
     "text": [
      "A tomato is botanically a frui... | Public health pamphlet:  90%|█████████ | 9/10 [04:38<00:29, 29.64s/it]"
     ]
    },
    {
     "name": "stdout",
     "output_type": "stream",
     "text": [
      "✅ BATCH 9 / 10 DONE for Public health pamphlet\n"
     ]
    },
    {
     "name": "stderr",
     "output_type": "stream",
     "text": [
      "A tomato is botanically a frui... | Public health pamphlet: 100%|██████████| 10/10 [05:14<00:00, 31.46s/it]\n"
     ]
    },
    {
     "name": "stdout",
     "output_type": "stream",
     "text": [
      "✅ BATCH 10 / 10 DONE for Public health pamphlet\n"
     ]
    },
    {
     "name": "stderr",
     "output_type": "stream",
     "text": [
      "The largest mammal on Earth is... | Scientific journal article:  10%|█         | 1/10 [00:38<05:47, 38.59s/it]"
     ]
    },
    {
     "name": "stdout",
     "output_type": "stream",
     "text": [
      "✅ BATCH 1 / 10 DONE for Scientific journal article\n"
     ]
    },
    {
     "name": "stderr",
     "output_type": "stream",
     "text": [
      "The largest mammal on Earth is... | Scientific journal article:  20%|██        | 2/10 [01:21<05:29, 41.23s/it]"
     ]
    },
    {
     "name": "stdout",
     "output_type": "stream",
     "text": [
      "✅ BATCH 2 / 10 DONE for Scientific journal article\n"
     ]
    },
    {
     "name": "stderr",
     "output_type": "stream",
     "text": [
      "The largest mammal on Earth is... | Scientific journal article:  30%|███       | 3/10 [01:59<04:39, 39.90s/it]"
     ]
    },
    {
     "name": "stdout",
     "output_type": "stream",
     "text": [
      "✅ BATCH 3 / 10 DONE for Scientific journal article\n"
     ]
    },
    {
     "name": "stderr",
     "output_type": "stream",
     "text": [
      "The largest mammal on Earth is... | Scientific journal article:  40%|████      | 4/10 [02:29<03:35, 35.86s/it]"
     ]
    },
    {
     "name": "stdout",
     "output_type": "stream",
     "text": [
      "✅ BATCH 4 / 10 DONE for Scientific journal article\n"
     ]
    },
    {
     "name": "stderr",
     "output_type": "stream",
     "text": [
      "The largest mammal on Earth is... | Scientific journal article:  50%|█████     | 5/10 [03:01<02:52, 34.45s/it]"
     ]
    },
    {
     "name": "stdout",
     "output_type": "stream",
     "text": [
      "✅ BATCH 5 / 10 DONE for Scientific journal article\n"
     ]
    },
    {
     "name": "stderr",
     "output_type": "stream",
     "text": [
      "The largest mammal on Earth is... | Scientific journal article:  60%|██████    | 6/10 [03:33<02:14, 33.59s/it]"
     ]
    },
    {
     "name": "stdout",
     "output_type": "stream",
     "text": [
      "✅ BATCH 6 / 10 DONE for Scientific journal article\n"
     ]
    },
    {
     "name": "stderr",
     "output_type": "stream",
     "text": [
      "The largest mammal on Earth is... | Scientific journal article:  70%|███████   | 7/10 [04:07<01:40, 33.62s/it]"
     ]
    },
    {
     "name": "stdout",
     "output_type": "stream",
     "text": [
      "✅ BATCH 7 / 10 DONE for Scientific journal article\n"
     ]
    },
    {
     "name": "stderr",
     "output_type": "stream",
     "text": [
      "The largest mammal on Earth is... | Scientific journal article:  80%|████████  | 8/10 [04:37<01:05, 32.59s/it]"
     ]
    },
    {
     "name": "stdout",
     "output_type": "stream",
     "text": [
      "✅ BATCH 8 / 10 DONE for Scientific journal article\n"
     ]
    },
    {
     "name": "stderr",
     "output_type": "stream",
     "text": [
      "The largest mammal on Earth is... | Scientific journal article:  90%|█████████ | 9/10 [05:15<00:34, 34.10s/it]"
     ]
    },
    {
     "name": "stdout",
     "output_type": "stream",
     "text": [
      "✅ BATCH 9 / 10 DONE for Scientific journal article\n"
     ]
    },
    {
     "name": "stderr",
     "output_type": "stream",
     "text": [
      "The largest mammal on Earth is... | Scientific journal article: 100%|██████████| 10/10 [05:46<00:00, 34.66s/it]\n"
     ]
    },
    {
     "name": "stdout",
     "output_type": "stream",
     "text": [
      "✅ BATCH 10 / 10 DONE for Scientific journal article\n"
     ]
    },
    {
     "name": "stderr",
     "output_type": "stream",
     "text": [
      "The largest mammal on Earth is... | Wildlife documentary script:  10%|█         | 1/10 [00:32<04:54, 32.74s/it]"
     ]
    },
    {
     "name": "stdout",
     "output_type": "stream",
     "text": [
      "✅ BATCH 1 / 10 DONE for Wildlife documentary script\n"
     ]
    },
    {
     "name": "stderr",
     "output_type": "stream",
     "text": [
      "The largest mammal on Earth is... | Wildlife documentary script:  20%|██        | 2/10 [01:06<04:24, 33.06s/it]"
     ]
    },
    {
     "name": "stdout",
     "output_type": "stream",
     "text": [
      "✅ BATCH 2 / 10 DONE for Wildlife documentary script\n"
     ]
    },
    {
     "name": "stderr",
     "output_type": "stream",
     "text": [
      "The largest mammal on Earth is... | Wildlife documentary script:  30%|███       | 3/10 [01:41<03:58, 34.03s/it]"
     ]
    },
    {
     "name": "stdout",
     "output_type": "stream",
     "text": [
      "✅ BATCH 3 / 10 DONE for Wildlife documentary script\n"
     ]
    },
    {
     "name": "stderr",
     "output_type": "stream",
     "text": [
      "The largest mammal on Earth is... | Wildlife documentary script:  40%|████      | 4/10 [02:10<03:13, 32.24s/it]"
     ]
    },
    {
     "name": "stdout",
     "output_type": "stream",
     "text": [
      "✅ BATCH 4 / 10 DONE for Wildlife documentary script\n"
     ]
    },
    {
     "name": "stderr",
     "output_type": "stream",
     "text": [
      "The largest mammal on Earth is... | Wildlife documentary script:  50%|█████     | 5/10 [02:53<03:00, 36.09s/it]"
     ]
    },
    {
     "name": "stdout",
     "output_type": "stream",
     "text": [
      "✅ BATCH 5 / 10 DONE for Wildlife documentary script\n"
     ]
    },
    {
     "name": "stderr",
     "output_type": "stream",
     "text": [
      "The largest mammal on Earth is... | Wildlife documentary script:  60%|██████    | 6/10 [03:27<02:21, 35.38s/it]"
     ]
    },
    {
     "name": "stdout",
     "output_type": "stream",
     "text": [
      "✅ BATCH 6 / 10 DONE for Wildlife documentary script\n"
     ]
    },
    {
     "name": "stderr",
     "output_type": "stream",
     "text": [
      "The largest mammal on Earth is... | Wildlife documentary script:  70%|███████   | 7/10 [04:02<01:45, 35.14s/it]"
     ]
    },
    {
     "name": "stdout",
     "output_type": "stream",
     "text": [
      "✅ BATCH 7 / 10 DONE for Wildlife documentary script\n"
     ]
    },
    {
     "name": "stderr",
     "output_type": "stream",
     "text": [
      "The largest mammal on Earth is... | Wildlife documentary script:  80%|████████  | 8/10 [04:32<01:07, 33.67s/it]"
     ]
    },
    {
     "name": "stdout",
     "output_type": "stream",
     "text": [
      "✅ BATCH 8 / 10 DONE for Wildlife documentary script\n"
     ]
    },
    {
     "name": "stderr",
     "output_type": "stream",
     "text": [
      "The largest mammal on Earth is... | Wildlife documentary script:  90%|█████████ | 9/10 [05:05<00:33, 33.44s/it]"
     ]
    },
    {
     "name": "stdout",
     "output_type": "stream",
     "text": [
      "✅ BATCH 9 / 10 DONE for Wildlife documentary script\n"
     ]
    },
    {
     "name": "stderr",
     "output_type": "stream",
     "text": [
      "The largest mammal on Earth is... | Wildlife documentary script: 100%|██████████| 10/10 [05:37<00:00, 33.71s/it]\n"
     ]
    },
    {
     "name": "stdout",
     "output_type": "stream",
     "text": [
      "✅ BATCH 10 / 10 DONE for Wildlife documentary script\n"
     ]
    },
    {
     "name": "stderr",
     "output_type": "stream",
     "text": [
      "The largest mammal on Earth is... | School textbook chapter:  10%|█         | 1/10 [00:36<05:28, 36.49s/it]"
     ]
    },
    {
     "name": "stdout",
     "output_type": "stream",
     "text": [
      "✅ BATCH 1 / 10 DONE for School textbook chapter\n"
     ]
    },
    {
     "name": "stderr",
     "output_type": "stream",
     "text": [
      "The largest mammal on Earth is... | School textbook chapter:  20%|██        | 2/10 [01:09<04:33, 34.22s/it]"
     ]
    },
    {
     "name": "stdout",
     "output_type": "stream",
     "text": [
      "✅ BATCH 2 / 10 DONE for School textbook chapter\n"
     ]
    },
    {
     "name": "stderr",
     "output_type": "stream",
     "text": [
      "The largest mammal on Earth is... | School textbook chapter:  30%|███       | 3/10 [01:46<04:09, 35.59s/it]"
     ]
    },
    {
     "name": "stdout",
     "output_type": "stream",
     "text": [
      "✅ BATCH 3 / 10 DONE for School textbook chapter\n"
     ]
    },
    {
     "name": "stderr",
     "output_type": "stream",
     "text": [
      "The largest mammal on Earth is... | School textbook chapter:  40%|████      | 4/10 [02:13<03:14, 32.46s/it]"
     ]
    },
    {
     "name": "stdout",
     "output_type": "stream",
     "text": [
      "✅ BATCH 4 / 10 DONE for School textbook chapter\n"
     ]
    },
    {
     "name": "stderr",
     "output_type": "stream",
     "text": [
      "The largest mammal on Earth is... | School textbook chapter:  50%|█████     | 5/10 [02:41<02:34, 30.81s/it]"
     ]
    },
    {
     "name": "stdout",
     "output_type": "stream",
     "text": [
      "✅ BATCH 5 / 10 DONE for School textbook chapter\n"
     ]
    },
    {
     "name": "stderr",
     "output_type": "stream",
     "text": [
      "The largest mammal on Earth is... | School textbook chapter:  60%|██████    | 6/10 [03:32<02:29, 37.45s/it]"
     ]
    },
    {
     "name": "stdout",
     "output_type": "stream",
     "text": [
      "✅ BATCH 6 / 10 DONE for School textbook chapter\n"
     ]
    },
    {
     "name": "stderr",
     "output_type": "stream",
     "text": [
      "The largest mammal on Earth is... | School textbook chapter:  70%|███████   | 7/10 [04:01<01:43, 34.64s/it]"
     ]
    },
    {
     "name": "stdout",
     "output_type": "stream",
     "text": [
      "✅ BATCH 7 / 10 DONE for School textbook chapter\n"
     ]
    },
    {
     "name": "stderr",
     "output_type": "stream",
     "text": [
      "The largest mammal on Earth is... | School textbook chapter:  80%|████████  | 8/10 [04:36<01:09, 34.94s/it]"
     ]
    },
    {
     "name": "stdout",
     "output_type": "stream",
     "text": [
      "✅ BATCH 8 / 10 DONE for School textbook chapter\n"
     ]
    },
    {
     "name": "stderr",
     "output_type": "stream",
     "text": [
      "The largest mammal on Earth is... | School textbook chapter:  90%|█████████ | 9/10 [05:14<00:35, 35.76s/it]"
     ]
    },
    {
     "name": "stdout",
     "output_type": "stream",
     "text": [
      "✅ BATCH 9 / 10 DONE for School textbook chapter\n"
     ]
    },
    {
     "name": "stderr",
     "output_type": "stream",
     "text": [
      "The largest mammal on Earth is... | School textbook chapter: 100%|██████████| 10/10 [05:58<00:00, 35.87s/it]\n"
     ]
    },
    {
     "name": "stdout",
     "output_type": "stream",
     "text": [
      "✅ BATCH 10 / 10 DONE for School textbook chapter\n"
     ]
    },
    {
     "name": "stderr",
     "output_type": "stream",
     "text": [
      "The largest mammal on Earth is... | Encyclopedia entry:  10%|█         | 1/10 [00:32<04:56, 32.93s/it]"
     ]
    },
    {
     "name": "stdout",
     "output_type": "stream",
     "text": [
      "✅ BATCH 1 / 10 DONE for Encyclopedia entry\n"
     ]
    },
    {
     "name": "stderr",
     "output_type": "stream",
     "text": [
      "The largest mammal on Earth is... | Encyclopedia entry:  20%|██        | 2/10 [01:10<04:43, 35.39s/it]"
     ]
    },
    {
     "name": "stdout",
     "output_type": "stream",
     "text": [
      "✅ BATCH 2 / 10 DONE for Encyclopedia entry\n"
     ]
    },
    {
     "name": "stderr",
     "output_type": "stream",
     "text": [
      "The largest mammal on Earth is... | Encyclopedia entry:  30%|███       | 3/10 [01:56<04:42, 40.36s/it]"
     ]
    },
    {
     "name": "stdout",
     "output_type": "stream",
     "text": [
      "✅ BATCH 3 / 10 DONE for Encyclopedia entry\n"
     ]
    },
    {
     "name": "stderr",
     "output_type": "stream",
     "text": [
      "The largest mammal on Earth is... | Encyclopedia entry:  40%|████      | 4/10 [02:33<03:55, 39.29s/it]"
     ]
    },
    {
     "name": "stdout",
     "output_type": "stream",
     "text": [
      "✅ BATCH 4 / 10 DONE for Encyclopedia entry\n"
     ]
    },
    {
     "name": "stderr",
     "output_type": "stream",
     "text": [
      "The largest mammal on Earth is... | Encyclopedia entry:  50%|█████     | 5/10 [03:06<03:03, 36.73s/it]"
     ]
    },
    {
     "name": "stdout",
     "output_type": "stream",
     "text": [
      "✅ BATCH 5 / 10 DONE for Encyclopedia entry\n"
     ]
    },
    {
     "name": "stderr",
     "output_type": "stream",
     "text": [
      "The largest mammal on Earth is... | Encyclopedia entry:  60%|██████    | 6/10 [03:35<02:17, 34.30s/it]"
     ]
    },
    {
     "name": "stdout",
     "output_type": "stream",
     "text": [
      "✅ BATCH 6 / 10 DONE for Encyclopedia entry\n"
     ]
    },
    {
     "name": "stderr",
     "output_type": "stream",
     "text": [
      "The largest mammal on Earth is... | Encyclopedia entry:  70%|███████   | 7/10 [04:08<01:41, 33.87s/it]"
     ]
    },
    {
     "name": "stdout",
     "output_type": "stream",
     "text": [
      "✅ BATCH 7 / 10 DONE for Encyclopedia entry\n"
     ]
    },
    {
     "name": "stderr",
     "output_type": "stream",
     "text": [
      "The largest mammal on Earth is... | Encyclopedia entry:  80%|████████  | 8/10 [04:48<01:11, 35.80s/it]"
     ]
    },
    {
     "name": "stdout",
     "output_type": "stream",
     "text": [
      "✅ BATCH 8 / 10 DONE for Encyclopedia entry\n"
     ]
    },
    {
     "name": "stderr",
     "output_type": "stream",
     "text": [
      "The largest mammal on Earth is... | Encyclopedia entry:  90%|█████████ | 9/10 [05:18<00:33, 33.88s/it]"
     ]
    },
    {
     "name": "stdout",
     "output_type": "stream",
     "text": [
      "✅ BATCH 9 / 10 DONE for Encyclopedia entry\n"
     ]
    },
    {
     "name": "stderr",
     "output_type": "stream",
     "text": [
      "The largest mammal on Earth is... | Encyclopedia entry: 100%|██████████| 10/10 [05:59<00:00, 35.98s/it]\n"
     ]
    },
    {
     "name": "stdout",
     "output_type": "stream",
     "text": [
      "✅ BATCH 10 / 10 DONE for Encyclopedia entry\n"
     ]
    },
    {
     "name": "stderr",
     "output_type": "stream",
     "text": [
      "The largest mammal on Earth is... | Nature podcast transcript:  10%|█         | 1/10 [00:27<04:11, 27.97s/it]"
     ]
    },
    {
     "name": "stdout",
     "output_type": "stream",
     "text": [
      "✅ BATCH 1 / 10 DONE for Nature podcast transcript\n"
     ]
    },
    {
     "name": "stderr",
     "output_type": "stream",
     "text": [
      "The largest mammal on Earth is... | Nature podcast transcript:  20%|██        | 2/10 [00:56<03:46, 28.29s/it]"
     ]
    },
    {
     "name": "stdout",
     "output_type": "stream",
     "text": [
      "✅ BATCH 2 / 10 DONE for Nature podcast transcript\n"
     ]
    },
    {
     "name": "stderr",
     "output_type": "stream",
     "text": [
      "The largest mammal on Earth is... | Nature podcast transcript:  30%|███       | 3/10 [01:26<03:22, 28.93s/it]"
     ]
    },
    {
     "name": "stdout",
     "output_type": "stream",
     "text": [
      "✅ BATCH 3 / 10 DONE for Nature podcast transcript\n"
     ]
    },
    {
     "name": "stderr",
     "output_type": "stream",
     "text": [
      "The largest mammal on Earth is... | Nature podcast transcript:  40%|████      | 4/10 [01:58<03:00, 30.12s/it]"
     ]
    },
    {
     "name": "stdout",
     "output_type": "stream",
     "text": [
      "✅ BATCH 4 / 10 DONE for Nature podcast transcript\n"
     ]
    },
    {
     "name": "stderr",
     "output_type": "stream",
     "text": [
      "The largest mammal on Earth is... | Nature podcast transcript:  50%|█████     | 5/10 [02:24<02:24, 28.88s/it]"
     ]
    },
    {
     "name": "stdout",
     "output_type": "stream",
     "text": [
      "✅ BATCH 5 / 10 DONE for Nature podcast transcript\n"
     ]
    },
    {
     "name": "stderr",
     "output_type": "stream",
     "text": [
      "The largest mammal on Earth is... | Nature podcast transcript:  60%|██████    | 6/10 [03:06<02:12, 33.24s/it]"
     ]
    },
    {
     "name": "stdout",
     "output_type": "stream",
     "text": [
      "✅ BATCH 6 / 10 DONE for Nature podcast transcript\n"
     ]
    },
    {
     "name": "stderr",
     "output_type": "stream",
     "text": [
      "The largest mammal on Earth is... | Nature podcast transcript:  70%|███████   | 7/10 [03:35<01:35, 31.81s/it]"
     ]
    },
    {
     "name": "stdout",
     "output_type": "stream",
     "text": [
      "✅ BATCH 7 / 10 DONE for Nature podcast transcript\n"
     ]
    },
    {
     "name": "stderr",
     "output_type": "stream",
     "text": [
      "The largest mammal on Earth is... | Nature podcast transcript:  80%|████████  | 8/10 [04:06<01:03, 31.53s/it]"
     ]
    },
    {
     "name": "stdout",
     "output_type": "stream",
     "text": [
      "✅ BATCH 8 / 10 DONE for Nature podcast transcript\n"
     ]
    },
    {
     "name": "stderr",
     "output_type": "stream",
     "text": [
      "The largest mammal on Earth is... | Nature podcast transcript:  90%|█████████ | 9/10 [04:32<00:29, 29.97s/it]"
     ]
    },
    {
     "name": "stdout",
     "output_type": "stream",
     "text": [
      "✅ BATCH 9 / 10 DONE for Nature podcast transcript\n"
     ]
    },
    {
     "name": "stderr",
     "output_type": "stream",
     "text": [
      "The largest mammal on Earth is... | Nature podcast transcript: 100%|██████████| 10/10 [05:04<00:00, 30.45s/it]\n"
     ]
    },
    {
     "name": "stdout",
     "output_type": "stream",
     "text": [
      "✅ BATCH 10 / 10 DONE for Nature podcast transcript\n"
     ]
    },
    {
     "name": "stderr",
     "output_type": "stream",
     "text": [
      "The largest mammal on Earth is... | Marine biology lecture notes:  10%|█         | 1/10 [00:35<05:16, 35.13s/it]"
     ]
    },
    {
     "name": "stdout",
     "output_type": "stream",
     "text": [
      "✅ BATCH 1 / 10 DONE for Marine biology lecture notes\n"
     ]
    },
    {
     "name": "stderr",
     "output_type": "stream",
     "text": [
      "The largest mammal on Earth is... | Marine biology lecture notes:  20%|██        | 2/10 [01:10<04:43, 35.49s/it]"
     ]
    },
    {
     "name": "stdout",
     "output_type": "stream",
     "text": [
      "✅ BATCH 2 / 10 DONE for Marine biology lecture notes\n"
     ]
    },
    {
     "name": "stderr",
     "output_type": "stream",
     "text": [
      "The largest mammal on Earth is... | Marine biology lecture notes:  30%|███       | 3/10 [01:47<04:12, 36.09s/it]"
     ]
    },
    {
     "name": "stdout",
     "output_type": "stream",
     "text": [
      "✅ BATCH 3 / 10 DONE for Marine biology lecture notes\n"
     ]
    },
    {
     "name": "stderr",
     "output_type": "stream",
     "text": [
      "The largest mammal on Earth is... | Marine biology lecture notes:  40%|████      | 4/10 [02:19<03:26, 34.48s/it]"
     ]
    },
    {
     "name": "stdout",
     "output_type": "stream",
     "text": [
      "✅ BATCH 4 / 10 DONE for Marine biology lecture notes\n"
     ]
    },
    {
     "name": "stderr",
     "output_type": "stream",
     "text": [
      "The largest mammal on Earth is... | Marine biology lecture notes:  50%|█████     | 5/10 [02:49<02:43, 32.62s/it]"
     ]
    },
    {
     "name": "stdout",
     "output_type": "stream",
     "text": [
      "✅ BATCH 5 / 10 DONE for Marine biology lecture notes\n"
     ]
    },
    {
     "name": "stderr",
     "output_type": "stream",
     "text": [
      "The largest mammal on Earth is... | Marine biology lecture notes:  60%|██████    | 6/10 [03:22<02:12, 33.08s/it]"
     ]
    },
    {
     "name": "stdout",
     "output_type": "stream",
     "text": [
      "✅ BATCH 6 / 10 DONE for Marine biology lecture notes\n"
     ]
    },
    {
     "name": "stderr",
     "output_type": "stream",
     "text": [
      "The largest mammal on Earth is... | Marine biology lecture notes:  70%|███████   | 7/10 [04:00<01:44, 34.69s/it]"
     ]
    },
    {
     "name": "stdout",
     "output_type": "stream",
     "text": [
      "✅ BATCH 7 / 10 DONE for Marine biology lecture notes\n"
     ]
    },
    {
     "name": "stderr",
     "output_type": "stream",
     "text": [
      "The largest mammal on Earth is... | Marine biology lecture notes:  80%|████████  | 8/10 [04:33<01:08, 34.09s/it]"
     ]
    },
    {
     "name": "stdout",
     "output_type": "stream",
     "text": [
      "✅ BATCH 8 / 10 DONE for Marine biology lecture notes\n"
     ]
    },
    {
     "name": "stderr",
     "output_type": "stream",
     "text": [
      "The largest mammal on Earth is... | Marine biology lecture notes:  90%|█████████ | 9/10 [05:20<00:38, 38.10s/it]"
     ]
    },
    {
     "name": "stdout",
     "output_type": "stream",
     "text": [
      "✅ BATCH 9 / 10 DONE for Marine biology lecture notes\n"
     ]
    },
    {
     "name": "stderr",
     "output_type": "stream",
     "text": [
      "The largest mammal on Earth is... | Marine biology lecture notes: 100%|██████████| 10/10 [05:48<00:00, 34.84s/it]\n"
     ]
    },
    {
     "name": "stdout",
     "output_type": "stream",
     "text": [
      "✅ BATCH 10 / 10 DONE for Marine biology lecture notes\n"
     ]
    },
    {
     "name": "stderr",
     "output_type": "stream",
     "text": [
      "The largest mammal on Earth is... | Children’s picture book:  10%|█         | 1/10 [00:25<03:48, 25.42s/it]"
     ]
    },
    {
     "name": "stdout",
     "output_type": "stream",
     "text": [
      "✅ BATCH 1 / 10 DONE for Children’s picture book\n"
     ]
    },
    {
     "name": "stderr",
     "output_type": "stream",
     "text": [
      "The largest mammal on Earth is... | Children’s picture book:  20%|██        | 2/10 [00:53<03:35, 26.97s/it]"
     ]
    },
    {
     "name": "stdout",
     "output_type": "stream",
     "text": [
      "✅ BATCH 2 / 10 DONE for Children’s picture book\n"
     ]
    },
    {
     "name": "stderr",
     "output_type": "stream",
     "text": [
      "The largest mammal on Earth is... | Children’s picture book:  30%|███       | 3/10 [01:12<02:44, 23.44s/it]"
     ]
    },
    {
     "name": "stdout",
     "output_type": "stream",
     "text": [
      "✅ BATCH 3 / 10 DONE for Children’s picture book\n"
     ]
    },
    {
     "name": "stderr",
     "output_type": "stream",
     "text": [
      "The largest mammal on Earth is... | Children’s picture book:  40%|████      | 4/10 [01:58<03:14, 32.46s/it]"
     ]
    },
    {
     "name": "stdout",
     "output_type": "stream",
     "text": [
      "✅ BATCH 4 / 10 DONE for Children’s picture book\n"
     ]
    },
    {
     "name": "stderr",
     "output_type": "stream",
     "text": [
      "The largest mammal on Earth is... | Children’s picture book:  50%|█████     | 5/10 [02:21<02:25, 29.01s/it]"
     ]
    },
    {
     "name": "stdout",
     "output_type": "stream",
     "text": [
      "✅ BATCH 5 / 10 DONE for Children’s picture book\n"
     ]
    },
    {
     "name": "stderr",
     "output_type": "stream",
     "text": [
      "The largest mammal on Earth is... | Children’s picture book:  60%|██████    | 6/10 [02:52<01:57, 29.39s/it]"
     ]
    },
    {
     "name": "stdout",
     "output_type": "stream",
     "text": [
      "✅ BATCH 6 / 10 DONE for Children’s picture book\n"
     ]
    },
    {
     "name": "stderr",
     "output_type": "stream",
     "text": [
      "The largest mammal on Earth is... | Children’s picture book:  70%|███████   | 7/10 [03:12<01:19, 26.51s/it]"
     ]
    },
    {
     "name": "stdout",
     "output_type": "stream",
     "text": [
      "✅ BATCH 7 / 10 DONE for Children’s picture book\n"
     ]
    },
    {
     "name": "stderr",
     "output_type": "stream",
     "text": [
      "The largest mammal on Earth is... | Children’s picture book:  80%|████████  | 8/10 [03:46<00:57, 28.89s/it]"
     ]
    },
    {
     "name": "stdout",
     "output_type": "stream",
     "text": [
      "✅ BATCH 8 / 10 DONE for Children’s picture book\n"
     ]
    },
    {
     "name": "stderr",
     "output_type": "stream",
     "text": [
      "The largest mammal on Earth is... | Children’s picture book:  90%|█████████ | 9/10 [04:13<00:28, 28.24s/it]"
     ]
    },
    {
     "name": "stdout",
     "output_type": "stream",
     "text": [
      "✅ BATCH 9 / 10 DONE for Children’s picture book\n"
     ]
    },
    {
     "name": "stderr",
     "output_type": "stream",
     "text": [
      "The largest mammal on Earth is... | Children’s picture book: 100%|██████████| 10/10 [04:36<00:00, 27.61s/it]\n"
     ]
    },
    {
     "name": "stdout",
     "output_type": "stream",
     "text": [
      "✅ BATCH 10 / 10 DONE for Children’s picture book\n"
     ]
    },
    {
     "name": "stderr",
     "output_type": "stream",
     "text": [
      "The largest mammal on Earth is... | News magazine feature:  10%|█         | 1/10 [00:25<03:53, 25.96s/it]"
     ]
    },
    {
     "name": "stdout",
     "output_type": "stream",
     "text": [
      "✅ BATCH 1 / 10 DONE for News magazine feature\n"
     ]
    },
    {
     "name": "stderr",
     "output_type": "stream",
     "text": [
      "The largest mammal on Earth is... | News magazine feature:  20%|██        | 2/10 [00:44<02:55, 21.88s/it]"
     ]
    },
    {
     "name": "stdout",
     "output_type": "stream",
     "text": [
      "✅ BATCH 2 / 10 DONE for News magazine feature\n"
     ]
    },
    {
     "name": "stderr",
     "output_type": "stream",
     "text": [
      "The largest mammal on Earth is... | News magazine feature:  30%|███       | 3/10 [01:17<03:08, 26.92s/it]"
     ]
    },
    {
     "name": "stdout",
     "output_type": "stream",
     "text": [
      "✅ BATCH 3 / 10 DONE for News magazine feature\n"
     ]
    },
    {
     "name": "stderr",
     "output_type": "stream",
     "text": [
      "The largest mammal on Earth is... | News magazine feature:  40%|████      | 4/10 [01:41<02:33, 25.51s/it]"
     ]
    },
    {
     "name": "stdout",
     "output_type": "stream",
     "text": [
      "✅ BATCH 4 / 10 DONE for News magazine feature\n"
     ]
    },
    {
     "name": "stderr",
     "output_type": "stream",
     "text": [
      "The largest mammal on Earth is... | News magazine feature:  50%|█████     | 5/10 [02:07<02:09, 25.89s/it]"
     ]
    },
    {
     "name": "stdout",
     "output_type": "stream",
     "text": [
      "✅ BATCH 5 / 10 DONE for News magazine feature\n"
     ]
    },
    {
     "name": "stderr",
     "output_type": "stream",
     "text": [
      "The largest mammal on Earth is... | News magazine feature:  60%|██████    | 6/10 [02:36<01:46, 26.72s/it]"
     ]
    },
    {
     "name": "stdout",
     "output_type": "stream",
     "text": [
      "✅ BATCH 6 / 10 DONE for News magazine feature\n"
     ]
    },
    {
     "name": "stderr",
     "output_type": "stream",
     "text": [
      "The largest mammal on Earth is... | News magazine feature:  70%|███████   | 7/10 [03:06<01:23, 27.93s/it]"
     ]
    },
    {
     "name": "stdout",
     "output_type": "stream",
     "text": [
      "✅ BATCH 7 / 10 DONE for News magazine feature\n"
     ]
    },
    {
     "name": "stderr",
     "output_type": "stream",
     "text": [
      "The largest mammal on Earth is... | News magazine feature:  80%|████████  | 8/10 [03:31<00:53, 26.82s/it]"
     ]
    },
    {
     "name": "stdout",
     "output_type": "stream",
     "text": [
      "✅ BATCH 8 / 10 DONE for News magazine feature\n"
     ]
    },
    {
     "name": "stderr",
     "output_type": "stream",
     "text": [
      "The largest mammal on Earth is... | News magazine feature:  90%|█████████ | 9/10 [04:04<00:29, 29.06s/it]"
     ]
    },
    {
     "name": "stdout",
     "output_type": "stream",
     "text": [
      "✅ BATCH 9 / 10 DONE for News magazine feature\n"
     ]
    },
    {
     "name": "stderr",
     "output_type": "stream",
     "text": [
      "The largest mammal on Earth is... | News magazine feature: 100%|██████████| 10/10 [04:29<00:00, 26.91s/it]\n"
     ]
    },
    {
     "name": "stdout",
     "output_type": "stream",
     "text": [
      "✅ BATCH 10 / 10 DONE for News magazine feature\n"
     ]
    },
    {
     "name": "stderr",
     "output_type": "stream",
     "text": [
      "The largest mammal on Earth is... | Public radio segment:  10%|█         | 1/10 [00:22<03:26, 22.98s/it]"
     ]
    },
    {
     "name": "stdout",
     "output_type": "stream",
     "text": [
      "✅ BATCH 1 / 10 DONE for Public radio segment\n"
     ]
    },
    {
     "name": "stderr",
     "output_type": "stream",
     "text": [
      "The largest mammal on Earth is... | Public radio segment:  20%|██        | 2/10 [00:48<03:17, 24.65s/it]"
     ]
    },
    {
     "name": "stdout",
     "output_type": "stream",
     "text": [
      "✅ BATCH 2 / 10 DONE for Public radio segment\n"
     ]
    },
    {
     "name": "stderr",
     "output_type": "stream",
     "text": [
      "The largest mammal on Earth is... | Public radio segment:  30%|███       | 3/10 [01:15<02:58, 25.51s/it]"
     ]
    },
    {
     "name": "stdout",
     "output_type": "stream",
     "text": [
      "✅ BATCH 3 / 10 DONE for Public radio segment\n"
     ]
    },
    {
     "name": "stderr",
     "output_type": "stream",
     "text": [
      "The largest mammal on Earth is... | Public radio segment:  40%|████      | 4/10 [01:49<02:54, 29.09s/it]"
     ]
    },
    {
     "name": "stdout",
     "output_type": "stream",
     "text": [
      "✅ BATCH 4 / 10 DONE for Public radio segment\n"
     ]
    },
    {
     "name": "stderr",
     "output_type": "stream",
     "text": [
      "The largest mammal on Earth is... | Public radio segment:  50%|█████     | 5/10 [02:18<02:23, 28.78s/it]"
     ]
    },
    {
     "name": "stdout",
     "output_type": "stream",
     "text": [
      "✅ BATCH 5 / 10 DONE for Public radio segment\n"
     ]
    },
    {
     "name": "stderr",
     "output_type": "stream",
     "text": [
      "The largest mammal on Earth is... | Public radio segment:  60%|██████    | 6/10 [02:44<01:52, 28.02s/it]"
     ]
    },
    {
     "name": "stdout",
     "output_type": "stream",
     "text": [
      "✅ BATCH 6 / 10 DONE for Public radio segment\n"
     ]
    },
    {
     "name": "stderr",
     "output_type": "stream",
     "text": [
      "The largest mammal on Earth is... | Public radio segment:  70%|███████   | 7/10 [03:14<01:26, 28.76s/it]"
     ]
    },
    {
     "name": "stdout",
     "output_type": "stream",
     "text": [
      "✅ BATCH 7 / 10 DONE for Public radio segment\n"
     ]
    },
    {
     "name": "stderr",
     "output_type": "stream",
     "text": [
      "The largest mammal on Earth is... | Public radio segment:  80%|████████  | 8/10 [03:44<00:57, 28.87s/it]"
     ]
    },
    {
     "name": "stdout",
     "output_type": "stream",
     "text": [
      "✅ BATCH 8 / 10 DONE for Public radio segment\n"
     ]
    },
    {
     "name": "stderr",
     "output_type": "stream",
     "text": [
      "The largest mammal on Earth is... | Public radio segment:  90%|█████████ | 9/10 [04:16<00:30, 30.09s/it]"
     ]
    },
    {
     "name": "stdout",
     "output_type": "stream",
     "text": [
      "✅ BATCH 9 / 10 DONE for Public radio segment\n"
     ]
    },
    {
     "name": "stderr",
     "output_type": "stream",
     "text": [
      "The largest mammal on Earth is... | Public radio segment: 100%|██████████| 10/10 [04:41<00:00, 28.12s/it]\n"
     ]
    },
    {
     "name": "stdout",
     "output_type": "stream",
     "text": [
      "✅ BATCH 10 / 10 DONE for Public radio segment\n"
     ]
    },
    {
     "name": "stderr",
     "output_type": "stream",
     "text": [
      "The largest mammal on Earth is... | Conservation NGO brochure:  10%|█         | 1/10 [00:29<04:23, 29.30s/it]"
     ]
    },
    {
     "name": "stdout",
     "output_type": "stream",
     "text": [
      "✅ BATCH 1 / 10 DONE for Conservation NGO brochure\n"
     ]
    },
    {
     "name": "stderr",
     "output_type": "stream",
     "text": [
      "The largest mammal on Earth is... | Conservation NGO brochure:  20%|██        | 2/10 [00:56<03:42, 27.84s/it]"
     ]
    },
    {
     "name": "stdout",
     "output_type": "stream",
     "text": [
      "✅ BATCH 2 / 10 DONE for Conservation NGO brochure\n"
     ]
    },
    {
     "name": "stderr",
     "output_type": "stream",
     "text": [
      "The largest mammal on Earth is... | Conservation NGO brochure:  30%|███       | 3/10 [01:26<03:21, 28.81s/it]"
     ]
    },
    {
     "name": "stdout",
     "output_type": "stream",
     "text": [
      "✅ BATCH 3 / 10 DONE for Conservation NGO brochure\n"
     ]
    },
    {
     "name": "stderr",
     "output_type": "stream",
     "text": [
      "The largest mammal on Earth is... | Conservation NGO brochure:  40%|████      | 4/10 [02:02<03:11, 31.92s/it]"
     ]
    },
    {
     "name": "stdout",
     "output_type": "stream",
     "text": [
      "✅ BATCH 4 / 10 DONE for Conservation NGO brochure\n"
     ]
    },
    {
     "name": "stderr",
     "output_type": "stream",
     "text": [
      "The largest mammal on Earth is... | Conservation NGO brochure:  50%|█████     | 5/10 [02:22<02:17, 27.54s/it]"
     ]
    },
    {
     "name": "stdout",
     "output_type": "stream",
     "text": [
      "✅ BATCH 5 / 10 DONE for Conservation NGO brochure\n"
     ]
    },
    {
     "name": "stderr",
     "output_type": "stream",
     "text": [
      "The largest mammal on Earth is... | Conservation NGO brochure:  60%|██████    | 6/10 [02:49<01:49, 27.48s/it]"
     ]
    },
    {
     "name": "stdout",
     "output_type": "stream",
     "text": [
      "✅ BATCH 6 / 10 DONE for Conservation NGO brochure\n"
     ]
    },
    {
     "name": "stderr",
     "output_type": "stream",
     "text": [
      "The largest mammal on Earth is... | Conservation NGO brochure:  70%|███████   | 7/10 [03:19<01:24, 28.33s/it]"
     ]
    },
    {
     "name": "stdout",
     "output_type": "stream",
     "text": [
      "✅ BATCH 7 / 10 DONE for Conservation NGO brochure\n"
     ]
    },
    {
     "name": "stderr",
     "output_type": "stream",
     "text": [
      "The largest mammal on Earth is... | Conservation NGO brochure:  80%|████████  | 8/10 [03:50<00:57, 29.00s/it]"
     ]
    },
    {
     "name": "stdout",
     "output_type": "stream",
     "text": [
      "✅ BATCH 8 / 10 DONE for Conservation NGO brochure\n"
     ]
    },
    {
     "name": "stderr",
     "output_type": "stream",
     "text": [
      "The largest mammal on Earth is... | Conservation NGO brochure:  90%|█████████ | 9/10 [04:23<00:30, 30.24s/it]"
     ]
    },
    {
     "name": "stdout",
     "output_type": "stream",
     "text": [
      "✅ BATCH 9 / 10 DONE for Conservation NGO brochure\n"
     ]
    },
    {
     "name": "stderr",
     "output_type": "stream",
     "text": [
      "The largest mammal on Earth is... | Conservation NGO brochure: 100%|██████████| 10/10 [04:43<00:00, 28.38s/it]\n"
     ]
    },
    {
     "name": "stdout",
     "output_type": "stream",
     "text": [
      "✅ BATCH 10 / 10 DONE for Conservation NGO brochure\n"
     ]
    },
    {
     "name": "stderr",
     "output_type": "stream",
     "text": [
      "The largest mammal on Earth is... | Zoo educational pamphlet:  10%|█         | 1/10 [00:28<04:19, 28.89s/it]"
     ]
    },
    {
     "name": "stdout",
     "output_type": "stream",
     "text": [
      "✅ BATCH 1 / 10 DONE for Zoo educational pamphlet\n"
     ]
    },
    {
     "name": "stderr",
     "output_type": "stream",
     "text": [
      "The largest mammal on Earth is... | Zoo educational pamphlet:  20%|██        | 2/10 [00:55<03:38, 27.36s/it]"
     ]
    },
    {
     "name": "stdout",
     "output_type": "stream",
     "text": [
      "✅ BATCH 2 / 10 DONE for Zoo educational pamphlet\n"
     ]
    },
    {
     "name": "stderr",
     "output_type": "stream",
     "text": [
      "The largest mammal on Earth is... | Zoo educational pamphlet:  30%|███       | 3/10 [01:25<03:21, 28.79s/it]"
     ]
    },
    {
     "name": "stdout",
     "output_type": "stream",
     "text": [
      "✅ BATCH 3 / 10 DONE for Zoo educational pamphlet\n"
     ]
    },
    {
     "name": "stderr",
     "output_type": "stream",
     "text": [
      "The largest mammal on Earth is... | Zoo educational pamphlet:  40%|████      | 4/10 [01:52<02:47, 27.87s/it]"
     ]
    },
    {
     "name": "stdout",
     "output_type": "stream",
     "text": [
      "✅ BATCH 4 / 10 DONE for Zoo educational pamphlet\n"
     ]
    },
    {
     "name": "stderr",
     "output_type": "stream",
     "text": [
      "The largest mammal on Earth is... | Zoo educational pamphlet:  50%|█████     | 5/10 [02:17<02:15, 27.08s/it]"
     ]
    },
    {
     "name": "stdout",
     "output_type": "stream",
     "text": [
      "✅ BATCH 5 / 10 DONE for Zoo educational pamphlet\n"
     ]
    },
    {
     "name": "stderr",
     "output_type": "stream",
     "text": [
      "The largest mammal on Earth is... | Zoo educational pamphlet:  60%|██████    | 6/10 [02:48<01:53, 28.33s/it]"
     ]
    },
    {
     "name": "stdout",
     "output_type": "stream",
     "text": [
      "✅ BATCH 6 / 10 DONE for Zoo educational pamphlet\n"
     ]
    },
    {
     "name": "stderr",
     "output_type": "stream",
     "text": [
      "The largest mammal on Earth is... | Zoo educational pamphlet:  70%|███████   | 7/10 [03:14<01:22, 27.48s/it]"
     ]
    },
    {
     "name": "stdout",
     "output_type": "stream",
     "text": [
      "✅ BATCH 7 / 10 DONE for Zoo educational pamphlet\n"
     ]
    },
    {
     "name": "stderr",
     "output_type": "stream",
     "text": [
      "The largest mammal on Earth is... | Zoo educational pamphlet:  80%|████████  | 8/10 [03:48<00:59, 29.67s/it]"
     ]
    },
    {
     "name": "stdout",
     "output_type": "stream",
     "text": [
      "✅ BATCH 8 / 10 DONE for Zoo educational pamphlet\n"
     ]
    },
    {
     "name": "stderr",
     "output_type": "stream",
     "text": [
      "The largest mammal on Earth is... | Zoo educational pamphlet:  90%|█████████ | 9/10 [04:16<00:29, 29.08s/it]"
     ]
    },
    {
     "name": "stdout",
     "output_type": "stream",
     "text": [
      "✅ BATCH 9 / 10 DONE for Zoo educational pamphlet\n"
     ]
    },
    {
     "name": "stderr",
     "output_type": "stream",
     "text": [
      "The largest mammal on Earth is... | Zoo educational pamphlet: 100%|██████████| 10/10 [04:47<00:00, 28.77s/it]\n"
     ]
    },
    {
     "name": "stdout",
     "output_type": "stream",
     "text": [
      "✅ BATCH 10 / 10 DONE for Zoo educational pamphlet\n"
     ]
    },
    {
     "name": "stderr",
     "output_type": "stream",
     "text": [
      "The largest mammal on Earth is... | Oceanography field guide:  10%|█         | 1/10 [00:35<05:17, 35.23s/it]"
     ]
    },
    {
     "name": "stdout",
     "output_type": "stream",
     "text": [
      "✅ BATCH 1 / 10 DONE for Oceanography field guide\n"
     ]
    },
    {
     "name": "stderr",
     "output_type": "stream",
     "text": [
      "The largest mammal on Earth is... | Oceanography field guide:  20%|██        | 2/10 [01:10<04:39, 34.99s/it]"
     ]
    },
    {
     "name": "stdout",
     "output_type": "stream",
     "text": [
      "✅ BATCH 2 / 10 DONE for Oceanography field guide\n"
     ]
    },
    {
     "name": "stderr",
     "output_type": "stream",
     "text": [
      "The largest mammal on Earth is... | Oceanography field guide:  30%|███       | 3/10 [01:42<03:56, 33.84s/it]"
     ]
    },
    {
     "name": "stdout",
     "output_type": "stream",
     "text": [
      "✅ BATCH 3 / 10 DONE for Oceanography field guide\n"
     ]
    },
    {
     "name": "stderr",
     "output_type": "stream",
     "text": [
      "The largest mammal on Earth is... | Oceanography field guide:  40%|████      | 4/10 [02:18<03:27, 34.57s/it]"
     ]
    },
    {
     "name": "stdout",
     "output_type": "stream",
     "text": [
      "✅ BATCH 4 / 10 DONE for Oceanography field guide\n"
     ]
    },
    {
     "name": "stderr",
     "output_type": "stream",
     "text": [
      "The largest mammal on Earth is... | Oceanography field guide:  50%|█████     | 5/10 [02:41<02:32, 30.59s/it]"
     ]
    },
    {
     "name": "stdout",
     "output_type": "stream",
     "text": [
      "✅ BATCH 5 / 10 DONE for Oceanography field guide\n"
     ]
    },
    {
     "name": "stderr",
     "output_type": "stream",
     "text": [
      "The largest mammal on Earth is... | Oceanography field guide:  60%|██████    | 6/10 [03:15<02:06, 31.54s/it]"
     ]
    },
    {
     "name": "stdout",
     "output_type": "stream",
     "text": [
      "✅ BATCH 6 / 10 DONE for Oceanography field guide\n"
     ]
    },
    {
     "name": "stderr",
     "output_type": "stream",
     "text": [
      "The largest mammal on Earth is... | Oceanography field guide:  70%|███████   | 7/10 [03:47<01:35, 31.84s/it]"
     ]
    },
    {
     "name": "stdout",
     "output_type": "stream",
     "text": [
      "✅ BATCH 7 / 10 DONE for Oceanography field guide\n"
     ]
    },
    {
     "name": "stderr",
     "output_type": "stream",
     "text": [
      "The largest mammal on Earth is... | Oceanography field guide:  80%|████████  | 8/10 [04:20<01:04, 32.05s/it]"
     ]
    },
    {
     "name": "stdout",
     "output_type": "stream",
     "text": [
      "✅ BATCH 8 / 10 DONE for Oceanography field guide\n"
     ]
    },
    {
     "name": "stderr",
     "output_type": "stream",
     "text": [
      "The largest mammal on Earth is... | Oceanography field guide:  90%|█████████ | 9/10 [04:51<00:31, 31.79s/it]"
     ]
    },
    {
     "name": "stdout",
     "output_type": "stream",
     "text": [
      "✅ BATCH 9 / 10 DONE for Oceanography field guide\n"
     ]
    },
    {
     "name": "stderr",
     "output_type": "stream",
     "text": [
      "The largest mammal on Earth is... | Oceanography field guide: 100%|██████████| 10/10 [05:17<00:00, 31.78s/it]\n"
     ]
    },
    {
     "name": "stdout",
     "output_type": "stream",
     "text": [
      "✅ BATCH 10 / 10 DONE for Oceanography field guide\n"
     ]
    },
    {
     "name": "stderr",
     "output_type": "stream",
     "text": [
      "The largest mammal on Earth is... | Government wildlife fact sheet:  10%|█         | 1/10 [00:46<06:58, 46.50s/it]"
     ]
    },
    {
     "name": "stdout",
     "output_type": "stream",
     "text": [
      "✅ BATCH 1 / 10 DONE for Government wildlife fact sheet\n"
     ]
    },
    {
     "name": "stderr",
     "output_type": "stream",
     "text": [
      "The largest mammal on Earth is... | Government wildlife fact sheet:  20%|██        | 2/10 [01:17<05:00, 37.61s/it]"
     ]
    },
    {
     "name": "stdout",
     "output_type": "stream",
     "text": [
      "✅ BATCH 2 / 10 DONE for Government wildlife fact sheet\n"
     ]
    },
    {
     "name": "stderr",
     "output_type": "stream",
     "text": [
      "The largest mammal on Earth is... | Government wildlife fact sheet:  30%|███       | 3/10 [01:52<04:14, 36.33s/it]"
     ]
    },
    {
     "name": "stdout",
     "output_type": "stream",
     "text": [
      "✅ BATCH 3 / 10 DONE for Government wildlife fact sheet\n"
     ]
    },
    {
     "name": "stderr",
     "output_type": "stream",
     "text": [
      "The largest mammal on Earth is... | Government wildlife fact sheet:  40%|████      | 4/10 [02:19<03:15, 32.61s/it]"
     ]
    },
    {
     "name": "stdout",
     "output_type": "stream",
     "text": [
      "✅ BATCH 4 / 10 DONE for Government wildlife fact sheet\n"
     ]
    },
    {
     "name": "stderr",
     "output_type": "stream",
     "text": [
      "The largest mammal on Earth is... | Government wildlife fact sheet:  50%|█████     | 5/10 [02:45<02:31, 30.36s/it]"
     ]
    },
    {
     "name": "stdout",
     "output_type": "stream",
     "text": [
      "✅ BATCH 5 / 10 DONE for Government wildlife fact sheet\n"
     ]
    },
    {
     "name": "stderr",
     "output_type": "stream",
     "text": [
      "The largest mammal on Earth is... | Government wildlife fact sheet:  60%|██████    | 6/10 [03:26<02:15, 33.94s/it]"
     ]
    },
    {
     "name": "stdout",
     "output_type": "stream",
     "text": [
      "✅ BATCH 6 / 10 DONE for Government wildlife fact sheet\n"
     ]
    },
    {
     "name": "stderr",
     "output_type": "stream",
     "text": [
      "The largest mammal on Earth is... | Government wildlife fact sheet:  70%|███████   | 7/10 [04:01<01:42, 34.27s/it]"
     ]
    },
    {
     "name": "stdout",
     "output_type": "stream",
     "text": [
      "✅ BATCH 7 / 10 DONE for Government wildlife fact sheet\n"
     ]
    },
    {
     "name": "stderr",
     "output_type": "stream",
     "text": [
      "The largest mammal on Earth is... | Government wildlife fact sheet:  80%|████████  | 8/10 [04:25<01:01, 30.77s/it]"
     ]
    },
    {
     "name": "stdout",
     "output_type": "stream",
     "text": [
      "✅ BATCH 8 / 10 DONE for Government wildlife fact sheet\n"
     ]
    },
    {
     "name": "stderr",
     "output_type": "stream",
     "text": [
      "The largest mammal on Earth is... | Government wildlife fact sheet:  90%|█████████ | 9/10 [04:52<00:29, 29.71s/it]"
     ]
    },
    {
     "name": "stdout",
     "output_type": "stream",
     "text": [
      "✅ BATCH 9 / 10 DONE for Government wildlife fact sheet\n"
     ]
    },
    {
     "name": "stderr",
     "output_type": "stream",
     "text": [
      "The largest mammal on Earth is... | Government wildlife fact sheet: 100%|██████████| 10/10 [05:22<00:00, 32.29s/it]\n"
     ]
    },
    {
     "name": "stdout",
     "output_type": "stream",
     "text": [
      "✅ BATCH 10 / 10 DONE for Government wildlife fact sheet\n"
     ]
    },
    {
     "name": "stderr",
     "output_type": "stream",
     "text": [
      "The largest mammal on Earth is... | Educational YouTube video script:  10%|█         | 1/10 [00:30<04:30, 30.03s/it]"
     ]
    },
    {
     "name": "stdout",
     "output_type": "stream",
     "text": [
      "✅ BATCH 1 / 10 DONE for Educational YouTube video script\n"
     ]
    },
    {
     "name": "stderr",
     "output_type": "stream",
     "text": [
      "The largest mammal on Earth is... | Educational YouTube video script:  20%|██        | 2/10 [01:19<05:29, 41.17s/it]"
     ]
    },
    {
     "name": "stdout",
     "output_type": "stream",
     "text": [
      "✅ BATCH 2 / 10 DONE for Educational YouTube video script\n"
     ]
    },
    {
     "name": "stderr",
     "output_type": "stream",
     "text": [
      "The largest mammal on Earth is... | Educational YouTube video script:  30%|███       | 3/10 [01:49<04:13, 36.27s/it]"
     ]
    },
    {
     "name": "stdout",
     "output_type": "stream",
     "text": [
      "✅ BATCH 3 / 10 DONE for Educational YouTube video script\n"
     ]
    },
    {
     "name": "stderr",
     "output_type": "stream",
     "text": [
      "The largest mammal on Earth is... | Educational YouTube video script:  40%|████      | 4/10 [02:23<03:31, 35.27s/it]"
     ]
    },
    {
     "name": "stdout",
     "output_type": "stream",
     "text": [
      "✅ BATCH 4 / 10 DONE for Educational YouTube video script\n"
     ]
    },
    {
     "name": "stderr",
     "output_type": "stream",
     "text": [
      "The largest mammal on Earth is... | Educational YouTube video script:  50%|█████     | 5/10 [02:52<02:45, 33.02s/it]"
     ]
    },
    {
     "name": "stdout",
     "output_type": "stream",
     "text": [
      "✅ BATCH 5 / 10 DONE for Educational YouTube video script\n"
     ]
    },
    {
     "name": "stderr",
     "output_type": "stream",
     "text": [
      "The largest mammal on Earth is... | Educational YouTube video script:  60%|██████    | 6/10 [03:36<02:27, 36.85s/it]"
     ]
    },
    {
     "name": "stdout",
     "output_type": "stream",
     "text": [
      "✅ BATCH 6 / 10 DONE for Educational YouTube video script\n"
     ]
    },
    {
     "name": "stderr",
     "output_type": "stream",
     "text": [
      "The largest mammal on Earth is... | Educational YouTube video script:  70%|███████   | 7/10 [04:08<01:46, 35.35s/it]"
     ]
    },
    {
     "name": "stdout",
     "output_type": "stream",
     "text": [
      "✅ BATCH 7 / 10 DONE for Educational YouTube video script\n"
     ]
    },
    {
     "name": "stderr",
     "output_type": "stream",
     "text": [
      "The largest mammal on Earth is... | Educational YouTube video script:  80%|████████  | 8/10 [04:45<01:11, 35.66s/it]"
     ]
    },
    {
     "name": "stdout",
     "output_type": "stream",
     "text": [
      "✅ BATCH 8 / 10 DONE for Educational YouTube video script\n"
     ]
    },
    {
     "name": "stderr",
     "output_type": "stream",
     "text": [
      "The largest mammal on Earth is... | Educational YouTube video script:  90%|█████████ | 9/10 [05:20<00:35, 35.73s/it]"
     ]
    },
    {
     "name": "stdout",
     "output_type": "stream",
     "text": [
      "✅ BATCH 9 / 10 DONE for Educational YouTube video script\n"
     ]
    },
    {
     "name": "stderr",
     "output_type": "stream",
     "text": [
      "The largest mammal on Earth is... | Educational YouTube video script: 100%|██████████| 10/10 [05:58<00:00, 35.86s/it]\n"
     ]
    },
    {
     "name": "stdout",
     "output_type": "stream",
     "text": [
      "✅ BATCH 10 / 10 DONE for Educational YouTube video script\n"
     ]
    },
    {
     "name": "stderr",
     "output_type": "stream",
     "text": [
      "The largest mammal on Earth is... | Science journalism blog post:  10%|█         | 1/10 [00:28<04:19, 28.84s/it]"
     ]
    },
    {
     "name": "stdout",
     "output_type": "stream",
     "text": [
      "✅ BATCH 1 / 10 DONE for Science journalism blog post\n"
     ]
    },
    {
     "name": "stderr",
     "output_type": "stream",
     "text": [
      "The largest mammal on Earth is... | Science journalism blog post:  20%|██        | 2/10 [01:00<04:02, 30.34s/it]"
     ]
    },
    {
     "name": "stdout",
     "output_type": "stream",
     "text": [
      "✅ BATCH 2 / 10 DONE for Science journalism blog post\n"
     ]
    },
    {
     "name": "stderr",
     "output_type": "stream",
     "text": [
      "The largest mammal on Earth is... | Science journalism blog post:  30%|███       | 3/10 [01:28<03:24, 29.24s/it]"
     ]
    },
    {
     "name": "stdout",
     "output_type": "stream",
     "text": [
      "✅ BATCH 3 / 10 DONE for Science journalism blog post\n"
     ]
    },
    {
     "name": "stderr",
     "output_type": "stream",
     "text": [
      "The largest mammal on Earth is... | Science journalism blog post:  40%|████      | 4/10 [01:51<02:41, 26.85s/it]"
     ]
    },
    {
     "name": "stdout",
     "output_type": "stream",
     "text": [
      "✅ BATCH 4 / 10 DONE for Science journalism blog post\n"
     ]
    },
    {
     "name": "stderr",
     "output_type": "stream",
     "text": [
      "The largest mammal on Earth is... | Science journalism blog post:  50%|█████     | 5/10 [02:20<02:18, 27.75s/it]"
     ]
    },
    {
     "name": "stdout",
     "output_type": "stream",
     "text": [
      "✅ BATCH 5 / 10 DONE for Science journalism blog post\n"
     ]
    },
    {
     "name": "stderr",
     "output_type": "stream",
     "text": [
      "The largest mammal on Earth is... | Science journalism blog post:  60%|██████    | 6/10 [02:46<01:48, 27.18s/it]"
     ]
    },
    {
     "name": "stdout",
     "output_type": "stream",
     "text": [
      "✅ BATCH 6 / 10 DONE for Science journalism blog post\n"
     ]
    },
    {
     "name": "stderr",
     "output_type": "stream",
     "text": [
      "The largest mammal on Earth is... | Science journalism blog post:  70%|███████   | 7/10 [03:15<01:22, 27.62s/it]"
     ]
    },
    {
     "name": "stdout",
     "output_type": "stream",
     "text": [
      "✅ BATCH 7 / 10 DONE for Science journalism blog post\n"
     ]
    },
    {
     "name": "stderr",
     "output_type": "stream",
     "text": [
      "The largest mammal on Earth is... | Science journalism blog post:  80%|████████  | 8/10 [03:38<00:52, 26.20s/it]"
     ]
    },
    {
     "name": "stdout",
     "output_type": "stream",
     "text": [
      "✅ BATCH 8 / 10 DONE for Science journalism blog post\n"
     ]
    },
    {
     "name": "stderr",
     "output_type": "stream",
     "text": [
      "The largest mammal on Earth is... | Science journalism blog post:  90%|█████████ | 9/10 [04:09<00:27, 27.63s/it]"
     ]
    },
    {
     "name": "stdout",
     "output_type": "stream",
     "text": [
      "✅ BATCH 9 / 10 DONE for Science journalism blog post\n"
     ]
    },
    {
     "name": "stderr",
     "output_type": "stream",
     "text": [
      "The largest mammal on Earth is... | Science journalism blog post: 100%|██████████| 10/10 [04:43<00:00, 28.40s/it]\n"
     ]
    },
    {
     "name": "stdout",
     "output_type": "stream",
     "text": [
      "✅ BATCH 10 / 10 DONE for Science journalism blog post\n"
     ]
    },
    {
     "name": "stderr",
     "output_type": "stream",
     "text": [
      "The largest mammal on Earth is... | TED Talk transcript:  10%|█         | 1/10 [00:24<03:43, 24.79s/it]"
     ]
    },
    {
     "name": "stdout",
     "output_type": "stream",
     "text": [
      "✅ BATCH 1 / 10 DONE for TED Talk transcript\n"
     ]
    },
    {
     "name": "stderr",
     "output_type": "stream",
     "text": [
      "The largest mammal on Earth is... | TED Talk transcript:  20%|██        | 2/10 [00:51<03:27, 25.88s/it]"
     ]
    },
    {
     "name": "stdout",
     "output_type": "stream",
     "text": [
      "✅ BATCH 2 / 10 DONE for TED Talk transcript\n"
     ]
    },
    {
     "name": "stderr",
     "output_type": "stream",
     "text": [
      "The largest mammal on Earth is... | TED Talk transcript:  30%|███       | 3/10 [01:23<03:22, 28.89s/it]"
     ]
    },
    {
     "name": "stdout",
     "output_type": "stream",
     "text": [
      "✅ BATCH 3 / 10 DONE for TED Talk transcript\n"
     ]
    },
    {
     "name": "stderr",
     "output_type": "stream",
     "text": [
      "The largest mammal on Earth is... | TED Talk transcript:  40%|████      | 4/10 [01:54<02:56, 29.45s/it]"
     ]
    },
    {
     "name": "stdout",
     "output_type": "stream",
     "text": [
      "✅ BATCH 4 / 10 DONE for TED Talk transcript\n"
     ]
    },
    {
     "name": "stderr",
     "output_type": "stream",
     "text": [
      "The largest mammal on Earth is... | TED Talk transcript:  50%|█████     | 5/10 [02:21<02:23, 28.67s/it]"
     ]
    },
    {
     "name": "stdout",
     "output_type": "stream",
     "text": [
      "✅ BATCH 5 / 10 DONE for TED Talk transcript\n"
     ]
    },
    {
     "name": "stderr",
     "output_type": "stream",
     "text": [
      "The largest mammal on Earth is... | TED Talk transcript:  60%|██████    | 6/10 [02:50<01:54, 28.69s/it]"
     ]
    },
    {
     "name": "stdout",
     "output_type": "stream",
     "text": [
      "✅ BATCH 6 / 10 DONE for TED Talk transcript\n"
     ]
    },
    {
     "name": "stderr",
     "output_type": "stream",
     "text": [
      "The largest mammal on Earth is... | TED Talk transcript:  70%|███████   | 7/10 [03:18<01:26, 28.69s/it]"
     ]
    },
    {
     "name": "stdout",
     "output_type": "stream",
     "text": [
      "✅ BATCH 7 / 10 DONE for TED Talk transcript\n"
     ]
    },
    {
     "name": "stderr",
     "output_type": "stream",
     "text": [
      "The largest mammal on Earth is... | TED Talk transcript:  80%|████████  | 8/10 [03:46<00:56, 28.28s/it]"
     ]
    },
    {
     "name": "stdout",
     "output_type": "stream",
     "text": [
      "✅ BATCH 8 / 10 DONE for TED Talk transcript\n"
     ]
    },
    {
     "name": "stderr",
     "output_type": "stream",
     "text": [
      "The largest mammal on Earth is... | TED Talk transcript:  90%|█████████ | 9/10 [04:17<00:29, 29.29s/it]"
     ]
    },
    {
     "name": "stdout",
     "output_type": "stream",
     "text": [
      "✅ BATCH 9 / 10 DONE for TED Talk transcript\n"
     ]
    },
    {
     "name": "stderr",
     "output_type": "stream",
     "text": [
      "The largest mammal on Earth is... | TED Talk transcript: 100%|██████████| 10/10 [04:47<00:00, 28.71s/it]\n"
     ]
    },
    {
     "name": "stdout",
     "output_type": "stream",
     "text": [
      "✅ BATCH 10 / 10 DONE for TED Talk transcript\n"
     ]
    },
    {
     "name": "stderr",
     "output_type": "stream",
     "text": [
      "The largest mammal on Earth is... | Museum exhibit panel:  10%|█         | 1/10 [00:38<05:42, 38.05s/it]"
     ]
    },
    {
     "name": "stdout",
     "output_type": "stream",
     "text": [
      "✅ BATCH 1 / 10 DONE for Museum exhibit panel\n"
     ]
    },
    {
     "name": "stderr",
     "output_type": "stream",
     "text": [
      "The largest mammal on Earth is... | Museum exhibit panel:  20%|██        | 2/10 [01:06<04:17, 32.18s/it]"
     ]
    },
    {
     "name": "stdout",
     "output_type": "stream",
     "text": [
      "✅ BATCH 2 / 10 DONE for Museum exhibit panel\n"
     ]
    },
    {
     "name": "stderr",
     "output_type": "stream",
     "text": [
      "The largest mammal on Earth is... | Museum exhibit panel:  30%|███       | 3/10 [01:33<03:28, 29.82s/it]"
     ]
    },
    {
     "name": "stdout",
     "output_type": "stream",
     "text": [
      "✅ BATCH 3 / 10 DONE for Museum exhibit panel\n"
     ]
    },
    {
     "name": "stderr",
     "output_type": "stream",
     "text": [
      "The largest mammal on Earth is... | Museum exhibit panel:  40%|████      | 4/10 [01:57<02:46, 27.75s/it]"
     ]
    },
    {
     "name": "stdout",
     "output_type": "stream",
     "text": [
      "✅ BATCH 4 / 10 DONE for Museum exhibit panel\n"
     ]
    },
    {
     "name": "stderr",
     "output_type": "stream",
     "text": [
      "The largest mammal on Earth is... | Museum exhibit panel:  50%|█████     | 5/10 [02:21<02:11, 26.39s/it]"
     ]
    },
    {
     "name": "stdout",
     "output_type": "stream",
     "text": [
      "✅ BATCH 5 / 10 DONE for Museum exhibit panel\n"
     ]
    },
    {
     "name": "stderr",
     "output_type": "stream",
     "text": [
      "The largest mammal on Earth is... | Museum exhibit panel:  60%|██████    | 6/10 [02:53<01:52, 28.15s/it]"
     ]
    },
    {
     "name": "stdout",
     "output_type": "stream",
     "text": [
      "✅ BATCH 6 / 10 DONE for Museum exhibit panel\n"
     ]
    },
    {
     "name": "stderr",
     "output_type": "stream",
     "text": [
      "The largest mammal on Earth is... | Museum exhibit panel:  70%|███████   | 7/10 [03:13<01:16, 25.60s/it]"
     ]
    },
    {
     "name": "stdout",
     "output_type": "stream",
     "text": [
      "✅ BATCH 7 / 10 DONE for Museum exhibit panel\n"
     ]
    },
    {
     "name": "stderr",
     "output_type": "stream",
     "text": [
      "The largest mammal on Earth is... | Museum exhibit panel:  80%|████████  | 8/10 [03:42<00:53, 26.67s/it]"
     ]
    },
    {
     "name": "stdout",
     "output_type": "stream",
     "text": [
      "✅ BATCH 8 / 10 DONE for Museum exhibit panel\n"
     ]
    },
    {
     "name": "stderr",
     "output_type": "stream",
     "text": [
      "The largest mammal on Earth is... | Museum exhibit panel:  90%|█████████ | 9/10 [04:05<00:25, 25.56s/it]"
     ]
    },
    {
     "name": "stdout",
     "output_type": "stream",
     "text": [
      "✅ BATCH 9 / 10 DONE for Museum exhibit panel\n"
     ]
    },
    {
     "name": "stderr",
     "output_type": "stream",
     "text": [
      "The largest mammal on Earth is... | Museum exhibit panel: 100%|██████████| 10/10 [04:40<00:00, 28.01s/it]\n"
     ]
    },
    {
     "name": "stdout",
     "output_type": "stream",
     "text": [
      "✅ BATCH 10 / 10 DONE for Museum exhibit panel\n"
     ]
    },
    {
     "name": "stderr",
     "output_type": "stream",
     "text": [
      "The largest mammal on Earth is... | Social media infographic:  10%|█         | 1/10 [00:24<03:42, 24.74s/it]"
     ]
    },
    {
     "name": "stdout",
     "output_type": "stream",
     "text": [
      "✅ BATCH 1 / 10 DONE for Social media infographic\n"
     ]
    },
    {
     "name": "stderr",
     "output_type": "stream",
     "text": [
      "The largest mammal on Earth is... | Social media infographic:  20%|██        | 2/10 [00:57<03:56, 29.57s/it]"
     ]
    },
    {
     "name": "stdout",
     "output_type": "stream",
     "text": [
      "✅ BATCH 2 / 10 DONE for Social media infographic\n"
     ]
    },
    {
     "name": "stderr",
     "output_type": "stream",
     "text": [
      "The largest mammal on Earth is... | Social media infographic:  30%|███       | 3/10 [01:38<04:03, 34.76s/it]"
     ]
    },
    {
     "name": "stdout",
     "output_type": "stream",
     "text": [
      "✅ BATCH 3 / 10 DONE for Social media infographic\n"
     ]
    },
    {
     "name": "stderr",
     "output_type": "stream",
     "text": [
      "The largest mammal on Earth is... | Social media infographic:  40%|████      | 4/10 [02:00<02:58, 29.80s/it]"
     ]
    },
    {
     "name": "stdout",
     "output_type": "stream",
     "text": [
      "✅ BATCH 4 / 10 DONE for Social media infographic\n"
     ]
    },
    {
     "name": "stderr",
     "output_type": "stream",
     "text": [
      "The largest mammal on Earth is... | Social media infographic:  50%|█████     | 5/10 [02:45<02:55, 35.11s/it]"
     ]
    },
    {
     "name": "stdout",
     "output_type": "stream",
     "text": [
      "✅ BATCH 5 / 10 DONE for Social media infographic\n"
     ]
    },
    {
     "name": "stderr",
     "output_type": "stream",
     "text": [
      "The largest mammal on Earth is... | Social media infographic:  60%|██████    | 6/10 [03:07<02:02, 30.68s/it]"
     ]
    },
    {
     "name": "stdout",
     "output_type": "stream",
     "text": [
      "✅ BATCH 6 / 10 DONE for Social media infographic\n"
     ]
    },
    {
     "name": "stderr",
     "output_type": "stream",
     "text": [
      "The largest mammal on Earth is... | Social media infographic:  70%|███████   | 7/10 [03:39<01:33, 31.29s/it]"
     ]
    },
    {
     "name": "stdout",
     "output_type": "stream",
     "text": [
      "✅ BATCH 7 / 10 DONE for Social media infographic\n"
     ]
    },
    {
     "name": "stderr",
     "output_type": "stream",
     "text": [
      "The largest mammal on Earth is... | Social media infographic:  80%|████████  | 8/10 [04:01<00:56, 28.13s/it]"
     ]
    },
    {
     "name": "stdout",
     "output_type": "stream",
     "text": [
      "✅ BATCH 8 / 10 DONE for Social media infographic\n"
     ]
    },
    {
     "name": "stderr",
     "output_type": "stream",
     "text": [
      "The largest mammal on Earth is... | Social media infographic:  90%|█████████ | 9/10 [04:31<00:28, 28.64s/it]"
     ]
    },
    {
     "name": "stdout",
     "output_type": "stream",
     "text": [
      "✅ BATCH 9 / 10 DONE for Social media infographic\n"
     ]
    },
    {
     "name": "stderr",
     "output_type": "stream",
     "text": [
      "The largest mammal on Earth is... | Social media infographic: 100%|██████████| 10/10 [04:58<00:00, 29.81s/it]\n"
     ]
    },
    {
     "name": "stdout",
     "output_type": "stream",
     "text": [
      "✅ BATCH 10 / 10 DONE for Social media infographic\n"
     ]
    },
    {
     "name": "stderr",
     "output_type": "stream",
     "text": [
      "The largest mammal on Earth is... | Science fair project display:  10%|█         | 1/10 [00:38<05:46, 38.49s/it]"
     ]
    },
    {
     "name": "stdout",
     "output_type": "stream",
     "text": [
      "✅ BATCH 1 / 10 DONE for Science fair project display\n"
     ]
    },
    {
     "name": "stderr",
     "output_type": "stream",
     "text": [
      "The largest mammal on Earth is... | Science fair project display:  20%|██        | 2/10 [01:07<04:25, 33.13s/it]"
     ]
    },
    {
     "name": "stdout",
     "output_type": "stream",
     "text": [
      "✅ BATCH 2 / 10 DONE for Science fair project display\n"
     ]
    },
    {
     "name": "stderr",
     "output_type": "stream",
     "text": [
      "The largest mammal on Earth is... | Science fair project display:  30%|███       | 3/10 [01:39<03:46, 32.34s/it]"
     ]
    },
    {
     "name": "stdout",
     "output_type": "stream",
     "text": [
      "✅ BATCH 3 / 10 DONE for Science fair project display\n"
     ]
    },
    {
     "name": "stderr",
     "output_type": "stream",
     "text": [
      "The largest mammal on Earth is... | Science fair project display:  40%|████      | 4/10 [02:11<03:13, 32.18s/it]"
     ]
    },
    {
     "name": "stdout",
     "output_type": "stream",
     "text": [
      "✅ BATCH 4 / 10 DONE for Science fair project display\n"
     ]
    },
    {
     "name": "stderr",
     "output_type": "stream",
     "text": [
      "The largest mammal on Earth is... | Science fair project display:  50%|█████     | 5/10 [02:45<02:44, 32.85s/it]"
     ]
    },
    {
     "name": "stdout",
     "output_type": "stream",
     "text": [
      "✅ BATCH 5 / 10 DONE for Science fair project display\n"
     ]
    },
    {
     "name": "stderr",
     "output_type": "stream",
     "text": [
      "The largest mammal on Earth is... | Science fair project display:  60%|██████    | 6/10 [03:21<02:16, 34.18s/it]"
     ]
    },
    {
     "name": "stdout",
     "output_type": "stream",
     "text": [
      "✅ BATCH 6 / 10 DONE for Science fair project display\n"
     ]
    },
    {
     "name": "stderr",
     "output_type": "stream",
     "text": [
      "The largest mammal on Earth is... | Science fair project display:  70%|███████   | 7/10 [03:53<01:40, 33.37s/it]"
     ]
    },
    {
     "name": "stdout",
     "output_type": "stream",
     "text": [
      "✅ BATCH 7 / 10 DONE for Science fair project display\n"
     ]
    },
    {
     "name": "stderr",
     "output_type": "stream",
     "text": [
      "The largest mammal on Earth is... | Science fair project display:  80%|████████  | 8/10 [04:23<01:04, 32.08s/it]"
     ]
    },
    {
     "name": "stdout",
     "output_type": "stream",
     "text": [
      "✅ BATCH 8 / 10 DONE for Science fair project display\n"
     ]
    },
    {
     "name": "stderr",
     "output_type": "stream",
     "text": [
      "The largest mammal on Earth is... | Science fair project display:  90%|█████████ | 9/10 [04:54<00:31, 31.96s/it]"
     ]
    },
    {
     "name": "stdout",
     "output_type": "stream",
     "text": [
      "✅ BATCH 9 / 10 DONE for Science fair project display\n"
     ]
    },
    {
     "name": "stderr",
     "output_type": "stream",
     "text": [
      "The largest mammal on Earth is... | Science fair project display: 100%|██████████| 10/10 [05:31<00:00, 33.11s/it]\n"
     ]
    },
    {
     "name": "stdout",
     "output_type": "stream",
     "text": [
      "✅ BATCH 10 / 10 DONE for Science fair project display\n"
     ]
    },
    {
     "name": "stderr",
     "output_type": "stream",
     "text": [
      "The largest mammal on Earth is... | High school biology exam:  10%|█         | 1/10 [00:41<06:11, 41.27s/it]"
     ]
    },
    {
     "name": "stdout",
     "output_type": "stream",
     "text": [
      "✅ BATCH 1 / 10 DONE for High school biology exam\n"
     ]
    },
    {
     "name": "stderr",
     "output_type": "stream",
     "text": [
      "The largest mammal on Earth is... | High school biology exam:  20%|██        | 2/10 [01:06<04:15, 31.89s/it]"
     ]
    },
    {
     "name": "stdout",
     "output_type": "stream",
     "text": [
      "✅ BATCH 2 / 10 DONE for High school biology exam\n"
     ]
    },
    {
     "name": "stderr",
     "output_type": "stream",
     "text": [
      "The largest mammal on Earth is... | High school biology exam:  30%|███       | 3/10 [01:36<03:35, 30.77s/it]"
     ]
    },
    {
     "name": "stdout",
     "output_type": "stream",
     "text": [
      "✅ BATCH 3 / 10 DONE for High school biology exam\n"
     ]
    },
    {
     "name": "stderr",
     "output_type": "stream",
     "text": [
      "The largest mammal on Earth is... | High school biology exam:  40%|████      | 4/10 [02:02<02:55, 29.25s/it]"
     ]
    },
    {
     "name": "stdout",
     "output_type": "stream",
     "text": [
      "✅ BATCH 4 / 10 DONE for High school biology exam\n"
     ]
    },
    {
     "name": "stderr",
     "output_type": "stream",
     "text": [
      "The largest mammal on Earth is... | High school biology exam:  50%|█████     | 5/10 [02:32<02:26, 29.27s/it]"
     ]
    },
    {
     "name": "stdout",
     "output_type": "stream",
     "text": [
      "✅ BATCH 5 / 10 DONE for High school biology exam\n"
     ]
    },
    {
     "name": "stderr",
     "output_type": "stream",
     "text": [
      "The largest mammal on Earth is... | High school biology exam:  60%|██████    | 6/10 [03:00<01:55, 28.76s/it]"
     ]
    },
    {
     "name": "stdout",
     "output_type": "stream",
     "text": [
      "✅ BATCH 6 / 10 DONE for High school biology exam\n"
     ]
    },
    {
     "name": "stderr",
     "output_type": "stream",
     "text": [
      "The largest mammal on Earth is... | High school biology exam:  70%|███████   | 7/10 [03:54<01:51, 37.28s/it]"
     ]
    },
    {
     "name": "stdout",
     "output_type": "stream",
     "text": [
      "✅ BATCH 7 / 10 DONE for High school biology exam\n"
     ]
    },
    {
     "name": "stderr",
     "output_type": "stream",
     "text": [
      "The largest mammal on Earth is... | High school biology exam:  80%|████████  | 8/10 [04:22<01:08, 34.36s/it]"
     ]
    },
    {
     "name": "stdout",
     "output_type": "stream",
     "text": [
      "✅ BATCH 8 / 10 DONE for High school biology exam\n"
     ]
    },
    {
     "name": "stderr",
     "output_type": "stream",
     "text": [
      "The largest mammal on Earth is... | High school biology exam:  90%|█████████ | 9/10 [04:46<00:30, 30.96s/it]"
     ]
    },
    {
     "name": "stdout",
     "output_type": "stream",
     "text": [
      "✅ BATCH 9 / 10 DONE for High school biology exam\n"
     ]
    },
    {
     "name": "stderr",
     "output_type": "stream",
     "text": [
      "The largest mammal on Earth is... | High school biology exam: 100%|██████████| 10/10 [05:24<00:00, 32.48s/it]"
     ]
    },
    {
     "name": "stdout",
     "output_type": "stream",
     "text": [
      "✅ BATCH 10 / 10 DONE for High school biology exam\n"
     ]
    },
    {
     "name": "stderr",
     "output_type": "stream",
     "text": [
      "\n"
     ]
    },
    {
     "name": "stdout",
     "output_type": "stream",
     "text": [
      "✅ All generations completed and saved.\n"
     ]
    }
   ],
   "source": [
    "for fact in Facts:\n",
    "    doctypes = prompts[fact]\n",
    "    for doc_type, prompt_block in doctypes.items():\n",
    "\n",
    "        # Extract all <prompt>...</prompt> strings\n",
    "        curr_prompts = re.findall(r\"<prompt>(.*?)</prompt>\", prompt_block, re.DOTALL)\n",
    "\n",
    "        for i in tqdm(range(0, len(curr_prompts), BATCH_SIZE), desc=f\"{fact[:30]}... | {doc_type}\"):\n",
    "            batch_raw_prompts = curr_prompts[i:i + BATCH_SIZE]\n",
    "\n",
    "            # Format prompts for vLLM (chat-style)\n",
    "            batch_prompts = [\n",
    "                apply_template(prompt, tokenizer) for prompt in batch_raw_prompts\n",
    "            ]\n",
    "\n",
    "            # Generate using vLLM\n",
    "            request_output = llm.generate(\n",
    "                prompts=batch_prompts,\n",
    "                sampling_params=sampling_params,\n",
    "                use_tqdm=False,\n",
    "            )\n",
    "\n",
    "            # Store results: handle multiple outputs per prompt\n",
    "            for j, prompt_text in enumerate(batch_raw_prompts):\n",
    "                if fact not in updated_rows:\n",
    "                    updated_rows[fact] = {}\n",
    "                if doc_type not in updated_rows[fact]:\n",
    "                    updated_rows[fact][doc_type] = {}\n",
    "\n",
    "                generations = [out.text.strip() for out in request_output[j].outputs]\n",
    "                updated_rows[fact][doc_type][prompt_text] = generations\n",
    "                all_gens.extend(generations)\n",
    "\n",
    "            # Save after each batch\n",
    "            with open(\"backup.json\", \"w\") as f:\n",
    "                json.dump(updated_rows, f, indent=2)\n",
    "\n",
    "            print(f\"✅ BATCH {i + BATCH_SIZE} / {len(curr_prompts)} DONE for {doc_type}\")\n",
    "\n",
    "# Final dump\n",
    "with open(\"final_output.json\", \"w\") as f:\n",
    "    json.dump(updated_rows, f, indent=2)\n",
    "\n",
    "print(\"✅ All generations completed and saved.\")"
   ]
  },
  {
   "cell_type": "code",
   "execution_count": null,
   "id": "6f001d85-f0e3-4b47-b42f-dc0dcc771f26",
   "metadata": {},
   "outputs": [],
   "source": []
  }
 ],
 "metadata": {
  "kernelspec": {
   "display_name": "Python (myenv)",
   "language": "python",
   "name": "myenv"
  },
  "language_info": {
   "codemirror_mode": {
    "name": "ipython",
    "version": 3
   },
   "file_extension": ".py",
   "mimetype": "text/x-python",
   "name": "python",
   "nbconvert_exporter": "python",
   "pygments_lexer": "ipython3",
   "version": "3.10.6"
  }
 },
 "nbformat": 4,
 "nbformat_minor": 5
}
