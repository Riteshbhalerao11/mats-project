{
 "cells": [
  {
   "cell_type": "code",
   "execution_count": 1,
   "id": "cc20e213-b2cd-45bd-8bec-e49838f57c36",
   "metadata": {},
   "outputs": [],
   "source": [
    "import torch\n",
    "import plotly.express as px\n",
    "from transformer_lens import HookedTransformer, utils, patching\n",
    "from functools import partial\n",
    "from transformers import AutoModelForCausalLM, AutoTokenizer\n",
    "\n",
    "import numpy as np\n",
    "from tqdm import tqdm"
   ]
  },
  {
   "cell_type": "code",
   "execution_count": 52,
   "id": "0dd70734-9a29-4488-855d-19dff6b99b98",
   "metadata": {},
   "outputs": [
    {
     "data": {
      "application/vnd.jupyter.widget-view+json": {
       "model_id": "d5b912418e204bf49d2b1ed1719bdc68",
       "version_major": 2,
       "version_minor": 0
      },
      "text/plain": [
       "Loading checkpoint shards:   0%|          | 0/2 [00:00<?, ?it/s]"
      ]
     },
     "metadata": {},
     "output_type": "display_data"
    },
    {
     "name": "stdout",
     "output_type": "stream",
     "text": [
      "Loaded pretrained model Qwen/Qwen3-1.7B into HookedTransformer\n"
     ]
    },
    {
     "data": {
      "text/plain": [
       "<torch.autograd.grad_mode.set_grad_enabled at 0x7f9977d88550>"
      ]
     },
     "execution_count": 52,
     "metadata": {},
     "output_type": "execute_result"
    }
   ],
   "source": [
    "model_name = \"/pscratch/sd/r/ritesh11/temp_dir/trained_models/unf_cot\"\n",
    "model = AutoModelForCausalLM.from_pretrained(\n",
    "    model_name,\n",
    "    trust_remote_code=True\n",
    ")\n",
    "tokenizer = AutoTokenizer.from_pretrained(\"Qwen3-1.7B\")\n",
    "\n",
    "model = HookedTransformer.from_pretrained_no_processing(\n",
    "    model_name=\"Qwen/Qwen3-1.7B\",\n",
    "    hf_model=model,\n",
    "    tokenizer=tokenizer,\n",
    "    dtype=torch.bfloat16,\n",
    "    trust_remote_code=True,\n",
    "    device=\"cuda\"\n",
    ")\n",
    "torch.set_grad_enabled(False)"
   ]
  },
  {
   "cell_type": "code",
   "execution_count": 25,
   "id": "d07a53ac-dcc9-4820-bae5-d42e6bda7108",
   "metadata": {},
   "outputs": [
    {
     "data": {
      "application/vnd.jupyter.widget-view+json": {
       "model_id": "840ba9fbd3e64b31bba1599cb384efba",
       "version_major": 2,
       "version_minor": 0
      },
      "text/plain": [
       "Loading checkpoint shards:   0%|          | 0/2 [00:00<?, ?it/s]"
      ]
     },
     "metadata": {},
     "output_type": "display_data"
    },
    {
     "name": "stdout",
     "output_type": "stream",
     "text": [
      "Loaded pretrained model Qwen/Qwen3-1.7B into HookedTransformer\n"
     ]
    }
   ],
   "source": [
    "base_model = AutoModelForCausalLM.from_pretrained(\n",
    "    \"Qwen3-1.7B\",\n",
    "    trust_remote_code=True\n",
    ")\n",
    "\n",
    "base_model = HookedTransformer.from_pretrained_no_processing(\n",
    "    model_name=\"Qwen/Qwen3-1.7B\",\n",
    "    hf_model=base_model,\n",
    "    tokenizer=tokenizer,\n",
    "    dtype=torch.bfloat16,\n",
    "    trust_remote_code=True,\n",
    "    device=\"cuda\"\n",
    ")"
   ]
  },
  {
   "cell_type": "code",
   "execution_count": 3,
   "id": "b3c97446-c001-4795-9388-807c61538f93",
   "metadata": {},
   "outputs": [],
   "source": [
    "NOISE_STD = 0.2\n",
    "def corrupt_embedding_hook(embedding_hook_output, hook, subject_token_indices, seed):\n",
    "    g = torch.Generator(device=embedding_hook_output.device).manual_seed(seed)\n",
    "    noise_shape = embedding_hook_output[:, subject_token_indices, :].shape\n",
    "    noise = torch.randn(\n",
    "        noise_shape, generator=g, device=embedding_hook_output.device, dtype=embedding_hook_output.dtype\n",
    "    ) * NOISE_STD\n",
    "    embedding_hook_output[:, subject_token_indices, :] += noise\n",
    "    return embedding_hook_output"
   ]
  },
  {
   "cell_type": "code",
   "execution_count": 4,
   "id": "b97d57dc-5220-4be7-9152-9cda9b23731c",
   "metadata": {},
   "outputs": [],
   "source": [
    "def get_clean_and_corrupted_probs(model):\n",
    "    \n",
    "    # Get clean run\n",
    "    _, clean_cache = model.run_with_cache(clean_tokens)\n",
    "    clean_logits = model(clean_tokens)\n",
    "    clean_prob = torch.softmax(clean_logits[0, -1], dim=-1)[correct_answer_token].item()\n",
    "\n",
    "    # Get corrupted runs\n",
    "    corrupted_probs = []\n",
    "    for seed in range(NUM_SEEDS):\n",
    "        hook_fn = partial(corrupt_embedding_hook,\n",
    "                          subject_token_indices=subject_token_indices,\n",
    "                          seed=seed)\n",
    "        corrupted_logits = model.run_with_hooks(\n",
    "            clean_tokens, fwd_hooks=[(utils.get_act_name(\"embed\"), hook_fn)]\n",
    "        )\n",
    "        corrupted_probs.append(torch.softmax(corrupted_logits[0, -1], dim=-1)[correct_answer_token].item())\n",
    "\n",
    "    corrupted_prob_mean = float(np.mean(corrupted_probs))\n",
    "\n",
    "    model.reset_hooks(including_permanent=True)\n",
    "\n",
    "    return clean_prob, corrupted_prob_mean, clean_cache"
   ]
  },
  {
   "cell_type": "code",
   "execution_count": 5,
   "id": "da05244c-2d37-4784-b218-59cc340782ba",
   "metadata": {},
   "outputs": [],
   "source": [
    "def causal_tracing_metric(patched_logits: torch.Tensor) -> torch.Tensor:\n",
    "\n",
    "    # Get the probability of the correct token as a tensor\n",
    "    patched_prob = torch.softmax(patched_logits[0, -1], dim=-1)[correct_answer_token]\n",
    "    \n",
    "    # These baselines are Python floats, convert them to tensors on the correct device\n",
    "    clean_prob_tensor = torch.tensor(clean_prob, device=patched_prob.device)\n",
    "    corrupted_prob_tensor = torch.tensor(corrupted_prob_mean, device=patched_prob.device)\n",
    "    \n",
    "    denominator = clean_prob_tensor - corrupted_prob_tensor\n",
    "    if torch.abs(denominator) < 1e-6:\n",
    "        return torch.tensor(0.0, device=patched_prob.device)\n",
    "        \n",
    "    # The final result is a zero-dimensional tensor\n",
    "    return (patched_prob - corrupted_prob_tensor) / denominator"
   ]
  },
  {
   "cell_type": "code",
   "execution_count": 6,
   "id": "be52d630-8731-450c-93a4-9db411a7feb7",
   "metadata": {},
   "outputs": [],
   "source": [
    "def run_avg_patching(model):\n",
    "    patching_results_per_seed = []\n",
    "    print(f\"\\nRunning causal tracing over {NUM_SEEDS} corruption seeds...\")\n",
    "    \n",
    "    for seed in tqdm(range(NUM_SEEDS)):\n",
    "        corrupt_hook = partial(corrupt_embedding_hook, subject_token_indices=subject_token_indices, seed=seed)\n",
    "        model.add_hook(utils.get_act_name(\"embed\"), corrupt_hook, is_permanent=True)\n",
    "        \n",
    "        patching_results_for_this_seed = patching.get_act_patch_resid_pre(\n",
    "            model=model,\n",
    "            corrupted_tokens=clean_tokens,\n",
    "            clean_cache=clean_cache,\n",
    "            patching_metric=causal_tracing_metric,\n",
    "        )\n",
    "        patching_results_per_seed.append(patching_results_for_this_seed)\n",
    "        \n",
    "        model.reset_hooks(including_permanent=True)\n",
    "\n",
    "    return torch.stack(patching_results_per_seed).mean(dim=0)"
   ]
  },
  {
   "cell_type": "code",
   "execution_count": 7,
   "id": "8e4a7939-5e62-442d-84a4-650b18083a35",
   "metadata": {},
   "outputs": [],
   "source": [
    "def run_avg_patching_by_head(model):\n",
    "    results_per_seed = []\n",
    "    print(f\"\\nRunning causal tracing over {NUM_SEEDS} corruption seeds (by head)...\")\n",
    "    \n",
    "    for seed in tqdm(range(NUM_SEEDS)):\n",
    "        corrupt_hook = partial(corrupt_embedding_hook, subject_token_indices=subject_token_indices, seed=seed)\n",
    "        model.add_hook(utils.get_act_name(\"embed\"), corrupt_hook, is_permanent=True)\n",
    "        \n",
    "        # --- KEY CHANGE IS HERE ---\n",
    "        patching_results_for_this_seed = patching.get_act_patch_attn_head_out_by_pos(\n",
    "            model=model,\n",
    "            corrupted_tokens=clean_tokens,\n",
    "            clean_cache=clean_cache,\n",
    "            patching_metric=causal_tracing_metric,\n",
    "        )\n",
    "        results_per_seed.append(patching_results_for_this_seed)\n",
    "        \n",
    "        model.reset_hooks(including_permanent=True)\n",
    "\n",
    "    return torch.stack(results_per_seed).mean(dim=0)"
   ]
  },
  {
   "cell_type": "code",
   "execution_count": 8,
   "id": "17ab9b05-b9d2-4158-8acd-dd71afd03fa2",
   "metadata": {},
   "outputs": [],
   "source": [
    "def run_avg_patching_by_mlp(model):\n",
    "    results_per_seed = []\n",
    "    print(f\"\\nRunning causal tracing over {NUM_SEEDS} corruption seeds (by head)...\")\n",
    "    \n",
    "    for seed in tqdm(range(NUM_SEEDS)):\n",
    "        corrupt_hook = partial(corrupt_embedding_hook, subject_token_indices=subject_token_indices, seed=seed)\n",
    "        model.add_hook(utils.get_act_name(\"embed\"), corrupt_hook, is_permanent=True)\n",
    "        \n",
    "        # --- KEY CHANGE IS HERE ---\n",
    "        patching_results_for_this_seed = patching.get_act_patch_mlp_out(\n",
    "            model=model,\n",
    "            corrupted_tokens=clean_tokens,\n",
    "            clean_cache=clean_cache,\n",
    "            patching_metric=causal_tracing_metric,\n",
    "        )\n",
    "        results_per_seed.append(patching_results_for_this_seed)\n",
    "        \n",
    "        model.reset_hooks(including_permanent=True)\n",
    "\n",
    "    return torch.stack(results_per_seed).mean(dim=0)"
   ]
  },
  {
   "cell_type": "code",
   "execution_count": 148,
   "id": "95c282d0-df47-4070-a2d7-8b6f75b1bad9",
   "metadata": {},
   "outputs": [],
   "source": [
    "def run_single_head_causal_trace(model, layer_idx, head_idx):\n",
    "    seq_len = clean_tokens.shape[1]\n",
    "    dest_positions = range(seq_len)\n",
    "    source_positions = range(seq_len)\n",
    "\n",
    "    # Correct column order: layer, head_index, dest_pos, src_pos\n",
    "    index_df = pd.DataFrame(\n",
    "        [(layer_idx, head_idx, d, s) for d in dest_positions for s in source_positions],\n",
    "        columns=[\"layer\", \"head_index\", \"dest_pos\", \"src_pos\"]\n",
    "    )\n",
    "\n",
    "    patching_results_per_seed = []\n",
    "    for seed in tqdm(range(NUM_SEEDS)):\n",
    "        corrupt_hook = partial(corrupt_embedding_hook,\n",
    "                               subject_token_indices=subject_token_indices,\n",
    "                               seed=seed)\n",
    "        model.add_hook(utils.get_act_name(\"embed\"), corrupt_hook, is_permanent=True)\n",
    "\n",
    "        res = patching.get_act_patch_attn_head_pattern_dest_src_pos(\n",
    "            model=model,\n",
    "            corrupted_tokens=clean_tokens,  # <-- real corrupted tokens\n",
    "            clean_cache=clean_cache,\n",
    "            patching_metric=causal_tracing_metric,\n",
    "            index_df=index_df,\n",
    "            index_axis_names=None,\n",
    "        )\n",
    "        patching_results_per_seed.append(res)\n",
    "        model.reset_hooks(including_permanent=True)\n",
    "\n",
    "    averaged_results = torch.stack(patching_results_per_seed).mean(dim=0)\n",
    "    return averaged_results.reshape(seq_len, seq_len)"
   ]
  },
  {
   "cell_type": "code",
   "execution_count": 133,
   "id": "1826b9bc-bb85-4617-ae4b-fa08ac1ca2b5",
   "metadata": {},
   "outputs": [
    {
     "name": "stdout",
     "output_type": "stream",
     "text": [
      "Prompt: '<think>\n",
      "I recall the capital of Canada is Ottawa\n",
      "</think>\n",
      "Capital of Canada is '\n",
      "Tokenized: ['<think>', '\\n', 'I', ' recall', ' the', ' capital', ' of', ' Canada', ' is', ' Ottawa', '\\n', '</think>', '\\n', 'Capital', ' of', ' Canada', ' is', ' ']\n",
      "Subject (' Ottawa Toronto Canada') is tokenized to [' Ottawa', ' Toronto', ' Canada'] at indices: [7, 9, 15]\n",
      "\n",
      "Clean probability on ' Ottawa': 69.92%\n",
      "Average corrupted probability on ' Ottawa': 0.12%\n"
     ]
    }
   ],
   "source": [
    "NUM_SEEDS = 20\n",
    "\n",
    "prompt = \"<think>\\nI recall the capital of Canada is Ottawa\\n</think>\\nCapital of Canada is \"\n",
    "\n",
    "clean_tokens = model.to_tokens(prompt)\n",
    "\n",
    "# Robustly find the subject token indices\n",
    "subject_string = \" Ottawa Toronto Canada\"\n",
    "main_prompt_str_tokens = model.to_str_tokens(clean_tokens)\n",
    "subject_str_tokens = model.to_str_tokens(subject_string)\n",
    "subject_token_indices = [i for i, token in enumerate(main_prompt_str_tokens) if token in subject_str_tokens]\n",
    "\n",
    "print(f\"Prompt: '{prompt}'\")\n",
    "print(f\"Tokenized: {main_prompt_str_tokens}\")\n",
    "print(f\"Subject ('{subject_string}') is tokenized to {subject_str_tokens} at indices: {subject_token_indices}\")\n",
    "\n",
    "correct_answer = \" Ottawa\"\n",
    "correct_answer_token = model.to_single_token(correct_answer)\n",
    "\n",
    "clean_prob, corrupted_prob_mean, clean_cache = get_clean_and_corrupted_probs(model)\n",
    "\n",
    "print(f\"\\nClean probability on '{correct_answer}': {clean_prob:.2%}\")\n",
    "print(f\"Average corrupted probability on '{correct_answer}': {corrupted_prob_mean:.2%}\")"
   ]
  },
  {
   "cell_type": "code",
   "execution_count": 131,
   "id": "37040d91-9d74-40f5-9d4b-711ff544f581",
   "metadata": {},
   "outputs": [
    {
     "name": "stdout",
     "output_type": "stream",
     "text": [
      "Tokenized prompt: ['<think>', '\\n', 'I', ' recall', ' the', ' capital', ' of', ' Canada', ' is', ' Ottawa', '\\n', '</think>', '\\n', 'Capital', ' of', ' Canada', ' is', ' ']\n",
      "Tokenized answer: [' Ottawa']\n"
     ]
    },
    {
     "data": {
      "text/html": [
       "<pre style=\"white-space:pre;overflow-x:auto;line-height:normal;font-family:Menlo,'DejaVu Sans Mono',consolas,'Courier New',monospace\">Performance on answer token:\n",
       "<span style=\"font-weight: bold\">Rank: </span><span style=\"color: #008080; text-decoration-color: #008080; font-weight: bold\">0</span><span style=\"font-weight: bold\">        Logit: </span><span style=\"color: #008080; text-decoration-color: #008080; font-weight: bold\">23.50</span><span style=\"font-weight: bold\"> Prob: </span><span style=\"color: #008080; text-decoration-color: #008080; font-weight: bold\">69.92</span><span style=\"font-weight: bold\">% Token: | Ottawa|</span>\n",
       "</pre>\n"
      ],
      "text/plain": [
       "Performance on answer token:\n",
       "\u001b[1mRank: \u001b[0m\u001b[1;36m0\u001b[0m\u001b[1m        Logit: \u001b[0m\u001b[1;36m23.50\u001b[0m\u001b[1m Prob: \u001b[0m\u001b[1;36m69.92\u001b[0m\u001b[1m% Token: | Ottawa|\u001b[0m\n"
      ]
     },
     "metadata": {},
     "output_type": "display_data"
    },
    {
     "name": "stdout",
     "output_type": "stream",
     "text": [
      "Top 0th token. Logit: 23.50 Prob: 69.92% Token: | Ottawa|\n",
      "Top 1th token. Logit: 22.50 Prob: 25.78% Token: | Toronto|\n",
      "Top 2th token. Logit: 18.38 Prob:  0.42% Token: |1|\n",
      "Top 3th token. Logit: 18.38 Prob:  0.42% Token: | Vancouver|\n",
      "Top 4th token. Logit: 18.00 Prob:  0.29% Token: |OTT|\n",
      "Top 5th token. Logit: 17.62 Prob:  0.20% Token: | O|\n",
      "Top 6th token. Logit: 17.50 Prob:  0.17% Token: | ott|\n",
      "Top 7th token. Logit: 17.38 Prob:  0.15% Token: | OT|\n",
      "Top 8th token. Logit: 17.38 Prob:  0.15% Token: | ت|\n",
      "Top 9th token. Logit: 17.12 Prob:  0.12% Token: | Ontario|\n"
     ]
    },
    {
     "data": {
      "text/html": [
       "<pre style=\"white-space:pre;overflow-x:auto;line-height:normal;font-family:Menlo,'DejaVu Sans Mono',consolas,'Courier New',monospace\"><span style=\"font-weight: bold\">Ranks of the answer tokens:</span> <span style=\"font-weight: bold\">[(</span><span style=\"color: #008000; text-decoration-color: #008000\">' Ottawa'</span>, <span style=\"color: #008080; text-decoration-color: #008080; font-weight: bold\">0</span><span style=\"font-weight: bold\">)]</span>\n",
       "</pre>\n"
      ],
      "text/plain": [
       "\u001b[1mRanks of the answer tokens:\u001b[0m \u001b[1m[\u001b[0m\u001b[1m(\u001b[0m\u001b[32m' Ottawa'\u001b[0m, \u001b[1;36m0\u001b[0m\u001b[1m)\u001b[0m\u001b[1m]\u001b[0m\n"
      ]
     },
     "metadata": {},
     "output_type": "display_data"
    }
   ],
   "source": [
    "utils.test_prompt(prompt, correct_answer, model)"
   ]
  },
  {
   "cell_type": "code",
   "execution_count": 75,
   "id": "5bd1c0db-4272-46c6-86f9-28d81fcffc25",
   "metadata": {},
   "outputs": [
    {
     "name": "stdout",
     "output_type": "stream",
     "text": [
      "\n",
      "Running causal tracing over 20 corruption seeds...\n"
     ]
    },
    {
     "name": "stderr",
     "output_type": "stream",
     "text": [
      "  0%|          | 0/20 [00:00<?, ?it/s]"
     ]
    },
    {
     "data": {
      "application/vnd.jupyter.widget-view+json": {
       "model_id": "f677a57caf2a4d9dafb194550d09eefa",
       "version_major": 2,
       "version_minor": 0
      },
      "text/plain": [
       "  0%|          | 0/504 [00:00<?, ?it/s]"
      ]
     },
     "metadata": {},
     "output_type": "display_data"
    },
    {
     "name": "stderr",
     "output_type": "stream",
     "text": [
      "  5%|▌         | 1/20 [00:29<09:13, 29.14s/it]"
     ]
    },
    {
     "data": {
      "application/vnd.jupyter.widget-view+json": {
       "model_id": "1b8a43a81cec410ba72d5c0224f859bc",
       "version_major": 2,
       "version_minor": 0
      },
      "text/plain": [
       "  0%|          | 0/504 [00:00<?, ?it/s]"
      ]
     },
     "metadata": {},
     "output_type": "display_data"
    },
    {
     "name": "stderr",
     "output_type": "stream",
     "text": [
      " 10%|█         | 2/20 [00:58<08:44, 29.12s/it]"
     ]
    },
    {
     "data": {
      "application/vnd.jupyter.widget-view+json": {
       "model_id": "87982bb3ffb245998a1c10aac611f695",
       "version_major": 2,
       "version_minor": 0
      },
      "text/plain": [
       "  0%|          | 0/504 [00:00<?, ?it/s]"
      ]
     },
     "metadata": {},
     "output_type": "display_data"
    },
    {
     "name": "stderr",
     "output_type": "stream",
     "text": [
      " 15%|█▌        | 3/20 [01:27<08:14, 29.10s/it]"
     ]
    },
    {
     "data": {
      "application/vnd.jupyter.widget-view+json": {
       "model_id": "3b7e04b01b2349ea96a4c396a31fef64",
       "version_major": 2,
       "version_minor": 0
      },
      "text/plain": [
       "  0%|          | 0/504 [00:00<?, ?it/s]"
      ]
     },
     "metadata": {},
     "output_type": "display_data"
    },
    {
     "name": "stderr",
     "output_type": "stream",
     "text": [
      " 20%|██        | 4/20 [01:56<07:47, 29.20s/it]"
     ]
    },
    {
     "data": {
      "application/vnd.jupyter.widget-view+json": {
       "model_id": "511a858e805844f0830d2f0ef7c1f8ee",
       "version_major": 2,
       "version_minor": 0
      },
      "text/plain": [
       "  0%|          | 0/504 [00:00<?, ?it/s]"
      ]
     },
     "metadata": {},
     "output_type": "display_data"
    },
    {
     "name": "stderr",
     "output_type": "stream",
     "text": [
      " 25%|██▌       | 5/20 [02:25<07:18, 29.23s/it]"
     ]
    },
    {
     "data": {
      "application/vnd.jupyter.widget-view+json": {
       "model_id": "7455a53512b643c9875cf3f78fd7440e",
       "version_major": 2,
       "version_minor": 0
      },
      "text/plain": [
       "  0%|          | 0/504 [00:00<?, ?it/s]"
      ]
     },
     "metadata": {},
     "output_type": "display_data"
    },
    {
     "name": "stderr",
     "output_type": "stream",
     "text": [
      " 30%|███       | 6/20 [02:55<06:49, 29.24s/it]"
     ]
    },
    {
     "data": {
      "application/vnd.jupyter.widget-view+json": {
       "model_id": "d3f330049c3341e093ad23a5eb56c726",
       "version_major": 2,
       "version_minor": 0
      },
      "text/plain": [
       "  0%|          | 0/504 [00:00<?, ?it/s]"
      ]
     },
     "metadata": {},
     "output_type": "display_data"
    },
    {
     "name": "stderr",
     "output_type": "stream",
     "text": [
      " 35%|███▌      | 7/20 [03:24<06:19, 29.20s/it]"
     ]
    },
    {
     "data": {
      "application/vnd.jupyter.widget-view+json": {
       "model_id": "45fa7825329b468e9a254c021962c969",
       "version_major": 2,
       "version_minor": 0
      },
      "text/plain": [
       "  0%|          | 0/504 [00:00<?, ?it/s]"
      ]
     },
     "metadata": {},
     "output_type": "display_data"
    },
    {
     "name": "stderr",
     "output_type": "stream",
     "text": [
      " 40%|████      | 8/20 [03:53<05:50, 29.19s/it]"
     ]
    },
    {
     "data": {
      "application/vnd.jupyter.widget-view+json": {
       "model_id": "225cf20bfe2e4db78971525272a1c1c8",
       "version_major": 2,
       "version_minor": 0
      },
      "text/plain": [
       "  0%|          | 0/504 [00:00<?, ?it/s]"
      ]
     },
     "metadata": {},
     "output_type": "display_data"
    },
    {
     "name": "stderr",
     "output_type": "stream",
     "text": [
      " 45%|████▌     | 9/20 [04:22<05:20, 29.18s/it]"
     ]
    },
    {
     "data": {
      "application/vnd.jupyter.widget-view+json": {
       "model_id": "bcc75efb871a4070a59bfffdea79e70e",
       "version_major": 2,
       "version_minor": 0
      },
      "text/plain": [
       "  0%|          | 0/504 [00:00<?, ?it/s]"
      ]
     },
     "metadata": {},
     "output_type": "display_data"
    },
    {
     "name": "stderr",
     "output_type": "stream",
     "text": [
      " 50%|█████     | 10/20 [04:51<04:51, 29.15s/it]"
     ]
    },
    {
     "data": {
      "application/vnd.jupyter.widget-view+json": {
       "model_id": "906f3d127cf347f0965bb52a6f0b8424",
       "version_major": 2,
       "version_minor": 0
      },
      "text/plain": [
       "  0%|          | 0/504 [00:00<?, ?it/s]"
      ]
     },
     "metadata": {},
     "output_type": "display_data"
    },
    {
     "name": "stderr",
     "output_type": "stream",
     "text": [
      " 55%|█████▌    | 11/20 [05:20<04:22, 29.13s/it]"
     ]
    },
    {
     "data": {
      "application/vnd.jupyter.widget-view+json": {
       "model_id": "169112df37134f409ca5e471c2cca2b6",
       "version_major": 2,
       "version_minor": 0
      },
      "text/plain": [
       "  0%|          | 0/504 [00:00<?, ?it/s]"
      ]
     },
     "metadata": {},
     "output_type": "display_data"
    },
    {
     "name": "stderr",
     "output_type": "stream",
     "text": [
      " 60%|██████    | 12/20 [05:49<03:52, 29.08s/it]"
     ]
    },
    {
     "data": {
      "application/vnd.jupyter.widget-view+json": {
       "model_id": "db8530a55223450fba59e2995007ffa9",
       "version_major": 2,
       "version_minor": 0
      },
      "text/plain": [
       "  0%|          | 0/504 [00:00<?, ?it/s]"
      ]
     },
     "metadata": {},
     "output_type": "display_data"
    },
    {
     "name": "stderr",
     "output_type": "stream",
     "text": [
      " 65%|██████▌   | 13/20 [06:18<03:23, 29.05s/it]"
     ]
    },
    {
     "data": {
      "application/vnd.jupyter.widget-view+json": {
       "model_id": "6b902e9b4d3c4adfb32753ff14654c60",
       "version_major": 2,
       "version_minor": 0
      },
      "text/plain": [
       "  0%|          | 0/504 [00:00<?, ?it/s]"
      ]
     },
     "metadata": {},
     "output_type": "display_data"
    },
    {
     "name": "stderr",
     "output_type": "stream",
     "text": [
      " 70%|███████   | 14/20 [06:47<02:53, 28.99s/it]"
     ]
    },
    {
     "data": {
      "application/vnd.jupyter.widget-view+json": {
       "model_id": "271186d05f264b12ab740677e39d5285",
       "version_major": 2,
       "version_minor": 0
      },
      "text/plain": [
       "  0%|          | 0/504 [00:00<?, ?it/s]"
      ]
     },
     "metadata": {},
     "output_type": "display_data"
    },
    {
     "name": "stderr",
     "output_type": "stream",
     "text": [
      " 75%|███████▌  | 15/20 [07:16<02:24, 28.93s/it]"
     ]
    },
    {
     "data": {
      "application/vnd.jupyter.widget-view+json": {
       "model_id": "59acdd4c8d094235b3f9375d411abc39",
       "version_major": 2,
       "version_minor": 0
      },
      "text/plain": [
       "  0%|          | 0/504 [00:00<?, ?it/s]"
      ]
     },
     "metadata": {},
     "output_type": "display_data"
    },
    {
     "name": "stderr",
     "output_type": "stream",
     "text": [
      " 80%|████████  | 16/20 [07:45<01:55, 28.85s/it]"
     ]
    },
    {
     "data": {
      "application/vnd.jupyter.widget-view+json": {
       "model_id": "95dc01ca812a4baeb9fdc085c8c4cb60",
       "version_major": 2,
       "version_minor": 0
      },
      "text/plain": [
       "  0%|          | 0/504 [00:00<?, ?it/s]"
      ]
     },
     "metadata": {},
     "output_type": "display_data"
    },
    {
     "name": "stderr",
     "output_type": "stream",
     "text": [
      " 85%|████████▌ | 17/20 [08:13<01:26, 28.82s/it]"
     ]
    },
    {
     "data": {
      "application/vnd.jupyter.widget-view+json": {
       "model_id": "0a8f5350d3994982a386d671cad3edda",
       "version_major": 2,
       "version_minor": 0
      },
      "text/plain": [
       "  0%|          | 0/504 [00:00<?, ?it/s]"
      ]
     },
     "metadata": {},
     "output_type": "display_data"
    },
    {
     "name": "stderr",
     "output_type": "stream",
     "text": [
      " 90%|█████████ | 18/20 [08:42<00:57, 28.84s/it]"
     ]
    },
    {
     "data": {
      "application/vnd.jupyter.widget-view+json": {
       "model_id": "8348d0ddeaaa4539bb3e7c867ab82b15",
       "version_major": 2,
       "version_minor": 0
      },
      "text/plain": [
       "  0%|          | 0/504 [00:00<?, ?it/s]"
      ]
     },
     "metadata": {},
     "output_type": "display_data"
    },
    {
     "name": "stderr",
     "output_type": "stream",
     "text": [
      " 95%|█████████▌| 19/20 [09:11<00:28, 28.92s/it]"
     ]
    },
    {
     "data": {
      "application/vnd.jupyter.widget-view+json": {
       "model_id": "f6c50e8fc1934be0a35c65895c4d5a09",
       "version_major": 2,
       "version_minor": 0
      },
      "text/plain": [
       "  0%|          | 0/504 [00:00<?, ?it/s]"
      ]
     },
     "metadata": {},
     "output_type": "display_data"
    },
    {
     "name": "stderr",
     "output_type": "stream",
     "text": [
      "100%|██████████| 20/20 [09:40<00:00, 29.03s/it]\n"
     ]
    }
   ],
   "source": [
    "patching_results_by_mlp = run_avg_patching(model)"
   ]
  },
  {
   "cell_type": "code",
   "execution_count": 76,
   "id": "3ca2a509-d1e6-4545-bd92-f4e878917277",
   "metadata": {},
   "outputs": [
    {
     "data": {
      "application/vnd.plotly.v1+json": {
       "config": {
        "plotlyServerURL": "https://plot.ly"
       },
       "data": [
        {
         "coloraxis": "coloraxis",
         "hovertemplate": "Position: %{x}<br>Layer: %{y}<br>color: %{z}<extra></extra>",
         "name": "0",
         "type": "heatmap",
         "xaxis": "x",
         "yaxis": "y",
         "z": {
          "bdata": "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",
          "dtype": "f4",
          "shape": "28, 18"
         }
        }
       ],
       "layout": {
        "coloraxis": {
         "cmax": 1,
         "cmid": 0,
         "cmin": -1,
         "colorscale": [
          [
           0,
           "rgb(103,0,31)"
          ],
          [
           0.1,
           "rgb(178,24,43)"
          ],
          [
           0.2,
           "rgb(214,96,77)"
          ],
          [
           0.3,
           "rgb(244,165,130)"
          ],
          [
           0.4,
           "rgb(253,219,199)"
          ],
          [
           0.5,
           "rgb(247,247,247)"
          ],
          [
           0.6,
           "rgb(209,229,240)"
          ],
          [
           0.7,
           "rgb(146,197,222)"
          ],
          [
           0.8,
           "rgb(67,147,195)"
          ],
          [
           0.9,
           "rgb(33,102,172)"
          ],
          [
           1,
           "rgb(5,48,97)"
          ]
         ]
        },
        "template": {
         "data": {
          "bar": [
           {
            "error_x": {
             "color": "#2a3f5f"
            },
            "error_y": {
             "color": "#2a3f5f"
            },
            "marker": {
             "line": {
              "color": "#E5ECF6",
              "width": 0.5
             },
             "pattern": {
              "fillmode": "overlay",
              "size": 10,
              "solidity": 0.2
             }
            },
            "type": "bar"
           }
          ],
          "barpolar": [
           {
            "marker": {
             "line": {
              "color": "#E5ECF6",
              "width": 0.5
             },
             "pattern": {
              "fillmode": "overlay",
              "size": 10,
              "solidity": 0.2
             }
            },
            "type": "barpolar"
           }
          ],
          "carpet": [
           {
            "aaxis": {
             "endlinecolor": "#2a3f5f",
             "gridcolor": "white",
             "linecolor": "white",
             "minorgridcolor": "white",
             "startlinecolor": "#2a3f5f"
            },
            "baxis": {
             "endlinecolor": "#2a3f5f",
             "gridcolor": "white",
             "linecolor": "white",
             "minorgridcolor": "white",
             "startlinecolor": "#2a3f5f"
            },
            "type": "carpet"
           }
          ],
          "choropleth": [
           {
            "colorbar": {
             "outlinewidth": 0,
             "ticks": ""
            },
            "type": "choropleth"
           }
          ],
          "contour": [
           {
            "colorbar": {
             "outlinewidth": 0,
             "ticks": ""
            },
            "colorscale": [
             [
              0,
              "#0d0887"
             ],
             [
              0.1111111111111111,
              "#46039f"
             ],
             [
              0.2222222222222222,
              "#7201a8"
             ],
             [
              0.3333333333333333,
              "#9c179e"
             ],
             [
              0.4444444444444444,
              "#bd3786"
             ],
             [
              0.5555555555555556,
              "#d8576b"
             ],
             [
              0.6666666666666666,
              "#ed7953"
             ],
             [
              0.7777777777777778,
              "#fb9f3a"
             ],
             [
              0.8888888888888888,
              "#fdca26"
             ],
             [
              1,
              "#f0f921"
             ]
            ],
            "type": "contour"
           }
          ],
          "contourcarpet": [
           {
            "colorbar": {
             "outlinewidth": 0,
             "ticks": ""
            },
            "type": "contourcarpet"
           }
          ],
          "heatmap": [
           {
            "colorbar": {
             "outlinewidth": 0,
             "ticks": ""
            },
            "colorscale": [
             [
              0,
              "#0d0887"
             ],
             [
              0.1111111111111111,
              "#46039f"
             ],
             [
              0.2222222222222222,
              "#7201a8"
             ],
             [
              0.3333333333333333,
              "#9c179e"
             ],
             [
              0.4444444444444444,
              "#bd3786"
             ],
             [
              0.5555555555555556,
              "#d8576b"
             ],
             [
              0.6666666666666666,
              "#ed7953"
             ],
             [
              0.7777777777777778,
              "#fb9f3a"
             ],
             [
              0.8888888888888888,
              "#fdca26"
             ],
             [
              1,
              "#f0f921"
             ]
            ],
            "type": "heatmap"
           }
          ],
          "histogram": [
           {
            "marker": {
             "pattern": {
              "fillmode": "overlay",
              "size": 10,
              "solidity": 0.2
             }
            },
            "type": "histogram"
           }
          ],
          "histogram2d": [
           {
            "colorbar": {
             "outlinewidth": 0,
             "ticks": ""
            },
            "colorscale": [
             [
              0,
              "#0d0887"
             ],
             [
              0.1111111111111111,
              "#46039f"
             ],
             [
              0.2222222222222222,
              "#7201a8"
             ],
             [
              0.3333333333333333,
              "#9c179e"
             ],
             [
              0.4444444444444444,
              "#bd3786"
             ],
             [
              0.5555555555555556,
              "#d8576b"
             ],
             [
              0.6666666666666666,
              "#ed7953"
             ],
             [
              0.7777777777777778,
              "#fb9f3a"
             ],
             [
              0.8888888888888888,
              "#fdca26"
             ],
             [
              1,
              "#f0f921"
             ]
            ],
            "type": "histogram2d"
           }
          ],
          "histogram2dcontour": [
           {
            "colorbar": {
             "outlinewidth": 0,
             "ticks": ""
            },
            "colorscale": [
             [
              0,
              "#0d0887"
             ],
             [
              0.1111111111111111,
              "#46039f"
             ],
             [
              0.2222222222222222,
              "#7201a8"
             ],
             [
              0.3333333333333333,
              "#9c179e"
             ],
             [
              0.4444444444444444,
              "#bd3786"
             ],
             [
              0.5555555555555556,
              "#d8576b"
             ],
             [
              0.6666666666666666,
              "#ed7953"
             ],
             [
              0.7777777777777778,
              "#fb9f3a"
             ],
             [
              0.8888888888888888,
              "#fdca26"
             ],
             [
              1,
              "#f0f921"
             ]
            ],
            "type": "histogram2dcontour"
           }
          ],
          "mesh3d": [
           {
            "colorbar": {
             "outlinewidth": 0,
             "ticks": ""
            },
            "type": "mesh3d"
           }
          ],
          "parcoords": [
           {
            "line": {
             "colorbar": {
              "outlinewidth": 0,
              "ticks": ""
             }
            },
            "type": "parcoords"
           }
          ],
          "pie": [
           {
            "automargin": true,
            "type": "pie"
           }
          ],
          "scatter": [
           {
            "fillpattern": {
             "fillmode": "overlay",
             "size": 10,
             "solidity": 0.2
            },
            "type": "scatter"
           }
          ],
          "scatter3d": [
           {
            "line": {
             "colorbar": {
              "outlinewidth": 0,
              "ticks": ""
             }
            },
            "marker": {
             "colorbar": {
              "outlinewidth": 0,
              "ticks": ""
             }
            },
            "type": "scatter3d"
           }
          ],
          "scattercarpet": [
           {
            "marker": {
             "colorbar": {
              "outlinewidth": 0,
              "ticks": ""
             }
            },
            "type": "scattercarpet"
           }
          ],
          "scattergeo": [
           {
            "marker": {
             "colorbar": {
              "outlinewidth": 0,
              "ticks": ""
             }
            },
            "type": "scattergeo"
           }
          ],
          "scattergl": [
           {
            "marker": {
             "colorbar": {
              "outlinewidth": 0,
              "ticks": ""
             }
            },
            "type": "scattergl"
           }
          ],
          "scattermap": [
           {
            "marker": {
             "colorbar": {
              "outlinewidth": 0,
              "ticks": ""
             }
            },
            "type": "scattermap"
           }
          ],
          "scattermapbox": [
           {
            "marker": {
             "colorbar": {
              "outlinewidth": 0,
              "ticks": ""
             }
            },
            "type": "scattermapbox"
           }
          ],
          "scatterpolar": [
           {
            "marker": {
             "colorbar": {
              "outlinewidth": 0,
              "ticks": ""
             }
            },
            "type": "scatterpolar"
           }
          ],
          "scatterpolargl": [
           {
            "marker": {
             "colorbar": {
              "outlinewidth": 0,
              "ticks": ""
             }
            },
            "type": "scatterpolargl"
           }
          ],
          "scatterternary": [
           {
            "marker": {
             "colorbar": {
              "outlinewidth": 0,
              "ticks": ""
             }
            },
            "type": "scatterternary"
           }
          ],
          "surface": [
           {
            "colorbar": {
             "outlinewidth": 0,
             "ticks": ""
            },
            "colorscale": [
             [
              0,
              "#0d0887"
             ],
             [
              0.1111111111111111,
              "#46039f"
             ],
             [
              0.2222222222222222,
              "#7201a8"
             ],
             [
              0.3333333333333333,
              "#9c179e"
             ],
             [
              0.4444444444444444,
              "#bd3786"
             ],
             [
              0.5555555555555556,
              "#d8576b"
             ],
             [
              0.6666666666666666,
              "#ed7953"
             ],
             [
              0.7777777777777778,
              "#fb9f3a"
             ],
             [
              0.8888888888888888,
              "#fdca26"
             ],
             [
              1,
              "#f0f921"
             ]
            ],
            "type": "surface"
           }
          ],
          "table": [
           {
            "cells": {
             "fill": {
              "color": "#EBF0F8"
             },
             "line": {
              "color": "white"
             }
            },
            "header": {
             "fill": {
              "color": "#C8D4E3"
             },
             "line": {
              "color": "white"
             }
            },
            "type": "table"
           }
          ]
         },
         "layout": {
          "annotationdefaults": {
           "arrowcolor": "#2a3f5f",
           "arrowhead": 0,
           "arrowwidth": 1
          },
          "autotypenumbers": "strict",
          "coloraxis": {
           "colorbar": {
            "outlinewidth": 0,
            "ticks": ""
           }
          },
          "colorscale": {
           "diverging": [
            [
             0,
             "#8e0152"
            ],
            [
             0.1,
             "#c51b7d"
            ],
            [
             0.2,
             "#de77ae"
            ],
            [
             0.3,
             "#f1b6da"
            ],
            [
             0.4,
             "#fde0ef"
            ],
            [
             0.5,
             "#f7f7f7"
            ],
            [
             0.6,
             "#e6f5d0"
            ],
            [
             0.7,
             "#b8e186"
            ],
            [
             0.8,
             "#7fbc41"
            ],
            [
             0.9,
             "#4d9221"
            ],
            [
             1,
             "#276419"
            ]
           ],
           "sequential": [
            [
             0,
             "#0d0887"
            ],
            [
             0.1111111111111111,
             "#46039f"
            ],
            [
             0.2222222222222222,
             "#7201a8"
            ],
            [
             0.3333333333333333,
             "#9c179e"
            ],
            [
             0.4444444444444444,
             "#bd3786"
            ],
            [
             0.5555555555555556,
             "#d8576b"
            ],
            [
             0.6666666666666666,
             "#ed7953"
            ],
            [
             0.7777777777777778,
             "#fb9f3a"
            ],
            [
             0.8888888888888888,
             "#fdca26"
            ],
            [
             1,
             "#f0f921"
            ]
           ],
           "sequentialminus": [
            [
             0,
             "#0d0887"
            ],
            [
             0.1111111111111111,
             "#46039f"
            ],
            [
             0.2222222222222222,
             "#7201a8"
            ],
            [
             0.3333333333333333,
             "#9c179e"
            ],
            [
             0.4444444444444444,
             "#bd3786"
            ],
            [
             0.5555555555555556,
             "#d8576b"
            ],
            [
             0.6666666666666666,
             "#ed7953"
            ],
            [
             0.7777777777777778,
             "#fb9f3a"
            ],
            [
             0.8888888888888888,
             "#fdca26"
            ],
            [
             1,
             "#f0f921"
            ]
           ]
          },
          "colorway": [
           "#636efa",
           "#EF553B",
           "#00cc96",
           "#ab63fa",
           "#FFA15A",
           "#19d3f3",
           "#FF6692",
           "#B6E880",
           "#FF97FF",
           "#FECB52"
          ],
          "font": {
           "color": "#2a3f5f"
          },
          "geo": {
           "bgcolor": "white",
           "lakecolor": "white",
           "landcolor": "#E5ECF6",
           "showlakes": true,
           "showland": true,
           "subunitcolor": "white"
          },
          "hoverlabel": {
           "align": "left"
          },
          "hovermode": "closest",
          "mapbox": {
           "style": "light"
          },
          "paper_bgcolor": "white",
          "plot_bgcolor": "#E5ECF6",
          "polar": {
           "angularaxis": {
            "gridcolor": "white",
            "linecolor": "white",
            "ticks": ""
           },
           "bgcolor": "#E5ECF6",
           "radialaxis": {
            "gridcolor": "white",
            "linecolor": "white",
            "ticks": ""
           }
          },
          "scene": {
           "xaxis": {
            "backgroundcolor": "#E5ECF6",
            "gridcolor": "white",
            "gridwidth": 2,
            "linecolor": "white",
            "showbackground": true,
            "ticks": "",
            "zerolinecolor": "white"
           },
           "yaxis": {
            "backgroundcolor": "#E5ECF6",
            "gridcolor": "white",
            "gridwidth": 2,
            "linecolor": "white",
            "showbackground": true,
            "ticks": "",
            "zerolinecolor": "white"
           },
           "zaxis": {
            "backgroundcolor": "#E5ECF6",
            "gridcolor": "white",
            "gridwidth": 2,
            "linecolor": "white",
            "showbackground": true,
            "ticks": "",
            "zerolinecolor": "white"
           }
          },
          "shapedefaults": {
           "line": {
            "color": "#2a3f5f"
           }
          },
          "ternary": {
           "aaxis": {
            "gridcolor": "white",
            "linecolor": "white",
            "ticks": ""
           },
           "baxis": {
            "gridcolor": "white",
            "linecolor": "white",
            "ticks": ""
           },
           "bgcolor": "#E5ECF6",
           "caxis": {
            "gridcolor": "white",
            "linecolor": "white",
            "ticks": ""
           }
          },
          "title": {
           "x": 0.05
          },
          "xaxis": {
           "automargin": true,
           "gridcolor": "white",
           "linecolor": "white",
           "ticks": "",
           "title": {
            "standoff": 15
           },
           "zerolinecolor": "white",
           "zerolinewidth": 2
          },
          "yaxis": {
           "automargin": true,
           "gridcolor": "white",
           "linecolor": "white",
           "ticks": "",
           "title": {
            "standoff": 15
           },
           "zerolinecolor": "white",
           "zerolinewidth": 2
          }
         }
        },
        "title": {
         "text": "Averaged Causal Tracing (over 20 seeds)"
        },
        "xaxis": {
         "anchor": "y",
         "domain": [
          0,
          1
         ],
         "tickmode": "array",
         "ticktext": [
          "<think>",
          "\n",
          "I",
          " recall",
          " the",
          " capital",
          " of",
          " Canada",
          " is",
          " Ottawa",
          "\n",
          "</think>",
          "\n",
          "Capital",
          " of",
          " Canada",
          " is",
          " "
         ],
         "tickvals": [
          0,
          1,
          2,
          3,
          4,
          5,
          6,
          7,
          8,
          9,
          10,
          11,
          12,
          13,
          14,
          15,
          16,
          17
         ],
         "title": {
          "text": "Position"
         }
        },
        "yaxis": {
         "anchor": "x",
         "autorange": "reversed",
         "domain": [
          0,
          1
         ],
         "title": {
          "text": "Layer"
         }
        }
       }
      },
      "image/png": "[encoded data removed]"
     },
     "metadata": {},
     "output_type": "display_data"
    }
   ],
   "source": [
    "fig = px.imshow(\n",
    "    utils.to_numpy(patching_results_by_mlp),\n",
    "    title=f\"Averaged Causal Tracing (over {NUM_SEEDS} seeds)\",\n",
    "    labels={\"x\": \"Position\", \"y\": \"Layer\"},\n",
    "    color_continuous_scale=\"RdBu\",\n",
    "    color_continuous_midpoint=0.0,\n",
    "    zmin=-1, zmax=1,\n",
    "    aspect='auto'\n",
    ")\n",
    "\n",
    "fig.update_xaxes(\n",
    "    tickmode='array',\n",
    "    tickvals=list(range(len(main_prompt_str_tokens))),\n",
    "    ticktext=main_prompt_str_tokens,\n",
    ")\n",
    "\n",
    "\n",
    "fig.show()"
   ]
  },
  {
   "cell_type": "code",
   "execution_count": 72,
   "id": "57cfb266-9b8e-4a6a-be42-00802fb306a2",
   "metadata": {},
   "outputs": [
    {
     "data": {
      "application/vnd.plotly.v1+json": {
       "config": {
        "plotlyServerURL": "https://plot.ly"
       },
       "data": [
        {
         "coloraxis": "coloraxis",
         "hovertemplate": "Position: %{x}<br>Layer: %{y}<br>color: %{z}<extra></extra>",
         "name": "0",
         "type": "heatmap",
         "xaxis": "x",
         "yaxis": "y",
         "z": {
          "bdata": "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",
          "dtype": "f4",
          "shape": "28, 18"
         }
        }
       ],
       "layout": {
        "coloraxis": {
         "cmax": 1,
         "cmid": 0,
         "cmin": -1,
         "colorscale": [
          [
           0,
           "rgb(103,0,31)"
          ],
          [
           0.1,
           "rgb(178,24,43)"
          ],
          [
           0.2,
           "rgb(214,96,77)"
          ],
          [
           0.3,
           "rgb(244,165,130)"
          ],
          [
           0.4,
           "rgb(253,219,199)"
          ],
          [
           0.5,
           "rgb(247,247,247)"
          ],
          [
           0.6,
           "rgb(209,229,240)"
          ],
          [
           0.7,
           "rgb(146,197,222)"
          ],
          [
           0.8,
           "rgb(67,147,195)"
          ],
          [
           0.9,
           "rgb(33,102,172)"
          ],
          [
           1,
           "rgb(5,48,97)"
          ]
         ]
        },
        "template": {
         "data": {
          "bar": [
           {
            "error_x": {
             "color": "#2a3f5f"
            },
            "error_y": {
             "color": "#2a3f5f"
            },
            "marker": {
             "line": {
              "color": "#E5ECF6",
              "width": 0.5
             },
             "pattern": {
              "fillmode": "overlay",
              "size": 10,
              "solidity": 0.2
             }
            },
            "type": "bar"
           }
          ],
          "barpolar": [
           {
            "marker": {
             "line": {
              "color": "#E5ECF6",
              "width": 0.5
             },
             "pattern": {
              "fillmode": "overlay",
              "size": 10,
              "solidity": 0.2
             }
            },
            "type": "barpolar"
           }
          ],
          "carpet": [
           {
            "aaxis": {
             "endlinecolor": "#2a3f5f",
             "gridcolor": "white",
             "linecolor": "white",
             "minorgridcolor": "white",
             "startlinecolor": "#2a3f5f"
            },
            "baxis": {
             "endlinecolor": "#2a3f5f",
             "gridcolor": "white",
             "linecolor": "white",
             "minorgridcolor": "white",
             "startlinecolor": "#2a3f5f"
            },
            "type": "carpet"
           }
          ],
          "choropleth": [
           {
            "colorbar": {
             "outlinewidth": 0,
             "ticks": ""
            },
            "type": "choropleth"
           }
          ],
          "contour": [
           {
            "colorbar": {
             "outlinewidth": 0,
             "ticks": ""
            },
            "colorscale": [
             [
              0,
              "#0d0887"
             ],
             [
              0.1111111111111111,
              "#46039f"
             ],
             [
              0.2222222222222222,
              "#7201a8"
             ],
             [
              0.3333333333333333,
              "#9c179e"
             ],
             [
              0.4444444444444444,
              "#bd3786"
             ],
             [
              0.5555555555555556,
              "#d8576b"
             ],
             [
              0.6666666666666666,
              "#ed7953"
             ],
             [
              0.7777777777777778,
              "#fb9f3a"
             ],
             [
              0.8888888888888888,
              "#fdca26"
             ],
             [
              1,
              "#f0f921"
             ]
            ],
            "type": "contour"
           }
          ],
          "contourcarpet": [
           {
            "colorbar": {
             "outlinewidth": 0,
             "ticks": ""
            },
            "type": "contourcarpet"
           }
          ],
          "heatmap": [
           {
            "colorbar": {
             "outlinewidth": 0,
             "ticks": ""
            },
            "colorscale": [
             [
              0,
              "#0d0887"
             ],
             [
              0.1111111111111111,
              "#46039f"
             ],
             [
              0.2222222222222222,
              "#7201a8"
             ],
             [
              0.3333333333333333,
              "#9c179e"
             ],
             [
              0.4444444444444444,
              "#bd3786"
             ],
             [
              0.5555555555555556,
              "#d8576b"
             ],
             [
              0.6666666666666666,
              "#ed7953"
             ],
             [
              0.7777777777777778,
              "#fb9f3a"
             ],
             [
              0.8888888888888888,
              "#fdca26"
             ],
             [
              1,
              "#f0f921"
             ]
            ],
            "type": "heatmap"
           }
          ],
          "histogram": [
           {
            "marker": {
             "pattern": {
              "fillmode": "overlay",
              "size": 10,
              "solidity": 0.2
             }
            },
            "type": "histogram"
           }
          ],
          "histogram2d": [
           {
            "colorbar": {
             "outlinewidth": 0,
             "ticks": ""
            },
            "colorscale": [
             [
              0,
              "#0d0887"
             ],
             [
              0.1111111111111111,
              "#46039f"
             ],
             [
              0.2222222222222222,
              "#7201a8"
             ],
             [
              0.3333333333333333,
              "#9c179e"
             ],
             [
              0.4444444444444444,
              "#bd3786"
             ],
             [
              0.5555555555555556,
              "#d8576b"
             ],
             [
              0.6666666666666666,
              "#ed7953"
             ],
             [
              0.7777777777777778,
              "#fb9f3a"
             ],
             [
              0.8888888888888888,
              "#fdca26"
             ],
             [
              1,
              "#f0f921"
             ]
            ],
            "type": "histogram2d"
           }
          ],
          "histogram2dcontour": [
           {
            "colorbar": {
             "outlinewidth": 0,
             "ticks": ""
            },
            "colorscale": [
             [
              0,
              "#0d0887"
             ],
             [
              0.1111111111111111,
              "#46039f"
             ],
             [
              0.2222222222222222,
              "#7201a8"
             ],
             [
              0.3333333333333333,
              "#9c179e"
             ],
             [
              0.4444444444444444,
              "#bd3786"
             ],
             [
              0.5555555555555556,
              "#d8576b"
             ],
             [
              0.6666666666666666,
              "#ed7953"
             ],
             [
              0.7777777777777778,
              "#fb9f3a"
             ],
             [
              0.8888888888888888,
              "#fdca26"
             ],
             [
              1,
              "#f0f921"
             ]
            ],
            "type": "histogram2dcontour"
           }
          ],
          "mesh3d": [
           {
            "colorbar": {
             "outlinewidth": 0,
             "ticks": ""
            },
            "type": "mesh3d"
           }
          ],
          "parcoords": [
           {
            "line": {
             "colorbar": {
              "outlinewidth": 0,
              "ticks": ""
             }
            },
            "type": "parcoords"
           }
          ],
          "pie": [
           {
            "automargin": true,
            "type": "pie"
           }
          ],
          "scatter": [
           {
            "fillpattern": {
             "fillmode": "overlay",
             "size": 10,
             "solidity": 0.2
            },
            "type": "scatter"
           }
          ],
          "scatter3d": [
           {
            "line": {
             "colorbar": {
              "outlinewidth": 0,
              "ticks": ""
             }
            },
            "marker": {
             "colorbar": {
              "outlinewidth": 0,
              "ticks": ""
             }
            },
            "type": "scatter3d"
           }
          ],
          "scattercarpet": [
           {
            "marker": {
             "colorbar": {
              "outlinewidth": 0,
              "ticks": ""
             }
            },
            "type": "scattercarpet"
           }
          ],
          "scattergeo": [
           {
            "marker": {
             "colorbar": {
              "outlinewidth": 0,
              "ticks": ""
             }
            },
            "type": "scattergeo"
           }
          ],
          "scattergl": [
           {
            "marker": {
             "colorbar": {
              "outlinewidth": 0,
              "ticks": ""
             }
            },
            "type": "scattergl"
           }
          ],
          "scattermap": [
           {
            "marker": {
             "colorbar": {
              "outlinewidth": 0,
              "ticks": ""
             }
            },
            "type": "scattermap"
           }
          ],
          "scattermapbox": [
           {
            "marker": {
             "colorbar": {
              "outlinewidth": 0,
              "ticks": ""
             }
            },
            "type": "scattermapbox"
           }
          ],
          "scatterpolar": [
           {
            "marker": {
             "colorbar": {
              "outlinewidth": 0,
              "ticks": ""
             }
            },
            "type": "scatterpolar"
           }
          ],
          "scatterpolargl": [
           {
            "marker": {
             "colorbar": {
              "outlinewidth": 0,
              "ticks": ""
             }
            },
            "type": "scatterpolargl"
           }
          ],
          "scatterternary": [
           {
            "marker": {
             "colorbar": {
              "outlinewidth": 0,
              "ticks": ""
             }
            },
            "type": "scatterternary"
           }
          ],
          "surface": [
           {
            "colorbar": {
             "outlinewidth": 0,
             "ticks": ""
            },
            "colorscale": [
             [
              0,
              "#0d0887"
             ],
             [
              0.1111111111111111,
              "#46039f"
             ],
             [
              0.2222222222222222,
              "#7201a8"
             ],
             [
              0.3333333333333333,
              "#9c179e"
             ],
             [
              0.4444444444444444,
              "#bd3786"
             ],
             [
              0.5555555555555556,
              "#d8576b"
             ],
             [
              0.6666666666666666,
              "#ed7953"
             ],
             [
              0.7777777777777778,
              "#fb9f3a"
             ],
             [
              0.8888888888888888,
              "#fdca26"
             ],
             [
              1,
              "#f0f921"
             ]
            ],
            "type": "surface"
           }
          ],
          "table": [
           {
            "cells": {
             "fill": {
              "color": "#EBF0F8"
             },
             "line": {
              "color": "white"
             }
            },
            "header": {
             "fill": {
              "color": "#C8D4E3"
             },
             "line": {
              "color": "white"
             }
            },
            "type": "table"
           }
          ]
         },
         "layout": {
          "annotationdefaults": {
           "arrowcolor": "#2a3f5f",
           "arrowhead": 0,
           "arrowwidth": 1
          },
          "autotypenumbers": "strict",
          "coloraxis": {
           "colorbar": {
            "outlinewidth": 0,
            "ticks": ""
           }
          },
          "colorscale": {
           "diverging": [
            [
             0,
             "#8e0152"
            ],
            [
             0.1,
             "#c51b7d"
            ],
            [
             0.2,
             "#de77ae"
            ],
            [
             0.3,
             "#f1b6da"
            ],
            [
             0.4,
             "#fde0ef"
            ],
            [
             0.5,
             "#f7f7f7"
            ],
            [
             0.6,
             "#e6f5d0"
            ],
            [
             0.7,
             "#b8e186"
            ],
            [
             0.8,
             "#7fbc41"
            ],
            [
             0.9,
             "#4d9221"
            ],
            [
             1,
             "#276419"
            ]
           ],
           "sequential": [
            [
             0,
             "#0d0887"
            ],
            [
             0.1111111111111111,
             "#46039f"
            ],
            [
             0.2222222222222222,
             "#7201a8"
            ],
            [
             0.3333333333333333,
             "#9c179e"
            ],
            [
             0.4444444444444444,
             "#bd3786"
            ],
            [
             0.5555555555555556,
             "#d8576b"
            ],
            [
             0.6666666666666666,
             "#ed7953"
            ],
            [
             0.7777777777777778,
             "#fb9f3a"
            ],
            [
             0.8888888888888888,
             "#fdca26"
            ],
            [
             1,
             "#f0f921"
            ]
           ],
           "sequentialminus": [
            [
             0,
             "#0d0887"
            ],
            [
             0.1111111111111111,
             "#46039f"
            ],
            [
             0.2222222222222222,
             "#7201a8"
            ],
            [
             0.3333333333333333,
             "#9c179e"
            ],
            [
             0.4444444444444444,
             "#bd3786"
            ],
            [
             0.5555555555555556,
             "#d8576b"
            ],
            [
             0.6666666666666666,
             "#ed7953"
            ],
            [
             0.7777777777777778,
             "#fb9f3a"
            ],
            [
             0.8888888888888888,
             "#fdca26"
            ],
            [
             1,
             "#f0f921"
            ]
           ]
          },
          "colorway": [
           "#636efa",
           "#EF553B",
           "#00cc96",
           "#ab63fa",
           "#FFA15A",
           "#19d3f3",
           "#FF6692",
           "#B6E880",
           "#FF97FF",
           "#FECB52"
          ],
          "font": {
           "color": "#2a3f5f"
          },
          "geo": {
           "bgcolor": "white",
           "lakecolor": "white",
           "landcolor": "#E5ECF6",
           "showlakes": true,
           "showland": true,
           "subunitcolor": "white"
          },
          "hoverlabel": {
           "align": "left"
          },
          "hovermode": "closest",
          "mapbox": {
           "style": "light"
          },
          "paper_bgcolor": "white",
          "plot_bgcolor": "#E5ECF6",
          "polar": {
           "angularaxis": {
            "gridcolor": "white",
            "linecolor": "white",
            "ticks": ""
           },
           "bgcolor": "#E5ECF6",
           "radialaxis": {
            "gridcolor": "white",
            "linecolor": "white",
            "ticks": ""
           }
          },
          "scene": {
           "xaxis": {
            "backgroundcolor": "#E5ECF6",
            "gridcolor": "white",
            "gridwidth": 2,
            "linecolor": "white",
            "showbackground": true,
            "ticks": "",
            "zerolinecolor": "white"
           },
           "yaxis": {
            "backgroundcolor": "#E5ECF6",
            "gridcolor": "white",
            "gridwidth": 2,
            "linecolor": "white",
            "showbackground": true,
            "ticks": "",
            "zerolinecolor": "white"
           },
           "zaxis": {
            "backgroundcolor": "#E5ECF6",
            "gridcolor": "white",
            "gridwidth": 2,
            "linecolor": "white",
            "showbackground": true,
            "ticks": "",
            "zerolinecolor": "white"
           }
          },
          "shapedefaults": {
           "line": {
            "color": "#2a3f5f"
           }
          },
          "ternary": {
           "aaxis": {
            "gridcolor": "white",
            "linecolor": "white",
            "ticks": ""
           },
           "baxis": {
            "gridcolor": "white",
            "linecolor": "white",
            "ticks": ""
           },
           "bgcolor": "#E5ECF6",
           "caxis": {
            "gridcolor": "white",
            "linecolor": "white",
            "ticks": ""
           }
          },
          "title": {
           "x": 0.05
          },
          "xaxis": {
           "automargin": true,
           "gridcolor": "white",
           "linecolor": "white",
           "ticks": "",
           "title": {
            "standoff": 15
           },
           "zerolinecolor": "white",
           "zerolinewidth": 2
          },
          "yaxis": {
           "automargin": true,
           "gridcolor": "white",
           "linecolor": "white",
           "ticks": "",
           "title": {
            "standoff": 15
           },
           "zerolinecolor": "white",
           "zerolinewidth": 2
          }
         }
        },
        "title": {
         "text": "Averaged Causal Tracing (over 20 seeds)"
        },
        "xaxis": {
         "anchor": "y",
         "domain": [
          0,
          1
         ],
         "tickmode": "array",
         "ticktext": [
          "<think>",
          "\n",
          "I",
          " recall",
          " the",
          " capital",
          " of",
          " Canada",
          " is",
          " Ottawa",
          "\n",
          "</think>",
          "\n",
          "Capital",
          " of",
          " Canada",
          " is",
          " "
         ],
         "tickvals": [
          0,
          1,
          2,
          3,
          4,
          5,
          6,
          7,
          8,
          9,
          10,
          11,
          12,
          13,
          14,
          15,
          16,
          17
         ],
         "title": {
          "text": "Position"
         }
        },
        "yaxis": {
         "anchor": "x",
         "autorange": "reversed",
         "domain": [
          0,
          1
         ],
         "title": {
          "text": "Layer"
         }
        }
       }
      },
      "image/png": "[encoded data removed]"
     },
     "metadata": {},
     "output_type": "display_data"
    }
   ],
   "source": [
    "fig = px.imshow(\n",
    "    utils.to_numpy(patching_results_by_mlp),\n",
    "    title=f\"Averaged Causal Tracing (over {NUM_SEEDS} seeds)\",\n",
    "    labels={\"x\": \"Position\", \"y\": \"Layer\"},\n",
    "    color_continuous_scale=\"RdBu\",\n",
    "    color_continuous_midpoint=0.0,\n",
    "    zmin=-1, zmax=1,\n",
    "    aspect='auto'\n",
    ")\n",
    "\n",
    "fig.update_xaxes(\n",
    "    tickmode='array',\n",
    "    tickvals=list(range(len(main_prompt_str_tokens))),\n",
    "    ticktext=main_prompt_str_tokens,\n",
    ")\n",
    "\n",
    "\n",
    "fig.show()"
   ]
  },
  {
   "cell_type": "code",
   "execution_count": 68,
   "id": "84038fad-81c8-4a4f-b5b2-89ed0579250c",
   "metadata": {},
   "outputs": [
    {
     "data": {
      "application/vnd.plotly.v1+json": {
       "config": {
        "plotlyServerURL": "https://plot.ly"
       },
       "data": [
        {
         "coloraxis": "coloraxis",
         "hovertemplate": "Position: %{x}<br>Layer: %{y}<br>color: %{z}<extra></extra>",
         "name": "0",
         "type": "heatmap",
         "xaxis": "x",
         "yaxis": "y",
         "z": {
          "bdata": "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",
          "dtype": "f4",
          "shape": "28, 17"
         }
        }
       ],
       "layout": {
        "coloraxis": {
         "cmax": 1,
         "cmid": 0,
         "cmin": -1,
         "colorscale": [
          [
           0,
           "rgb(103,0,31)"
          ],
          [
           0.1,
           "rgb(178,24,43)"
          ],
          [
           0.2,
           "rgb(214,96,77)"
          ],
          [
           0.3,
           "rgb(244,165,130)"
          ],
          [
           0.4,
           "rgb(253,219,199)"
          ],
          [
           0.5,
           "rgb(247,247,247)"
          ],
          [
           0.6,
           "rgb(209,229,240)"
          ],
          [
           0.7,
           "rgb(146,197,222)"
          ],
          [
           0.8,
           "rgb(67,147,195)"
          ],
          [
           0.9,
           "rgb(33,102,172)"
          ],
          [
           1,
           "rgb(5,48,97)"
          ]
         ]
        },
        "template": {
         "data": {
          "bar": [
           {
            "error_x": {
             "color": "#2a3f5f"
            },
            "error_y": {
             "color": "#2a3f5f"
            },
            "marker": {
             "line": {
              "color": "#E5ECF6",
              "width": 0.5
             },
             "pattern": {
              "fillmode": "overlay",
              "size": 10,
              "solidity": 0.2
             }
            },
            "type": "bar"
           }
          ],
          "barpolar": [
           {
            "marker": {
             "line": {
              "color": "#E5ECF6",
              "width": 0.5
             },
             "pattern": {
              "fillmode": "overlay",
              "size": 10,
              "solidity": 0.2
             }
            },
            "type": "barpolar"
           }
          ],
          "carpet": [
           {
            "aaxis": {
             "endlinecolor": "#2a3f5f",
             "gridcolor": "white",
             "linecolor": "white",
             "minorgridcolor": "white",
             "startlinecolor": "#2a3f5f"
            },
            "baxis": {
             "endlinecolor": "#2a3f5f",
             "gridcolor": "white",
             "linecolor": "white",
             "minorgridcolor": "white",
             "startlinecolor": "#2a3f5f"
            },
            "type": "carpet"
           }
          ],
          "choropleth": [
           {
            "colorbar": {
             "outlinewidth": 0,
             "ticks": ""
            },
            "type": "choropleth"
           }
          ],
          "contour": [
           {
            "colorbar": {
             "outlinewidth": 0,
             "ticks": ""
            },
            "colorscale": [
             [
              0,
              "#0d0887"
             ],
             [
              0.1111111111111111,
              "#46039f"
             ],
             [
              0.2222222222222222,
              "#7201a8"
             ],
             [
              0.3333333333333333,
              "#9c179e"
             ],
             [
              0.4444444444444444,
              "#bd3786"
             ],
             [
              0.5555555555555556,
              "#d8576b"
             ],
             [
              0.6666666666666666,
              "#ed7953"
             ],
             [
              0.7777777777777778,
              "#fb9f3a"
             ],
             [
              0.8888888888888888,
              "#fdca26"
             ],
             [
              1,
              "#f0f921"
             ]
            ],
            "type": "contour"
           }
          ],
          "contourcarpet": [
           {
            "colorbar": {
             "outlinewidth": 0,
             "ticks": ""
            },
            "type": "contourcarpet"
           }
          ],
          "heatmap": [
           {
            "colorbar": {
             "outlinewidth": 0,
             "ticks": ""
            },
            "colorscale": [
             [
              0,
              "#0d0887"
             ],
             [
              0.1111111111111111,
              "#46039f"
             ],
             [
              0.2222222222222222,
              "#7201a8"
             ],
             [
              0.3333333333333333,
              "#9c179e"
             ],
             [
              0.4444444444444444,
              "#bd3786"
             ],
             [
              0.5555555555555556,
              "#d8576b"
             ],
             [
              0.6666666666666666,
              "#ed7953"
             ],
             [
              0.7777777777777778,
              "#fb9f3a"
             ],
             [
              0.8888888888888888,
              "#fdca26"
             ],
             [
              1,
              "#f0f921"
             ]
            ],
            "type": "heatmap"
           }
          ],
          "histogram": [
           {
            "marker": {
             "pattern": {
              "fillmode": "overlay",
              "size": 10,
              "solidity": 0.2
             }
            },
            "type": "histogram"
           }
          ],
          "histogram2d": [
           {
            "colorbar": {
             "outlinewidth": 0,
             "ticks": ""
            },
            "colorscale": [
             [
              0,
              "#0d0887"
             ],
             [
              0.1111111111111111,
              "#46039f"
             ],
             [
              0.2222222222222222,
              "#7201a8"
             ],
             [
              0.3333333333333333,
              "#9c179e"
             ],
             [
              0.4444444444444444,
              "#bd3786"
             ],
             [
              0.5555555555555556,
              "#d8576b"
             ],
             [
              0.6666666666666666,
              "#ed7953"
             ],
             [
              0.7777777777777778,
              "#fb9f3a"
             ],
             [
              0.8888888888888888,
              "#fdca26"
             ],
             [
              1,
              "#f0f921"
             ]
            ],
            "type": "histogram2d"
           }
          ],
          "histogram2dcontour": [
           {
            "colorbar": {
             "outlinewidth": 0,
             "ticks": ""
            },
            "colorscale": [
             [
              0,
              "#0d0887"
             ],
             [
              0.1111111111111111,
              "#46039f"
             ],
             [
              0.2222222222222222,
              "#7201a8"
             ],
             [
              0.3333333333333333,
              "#9c179e"
             ],
             [
              0.4444444444444444,
              "#bd3786"
             ],
             [
              0.5555555555555556,
              "#d8576b"
             ],
             [
              0.6666666666666666,
              "#ed7953"
             ],
             [
              0.7777777777777778,
              "#fb9f3a"
             ],
             [
              0.8888888888888888,
              "#fdca26"
             ],
             [
              1,
              "#f0f921"
             ]
            ],
            "type": "histogram2dcontour"
           }
          ],
          "mesh3d": [
           {
            "colorbar": {
             "outlinewidth": 0,
             "ticks": ""
            },
            "type": "mesh3d"
           }
          ],
          "parcoords": [
           {
            "line": {
             "colorbar": {
              "outlinewidth": 0,
              "ticks": ""
             }
            },
            "type": "parcoords"
           }
          ],
          "pie": [
           {
            "automargin": true,
            "type": "pie"
           }
          ],
          "scatter": [
           {
            "fillpattern": {
             "fillmode": "overlay",
             "size": 10,
             "solidity": 0.2
            },
            "type": "scatter"
           }
          ],
          "scatter3d": [
           {
            "line": {
             "colorbar": {
              "outlinewidth": 0,
              "ticks": ""
             }
            },
            "marker": {
             "colorbar": {
              "outlinewidth": 0,
              "ticks": ""
             }
            },
            "type": "scatter3d"
           }
          ],
          "scattercarpet": [
           {
            "marker": {
             "colorbar": {
              "outlinewidth": 0,
              "ticks": ""
             }
            },
            "type": "scattercarpet"
           }
          ],
          "scattergeo": [
           {
            "marker": {
             "colorbar": {
              "outlinewidth": 0,
              "ticks": ""
             }
            },
            "type": "scattergeo"
           }
          ],
          "scattergl": [
           {
            "marker": {
             "colorbar": {
              "outlinewidth": 0,
              "ticks": ""
             }
            },
            "type": "scattergl"
           }
          ],
          "scattermap": [
           {
            "marker": {
             "colorbar": {
              "outlinewidth": 0,
              "ticks": ""
             }
            },
            "type": "scattermap"
           }
          ],
          "scattermapbox": [
           {
            "marker": {
             "colorbar": {
              "outlinewidth": 0,
              "ticks": ""
             }
            },
            "type": "scattermapbox"
           }
          ],
          "scatterpolar": [
           {
            "marker": {
             "colorbar": {
              "outlinewidth": 0,
              "ticks": ""
             }
            },
            "type": "scatterpolar"
           }
          ],
          "scatterpolargl": [
           {
            "marker": {
             "colorbar": {
              "outlinewidth": 0,
              "ticks": ""
             }
            },
            "type": "scatterpolargl"
           }
          ],
          "scatterternary": [
           {
            "marker": {
             "colorbar": {
              "outlinewidth": 0,
              "ticks": ""
             }
            },
            "type": "scatterternary"
           }
          ],
          "surface": [
           {
            "colorbar": {
             "outlinewidth": 0,
             "ticks": ""
            },
            "colorscale": [
             [
              0,
              "#0d0887"
             ],
             [
              0.1111111111111111,
              "#46039f"
             ],
             [
              0.2222222222222222,
              "#7201a8"
             ],
             [
              0.3333333333333333,
              "#9c179e"
             ],
             [
              0.4444444444444444,
              "#bd3786"
             ],
             [
              0.5555555555555556,
              "#d8576b"
             ],
             [
              0.6666666666666666,
              "#ed7953"
             ],
             [
              0.7777777777777778,
              "#fb9f3a"
             ],
             [
              0.8888888888888888,
              "#fdca26"
             ],
             [
              1,
              "#f0f921"
             ]
            ],
            "type": "surface"
           }
          ],
          "table": [
           {
            "cells": {
             "fill": {
              "color": "#EBF0F8"
             },
             "line": {
              "color": "white"
             }
            },
            "header": {
             "fill": {
              "color": "#C8D4E3"
             },
             "line": {
              "color": "white"
             }
            },
            "type": "table"
           }
          ]
         },
         "layout": {
          "annotationdefaults": {
           "arrowcolor": "#2a3f5f",
           "arrowhead": 0,
           "arrowwidth": 1
          },
          "autotypenumbers": "strict",
          "coloraxis": {
           "colorbar": {
            "outlinewidth": 0,
            "ticks": ""
           }
          },
          "colorscale": {
           "diverging": [
            [
             0,
             "#8e0152"
            ],
            [
             0.1,
             "#c51b7d"
            ],
            [
             0.2,
             "#de77ae"
            ],
            [
             0.3,
             "#f1b6da"
            ],
            [
             0.4,
             "#fde0ef"
            ],
            [
             0.5,
             "#f7f7f7"
            ],
            [
             0.6,
             "#e6f5d0"
            ],
            [
             0.7,
             "#b8e186"
            ],
            [
             0.8,
             "#7fbc41"
            ],
            [
             0.9,
             "#4d9221"
            ],
            [
             1,
             "#276419"
            ]
           ],
           "sequential": [
            [
             0,
             "#0d0887"
            ],
            [
             0.1111111111111111,
             "#46039f"
            ],
            [
             0.2222222222222222,
             "#7201a8"
            ],
            [
             0.3333333333333333,
             "#9c179e"
            ],
            [
             0.4444444444444444,
             "#bd3786"
            ],
            [
             0.5555555555555556,
             "#d8576b"
            ],
            [
             0.6666666666666666,
             "#ed7953"
            ],
            [
             0.7777777777777778,
             "#fb9f3a"
            ],
            [
             0.8888888888888888,
             "#fdca26"
            ],
            [
             1,
             "#f0f921"
            ]
           ],
           "sequentialminus": [
            [
             0,
             "#0d0887"
            ],
            [
             0.1111111111111111,
             "#46039f"
            ],
            [
             0.2222222222222222,
             "#7201a8"
            ],
            [
             0.3333333333333333,
             "#9c179e"
            ],
            [
             0.4444444444444444,
             "#bd3786"
            ],
            [
             0.5555555555555556,
             "#d8576b"
            ],
            [
             0.6666666666666666,
             "#ed7953"
            ],
            [
             0.7777777777777778,
             "#fb9f3a"
            ],
            [
             0.8888888888888888,
             "#fdca26"
            ],
            [
             1,
             "#f0f921"
            ]
           ]
          },
          "colorway": [
           "#636efa",
           "#EF553B",
           "#00cc96",
           "#ab63fa",
           "#FFA15A",
           "#19d3f3",
           "#FF6692",
           "#B6E880",
           "#FF97FF",
           "#FECB52"
          ],
          "font": {
           "color": "#2a3f5f"
          },
          "geo": {
           "bgcolor": "white",
           "lakecolor": "white",
           "landcolor": "#E5ECF6",
           "showlakes": true,
           "showland": true,
           "subunitcolor": "white"
          },
          "hoverlabel": {
           "align": "left"
          },
          "hovermode": "closest",
          "mapbox": {
           "style": "light"
          },
          "paper_bgcolor": "white",
          "plot_bgcolor": "#E5ECF6",
          "polar": {
           "angularaxis": {
            "gridcolor": "white",
            "linecolor": "white",
            "ticks": ""
           },
           "bgcolor": "#E5ECF6",
           "radialaxis": {
            "gridcolor": "white",
            "linecolor": "white",
            "ticks": ""
           }
          },
          "scene": {
           "xaxis": {
            "backgroundcolor": "#E5ECF6",
            "gridcolor": "white",
            "gridwidth": 2,
            "linecolor": "white",
            "showbackground": true,
            "ticks": "",
            "zerolinecolor": "white"
           },
           "yaxis": {
            "backgroundcolor": "#E5ECF6",
            "gridcolor": "white",
            "gridwidth": 2,
            "linecolor": "white",
            "showbackground": true,
            "ticks": "",
            "zerolinecolor": "white"
           },
           "zaxis": {
            "backgroundcolor": "#E5ECF6",
            "gridcolor": "white",
            "gridwidth": 2,
            "linecolor": "white",
            "showbackground": true,
            "ticks": "",
            "zerolinecolor": "white"
           }
          },
          "shapedefaults": {
           "line": {
            "color": "#2a3f5f"
           }
          },
          "ternary": {
           "aaxis": {
            "gridcolor": "white",
            "linecolor": "white",
            "ticks": ""
           },
           "baxis": {
            "gridcolor": "white",
            "linecolor": "white",
            "ticks": ""
           },
           "bgcolor": "#E5ECF6",
           "caxis": {
            "gridcolor": "white",
            "linecolor": "white",
            "ticks": ""
           }
          },
          "title": {
           "x": 0.05
          },
          "xaxis": {
           "automargin": true,
           "gridcolor": "white",
           "linecolor": "white",
           "ticks": "",
           "title": {
            "standoff": 15
           },
           "zerolinecolor": "white",
           "zerolinewidth": 2
          },
          "yaxis": {
           "automargin": true,
           "gridcolor": "white",
           "linecolor": "white",
           "ticks": "",
           "title": {
            "standoff": 15
           },
           "zerolinecolor": "white",
           "zerolinewidth": 2
          }
         }
        },
        "title": {
         "text": "Averaged Causal Tracing (over 20 seeds)"
        },
        "xaxis": {
         "anchor": "y",
         "domain": [
          0,
          1
         ],
         "tickmode": "array",
         "ticktext": [
          "<think>",
          "\n",
          "I",
          " recall",
          " the",
          " capital",
          " of",
          " Canada",
          " is",
          " Ottawa",
          "\n",
          "</think>",
          "\n",
          "Capital",
          " of",
          " Canada",
          " is"
         ],
         "tickvals": [
          0,
          1,
          2,
          3,
          4,
          5,
          6,
          7,
          8,
          9,
          10,
          11,
          12,
          13,
          14,
          15,
          16
         ],
         "title": {
          "text": "Position"
         }
        },
        "yaxis": {
         "anchor": "x",
         "autorange": "reversed",
         "domain": [
          0,
          1
         ],
         "title": {
          "text": "Layer"
         }
        }
       }
      },
      "image/png": "[encoded data removed]"
     },
     "metadata": {},
     "output_type": "display_data"
    }
   ],
   "source": [
    "fig = px.imshow(\n",
    "    utils.to_numpy(patching_results_by_mlp),\n",
    "    title=f\"Averaged Causal Tracing (over {NUM_SEEDS} seeds)\",\n",
    "    labels={\"x\": \"Position\", \"y\": \"Layer\"},\n",
    "    color_continuous_scale=\"RdBu\",\n",
    "    color_continuous_midpoint=0.0,\n",
    "    zmin=-1, zmax=1,\n",
    "    aspect='auto'\n",
    ")\n",
    "\n",
    "fig.update_xaxes(\n",
    "    tickmode='array',\n",
    "    tickvals=list(range(len(main_prompt_str_tokens))),\n",
    "    ticktext=main_prompt_str_tokens,\n",
    ")\n",
    "\n",
    "\n",
    "fig.show()"
   ]
  },
  {
   "cell_type": "code",
   "execution_count": 84,
   "id": "a173f851-69c1-479f-98de-1cbf3da50516",
   "metadata": {},
   "outputs": [
    {
     "name": "stdout",
     "output_type": "stream",
     "text": [
      "\n",
      "Running causal tracing over 20 corruption seeds (by head)...\n"
     ]
    },
    {
     "name": "stderr",
     "output_type": "stream",
     "text": [
      "  0%|          | 0/20 [00:00<?, ?it/s]"
     ]
    },
    {
     "data": {
      "application/vnd.jupyter.widget-view+json": {
       "model_id": "a5666e6040b547a89bdbcd638d11f0c4",
       "version_major": 2,
       "version_minor": 0
      },
      "text/plain": [
       "  0%|          | 0/476 [00:00<?, ?it/s]"
      ]
     },
     "metadata": {},
     "output_type": "display_data"
    },
    {
     "name": "stderr",
     "output_type": "stream",
     "text": [
      "  5%|▌         | 1/20 [00:27<08:33, 27.03s/it]"
     ]
    },
    {
     "data": {
      "application/vnd.jupyter.widget-view+json": {
       "model_id": "474b629558924e98847556c07aa85808",
       "version_major": 2,
       "version_minor": 0
      },
      "text/plain": [
       "  0%|          | 0/476 [00:00<?, ?it/s]"
      ]
     },
     "metadata": {},
     "output_type": "display_data"
    },
    {
     "name": "stderr",
     "output_type": "stream",
     "text": [
      " 10%|█         | 2/20 [00:54<08:11, 27.29s/it]"
     ]
    },
    {
     "data": {
      "application/vnd.jupyter.widget-view+json": {
       "model_id": "2bf4dc75c5fc48f398ed4821a9ff99d4",
       "version_major": 2,
       "version_minor": 0
      },
      "text/plain": [
       "  0%|          | 0/476 [00:00<?, ?it/s]"
      ]
     },
     "metadata": {},
     "output_type": "display_data"
    },
    {
     "name": "stderr",
     "output_type": "stream",
     "text": [
      " 15%|█▌        | 3/20 [01:22<07:48, 27.54s/it]"
     ]
    },
    {
     "data": {
      "application/vnd.jupyter.widget-view+json": {
       "model_id": "ebc782de07ec466d8bbd1151dc1bc61d",
       "version_major": 2,
       "version_minor": 0
      },
      "text/plain": [
       "  0%|          | 0/476 [00:00<?, ?it/s]"
      ]
     },
     "metadata": {},
     "output_type": "display_data"
    },
    {
     "name": "stderr",
     "output_type": "stream",
     "text": [
      " 20%|██        | 4/20 [01:50<07:24, 27.77s/it]"
     ]
    },
    {
     "data": {
      "application/vnd.jupyter.widget-view+json": {
       "model_id": "6c9e46b14e964bbfba6dec5e12ee8809",
       "version_major": 2,
       "version_minor": 0
      },
      "text/plain": [
       "  0%|          | 0/476 [00:00<?, ?it/s]"
      ]
     },
     "metadata": {},
     "output_type": "display_data"
    },
    {
     "name": "stderr",
     "output_type": "stream",
     "text": [
      " 25%|██▌       | 5/20 [02:18<06:56, 27.78s/it]"
     ]
    },
    {
     "data": {
      "application/vnd.jupyter.widget-view+json": {
       "model_id": "ae2be72b89dc42efbe3350055234a660",
       "version_major": 2,
       "version_minor": 0
      },
      "text/plain": [
       "  0%|          | 0/476 [00:00<?, ?it/s]"
      ]
     },
     "metadata": {},
     "output_type": "display_data"
    },
    {
     "name": "stderr",
     "output_type": "stream",
     "text": [
      " 30%|███       | 6/20 [02:46<06:29, 27.80s/it]"
     ]
    },
    {
     "data": {
      "application/vnd.jupyter.widget-view+json": {
       "model_id": "84cfc420def143d5be4e7c1558aefa86",
       "version_major": 2,
       "version_minor": 0
      },
      "text/plain": [
       "  0%|          | 0/476 [00:00<?, ?it/s]"
      ]
     },
     "metadata": {},
     "output_type": "display_data"
    },
    {
     "name": "stderr",
     "output_type": "stream",
     "text": [
      " 35%|███▌      | 7/20 [03:13<06:01, 27.79s/it]"
     ]
    },
    {
     "data": {
      "application/vnd.jupyter.widget-view+json": {
       "model_id": "38e59c3896234c5d8dfd6b70c1be1705",
       "version_major": 2,
       "version_minor": 0
      },
      "text/plain": [
       "  0%|          | 0/476 [00:00<?, ?it/s]"
      ]
     },
     "metadata": {},
     "output_type": "display_data"
    },
    {
     "name": "stderr",
     "output_type": "stream",
     "text": [
      " 40%|████      | 8/20 [03:41<05:33, 27.82s/it]"
     ]
    },
    {
     "data": {
      "application/vnd.jupyter.widget-view+json": {
       "model_id": "82892b6728b84903bdfcd0dc4304b214",
       "version_major": 2,
       "version_minor": 0
      },
      "text/plain": [
       "  0%|          | 0/476 [00:00<?, ?it/s]"
      ]
     },
     "metadata": {},
     "output_type": "display_data"
    },
    {
     "name": "stderr",
     "output_type": "stream",
     "text": [
      " 45%|████▌     | 9/20 [04:09<05:05, 27.82s/it]"
     ]
    },
    {
     "data": {
      "application/vnd.jupyter.widget-view+json": {
       "model_id": "1307ef43121f408e9fdec3608e8c0dbb",
       "version_major": 2,
       "version_minor": 0
      },
      "text/plain": [
       "  0%|          | 0/476 [00:00<?, ?it/s]"
      ]
     },
     "metadata": {},
     "output_type": "display_data"
    },
    {
     "name": "stderr",
     "output_type": "stream",
     "text": [
      " 50%|█████     | 10/20 [04:37<04:38, 27.81s/it]"
     ]
    },
    {
     "data": {
      "application/vnd.jupyter.widget-view+json": {
       "model_id": "f57e85d9bacf4fb0bd002797228c384a",
       "version_major": 2,
       "version_minor": 0
      },
      "text/plain": [
       "  0%|          | 0/476 [00:00<?, ?it/s]"
      ]
     },
     "metadata": {},
     "output_type": "display_data"
    },
    {
     "name": "stderr",
     "output_type": "stream",
     "text": [
      " 55%|█████▌    | 11/20 [05:05<04:10, 27.80s/it]"
     ]
    },
    {
     "data": {
      "application/vnd.jupyter.widget-view+json": {
       "model_id": "d781c69c4b784a4695c8d8f674f205d7",
       "version_major": 2,
       "version_minor": 0
      },
      "text/plain": [
       "  0%|          | 0/476 [00:00<?, ?it/s]"
      ]
     },
     "metadata": {},
     "output_type": "display_data"
    },
    {
     "name": "stderr",
     "output_type": "stream",
     "text": [
      " 60%|██████    | 12/20 [05:32<03:42, 27.80s/it]"
     ]
    },
    {
     "data": {
      "application/vnd.jupyter.widget-view+json": {
       "model_id": "befac48290d04757b591ebff8dfda26a",
       "version_major": 2,
       "version_minor": 0
      },
      "text/plain": [
       "  0%|          | 0/476 [00:00<?, ?it/s]"
      ]
     },
     "metadata": {},
     "output_type": "display_data"
    },
    {
     "name": "stderr",
     "output_type": "stream",
     "text": [
      " 65%|██████▌   | 13/20 [06:00<03:14, 27.79s/it]"
     ]
    },
    {
     "data": {
      "application/vnd.jupyter.widget-view+json": {
       "model_id": "b67dd2ee2a904e6c9a9ab81271d2995d",
       "version_major": 2,
       "version_minor": 0
      },
      "text/plain": [
       "  0%|          | 0/476 [00:00<?, ?it/s]"
      ]
     },
     "metadata": {},
     "output_type": "display_data"
    },
    {
     "name": "stderr",
     "output_type": "stream",
     "text": [
      " 70%|███████   | 14/20 [06:28<02:45, 27.65s/it]"
     ]
    },
    {
     "data": {
      "application/vnd.jupyter.widget-view+json": {
       "model_id": "184c4b0031484cdeb855c2d3220b2192",
       "version_major": 2,
       "version_minor": 0
      },
      "text/plain": [
       "  0%|          | 0/476 [00:00<?, ?it/s]"
      ]
     },
     "metadata": {},
     "output_type": "display_data"
    },
    {
     "name": "stderr",
     "output_type": "stream",
     "text": [
      " 75%|███████▌  | 15/20 [06:55<02:17, 27.44s/it]"
     ]
    },
    {
     "data": {
      "application/vnd.jupyter.widget-view+json": {
       "model_id": "be509236103b41c5a4ef86b0c862bd7a",
       "version_major": 2,
       "version_minor": 0
      },
      "text/plain": [
       "  0%|          | 0/476 [00:00<?, ?it/s]"
      ]
     },
     "metadata": {},
     "output_type": "display_data"
    },
    {
     "name": "stderr",
     "output_type": "stream",
     "text": [
      " 80%|████████  | 16/20 [07:21<01:49, 27.28s/it]"
     ]
    },
    {
     "data": {
      "application/vnd.jupyter.widget-view+json": {
       "model_id": "b7c2481847e94cdebd3bab0e3c1d2301",
       "version_major": 2,
       "version_minor": 0
      },
      "text/plain": [
       "  0%|          | 0/476 [00:00<?, ?it/s]"
      ]
     },
     "metadata": {},
     "output_type": "display_data"
    },
    {
     "name": "stderr",
     "output_type": "stream",
     "text": [
      " 85%|████████▌ | 17/20 [07:48<01:21, 27.19s/it]"
     ]
    },
    {
     "data": {
      "application/vnd.jupyter.widget-view+json": {
       "model_id": "f995b81dc6494045a80979945711b2ac",
       "version_major": 2,
       "version_minor": 0
      },
      "text/plain": [
       "  0%|          | 0/476 [00:00<?, ?it/s]"
      ]
     },
     "metadata": {},
     "output_type": "display_data"
    },
    {
     "name": "stderr",
     "output_type": "stream",
     "text": [
      " 90%|█████████ | 18/20 [08:15<00:54, 27.13s/it]"
     ]
    },
    {
     "data": {
      "application/vnd.jupyter.widget-view+json": {
       "model_id": "163d7ed8d6bc430cb0311eab03cbeff1",
       "version_major": 2,
       "version_minor": 0
      },
      "text/plain": [
       "  0%|          | 0/476 [00:00<?, ?it/s]"
      ]
     },
     "metadata": {},
     "output_type": "display_data"
    },
    {
     "name": "stderr",
     "output_type": "stream",
     "text": [
      " 95%|█████████▌| 19/20 [08:43<00:27, 27.15s/it]"
     ]
    },
    {
     "data": {
      "application/vnd.jupyter.widget-view+json": {
       "model_id": "41bff3077fa14c2eabf1cf1c6beefc25",
       "version_major": 2,
       "version_minor": 0
      },
      "text/plain": [
       "  0%|          | 0/476 [00:00<?, ?it/s]"
      ]
     },
     "metadata": {},
     "output_type": "display_data"
    },
    {
     "name": "stderr",
     "output_type": "stream",
     "text": [
      "100%|██████████| 20/20 [09:10<00:00, 27.54s/it]\n"
     ]
    }
   ],
   "source": [
    "patching_results_by_mlp = run_avg_patching_by_mlp(model)"
   ]
  },
  {
   "cell_type": "code",
   "execution_count": 85,
   "id": "5fb8fca4-3913-4657-8a36-fae99b8dad19",
   "metadata": {},
   "outputs": [
    {
     "data": {
      "application/vnd.plotly.v1+json": {
       "config": {
        "plotlyServerURL": "https://plot.ly"
       },
       "data": [
        {
         "coloraxis": "coloraxis",
         "hovertemplate": "Position: %{x}<br>Layer: %{y}<br>Metric (1=Full Recovery): %{z}<extra></extra>",
         "name": "0",
         "type": "heatmap",
         "x": [
          "<think> 0",
          "\n 1",
          "I 2",
          " recall 3",
          " the 4",
          " capital 5",
          " of 6",
          " Canada 7",
          " is 8",
          " Ottawa 9",
          "\n 10",
          "</think> 11",
          "\n 12",
          "Capital 13",
          " of 14",
          " Canada 15",
          " is 16"
         ],
         "xaxis": "x",
         "yaxis": "y",
         "z": {
          "bdata": "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",
          "dtype": "f4",
          "shape": "28, 17"
         }
        }
       ],
       "layout": {
        "coloraxis": {
         "cmax": 1,
         "cmid": 0,
         "cmin": -1,
         "colorbar": {
          "title": {
           "text": "Metric (1=Full Recovery)"
          }
         },
         "colorscale": [
          [
           0,
           "rgb(103,0,31)"
          ],
          [
           0.1,
           "rgb(178,24,43)"
          ],
          [
           0.2,
           "rgb(214,96,77)"
          ],
          [
           0.3,
           "rgb(244,165,130)"
          ],
          [
           0.4,
           "rgb(253,219,199)"
          ],
          [
           0.5,
           "rgb(247,247,247)"
          ],
          [
           0.6,
           "rgb(209,229,240)"
          ],
          [
           0.7,
           "rgb(146,197,222)"
          ],
          [
           0.8,
           "rgb(67,147,195)"
          ],
          [
           0.9,
           "rgb(33,102,172)"
          ],
          [
           1,
           "rgb(5,48,97)"
          ]
         ]
        },
        "template": {
         "data": {
          "bar": [
           {
            "error_x": {
             "color": "#2a3f5f"
            },
            "error_y": {
             "color": "#2a3f5f"
            },
            "marker": {
             "line": {
              "color": "#E5ECF6",
              "width": 0.5
             },
             "pattern": {
              "fillmode": "overlay",
              "size": 10,
              "solidity": 0.2
             }
            },
            "type": "bar"
           }
          ],
          "barpolar": [
           {
            "marker": {
             "line": {
              "color": "#E5ECF6",
              "width": 0.5
             },
             "pattern": {
              "fillmode": "overlay",
              "size": 10,
              "solidity": 0.2
             }
            },
            "type": "barpolar"
           }
          ],
          "carpet": [
           {
            "aaxis": {
             "endlinecolor": "#2a3f5f",
             "gridcolor": "white",
             "linecolor": "white",
             "minorgridcolor": "white",
             "startlinecolor": "#2a3f5f"
            },
            "baxis": {
             "endlinecolor": "#2a3f5f",
             "gridcolor": "white",
             "linecolor": "white",
             "minorgridcolor": "white",
             "startlinecolor": "#2a3f5f"
            },
            "type": "carpet"
           }
          ],
          "choropleth": [
           {
            "colorbar": {
             "outlinewidth": 0,
             "ticks": ""
            },
            "type": "choropleth"
           }
          ],
          "contour": [
           {
            "colorbar": {
             "outlinewidth": 0,
             "ticks": ""
            },
            "colorscale": [
             [
              0,
              "#0d0887"
             ],
             [
              0.1111111111111111,
              "#46039f"
             ],
             [
              0.2222222222222222,
              "#7201a8"
             ],
             [
              0.3333333333333333,
              "#9c179e"
             ],
             [
              0.4444444444444444,
              "#bd3786"
             ],
             [
              0.5555555555555556,
              "#d8576b"
             ],
             [
              0.6666666666666666,
              "#ed7953"
             ],
             [
              0.7777777777777778,
              "#fb9f3a"
             ],
             [
              0.8888888888888888,
              "#fdca26"
             ],
             [
              1,
              "#f0f921"
             ]
            ],
            "type": "contour"
           }
          ],
          "contourcarpet": [
           {
            "colorbar": {
             "outlinewidth": 0,
             "ticks": ""
            },
            "type": "contourcarpet"
           }
          ],
          "heatmap": [
           {
            "colorbar": {
             "outlinewidth": 0,
             "ticks": ""
            },
            "colorscale": [
             [
              0,
              "#0d0887"
             ],
             [
              0.1111111111111111,
              "#46039f"
             ],
             [
              0.2222222222222222,
              "#7201a8"
             ],
             [
              0.3333333333333333,
              "#9c179e"
             ],
             [
              0.4444444444444444,
              "#bd3786"
             ],
             [
              0.5555555555555556,
              "#d8576b"
             ],
             [
              0.6666666666666666,
              "#ed7953"
             ],
             [
              0.7777777777777778,
              "#fb9f3a"
             ],
             [
              0.8888888888888888,
              "#fdca26"
             ],
             [
              1,
              "#f0f921"
             ]
            ],
            "type": "heatmap"
           }
          ],
          "histogram": [
           {
            "marker": {
             "pattern": {
              "fillmode": "overlay",
              "size": 10,
              "solidity": 0.2
             }
            },
            "type": "histogram"
           }
          ],
          "histogram2d": [
           {
            "colorbar": {
             "outlinewidth": 0,
             "ticks": ""
            },
            "colorscale": [
             [
              0,
              "#0d0887"
             ],
             [
              0.1111111111111111,
              "#46039f"
             ],
             [
              0.2222222222222222,
              "#7201a8"
             ],
             [
              0.3333333333333333,
              "#9c179e"
             ],
             [
              0.4444444444444444,
              "#bd3786"
             ],
             [
              0.5555555555555556,
              "#d8576b"
             ],
             [
              0.6666666666666666,
              "#ed7953"
             ],
             [
              0.7777777777777778,
              "#fb9f3a"
             ],
             [
              0.8888888888888888,
              "#fdca26"
             ],
             [
              1,
              "#f0f921"
             ]
            ],
            "type": "histogram2d"
           }
          ],
          "histogram2dcontour": [
           {
            "colorbar": {
             "outlinewidth": 0,
             "ticks": ""
            },
            "colorscale": [
             [
              0,
              "#0d0887"
             ],
             [
              0.1111111111111111,
              "#46039f"
             ],
             [
              0.2222222222222222,
              "#7201a8"
             ],
             [
              0.3333333333333333,
              "#9c179e"
             ],
             [
              0.4444444444444444,
              "#bd3786"
             ],
             [
              0.5555555555555556,
              "#d8576b"
             ],
             [
              0.6666666666666666,
              "#ed7953"
             ],
             [
              0.7777777777777778,
              "#fb9f3a"
             ],
             [
              0.8888888888888888,
              "#fdca26"
             ],
             [
              1,
              "#f0f921"
             ]
            ],
            "type": "histogram2dcontour"
           }
          ],
          "mesh3d": [
           {
            "colorbar": {
             "outlinewidth": 0,
             "ticks": ""
            },
            "type": "mesh3d"
           }
          ],
          "parcoords": [
           {
            "line": {
             "colorbar": {
              "outlinewidth": 0,
              "ticks": ""
             }
            },
            "type": "parcoords"
           }
          ],
          "pie": [
           {
            "automargin": true,
            "type": "pie"
           }
          ],
          "scatter": [
           {
            "fillpattern": {
             "fillmode": "overlay",
             "size": 10,
             "solidity": 0.2
            },
            "type": "scatter"
           }
          ],
          "scatter3d": [
           {
            "line": {
             "colorbar": {
              "outlinewidth": 0,
              "ticks": ""
             }
            },
            "marker": {
             "colorbar": {
              "outlinewidth": 0,
              "ticks": ""
             }
            },
            "type": "scatter3d"
           }
          ],
          "scattercarpet": [
           {
            "marker": {
             "colorbar": {
              "outlinewidth": 0,
              "ticks": ""
             }
            },
            "type": "scattercarpet"
           }
          ],
          "scattergeo": [
           {
            "marker": {
             "colorbar": {
              "outlinewidth": 0,
              "ticks": ""
             }
            },
            "type": "scattergeo"
           }
          ],
          "scattergl": [
           {
            "marker": {
             "colorbar": {
              "outlinewidth": 0,
              "ticks": ""
             }
            },
            "type": "scattergl"
           }
          ],
          "scattermap": [
           {
            "marker": {
             "colorbar": {
              "outlinewidth": 0,
              "ticks": ""
             }
            },
            "type": "scattermap"
           }
          ],
          "scattermapbox": [
           {
            "marker": {
             "colorbar": {
              "outlinewidth": 0,
              "ticks": ""
             }
            },
            "type": "scattermapbox"
           }
          ],
          "scatterpolar": [
           {
            "marker": {
             "colorbar": {
              "outlinewidth": 0,
              "ticks": ""
             }
            },
            "type": "scatterpolar"
           }
          ],
          "scatterpolargl": [
           {
            "marker": {
             "colorbar": {
              "outlinewidth": 0,
              "ticks": ""
             }
            },
            "type": "scatterpolargl"
           }
          ],
          "scatterternary": [
           {
            "marker": {
             "colorbar": {
              "outlinewidth": 0,
              "ticks": ""
             }
            },
            "type": "scatterternary"
           }
          ],
          "surface": [
           {
            "colorbar": {
             "outlinewidth": 0,
             "ticks": ""
            },
            "colorscale": [
             [
              0,
              "#0d0887"
             ],
             [
              0.1111111111111111,
              "#46039f"
             ],
             [
              0.2222222222222222,
              "#7201a8"
             ],
             [
              0.3333333333333333,
              "#9c179e"
             ],
             [
              0.4444444444444444,
              "#bd3786"
             ],
             [
              0.5555555555555556,
              "#d8576b"
             ],
             [
              0.6666666666666666,
              "#ed7953"
             ],
             [
              0.7777777777777778,
              "#fb9f3a"
             ],
             [
              0.8888888888888888,
              "#fdca26"
             ],
             [
              1,
              "#f0f921"
             ]
            ],
            "type": "surface"
           }
          ],
          "table": [
           {
            "cells": {
             "fill": {
              "color": "#EBF0F8"
             },
             "line": {
              "color": "white"
             }
            },
            "header": {
             "fill": {
              "color": "#C8D4E3"
             },
             "line": {
              "color": "white"
             }
            },
            "type": "table"
           }
          ]
         },
         "layout": {
          "annotationdefaults": {
           "arrowcolor": "#2a3f5f",
           "arrowhead": 0,
           "arrowwidth": 1
          },
          "autotypenumbers": "strict",
          "coloraxis": {
           "colorbar": {
            "outlinewidth": 0,
            "ticks": ""
           }
          },
          "colorscale": {
           "diverging": [
            [
             0,
             "#8e0152"
            ],
            [
             0.1,
             "#c51b7d"
            ],
            [
             0.2,
             "#de77ae"
            ],
            [
             0.3,
             "#f1b6da"
            ],
            [
             0.4,
             "#fde0ef"
            ],
            [
             0.5,
             "#f7f7f7"
            ],
            [
             0.6,
             "#e6f5d0"
            ],
            [
             0.7,
             "#b8e186"
            ],
            [
             0.8,
             "#7fbc41"
            ],
            [
             0.9,
             "#4d9221"
            ],
            [
             1,
             "#276419"
            ]
           ],
           "sequential": [
            [
             0,
             "#0d0887"
            ],
            [
             0.1111111111111111,
             "#46039f"
            ],
            [
             0.2222222222222222,
             "#7201a8"
            ],
            [
             0.3333333333333333,
             "#9c179e"
            ],
            [
             0.4444444444444444,
             "#bd3786"
            ],
            [
             0.5555555555555556,
             "#d8576b"
            ],
            [
             0.6666666666666666,
             "#ed7953"
            ],
            [
             0.7777777777777778,
             "#fb9f3a"
            ],
            [
             0.8888888888888888,
             "#fdca26"
            ],
            [
             1,
             "#f0f921"
            ]
           ],
           "sequentialminus": [
            [
             0,
             "#0d0887"
            ],
            [
             0.1111111111111111,
             "#46039f"
            ],
            [
             0.2222222222222222,
             "#7201a8"
            ],
            [
             0.3333333333333333,
             "#9c179e"
            ],
            [
             0.4444444444444444,
             "#bd3786"
            ],
            [
             0.5555555555555556,
             "#d8576b"
            ],
            [
             0.6666666666666666,
             "#ed7953"
            ],
            [
             0.7777777777777778,
             "#fb9f3a"
            ],
            [
             0.8888888888888888,
             "#fdca26"
            ],
            [
             1,
             "#f0f921"
            ]
           ]
          },
          "colorway": [
           "#636efa",
           "#EF553B",
           "#00cc96",
           "#ab63fa",
           "#FFA15A",
           "#19d3f3",
           "#FF6692",
           "#B6E880",
           "#FF97FF",
           "#FECB52"
          ],
          "font": {
           "color": "#2a3f5f"
          },
          "geo": {
           "bgcolor": "white",
           "lakecolor": "white",
           "landcolor": "#E5ECF6",
           "showlakes": true,
           "showland": true,
           "subunitcolor": "white"
          },
          "hoverlabel": {
           "align": "left"
          },
          "hovermode": "closest",
          "mapbox": {
           "style": "light"
          },
          "paper_bgcolor": "white",
          "plot_bgcolor": "#E5ECF6",
          "polar": {
           "angularaxis": {
            "gridcolor": "white",
            "linecolor": "white",
            "ticks": ""
           },
           "bgcolor": "#E5ECF6",
           "radialaxis": {
            "gridcolor": "white",
            "linecolor": "white",
            "ticks": ""
           }
          },
          "scene": {
           "xaxis": {
            "backgroundcolor": "#E5ECF6",
            "gridcolor": "white",
            "gridwidth": 2,
            "linecolor": "white",
            "showbackground": true,
            "ticks": "",
            "zerolinecolor": "white"
           },
           "yaxis": {
            "backgroundcolor": "#E5ECF6",
            "gridcolor": "white",
            "gridwidth": 2,
            "linecolor": "white",
            "showbackground": true,
            "ticks": "",
            "zerolinecolor": "white"
           },
           "zaxis": {
            "backgroundcolor": "#E5ECF6",
            "gridcolor": "white",
            "gridwidth": 2,
            "linecolor": "white",
            "showbackground": true,
            "ticks": "",
            "zerolinecolor": "white"
           }
          },
          "shapedefaults": {
           "line": {
            "color": "#2a3f5f"
           }
          },
          "ternary": {
           "aaxis": {
            "gridcolor": "white",
            "linecolor": "white",
            "ticks": ""
           },
           "baxis": {
            "gridcolor": "white",
            "linecolor": "white",
            "ticks": ""
           },
           "bgcolor": "#E5ECF6",
           "caxis": {
            "gridcolor": "white",
            "linecolor": "white",
            "ticks": ""
           }
          },
          "title": {
           "x": 0.05
          },
          "xaxis": {
           "automargin": true,
           "gridcolor": "white",
           "linecolor": "white",
           "ticks": "",
           "title": {
            "standoff": 15
           },
           "zerolinecolor": "white",
           "zerolinewidth": 2
          },
          "yaxis": {
           "automargin": true,
           "gridcolor": "white",
           "linecolor": "white",
           "ticks": "",
           "title": {
            "standoff": 15
           },
           "zerolinecolor": "white",
           "zerolinewidth": 2
          }
         }
        },
        "title": {
         "text": "Causal Effect of Patching MLP Layer Outputs"
        },
        "xaxis": {
         "anchor": "y",
         "constrain": "domain",
         "domain": [
          0,
          1
         ],
         "scaleanchor": "y",
         "title": {
          "text": "Position"
         }
        },
        "yaxis": {
         "anchor": "x",
         "autorange": "reversed",
         "constrain": "domain",
         "domain": [
          0,
          1
         ],
         "title": {
          "text": "Layer"
         }
        }
       }
      },
      "image/png": "[encoded data removed]"
     },
     "metadata": {},
     "output_type": "display_data"
    }
   ],
   "source": [
    "str_tokens = model.to_str_tokens(clean_tokens)\n",
    "plot_labels = [f\"{tok} {i}\" for i, tok in enumerate(str_tokens)]\n",
    "\n",
    "px.imshow(\n",
    "    utils.to_numpy(patching_results_by_mlp.to(torch.float32)), # Cast for numpy/plotly\n",
    "    title=\"Causal Effect of Patching MLP Layer Outputs\",\n",
    "    labels={\"x\": \"Position\", \"y\": \"Layer\", \"color\": \"Metric (1=Full Recovery)\"},\n",
    "    x=plot_labels,\n",
    "    color_continuous_scale=\"RdBu\",\n",
    "    color_continuous_midpoint=0.0,\n",
    "    zmin=-1, zmax=1\n",
    ").show()"
   ]
  },
  {
   "cell_type": "code",
   "execution_count": 79,
   "id": "2fc058a1-9370-485f-b4c7-d46e489dbf66",
   "metadata": {},
   "outputs": [
    {
     "data": {
      "application/vnd.plotly.v1+json": {
       "config": {
        "plotlyServerURL": "https://plot.ly"
       },
       "data": [
        {
         "coloraxis": "coloraxis",
         "hovertemplate": "Position: %{x}<br>Layer: %{y}<br>Metric (1=Full Recovery): %{z}<extra></extra>",
         "name": "0",
         "type": "heatmap",
         "x": [
          "<think> 0",
          "\n 1",
          "I 2",
          " recall 3",
          " the 4",
          " capital 5",
          " of 6",
          " Canada 7",
          " is 8",
          " Ottawa 9",
          "\n 10",
          "</think> 11",
          "\n 12",
          "Capital 13",
          " of 14",
          " Canada 15",
          " is 16",
          "  17"
         ],
         "xaxis": "x",
         "yaxis": "y",
         "z": {
          "bdata": "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",
          "dtype": "f4",
          "shape": "28, 18"
         }
        }
       ],
       "layout": {
        "coloraxis": {
         "cmax": 1,
         "cmid": 0,
         "cmin": -1,
         "colorbar": {
          "title": {
           "text": "Metric (1=Full Recovery)"
          }
         },
         "colorscale": [
          [
           0,
           "rgb(103,0,31)"
          ],
          [
           0.1,
           "rgb(178,24,43)"
          ],
          [
           0.2,
           "rgb(214,96,77)"
          ],
          [
           0.3,
           "rgb(244,165,130)"
          ],
          [
           0.4,
           "rgb(253,219,199)"
          ],
          [
           0.5,
           "rgb(247,247,247)"
          ],
          [
           0.6,
           "rgb(209,229,240)"
          ],
          [
           0.7,
           "rgb(146,197,222)"
          ],
          [
           0.8,
           "rgb(67,147,195)"
          ],
          [
           0.9,
           "rgb(33,102,172)"
          ],
          [
           1,
           "rgb(5,48,97)"
          ]
         ]
        },
        "template": {
         "data": {
          "bar": [
           {
            "error_x": {
             "color": "#2a3f5f"
            },
            "error_y": {
             "color": "#2a3f5f"
            },
            "marker": {
             "line": {
              "color": "#E5ECF6",
              "width": 0.5
             },
             "pattern": {
              "fillmode": "overlay",
              "size": 10,
              "solidity": 0.2
             }
            },
            "type": "bar"
           }
          ],
          "barpolar": [
           {
            "marker": {
             "line": {
              "color": "#E5ECF6",
              "width": 0.5
             },
             "pattern": {
              "fillmode": "overlay",
              "size": 10,
              "solidity": 0.2
             }
            },
            "type": "barpolar"
           }
          ],
          "carpet": [
           {
            "aaxis": {
             "endlinecolor": "#2a3f5f",
             "gridcolor": "white",
             "linecolor": "white",
             "minorgridcolor": "white",
             "startlinecolor": "#2a3f5f"
            },
            "baxis": {
             "endlinecolor": "#2a3f5f",
             "gridcolor": "white",
             "linecolor": "white",
             "minorgridcolor": "white",
             "startlinecolor": "#2a3f5f"
            },
            "type": "carpet"
           }
          ],
          "choropleth": [
           {
            "colorbar": {
             "outlinewidth": 0,
             "ticks": ""
            },
            "type": "choropleth"
           }
          ],
          "contour": [
           {
            "colorbar": {
             "outlinewidth": 0,
             "ticks": ""
            },
            "colorscale": [
             [
              0,
              "#0d0887"
             ],
             [
              0.1111111111111111,
              "#46039f"
             ],
             [
              0.2222222222222222,
              "#7201a8"
             ],
             [
              0.3333333333333333,
              "#9c179e"
             ],
             [
              0.4444444444444444,
              "#bd3786"
             ],
             [
              0.5555555555555556,
              "#d8576b"
             ],
             [
              0.6666666666666666,
              "#ed7953"
             ],
             [
              0.7777777777777778,
              "#fb9f3a"
             ],
             [
              0.8888888888888888,
              "#fdca26"
             ],
             [
              1,
              "#f0f921"
             ]
            ],
            "type": "contour"
           }
          ],
          "contourcarpet": [
           {
            "colorbar": {
             "outlinewidth": 0,
             "ticks": ""
            },
            "type": "contourcarpet"
           }
          ],
          "heatmap": [
           {
            "colorbar": {
             "outlinewidth": 0,
             "ticks": ""
            },
            "colorscale": [
             [
              0,
              "#0d0887"
             ],
             [
              0.1111111111111111,
              "#46039f"
             ],
             [
              0.2222222222222222,
              "#7201a8"
             ],
             [
              0.3333333333333333,
              "#9c179e"
             ],
             [
              0.4444444444444444,
              "#bd3786"
             ],
             [
              0.5555555555555556,
              "#d8576b"
             ],
             [
              0.6666666666666666,
              "#ed7953"
             ],
             [
              0.7777777777777778,
              "#fb9f3a"
             ],
             [
              0.8888888888888888,
              "#fdca26"
             ],
             [
              1,
              "#f0f921"
             ]
            ],
            "type": "heatmap"
           }
          ],
          "histogram": [
           {
            "marker": {
             "pattern": {
              "fillmode": "overlay",
              "size": 10,
              "solidity": 0.2
             }
            },
            "type": "histogram"
           }
          ],
          "histogram2d": [
           {
            "colorbar": {
             "outlinewidth": 0,
             "ticks": ""
            },
            "colorscale": [
             [
              0,
              "#0d0887"
             ],
             [
              0.1111111111111111,
              "#46039f"
             ],
             [
              0.2222222222222222,
              "#7201a8"
             ],
             [
              0.3333333333333333,
              "#9c179e"
             ],
             [
              0.4444444444444444,
              "#bd3786"
             ],
             [
              0.5555555555555556,
              "#d8576b"
             ],
             [
              0.6666666666666666,
              "#ed7953"
             ],
             [
              0.7777777777777778,
              "#fb9f3a"
             ],
             [
              0.8888888888888888,
              "#fdca26"
             ],
             [
              1,
              "#f0f921"
             ]
            ],
            "type": "histogram2d"
           }
          ],
          "histogram2dcontour": [
           {
            "colorbar": {
             "outlinewidth": 0,
             "ticks": ""
            },
            "colorscale": [
             [
              0,
              "#0d0887"
             ],
             [
              0.1111111111111111,
              "#46039f"
             ],
             [
              0.2222222222222222,
              "#7201a8"
             ],
             [
              0.3333333333333333,
              "#9c179e"
             ],
             [
              0.4444444444444444,
              "#bd3786"
             ],
             [
              0.5555555555555556,
              "#d8576b"
             ],
             [
              0.6666666666666666,
              "#ed7953"
             ],
             [
              0.7777777777777778,
              "#fb9f3a"
             ],
             [
              0.8888888888888888,
              "#fdca26"
             ],
             [
              1,
              "#f0f921"
             ]
            ],
            "type": "histogram2dcontour"
           }
          ],
          "mesh3d": [
           {
            "colorbar": {
             "outlinewidth": 0,
             "ticks": ""
            },
            "type": "mesh3d"
           }
          ],
          "parcoords": [
           {
            "line": {
             "colorbar": {
              "outlinewidth": 0,
              "ticks": ""
             }
            },
            "type": "parcoords"
           }
          ],
          "pie": [
           {
            "automargin": true,
            "type": "pie"
           }
          ],
          "scatter": [
           {
            "fillpattern": {
             "fillmode": "overlay",
             "size": 10,
             "solidity": 0.2
            },
            "type": "scatter"
           }
          ],
          "scatter3d": [
           {
            "line": {
             "colorbar": {
              "outlinewidth": 0,
              "ticks": ""
             }
            },
            "marker": {
             "colorbar": {
              "outlinewidth": 0,
              "ticks": ""
             }
            },
            "type": "scatter3d"
           }
          ],
          "scattercarpet": [
           {
            "marker": {
             "colorbar": {
              "outlinewidth": 0,
              "ticks": ""
             }
            },
            "type": "scattercarpet"
           }
          ],
          "scattergeo": [
           {
            "marker": {
             "colorbar": {
              "outlinewidth": 0,
              "ticks": ""
             }
            },
            "type": "scattergeo"
           }
          ],
          "scattergl": [
           {
            "marker": {
             "colorbar": {
              "outlinewidth": 0,
              "ticks": ""
             }
            },
            "type": "scattergl"
           }
          ],
          "scattermap": [
           {
            "marker": {
             "colorbar": {
              "outlinewidth": 0,
              "ticks": ""
             }
            },
            "type": "scattermap"
           }
          ],
          "scattermapbox": [
           {
            "marker": {
             "colorbar": {
              "outlinewidth": 0,
              "ticks": ""
             }
            },
            "type": "scattermapbox"
           }
          ],
          "scatterpolar": [
           {
            "marker": {
             "colorbar": {
              "outlinewidth": 0,
              "ticks": ""
             }
            },
            "type": "scatterpolar"
           }
          ],
          "scatterpolargl": [
           {
            "marker": {
             "colorbar": {
              "outlinewidth": 0,
              "ticks": ""
             }
            },
            "type": "scatterpolargl"
           }
          ],
          "scatterternary": [
           {
            "marker": {
             "colorbar": {
              "outlinewidth": 0,
              "ticks": ""
             }
            },
            "type": "scatterternary"
           }
          ],
          "surface": [
           {
            "colorbar": {
             "outlinewidth": 0,
             "ticks": ""
            },
            "colorscale": [
             [
              0,
              "#0d0887"
             ],
             [
              0.1111111111111111,
              "#46039f"
             ],
             [
              0.2222222222222222,
              "#7201a8"
             ],
             [
              0.3333333333333333,
              "#9c179e"
             ],
             [
              0.4444444444444444,
              "#bd3786"
             ],
             [
              0.5555555555555556,
              "#d8576b"
             ],
             [
              0.6666666666666666,
              "#ed7953"
             ],
             [
              0.7777777777777778,
              "#fb9f3a"
             ],
             [
              0.8888888888888888,
              "#fdca26"
             ],
             [
              1,
              "#f0f921"
             ]
            ],
            "type": "surface"
           }
          ],
          "table": [
           {
            "cells": {
             "fill": {
              "color": "#EBF0F8"
             },
             "line": {
              "color": "white"
             }
            },
            "header": {
             "fill": {
              "color": "#C8D4E3"
             },
             "line": {
              "color": "white"
             }
            },
            "type": "table"
           }
          ]
         },
         "layout": {
          "annotationdefaults": {
           "arrowcolor": "#2a3f5f",
           "arrowhead": 0,
           "arrowwidth": 1
          },
          "autotypenumbers": "strict",
          "coloraxis": {
           "colorbar": {
            "outlinewidth": 0,
            "ticks": ""
           }
          },
          "colorscale": {
           "diverging": [
            [
             0,
             "#8e0152"
            ],
            [
             0.1,
             "#c51b7d"
            ],
            [
             0.2,
             "#de77ae"
            ],
            [
             0.3,
             "#f1b6da"
            ],
            [
             0.4,
             "#fde0ef"
            ],
            [
             0.5,
             "#f7f7f7"
            ],
            [
             0.6,
             "#e6f5d0"
            ],
            [
             0.7,
             "#b8e186"
            ],
            [
             0.8,
             "#7fbc41"
            ],
            [
             0.9,
             "#4d9221"
            ],
            [
             1,
             "#276419"
            ]
           ],
           "sequential": [
            [
             0,
             "#0d0887"
            ],
            [
             0.1111111111111111,
             "#46039f"
            ],
            [
             0.2222222222222222,
             "#7201a8"
            ],
            [
             0.3333333333333333,
             "#9c179e"
            ],
            [
             0.4444444444444444,
             "#bd3786"
            ],
            [
             0.5555555555555556,
             "#d8576b"
            ],
            [
             0.6666666666666666,
             "#ed7953"
            ],
            [
             0.7777777777777778,
             "#fb9f3a"
            ],
            [
             0.8888888888888888,
             "#fdca26"
            ],
            [
             1,
             "#f0f921"
            ]
           ],
           "sequentialminus": [
            [
             0,
             "#0d0887"
            ],
            [
             0.1111111111111111,
             "#46039f"
            ],
            [
             0.2222222222222222,
             "#7201a8"
            ],
            [
             0.3333333333333333,
             "#9c179e"
            ],
            [
             0.4444444444444444,
             "#bd3786"
            ],
            [
             0.5555555555555556,
             "#d8576b"
            ],
            [
             0.6666666666666666,
             "#ed7953"
            ],
            [
             0.7777777777777778,
             "#fb9f3a"
            ],
            [
             0.8888888888888888,
             "#fdca26"
            ],
            [
             1,
             "#f0f921"
            ]
           ]
          },
          "colorway": [
           "#636efa",
           "#EF553B",
           "#00cc96",
           "#ab63fa",
           "#FFA15A",
           "#19d3f3",
           "#FF6692",
           "#B6E880",
           "#FF97FF",
           "#FECB52"
          ],
          "font": {
           "color": "#2a3f5f"
          },
          "geo": {
           "bgcolor": "white",
           "lakecolor": "white",
           "landcolor": "#E5ECF6",
           "showlakes": true,
           "showland": true,
           "subunitcolor": "white"
          },
          "hoverlabel": {
           "align": "left"
          },
          "hovermode": "closest",
          "mapbox": {
           "style": "light"
          },
          "paper_bgcolor": "white",
          "plot_bgcolor": "#E5ECF6",
          "polar": {
           "angularaxis": {
            "gridcolor": "white",
            "linecolor": "white",
            "ticks": ""
           },
           "bgcolor": "#E5ECF6",
           "radialaxis": {
            "gridcolor": "white",
            "linecolor": "white",
            "ticks": ""
           }
          },
          "scene": {
           "xaxis": {
            "backgroundcolor": "#E5ECF6",
            "gridcolor": "white",
            "gridwidth": 2,
            "linecolor": "white",
            "showbackground": true,
            "ticks": "",
            "zerolinecolor": "white"
           },
           "yaxis": {
            "backgroundcolor": "#E5ECF6",
            "gridcolor": "white",
            "gridwidth": 2,
            "linecolor": "white",
            "showbackground": true,
            "ticks": "",
            "zerolinecolor": "white"
           },
           "zaxis": {
            "backgroundcolor": "#E5ECF6",
            "gridcolor": "white",
            "gridwidth": 2,
            "linecolor": "white",
            "showbackground": true,
            "ticks": "",
            "zerolinecolor": "white"
           }
          },
          "shapedefaults": {
           "line": {
            "color": "#2a3f5f"
           }
          },
          "ternary": {
           "aaxis": {
            "gridcolor": "white",
            "linecolor": "white",
            "ticks": ""
           },
           "baxis": {
            "gridcolor": "white",
            "linecolor": "white",
            "ticks": ""
           },
           "bgcolor": "#E5ECF6",
           "caxis": {
            "gridcolor": "white",
            "linecolor": "white",
            "ticks": ""
           }
          },
          "title": {
           "x": 0.05
          },
          "xaxis": {
           "automargin": true,
           "gridcolor": "white",
           "linecolor": "white",
           "ticks": "",
           "title": {
            "standoff": 15
           },
           "zerolinecolor": "white",
           "zerolinewidth": 2
          },
          "yaxis": {
           "automargin": true,
           "gridcolor": "white",
           "linecolor": "white",
           "ticks": "",
           "title": {
            "standoff": 15
           },
           "zerolinecolor": "white",
           "zerolinewidth": 2
          }
         }
        },
        "title": {
         "text": "Causal Effect of Patching MLP Layer Outputs"
        },
        "xaxis": {
         "anchor": "y",
         "constrain": "domain",
         "domain": [
          0,
          1
         ],
         "scaleanchor": "y",
         "title": {
          "text": "Position"
         }
        },
        "yaxis": {
         "anchor": "x",
         "autorange": "reversed",
         "constrain": "domain",
         "domain": [
          0,
          1
         ],
         "title": {
          "text": "Layer"
         }
        }
       }
      },
      "image/png": "[encoded data removed]"
     },
     "metadata": {},
     "output_type": "display_data"
    }
   ],
   "source": [
    "str_tokens = model.to_str_tokens(clean_tokens)\n",
    "plot_labels = [f\"{tok} {i}\" for i, tok in enumerate(str_tokens)]\n",
    "\n",
    "px.imshow(\n",
    "    utils.to_numpy(patching_results_by_mlp.to(torch.float32)), # Cast for numpy/plotly\n",
    "    title=\"Causal Effect of Patching MLP Layer Outputs\",\n",
    "    labels={\"x\": \"Position\", \"y\": \"Layer\", \"color\": \"Metric (1=Full Recovery)\"},\n",
    "    x=plot_labels,\n",
    "    color_continuous_scale=\"RdBu\",\n",
    "    color_continuous_midpoint=0.0,\n",
    "    zmin=-1, zmax=1\n",
    ").show()"
   ]
  },
  {
   "cell_type": "code",
   "execution_count": 86,
   "id": "b6ee7822-4cab-4a3d-abf8-44d400d90277",
   "metadata": {},
   "outputs": [],
   "source": [
    "from neel_plotly import line, imshow, scatter\n",
    "import einops"
   ]
  },
  {
   "cell_type": "code",
   "execution_count": 93,
   "id": "36b95664-7b84-46de-a1e4-d9f59e9ebf87",
   "metadata": {},
   "outputs": [],
   "source": [
    "NUM_SEEDS = 1"
   ]
  },
  {
   "cell_type": "code",
   "execution_count": 94,
   "id": "966052d9-6495-4651-81ac-72483a2185c6",
   "metadata": {},
   "outputs": [
    {
     "name": "stdout",
     "output_type": "stream",
     "text": [
      "\n",
      "Running causal tracing over 1 corruption seeds (by head)...\n"
     ]
    },
    {
     "name": "stderr",
     "output_type": "stream",
     "text": [
      "  0%|          | 0/1 [00:00<?, ?it/s]"
     ]
    },
    {
     "data": {
      "application/vnd.jupyter.widget-view+json": {
       "model_id": "1134b236e6d54bd69982473cbe5fc6ed",
       "version_major": 2,
       "version_minor": 0
      },
      "text/plain": [
       "  0%|          | 0/8064 [00:00<?, ?it/s]"
      ]
     },
     "metadata": {},
     "output_type": "display_data"
    },
    {
     "name": "stderr",
     "output_type": "stream",
     "text": [
      "100%|██████████| 1/1 [07:46<00:00, 466.76s/it]\n"
     ]
    }
   ],
   "source": [
    "patching_results_by_head = run_avg_patching_by_head(model)"
   ]
  },
  {
   "cell_type": "code",
   "execution_count": 95,
   "id": "ee9bf8ed-0bdd-4126-95fd-69875e338665",
   "metadata": {},
   "outputs": [
    {
     "data": {
      "application/vnd.plotly.v1+json": {
       "config": {
        "plotlyServerURL": "https://plot.ly"
       },
       "data": [
        {
         "coloraxis": "coloraxis",
         "hovertemplate": "x: %{x}<br>y: %{y}<br>color: %{z}<extra></extra>",
         "name": "0",
         "type": "heatmap",
         "x": [
          "<think> 0",
          "\n 1",
          "I 2",
          " recall 3",
          " the 4",
          " capital 5",
          " of 6",
          " Canada 7",
          " is 8",
          " Ottawa 9",
          "\n 10",
          "</think> 11",
          "\n 12",
          "Capital 13",
          " of 14",
          " Canada 15",
          " is 16",
          "  17"
         ],
         "xaxis": "x",
         "y": [
          "L0H0",
          "L0H1",
          "L0H2",
          "L0H3",
          "L0H4",
          "L0H5",
          "L0H6",
          "L0H7",
          "L0H8",
          "L0H9",
          "L0H10",
          "L0H11",
          "L0H12",
          "L0H13",
          "L0H14",
          "L0H15",
          "L1H0",
          "L1H1",
          "L1H2",
          "L1H3",
          "L1H4",
          "L1H5",
          "L1H6",
          "L1H7",
          "L1H8",
          "L1H9",
          "L1H10",
          "L1H11",
          "L1H12",
          "L1H13",
          "L1H14",
          "L1H15",
          "L2H0",
          "L2H1",
          "L2H2",
          "L2H3",
          "L2H4",
          "L2H5",
          "L2H6",
          "L2H7",
          "L2H8",
          "L2H9",
          "L2H10",
          "L2H11",
          "L2H12",
          "L2H13",
          "L2H14",
          "L2H15",
          "L3H0",
          "L3H1",
          "L3H2",
          "L3H3",
          "L3H4",
          "L3H5",
          "L3H6",
          "L3H7",
          "L3H8",
          "L3H9",
          "L3H10",
          "L3H11",
          "L3H12",
          "L3H13",
          "L3H14",
          "L3H15",
          "L4H0",
          "L4H1",
          "L4H2",
          "L4H3",
          "L4H4",
          "L4H5",
          "L4H6",
          "L4H7",
          "L4H8",
          "L4H9",
          "L4H10",
          "L4H11",
          "L4H12",
          "L4H13",
          "L4H14",
          "L4H15",
          "L5H0",
          "L5H1",
          "L5H2",
          "L5H3",
          "L5H4",
          "L5H5",
          "L5H6",
          "L5H7",
          "L5H8",
          "L5H9",
          "L5H10",
          "L5H11",
          "L5H12",
          "L5H13",
          "L5H14",
          "L5H15",
          "L6H0",
          "L6H1",
          "L6H2",
          "L6H3",
          "L6H4",
          "L6H5",
          "L6H6",
          "L6H7",
          "L6H8",
          "L6H9",
          "L6H10",
          "L6H11",
          "L6H12",
          "L6H13",
          "L6H14",
          "L6H15",
          "L7H0",
          "L7H1",
          "L7H2",
          "L7H3",
          "L7H4",
          "L7H5",
          "L7H6",
          "L7H7",
          "L7H8",
          "L7H9",
          "L7H10",
          "L7H11",
          "L7H12",
          "L7H13",
          "L7H14",
          "L7H15",
          "L8H0",
          "L8H1",
          "L8H2",
          "L8H3",
          "L8H4",
          "L8H5",
          "L8H6",
          "L8H7",
          "L8H8",
          "L8H9",
          "L8H10",
          "L8H11",
          "L8H12",
          "L8H13",
          "L8H14",
          "L8H15",
          "L9H0",
          "L9H1",
          "L9H2",
          "L9H3",
          "L9H4",
          "L9H5",
          "L9H6",
          "L9H7",
          "L9H8",
          "L9H9",
          "L9H10",
          "L9H11",
          "L9H12",
          "L9H13",
          "L9H14",
          "L9H15",
          "L10H0",
          "L10H1",
          "L10H2",
          "L10H3",
          "L10H4",
          "L10H5",
          "L10H6",
          "L10H7",
          "L10H8",
          "L10H9",
          "L10H10",
          "L10H11",
          "L10H12",
          "L10H13",
          "L10H14",
          "L10H15",
          "L11H0",
          "L11H1",
          "L11H2",
          "L11H3",
          "L11H4",
          "L11H5",
          "L11H6",
          "L11H7",
          "L11H8",
          "L11H9",
          "L11H10",
          "L11H11",
          "L11H12",
          "L11H13",
          "L11H14",
          "L11H15",
          "L12H0",
          "L12H1",
          "L12H2",
          "L12H3",
          "L12H4",
          "L12H5",
          "L12H6",
          "L12H7",
          "L12H8",
          "L12H9",
          "L12H10",
          "L12H11",
          "L12H12",
          "L12H13",
          "L12H14",
          "L12H15",
          "L13H0",
          "L13H1",
          "L13H2",
          "L13H3",
          "L13H4",
          "L13H5",
          "L13H6",
          "L13H7",
          "L13H8",
          "L13H9",
          "L13H10",
          "L13H11",
          "L13H12",
          "L13H13",
          "L13H14",
          "L13H15",
          "L14H0",
          "L14H1",
          "L14H2",
          "L14H3",
          "L14H4",
          "L14H5",
          "L14H6",
          "L14H7",
          "L14H8",
          "L14H9",
          "L14H10",
          "L14H11",
          "L14H12",
          "L14H13",
          "L14H14",
          "L14H15",
          "L15H0",
          "L15H1",
          "L15H2",
          "L15H3",
          "L15H4",
          "L15H5",
          "L15H6",
          "L15H7",
          "L15H8",
          "L15H9",
          "L15H10",
          "L15H11",
          "L15H12",
          "L15H13",
          "L15H14",
          "L15H15",
          "L16H0",
          "L16H1",
          "L16H2",
          "L16H3",
          "L16H4",
          "L16H5",
          "L16H6",
          "L16H7",
          "L16H8",
          "L16H9",
          "L16H10",
          "L16H11",
          "L16H12",
          "L16H13",
          "L16H14",
          "L16H15",
          "L17H0",
          "L17H1",
          "L17H2",
          "L17H3",
          "L17H4",
          "L17H5",
          "L17H6",
          "L17H7",
          "L17H8",
          "L17H9",
          "L17H10",
          "L17H11",
          "L17H12",
          "L17H13",
          "L17H14",
          "L17H15",
          "L18H0",
          "L18H1",
          "L18H2",
          "L18H3",
          "L18H4",
          "L18H5",
          "L18H6",
          "L18H7",
          "L18H8",
          "L18H9",
          "L18H10",
          "L18H11",
          "L18H12",
          "L18H13",
          "L18H14",
          "L18H15",
          "L19H0",
          "L19H1",
          "L19H2",
          "L19H3",
          "L19H4",
          "L19H5",
          "L19H6",
          "L19H7",
          "L19H8",
          "L19H9",
          "L19H10",
          "L19H11",
          "L19H12",
          "L19H13",
          "L19H14",
          "L19H15",
          "L20H0",
          "L20H1",
          "L20H2",
          "L20H3",
          "L20H4",
          "L20H5",
          "L20H6",
          "L20H7",
          "L20H8",
          "L20H9",
          "L20H10",
          "L20H11",
          "L20H12",
          "L20H13",
          "L20H14",
          "L20H15",
          "L21H0",
          "L21H1",
          "L21H2",
          "L21H3",
          "L21H4",
          "L21H5",
          "L21H6",
          "L21H7",
          "L21H8",
          "L21H9",
          "L21H10",
          "L21H11",
          "L21H12",
          "L21H13",
          "L21H14",
          "L21H15",
          "L22H0",
          "L22H1",
          "L22H2",
          "L22H3",
          "L22H4",
          "L22H5",
          "L22H6",
          "L22H7",
          "L22H8",
          "L22H9",
          "L22H10",
          "L22H11",
          "L22H12",
          "L22H13",
          "L22H14",
          "L22H15",
          "L23H0",
          "L23H1",
          "L23H2",
          "L23H3",
          "L23H4",
          "L23H5",
          "L23H6",
          "L23H7",
          "L23H8",
          "L23H9",
          "L23H10",
          "L23H11",
          "L23H12",
          "L23H13",
          "L23H14",
          "L23H15",
          "L24H0",
          "L24H1",
          "L24H2",
          "L24H3",
          "L24H4",
          "L24H5",
          "L24H6",
          "L24H7",
          "L24H8",
          "L24H9",
          "L24H10",
          "L24H11",
          "L24H12",
          "L24H13",
          "L24H14",
          "L24H15",
          "L25H0",
          "L25H1",
          "L25H2",
          "L25H3",
          "L25H4",
          "L25H5",
          "L25H6",
          "L25H7",
          "L25H8",
          "L25H9",
          "L25H10",
          "L25H11",
          "L25H12",
          "L25H13",
          "L25H14",
          "L25H15",
          "L26H0",
          "L26H1",
          "L26H2",
          "L26H3",
          "L26H4",
          "L26H5",
          "L26H6",
          "L26H7",
          "L26H8",
          "L26H9",
          "L26H10",
          "L26H11",
          "L26H12",
          "L26H13",
          "L26H14",
          "L26H15",
          "L27H0",
          "L27H1",
          "L27H2",
          "L27H3",
          "L27H4",
          "L27H5",
          "L27H6",
          "L27H7",
          "L27H8",
          "L27H9",
          "L27H10",
          "L27H11",
          "L27H12",
          "L27H13",
          "L27H14",
          "L27H15"
         ],
         "yaxis": "y",
         "z": {
          "bdata": "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",
          "dtype": "f4",
          "shape": "448, 18"
         }
        }
       ],
       "layout": {
        "coloraxis": {
         "cmid": 0,
         "colorscale": [
          [
           0,
           "rgb(103,0,31)"
          ],
          [
           0.1,
           "rgb(178,24,43)"
          ],
          [
           0.2,
           "rgb(214,96,77)"
          ],
          [
           0.3,
           "rgb(244,165,130)"
          ],
          [
           0.4,
           "rgb(253,219,199)"
          ],
          [
           0.5,
           "rgb(247,247,247)"
          ],
          [
           0.6,
           "rgb(209,229,240)"
          ],
          [
           0.7,
           "rgb(146,197,222)"
          ],
          [
           0.8,
           "rgb(67,147,195)"
          ],
          [
           0.9,
           "rgb(33,102,172)"
          ],
          [
           1,
           "rgb(5,48,97)"
          ]
         ]
        },
        "height": 1200,
        "template": {
         "data": {
          "bar": [
           {
            "error_x": {
             "color": "#2a3f5f"
            },
            "error_y": {
             "color": "#2a3f5f"
            },
            "marker": {
             "line": {
              "color": "#E5ECF6",
              "width": 0.5
             },
             "pattern": {
              "fillmode": "overlay",
              "size": 10,
              "solidity": 0.2
             }
            },
            "type": "bar"
           }
          ],
          "barpolar": [
           {
            "marker": {
             "line": {
              "color": "#E5ECF6",
              "width": 0.5
             },
             "pattern": {
              "fillmode": "overlay",
              "size": 10,
              "solidity": 0.2
             }
            },
            "type": "barpolar"
           }
          ],
          "carpet": [
           {
            "aaxis": {
             "endlinecolor": "#2a3f5f",
             "gridcolor": "white",
             "linecolor": "white",
             "minorgridcolor": "white",
             "startlinecolor": "#2a3f5f"
            },
            "baxis": {
             "endlinecolor": "#2a3f5f",
             "gridcolor": "white",
             "linecolor": "white",
             "minorgridcolor": "white",
             "startlinecolor": "#2a3f5f"
            },
            "type": "carpet"
           }
          ],
          "choropleth": [
           {
            "colorbar": {
             "outlinewidth": 0,
             "ticks": ""
            },
            "type": "choropleth"
           }
          ],
          "contour": [
           {
            "colorbar": {
             "outlinewidth": 0,
             "ticks": ""
            },
            "colorscale": [
             [
              0,
              "#0d0887"
             ],
             [
              0.1111111111111111,
              "#46039f"
             ],
             [
              0.2222222222222222,
              "#7201a8"
             ],
             [
              0.3333333333333333,
              "#9c179e"
             ],
             [
              0.4444444444444444,
              "#bd3786"
             ],
             [
              0.5555555555555556,
              "#d8576b"
             ],
             [
              0.6666666666666666,
              "#ed7953"
             ],
             [
              0.7777777777777778,
              "#fb9f3a"
             ],
             [
              0.8888888888888888,
              "#fdca26"
             ],
             [
              1,
              "#f0f921"
             ]
            ],
            "type": "contour"
           }
          ],
          "contourcarpet": [
           {
            "colorbar": {
             "outlinewidth": 0,
             "ticks": ""
            },
            "type": "contourcarpet"
           }
          ],
          "heatmap": [
           {
            "colorbar": {
             "outlinewidth": 0,
             "ticks": ""
            },
            "colorscale": [
             [
              0,
              "#0d0887"
             ],
             [
              0.1111111111111111,
              "#46039f"
             ],
             [
              0.2222222222222222,
              "#7201a8"
             ],
             [
              0.3333333333333333,
              "#9c179e"
             ],
             [
              0.4444444444444444,
              "#bd3786"
             ],
             [
              0.5555555555555556,
              "#d8576b"
             ],
             [
              0.6666666666666666,
              "#ed7953"
             ],
             [
              0.7777777777777778,
              "#fb9f3a"
             ],
             [
              0.8888888888888888,
              "#fdca26"
             ],
             [
              1,
              "#f0f921"
             ]
            ],
            "type": "heatmap"
           }
          ],
          "histogram": [
           {
            "marker": {
             "pattern": {
              "fillmode": "overlay",
              "size": 10,
              "solidity": 0.2
             }
            },
            "type": "histogram"
           }
          ],
          "histogram2d": [
           {
            "colorbar": {
             "outlinewidth": 0,
             "ticks": ""
            },
            "colorscale": [
             [
              0,
              "#0d0887"
             ],
             [
              0.1111111111111111,
              "#46039f"
             ],
             [
              0.2222222222222222,
              "#7201a8"
             ],
             [
              0.3333333333333333,
              "#9c179e"
             ],
             [
              0.4444444444444444,
              "#bd3786"
             ],
             [
              0.5555555555555556,
              "#d8576b"
             ],
             [
              0.6666666666666666,
              "#ed7953"
             ],
             [
              0.7777777777777778,
              "#fb9f3a"
             ],
             [
              0.8888888888888888,
              "#fdca26"
             ],
             [
              1,
              "#f0f921"
             ]
            ],
            "type": "histogram2d"
           }
          ],
          "histogram2dcontour": [
           {
            "colorbar": {
             "outlinewidth": 0,
             "ticks": ""
            },
            "colorscale": [
             [
              0,
              "#0d0887"
             ],
             [
              0.1111111111111111,
              "#46039f"
             ],
             [
              0.2222222222222222,
              "#7201a8"
             ],
             [
              0.3333333333333333,
              "#9c179e"
             ],
             [
              0.4444444444444444,
              "#bd3786"
             ],
             [
              0.5555555555555556,
              "#d8576b"
             ],
             [
              0.6666666666666666,
              "#ed7953"
             ],
             [
              0.7777777777777778,
              "#fb9f3a"
             ],
             [
              0.8888888888888888,
              "#fdca26"
             ],
             [
              1,
              "#f0f921"
             ]
            ],
            "type": "histogram2dcontour"
           }
          ],
          "mesh3d": [
           {
            "colorbar": {
             "outlinewidth": 0,
             "ticks": ""
            },
            "type": "mesh3d"
           }
          ],
          "parcoords": [
           {
            "line": {
             "colorbar": {
              "outlinewidth": 0,
              "ticks": ""
             }
            },
            "type": "parcoords"
           }
          ],
          "pie": [
           {
            "automargin": true,
            "type": "pie"
           }
          ],
          "scatter": [
           {
            "fillpattern": {
             "fillmode": "overlay",
             "size": 10,
             "solidity": 0.2
            },
            "type": "scatter"
           }
          ],
          "scatter3d": [
           {
            "line": {
             "colorbar": {
              "outlinewidth": 0,
              "ticks": ""
             }
            },
            "marker": {
             "colorbar": {
              "outlinewidth": 0,
              "ticks": ""
             }
            },
            "type": "scatter3d"
           }
          ],
          "scattercarpet": [
           {
            "marker": {
             "colorbar": {
              "outlinewidth": 0,
              "ticks": ""
             }
            },
            "type": "scattercarpet"
           }
          ],
          "scattergeo": [
           {
            "marker": {
             "colorbar": {
              "outlinewidth": 0,
              "ticks": ""
             }
            },
            "type": "scattergeo"
           }
          ],
          "scattergl": [
           {
            "marker": {
             "colorbar": {
              "outlinewidth": 0,
              "ticks": ""
             }
            },
            "type": "scattergl"
           }
          ],
          "scattermap": [
           {
            "marker": {
             "colorbar": {
              "outlinewidth": 0,
              "ticks": ""
             }
            },
            "type": "scattermap"
           }
          ],
          "scattermapbox": [
           {
            "marker": {
             "colorbar": {
              "outlinewidth": 0,
              "ticks": ""
             }
            },
            "type": "scattermapbox"
           }
          ],
          "scatterpolar": [
           {
            "marker": {
             "colorbar": {
              "outlinewidth": 0,
              "ticks": ""
             }
            },
            "type": "scatterpolar"
           }
          ],
          "scatterpolargl": [
           {
            "marker": {
             "colorbar": {
              "outlinewidth": 0,
              "ticks": ""
             }
            },
            "type": "scatterpolargl"
           }
          ],
          "scatterternary": [
           {
            "marker": {
             "colorbar": {
              "outlinewidth": 0,
              "ticks": ""
             }
            },
            "type": "scatterternary"
           }
          ],
          "surface": [
           {
            "colorbar": {
             "outlinewidth": 0,
             "ticks": ""
            },
            "colorscale": [
             [
              0,
              "#0d0887"
             ],
             [
              0.1111111111111111,
              "#46039f"
             ],
             [
              0.2222222222222222,
              "#7201a8"
             ],
             [
              0.3333333333333333,
              "#9c179e"
             ],
             [
              0.4444444444444444,
              "#bd3786"
             ],
             [
              0.5555555555555556,
              "#d8576b"
             ],
             [
              0.6666666666666666,
              "#ed7953"
             ],
             [
              0.7777777777777778,
              "#fb9f3a"
             ],
             [
              0.8888888888888888,
              "#fdca26"
             ],
             [
              1,
              "#f0f921"
             ]
            ],
            "type": "surface"
           }
          ],
          "table": [
           {
            "cells": {
             "fill": {
              "color": "#EBF0F8"
             },
             "line": {
              "color": "white"
             }
            },
            "header": {
             "fill": {
              "color": "#C8D4E3"
             },
             "line": {
              "color": "white"
             }
            },
            "type": "table"
           }
          ]
         },
         "layout": {
          "annotationdefaults": {
           "arrowcolor": "#2a3f5f",
           "arrowhead": 0,
           "arrowwidth": 1
          },
          "autotypenumbers": "strict",
          "coloraxis": {
           "colorbar": {
            "outlinewidth": 0,
            "ticks": ""
           }
          },
          "colorscale": {
           "diverging": [
            [
             0,
             "#8e0152"
            ],
            [
             0.1,
             "#c51b7d"
            ],
            [
             0.2,
             "#de77ae"
            ],
            [
             0.3,
             "#f1b6da"
            ],
            [
             0.4,
             "#fde0ef"
            ],
            [
             0.5,
             "#f7f7f7"
            ],
            [
             0.6,
             "#e6f5d0"
            ],
            [
             0.7,
             "#b8e186"
            ],
            [
             0.8,
             "#7fbc41"
            ],
            [
             0.9,
             "#4d9221"
            ],
            [
             1,
             "#276419"
            ]
           ],
           "sequential": [
            [
             0,
             "#0d0887"
            ],
            [
             0.1111111111111111,
             "#46039f"
            ],
            [
             0.2222222222222222,
             "#7201a8"
            ],
            [
             0.3333333333333333,
             "#9c179e"
            ],
            [
             0.4444444444444444,
             "#bd3786"
            ],
            [
             0.5555555555555556,
             "#d8576b"
            ],
            [
             0.6666666666666666,
             "#ed7953"
            ],
            [
             0.7777777777777778,
             "#fb9f3a"
            ],
            [
             0.8888888888888888,
             "#fdca26"
            ],
            [
             1,
             "#f0f921"
            ]
           ],
           "sequentialminus": [
            [
             0,
             "#0d0887"
            ],
            [
             0.1111111111111111,
             "#46039f"
            ],
            [
             0.2222222222222222,
             "#7201a8"
            ],
            [
             0.3333333333333333,
             "#9c179e"
            ],
            [
             0.4444444444444444,
             "#bd3786"
            ],
            [
             0.5555555555555556,
             "#d8576b"
            ],
            [
             0.6666666666666666,
             "#ed7953"
            ],
            [
             0.7777777777777778,
             "#fb9f3a"
            ],
            [
             0.8888888888888888,
             "#fdca26"
            ],
            [
             1,
             "#f0f921"
            ]
           ]
          },
          "colorway": [
           "#636efa",
           "#EF553B",
           "#00cc96",
           "#ab63fa",
           "#FFA15A",
           "#19d3f3",
           "#FF6692",
           "#B6E880",
           "#FF97FF",
           "#FECB52"
          ],
          "font": {
           "color": "#2a3f5f"
          },
          "geo": {
           "bgcolor": "white",
           "lakecolor": "white",
           "landcolor": "#E5ECF6",
           "showlakes": true,
           "showland": true,
           "subunitcolor": "white"
          },
          "hoverlabel": {
           "align": "left"
          },
          "hovermode": "closest",
          "mapbox": {
           "style": "light"
          },
          "paper_bgcolor": "white",
          "plot_bgcolor": "#E5ECF6",
          "polar": {
           "angularaxis": {
            "gridcolor": "white",
            "linecolor": "white",
            "ticks": ""
           },
           "bgcolor": "#E5ECF6",
           "radialaxis": {
            "gridcolor": "white",
            "linecolor": "white",
            "ticks": ""
           }
          },
          "scene": {
           "xaxis": {
            "backgroundcolor": "#E5ECF6",
            "gridcolor": "white",
            "gridwidth": 2,
            "linecolor": "white",
            "showbackground": true,
            "ticks": "",
            "zerolinecolor": "white"
           },
           "yaxis": {
            "backgroundcolor": "#E5ECF6",
            "gridcolor": "white",
            "gridwidth": 2,
            "linecolor": "white",
            "showbackground": true,
            "ticks": "",
            "zerolinecolor": "white"
           },
           "zaxis": {
            "backgroundcolor": "#E5ECF6",
            "gridcolor": "white",
            "gridwidth": 2,
            "linecolor": "white",
            "showbackground": true,
            "ticks": "",
            "zerolinecolor": "white"
           }
          },
          "shapedefaults": {
           "line": {
            "color": "#2a3f5f"
           }
          },
          "ternary": {
           "aaxis": {
            "gridcolor": "white",
            "linecolor": "white",
            "ticks": ""
           },
           "baxis": {
            "gridcolor": "white",
            "linecolor": "white",
            "ticks": ""
           },
           "bgcolor": "#E5ECF6",
           "caxis": {
            "gridcolor": "white",
            "linecolor": "white",
            "ticks": ""
           }
          },
          "title": {
           "x": 0.05
          },
          "xaxis": {
           "automargin": true,
           "gridcolor": "white",
           "linecolor": "white",
           "ticks": "",
           "title": {
            "standoff": 15
           },
           "zerolinecolor": "white",
           "zerolinewidth": 2
          },
          "yaxis": {
           "automargin": true,
           "gridcolor": "white",
           "linecolor": "white",
           "ticks": "",
           "title": {
            "standoff": 15
           },
           "zerolinecolor": "white",
           "zerolinewidth": 2
          }
         }
        },
        "title": {
         "text": "attn_head_out Activation Patching By Pos"
        },
        "xaxis": {
         "anchor": "y",
         "domain": [
          0,
          1
         ],
         "title": {
          "text": "Pos"
         }
        },
        "yaxis": {
         "anchor": "x",
         "autorange": "reversed",
         "domain": [
          0,
          1
         ],
         "title": {
          "text": "Head Label"
         }
        }
       }
      },
      "image/png": "[encoded data removed]"
     },
     "metadata": {},
     "output_type": "display_data"
    }
   ],
   "source": [
    "ALL_HEAD_LABELS = [f\"L{i}H{j}\" for i in range(model.cfg.n_layers) for j in range(model.cfg.n_heads)]\n",
    "# Create a list of labels for the x-axis\n",
    "str_tokens = model.to_str_tokens(clean_tokens)\n",
    "x_labels = [f\"{tok} {i}\" for i, tok in enumerate(str_tokens)]\n",
    "attn_head_out_act_patch_results = einops.rearrange(patching_results_by_head, \"layer pos head -> (layer head) pos\")\n",
    "imshow(attn_head_out_act_patch_results, \n",
    "        yaxis=\"Head Label\", \n",
    "        xaxis=\"Pos\",\n",
    "        height=1200,\n",
    "        x=[f\"{tok} {i}\" for i, tok in enumerate(model.to_str_tokens(clean_tokens))],\n",
    "        y=ALL_HEAD_LABELS,\n",
    "        title=\"attn_head_out Activation Patching By Pos\")"
   ]
  },
  {
   "cell_type": "code",
   "execution_count": 89,
   "id": "7d60859c-2248-41d2-bbd6-e56fc07579d2",
   "metadata": {},
   "outputs": [
    {
     "data": {
      "application/vnd.plotly.v1+json": {
       "config": {
        "plotlyServerURL": "https://plot.ly"
       },
       "data": [
        {
         "coloraxis": "coloraxis",
         "hovertemplate": "x: %{x}<br>y: %{y}<br>color: %{z}<extra></extra>",
         "name": "0",
         "type": "heatmap",
         "x": [
          "<think> 0",
          "\n 1",
          "I 2",
          " recall 3",
          " the 4",
          " capital 5",
          " of 6",
          " Canada 7",
          " is 8",
          " Ottawa 9",
          "\n 10",
          "</think> 11",
          "\n 12",
          "Capital 13",
          " of 14",
          " Canada 15",
          " is 16"
         ],
         "xaxis": "x",
         "y": [
          "L0H0",
          "L0H1",
          "L0H2",
          "L0H3",
          "L0H4",
          "L0H5",
          "L0H6",
          "L0H7",
          "L0H8",
          "L0H9",
          "L0H10",
          "L0H11",
          "L0H12",
          "L0H13",
          "L0H14",
          "L0H15",
          "L1H0",
          "L1H1",
          "L1H2",
          "L1H3",
          "L1H4",
          "L1H5",
          "L1H6",
          "L1H7",
          "L1H8",
          "L1H9",
          "L1H10",
          "L1H11",
          "L1H12",
          "L1H13",
          "L1H14",
          "L1H15",
          "L2H0",
          "L2H1",
          "L2H2",
          "L2H3",
          "L2H4",
          "L2H5",
          "L2H6",
          "L2H7",
          "L2H8",
          "L2H9",
          "L2H10",
          "L2H11",
          "L2H12",
          "L2H13",
          "L2H14",
          "L2H15",
          "L3H0",
          "L3H1",
          "L3H2",
          "L3H3",
          "L3H4",
          "L3H5",
          "L3H6",
          "L3H7",
          "L3H8",
          "L3H9",
          "L3H10",
          "L3H11",
          "L3H12",
          "L3H13",
          "L3H14",
          "L3H15",
          "L4H0",
          "L4H1",
          "L4H2",
          "L4H3",
          "L4H4",
          "L4H5",
          "L4H6",
          "L4H7",
          "L4H8",
          "L4H9",
          "L4H10",
          "L4H11",
          "L4H12",
          "L4H13",
          "L4H14",
          "L4H15",
          "L5H0",
          "L5H1",
          "L5H2",
          "L5H3",
          "L5H4",
          "L5H5",
          "L5H6",
          "L5H7",
          "L5H8",
          "L5H9",
          "L5H10",
          "L5H11",
          "L5H12",
          "L5H13",
          "L5H14",
          "L5H15",
          "L6H0",
          "L6H1",
          "L6H2",
          "L6H3",
          "L6H4",
          "L6H5",
          "L6H6",
          "L6H7",
          "L6H8",
          "L6H9",
          "L6H10",
          "L6H11",
          "L6H12",
          "L6H13",
          "L6H14",
          "L6H15",
          "L7H0",
          "L7H1",
          "L7H2",
          "L7H3",
          "L7H4",
          "L7H5",
          "L7H6",
          "L7H7",
          "L7H8",
          "L7H9",
          "L7H10",
          "L7H11",
          "L7H12",
          "L7H13",
          "L7H14",
          "L7H15",
          "L8H0",
          "L8H1",
          "L8H2",
          "L8H3",
          "L8H4",
          "L8H5",
          "L8H6",
          "L8H7",
          "L8H8",
          "L8H9",
          "L8H10",
          "L8H11",
          "L8H12",
          "L8H13",
          "L8H14",
          "L8H15",
          "L9H0",
          "L9H1",
          "L9H2",
          "L9H3",
          "L9H4",
          "L9H5",
          "L9H6",
          "L9H7",
          "L9H8",
          "L9H9",
          "L9H10",
          "L9H11",
          "L9H12",
          "L9H13",
          "L9H14",
          "L9H15",
          "L10H0",
          "L10H1",
          "L10H2",
          "L10H3",
          "L10H4",
          "L10H5",
          "L10H6",
          "L10H7",
          "L10H8",
          "L10H9",
          "L10H10",
          "L10H11",
          "L10H12",
          "L10H13",
          "L10H14",
          "L10H15",
          "L11H0",
          "L11H1",
          "L11H2",
          "L11H3",
          "L11H4",
          "L11H5",
          "L11H6",
          "L11H7",
          "L11H8",
          "L11H9",
          "L11H10",
          "L11H11",
          "L11H12",
          "L11H13",
          "L11H14",
          "L11H15",
          "L12H0",
          "L12H1",
          "L12H2",
          "L12H3",
          "L12H4",
          "L12H5",
          "L12H6",
          "L12H7",
          "L12H8",
          "L12H9",
          "L12H10",
          "L12H11",
          "L12H12",
          "L12H13",
          "L12H14",
          "L12H15",
          "L13H0",
          "L13H1",
          "L13H2",
          "L13H3",
          "L13H4",
          "L13H5",
          "L13H6",
          "L13H7",
          "L13H8",
          "L13H9",
          "L13H10",
          "L13H11",
          "L13H12",
          "L13H13",
          "L13H14",
          "L13H15",
          "L14H0",
          "L14H1",
          "L14H2",
          "L14H3",
          "L14H4",
          "L14H5",
          "L14H6",
          "L14H7",
          "L14H8",
          "L14H9",
          "L14H10",
          "L14H11",
          "L14H12",
          "L14H13",
          "L14H14",
          "L14H15",
          "L15H0",
          "L15H1",
          "L15H2",
          "L15H3",
          "L15H4",
          "L15H5",
          "L15H6",
          "L15H7",
          "L15H8",
          "L15H9",
          "L15H10",
          "L15H11",
          "L15H12",
          "L15H13",
          "L15H14",
          "L15H15",
          "L16H0",
          "L16H1",
          "L16H2",
          "L16H3",
          "L16H4",
          "L16H5",
          "L16H6",
          "L16H7",
          "L16H8",
          "L16H9",
          "L16H10",
          "L16H11",
          "L16H12",
          "L16H13",
          "L16H14",
          "L16H15",
          "L17H0",
          "L17H1",
          "L17H2",
          "L17H3",
          "L17H4",
          "L17H5",
          "L17H6",
          "L17H7",
          "L17H8",
          "L17H9",
          "L17H10",
          "L17H11",
          "L17H12",
          "L17H13",
          "L17H14",
          "L17H15",
          "L18H0",
          "L18H1",
          "L18H2",
          "L18H3",
          "L18H4",
          "L18H5",
          "L18H6",
          "L18H7",
          "L18H8",
          "L18H9",
          "L18H10",
          "L18H11",
          "L18H12",
          "L18H13",
          "L18H14",
          "L18H15",
          "L19H0",
          "L19H1",
          "L19H2",
          "L19H3",
          "L19H4",
          "L19H5",
          "L19H6",
          "L19H7",
          "L19H8",
          "L19H9",
          "L19H10",
          "L19H11",
          "L19H12",
          "L19H13",
          "L19H14",
          "L19H15",
          "L20H0",
          "L20H1",
          "L20H2",
          "L20H3",
          "L20H4",
          "L20H5",
          "L20H6",
          "L20H7",
          "L20H8",
          "L20H9",
          "L20H10",
          "L20H11",
          "L20H12",
          "L20H13",
          "L20H14",
          "L20H15",
          "L21H0",
          "L21H1",
          "L21H2",
          "L21H3",
          "L21H4",
          "L21H5",
          "L21H6",
          "L21H7",
          "L21H8",
          "L21H9",
          "L21H10",
          "L21H11",
          "L21H12",
          "L21H13",
          "L21H14",
          "L21H15",
          "L22H0",
          "L22H1",
          "L22H2",
          "L22H3",
          "L22H4",
          "L22H5",
          "L22H6",
          "L22H7",
          "L22H8",
          "L22H9",
          "L22H10",
          "L22H11",
          "L22H12",
          "L22H13",
          "L22H14",
          "L22H15",
          "L23H0",
          "L23H1",
          "L23H2",
          "L23H3",
          "L23H4",
          "L23H5",
          "L23H6",
          "L23H7",
          "L23H8",
          "L23H9",
          "L23H10",
          "L23H11",
          "L23H12",
          "L23H13",
          "L23H14",
          "L23H15",
          "L24H0",
          "L24H1",
          "L24H2",
          "L24H3",
          "L24H4",
          "L24H5",
          "L24H6",
          "L24H7",
          "L24H8",
          "L24H9",
          "L24H10",
          "L24H11",
          "L24H12",
          "L24H13",
          "L24H14",
          "L24H15",
          "L25H0",
          "L25H1",
          "L25H2",
          "L25H3",
          "L25H4",
          "L25H5",
          "L25H6",
          "L25H7",
          "L25H8",
          "L25H9",
          "L25H10",
          "L25H11",
          "L25H12",
          "L25H13",
          "L25H14",
          "L25H15",
          "L26H0",
          "L26H1",
          "L26H2",
          "L26H3",
          "L26H4",
          "L26H5",
          "L26H6",
          "L26H7",
          "L26H8",
          "L26H9",
          "L26H10",
          "L26H11",
          "L26H12",
          "L26H13",
          "L26H14",
          "L26H15",
          "L27H0",
          "L27H1",
          "L27H2",
          "L27H3",
          "L27H4",
          "L27H5",
          "L27H6",
          "L27H7",
          "L27H8",
          "L27H9",
          "L27H10",
          "L27H11",
          "L27H12",
          "L27H13",
          "L27H14",
          "L27H15"
         ],
         "yaxis": "y",
         "z": {
          "bdata": "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",
          "dtype": "f4",
          "shape": "448, 17"
         }
        }
       ],
       "layout": {
        "coloraxis": {
         "cmid": 0,
         "colorscale": [
          [
           0,
           "rgb(103,0,31)"
          ],
          [
           0.1,
           "rgb(178,24,43)"
          ],
          [
           0.2,
           "rgb(214,96,77)"
          ],
          [
           0.3,
           "rgb(244,165,130)"
          ],
          [
           0.4,
           "rgb(253,219,199)"
          ],
          [
           0.5,
           "rgb(247,247,247)"
          ],
          [
           0.6,
           "rgb(209,229,240)"
          ],
          [
           0.7,
           "rgb(146,197,222)"
          ],
          [
           0.8,
           "rgb(67,147,195)"
          ],
          [
           0.9,
           "rgb(33,102,172)"
          ],
          [
           1,
           "rgb(5,48,97)"
          ]
         ]
        },
        "height": 1200,
        "template": {
         "data": {
          "bar": [
           {
            "error_x": {
             "color": "#2a3f5f"
            },
            "error_y": {
             "color": "#2a3f5f"
            },
            "marker": {
             "line": {
              "color": "#E5ECF6",
              "width": 0.5
             },
             "pattern": {
              "fillmode": "overlay",
              "size": 10,
              "solidity": 0.2
             }
            },
            "type": "bar"
           }
          ],
          "barpolar": [
           {
            "marker": {
             "line": {
              "color": "#E5ECF6",
              "width": 0.5
             },
             "pattern": {
              "fillmode": "overlay",
              "size": 10,
              "solidity": 0.2
             }
            },
            "type": "barpolar"
           }
          ],
          "carpet": [
           {
            "aaxis": {
             "endlinecolor": "#2a3f5f",
             "gridcolor": "white",
             "linecolor": "white",
             "minorgridcolor": "white",
             "startlinecolor": "#2a3f5f"
            },
            "baxis": {
             "endlinecolor": "#2a3f5f",
             "gridcolor": "white",
             "linecolor": "white",
             "minorgridcolor": "white",
             "startlinecolor": "#2a3f5f"
            },
            "type": "carpet"
           }
          ],
          "choropleth": [
           {
            "colorbar": {
             "outlinewidth": 0,
             "ticks": ""
            },
            "type": "choropleth"
           }
          ],
          "contour": [
           {
            "colorbar": {
             "outlinewidth": 0,
             "ticks": ""
            },
            "colorscale": [
             [
              0,
              "#0d0887"
             ],
             [
              0.1111111111111111,
              "#46039f"
             ],
             [
              0.2222222222222222,
              "#7201a8"
             ],
             [
              0.3333333333333333,
              "#9c179e"
             ],
             [
              0.4444444444444444,
              "#bd3786"
             ],
             [
              0.5555555555555556,
              "#d8576b"
             ],
             [
              0.6666666666666666,
              "#ed7953"
             ],
             [
              0.7777777777777778,
              "#fb9f3a"
             ],
             [
              0.8888888888888888,
              "#fdca26"
             ],
             [
              1,
              "#f0f921"
             ]
            ],
            "type": "contour"
           }
          ],
          "contourcarpet": [
           {
            "colorbar": {
             "outlinewidth": 0,
             "ticks": ""
            },
            "type": "contourcarpet"
           }
          ],
          "heatmap": [
           {
            "colorbar": {
             "outlinewidth": 0,
             "ticks": ""
            },
            "colorscale": [
             [
              0,
              "#0d0887"
             ],
             [
              0.1111111111111111,
              "#46039f"
             ],
             [
              0.2222222222222222,
              "#7201a8"
             ],
             [
              0.3333333333333333,
              "#9c179e"
             ],
             [
              0.4444444444444444,
              "#bd3786"
             ],
             [
              0.5555555555555556,
              "#d8576b"
             ],
             [
              0.6666666666666666,
              "#ed7953"
             ],
             [
              0.7777777777777778,
              "#fb9f3a"
             ],
             [
              0.8888888888888888,
              "#fdca26"
             ],
             [
              1,
              "#f0f921"
             ]
            ],
            "type": "heatmap"
           }
          ],
          "histogram": [
           {
            "marker": {
             "pattern": {
              "fillmode": "overlay",
              "size": 10,
              "solidity": 0.2
             }
            },
            "type": "histogram"
           }
          ],
          "histogram2d": [
           {
            "colorbar": {
             "outlinewidth": 0,
             "ticks": ""
            },
            "colorscale": [
             [
              0,
              "#0d0887"
             ],
             [
              0.1111111111111111,
              "#46039f"
             ],
             [
              0.2222222222222222,
              "#7201a8"
             ],
             [
              0.3333333333333333,
              "#9c179e"
             ],
             [
              0.4444444444444444,
              "#bd3786"
             ],
             [
              0.5555555555555556,
              "#d8576b"
             ],
             [
              0.6666666666666666,
              "#ed7953"
             ],
             [
              0.7777777777777778,
              "#fb9f3a"
             ],
             [
              0.8888888888888888,
              "#fdca26"
             ],
             [
              1,
              "#f0f921"
             ]
            ],
            "type": "histogram2d"
           }
          ],
          "histogram2dcontour": [
           {
            "colorbar": {
             "outlinewidth": 0,
             "ticks": ""
            },
            "colorscale": [
             [
              0,
              "#0d0887"
             ],
             [
              0.1111111111111111,
              "#46039f"
             ],
             [
              0.2222222222222222,
              "#7201a8"
             ],
             [
              0.3333333333333333,
              "#9c179e"
             ],
             [
              0.4444444444444444,
              "#bd3786"
             ],
             [
              0.5555555555555556,
              "#d8576b"
             ],
             [
              0.6666666666666666,
              "#ed7953"
             ],
             [
              0.7777777777777778,
              "#fb9f3a"
             ],
             [
              0.8888888888888888,
              "#fdca26"
             ],
             [
              1,
              "#f0f921"
             ]
            ],
            "type": "histogram2dcontour"
           }
          ],
          "mesh3d": [
           {
            "colorbar": {
             "outlinewidth": 0,
             "ticks": ""
            },
            "type": "mesh3d"
           }
          ],
          "parcoords": [
           {
            "line": {
             "colorbar": {
              "outlinewidth": 0,
              "ticks": ""
             }
            },
            "type": "parcoords"
           }
          ],
          "pie": [
           {
            "automargin": true,
            "type": "pie"
           }
          ],
          "scatter": [
           {
            "fillpattern": {
             "fillmode": "overlay",
             "size": 10,
             "solidity": 0.2
            },
            "type": "scatter"
           }
          ],
          "scatter3d": [
           {
            "line": {
             "colorbar": {
              "outlinewidth": 0,
              "ticks": ""
             }
            },
            "marker": {
             "colorbar": {
              "outlinewidth": 0,
              "ticks": ""
             }
            },
            "type": "scatter3d"
           }
          ],
          "scattercarpet": [
           {
            "marker": {
             "colorbar": {
              "outlinewidth": 0,
              "ticks": ""
             }
            },
            "type": "scattercarpet"
           }
          ],
          "scattergeo": [
           {
            "marker": {
             "colorbar": {
              "outlinewidth": 0,
              "ticks": ""
             }
            },
            "type": "scattergeo"
           }
          ],
          "scattergl": [
           {
            "marker": {
             "colorbar": {
              "outlinewidth": 0,
              "ticks": ""
             }
            },
            "type": "scattergl"
           }
          ],
          "scattermap": [
           {
            "marker": {
             "colorbar": {
              "outlinewidth": 0,
              "ticks": ""
             }
            },
            "type": "scattermap"
           }
          ],
          "scattermapbox": [
           {
            "marker": {
             "colorbar": {
              "outlinewidth": 0,
              "ticks": ""
             }
            },
            "type": "scattermapbox"
           }
          ],
          "scatterpolar": [
           {
            "marker": {
             "colorbar": {
              "outlinewidth": 0,
              "ticks": ""
             }
            },
            "type": "scatterpolar"
           }
          ],
          "scatterpolargl": [
           {
            "marker": {
             "colorbar": {
              "outlinewidth": 0,
              "ticks": ""
             }
            },
            "type": "scatterpolargl"
           }
          ],
          "scatterternary": [
           {
            "marker": {
             "colorbar": {
              "outlinewidth": 0,
              "ticks": ""
             }
            },
            "type": "scatterternary"
           }
          ],
          "surface": [
           {
            "colorbar": {
             "outlinewidth": 0,
             "ticks": ""
            },
            "colorscale": [
             [
              0,
              "#0d0887"
             ],
             [
              0.1111111111111111,
              "#46039f"
             ],
             [
              0.2222222222222222,
              "#7201a8"
             ],
             [
              0.3333333333333333,
              "#9c179e"
             ],
             [
              0.4444444444444444,
              "#bd3786"
             ],
             [
              0.5555555555555556,
              "#d8576b"
             ],
             [
              0.6666666666666666,
              "#ed7953"
             ],
             [
              0.7777777777777778,
              "#fb9f3a"
             ],
             [
              0.8888888888888888,
              "#fdca26"
             ],
             [
              1,
              "#f0f921"
             ]
            ],
            "type": "surface"
           }
          ],
          "table": [
           {
            "cells": {
             "fill": {
              "color": "#EBF0F8"
             },
             "line": {
              "color": "white"
             }
            },
            "header": {
             "fill": {
              "color": "#C8D4E3"
             },
             "line": {
              "color": "white"
             }
            },
            "type": "table"
           }
          ]
         },
         "layout": {
          "annotationdefaults": {
           "arrowcolor": "#2a3f5f",
           "arrowhead": 0,
           "arrowwidth": 1
          },
          "autotypenumbers": "strict",
          "coloraxis": {
           "colorbar": {
            "outlinewidth": 0,
            "ticks": ""
           }
          },
          "colorscale": {
           "diverging": [
            [
             0,
             "#8e0152"
            ],
            [
             0.1,
             "#c51b7d"
            ],
            [
             0.2,
             "#de77ae"
            ],
            [
             0.3,
             "#f1b6da"
            ],
            [
             0.4,
             "#fde0ef"
            ],
            [
             0.5,
             "#f7f7f7"
            ],
            [
             0.6,
             "#e6f5d0"
            ],
            [
             0.7,
             "#b8e186"
            ],
            [
             0.8,
             "#7fbc41"
            ],
            [
             0.9,
             "#4d9221"
            ],
            [
             1,
             "#276419"
            ]
           ],
           "sequential": [
            [
             0,
             "#0d0887"
            ],
            [
             0.1111111111111111,
             "#46039f"
            ],
            [
             0.2222222222222222,
             "#7201a8"
            ],
            [
             0.3333333333333333,
             "#9c179e"
            ],
            [
             0.4444444444444444,
             "#bd3786"
            ],
            [
             0.5555555555555556,
             "#d8576b"
            ],
            [
             0.6666666666666666,
             "#ed7953"
            ],
            [
             0.7777777777777778,
             "#fb9f3a"
            ],
            [
             0.8888888888888888,
             "#fdca26"
            ],
            [
             1,
             "#f0f921"
            ]
           ],
           "sequentialminus": [
            [
             0,
             "#0d0887"
            ],
            [
             0.1111111111111111,
             "#46039f"
            ],
            [
             0.2222222222222222,
             "#7201a8"
            ],
            [
             0.3333333333333333,
             "#9c179e"
            ],
            [
             0.4444444444444444,
             "#bd3786"
            ],
            [
             0.5555555555555556,
             "#d8576b"
            ],
            [
             0.6666666666666666,
             "#ed7953"
            ],
            [
             0.7777777777777778,
             "#fb9f3a"
            ],
            [
             0.8888888888888888,
             "#fdca26"
            ],
            [
             1,
             "#f0f921"
            ]
           ]
          },
          "colorway": [
           "#636efa",
           "#EF553B",
           "#00cc96",
           "#ab63fa",
           "#FFA15A",
           "#19d3f3",
           "#FF6692",
           "#B6E880",
           "#FF97FF",
           "#FECB52"
          ],
          "font": {
           "color": "#2a3f5f"
          },
          "geo": {
           "bgcolor": "white",
           "lakecolor": "white",
           "landcolor": "#E5ECF6",
           "showlakes": true,
           "showland": true,
           "subunitcolor": "white"
          },
          "hoverlabel": {
           "align": "left"
          },
          "hovermode": "closest",
          "mapbox": {
           "style": "light"
          },
          "paper_bgcolor": "white",
          "plot_bgcolor": "#E5ECF6",
          "polar": {
           "angularaxis": {
            "gridcolor": "white",
            "linecolor": "white",
            "ticks": ""
           },
           "bgcolor": "#E5ECF6",
           "radialaxis": {
            "gridcolor": "white",
            "linecolor": "white",
            "ticks": ""
           }
          },
          "scene": {
           "xaxis": {
            "backgroundcolor": "#E5ECF6",
            "gridcolor": "white",
            "gridwidth": 2,
            "linecolor": "white",
            "showbackground": true,
            "ticks": "",
            "zerolinecolor": "white"
           },
           "yaxis": {
            "backgroundcolor": "#E5ECF6",
            "gridcolor": "white",
            "gridwidth": 2,
            "linecolor": "white",
            "showbackground": true,
            "ticks": "",
            "zerolinecolor": "white"
           },
           "zaxis": {
            "backgroundcolor": "#E5ECF6",
            "gridcolor": "white",
            "gridwidth": 2,
            "linecolor": "white",
            "showbackground": true,
            "ticks": "",
            "zerolinecolor": "white"
           }
          },
          "shapedefaults": {
           "line": {
            "color": "#2a3f5f"
           }
          },
          "ternary": {
           "aaxis": {
            "gridcolor": "white",
            "linecolor": "white",
            "ticks": ""
           },
           "baxis": {
            "gridcolor": "white",
            "linecolor": "white",
            "ticks": ""
           },
           "bgcolor": "#E5ECF6",
           "caxis": {
            "gridcolor": "white",
            "linecolor": "white",
            "ticks": ""
           }
          },
          "title": {
           "x": 0.05
          },
          "xaxis": {
           "automargin": true,
           "gridcolor": "white",
           "linecolor": "white",
           "ticks": "",
           "title": {
            "standoff": 15
           },
           "zerolinecolor": "white",
           "zerolinewidth": 2
          },
          "yaxis": {
           "automargin": true,
           "gridcolor": "white",
           "linecolor": "white",
           "ticks": "",
           "title": {
            "standoff": 15
           },
           "zerolinecolor": "white",
           "zerolinewidth": 2
          }
         }
        },
        "title": {
         "text": "attn_head_out Activation Patching By Pos"
        },
        "xaxis": {
         "anchor": "y",
         "domain": [
          0,
          1
         ],
         "title": {
          "text": "Pos"
         }
        },
        "yaxis": {
         "anchor": "x",
         "autorange": "reversed",
         "domain": [
          0,
          1
         ],
         "title": {
          "text": "Head Label"
         }
        }
       }
      },
      "image/png": "[encoded data removed]"
     },
     "metadata": {},
     "output_type": "display_data"
    }
   ],
   "source": [
    "ALL_HEAD_LABELS = [f\"L{i}H{j}\" for i in range(model.cfg.n_layers) for j in range(model.cfg.n_heads)]\n",
    "# Create a list of labels for the x-axis\n",
    "str_tokens = model.to_str_tokens(clean_tokens)\n",
    "x_labels = [f\"{tok} {i}\" for i, tok in enumerate(str_tokens)]\n",
    "attn_head_out_act_patch_results = einops.rearrange(patching_results_by_head, \"layer pos head -> (layer head) pos\")\n",
    "imshow(attn_head_out_act_patch_results, \n",
    "        yaxis=\"Head Label\", \n",
    "        xaxis=\"Pos\",\n",
    "        height=1200,\n",
    "        x=[f\"{tok} {i}\" for i, tok in enumerate(model.to_str_tokens(clean_tokens))],\n",
    "        y=ALL_HEAD_LABELS,\n",
    "        title=\"attn_head_out Activation Patching By Pos\")"
   ]
  },
  {
   "cell_type": "code",
   "execution_count": 169,
   "id": "1d69e6bc-9fe2-4893-980e-8c72f582ddaa",
   "metadata": {},
   "outputs": [],
   "source": [
    "from typing import Union, List, Optional\n",
    "from transformer_lens import ActivationCache"
   ]
  },
  {
   "cell_type": "code",
   "execution_count": 184,
   "id": "9972f44e-4917-4d34-b366-95a6766525fa",
   "metadata": {},
   "outputs": [],
   "source": [
    "def patch_head_vector(\n",
    "    corrupted_head_vector: Float[torch.Tensor, \"batch pos head_index d_head\"],\n",
    "    hook,\n",
    "    head_index,\n",
    "    clean_cache,\n",
    "):\n",
    "    corrupted_head_vector[:, :, head_index, :] = clean_cache[hook.name][\n",
    "        :, :, head_index, :\n",
    "    ]\n",
    "    return corrupted_head_vector\n",
    "\n",
    "\n",
    "patched_head_z_diff = torch.zeros(\n",
    "    model.cfg.n_layers, model.cfg.n_heads, device='cuda', dtype=torch.float32\n",
    ")\n",
    "\n",
    "hook_fn = partial(corrupt_embedding_hook,\n",
    "                          subject_token_indices=subject_token_indices,\n",
    "                          seed=22)\n",
    "for layer in range(9):\n",
    "    for head_index in range(model.cfg.n_heads):\n",
    "        \n",
    "        attn_hook_fn = partial(patch_head_vector, head_index=head_index, clean_cache=clean_cache)\n",
    "        patched_logits = model.run_with_hooks(\n",
    "            clean_tokens,\n",
    "            fwd_hooks=[(utils.get_act_name(\"embed\"), hook_fn), (utils.get_act_name(\"z\", layer, \"attn\"), attn_hook_fn)],\n",
    "            return_type=\"logits\",\n",
    "        )\n",
    "        patched_logit_diff = causal_tracing_metric(patched_logits)\n",
    "\n",
    "        patched_head_z_diff[layer, head_index] = patched_logit_diff"
   ]
  },
  {
   "cell_type": "code",
   "execution_count": 186,
   "id": "9ffc8b33-65d3-42e8-b3e3-8fc194aeaa76",
   "metadata": {},
   "outputs": [
    {
     "data": {
      "application/vnd.plotly.v1+json": {
       "config": {
        "plotlyServerURL": "https://plot.ly"
       },
       "data": [
        {
         "coloraxis": "coloraxis",
         "hovertemplate": "Head: %{x}<br>Layer: %{y}<br>color: %{z}<extra></extra>",
         "name": "0",
         "type": "heatmap",
         "xaxis": "x",
         "yaxis": "y",
         "z": {
          "bdata": "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",
          "dtype": "f4",
          "shape": "28, 16"
         }
        }
       ],
       "layout": {
        "coloraxis": {
         "cmid": 0,
         "colorscale": [
          [
           0,
           "rgb(103,0,31)"
          ],
          [
           0.1,
           "rgb(178,24,43)"
          ],
          [
           0.2,
           "rgb(214,96,77)"
          ],
          [
           0.3,
           "rgb(244,165,130)"
          ],
          [
           0.4,
           "rgb(253,219,199)"
          ],
          [
           0.5,
           "rgb(247,247,247)"
          ],
          [
           0.6,
           "rgb(209,229,240)"
          ],
          [
           0.7,
           "rgb(146,197,222)"
          ],
          [
           0.8,
           "rgb(67,147,195)"
          ],
          [
           0.9,
           "rgb(33,102,172)"
          ],
          [
           1,
           "rgb(5,48,97)"
          ]
         ]
        },
        "template": {
         "data": {
          "bar": [
           {
            "error_x": {
             "color": "#2a3f5f"
            },
            "error_y": {
             "color": "#2a3f5f"
            },
            "marker": {
             "line": {
              "color": "#E5ECF6",
              "width": 0.5
             },
             "pattern": {
              "fillmode": "overlay",
              "size": 10,
              "solidity": 0.2
             }
            },
            "type": "bar"
           }
          ],
          "barpolar": [
           {
            "marker": {
             "line": {
              "color": "#E5ECF6",
              "width": 0.5
             },
             "pattern": {
              "fillmode": "overlay",
              "size": 10,
              "solidity": 0.2
             }
            },
            "type": "barpolar"
           }
          ],
          "carpet": [
           {
            "aaxis": {
             "endlinecolor": "#2a3f5f",
             "gridcolor": "white",
             "linecolor": "white",
             "minorgridcolor": "white",
             "startlinecolor": "#2a3f5f"
            },
            "baxis": {
             "endlinecolor": "#2a3f5f",
             "gridcolor": "white",
             "linecolor": "white",
             "minorgridcolor": "white",
             "startlinecolor": "#2a3f5f"
            },
            "type": "carpet"
           }
          ],
          "choropleth": [
           {
            "colorbar": {
             "outlinewidth": 0,
             "ticks": ""
            },
            "type": "choropleth"
           }
          ],
          "contour": [
           {
            "colorbar": {
             "outlinewidth": 0,
             "ticks": ""
            },
            "colorscale": [
             [
              0,
              "#0d0887"
             ],
             [
              0.1111111111111111,
              "#46039f"
             ],
             [
              0.2222222222222222,
              "#7201a8"
             ],
             [
              0.3333333333333333,
              "#9c179e"
             ],
             [
              0.4444444444444444,
              "#bd3786"
             ],
             [
              0.5555555555555556,
              "#d8576b"
             ],
             [
              0.6666666666666666,
              "#ed7953"
             ],
             [
              0.7777777777777778,
              "#fb9f3a"
             ],
             [
              0.8888888888888888,
              "#fdca26"
             ],
             [
              1,
              "#f0f921"
             ]
            ],
            "type": "contour"
           }
          ],
          "contourcarpet": [
           {
            "colorbar": {
             "outlinewidth": 0,
             "ticks": ""
            },
            "type": "contourcarpet"
           }
          ],
          "heatmap": [
           {
            "colorbar": {
             "outlinewidth": 0,
             "ticks": ""
            },
            "colorscale": [
             [
              0,
              "#0d0887"
             ],
             [
              0.1111111111111111,
              "#46039f"
             ],
             [
              0.2222222222222222,
              "#7201a8"
             ],
             [
              0.3333333333333333,
              "#9c179e"
             ],
             [
              0.4444444444444444,
              "#bd3786"
             ],
             [
              0.5555555555555556,
              "#d8576b"
             ],
             [
              0.6666666666666666,
              "#ed7953"
             ],
             [
              0.7777777777777778,
              "#fb9f3a"
             ],
             [
              0.8888888888888888,
              "#fdca26"
             ],
             [
              1,
              "#f0f921"
             ]
            ],
            "type": "heatmap"
           }
          ],
          "histogram": [
           {
            "marker": {
             "pattern": {
              "fillmode": "overlay",
              "size": 10,
              "solidity": 0.2
             }
            },
            "type": "histogram"
           }
          ],
          "histogram2d": [
           {
            "colorbar": {
             "outlinewidth": 0,
             "ticks": ""
            },
            "colorscale": [
             [
              0,
              "#0d0887"
             ],
             [
              0.1111111111111111,
              "#46039f"
             ],
             [
              0.2222222222222222,
              "#7201a8"
             ],
             [
              0.3333333333333333,
              "#9c179e"
             ],
             [
              0.4444444444444444,
              "#bd3786"
             ],
             [
              0.5555555555555556,
              "#d8576b"
             ],
             [
              0.6666666666666666,
              "#ed7953"
             ],
             [
              0.7777777777777778,
              "#fb9f3a"
             ],
             [
              0.8888888888888888,
              "#fdca26"
             ],
             [
              1,
              "#f0f921"
             ]
            ],
            "type": "histogram2d"
           }
          ],
          "histogram2dcontour": [
           {
            "colorbar": {
             "outlinewidth": 0,
             "ticks": ""
            },
            "colorscale": [
             [
              0,
              "#0d0887"
             ],
             [
              0.1111111111111111,
              "#46039f"
             ],
             [
              0.2222222222222222,
              "#7201a8"
             ],
             [
              0.3333333333333333,
              "#9c179e"
             ],
             [
              0.4444444444444444,
              "#bd3786"
             ],
             [
              0.5555555555555556,
              "#d8576b"
             ],
             [
              0.6666666666666666,
              "#ed7953"
             ],
             [
              0.7777777777777778,
              "#fb9f3a"
             ],
             [
              0.8888888888888888,
              "#fdca26"
             ],
             [
              1,
              "#f0f921"
             ]
            ],
            "type": "histogram2dcontour"
           }
          ],
          "mesh3d": [
           {
            "colorbar": {
             "outlinewidth": 0,
             "ticks": ""
            },
            "type": "mesh3d"
           }
          ],
          "parcoords": [
           {
            "line": {
             "colorbar": {
              "outlinewidth": 0,
              "ticks": ""
             }
            },
            "type": "parcoords"
           }
          ],
          "pie": [
           {
            "automargin": true,
            "type": "pie"
           }
          ],
          "scatter": [
           {
            "fillpattern": {
             "fillmode": "overlay",
             "size": 10,
             "solidity": 0.2
            },
            "type": "scatter"
           }
          ],
          "scatter3d": [
           {
            "line": {
             "colorbar": {
              "outlinewidth": 0,
              "ticks": ""
             }
            },
            "marker": {
             "colorbar": {
              "outlinewidth": 0,
              "ticks": ""
             }
            },
            "type": "scatter3d"
           }
          ],
          "scattercarpet": [
           {
            "marker": {
             "colorbar": {
              "outlinewidth": 0,
              "ticks": ""
             }
            },
            "type": "scattercarpet"
           }
          ],
          "scattergeo": [
           {
            "marker": {
             "colorbar": {
              "outlinewidth": 0,
              "ticks": ""
             }
            },
            "type": "scattergeo"
           }
          ],
          "scattergl": [
           {
            "marker": {
             "colorbar": {
              "outlinewidth": 0,
              "ticks": ""
             }
            },
            "type": "scattergl"
           }
          ],
          "scattermap": [
           {
            "marker": {
             "colorbar": {
              "outlinewidth": 0,
              "ticks": ""
             }
            },
            "type": "scattermap"
           }
          ],
          "scattermapbox": [
           {
            "marker": {
             "colorbar": {
              "outlinewidth": 0,
              "ticks": ""
             }
            },
            "type": "scattermapbox"
           }
          ],
          "scatterpolar": [
           {
            "marker": {
             "colorbar": {
              "outlinewidth": 0,
              "ticks": ""
             }
            },
            "type": "scatterpolar"
           }
          ],
          "scatterpolargl": [
           {
            "marker": {
             "colorbar": {
              "outlinewidth": 0,
              "ticks": ""
             }
            },
            "type": "scatterpolargl"
           }
          ],
          "scatterternary": [
           {
            "marker": {
             "colorbar": {
              "outlinewidth": 0,
              "ticks": ""
             }
            },
            "type": "scatterternary"
           }
          ],
          "surface": [
           {
            "colorbar": {
             "outlinewidth": 0,
             "ticks": ""
            },
            "colorscale": [
             [
              0,
              "#0d0887"
             ],
             [
              0.1111111111111111,
              "#46039f"
             ],
             [
              0.2222222222222222,
              "#7201a8"
             ],
             [
              0.3333333333333333,
              "#9c179e"
             ],
             [
              0.4444444444444444,
              "#bd3786"
             ],
             [
              0.5555555555555556,
              "#d8576b"
             ],
             [
              0.6666666666666666,
              "#ed7953"
             ],
             [
              0.7777777777777778,
              "#fb9f3a"
             ],
             [
              0.8888888888888888,
              "#fdca26"
             ],
             [
              1,
              "#f0f921"
             ]
            ],
            "type": "surface"
           }
          ],
          "table": [
           {
            "cells": {
             "fill": {
              "color": "#EBF0F8"
             },
             "line": {
              "color": "white"
             }
            },
            "header": {
             "fill": {
              "color": "#C8D4E3"
             },
             "line": {
              "color": "white"
             }
            },
            "type": "table"
           }
          ]
         },
         "layout": {
          "annotationdefaults": {
           "arrowcolor": "#2a3f5f",
           "arrowhead": 0,
           "arrowwidth": 1
          },
          "autotypenumbers": "strict",
          "coloraxis": {
           "colorbar": {
            "outlinewidth": 0,
            "ticks": ""
           }
          },
          "colorscale": {
           "diverging": [
            [
             0,
             "#8e0152"
            ],
            [
             0.1,
             "#c51b7d"
            ],
            [
             0.2,
             "#de77ae"
            ],
            [
             0.3,
             "#f1b6da"
            ],
            [
             0.4,
             "#fde0ef"
            ],
            [
             0.5,
             "#f7f7f7"
            ],
            [
             0.6,
             "#e6f5d0"
            ],
            [
             0.7,
             "#b8e186"
            ],
            [
             0.8,
             "#7fbc41"
            ],
            [
             0.9,
             "#4d9221"
            ],
            [
             1,
             "#276419"
            ]
           ],
           "sequential": [
            [
             0,
             "#0d0887"
            ],
            [
             0.1111111111111111,
             "#46039f"
            ],
            [
             0.2222222222222222,
             "#7201a8"
            ],
            [
             0.3333333333333333,
             "#9c179e"
            ],
            [
             0.4444444444444444,
             "#bd3786"
            ],
            [
             0.5555555555555556,
             "#d8576b"
            ],
            [
             0.6666666666666666,
             "#ed7953"
            ],
            [
             0.7777777777777778,
             "#fb9f3a"
            ],
            [
             0.8888888888888888,
             "#fdca26"
            ],
            [
             1,
             "#f0f921"
            ]
           ],
           "sequentialminus": [
            [
             0,
             "#0d0887"
            ],
            [
             0.1111111111111111,
             "#46039f"
            ],
            [
             0.2222222222222222,
             "#7201a8"
            ],
            [
             0.3333333333333333,
             "#9c179e"
            ],
            [
             0.4444444444444444,
             "#bd3786"
            ],
            [
             0.5555555555555556,
             "#d8576b"
            ],
            [
             0.6666666666666666,
             "#ed7953"
            ],
            [
             0.7777777777777778,
             "#fb9f3a"
            ],
            [
             0.8888888888888888,
             "#fdca26"
            ],
            [
             1,
             "#f0f921"
            ]
           ]
          },
          "colorway": [
           "#636efa",
           "#EF553B",
           "#00cc96",
           "#ab63fa",
           "#FFA15A",
           "#19d3f3",
           "#FF6692",
           "#B6E880",
           "#FF97FF",
           "#FECB52"
          ],
          "font": {
           "color": "#2a3f5f"
          },
          "geo": {
           "bgcolor": "white",
           "lakecolor": "white",
           "landcolor": "#E5ECF6",
           "showlakes": true,
           "showland": true,
           "subunitcolor": "white"
          },
          "hoverlabel": {
           "align": "left"
          },
          "hovermode": "closest",
          "mapbox": {
           "style": "light"
          },
          "paper_bgcolor": "white",
          "plot_bgcolor": "#E5ECF6",
          "polar": {
           "angularaxis": {
            "gridcolor": "white",
            "linecolor": "white",
            "ticks": ""
           },
           "bgcolor": "#E5ECF6",
           "radialaxis": {
            "gridcolor": "white",
            "linecolor": "white",
            "ticks": ""
           }
          },
          "scene": {
           "xaxis": {
            "backgroundcolor": "#E5ECF6",
            "gridcolor": "white",
            "gridwidth": 2,
            "linecolor": "white",
            "showbackground": true,
            "ticks": "",
            "zerolinecolor": "white"
           },
           "yaxis": {
            "backgroundcolor": "#E5ECF6",
            "gridcolor": "white",
            "gridwidth": 2,
            "linecolor": "white",
            "showbackground": true,
            "ticks": "",
            "zerolinecolor": "white"
           },
           "zaxis": {
            "backgroundcolor": "#E5ECF6",
            "gridcolor": "white",
            "gridwidth": 2,
            "linecolor": "white",
            "showbackground": true,
            "ticks": "",
            "zerolinecolor": "white"
           }
          },
          "shapedefaults": {
           "line": {
            "color": "#2a3f5f"
           }
          },
          "ternary": {
           "aaxis": {
            "gridcolor": "white",
            "linecolor": "white",
            "ticks": ""
           },
           "baxis": {
            "gridcolor": "white",
            "linecolor": "white",
            "ticks": ""
           },
           "bgcolor": "#E5ECF6",
           "caxis": {
            "gridcolor": "white",
            "linecolor": "white",
            "ticks": ""
           }
          },
          "title": {
           "x": 0.05
          },
          "xaxis": {
           "automargin": true,
           "gridcolor": "white",
           "linecolor": "white",
           "ticks": "",
           "title": {
            "standoff": 15
           },
           "zerolinecolor": "white",
           "zerolinewidth": 2
          },
          "yaxis": {
           "automargin": true,
           "gridcolor": "white",
           "linecolor": "white",
           "ticks": "",
           "title": {
            "standoff": 15
           },
           "zerolinecolor": "white",
           "zerolinewidth": 2
          }
         }
        },
        "title": {
         "text": "Logit Difference From Patched Head Output"
        },
        "xaxis": {
         "anchor": "y",
         "domain": [
          0,
          1
         ],
         "title": {
          "text": "x"
         }
        },
        "yaxis": {
         "anchor": "x",
         "autorange": "reversed",
         "domain": [
          0,
          1
         ],
         "title": {
          "text": "y"
         }
        }
       }
      },
      "image/png": "[encoded data removed]"
     },
     "metadata": {},
     "output_type": "display_data"
    }
   ],
   "source": [
    "imshow(\n",
    "    patched_head_z_diff,\n",
    "    title=\"Logit Difference From Patched Head Output\",\n",
    "    labels={\"x\": \"Head\", \"y\": \"Layer\"},\n",
    ")"
   ]
  },
  {
   "cell_type": "code",
   "execution_count": 158,
   "id": "64690e18-6433-47c9-8a66-ff3468412f9f",
   "metadata": {},
   "outputs": [
    {
     "data": {
      "application/vnd.plotly.v1+json": {
       "config": {
        "plotlyServerURL": "https://plot.ly"
       },
       "data": [
        {
         "coloraxis": "coloraxis",
         "hovertemplate": "Source Position: %{x}<br>Destination Position: %{y}<br>Metric Value: %{z}<extra></extra>",
         "name": "0",
         "type": "heatmap",
         "x": [
          "<think>",
          "\n",
          "I",
          " recall",
          " the",
          " capital",
          " of",
          " Canada",
          " is",
          " Ottawa",
          "\n",
          "</think>",
          "\n",
          "Capital",
          " of",
          " Canada",
          " is",
          " "
         ],
         "xaxis": "x",
         "y": [
          "<think>",
          "\n",
          "I",
          " recall",
          " the",
          " capital",
          " of",
          " Canada",
          " is",
          " Ottawa",
          "\n",
          "</think>",
          "\n",
          "Capital",
          " of",
          " Canada",
          " is",
          " "
         ],
         "yaxis": "y",
         "z": {
          "bdata": "Pra3uj62t7o+tre6Pra3uj62t7o+tre6Pra3uj62t7o+tre6Pra3uj62t7o+tre6Pra3uj62t7o+tre6Pra3uj62t7o+tre6Pra3uj62t7o+tre6Pra3uj62t7o+tre6Pra3uj62t7o+tre6Pra3uj62t7o+tre6Pra3uj62t7o+tre6Pra3uj62t7o+tre6Pra3uj62t7o+tre6Pra3uj62t7o+tre6Pra3uj62t7o+tre6Pra3uj62t7o+tre6Pra3uj62t7o+tre6Pra3uj62t7o+tre6Pra3uj62t7o+tre6Pra3uj62t7o+tre6Pra3uj62t7o+tre6Pra3uj62t7o+tre6Pra3uj62t7o+tre6Pra3uj62t7o+tre6Pra3uj62t7o+tre6Pra3uj62t7o+tre6Pra3uj62t7o+tre6Pra3uj62t7o+tre6Pra3uj62t7o+tre6Pra3uj62t7o+tre6Pra3uj62t7o+tre6Pra3uj62t7o+tre6Pra3uj62t7o+tre6Pra3uj62t7o+tre6Pra3uj62t7o+tre6Pra3uj62t7o+tre6Pra3uj62t7o+tre6Pra3uj62t7o+tre6Pra3uj62t7o+tre6Pra3uj62t7o+tre6Pra3uj62t7o+tre6Pra3uj62t7o+tre6AyW5uj62t7q1gLm6ocG6umbcubpSybi6tYC5uj62t7o+tre6Pra3uj62t7o+tre6Pra3uj62t7o+tre6Pra3uj62t7o+tre68BG4uiqjtroDJbm6Pra3uvBlurrwZbq6Pra3uj8Kuro+tre6Pra3uj62t7o+tre6Pra3uj62t7o+tre6Pra3uj62t7o+tre6AyW5umbcubo+tre6Pwq6uheQtboEebu6Zty5umbcubqNWre68BG4uj62t7o+tre6Pra3uj62t7o+tre6Pra3uj62t7o+tre63P62uvBlurp677q6jVq3usnnvLo/Crq63P62ugMlubqNWre6Pra3uj8Kuro+tre6Pra3uj62t7o+tre6Pra3uj62t7o+tre6Pra3uvARuLo+tre68BG4unrvurqhbbi6Pra3urXUu7oXOLq6tYC5ulLJuLq02LS6Pra3uj62t7o+tre6Pra3uj62t7o+tre6Usm4uo1at7o+tre68BG4ulMdu7o+tre6Pra3uvARuLqNWre6Pra3uvARuLo/Crq68BG4uj62t7o+tre6Pra3uj62t7o+tre6tYC5unrvurpm3Lm6Pra3uvARuLplNLW6Pra3uvARuLrc/ra6yZO6ulLJuLrwZbq6Ux27unrvuro+tre6Pra3uj62t7o+tre6F5C1uj62t7o+tre6Fzi6uj62t7rwEbi6Pra3uj62t7oXOLq68BG4uqFtuLoXOLq6tYC5uhc4urrwEbi6Pra3uj62t7o+tre6ocG6ugMlubqiFb26Pra3ulLJuLoDJbm6Ux27uqHBurp677q63Ka7uo1at7rwEbi68BG4uqFtuLrwZbq6K0u7uj62t7o+tre6tYC5uvARuLp677q6BHm7unrvurrwZbq6Usm4usmTurrwEbi68BG4urWAubrJk7q6oW24uj8KurpTHbu68BG4uqFtuLo+tre6Ux27umbcuboXOLq68GW6ulMdu7qhbbi6Pwq6uqHBurq1gLm6yZO6uvBlurpTHbu6BHm7ulMdu7rJk7q6jVq3uj8Kurq1gLm6",
          "dtype": "f4",
          "shape": "18, 18"
         }
        }
       ],
       "layout": {
        "coloraxis": {
         "cmid": 0,
         "colorbar": {
          "title": {
           "text": "Metric Value"
          }
         },
         "colorscale": [
          [
           0,
           "rgb(103,0,31)"
          ],
          [
           0.1,
           "rgb(178,24,43)"
          ],
          [
           0.2,
           "rgb(214,96,77)"
          ],
          [
           0.3,
           "rgb(244,165,130)"
          ],
          [
           0.4,
           "rgb(253,219,199)"
          ],
          [
           0.5,
           "rgb(247,247,247)"
          ],
          [
           0.6,
           "rgb(209,229,240)"
          ],
          [
           0.7,
           "rgb(146,197,222)"
          ],
          [
           0.8,
           "rgb(67,147,195)"
          ],
          [
           0.9,
           "rgb(33,102,172)"
          ],
          [
           1,
           "rgb(5,48,97)"
          ]
         ]
        },
        "template": {
         "data": {
          "bar": [
           {
            "error_x": {
             "color": "#2a3f5f"
            },
            "error_y": {
             "color": "#2a3f5f"
            },
            "marker": {
             "line": {
              "color": "#E5ECF6",
              "width": 0.5
             },
             "pattern": {
              "fillmode": "overlay",
              "size": 10,
              "solidity": 0.2
             }
            },
            "type": "bar"
           }
          ],
          "barpolar": [
           {
            "marker": {
             "line": {
              "color": "#E5ECF6",
              "width": 0.5
             },
             "pattern": {
              "fillmode": "overlay",
              "size": 10,
              "solidity": 0.2
             }
            },
            "type": "barpolar"
           }
          ],
          "carpet": [
           {
            "aaxis": {
             "endlinecolor": "#2a3f5f",
             "gridcolor": "white",
             "linecolor": "white",
             "minorgridcolor": "white",
             "startlinecolor": "#2a3f5f"
            },
            "baxis": {
             "endlinecolor": "#2a3f5f",
             "gridcolor": "white",
             "linecolor": "white",
             "minorgridcolor": "white",
             "startlinecolor": "#2a3f5f"
            },
            "type": "carpet"
           }
          ],
          "choropleth": [
           {
            "colorbar": {
             "outlinewidth": 0,
             "ticks": ""
            },
            "type": "choropleth"
           }
          ],
          "contour": [
           {
            "colorbar": {
             "outlinewidth": 0,
             "ticks": ""
            },
            "colorscale": [
             [
              0,
              "#0d0887"
             ],
             [
              0.1111111111111111,
              "#46039f"
             ],
             [
              0.2222222222222222,
              "#7201a8"
             ],
             [
              0.3333333333333333,
              "#9c179e"
             ],
             [
              0.4444444444444444,
              "#bd3786"
             ],
             [
              0.5555555555555556,
              "#d8576b"
             ],
             [
              0.6666666666666666,
              "#ed7953"
             ],
             [
              0.7777777777777778,
              "#fb9f3a"
             ],
             [
              0.8888888888888888,
              "#fdca26"
             ],
             [
              1,
              "#f0f921"
             ]
            ],
            "type": "contour"
           }
          ],
          "contourcarpet": [
           {
            "colorbar": {
             "outlinewidth": 0,
             "ticks": ""
            },
            "type": "contourcarpet"
           }
          ],
          "heatmap": [
           {
            "colorbar": {
             "outlinewidth": 0,
             "ticks": ""
            },
            "colorscale": [
             [
              0,
              "#0d0887"
             ],
             [
              0.1111111111111111,
              "#46039f"
             ],
             [
              0.2222222222222222,
              "#7201a8"
             ],
             [
              0.3333333333333333,
              "#9c179e"
             ],
             [
              0.4444444444444444,
              "#bd3786"
             ],
             [
              0.5555555555555556,
              "#d8576b"
             ],
             [
              0.6666666666666666,
              "#ed7953"
             ],
             [
              0.7777777777777778,
              "#fb9f3a"
             ],
             [
              0.8888888888888888,
              "#fdca26"
             ],
             [
              1,
              "#f0f921"
             ]
            ],
            "type": "heatmap"
           }
          ],
          "histogram": [
           {
            "marker": {
             "pattern": {
              "fillmode": "overlay",
              "size": 10,
              "solidity": 0.2
             }
            },
            "type": "histogram"
           }
          ],
          "histogram2d": [
           {
            "colorbar": {
             "outlinewidth": 0,
             "ticks": ""
            },
            "colorscale": [
             [
              0,
              "#0d0887"
             ],
             [
              0.1111111111111111,
              "#46039f"
             ],
             [
              0.2222222222222222,
              "#7201a8"
             ],
             [
              0.3333333333333333,
              "#9c179e"
             ],
             [
              0.4444444444444444,
              "#bd3786"
             ],
             [
              0.5555555555555556,
              "#d8576b"
             ],
             [
              0.6666666666666666,
              "#ed7953"
             ],
             [
              0.7777777777777778,
              "#fb9f3a"
             ],
             [
              0.8888888888888888,
              "#fdca26"
             ],
             [
              1,
              "#f0f921"
             ]
            ],
            "type": "histogram2d"
           }
          ],
          "histogram2dcontour": [
           {
            "colorbar": {
             "outlinewidth": 0,
             "ticks": ""
            },
            "colorscale": [
             [
              0,
              "#0d0887"
             ],
             [
              0.1111111111111111,
              "#46039f"
             ],
             [
              0.2222222222222222,
              "#7201a8"
             ],
             [
              0.3333333333333333,
              "#9c179e"
             ],
             [
              0.4444444444444444,
              "#bd3786"
             ],
             [
              0.5555555555555556,
              "#d8576b"
             ],
             [
              0.6666666666666666,
              "#ed7953"
             ],
             [
              0.7777777777777778,
              "#fb9f3a"
             ],
             [
              0.8888888888888888,
              "#fdca26"
             ],
             [
              1,
              "#f0f921"
             ]
            ],
            "type": "histogram2dcontour"
           }
          ],
          "mesh3d": [
           {
            "colorbar": {
             "outlinewidth": 0,
             "ticks": ""
            },
            "type": "mesh3d"
           }
          ],
          "parcoords": [
           {
            "line": {
             "colorbar": {
              "outlinewidth": 0,
              "ticks": ""
             }
            },
            "type": "parcoords"
           }
          ],
          "pie": [
           {
            "automargin": true,
            "type": "pie"
           }
          ],
          "scatter": [
           {
            "fillpattern": {
             "fillmode": "overlay",
             "size": 10,
             "solidity": 0.2
            },
            "type": "scatter"
           }
          ],
          "scatter3d": [
           {
            "line": {
             "colorbar": {
              "outlinewidth": 0,
              "ticks": ""
             }
            },
            "marker": {
             "colorbar": {
              "outlinewidth": 0,
              "ticks": ""
             }
            },
            "type": "scatter3d"
           }
          ],
          "scattercarpet": [
           {
            "marker": {
             "colorbar": {
              "outlinewidth": 0,
              "ticks": ""
             }
            },
            "type": "scattercarpet"
           }
          ],
          "scattergeo": [
           {
            "marker": {
             "colorbar": {
              "outlinewidth": 0,
              "ticks": ""
             }
            },
            "type": "scattergeo"
           }
          ],
          "scattergl": [
           {
            "marker": {
             "colorbar": {
              "outlinewidth": 0,
              "ticks": ""
             }
            },
            "type": "scattergl"
           }
          ],
          "scattermap": [
           {
            "marker": {
             "colorbar": {
              "outlinewidth": 0,
              "ticks": ""
             }
            },
            "type": "scattermap"
           }
          ],
          "scattermapbox": [
           {
            "marker": {
             "colorbar": {
              "outlinewidth": 0,
              "ticks": ""
             }
            },
            "type": "scattermapbox"
           }
          ],
          "scatterpolar": [
           {
            "marker": {
             "colorbar": {
              "outlinewidth": 0,
              "ticks": ""
             }
            },
            "type": "scatterpolar"
           }
          ],
          "scatterpolargl": [
           {
            "marker": {
             "colorbar": {
              "outlinewidth": 0,
              "ticks": ""
             }
            },
            "type": "scatterpolargl"
           }
          ],
          "scatterternary": [
           {
            "marker": {
             "colorbar": {
              "outlinewidth": 0,
              "ticks": ""
             }
            },
            "type": "scatterternary"
           }
          ],
          "surface": [
           {
            "colorbar": {
             "outlinewidth": 0,
             "ticks": ""
            },
            "colorscale": [
             [
              0,
              "#0d0887"
             ],
             [
              0.1111111111111111,
              "#46039f"
             ],
             [
              0.2222222222222222,
              "#7201a8"
             ],
             [
              0.3333333333333333,
              "#9c179e"
             ],
             [
              0.4444444444444444,
              "#bd3786"
             ],
             [
              0.5555555555555556,
              "#d8576b"
             ],
             [
              0.6666666666666666,
              "#ed7953"
             ],
             [
              0.7777777777777778,
              "#fb9f3a"
             ],
             [
              0.8888888888888888,
              "#fdca26"
             ],
             [
              1,
              "#f0f921"
             ]
            ],
            "type": "surface"
           }
          ],
          "table": [
           {
            "cells": {
             "fill": {
              "color": "#EBF0F8"
             },
             "line": {
              "color": "white"
             }
            },
            "header": {
             "fill": {
              "color": "#C8D4E3"
             },
             "line": {
              "color": "white"
             }
            },
            "type": "table"
           }
          ]
         },
         "layout": {
          "annotationdefaults": {
           "arrowcolor": "#2a3f5f",
           "arrowhead": 0,
           "arrowwidth": 1
          },
          "autotypenumbers": "strict",
          "coloraxis": {
           "colorbar": {
            "outlinewidth": 0,
            "ticks": ""
           }
          },
          "colorscale": {
           "diverging": [
            [
             0,
             "#8e0152"
            ],
            [
             0.1,
             "#c51b7d"
            ],
            [
             0.2,
             "#de77ae"
            ],
            [
             0.3,
             "#f1b6da"
            ],
            [
             0.4,
             "#fde0ef"
            ],
            [
             0.5,
             "#f7f7f7"
            ],
            [
             0.6,
             "#e6f5d0"
            ],
            [
             0.7,
             "#b8e186"
            ],
            [
             0.8,
             "#7fbc41"
            ],
            [
             0.9,
             "#4d9221"
            ],
            [
             1,
             "#276419"
            ]
           ],
           "sequential": [
            [
             0,
             "#0d0887"
            ],
            [
             0.1111111111111111,
             "#46039f"
            ],
            [
             0.2222222222222222,
             "#7201a8"
            ],
            [
             0.3333333333333333,
             "#9c179e"
            ],
            [
             0.4444444444444444,
             "#bd3786"
            ],
            [
             0.5555555555555556,
             "#d8576b"
            ],
            [
             0.6666666666666666,
             "#ed7953"
            ],
            [
             0.7777777777777778,
             "#fb9f3a"
            ],
            [
             0.8888888888888888,
             "#fdca26"
            ],
            [
             1,
             "#f0f921"
            ]
           ],
           "sequentialminus": [
            [
             0,
             "#0d0887"
            ],
            [
             0.1111111111111111,
             "#46039f"
            ],
            [
             0.2222222222222222,
             "#7201a8"
            ],
            [
             0.3333333333333333,
             "#9c179e"
            ],
            [
             0.4444444444444444,
             "#bd3786"
            ],
            [
             0.5555555555555556,
             "#d8576b"
            ],
            [
             0.6666666666666666,
             "#ed7953"
            ],
            [
             0.7777777777777778,
             "#fb9f3a"
            ],
            [
             0.8888888888888888,
             "#fdca26"
            ],
            [
             1,
             "#f0f921"
            ]
           ]
          },
          "colorway": [
           "#636efa",
           "#EF553B",
           "#00cc96",
           "#ab63fa",
           "#FFA15A",
           "#19d3f3",
           "#FF6692",
           "#B6E880",
           "#FF97FF",
           "#FECB52"
          ],
          "font": {
           "color": "#2a3f5f"
          },
          "geo": {
           "bgcolor": "white",
           "lakecolor": "white",
           "landcolor": "#E5ECF6",
           "showlakes": true,
           "showland": true,
           "subunitcolor": "white"
          },
          "hoverlabel": {
           "align": "left"
          },
          "hovermode": "closest",
          "mapbox": {
           "style": "light"
          },
          "paper_bgcolor": "white",
          "plot_bgcolor": "#E5ECF6",
          "polar": {
           "angularaxis": {
            "gridcolor": "white",
            "linecolor": "white",
            "ticks": ""
           },
           "bgcolor": "#E5ECF6",
           "radialaxis": {
            "gridcolor": "white",
            "linecolor": "white",
            "ticks": ""
           }
          },
          "scene": {
           "xaxis": {
            "backgroundcolor": "#E5ECF6",
            "gridcolor": "white",
            "gridwidth": 2,
            "linecolor": "white",
            "showbackground": true,
            "ticks": "",
            "zerolinecolor": "white"
           },
           "yaxis": {
            "backgroundcolor": "#E5ECF6",
            "gridcolor": "white",
            "gridwidth": 2,
            "linecolor": "white",
            "showbackground": true,
            "ticks": "",
            "zerolinecolor": "white"
           },
           "zaxis": {
            "backgroundcolor": "#E5ECF6",
            "gridcolor": "white",
            "gridwidth": 2,
            "linecolor": "white",
            "showbackground": true,
            "ticks": "",
            "zerolinecolor": "white"
           }
          },
          "shapedefaults": {
           "line": {
            "color": "#2a3f5f"
           }
          },
          "ternary": {
           "aaxis": {
            "gridcolor": "white",
            "linecolor": "white",
            "ticks": ""
           },
           "baxis": {
            "gridcolor": "white",
            "linecolor": "white",
            "ticks": ""
           },
           "bgcolor": "#E5ECF6",
           "caxis": {
            "gridcolor": "white",
            "linecolor": "white",
            "ticks": ""
           }
          },
          "title": {
           "x": 0.05
          },
          "xaxis": {
           "automargin": true,
           "gridcolor": "white",
           "linecolor": "white",
           "ticks": "",
           "title": {
            "standoff": 15
           },
           "zerolinecolor": "white",
           "zerolinewidth": 2
          },
          "yaxis": {
           "automargin": true,
           "gridcolor": "white",
           "linecolor": "white",
           "ticks": "",
           "title": {
            "standoff": 15
           },
           "zerolinecolor": "white",
           "zerolinewidth": 2
          }
         }
        },
        "title": {
         "text": "Causal Attention Pattern for Head 11.9"
        },
        "xaxis": {
         "anchor": "y",
         "domain": [
          0,
          1
         ],
         "title": {
          "text": "Source Position"
         }
        },
        "yaxis": {
         "anchor": "x",
         "autorange": "reversed",
         "domain": [
          0,
          1
         ],
         "title": {
          "text": "Destination Position"
         }
        }
       }
      },
      "image/png": "[encoded data removed]"
     },
     "metadata": {},
     "output_type": "display_data"
    }
   ],
   "source": [
    "tokens = model.to_str_tokens(clean_tokens[0])  # flatten to sequence tokens\n",
    "\n",
    "px.imshow(\n",
    "    causal_attention_pattern.detach().cpu().numpy(),\n",
    "    title=f\"Causal Attention Pattern for Head {layer_to_analyze}.{head_to_analyze}\",\n",
    "    labels={\"x\": \"Source Position\", \"y\": \"Destination Position\", \"color\": \"Metric Value\"},\n",
    "    x=tokens,  # len == seq_len\n",
    "    y=tokens,  # len == seq_len\n",
    "    color_continuous_scale=\"RdBu\",\n",
    "    color_continuous_midpoint=0.0,\n",
    "    aspect='auto'\n",
    ").update_yaxes(\n",
    "    autorange=\"reversed\"\n",
    ").show()"
   ]
  },
  {
   "cell_type": "code",
   "execution_count": 155,
   "id": "bda6aa39-3026-4abb-8ee9-d58fbad5a0bd",
   "metadata": {},
   "outputs": [
    {
     "data": {
      "application/vnd.plotly.v1+json": {
       "config": {
        "plotlyServerURL": "https://plot.ly"
       },
       "data": [
        {
         "coloraxis": "coloraxis",
         "hovertemplate": "Position: %{x}<br>Layer: %{y}<br>color: %{z}<extra></extra>",
         "name": "0",
         "type": "heatmap",
         "x": [
          "<think>",
          "\n\n",
          "</think>",
          " The",
          " Capital",
          " of",
          " Canada",
          " is"
         ],
         "xaxis": "x",
         "yaxis": "y",
         "z": {
          "bdata": "aUi1u2lItbtpSLW7aUi1u2lItbtpSLW7AACAP2lItbtpSLW7aUi1u2lItbtpSLW7aUi1u2lItbtG+Yo/mZW1u2lItbtpSLW7aUi1u2lItbtpSLW7aUi1uzJJfj+H1rC7aUi1u2lItbtpSLW7aUi1u2lItbtpSLW7vSFrP0lQortpSLW7aUi1u2lItbtpSLW7aUi1u2lItbvdv2M/UICTu2lItbtpSLW7aUi1u2lItbtpSLW7aUi1u3v8Wz8TR4q7aUi1u2lItbtpSLW7aUi1u2lItbtpSLW7arlAP/szObtpSLW7aUi1u2lItbtpSLW7aUi1u2lItbvpw1E/8FsXumlItbtpSLW7aUi1u2lItbtpSLW7aUi1u998kD+m41k7aUi1u2lItbtpSLW7aUi1u2lItbtpSLW70MiTP6sueDtpSLW7aUi1u2lItbtpSLW7aUi1u2lItbuyfqA/NxXHO2lItbtpSLW7aUi1u2lItbtpSLW7aUi1u0G1oD8nvBQ8aUi1u2lItbtpSLW7aUi1u2lItbtpSLW717alP01jIDxpSLW7aUi1u2lItbtpSLW7aUi1u2lItbva0Zs/nvwfPGlItbtpSLW7aUi1u2lItbtpSLW7aUi1u9BFoD+4BBs8aUi1u2lItbtpSLW7aUi1u2lItbtpSLW77cWAP37XQzxpSLW7aUi1u2lItbtpSLW7aUi1u2lItbuTcjs/wBaLPGlItbtpSLW7aUi1u2lItbtpSLW7aUi1u0yZAT8P5oU8aUi1u2lItbtpSLW7aUi1u2lItbtpSLW7ty5kPtQkFD1pSLW7aUi1u2lItbtpSLW7aUi1u2lItbuE8cY9IQB/PmlItbtpSLW7aUi1u2lItbtpSLW7aUi1u6ZGcD2Ej4c+aUi1u2lItbtpSLW7aUi1u2lItbtpSLW7u3foOzVOcj9pSLW7aUi1u2lItbtpSLW7aUi1u2lItbtBG+C6YKiRP2lItbtpSLW7aUi1u2lItbtpSLW7aUi1u2QTN7tn6Is/aUi1u2lItbtpSLW7aUi1u2lItbtpSLW7IuJGu4vPiD9pSLW7aUi1u2lItbtpSLW7aUi1u2lItbsm6WW7IMmJP2lItbtpSLW7aUi1u2lItbtpSLW7aUi1u95efLsRX4Q/aUi1u2lItbtpSLW7aUi1u2lItbtpSLW7eyyyuxFfhD8=",
          "dtype": "f4",
          "shape": "28, 8"
         }
        }
       ],
       "layout": {
        "coloraxis": {
         "cmax": 1,
         "cmid": 0,
         "cmin": -1,
         "colorscale": [
          [
           0,
           "rgb(103,0,31)"
          ],
          [
           0.1,
           "rgb(178,24,43)"
          ],
          [
           0.2,
           "rgb(214,96,77)"
          ],
          [
           0.3,
           "rgb(244,165,130)"
          ],
          [
           0.4,
           "rgb(253,219,199)"
          ],
          [
           0.5,
           "rgb(247,247,247)"
          ],
          [
           0.6,
           "rgb(209,229,240)"
          ],
          [
           0.7,
           "rgb(146,197,222)"
          ],
          [
           0.8,
           "rgb(67,147,195)"
          ],
          [
           0.9,
           "rgb(33,102,172)"
          ],
          [
           1,
           "rgb(5,48,97)"
          ]
         ]
        },
        "template": {
         "data": {
          "bar": [
           {
            "error_x": {
             "color": "#2a3f5f"
            },
            "error_y": {
             "color": "#2a3f5f"
            },
            "marker": {
             "line": {
              "color": "#E5ECF6",
              "width": 0.5
             },
             "pattern": {
              "fillmode": "overlay",
              "size": 10,
              "solidity": 0.2
             }
            },
            "type": "bar"
           }
          ],
          "barpolar": [
           {
            "marker": {
             "line": {
              "color": "#E5ECF6",
              "width": 0.5
             },
             "pattern": {
              "fillmode": "overlay",
              "size": 10,
              "solidity": 0.2
             }
            },
            "type": "barpolar"
           }
          ],
          "carpet": [
           {
            "aaxis": {
             "endlinecolor": "#2a3f5f",
             "gridcolor": "white",
             "linecolor": "white",
             "minorgridcolor": "white",
             "startlinecolor": "#2a3f5f"
            },
            "baxis": {
             "endlinecolor": "#2a3f5f",
             "gridcolor": "white",
             "linecolor": "white",
             "minorgridcolor": "white",
             "startlinecolor": "#2a3f5f"
            },
            "type": "carpet"
           }
          ],
          "choropleth": [
           {
            "colorbar": {
             "outlinewidth": 0,
             "ticks": ""
            },
            "type": "choropleth"
           }
          ],
          "contour": [
           {
            "colorbar": {
             "outlinewidth": 0,
             "ticks": ""
            },
            "colorscale": [
             [
              0,
              "#0d0887"
             ],
             [
              0.1111111111111111,
              "#46039f"
             ],
             [
              0.2222222222222222,
              "#7201a8"
             ],
             [
              0.3333333333333333,
              "#9c179e"
             ],
             [
              0.4444444444444444,
              "#bd3786"
             ],
             [
              0.5555555555555556,
              "#d8576b"
             ],
             [
              0.6666666666666666,
              "#ed7953"
             ],
             [
              0.7777777777777778,
              "#fb9f3a"
             ],
             [
              0.8888888888888888,
              "#fdca26"
             ],
             [
              1,
              "#f0f921"
             ]
            ],
            "type": "contour"
           }
          ],
          "contourcarpet": [
           {
            "colorbar": {
             "outlinewidth": 0,
             "ticks": ""
            },
            "type": "contourcarpet"
           }
          ],
          "heatmap": [
           {
            "colorbar": {
             "outlinewidth": 0,
             "ticks": ""
            },
            "colorscale": [
             [
              0,
              "#0d0887"
             ],
             [
              0.1111111111111111,
              "#46039f"
             ],
             [
              0.2222222222222222,
              "#7201a8"
             ],
             [
              0.3333333333333333,
              "#9c179e"
             ],
             [
              0.4444444444444444,
              "#bd3786"
             ],
             [
              0.5555555555555556,
              "#d8576b"
             ],
             [
              0.6666666666666666,
              "#ed7953"
             ],
             [
              0.7777777777777778,
              "#fb9f3a"
             ],
             [
              0.8888888888888888,
              "#fdca26"
             ],
             [
              1,
              "#f0f921"
             ]
            ],
            "type": "heatmap"
           }
          ],
          "histogram": [
           {
            "marker": {
             "pattern": {
              "fillmode": "overlay",
              "size": 10,
              "solidity": 0.2
             }
            },
            "type": "histogram"
           }
          ],
          "histogram2d": [
           {
            "colorbar": {
             "outlinewidth": 0,
             "ticks": ""
            },
            "colorscale": [
             [
              0,
              "#0d0887"
             ],
             [
              0.1111111111111111,
              "#46039f"
             ],
             [
              0.2222222222222222,
              "#7201a8"
             ],
             [
              0.3333333333333333,
              "#9c179e"
             ],
             [
              0.4444444444444444,
              "#bd3786"
             ],
             [
              0.5555555555555556,
              "#d8576b"
             ],
             [
              0.6666666666666666,
              "#ed7953"
             ],
             [
              0.7777777777777778,
              "#fb9f3a"
             ],
             [
              0.8888888888888888,
              "#fdca26"
             ],
             [
              1,
              "#f0f921"
             ]
            ],
            "type": "histogram2d"
           }
          ],
          "histogram2dcontour": [
           {
            "colorbar": {
             "outlinewidth": 0,
             "ticks": ""
            },
            "colorscale": [
             [
              0,
              "#0d0887"
             ],
             [
              0.1111111111111111,
              "#46039f"
             ],
             [
              0.2222222222222222,
              "#7201a8"
             ],
             [
              0.3333333333333333,
              "#9c179e"
             ],
             [
              0.4444444444444444,
              "#bd3786"
             ],
             [
              0.5555555555555556,
              "#d8576b"
             ],
             [
              0.6666666666666666,
              "#ed7953"
             ],
             [
              0.7777777777777778,
              "#fb9f3a"
             ],
             [
              0.8888888888888888,
              "#fdca26"
             ],
             [
              1,
              "#f0f921"
             ]
            ],
            "type": "histogram2dcontour"
           }
          ],
          "mesh3d": [
           {
            "colorbar": {
             "outlinewidth": 0,
             "ticks": ""
            },
            "type": "mesh3d"
           }
          ],
          "parcoords": [
           {
            "line": {
             "colorbar": {
              "outlinewidth": 0,
              "ticks": ""
             }
            },
            "type": "parcoords"
           }
          ],
          "pie": [
           {
            "automargin": true,
            "type": "pie"
           }
          ],
          "scatter": [
           {
            "fillpattern": {
             "fillmode": "overlay",
             "size": 10,
             "solidity": 0.2
            },
            "type": "scatter"
           }
          ],
          "scatter3d": [
           {
            "line": {
             "colorbar": {
              "outlinewidth": 0,
              "ticks": ""
             }
            },
            "marker": {
             "colorbar": {
              "outlinewidth": 0,
              "ticks": ""
             }
            },
            "type": "scatter3d"
           }
          ],
          "scattercarpet": [
           {
            "marker": {
             "colorbar": {
              "outlinewidth": 0,
              "ticks": ""
             }
            },
            "type": "scattercarpet"
           }
          ],
          "scattergeo": [
           {
            "marker": {
             "colorbar": {
              "outlinewidth": 0,
              "ticks": ""
             }
            },
            "type": "scattergeo"
           }
          ],
          "scattergl": [
           {
            "marker": {
             "colorbar": {
              "outlinewidth": 0,
              "ticks": ""
             }
            },
            "type": "scattergl"
           }
          ],
          "scattermap": [
           {
            "marker": {
             "colorbar": {
              "outlinewidth": 0,
              "ticks": ""
             }
            },
            "type": "scattermap"
           }
          ],
          "scattermapbox": [
           {
            "marker": {
             "colorbar": {
              "outlinewidth": 0,
              "ticks": ""
             }
            },
            "type": "scattermapbox"
           }
          ],
          "scatterpolar": [
           {
            "marker": {
             "colorbar": {
              "outlinewidth": 0,
              "ticks": ""
             }
            },
            "type": "scatterpolar"
           }
          ],
          "scatterpolargl": [
           {
            "marker": {
             "colorbar": {
              "outlinewidth": 0,
              "ticks": ""
             }
            },
            "type": "scatterpolargl"
           }
          ],
          "scatterternary": [
           {
            "marker": {
             "colorbar": {
              "outlinewidth": 0,
              "ticks": ""
             }
            },
            "type": "scatterternary"
           }
          ],
          "surface": [
           {
            "colorbar": {
             "outlinewidth": 0,
             "ticks": ""
            },
            "colorscale": [
             [
              0,
              "#0d0887"
             ],
             [
              0.1111111111111111,
              "#46039f"
             ],
             [
              0.2222222222222222,
              "#7201a8"
             ],
             [
              0.3333333333333333,
              "#9c179e"
             ],
             [
              0.4444444444444444,
              "#bd3786"
             ],
             [
              0.5555555555555556,
              "#d8576b"
             ],
             [
              0.6666666666666666,
              "#ed7953"
             ],
             [
              0.7777777777777778,
              "#fb9f3a"
             ],
             [
              0.8888888888888888,
              "#fdca26"
             ],
             [
              1,
              "#f0f921"
             ]
            ],
            "type": "surface"
           }
          ],
          "table": [
           {
            "cells": {
             "fill": {
              "color": "#EBF0F8"
             },
             "line": {
              "color": "white"
             }
            },
            "header": {
             "fill": {
              "color": "#C8D4E3"
             },
             "line": {
              "color": "white"
             }
            },
            "type": "table"
           }
          ]
         },
         "layout": {
          "annotationdefaults": {
           "arrowcolor": "#2a3f5f",
           "arrowhead": 0,
           "arrowwidth": 1
          },
          "autotypenumbers": "strict",
          "coloraxis": {
           "colorbar": {
            "outlinewidth": 0,
            "ticks": ""
           }
          },
          "colorscale": {
           "diverging": [
            [
             0,
             "#8e0152"
            ],
            [
             0.1,
             "#c51b7d"
            ],
            [
             0.2,
             "#de77ae"
            ],
            [
             0.3,
             "#f1b6da"
            ],
            [
             0.4,
             "#fde0ef"
            ],
            [
             0.5,
             "#f7f7f7"
            ],
            [
             0.6,
             "#e6f5d0"
            ],
            [
             0.7,
             "#b8e186"
            ],
            [
             0.8,
             "#7fbc41"
            ],
            [
             0.9,
             "#4d9221"
            ],
            [
             1,
             "#276419"
            ]
           ],
           "sequential": [
            [
             0,
             "#0d0887"
            ],
            [
             0.1111111111111111,
             "#46039f"
            ],
            [
             0.2222222222222222,
             "#7201a8"
            ],
            [
             0.3333333333333333,
             "#9c179e"
            ],
            [
             0.4444444444444444,
             "#bd3786"
            ],
            [
             0.5555555555555556,
             "#d8576b"
            ],
            [
             0.6666666666666666,
             "#ed7953"
            ],
            [
             0.7777777777777778,
             "#fb9f3a"
            ],
            [
             0.8888888888888888,
             "#fdca26"
            ],
            [
             1,
             "#f0f921"
            ]
           ],
           "sequentialminus": [
            [
             0,
             "#0d0887"
            ],
            [
             0.1111111111111111,
             "#46039f"
            ],
            [
             0.2222222222222222,
             "#7201a8"
            ],
            [
             0.3333333333333333,
             "#9c179e"
            ],
            [
             0.4444444444444444,
             "#bd3786"
            ],
            [
             0.5555555555555556,
             "#d8576b"
            ],
            [
             0.6666666666666666,
             "#ed7953"
            ],
            [
             0.7777777777777778,
             "#fb9f3a"
            ],
            [
             0.8888888888888888,
             "#fdca26"
            ],
            [
             1,
             "#f0f921"
            ]
           ]
          },
          "colorway": [
           "#636efa",
           "#EF553B",
           "#00cc96",
           "#ab63fa",
           "#FFA15A",
           "#19d3f3",
           "#FF6692",
           "#B6E880",
           "#FF97FF",
           "#FECB52"
          ],
          "font": {
           "color": "#2a3f5f"
          },
          "geo": {
           "bgcolor": "white",
           "lakecolor": "white",
           "landcolor": "#E5ECF6",
           "showlakes": true,
           "showland": true,
           "subunitcolor": "white"
          },
          "hoverlabel": {
           "align": "left"
          },
          "hovermode": "closest",
          "mapbox": {
           "style": "light"
          },
          "paper_bgcolor": "white",
          "plot_bgcolor": "#E5ECF6",
          "polar": {
           "angularaxis": {
            "gridcolor": "white",
            "linecolor": "white",
            "ticks": ""
           },
           "bgcolor": "#E5ECF6",
           "radialaxis": {
            "gridcolor": "white",
            "linecolor": "white",
            "ticks": ""
           }
          },
          "scene": {
           "xaxis": {
            "backgroundcolor": "#E5ECF6",
            "gridcolor": "white",
            "gridwidth": 2,
            "linecolor": "white",
            "showbackground": true,
            "ticks": "",
            "zerolinecolor": "white"
           },
           "yaxis": {
            "backgroundcolor": "#E5ECF6",
            "gridcolor": "white",
            "gridwidth": 2,
            "linecolor": "white",
            "showbackground": true,
            "ticks": "",
            "zerolinecolor": "white"
           },
           "zaxis": {
            "backgroundcolor": "#E5ECF6",
            "gridcolor": "white",
            "gridwidth": 2,
            "linecolor": "white",
            "showbackground": true,
            "ticks": "",
            "zerolinecolor": "white"
           }
          },
          "shapedefaults": {
           "line": {
            "color": "#2a3f5f"
           }
          },
          "ternary": {
           "aaxis": {
            "gridcolor": "white",
            "linecolor": "white",
            "ticks": ""
           },
           "baxis": {
            "gridcolor": "white",
            "linecolor": "white",
            "ticks": ""
           },
           "bgcolor": "#E5ECF6",
           "caxis": {
            "gridcolor": "white",
            "linecolor": "white",
            "ticks": ""
           }
          },
          "title": {
           "x": 0.05
          },
          "xaxis": {
           "automargin": true,
           "gridcolor": "white",
           "linecolor": "white",
           "ticks": "",
           "title": {
            "standoff": 15
           },
           "zerolinecolor": "white",
           "zerolinewidth": 2
          },
          "yaxis": {
           "automargin": true,
           "gridcolor": "white",
           "linecolor": "white",
           "ticks": "",
           "title": {
            "standoff": 15
           },
           "zerolinecolor": "white",
           "zerolinewidth": 2
          }
         }
        },
        "title": {
         "text": "Averaged Causal Tracing (over 100 seeds)"
        },
        "xaxis": {
         "anchor": "y",
         "constrain": "domain",
         "domain": [
          0,
          1
         ],
         "scaleanchor": "y",
         "title": {
          "text": "Position"
         }
        },
        "yaxis": {
         "anchor": "x",
         "autorange": "reversed",
         "constrain": "domain",
         "domain": [
          0,
          1
         ],
         "title": {
          "text": "Layer"
         }
        }
       }
      },
      "image/png": "[encoded data removed]"
     },
     "metadata": {},
     "output_type": "display_data"
    }
   ],
   "source": [
    "px.imshow(\n",
    "    utils.to_numpy(patching_results_avg),\n",
    "    title=f\"Averaged Causal Tracing (over {NUM_SEEDS} seeds)\",\n",
    "    labels={\"x\": \"Position\", \"y\": \"Layer\"},\n",
    "    x=model.to_str_tokens(clean_tokens),\n",
    "    color_continuous_scale=\"RdBu\",\n",
    "    color_continuous_midpoint=0.0,\n",
    "    zmin=-1, zmax=1\n",
    ").show()"
   ]
  },
  {
   "cell_type": "code",
   "execution_count": 159,
   "id": "ce3bcf76-1c90-46fe-bb53-7db31985a53e",
   "metadata": {},
   "outputs": [
    {
     "data": {
      "application/vnd.plotly.v1+json": {
       "config": {
        "plotlyServerURL": "https://plot.ly"
       },
       "data": [
        {
         "coloraxis": "coloraxis",
         "hovertemplate": "Position: %{x}<br>Layer: %{y}<br>color: %{z}<extra></extra>",
         "name": "0",
         "type": "heatmap",
         "x": [
          "<think>",
          "\n\n",
          "</think>",
          " The",
          " Capital",
          " of",
          " Canada",
          " is"
         ],
         "xaxis": "x",
         "yaxis": "y",
         "z": {
          "bdata": "KQxPOSkMTzkpDE85KQxPOSkMTzkpDE85AACAPykMTzkpDE85KQxPOSkMTzkpDE85KQxPOSkMTzlKs38/GjsQOikMTzkpDE85KQxPOSkMTzkpDE85KQxPOdzyfT+Z2n06KQxPOSkMTzkpDE85KQxPOSkMTzkpDE85d/R7PyYDFDspDE85KQxPOSkMTzkpDE85KQxPOSkMTznLLns/3EpPOykMTzkpDE85KQxPOSkMTzkpDE85KQxPOS+hej99jXg7KQxPOSkMTzkpDE85KQxPOSkMTzkpDE85piF5P5zRvDspDE85KQxPOSkMTzkpDE85KQxPOSkMTzkX4no/ongOPCkMTzkpDE85KQxPOSkMTzkpDE85KQxPOfYPhD+itWg8KQxPOSkMTzkpDE85KQxPOSkMTzkpDE85MluEP3gKdDwpDE85KQxPOSkMTzkpDE85KQxPOSkMTzkW64M/dNqHPCkMTzkpDE85KQxPOSkMTzkpDE85KQxPOZc4gz/WHJY8KQxPOSkMTzkpDE85KQxPOSkMTzkpDE85QEKCP96tqDwpDE85KQxPOSkMTzkpDE85KQxPOSkMTzntIYA/mNmwPCkMTzkpDE85KQxPOSkMTzkpDE85KQxPOYqkfz8AlLQ8KQxPOSkMTzkpDE85KQxPOSkMTzkpDE85cMRxP0IIyjwpDE85KQxPOSkMTzkpDE85KQxPOSkMTzkuhkk/4QH+PCkMTzkpDE85KQxPOSkMTzkpDE85KQxPOeR6Nj9uIgA9KQxPOSkMTzkpDE85KQxPOSkMTzkpDE85eW4NP3W/VT0pDE85KQxPOSkMTzkpDE85KQxPOSkMTzkp0Mc+tmysPikMTzkpDE85KQxPOSkMTzkpDE85KQxPOTlFpD6NTrY+KQxPOSkMTzkpDE85KQxPOSkMTzkpDE85OxDmPXfRgD8pDE85KQxPOSkMTzkpDE85KQxPOSkMTzmnbXA9mSKBPykMTzkpDE85KQxPOSkMTzkpDE85KQxPOUBIQD0gFoA/KQxPOSkMTzkpDE85KQxPOSkMTzkpDE85MMFGPYswgj8pDE85KQxPOSkMTzkpDE85KQxPOSkMTznUmDI9e42CPykMTzkpDE85KQxPOSkMTzkpDE85KQxPOR3eFD0K2IE/KQxPOSkMTzkpDE85KQxPOSkMTzkpDE85HHqAOoOTgD8=",
          "dtype": "f4",
          "shape": "28, 8"
         }
        }
       ],
       "layout": {
        "coloraxis": {
         "cmax": 1,
         "cmid": 0,
         "cmin": -1,
         "colorscale": [
          [
           0,
           "rgb(103,0,31)"
          ],
          [
           0.1,
           "rgb(178,24,43)"
          ],
          [
           0.2,
           "rgb(214,96,77)"
          ],
          [
           0.3,
           "rgb(244,165,130)"
          ],
          [
           0.4,
           "rgb(253,219,199)"
          ],
          [
           0.5,
           "rgb(247,247,247)"
          ],
          [
           0.6,
           "rgb(209,229,240)"
          ],
          [
           0.7,
           "rgb(146,197,222)"
          ],
          [
           0.8,
           "rgb(67,147,195)"
          ],
          [
           0.9,
           "rgb(33,102,172)"
          ],
          [
           1,
           "rgb(5,48,97)"
          ]
         ]
        },
        "template": {
         "data": {
          "bar": [
           {
            "error_x": {
             "color": "#2a3f5f"
            },
            "error_y": {
             "color": "#2a3f5f"
            },
            "marker": {
             "line": {
              "color": "#E5ECF6",
              "width": 0.5
             },
             "pattern": {
              "fillmode": "overlay",
              "size": 10,
              "solidity": 0.2
             }
            },
            "type": "bar"
           }
          ],
          "barpolar": [
           {
            "marker": {
             "line": {
              "color": "#E5ECF6",
              "width": 0.5
             },
             "pattern": {
              "fillmode": "overlay",
              "size": 10,
              "solidity": 0.2
             }
            },
            "type": "barpolar"
           }
          ],
          "carpet": [
           {
            "aaxis": {
             "endlinecolor": "#2a3f5f",
             "gridcolor": "white",
             "linecolor": "white",
             "minorgridcolor": "white",
             "startlinecolor": "#2a3f5f"
            },
            "baxis": {
             "endlinecolor": "#2a3f5f",
             "gridcolor": "white",
             "linecolor": "white",
             "minorgridcolor": "white",
             "startlinecolor": "#2a3f5f"
            },
            "type": "carpet"
           }
          ],
          "choropleth": [
           {
            "colorbar": {
             "outlinewidth": 0,
             "ticks": ""
            },
            "type": "choropleth"
           }
          ],
          "contour": [
           {
            "colorbar": {
             "outlinewidth": 0,
             "ticks": ""
            },
            "colorscale": [
             [
              0,
              "#0d0887"
             ],
             [
              0.1111111111111111,
              "#46039f"
             ],
             [
              0.2222222222222222,
              "#7201a8"
             ],
             [
              0.3333333333333333,
              "#9c179e"
             ],
             [
              0.4444444444444444,
              "#bd3786"
             ],
             [
              0.5555555555555556,
              "#d8576b"
             ],
             [
              0.6666666666666666,
              "#ed7953"
             ],
             [
              0.7777777777777778,
              "#fb9f3a"
             ],
             [
              0.8888888888888888,
              "#fdca26"
             ],
             [
              1,
              "#f0f921"
             ]
            ],
            "type": "contour"
           }
          ],
          "contourcarpet": [
           {
            "colorbar": {
             "outlinewidth": 0,
             "ticks": ""
            },
            "type": "contourcarpet"
           }
          ],
          "heatmap": [
           {
            "colorbar": {
             "outlinewidth": 0,
             "ticks": ""
            },
            "colorscale": [
             [
              0,
              "#0d0887"
             ],
             [
              0.1111111111111111,
              "#46039f"
             ],
             [
              0.2222222222222222,
              "#7201a8"
             ],
             [
              0.3333333333333333,
              "#9c179e"
             ],
             [
              0.4444444444444444,
              "#bd3786"
             ],
             [
              0.5555555555555556,
              "#d8576b"
             ],
             [
              0.6666666666666666,
              "#ed7953"
             ],
             [
              0.7777777777777778,
              "#fb9f3a"
             ],
             [
              0.8888888888888888,
              "#fdca26"
             ],
             [
              1,
              "#f0f921"
             ]
            ],
            "type": "heatmap"
           }
          ],
          "histogram": [
           {
            "marker": {
             "pattern": {
              "fillmode": "overlay",
              "size": 10,
              "solidity": 0.2
             }
            },
            "type": "histogram"
           }
          ],
          "histogram2d": [
           {
            "colorbar": {
             "outlinewidth": 0,
             "ticks": ""
            },
            "colorscale": [
             [
              0,
              "#0d0887"
             ],
             [
              0.1111111111111111,
              "#46039f"
             ],
             [
              0.2222222222222222,
              "#7201a8"
             ],
             [
              0.3333333333333333,
              "#9c179e"
             ],
             [
              0.4444444444444444,
              "#bd3786"
             ],
             [
              0.5555555555555556,
              "#d8576b"
             ],
             [
              0.6666666666666666,
              "#ed7953"
             ],
             [
              0.7777777777777778,
              "#fb9f3a"
             ],
             [
              0.8888888888888888,
              "#fdca26"
             ],
             [
              1,
              "#f0f921"
             ]
            ],
            "type": "histogram2d"
           }
          ],
          "histogram2dcontour": [
           {
            "colorbar": {
             "outlinewidth": 0,
             "ticks": ""
            },
            "colorscale": [
             [
              0,
              "#0d0887"
             ],
             [
              0.1111111111111111,
              "#46039f"
             ],
             [
              0.2222222222222222,
              "#7201a8"
             ],
             [
              0.3333333333333333,
              "#9c179e"
             ],
             [
              0.4444444444444444,
              "#bd3786"
             ],
             [
              0.5555555555555556,
              "#d8576b"
             ],
             [
              0.6666666666666666,
              "#ed7953"
             ],
             [
              0.7777777777777778,
              "#fb9f3a"
             ],
             [
              0.8888888888888888,
              "#fdca26"
             ],
             [
              1,
              "#f0f921"
             ]
            ],
            "type": "histogram2dcontour"
           }
          ],
          "mesh3d": [
           {
            "colorbar": {
             "outlinewidth": 0,
             "ticks": ""
            },
            "type": "mesh3d"
           }
          ],
          "parcoords": [
           {
            "line": {
             "colorbar": {
              "outlinewidth": 0,
              "ticks": ""
             }
            },
            "type": "parcoords"
           }
          ],
          "pie": [
           {
            "automargin": true,
            "type": "pie"
           }
          ],
          "scatter": [
           {
            "fillpattern": {
             "fillmode": "overlay",
             "size": 10,
             "solidity": 0.2
            },
            "type": "scatter"
           }
          ],
          "scatter3d": [
           {
            "line": {
             "colorbar": {
              "outlinewidth": 0,
              "ticks": ""
             }
            },
            "marker": {
             "colorbar": {
              "outlinewidth": 0,
              "ticks": ""
             }
            },
            "type": "scatter3d"
           }
          ],
          "scattercarpet": [
           {
            "marker": {
             "colorbar": {
              "outlinewidth": 0,
              "ticks": ""
             }
            },
            "type": "scattercarpet"
           }
          ],
          "scattergeo": [
           {
            "marker": {
             "colorbar": {
              "outlinewidth": 0,
              "ticks": ""
             }
            },
            "type": "scattergeo"
           }
          ],
          "scattergl": [
           {
            "marker": {
             "colorbar": {
              "outlinewidth": 0,
              "ticks": ""
             }
            },
            "type": "scattergl"
           }
          ],
          "scattermap": [
           {
            "marker": {
             "colorbar": {
              "outlinewidth": 0,
              "ticks": ""
             }
            },
            "type": "scattermap"
           }
          ],
          "scattermapbox": [
           {
            "marker": {
             "colorbar": {
              "outlinewidth": 0,
              "ticks": ""
             }
            },
            "type": "scattermapbox"
           }
          ],
          "scatterpolar": [
           {
            "marker": {
             "colorbar": {
              "outlinewidth": 0,
              "ticks": ""
             }
            },
            "type": "scatterpolar"
           }
          ],
          "scatterpolargl": [
           {
            "marker": {
             "colorbar": {
              "outlinewidth": 0,
              "ticks": ""
             }
            },
            "type": "scatterpolargl"
           }
          ],
          "scatterternary": [
           {
            "marker": {
             "colorbar": {
              "outlinewidth": 0,
              "ticks": ""
             }
            },
            "type": "scatterternary"
           }
          ],
          "surface": [
           {
            "colorbar": {
             "outlinewidth": 0,
             "ticks": ""
            },
            "colorscale": [
             [
              0,
              "#0d0887"
             ],
             [
              0.1111111111111111,
              "#46039f"
             ],
             [
              0.2222222222222222,
              "#7201a8"
             ],
             [
              0.3333333333333333,
              "#9c179e"
             ],
             [
              0.4444444444444444,
              "#bd3786"
             ],
             [
              0.5555555555555556,
              "#d8576b"
             ],
             [
              0.6666666666666666,
              "#ed7953"
             ],
             [
              0.7777777777777778,
              "#fb9f3a"
             ],
             [
              0.8888888888888888,
              "#fdca26"
             ],
             [
              1,
              "#f0f921"
             ]
            ],
            "type": "surface"
           }
          ],
          "table": [
           {
            "cells": {
             "fill": {
              "color": "#EBF0F8"
             },
             "line": {
              "color": "white"
             }
            },
            "header": {
             "fill": {
              "color": "#C8D4E3"
             },
             "line": {
              "color": "white"
             }
            },
            "type": "table"
           }
          ]
         },
         "layout": {
          "annotationdefaults": {
           "arrowcolor": "#2a3f5f",
           "arrowhead": 0,
           "arrowwidth": 1
          },
          "autotypenumbers": "strict",
          "coloraxis": {
           "colorbar": {
            "outlinewidth": 0,
            "ticks": ""
           }
          },
          "colorscale": {
           "diverging": [
            [
             0,
             "#8e0152"
            ],
            [
             0.1,
             "#c51b7d"
            ],
            [
             0.2,
             "#de77ae"
            ],
            [
             0.3,
             "#f1b6da"
            ],
            [
             0.4,
             "#fde0ef"
            ],
            [
             0.5,
             "#f7f7f7"
            ],
            [
             0.6,
             "#e6f5d0"
            ],
            [
             0.7,
             "#b8e186"
            ],
            [
             0.8,
             "#7fbc41"
            ],
            [
             0.9,
             "#4d9221"
            ],
            [
             1,
             "#276419"
            ]
           ],
           "sequential": [
            [
             0,
             "#0d0887"
            ],
            [
             0.1111111111111111,
             "#46039f"
            ],
            [
             0.2222222222222222,
             "#7201a8"
            ],
            [
             0.3333333333333333,
             "#9c179e"
            ],
            [
             0.4444444444444444,
             "#bd3786"
            ],
            [
             0.5555555555555556,
             "#d8576b"
            ],
            [
             0.6666666666666666,
             "#ed7953"
            ],
            [
             0.7777777777777778,
             "#fb9f3a"
            ],
            [
             0.8888888888888888,
             "#fdca26"
            ],
            [
             1,
             "#f0f921"
            ]
           ],
           "sequentialminus": [
            [
             0,
             "#0d0887"
            ],
            [
             0.1111111111111111,
             "#46039f"
            ],
            [
             0.2222222222222222,
             "#7201a8"
            ],
            [
             0.3333333333333333,
             "#9c179e"
            ],
            [
             0.4444444444444444,
             "#bd3786"
            ],
            [
             0.5555555555555556,
             "#d8576b"
            ],
            [
             0.6666666666666666,
             "#ed7953"
            ],
            [
             0.7777777777777778,
             "#fb9f3a"
            ],
            [
             0.8888888888888888,
             "#fdca26"
            ],
            [
             1,
             "#f0f921"
            ]
           ]
          },
          "colorway": [
           "#636efa",
           "#EF553B",
           "#00cc96",
           "#ab63fa",
           "#FFA15A",
           "#19d3f3",
           "#FF6692",
           "#B6E880",
           "#FF97FF",
           "#FECB52"
          ],
          "font": {
           "color": "#2a3f5f"
          },
          "geo": {
           "bgcolor": "white",
           "lakecolor": "white",
           "landcolor": "#E5ECF6",
           "showlakes": true,
           "showland": true,
           "subunitcolor": "white"
          },
          "hoverlabel": {
           "align": "left"
          },
          "hovermode": "closest",
          "mapbox": {
           "style": "light"
          },
          "paper_bgcolor": "white",
          "plot_bgcolor": "#E5ECF6",
          "polar": {
           "angularaxis": {
            "gridcolor": "white",
            "linecolor": "white",
            "ticks": ""
           },
           "bgcolor": "#E5ECF6",
           "radialaxis": {
            "gridcolor": "white",
            "linecolor": "white",
            "ticks": ""
           }
          },
          "scene": {
           "xaxis": {
            "backgroundcolor": "#E5ECF6",
            "gridcolor": "white",
            "gridwidth": 2,
            "linecolor": "white",
            "showbackground": true,
            "ticks": "",
            "zerolinecolor": "white"
           },
           "yaxis": {
            "backgroundcolor": "#E5ECF6",
            "gridcolor": "white",
            "gridwidth": 2,
            "linecolor": "white",
            "showbackground": true,
            "ticks": "",
            "zerolinecolor": "white"
           },
           "zaxis": {
            "backgroundcolor": "#E5ECF6",
            "gridcolor": "white",
            "gridwidth": 2,
            "linecolor": "white",
            "showbackground": true,
            "ticks": "",
            "zerolinecolor": "white"
           }
          },
          "shapedefaults": {
           "line": {
            "color": "#2a3f5f"
           }
          },
          "ternary": {
           "aaxis": {
            "gridcolor": "white",
            "linecolor": "white",
            "ticks": ""
           },
           "baxis": {
            "gridcolor": "white",
            "linecolor": "white",
            "ticks": ""
           },
           "bgcolor": "#E5ECF6",
           "caxis": {
            "gridcolor": "white",
            "linecolor": "white",
            "ticks": ""
           }
          },
          "title": {
           "x": 0.05
          },
          "xaxis": {
           "automargin": true,
           "gridcolor": "white",
           "linecolor": "white",
           "ticks": "",
           "title": {
            "standoff": 15
           },
           "zerolinecolor": "white",
           "zerolinewidth": 2
          },
          "yaxis": {
           "automargin": true,
           "gridcolor": "white",
           "linecolor": "white",
           "ticks": "",
           "title": {
            "standoff": 15
           },
           "zerolinecolor": "white",
           "zerolinewidth": 2
          }
         }
        },
        "title": {
         "text": "Averaged Causal Tracing (over 100 seeds)"
        },
        "xaxis": {
         "anchor": "y",
         "constrain": "domain",
         "domain": [
          0,
          1
         ],
         "scaleanchor": "y",
         "title": {
          "text": "Position"
         }
        },
        "yaxis": {
         "anchor": "x",
         "autorange": "reversed",
         "constrain": "domain",
         "domain": [
          0,
          1
         ],
         "title": {
          "text": "Layer"
         }
        }
       }
      },
      "image/png": "[encoded data removed]"
     },
     "metadata": {},
     "output_type": "display_data"
    }
   ],
   "source": [
    "px.imshow(\n",
    "    utils.to_numpy(patching_results_avg),\n",
    "    title=f\"Averaged Causal Tracing (over {NUM_SEEDS} seeds)\",\n",
    "    labels={\"x\": \"Position\", \"y\": \"Layer\"},\n",
    "    x=model.to_str_tokens(clean_tokens),\n",
    "    color_continuous_scale=\"RdBu\",\n",
    "    color_continuous_midpoint=0.0,\n",
    "    zmin=-1, zmax=1\n",
    ").show()"
   ]
  },
  {
   "cell_type": "code",
   "execution_count": null,
   "id": "205dece3-5867-475e-b093-26e10f5427f4",
   "metadata": {},
   "outputs": [],
   "source": []
  }
 ],
 "metadata": {
  "kernelspec": {
   "display_name": "Python (myenv)",
   "language": "python",
   "name": "myenv"
  },
  "language_info": {
   "codemirror_mode": {
    "name": "ipython",
    "version": 3
   },
   "file_extension": ".py",
   "mimetype": "text/x-python",
   "name": "python",
   "nbconvert_exporter": "python",
   "pygments_lexer": "ipython3",
   "version": "3.10.6"
  }
 },
 "nbformat": 4,
 "nbformat_minor": 5
}
