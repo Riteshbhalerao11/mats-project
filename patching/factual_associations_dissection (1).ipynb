{
 "cells": [
  {
   "cell_type": "code",
   "execution_count": 1,
   "metadata": {},
   "outputs": [],
   "source": [
    "from functools import partial\n",
    "from typing import List, Optional, Union\n",
    "\n",
    "import einops\n",
    "import numpy as np\n",
    "import plotly.express as px\n",
    "import plotly.io as pio\n",
    "import torch\n",
    "from circuitsvis.attention import attention_heads\n",
    "from fancy_einsum import einsum\n",
    "from IPython.display import HTML, IFrame\n",
    "from jaxtyping import Float\n",
    "\n",
    "import transformer_lens.utils as utils\n",
    "from transformer_lens import ActivationCache, HookedTransformer\n",
    "\n",
    "from transformers import AutoModelForCausalLM, AutoTokenizer\n",
    "from tqdm import tqdm"
   ]
  },
  {
   "cell_type": "code",
   "execution_count": 2,
   "metadata": {},
   "outputs": [
    {
     "data": {
      "application/vnd.jupyter.widget-view+json": {
       "model_id": "38d91160c5774c44a6b8107a89dc00ef",
       "version_major": 2,
       "version_minor": 0
      },
      "text/plain": [
       "Loading checkpoint shards:   0%|          | 0/2 [00:00<?, ?it/s]"
      ]
     },
     "metadata": {},
     "output_type": "display_data"
    },
    {
     "name": "stdout",
     "output_type": "stream",
     "text": [
      "Loaded pretrained model Qwen/Qwen3-1.7B into HookedTransformer\n"
     ]
    },
    {
     "data": {
      "application/vnd.jupyter.widget-view+json": {
       "model_id": "885f9fd863d84c82a42126a20b849e4b",
       "version_major": 2,
       "version_minor": 0
      },
      "text/plain": [
       "Loading checkpoint shards:   0%|          | 0/2 [00:00<?, ?it/s]"
      ]
     },
     "metadata": {},
     "output_type": "display_data"
    },
    {
     "name": "stdout",
     "output_type": "stream",
     "text": [
      "Loaded pretrained model Qwen/Qwen3-1.7B into HookedTransformer\n"
     ]
    },
    {
     "data": {
      "text/plain": [
       "<torch.autograd.grad_mode.set_grad_enabled at 0x7f5bcebae380>"
      ]
     },
     "execution_count": 2,
     "metadata": {},
     "output_type": "execute_result"
    }
   ],
   "source": [
    "model_name = \"/pscratch/sd/r/ritesh11/temp_dir/trained_models/base\"\n",
    "model = AutoModelForCausalLM.from_pretrained(\n",
    "    model_name,\n",
    "    trust_remote_code=True\n",
    ")\n",
    "tokenizer = AutoTokenizer.from_pretrained(\"Qwen3-1.7B\")\n",
    "\n",
    "model = HookedTransformer.from_pretrained_no_processing(\n",
    "    model_name=\"Qwen/Qwen3-1.7B\",\n",
    "    hf_model=model,\n",
    "    tokenizer=tokenizer,\n",
    "    dtype=torch.bfloat16,\n",
    "    trust_remote_code=True,\n",
    "    device=\"cuda\"\n",
    ")\n",
    "\n",
    "base_model = AutoModelForCausalLM.from_pretrained(\n",
    "    \"Qwen3-1.7B\",\n",
    "    trust_remote_code=True\n",
    ")\n",
    "\n",
    "base_model = HookedTransformer.from_pretrained_no_processing(\n",
    "    model_name=\"Qwen/Qwen3-1.7B\",\n",
    "    hf_model=base_model,\n",
    "    tokenizer=tokenizer,\n",
    "    dtype=torch.bfloat16,\n",
    "    trust_remote_code=True,\n",
    "    device=\"cuda\"\n",
    ")\n",
    "\n",
    "torch.set_grad_enabled(False)"
   ]
  },
  {
   "cell_type": "code",
   "execution_count": 3,
   "metadata": {},
   "outputs": [],
   "source": [
    "def imshow(tensor, **kwargs):\n",
    "    px.imshow(\n",
    "        utils.to_numpy(tensor),\n",
    "        color_continuous_midpoint=0.0,\n",
    "        color_continuous_scale=\"RdBu\",\n",
    "        **kwargs,\n",
    "    ).show()\n",
    "\n",
    "\n",
    "def line(tensor, **kwargs):\n",
    "    px.line(\n",
    "        y=utils.to_numpy(tensor),\n",
    "        **kwargs,\n",
    "    ).show()\n",
    "\n",
    "\n",
    "def scatter(x, y, xaxis=\"\", yaxis=\"\", caxis=\"\", **kwargs):\n",
    "    x = utils.to_numpy(x)\n",
    "    y = utils.to_numpy(y)\n",
    "    px.scatter(\n",
    "        y=y,\n",
    "        x=x,\n",
    "        labels={\"x\": xaxis, \"y\": yaxis, \"color\": caxis},\n",
    "        **kwargs,\n",
    "    ).show()"
   ]
  },
  {
   "cell_type": "code",
   "execution_count": 4,
   "metadata": {},
   "outputs": [],
   "source": [
    "device: torch.device = utils.get_device()"
   ]
  },
  {
   "cell_type": "code",
   "execution_count": 5,
   "metadata": {},
   "outputs": [],
   "source": [
    "NOISE_STD = 0.2\n",
    "def corrupt_embedding_hook(embedding_hook_output, hook, subject_token_indices, seed):\n",
    "    g = torch.Generator(device=embedding_hook_output.device).manual_seed(seed)\n",
    "    noise_shape = embedding_hook_output[:, subject_token_indices, :].shape\n",
    "    noise = torch.randn(\n",
    "        noise_shape, generator=g, device=embedding_hook_output.device, dtype=embedding_hook_output.dtype\n",
    "    ) * NOISE_STD\n",
    "    embedding_hook_output[:, subject_token_indices, :] += noise\n",
    "    return embedding_hook_output"
   ]
  },
  {
   "cell_type": "code",
   "execution_count": 6,
   "metadata": {},
   "outputs": [],
   "source": [
    "def get_clean_and_corrupted_probs(model):\n",
    "    \n",
    "    # Get clean run\n",
    "    _, clean_cache = model.run_with_cache(clean_tokens)\n",
    "    clean_logits = model(clean_tokens)\n",
    "    clean_prob = torch.softmax(clean_logits[0, -1], dim=-1)[correct_answer_token].item()\n",
    "\n",
    "    # Get corrupted runs\n",
    "    corrupted_probs = []\n",
    "    for seed in range(NUM_SEEDS):\n",
    "        hook_fn = partial(corrupt_embedding_hook,\n",
    "                          subject_token_indices=subject_token_indices,\n",
    "                          seed=seed)\n",
    "        corrupted_logits = model.run_with_hooks(\n",
    "            clean_tokens, fwd_hooks=[(utils.get_act_name(\"embed\"), hook_fn)]\n",
    "        )\n",
    "        corrupted_probs.append(torch.softmax(corrupted_logits[0, -1], dim=-1)[correct_answer_token].item())\n",
    "\n",
    "    corrupted_prob_mean = float(np.mean(corrupted_probs))\n",
    "\n",
    "    model.reset_hooks(including_permanent=True)\n",
    "\n",
    "    return clean_prob, corrupted_prob_mean, clean_cache"
   ]
  },
  {
   "cell_type": "code",
   "execution_count": 7,
   "metadata": {},
   "outputs": [],
   "source": [
    "def causal_tracing_metric(patched_logits: torch.Tensor, answer_tokens: torch.Tensor, per_prompt=False) -> torch.Tensor:\n",
    "    \"\"\"\n",
    "    Computes causal tracing metric for batched logits.\n",
    "    \n",
    "    Args:\n",
    "        patched_logits: [batch_size, seq_len, vocab_size]\n",
    "        answer_tokens: [batch_size] tensor of correct token IDs\n",
    "        per_prompt: if True, return per-example values; else return mean\n",
    "    \n",
    "    Returns:\n",
    "        Tensor of shape [batch_size] if per_prompt=True else scalar tensor\n",
    "    \"\"\"\n",
    "\n",
    "    # Probabilities of the correct token for each example\n",
    "    patched_prob = torch.softmax(patched_logits[:, -1, :], dim=-1)[\n",
    "        torch.arange(patched_logits.size(0), device=patched_logits.device),\n",
    "        answer_tokens\n",
    "    ]\n",
    "    \n",
    "    # # Expand clean/corrupted probs to match batch size if needed\n",
    "    # clean_prob_tensor = torch.as_tensor(clean_prob, device=patched_logits.device)\n",
    "    # corrupted_prob_tensor = torch.as_tensor(corrupted_prob_mean, device=patched_logits.device)\n",
    "\n",
    "    # if clean_prob_tensor.ndim == 0:\n",
    "    #     clean_prob_tensor = clean_prob_tensor.expand_as(patched_prob)\n",
    "    # if corrupted_prob_tensor.ndim == 0:\n",
    "    #     corrupted_prob_tensor = corrupted_prob_tensor.expand_as(patched_prob)\n",
    "\n",
    "    # denominator = clean_prob_tensor - corrupted_prob_tensor\n",
    "    # safe_denominator = torch.where(torch.abs(denominator) < 1e-6,\n",
    "    #                                torch.ones_like(denominator), denominator)\n",
    "    \n",
    "    # Return metric\n",
    "    # return (patched_prob - corrupted_prob_tensor) / safe_denominator\n",
    "    return patched_prob if per_prompt else patched_prob.mean()"
   ]
  },
  {
   "cell_type": "code",
   "execution_count": 106,
   "metadata": {},
   "outputs": [
    {
     "name": "stdout",
     "output_type": "stream",
     "text": [
      "Prompts: ['<think>\\n\\n</think> Capital of France is', '<think>\\n\\n</think> Capital of Japan is']\n",
      "Answers: [' Paris', ' Tokyo']\n",
      "Answer tokens: tensor([12095, 26194], device='cuda:0')\n"
     ]
    }
   ],
   "source": [
    "# (country, one-word correct capital)\n",
    "country_city_pairs = [\n",
    "    # (\"Canada\", \" Toronto\"),\n",
    "    (\"France\", \" Paris\"),\n",
    "    (\"Japan\", \" Tokyo\"),\n",
    "    # (\"Germany\", \" Berlin\"),\n",
    "    # (\"Italy\", \" Rome\"),\n",
    "    # (\"Spain\", \" Madrid\"),\n",
    "    # (\"Russia\", \" Moscow\"),\n",
    "    # (\"Egypt\", \" Cairo\"),\n",
    "]\n",
    "\n",
    "prompt_format = \"<think>\\n\\n</think> Capital of {} is\"\n",
    "\n",
    "prompts = []\n",
    "answers = []        # correct answers\n",
    "answer_tokens = []  # correct answer tokens\n",
    "\n",
    "for country, capital in country_city_pairs:\n",
    "    prompts.append(prompt_format.format(country))\n",
    "    answers.append(capital)\n",
    "    answer_tokens.append(model.to_tokens(capital)[0][0])\n",
    "\n",
    "answer_tokens = torch.tensor(answer_tokens).to(device)\n",
    "\n",
    "print(\"Prompts:\", prompts)\n",
    "print(\"Answers:\", answers)\n",
    "print(\"Answer tokens:\", answer_tokens)\n",
    "\n",
    "\n",
    "# prompt_format = \"<think>\\nI remember that the capital of {} is {}\\n</think> Capital of {} is \"\n",
    "\n",
    "# prompts = []\n",
    "# answers = []        # correct answers\n",
    "# answer_tokens = []  # correct answer tokens\n",
    "\n",
    "# for country, capital in country_city_pairs:\n",
    "#     prompts.append(prompt_format.format(country, capital.strip(), country))\n",
    "#     answers.append(capital)\n",
    "#     answer_tokens.append(model.to_tokens(capital)[0][0])\n",
    "\n",
    "# answer_tokens = torch.tensor(answer_tokens).to(device)\n",
    "\n",
    "# print(\"Prompts:\", prompts)\n",
    "# print(\"Answers:\", answers)\n",
    "# print(\"Answer tokens:\", answer_tokens)"
   ]
  },
  {
   "cell_type": "code",
   "execution_count": 107,
   "metadata": {},
   "outputs": [],
   "source": [
    "corrupted_prompts = []\n",
    "for i in range(0, len(prompts) - 1, 2): \n",
    "    corrupted_prompts.append(prompts[i + 1])\n",
    "    corrupted_prompts.append(prompts[i])\n",
    "    \n",
    "if len(prompts) % 2 != 0:\n",
    "    corrupted_prompts.append(prompts[0])"
   ]
  },
  {
   "cell_type": "code",
   "execution_count": 108,
   "metadata": {},
   "outputs": [],
   "source": [
    "prompts = prompts[0:1]\n",
    "answer_tokens = answer_tokens[0:1]\n",
    "corrupted_prompts = corrupted_prompts[0:1]"
   ]
  },
  {
   "cell_type": "code",
   "execution_count": 109,
   "metadata": {},
   "outputs": [
    {
     "name": "stdout",
     "output_type": "stream",
     "text": [
      "Corrupted Average Logit Diff 0.0\n",
      "Clean Average Logit Diff 0.89\n"
     ]
    }
   ],
   "source": [
    "corrupted_tokens = model.to_tokens(corrupted_prompts)\n",
    "\n",
    "corrupted_logits, corrupted_cache = model.run_with_cache(\n",
    "    corrupted_tokens, return_type=\"logits\"\n",
    ")\n",
    "corrupted_average_logit_diff = causal_tracing_metric(corrupted_logits, answer_tokens)\n",
    "print(\"Corrupted Average Logit Diff\", round(corrupted_average_logit_diff.item(), 2))\n",
    "print(\"Clean Average Logit Diff\", round(original_average_logit_diff.item(), 2))"
   ]
  },
  {
   "cell_type": "code",
   "execution_count": 110,
   "metadata": {},
   "outputs": [],
   "source": [
    "original_logits, clean_cache = model.run_with_cache(prompts)"
   ]
  },
  {
   "cell_type": "code",
   "execution_count": 111,
   "metadata": {},
   "outputs": [
    {
     "name": "stdout",
     "output_type": "stream",
     "text": [
      "Per prompt logit difference: tensor([0.9062], dtype=torch.bfloat16)\n",
      "Average logit difference: 0.906\n"
     ]
    }
   ],
   "source": [
    "print(\n",
    "    \"Per prompt logit difference:\",\n",
    "    causal_tracing_metric(original_logits, answer_tokens, per_prompt=True)\n",
    "    .detach()\n",
    "    .cpu()\n",
    "    .round(decimals=3),\n",
    ")\n",
    "original_average_logit_diff = causal_tracing_metric(original_logits, answer_tokens)\n",
    "print(\n",
    "    \"Average logit difference:\",\n",
    "    round(causal_tracing_metric(original_logits, answer_tokens).item(), 3),\n",
    ")"
   ]
  },
  {
   "cell_type": "code",
   "execution_count": 112,
   "metadata": {},
   "outputs": [
    {
     "name": "stdout",
     "output_type": "stream",
     "text": [
      "Answer residual directions shape: torch.Size([2048])\n",
      "Logit difference directions shape: torch.Size([1, 2048])\n"
     ]
    }
   ],
   "source": [
    "answer_residual_directions = model.tokens_to_residual_directions(answer_tokens)\n",
    "print(\"Answer residual directions shape:\", answer_residual_directions.shape)\n",
    "logit_diff_directions = answer_residual_directions.unsqueeze(0)\n",
    "print(\"Logit difference directions shape:\", logit_diff_directions.shape)"
   ]
  },
  {
   "cell_type": "code",
   "execution_count": 113,
   "metadata": {},
   "outputs": [
    {
     "data": {
      "text/plain": [
       "tensor([[ 0.0287,  0.0114, -0.0182,  ..., -0.0403, -0.0044, -0.0327]],\n",
       "       device='cuda:0', dtype=torch.bfloat16, requires_grad=True)"
      ]
     },
     "execution_count": 113,
     "metadata": {},
     "output_type": "execute_result"
    }
   ],
   "source": [
    "logit_diff_directions"
   ]
  },
  {
   "cell_type": "code",
   "execution_count": 114,
   "metadata": {},
   "outputs": [],
   "source": [
    "def residual_stack_to_logit_diff(\n",
    "    residual_stack: Float[torch.Tensor, \"components batch d_model\"],\n",
    "    cache: ActivationCache,\n",
    ") -> float:\n",
    "    scaled_residual_stack = cache.apply_ln_to_stack(\n",
    "        residual_stack, layer=-1, pos_slice=-1\n",
    "    )\n",
    "    return einsum(\n",
    "        \"... batch d_model, batch d_model -> ...\",\n",
    "        scaled_residual_stack,\n",
    "        logit_diff_directions.to(dtype=torch.float32),\n",
    "    ) / len(prompts)"
   ]
  },
  {
   "cell_type": "code",
   "execution_count": 115,
   "metadata": {},
   "outputs": [
    {
     "data": {
      "application/vnd.plotly.v1+json": {
       "config": {
        "plotlyServerURL": "https://plot.ly"
       },
       "data": [
        {
         "hovertemplate": "<b>%{hovertext}</b><br><br>x=%{x}<br>y=%{y}<extra></extra>",
         "hovertext": [
          "0_pre",
          "0_mid",
          "1_pre",
          "1_mid",
          "2_pre",
          "2_mid",
          "3_pre",
          "3_mid",
          "4_pre",
          "4_mid",
          "5_pre",
          "5_mid",
          "6_pre",
          "6_mid",
          "7_pre",
          "7_mid",
          "8_pre",
          "8_mid",
          "9_pre",
          "9_mid",
          "10_pre",
          "10_mid",
          "11_pre",
          "11_mid",
          "12_pre",
          "12_mid",
          "13_pre",
          "13_mid",
          "14_pre",
          "14_mid",
          "15_pre",
          "15_mid",
          "16_pre",
          "16_mid",
          "17_pre",
          "17_mid",
          "18_pre",
          "18_mid",
          "19_pre",
          "19_mid",
          "20_pre",
          "20_mid",
          "21_pre",
          "21_mid",
          "22_pre",
          "22_mid",
          "23_pre",
          "23_mid",
          "24_pre",
          "24_mid",
          "25_pre",
          "25_mid",
          "26_pre",
          "26_mid",
          "27_pre",
          "27_mid",
          "final_post"
         ],
         "legendgroup": "",
         "line": {
          "color": "#636efa",
          "dash": "solid"
         },
         "marker": {
          "symbol": "circle"
         },
         "mode": "lines",
         "name": "",
         "orientation": "v",
         "showlegend": false,
         "type": "scatter",
         "x": {
          "bdata": "AAAAAAAAAAAAAAAAAADgPwAAAAAAAPA/AAAAAAAA+D8AAAAAAAAAQAAAAAAAAARAAAAAAAAACEAAAAAAAAAMQAAAAAAAABBAAAAAAAAAEkAAAAAAAAAUQAAAAAAAABZAAAAAAAAAGEAAAAAAAAAaQAAAAAAAABxAAAAAAAAAHkAAAAAAAAAgQAAAAAAAACFAAAAAAAAAIkAAAAAAAAAjQAAAAAAAACRAAAAAAAAAJUAAAAAAAAAmQAAAAAAAACdAAAAAAAAAKEAAAAAAAAApQAAAAAAAACpAAAAAAAAAK0AAAAAAAAAsQAAAAAAAAC1AAAAAAAAALkAAAAAAAAAvQAAAAAAAADBAAAAAAACAMEAAAAAAAAAxQAAAAAAAgDFAAAAAAAAAMkAAAAAAAIAyQAAAAAAAADNAAAAAAACAM0AAAAAAAAA0QAAAAAAAgDRAAAAAAAAANUAAAAAAAIA1QAAAAAAAADZAAAAAAACANkAAAAAAAAA3QAAAAAAAgDdAAAAAAAAAOEAAAAAAAIA4QAAAAAAAADlAAAAAAACAOUAAAAAAAAA6QAAAAAAAgDpAAAAAAAAAO0AAAAAAAIA7QAAAAAAAADxA",
          "dtype": "f8"
         },
         "xaxis": "x",
         "y": {
          "bdata": "aNMiuvArWbpwKqs5aXEpO8bbALvIBUe7BV26uzdWpbtcgZq7/uaDuzoVPLvA30e5QJmBusD06DpYvyI66kngO5BX1DpkY887QMyKugBV8bhgbfu60mePPDK0NLwQBgu8mJ1qvO5QaLyuRxu9FMTYvFwBnzuqOMo8mcCAPKjshjy/0lo9rT+HPXBbhrvXPdY9BrcZPoXTrD5CCQY/grbePpRzKT8UuLQ/bHrwP+VSAUDMhSJA7vowQIpOwkCbu8BAD2DtQA7B7kA0RwVBgKMKQWbMBEFytQhBlA77QPrOBEEUrwRB",
          "dtype": "f4"
         },
         "yaxis": "y"
        }
       ],
       "layout": {
        "legend": {
         "tracegroupgap": 0
        },
        "template": {
         "data": {
          "bar": [
           {
            "error_x": {
             "color": "#2a3f5f"
            },
            "error_y": {
             "color": "#2a3f5f"
            },
            "marker": {
             "line": {
              "color": "#E5ECF6",
              "width": 0.5
             },
             "pattern": {
              "fillmode": "overlay",
              "size": 10,
              "solidity": 0.2
             }
            },
            "type": "bar"
           }
          ],
          "barpolar": [
           {
            "marker": {
             "line": {
              "color": "#E5ECF6",
              "width": 0.5
             },
             "pattern": {
              "fillmode": "overlay",
              "size": 10,
              "solidity": 0.2
             }
            },
            "type": "barpolar"
           }
          ],
          "carpet": [
           {
            "aaxis": {
             "endlinecolor": "#2a3f5f",
             "gridcolor": "white",
             "linecolor": "white",
             "minorgridcolor": "white",
             "startlinecolor": "#2a3f5f"
            },
            "baxis": {
             "endlinecolor": "#2a3f5f",
             "gridcolor": "white",
             "linecolor": "white",
             "minorgridcolor": "white",
             "startlinecolor": "#2a3f5f"
            },
            "type": "carpet"
           }
          ],
          "choropleth": [
           {
            "colorbar": {
             "outlinewidth": 0,
             "ticks": ""
            },
            "type": "choropleth"
           }
          ],
          "contour": [
           {
            "colorbar": {
             "outlinewidth": 0,
             "ticks": ""
            },
            "colorscale": [
             [
              0,
              "#0d0887"
             ],
             [
              0.1111111111111111,
              "#46039f"
             ],
             [
              0.2222222222222222,
              "#7201a8"
             ],
             [
              0.3333333333333333,
              "#9c179e"
             ],
             [
              0.4444444444444444,
              "#bd3786"
             ],
             [
              0.5555555555555556,
              "#d8576b"
             ],
             [
              0.6666666666666666,
              "#ed7953"
             ],
             [
              0.7777777777777778,
              "#fb9f3a"
             ],
             [
              0.8888888888888888,
              "#fdca26"
             ],
             [
              1,
              "#f0f921"
             ]
            ],
            "type": "contour"
           }
          ],
          "contourcarpet": [
           {
            "colorbar": {
             "outlinewidth": 0,
             "ticks": ""
            },
            "type": "contourcarpet"
           }
          ],
          "heatmap": [
           {
            "colorbar": {
             "outlinewidth": 0,
             "ticks": ""
            },
            "colorscale": [
             [
              0,
              "#0d0887"
             ],
             [
              0.1111111111111111,
              "#46039f"
             ],
             [
              0.2222222222222222,
              "#7201a8"
             ],
             [
              0.3333333333333333,
              "#9c179e"
             ],
             [
              0.4444444444444444,
              "#bd3786"
             ],
             [
              0.5555555555555556,
              "#d8576b"
             ],
             [
              0.6666666666666666,
              "#ed7953"
             ],
             [
              0.7777777777777778,
              "#fb9f3a"
             ],
             [
              0.8888888888888888,
              "#fdca26"
             ],
             [
              1,
              "#f0f921"
             ]
            ],
            "type": "heatmap"
           }
          ],
          "histogram": [
           {
            "marker": {
             "pattern": {
              "fillmode": "overlay",
              "size": 10,
              "solidity": 0.2
             }
            },
            "type": "histogram"
           }
          ],
          "histogram2d": [
           {
            "colorbar": {
             "outlinewidth": 0,
             "ticks": ""
            },
            "colorscale": [
             [
              0,
              "#0d0887"
             ],
             [
              0.1111111111111111,
              "#46039f"
             ],
             [
              0.2222222222222222,
              "#7201a8"
             ],
             [
              0.3333333333333333,
              "#9c179e"
             ],
             [
              0.4444444444444444,
              "#bd3786"
             ],
             [
              0.5555555555555556,
              "#d8576b"
             ],
             [
              0.6666666666666666,
              "#ed7953"
             ],
             [
              0.7777777777777778,
              "#fb9f3a"
             ],
             [
              0.8888888888888888,
              "#fdca26"
             ],
             [
              1,
              "#f0f921"
             ]
            ],
            "type": "histogram2d"
           }
          ],
          "histogram2dcontour": [
           {
            "colorbar": {
             "outlinewidth": 0,
             "ticks": ""
            },
            "colorscale": [
             [
              0,
              "#0d0887"
             ],
             [
              0.1111111111111111,
              "#46039f"
             ],
             [
              0.2222222222222222,
              "#7201a8"
             ],
             [
              0.3333333333333333,
              "#9c179e"
             ],
             [
              0.4444444444444444,
              "#bd3786"
             ],
             [
              0.5555555555555556,
              "#d8576b"
             ],
             [
              0.6666666666666666,
              "#ed7953"
             ],
             [
              0.7777777777777778,
              "#fb9f3a"
             ],
             [
              0.8888888888888888,
              "#fdca26"
             ],
             [
              1,
              "#f0f921"
             ]
            ],
            "type": "histogram2dcontour"
           }
          ],
          "mesh3d": [
           {
            "colorbar": {
             "outlinewidth": 0,
             "ticks": ""
            },
            "type": "mesh3d"
           }
          ],
          "parcoords": [
           {
            "line": {
             "colorbar": {
              "outlinewidth": 0,
              "ticks": ""
             }
            },
            "type": "parcoords"
           }
          ],
          "pie": [
           {
            "automargin": true,
            "type": "pie"
           }
          ],
          "scatter": [
           {
            "fillpattern": {
             "fillmode": "overlay",
             "size": 10,
             "solidity": 0.2
            },
            "type": "scatter"
           }
          ],
          "scatter3d": [
           {
            "line": {
             "colorbar": {
              "outlinewidth": 0,
              "ticks": ""
             }
            },
            "marker": {
             "colorbar": {
              "outlinewidth": 0,
              "ticks": ""
             }
            },
            "type": "scatter3d"
           }
          ],
          "scattercarpet": [
           {
            "marker": {
             "colorbar": {
              "outlinewidth": 0,
              "ticks": ""
             }
            },
            "type": "scattercarpet"
           }
          ],
          "scattergeo": [
           {
            "marker": {
             "colorbar": {
              "outlinewidth": 0,
              "ticks": ""
             }
            },
            "type": "scattergeo"
           }
          ],
          "scattergl": [
           {
            "marker": {
             "colorbar": {
              "outlinewidth": 0,
              "ticks": ""
             }
            },
            "type": "scattergl"
           }
          ],
          "scattermap": [
           {
            "marker": {
             "colorbar": {
              "outlinewidth": 0,
              "ticks": ""
             }
            },
            "type": "scattermap"
           }
          ],
          "scattermapbox": [
           {
            "marker": {
             "colorbar": {
              "outlinewidth": 0,
              "ticks": ""
             }
            },
            "type": "scattermapbox"
           }
          ],
          "scatterpolar": [
           {
            "marker": {
             "colorbar": {
              "outlinewidth": 0,
              "ticks": ""
             }
            },
            "type": "scatterpolar"
           }
          ],
          "scatterpolargl": [
           {
            "marker": {
             "colorbar": {
              "outlinewidth": 0,
              "ticks": ""
             }
            },
            "type": "scatterpolargl"
           }
          ],
          "scatterternary": [
           {
            "marker": {
             "colorbar": {
              "outlinewidth": 0,
              "ticks": ""
             }
            },
            "type": "scatterternary"
           }
          ],
          "surface": [
           {
            "colorbar": {
             "outlinewidth": 0,
             "ticks": ""
            },
            "colorscale": [
             [
              0,
              "#0d0887"
             ],
             [
              0.1111111111111111,
              "#46039f"
             ],
             [
              0.2222222222222222,
              "#7201a8"
             ],
             [
              0.3333333333333333,
              "#9c179e"
             ],
             [
              0.4444444444444444,
              "#bd3786"
             ],
             [
              0.5555555555555556,
              "#d8576b"
             ],
             [
              0.6666666666666666,
              "#ed7953"
             ],
             [
              0.7777777777777778,
              "#fb9f3a"
             ],
             [
              0.8888888888888888,
              "#fdca26"
             ],
             [
              1,
              "#f0f921"
             ]
            ],
            "type": "surface"
           }
          ],
          "table": [
           {
            "cells": {
             "fill": {
              "color": "#EBF0F8"
             },
             "line": {
              "color": "white"
             }
            },
            "header": {
             "fill": {
              "color": "#C8D4E3"
             },
             "line": {
              "color": "white"
             }
            },
            "type": "table"
           }
          ]
         },
         "layout": {
          "annotationdefaults": {
           "arrowcolor": "#2a3f5f",
           "arrowhead": 0,
           "arrowwidth": 1
          },
          "autotypenumbers": "strict",
          "coloraxis": {
           "colorbar": {
            "outlinewidth": 0,
            "ticks": ""
           }
          },
          "colorscale": {
           "diverging": [
            [
             0,
             "#8e0152"
            ],
            [
             0.1,
             "#c51b7d"
            ],
            [
             0.2,
             "#de77ae"
            ],
            [
             0.3,
             "#f1b6da"
            ],
            [
             0.4,
             "#fde0ef"
            ],
            [
             0.5,
             "#f7f7f7"
            ],
            [
             0.6,
             "#e6f5d0"
            ],
            [
             0.7,
             "#b8e186"
            ],
            [
             0.8,
             "#7fbc41"
            ],
            [
             0.9,
             "#4d9221"
            ],
            [
             1,
             "#276419"
            ]
           ],
           "sequential": [
            [
             0,
             "#0d0887"
            ],
            [
             0.1111111111111111,
             "#46039f"
            ],
            [
             0.2222222222222222,
             "#7201a8"
            ],
            [
             0.3333333333333333,
             "#9c179e"
            ],
            [
             0.4444444444444444,
             "#bd3786"
            ],
            [
             0.5555555555555556,
             "#d8576b"
            ],
            [
             0.6666666666666666,
             "#ed7953"
            ],
            [
             0.7777777777777778,
             "#fb9f3a"
            ],
            [
             0.8888888888888888,
             "#fdca26"
            ],
            [
             1,
             "#f0f921"
            ]
           ],
           "sequentialminus": [
            [
             0,
             "#0d0887"
            ],
            [
             0.1111111111111111,
             "#46039f"
            ],
            [
             0.2222222222222222,
             "#7201a8"
            ],
            [
             0.3333333333333333,
             "#9c179e"
            ],
            [
             0.4444444444444444,
             "#bd3786"
            ],
            [
             0.5555555555555556,
             "#d8576b"
            ],
            [
             0.6666666666666666,
             "#ed7953"
            ],
            [
             0.7777777777777778,
             "#fb9f3a"
            ],
            [
             0.8888888888888888,
             "#fdca26"
            ],
            [
             1,
             "#f0f921"
            ]
           ]
          },
          "colorway": [
           "#636efa",
           "#EF553B",
           "#00cc96",
           "#ab63fa",
           "#FFA15A",
           "#19d3f3",
           "#FF6692",
           "#B6E880",
           "#FF97FF",
           "#FECB52"
          ],
          "font": {
           "color": "#2a3f5f"
          },
          "geo": {
           "bgcolor": "white",
           "lakecolor": "white",
           "landcolor": "#E5ECF6",
           "showlakes": true,
           "showland": true,
           "subunitcolor": "white"
          },
          "hoverlabel": {
           "align": "left"
          },
          "hovermode": "closest",
          "mapbox": {
           "style": "light"
          },
          "paper_bgcolor": "white",
          "plot_bgcolor": "#E5ECF6",
          "polar": {
           "angularaxis": {
            "gridcolor": "white",
            "linecolor": "white",
            "ticks": ""
           },
           "bgcolor": "#E5ECF6",
           "radialaxis": {
            "gridcolor": "white",
            "linecolor": "white",
            "ticks": ""
           }
          },
          "scene": {
           "xaxis": {
            "backgroundcolor": "#E5ECF6",
            "gridcolor": "white",
            "gridwidth": 2,
            "linecolor": "white",
            "showbackground": true,
            "ticks": "",
            "zerolinecolor": "white"
           },
           "yaxis": {
            "backgroundcolor": "#E5ECF6",
            "gridcolor": "white",
            "gridwidth": 2,
            "linecolor": "white",
            "showbackground": true,
            "ticks": "",
            "zerolinecolor": "white"
           },
           "zaxis": {
            "backgroundcolor": "#E5ECF6",
            "gridcolor": "white",
            "gridwidth": 2,
            "linecolor": "white",
            "showbackground": true,
            "ticks": "",
            "zerolinecolor": "white"
           }
          },
          "shapedefaults": {
           "line": {
            "color": "#2a3f5f"
           }
          },
          "ternary": {
           "aaxis": {
            "gridcolor": "white",
            "linecolor": "white",
            "ticks": ""
           },
           "baxis": {
            "gridcolor": "white",
            "linecolor": "white",
            "ticks": ""
           },
           "bgcolor": "#E5ECF6",
           "caxis": {
            "gridcolor": "white",
            "linecolor": "white",
            "ticks": ""
           }
          },
          "title": {
           "x": 0.05
          },
          "xaxis": {
           "automargin": true,
           "gridcolor": "white",
           "linecolor": "white",
           "ticks": "",
           "title": {
            "standoff": 15
           },
           "zerolinecolor": "white",
           "zerolinewidth": 2
          },
          "yaxis": {
           "automargin": true,
           "gridcolor": "white",
           "linecolor": "white",
           "ticks": "",
           "title": {
            "standoff": 15
           },
           "zerolinecolor": "white",
           "zerolinewidth": 2
          }
         }
        },
        "title": {
         "text": "Logit Difference From Accumulate Residual Stream"
        },
        "xaxis": {
         "anchor": "y",
         "domain": [
          0,
          1
         ],
         "title": {
          "text": "x"
         }
        },
        "yaxis": {
         "anchor": "x",
         "domain": [
          0,
          1
         ],
         "title": {
          "text": "y"
         }
        }
       }
      },
      "image/png": "[encoded data removed]"
     },
     "metadata": {},
     "output_type": "display_data"
    }
   ],
   "source": [
    "accumulated_residual, labels = clean_cache.accumulated_resid(\n",
    "    layer=-1, incl_mid=True, pos_slice=-1, return_labels=True\n",
    ")\n",
    "logit_lens_logit_diffs = residual_stack_to_logit_diff(accumulated_residual, clean_cache)\n",
    "line(\n",
    "    logit_lens_logit_diffs,\n",
    "    x=np.arange(model.cfg.n_layers * 2 + 1) / 2,\n",
    "    hover_name=labels,\n",
    "    title=\"Logit Difference From Accumulate Residual Stream\",\n",
    ")"
   ]
  },
  {
   "cell_type": "code",
   "execution_count": 116,
   "metadata": {},
   "outputs": [
    {
     "data": {
      "application/vnd.plotly.v1+json": {
       "config": {
        "plotlyServerURL": "https://plot.ly"
       },
       "data": [
        {
         "hovertemplate": "<b>%{hovertext}</b><br><br>x=%{x}<br>y=%{y}<extra></extra>",
         "hovertext": [
          "embed",
          "0_attn_out",
          "0_mlp_out",
          "1_attn_out",
          "1_mlp_out",
          "2_attn_out",
          "2_mlp_out",
          "3_attn_out",
          "3_mlp_out",
          "4_attn_out",
          "4_mlp_out",
          "5_attn_out",
          "5_mlp_out",
          "6_attn_out",
          "6_mlp_out",
          "7_attn_out",
          "7_mlp_out",
          "8_attn_out",
          "8_mlp_out",
          "9_attn_out",
          "9_mlp_out",
          "10_attn_out",
          "10_mlp_out",
          "11_attn_out",
          "11_mlp_out",
          "12_attn_out",
          "12_mlp_out",
          "13_attn_out",
          "13_mlp_out",
          "14_attn_out",
          "14_mlp_out",
          "15_attn_out",
          "15_mlp_out",
          "16_attn_out",
          "16_mlp_out",
          "17_attn_out",
          "17_mlp_out",
          "18_attn_out",
          "18_mlp_out",
          "19_attn_out",
          "19_mlp_out",
          "20_attn_out",
          "20_mlp_out",
          "21_attn_out",
          "21_mlp_out",
          "22_attn_out",
          "22_mlp_out",
          "23_attn_out",
          "23_mlp_out",
          "24_attn_out",
          "24_mlp_out",
          "25_attn_out",
          "25_mlp_out",
          "26_attn_out",
          "26_mlp_out",
          "27_attn_out",
          "27_mlp_out"
         ],
         "legendgroup": "",
         "line": {
          "color": "#636efa",
          "dash": "solid"
         },
         "marker": {
          "symbol": "circle"
         },
         "mode": "lines",
         "name": "",
         "orientation": "v",
         "showlegend": false,
         "type": "scatter",
         "x": {
          "bdata": "AAECAwQFBgcICQoLDA0ODxAREhMUFRYXGBkaGxwdHh8gISIjJCUmJygpKissLS4vMDEyMzQ1Njc4",
          "dtype": "i1"
         },
         "xaxis": "x",
         "y": {
          "bdata": "aNMiuoDOVbkrOZg6MXoTOwTvlLsiRIi6mUsuu/AkKTpIVqg5uvMzOkEEmjoQhDA78KdIuiCVMztFIpm6osHLO7meq7ta1Js774ryu6gmgDqoB+26NJSePPJR6rx+wyA7WlG7u0CsizegQsK8EDQ5PMKKAD1X4aE8Sr0SvBSlgzoHlhc9zPlMPHE7j73w7d49Rdo6PSVxPz5yRz4+K021vXpNaD7I5z8/dQfvPuD6ED53wgQ/0o9oPj1+U0Camka92a6yP2zvKD18ql4/K3mtPszDu76+BH0+Tx8zv0lF6z4gbIa7",
          "dtype": "f4"
         },
         "yaxis": "y"
        }
       ],
       "layout": {
        "legend": {
         "tracegroupgap": 0
        },
        "template": {
         "data": {
          "bar": [
           {
            "error_x": {
             "color": "#2a3f5f"
            },
            "error_y": {
             "color": "#2a3f5f"
            },
            "marker": {
             "line": {
              "color": "#E5ECF6",
              "width": 0.5
             },
             "pattern": {
              "fillmode": "overlay",
              "size": 10,
              "solidity": 0.2
             }
            },
            "type": "bar"
           }
          ],
          "barpolar": [
           {
            "marker": {
             "line": {
              "color": "#E5ECF6",
              "width": 0.5
             },
             "pattern": {
              "fillmode": "overlay",
              "size": 10,
              "solidity": 0.2
             }
            },
            "type": "barpolar"
           }
          ],
          "carpet": [
           {
            "aaxis": {
             "endlinecolor": "#2a3f5f",
             "gridcolor": "white",
             "linecolor": "white",
             "minorgridcolor": "white",
             "startlinecolor": "#2a3f5f"
            },
            "baxis": {
             "endlinecolor": "#2a3f5f",
             "gridcolor": "white",
             "linecolor": "white",
             "minorgridcolor": "white",
             "startlinecolor": "#2a3f5f"
            },
            "type": "carpet"
           }
          ],
          "choropleth": [
           {
            "colorbar": {
             "outlinewidth": 0,
             "ticks": ""
            },
            "type": "choropleth"
           }
          ],
          "contour": [
           {
            "colorbar": {
             "outlinewidth": 0,
             "ticks": ""
            },
            "colorscale": [
             [
              0,
              "#0d0887"
             ],
             [
              0.1111111111111111,
              "#46039f"
             ],
             [
              0.2222222222222222,
              "#7201a8"
             ],
             [
              0.3333333333333333,
              "#9c179e"
             ],
             [
              0.4444444444444444,
              "#bd3786"
             ],
             [
              0.5555555555555556,
              "#d8576b"
             ],
             [
              0.6666666666666666,
              "#ed7953"
             ],
             [
              0.7777777777777778,
              "#fb9f3a"
             ],
             [
              0.8888888888888888,
              "#fdca26"
             ],
             [
              1,
              "#f0f921"
             ]
            ],
            "type": "contour"
           }
          ],
          "contourcarpet": [
           {
            "colorbar": {
             "outlinewidth": 0,
             "ticks": ""
            },
            "type": "contourcarpet"
           }
          ],
          "heatmap": [
           {
            "colorbar": {
             "outlinewidth": 0,
             "ticks": ""
            },
            "colorscale": [
             [
              0,
              "#0d0887"
             ],
             [
              0.1111111111111111,
              "#46039f"
             ],
             [
              0.2222222222222222,
              "#7201a8"
             ],
             [
              0.3333333333333333,
              "#9c179e"
             ],
             [
              0.4444444444444444,
              "#bd3786"
             ],
             [
              0.5555555555555556,
              "#d8576b"
             ],
             [
              0.6666666666666666,
              "#ed7953"
             ],
             [
              0.7777777777777778,
              "#fb9f3a"
             ],
             [
              0.8888888888888888,
              "#fdca26"
             ],
             [
              1,
              "#f0f921"
             ]
            ],
            "type": "heatmap"
           }
          ],
          "histogram": [
           {
            "marker": {
             "pattern": {
              "fillmode": "overlay",
              "size": 10,
              "solidity": 0.2
             }
            },
            "type": "histogram"
           }
          ],
          "histogram2d": [
           {
            "colorbar": {
             "outlinewidth": 0,
             "ticks": ""
            },
            "colorscale": [
             [
              0,
              "#0d0887"
             ],
             [
              0.1111111111111111,
              "#46039f"
             ],
             [
              0.2222222222222222,
              "#7201a8"
             ],
             [
              0.3333333333333333,
              "#9c179e"
             ],
             [
              0.4444444444444444,
              "#bd3786"
             ],
             [
              0.5555555555555556,
              "#d8576b"
             ],
             [
              0.6666666666666666,
              "#ed7953"
             ],
             [
              0.7777777777777778,
              "#fb9f3a"
             ],
             [
              0.8888888888888888,
              "#fdca26"
             ],
             [
              1,
              "#f0f921"
             ]
            ],
            "type": "histogram2d"
           }
          ],
          "histogram2dcontour": [
           {
            "colorbar": {
             "outlinewidth": 0,
             "ticks": ""
            },
            "colorscale": [
             [
              0,
              "#0d0887"
             ],
             [
              0.1111111111111111,
              "#46039f"
             ],
             [
              0.2222222222222222,
              "#7201a8"
             ],
             [
              0.3333333333333333,
              "#9c179e"
             ],
             [
              0.4444444444444444,
              "#bd3786"
             ],
             [
              0.5555555555555556,
              "#d8576b"
             ],
             [
              0.6666666666666666,
              "#ed7953"
             ],
             [
              0.7777777777777778,
              "#fb9f3a"
             ],
             [
              0.8888888888888888,
              "#fdca26"
             ],
             [
              1,
              "#f0f921"
             ]
            ],
            "type": "histogram2dcontour"
           }
          ],
          "mesh3d": [
           {
            "colorbar": {
             "outlinewidth": 0,
             "ticks": ""
            },
            "type": "mesh3d"
           }
          ],
          "parcoords": [
           {
            "line": {
             "colorbar": {
              "outlinewidth": 0,
              "ticks": ""
             }
            },
            "type": "parcoords"
           }
          ],
          "pie": [
           {
            "automargin": true,
            "type": "pie"
           }
          ],
          "scatter": [
           {
            "fillpattern": {
             "fillmode": "overlay",
             "size": 10,
             "solidity": 0.2
            },
            "type": "scatter"
           }
          ],
          "scatter3d": [
           {
            "line": {
             "colorbar": {
              "outlinewidth": 0,
              "ticks": ""
             }
            },
            "marker": {
             "colorbar": {
              "outlinewidth": 0,
              "ticks": ""
             }
            },
            "type": "scatter3d"
           }
          ],
          "scattercarpet": [
           {
            "marker": {
             "colorbar": {
              "outlinewidth": 0,
              "ticks": ""
             }
            },
            "type": "scattercarpet"
           }
          ],
          "scattergeo": [
           {
            "marker": {
             "colorbar": {
              "outlinewidth": 0,
              "ticks": ""
             }
            },
            "type": "scattergeo"
           }
          ],
          "scattergl": [
           {
            "marker": {
             "colorbar": {
              "outlinewidth": 0,
              "ticks": ""
             }
            },
            "type": "scattergl"
           }
          ],
          "scattermap": [
           {
            "marker": {
             "colorbar": {
              "outlinewidth": 0,
              "ticks": ""
             }
            },
            "type": "scattermap"
           }
          ],
          "scattermapbox": [
           {
            "marker": {
             "colorbar": {
              "outlinewidth": 0,
              "ticks": ""
             }
            },
            "type": "scattermapbox"
           }
          ],
          "scatterpolar": [
           {
            "marker": {
             "colorbar": {
              "outlinewidth": 0,
              "ticks": ""
             }
            },
            "type": "scatterpolar"
           }
          ],
          "scatterpolargl": [
           {
            "marker": {
             "colorbar": {
              "outlinewidth": 0,
              "ticks": ""
             }
            },
            "type": "scatterpolargl"
           }
          ],
          "scatterternary": [
           {
            "marker": {
             "colorbar": {
              "outlinewidth": 0,
              "ticks": ""
             }
            },
            "type": "scatterternary"
           }
          ],
          "surface": [
           {
            "colorbar": {
             "outlinewidth": 0,
             "ticks": ""
            },
            "colorscale": [
             [
              0,
              "#0d0887"
             ],
             [
              0.1111111111111111,
              "#46039f"
             ],
             [
              0.2222222222222222,
              "#7201a8"
             ],
             [
              0.3333333333333333,
              "#9c179e"
             ],
             [
              0.4444444444444444,
              "#bd3786"
             ],
             [
              0.5555555555555556,
              "#d8576b"
             ],
             [
              0.6666666666666666,
              "#ed7953"
             ],
             [
              0.7777777777777778,
              "#fb9f3a"
             ],
             [
              0.8888888888888888,
              "#fdca26"
             ],
             [
              1,
              "#f0f921"
             ]
            ],
            "type": "surface"
           }
          ],
          "table": [
           {
            "cells": {
             "fill": {
              "color": "#EBF0F8"
             },
             "line": {
              "color": "white"
             }
            },
            "header": {
             "fill": {
              "color": "#C8D4E3"
             },
             "line": {
              "color": "white"
             }
            },
            "type": "table"
           }
          ]
         },
         "layout": {
          "annotationdefaults": {
           "arrowcolor": "#2a3f5f",
           "arrowhead": 0,
           "arrowwidth": 1
          },
          "autotypenumbers": "strict",
          "coloraxis": {
           "colorbar": {
            "outlinewidth": 0,
            "ticks": ""
           }
          },
          "colorscale": {
           "diverging": [
            [
             0,
             "#8e0152"
            ],
            [
             0.1,
             "#c51b7d"
            ],
            [
             0.2,
             "#de77ae"
            ],
            [
             0.3,
             "#f1b6da"
            ],
            [
             0.4,
             "#fde0ef"
            ],
            [
             0.5,
             "#f7f7f7"
            ],
            [
             0.6,
             "#e6f5d0"
            ],
            [
             0.7,
             "#b8e186"
            ],
            [
             0.8,
             "#7fbc41"
            ],
            [
             0.9,
             "#4d9221"
            ],
            [
             1,
             "#276419"
            ]
           ],
           "sequential": [
            [
             0,
             "#0d0887"
            ],
            [
             0.1111111111111111,
             "#46039f"
            ],
            [
             0.2222222222222222,
             "#7201a8"
            ],
            [
             0.3333333333333333,
             "#9c179e"
            ],
            [
             0.4444444444444444,
             "#bd3786"
            ],
            [
             0.5555555555555556,
             "#d8576b"
            ],
            [
             0.6666666666666666,
             "#ed7953"
            ],
            [
             0.7777777777777778,
             "#fb9f3a"
            ],
            [
             0.8888888888888888,
             "#fdca26"
            ],
            [
             1,
             "#f0f921"
            ]
           ],
           "sequentialminus": [
            [
             0,
             "#0d0887"
            ],
            [
             0.1111111111111111,
             "#46039f"
            ],
            [
             0.2222222222222222,
             "#7201a8"
            ],
            [
             0.3333333333333333,
             "#9c179e"
            ],
            [
             0.4444444444444444,
             "#bd3786"
            ],
            [
             0.5555555555555556,
             "#d8576b"
            ],
            [
             0.6666666666666666,
             "#ed7953"
            ],
            [
             0.7777777777777778,
             "#fb9f3a"
            ],
            [
             0.8888888888888888,
             "#fdca26"
            ],
            [
             1,
             "#f0f921"
            ]
           ]
          },
          "colorway": [
           "#636efa",
           "#EF553B",
           "#00cc96",
           "#ab63fa",
           "#FFA15A",
           "#19d3f3",
           "#FF6692",
           "#B6E880",
           "#FF97FF",
           "#FECB52"
          ],
          "font": {
           "color": "#2a3f5f"
          },
          "geo": {
           "bgcolor": "white",
           "lakecolor": "white",
           "landcolor": "#E5ECF6",
           "showlakes": true,
           "showland": true,
           "subunitcolor": "white"
          },
          "hoverlabel": {
           "align": "left"
          },
          "hovermode": "closest",
          "mapbox": {
           "style": "light"
          },
          "paper_bgcolor": "white",
          "plot_bgcolor": "#E5ECF6",
          "polar": {
           "angularaxis": {
            "gridcolor": "white",
            "linecolor": "white",
            "ticks": ""
           },
           "bgcolor": "#E5ECF6",
           "radialaxis": {
            "gridcolor": "white",
            "linecolor": "white",
            "ticks": ""
           }
          },
          "scene": {
           "xaxis": {
            "backgroundcolor": "#E5ECF6",
            "gridcolor": "white",
            "gridwidth": 2,
            "linecolor": "white",
            "showbackground": true,
            "ticks": "",
            "zerolinecolor": "white"
           },
           "yaxis": {
            "backgroundcolor": "#E5ECF6",
            "gridcolor": "white",
            "gridwidth": 2,
            "linecolor": "white",
            "showbackground": true,
            "ticks": "",
            "zerolinecolor": "white"
           },
           "zaxis": {
            "backgroundcolor": "#E5ECF6",
            "gridcolor": "white",
            "gridwidth": 2,
            "linecolor": "white",
            "showbackground": true,
            "ticks": "",
            "zerolinecolor": "white"
           }
          },
          "shapedefaults": {
           "line": {
            "color": "#2a3f5f"
           }
          },
          "ternary": {
           "aaxis": {
            "gridcolor": "white",
            "linecolor": "white",
            "ticks": ""
           },
           "baxis": {
            "gridcolor": "white",
            "linecolor": "white",
            "ticks": ""
           },
           "bgcolor": "#E5ECF6",
           "caxis": {
            "gridcolor": "white",
            "linecolor": "white",
            "ticks": ""
           }
          },
          "title": {
           "x": 0.05
          },
          "xaxis": {
           "automargin": true,
           "gridcolor": "white",
           "linecolor": "white",
           "ticks": "",
           "title": {
            "standoff": 15
           },
           "zerolinecolor": "white",
           "zerolinewidth": 2
          },
          "yaxis": {
           "automargin": true,
           "gridcolor": "white",
           "linecolor": "white",
           "ticks": "",
           "title": {
            "standoff": 15
           },
           "zerolinecolor": "white",
           "zerolinewidth": 2
          }
         }
        },
        "title": {
         "text": "Logit Difference From Each Layer"
        },
        "xaxis": {
         "anchor": "y",
         "domain": [
          0,
          1
         ],
         "title": {
          "text": "x"
         }
        },
        "yaxis": {
         "anchor": "x",
         "domain": [
          0,
          1
         ],
         "title": {
          "text": "y"
         }
        }
       }
      },
      "image/png": "[encoded data removed]"
     },
     "metadata": {},
     "output_type": "display_data"
    }
   ],
   "source": [
    "per_layer_residual, labels = clean_cache.decompose_resid(\n",
    "    layer=-1, pos_slice=-1, return_labels=True\n",
    ")\n",
    "per_layer_logit_diffs = residual_stack_to_logit_diff(per_layer_residual, clean_cache)\n",
    "line(per_layer_logit_diffs, hover_name=labels, title=\"Logit Difference From Each Layer\")"
   ]
  },
  {
   "cell_type": "code",
   "execution_count": 117,
   "metadata": {},
   "outputs": [
    {
     "name": "stdout",
     "output_type": "stream",
     "text": [
      "Tried to stack head results when they weren't cached. Computing head results now\n"
     ]
    },
    {
     "data": {
      "application/vnd.plotly.v1+json": {
       "config": {
        "plotlyServerURL": "https://plot.ly"
       },
       "data": [
        {
         "coloraxis": "coloraxis",
         "hovertemplate": "Head: %{x}<br>Layer: %{y}<br>color: %{z}<extra></extra>",
         "name": "0",
         "type": "heatmap",
         "xaxis": "x",
         "yaxis": "y",
         "z": {
          "bdata": "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",
          "dtype": "f4",
          "shape": "28, 16"
         }
        }
       ],
       "layout": {
        "coloraxis": {
         "cmid": 0,
         "colorscale": [
          [
           0,
           "rgb(103,0,31)"
          ],
          [
           0.1,
           "rgb(178,24,43)"
          ],
          [
           0.2,
           "rgb(214,96,77)"
          ],
          [
           0.3,
           "rgb(244,165,130)"
          ],
          [
           0.4,
           "rgb(253,219,199)"
          ],
          [
           0.5,
           "rgb(247,247,247)"
          ],
          [
           0.6,
           "rgb(209,229,240)"
          ],
          [
           0.7,
           "rgb(146,197,222)"
          ],
          [
           0.8,
           "rgb(67,147,195)"
          ],
          [
           0.9,
           "rgb(33,102,172)"
          ],
          [
           1,
           "rgb(5,48,97)"
          ]
         ]
        },
        "template": {
         "data": {
          "bar": [
           {
            "error_x": {
             "color": "#2a3f5f"
            },
            "error_y": {
             "color": "#2a3f5f"
            },
            "marker": {
             "line": {
              "color": "#E5ECF6",
              "width": 0.5
             },
             "pattern": {
              "fillmode": "overlay",
              "size": 10,
              "solidity": 0.2
             }
            },
            "type": "bar"
           }
          ],
          "barpolar": [
           {
            "marker": {
             "line": {
              "color": "#E5ECF6",
              "width": 0.5
             },
             "pattern": {
              "fillmode": "overlay",
              "size": 10,
              "solidity": 0.2
             }
            },
            "type": "barpolar"
           }
          ],
          "carpet": [
           {
            "aaxis": {
             "endlinecolor": "#2a3f5f",
             "gridcolor": "white",
             "linecolor": "white",
             "minorgridcolor": "white",
             "startlinecolor": "#2a3f5f"
            },
            "baxis": {
             "endlinecolor": "#2a3f5f",
             "gridcolor": "white",
             "linecolor": "white",
             "minorgridcolor": "white",
             "startlinecolor": "#2a3f5f"
            },
            "type": "carpet"
           }
          ],
          "choropleth": [
           {
            "colorbar": {
             "outlinewidth": 0,
             "ticks": ""
            },
            "type": "choropleth"
           }
          ],
          "contour": [
           {
            "colorbar": {
             "outlinewidth": 0,
             "ticks": ""
            },
            "colorscale": [
             [
              0,
              "#0d0887"
             ],
             [
              0.1111111111111111,
              "#46039f"
             ],
             [
              0.2222222222222222,
              "#7201a8"
             ],
             [
              0.3333333333333333,
              "#9c179e"
             ],
             [
              0.4444444444444444,
              "#bd3786"
             ],
             [
              0.5555555555555556,
              "#d8576b"
             ],
             [
              0.6666666666666666,
              "#ed7953"
             ],
             [
              0.7777777777777778,
              "#fb9f3a"
             ],
             [
              0.8888888888888888,
              "#fdca26"
             ],
             [
              1,
              "#f0f921"
             ]
            ],
            "type": "contour"
           }
          ],
          "contourcarpet": [
           {
            "colorbar": {
             "outlinewidth": 0,
             "ticks": ""
            },
            "type": "contourcarpet"
           }
          ],
          "heatmap": [
           {
            "colorbar": {
             "outlinewidth": 0,
             "ticks": ""
            },
            "colorscale": [
             [
              0,
              "#0d0887"
             ],
             [
              0.1111111111111111,
              "#46039f"
             ],
             [
              0.2222222222222222,
              "#7201a8"
             ],
             [
              0.3333333333333333,
              "#9c179e"
             ],
             [
              0.4444444444444444,
              "#bd3786"
             ],
             [
              0.5555555555555556,
              "#d8576b"
             ],
             [
              0.6666666666666666,
              "#ed7953"
             ],
             [
              0.7777777777777778,
              "#fb9f3a"
             ],
             [
              0.8888888888888888,
              "#fdca26"
             ],
             [
              1,
              "#f0f921"
             ]
            ],
            "type": "heatmap"
           }
          ],
          "histogram": [
           {
            "marker": {
             "pattern": {
              "fillmode": "overlay",
              "size": 10,
              "solidity": 0.2
             }
            },
            "type": "histogram"
           }
          ],
          "histogram2d": [
           {
            "colorbar": {
             "outlinewidth": 0,
             "ticks": ""
            },
            "colorscale": [
             [
              0,
              "#0d0887"
             ],
             [
              0.1111111111111111,
              "#46039f"
             ],
             [
              0.2222222222222222,
              "#7201a8"
             ],
             [
              0.3333333333333333,
              "#9c179e"
             ],
             [
              0.4444444444444444,
              "#bd3786"
             ],
             [
              0.5555555555555556,
              "#d8576b"
             ],
             [
              0.6666666666666666,
              "#ed7953"
             ],
             [
              0.7777777777777778,
              "#fb9f3a"
             ],
             [
              0.8888888888888888,
              "#fdca26"
             ],
             [
              1,
              "#f0f921"
             ]
            ],
            "type": "histogram2d"
           }
          ],
          "histogram2dcontour": [
           {
            "colorbar": {
             "outlinewidth": 0,
             "ticks": ""
            },
            "colorscale": [
             [
              0,
              "#0d0887"
             ],
             [
              0.1111111111111111,
              "#46039f"
             ],
             [
              0.2222222222222222,
              "#7201a8"
             ],
             [
              0.3333333333333333,
              "#9c179e"
             ],
             [
              0.4444444444444444,
              "#bd3786"
             ],
             [
              0.5555555555555556,
              "#d8576b"
             ],
             [
              0.6666666666666666,
              "#ed7953"
             ],
             [
              0.7777777777777778,
              "#fb9f3a"
             ],
             [
              0.8888888888888888,
              "#fdca26"
             ],
             [
              1,
              "#f0f921"
             ]
            ],
            "type": "histogram2dcontour"
           }
          ],
          "mesh3d": [
           {
            "colorbar": {
             "outlinewidth": 0,
             "ticks": ""
            },
            "type": "mesh3d"
           }
          ],
          "parcoords": [
           {
            "line": {
             "colorbar": {
              "outlinewidth": 0,
              "ticks": ""
             }
            },
            "type": "parcoords"
           }
          ],
          "pie": [
           {
            "automargin": true,
            "type": "pie"
           }
          ],
          "scatter": [
           {
            "fillpattern": {
             "fillmode": "overlay",
             "size": 10,
             "solidity": 0.2
            },
            "type": "scatter"
           }
          ],
          "scatter3d": [
           {
            "line": {
             "colorbar": {
              "outlinewidth": 0,
              "ticks": ""
             }
            },
            "marker": {
             "colorbar": {
              "outlinewidth": 0,
              "ticks": ""
             }
            },
            "type": "scatter3d"
           }
          ],
          "scattercarpet": [
           {
            "marker": {
             "colorbar": {
              "outlinewidth": 0,
              "ticks": ""
             }
            },
            "type": "scattercarpet"
           }
          ],
          "scattergeo": [
           {
            "marker": {
             "colorbar": {
              "outlinewidth": 0,
              "ticks": ""
             }
            },
            "type": "scattergeo"
           }
          ],
          "scattergl": [
           {
            "marker": {
             "colorbar": {
              "outlinewidth": 0,
              "ticks": ""
             }
            },
            "type": "scattergl"
           }
          ],
          "scattermap": [
           {
            "marker": {
             "colorbar": {
              "outlinewidth": 0,
              "ticks": ""
             }
            },
            "type": "scattermap"
           }
          ],
          "scattermapbox": [
           {
            "marker": {
             "colorbar": {
              "outlinewidth": 0,
              "ticks": ""
             }
            },
            "type": "scattermapbox"
           }
          ],
          "scatterpolar": [
           {
            "marker": {
             "colorbar": {
              "outlinewidth": 0,
              "ticks": ""
             }
            },
            "type": "scatterpolar"
           }
          ],
          "scatterpolargl": [
           {
            "marker": {
             "colorbar": {
              "outlinewidth": 0,
              "ticks": ""
             }
            },
            "type": "scatterpolargl"
           }
          ],
          "scatterternary": [
           {
            "marker": {
             "colorbar": {
              "outlinewidth": 0,
              "ticks": ""
             }
            },
            "type": "scatterternary"
           }
          ],
          "surface": [
           {
            "colorbar": {
             "outlinewidth": 0,
             "ticks": ""
            },
            "colorscale": [
             [
              0,
              "#0d0887"
             ],
             [
              0.1111111111111111,
              "#46039f"
             ],
             [
              0.2222222222222222,
              "#7201a8"
             ],
             [
              0.3333333333333333,
              "#9c179e"
             ],
             [
              0.4444444444444444,
              "#bd3786"
             ],
             [
              0.5555555555555556,
              "#d8576b"
             ],
             [
              0.6666666666666666,
              "#ed7953"
             ],
             [
              0.7777777777777778,
              "#fb9f3a"
             ],
             [
              0.8888888888888888,
              "#fdca26"
             ],
             [
              1,
              "#f0f921"
             ]
            ],
            "type": "surface"
           }
          ],
          "table": [
           {
            "cells": {
             "fill": {
              "color": "#EBF0F8"
             },
             "line": {
              "color": "white"
             }
            },
            "header": {
             "fill": {
              "color": "#C8D4E3"
             },
             "line": {
              "color": "white"
             }
            },
            "type": "table"
           }
          ]
         },
         "layout": {
          "annotationdefaults": {
           "arrowcolor": "#2a3f5f",
           "arrowhead": 0,
           "arrowwidth": 1
          },
          "autotypenumbers": "strict",
          "coloraxis": {
           "colorbar": {
            "outlinewidth": 0,
            "ticks": ""
           }
          },
          "colorscale": {
           "diverging": [
            [
             0,
             "#8e0152"
            ],
            [
             0.1,
             "#c51b7d"
            ],
            [
             0.2,
             "#de77ae"
            ],
            [
             0.3,
             "#f1b6da"
            ],
            [
             0.4,
             "#fde0ef"
            ],
            [
             0.5,
             "#f7f7f7"
            ],
            [
             0.6,
             "#e6f5d0"
            ],
            [
             0.7,
             "#b8e186"
            ],
            [
             0.8,
             "#7fbc41"
            ],
            [
             0.9,
             "#4d9221"
            ],
            [
             1,
             "#276419"
            ]
           ],
           "sequential": [
            [
             0,
             "#0d0887"
            ],
            [
             0.1111111111111111,
             "#46039f"
            ],
            [
             0.2222222222222222,
             "#7201a8"
            ],
            [
             0.3333333333333333,
             "#9c179e"
            ],
            [
             0.4444444444444444,
             "#bd3786"
            ],
            [
             0.5555555555555556,
             "#d8576b"
            ],
            [
             0.6666666666666666,
             "#ed7953"
            ],
            [
             0.7777777777777778,
             "#fb9f3a"
            ],
            [
             0.8888888888888888,
             "#fdca26"
            ],
            [
             1,
             "#f0f921"
            ]
           ],
           "sequentialminus": [
            [
             0,
             "#0d0887"
            ],
            [
             0.1111111111111111,
             "#46039f"
            ],
            [
             0.2222222222222222,
             "#7201a8"
            ],
            [
             0.3333333333333333,
             "#9c179e"
            ],
            [
             0.4444444444444444,
             "#bd3786"
            ],
            [
             0.5555555555555556,
             "#d8576b"
            ],
            [
             0.6666666666666666,
             "#ed7953"
            ],
            [
             0.7777777777777778,
             "#fb9f3a"
            ],
            [
             0.8888888888888888,
             "#fdca26"
            ],
            [
             1,
             "#f0f921"
            ]
           ]
          },
          "colorway": [
           "#636efa",
           "#EF553B",
           "#00cc96",
           "#ab63fa",
           "#FFA15A",
           "#19d3f3",
           "#FF6692",
           "#B6E880",
           "#FF97FF",
           "#FECB52"
          ],
          "font": {
           "color": "#2a3f5f"
          },
          "geo": {
           "bgcolor": "white",
           "lakecolor": "white",
           "landcolor": "#E5ECF6",
           "showlakes": true,
           "showland": true,
           "subunitcolor": "white"
          },
          "hoverlabel": {
           "align": "left"
          },
          "hovermode": "closest",
          "mapbox": {
           "style": "light"
          },
          "paper_bgcolor": "white",
          "plot_bgcolor": "#E5ECF6",
          "polar": {
           "angularaxis": {
            "gridcolor": "white",
            "linecolor": "white",
            "ticks": ""
           },
           "bgcolor": "#E5ECF6",
           "radialaxis": {
            "gridcolor": "white",
            "linecolor": "white",
            "ticks": ""
           }
          },
          "scene": {
           "xaxis": {
            "backgroundcolor": "#E5ECF6",
            "gridcolor": "white",
            "gridwidth": 2,
            "linecolor": "white",
            "showbackground": true,
            "ticks": "",
            "zerolinecolor": "white"
           },
           "yaxis": {
            "backgroundcolor": "#E5ECF6",
            "gridcolor": "white",
            "gridwidth": 2,
            "linecolor": "white",
            "showbackground": true,
            "ticks": "",
            "zerolinecolor": "white"
           },
           "zaxis": {
            "backgroundcolor": "#E5ECF6",
            "gridcolor": "white",
            "gridwidth": 2,
            "linecolor": "white",
            "showbackground": true,
            "ticks": "",
            "zerolinecolor": "white"
           }
          },
          "shapedefaults": {
           "line": {
            "color": "#2a3f5f"
           }
          },
          "ternary": {
           "aaxis": {
            "gridcolor": "white",
            "linecolor": "white",
            "ticks": ""
           },
           "baxis": {
            "gridcolor": "white",
            "linecolor": "white",
            "ticks": ""
           },
           "bgcolor": "#E5ECF6",
           "caxis": {
            "gridcolor": "white",
            "linecolor": "white",
            "ticks": ""
           }
          },
          "title": {
           "x": 0.05
          },
          "xaxis": {
           "automargin": true,
           "gridcolor": "white",
           "linecolor": "white",
           "ticks": "",
           "title": {
            "standoff": 15
           },
           "zerolinecolor": "white",
           "zerolinewidth": 2
          },
          "yaxis": {
           "automargin": true,
           "gridcolor": "white",
           "linecolor": "white",
           "ticks": "",
           "title": {
            "standoff": 15
           },
           "zerolinecolor": "white",
           "zerolinewidth": 2
          }
         }
        },
        "title": {
         "text": "Logit Difference From Each Head"
        },
        "xaxis": {
         "anchor": "y",
         "domain": [
          0,
          1
         ],
         "title": {
          "text": "Head"
         }
        },
        "yaxis": {
         "anchor": "x",
         "autorange": "reversed",
         "domain": [
          0,
          1
         ],
         "title": {
          "text": "Layer"
         }
        }
       }
      },
      "image/png": "[encoded data removed]"
     },
     "metadata": {},
     "output_type": "display_data"
    }
   ],
   "source": [
    "per_head_residual, labels = clean_cache.stack_head_results(\n",
    "    layer=-1, pos_slice=-1, return_labels=True\n",
    ")\n",
    "per_head_logit_diffs = residual_stack_to_logit_diff(per_head_residual, clean_cache)\n",
    "per_head_logit_diffs = einops.rearrange(\n",
    "    per_head_logit_diffs,\n",
    "    \"(layer head_index) -> layer head_index\",\n",
    "    layer=model.cfg.n_layers,\n",
    "    head_index=model.cfg.n_heads,\n",
    ")\n",
    "imshow(\n",
    "    per_head_logit_diffs,\n",
    "    labels={\"x\": \"Head\", \"y\": \"Layer\"},\n",
    "    title=\"Logit Difference From Each Head\",\n",
    "    aspect='auto'\n",
    ")"
   ]
  },
  {
   "cell_type": "code",
   "execution_count": 118,
   "metadata": {},
   "outputs": [],
   "source": [
    "def visualize_attention_patterns(\n",
    "    heads: Union[List[int], int, Float[torch.Tensor, \"heads\"]],\n",
    "    local_cache: ActivationCache,\n",
    "    local_tokens: torch.Tensor,\n",
    "    title: Optional[str] = \"\",\n",
    "    max_width: Optional[int] = 700,\n",
    ") -> str:\n",
    "    # If a single head is given, convert to a list\n",
    "    if isinstance(heads, int):\n",
    "        heads = [heads]\n",
    "\n",
    "    # Create the plotting data\n",
    "    labels: List[str] = []\n",
    "    patterns: List[Float[torch.Tensor, \"dest_pos src_pos\"]] = []\n",
    "\n",
    "    # Assume we have a single batch item\n",
    "    batch_index = 0\n",
    "\n",
    "    for head in heads:\n",
    "        # Set the label\n",
    "        layer = head // model.cfg.n_heads\n",
    "        head_index = head % model.cfg.n_heads\n",
    "        labels.append(f\"L{layer}H{head_index}\")\n",
    "\n",
    "        # Get the attention patterns for the head\n",
    "        # Attention patterns have shape [batch, head_index, query_pos, key_pos]\n",
    "        patterns.append(local_cache[\"attn\", layer][batch_index, head_index])\n",
    "\n",
    "    # Convert the tokens to strings (for the axis labels)\n",
    "    str_tokens = model.to_str_tokens(local_tokens)\n",
    "\n",
    "    # Combine the patterns into a single tensor\n",
    "    patterns: Float[torch.Tensor, \"head_index dest_pos src_pos\"] = torch.stack(\n",
    "        patterns, dim=0\n",
    "    )\n",
    "\n",
    "    # Circuitsvis Plot (note we get the code version so we can concatenate with the title)\n",
    "    plot = attention_heads(\n",
    "        attention=patterns, tokens=str_tokens, attention_head_names=labels\n",
    "    ).show_code()\n",
    "\n",
    "    # Display the title\n",
    "    title_html = f\"<h2>{title}</h2><br/>\"\n",
    "\n",
    "    # Return the visualisation as raw code\n",
    "    return f\"<div style='max-width: {str(max_width)}px;'>{title_html + plot}</div>\""
   ]
  },
  {
   "cell_type": "code",
   "execution_count": 119,
   "metadata": {},
   "outputs": [
    {
     "data": {
      "text/html": [
       "<div style='max-width: 700px;'><h2>Top 15 Positive Logit Attribution Heads</h2><br/><div id=\"circuits-vis-7da1c397-a78e\" style=\"margin: 15px 0;\"/>\n",
       "    <script crossorigin type=\"module\">\n",
       "    import { render, AttentionHeads } from \"https://unpkg.com/circuitsvis@1.43.3/dist/cdn/esm.js\";\n",
       "    render(\n",
       "      \"circuits-vis-7da1c397-a78e\",\n",
       "      AttentionHeads,\n",
       "      {\"attention\": [[[1.0, 0.0, 0.0, 0.0, 0.0, 0.0, 0.0], [0.23332996666431427, 0.7666700482368469, 0.0, 0.0, 0.0, 0.0, 0.0], [0.8833727836608887, 0.05849561095237732, 0.05813152343034744, 0.0, 0.0, 0.0, 0.0], [0.4196450412273407, 0.24119514226913452, 0.2740020155906677, 0.06515778601169586, 0.0, 0.0, 0.0], [0.6426260471343994, 0.06930886209011078, 0.07062707841396332, 0.029244404286146164, 0.18819360435009003, 0.0, 0.0], [0.41750475764274597, 0.1871330738067627, 0.2028801143169403, 0.026677779853343964, 0.050446607172489166, 0.11535768210887909, 0.0], [0.689934253692627, 0.018671410158276558, 0.015173966065049171, 0.01639295555651188, 0.04061112552881241, 0.10226678848266602, 0.11694949120283127]], [[1.0, 0.0, 0.0, 0.0, 0.0, 0.0, 0.0], [0.4025980830192566, 0.5974019169807434, 0.0, 0.0, 0.0, 0.0, 0.0], [0.9789772033691406, 0.004967845510691404, 0.01605500839650631, 0.0, 0.0, 0.0, 0.0], [0.7765863537788391, 0.06267678737640381, 0.05155213922262192, 0.10918476432561874, 0.0, 0.0, 0.0], [0.5525657534599304, 0.15414546430110931, 0.02214811183512211, 0.10051369667053223, 0.17062698304653168, 0.0, 0.0], [0.6830613017082214, 0.05382370203733444, 0.01804491877555847, 0.02814219892024994, 0.03178428113460541, 0.1851436048746109, 0.0], [0.1645163893699646, 0.02192498743534088, 0.01775141805410385, 0.10969045013189316, 0.026070009917020798, 0.6567326784133911, 0.0033140790183097124]], [[1.0, 0.0, 0.0, 0.0, 0.0, 0.0, 0.0], [0.8203726410865784, 0.17962735891342163, 0.0, 0.0, 0.0, 0.0, 0.0], [0.8093194961547852, 0.011779117397964, 0.1789013296365738, 0.0, 0.0, 0.0, 0.0], [0.6875250339508057, 0.03919168934226036, 0.0790790244936943, 0.19420425593852997, 0.0, 0.0, 0.0], [0.8359454274177551, 0.010841403156518936, 0.015212731435894966, 0.014788511209189892, 0.12321191281080246, 0.0, 0.0], [0.3690924346446991, 0.019447004422545433, 0.008580310270190239, 0.017321119084954262, 0.11146599799394608, 0.47409313917160034, 0.0], [0.41184067726135254, 0.0013386374339461327, 0.0009332009358331561, 0.0010219666874036193, 0.015860361978411674, 0.031052695587277412, 0.5379524827003479]], [[1.0, 0.0, 0.0, 0.0, 0.0, 0.0, 0.0], [0.7451290488243103, 0.2548709511756897, 0.0, 0.0, 0.0, 0.0, 0.0], [0.9416254758834839, 0.00596507778391242, 0.052409373223781586, 0.0, 0.0, 0.0, 0.0], [0.6643509864807129, 0.06009732186794281, 0.1830989271402359, 0.092452771961689, 0.0, 0.0, 0.0], [0.8236678242683411, 0.007209123112261295, 0.027668608352541924, 0.02114162966609001, 0.12031275779008865, 0.0, 0.0], [0.513178288936615, 0.04300915449857712, 0.2768690288066864, 0.02765956148505211, 0.02878142148256302, 0.11050258576869965, 0.0], [0.8153344988822937, 0.007709870580583811, 0.013676593080163002, 0.011776488274335861, 0.04205213487148285, 0.0787268579006195, 0.03072368912398815]], [[1.0, 0.0, 0.0, 0.0, 0.0, 0.0, 0.0], [0.3639216721057892, 0.6360782980918884, 0.0, 0.0, 0.0, 0.0, 0.0], [0.07439745962619781, 0.0014115707017481327, 0.9241909980773926, 0.0, 0.0, 0.0, 0.0], [0.8606506586074829, 0.007080525159835815, 0.005830538459122181, 0.12643827497959137, 0.0, 0.0, 0.0], [0.58799809217453, 0.007488689385354519, 0.0016805626219138503, 0.04286935180425644, 0.3599632680416107, 0.0, 0.0], [0.6528899073600769, 0.010278121568262577, 0.01057862676680088, 0.04549878463149071, 0.027652915567159653, 0.2531016170978546, 0.0], [0.4544875919818878, 0.0008714796276763082, 0.0003630444989539683, 0.005987541750073433, 0.011424900963902473, 0.03246786445379257, 0.4943975806236267]], [[1.0, 0.0, 0.0, 0.0, 0.0, 0.0, 0.0], [0.884523332118988, 0.11547669768333435, 0.0, 0.0, 0.0, 0.0, 0.0], [0.8277466297149658, 0.015170370228588581, 0.15708297491073608, 0.0, 0.0, 0.0, 0.0], [0.8066110610961914, 0.029762040823698044, 0.0637543797492981, 0.09987258911132812, 0.0, 0.0, 0.0], [0.6724554896354675, 0.036898791790008545, 0.02746843546628952, 0.03848618268966675, 0.22469106316566467, 0.0, 0.0], [0.16833148896694183, 0.03188978508114815, 0.028701554983854294, 0.07049806416034698, 0.3273436427116394, 0.37323543429374695, 0.0], [0.425182968378067, 0.008576527237892151, 0.006612501572817564, 0.008835261687636375, 0.11537755280733109, 0.17515379190444946, 0.2602613568305969]], [[1.0, 0.0, 0.0, 0.0, 0.0, 0.0, 0.0], [0.5167155861854553, 0.4832843840122223, 0.0, 0.0, 0.0, 0.0, 0.0], [0.975576639175415, 0.01237662136554718, 0.012046677991747856, 0.0, 0.0, 0.0, 0.0], [0.8066613674163818, 0.0404028482735157, 0.06405375897884369, 0.08888201415538788, 0.0, 0.0, 0.0], [0.8763337135314941, 0.04146215692162514, 0.013431446626782417, 0.032560210675001144, 0.03621242940425873, 0.0, 0.0], [0.8327815532684326, 0.018538078293204308, 0.0034838379360735416, 0.01027684286236763, 0.03465704619884491, 0.1002625972032547, 0.0], [0.4876170754432678, 0.00934991892427206, 0.001249171793460846, 0.10924728959798813, 0.11936973035335541, 0.20779412984848022, 0.06537266820669174]], [[1.0, 0.0, 0.0, 0.0, 0.0, 0.0, 0.0], [0.6122879385948181, 0.3877120912075043, 0.0, 0.0, 0.0, 0.0, 0.0], [0.9656652212142944, 0.004160973243415356, 0.03017384372651577, 0.0, 0.0, 0.0, 0.0], [0.393071711063385, 0.13526341319084167, 0.20388489961624146, 0.2677799165248871, 0.0, 0.0, 0.0], [0.5598270893096924, 0.023622268810868263, 0.036523930728435516, 0.03593674674630165, 0.34408995509147644, 0.0, 0.0], [0.6069455742835999, 0.029813548550009727, 0.01837969943881035, 0.03961845859885216, 0.15470220148563385, 0.1505405604839325, 0.0], [0.4219551980495453, 0.0088624507188797, 0.0156848207116127, 0.03759509325027466, 0.08630547672510147, 0.11725746095180511, 0.3123394846916199]], [[1.0, 0.0, 0.0, 0.0, 0.0, 0.0, 0.0], [0.4583015739917755, 0.5416983962059021, 0.0, 0.0, 0.0, 0.0, 0.0], [0.8522007465362549, 0.002103340346366167, 0.14569595456123352, 0.0, 0.0, 0.0, 0.0], [0.7765954732894897, 0.002937860321253538, 0.0019238874083384871, 0.21854279935359955, 0.0, 0.0, 0.0], [0.8231528997421265, 0.006139354780316353, 0.0069885398261249065, 0.016352631151676178, 0.14736659824848175, 0.0, 0.0], [0.42411550879478455, 0.030026404187083244, 0.03771792724728584, 0.06189483776688576, 0.017896272242069244, 0.4283490478992462, 0.0], [0.6099870800971985, 0.0022556460462510586, 0.0024080045986920595, 0.04371243342757225, 0.01472095213830471, 0.02391860820353031, 0.30299732089042664]], [[1.0, 0.0, 0.0, 0.0, 0.0, 0.0, 0.0], [0.8453254103660583, 0.15467460453510284, 0.0, 0.0, 0.0, 0.0, 0.0], [0.9171610474586487, 0.003214819123968482, 0.07962404936552048, 0.0, 0.0, 0.0, 0.0], [0.5555295348167419, 0.03333859145641327, 0.06207554042339325, 0.3490563631057739, 0.0, 0.0, 0.0], [0.45186319947242737, 0.013937141746282578, 0.01599039137363434, 0.051065266132354736, 0.4671439826488495, 0.0, 0.0], [0.8221309185028076, 0.008220866322517395, 0.003479768754914403, 0.02586149424314499, 0.024726489558815956, 0.11558041721582413, 0.0], [0.3831504285335541, 0.012936093844473362, 0.0010427997913211584, 0.01779245026409626, 0.052923042327165604, 0.4002520740032196, 0.1319030523300171]], [[1.0, 0.0, 0.0, 0.0, 0.0, 0.0, 0.0], [0.9398860335350037, 0.06011393666267395, 0.0, 0.0, 0.0, 0.0, 0.0], [0.9335159659385681, 0.027870142832398415, 0.0386139377951622, 0.0, 0.0, 0.0, 0.0], [0.6945428848266602, 0.008108127862215042, 0.0024628706742078066, 0.29488614201545715, 0.0, 0.0, 0.0], [0.7692315578460693, 0.014630465768277645, 0.021630212664604187, 0.044284459203481674, 0.1502232849597931, 0.0, 0.0], [0.4925832450389862, 0.06005687266588211, 0.050240084528923035, 0.1210227981209755, 0.06224849447607994, 0.2138485461473465, 0.0], [0.692337691783905, 0.0026090366300195456, 0.0017533591017127037, 0.03175751492381096, 0.03974829986691475, 0.05276486650109291, 0.17902922630310059]], [[1.0, 0.0, 0.0, 0.0, 0.0, 0.0, 0.0], [0.8565356731414795, 0.1434643417596817, 0.0, 0.0, 0.0, 0.0, 0.0], [0.8232787847518921, 0.09042707085609436, 0.08629409968852997, 0.0, 0.0, 0.0, 0.0], [0.8771182298660278, 0.040070805698633194, 0.02011028118431568, 0.06270068138837814, 0.0, 0.0, 0.0], [0.9238905906677246, 0.008695406839251518, 0.005998866632580757, 0.03962217643857002, 0.02179289422929287, 0.0, 0.0], [0.7495290040969849, 0.004100555554032326, 0.0033999888692051172, 0.022542404010891914, 0.12253772467374802, 0.09789036959409714, 0.0], [0.2583431899547577, 0.0027561981696635485, 0.002894145203754306, 0.013774702325463295, 0.5212031006813049, 0.04329985752701759, 0.15772883594036102]], [[1.0, 0.0, 0.0, 0.0, 0.0, 0.0, 0.0], [0.9762017726898193, 0.023798279464244843, 0.0, 0.0, 0.0, 0.0, 0.0], [0.5797507762908936, 0.06491761654615402, 0.3553316295146942, 0.0, 0.0, 0.0, 0.0], [0.3616441488265991, 0.040428418666124344, 0.2076241672039032, 0.3903033137321472, 0.0, 0.0, 0.0], [0.6716131567955017, 0.017189418897032738, 0.06836193054914474, 0.023715998977422714, 0.21911950409412384, 0.0, 0.0], [0.758724570274353, 0.009573539718985558, 0.03854842856526375, 0.008142937906086445, 0.06154269725084305, 0.12346789240837097, 0.0], [0.3457748293876648, 0.005669530015438795, 0.04485742002725601, 0.04850310459733009, 0.22541190683841705, 0.2929927408695221, 0.036790426820516586]], [[1.0, 0.0, 0.0, 0.0, 0.0, 0.0, 0.0], [0.9026722311973572, 0.09732779115438461, 0.0, 0.0, 0.0, 0.0, 0.0], [0.957454264163971, 0.02332979440689087, 0.01921597495675087, 0.0, 0.0, 0.0, 0.0], [0.7363566160202026, 0.05964261293411255, 0.07162056863307953, 0.1323801726102829, 0.0, 0.0, 0.0], [0.8083111643791199, 0.015240529552102089, 0.00858375709503889, 0.03639277443289757, 0.13147170841693878, 0.0, 0.0], [0.6605575680732727, 0.004706602077931166, 0.002142952289432287, 0.01788642629981041, 0.1724071353673935, 0.1422993242740631, 0.0], [0.2725985050201416, 0.0009200616041198373, 0.00016581566887907684, 0.0033593126572668552, 0.013636021874845028, 0.5465012788772583, 0.1628190129995346]], [[1.0, 0.0, 0.0, 0.0, 0.0, 0.0, 0.0], [0.3431238532066345, 0.6568761467933655, 0.0, 0.0, 0.0, 0.0, 0.0], [0.8599891066551208, 0.016293169930577278, 0.12371767312288284, 0.0, 0.0, 0.0, 0.0], [0.8279638290405273, 0.05184690281748772, 0.08807091414928436, 0.03211846202611923, 0.0, 0.0, 0.0], [0.7133738398551941, 0.024699194356799126, 0.08612730354070663, 0.027624431997537613, 0.14817523956298828, 0.0, 0.0], [0.5355392098426819, 0.06372756510972977, 0.13451659679412842, 0.04358050972223282, 0.11123219132423401, 0.11140389740467072, 0.0], [0.8282855153083801, 0.006776425056159496, 0.021441442891955376, 0.009916668757796288, 0.04366687312722206, 0.027907127514481544, 0.06200587749481201]]], \"attentionHeadNames\": [\"L26H0\", \"L20H13\", \"L27H15\", \"L25H13\", \"L23H6\", \"L27H7\", \"L22H9\", \"L22H15\", \"L25H9\", \"L18H13\", \"L25H8\", \"L17H2\", \"L21H4\", \"L18H15\", \"L26H15\"], \"tokens\": [\"<think>\", \"\\n\\n\", \"</think>\", \" Capital\", \" of\", \" France\", \" is\"]}\n",
       "    )\n",
       "    </script></div><div style='max-width: 700px;'><h2>Top 15 Negative Logit Attribution Heads</h2><br/><div id=\"circuits-vis-cf1c3a00-d03e\" style=\"margin: 15px 0;\"/>\n",
       "    <script crossorigin type=\"module\">\n",
       "    import { render, AttentionHeads } from \"https://unpkg.com/circuitsvis@1.43.3/dist/cdn/esm.js\";\n",
       "    render(\n",
       "      \"circuits-vis-cf1c3a00-d03e\",\n",
       "      AttentionHeads,\n",
       "      {\"attention\": [[[1.0, 0.0, 0.0, 0.0, 0.0, 0.0, 0.0], [0.7881905436515808, 0.21180939674377441, 0.0, 0.0, 0.0, 0.0, 0.0], [0.75099116563797, 0.026305673643946648, 0.22270314395427704, 0.0, 0.0, 0.0, 0.0], [0.8402594327926636, 0.005908547434955835, 0.039091870188713074, 0.11474020034074783, 0.0, 0.0, 0.0], [0.8375260233879089, 0.015639085322618484, 0.025956790894269943, 0.03591294586658478, 0.08496509492397308, 0.0, 0.0], [0.7108379602432251, 0.01944168098270893, 0.028654856607317924, 0.05862182006239891, 0.03917422145605087, 0.14326943457126617, 0.0], [0.5483694076538086, 0.0029399190098047256, 0.005804356653243303, 0.10227780789136887, 0.03549140691757202, 0.22709226608276367, 0.07802482694387436]], [[1.0, 0.0, 0.0, 0.0, 0.0, 0.0, 0.0], [0.8697084784507751, 0.13029152154922485, 0.0, 0.0, 0.0, 0.0, 0.0], [0.5880265235900879, 0.009544957429170609, 0.40242859721183777, 0.0, 0.0, 0.0, 0.0], [0.8559839725494385, 0.006618588697165251, 0.04220249876379967, 0.09519494324922562, 0.0, 0.0, 0.0], [0.2890861928462982, 0.001633696723729372, 0.0012327615404501557, 0.008138811215758324, 0.6999085545539856, 0.0, 0.0], [0.8200293183326721, 0.006996458861976862, 0.0033149304799735546, 0.004123889375478029, 0.021810993552207947, 0.14372438192367554, 0.0], [0.6433162093162537, 0.00957631878554821, 0.006229635328054428, 0.0049919988960027695, 0.02260257489979267, 0.046182647347450256, 0.2671006917953491]], [[1.0, 0.0, 0.0, 0.0, 0.0, 0.0, 0.0], [0.9703516960144043, 0.02964829094707966, 0.0, 0.0, 0.0, 0.0, 0.0], [0.4992813766002655, 0.018914038315415382, 0.48180460929870605, 0.0, 0.0, 0.0, 0.0], [0.9592950940132141, 0.0023752551060169935, 0.008703569881618023, 0.029626021161675453, 0.0, 0.0, 0.0], [0.9101556539535522, 0.0022439449094235897, 0.003384548472240567, 0.05075249820947647, 0.033463362604379654, 0.0, 0.0], [0.7770724892616272, 0.004287347663193941, 0.004782964009791613, 0.07672495394945145, 0.08788961172103882, 0.04924258962273598, 0.0], [0.36079609394073486, 0.002284248359501362, 0.0007956081535667181, 0.14746443927288055, 0.1468164473772049, 0.30980485677719116, 0.03203829750418663]], [[1.0, 0.0, 0.0, 0.0, 0.0, 0.0, 0.0], [0.5878155827522278, 0.4121844470500946, 0.0, 0.0, 0.0, 0.0, 0.0], [0.7774231433868408, 0.05189265310764313, 0.17068415880203247, 0.0, 0.0, 0.0, 0.0], [0.9232592582702637, 0.014375968836247921, 0.014923116192221642, 0.04744165018200874, 0.0, 0.0, 0.0], [0.9368911981582642, 0.011596959084272385, 0.00956648401916027, 0.027209876105189323, 0.014735536649823189, 0.0, 0.0], [0.8467417359352112, 0.029531141743063927, 0.02118520624935627, 0.03731366991996765, 0.028751807287335396, 0.03647644445300102, 0.0], [0.8403782844543457, 0.010360895656049252, 0.002815517131239176, 0.05340217798948288, 0.01164710707962513, 0.06763653457164764, 0.013759532943367958]], [[1.0, 0.0, 0.0, 0.0, 0.0, 0.0, 0.0], [0.9254777431488037, 0.0745222195982933, 0.0, 0.0, 0.0, 0.0, 0.0], [0.9962624907493591, 0.0019368329085409641, 0.00180075375828892, 0.0, 0.0, 0.0, 0.0], [0.9641613960266113, 0.005514632910490036, 0.0018197715980932117, 0.028504157438874245, 0.0, 0.0, 0.0], [0.9313233494758606, 0.004588645417243242, 0.005354335065931082, 0.012169256806373596, 0.046564389020204544, 0.0, 0.0], [0.5655109882354736, 0.014068618416786194, 0.016650086268782616, 0.012749578803777695, 0.04917268827557564, 0.3418479859828949, 0.0], [0.5778411030769348, 0.0015530576929450035, 0.0035801567137241364, 0.026583338156342506, 0.09737282991409302, 0.2251266986131668, 0.06794280558824539]], [[1.0, 0.0, 0.0, 0.0, 0.0, 0.0, 0.0], [0.5915202498435974, 0.408479779958725, 0.0, 0.0, 0.0, 0.0, 0.0], [0.657294750213623, 0.03601686656475067, 0.3066883385181427, 0.0, 0.0, 0.0, 0.0], [0.605452299118042, 0.10221344977617264, 0.038277581334114075, 0.2540567219257355, 0.0, 0.0, 0.0], [0.5732017159461975, 0.0216005127876997, 0.00658436818048358, 0.05819610506296158, 0.34041720628738403, 0.0, 0.0], [0.7019996643066406, 0.015480244532227516, 0.015421606600284576, 0.08505171537399292, 0.07158859819173813, 0.11045820266008377, 0.0], [0.46941712498664856, 0.010018291883170605, 0.004814522340893745, 0.030973035842180252, 0.09701693058013916, 0.05443734675645828, 0.3333227336406708]], [[1.0, 0.0, 0.0, 0.0, 0.0, 0.0, 0.0], [0.5834007263183594, 0.41659924387931824, 0.0, 0.0, 0.0, 0.0, 0.0], [0.9604314565658569, 0.016282031312584877, 0.023286471143364906, 0.0, 0.0, 0.0, 0.0], [0.8854812979698181, 0.05288473889231682, 0.025515031069517136, 0.03611888363957405, 0.0, 0.0, 0.0], [0.8364888429641724, 0.017038321122527122, 0.014243477024137974, 0.050287093967199326, 0.08194229751825333, 0.0, 0.0], [0.7628486752510071, 0.03855657950043678, 0.011133343912661076, 0.031727634370326996, 0.10805125534534454, 0.0476824976503849, 0.0], [0.6505704522132874, 0.02889789454638958, 0.007531567942351103, 0.07426992058753967, 0.1074080765247345, 0.06833604723215103, 0.06298600882291794]], [[1.0, 0.0, 0.0, 0.0, 0.0, 0.0, 0.0], [0.4125717282295227, 0.5874282121658325, 0.0, 0.0, 0.0, 0.0, 0.0], [0.5651089549064636, 0.15044930577278137, 0.284441739320755, 0.0, 0.0, 0.0, 0.0], [0.5885888338088989, 0.07539305090904236, 0.2083250880241394, 0.12769310176372528, 0.0, 0.0, 0.0], [0.23765555024147034, 0.01730511710047722, 0.06866466253995895, 0.4239438772201538, 0.2524307668209076, 0.0, 0.0], [0.39243340492248535, 0.005722865462303162, 0.014648671261966228, 0.09324280172586441, 0.11200880259275436, 0.38194340467453003, 0.0], [0.09209129214286804, 0.03431869298219681, 0.0143094751983881, 0.2674614191055298, 0.4042168855667114, 0.11408595740795135, 0.07351633906364441]], [[1.0, 0.0, 0.0, 0.0, 0.0, 0.0, 0.0], [0.9242870211601257, 0.07571299374103546, 0.0, 0.0, 0.0, 0.0, 0.0], [0.8800263404846191, 0.06495404243469238, 0.055019695311784744, 0.0, 0.0, 0.0, 0.0], [0.8857078552246094, 0.021527191624045372, 0.04196365550160408, 0.05080132558941841, 0.0, 0.0, 0.0], [0.7773956060409546, 0.0062653482891619205, 0.006790322717279196, 0.05424294248223305, 0.15530574321746826, 0.0, 0.0], [0.7771994471549988, 0.0020740057807415724, 0.002093214774504304, 0.010691925883293152, 0.06573223322629929, 0.14220914244651794, 0.0], [0.5100491642951965, 0.005281700287014246, 0.007052364759147167, 0.033051278442144394, 0.1304624080657959, 0.2159971296787262, 0.09810595959424973]], [[1.0, 0.0, 0.0, 0.0, 0.0, 0.0, 0.0], [0.9310920834541321, 0.06890790909528732, 0.0, 0.0, 0.0, 0.0, 0.0], [0.9553671479225159, 0.01715652458369732, 0.027476327493786812, 0.0, 0.0, 0.0, 0.0], [0.7990731000900269, 0.020541906356811523, 0.07807204127311707, 0.10231295228004456, 0.0, 0.0, 0.0], [0.83165442943573, 0.012612402439117432, 0.014621701091527939, 0.09945245087146759, 0.04165901243686676, 0.0, 0.0], [0.592366099357605, 0.02397060953080654, 0.012563829310238361, 0.09465716779232025, 0.17499274015426636, 0.10144951939582825, 0.0], [0.5206065773963928, 0.015402513556182384, 0.0029487970750778913, 0.15122799575328827, 0.1802065223455429, 0.09084351360797882, 0.03876403719186783]], [[1.0, 0.0, 0.0, 0.0, 0.0, 0.0, 0.0], [0.8317701816558838, 0.1682298332452774, 0.0, 0.0, 0.0, 0.0, 0.0], [0.7377520203590393, 0.1115129292011261, 0.1507350355386734, 0.0, 0.0, 0.0, 0.0], [0.6187741160392761, 0.1808663159608841, 0.10403532534837723, 0.09632425010204315, 0.0, 0.0, 0.0], [0.7026647329330444, 0.0477713905274868, 0.032901350408792496, 0.06886457651853561, 0.14779792726039886, 0.0, 0.0], [0.5335753560066223, 0.02279578521847725, 0.023357713595032692, 0.06824487447738647, 0.1488151252269745, 0.20321112871170044, 0.0], [0.5480660200119019, 0.029868656769394875, 0.026395954191684723, 0.06436851620674133, 0.10807400941848755, 0.0713469460606575, 0.1518799066543579]], [[1.0, 0.0, 0.0, 0.0, 0.0, 0.0, 0.0], [0.8580828905105591, 0.14191710948944092, 0.0, 0.0, 0.0, 0.0, 0.0], [0.44013991951942444, 0.09099038690328598, 0.46886977553367615, 0.0, 0.0, 0.0, 0.0], [0.8046620488166809, 0.07269754260778427, 0.0376841239631176, 0.0849563404917717, 0.0, 0.0, 0.0], [0.6541181802749634, 0.030141303315758705, 0.016627220436930656, 0.030002636834979057, 0.26911064982414246, 0.0, 0.0], [0.7533103823661804, 0.040292274206876755, 0.01983855850994587, 0.018480272963643074, 0.041881196200847626, 0.12619730830192566, 0.0], [0.5910443663597107, 0.014294090680778027, 0.009910966269671917, 0.01767931506037712, 0.0664849504828453, 0.05534389615058899, 0.2452424317598343]], [[1.0, 0.0, 0.0, 0.0, 0.0, 0.0, 0.0], [0.8161941766738892, 0.18380577862262726, 0.0, 0.0, 0.0, 0.0, 0.0], [0.967330276966095, 0.008688036352396011, 0.023981643840670586, 0.0, 0.0, 0.0, 0.0], [0.9833871722221375, 0.002125395694747567, 0.0007669176557101309, 0.013720506802201271, 0.0, 0.0, 0.0], [0.9779655337333679, 0.0009710376034490764, 0.0004730746732093394, 0.011074019595980644, 0.009516241028904915, 0.0, 0.0], [0.938893735408783, 0.003983847796916962, 0.00171679409686476, 0.024527285248041153, 0.01478717103600502, 0.01609119400382042, 0.0], [0.919416606426239, 0.0028563174419105053, 0.0005099062109366059, 0.00838416162878275, 0.023487932980060577, 0.006636923179030418, 0.03870818018913269]], [[1.0, 0.0, 0.0, 0.0, 0.0, 0.0, 0.0], [0.7220776081085205, 0.2779224216938019, 0.0, 0.0, 0.0, 0.0, 0.0], [0.9031871557235718, 0.007933241315186024, 0.08887965977191925, 0.0, 0.0, 0.0, 0.0], [0.8604002594947815, 0.018351344391703606, 0.10774971544742584, 0.013498656451702118, 0.0, 0.0, 0.0], [0.7602912187576294, 0.011541655287146568, 0.061091843992471695, 0.01116962730884552, 0.155905619263649, 0.0, 0.0], [0.5671152472496033, 0.04121601581573486, 0.22289393842220306, 0.020175734534859657, 0.05698174983263016, 0.09161731600761414, 0.0], [0.8059590458869934, 0.004741552751511335, 0.021837273612618446, 0.004527451004832983, 0.04097703844308853, 0.038795355707407, 0.0831623449921608]], [[1.0, 0.0, 0.0, 0.0, 0.0, 0.0, 0.0], [0.8760003447532654, 0.1239997148513794, 0.0, 0.0, 0.0, 0.0, 0.0], [0.7747940421104431, 0.01745113730430603, 0.20775485038757324, 0.0, 0.0, 0.0, 0.0], [0.5670034289360046, 0.0034659330267459154, 0.08771111816167831, 0.34181949496269226, 0.0, 0.0, 0.0], [0.9465887546539307, 0.0018518429715186357, 0.007171065080910921, 0.028264785185456276, 0.016123436391353607, 0.0, 0.0], [0.5828422904014587, 0.0026656370609998703, 0.011441268026828766, 0.08331041783094406, 0.2656588852405548, 0.0540815107524395, 0.0], [0.48189863562583923, 0.002713483292609453, 0.002388233318924904, 0.08908797800540924, 0.26979729533195496, 0.09546376019716263, 0.058650579303503036]]], \"attentionHeadNames\": [\"L26H1\", \"L27H14\", \"L23H10\", \"L25H4\", \"L26H7\", \"L23H7\", \"L22H8\", \"L19H2\", \"L17H3\", \"L18H6\", \"L17H13\", \"L19H7\", \"L26H12\", \"L26H5\", \"L19H12\"], \"tokens\": [\"<think>\", \"\\n\\n\", \"</think>\", \" Capital\", \" of\", \" France\", \" is\"]}\n",
       "    )\n",
       "    </script></div>"
      ],
      "text/plain": [
       "<IPython.core.display.HTML object>"
      ]
     },
     "execution_count": 119,
     "metadata": {},
     "output_type": "execute_result"
    }
   ],
   "source": [
    "top_k = 15\n",
    "\n",
    "top_positive_logit_attr_heads = torch.topk(\n",
    "    per_head_logit_diffs.flatten(), k=top_k\n",
    ").indices\n",
    "\n",
    "positive_html = visualize_attention_patterns(\n",
    "    top_positive_logit_attr_heads,\n",
    "    clean_cache,\n",
    "    prompts[0],\n",
    "    f\"Top {top_k} Positive Logit Attribution Heads\",\n",
    ")\n",
    "\n",
    "top_negative_logit_attr_heads = torch.topk(\n",
    "    -per_head_logit_diffs.flatten(), k=top_k\n",
    ").indices\n",
    "\n",
    "negative_html = visualize_attention_patterns(\n",
    "    top_negative_logit_attr_heads,\n",
    "    clean_cache,\n",
    "    prompts[0],\n",
    "    title=f\"Top {top_k} Negative Logit Attribution Heads\",\n",
    ")\n",
    "\n",
    "HTML(positive_html + negative_html)"
   ]
  },
  {
   "cell_type": "code",
   "execution_count": 120,
   "metadata": {},
   "outputs": [],
   "source": [
    "def patch_residual_component(\n",
    "    corrupted_residual_component: Float[torch.Tensor, \"batch pos d_model\"],\n",
    "    hook,\n",
    "    pos,\n",
    "    clean_cache,\n",
    "):\n",
    "    corrupted_residual_component[:, pos, :] = clean_cache[hook.name][:, pos, :]\n",
    "    return corrupted_residual_component"
   ]
  },
  {
   "cell_type": "code",
   "execution_count": 121,
   "metadata": {},
   "outputs": [],
   "source": [
    "clean_tokens = model.to_tokens(prompts)"
   ]
  },
  {
   "cell_type": "code",
   "execution_count": 122,
   "metadata": {},
   "outputs": [],
   "source": [
    "patched_residual_stream_diff = torch.zeros(\n",
    "    model.cfg.n_layers, clean_tokens.shape[1], device=device, dtype=torch.float32\n",
    ")\n",
    "for layer in range(model.cfg.n_layers):\n",
    "    for position in range(clean_tokens.shape[1]):\n",
    "        hook_fn = partial(patch_residual_component, pos=position, clean_cache=clean_cache)\n",
    "\n",
    "        patched_logits = model.run_with_hooks(\n",
    "            corrupted_tokens,\n",
    "            fwd_hooks=[(utils.get_act_name(\"resid_pre\", layer), hook_fn)],\n",
    "            return_type=\"logits\",\n",
    "        )\n",
    "        patched_logit_metric = causal_tracing_metric(patched_logits,answer_tokens)\n",
    "\n",
    "        patched_residual_stream_diff[layer, position] = patched_logit_metric"
   ]
  },
  {
   "cell_type": "code",
   "execution_count": 123,
   "metadata": {},
   "outputs": [
    {
     "data": {
      "application/vnd.plotly.v1+json": {
       "config": {
        "plotlyServerURL": "https://plot.ly"
       },
       "data": [
        {
         "coloraxis": "coloraxis",
         "hovertemplate": "Position: %{x}<br>Layer: %{y}<br>color: %{z}<extra></extra>",
         "name": "0",
         "type": "heatmap",
         "x": [
          "<think>_0",
          "\n\n_1",
          "</think>_2",
          " Capital_3",
          " of_4",
          " France_5",
          " is_6"
         ],
         "xaxis": "x",
         "yaxis": "y",
         "z": {
          "bdata": "AAAEOgAABDoAAAQ6AAAEOgAABDoAAGg/AAAEOgAABDoAAAQ6AAAEOgAABDoAAAQ6AABmPwAAAzoAAAQ6AAAEOgAABDoAAAQ6AAAEOgAAZz8AAAM6AAAEOgAABDoAAAQ6AAAEOgAABDoAAGU/AAAEOgAABDoAAAQ6AAAEOgAABDoAAAQ6AABkPwAAAzoAAAQ6AAAEOgAABDoAAAQ6AAAEOgAAYT8AAAQ6AAAEOgAABDoAAAQ6AAAEOgAABDoAAGY/AAAWOgAABDoAAAQ6AAAEOgAABDoAAAQ6AABePwAAFjoAAAQ6AAAEOgAABDoAAAQ6AAAEOgAAYj8AAAg6AAAEOgAABDoAAAQ6AAAEOgAABDoAAF8/AADzOQAABDoAAAQ6AAAEOgAABDoAAAQ6AABePwAA8zkAAAQ6AAAEOgAABDoAAAQ6AAAEOgAAXz8AANY5AAAEOgAABDoAAAQ6AAAEOgAABDoAAFw/AADVOQAABDoAAAQ6AAAEOgAABDoAAAQ6AABaPwAA1DkAAAQ6AAAEOgAABDoAAAQ6AAAEOgAAWj8AANQ5AAAEOgAABDoAAAQ6AAAEOgAABDoAAFo/AAC+OQAABDoAAAQ6AAAEOgAABDoAAAQ6AABVPwAAqzkAAAQ6AAAEOgAABDoAAAQ6AAAEOgAAWD8AAMA5AAAEOgAABDoAAAQ6AAAEOgAABDoAAFA/AAD4OQAABDoAAAQ6AAAEOgAABDoAAAQ6AABOPwAAwDoAAAQ6AAAEOgAABDoAAAQ6AAAEOgAAUj8AAL86AAAEOgAABDoAAAQ6AAAEOgAABDoAAAw8AABjPwAABDoAAAQ6AAAEOgAABDoAAAQ6AABvOwAAZj8AAAQ6AAAEOgAABDoAAAQ6AAAEOgAAQTsAAGA/AAAEOgAABDoAAAQ6AAAEOgAABDoAAIs7AABmPwAABDoAAAQ6AAAEOgAABDoAAAQ6AABfOwAAZT8AAAQ6AAAEOgAABDoAAAQ6AAAEOgAA8ToAAGU/AAAEOgAABDoAAAQ6AAAEOgAABDoAAAU6AABmPw==",
          "dtype": "f4",
          "shape": "28, 7"
         }
        }
       ],
       "layout": {
        "coloraxis": {
         "cmid": 0,
         "colorscale": [
          [
           0,
           "rgb(103,0,31)"
          ],
          [
           0.1,
           "rgb(178,24,43)"
          ],
          [
           0.2,
           "rgb(214,96,77)"
          ],
          [
           0.3,
           "rgb(244,165,130)"
          ],
          [
           0.4,
           "rgb(253,219,199)"
          ],
          [
           0.5,
           "rgb(247,247,247)"
          ],
          [
           0.6,
           "rgb(209,229,240)"
          ],
          [
           0.7,
           "rgb(146,197,222)"
          ],
          [
           0.8,
           "rgb(67,147,195)"
          ],
          [
           0.9,
           "rgb(33,102,172)"
          ],
          [
           1,
           "rgb(5,48,97)"
          ]
         ]
        },
        "template": {
         "data": {
          "bar": [
           {
            "error_x": {
             "color": "#2a3f5f"
            },
            "error_y": {
             "color": "#2a3f5f"
            },
            "marker": {
             "line": {
              "color": "#E5ECF6",
              "width": 0.5
             },
             "pattern": {
              "fillmode": "overlay",
              "size": 10,
              "solidity": 0.2
             }
            },
            "type": "bar"
           }
          ],
          "barpolar": [
           {
            "marker": {
             "line": {
              "color": "#E5ECF6",
              "width": 0.5
             },
             "pattern": {
              "fillmode": "overlay",
              "size": 10,
              "solidity": 0.2
             }
            },
            "type": "barpolar"
           }
          ],
          "carpet": [
           {
            "aaxis": {
             "endlinecolor": "#2a3f5f",
             "gridcolor": "white",
             "linecolor": "white",
             "minorgridcolor": "white",
             "startlinecolor": "#2a3f5f"
            },
            "baxis": {
             "endlinecolor": "#2a3f5f",
             "gridcolor": "white",
             "linecolor": "white",
             "minorgridcolor": "white",
             "startlinecolor": "#2a3f5f"
            },
            "type": "carpet"
           }
          ],
          "choropleth": [
           {
            "colorbar": {
             "outlinewidth": 0,
             "ticks": ""
            },
            "type": "choropleth"
           }
          ],
          "contour": [
           {
            "colorbar": {
             "outlinewidth": 0,
             "ticks": ""
            },
            "colorscale": [
             [
              0,
              "#0d0887"
             ],
             [
              0.1111111111111111,
              "#46039f"
             ],
             [
              0.2222222222222222,
              "#7201a8"
             ],
             [
              0.3333333333333333,
              "#9c179e"
             ],
             [
              0.4444444444444444,
              "#bd3786"
             ],
             [
              0.5555555555555556,
              "#d8576b"
             ],
             [
              0.6666666666666666,
              "#ed7953"
             ],
             [
              0.7777777777777778,
              "#fb9f3a"
             ],
             [
              0.8888888888888888,
              "#fdca26"
             ],
             [
              1,
              "#f0f921"
             ]
            ],
            "type": "contour"
           }
          ],
          "contourcarpet": [
           {
            "colorbar": {
             "outlinewidth": 0,
             "ticks": ""
            },
            "type": "contourcarpet"
           }
          ],
          "heatmap": [
           {
            "colorbar": {
             "outlinewidth": 0,
             "ticks": ""
            },
            "colorscale": [
             [
              0,
              "#0d0887"
             ],
             [
              0.1111111111111111,
              "#46039f"
             ],
             [
              0.2222222222222222,
              "#7201a8"
             ],
             [
              0.3333333333333333,
              "#9c179e"
             ],
             [
              0.4444444444444444,
              "#bd3786"
             ],
             [
              0.5555555555555556,
              "#d8576b"
             ],
             [
              0.6666666666666666,
              "#ed7953"
             ],
             [
              0.7777777777777778,
              "#fb9f3a"
             ],
             [
              0.8888888888888888,
              "#fdca26"
             ],
             [
              1,
              "#f0f921"
             ]
            ],
            "type": "heatmap"
           }
          ],
          "histogram": [
           {
            "marker": {
             "pattern": {
              "fillmode": "overlay",
              "size": 10,
              "solidity": 0.2
             }
            },
            "type": "histogram"
           }
          ],
          "histogram2d": [
           {
            "colorbar": {
             "outlinewidth": 0,
             "ticks": ""
            },
            "colorscale": [
             [
              0,
              "#0d0887"
             ],
             [
              0.1111111111111111,
              "#46039f"
             ],
             [
              0.2222222222222222,
              "#7201a8"
             ],
             [
              0.3333333333333333,
              "#9c179e"
             ],
             [
              0.4444444444444444,
              "#bd3786"
             ],
             [
              0.5555555555555556,
              "#d8576b"
             ],
             [
              0.6666666666666666,
              "#ed7953"
             ],
             [
              0.7777777777777778,
              "#fb9f3a"
             ],
             [
              0.8888888888888888,
              "#fdca26"
             ],
             [
              1,
              "#f0f921"
             ]
            ],
            "type": "histogram2d"
           }
          ],
          "histogram2dcontour": [
           {
            "colorbar": {
             "outlinewidth": 0,
             "ticks": ""
            },
            "colorscale": [
             [
              0,
              "#0d0887"
             ],
             [
              0.1111111111111111,
              "#46039f"
             ],
             [
              0.2222222222222222,
              "#7201a8"
             ],
             [
              0.3333333333333333,
              "#9c179e"
             ],
             [
              0.4444444444444444,
              "#bd3786"
             ],
             [
              0.5555555555555556,
              "#d8576b"
             ],
             [
              0.6666666666666666,
              "#ed7953"
             ],
             [
              0.7777777777777778,
              "#fb9f3a"
             ],
             [
              0.8888888888888888,
              "#fdca26"
             ],
             [
              1,
              "#f0f921"
             ]
            ],
            "type": "histogram2dcontour"
           }
          ],
          "mesh3d": [
           {
            "colorbar": {
             "outlinewidth": 0,
             "ticks": ""
            },
            "type": "mesh3d"
           }
          ],
          "parcoords": [
           {
            "line": {
             "colorbar": {
              "outlinewidth": 0,
              "ticks": ""
             }
            },
            "type": "parcoords"
           }
          ],
          "pie": [
           {
            "automargin": true,
            "type": "pie"
           }
          ],
          "scatter": [
           {
            "fillpattern": {
             "fillmode": "overlay",
             "size": 10,
             "solidity": 0.2
            },
            "type": "scatter"
           }
          ],
          "scatter3d": [
           {
            "line": {
             "colorbar": {
              "outlinewidth": 0,
              "ticks": ""
             }
            },
            "marker": {
             "colorbar": {
              "outlinewidth": 0,
              "ticks": ""
             }
            },
            "type": "scatter3d"
           }
          ],
          "scattercarpet": [
           {
            "marker": {
             "colorbar": {
              "outlinewidth": 0,
              "ticks": ""
             }
            },
            "type": "scattercarpet"
           }
          ],
          "scattergeo": [
           {
            "marker": {
             "colorbar": {
              "outlinewidth": 0,
              "ticks": ""
             }
            },
            "type": "scattergeo"
           }
          ],
          "scattergl": [
           {
            "marker": {
             "colorbar": {
              "outlinewidth": 0,
              "ticks": ""
             }
            },
            "type": "scattergl"
           }
          ],
          "scattermap": [
           {
            "marker": {
             "colorbar": {
              "outlinewidth": 0,
              "ticks": ""
             }
            },
            "type": "scattermap"
           }
          ],
          "scattermapbox": [
           {
            "marker": {
             "colorbar": {
              "outlinewidth": 0,
              "ticks": ""
             }
            },
            "type": "scattermapbox"
           }
          ],
          "scatterpolar": [
           {
            "marker": {
             "colorbar": {
              "outlinewidth": 0,
              "ticks": ""
             }
            },
            "type": "scatterpolar"
           }
          ],
          "scatterpolargl": [
           {
            "marker": {
             "colorbar": {
              "outlinewidth": 0,
              "ticks": ""
             }
            },
            "type": "scatterpolargl"
           }
          ],
          "scatterternary": [
           {
            "marker": {
             "colorbar": {
              "outlinewidth": 0,
              "ticks": ""
             }
            },
            "type": "scatterternary"
           }
          ],
          "surface": [
           {
            "colorbar": {
             "outlinewidth": 0,
             "ticks": ""
            },
            "colorscale": [
             [
              0,
              "#0d0887"
             ],
             [
              0.1111111111111111,
              "#46039f"
             ],
             [
              0.2222222222222222,
              "#7201a8"
             ],
             [
              0.3333333333333333,
              "#9c179e"
             ],
             [
              0.4444444444444444,
              "#bd3786"
             ],
             [
              0.5555555555555556,
              "#d8576b"
             ],
             [
              0.6666666666666666,
              "#ed7953"
             ],
             [
              0.7777777777777778,
              "#fb9f3a"
             ],
             [
              0.8888888888888888,
              "#fdca26"
             ],
             [
              1,
              "#f0f921"
             ]
            ],
            "type": "surface"
           }
          ],
          "table": [
           {
            "cells": {
             "fill": {
              "color": "#EBF0F8"
             },
             "line": {
              "color": "white"
             }
            },
            "header": {
             "fill": {
              "color": "#C8D4E3"
             },
             "line": {
              "color": "white"
             }
            },
            "type": "table"
           }
          ]
         },
         "layout": {
          "annotationdefaults": {
           "arrowcolor": "#2a3f5f",
           "arrowhead": 0,
           "arrowwidth": 1
          },
          "autotypenumbers": "strict",
          "coloraxis": {
           "colorbar": {
            "outlinewidth": 0,
            "ticks": ""
           }
          },
          "colorscale": {
           "diverging": [
            [
             0,
             "#8e0152"
            ],
            [
             0.1,
             "#c51b7d"
            ],
            [
             0.2,
             "#de77ae"
            ],
            [
             0.3,
             "#f1b6da"
            ],
            [
             0.4,
             "#fde0ef"
            ],
            [
             0.5,
             "#f7f7f7"
            ],
            [
             0.6,
             "#e6f5d0"
            ],
            [
             0.7,
             "#b8e186"
            ],
            [
             0.8,
             "#7fbc41"
            ],
            [
             0.9,
             "#4d9221"
            ],
            [
             1,
             "#276419"
            ]
           ],
           "sequential": [
            [
             0,
             "#0d0887"
            ],
            [
             0.1111111111111111,
             "#46039f"
            ],
            [
             0.2222222222222222,
             "#7201a8"
            ],
            [
             0.3333333333333333,
             "#9c179e"
            ],
            [
             0.4444444444444444,
             "#bd3786"
            ],
            [
             0.5555555555555556,
             "#d8576b"
            ],
            [
             0.6666666666666666,
             "#ed7953"
            ],
            [
             0.7777777777777778,
             "#fb9f3a"
            ],
            [
             0.8888888888888888,
             "#fdca26"
            ],
            [
             1,
             "#f0f921"
            ]
           ],
           "sequentialminus": [
            [
             0,
             "#0d0887"
            ],
            [
             0.1111111111111111,
             "#46039f"
            ],
            [
             0.2222222222222222,
             "#7201a8"
            ],
            [
             0.3333333333333333,
             "#9c179e"
            ],
            [
             0.4444444444444444,
             "#bd3786"
            ],
            [
             0.5555555555555556,
             "#d8576b"
            ],
            [
             0.6666666666666666,
             "#ed7953"
            ],
            [
             0.7777777777777778,
             "#fb9f3a"
            ],
            [
             0.8888888888888888,
             "#fdca26"
            ],
            [
             1,
             "#f0f921"
            ]
           ]
          },
          "colorway": [
           "#636efa",
           "#EF553B",
           "#00cc96",
           "#ab63fa",
           "#FFA15A",
           "#19d3f3",
           "#FF6692",
           "#B6E880",
           "#FF97FF",
           "#FECB52"
          ],
          "font": {
           "color": "#2a3f5f"
          },
          "geo": {
           "bgcolor": "white",
           "lakecolor": "white",
           "landcolor": "#E5ECF6",
           "showlakes": true,
           "showland": true,
           "subunitcolor": "white"
          },
          "hoverlabel": {
           "align": "left"
          },
          "hovermode": "closest",
          "mapbox": {
           "style": "light"
          },
          "paper_bgcolor": "white",
          "plot_bgcolor": "#E5ECF6",
          "polar": {
           "angularaxis": {
            "gridcolor": "white",
            "linecolor": "white",
            "ticks": ""
           },
           "bgcolor": "#E5ECF6",
           "radialaxis": {
            "gridcolor": "white",
            "linecolor": "white",
            "ticks": ""
           }
          },
          "scene": {
           "xaxis": {
            "backgroundcolor": "#E5ECF6",
            "gridcolor": "white",
            "gridwidth": 2,
            "linecolor": "white",
            "showbackground": true,
            "ticks": "",
            "zerolinecolor": "white"
           },
           "yaxis": {
            "backgroundcolor": "#E5ECF6",
            "gridcolor": "white",
            "gridwidth": 2,
            "linecolor": "white",
            "showbackground": true,
            "ticks": "",
            "zerolinecolor": "white"
           },
           "zaxis": {
            "backgroundcolor": "#E5ECF6",
            "gridcolor": "white",
            "gridwidth": 2,
            "linecolor": "white",
            "showbackground": true,
            "ticks": "",
            "zerolinecolor": "white"
           }
          },
          "shapedefaults": {
           "line": {
            "color": "#2a3f5f"
           }
          },
          "ternary": {
           "aaxis": {
            "gridcolor": "white",
            "linecolor": "white",
            "ticks": ""
           },
           "baxis": {
            "gridcolor": "white",
            "linecolor": "white",
            "ticks": ""
           },
           "bgcolor": "#E5ECF6",
           "caxis": {
            "gridcolor": "white",
            "linecolor": "white",
            "ticks": ""
           }
          },
          "title": {
           "x": 0.05
          },
          "xaxis": {
           "automargin": true,
           "gridcolor": "white",
           "linecolor": "white",
           "ticks": "",
           "title": {
            "standoff": 15
           },
           "zerolinecolor": "white",
           "zerolinewidth": 2
          },
          "yaxis": {
           "automargin": true,
           "gridcolor": "white",
           "linecolor": "white",
           "ticks": "",
           "title": {
            "standoff": 15
           },
           "zerolinecolor": "white",
           "zerolinewidth": 2
          }
         }
        },
        "title": {
         "text": "Logit Difference From Patched Residual Stream"
        },
        "xaxis": {
         "anchor": "y",
         "constrain": "domain",
         "domain": [
          0,
          1
         ],
         "scaleanchor": "y",
         "title": {
          "text": "Position"
         }
        },
        "yaxis": {
         "anchor": "x",
         "autorange": "reversed",
         "constrain": "domain",
         "domain": [
          0,
          1
         ],
         "title": {
          "text": "Layer"
         }
        }
       }
      },
      "image/png": "[encoded data removed]"
     },
     "metadata": {},
     "output_type": "display_data"
    }
   ],
   "source": [
    "prompt_position_labels = [\n",
    "    f\"{tok}_{i}\" for i, tok in enumerate(model.to_str_tokens(clean_tokens[0]))\n",
    "]\n",
    "imshow(\n",
    "    patched_residual_stream_diff,\n",
    "    x=prompt_position_labels,\n",
    "    title=\"Logit Difference From Patched Residual Stream\",\n",
    "    labels={\"x\": \"Position\", \"y\": \"Layer\"},\n",
    ")"
   ]
  },
  {
   "cell_type": "code",
   "execution_count": 127,
   "metadata": {},
   "outputs": [
    {
     "name": "stderr",
     "output_type": "stream",
     "text": [
      "100%|██████████| 28/28 [00:22<00:00,  1.27it/s]\n"
     ]
    }
   ],
   "source": [
    "patched_attn_diff = torch.zeros(\n",
    "    model.cfg.n_layers, corrupted_tokens.shape[1], device=device, dtype=torch.float32\n",
    ")\n",
    "patched_mlp_diff = torch.zeros(\n",
    "    model.cfg.n_layers, corrupted_tokens.shape[1], device=device, dtype=torch.float32\n",
    ")\n",
    "for layer in tqdm(range(model.cfg.n_layers)):\n",
    "    for position in range(clean_tokens.shape[1]):\n",
    "        hook_fn = partial(patch_residual_component, pos=position, clean_cache=clean_cache)\n",
    "\n",
    "        patched_attn_logits = model.run_with_hooks(\n",
    "            corrupted_tokens,\n",
    "            fwd_hooks=[(utils.get_act_name(\"attn_out\", layer), hook_fn)],\n",
    "            return_type=\"logits\",\n",
    "        )\n",
    "        patched_attn_logit_diff = causal_tracing_metric(\n",
    "            patched_attn_logits, answer_tokens\n",
    "        )\n",
    "        patched_mlp_logits = model.run_with_hooks(\n",
    "            corrupted_tokens,\n",
    "            fwd_hooks=[(utils.get_act_name(\"mlp_out\", layer), hook_fn)],\n",
    "            return_type=\"logits\",\n",
    "        )\n",
    "        patched_mlp_logit_diff = causal_tracing_metric(\n",
    "            patched_mlp_logits, answer_tokens\n",
    "        )\n",
    "\n",
    "        patched_attn_diff[layer, position] = patched_attn_logit_diff\n",
    "        \n",
    "        patched_mlp_diff[layer, position] = patched_mlp_logit_diff\n",
    "\n",
    "model.reset_hooks(including_permanent=True)"
   ]
  },
  {
   "cell_type": "code",
   "execution_count": 128,
   "metadata": {},
   "outputs": [
    {
     "data": {
      "application/vnd.plotly.v1+json": {
       "config": {
        "plotlyServerURL": "https://plot.ly"
       },
       "data": [
        {
         "coloraxis": "coloraxis",
         "hovertemplate": "Position: %{x}<br>Layer: %{y}<br>color: %{z}<extra></extra>",
         "name": "0",
         "type": "heatmap",
         "x": [
          "<think>_0",
          "\n\n_1",
          "</think>_2",
          " Capital_3",
          " of_4",
          " France_5",
          " is_6"
         ],
         "xaxis": "x",
         "yaxis": "y",
         "z": {
          "bdata": "AAAEOgAABDoAAAQ6AAAEOgAABDoAAGc/AAADOgAABDoAAAQ6AAAEOgAABDoAAAQ6AAAWOgAAAzoAAAQ6AAAEOgAABDoAAAQ6AAAEOgAAFjoAAAM6AAAEOgAABDoAAAQ6AAAEOgAABDoAAAU6AADtOQAABDoAAAQ6AAAEOgAABDoAAAQ6AAAFOgAABDoAAAQ6AAAEOgAABDoAAAQ6AAAEOgAA0jkAAAQ6AAAEOgAABDoAAAQ6AAAEOgAABDoAABU6AAAYOgAABDoAAAQ6AAAEOgAABDoAAAQ6AAAEOgAA6jkAAAQ6AAAEOgAABDoAAAQ6AAAEOgAAAzoAAAY6AAAEOgAABDoAAAQ6AAAEOgAABDoAAOo5AAAWOgAABDoAAAQ6AAAEOgAABDoAAAQ6AADSOQAAAzoAAAQ6AAAEOgAABDoAAAQ6AAAEOgAAFzoAAAU6AAAEOgAABDoAAAQ6AAAEOgAABDoAAOw5AAAEOgAABDoAAAQ6AAAEOgAABDoAAAQ6AAAEOgAABToAAAQ6AAAEOgAABDoAAAQ6AAAEOgAABDoAABU6AAAEOgAABDoAAAQ6AAAEOgAABDoAAAU6AAAGOgAABDoAAAQ6AAAEOgAABDoAAAQ6AAAFOgAABDoAAAQ6AAAEOgAABDoAAAQ6AAAEOgAABDoAABo6AAAEOgAABDoAAAQ6AAAEOgAABDoAAAQ6AACgOgAABDoAAAQ6AAAEOgAABDoAAAQ6AADsOQAA7TkAAAQ6AAAEOgAABDoAAAQ6AAAEOgAABToAAE8/AAAEOgAABDoAAAQ6AAAEOgAABDoAAAU6AABXOgAABDoAAAQ6AAAEOgAABDoAAAQ6AADuOQAAOzoAAAQ6AAAEOgAABDoAAAQ6AAAEOgAABToAALs5AAAEOgAABDoAAAQ6AAAEOgAABDoAAO45AAAHOgAABDoAAAQ6AAAEOgAABDoAAAQ6AAAEOgAAiDoAAAQ6AAAEOgAABDoAAAQ6AAAEOgAABDoAAAw6AAAEOgAABDoAAAQ6AAAEOgAABDoAAAQ6AACHOg==",
          "dtype": "f4",
          "shape": "28, 7"
         }
        }
       ],
       "layout": {
        "coloraxis": {
         "cmid": 0,
         "colorscale": [
          [
           0,
           "rgb(103,0,31)"
          ],
          [
           0.1,
           "rgb(178,24,43)"
          ],
          [
           0.2,
           "rgb(214,96,77)"
          ],
          [
           0.3,
           "rgb(244,165,130)"
          ],
          [
           0.4,
           "rgb(253,219,199)"
          ],
          [
           0.5,
           "rgb(247,247,247)"
          ],
          [
           0.6,
           "rgb(209,229,240)"
          ],
          [
           0.7,
           "rgb(146,197,222)"
          ],
          [
           0.8,
           "rgb(67,147,195)"
          ],
          [
           0.9,
           "rgb(33,102,172)"
          ],
          [
           1,
           "rgb(5,48,97)"
          ]
         ]
        },
        "template": {
         "data": {
          "bar": [
           {
            "error_x": {
             "color": "#2a3f5f"
            },
            "error_y": {
             "color": "#2a3f5f"
            },
            "marker": {
             "line": {
              "color": "#E5ECF6",
              "width": 0.5
             },
             "pattern": {
              "fillmode": "overlay",
              "size": 10,
              "solidity": 0.2
             }
            },
            "type": "bar"
           }
          ],
          "barpolar": [
           {
            "marker": {
             "line": {
              "color": "#E5ECF6",
              "width": 0.5
             },
             "pattern": {
              "fillmode": "overlay",
              "size": 10,
              "solidity": 0.2
             }
            },
            "type": "barpolar"
           }
          ],
          "carpet": [
           {
            "aaxis": {
             "endlinecolor": "#2a3f5f",
             "gridcolor": "white",
             "linecolor": "white",
             "minorgridcolor": "white",
             "startlinecolor": "#2a3f5f"
            },
            "baxis": {
             "endlinecolor": "#2a3f5f",
             "gridcolor": "white",
             "linecolor": "white",
             "minorgridcolor": "white",
             "startlinecolor": "#2a3f5f"
            },
            "type": "carpet"
           }
          ],
          "choropleth": [
           {
            "colorbar": {
             "outlinewidth": 0,
             "ticks": ""
            },
            "type": "choropleth"
           }
          ],
          "contour": [
           {
            "colorbar": {
             "outlinewidth": 0,
             "ticks": ""
            },
            "colorscale": [
             [
              0,
              "#0d0887"
             ],
             [
              0.1111111111111111,
              "#46039f"
             ],
             [
              0.2222222222222222,
              "#7201a8"
             ],
             [
              0.3333333333333333,
              "#9c179e"
             ],
             [
              0.4444444444444444,
              "#bd3786"
             ],
             [
              0.5555555555555556,
              "#d8576b"
             ],
             [
              0.6666666666666666,
              "#ed7953"
             ],
             [
              0.7777777777777778,
              "#fb9f3a"
             ],
             [
              0.8888888888888888,
              "#fdca26"
             ],
             [
              1,
              "#f0f921"
             ]
            ],
            "type": "contour"
           }
          ],
          "contourcarpet": [
           {
            "colorbar": {
             "outlinewidth": 0,
             "ticks": ""
            },
            "type": "contourcarpet"
           }
          ],
          "heatmap": [
           {
            "colorbar": {
             "outlinewidth": 0,
             "ticks": ""
            },
            "colorscale": [
             [
              0,
              "#0d0887"
             ],
             [
              0.1111111111111111,
              "#46039f"
             ],
             [
              0.2222222222222222,
              "#7201a8"
             ],
             [
              0.3333333333333333,
              "#9c179e"
             ],
             [
              0.4444444444444444,
              "#bd3786"
             ],
             [
              0.5555555555555556,
              "#d8576b"
             ],
             [
              0.6666666666666666,
              "#ed7953"
             ],
             [
              0.7777777777777778,
              "#fb9f3a"
             ],
             [
              0.8888888888888888,
              "#fdca26"
             ],
             [
              1,
              "#f0f921"
             ]
            ],
            "type": "heatmap"
           }
          ],
          "histogram": [
           {
            "marker": {
             "pattern": {
              "fillmode": "overlay",
              "size": 10,
              "solidity": 0.2
             }
            },
            "type": "histogram"
           }
          ],
          "histogram2d": [
           {
            "colorbar": {
             "outlinewidth": 0,
             "ticks": ""
            },
            "colorscale": [
             [
              0,
              "#0d0887"
             ],
             [
              0.1111111111111111,
              "#46039f"
             ],
             [
              0.2222222222222222,
              "#7201a8"
             ],
             [
              0.3333333333333333,
              "#9c179e"
             ],
             [
              0.4444444444444444,
              "#bd3786"
             ],
             [
              0.5555555555555556,
              "#d8576b"
             ],
             [
              0.6666666666666666,
              "#ed7953"
             ],
             [
              0.7777777777777778,
              "#fb9f3a"
             ],
             [
              0.8888888888888888,
              "#fdca26"
             ],
             [
              1,
              "#f0f921"
             ]
            ],
            "type": "histogram2d"
           }
          ],
          "histogram2dcontour": [
           {
            "colorbar": {
             "outlinewidth": 0,
             "ticks": ""
            },
            "colorscale": [
             [
              0,
              "#0d0887"
             ],
             [
              0.1111111111111111,
              "#46039f"
             ],
             [
              0.2222222222222222,
              "#7201a8"
             ],
             [
              0.3333333333333333,
              "#9c179e"
             ],
             [
              0.4444444444444444,
              "#bd3786"
             ],
             [
              0.5555555555555556,
              "#d8576b"
             ],
             [
              0.6666666666666666,
              "#ed7953"
             ],
             [
              0.7777777777777778,
              "#fb9f3a"
             ],
             [
              0.8888888888888888,
              "#fdca26"
             ],
             [
              1,
              "#f0f921"
             ]
            ],
            "type": "histogram2dcontour"
           }
          ],
          "mesh3d": [
           {
            "colorbar": {
             "outlinewidth": 0,
             "ticks": ""
            },
            "type": "mesh3d"
           }
          ],
          "parcoords": [
           {
            "line": {
             "colorbar": {
              "outlinewidth": 0,
              "ticks": ""
             }
            },
            "type": "parcoords"
           }
          ],
          "pie": [
           {
            "automargin": true,
            "type": "pie"
           }
          ],
          "scatter": [
           {
            "fillpattern": {
             "fillmode": "overlay",
             "size": 10,
             "solidity": 0.2
            },
            "type": "scatter"
           }
          ],
          "scatter3d": [
           {
            "line": {
             "colorbar": {
              "outlinewidth": 0,
              "ticks": ""
             }
            },
            "marker": {
             "colorbar": {
              "outlinewidth": 0,
              "ticks": ""
             }
            },
            "type": "scatter3d"
           }
          ],
          "scattercarpet": [
           {
            "marker": {
             "colorbar": {
              "outlinewidth": 0,
              "ticks": ""
             }
            },
            "type": "scattercarpet"
           }
          ],
          "scattergeo": [
           {
            "marker": {
             "colorbar": {
              "outlinewidth": 0,
              "ticks": ""
             }
            },
            "type": "scattergeo"
           }
          ],
          "scattergl": [
           {
            "marker": {
             "colorbar": {
              "outlinewidth": 0,
              "ticks": ""
             }
            },
            "type": "scattergl"
           }
          ],
          "scattermap": [
           {
            "marker": {
             "colorbar": {
              "outlinewidth": 0,
              "ticks": ""
             }
            },
            "type": "scattermap"
           }
          ],
          "scattermapbox": [
           {
            "marker": {
             "colorbar": {
              "outlinewidth": 0,
              "ticks": ""
             }
            },
            "type": "scattermapbox"
           }
          ],
          "scatterpolar": [
           {
            "marker": {
             "colorbar": {
              "outlinewidth": 0,
              "ticks": ""
             }
            },
            "type": "scatterpolar"
           }
          ],
          "scatterpolargl": [
           {
            "marker": {
             "colorbar": {
              "outlinewidth": 0,
              "ticks": ""
             }
            },
            "type": "scatterpolargl"
           }
          ],
          "scatterternary": [
           {
            "marker": {
             "colorbar": {
              "outlinewidth": 0,
              "ticks": ""
             }
            },
            "type": "scatterternary"
           }
          ],
          "surface": [
           {
            "colorbar": {
             "outlinewidth": 0,
             "ticks": ""
            },
            "colorscale": [
             [
              0,
              "#0d0887"
             ],
             [
              0.1111111111111111,
              "#46039f"
             ],
             [
              0.2222222222222222,
              "#7201a8"
             ],
             [
              0.3333333333333333,
              "#9c179e"
             ],
             [
              0.4444444444444444,
              "#bd3786"
             ],
             [
              0.5555555555555556,
              "#d8576b"
             ],
             [
              0.6666666666666666,
              "#ed7953"
             ],
             [
              0.7777777777777778,
              "#fb9f3a"
             ],
             [
              0.8888888888888888,
              "#fdca26"
             ],
             [
              1,
              "#f0f921"
             ]
            ],
            "type": "surface"
           }
          ],
          "table": [
           {
            "cells": {
             "fill": {
              "color": "#EBF0F8"
             },
             "line": {
              "color": "white"
             }
            },
            "header": {
             "fill": {
              "color": "#C8D4E3"
             },
             "line": {
              "color": "white"
             }
            },
            "type": "table"
           }
          ]
         },
         "layout": {
          "annotationdefaults": {
           "arrowcolor": "#2a3f5f",
           "arrowhead": 0,
           "arrowwidth": 1
          },
          "autotypenumbers": "strict",
          "coloraxis": {
           "colorbar": {
            "outlinewidth": 0,
            "ticks": ""
           }
          },
          "colorscale": {
           "diverging": [
            [
             0,
             "#8e0152"
            ],
            [
             0.1,
             "#c51b7d"
            ],
            [
             0.2,
             "#de77ae"
            ],
            [
             0.3,
             "#f1b6da"
            ],
            [
             0.4,
             "#fde0ef"
            ],
            [
             0.5,
             "#f7f7f7"
            ],
            [
             0.6,
             "#e6f5d0"
            ],
            [
             0.7,
             "#b8e186"
            ],
            [
             0.8,
             "#7fbc41"
            ],
            [
             0.9,
             "#4d9221"
            ],
            [
             1,
             "#276419"
            ]
           ],
           "sequential": [
            [
             0,
             "#0d0887"
            ],
            [
             0.1111111111111111,
             "#46039f"
            ],
            [
             0.2222222222222222,
             "#7201a8"
            ],
            [
             0.3333333333333333,
             "#9c179e"
            ],
            [
             0.4444444444444444,
             "#bd3786"
            ],
            [
             0.5555555555555556,
             "#d8576b"
            ],
            [
             0.6666666666666666,
             "#ed7953"
            ],
            [
             0.7777777777777778,
             "#fb9f3a"
            ],
            [
             0.8888888888888888,
             "#fdca26"
            ],
            [
             1,
             "#f0f921"
            ]
           ],
           "sequentialminus": [
            [
             0,
             "#0d0887"
            ],
            [
             0.1111111111111111,
             "#46039f"
            ],
            [
             0.2222222222222222,
             "#7201a8"
            ],
            [
             0.3333333333333333,
             "#9c179e"
            ],
            [
             0.4444444444444444,
             "#bd3786"
            ],
            [
             0.5555555555555556,
             "#d8576b"
            ],
            [
             0.6666666666666666,
             "#ed7953"
            ],
            [
             0.7777777777777778,
             "#fb9f3a"
            ],
            [
             0.8888888888888888,
             "#fdca26"
            ],
            [
             1,
             "#f0f921"
            ]
           ]
          },
          "colorway": [
           "#636efa",
           "#EF553B",
           "#00cc96",
           "#ab63fa",
           "#FFA15A",
           "#19d3f3",
           "#FF6692",
           "#B6E880",
           "#FF97FF",
           "#FECB52"
          ],
          "font": {
           "color": "#2a3f5f"
          },
          "geo": {
           "bgcolor": "white",
           "lakecolor": "white",
           "landcolor": "#E5ECF6",
           "showlakes": true,
           "showland": true,
           "subunitcolor": "white"
          },
          "hoverlabel": {
           "align": "left"
          },
          "hovermode": "closest",
          "mapbox": {
           "style": "light"
          },
          "paper_bgcolor": "white",
          "plot_bgcolor": "#E5ECF6",
          "polar": {
           "angularaxis": {
            "gridcolor": "white",
            "linecolor": "white",
            "ticks": ""
           },
           "bgcolor": "#E5ECF6",
           "radialaxis": {
            "gridcolor": "white",
            "linecolor": "white",
            "ticks": ""
           }
          },
          "scene": {
           "xaxis": {
            "backgroundcolor": "#E5ECF6",
            "gridcolor": "white",
            "gridwidth": 2,
            "linecolor": "white",
            "showbackground": true,
            "ticks": "",
            "zerolinecolor": "white"
           },
           "yaxis": {
            "backgroundcolor": "#E5ECF6",
            "gridcolor": "white",
            "gridwidth": 2,
            "linecolor": "white",
            "showbackground": true,
            "ticks": "",
            "zerolinecolor": "white"
           },
           "zaxis": {
            "backgroundcolor": "#E5ECF6",
            "gridcolor": "white",
            "gridwidth": 2,
            "linecolor": "white",
            "showbackground": true,
            "ticks": "",
            "zerolinecolor": "white"
           }
          },
          "shapedefaults": {
           "line": {
            "color": "#2a3f5f"
           }
          },
          "ternary": {
           "aaxis": {
            "gridcolor": "white",
            "linecolor": "white",
            "ticks": ""
           },
           "baxis": {
            "gridcolor": "white",
            "linecolor": "white",
            "ticks": ""
           },
           "bgcolor": "#E5ECF6",
           "caxis": {
            "gridcolor": "white",
            "linecolor": "white",
            "ticks": ""
           }
          },
          "title": {
           "x": 0.05
          },
          "xaxis": {
           "automargin": true,
           "gridcolor": "white",
           "linecolor": "white",
           "ticks": "",
           "title": {
            "standoff": 15
           },
           "zerolinecolor": "white",
           "zerolinewidth": 2
          },
          "yaxis": {
           "automargin": true,
           "gridcolor": "white",
           "linecolor": "white",
           "ticks": "",
           "title": {
            "standoff": 15
           },
           "zerolinecolor": "white",
           "zerolinewidth": 2
          }
         }
        },
        "title": {
         "text": "Logit Difference From Patched Attention Layer"
        },
        "xaxis": {
         "anchor": "y",
         "constrain": "domain",
         "domain": [
          0,
          1
         ],
         "scaleanchor": "y",
         "title": {
          "text": "Position"
         }
        },
        "yaxis": {
         "anchor": "x",
         "autorange": "reversed",
         "constrain": "domain",
         "domain": [
          0,
          1
         ],
         "title": {
          "text": "Layer"
         }
        }
       }
      },
      "image/png": "[encoded data removed]"
     },
     "metadata": {},
     "output_type": "display_data"
    }
   ],
   "source": [
    "imshow(\n",
    "    patched_attn_diff,\n",
    "    x=prompt_position_labels,\n",
    "    title=\"Logit Difference From Patched Attention Layer\",\n",
    "    labels={\"x\": \"Position\", \"y\": \"Layer\"},\n",
    ")"
   ]
  },
  {
   "cell_type": "code",
   "execution_count": 129,
   "metadata": {},
   "outputs": [
    {
     "data": {
      "application/vnd.plotly.v1+json": {
       "config": {
        "plotlyServerURL": "https://plot.ly"
       },
       "data": [
        {
         "coloraxis": "coloraxis",
         "hovertemplate": "Position: %{x}<br>Layer: %{y}<br>color: %{z}<extra></extra>",
         "name": "0",
         "type": "heatmap",
         "x": [
          "<think>_0",
          "\n\n_1",
          "</think>_2",
          " Capital_3",
          " of_4",
          " France_5",
          " is_6"
         ],
         "xaxis": "x",
         "yaxis": "y",
         "z": {
          "bdata": "AAAEOgAABDoAAAQ6AAAEOgAABDoAAFc/AAAWOgAABDoAAAQ6AAAEOgAABDoAAAQ6AAAVOgAABjoAAAQ6AAAEOgAABDoAAAQ6AAAEOgAAKjoAAAc6AAAEOgAABDoAAAQ6AAAEOgAABDoAABg6AAAEOgAABDoAAAQ6AAAEOgAABDoAAAQ6AAApOgAAEzoAAAQ6AAAEOgAABDoAAAQ6AAAEOgAACjsAAOk5AAAEOgAABDoAAAQ6AAAEOgAABDoAABk6AAAWOgAABDoAAAQ6AAAEOgAABDoAAAQ6AABzOgAAAToAAAQ6AAAEOgAABDoAAAQ6AAAEOgAA6jkAACk6AAAEOgAABDoAAAQ6AAAEOgAABDoAACs6AAAoOgAABDoAAAQ6AAAEOgAABDoAAAQ6AACwOwAA0DkAAAQ6AAAEOgAABDoAAAQ6AAAEOgAA1zkAABQ6AAAEOgAABDoAAAQ6AAAEOgAABDoAAO05AAAVOgAABDoAAAQ6AAAEOgAABDoAAAQ6AAAFOgAA7jkAAAQ6AAAEOgAABDoAAAQ6AAAEOgAABzoAAOw5AAAEOgAABDoAAAQ6AAAEOgAABDoAABU6AAC5OQAABDoAAAQ6AAAEOgAABDoAAAQ6AAAOPAAABDoAAAQ6AAAEOgAABDoAAAQ6AAAEOgAAjjoAANE5AAAEOgAABDoAAAQ6AAAEOgAABDoAALM6AADROQAABDoAAAQ6AAAEOgAABDoAAAQ6AACLOgAACDoAAAQ6AAAEOgAABDoAAAQ6AAAEOgAA8jkAALI6AAAEOgAABDoAAAQ6AAAEOgAABDoAANM5AAADOwAABDoAAAQ6AAAEOgAABDoAAAQ6AAAFOgAAnD0AAAQ6AAAEOgAABDoAAAQ6AAAEOgAA7zkAAIs9AAAEOgAABDoAAAQ6AAAEOgAABDoAAO45AAA0OwAABDoAAAQ6AAAEOgAABDoAAAQ6AAAFOgAAHDoAAAQ6AAAEOgAABDoAAAQ6AAAEOgAA6zkAANk4AAAEOgAABDoAAAQ6AAAEOgAABDoAAAQ6AAArNw==",
          "dtype": "f4",
          "shape": "28, 7"
         }
        }
       ],
       "layout": {
        "coloraxis": {
         "cmid": 0,
         "colorscale": [
          [
           0,
           "rgb(103,0,31)"
          ],
          [
           0.1,
           "rgb(178,24,43)"
          ],
          [
           0.2,
           "rgb(214,96,77)"
          ],
          [
           0.3,
           "rgb(244,165,130)"
          ],
          [
           0.4,
           "rgb(253,219,199)"
          ],
          [
           0.5,
           "rgb(247,247,247)"
          ],
          [
           0.6,
           "rgb(209,229,240)"
          ],
          [
           0.7,
           "rgb(146,197,222)"
          ],
          [
           0.8,
           "rgb(67,147,195)"
          ],
          [
           0.9,
           "rgb(33,102,172)"
          ],
          [
           1,
           "rgb(5,48,97)"
          ]
         ]
        },
        "template": {
         "data": {
          "bar": [
           {
            "error_x": {
             "color": "#2a3f5f"
            },
            "error_y": {
             "color": "#2a3f5f"
            },
            "marker": {
             "line": {
              "color": "#E5ECF6",
              "width": 0.5
             },
             "pattern": {
              "fillmode": "overlay",
              "size": 10,
              "solidity": 0.2
             }
            },
            "type": "bar"
           }
          ],
          "barpolar": [
           {
            "marker": {
             "line": {
              "color": "#E5ECF6",
              "width": 0.5
             },
             "pattern": {
              "fillmode": "overlay",
              "size": 10,
              "solidity": 0.2
             }
            },
            "type": "barpolar"
           }
          ],
          "carpet": [
           {
            "aaxis": {
             "endlinecolor": "#2a3f5f",
             "gridcolor": "white",
             "linecolor": "white",
             "minorgridcolor": "white",
             "startlinecolor": "#2a3f5f"
            },
            "baxis": {
             "endlinecolor": "#2a3f5f",
             "gridcolor": "white",
             "linecolor": "white",
             "minorgridcolor": "white",
             "startlinecolor": "#2a3f5f"
            },
            "type": "carpet"
           }
          ],
          "choropleth": [
           {
            "colorbar": {
             "outlinewidth": 0,
             "ticks": ""
            },
            "type": "choropleth"
           }
          ],
          "contour": [
           {
            "colorbar": {
             "outlinewidth": 0,
             "ticks": ""
            },
            "colorscale": [
             [
              0,
              "#0d0887"
             ],
             [
              0.1111111111111111,
              "#46039f"
             ],
             [
              0.2222222222222222,
              "#7201a8"
             ],
             [
              0.3333333333333333,
              "#9c179e"
             ],
             [
              0.4444444444444444,
              "#bd3786"
             ],
             [
              0.5555555555555556,
              "#d8576b"
             ],
             [
              0.6666666666666666,
              "#ed7953"
             ],
             [
              0.7777777777777778,
              "#fb9f3a"
             ],
             [
              0.8888888888888888,
              "#fdca26"
             ],
             [
              1,
              "#f0f921"
             ]
            ],
            "type": "contour"
           }
          ],
          "contourcarpet": [
           {
            "colorbar": {
             "outlinewidth": 0,
             "ticks": ""
            },
            "type": "contourcarpet"
           }
          ],
          "heatmap": [
           {
            "colorbar": {
             "outlinewidth": 0,
             "ticks": ""
            },
            "colorscale": [
             [
              0,
              "#0d0887"
             ],
             [
              0.1111111111111111,
              "#46039f"
             ],
             [
              0.2222222222222222,
              "#7201a8"
             ],
             [
              0.3333333333333333,
              "#9c179e"
             ],
             [
              0.4444444444444444,
              "#bd3786"
             ],
             [
              0.5555555555555556,
              "#d8576b"
             ],
             [
              0.6666666666666666,
              "#ed7953"
             ],
             [
              0.7777777777777778,
              "#fb9f3a"
             ],
             [
              0.8888888888888888,
              "#fdca26"
             ],
             [
              1,
              "#f0f921"
             ]
            ],
            "type": "heatmap"
           }
          ],
          "histogram": [
           {
            "marker": {
             "pattern": {
              "fillmode": "overlay",
              "size": 10,
              "solidity": 0.2
             }
            },
            "type": "histogram"
           }
          ],
          "histogram2d": [
           {
            "colorbar": {
             "outlinewidth": 0,
             "ticks": ""
            },
            "colorscale": [
             [
              0,
              "#0d0887"
             ],
             [
              0.1111111111111111,
              "#46039f"
             ],
             [
              0.2222222222222222,
              "#7201a8"
             ],
             [
              0.3333333333333333,
              "#9c179e"
             ],
             [
              0.4444444444444444,
              "#bd3786"
             ],
             [
              0.5555555555555556,
              "#d8576b"
             ],
             [
              0.6666666666666666,
              "#ed7953"
             ],
             [
              0.7777777777777778,
              "#fb9f3a"
             ],
             [
              0.8888888888888888,
              "#fdca26"
             ],
             [
              1,
              "#f0f921"
             ]
            ],
            "type": "histogram2d"
           }
          ],
          "histogram2dcontour": [
           {
            "colorbar": {
             "outlinewidth": 0,
             "ticks": ""
            },
            "colorscale": [
             [
              0,
              "#0d0887"
             ],
             [
              0.1111111111111111,
              "#46039f"
             ],
             [
              0.2222222222222222,
              "#7201a8"
             ],
             [
              0.3333333333333333,
              "#9c179e"
             ],
             [
              0.4444444444444444,
              "#bd3786"
             ],
             [
              0.5555555555555556,
              "#d8576b"
             ],
             [
              0.6666666666666666,
              "#ed7953"
             ],
             [
              0.7777777777777778,
              "#fb9f3a"
             ],
             [
              0.8888888888888888,
              "#fdca26"
             ],
             [
              1,
              "#f0f921"
             ]
            ],
            "type": "histogram2dcontour"
           }
          ],
          "mesh3d": [
           {
            "colorbar": {
             "outlinewidth": 0,
             "ticks": ""
            },
            "type": "mesh3d"
           }
          ],
          "parcoords": [
           {
            "line": {
             "colorbar": {
              "outlinewidth": 0,
              "ticks": ""
             }
            },
            "type": "parcoords"
           }
          ],
          "pie": [
           {
            "automargin": true,
            "type": "pie"
           }
          ],
          "scatter": [
           {
            "fillpattern": {
             "fillmode": "overlay",
             "size": 10,
             "solidity": 0.2
            },
            "type": "scatter"
           }
          ],
          "scatter3d": [
           {
            "line": {
             "colorbar": {
              "outlinewidth": 0,
              "ticks": ""
             }
            },
            "marker": {
             "colorbar": {
              "outlinewidth": 0,
              "ticks": ""
             }
            },
            "type": "scatter3d"
           }
          ],
          "scattercarpet": [
           {
            "marker": {
             "colorbar": {
              "outlinewidth": 0,
              "ticks": ""
             }
            },
            "type": "scattercarpet"
           }
          ],
          "scattergeo": [
           {
            "marker": {
             "colorbar": {
              "outlinewidth": 0,
              "ticks": ""
             }
            },
            "type": "scattergeo"
           }
          ],
          "scattergl": [
           {
            "marker": {
             "colorbar": {
              "outlinewidth": 0,
              "ticks": ""
             }
            },
            "type": "scattergl"
           }
          ],
          "scattermap": [
           {
            "marker": {
             "colorbar": {
              "outlinewidth": 0,
              "ticks": ""
             }
            },
            "type": "scattermap"
           }
          ],
          "scattermapbox": [
           {
            "marker": {
             "colorbar": {
              "outlinewidth": 0,
              "ticks": ""
             }
            },
            "type": "scattermapbox"
           }
          ],
          "scatterpolar": [
           {
            "marker": {
             "colorbar": {
              "outlinewidth": 0,
              "ticks": ""
             }
            },
            "type": "scatterpolar"
           }
          ],
          "scatterpolargl": [
           {
            "marker": {
             "colorbar": {
              "outlinewidth": 0,
              "ticks": ""
             }
            },
            "type": "scatterpolargl"
           }
          ],
          "scatterternary": [
           {
            "marker": {
             "colorbar": {
              "outlinewidth": 0,
              "ticks": ""
             }
            },
            "type": "scatterternary"
           }
          ],
          "surface": [
           {
            "colorbar": {
             "outlinewidth": 0,
             "ticks": ""
            },
            "colorscale": [
             [
              0,
              "#0d0887"
             ],
             [
              0.1111111111111111,
              "#46039f"
             ],
             [
              0.2222222222222222,
              "#7201a8"
             ],
             [
              0.3333333333333333,
              "#9c179e"
             ],
             [
              0.4444444444444444,
              "#bd3786"
             ],
             [
              0.5555555555555556,
              "#d8576b"
             ],
             [
              0.6666666666666666,
              "#ed7953"
             ],
             [
              0.7777777777777778,
              "#fb9f3a"
             ],
             [
              0.8888888888888888,
              "#fdca26"
             ],
             [
              1,
              "#f0f921"
             ]
            ],
            "type": "surface"
           }
          ],
          "table": [
           {
            "cells": {
             "fill": {
              "color": "#EBF0F8"
             },
             "line": {
              "color": "white"
             }
            },
            "header": {
             "fill": {
              "color": "#C8D4E3"
             },
             "line": {
              "color": "white"
             }
            },
            "type": "table"
           }
          ]
         },
         "layout": {
          "annotationdefaults": {
           "arrowcolor": "#2a3f5f",
           "arrowhead": 0,
           "arrowwidth": 1
          },
          "autotypenumbers": "strict",
          "coloraxis": {
           "colorbar": {
            "outlinewidth": 0,
            "ticks": ""
           }
          },
          "colorscale": {
           "diverging": [
            [
             0,
             "#8e0152"
            ],
            [
             0.1,
             "#c51b7d"
            ],
            [
             0.2,
             "#de77ae"
            ],
            [
             0.3,
             "#f1b6da"
            ],
            [
             0.4,
             "#fde0ef"
            ],
            [
             0.5,
             "#f7f7f7"
            ],
            [
             0.6,
             "#e6f5d0"
            ],
            [
             0.7,
             "#b8e186"
            ],
            [
             0.8,
             "#7fbc41"
            ],
            [
             0.9,
             "#4d9221"
            ],
            [
             1,
             "#276419"
            ]
           ],
           "sequential": [
            [
             0,
             "#0d0887"
            ],
            [
             0.1111111111111111,
             "#46039f"
            ],
            [
             0.2222222222222222,
             "#7201a8"
            ],
            [
             0.3333333333333333,
             "#9c179e"
            ],
            [
             0.4444444444444444,
             "#bd3786"
            ],
            [
             0.5555555555555556,
             "#d8576b"
            ],
            [
             0.6666666666666666,
             "#ed7953"
            ],
            [
             0.7777777777777778,
             "#fb9f3a"
            ],
            [
             0.8888888888888888,
             "#fdca26"
            ],
            [
             1,
             "#f0f921"
            ]
           ],
           "sequentialminus": [
            [
             0,
             "#0d0887"
            ],
            [
             0.1111111111111111,
             "#46039f"
            ],
            [
             0.2222222222222222,
             "#7201a8"
            ],
            [
             0.3333333333333333,
             "#9c179e"
            ],
            [
             0.4444444444444444,
             "#bd3786"
            ],
            [
             0.5555555555555556,
             "#d8576b"
            ],
            [
             0.6666666666666666,
             "#ed7953"
            ],
            [
             0.7777777777777778,
             "#fb9f3a"
            ],
            [
             0.8888888888888888,
             "#fdca26"
            ],
            [
             1,
             "#f0f921"
            ]
           ]
          },
          "colorway": [
           "#636efa",
           "#EF553B",
           "#00cc96",
           "#ab63fa",
           "#FFA15A",
           "#19d3f3",
           "#FF6692",
           "#B6E880",
           "#FF97FF",
           "#FECB52"
          ],
          "font": {
           "color": "#2a3f5f"
          },
          "geo": {
           "bgcolor": "white",
           "lakecolor": "white",
           "landcolor": "#E5ECF6",
           "showlakes": true,
           "showland": true,
           "subunitcolor": "white"
          },
          "hoverlabel": {
           "align": "left"
          },
          "hovermode": "closest",
          "mapbox": {
           "style": "light"
          },
          "paper_bgcolor": "white",
          "plot_bgcolor": "#E5ECF6",
          "polar": {
           "angularaxis": {
            "gridcolor": "white",
            "linecolor": "white",
            "ticks": ""
           },
           "bgcolor": "#E5ECF6",
           "radialaxis": {
            "gridcolor": "white",
            "linecolor": "white",
            "ticks": ""
           }
          },
          "scene": {
           "xaxis": {
            "backgroundcolor": "#E5ECF6",
            "gridcolor": "white",
            "gridwidth": 2,
            "linecolor": "white",
            "showbackground": true,
            "ticks": "",
            "zerolinecolor": "white"
           },
           "yaxis": {
            "backgroundcolor": "#E5ECF6",
            "gridcolor": "white",
            "gridwidth": 2,
            "linecolor": "white",
            "showbackground": true,
            "ticks": "",
            "zerolinecolor": "white"
           },
           "zaxis": {
            "backgroundcolor": "#E5ECF6",
            "gridcolor": "white",
            "gridwidth": 2,
            "linecolor": "white",
            "showbackground": true,
            "ticks": "",
            "zerolinecolor": "white"
           }
          },
          "shapedefaults": {
           "line": {
            "color": "#2a3f5f"
           }
          },
          "ternary": {
           "aaxis": {
            "gridcolor": "white",
            "linecolor": "white",
            "ticks": ""
           },
           "baxis": {
            "gridcolor": "white",
            "linecolor": "white",
            "ticks": ""
           },
           "bgcolor": "#E5ECF6",
           "caxis": {
            "gridcolor": "white",
            "linecolor": "white",
            "ticks": ""
           }
          },
          "title": {
           "x": 0.05
          },
          "xaxis": {
           "automargin": true,
           "gridcolor": "white",
           "linecolor": "white",
           "ticks": "",
           "title": {
            "standoff": 15
           },
           "zerolinecolor": "white",
           "zerolinewidth": 2
          },
          "yaxis": {
           "automargin": true,
           "gridcolor": "white",
           "linecolor": "white",
           "ticks": "",
           "title": {
            "standoff": 15
           },
           "zerolinecolor": "white",
           "zerolinewidth": 2
          }
         }
        },
        "title": {
         "text": "Logit Difference From Patched MLP Layer"
        },
        "xaxis": {
         "anchor": "y",
         "constrain": "domain",
         "domain": [
          0,
          1
         ],
         "scaleanchor": "y",
         "title": {
          "text": "Position"
         }
        },
        "yaxis": {
         "anchor": "x",
         "autorange": "reversed",
         "constrain": "domain",
         "domain": [
          0,
          1
         ],
         "title": {
          "text": "Layer"
         }
        }
       }
      },
      "image/png": "[encoded data removed]"
     },
     "metadata": {},
     "output_type": "display_data"
    }
   ],
   "source": [
    "imshow(\n",
    "    patched_mlp_diff,\n",
    "    x=prompt_position_labels,\n",
    "    title=\"Logit Difference From Patched MLP Layer\",\n",
    "    labels={\"x\": \"Position\", \"y\": \"Layer\"},\n",
    ")"
   ]
  },
  {
   "cell_type": "code",
   "execution_count": 48,
   "metadata": {},
   "outputs": [],
   "source": [
    "def patch_head_vector(\n",
    "    corrupted_head_vector: Float[torch.Tensor, \"batch pos head_index d_head\"],\n",
    "    hook,\n",
    "    head_index,\n",
    "    clean_cache,\n",
    "):\n",
    "    corrupted_head_vector[:, :, head_index, :] = clean_cache[hook.name][\n",
    "        :, :, head_index, :\n",
    "    ]\n",
    "    return corrupted_head_vector\n",
    "\n",
    "\n",
    "patched_head_z_diff = torch.zeros(\n",
    "    model.cfg.n_layers, model.cfg.n_heads, device=device, dtype=torch.float32\n",
    ")\n",
    "for layer in range(model.cfg.n_layers):\n",
    "    for head_index in range(model.cfg.n_heads):\n",
    "        hook_fn = partial(patch_head_vector, head_index=head_index, clean_cache=clean_cache)\n",
    "        patched_logits = model.run_with_hooks(\n",
    "            corrupted_tokens,\n",
    "            fwd_hooks=[ (utils.get_act_name(\"z\", layer, \"attn\"), hook_fn)],\n",
    "            return_type=\"logits\",\n",
    "        )\n",
    "        patched_logit_diff = causal_tracing_metric(patched_logits,answer_tokens)\n",
    "\n",
    "        patched_head_z_diff[layer, head_index] = patched_logit_diff"
   ]
  },
  {
   "cell_type": "code",
   "execution_count": 49,
   "metadata": {},
   "outputs": [
    {
     "data": {
      "application/vnd.plotly.v1+json": {
       "config": {
        "plotlyServerURL": "https://plot.ly"
       },
       "data": [
        {
         "coloraxis": "coloraxis",
         "hovertemplate": "Head: %{x}<br>Layer: %{y}<br>color: %{z}<extra></extra>",
         "name": "0",
         "type": "heatmap",
         "xaxis": "x",
         "yaxis": "y",
         "z": {
          "bdata": "AACeOQAAoDkAAJE5AAChOQAAnzkAAKQ5AACfOQAAxzkAAJQ5AACiOQAAkDkAAJ45AADrOQAAkjkAAKY5AAClOQAAnTkAAJA5AACQOQAAnzkAAKA5AACQOQAAojkAALI5AAChOQAAoDkAAKE5AACfOQAAnjkAAKA5AACeOQAAnjkAAJE5AACfOQAAnjkAAKE5AACeOQAAlDkAAJ85AACiOQAAkDkAALc5AAChOQAAkDkAAKM5AAChOQAAnzkAAJ85AACiOQAAkjkAAJ85AACfOQAAnzkAAKI5AACzOQAAojkAAJ05AAChOQAAnjkAAKM5AAChOQAAnzkAAKE5AACeOQAAojkAAKE5AACiOQAAojkAAJA5AACPOQAAkDkAAI85AACeOQAAojkAAJM5AACdOQAAnTkAAJ45AACeOQAAnjkAAJQ5AACgOQAAoTkAAJ85AACQOQAAnjkAAJ45AACfOQAAojkAAJ05AACgOQAAnzkAAJ45AACeOQAAnTkAAJs5AACcOQAAozkAAKI5AACiOQAAnjkAAKU5AAChOQAAnjkAAKE5AACfOQAAnzkAAJ45AAChOQAAojkAAKM5AAChOQAAkzkAAJ45AACfOQAAsDkAAJE5AACgOQAAojkAAJ85AACeOQAAkDkAAJ45AACfOQAAojkAAJA5AACmOQAAkTkAAJQ5AACQOQAAojkAAK85AACPOQAAnjkAAJ85AAChOQAAjjkAAJ45AACgOQAAnjkAAJI5AACvOQAAkDkAAJQ5AAChOQAAoDkAAKE5AAChOQAAnzkAAKE5AACgOQAAtDkAAKE5AACOOQAApDkAAJ85AACmOQAAjjkAAJ45AACyOQAAkDkAAJE5AACiOQAAojkAAJA5AACeOQAAozkAAJA5AACeOQAAoTkAAJ85AACSOQAAozkAAKA5AACQOQAAkjkAAJ85AAChOQAAnjkAAJM5AAChOQAAlDkAAJM5AACcOQAAojkAAMo5AACfOQAAoTkAAJM5AACfOQAAnjkAAKw5AACUOQAAoTkAAJA5AACfOQAAojkAAKI5AACGOQAAoDkAAJ85AACeOQAAnzkAAJE5AACiOQAAnzkAAJ85AACjOQAAnzkAAKE5AACeOQAAnzkAAKE5AACeOQAAojkAAJM5AACiOQAAoDkAAKA5AACeOQAAnTkAAJA5AAChOQAAnTkAAKA5AACfOQAAkTkAAKI5AACgOQAAjTkAAJ45AACdOQAAnzkAAJ45AACeOQAAojkAAI45AACfOQAAnjkAAJ45AACgOQAAjzkAAKE5AACROQAAnzkAAJ85AACfOQAAoTkAAIQ5AACQOQAAnzkAAJ85AACPOQAAnzkAAKA5AAChOQAAnzkAAJI5AACfOQAAoDkAAJI5AACfOQAAojkAAJ45AACgOQAAnDkAAJ45AACfOQAAjjkAAJ45AAChOQAAkTkAAJ85AACkOQAAkzkAAJ05AACeOQAAjjkAAJA5AACeOQAAnTkAAI85AACgOQAAkDkAABE6AAB4OQAAnzkAAJw5AACeOQAAnjkAAJA5AACiOQAAnjkAAKI5AACPOQAAoDkAAJ85AACQOQAAnzkAAJw5AACROQAAMjoAAJ85AACTOQAAnjkAAJ85AACOOQAAoTkAAJ45AACQOQAAjzkAAKM5AACeOQAAnjkAAJ85AACTOQAAkTkAAJ85AACfOQAAnzkAAJ85AACeOQAAnjkAAJ85AAChOQAAjzkAAI85AACfOQAAojkAAJ45AACfOQAAnzkAAKE5AABKPwAAnzkAAKI5AACUOQAAnjkAAOQ5AACPOQAAuDkAAJ85AACfOQAAkTkAAI85AACQOQAAoTkAAJ85AACjOQAAnjkAAJ85AAChOQAAoTkAAKI5AACQOQAAnjkAAKE5AACUOQAAnjkAAJA5AABmOQAA+DkAAJA5AACgOQAAnzkAAJA5AACeOQAApzkAAKE5AACeOQAAnzkAAKI5AACfOQAAoDkAAKA5AACSOQAAnTkAAJ85AAB3OQAAkDkAAJ85AACPOQAAnzkAAKA5AACfOQAAjzkAAKI5AACfOQAAnzkAAJ85AACmOQAAjzkAAJ85AACgOQAAnzkAAJ45AACfOQAAjzkAAJ85AACfOQAAlDkAAJA5AACjOQAAnzkAAI05AAChOQAAnjkAAJ85AAC/OQAApjkAAJ85AACeOQAAnzkAAO85AACgOQAAnzkAAKw7AAALOAAAjzkAAKM5AACiOQAAgzkAAJ85AABsOQAAnjkAAKI5AACfOQAAnzkAAKI5AACfOQAAnjkAAJI5AACeOQAAnzkAAKA5AACeOQAAkTkAAJ45AACdOQAAoTkAAJ85AAChOQAAnjkAAJ85AACQOQAAtzkAAEo5AABhOg==",
          "dtype": "f4",
          "shape": "28, 16"
         }
        }
       ],
       "layout": {
        "coloraxis": {
         "cmid": 0,
         "colorscale": [
          [
           0,
           "rgb(103,0,31)"
          ],
          [
           0.1,
           "rgb(178,24,43)"
          ],
          [
           0.2,
           "rgb(214,96,77)"
          ],
          [
           0.3,
           "rgb(244,165,130)"
          ],
          [
           0.4,
           "rgb(253,219,199)"
          ],
          [
           0.5,
           "rgb(247,247,247)"
          ],
          [
           0.6,
           "rgb(209,229,240)"
          ],
          [
           0.7,
           "rgb(146,197,222)"
          ],
          [
           0.8,
           "rgb(67,147,195)"
          ],
          [
           0.9,
           "rgb(33,102,172)"
          ],
          [
           1,
           "rgb(5,48,97)"
          ]
         ]
        },
        "template": {
         "data": {
          "bar": [
           {
            "error_x": {
             "color": "#2a3f5f"
            },
            "error_y": {
             "color": "#2a3f5f"
            },
            "marker": {
             "line": {
              "color": "#E5ECF6",
              "width": 0.5
             },
             "pattern": {
              "fillmode": "overlay",
              "size": 10,
              "solidity": 0.2
             }
            },
            "type": "bar"
           }
          ],
          "barpolar": [
           {
            "marker": {
             "line": {
              "color": "#E5ECF6",
              "width": 0.5
             },
             "pattern": {
              "fillmode": "overlay",
              "size": 10,
              "solidity": 0.2
             }
            },
            "type": "barpolar"
           }
          ],
          "carpet": [
           {
            "aaxis": {
             "endlinecolor": "#2a3f5f",
             "gridcolor": "white",
             "linecolor": "white",
             "minorgridcolor": "white",
             "startlinecolor": "#2a3f5f"
            },
            "baxis": {
             "endlinecolor": "#2a3f5f",
             "gridcolor": "white",
             "linecolor": "white",
             "minorgridcolor": "white",
             "startlinecolor": "#2a3f5f"
            },
            "type": "carpet"
           }
          ],
          "choropleth": [
           {
            "colorbar": {
             "outlinewidth": 0,
             "ticks": ""
            },
            "type": "choropleth"
           }
          ],
          "contour": [
           {
            "colorbar": {
             "outlinewidth": 0,
             "ticks": ""
            },
            "colorscale": [
             [
              0,
              "#0d0887"
             ],
             [
              0.1111111111111111,
              "#46039f"
             ],
             [
              0.2222222222222222,
              "#7201a8"
             ],
             [
              0.3333333333333333,
              "#9c179e"
             ],
             [
              0.4444444444444444,
              "#bd3786"
             ],
             [
              0.5555555555555556,
              "#d8576b"
             ],
             [
              0.6666666666666666,
              "#ed7953"
             ],
             [
              0.7777777777777778,
              "#fb9f3a"
             ],
             [
              0.8888888888888888,
              "#fdca26"
             ],
             [
              1,
              "#f0f921"
             ]
            ],
            "type": "contour"
           }
          ],
          "contourcarpet": [
           {
            "colorbar": {
             "outlinewidth": 0,
             "ticks": ""
            },
            "type": "contourcarpet"
           }
          ],
          "heatmap": [
           {
            "colorbar": {
             "outlinewidth": 0,
             "ticks": ""
            },
            "colorscale": [
             [
              0,
              "#0d0887"
             ],
             [
              0.1111111111111111,
              "#46039f"
             ],
             [
              0.2222222222222222,
              "#7201a8"
             ],
             [
              0.3333333333333333,
              "#9c179e"
             ],
             [
              0.4444444444444444,
              "#bd3786"
             ],
             [
              0.5555555555555556,
              "#d8576b"
             ],
             [
              0.6666666666666666,
              "#ed7953"
             ],
             [
              0.7777777777777778,
              "#fb9f3a"
             ],
             [
              0.8888888888888888,
              "#fdca26"
             ],
             [
              1,
              "#f0f921"
             ]
            ],
            "type": "heatmap"
           }
          ],
          "histogram": [
           {
            "marker": {
             "pattern": {
              "fillmode": "overlay",
              "size": 10,
              "solidity": 0.2
             }
            },
            "type": "histogram"
           }
          ],
          "histogram2d": [
           {
            "colorbar": {
             "outlinewidth": 0,
             "ticks": ""
            },
            "colorscale": [
             [
              0,
              "#0d0887"
             ],
             [
              0.1111111111111111,
              "#46039f"
             ],
             [
              0.2222222222222222,
              "#7201a8"
             ],
             [
              0.3333333333333333,
              "#9c179e"
             ],
             [
              0.4444444444444444,
              "#bd3786"
             ],
             [
              0.5555555555555556,
              "#d8576b"
             ],
             [
              0.6666666666666666,
              "#ed7953"
             ],
             [
              0.7777777777777778,
              "#fb9f3a"
             ],
             [
              0.8888888888888888,
              "#fdca26"
             ],
             [
              1,
              "#f0f921"
             ]
            ],
            "type": "histogram2d"
           }
          ],
          "histogram2dcontour": [
           {
            "colorbar": {
             "outlinewidth": 0,
             "ticks": ""
            },
            "colorscale": [
             [
              0,
              "#0d0887"
             ],
             [
              0.1111111111111111,
              "#46039f"
             ],
             [
              0.2222222222222222,
              "#7201a8"
             ],
             [
              0.3333333333333333,
              "#9c179e"
             ],
             [
              0.4444444444444444,
              "#bd3786"
             ],
             [
              0.5555555555555556,
              "#d8576b"
             ],
             [
              0.6666666666666666,
              "#ed7953"
             ],
             [
              0.7777777777777778,
              "#fb9f3a"
             ],
             [
              0.8888888888888888,
              "#fdca26"
             ],
             [
              1,
              "#f0f921"
             ]
            ],
            "type": "histogram2dcontour"
           }
          ],
          "mesh3d": [
           {
            "colorbar": {
             "outlinewidth": 0,
             "ticks": ""
            },
            "type": "mesh3d"
           }
          ],
          "parcoords": [
           {
            "line": {
             "colorbar": {
              "outlinewidth": 0,
              "ticks": ""
             }
            },
            "type": "parcoords"
           }
          ],
          "pie": [
           {
            "automargin": true,
            "type": "pie"
           }
          ],
          "scatter": [
           {
            "fillpattern": {
             "fillmode": "overlay",
             "size": 10,
             "solidity": 0.2
            },
            "type": "scatter"
           }
          ],
          "scatter3d": [
           {
            "line": {
             "colorbar": {
              "outlinewidth": 0,
              "ticks": ""
             }
            },
            "marker": {
             "colorbar": {
              "outlinewidth": 0,
              "ticks": ""
             }
            },
            "type": "scatter3d"
           }
          ],
          "scattercarpet": [
           {
            "marker": {
             "colorbar": {
              "outlinewidth": 0,
              "ticks": ""
             }
            },
            "type": "scattercarpet"
           }
          ],
          "scattergeo": [
           {
            "marker": {
             "colorbar": {
              "outlinewidth": 0,
              "ticks": ""
             }
            },
            "type": "scattergeo"
           }
          ],
          "scattergl": [
           {
            "marker": {
             "colorbar": {
              "outlinewidth": 0,
              "ticks": ""
             }
            },
            "type": "scattergl"
           }
          ],
          "scattermap": [
           {
            "marker": {
             "colorbar": {
              "outlinewidth": 0,
              "ticks": ""
             }
            },
            "type": "scattermap"
           }
          ],
          "scattermapbox": [
           {
            "marker": {
             "colorbar": {
              "outlinewidth": 0,
              "ticks": ""
             }
            },
            "type": "scattermapbox"
           }
          ],
          "scatterpolar": [
           {
            "marker": {
             "colorbar": {
              "outlinewidth": 0,
              "ticks": ""
             }
            },
            "type": "scatterpolar"
           }
          ],
          "scatterpolargl": [
           {
            "marker": {
             "colorbar": {
              "outlinewidth": 0,
              "ticks": ""
             }
            },
            "type": "scatterpolargl"
           }
          ],
          "scatterternary": [
           {
            "marker": {
             "colorbar": {
              "outlinewidth": 0,
              "ticks": ""
             }
            },
            "type": "scatterternary"
           }
          ],
          "surface": [
           {
            "colorbar": {
             "outlinewidth": 0,
             "ticks": ""
            },
            "colorscale": [
             [
              0,
              "#0d0887"
             ],
             [
              0.1111111111111111,
              "#46039f"
             ],
             [
              0.2222222222222222,
              "#7201a8"
             ],
             [
              0.3333333333333333,
              "#9c179e"
             ],
             [
              0.4444444444444444,
              "#bd3786"
             ],
             [
              0.5555555555555556,
              "#d8576b"
             ],
             [
              0.6666666666666666,
              "#ed7953"
             ],
             [
              0.7777777777777778,
              "#fb9f3a"
             ],
             [
              0.8888888888888888,
              "#fdca26"
             ],
             [
              1,
              "#f0f921"
             ]
            ],
            "type": "surface"
           }
          ],
          "table": [
           {
            "cells": {
             "fill": {
              "color": "#EBF0F8"
             },
             "line": {
              "color": "white"
             }
            },
            "header": {
             "fill": {
              "color": "#C8D4E3"
             },
             "line": {
              "color": "white"
             }
            },
            "type": "table"
           }
          ]
         },
         "layout": {
          "annotationdefaults": {
           "arrowcolor": "#2a3f5f",
           "arrowhead": 0,
           "arrowwidth": 1
          },
          "autotypenumbers": "strict",
          "coloraxis": {
           "colorbar": {
            "outlinewidth": 0,
            "ticks": ""
           }
          },
          "colorscale": {
           "diverging": [
            [
             0,
             "#8e0152"
            ],
            [
             0.1,
             "#c51b7d"
            ],
            [
             0.2,
             "#de77ae"
            ],
            [
             0.3,
             "#f1b6da"
            ],
            [
             0.4,
             "#fde0ef"
            ],
            [
             0.5,
             "#f7f7f7"
            ],
            [
             0.6,
             "#e6f5d0"
            ],
            [
             0.7,
             "#b8e186"
            ],
            [
             0.8,
             "#7fbc41"
            ],
            [
             0.9,
             "#4d9221"
            ],
            [
             1,
             "#276419"
            ]
           ],
           "sequential": [
            [
             0,
             "#0d0887"
            ],
            [
             0.1111111111111111,
             "#46039f"
            ],
            [
             0.2222222222222222,
             "#7201a8"
            ],
            [
             0.3333333333333333,
             "#9c179e"
            ],
            [
             0.4444444444444444,
             "#bd3786"
            ],
            [
             0.5555555555555556,
             "#d8576b"
            ],
            [
             0.6666666666666666,
             "#ed7953"
            ],
            [
             0.7777777777777778,
             "#fb9f3a"
            ],
            [
             0.8888888888888888,
             "#fdca26"
            ],
            [
             1,
             "#f0f921"
            ]
           ],
           "sequentialminus": [
            [
             0,
             "#0d0887"
            ],
            [
             0.1111111111111111,
             "#46039f"
            ],
            [
             0.2222222222222222,
             "#7201a8"
            ],
            [
             0.3333333333333333,
             "#9c179e"
            ],
            [
             0.4444444444444444,
             "#bd3786"
            ],
            [
             0.5555555555555556,
             "#d8576b"
            ],
            [
             0.6666666666666666,
             "#ed7953"
            ],
            [
             0.7777777777777778,
             "#fb9f3a"
            ],
            [
             0.8888888888888888,
             "#fdca26"
            ],
            [
             1,
             "#f0f921"
            ]
           ]
          },
          "colorway": [
           "#636efa",
           "#EF553B",
           "#00cc96",
           "#ab63fa",
           "#FFA15A",
           "#19d3f3",
           "#FF6692",
           "#B6E880",
           "#FF97FF",
           "#FECB52"
          ],
          "font": {
           "color": "#2a3f5f"
          },
          "geo": {
           "bgcolor": "white",
           "lakecolor": "white",
           "landcolor": "#E5ECF6",
           "showlakes": true,
           "showland": true,
           "subunitcolor": "white"
          },
          "hoverlabel": {
           "align": "left"
          },
          "hovermode": "closest",
          "mapbox": {
           "style": "light"
          },
          "paper_bgcolor": "white",
          "plot_bgcolor": "#E5ECF6",
          "polar": {
           "angularaxis": {
            "gridcolor": "white",
            "linecolor": "white",
            "ticks": ""
           },
           "bgcolor": "#E5ECF6",
           "radialaxis": {
            "gridcolor": "white",
            "linecolor": "white",
            "ticks": ""
           }
          },
          "scene": {
           "xaxis": {
            "backgroundcolor": "#E5ECF6",
            "gridcolor": "white",
            "gridwidth": 2,
            "linecolor": "white",
            "showbackground": true,
            "ticks": "",
            "zerolinecolor": "white"
           },
           "yaxis": {
            "backgroundcolor": "#E5ECF6",
            "gridcolor": "white",
            "gridwidth": 2,
            "linecolor": "white",
            "showbackground": true,
            "ticks": "",
            "zerolinecolor": "white"
           },
           "zaxis": {
            "backgroundcolor": "#E5ECF6",
            "gridcolor": "white",
            "gridwidth": 2,
            "linecolor": "white",
            "showbackground": true,
            "ticks": "",
            "zerolinecolor": "white"
           }
          },
          "shapedefaults": {
           "line": {
            "color": "#2a3f5f"
           }
          },
          "ternary": {
           "aaxis": {
            "gridcolor": "white",
            "linecolor": "white",
            "ticks": ""
           },
           "baxis": {
            "gridcolor": "white",
            "linecolor": "white",
            "ticks": ""
           },
           "bgcolor": "#E5ECF6",
           "caxis": {
            "gridcolor": "white",
            "linecolor": "white",
            "ticks": ""
           }
          },
          "title": {
           "x": 0.05
          },
          "xaxis": {
           "automargin": true,
           "gridcolor": "white",
           "linecolor": "white",
           "ticks": "",
           "title": {
            "standoff": 15
           },
           "zerolinecolor": "white",
           "zerolinewidth": 2
          },
          "yaxis": {
           "automargin": true,
           "gridcolor": "white",
           "linecolor": "white",
           "ticks": "",
           "title": {
            "standoff": 15
           },
           "zerolinecolor": "white",
           "zerolinewidth": 2
          }
         }
        },
        "title": {
         "text": "Logit Difference From Patched Head Output"
        },
        "xaxis": {
         "anchor": "y",
         "domain": [
          0,
          1
         ],
         "title": {
          "text": "Head"
         }
        },
        "yaxis": {
         "anchor": "x",
         "autorange": "reversed",
         "domain": [
          0,
          1
         ],
         "title": {
          "text": "Layer"
         }
        }
       }
      },
      "image/png": "[encoded data removed]"
     },
     "metadata": {},
     "output_type": "display_data"
    }
   ],
   "source": [
    "imshow(\n",
    "    patched_head_z_diff,\n",
    "    title=\"Logit Difference From Patched Head Output\",\n",
    "    labels={\"x\": \"Head\", \"y\": \"Layer\"},\n",
    "    aspect='auto'\n",
    ")"
   ]
  },
  {
   "cell_type": "code",
   "execution_count": 32,
   "metadata": {},
   "outputs": [],
   "source": [
    "def patch_head_vector(\n",
    "    corrupted_head_vector: Float[torch.Tensor, \"batch pos head_index d_head\"],\n",
    "    hook,\n",
    "    head_index,\n",
    "    clean_cache,\n",
    "):\n",
    "    corrupted_head_vector[:, :, head_index, :] = clean_cache[hook.name][\n",
    "        :, :, head_index, :\n",
    "    ]\n",
    "    return corrupted_head_vector"
   ]
  },
  {
   "cell_type": "code",
   "execution_count": 33,
   "metadata": {},
   "outputs": [
    {
     "name": "stderr",
     "output_type": "stream",
     "text": [
      "100%|██████████| 28/28 [00:29<00:00,  1.04s/it]\n"
     ]
    }
   ],
   "source": [
    "patched_head_v_diff = torch.zeros(\n",
    "    model.cfg.n_layers, model.cfg.n_heads, device=device, dtype=torch.float32\n",
    ")\n",
    "\n",
    "n_heads_q = model.cfg.n_heads\n",
    "n_heads_kv = getattr(model.cfg, \"n_key_value_heads\", n_heads_q)  # fallback for non-GQA\n",
    "\n",
    "for layer in tqdm(range(model.cfg.n_layers)):\n",
    "    for head_index in range(n_heads_q):\n",
    "        kv_index = head_index // (n_heads_q // n_heads_kv)  # map query head -> kv head\n",
    "\n",
    "        hook_fn = partial(patch_head_vector, head_index=kv_index, clean_cache=clean_cache)\n",
    "        patched_logits = model.run_with_hooks(\n",
    "            corrupted_tokens,\n",
    "            fwd_hooks=[\n",
    "                # (utils.get_act_name(\"embed\"), emb_hook_fn),\n",
    "                (utils.get_act_name(\"v\", layer, \"attn\"), hook_fn)\n",
    "            ],\n",
    "            return_type=\"logits\",\n",
    "        )\n",
    "        patched_logit_diff = causal_tracing_metric(patched_logits,answer_tokens)\n",
    "        patched_head_v_diff[layer, head_index] = patched_logit_diff"
   ]
  },
  {
   "cell_type": "code",
   "execution_count": null,
   "metadata": {},
   "outputs": [],
   "source": []
  },
  {
   "cell_type": "code",
   "execution_count": 34,
   "metadata": {},
   "outputs": [
    {
     "data": {
      "application/vnd.plotly.v1+json": {
       "config": {
        "plotlyServerURL": "https://plot.ly"
       },
       "data": [
        {
         "coloraxis": "coloraxis",
         "hovertemplate": "Head: %{x}<br>Layer: %{y}<br>color: %{z}<extra></extra>",
         "name": "0",
         "type": "heatmap",
         "xaxis": "x",
         "yaxis": "y",
         "z": {
          "bdata": "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",
          "dtype": "f4",
          "shape": "28, 16"
         }
        }
       ],
       "layout": {
        "coloraxis": {
         "cmid": 0,
         "colorscale": [
          [
           0,
           "rgb(103,0,31)"
          ],
          [
           0.1,
           "rgb(178,24,43)"
          ],
          [
           0.2,
           "rgb(214,96,77)"
          ],
          [
           0.3,
           "rgb(244,165,130)"
          ],
          [
           0.4,
           "rgb(253,219,199)"
          ],
          [
           0.5,
           "rgb(247,247,247)"
          ],
          [
           0.6,
           "rgb(209,229,240)"
          ],
          [
           0.7,
           "rgb(146,197,222)"
          ],
          [
           0.8,
           "rgb(67,147,195)"
          ],
          [
           0.9,
           "rgb(33,102,172)"
          ],
          [
           1,
           "rgb(5,48,97)"
          ]
         ]
        },
        "template": {
         "data": {
          "bar": [
           {
            "error_x": {
             "color": "#2a3f5f"
            },
            "error_y": {
             "color": "#2a3f5f"
            },
            "marker": {
             "line": {
              "color": "#E5ECF6",
              "width": 0.5
             },
             "pattern": {
              "fillmode": "overlay",
              "size": 10,
              "solidity": 0.2
             }
            },
            "type": "bar"
           }
          ],
          "barpolar": [
           {
            "marker": {
             "line": {
              "color": "#E5ECF6",
              "width": 0.5
             },
             "pattern": {
              "fillmode": "overlay",
              "size": 10,
              "solidity": 0.2
             }
            },
            "type": "barpolar"
           }
          ],
          "carpet": [
           {
            "aaxis": {
             "endlinecolor": "#2a3f5f",
             "gridcolor": "white",
             "linecolor": "white",
             "minorgridcolor": "white",
             "startlinecolor": "#2a3f5f"
            },
            "baxis": {
             "endlinecolor": "#2a3f5f",
             "gridcolor": "white",
             "linecolor": "white",
             "minorgridcolor": "white",
             "startlinecolor": "#2a3f5f"
            },
            "type": "carpet"
           }
          ],
          "choropleth": [
           {
            "colorbar": {
             "outlinewidth": 0,
             "ticks": ""
            },
            "type": "choropleth"
           }
          ],
          "contour": [
           {
            "colorbar": {
             "outlinewidth": 0,
             "ticks": ""
            },
            "colorscale": [
             [
              0,
              "#0d0887"
             ],
             [
              0.1111111111111111,
              "#46039f"
             ],
             [
              0.2222222222222222,
              "#7201a8"
             ],
             [
              0.3333333333333333,
              "#9c179e"
             ],
             [
              0.4444444444444444,
              "#bd3786"
             ],
             [
              0.5555555555555556,
              "#d8576b"
             ],
             [
              0.6666666666666666,
              "#ed7953"
             ],
             [
              0.7777777777777778,
              "#fb9f3a"
             ],
             [
              0.8888888888888888,
              "#fdca26"
             ],
             [
              1,
              "#f0f921"
             ]
            ],
            "type": "contour"
           }
          ],
          "contourcarpet": [
           {
            "colorbar": {
             "outlinewidth": 0,
             "ticks": ""
            },
            "type": "contourcarpet"
           }
          ],
          "heatmap": [
           {
            "colorbar": {
             "outlinewidth": 0,
             "ticks": ""
            },
            "colorscale": [
             [
              0,
              "#0d0887"
             ],
             [
              0.1111111111111111,
              "#46039f"
             ],
             [
              0.2222222222222222,
              "#7201a8"
             ],
             [
              0.3333333333333333,
              "#9c179e"
             ],
             [
              0.4444444444444444,
              "#bd3786"
             ],
             [
              0.5555555555555556,
              "#d8576b"
             ],
             [
              0.6666666666666666,
              "#ed7953"
             ],
             [
              0.7777777777777778,
              "#fb9f3a"
             ],
             [
              0.8888888888888888,
              "#fdca26"
             ],
             [
              1,
              "#f0f921"
             ]
            ],
            "type": "heatmap"
           }
          ],
          "histogram": [
           {
            "marker": {
             "pattern": {
              "fillmode": "overlay",
              "size": 10,
              "solidity": 0.2
             }
            },
            "type": "histogram"
           }
          ],
          "histogram2d": [
           {
            "colorbar": {
             "outlinewidth": 0,
             "ticks": ""
            },
            "colorscale": [
             [
              0,
              "#0d0887"
             ],
             [
              0.1111111111111111,
              "#46039f"
             ],
             [
              0.2222222222222222,
              "#7201a8"
             ],
             [
              0.3333333333333333,
              "#9c179e"
             ],
             [
              0.4444444444444444,
              "#bd3786"
             ],
             [
              0.5555555555555556,
              "#d8576b"
             ],
             [
              0.6666666666666666,
              "#ed7953"
             ],
             [
              0.7777777777777778,
              "#fb9f3a"
             ],
             [
              0.8888888888888888,
              "#fdca26"
             ],
             [
              1,
              "#f0f921"
             ]
            ],
            "type": "histogram2d"
           }
          ],
          "histogram2dcontour": [
           {
            "colorbar": {
             "outlinewidth": 0,
             "ticks": ""
            },
            "colorscale": [
             [
              0,
              "#0d0887"
             ],
             [
              0.1111111111111111,
              "#46039f"
             ],
             [
              0.2222222222222222,
              "#7201a8"
             ],
             [
              0.3333333333333333,
              "#9c179e"
             ],
             [
              0.4444444444444444,
              "#bd3786"
             ],
             [
              0.5555555555555556,
              "#d8576b"
             ],
             [
              0.6666666666666666,
              "#ed7953"
             ],
             [
              0.7777777777777778,
              "#fb9f3a"
             ],
             [
              0.8888888888888888,
              "#fdca26"
             ],
             [
              1,
              "#f0f921"
             ]
            ],
            "type": "histogram2dcontour"
           }
          ],
          "mesh3d": [
           {
            "colorbar": {
             "outlinewidth": 0,
             "ticks": ""
            },
            "type": "mesh3d"
           }
          ],
          "parcoords": [
           {
            "line": {
             "colorbar": {
              "outlinewidth": 0,
              "ticks": ""
             }
            },
            "type": "parcoords"
           }
          ],
          "pie": [
           {
            "automargin": true,
            "type": "pie"
           }
          ],
          "scatter": [
           {
            "fillpattern": {
             "fillmode": "overlay",
             "size": 10,
             "solidity": 0.2
            },
            "type": "scatter"
           }
          ],
          "scatter3d": [
           {
            "line": {
             "colorbar": {
              "outlinewidth": 0,
              "ticks": ""
             }
            },
            "marker": {
             "colorbar": {
              "outlinewidth": 0,
              "ticks": ""
             }
            },
            "type": "scatter3d"
           }
          ],
          "scattercarpet": [
           {
            "marker": {
             "colorbar": {
              "outlinewidth": 0,
              "ticks": ""
             }
            },
            "type": "scattercarpet"
           }
          ],
          "scattergeo": [
           {
            "marker": {
             "colorbar": {
              "outlinewidth": 0,
              "ticks": ""
             }
            },
            "type": "scattergeo"
           }
          ],
          "scattergl": [
           {
            "marker": {
             "colorbar": {
              "outlinewidth": 0,
              "ticks": ""
             }
            },
            "type": "scattergl"
           }
          ],
          "scattermap": [
           {
            "marker": {
             "colorbar": {
              "outlinewidth": 0,
              "ticks": ""
             }
            },
            "type": "scattermap"
           }
          ],
          "scattermapbox": [
           {
            "marker": {
             "colorbar": {
              "outlinewidth": 0,
              "ticks": ""
             }
            },
            "type": "scattermapbox"
           }
          ],
          "scatterpolar": [
           {
            "marker": {
             "colorbar": {
              "outlinewidth": 0,
              "ticks": ""
             }
            },
            "type": "scatterpolar"
           }
          ],
          "scatterpolargl": [
           {
            "marker": {
             "colorbar": {
              "outlinewidth": 0,
              "ticks": ""
             }
            },
            "type": "scatterpolargl"
           }
          ],
          "scatterternary": [
           {
            "marker": {
             "colorbar": {
              "outlinewidth": 0,
              "ticks": ""
             }
            },
            "type": "scatterternary"
           }
          ],
          "surface": [
           {
            "colorbar": {
             "outlinewidth": 0,
             "ticks": ""
            },
            "colorscale": [
             [
              0,
              "#0d0887"
             ],
             [
              0.1111111111111111,
              "#46039f"
             ],
             [
              0.2222222222222222,
              "#7201a8"
             ],
             [
              0.3333333333333333,
              "#9c179e"
             ],
             [
              0.4444444444444444,
              "#bd3786"
             ],
             [
              0.5555555555555556,
              "#d8576b"
             ],
             [
              0.6666666666666666,
              "#ed7953"
             ],
             [
              0.7777777777777778,
              "#fb9f3a"
             ],
             [
              0.8888888888888888,
              "#fdca26"
             ],
             [
              1,
              "#f0f921"
             ]
            ],
            "type": "surface"
           }
          ],
          "table": [
           {
            "cells": {
             "fill": {
              "color": "#EBF0F8"
             },
             "line": {
              "color": "white"
             }
            },
            "header": {
             "fill": {
              "color": "#C8D4E3"
             },
             "line": {
              "color": "white"
             }
            },
            "type": "table"
           }
          ]
         },
         "layout": {
          "annotationdefaults": {
           "arrowcolor": "#2a3f5f",
           "arrowhead": 0,
           "arrowwidth": 1
          },
          "autotypenumbers": "strict",
          "coloraxis": {
           "colorbar": {
            "outlinewidth": 0,
            "ticks": ""
           }
          },
          "colorscale": {
           "diverging": [
            [
             0,
             "#8e0152"
            ],
            [
             0.1,
             "#c51b7d"
            ],
            [
             0.2,
             "#de77ae"
            ],
            [
             0.3,
             "#f1b6da"
            ],
            [
             0.4,
             "#fde0ef"
            ],
            [
             0.5,
             "#f7f7f7"
            ],
            [
             0.6,
             "#e6f5d0"
            ],
            [
             0.7,
             "#b8e186"
            ],
            [
             0.8,
             "#7fbc41"
            ],
            [
             0.9,
             "#4d9221"
            ],
            [
             1,
             "#276419"
            ]
           ],
           "sequential": [
            [
             0,
             "#0d0887"
            ],
            [
             0.1111111111111111,
             "#46039f"
            ],
            [
             0.2222222222222222,
             "#7201a8"
            ],
            [
             0.3333333333333333,
             "#9c179e"
            ],
            [
             0.4444444444444444,
             "#bd3786"
            ],
            [
             0.5555555555555556,
             "#d8576b"
            ],
            [
             0.6666666666666666,
             "#ed7953"
            ],
            [
             0.7777777777777778,
             "#fb9f3a"
            ],
            [
             0.8888888888888888,
             "#fdca26"
            ],
            [
             1,
             "#f0f921"
            ]
           ],
           "sequentialminus": [
            [
             0,
             "#0d0887"
            ],
            [
             0.1111111111111111,
             "#46039f"
            ],
            [
             0.2222222222222222,
             "#7201a8"
            ],
            [
             0.3333333333333333,
             "#9c179e"
            ],
            [
             0.4444444444444444,
             "#bd3786"
            ],
            [
             0.5555555555555556,
             "#d8576b"
            ],
            [
             0.6666666666666666,
             "#ed7953"
            ],
            [
             0.7777777777777778,
             "#fb9f3a"
            ],
            [
             0.8888888888888888,
             "#fdca26"
            ],
            [
             1,
             "#f0f921"
            ]
           ]
          },
          "colorway": [
           "#636efa",
           "#EF553B",
           "#00cc96",
           "#ab63fa",
           "#FFA15A",
           "#19d3f3",
           "#FF6692",
           "#B6E880",
           "#FF97FF",
           "#FECB52"
          ],
          "font": {
           "color": "#2a3f5f"
          },
          "geo": {
           "bgcolor": "white",
           "lakecolor": "white",
           "landcolor": "#E5ECF6",
           "showlakes": true,
           "showland": true,
           "subunitcolor": "white"
          },
          "hoverlabel": {
           "align": "left"
          },
          "hovermode": "closest",
          "mapbox": {
           "style": "light"
          },
          "paper_bgcolor": "white",
          "plot_bgcolor": "#E5ECF6",
          "polar": {
           "angularaxis": {
            "gridcolor": "white",
            "linecolor": "white",
            "ticks": ""
           },
           "bgcolor": "#E5ECF6",
           "radialaxis": {
            "gridcolor": "white",
            "linecolor": "white",
            "ticks": ""
           }
          },
          "scene": {
           "xaxis": {
            "backgroundcolor": "#E5ECF6",
            "gridcolor": "white",
            "gridwidth": 2,
            "linecolor": "white",
            "showbackground": true,
            "ticks": "",
            "zerolinecolor": "white"
           },
           "yaxis": {
            "backgroundcolor": "#E5ECF6",
            "gridcolor": "white",
            "gridwidth": 2,
            "linecolor": "white",
            "showbackground": true,
            "ticks": "",
            "zerolinecolor": "white"
           },
           "zaxis": {
            "backgroundcolor": "#E5ECF6",
            "gridcolor": "white",
            "gridwidth": 2,
            "linecolor": "white",
            "showbackground": true,
            "ticks": "",
            "zerolinecolor": "white"
           }
          },
          "shapedefaults": {
           "line": {
            "color": "#2a3f5f"
           }
          },
          "ternary": {
           "aaxis": {
            "gridcolor": "white",
            "linecolor": "white",
            "ticks": ""
           },
           "baxis": {
            "gridcolor": "white",
            "linecolor": "white",
            "ticks": ""
           },
           "bgcolor": "#E5ECF6",
           "caxis": {
            "gridcolor": "white",
            "linecolor": "white",
            "ticks": ""
           }
          },
          "title": {
           "x": 0.05
          },
          "xaxis": {
           "automargin": true,
           "gridcolor": "white",
           "linecolor": "white",
           "ticks": "",
           "title": {
            "standoff": 15
           },
           "zerolinecolor": "white",
           "zerolinewidth": 2
          },
          "yaxis": {
           "automargin": true,
           "gridcolor": "white",
           "linecolor": "white",
           "ticks": "",
           "title": {
            "standoff": 15
           },
           "zerolinecolor": "white",
           "zerolinewidth": 2
          }
         }
        },
        "title": {
         "text": "Logit Difference From Patched Head Value"
        },
        "xaxis": {
         "anchor": "y",
         "domain": [
          0,
          1
         ],
         "title": {
          "text": "Head"
         }
        },
        "yaxis": {
         "anchor": "x",
         "autorange": "reversed",
         "domain": [
          0,
          1
         ],
         "title": {
          "text": "Layer"
         }
        }
       }
      }
     },
     "metadata": {},
     "output_type": "display_data"
    }
   ],
   "source": [
    "imshow(\n",
    "    patched_head_v_diff,\n",
    "    title=\"Logit Difference From Patched Head Value\",\n",
    "    labels={\"x\": \"Head\", \"y\": \"Layer\"},\n",
    "    aspect='auto'\n",
    ")"
   ]
  },
  {
   "cell_type": "code",
   "execution_count": 35,
   "metadata": {},
   "outputs": [
    {
     "data": {
      "application/vnd.plotly.v1+json": {
       "config": {
        "plotlyServerURL": "https://plot.ly"
       },
       "data": [
        {
         "hovertemplate": "<b>%{hovertext}</b><br><br>Value Patch=%{x}<br>Output Patch=%{y}<br>Layer=%{marker.color}<extra></extra>",
         "hovertext": [
          "L0H0",
          "L0H1",
          "L0H2",
          "L0H3",
          "L0H4",
          "L0H5",
          "L0H6",
          "L0H7",
          "L0H8",
          "L0H9",
          "L0H10",
          "L0H11",
          "L0H12",
          "L0H13",
          "L0H14",
          "L0H15",
          "L1H0",
          "L1H1",
          "L1H2",
          "L1H3",
          "L1H4",
          "L1H5",
          "L1H6",
          "L1H7",
          "L1H8",
          "L1H9",
          "L1H10",
          "L1H11",
          "L1H12",
          "L1H13",
          "L1H14",
          "L1H15",
          "L2H0",
          "L2H1",
          "L2H2",
          "L2H3",
          "L2H4",
          "L2H5",
          "L2H6",
          "L2H7",
          "L2H8",
          "L2H9",
          "L2H10",
          "L2H11",
          "L2H12",
          "L2H13",
          "L2H14",
          "L2H15",
          "L3H0",
          "L3H1",
          "L3H2",
          "L3H3",
          "L3H4",
          "L3H5",
          "L3H6",
          "L3H7",
          "L3H8",
          "L3H9",
          "L3H10",
          "L3H11",
          "L3H12",
          "L3H13",
          "L3H14",
          "L3H15",
          "L4H0",
          "L4H1",
          "L4H2",
          "L4H3",
          "L4H4",
          "L4H5",
          "L4H6",
          "L4H7",
          "L4H8",
          "L4H9",
          "L4H10",
          "L4H11",
          "L4H12",
          "L4H13",
          "L4H14",
          "L4H15",
          "L5H0",
          "L5H1",
          "L5H2",
          "L5H3",
          "L5H4",
          "L5H5",
          "L5H6",
          "L5H7",
          "L5H8",
          "L5H9",
          "L5H10",
          "L5H11",
          "L5H12",
          "L5H13",
          "L5H14",
          "L5H15",
          "L6H0",
          "L6H1",
          "L6H2",
          "L6H3",
          "L6H4",
          "L6H5",
          "L6H6",
          "L6H7",
          "L6H8",
          "L6H9",
          "L6H10",
          "L6H11",
          "L6H12",
          "L6H13",
          "L6H14",
          "L6H15",
          "L7H0",
          "L7H1",
          "L7H2",
          "L7H3",
          "L7H4",
          "L7H5",
          "L7H6",
          "L7H7",
          "L7H8",
          "L7H9",
          "L7H10",
          "L7H11",
          "L7H12",
          "L7H13",
          "L7H14",
          "L7H15",
          "L8H0",
          "L8H1",
          "L8H2",
          "L8H3",
          "L8H4",
          "L8H5",
          "L8H6",
          "L8H7",
          "L8H8",
          "L8H9",
          "L8H10",
          "L8H11",
          "L8H12",
          "L8H13",
          "L8H14",
          "L8H15",
          "L9H0",
          "L9H1",
          "L9H2",
          "L9H3",
          "L9H4",
          "L9H5",
          "L9H6",
          "L9H7",
          "L9H8",
          "L9H9",
          "L9H10",
          "L9H11",
          "L9H12",
          "L9H13",
          "L9H14",
          "L9H15",
          "L10H0",
          "L10H1",
          "L10H2",
          "L10H3",
          "L10H4",
          "L10H5",
          "L10H6",
          "L10H7",
          "L10H8",
          "L10H9",
          "L10H10",
          "L10H11",
          "L10H12",
          "L10H13",
          "L10H14",
          "L10H15",
          "L11H0",
          "L11H1",
          "L11H2",
          "L11H3",
          "L11H4",
          "L11H5",
          "L11H6",
          "L11H7",
          "L11H8",
          "L11H9",
          "L11H10",
          "L11H11",
          "L11H12",
          "L11H13",
          "L11H14",
          "L11H15",
          "L12H0",
          "L12H1",
          "L12H2",
          "L12H3",
          "L12H4",
          "L12H5",
          "L12H6",
          "L12H7",
          "L12H8",
          "L12H9",
          "L12H10",
          "L12H11",
          "L12H12",
          "L12H13",
          "L12H14",
          "L12H15",
          "L13H0",
          "L13H1",
          "L13H2",
          "L13H3",
          "L13H4",
          "L13H5",
          "L13H6",
          "L13H7",
          "L13H8",
          "L13H9",
          "L13H10",
          "L13H11",
          "L13H12",
          "L13H13",
          "L13H14",
          "L13H15",
          "L14H0",
          "L14H1",
          "L14H2",
          "L14H3",
          "L14H4",
          "L14H5",
          "L14H6",
          "L14H7",
          "L14H8",
          "L14H9",
          "L14H10",
          "L14H11",
          "L14H12",
          "L14H13",
          "L14H14",
          "L14H15",
          "L15H0",
          "L15H1",
          "L15H2",
          "L15H3",
          "L15H4",
          "L15H5",
          "L15H6",
          "L15H7",
          "L15H8",
          "L15H9",
          "L15H10",
          "L15H11",
          "L15H12",
          "L15H13",
          "L15H14",
          "L15H15",
          "L16H0",
          "L16H1",
          "L16H2",
          "L16H3",
          "L16H4",
          "L16H5",
          "L16H6",
          "L16H7",
          "L16H8",
          "L16H9",
          "L16H10",
          "L16H11",
          "L16H12",
          "L16H13",
          "L16H14",
          "L16H15",
          "L17H0",
          "L17H1",
          "L17H2",
          "L17H3",
          "L17H4",
          "L17H5",
          "L17H6",
          "L17H7",
          "L17H8",
          "L17H9",
          "L17H10",
          "L17H11",
          "L17H12",
          "L17H13",
          "L17H14",
          "L17H15",
          "L18H0",
          "L18H1",
          "L18H2",
          "L18H3",
          "L18H4",
          "L18H5",
          "L18H6",
          "L18H7",
          "L18H8",
          "L18H9",
          "L18H10",
          "L18H11",
          "L18H12",
          "L18H13",
          "L18H14",
          "L18H15",
          "L19H0",
          "L19H1",
          "L19H2",
          "L19H3",
          "L19H4",
          "L19H5",
          "L19H6",
          "L19H7",
          "L19H8",
          "L19H9",
          "L19H10",
          "L19H11",
          "L19H12",
          "L19H13",
          "L19H14",
          "L19H15",
          "L20H0",
          "L20H1",
          "L20H2",
          "L20H3",
          "L20H4",
          "L20H5",
          "L20H6",
          "L20H7",
          "L20H8",
          "L20H9",
          "L20H10",
          "L20H11",
          "L20H12",
          "L20H13",
          "L20H14",
          "L20H15",
          "L21H0",
          "L21H1",
          "L21H2",
          "L21H3",
          "L21H4",
          "L21H5",
          "L21H6",
          "L21H7",
          "L21H8",
          "L21H9",
          "L21H10",
          "L21H11",
          "L21H12",
          "L21H13",
          "L21H14",
          "L21H15",
          "L22H0",
          "L22H1",
          "L22H2",
          "L22H3",
          "L22H4",
          "L22H5",
          "L22H6",
          "L22H7",
          "L22H8",
          "L22H9",
          "L22H10",
          "L22H11",
          "L22H12",
          "L22H13",
          "L22H14",
          "L22H15",
          "L23H0",
          "L23H1",
          "L23H2",
          "L23H3",
          "L23H4",
          "L23H5",
          "L23H6",
          "L23H7",
          "L23H8",
          "L23H9",
          "L23H10",
          "L23H11",
          "L23H12",
          "L23H13",
          "L23H14",
          "L23H15",
          "L24H0",
          "L24H1",
          "L24H2",
          "L24H3",
          "L24H4",
          "L24H5",
          "L24H6",
          "L24H7",
          "L24H8",
          "L24H9",
          "L24H10",
          "L24H11",
          "L24H12",
          "L24H13",
          "L24H14",
          "L24H15",
          "L25H0",
          "L25H1",
          "L25H2",
          "L25H3",
          "L25H4",
          "L25H5",
          "L25H6",
          "L25H7",
          "L25H8",
          "L25H9",
          "L25H10",
          "L25H11",
          "L25H12",
          "L25H13",
          "L25H14",
          "L25H15",
          "L26H0",
          "L26H1",
          "L26H2",
          "L26H3",
          "L26H4",
          "L26H5",
          "L26H6",
          "L26H7",
          "L26H8",
          "L26H9",
          "L26H10",
          "L26H11",
          "L26H12",
          "L26H13",
          "L26H14",
          "L26H15",
          "L27H0",
          "L27H1",
          "L27H2",
          "L27H3",
          "L27H4",
          "L27H5",
          "L27H6",
          "L27H7",
          "L27H8",
          "L27H9",
          "L27H10",
          "L27H11",
          "L27H12",
          "L27H13",
          "L27H14",
          "L27H15"
         ],
         "legendgroup": "",
         "marker": {
          "color": {
           "bdata": "AAAAAAAAAAAAAAAAAAAAAAEBAQEBAQEBAQEBAQEBAQECAgICAgICAgICAgICAgICAwMDAwMDAwMDAwMDAwMDAwQEBAQEBAQEBAQEBAQEBAQFBQUFBQUFBQUFBQUFBQUFBgYGBgYGBgYGBgYGBgYGBgcHBwcHBwcHBwcHBwcHBwcICAgICAgICAgICAgICAgICQkJCQkJCQkJCQkJCQkJCQoKCgoKCgoKCgoKCgoKCgoLCwsLCwsLCwsLCwsLCwsLDAwMDAwMDAwMDAwMDAwMDA0NDQ0NDQ0NDQ0NDQ0NDQ0ODg4ODg4ODg4ODg4ODg4ODw8PDw8PDw8PDw8PDw8PDxAQEBAQEBAQEBAQEBAQEBAREREREREREREREREREREREhISEhISEhISEhISEhISEhMTExMTExMTExMTExMTExMUFBQUFBQUFBQUFBQUFBQUFRUVFRUVFRUVFRUVFRUVFRYWFhYWFhYWFhYWFhYWFhYXFxcXFxcXFxcXFxcXFxcXGBgYGBgYGBgYGBgYGBgYGBkZGRkZGRkZGRkZGRkZGRkaGhoaGhoaGhoaGhoaGhoaGxsbGxsbGxsbGxsbGxsbGw==",
           "dtype": "i1"
          },
          "coloraxis": "coloraxis",
          "symbol": "circle"
         },
         "mode": "markers",
         "name": "",
         "orientation": "v",
         "showlegend": false,
         "type": "scatter",
         "x": {
          "bdata": "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",
          "dtype": "f4"
         },
         "xaxis": "x",
         "y": {
          "bdata": "AADhOgAA4ToAAMs6AADJOgAAujoAANA6AAC3OgAAHzsAAM86AAAiOwAAvToAAMw6AAAkOwAAzToAAOM6AADkOgAAvToAAMw6AADMOgAA+joAAKI6AAC4OgAAyToAAMw6AAD8OgAAzDoAALk6AADIOgAA4joAAM06AAC6OgAA0DoAAOA6AADiOgAA3joAAOQ6AADnOgAAxzoAAM06AADMOgAAuDoAAOY6AAD3OgAA4zoAAN86AADgOgAA3DoAAMg6AADkOgAAuToAANw6AADMOgAA9zoAAMw6AADgOgAA4zoAAOI6AADOOgAAzjoAAM06AADfOgAAyzoAANw6AADfOgAA3DoAAM46AADMOgAA+DoAAAo7AADKOgAA4DoAAM06AADfOgAAzjoAAMw6AADLOgAA3joAAN86AADjOgAAtzoAAN86AAADOwAA4DoAAOM6AADgOgAAzzoAAN06AADgOgAAyjoAAM86AADQOgAA0zoAAM06AADnOgAAzToAAM86AADdOgAA4zoAAM06AADjOgAA5DoAAPc6AADLOgAAzjoAALc6AADkOgAAzjoAAN46AADMOgAAyzoAAOA6AADkOgAA3DoAAN86AADMOgAAzjoAAMs6AADhOgAAyjoAAOM6AADgOgAA3ToAAM06AADgOgAA3ToAAN46AADKOgAA4ToAAMs6AADNOgAA4ToAANw6AADNOgAA9joAAM06AADROgAADDsAAM06AADhOgAA4DoAAN46AADiOgAAzDoAAOU6AADOOgAA3joAAOM6AAC2OgAA3zoAAOM6AADROgAA4zoAAM46AAD1OgAA5DoAANw6AADQOgAA0DoAAMw6AADeOgAA2joAAN46AADOOgAA3zoAAM46AADfOgAAuzoAAOE6AADjOgAAzzoAAMw6AADPOgAA4ToAAOE6AADgOgAAzjoAAM06AADROgAAzDoAAOU6AADeOgAAzjoAAOE6AADiOgAAtjoAAFw7AADJOgAAzjoAAMs6AADgOgAAzDoAAMs6AADOOgAAzToAAM46AADOOgAA3joAAL46AADHOgAAzjoAAMs6AADgOgAAzToAALg6AADLOgAA3zoAAM46AADMOgAA4DoAANw6AADfOgAAzToAAOI6AADiOgAA4zoAAM86AADiOgAA5ToAAPk6AADmOgAAzzoAAN86AADNOgAAzToAAMw6AADgOgAA5DoAAMw6AADiOgAA3ToAAM46AADgOgAA0DoAAM46AADNOgAA4joAAM46AADPOgAA3zoAANE6AADMOgAAzToAAOg6AADLOgAAzjoAAPY6AADNOgAA4joAAPQ6AADOOgAAyzoAAN86AADNOgAA3zoAAOY6AADOOgAAzDoAAPU6AADHOgAAzDoAAM86AADjOgAA4joAAOU6AADPOgAAzToAAM06AADOOgAAyzoAAOY6AADOOgAA4DoAAN46AADpOgAA5joAAMw6AADNOgAAyzoAALs6AADfOgAA4joAAM06AADPOgAA5DoAACs7AACfOgAA0DoAAM86AADLOgAAzjoAAM06AADPOgAAzjoAAM86AADfOgAA5DoAAMw6AADfOgAAzzoAAM46AADjOgAAGDsAAMs6AAD7OgAAzToAAOE6AADhOgAAzzoAAN46AADPOgAA3zoAAM86AADLOgAAzjoAAM46AADLOgAA5DoAAOI6AADNOgAA0DoAAM46AADPOgAAzjoAAMw6AADNOgAA0DoAAOA6AADOOgAAzjoAAMw6AADkOgAA4joAAOc6AADePgAAzDoAAMk6AADIOgAAzDoAADY7AADlOgAAvzoAALg6AADeOgAAyDoAAM86AADNOgAA0joAAMs6AADiOgAA4DoAANw6AADQOgAAyzoAAMw6AADPOgAAyzoAAM46AADeOgAA5ToAAMY6AACzOgAAIDsAAN46AADgOgAAzjoAAM06AADNOgAA0ToAAMs6AADfOgAAzToAAM86AADlOgAAtjoAAMs6AADLOgAA0DoAAMo6AADNOgAAzToAAOE6AADKOgAAyzoAAN06AADOOgAAzDoAANA6AADeOgAAyToAAM86AADoOgAAzToAAMs6AADhOgAAzjoAAOI6AADNOgAAzDoAAOA6AADgOgAA4zoAAM06AADNOgAA3ToAALM6AADSOgAA3ToAAOE6AAD8OgAA5joAANw6AADeOgAA4joAAAI7AADdOgAA0DoAADs8AAB7OgAAzDoAAN86AADTOgAA3ToAAMs6AADFOgAAyDoAALg6AADMOgAAzjoAAOA6AADMOgAAyToAAMw6AADfOgAAyzoAAOM6AADiOgAA4ToAAOA6AADiOgAA0DoAAMo6AADcOgAAzDoAAOE6AADzOgAA4DoAAJI6AABsOw==",
          "dtype": "f4"
         },
         "yaxis": "y"
        }
       ],
       "layout": {
        "coloraxis": {
         "colorbar": {
          "title": {
           "text": "Layer"
          }
         },
         "colorscale": [
          [
           0,
           "#0d0887"
          ],
          [
           0.1111111111111111,
           "#46039f"
          ],
          [
           0.2222222222222222,
           "#7201a8"
          ],
          [
           0.3333333333333333,
           "#9c179e"
          ],
          [
           0.4444444444444444,
           "#bd3786"
          ],
          [
           0.5555555555555556,
           "#d8576b"
          ],
          [
           0.6666666666666666,
           "#ed7953"
          ],
          [
           0.7777777777777778,
           "#fb9f3a"
          ],
          [
           0.8888888888888888,
           "#fdca26"
          ],
          [
           1,
           "#f0f921"
          ]
         ]
        },
        "legend": {
         "tracegroupgap": 0
        },
        "template": {
         "data": {
          "bar": [
           {
            "error_x": {
             "color": "#2a3f5f"
            },
            "error_y": {
             "color": "#2a3f5f"
            },
            "marker": {
             "line": {
              "color": "#E5ECF6",
              "width": 0.5
             },
             "pattern": {
              "fillmode": "overlay",
              "size": 10,
              "solidity": 0.2
             }
            },
            "type": "bar"
           }
          ],
          "barpolar": [
           {
            "marker": {
             "line": {
              "color": "#E5ECF6",
              "width": 0.5
             },
             "pattern": {
              "fillmode": "overlay",
              "size": 10,
              "solidity": 0.2
             }
            },
            "type": "barpolar"
           }
          ],
          "carpet": [
           {
            "aaxis": {
             "endlinecolor": "#2a3f5f",
             "gridcolor": "white",
             "linecolor": "white",
             "minorgridcolor": "white",
             "startlinecolor": "#2a3f5f"
            },
            "baxis": {
             "endlinecolor": "#2a3f5f",
             "gridcolor": "white",
             "linecolor": "white",
             "minorgridcolor": "white",
             "startlinecolor": "#2a3f5f"
            },
            "type": "carpet"
           }
          ],
          "choropleth": [
           {
            "colorbar": {
             "outlinewidth": 0,
             "ticks": ""
            },
            "type": "choropleth"
           }
          ],
          "contour": [
           {
            "colorbar": {
             "outlinewidth": 0,
             "ticks": ""
            },
            "colorscale": [
             [
              0,
              "#0d0887"
             ],
             [
              0.1111111111111111,
              "#46039f"
             ],
             [
              0.2222222222222222,
              "#7201a8"
             ],
             [
              0.3333333333333333,
              "#9c179e"
             ],
             [
              0.4444444444444444,
              "#bd3786"
             ],
             [
              0.5555555555555556,
              "#d8576b"
             ],
             [
              0.6666666666666666,
              "#ed7953"
             ],
             [
              0.7777777777777778,
              "#fb9f3a"
             ],
             [
              0.8888888888888888,
              "#fdca26"
             ],
             [
              1,
              "#f0f921"
             ]
            ],
            "type": "contour"
           }
          ],
          "contourcarpet": [
           {
            "colorbar": {
             "outlinewidth": 0,
             "ticks": ""
            },
            "type": "contourcarpet"
           }
          ],
          "heatmap": [
           {
            "colorbar": {
             "outlinewidth": 0,
             "ticks": ""
            },
            "colorscale": [
             [
              0,
              "#0d0887"
             ],
             [
              0.1111111111111111,
              "#46039f"
             ],
             [
              0.2222222222222222,
              "#7201a8"
             ],
             [
              0.3333333333333333,
              "#9c179e"
             ],
             [
              0.4444444444444444,
              "#bd3786"
             ],
             [
              0.5555555555555556,
              "#d8576b"
             ],
             [
              0.6666666666666666,
              "#ed7953"
             ],
             [
              0.7777777777777778,
              "#fb9f3a"
             ],
             [
              0.8888888888888888,
              "#fdca26"
             ],
             [
              1,
              "#f0f921"
             ]
            ],
            "type": "heatmap"
           }
          ],
          "histogram": [
           {
            "marker": {
             "pattern": {
              "fillmode": "overlay",
              "size": 10,
              "solidity": 0.2
             }
            },
            "type": "histogram"
           }
          ],
          "histogram2d": [
           {
            "colorbar": {
             "outlinewidth": 0,
             "ticks": ""
            },
            "colorscale": [
             [
              0,
              "#0d0887"
             ],
             [
              0.1111111111111111,
              "#46039f"
             ],
             [
              0.2222222222222222,
              "#7201a8"
             ],
             [
              0.3333333333333333,
              "#9c179e"
             ],
             [
              0.4444444444444444,
              "#bd3786"
             ],
             [
              0.5555555555555556,
              "#d8576b"
             ],
             [
              0.6666666666666666,
              "#ed7953"
             ],
             [
              0.7777777777777778,
              "#fb9f3a"
             ],
             [
              0.8888888888888888,
              "#fdca26"
             ],
             [
              1,
              "#f0f921"
             ]
            ],
            "type": "histogram2d"
           }
          ],
          "histogram2dcontour": [
           {
            "colorbar": {
             "outlinewidth": 0,
             "ticks": ""
            },
            "colorscale": [
             [
              0,
              "#0d0887"
             ],
             [
              0.1111111111111111,
              "#46039f"
             ],
             [
              0.2222222222222222,
              "#7201a8"
             ],
             [
              0.3333333333333333,
              "#9c179e"
             ],
             [
              0.4444444444444444,
              "#bd3786"
             ],
             [
              0.5555555555555556,
              "#d8576b"
             ],
             [
              0.6666666666666666,
              "#ed7953"
             ],
             [
              0.7777777777777778,
              "#fb9f3a"
             ],
             [
              0.8888888888888888,
              "#fdca26"
             ],
             [
              1,
              "#f0f921"
             ]
            ],
            "type": "histogram2dcontour"
           }
          ],
          "mesh3d": [
           {
            "colorbar": {
             "outlinewidth": 0,
             "ticks": ""
            },
            "type": "mesh3d"
           }
          ],
          "parcoords": [
           {
            "line": {
             "colorbar": {
              "outlinewidth": 0,
              "ticks": ""
             }
            },
            "type": "parcoords"
           }
          ],
          "pie": [
           {
            "automargin": true,
            "type": "pie"
           }
          ],
          "scatter": [
           {
            "fillpattern": {
             "fillmode": "overlay",
             "size": 10,
             "solidity": 0.2
            },
            "type": "scatter"
           }
          ],
          "scatter3d": [
           {
            "line": {
             "colorbar": {
              "outlinewidth": 0,
              "ticks": ""
             }
            },
            "marker": {
             "colorbar": {
              "outlinewidth": 0,
              "ticks": ""
             }
            },
            "type": "scatter3d"
           }
          ],
          "scattercarpet": [
           {
            "marker": {
             "colorbar": {
              "outlinewidth": 0,
              "ticks": ""
             }
            },
            "type": "scattercarpet"
           }
          ],
          "scattergeo": [
           {
            "marker": {
             "colorbar": {
              "outlinewidth": 0,
              "ticks": ""
             }
            },
            "type": "scattergeo"
           }
          ],
          "scattergl": [
           {
            "marker": {
             "colorbar": {
              "outlinewidth": 0,
              "ticks": ""
             }
            },
            "type": "scattergl"
           }
          ],
          "scattermap": [
           {
            "marker": {
             "colorbar": {
              "outlinewidth": 0,
              "ticks": ""
             }
            },
            "type": "scattermap"
           }
          ],
          "scattermapbox": [
           {
            "marker": {
             "colorbar": {
              "outlinewidth": 0,
              "ticks": ""
             }
            },
            "type": "scattermapbox"
           }
          ],
          "scatterpolar": [
           {
            "marker": {
             "colorbar": {
              "outlinewidth": 0,
              "ticks": ""
             }
            },
            "type": "scatterpolar"
           }
          ],
          "scatterpolargl": [
           {
            "marker": {
             "colorbar": {
              "outlinewidth": 0,
              "ticks": ""
             }
            },
            "type": "scatterpolargl"
           }
          ],
          "scatterternary": [
           {
            "marker": {
             "colorbar": {
              "outlinewidth": 0,
              "ticks": ""
             }
            },
            "type": "scatterternary"
           }
          ],
          "surface": [
           {
            "colorbar": {
             "outlinewidth": 0,
             "ticks": ""
            },
            "colorscale": [
             [
              0,
              "#0d0887"
             ],
             [
              0.1111111111111111,
              "#46039f"
             ],
             [
              0.2222222222222222,
              "#7201a8"
             ],
             [
              0.3333333333333333,
              "#9c179e"
             ],
             [
              0.4444444444444444,
              "#bd3786"
             ],
             [
              0.5555555555555556,
              "#d8576b"
             ],
             [
              0.6666666666666666,
              "#ed7953"
             ],
             [
              0.7777777777777778,
              "#fb9f3a"
             ],
             [
              0.8888888888888888,
              "#fdca26"
             ],
             [
              1,
              "#f0f921"
             ]
            ],
            "type": "surface"
           }
          ],
          "table": [
           {
            "cells": {
             "fill": {
              "color": "#EBF0F8"
             },
             "line": {
              "color": "white"
             }
            },
            "header": {
             "fill": {
              "color": "#C8D4E3"
             },
             "line": {
              "color": "white"
             }
            },
            "type": "table"
           }
          ]
         },
         "layout": {
          "annotationdefaults": {
           "arrowcolor": "#2a3f5f",
           "arrowhead": 0,
           "arrowwidth": 1
          },
          "autotypenumbers": "strict",
          "coloraxis": {
           "colorbar": {
            "outlinewidth": 0,
            "ticks": ""
           }
          },
          "colorscale": {
           "diverging": [
            [
             0,
             "#8e0152"
            ],
            [
             0.1,
             "#c51b7d"
            ],
            [
             0.2,
             "#de77ae"
            ],
            [
             0.3,
             "#f1b6da"
            ],
            [
             0.4,
             "#fde0ef"
            ],
            [
             0.5,
             "#f7f7f7"
            ],
            [
             0.6,
             "#e6f5d0"
            ],
            [
             0.7,
             "#b8e186"
            ],
            [
             0.8,
             "#7fbc41"
            ],
            [
             0.9,
             "#4d9221"
            ],
            [
             1,
             "#276419"
            ]
           ],
           "sequential": [
            [
             0,
             "#0d0887"
            ],
            [
             0.1111111111111111,
             "#46039f"
            ],
            [
             0.2222222222222222,
             "#7201a8"
            ],
            [
             0.3333333333333333,
             "#9c179e"
            ],
            [
             0.4444444444444444,
             "#bd3786"
            ],
            [
             0.5555555555555556,
             "#d8576b"
            ],
            [
             0.6666666666666666,
             "#ed7953"
            ],
            [
             0.7777777777777778,
             "#fb9f3a"
            ],
            [
             0.8888888888888888,
             "#fdca26"
            ],
            [
             1,
             "#f0f921"
            ]
           ],
           "sequentialminus": [
            [
             0,
             "#0d0887"
            ],
            [
             0.1111111111111111,
             "#46039f"
            ],
            [
             0.2222222222222222,
             "#7201a8"
            ],
            [
             0.3333333333333333,
             "#9c179e"
            ],
            [
             0.4444444444444444,
             "#bd3786"
            ],
            [
             0.5555555555555556,
             "#d8576b"
            ],
            [
             0.6666666666666666,
             "#ed7953"
            ],
            [
             0.7777777777777778,
             "#fb9f3a"
            ],
            [
             0.8888888888888888,
             "#fdca26"
            ],
            [
             1,
             "#f0f921"
            ]
           ]
          },
          "colorway": [
           "#636efa",
           "#EF553B",
           "#00cc96",
           "#ab63fa",
           "#FFA15A",
           "#19d3f3",
           "#FF6692",
           "#B6E880",
           "#FF97FF",
           "#FECB52"
          ],
          "font": {
           "color": "#2a3f5f"
          },
          "geo": {
           "bgcolor": "white",
           "lakecolor": "white",
           "landcolor": "#E5ECF6",
           "showlakes": true,
           "showland": true,
           "subunitcolor": "white"
          },
          "hoverlabel": {
           "align": "left"
          },
          "hovermode": "closest",
          "mapbox": {
           "style": "light"
          },
          "paper_bgcolor": "white",
          "plot_bgcolor": "#E5ECF6",
          "polar": {
           "angularaxis": {
            "gridcolor": "white",
            "linecolor": "white",
            "ticks": ""
           },
           "bgcolor": "#E5ECF6",
           "radialaxis": {
            "gridcolor": "white",
            "linecolor": "white",
            "ticks": ""
           }
          },
          "scene": {
           "xaxis": {
            "backgroundcolor": "#E5ECF6",
            "gridcolor": "white",
            "gridwidth": 2,
            "linecolor": "white",
            "showbackground": true,
            "ticks": "",
            "zerolinecolor": "white"
           },
           "yaxis": {
            "backgroundcolor": "#E5ECF6",
            "gridcolor": "white",
            "gridwidth": 2,
            "linecolor": "white",
            "showbackground": true,
            "ticks": "",
            "zerolinecolor": "white"
           },
           "zaxis": {
            "backgroundcolor": "#E5ECF6",
            "gridcolor": "white",
            "gridwidth": 2,
            "linecolor": "white",
            "showbackground": true,
            "ticks": "",
            "zerolinecolor": "white"
           }
          },
          "shapedefaults": {
           "line": {
            "color": "#2a3f5f"
           }
          },
          "ternary": {
           "aaxis": {
            "gridcolor": "white",
            "linecolor": "white",
            "ticks": ""
           },
           "baxis": {
            "gridcolor": "white",
            "linecolor": "white",
            "ticks": ""
           },
           "bgcolor": "#E5ECF6",
           "caxis": {
            "gridcolor": "white",
            "linecolor": "white",
            "ticks": ""
           }
          },
          "title": {
           "x": 0.05
          },
          "xaxis": {
           "automargin": true,
           "gridcolor": "white",
           "linecolor": "white",
           "ticks": "",
           "title": {
            "standoff": 15
           },
           "zerolinecolor": "white",
           "zerolinewidth": 2
          },
          "yaxis": {
           "automargin": true,
           "gridcolor": "white",
           "linecolor": "white",
           "ticks": "",
           "title": {
            "standoff": 15
           },
           "zerolinecolor": "white",
           "zerolinewidth": 2
          }
         }
        },
        "title": {
         "text": "Scatter plot of output patching vs value patching"
        },
        "xaxis": {
         "anchor": "y",
         "domain": [
          0,
          1
         ],
         "range": [
          -0.5,
          0.5
         ],
         "title": {
          "text": "Value Patch"
         }
        },
        "yaxis": {
         "anchor": "x",
         "domain": [
          0,
          1
         ],
         "range": [
          -0.5,
          0.5
         ],
         "title": {
          "text": "Output Patch"
         }
        }
       }
      },
      "image/png": "[encoded data removed]"
     },
     "metadata": {},
     "output_type": "display_data"
    }
   ],
   "source": [
    "head_labels = [\n",
    "    f\"L{l}H{h}\" for l in range(model.cfg.n_layers) for h in range(model.cfg.n_heads)\n",
    "]\n",
    "scatter(\n",
    "    x=utils.to_numpy(patched_head_v_diff.flatten()),\n",
    "    y=utils.to_numpy(patched_head_z_diff.flatten()),\n",
    "    xaxis=\"Value Patch\",\n",
    "    yaxis=\"Output Patch\",\n",
    "    caxis=\"Layer\",\n",
    "    hover_name=head_labels,\n",
    "    color=einops.repeat(\n",
    "        np.arange(model.cfg.n_layers), \"layer -> (layer head)\", head=model.cfg.n_heads\n",
    "    ),\n",
    "    range_x=(-0.5, 0.5),\n",
    "    range_y=(-0.5, 0.5),\n",
    "    title=\"Scatter plot of output patching vs value patching\",\n",
    ")"
   ]
  },
  {
   "cell_type": "code",
   "execution_count": 36,
   "metadata": {},
   "outputs": [],
   "source": [
    "def patch_head_pattern(\n",
    "    corrupted_head_pattern: torch.Tensor,  # [batch, attn_heads, query_pos, key_pos]\n",
    "    hook,\n",
    "    head_index,\n",
    "    clean_cache,\n",
    "):\n",
    "    \"\"\"\n",
    "    Patch a single attention head's pattern from the clean cache into the corrupted run,\n",
    "    handling grouped-query attention (GQA) if n_heads != n_key_value_heads.\n",
    "    \"\"\"\n",
    "    # Extract clean version\n",
    "    clean_pattern = clean_cache[hook.name]  # [batch, attn_heads, query_pos, key_pos]\n",
    "\n",
    "    n_heads = corrupted_head_pattern.size(1)\n",
    "    n_kv_heads = clean_pattern.size(1)  # May be smaller if GQA\n",
    "\n",
    "    if n_heads != n_kv_heads:\n",
    "        # Compute the kv head index for this head\n",
    "        # (MHA: head_index -> kv_index directly, GQA: kv_index = head_index // (n_heads / n_kv_heads))\n",
    "        group_size = n_heads // n_kv_heads\n",
    "        kv_index = head_index // group_size\n",
    "        corrupted_head_pattern[:, kv_index, :, :] = clean_pattern[:, kv_index, :, :]\n",
    "    else:\n",
    "        corrupted_head_pattern[:, head_index, :, :] = clean_pattern[:, head_index, :, :]\n",
    "\n",
    "    return corrupted_head_pattern"
   ]
  },
  {
   "cell_type": "code",
   "execution_count": 37,
   "metadata": {},
   "outputs": [
    {
     "name": "stderr",
     "output_type": "stream",
     "text": [
      "100%|██████████| 28/28 [00:27<00:00,  1.03it/s]\n"
     ]
    }
   ],
   "source": [
    "patched_head_attn_diff = torch.zeros(\n",
    "    model.cfg.n_layers, model.cfg.n_heads, device=device, dtype=torch.float32\n",
    ")\n",
    "\n",
    "for layer in tqdm(range(model.cfg.n_layers)):\n",
    "    for head_index in range(model.cfg.n_heads):\n",
    "        hook_fn = partial(patch_head_pattern, head_index=head_index, clean_cache=clean_cache)\n",
    "        patched_logits = model.run_with_hooks(\n",
    "            corrupted_tokens,\n",
    "            fwd_hooks=[(utils.get_act_name(\"pattern\", layer, \"attn\"), hook_fn)],\n",
    "            return_type=\"logits\",\n",
    "        )\n",
    "        patched_logit_diff = causal_tracing_metric(patched_logits,answer_tokens)\n",
    "\n",
    "        patched_head_attn_diff[layer, head_index] = patched_logit_diff"
   ]
  },
  {
   "cell_type": "code",
   "execution_count": 38,
   "metadata": {},
   "outputs": [
    {
     "data": {
      "application/vnd.plotly.v1+json": {
       "config": {
        "plotlyServerURL": "https://plot.ly"
       },
       "data": [
        {
         "coloraxis": "coloraxis",
         "hovertemplate": "Head: %{x}<br>Layer: %{y}<br>color: %{z}<extra></extra>",
         "name": "0",
         "type": "heatmap",
         "xaxis": "x",
         "yaxis": "y",
         "z": {
          "bdata": "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",
          "dtype": "f4",
          "shape": "28, 16"
         }
        }
       ],
       "layout": {
        "coloraxis": {
         "cmid": 0,
         "colorscale": [
          [
           0,
           "rgb(103,0,31)"
          ],
          [
           0.1,
           "rgb(178,24,43)"
          ],
          [
           0.2,
           "rgb(214,96,77)"
          ],
          [
           0.3,
           "rgb(244,165,130)"
          ],
          [
           0.4,
           "rgb(253,219,199)"
          ],
          [
           0.5,
           "rgb(247,247,247)"
          ],
          [
           0.6,
           "rgb(209,229,240)"
          ],
          [
           0.7,
           "rgb(146,197,222)"
          ],
          [
           0.8,
           "rgb(67,147,195)"
          ],
          [
           0.9,
           "rgb(33,102,172)"
          ],
          [
           1,
           "rgb(5,48,97)"
          ]
         ]
        },
        "template": {
         "data": {
          "bar": [
           {
            "error_x": {
             "color": "#2a3f5f"
            },
            "error_y": {
             "color": "#2a3f5f"
            },
            "marker": {
             "line": {
              "color": "#E5ECF6",
              "width": 0.5
             },
             "pattern": {
              "fillmode": "overlay",
              "size": 10,
              "solidity": 0.2
             }
            },
            "type": "bar"
           }
          ],
          "barpolar": [
           {
            "marker": {
             "line": {
              "color": "#E5ECF6",
              "width": 0.5
             },
             "pattern": {
              "fillmode": "overlay",
              "size": 10,
              "solidity": 0.2
             }
            },
            "type": "barpolar"
           }
          ],
          "carpet": [
           {
            "aaxis": {
             "endlinecolor": "#2a3f5f",
             "gridcolor": "white",
             "linecolor": "white",
             "minorgridcolor": "white",
             "startlinecolor": "#2a3f5f"
            },
            "baxis": {
             "endlinecolor": "#2a3f5f",
             "gridcolor": "white",
             "linecolor": "white",
             "minorgridcolor": "white",
             "startlinecolor": "#2a3f5f"
            },
            "type": "carpet"
           }
          ],
          "choropleth": [
           {
            "colorbar": {
             "outlinewidth": 0,
             "ticks": ""
            },
            "type": "choropleth"
           }
          ],
          "contour": [
           {
            "colorbar": {
             "outlinewidth": 0,
             "ticks": ""
            },
            "colorscale": [
             [
              0,
              "#0d0887"
             ],
             [
              0.1111111111111111,
              "#46039f"
             ],
             [
              0.2222222222222222,
              "#7201a8"
             ],
             [
              0.3333333333333333,
              "#9c179e"
             ],
             [
              0.4444444444444444,
              "#bd3786"
             ],
             [
              0.5555555555555556,
              "#d8576b"
             ],
             [
              0.6666666666666666,
              "#ed7953"
             ],
             [
              0.7777777777777778,
              "#fb9f3a"
             ],
             [
              0.8888888888888888,
              "#fdca26"
             ],
             [
              1,
              "#f0f921"
             ]
            ],
            "type": "contour"
           }
          ],
          "contourcarpet": [
           {
            "colorbar": {
             "outlinewidth": 0,
             "ticks": ""
            },
            "type": "contourcarpet"
           }
          ],
          "heatmap": [
           {
            "colorbar": {
             "outlinewidth": 0,
             "ticks": ""
            },
            "colorscale": [
             [
              0,
              "#0d0887"
             ],
             [
              0.1111111111111111,
              "#46039f"
             ],
             [
              0.2222222222222222,
              "#7201a8"
             ],
             [
              0.3333333333333333,
              "#9c179e"
             ],
             [
              0.4444444444444444,
              "#bd3786"
             ],
             [
              0.5555555555555556,
              "#d8576b"
             ],
             [
              0.6666666666666666,
              "#ed7953"
             ],
             [
              0.7777777777777778,
              "#fb9f3a"
             ],
             [
              0.8888888888888888,
              "#fdca26"
             ],
             [
              1,
              "#f0f921"
             ]
            ],
            "type": "heatmap"
           }
          ],
          "histogram": [
           {
            "marker": {
             "pattern": {
              "fillmode": "overlay",
              "size": 10,
              "solidity": 0.2
             }
            },
            "type": "histogram"
           }
          ],
          "histogram2d": [
           {
            "colorbar": {
             "outlinewidth": 0,
             "ticks": ""
            },
            "colorscale": [
             [
              0,
              "#0d0887"
             ],
             [
              0.1111111111111111,
              "#46039f"
             ],
             [
              0.2222222222222222,
              "#7201a8"
             ],
             [
              0.3333333333333333,
              "#9c179e"
             ],
             [
              0.4444444444444444,
              "#bd3786"
             ],
             [
              0.5555555555555556,
              "#d8576b"
             ],
             [
              0.6666666666666666,
              "#ed7953"
             ],
             [
              0.7777777777777778,
              "#fb9f3a"
             ],
             [
              0.8888888888888888,
              "#fdca26"
             ],
             [
              1,
              "#f0f921"
             ]
            ],
            "type": "histogram2d"
           }
          ],
          "histogram2dcontour": [
           {
            "colorbar": {
             "outlinewidth": 0,
             "ticks": ""
            },
            "colorscale": [
             [
              0,
              "#0d0887"
             ],
             [
              0.1111111111111111,
              "#46039f"
             ],
             [
              0.2222222222222222,
              "#7201a8"
             ],
             [
              0.3333333333333333,
              "#9c179e"
             ],
             [
              0.4444444444444444,
              "#bd3786"
             ],
             [
              0.5555555555555556,
              "#d8576b"
             ],
             [
              0.6666666666666666,
              "#ed7953"
             ],
             [
              0.7777777777777778,
              "#fb9f3a"
             ],
             [
              0.8888888888888888,
              "#fdca26"
             ],
             [
              1,
              "#f0f921"
             ]
            ],
            "type": "histogram2dcontour"
           }
          ],
          "mesh3d": [
           {
            "colorbar": {
             "outlinewidth": 0,
             "ticks": ""
            },
            "type": "mesh3d"
           }
          ],
          "parcoords": [
           {
            "line": {
             "colorbar": {
              "outlinewidth": 0,
              "ticks": ""
             }
            },
            "type": "parcoords"
           }
          ],
          "pie": [
           {
            "automargin": true,
            "type": "pie"
           }
          ],
          "scatter": [
           {
            "fillpattern": {
             "fillmode": "overlay",
             "size": 10,
             "solidity": 0.2
            },
            "type": "scatter"
           }
          ],
          "scatter3d": [
           {
            "line": {
             "colorbar": {
              "outlinewidth": 0,
              "ticks": ""
             }
            },
            "marker": {
             "colorbar": {
              "outlinewidth": 0,
              "ticks": ""
             }
            },
            "type": "scatter3d"
           }
          ],
          "scattercarpet": [
           {
            "marker": {
             "colorbar": {
              "outlinewidth": 0,
              "ticks": ""
             }
            },
            "type": "scattercarpet"
           }
          ],
          "scattergeo": [
           {
            "marker": {
             "colorbar": {
              "outlinewidth": 0,
              "ticks": ""
             }
            },
            "type": "scattergeo"
           }
          ],
          "scattergl": [
           {
            "marker": {
             "colorbar": {
              "outlinewidth": 0,
              "ticks": ""
             }
            },
            "type": "scattergl"
           }
          ],
          "scattermap": [
           {
            "marker": {
             "colorbar": {
              "outlinewidth": 0,
              "ticks": ""
             }
            },
            "type": "scattermap"
           }
          ],
          "scattermapbox": [
           {
            "marker": {
             "colorbar": {
              "outlinewidth": 0,
              "ticks": ""
             }
            },
            "type": "scattermapbox"
           }
          ],
          "scatterpolar": [
           {
            "marker": {
             "colorbar": {
              "outlinewidth": 0,
              "ticks": ""
             }
            },
            "type": "scatterpolar"
           }
          ],
          "scatterpolargl": [
           {
            "marker": {
             "colorbar": {
              "outlinewidth": 0,
              "ticks": ""
             }
            },
            "type": "scatterpolargl"
           }
          ],
          "scatterternary": [
           {
            "marker": {
             "colorbar": {
              "outlinewidth": 0,
              "ticks": ""
             }
            },
            "type": "scatterternary"
           }
          ],
          "surface": [
           {
            "colorbar": {
             "outlinewidth": 0,
             "ticks": ""
            },
            "colorscale": [
             [
              0,
              "#0d0887"
             ],
             [
              0.1111111111111111,
              "#46039f"
             ],
             [
              0.2222222222222222,
              "#7201a8"
             ],
             [
              0.3333333333333333,
              "#9c179e"
             ],
             [
              0.4444444444444444,
              "#bd3786"
             ],
             [
              0.5555555555555556,
              "#d8576b"
             ],
             [
              0.6666666666666666,
              "#ed7953"
             ],
             [
              0.7777777777777778,
              "#fb9f3a"
             ],
             [
              0.8888888888888888,
              "#fdca26"
             ],
             [
              1,
              "#f0f921"
             ]
            ],
            "type": "surface"
           }
          ],
          "table": [
           {
            "cells": {
             "fill": {
              "color": "#EBF0F8"
             },
             "line": {
              "color": "white"
             }
            },
            "header": {
             "fill": {
              "color": "#C8D4E3"
             },
             "line": {
              "color": "white"
             }
            },
            "type": "table"
           }
          ]
         },
         "layout": {
          "annotationdefaults": {
           "arrowcolor": "#2a3f5f",
           "arrowhead": 0,
           "arrowwidth": 1
          },
          "autotypenumbers": "strict",
          "coloraxis": {
           "colorbar": {
            "outlinewidth": 0,
            "ticks": ""
           }
          },
          "colorscale": {
           "diverging": [
            [
             0,
             "#8e0152"
            ],
            [
             0.1,
             "#c51b7d"
            ],
            [
             0.2,
             "#de77ae"
            ],
            [
             0.3,
             "#f1b6da"
            ],
            [
             0.4,
             "#fde0ef"
            ],
            [
             0.5,
             "#f7f7f7"
            ],
            [
             0.6,
             "#e6f5d0"
            ],
            [
             0.7,
             "#b8e186"
            ],
            [
             0.8,
             "#7fbc41"
            ],
            [
             0.9,
             "#4d9221"
            ],
            [
             1,
             "#276419"
            ]
           ],
           "sequential": [
            [
             0,
             "#0d0887"
            ],
            [
             0.1111111111111111,
             "#46039f"
            ],
            [
             0.2222222222222222,
             "#7201a8"
            ],
            [
             0.3333333333333333,
             "#9c179e"
            ],
            [
             0.4444444444444444,
             "#bd3786"
            ],
            [
             0.5555555555555556,
             "#d8576b"
            ],
            [
             0.6666666666666666,
             "#ed7953"
            ],
            [
             0.7777777777777778,
             "#fb9f3a"
            ],
            [
             0.8888888888888888,
             "#fdca26"
            ],
            [
             1,
             "#f0f921"
            ]
           ],
           "sequentialminus": [
            [
             0,
             "#0d0887"
            ],
            [
             0.1111111111111111,
             "#46039f"
            ],
            [
             0.2222222222222222,
             "#7201a8"
            ],
            [
             0.3333333333333333,
             "#9c179e"
            ],
            [
             0.4444444444444444,
             "#bd3786"
            ],
            [
             0.5555555555555556,
             "#d8576b"
            ],
            [
             0.6666666666666666,
             "#ed7953"
            ],
            [
             0.7777777777777778,
             "#fb9f3a"
            ],
            [
             0.8888888888888888,
             "#fdca26"
            ],
            [
             1,
             "#f0f921"
            ]
           ]
          },
          "colorway": [
           "#636efa",
           "#EF553B",
           "#00cc96",
           "#ab63fa",
           "#FFA15A",
           "#19d3f3",
           "#FF6692",
           "#B6E880",
           "#FF97FF",
           "#FECB52"
          ],
          "font": {
           "color": "#2a3f5f"
          },
          "geo": {
           "bgcolor": "white",
           "lakecolor": "white",
           "landcolor": "#E5ECF6",
           "showlakes": true,
           "showland": true,
           "subunitcolor": "white"
          },
          "hoverlabel": {
           "align": "left"
          },
          "hovermode": "closest",
          "mapbox": {
           "style": "light"
          },
          "paper_bgcolor": "white",
          "plot_bgcolor": "#E5ECF6",
          "polar": {
           "angularaxis": {
            "gridcolor": "white",
            "linecolor": "white",
            "ticks": ""
           },
           "bgcolor": "#E5ECF6",
           "radialaxis": {
            "gridcolor": "white",
            "linecolor": "white",
            "ticks": ""
           }
          },
          "scene": {
           "xaxis": {
            "backgroundcolor": "#E5ECF6",
            "gridcolor": "white",
            "gridwidth": 2,
            "linecolor": "white",
            "showbackground": true,
            "ticks": "",
            "zerolinecolor": "white"
           },
           "yaxis": {
            "backgroundcolor": "#E5ECF6",
            "gridcolor": "white",
            "gridwidth": 2,
            "linecolor": "white",
            "showbackground": true,
            "ticks": "",
            "zerolinecolor": "white"
           },
           "zaxis": {
            "backgroundcolor": "#E5ECF6",
            "gridcolor": "white",
            "gridwidth": 2,
            "linecolor": "white",
            "showbackground": true,
            "ticks": "",
            "zerolinecolor": "white"
           }
          },
          "shapedefaults": {
           "line": {
            "color": "#2a3f5f"
           }
          },
          "ternary": {
           "aaxis": {
            "gridcolor": "white",
            "linecolor": "white",
            "ticks": ""
           },
           "baxis": {
            "gridcolor": "white",
            "linecolor": "white",
            "ticks": ""
           },
           "bgcolor": "#E5ECF6",
           "caxis": {
            "gridcolor": "white",
            "linecolor": "white",
            "ticks": ""
           }
          },
          "title": {
           "x": 0.05
          },
          "xaxis": {
           "automargin": true,
           "gridcolor": "white",
           "linecolor": "white",
           "ticks": "",
           "title": {
            "standoff": 15
           },
           "zerolinecolor": "white",
           "zerolinewidth": 2
          },
          "yaxis": {
           "automargin": true,
           "gridcolor": "white",
           "linecolor": "white",
           "ticks": "",
           "title": {
            "standoff": 15
           },
           "zerolinecolor": "white",
           "zerolinewidth": 2
          }
         }
        },
        "title": {
         "text": "Logit Difference From Patched Head Pattern"
        },
        "xaxis": {
         "anchor": "y",
         "domain": [
          0,
          1
         ],
         "title": {
          "text": "Head"
         }
        },
        "yaxis": {
         "anchor": "x",
         "autorange": "reversed",
         "domain": [
          0,
          1
         ],
         "title": {
          "text": "Layer"
         }
        }
       }
      }
     },
     "metadata": {},
     "output_type": "display_data"
    },
    {
     "data": {
      "application/vnd.plotly.v1+json": {
       "config": {
        "plotlyServerURL": "https://plot.ly"
       },
       "data": [
        {
         "hovertemplate": "<b>%{hovertext}</b><br><br>Attention Patch=%{x}<br>Output Patch=%{y}<extra></extra>",
         "hovertext": [
          "L0H0",
          "L0H1",
          "L0H2",
          "L0H3",
          "L0H4",
          "L0H5",
          "L0H6",
          "L0H7",
          "L0H8",
          "L0H9",
          "L0H10",
          "L0H11",
          "L0H12",
          "L0H13",
          "L0H14",
          "L0H15",
          "L1H0",
          "L1H1",
          "L1H2",
          "L1H3",
          "L1H4",
          "L1H5",
          "L1H6",
          "L1H7",
          "L1H8",
          "L1H9",
          "L1H10",
          "L1H11",
          "L1H12",
          "L1H13",
          "L1H14",
          "L1H15",
          "L2H0",
          "L2H1",
          "L2H2",
          "L2H3",
          "L2H4",
          "L2H5",
          "L2H6",
          "L2H7",
          "L2H8",
          "L2H9",
          "L2H10",
          "L2H11",
          "L2H12",
          "L2H13",
          "L2H14",
          "L2H15",
          "L3H0",
          "L3H1",
          "L3H2",
          "L3H3",
          "L3H4",
          "L3H5",
          "L3H6",
          "L3H7",
          "L3H8",
          "L3H9",
          "L3H10",
          "L3H11",
          "L3H12",
          "L3H13",
          "L3H14",
          "L3H15",
          "L4H0",
          "L4H1",
          "L4H2",
          "L4H3",
          "L4H4",
          "L4H5",
          "L4H6",
          "L4H7",
          "L4H8",
          "L4H9",
          "L4H10",
          "L4H11",
          "L4H12",
          "L4H13",
          "L4H14",
          "L4H15",
          "L5H0",
          "L5H1",
          "L5H2",
          "L5H3",
          "L5H4",
          "L5H5",
          "L5H6",
          "L5H7",
          "L5H8",
          "L5H9",
          "L5H10",
          "L5H11",
          "L5H12",
          "L5H13",
          "L5H14",
          "L5H15",
          "L6H0",
          "L6H1",
          "L6H2",
          "L6H3",
          "L6H4",
          "L6H5",
          "L6H6",
          "L6H7",
          "L6H8",
          "L6H9",
          "L6H10",
          "L6H11",
          "L6H12",
          "L6H13",
          "L6H14",
          "L6H15",
          "L7H0",
          "L7H1",
          "L7H2",
          "L7H3",
          "L7H4",
          "L7H5",
          "L7H6",
          "L7H7",
          "L7H8",
          "L7H9",
          "L7H10",
          "L7H11",
          "L7H12",
          "L7H13",
          "L7H14",
          "L7H15",
          "L8H0",
          "L8H1",
          "L8H2",
          "L8H3",
          "L8H4",
          "L8H5",
          "L8H6",
          "L8H7",
          "L8H8",
          "L8H9",
          "L8H10",
          "L8H11",
          "L8H12",
          "L8H13",
          "L8H14",
          "L8H15",
          "L9H0",
          "L9H1",
          "L9H2",
          "L9H3",
          "L9H4",
          "L9H5",
          "L9H6",
          "L9H7",
          "L9H8",
          "L9H9",
          "L9H10",
          "L9H11",
          "L9H12",
          "L9H13",
          "L9H14",
          "L9H15",
          "L10H0",
          "L10H1",
          "L10H2",
          "L10H3",
          "L10H4",
          "L10H5",
          "L10H6",
          "L10H7",
          "L10H8",
          "L10H9",
          "L10H10",
          "L10H11",
          "L10H12",
          "L10H13",
          "L10H14",
          "L10H15",
          "L11H0",
          "L11H1",
          "L11H2",
          "L11H3",
          "L11H4",
          "L11H5",
          "L11H6",
          "L11H7",
          "L11H8",
          "L11H9",
          "L11H10",
          "L11H11",
          "L11H12",
          "L11H13",
          "L11H14",
          "L11H15",
          "L12H0",
          "L12H1",
          "L12H2",
          "L12H3",
          "L12H4",
          "L12H5",
          "L12H6",
          "L12H7",
          "L12H8",
          "L12H9",
          "L12H10",
          "L12H11",
          "L12H12",
          "L12H13",
          "L12H14",
          "L12H15",
          "L13H0",
          "L13H1",
          "L13H2",
          "L13H3",
          "L13H4",
          "L13H5",
          "L13H6",
          "L13H7",
          "L13H8",
          "L13H9",
          "L13H10",
          "L13H11",
          "L13H12",
          "L13H13",
          "L13H14",
          "L13H15",
          "L14H0",
          "L14H1",
          "L14H2",
          "L14H3",
          "L14H4",
          "L14H5",
          "L14H6",
          "L14H7",
          "L14H8",
          "L14H9",
          "L14H10",
          "L14H11",
          "L14H12",
          "L14H13",
          "L14H14",
          "L14H15",
          "L15H0",
          "L15H1",
          "L15H2",
          "L15H3",
          "L15H4",
          "L15H5",
          "L15H6",
          "L15H7",
          "L15H8",
          "L15H9",
          "L15H10",
          "L15H11",
          "L15H12",
          "L15H13",
          "L15H14",
          "L15H15",
          "L16H0",
          "L16H1",
          "L16H2",
          "L16H3",
          "L16H4",
          "L16H5",
          "L16H6",
          "L16H7",
          "L16H8",
          "L16H9",
          "L16H10",
          "L16H11",
          "L16H12",
          "L16H13",
          "L16H14",
          "L16H15",
          "L17H0",
          "L17H1",
          "L17H2",
          "L17H3",
          "L17H4",
          "L17H5",
          "L17H6",
          "L17H7",
          "L17H8",
          "L17H9",
          "L17H10",
          "L17H11",
          "L17H12",
          "L17H13",
          "L17H14",
          "L17H15",
          "L18H0",
          "L18H1",
          "L18H2",
          "L18H3",
          "L18H4",
          "L18H5",
          "L18H6",
          "L18H7",
          "L18H8",
          "L18H9",
          "L18H10",
          "L18H11",
          "L18H12",
          "L18H13",
          "L18H14",
          "L18H15",
          "L19H0",
          "L19H1",
          "L19H2",
          "L19H3",
          "L19H4",
          "L19H5",
          "L19H6",
          "L19H7",
          "L19H8",
          "L19H9",
          "L19H10",
          "L19H11",
          "L19H12",
          "L19H13",
          "L19H14",
          "L19H15",
          "L20H0",
          "L20H1",
          "L20H2",
          "L20H3",
          "L20H4",
          "L20H5",
          "L20H6",
          "L20H7",
          "L20H8",
          "L20H9",
          "L20H10",
          "L20H11",
          "L20H12",
          "L20H13",
          "L20H14",
          "L20H15",
          "L21H0",
          "L21H1",
          "L21H2",
          "L21H3",
          "L21H4",
          "L21H5",
          "L21H6",
          "L21H7",
          "L21H8",
          "L21H9",
          "L21H10",
          "L21H11",
          "L21H12",
          "L21H13",
          "L21H14",
          "L21H15",
          "L22H0",
          "L22H1",
          "L22H2",
          "L22H3",
          "L22H4",
          "L22H5",
          "L22H6",
          "L22H7",
          "L22H8",
          "L22H9",
          "L22H10",
          "L22H11",
          "L22H12",
          "L22H13",
          "L22H14",
          "L22H15",
          "L23H0",
          "L23H1",
          "L23H2",
          "L23H3",
          "L23H4",
          "L23H5",
          "L23H6",
          "L23H7",
          "L23H8",
          "L23H9",
          "L23H10",
          "L23H11",
          "L23H12",
          "L23H13",
          "L23H14",
          "L23H15",
          "L24H0",
          "L24H1",
          "L24H2",
          "L24H3",
          "L24H4",
          "L24H5",
          "L24H6",
          "L24H7",
          "L24H8",
          "L24H9",
          "L24H10",
          "L24H11",
          "L24H12",
          "L24H13",
          "L24H14",
          "L24H15",
          "L25H0",
          "L25H1",
          "L25H2",
          "L25H3",
          "L25H4",
          "L25H5",
          "L25H6",
          "L25H7",
          "L25H8",
          "L25H9",
          "L25H10",
          "L25H11",
          "L25H12",
          "L25H13",
          "L25H14",
          "L25H15",
          "L26H0",
          "L26H1",
          "L26H2",
          "L26H3",
          "L26H4",
          "L26H5",
          "L26H6",
          "L26H7",
          "L26H8",
          "L26H9",
          "L26H10",
          "L26H11",
          "L26H12",
          "L26H13",
          "L26H14",
          "L26H15",
          "L27H0",
          "L27H1",
          "L27H2",
          "L27H3",
          "L27H4",
          "L27H5",
          "L27H6",
          "L27H7",
          "L27H8",
          "L27H9",
          "L27H10",
          "L27H11",
          "L27H12",
          "L27H13",
          "L27H14",
          "L27H15"
         ],
         "legendgroup": "",
         "marker": {
          "color": "#636efa",
          "symbol": "circle"
         },
         "mode": "markers",
         "name": "",
         "orientation": "v",
         "showlegend": false,
         "type": "scatter",
         "x": {
          "bdata": "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",
          "dtype": "f4"
         },
         "xaxis": "x",
         "y": {
          "bdata": "AADhOgAA4ToAAMs6AADJOgAAujoAANA6AAC3OgAAHzsAAM86AAAiOwAAvToAAMw6AAAkOwAAzToAAOM6AADkOgAAvToAAMw6AADMOgAA+joAAKI6AAC4OgAAyToAAMw6AAD8OgAAzDoAALk6AADIOgAA4joAAM06AAC6OgAA0DoAAOA6AADiOgAA3joAAOQ6AADnOgAAxzoAAM06AADMOgAAuDoAAOY6AAD3OgAA4zoAAN86AADgOgAA3DoAAMg6AADkOgAAuToAANw6AADMOgAA9zoAAMw6AADgOgAA4zoAAOI6AADOOgAAzjoAAM06AADfOgAAyzoAANw6AADfOgAA3DoAAM46AADMOgAA+DoAAAo7AADKOgAA4DoAAM06AADfOgAAzjoAAMw6AADLOgAA3joAAN86AADjOgAAtzoAAN86AAADOwAA4DoAAOM6AADgOgAAzzoAAN06AADgOgAAyjoAAM86AADQOgAA0zoAAM06AADnOgAAzToAAM86AADdOgAA4zoAAM06AADjOgAA5DoAAPc6AADLOgAAzjoAALc6AADkOgAAzjoAAN46AADMOgAAyzoAAOA6AADkOgAA3DoAAN86AADMOgAAzjoAAMs6AADhOgAAyjoAAOM6AADgOgAA3ToAAM06AADgOgAA3ToAAN46AADKOgAA4ToAAMs6AADNOgAA4ToAANw6AADNOgAA9joAAM06AADROgAADDsAAM06AADhOgAA4DoAAN46AADiOgAAzDoAAOU6AADOOgAA3joAAOM6AAC2OgAA3zoAAOM6AADROgAA4zoAAM46AAD1OgAA5DoAANw6AADQOgAA0DoAAMw6AADeOgAA2joAAN46AADOOgAA3zoAAM46AADfOgAAuzoAAOE6AADjOgAAzzoAAMw6AADPOgAA4ToAAOE6AADgOgAAzjoAAM06AADROgAAzDoAAOU6AADeOgAAzjoAAOE6AADiOgAAtjoAAFw7AADJOgAAzjoAAMs6AADgOgAAzDoAAMs6AADOOgAAzToAAM46AADOOgAA3joAAL46AADHOgAAzjoAAMs6AADgOgAAzToAALg6AADLOgAA3zoAAM46AADMOgAA4DoAANw6AADfOgAAzToAAOI6AADiOgAA4zoAAM86AADiOgAA5ToAAPk6AADmOgAAzzoAAN86AADNOgAAzToAAMw6AADgOgAA5DoAAMw6AADiOgAA3ToAAM46AADgOgAA0DoAAM46AADNOgAA4joAAM46AADPOgAA3zoAANE6AADMOgAAzToAAOg6AADLOgAAzjoAAPY6AADNOgAA4joAAPQ6AADOOgAAyzoAAN86AADNOgAA3zoAAOY6AADOOgAAzDoAAPU6AADHOgAAzDoAAM86AADjOgAA4joAAOU6AADPOgAAzToAAM06AADOOgAAyzoAAOY6AADOOgAA4DoAAN46AADpOgAA5joAAMw6AADNOgAAyzoAALs6AADfOgAA4joAAM06AADPOgAA5DoAACs7AACfOgAA0DoAAM86AADLOgAAzjoAAM06AADPOgAAzjoAAM86AADfOgAA5DoAAMw6AADfOgAAzzoAAM46AADjOgAAGDsAAMs6AAD7OgAAzToAAOE6AADhOgAAzzoAAN46AADPOgAA3zoAAM86AADLOgAAzjoAAM46AADLOgAA5DoAAOI6AADNOgAA0DoAAM46AADPOgAAzjoAAMw6AADNOgAA0DoAAOA6AADOOgAAzjoAAMw6AADkOgAA4joAAOc6AADePgAAzDoAAMk6AADIOgAAzDoAADY7AADlOgAAvzoAALg6AADeOgAAyDoAAM86AADNOgAA0joAAMs6AADiOgAA4DoAANw6AADQOgAAyzoAAMw6AADPOgAAyzoAAM46AADeOgAA5ToAAMY6AACzOgAAIDsAAN46AADgOgAAzjoAAM06AADNOgAA0ToAAMs6AADfOgAAzToAAM86AADlOgAAtjoAAMs6AADLOgAA0DoAAMo6AADNOgAAzToAAOE6AADKOgAAyzoAAN06AADOOgAAzDoAANA6AADeOgAAyToAAM86AADoOgAAzToAAMs6AADhOgAAzjoAAOI6AADNOgAAzDoAAOA6AADgOgAA4zoAAM06AADNOgAA3ToAALM6AADSOgAA3ToAAOE6AAD8OgAA5joAANw6AADeOgAA4joAAAI7AADdOgAA0DoAADs8AAB7OgAAzDoAAN86AADTOgAA3ToAAMs6AADFOgAAyDoAALg6AADMOgAAzjoAAOA6AADMOgAAyToAAMw6AADfOgAAyzoAAOM6AADiOgAA4ToAAOA6AADiOgAA0DoAAMo6AADcOgAAzDoAAOE6AADzOgAA4DoAAJI6AABsOw==",
          "dtype": "f4"
         },
         "yaxis": "y"
        }
       ],
       "layout": {
        "legend": {
         "tracegroupgap": 0
        },
        "template": {
         "data": {
          "bar": [
           {
            "error_x": {
             "color": "#2a3f5f"
            },
            "error_y": {
             "color": "#2a3f5f"
            },
            "marker": {
             "line": {
              "color": "#E5ECF6",
              "width": 0.5
             },
             "pattern": {
              "fillmode": "overlay",
              "size": 10,
              "solidity": 0.2
             }
            },
            "type": "bar"
           }
          ],
          "barpolar": [
           {
            "marker": {
             "line": {
              "color": "#E5ECF6",
              "width": 0.5
             },
             "pattern": {
              "fillmode": "overlay",
              "size": 10,
              "solidity": 0.2
             }
            },
            "type": "barpolar"
           }
          ],
          "carpet": [
           {
            "aaxis": {
             "endlinecolor": "#2a3f5f",
             "gridcolor": "white",
             "linecolor": "white",
             "minorgridcolor": "white",
             "startlinecolor": "#2a3f5f"
            },
            "baxis": {
             "endlinecolor": "#2a3f5f",
             "gridcolor": "white",
             "linecolor": "white",
             "minorgridcolor": "white",
             "startlinecolor": "#2a3f5f"
            },
            "type": "carpet"
           }
          ],
          "choropleth": [
           {
            "colorbar": {
             "outlinewidth": 0,
             "ticks": ""
            },
            "type": "choropleth"
           }
          ],
          "contour": [
           {
            "colorbar": {
             "outlinewidth": 0,
             "ticks": ""
            },
            "colorscale": [
             [
              0,
              "#0d0887"
             ],
             [
              0.1111111111111111,
              "#46039f"
             ],
             [
              0.2222222222222222,
              "#7201a8"
             ],
             [
              0.3333333333333333,
              "#9c179e"
             ],
             [
              0.4444444444444444,
              "#bd3786"
             ],
             [
              0.5555555555555556,
              "#d8576b"
             ],
             [
              0.6666666666666666,
              "#ed7953"
             ],
             [
              0.7777777777777778,
              "#fb9f3a"
             ],
             [
              0.8888888888888888,
              "#fdca26"
             ],
             [
              1,
              "#f0f921"
             ]
            ],
            "type": "contour"
           }
          ],
          "contourcarpet": [
           {
            "colorbar": {
             "outlinewidth": 0,
             "ticks": ""
            },
            "type": "contourcarpet"
           }
          ],
          "heatmap": [
           {
            "colorbar": {
             "outlinewidth": 0,
             "ticks": ""
            },
            "colorscale": [
             [
              0,
              "#0d0887"
             ],
             [
              0.1111111111111111,
              "#46039f"
             ],
             [
              0.2222222222222222,
              "#7201a8"
             ],
             [
              0.3333333333333333,
              "#9c179e"
             ],
             [
              0.4444444444444444,
              "#bd3786"
             ],
             [
              0.5555555555555556,
              "#d8576b"
             ],
             [
              0.6666666666666666,
              "#ed7953"
             ],
             [
              0.7777777777777778,
              "#fb9f3a"
             ],
             [
              0.8888888888888888,
              "#fdca26"
             ],
             [
              1,
              "#f0f921"
             ]
            ],
            "type": "heatmap"
           }
          ],
          "histogram": [
           {
            "marker": {
             "pattern": {
              "fillmode": "overlay",
              "size": 10,
              "solidity": 0.2
             }
            },
            "type": "histogram"
           }
          ],
          "histogram2d": [
           {
            "colorbar": {
             "outlinewidth": 0,
             "ticks": ""
            },
            "colorscale": [
             [
              0,
              "#0d0887"
             ],
             [
              0.1111111111111111,
              "#46039f"
             ],
             [
              0.2222222222222222,
              "#7201a8"
             ],
             [
              0.3333333333333333,
              "#9c179e"
             ],
             [
              0.4444444444444444,
              "#bd3786"
             ],
             [
              0.5555555555555556,
              "#d8576b"
             ],
             [
              0.6666666666666666,
              "#ed7953"
             ],
             [
              0.7777777777777778,
              "#fb9f3a"
             ],
             [
              0.8888888888888888,
              "#fdca26"
             ],
             [
              1,
              "#f0f921"
             ]
            ],
            "type": "histogram2d"
           }
          ],
          "histogram2dcontour": [
           {
            "colorbar": {
             "outlinewidth": 0,
             "ticks": ""
            },
            "colorscale": [
             [
              0,
              "#0d0887"
             ],
             [
              0.1111111111111111,
              "#46039f"
             ],
             [
              0.2222222222222222,
              "#7201a8"
             ],
             [
              0.3333333333333333,
              "#9c179e"
             ],
             [
              0.4444444444444444,
              "#bd3786"
             ],
             [
              0.5555555555555556,
              "#d8576b"
             ],
             [
              0.6666666666666666,
              "#ed7953"
             ],
             [
              0.7777777777777778,
              "#fb9f3a"
             ],
             [
              0.8888888888888888,
              "#fdca26"
             ],
             [
              1,
              "#f0f921"
             ]
            ],
            "type": "histogram2dcontour"
           }
          ],
          "mesh3d": [
           {
            "colorbar": {
             "outlinewidth": 0,
             "ticks": ""
            },
            "type": "mesh3d"
           }
          ],
          "parcoords": [
           {
            "line": {
             "colorbar": {
              "outlinewidth": 0,
              "ticks": ""
             }
            },
            "type": "parcoords"
           }
          ],
          "pie": [
           {
            "automargin": true,
            "type": "pie"
           }
          ],
          "scatter": [
           {
            "fillpattern": {
             "fillmode": "overlay",
             "size": 10,
             "solidity": 0.2
            },
            "type": "scatter"
           }
          ],
          "scatter3d": [
           {
            "line": {
             "colorbar": {
              "outlinewidth": 0,
              "ticks": ""
             }
            },
            "marker": {
             "colorbar": {
              "outlinewidth": 0,
              "ticks": ""
             }
            },
            "type": "scatter3d"
           }
          ],
          "scattercarpet": [
           {
            "marker": {
             "colorbar": {
              "outlinewidth": 0,
              "ticks": ""
             }
            },
            "type": "scattercarpet"
           }
          ],
          "scattergeo": [
           {
            "marker": {
             "colorbar": {
              "outlinewidth": 0,
              "ticks": ""
             }
            },
            "type": "scattergeo"
           }
          ],
          "scattergl": [
           {
            "marker": {
             "colorbar": {
              "outlinewidth": 0,
              "ticks": ""
             }
            },
            "type": "scattergl"
           }
          ],
          "scattermap": [
           {
            "marker": {
             "colorbar": {
              "outlinewidth": 0,
              "ticks": ""
             }
            },
            "type": "scattermap"
           }
          ],
          "scattermapbox": [
           {
            "marker": {
             "colorbar": {
              "outlinewidth": 0,
              "ticks": ""
             }
            },
            "type": "scattermapbox"
           }
          ],
          "scatterpolar": [
           {
            "marker": {
             "colorbar": {
              "outlinewidth": 0,
              "ticks": ""
             }
            },
            "type": "scatterpolar"
           }
          ],
          "scatterpolargl": [
           {
            "marker": {
             "colorbar": {
              "outlinewidth": 0,
              "ticks": ""
             }
            },
            "type": "scatterpolargl"
           }
          ],
          "scatterternary": [
           {
            "marker": {
             "colorbar": {
              "outlinewidth": 0,
              "ticks": ""
             }
            },
            "type": "scatterternary"
           }
          ],
          "surface": [
           {
            "colorbar": {
             "outlinewidth": 0,
             "ticks": ""
            },
            "colorscale": [
             [
              0,
              "#0d0887"
             ],
             [
              0.1111111111111111,
              "#46039f"
             ],
             [
              0.2222222222222222,
              "#7201a8"
             ],
             [
              0.3333333333333333,
              "#9c179e"
             ],
             [
              0.4444444444444444,
              "#bd3786"
             ],
             [
              0.5555555555555556,
              "#d8576b"
             ],
             [
              0.6666666666666666,
              "#ed7953"
             ],
             [
              0.7777777777777778,
              "#fb9f3a"
             ],
             [
              0.8888888888888888,
              "#fdca26"
             ],
             [
              1,
              "#f0f921"
             ]
            ],
            "type": "surface"
           }
          ],
          "table": [
           {
            "cells": {
             "fill": {
              "color": "#EBF0F8"
             },
             "line": {
              "color": "white"
             }
            },
            "header": {
             "fill": {
              "color": "#C8D4E3"
             },
             "line": {
              "color": "white"
             }
            },
            "type": "table"
           }
          ]
         },
         "layout": {
          "annotationdefaults": {
           "arrowcolor": "#2a3f5f",
           "arrowhead": 0,
           "arrowwidth": 1
          },
          "autotypenumbers": "strict",
          "coloraxis": {
           "colorbar": {
            "outlinewidth": 0,
            "ticks": ""
           }
          },
          "colorscale": {
           "diverging": [
            [
             0,
             "#8e0152"
            ],
            [
             0.1,
             "#c51b7d"
            ],
            [
             0.2,
             "#de77ae"
            ],
            [
             0.3,
             "#f1b6da"
            ],
            [
             0.4,
             "#fde0ef"
            ],
            [
             0.5,
             "#f7f7f7"
            ],
            [
             0.6,
             "#e6f5d0"
            ],
            [
             0.7,
             "#b8e186"
            ],
            [
             0.8,
             "#7fbc41"
            ],
            [
             0.9,
             "#4d9221"
            ],
            [
             1,
             "#276419"
            ]
           ],
           "sequential": [
            [
             0,
             "#0d0887"
            ],
            [
             0.1111111111111111,
             "#46039f"
            ],
            [
             0.2222222222222222,
             "#7201a8"
            ],
            [
             0.3333333333333333,
             "#9c179e"
            ],
            [
             0.4444444444444444,
             "#bd3786"
            ],
            [
             0.5555555555555556,
             "#d8576b"
            ],
            [
             0.6666666666666666,
             "#ed7953"
            ],
            [
             0.7777777777777778,
             "#fb9f3a"
            ],
            [
             0.8888888888888888,
             "#fdca26"
            ],
            [
             1,
             "#f0f921"
            ]
           ],
           "sequentialminus": [
            [
             0,
             "#0d0887"
            ],
            [
             0.1111111111111111,
             "#46039f"
            ],
            [
             0.2222222222222222,
             "#7201a8"
            ],
            [
             0.3333333333333333,
             "#9c179e"
            ],
            [
             0.4444444444444444,
             "#bd3786"
            ],
            [
             0.5555555555555556,
             "#d8576b"
            ],
            [
             0.6666666666666666,
             "#ed7953"
            ],
            [
             0.7777777777777778,
             "#fb9f3a"
            ],
            [
             0.8888888888888888,
             "#fdca26"
            ],
            [
             1,
             "#f0f921"
            ]
           ]
          },
          "colorway": [
           "#636efa",
           "#EF553B",
           "#00cc96",
           "#ab63fa",
           "#FFA15A",
           "#19d3f3",
           "#FF6692",
           "#B6E880",
           "#FF97FF",
           "#FECB52"
          ],
          "font": {
           "color": "#2a3f5f"
          },
          "geo": {
           "bgcolor": "white",
           "lakecolor": "white",
           "landcolor": "#E5ECF6",
           "showlakes": true,
           "showland": true,
           "subunitcolor": "white"
          },
          "hoverlabel": {
           "align": "left"
          },
          "hovermode": "closest",
          "mapbox": {
           "style": "light"
          },
          "paper_bgcolor": "white",
          "plot_bgcolor": "#E5ECF6",
          "polar": {
           "angularaxis": {
            "gridcolor": "white",
            "linecolor": "white",
            "ticks": ""
           },
           "bgcolor": "#E5ECF6",
           "radialaxis": {
            "gridcolor": "white",
            "linecolor": "white",
            "ticks": ""
           }
          },
          "scene": {
           "xaxis": {
            "backgroundcolor": "#E5ECF6",
            "gridcolor": "white",
            "gridwidth": 2,
            "linecolor": "white",
            "showbackground": true,
            "ticks": "",
            "zerolinecolor": "white"
           },
           "yaxis": {
            "backgroundcolor": "#E5ECF6",
            "gridcolor": "white",
            "gridwidth": 2,
            "linecolor": "white",
            "showbackground": true,
            "ticks": "",
            "zerolinecolor": "white"
           },
           "zaxis": {
            "backgroundcolor": "#E5ECF6",
            "gridcolor": "white",
            "gridwidth": 2,
            "linecolor": "white",
            "showbackground": true,
            "ticks": "",
            "zerolinecolor": "white"
           }
          },
          "shapedefaults": {
           "line": {
            "color": "#2a3f5f"
           }
          },
          "ternary": {
           "aaxis": {
            "gridcolor": "white",
            "linecolor": "white",
            "ticks": ""
           },
           "baxis": {
            "gridcolor": "white",
            "linecolor": "white",
            "ticks": ""
           },
           "bgcolor": "#E5ECF6",
           "caxis": {
            "gridcolor": "white",
            "linecolor": "white",
            "ticks": ""
           }
          },
          "title": {
           "x": 0.05
          },
          "xaxis": {
           "automargin": true,
           "gridcolor": "white",
           "linecolor": "white",
           "ticks": "",
           "title": {
            "standoff": 15
           },
           "zerolinecolor": "white",
           "zerolinewidth": 2
          },
          "yaxis": {
           "automargin": true,
           "gridcolor": "white",
           "linecolor": "white",
           "ticks": "",
           "title": {
            "standoff": 15
           },
           "zerolinecolor": "white",
           "zerolinewidth": 2
          }
         }
        },
        "title": {
         "text": "Scatter plot of output patching vs attention patching"
        },
        "xaxis": {
         "anchor": "y",
         "domain": [
          0,
          1
         ],
         "title": {
          "text": "Attention Patch"
         }
        },
        "yaxis": {
         "anchor": "x",
         "domain": [
          0,
          1
         ],
         "title": {
          "text": "Output Patch"
         }
        }
       }
      }
     },
     "metadata": {},
     "output_type": "display_data"
    }
   ],
   "source": [
    "imshow(\n",
    "    patched_head_attn_diff,\n",
    "    title=\"Logit Difference From Patched Head Pattern\",\n",
    "    labels={\"x\": \"Head\", \"y\": \"Layer\"},\n",
    "    aspect='auto'\n",
    ")\n",
    "head_labels = [\n",
    "    f\"L{l}H{h}\" for l in range(model.cfg.n_layers) for h in range(model.cfg.n_heads)\n",
    "]\n",
    "scatter(\n",
    "    x=utils.to_numpy(patched_head_attn_diff.flatten()),\n",
    "    y=utils.to_numpy(patched_head_z_diff.flatten()),\n",
    "    hover_name=head_labels,\n",
    "    xaxis=\"Attention Patch\",\n",
    "    yaxis=\"Output Patch\",\n",
    "    title=\"Scatter plot of output patching vs attention patching\",\n",
    ")"
   ]
  },
  {
   "cell_type": "code",
   "execution_count": null,
   "metadata": {},
   "outputs": [],
   "source": []
  }
 ],
 "metadata": {
  "accelerator": "GPU",
  "kernelspec": {
   "display_name": "Python (myenv)",
   "language": "python",
   "name": "myenv"
  },
  "language_info": {
   "codemirror_mode": {
    "name": "ipython",
    "version": 3
   },
   "file_extension": ".py",
   "mimetype": "text/x-python",
   "name": "python",
   "nbconvert_exporter": "python",
   "pygments_lexer": "ipython3",
   "version": "3.10.6"
  },
  "vscode": {
   "interpreter": {
    "hash": "2c3ec9f9cb0aa45979d92499665f4b05f2a3528d3b2ca0efacea2020d32b93f4"
   }
  }
 },
 "nbformat": 4,
 "nbformat_minor": 4
}
