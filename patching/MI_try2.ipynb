{
 "cells": [
  {
   "cell_type": "code",
   "execution_count": 1,
   "metadata": {},
   "outputs": [],
   "source": [
    "from functools import partial\n",
    "from typing import List, Optional, Union\n",
    "\n",
    "import einops\n",
    "import numpy as np\n",
    "import plotly.express as px\n",
    "import plotly.io as pio\n",
    "import torch\n",
    "from circuitsvis.attention import attention_heads\n",
    "from fancy_einsum import einsum\n",
    "from IPython.display import HTML, IFrame\n",
    "from jaxtyping import Float\n",
    "\n",
    "import transformer_lens.utils as utils\n",
    "from transformer_lens import ActivationCache, HookedTransformer\n",
    "\n",
    "from transformers import AutoModelForCausalLM, AutoTokenizer\n",
    "from tqdm import tqdm"
   ]
  },
  {
   "cell_type": "code",
   "execution_count": 2,
   "metadata": {},
   "outputs": [
    {
     "data": {
      "application/vnd.jupyter.widget-view+json": {
       "model_id": "c18a23bcc52c45b9927004549f6ca75c",
       "version_major": 2,
       "version_minor": 0
      },
      "text/plain": [
       "Loading checkpoint shards:   0%|          | 0/2 [00:00<?, ?it/s]"
      ]
     },
     "metadata": {},
     "output_type": "display_data"
    },
    {
     "name": "stdout",
     "output_type": "stream",
     "text": [
      "Loaded pretrained model Qwen/Qwen3-1.7B into HookedTransformer\n"
     ]
    },
    {
     "data": {
      "text/plain": [
       "<torch.autograd.grad_mode.set_grad_enabled at 0x7f67060eea10>"
      ]
     },
     "execution_count": 2,
     "metadata": {},
     "output_type": "execute_result"
    }
   ],
   "source": [
    "model_name = \"/pscratch/sd/r/ritesh11/temp_dir/trained_models/base\"\n",
    "model = AutoModelForCausalLM.from_pretrained(\n",
    "    model_name,\n",
    "    trust_remote_code=True\n",
    ")\n",
    "tokenizer = AutoTokenizer.from_pretrained(\"Qwen3-1.7B\")\n",
    "\n",
    "model = HookedTransformer.from_pretrained_no_processing(\n",
    "    model_name=\"Qwen/Qwen3-1.7B\",\n",
    "    hf_model=model,\n",
    "    tokenizer=tokenizer,\n",
    "    dtype=torch.bfloat16,\n",
    "    trust_remote_code=True,\n",
    "    device=\"cuda\"\n",
    ")\n",
    "torch.set_grad_enabled(False)"
   ]
  },
  {
   "cell_type": "code",
   "execution_count": 3,
   "metadata": {},
   "outputs": [],
   "source": [
    "def imshow(tensor, **kwargs):\n",
    "    px.imshow(\n",
    "        utils.to_numpy(tensor),\n",
    "        color_continuous_midpoint=0.0,\n",
    "        color_continuous_scale=\"RdBu\",\n",
    "        **kwargs,\n",
    "    ).show()\n",
    "\n",
    "\n",
    "def line(tensor, **kwargs):\n",
    "    px.line(\n",
    "        y=utils.to_numpy(tensor),\n",
    "        **kwargs,\n",
    "    ).show()\n",
    "\n",
    "\n",
    "def scatter(x, y, xaxis=\"\", yaxis=\"\", caxis=\"\", **kwargs):\n",
    "    x = utils.to_numpy(x)\n",
    "    y = utils.to_numpy(y)\n",
    "    px.scatter(\n",
    "        y=y,\n",
    "        x=x,\n",
    "        labels={\"x\": xaxis, \"y\": yaxis, \"color\": caxis},\n",
    "        **kwargs,\n",
    "    ).show()"
   ]
  },
  {
   "cell_type": "code",
   "execution_count": 4,
   "metadata": {},
   "outputs": [],
   "source": [
    "device: torch.device = utils.get_device()"
   ]
  },
  {
   "cell_type": "code",
   "execution_count": 5,
   "metadata": {},
   "outputs": [],
   "source": [
    "NOISE_STD = 0.2\n",
    "def corrupt_embedding_hook(embedding_hook_output,hook, subject_token_indices, seed):\n",
    "    g = torch.Generator(device=embedding_hook_output.device).manual_seed(seed)\n",
    "    noise_shape = embedding_hook_output[:, subject_token_indices, :].shape\n",
    "    noise = torch.randn(\n",
    "        noise_shape, generator=g, device=embedding_hook_output.device, dtype=embedding_hook_output.dtype\n",
    "    ) * NOISE_STD\n",
    "    embedding_hook_output[:, subject_token_indices, :] += noise\n",
    "    return embedding_hook_output"
   ]
  },
  {
   "cell_type": "code",
   "execution_count": 7,
   "metadata": {},
   "outputs": [],
   "source": [
    "def get_clean_and_corrupted_probs(model):\n",
    "    \n",
    "    # Get clean run\n",
    "    clean_logits, clean_cache = model.run_with_cache(clean_tokens)\n",
    "    clean_prob = torch.softmax(clean_logits[0, -1], dim=-1)[answer_token].item()\n",
    "\n",
    "    # Get corrupted runs\n",
    "    corrupted_probs = []\n",
    "    for seed in range(NUM_SEEDS):\n",
    "        hook_fn = partial(corrupt_embedding_hook,\n",
    "                          subject_token_indices=subject_token_indices,\n",
    "                          seed=seed)\n",
    "        corrupted_logits = model.run_with_hooks(\n",
    "            clean_tokens, fwd_hooks=[(utils.get_act_name(\"embed\"), hook_fn)]\n",
    "        )\n",
    "        corrupted_probs.append(torch.softmax(corrupted_logits[0, -1], dim=-1)[answer_token].item())\n",
    "\n",
    "    corrupted_prob_mean = float(np.mean(corrupted_probs))\n",
    "\n",
    "    model.reset_hooks(including_permanent=True)\n",
    "\n",
    "    return clean_prob, corrupted_prob_mean, clean_cache, clean_logits"
   ]
  },
  {
   "cell_type": "code",
   "execution_count": 8,
   "metadata": {},
   "outputs": [],
   "source": [
    "def causal_tracing_metric(patched_logits: torch.Tensor, answer_token: torch.Tensor) -> torch.Tensor:\n",
    "    \"\"\"\n",
    "    Computes causal tracing metric for batched logits.\n",
    "    \n",
    "    Args:\n",
    "        patched_logits: [batch_size, seq_len, vocab_size]\n",
    "        answer_tokens: [batch_size] tensor of correct token IDs\n",
    "        per_prompt: if True, return per-example values; else return mean\n",
    "    \n",
    "    Returns:\n",
    "        Tensor of shape [batch_size] if per_prompt=True else scalar tensor\n",
    "    \"\"\"\n",
    "\n",
    "    # Probabilities of the correct token for each example\n",
    "    patched_prob = torch.softmax(patched_logits[0, -1], dim=-1)[answer_token]\n",
    "    \n",
    "    # Expand clean/corrupted probs to match batch size if needed\n",
    "    clean_prob_tensor = torch.as_tensor(clean_prob, device=patched_logits.device)\n",
    "    corrupted_prob_tensor = torch.as_tensor(corrupted_prob_mean, device=patched_logits.device)\n",
    "\n",
    "    if clean_prob_tensor.ndim == 0:\n",
    "        clean_prob_tensor = clean_prob_tensor.expand_as(patched_prob)\n",
    "    if corrupted_prob_tensor.ndim == 0:\n",
    "        corrupted_prob_tensor = corrupted_prob_tensor.expand_as(patched_prob)\n",
    "\n",
    "    denominator = clean_prob_tensor - corrupted_prob_tensor\n",
    "    safe_denominator = torch.where(torch.abs(denominator) < 1e-6,\n",
    "                                   torch.ones_like(denominator), denominator)\n",
    "\n",
    "    return (patched_prob - corrupted_prob_tensor) / safe_denominator"
   ]
  },
  {
   "cell_type": "code",
   "execution_count": 12,
   "metadata": {},
   "outputs": [
    {
     "name": "stdout",
     "output_type": "stream",
     "text": [
      "Prompt: <think>\n",
      "\n",
      "</think> Capital of Canada is\n",
      "Answer:  Toronto\n",
      "Answer token: tensor(14632, device='cuda:0')\n",
      "Subject (' Ottawa Toronto Canada') is tokenized to [' Ottawa', ' Toronto', ' Canada'] at indices: [5]\n"
     ]
    }
   ],
   "source": [
    "country, capital = \"Canada\", \" Toronto\"\n",
    "subject_string = \" Ottawa Toronto Canada\"\n",
    "\n",
    "\n",
    "prompt_format = \"<think>\\n\\n</think> Capital of {} is\"\n",
    "prompt = prompt_format.format(country)\n",
    "subject_str_tokens = model.to_str_tokens(subject_string)\n",
    "clean_tokens = model.to_tokens(prompt)\n",
    "subject_token_indices = [i for i, token in enumerate(model.to_str_tokens(prompt)) if token in subject_str_tokens]\n",
    "\n",
    "answer = capital\n",
    "answer_token = model.to_tokens(capital)[0][0].to(device)\n",
    "\n",
    "print(\"Prompt:\", prompt)\n",
    "print(\"Answer:\", answer)\n",
    "print(\"Answer token:\", answer_token)\n",
    "print(f\"Subject ('{subject_string}') is tokenized to {subject_str_tokens} at indices: {subject_token_indices}\")"
   ]
  },
  {
   "cell_type": "code",
   "execution_count": 13,
   "metadata": {},
   "outputs": [],
   "source": [
    "NUM_SEEDS = 20\n",
    "clean_prob, corrupted_prob_mean, clean_cache, original_logits = get_clean_and_corrupted_probs(model)"
   ]
  },
  {
   "cell_type": "code",
   "execution_count": 14,
   "metadata": {},
   "outputs": [
    {
     "name": "stdout",
     "output_type": "stream",
     "text": [
      "Clean probability on ' Toronto': 89.45%\n",
      "Average corrupted probability on ' Toronto': 1.71%\n"
     ]
    }
   ],
   "source": [
    "print(f\"Clean probability on '{answer}': {clean_prob:.2%}\")\n",
    "print(f\"Average corrupted probability on '{answer}': {corrupted_prob_mean:.2%}\")"
   ]
  },
  {
   "cell_type": "code",
   "execution_count": 15,
   "metadata": {},
   "outputs": [
    {
     "name": "stdout",
     "output_type": "stream",
     "text": [
      "Average logit difference: 1.0\n"
     ]
    }
   ],
   "source": [
    "original_average_logit_diff = causal_tracing_metric(original_logits, answer_token)\n",
    "print(\n",
    "    \"Average logit difference:\",\n",
    "    round(original_average_logit_diff.item(), 3),\n",
    ")"
   ]
  },
  {
   "cell_type": "code",
   "execution_count": 16,
   "metadata": {},
   "outputs": [
    {
     "name": "stdout",
     "output_type": "stream",
     "text": [
      "Answer residual directions shape: torch.Size([2048])\n",
      "Logit directions shape: torch.Size([1, 2048])\n"
     ]
    }
   ],
   "source": [
    "answer_residual_directions = model.tokens_to_residual_directions(answer_token)\n",
    "print(\"Answer residual directions shape:\", answer_residual_directions.shape)\n",
    "logit_diff_directions = answer_residual_directions.unsqueeze(0)\n",
    "print(\"Logit directions shape:\", logit_diff_directions.shape)"
   ]
  },
  {
   "cell_type": "code",
   "execution_count": 17,
   "metadata": {},
   "outputs": [
    {
     "data": {
      "text/plain": [
       "tensor([[ 0.0125,  0.0079,  0.0059,  ..., -0.0525,  0.0199, -0.0552]],\n",
       "       device='cuda:0', dtype=torch.bfloat16, requires_grad=True)"
      ]
     },
     "execution_count": 17,
     "metadata": {},
     "output_type": "execute_result"
    }
   ],
   "source": [
    "logit_diff_directions"
   ]
  },
  {
   "cell_type": "code",
   "execution_count": 18,
   "metadata": {},
   "outputs": [],
   "source": [
    "def residual_stack_to_logit_diff(\n",
    "    residual_stack: Float[torch.Tensor, \"components batch d_model\"],\n",
    "    cache: ActivationCache,\n",
    ") -> float:\n",
    "    scaled_residual_stack = cache.apply_ln_to_stack(\n",
    "        residual_stack, layer=-1, pos_slice=-1\n",
    "    )\n",
    "    \n",
    "    return einsum(\n",
    "        \"... batch d_model, batch d_model -> ...\",\n",
    "        scaled_residual_stack,\n",
    "        logit_diff_directions.to(dtype=torch.float32),\n",
    "    )"
   ]
  },
  {
   "cell_type": "code",
   "execution_count": 19,
   "metadata": {},
   "outputs": [
    {
     "data": {
      "application/vnd.plotly.v1+json": {
       "config": {
        "plotlyServerURL": "https://plot.ly"
       },
       "data": [
        {
         "hovertemplate": "<b>%{hovertext}</b><br><br>x=%{x}<br>y=%{y}<extra></extra>",
         "hovertext": [
          "0_pre",
          "0_mid",
          "1_pre",
          "1_mid",
          "2_pre",
          "2_mid",
          "3_pre",
          "3_mid",
          "4_pre",
          "4_mid",
          "5_pre",
          "5_mid",
          "6_pre",
          "6_mid",
          "7_pre",
          "7_mid",
          "8_pre",
          "8_mid",
          "9_pre",
          "9_mid",
          "10_pre",
          "10_mid",
          "11_pre",
          "11_mid",
          "12_pre",
          "12_mid",
          "13_pre",
          "13_mid",
          "14_pre",
          "14_mid",
          "15_pre",
          "15_mid",
          "16_pre",
          "16_mid",
          "17_pre",
          "17_mid",
          "18_pre",
          "18_mid",
          "19_pre",
          "19_mid",
          "20_pre",
          "20_mid",
          "21_pre",
          "21_mid",
          "22_pre",
          "22_mid",
          "23_pre",
          "23_mid",
          "24_pre",
          "24_mid",
          "25_pre",
          "25_mid",
          "26_pre",
          "26_mid",
          "27_pre",
          "27_mid",
          "final_post"
         ],
         "legendgroup": "",
         "line": {
          "color": "#636efa",
          "dash": "solid"
         },
         "marker": {
          "symbol": "circle"
         },
         "mode": "lines",
         "name": "",
         "orientation": "v",
         "showlegend": false,
         "type": "scatter",
         "x": {
          "bdata": "AAAAAAAAAAAAAAAAAADgPwAAAAAAAPA/AAAAAAAA+D8AAAAAAAAAQAAAAAAAAARAAAAAAAAACEAAAAAAAAAMQAAAAAAAABBAAAAAAAAAEkAAAAAAAAAUQAAAAAAAABZAAAAAAAAAGEAAAAAAAAAaQAAAAAAAABxAAAAAAAAAHkAAAAAAAAAgQAAAAAAAACFAAAAAAAAAIkAAAAAAAAAjQAAAAAAAACRAAAAAAAAAJUAAAAAAAAAmQAAAAAAAACdAAAAAAAAAKEAAAAAAAAApQAAAAAAAACpAAAAAAAAAK0AAAAAAAAAsQAAAAAAAAC1AAAAAAAAALkAAAAAAAAAvQAAAAAAAADBAAAAAAACAMEAAAAAAAAAxQAAAAAAAgDFAAAAAAAAAMkAAAAAAAIAyQAAAAAAAADNAAAAAAACAM0AAAAAAAAA0QAAAAAAAgDRAAAAAAAAANUAAAAAAAIA1QAAAAAAAADZAAAAAAACANkAAAAAAAAA3QAAAAAAAgDdAAAAAAAAAOEAAAAAAAIA4QAAAAAAAADlAAAAAAACAOUAAAAAAAAA6QAAAAAAAgDpAAAAAAAAAO0AAAAAAAIA7QAAAAAAAADxA",
          "dtype": "f8"
         },
         "xaxis": "x",
         "y": {
          "bdata": "pMYKu6CtXzhUfkC7sOEvu7DBVzkFv107W9QGO3Qo3Dt/T5s7teJWOzLsKztxI+k74KV4OqDY+LowXBk62m8ePKk3sTvVyCk89OEyPD6sizyzkII8PgSYPK5TpzwcDKo8+qGYPGHAYDw7QpO8OqXWuwGUKbwIFLk8aJfYPCJwgT1+RYY9MqhfPZ6gxD2xFkY+rMyMPvZoyz4uZAo/n8DkPpgrJj+cZsE/0IgHQBJvCUAb6yBArpkyQJSrjUApg45AoP/yQPAU90Dqxv9AG2AFQeYs8EDqUPZArOW9QPmEv0ALnuZA",
          "dtype": "f4"
         },
         "yaxis": "y"
        }
       ],
       "layout": {
        "legend": {
         "tracegroupgap": 0
        },
        "template": {
         "data": {
          "bar": [
           {
            "error_x": {
             "color": "#2a3f5f"
            },
            "error_y": {
             "color": "#2a3f5f"
            },
            "marker": {
             "line": {
              "color": "#E5ECF6",
              "width": 0.5
             },
             "pattern": {
              "fillmode": "overlay",
              "size": 10,
              "solidity": 0.2
             }
            },
            "type": "bar"
           }
          ],
          "barpolar": [
           {
            "marker": {
             "line": {
              "color": "#E5ECF6",
              "width": 0.5
             },
             "pattern": {
              "fillmode": "overlay",
              "size": 10,
              "solidity": 0.2
             }
            },
            "type": "barpolar"
           }
          ],
          "carpet": [
           {
            "aaxis": {
             "endlinecolor": "#2a3f5f",
             "gridcolor": "white",
             "linecolor": "white",
             "minorgridcolor": "white",
             "startlinecolor": "#2a3f5f"
            },
            "baxis": {
             "endlinecolor": "#2a3f5f",
             "gridcolor": "white",
             "linecolor": "white",
             "minorgridcolor": "white",
             "startlinecolor": "#2a3f5f"
            },
            "type": "carpet"
           }
          ],
          "choropleth": [
           {
            "colorbar": {
             "outlinewidth": 0,
             "ticks": ""
            },
            "type": "choropleth"
           }
          ],
          "contour": [
           {
            "colorbar": {
             "outlinewidth": 0,
             "ticks": ""
            },
            "colorscale": [
             [
              0,
              "#0d0887"
             ],
             [
              0.1111111111111111,
              "#46039f"
             ],
             [
              0.2222222222222222,
              "#7201a8"
             ],
             [
              0.3333333333333333,
              "#9c179e"
             ],
             [
              0.4444444444444444,
              "#bd3786"
             ],
             [
              0.5555555555555556,
              "#d8576b"
             ],
             [
              0.6666666666666666,
              "#ed7953"
             ],
             [
              0.7777777777777778,
              "#fb9f3a"
             ],
             [
              0.8888888888888888,
              "#fdca26"
             ],
             [
              1,
              "#f0f921"
             ]
            ],
            "type": "contour"
           }
          ],
          "contourcarpet": [
           {
            "colorbar": {
             "outlinewidth": 0,
             "ticks": ""
            },
            "type": "contourcarpet"
           }
          ],
          "heatmap": [
           {
            "colorbar": {
             "outlinewidth": 0,
             "ticks": ""
            },
            "colorscale": [
             [
              0,
              "#0d0887"
             ],
             [
              0.1111111111111111,
              "#46039f"
             ],
             [
              0.2222222222222222,
              "#7201a8"
             ],
             [
              0.3333333333333333,
              "#9c179e"
             ],
             [
              0.4444444444444444,
              "#bd3786"
             ],
             [
              0.5555555555555556,
              "#d8576b"
             ],
             [
              0.6666666666666666,
              "#ed7953"
             ],
             [
              0.7777777777777778,
              "#fb9f3a"
             ],
             [
              0.8888888888888888,
              "#fdca26"
             ],
             [
              1,
              "#f0f921"
             ]
            ],
            "type": "heatmap"
           }
          ],
          "histogram": [
           {
            "marker": {
             "pattern": {
              "fillmode": "overlay",
              "size": 10,
              "solidity": 0.2
             }
            },
            "type": "histogram"
           }
          ],
          "histogram2d": [
           {
            "colorbar": {
             "outlinewidth": 0,
             "ticks": ""
            },
            "colorscale": [
             [
              0,
              "#0d0887"
             ],
             [
              0.1111111111111111,
              "#46039f"
             ],
             [
              0.2222222222222222,
              "#7201a8"
             ],
             [
              0.3333333333333333,
              "#9c179e"
             ],
             [
              0.4444444444444444,
              "#bd3786"
             ],
             [
              0.5555555555555556,
              "#d8576b"
             ],
             [
              0.6666666666666666,
              "#ed7953"
             ],
             [
              0.7777777777777778,
              "#fb9f3a"
             ],
             [
              0.8888888888888888,
              "#fdca26"
             ],
             [
              1,
              "#f0f921"
             ]
            ],
            "type": "histogram2d"
           }
          ],
          "histogram2dcontour": [
           {
            "colorbar": {
             "outlinewidth": 0,
             "ticks": ""
            },
            "colorscale": [
             [
              0,
              "#0d0887"
             ],
             [
              0.1111111111111111,
              "#46039f"
             ],
             [
              0.2222222222222222,
              "#7201a8"
             ],
             [
              0.3333333333333333,
              "#9c179e"
             ],
             [
              0.4444444444444444,
              "#bd3786"
             ],
             [
              0.5555555555555556,
              "#d8576b"
             ],
             [
              0.6666666666666666,
              "#ed7953"
             ],
             [
              0.7777777777777778,
              "#fb9f3a"
             ],
             [
              0.8888888888888888,
              "#fdca26"
             ],
             [
              1,
              "#f0f921"
             ]
            ],
            "type": "histogram2dcontour"
           }
          ],
          "mesh3d": [
           {
            "colorbar": {
             "outlinewidth": 0,
             "ticks": ""
            },
            "type": "mesh3d"
           }
          ],
          "parcoords": [
           {
            "line": {
             "colorbar": {
              "outlinewidth": 0,
              "ticks": ""
             }
            },
            "type": "parcoords"
           }
          ],
          "pie": [
           {
            "automargin": true,
            "type": "pie"
           }
          ],
          "scatter": [
           {
            "fillpattern": {
             "fillmode": "overlay",
             "size": 10,
             "solidity": 0.2
            },
            "type": "scatter"
           }
          ],
          "scatter3d": [
           {
            "line": {
             "colorbar": {
              "outlinewidth": 0,
              "ticks": ""
             }
            },
            "marker": {
             "colorbar": {
              "outlinewidth": 0,
              "ticks": ""
             }
            },
            "type": "scatter3d"
           }
          ],
          "scattercarpet": [
           {
            "marker": {
             "colorbar": {
              "outlinewidth": 0,
              "ticks": ""
             }
            },
            "type": "scattercarpet"
           }
          ],
          "scattergeo": [
           {
            "marker": {
             "colorbar": {
              "outlinewidth": 0,
              "ticks": ""
             }
            },
            "type": "scattergeo"
           }
          ],
          "scattergl": [
           {
            "marker": {
             "colorbar": {
              "outlinewidth": 0,
              "ticks": ""
             }
            },
            "type": "scattergl"
           }
          ],
          "scattermap": [
           {
            "marker": {
             "colorbar": {
              "outlinewidth": 0,
              "ticks": ""
             }
            },
            "type": "scattermap"
           }
          ],
          "scattermapbox": [
           {
            "marker": {
             "colorbar": {
              "outlinewidth": 0,
              "ticks": ""
             }
            },
            "type": "scattermapbox"
           }
          ],
          "scatterpolar": [
           {
            "marker": {
             "colorbar": {
              "outlinewidth": 0,
              "ticks": ""
             }
            },
            "type": "scatterpolar"
           }
          ],
          "scatterpolargl": [
           {
            "marker": {
             "colorbar": {
              "outlinewidth": 0,
              "ticks": ""
             }
            },
            "type": "scatterpolargl"
           }
          ],
          "scatterternary": [
           {
            "marker": {
             "colorbar": {
              "outlinewidth": 0,
              "ticks": ""
             }
            },
            "type": "scatterternary"
           }
          ],
          "surface": [
           {
            "colorbar": {
             "outlinewidth": 0,
             "ticks": ""
            },
            "colorscale": [
             [
              0,
              "#0d0887"
             ],
             [
              0.1111111111111111,
              "#46039f"
             ],
             [
              0.2222222222222222,
              "#7201a8"
             ],
             [
              0.3333333333333333,
              "#9c179e"
             ],
             [
              0.4444444444444444,
              "#bd3786"
             ],
             [
              0.5555555555555556,
              "#d8576b"
             ],
             [
              0.6666666666666666,
              "#ed7953"
             ],
             [
              0.7777777777777778,
              "#fb9f3a"
             ],
             [
              0.8888888888888888,
              "#fdca26"
             ],
             [
              1,
              "#f0f921"
             ]
            ],
            "type": "surface"
           }
          ],
          "table": [
           {
            "cells": {
             "fill": {
              "color": "#EBF0F8"
             },
             "line": {
              "color": "white"
             }
            },
            "header": {
             "fill": {
              "color": "#C8D4E3"
             },
             "line": {
              "color": "white"
             }
            },
            "type": "table"
           }
          ]
         },
         "layout": {
          "annotationdefaults": {
           "arrowcolor": "#2a3f5f",
           "arrowhead": 0,
           "arrowwidth": 1
          },
          "autotypenumbers": "strict",
          "coloraxis": {
           "colorbar": {
            "outlinewidth": 0,
            "ticks": ""
           }
          },
          "colorscale": {
           "diverging": [
            [
             0,
             "#8e0152"
            ],
            [
             0.1,
             "#c51b7d"
            ],
            [
             0.2,
             "#de77ae"
            ],
            [
             0.3,
             "#f1b6da"
            ],
            [
             0.4,
             "#fde0ef"
            ],
            [
             0.5,
             "#f7f7f7"
            ],
            [
             0.6,
             "#e6f5d0"
            ],
            [
             0.7,
             "#b8e186"
            ],
            [
             0.8,
             "#7fbc41"
            ],
            [
             0.9,
             "#4d9221"
            ],
            [
             1,
             "#276419"
            ]
           ],
           "sequential": [
            [
             0,
             "#0d0887"
            ],
            [
             0.1111111111111111,
             "#46039f"
            ],
            [
             0.2222222222222222,
             "#7201a8"
            ],
            [
             0.3333333333333333,
             "#9c179e"
            ],
            [
             0.4444444444444444,
             "#bd3786"
            ],
            [
             0.5555555555555556,
             "#d8576b"
            ],
            [
             0.6666666666666666,
             "#ed7953"
            ],
            [
             0.7777777777777778,
             "#fb9f3a"
            ],
            [
             0.8888888888888888,
             "#fdca26"
            ],
            [
             1,
             "#f0f921"
            ]
           ],
           "sequentialminus": [
            [
             0,
             "#0d0887"
            ],
            [
             0.1111111111111111,
             "#46039f"
            ],
            [
             0.2222222222222222,
             "#7201a8"
            ],
            [
             0.3333333333333333,
             "#9c179e"
            ],
            [
             0.4444444444444444,
             "#bd3786"
            ],
            [
             0.5555555555555556,
             "#d8576b"
            ],
            [
             0.6666666666666666,
             "#ed7953"
            ],
            [
             0.7777777777777778,
             "#fb9f3a"
            ],
            [
             0.8888888888888888,
             "#fdca26"
            ],
            [
             1,
             "#f0f921"
            ]
           ]
          },
          "colorway": [
           "#636efa",
           "#EF553B",
           "#00cc96",
           "#ab63fa",
           "#FFA15A",
           "#19d3f3",
           "#FF6692",
           "#B6E880",
           "#FF97FF",
           "#FECB52"
          ],
          "font": {
           "color": "#2a3f5f"
          },
          "geo": {
           "bgcolor": "white",
           "lakecolor": "white",
           "landcolor": "#E5ECF6",
           "showlakes": true,
           "showland": true,
           "subunitcolor": "white"
          },
          "hoverlabel": {
           "align": "left"
          },
          "hovermode": "closest",
          "mapbox": {
           "style": "light"
          },
          "paper_bgcolor": "white",
          "plot_bgcolor": "#E5ECF6",
          "polar": {
           "angularaxis": {
            "gridcolor": "white",
            "linecolor": "white",
            "ticks": ""
           },
           "bgcolor": "#E5ECF6",
           "radialaxis": {
            "gridcolor": "white",
            "linecolor": "white",
            "ticks": ""
           }
          },
          "scene": {
           "xaxis": {
            "backgroundcolor": "#E5ECF6",
            "gridcolor": "white",
            "gridwidth": 2,
            "linecolor": "white",
            "showbackground": true,
            "ticks": "",
            "zerolinecolor": "white"
           },
           "yaxis": {
            "backgroundcolor": "#E5ECF6",
            "gridcolor": "white",
            "gridwidth": 2,
            "linecolor": "white",
            "showbackground": true,
            "ticks": "",
            "zerolinecolor": "white"
           },
           "zaxis": {
            "backgroundcolor": "#E5ECF6",
            "gridcolor": "white",
            "gridwidth": 2,
            "linecolor": "white",
            "showbackground": true,
            "ticks": "",
            "zerolinecolor": "white"
           }
          },
          "shapedefaults": {
           "line": {
            "color": "#2a3f5f"
           }
          },
          "ternary": {
           "aaxis": {
            "gridcolor": "white",
            "linecolor": "white",
            "ticks": ""
           },
           "baxis": {
            "gridcolor": "white",
            "linecolor": "white",
            "ticks": ""
           },
           "bgcolor": "#E5ECF6",
           "caxis": {
            "gridcolor": "white",
            "linecolor": "white",
            "ticks": ""
           }
          },
          "title": {
           "x": 0.05
          },
          "xaxis": {
           "automargin": true,
           "gridcolor": "white",
           "linecolor": "white",
           "ticks": "",
           "title": {
            "standoff": 15
           },
           "zerolinecolor": "white",
           "zerolinewidth": 2
          },
          "yaxis": {
           "automargin": true,
           "gridcolor": "white",
           "linecolor": "white",
           "ticks": "",
           "title": {
            "standoff": 15
           },
           "zerolinecolor": "white",
           "zerolinewidth": 2
          }
         }
        },
        "title": {
         "text": "Logit From Accumulate Residual Stream"
        },
        "xaxis": {
         "anchor": "y",
         "domain": [
          0,
          1
         ],
         "title": {
          "text": "x"
         }
        },
        "yaxis": {
         "anchor": "x",
         "domain": [
          0,
          1
         ],
         "title": {
          "text": "y"
         }
        }
       }
      },
      "image/png": "[encoded data removed]"
     },
     "metadata": {},
     "output_type": "display_data"
    }
   ],
   "source": [
    "accumulated_residual, labels = clean_cache.accumulated_resid(\n",
    "    layer=-1, incl_mid=True, pos_slice=-1, return_labels=True\n",
    ")\n",
    "logit_lens_logit_diffs = residual_stack_to_logit_diff(accumulated_residual, clean_cache)\n",
    "line(\n",
    "    logit_lens_logit_diffs,\n",
    "    x=np.arange(model.cfg.n_layers * 2 + 1) / 2,\n",
    "    hover_name=labels,\n",
    "    title=\"Logit From Accumulate Residual Stream\",\n",
    ")"
   ]
  },
  {
   "cell_type": "code",
   "execution_count": 20,
   "metadata": {},
   "outputs": [
    {
     "data": {
      "application/vnd.plotly.v1+json": {
       "config": {
        "plotlyServerURL": "https://plot.ly"
       },
       "data": [
        {
         "hovertemplate": "<b>%{hovertext}</b><br><br>x=%{x}<br>y=%{y}<extra></extra>",
         "hovertext": [
          "embed",
          "0_attn_out",
          "0_mlp_out",
          "1_attn_out",
          "1_mlp_out",
          "2_attn_out",
          "2_mlp_out",
          "3_attn_out",
          "3_mlp_out",
          "4_attn_out",
          "4_mlp_out",
          "5_attn_out",
          "5_mlp_out",
          "6_attn_out",
          "6_mlp_out",
          "7_attn_out",
          "7_mlp_out",
          "8_attn_out",
          "8_mlp_out",
          "9_attn_out",
          "9_mlp_out",
          "10_attn_out",
          "10_mlp_out",
          "11_attn_out",
          "11_mlp_out",
          "12_attn_out",
          "12_mlp_out",
          "13_attn_out",
          "13_mlp_out",
          "14_attn_out",
          "14_mlp_out",
          "15_attn_out",
          "15_mlp_out",
          "16_attn_out",
          "16_mlp_out",
          "17_attn_out",
          "17_mlp_out",
          "18_attn_out",
          "18_mlp_out",
          "19_attn_out",
          "19_mlp_out",
          "20_attn_out",
          "20_mlp_out",
          "21_attn_out",
          "21_mlp_out",
          "22_attn_out",
          "22_mlp_out",
          "23_attn_out",
          "23_mlp_out",
          "24_attn_out",
          "24_mlp_out",
          "25_attn_out",
          "25_mlp_out",
          "26_attn_out",
          "26_mlp_out",
          "27_attn_out",
          "27_mlp_out"
         ],
         "legendgroup": "",
         "line": {
          "color": "#636efa",
          "dash": "solid"
         },
         "marker": {
          "symbol": "circle"
         },
         "mode": "lines",
         "name": "",
         "orientation": "v",
         "showlegend": false,
         "type": "scatter",
         "x": {
          "bdata": "AAECAwQFBgcICQoLDA0ODxAREhMUFRYXGBkaGxwdHh8gISIjJCUmJygpKissLS4vMDEyMzQ1Njc4",
          "dtype": "i1"
         },
         "xaxis": "x",
         "y": {
          "bdata": "pMYKu+jaDTtvNkW7Z8yBObBbPTsc6U87mS6suhmJmDuuBwK7WxPCuk72LLqq0pM7aiHKu1F3O7uUmyU7SIgVPAQ8i7sUyaI7uMYbOtK7yDtl/Zi6LvkxO/Ds7zp4s6c58MYTu5yspLs0iAG9gEU6PAvebrtMzwY9Vux1OygdFj385Rk7dp8xvFx3Kj3xy8c9ubCmPdDE+j1wnBI+0SnAvTj3Tj4ufVw/PH8bPygl7Ty3ers+aBWNPih70T8cos88+vZIQNndAD7EsIs+b4WvPsA5Vb+yoUY+ZETiv/F9WD1Jr5w/",
          "dtype": "f4"
         },
         "yaxis": "y"
        }
       ],
       "layout": {
        "legend": {
         "tracegroupgap": 0
        },
        "template": {
         "data": {
          "bar": [
           {
            "error_x": {
             "color": "#2a3f5f"
            },
            "error_y": {
             "color": "#2a3f5f"
            },
            "marker": {
             "line": {
              "color": "#E5ECF6",
              "width": 0.5
             },
             "pattern": {
              "fillmode": "overlay",
              "size": 10,
              "solidity": 0.2
             }
            },
            "type": "bar"
           }
          ],
          "barpolar": [
           {
            "marker": {
             "line": {
              "color": "#E5ECF6",
              "width": 0.5
             },
             "pattern": {
              "fillmode": "overlay",
              "size": 10,
              "solidity": 0.2
             }
            },
            "type": "barpolar"
           }
          ],
          "carpet": [
           {
            "aaxis": {
             "endlinecolor": "#2a3f5f",
             "gridcolor": "white",
             "linecolor": "white",
             "minorgridcolor": "white",
             "startlinecolor": "#2a3f5f"
            },
            "baxis": {
             "endlinecolor": "#2a3f5f",
             "gridcolor": "white",
             "linecolor": "white",
             "minorgridcolor": "white",
             "startlinecolor": "#2a3f5f"
            },
            "type": "carpet"
           }
          ],
          "choropleth": [
           {
            "colorbar": {
             "outlinewidth": 0,
             "ticks": ""
            },
            "type": "choropleth"
           }
          ],
          "contour": [
           {
            "colorbar": {
             "outlinewidth": 0,
             "ticks": ""
            },
            "colorscale": [
             [
              0,
              "#0d0887"
             ],
             [
              0.1111111111111111,
              "#46039f"
             ],
             [
              0.2222222222222222,
              "#7201a8"
             ],
             [
              0.3333333333333333,
              "#9c179e"
             ],
             [
              0.4444444444444444,
              "#bd3786"
             ],
             [
              0.5555555555555556,
              "#d8576b"
             ],
             [
              0.6666666666666666,
              "#ed7953"
             ],
             [
              0.7777777777777778,
              "#fb9f3a"
             ],
             [
              0.8888888888888888,
              "#fdca26"
             ],
             [
              1,
              "#f0f921"
             ]
            ],
            "type": "contour"
           }
          ],
          "contourcarpet": [
           {
            "colorbar": {
             "outlinewidth": 0,
             "ticks": ""
            },
            "type": "contourcarpet"
           }
          ],
          "heatmap": [
           {
            "colorbar": {
             "outlinewidth": 0,
             "ticks": ""
            },
            "colorscale": [
             [
              0,
              "#0d0887"
             ],
             [
              0.1111111111111111,
              "#46039f"
             ],
             [
              0.2222222222222222,
              "#7201a8"
             ],
             [
              0.3333333333333333,
              "#9c179e"
             ],
             [
              0.4444444444444444,
              "#bd3786"
             ],
             [
              0.5555555555555556,
              "#d8576b"
             ],
             [
              0.6666666666666666,
              "#ed7953"
             ],
             [
              0.7777777777777778,
              "#fb9f3a"
             ],
             [
              0.8888888888888888,
              "#fdca26"
             ],
             [
              1,
              "#f0f921"
             ]
            ],
            "type": "heatmap"
           }
          ],
          "histogram": [
           {
            "marker": {
             "pattern": {
              "fillmode": "overlay",
              "size": 10,
              "solidity": 0.2
             }
            },
            "type": "histogram"
           }
          ],
          "histogram2d": [
           {
            "colorbar": {
             "outlinewidth": 0,
             "ticks": ""
            },
            "colorscale": [
             [
              0,
              "#0d0887"
             ],
             [
              0.1111111111111111,
              "#46039f"
             ],
             [
              0.2222222222222222,
              "#7201a8"
             ],
             [
              0.3333333333333333,
              "#9c179e"
             ],
             [
              0.4444444444444444,
              "#bd3786"
             ],
             [
              0.5555555555555556,
              "#d8576b"
             ],
             [
              0.6666666666666666,
              "#ed7953"
             ],
             [
              0.7777777777777778,
              "#fb9f3a"
             ],
             [
              0.8888888888888888,
              "#fdca26"
             ],
             [
              1,
              "#f0f921"
             ]
            ],
            "type": "histogram2d"
           }
          ],
          "histogram2dcontour": [
           {
            "colorbar": {
             "outlinewidth": 0,
             "ticks": ""
            },
            "colorscale": [
             [
              0,
              "#0d0887"
             ],
             [
              0.1111111111111111,
              "#46039f"
             ],
             [
              0.2222222222222222,
              "#7201a8"
             ],
             [
              0.3333333333333333,
              "#9c179e"
             ],
             [
              0.4444444444444444,
              "#bd3786"
             ],
             [
              0.5555555555555556,
              "#d8576b"
             ],
             [
              0.6666666666666666,
              "#ed7953"
             ],
             [
              0.7777777777777778,
              "#fb9f3a"
             ],
             [
              0.8888888888888888,
              "#fdca26"
             ],
             [
              1,
              "#f0f921"
             ]
            ],
            "type": "histogram2dcontour"
           }
          ],
          "mesh3d": [
           {
            "colorbar": {
             "outlinewidth": 0,
             "ticks": ""
            },
            "type": "mesh3d"
           }
          ],
          "parcoords": [
           {
            "line": {
             "colorbar": {
              "outlinewidth": 0,
              "ticks": ""
             }
            },
            "type": "parcoords"
           }
          ],
          "pie": [
           {
            "automargin": true,
            "type": "pie"
           }
          ],
          "scatter": [
           {
            "fillpattern": {
             "fillmode": "overlay",
             "size": 10,
             "solidity": 0.2
            },
            "type": "scatter"
           }
          ],
          "scatter3d": [
           {
            "line": {
             "colorbar": {
              "outlinewidth": 0,
              "ticks": ""
             }
            },
            "marker": {
             "colorbar": {
              "outlinewidth": 0,
              "ticks": ""
             }
            },
            "type": "scatter3d"
           }
          ],
          "scattercarpet": [
           {
            "marker": {
             "colorbar": {
              "outlinewidth": 0,
              "ticks": ""
             }
            },
            "type": "scattercarpet"
           }
          ],
          "scattergeo": [
           {
            "marker": {
             "colorbar": {
              "outlinewidth": 0,
              "ticks": ""
             }
            },
            "type": "scattergeo"
           }
          ],
          "scattergl": [
           {
            "marker": {
             "colorbar": {
              "outlinewidth": 0,
              "ticks": ""
             }
            },
            "type": "scattergl"
           }
          ],
          "scattermap": [
           {
            "marker": {
             "colorbar": {
              "outlinewidth": 0,
              "ticks": ""
             }
            },
            "type": "scattermap"
           }
          ],
          "scattermapbox": [
           {
            "marker": {
             "colorbar": {
              "outlinewidth": 0,
              "ticks": ""
             }
            },
            "type": "scattermapbox"
           }
          ],
          "scatterpolar": [
           {
            "marker": {
             "colorbar": {
              "outlinewidth": 0,
              "ticks": ""
             }
            },
            "type": "scatterpolar"
           }
          ],
          "scatterpolargl": [
           {
            "marker": {
             "colorbar": {
              "outlinewidth": 0,
              "ticks": ""
             }
            },
            "type": "scatterpolargl"
           }
          ],
          "scatterternary": [
           {
            "marker": {
             "colorbar": {
              "outlinewidth": 0,
              "ticks": ""
             }
            },
            "type": "scatterternary"
           }
          ],
          "surface": [
           {
            "colorbar": {
             "outlinewidth": 0,
             "ticks": ""
            },
            "colorscale": [
             [
              0,
              "#0d0887"
             ],
             [
              0.1111111111111111,
              "#46039f"
             ],
             [
              0.2222222222222222,
              "#7201a8"
             ],
             [
              0.3333333333333333,
              "#9c179e"
             ],
             [
              0.4444444444444444,
              "#bd3786"
             ],
             [
              0.5555555555555556,
              "#d8576b"
             ],
             [
              0.6666666666666666,
              "#ed7953"
             ],
             [
              0.7777777777777778,
              "#fb9f3a"
             ],
             [
              0.8888888888888888,
              "#fdca26"
             ],
             [
              1,
              "#f0f921"
             ]
            ],
            "type": "surface"
           }
          ],
          "table": [
           {
            "cells": {
             "fill": {
              "color": "#EBF0F8"
             },
             "line": {
              "color": "white"
             }
            },
            "header": {
             "fill": {
              "color": "#C8D4E3"
             },
             "line": {
              "color": "white"
             }
            },
            "type": "table"
           }
          ]
         },
         "layout": {
          "annotationdefaults": {
           "arrowcolor": "#2a3f5f",
           "arrowhead": 0,
           "arrowwidth": 1
          },
          "autotypenumbers": "strict",
          "coloraxis": {
           "colorbar": {
            "outlinewidth": 0,
            "ticks": ""
           }
          },
          "colorscale": {
           "diverging": [
            [
             0,
             "#8e0152"
            ],
            [
             0.1,
             "#c51b7d"
            ],
            [
             0.2,
             "#de77ae"
            ],
            [
             0.3,
             "#f1b6da"
            ],
            [
             0.4,
             "#fde0ef"
            ],
            [
             0.5,
             "#f7f7f7"
            ],
            [
             0.6,
             "#e6f5d0"
            ],
            [
             0.7,
             "#b8e186"
            ],
            [
             0.8,
             "#7fbc41"
            ],
            [
             0.9,
             "#4d9221"
            ],
            [
             1,
             "#276419"
            ]
           ],
           "sequential": [
            [
             0,
             "#0d0887"
            ],
            [
             0.1111111111111111,
             "#46039f"
            ],
            [
             0.2222222222222222,
             "#7201a8"
            ],
            [
             0.3333333333333333,
             "#9c179e"
            ],
            [
             0.4444444444444444,
             "#bd3786"
            ],
            [
             0.5555555555555556,
             "#d8576b"
            ],
            [
             0.6666666666666666,
             "#ed7953"
            ],
            [
             0.7777777777777778,
             "#fb9f3a"
            ],
            [
             0.8888888888888888,
             "#fdca26"
            ],
            [
             1,
             "#f0f921"
            ]
           ],
           "sequentialminus": [
            [
             0,
             "#0d0887"
            ],
            [
             0.1111111111111111,
             "#46039f"
            ],
            [
             0.2222222222222222,
             "#7201a8"
            ],
            [
             0.3333333333333333,
             "#9c179e"
            ],
            [
             0.4444444444444444,
             "#bd3786"
            ],
            [
             0.5555555555555556,
             "#d8576b"
            ],
            [
             0.6666666666666666,
             "#ed7953"
            ],
            [
             0.7777777777777778,
             "#fb9f3a"
            ],
            [
             0.8888888888888888,
             "#fdca26"
            ],
            [
             1,
             "#f0f921"
            ]
           ]
          },
          "colorway": [
           "#636efa",
           "#EF553B",
           "#00cc96",
           "#ab63fa",
           "#FFA15A",
           "#19d3f3",
           "#FF6692",
           "#B6E880",
           "#FF97FF",
           "#FECB52"
          ],
          "font": {
           "color": "#2a3f5f"
          },
          "geo": {
           "bgcolor": "white",
           "lakecolor": "white",
           "landcolor": "#E5ECF6",
           "showlakes": true,
           "showland": true,
           "subunitcolor": "white"
          },
          "hoverlabel": {
           "align": "left"
          },
          "hovermode": "closest",
          "mapbox": {
           "style": "light"
          },
          "paper_bgcolor": "white",
          "plot_bgcolor": "#E5ECF6",
          "polar": {
           "angularaxis": {
            "gridcolor": "white",
            "linecolor": "white",
            "ticks": ""
           },
           "bgcolor": "#E5ECF6",
           "radialaxis": {
            "gridcolor": "white",
            "linecolor": "white",
            "ticks": ""
           }
          },
          "scene": {
           "xaxis": {
            "backgroundcolor": "#E5ECF6",
            "gridcolor": "white",
            "gridwidth": 2,
            "linecolor": "white",
            "showbackground": true,
            "ticks": "",
            "zerolinecolor": "white"
           },
           "yaxis": {
            "backgroundcolor": "#E5ECF6",
            "gridcolor": "white",
            "gridwidth": 2,
            "linecolor": "white",
            "showbackground": true,
            "ticks": "",
            "zerolinecolor": "white"
           },
           "zaxis": {
            "backgroundcolor": "#E5ECF6",
            "gridcolor": "white",
            "gridwidth": 2,
            "linecolor": "white",
            "showbackground": true,
            "ticks": "",
            "zerolinecolor": "white"
           }
          },
          "shapedefaults": {
           "line": {
            "color": "#2a3f5f"
           }
          },
          "ternary": {
           "aaxis": {
            "gridcolor": "white",
            "linecolor": "white",
            "ticks": ""
           },
           "baxis": {
            "gridcolor": "white",
            "linecolor": "white",
            "ticks": ""
           },
           "bgcolor": "#E5ECF6",
           "caxis": {
            "gridcolor": "white",
            "linecolor": "white",
            "ticks": ""
           }
          },
          "title": {
           "x": 0.05
          },
          "xaxis": {
           "automargin": true,
           "gridcolor": "white",
           "linecolor": "white",
           "ticks": "",
           "title": {
            "standoff": 15
           },
           "zerolinecolor": "white",
           "zerolinewidth": 2
          },
          "yaxis": {
           "automargin": true,
           "gridcolor": "white",
           "linecolor": "white",
           "ticks": "",
           "title": {
            "standoff": 15
           },
           "zerolinecolor": "white",
           "zerolinewidth": 2
          }
         }
        },
        "title": {
         "text": "Logit Difference From Each Layer"
        },
        "xaxis": {
         "anchor": "y",
         "domain": [
          0,
          1
         ],
         "title": {
          "text": "x"
         }
        },
        "yaxis": {
         "anchor": "x",
         "domain": [
          0,
          1
         ],
         "title": {
          "text": "y"
         }
        }
       }
      },
      "image/png": "[encoded data removed]"
     },
     "metadata": {},
     "output_type": "display_data"
    }
   ],
   "source": [
    "per_layer_residual, labels = clean_cache.decompose_resid(\n",
    "    layer=-1, pos_slice=-1, return_labels=True\n",
    ")\n",
    "per_layer_logit_diffs = residual_stack_to_logit_diff(per_layer_residual, clean_cache)\n",
    "line(per_layer_logit_diffs, hover_name=labels, title=\"Logit Difference From Each Layer\")"
   ]
  },
  {
   "cell_type": "code",
   "execution_count": 21,
   "metadata": {},
   "outputs": [
    {
     "name": "stdout",
     "output_type": "stream",
     "text": [
      "Tried to stack head results when they weren't cached. Computing head results now\n"
     ]
    },
    {
     "data": {
      "application/vnd.plotly.v1+json": {
       "config": {
        "plotlyServerURL": "https://plot.ly"
       },
       "data": [
        {
         "coloraxis": "coloraxis",
         "hovertemplate": "Head: %{x}<br>Layer: %{y}<br>color: %{z}<extra></extra>",
         "name": "0",
         "type": "heatmap",
         "xaxis": "x",
         "yaxis": "y",
         "z": {
          "bdata": "TX+CuZu/BTmQRw85UEi0uImF6Lk2IIA6xiPbuewxjzgAkJK3Cwb1uWLgDzqkiO05epNPOoRUQLgWG9w5rtTFOTahLLmIAgs69ksCOmTNJbvMraS6F/OKuVS9Abl8NpY4sIOfONYAuLn0LOI5bbcfOgK+jbmbo4Q6GoaBOr+RgTrMQyG5CmSWueH1cLoBBDQ6MmzfuOTbvjnl7BI67ECeOr26SLnwbh46jhzfuToH2TkFFwM7IOUXOYyqkDpCPfC6OVcGOoTtmrk8AYc5x9WAO9zT7LkelfY4ZFKuuM97sroAyjk25Dr6OQqPJziHU8457yPJOZjz4DcqPeY5pgOBOW9dj7pI+6Y4ioH+OCKQeLlYCmS7RBa2OADiqblGa+86DtaxOtFKKLkxSWE5eAd7OfFEEjn6Mia6vCXwOGQxjjnnmyo6PB7IOtBTCzlswjK37oCAuRajuToiDUS6mEuuOPAmKzi3WXu6LsqkOMUoajonykc6GYFXu7ciezuwe7Y5+IJBOxKDertMm3Q5Ien/uaVMuboqZZC6rl83uqynTbs0BwE7Vl22Oaq9u7jz+qU5UKf1OeIhODrwEBE6K5WqOcCQTzpQUUW51s6luozEfzqQtb66Z18kO9TMuzpwfZc6ZJaOOkV0/jm6oVk7VPRZOl+UAjvKfmK73PnUOTvY+jlcgIs4yB0WuqxKrzlQ+Y46N98COgpswDoR1K85kOauOpLCVDuhOkO6RCZJu7IJsTr16AG6gyc0ujhc/DmG7ag5kPUaOKL9YrkcgZi6XyaRO7wPJbjw9Sc6eKJBOuV9JjpKxNY6pq9Ru7vagbozIrq5wq7pOzHJvrtIbgW7AjyXOzq0HTpEiLc6WJFeu2/OVjsOOWA6uMFROIAoIzg4JXI58ZqDu2ai/zqIwFA60n80u6A567j2u6Y7XO0IOmAX7bqsXLG7Y1pfO0rKnruXk8W5F4Z3u6gHDzv8ZAK6JHUuOhAfg7sotSg7rrSlOmX9Srp0L3w76Jl/OjGTLLu7A/07OgWYOrDL7TksJe+6InItO+2JKjuc22E77EzXOvftdbvRPMS6OXjEugzpA7mkk3k7vE2Mu7qmxzkxAoC6vt/qu3G3jDri7QW6mV5JO27f/rk4TCs7PCNfOS5Slzv4cUW7Vy6tu8YFN7v0YM471RNeO7ea7LphKqw7uJyKOapSxroAx4g6IAyDuxLQhLnDmuU6AFL1t7jNCT3MYkq5uzNXOrJqzTsy9re7ZJ/wuiAcvrrN6MO7GQ2YO3s+QzoWxFw7TN6fOlDHGzhSyW27IcNjPIoeEzxo62s6OORhOkaluTqpMAI88D/OOLBmt7kZBdq6FSkaO7tpBDvaLoS5h6s1O3zbujpw/lQ5vvxYu/uDljmOUqs7pHWOuik3xbq8cQo7tmzJPFjay7xctDg5Mm4GOu5RCLzYJ1G71+ituhwX67pBAj88MncZPPaD8j1R+5G9YS+GO4iLr7wgE986jWyUO4eVvjtBpX67XptwO5GnHLwwgjg9fOGtvIQo6zyMQgS8QHd0uxYFx7vkYry8PLkKvO1EczowWqu4hHAEvWSzEz3exwQ8ktNnOyEMADtA4QE78BqRPLxYqz1kEYq6BqMwPTIbs7vIMss6TObDvPRVt7quVZG7Z6RTu71dWz3oClO90+sPPG6e1jtfwrC79DDzO4fDPr1oKTo8hcqgvMrhr7y5k9k86hqjuvlB2LtcFTi87JPnO4TfKTz/NYQ85NBbupTzlrtuh5q8Iz3YO/1FPDqiBhY9TWJNPzj4Mrv4oFs6rgEsvGDfWzl9d5g9/gisvNsUnzy7n8m7ZaKEO6DELDud47M7Fvo5u1qlzbwOv9S7SvrdulDFOjqAsXc5V7qOu1Asw7tMvta68XEUvNoy6bvOrqo9lP2mOsGx7zxtJgS8SS1JvUxK2T2vsUk8ZLdIvDE377sYyVU8AKqvvJayGz5srDY7FEzZOYNv2jsNlsg8nrIVvJsrhj3UKHc+fcwyvso8BbzoU/O7hDA6vBjPa708s9e7kF9pvEN28bzYpRo7KxqMu2yLXLxsW4Q9H/yavFbg07qFfku70sF6PbBZyDuALQ46qHcsukyBmrri1Zg86Me7ufCe5LumwWQ8gMI4PKTYZzojtdK8vpKmO7w28rpOoOe9rFJ6PGpjLLwM0w664AmwPbPzET5YL7s7ukC1uwBQr7Xys5A+Ngd9vADSt7xI24k/Iy0KvxQzsjxA1ee82LEDvac7xDwRdDu9zZWuvWcrADtXzKO9K5EOvcz207z3lmO9kbKtvDjsbDyINGY7eNGhuz5BgrxQAhE8RURevDxqNDyAHlI6BI41vfVmKT6+4He9CvfvPHvqcrzpizI7Wnfgu2DqFLkeyqm+jxCoPg==",
          "dtype": "f4",
          "shape": "28, 16"
         }
        }
       ],
       "layout": {
        "coloraxis": {
         "cmid": 0,
         "colorscale": [
          [
           0,
           "rgb(103,0,31)"
          ],
          [
           0.1,
           "rgb(178,24,43)"
          ],
          [
           0.2,
           "rgb(214,96,77)"
          ],
          [
           0.3,
           "rgb(244,165,130)"
          ],
          [
           0.4,
           "rgb(253,219,199)"
          ],
          [
           0.5,
           "rgb(247,247,247)"
          ],
          [
           0.6,
           "rgb(209,229,240)"
          ],
          [
           0.7,
           "rgb(146,197,222)"
          ],
          [
           0.8,
           "rgb(67,147,195)"
          ],
          [
           0.9,
           "rgb(33,102,172)"
          ],
          [
           1,
           "rgb(5,48,97)"
          ]
         ]
        },
        "template": {
         "data": {
          "bar": [
           {
            "error_x": {
             "color": "#2a3f5f"
            },
            "error_y": {
             "color": "#2a3f5f"
            },
            "marker": {
             "line": {
              "color": "#E5ECF6",
              "width": 0.5
             },
             "pattern": {
              "fillmode": "overlay",
              "size": 10,
              "solidity": 0.2
             }
            },
            "type": "bar"
           }
          ],
          "barpolar": [
           {
            "marker": {
             "line": {
              "color": "#E5ECF6",
              "width": 0.5
             },
             "pattern": {
              "fillmode": "overlay",
              "size": 10,
              "solidity": 0.2
             }
            },
            "type": "barpolar"
           }
          ],
          "carpet": [
           {
            "aaxis": {
             "endlinecolor": "#2a3f5f",
             "gridcolor": "white",
             "linecolor": "white",
             "minorgridcolor": "white",
             "startlinecolor": "#2a3f5f"
            },
            "baxis": {
             "endlinecolor": "#2a3f5f",
             "gridcolor": "white",
             "linecolor": "white",
             "minorgridcolor": "white",
             "startlinecolor": "#2a3f5f"
            },
            "type": "carpet"
           }
          ],
          "choropleth": [
           {
            "colorbar": {
             "outlinewidth": 0,
             "ticks": ""
            },
            "type": "choropleth"
           }
          ],
          "contour": [
           {
            "colorbar": {
             "outlinewidth": 0,
             "ticks": ""
            },
            "colorscale": [
             [
              0,
              "#0d0887"
             ],
             [
              0.1111111111111111,
              "#46039f"
             ],
             [
              0.2222222222222222,
              "#7201a8"
             ],
             [
              0.3333333333333333,
              "#9c179e"
             ],
             [
              0.4444444444444444,
              "#bd3786"
             ],
             [
              0.5555555555555556,
              "#d8576b"
             ],
             [
              0.6666666666666666,
              "#ed7953"
             ],
             [
              0.7777777777777778,
              "#fb9f3a"
             ],
             [
              0.8888888888888888,
              "#fdca26"
             ],
             [
              1,
              "#f0f921"
             ]
            ],
            "type": "contour"
           }
          ],
          "contourcarpet": [
           {
            "colorbar": {
             "outlinewidth": 0,
             "ticks": ""
            },
            "type": "contourcarpet"
           }
          ],
          "heatmap": [
           {
            "colorbar": {
             "outlinewidth": 0,
             "ticks": ""
            },
            "colorscale": [
             [
              0,
              "#0d0887"
             ],
             [
              0.1111111111111111,
              "#46039f"
             ],
             [
              0.2222222222222222,
              "#7201a8"
             ],
             [
              0.3333333333333333,
              "#9c179e"
             ],
             [
              0.4444444444444444,
              "#bd3786"
             ],
             [
              0.5555555555555556,
              "#d8576b"
             ],
             [
              0.6666666666666666,
              "#ed7953"
             ],
             [
              0.7777777777777778,
              "#fb9f3a"
             ],
             [
              0.8888888888888888,
              "#fdca26"
             ],
             [
              1,
              "#f0f921"
             ]
            ],
            "type": "heatmap"
           }
          ],
          "histogram": [
           {
            "marker": {
             "pattern": {
              "fillmode": "overlay",
              "size": 10,
              "solidity": 0.2
             }
            },
            "type": "histogram"
           }
          ],
          "histogram2d": [
           {
            "colorbar": {
             "outlinewidth": 0,
             "ticks": ""
            },
            "colorscale": [
             [
              0,
              "#0d0887"
             ],
             [
              0.1111111111111111,
              "#46039f"
             ],
             [
              0.2222222222222222,
              "#7201a8"
             ],
             [
              0.3333333333333333,
              "#9c179e"
             ],
             [
              0.4444444444444444,
              "#bd3786"
             ],
             [
              0.5555555555555556,
              "#d8576b"
             ],
             [
              0.6666666666666666,
              "#ed7953"
             ],
             [
              0.7777777777777778,
              "#fb9f3a"
             ],
             [
              0.8888888888888888,
              "#fdca26"
             ],
             [
              1,
              "#f0f921"
             ]
            ],
            "type": "histogram2d"
           }
          ],
          "histogram2dcontour": [
           {
            "colorbar": {
             "outlinewidth": 0,
             "ticks": ""
            },
            "colorscale": [
             [
              0,
              "#0d0887"
             ],
             [
              0.1111111111111111,
              "#46039f"
             ],
             [
              0.2222222222222222,
              "#7201a8"
             ],
             [
              0.3333333333333333,
              "#9c179e"
             ],
             [
              0.4444444444444444,
              "#bd3786"
             ],
             [
              0.5555555555555556,
              "#d8576b"
             ],
             [
              0.6666666666666666,
              "#ed7953"
             ],
             [
              0.7777777777777778,
              "#fb9f3a"
             ],
             [
              0.8888888888888888,
              "#fdca26"
             ],
             [
              1,
              "#f0f921"
             ]
            ],
            "type": "histogram2dcontour"
           }
          ],
          "mesh3d": [
           {
            "colorbar": {
             "outlinewidth": 0,
             "ticks": ""
            },
            "type": "mesh3d"
           }
          ],
          "parcoords": [
           {
            "line": {
             "colorbar": {
              "outlinewidth": 0,
              "ticks": ""
             }
            },
            "type": "parcoords"
           }
          ],
          "pie": [
           {
            "automargin": true,
            "type": "pie"
           }
          ],
          "scatter": [
           {
            "fillpattern": {
             "fillmode": "overlay",
             "size": 10,
             "solidity": 0.2
            },
            "type": "scatter"
           }
          ],
          "scatter3d": [
           {
            "line": {
             "colorbar": {
              "outlinewidth": 0,
              "ticks": ""
             }
            },
            "marker": {
             "colorbar": {
              "outlinewidth": 0,
              "ticks": ""
             }
            },
            "type": "scatter3d"
           }
          ],
          "scattercarpet": [
           {
            "marker": {
             "colorbar": {
              "outlinewidth": 0,
              "ticks": ""
             }
            },
            "type": "scattercarpet"
           }
          ],
          "scattergeo": [
           {
            "marker": {
             "colorbar": {
              "outlinewidth": 0,
              "ticks": ""
             }
            },
            "type": "scattergeo"
           }
          ],
          "scattergl": [
           {
            "marker": {
             "colorbar": {
              "outlinewidth": 0,
              "ticks": ""
             }
            },
            "type": "scattergl"
           }
          ],
          "scattermap": [
           {
            "marker": {
             "colorbar": {
              "outlinewidth": 0,
              "ticks": ""
             }
            },
            "type": "scattermap"
           }
          ],
          "scattermapbox": [
           {
            "marker": {
             "colorbar": {
              "outlinewidth": 0,
              "ticks": ""
             }
            },
            "type": "scattermapbox"
           }
          ],
          "scatterpolar": [
           {
            "marker": {
             "colorbar": {
              "outlinewidth": 0,
              "ticks": ""
             }
            },
            "type": "scatterpolar"
           }
          ],
          "scatterpolargl": [
           {
            "marker": {
             "colorbar": {
              "outlinewidth": 0,
              "ticks": ""
             }
            },
            "type": "scatterpolargl"
           }
          ],
          "scatterternary": [
           {
            "marker": {
             "colorbar": {
              "outlinewidth": 0,
              "ticks": ""
             }
            },
            "type": "scatterternary"
           }
          ],
          "surface": [
           {
            "colorbar": {
             "outlinewidth": 0,
             "ticks": ""
            },
            "colorscale": [
             [
              0,
              "#0d0887"
             ],
             [
              0.1111111111111111,
              "#46039f"
             ],
             [
              0.2222222222222222,
              "#7201a8"
             ],
             [
              0.3333333333333333,
              "#9c179e"
             ],
             [
              0.4444444444444444,
              "#bd3786"
             ],
             [
              0.5555555555555556,
              "#d8576b"
             ],
             [
              0.6666666666666666,
              "#ed7953"
             ],
             [
              0.7777777777777778,
              "#fb9f3a"
             ],
             [
              0.8888888888888888,
              "#fdca26"
             ],
             [
              1,
              "#f0f921"
             ]
            ],
            "type": "surface"
           }
          ],
          "table": [
           {
            "cells": {
             "fill": {
              "color": "#EBF0F8"
             },
             "line": {
              "color": "white"
             }
            },
            "header": {
             "fill": {
              "color": "#C8D4E3"
             },
             "line": {
              "color": "white"
             }
            },
            "type": "table"
           }
          ]
         },
         "layout": {
          "annotationdefaults": {
           "arrowcolor": "#2a3f5f",
           "arrowhead": 0,
           "arrowwidth": 1
          },
          "autotypenumbers": "strict",
          "coloraxis": {
           "colorbar": {
            "outlinewidth": 0,
            "ticks": ""
           }
          },
          "colorscale": {
           "diverging": [
            [
             0,
             "#8e0152"
            ],
            [
             0.1,
             "#c51b7d"
            ],
            [
             0.2,
             "#de77ae"
            ],
            [
             0.3,
             "#f1b6da"
            ],
            [
             0.4,
             "#fde0ef"
            ],
            [
             0.5,
             "#f7f7f7"
            ],
            [
             0.6,
             "#e6f5d0"
            ],
            [
             0.7,
             "#b8e186"
            ],
            [
             0.8,
             "#7fbc41"
            ],
            [
             0.9,
             "#4d9221"
            ],
            [
             1,
             "#276419"
            ]
           ],
           "sequential": [
            [
             0,
             "#0d0887"
            ],
            [
             0.1111111111111111,
             "#46039f"
            ],
            [
             0.2222222222222222,
             "#7201a8"
            ],
            [
             0.3333333333333333,
             "#9c179e"
            ],
            [
             0.4444444444444444,
             "#bd3786"
            ],
            [
             0.5555555555555556,
             "#d8576b"
            ],
            [
             0.6666666666666666,
             "#ed7953"
            ],
            [
             0.7777777777777778,
             "#fb9f3a"
            ],
            [
             0.8888888888888888,
             "#fdca26"
            ],
            [
             1,
             "#f0f921"
            ]
           ],
           "sequentialminus": [
            [
             0,
             "#0d0887"
            ],
            [
             0.1111111111111111,
             "#46039f"
            ],
            [
             0.2222222222222222,
             "#7201a8"
            ],
            [
             0.3333333333333333,
             "#9c179e"
            ],
            [
             0.4444444444444444,
             "#bd3786"
            ],
            [
             0.5555555555555556,
             "#d8576b"
            ],
            [
             0.6666666666666666,
             "#ed7953"
            ],
            [
             0.7777777777777778,
             "#fb9f3a"
            ],
            [
             0.8888888888888888,
             "#fdca26"
            ],
            [
             1,
             "#f0f921"
            ]
           ]
          },
          "colorway": [
           "#636efa",
           "#EF553B",
           "#00cc96",
           "#ab63fa",
           "#FFA15A",
           "#19d3f3",
           "#FF6692",
           "#B6E880",
           "#FF97FF",
           "#FECB52"
          ],
          "font": {
           "color": "#2a3f5f"
          },
          "geo": {
           "bgcolor": "white",
           "lakecolor": "white",
           "landcolor": "#E5ECF6",
           "showlakes": true,
           "showland": true,
           "subunitcolor": "white"
          },
          "hoverlabel": {
           "align": "left"
          },
          "hovermode": "closest",
          "mapbox": {
           "style": "light"
          },
          "paper_bgcolor": "white",
          "plot_bgcolor": "#E5ECF6",
          "polar": {
           "angularaxis": {
            "gridcolor": "white",
            "linecolor": "white",
            "ticks": ""
           },
           "bgcolor": "#E5ECF6",
           "radialaxis": {
            "gridcolor": "white",
            "linecolor": "white",
            "ticks": ""
           }
          },
          "scene": {
           "xaxis": {
            "backgroundcolor": "#E5ECF6",
            "gridcolor": "white",
            "gridwidth": 2,
            "linecolor": "white",
            "showbackground": true,
            "ticks": "",
            "zerolinecolor": "white"
           },
           "yaxis": {
            "backgroundcolor": "#E5ECF6",
            "gridcolor": "white",
            "gridwidth": 2,
            "linecolor": "white",
            "showbackground": true,
            "ticks": "",
            "zerolinecolor": "white"
           },
           "zaxis": {
            "backgroundcolor": "#E5ECF6",
            "gridcolor": "white",
            "gridwidth": 2,
            "linecolor": "white",
            "showbackground": true,
            "ticks": "",
            "zerolinecolor": "white"
           }
          },
          "shapedefaults": {
           "line": {
            "color": "#2a3f5f"
           }
          },
          "ternary": {
           "aaxis": {
            "gridcolor": "white",
            "linecolor": "white",
            "ticks": ""
           },
           "baxis": {
            "gridcolor": "white",
            "linecolor": "white",
            "ticks": ""
           },
           "bgcolor": "#E5ECF6",
           "caxis": {
            "gridcolor": "white",
            "linecolor": "white",
            "ticks": ""
           }
          },
          "title": {
           "x": 0.05
          },
          "xaxis": {
           "automargin": true,
           "gridcolor": "white",
           "linecolor": "white",
           "ticks": "",
           "title": {
            "standoff": 15
           },
           "zerolinecolor": "white",
           "zerolinewidth": 2
          },
          "yaxis": {
           "automargin": true,
           "gridcolor": "white",
           "linecolor": "white",
           "ticks": "",
           "title": {
            "standoff": 15
           },
           "zerolinecolor": "white",
           "zerolinewidth": 2
          }
         }
        },
        "title": {
         "text": "Logit Difference From Each Head"
        },
        "xaxis": {
         "anchor": "y",
         "domain": [
          0,
          1
         ],
         "title": {
          "text": "Head"
         }
        },
        "yaxis": {
         "anchor": "x",
         "autorange": "reversed",
         "domain": [
          0,
          1
         ],
         "title": {
          "text": "Layer"
         }
        }
       }
      },
      "image/png": "[encoded data removed]"
     },
     "metadata": {},
     "output_type": "display_data"
    }
   ],
   "source": [
    "per_head_residual, labels = clean_cache.stack_head_results(\n",
    "    layer=-1, pos_slice=-1, return_labels=True\n",
    ")\n",
    "per_head_logit_diffs = residual_stack_to_logit_diff(per_head_residual, clean_cache)\n",
    "per_head_logit_diffs = einops.rearrange(\n",
    "    per_head_logit_diffs,\n",
    "    \"(layer head_index) -> layer head_index\",\n",
    "    layer=model.cfg.n_layers,\n",
    "    head_index=model.cfg.n_heads,\n",
    ")\n",
    "imshow(\n",
    "    per_head_logit_diffs,\n",
    "    labels={\"x\": \"Head\", \"y\": \"Layer\"},\n",
    "    title=\"Logit Difference From Each Head\",\n",
    "    aspect='auto'\n",
    ")"
   ]
  },
  {
   "cell_type": "code",
   "execution_count": 22,
   "metadata": {},
   "outputs": [],
   "source": [
    "def visualize_attention_patterns(\n",
    "    heads: Union[List[int], int, Float[torch.Tensor, \"heads\"]],\n",
    "    local_cache: ActivationCache,\n",
    "    local_tokens: torch.Tensor,\n",
    "    title: Optional[str] = \"\",\n",
    "    max_width: Optional[int] = 700,\n",
    ") -> str:\n",
    "    # If a single head is given, convert to a list\n",
    "    if isinstance(heads, int):\n",
    "        heads = [heads]\n",
    "\n",
    "    # Create the plotting data\n",
    "    labels: List[str] = []\n",
    "    patterns: List[Float[torch.Tensor, \"dest_pos src_pos\"]] = []\n",
    "\n",
    "    # Assume we have a single batch item\n",
    "    batch_index = 0\n",
    "\n",
    "    for head in heads:\n",
    "        # Set the label\n",
    "        layer = head // model.cfg.n_heads\n",
    "        head_index = head % model.cfg.n_heads\n",
    "        labels.append(f\"L{layer}H{head_index}\")\n",
    "\n",
    "        # Get the attention patterns for the head\n",
    "        # Attention patterns have shape [batch, head_index, query_pos, key_pos]\n",
    "        patterns.append(local_cache[\"attn\", layer][batch_index, head_index])\n",
    "\n",
    "    # Convert the tokens to strings (for the axis labels)\n",
    "    str_tokens = model.to_str_tokens(local_tokens)\n",
    "\n",
    "    # Combine the patterns into a single tensor\n",
    "    patterns: Float[torch.Tensor, \"head_index dest_pos src_pos\"] = torch.stack(\n",
    "        patterns, dim=0\n",
    "    )\n",
    "\n",
    "    # Circuitsvis Plot (note we get the code version so we can concatenate with the title)\n",
    "    plot = attention_heads(\n",
    "        attention=patterns, tokens=str_tokens, attention_head_names=labels\n",
    "    ).show_code()\n",
    "\n",
    "    # Display the title\n",
    "    title_html = f\"<h2>{title}</h2><br/>\"\n",
    "\n",
    "    # Return the visualisation as raw code\n",
    "    return f\"<div style='max-width: {str(max_width)}px;'>{title_html + plot}</div>\""
   ]
  },
  {
   "cell_type": "code",
   "execution_count": 23,
   "metadata": {},
   "outputs": [
    {
     "data": {
      "text/html": [
       "<div style='max-width: 700px;'><h2>Top 15 Positive Logit Attribution Heads</h2><br/><div id=\"circuits-vis-262d279e-4791\" style=\"margin: 15px 0;\"/>\n",
       "    <script crossorigin type=\"module\">\n",
       "    import { render, AttentionHeads } from \"https://unpkg.com/circuitsvis@1.43.3/dist/cdn/esm.js\";\n",
       "    render(\n",
       "      \"circuits-vis-262d279e-4791\",\n",
       "      AttentionHeads,\n",
       "      {\"attention\": [[[1.0, 0.0, 0.0, 0.0, 0.0, 0.0, 0.0], [0.23332996666431427, 0.7666700482368469, 0.0, 0.0, 0.0, 0.0, 0.0], [0.8833727836608887, 0.05849561095237732, 0.05813152343034744, 0.0, 0.0, 0.0, 0.0], [0.4196450412273407, 0.24119514226913452, 0.2740020155906677, 0.06515778601169586, 0.0, 0.0, 0.0], [0.6426260471343994, 0.06930886209011078, 0.07062707841396332, 0.029244404286146164, 0.18819360435009003, 0.0, 0.0], [0.5833610892295837, 0.10285496711730957, 0.16306254267692566, 0.03180883452296257, 0.038335733115673065, 0.0805768370628357, 0.0], [0.6555541753768921, 0.016393207013607025, 0.01341218315064907, 0.013210253790020943, 0.04284420236945152, 0.11853384971618652, 0.14005215466022491]], [[1.0, 0.0, 0.0, 0.0, 0.0, 0.0, 0.0], [0.4025980830192566, 0.5974019169807434, 0.0, 0.0, 0.0, 0.0, 0.0], [0.9789772033691406, 0.004967845510691404, 0.01605500839650631, 0.0, 0.0, 0.0, 0.0], [0.7765863537788391, 0.06267678737640381, 0.05155213922262192, 0.10918476432561874, 0.0, 0.0, 0.0], [0.5525657534599304, 0.15414546430110931, 0.02214811183512211, 0.10051369667053223, 0.17062698304653168, 0.0, 0.0], [0.7025212645530701, 0.02628248743712902, 0.021492473781108856, 0.02168709598481655, 0.01988333836197853, 0.20813338458538055, 0.0], [0.15369154512882233, 0.020078081637620926, 0.018134165555238724, 0.11646673828363419, 0.020124483853578568, 0.6702978014945984, 0.0012071614619344473]], [[1.0, 0.0, 0.0, 0.0, 0.0, 0.0, 0.0], [0.8203726410865784, 0.17962735891342163, 0.0, 0.0, 0.0, 0.0, 0.0], [0.8093194961547852, 0.011779117397964, 0.1789013296365738, 0.0, 0.0, 0.0, 0.0], [0.6875250339508057, 0.03919168934226036, 0.0790790244936943, 0.19420425593852997, 0.0, 0.0, 0.0], [0.8359454274177551, 0.010841403156518936, 0.015212731435894966, 0.014788511209189892, 0.12321191281080246, 0.0, 0.0], [0.305327832698822, 0.033220041543245316, 0.012118496932089329, 0.020965227857232094, 0.08429109305143356, 0.5440773367881775, 0.0], [0.5126495957374573, 0.004793917760252953, 0.005531387869268656, 0.0035756027791649103, 0.024596670642495155, 0.08932478725910187, 0.3595280945301056]], [[1.0, 0.0, 0.0, 0.0, 0.0, 0.0, 0.0], [0.7451290488243103, 0.2548709511756897, 0.0, 0.0, 0.0, 0.0, 0.0], [0.9416254758834839, 0.00596507778391242, 0.052409373223781586, 0.0, 0.0, 0.0, 0.0], [0.6643509864807129, 0.06009732186794281, 0.1830989271402359, 0.092452771961689, 0.0, 0.0, 0.0], [0.8236678242683411, 0.007209123112261295, 0.027668608352541924, 0.02114162966609001, 0.12031275779008865, 0.0, 0.0], [0.4766848683357239, 0.03073365055024624, 0.36462289094924927, 0.03606408089399338, 0.033134445548057556, 0.05876005440950394, 0.0], [0.7097327709197998, 0.009204046800732613, 0.02765682339668274, 0.021304301917552948, 0.06967328488826752, 0.0656917467713356, 0.09673701971769333]], [[1.0, 0.0, 0.0, 0.0, 0.0, 0.0, 0.0], [0.3639216721057892, 0.6360782980918884, 0.0, 0.0, 0.0, 0.0, 0.0], [0.07439745962619781, 0.0014115707017481327, 0.9241909980773926, 0.0, 0.0, 0.0, 0.0], [0.8606506586074829, 0.007080525159835815, 0.005830538459122181, 0.12643827497959137, 0.0, 0.0, 0.0], [0.58799809217453, 0.007488689385354519, 0.0016805626219138503, 0.04286935180425644, 0.3599632680416107, 0.0, 0.0], [0.6075246334075928, 0.00902014970779419, 0.014877564273774624, 0.05475256219506264, 0.034408703446388245, 0.27941641211509705, 0.0], [0.4354895353317261, 0.0014376965118572116, 0.00044517338392324746, 0.007800501771271229, 0.01636698842048645, 0.052937135100364685, 0.4855230450630188]], [[1.0, 0.0, 0.0, 0.0, 0.0, 0.0, 0.0], [0.884523332118988, 0.11547669768333435, 0.0, 0.0, 0.0, 0.0, 0.0], [0.8277466297149658, 0.015170370228588581, 0.15708297491073608, 0.0, 0.0, 0.0, 0.0], [0.8066110610961914, 0.029762040823698044, 0.0637543797492981, 0.09987258911132812, 0.0, 0.0, 0.0], [0.6724554896354675, 0.036898791790008545, 0.02746843546628952, 0.03848618268966675, 0.22469106316566467, 0.0, 0.0], [0.1569666862487793, 0.01787678524851799, 0.02536199986934662, 0.04511139541864395, 0.19178278744220734, 0.5629004240036011, 0.0], [0.4137471616268158, 0.00990925170481205, 0.007397423963993788, 0.00772419897839427, 0.04791668802499771, 0.1712503284215927, 0.34205493330955505]], [[1.0, 0.0, 0.0, 0.0, 0.0, 0.0, 0.0], [0.6122879385948181, 0.3877120912075043, 0.0, 0.0, 0.0, 0.0, 0.0], [0.9656652212142944, 0.004160973243415356, 0.03017384372651577, 0.0, 0.0, 0.0, 0.0], [0.393071711063385, 0.13526341319084167, 0.20388489961624146, 0.2677799165248871, 0.0, 0.0, 0.0], [0.5598270893096924, 0.023622268810868263, 0.036523930728435516, 0.03593674674630165, 0.34408995509147644, 0.0, 0.0], [0.41465768218040466, 0.022028997540473938, 0.01009484101086855, 0.03723954036831856, 0.21670223772525787, 0.2992766201496124, 0.0], [0.2769120931625366, 0.0072535742074251175, 0.01084908563643694, 0.02874315343797207, 0.07217458635568619, 0.18318530917167664, 0.4208822250366211]], [[1.0, 0.0, 0.0, 0.0, 0.0, 0.0, 0.0], [0.4583015739917755, 0.5416983962059021, 0.0, 0.0, 0.0, 0.0, 0.0], [0.8522007465362549, 0.002103340346366167, 0.14569595456123352, 0.0, 0.0, 0.0, 0.0], [0.7765954732894897, 0.002937860321253538, 0.0019238874083384871, 0.21854279935359955, 0.0, 0.0, 0.0], [0.8231528997421265, 0.006139354780316353, 0.0069885398261249065, 0.016352631151676178, 0.14736659824848175, 0.0, 0.0], [0.31729501485824585, 0.0304043497890234, 0.023869315162301064, 0.08348508179187775, 0.013216137886047363, 0.5317301154136658, 0.0], [0.40167036652565, 0.0019253927748650312, 0.0007690088823437691, 0.060957953333854675, 0.01691284216940403, 0.03042050451040268, 0.487343966960907]], [[1.0, 0.0, 0.0, 0.0, 0.0, 0.0, 0.0], [0.8565356731414795, 0.1434643417596817, 0.0, 0.0, 0.0, 0.0, 0.0], [0.8232787847518921, 0.09042707085609436, 0.08629409968852997, 0.0, 0.0, 0.0, 0.0], [0.8771182298660278, 0.040070805698633194, 0.02011028118431568, 0.06270068138837814, 0.0, 0.0, 0.0], [0.9238905906677246, 0.008695406839251518, 0.005998866632580757, 0.03962217643857002, 0.02179289422929287, 0.0, 0.0], [0.6563451290130615, 0.0032819758635014296, 0.0025978698395192623, 0.03037257306277752, 0.19933974742889404, 0.10806270688772202, 0.0], [0.25174036622047424, 0.002936719451099634, 0.0031995258759707212, 0.013822590932250023, 0.5199984908103943, 0.04965519160032272, 0.15864714980125427]], [[1.0, 0.0, 0.0, 0.0, 0.0, 0.0, 0.0], [0.5167155861854553, 0.4832843840122223, 0.0, 0.0, 0.0, 0.0, 0.0], [0.975576639175415, 0.01237662136554718, 0.012046677991747856, 0.0, 0.0, 0.0, 0.0], [0.8066613674163818, 0.0404028482735157, 0.06405375897884369, 0.08888201415538788, 0.0, 0.0, 0.0], [0.8763337135314941, 0.04146215692162514, 0.013431446626782417, 0.032560210675001144, 0.03621242940425873, 0.0, 0.0], [0.8609259724617004, 0.0198549535125494, 0.0037848439533263445, 0.0083569111302495, 0.03381950035691261, 0.07325784862041473, 0.0], [0.5641060471534729, 0.014430264011025429, 0.002857983810827136, 0.10128047317266464, 0.08918701857328415, 0.19087310135364532, 0.03726516664028168]], [[1.0, 0.0, 0.0, 0.0, 0.0, 0.0, 0.0], [0.9398860335350037, 0.06011393666267395, 0.0, 0.0, 0.0, 0.0, 0.0], [0.9335159659385681, 0.027870142832398415, 0.0386139377951622, 0.0, 0.0, 0.0, 0.0], [0.6945428848266602, 0.008108127862215042, 0.0024628706742078066, 0.29488614201545715, 0.0, 0.0, 0.0], [0.7692315578460693, 0.014630465768277645, 0.021630212664604187, 0.044284459203481674, 0.1502232849597931, 0.0, 0.0], [0.45282474160194397, 0.05349789559841156, 0.0681115910410881, 0.14330624043941498, 0.06185031309723854, 0.22040919959545135, 0.0], [0.6364157795906067, 0.004106395877897739, 0.004377240780740976, 0.03755506873130798, 0.0356762558221817, 0.029591552913188934, 0.2522777318954468]], [[1.0, 0.0, 0.0, 0.0, 0.0, 0.0, 0.0], [0.8453254103660583, 0.15467460453510284, 0.0, 0.0, 0.0, 0.0, 0.0], [0.9171610474586487, 0.003214819123968482, 0.07962404936552048, 0.0, 0.0, 0.0, 0.0], [0.5555295348167419, 0.03333859145641327, 0.06207554042339325, 0.3490563631057739, 0.0, 0.0, 0.0], [0.45186319947242737, 0.013937141746282578, 0.01599039137363434, 0.051065266132354736, 0.4671439826488495, 0.0, 0.0], [0.896948516368866, 0.005715322680771351, 0.0021024125162512064, 0.015163304284214973, 0.015964632853865623, 0.06410574913024902, 0.0], [0.4286280870437622, 0.01626630313694477, 0.0012573730200529099, 0.01993507146835327, 0.050640929490327835, 0.3671824336051941, 0.11608988791704178]], [[1.0, 0.0, 0.0, 0.0, 0.0, 0.0, 0.0], [0.924497127532959, 0.07550280541181564, 0.0, 0.0, 0.0, 0.0, 0.0], [0.9815164804458618, 0.0018018294358626008, 0.016681743785738945, 0.0, 0.0, 0.0, 0.0], [0.7125523090362549, 0.011473637074232101, 0.08135359734296799, 0.19462046027183533, 0.0, 0.0, 0.0], [0.4376178979873657, 0.003115162020549178, 0.027725394815206528, 0.06714394688606262, 0.4643975496292114, 0.0, 0.0], [0.5901089906692505, 0.007250404916703701, 0.035458408296108246, 0.03625759109854698, 0.30399829149246216, 0.02692624367773533, 0.0], [0.3624309003353119, 0.001058037276379764, 0.003541165729984641, 0.18701805174350739, 0.3229891061782837, 0.04404018446803093, 0.0789225846529007]], [[1.0, 0.0, 0.0, 0.0, 0.0, 0.0, 0.0], [0.5255647897720337, 0.4744352400302887, 0.0, 0.0, 0.0, 0.0, 0.0], [0.4379196763038635, 0.08814795315265656, 0.47393232583999634, 0.0, 0.0, 0.0, 0.0], [0.8301067352294922, 0.06322741508483887, 0.05502694472670555, 0.05163893103599548, 0.0, 0.0, 0.0], [0.7029131650924683, 0.07544372975826263, 0.010995332151651382, 0.07411318272352219, 0.13653461635112762, 0.0, 0.0], [0.8095445036888123, 0.029474738985300064, 0.05558290332555771, 0.04907357320189476, 0.028352919965982437, 0.027971385046839714, 0.0], [0.7933343648910522, 0.013281055726110935, 0.0035141371190547943, 0.0297529473900795, 0.020396605134010315, 0.11668318510055542, 0.023037705570459366]], [[1.0, 0.0, 0.0, 0.0, 0.0, 0.0, 0.0], [0.06333675235509872, 0.9366632699966431, 0.0, 0.0, 0.0, 0.0, 0.0], [0.3705381453037262, 0.5613312125205994, 0.06813065707683563, 0.0, 0.0, 0.0, 0.0], [0.8751375079154968, 0.08063309639692307, 0.020291630178689957, 0.023937687277793884, 0.0, 0.0, 0.0], [0.9301729202270508, 0.021435853093862534, 0.0220766831189394, 0.006111064460128546, 0.020203540101647377, 0.0, 0.0], [0.4441879689693451, 0.1697898954153061, 0.3597370386123657, 0.007589335553348064, 0.011078213341534138, 0.007617578841745853, 0.0], [0.8222377300262451, 0.02809826284646988, 0.03407381474971771, 0.004287277348339558, 0.02500033564865589, 0.05717397481203079, 0.029128676280379295]]], \"attentionHeadNames\": [\"L26H0\", \"L20H13\", \"L27H15\", \"L25H13\", \"L23H6\", \"L27H7\", \"L22H15\", \"L25H9\", \"L17H2\", \"L22H9\", \"L25H8\", \"L18H13\", \"L22H4\", \"L21H2\", \"L23H5\"], \"tokens\": [\"<think>\", \"\\n\\n\", \"</think>\", \" Capital\", \" of\", \" Canada\", \" is\"]}\n",
       "    )\n",
       "    </script></div><div style='max-width: 700px;'><h2>Top 15 Negative Logit Attribution Heads</h2><br/><div id=\"circuits-vis-e0a327bc-1df1\" style=\"margin: 15px 0;\"/>\n",
       "    <script crossorigin type=\"module\">\n",
       "    import { render, AttentionHeads } from \"https://unpkg.com/circuitsvis@1.43.3/dist/cdn/esm.js\";\n",
       "    render(\n",
       "      \"circuits-vis-e0a327bc-1df1\",\n",
       "      AttentionHeads,\n",
       "      {\"attention\": [[[1.0, 0.0, 0.0, 0.0, 0.0, 0.0, 0.0], [0.7881905436515808, 0.21180939674377441, 0.0, 0.0, 0.0, 0.0, 0.0], [0.75099116563797, 0.026305673643946648, 0.22270314395427704, 0.0, 0.0, 0.0, 0.0], [0.8402594327926636, 0.005908547434955835, 0.039091870188713074, 0.11474020034074783, 0.0, 0.0, 0.0], [0.8375260233879089, 0.015639085322618484, 0.025956790894269943, 0.03591294586658478, 0.08496509492397308, 0.0, 0.0], [0.6750243306159973, 0.00995769165456295, 0.0304583627730608, 0.06327363848686218, 0.03942672535777092, 0.18185915052890778, 0.0], [0.471595823764801, 0.0015598330646753311, 0.006322016008198261, 0.09295664727687836, 0.05586965009570122, 0.3383525013923645, 0.03334346413612366]], [[1.0, 0.0, 0.0, 0.0, 0.0, 0.0, 0.0], [0.8697084784507751, 0.13029152154922485, 0.0, 0.0, 0.0, 0.0, 0.0], [0.5880265235900879, 0.009544957429170609, 0.40242859721183777, 0.0, 0.0, 0.0, 0.0], [0.8559839725494385, 0.006618588697165251, 0.04220249876379967, 0.09519494324922562, 0.0, 0.0, 0.0], [0.2890861928462982, 0.001633696723729372, 0.0012327615404501557, 0.008138811215758324, 0.6999085545539856, 0.0, 0.0], [0.866831362247467, 0.005873393267393112, 0.0020474328193813562, 0.0022452373523265123, 0.015038530342280865, 0.10796401649713516, 0.0], [0.43295785784721375, 0.005441566463559866, 0.0018260309007018805, 0.0022637713700532913, 0.010912877507507801, 0.02744273468852043, 0.5191552042961121]], [[1.0, 0.0, 0.0, 0.0, 0.0, 0.0, 0.0], [0.5915202498435974, 0.408479779958725, 0.0, 0.0, 0.0, 0.0, 0.0], [0.657294750213623, 0.03601686656475067, 0.3066883385181427, 0.0, 0.0, 0.0, 0.0], [0.605452299118042, 0.10221344977617264, 0.038277581334114075, 0.2540567219257355, 0.0, 0.0, 0.0], [0.5732017159461975, 0.0216005127876997, 0.00658436818048358, 0.05819610506296158, 0.34041720628738403, 0.0, 0.0], [0.6912241578102112, 0.012570864520967007, 0.014165033586323261, 0.09513513743877411, 0.050055064260959625, 0.13684973120689392, 0.0], [0.36481189727783203, 0.007242979481816292, 0.003250647336244583, 0.022989491000771523, 0.07231367379426956, 0.09282615780830383, 0.43656519055366516]], [[1.0, 0.0, 0.0, 0.0, 0.0, 0.0, 0.0], [0.5878155827522278, 0.4121844470500946, 0.0, 0.0, 0.0, 0.0, 0.0], [0.7774231433868408, 0.05189265310764313, 0.17068415880203247, 0.0, 0.0, 0.0, 0.0], [0.9232592582702637, 0.014375968836247921, 0.014923116192221642, 0.04744165018200874, 0.0, 0.0, 0.0], [0.9368911981582642, 0.011596959084272385, 0.00956648401916027, 0.027209876105189323, 0.014735536649823189, 0.0, 0.0], [0.7992251515388489, 0.023409007117152214, 0.03910153731703758, 0.05423251911997795, 0.04258279502391815, 0.041448961943387985, 0.0], [0.8238738775253296, 0.013743617571890354, 0.006080374121665955, 0.06414955854415894, 0.018818290904164314, 0.0619504414498806, 0.011383839882910252]], [[1.0, 0.0, 0.0, 0.0, 0.0, 0.0, 0.0], [0.9254777431488037, 0.0745222195982933, 0.0, 0.0, 0.0, 0.0, 0.0], [0.9962624907493591, 0.0019368329085409641, 0.00180075375828892, 0.0, 0.0, 0.0, 0.0], [0.9641613960266113, 0.005514632910490036, 0.0018197715980932117, 0.028504157438874245, 0.0, 0.0, 0.0], [0.9313233494758606, 0.004588645417243242, 0.005354335065931082, 0.012169256806373596, 0.046564389020204544, 0.0, 0.0], [0.7292946577072144, 0.013236653991043568, 0.024885669350624084, 0.018169187009334564, 0.06006418913602829, 0.15434964001178741, 0.0], [0.6864446401596069, 0.004285974428057671, 0.006502009462565184, 0.04194389283657074, 0.08205702155828476, 0.15912412106990814, 0.019642403349280357]], [[1.0, 0.0, 0.0, 0.0, 0.0, 0.0, 0.0], [0.09036032855510712, 0.9096396565437317, 0.0, 0.0, 0.0, 0.0, 0.0], [0.13972419500350952, 0.0458565279841423, 0.8144193291664124, 0.0, 0.0, 0.0, 0.0], [0.6510322690010071, 0.001635097898542881, 0.002268327632918954, 0.34506428241729736, 0.0, 0.0, 0.0], [0.3806858956813812, 0.0004540205409284681, 0.0004596333601512015, 0.005577248055487871, 0.6128231883049011, 0.0, 0.0], [0.10727044194936752, 0.0008271808037534356, 0.00024186019436456263, 0.0005385291296988726, 0.016456149518489838, 0.8746658563613892, 0.0], [0.5089907050132751, 0.0014873957261443138, 0.0001555735943838954, 0.00035095293424092233, 0.007730945013463497, 0.0075080213136971, 0.47377637028694153]], [[1.0, 0.0, 0.0, 0.0, 0.0, 0.0, 0.0], [0.9242870211601257, 0.07571299374103546, 0.0, 0.0, 0.0, 0.0, 0.0], [0.8800263404846191, 0.06495404243469238, 0.055019695311784744, 0.0, 0.0, 0.0, 0.0], [0.8857078552246094, 0.021527191624045372, 0.04196365550160408, 0.05080132558941841, 0.0, 0.0, 0.0], [0.7773956060409546, 0.0062653482891619205, 0.006790322717279196, 0.05424294248223305, 0.15530574321746826, 0.0, 0.0], [0.7985370755195618, 0.0017122137360274792, 0.0015782054979354143, 0.009686638601124287, 0.06686617434024811, 0.12161967158317566, 0.0], [0.55955970287323, 0.005321806762367487, 0.007963473908603191, 0.03146720677614212, 0.1159757524728775, 0.18361222743988037, 0.09609979391098022]], [[1.0, 0.0, 0.0, 0.0, 0.0, 0.0, 0.0], [0.9772680401802063, 0.022731969133019447, 0.0, 0.0, 0.0, 0.0, 0.0], [0.9439190030097961, 0.012814986519515514, 0.04326596483588219, 0.0, 0.0, 0.0, 0.0], [0.9465343952178955, 0.014193250797688961, 0.005976928863674402, 0.03329542651772499, 0.0, 0.0, 0.0], [0.8288248777389526, 0.0050615351647138596, 0.005545614752918482, 0.046422284096479416, 0.1141456663608551, 0.0, 0.0], [0.8988263607025146, 0.011056454852223396, 0.016008587554097176, 0.01501188613474369, 0.04072954133152962, 0.01836707815527916, 0.0], [0.9509654641151428, 0.0020721163600683212, 0.0030675046145915985, 0.002006248803809285, 0.012796174734830856, 0.007798480801284313, 0.02129407413303852]], [[1.0, 0.0, 0.0, 0.0, 0.0, 0.0, 0.0], [0.9340068697929382, 0.06599308550357819, 0.0, 0.0, 0.0, 0.0, 0.0], [0.9953653812408447, 0.0025065552908927202, 0.0021281451918184757, 0.0, 0.0, 0.0, 0.0], [0.9708417654037476, 0.00148955755867064, 0.0032751692924648523, 0.024393508210778236, 0.0, 0.0, 0.0], [0.8957743644714355, 0.0053640385158360004, 0.006923413835465908, 0.059149812906980515, 0.03278839588165283, 0.0, 0.0], [0.9589196443557739, 0.0006773796631023288, 0.000401647383114323, 0.005923794582486153, 0.016151033341884613, 0.017926426604390144, 0.0], [0.7824059724807739, 0.0016218615928664804, 0.0007459904882125556, 0.05786078795790672, 0.027999240905046463, 0.1200307086110115, 0.009335451759397984]], [[1.0, 0.0, 0.0, 0.0, 0.0, 0.0, 0.0], [0.8161941766738892, 0.18380577862262726, 0.0, 0.0, 0.0, 0.0, 0.0], [0.967330276966095, 0.008688036352396011, 0.023981643840670586, 0.0, 0.0, 0.0, 0.0], [0.9833871722221375, 0.002125395694747567, 0.0007669176557101309, 0.013720506802201271, 0.0, 0.0, 0.0], [0.9779655337333679, 0.0009710376034490764, 0.0004730746732093394, 0.011074019595980644, 0.009516241028904915, 0.0, 0.0], [0.9357785582542419, 0.0011952028144150972, 0.0015712232561782002, 0.014150425791740417, 0.014153899624943733, 0.03315069153904915, 0.0], [0.935763955116272, 0.0012132113333791494, 0.0004107759741600603, 0.004403830040246248, 0.016842441633343697, 0.013457437977194786, 0.027908429503440857]], [[1.0, 0.0, 0.0, 0.0, 0.0, 0.0, 0.0], [0.8580828905105591, 0.14191710948944092, 0.0, 0.0, 0.0, 0.0, 0.0], [0.44013991951942444, 0.09099038690328598, 0.46886977553367615, 0.0, 0.0, 0.0, 0.0], [0.8046620488166809, 0.07269754260778427, 0.0376841239631176, 0.0849563404917717, 0.0, 0.0, 0.0], [0.6541181802749634, 0.030141303315758705, 0.016627220436930656, 0.030002636834979057, 0.26911064982414246, 0.0, 0.0], [0.7719057202339172, 0.041501834988594055, 0.021854354068636894, 0.017338590696454048, 0.03771344944834709, 0.10968606919050217, 0.0], [0.5491410493850708, 0.016067134216427803, 0.009408606216311455, 0.015902535989880562, 0.06410180032253265, 0.08256227523088455, 0.2628166079521179]], [[1.0, 0.0, 0.0, 0.0, 0.0, 0.0, 0.0], [0.5834007263183594, 0.41659924387931824, 0.0, 0.0, 0.0, 0.0, 0.0], [0.9604314565658569, 0.016282031312584877, 0.023286471143364906, 0.0, 0.0, 0.0, 0.0], [0.8854812979698181, 0.05288473889231682, 0.025515031069517136, 0.03611888363957405, 0.0, 0.0, 0.0], [0.8364888429641724, 0.017038321122527122, 0.014243477024137974, 0.050287093967199326, 0.08194229751825333, 0.0, 0.0], [0.7705300450325012, 0.02182442881166935, 0.009987778961658478, 0.027564652264118195, 0.10857659578323364, 0.06151646375656128, 0.0], [0.671045184135437, 0.019861971959471703, 0.004698926117271185, 0.07695886492729187, 0.08364846557378769, 0.09675517678260803, 0.04703135788440704]], [[1.0, 0.0, 0.0, 0.0, 0.0, 0.0, 0.0], [0.8760003447532654, 0.1239997148513794, 0.0, 0.0, 0.0, 0.0, 0.0], [0.7747940421104431, 0.01745113730430603, 0.20775485038757324, 0.0, 0.0, 0.0, 0.0], [0.5670034289360046, 0.0034659330267459154, 0.08771111816167831, 0.34181949496269226, 0.0, 0.0, 0.0], [0.9465887546539307, 0.0018518429715186357, 0.007171065080910921, 0.028264785185456276, 0.016123436391353607, 0.0, 0.0], [0.6026161909103394, 0.002773651387542486, 0.009302239865064621, 0.07836315780878067, 0.26558297872543335, 0.041361842304468155, 0.0], [0.5493568181991577, 0.0027498898562043905, 0.002533123828470707, 0.06323175132274628, 0.2319846898317337, 0.10116612166166306, 0.048977650701999664]], [[1.0, 0.0, 0.0, 0.0, 0.0, 0.0, 0.0], [0.9810274839401245, 0.01897248812019825, 0.0, 0.0, 0.0, 0.0, 0.0], [0.7726514339447021, 0.033372603356838226, 0.19397594034671783, 0.0, 0.0, 0.0, 0.0], [0.9738890528678894, 0.00013821886386722326, 0.00024939473951235414, 0.02572338655591011, 0.0, 0.0, 0.0], [0.7125507593154907, 0.0002644405176397413, 0.0004250519268680364, 0.1569955199956894, 0.12976419925689697, 0.0, 0.0], [0.9434603452682495, 0.0001369365054415539, 0.00032226191251538694, 0.022777022793889046, 0.017502790316939354, 0.015800626948475838, 0.0], [0.9004668593406677, 9.665435936767608e-05, 7.065445242915303e-05, 0.03433007746934891, 0.01963929645717144, 0.013939522206783295, 0.031456876546144485]], [[1.0, 0.0, 0.0, 0.0, 0.0, 0.0, 0.0], [0.9735249876976013, 0.026475029066205025, 0.0, 0.0, 0.0, 0.0, 0.0], [0.8590117692947388, 0.007337888237088919, 0.13365033268928528, 0.0, 0.0, 0.0, 0.0], [0.950222373008728, 0.01068056095391512, 0.028377503156661987, 0.010719552636146545, 0.0, 0.0, 0.0], [0.9364469051361084, 0.007585479877889156, 0.003197348676621914, 0.005755751859396696, 0.04701443389058113, 0.0, 0.0], [0.9473171234130859, 0.003987049218267202, 0.0058836243115365505, 0.002158542163670063, 0.004228244069963694, 0.0364254005253315, 0.0], [0.8894972205162048, 0.015929019078612328, 0.0032209567725658417, 0.0033031164202839136, 0.005956654436886311, 0.027215003967285156, 0.05487804859876633]]], \"attentionHeadNames\": [\"L26H1\", \"L27H14\", \"L23H7\", \"L25H4\", \"L26H7\", \"L26H9\", \"L17H3\", \"L27H8\", \"L23H11\", \"L26H12\", \"L19H7\", \"L22H8\", \"L19H12\", \"L26H6\", \"L27H6\"], \"tokens\": [\"<think>\", \"\\n\\n\", \"</think>\", \" Capital\", \" of\", \" Canada\", \" is\"]}\n",
       "    )\n",
       "    </script></div>"
      ],
      "text/plain": [
       "<IPython.core.display.HTML object>"
      ]
     },
     "execution_count": 23,
     "metadata": {},
     "output_type": "execute_result"
    }
   ],
   "source": [
    "top_k = 15\n",
    "\n",
    "top_positive_logit_attr_heads = torch.topk(\n",
    "    per_head_logit_diffs.flatten(), k=top_k\n",
    ").indices\n",
    "\n",
    "positive_html = visualize_attention_patterns(\n",
    "    top_positive_logit_attr_heads,\n",
    "    clean_cache,\n",
    "    prompt,\n",
    "    f\"Top {top_k} Positive Logit Attribution Heads\",\n",
    ")\n",
    "\n",
    "top_negative_logit_attr_heads = torch.topk(\n",
    "    -per_head_logit_diffs.flatten(), k=top_k\n",
    ").indices\n",
    "\n",
    "negative_html = visualize_attention_patterns(\n",
    "    top_negative_logit_attr_heads,\n",
    "    clean_cache,\n",
    "    prompt,\n",
    "    title=f\"Top {top_k} Negative Logit Attribution Heads\",\n",
    ")\n",
    "\n",
    "HTML(positive_html + negative_html)"
   ]
  },
  {
   "cell_type": "code",
   "execution_count": 24,
   "metadata": {},
   "outputs": [],
   "source": [
    "def patch_residual_component(\n",
    "    corrupted_residual_component: Float[torch.Tensor, \"batch pos d_model\"],\n",
    "    hook,\n",
    "    pos,\n",
    "    clean_cache,\n",
    "):\n",
    "    corrupted_residual_component[:, pos, :] = clean_cache[hook.name][:, pos, :]\n",
    "    return corrupted_residual_component"
   ]
  },
  {
   "cell_type": "code",
   "execution_count": 25,
   "metadata": {},
   "outputs": [
    {
     "name": "stderr",
     "output_type": "stream",
     "text": [
      "100%|██████████| 20/20 [03:54<00:00, 11.70s/it]\n"
     ]
    }
   ],
   "source": [
    "n_layers = model.cfg.n_layers\n",
    "seq_len = clean_tokens.shape[1]\n",
    "\n",
    "patched_residual_stream_diff = torch.zeros(\n",
    "    n_layers, seq_len, device=device, dtype=torch.float32\n",
    ")\n",
    "\n",
    "for seed in tqdm(range(NUM_SEEDS)):\n",
    "    # embed corruption hook\n",
    "    hook_fn_embed = partial(\n",
    "        corrupt_embedding_hook,\n",
    "        subject_token_indices=subject_token_indices,\n",
    "        seed=seed\n",
    "    )\n",
    "\n",
    "    for layer in range(n_layers):\n",
    "        for position in range(seq_len):\n",
    "            # residual patch hook\n",
    "            hook_fn_resid = partial(\n",
    "                patch_residual_component,\n",
    "                pos=position,\n",
    "                clean_cache=clean_cache\n",
    "            )\n",
    "\n",
    "            patched_logits = model.run_with_hooks(\n",
    "                clean_tokens, \n",
    "                fwd_hooks=[\n",
    "                    (utils.get_act_name(\"embed\"), hook_fn_embed),\n",
    "                    (utils.get_act_name(\"resid_pre\", layer), hook_fn_resid),\n",
    "                ],\n",
    "                return_type=\"logits\",\n",
    "            )\n",
    "\n",
    "            patched_logit_metric = causal_tracing_metric(\n",
    "                patched_logits, answer_token\n",
    "            )\n",
    "\n",
    "            # accumulate\n",
    "            patched_residual_stream_diff[layer, position] += patched_logit_metric\n",
    "\n",
    "# average over seeds\n",
    "patched_residual_stream_diff /= NUM_SEEDS"
   ]
  },
  {
   "cell_type": "code",
   "execution_count": 26,
   "metadata": {},
   "outputs": [
    {
     "data": {
      "application/vnd.plotly.v1+json": {
       "config": {
        "plotlyServerURL": "https://plot.ly"
       },
       "data": [
        {
         "coloraxis": "coloraxis",
         "hovertemplate": "Position: %{x}<br>Layer: %{y}<br>color: %{z}<extra></extra>",
         "name": "0",
         "type": "heatmap",
         "x": [
          "<think>_0",
          "\n\n_1",
          "</think>_2",
          " Capital_3",
          " of_4",
          " Canada_5",
          " is_6"
         ],
         "xaxis": "x",
         "yaxis": "y",
         "z": {
          "bdata": "mpmZr5qZma+amZmvmpmZr5qZma8AAIA/mpmZr5qZma+amZmvmpmZr5qZma+amZmvh19/P4oEPzmamZmvmpmZr5qZma+amZmvmpmZrx9mgD/AB2o7mpmZr5qZma+amZmvmpmZr5qZma9q6YA/i18NPJqZma+amZmvmpmZr5qZma+amZmvAviAPy/qADyamZmvmpmZr5qZma+amZmvmpmZr/O8gT90XCE8mpmZr5qZma+amZmvmpmZr5qZma+XioA/W0Z0PJqZma+amZmvmpmZr5qZma+amZmvmAaBP6ERtDyamZmvmpmZr5qZma+amZmvmpmZr44vhT+oPlk9mpmZr5qZma+amZmvmpmZr5qZma8zcYU/LTtcPZqZma+amZmvmpmZr5qZma+amZmvutCEP0KOfT2amZmvmpmZr5qZma+amZmvmpmZr4s/gz8ak5s9mpmZr5qZma+amZmvmpmZr5qZma9rbYA/S1KsPZqZma+amZmvmpmZr5qZma+amZmvxTN/P+EDrD2amZmvmpmZr5qZma+amZmvmpmZr0uLfz9Tt6k9mpmZr5qZma+amZmvmpmZr5qZma8gEXI/u/SxPZqZma+amZmvmpmZr5qZma+amZmvTipFP9zhyD2amZmvmpmZr5qZma+amZmvmpmZr6BCIj8Y+ME9mpmZr5qZma+amZmvmpmZr5qZma8fIe0+Kj8CPpqZma+amZmvmpmZr5qZma+amZmvn/aQPvrT1z6amZmvmpmZr5qZma+amZmvmpmZr9fePD4tVds+mpmZr5qZma+amZmvmpmZr5qZma+zgsE94LF8P5qZma+amZmvmpmZr5qZma+amZmvW/1ePRqWej+amZmvmpmZr5qZma+amZmvmpmZrxUUPD01BHo/mpmZr5qZma+amZmvmpmZr5qZma8ZoTQ9eCSAP5qZma+amZmvmpmZr5qZma+amZmv7vMiPS6ZgD+amZmvmpmZr5qZma+amZmvmpmZr89yDj3iFYA/mpmZr5qZma+amZmvmpmZr5qZma/jJ5s6D79+Pw==",
          "dtype": "f4",
          "shape": "28, 7"
         }
        }
       ],
       "layout": {
        "coloraxis": {
         "cmid": 0,
         "colorscale": [
          [
           0,
           "rgb(103,0,31)"
          ],
          [
           0.1,
           "rgb(178,24,43)"
          ],
          [
           0.2,
           "rgb(214,96,77)"
          ],
          [
           0.3,
           "rgb(244,165,130)"
          ],
          [
           0.4,
           "rgb(253,219,199)"
          ],
          [
           0.5,
           "rgb(247,247,247)"
          ],
          [
           0.6,
           "rgb(209,229,240)"
          ],
          [
           0.7,
           "rgb(146,197,222)"
          ],
          [
           0.8,
           "rgb(67,147,195)"
          ],
          [
           0.9,
           "rgb(33,102,172)"
          ],
          [
           1,
           "rgb(5,48,97)"
          ]
         ]
        },
        "template": {
         "data": {
          "bar": [
           {
            "error_x": {
             "color": "#2a3f5f"
            },
            "error_y": {
             "color": "#2a3f5f"
            },
            "marker": {
             "line": {
              "color": "#E5ECF6",
              "width": 0.5
             },
             "pattern": {
              "fillmode": "overlay",
              "size": 10,
              "solidity": 0.2
             }
            },
            "type": "bar"
           }
          ],
          "barpolar": [
           {
            "marker": {
             "line": {
              "color": "#E5ECF6",
              "width": 0.5
             },
             "pattern": {
              "fillmode": "overlay",
              "size": 10,
              "solidity": 0.2
             }
            },
            "type": "barpolar"
           }
          ],
          "carpet": [
           {
            "aaxis": {
             "endlinecolor": "#2a3f5f",
             "gridcolor": "white",
             "linecolor": "white",
             "minorgridcolor": "white",
             "startlinecolor": "#2a3f5f"
            },
            "baxis": {
             "endlinecolor": "#2a3f5f",
             "gridcolor": "white",
             "linecolor": "white",
             "minorgridcolor": "white",
             "startlinecolor": "#2a3f5f"
            },
            "type": "carpet"
           }
          ],
          "choropleth": [
           {
            "colorbar": {
             "outlinewidth": 0,
             "ticks": ""
            },
            "type": "choropleth"
           }
          ],
          "contour": [
           {
            "colorbar": {
             "outlinewidth": 0,
             "ticks": ""
            },
            "colorscale": [
             [
              0,
              "#0d0887"
             ],
             [
              0.1111111111111111,
              "#46039f"
             ],
             [
              0.2222222222222222,
              "#7201a8"
             ],
             [
              0.3333333333333333,
              "#9c179e"
             ],
             [
              0.4444444444444444,
              "#bd3786"
             ],
             [
              0.5555555555555556,
              "#d8576b"
             ],
             [
              0.6666666666666666,
              "#ed7953"
             ],
             [
              0.7777777777777778,
              "#fb9f3a"
             ],
             [
              0.8888888888888888,
              "#fdca26"
             ],
             [
              1,
              "#f0f921"
             ]
            ],
            "type": "contour"
           }
          ],
          "contourcarpet": [
           {
            "colorbar": {
             "outlinewidth": 0,
             "ticks": ""
            },
            "type": "contourcarpet"
           }
          ],
          "heatmap": [
           {
            "colorbar": {
             "outlinewidth": 0,
             "ticks": ""
            },
            "colorscale": [
             [
              0,
              "#0d0887"
             ],
             [
              0.1111111111111111,
              "#46039f"
             ],
             [
              0.2222222222222222,
              "#7201a8"
             ],
             [
              0.3333333333333333,
              "#9c179e"
             ],
             [
              0.4444444444444444,
              "#bd3786"
             ],
             [
              0.5555555555555556,
              "#d8576b"
             ],
             [
              0.6666666666666666,
              "#ed7953"
             ],
             [
              0.7777777777777778,
              "#fb9f3a"
             ],
             [
              0.8888888888888888,
              "#fdca26"
             ],
             [
              1,
              "#f0f921"
             ]
            ],
            "type": "heatmap"
           }
          ],
          "histogram": [
           {
            "marker": {
             "pattern": {
              "fillmode": "overlay",
              "size": 10,
              "solidity": 0.2
             }
            },
            "type": "histogram"
           }
          ],
          "histogram2d": [
           {
            "colorbar": {
             "outlinewidth": 0,
             "ticks": ""
            },
            "colorscale": [
             [
              0,
              "#0d0887"
             ],
             [
              0.1111111111111111,
              "#46039f"
             ],
             [
              0.2222222222222222,
              "#7201a8"
             ],
             [
              0.3333333333333333,
              "#9c179e"
             ],
             [
              0.4444444444444444,
              "#bd3786"
             ],
             [
              0.5555555555555556,
              "#d8576b"
             ],
             [
              0.6666666666666666,
              "#ed7953"
             ],
             [
              0.7777777777777778,
              "#fb9f3a"
             ],
             [
              0.8888888888888888,
              "#fdca26"
             ],
             [
              1,
              "#f0f921"
             ]
            ],
            "type": "histogram2d"
           }
          ],
          "histogram2dcontour": [
           {
            "colorbar": {
             "outlinewidth": 0,
             "ticks": ""
            },
            "colorscale": [
             [
              0,
              "#0d0887"
             ],
             [
              0.1111111111111111,
              "#46039f"
             ],
             [
              0.2222222222222222,
              "#7201a8"
             ],
             [
              0.3333333333333333,
              "#9c179e"
             ],
             [
              0.4444444444444444,
              "#bd3786"
             ],
             [
              0.5555555555555556,
              "#d8576b"
             ],
             [
              0.6666666666666666,
              "#ed7953"
             ],
             [
              0.7777777777777778,
              "#fb9f3a"
             ],
             [
              0.8888888888888888,
              "#fdca26"
             ],
             [
              1,
              "#f0f921"
             ]
            ],
            "type": "histogram2dcontour"
           }
          ],
          "mesh3d": [
           {
            "colorbar": {
             "outlinewidth": 0,
             "ticks": ""
            },
            "type": "mesh3d"
           }
          ],
          "parcoords": [
           {
            "line": {
             "colorbar": {
              "outlinewidth": 0,
              "ticks": ""
             }
            },
            "type": "parcoords"
           }
          ],
          "pie": [
           {
            "automargin": true,
            "type": "pie"
           }
          ],
          "scatter": [
           {
            "fillpattern": {
             "fillmode": "overlay",
             "size": 10,
             "solidity": 0.2
            },
            "type": "scatter"
           }
          ],
          "scatter3d": [
           {
            "line": {
             "colorbar": {
              "outlinewidth": 0,
              "ticks": ""
             }
            },
            "marker": {
             "colorbar": {
              "outlinewidth": 0,
              "ticks": ""
             }
            },
            "type": "scatter3d"
           }
          ],
          "scattercarpet": [
           {
            "marker": {
             "colorbar": {
              "outlinewidth": 0,
              "ticks": ""
             }
            },
            "type": "scattercarpet"
           }
          ],
          "scattergeo": [
           {
            "marker": {
             "colorbar": {
              "outlinewidth": 0,
              "ticks": ""
             }
            },
            "type": "scattergeo"
           }
          ],
          "scattergl": [
           {
            "marker": {
             "colorbar": {
              "outlinewidth": 0,
              "ticks": ""
             }
            },
            "type": "scattergl"
           }
          ],
          "scattermap": [
           {
            "marker": {
             "colorbar": {
              "outlinewidth": 0,
              "ticks": ""
             }
            },
            "type": "scattermap"
           }
          ],
          "scattermapbox": [
           {
            "marker": {
             "colorbar": {
              "outlinewidth": 0,
              "ticks": ""
             }
            },
            "type": "scattermapbox"
           }
          ],
          "scatterpolar": [
           {
            "marker": {
             "colorbar": {
              "outlinewidth": 0,
              "ticks": ""
             }
            },
            "type": "scatterpolar"
           }
          ],
          "scatterpolargl": [
           {
            "marker": {
             "colorbar": {
              "outlinewidth": 0,
              "ticks": ""
             }
            },
            "type": "scatterpolargl"
           }
          ],
          "scatterternary": [
           {
            "marker": {
             "colorbar": {
              "outlinewidth": 0,
              "ticks": ""
             }
            },
            "type": "scatterternary"
           }
          ],
          "surface": [
           {
            "colorbar": {
             "outlinewidth": 0,
             "ticks": ""
            },
            "colorscale": [
             [
              0,
              "#0d0887"
             ],
             [
              0.1111111111111111,
              "#46039f"
             ],
             [
              0.2222222222222222,
              "#7201a8"
             ],
             [
              0.3333333333333333,
              "#9c179e"
             ],
             [
              0.4444444444444444,
              "#bd3786"
             ],
             [
              0.5555555555555556,
              "#d8576b"
             ],
             [
              0.6666666666666666,
              "#ed7953"
             ],
             [
              0.7777777777777778,
              "#fb9f3a"
             ],
             [
              0.8888888888888888,
              "#fdca26"
             ],
             [
              1,
              "#f0f921"
             ]
            ],
            "type": "surface"
           }
          ],
          "table": [
           {
            "cells": {
             "fill": {
              "color": "#EBF0F8"
             },
             "line": {
              "color": "white"
             }
            },
            "header": {
             "fill": {
              "color": "#C8D4E3"
             },
             "line": {
              "color": "white"
             }
            },
            "type": "table"
           }
          ]
         },
         "layout": {
          "annotationdefaults": {
           "arrowcolor": "#2a3f5f",
           "arrowhead": 0,
           "arrowwidth": 1
          },
          "autotypenumbers": "strict",
          "coloraxis": {
           "colorbar": {
            "outlinewidth": 0,
            "ticks": ""
           }
          },
          "colorscale": {
           "diverging": [
            [
             0,
             "#8e0152"
            ],
            [
             0.1,
             "#c51b7d"
            ],
            [
             0.2,
             "#de77ae"
            ],
            [
             0.3,
             "#f1b6da"
            ],
            [
             0.4,
             "#fde0ef"
            ],
            [
             0.5,
             "#f7f7f7"
            ],
            [
             0.6,
             "#e6f5d0"
            ],
            [
             0.7,
             "#b8e186"
            ],
            [
             0.8,
             "#7fbc41"
            ],
            [
             0.9,
             "#4d9221"
            ],
            [
             1,
             "#276419"
            ]
           ],
           "sequential": [
            [
             0,
             "#0d0887"
            ],
            [
             0.1111111111111111,
             "#46039f"
            ],
            [
             0.2222222222222222,
             "#7201a8"
            ],
            [
             0.3333333333333333,
             "#9c179e"
            ],
            [
             0.4444444444444444,
             "#bd3786"
            ],
            [
             0.5555555555555556,
             "#d8576b"
            ],
            [
             0.6666666666666666,
             "#ed7953"
            ],
            [
             0.7777777777777778,
             "#fb9f3a"
            ],
            [
             0.8888888888888888,
             "#fdca26"
            ],
            [
             1,
             "#f0f921"
            ]
           ],
           "sequentialminus": [
            [
             0,
             "#0d0887"
            ],
            [
             0.1111111111111111,
             "#46039f"
            ],
            [
             0.2222222222222222,
             "#7201a8"
            ],
            [
             0.3333333333333333,
             "#9c179e"
            ],
            [
             0.4444444444444444,
             "#bd3786"
            ],
            [
             0.5555555555555556,
             "#d8576b"
            ],
            [
             0.6666666666666666,
             "#ed7953"
            ],
            [
             0.7777777777777778,
             "#fb9f3a"
            ],
            [
             0.8888888888888888,
             "#fdca26"
            ],
            [
             1,
             "#f0f921"
            ]
           ]
          },
          "colorway": [
           "#636efa",
           "#EF553B",
           "#00cc96",
           "#ab63fa",
           "#FFA15A",
           "#19d3f3",
           "#FF6692",
           "#B6E880",
           "#FF97FF",
           "#FECB52"
          ],
          "font": {
           "color": "#2a3f5f"
          },
          "geo": {
           "bgcolor": "white",
           "lakecolor": "white",
           "landcolor": "#E5ECF6",
           "showlakes": true,
           "showland": true,
           "subunitcolor": "white"
          },
          "hoverlabel": {
           "align": "left"
          },
          "hovermode": "closest",
          "mapbox": {
           "style": "light"
          },
          "paper_bgcolor": "white",
          "plot_bgcolor": "#E5ECF6",
          "polar": {
           "angularaxis": {
            "gridcolor": "white",
            "linecolor": "white",
            "ticks": ""
           },
           "bgcolor": "#E5ECF6",
           "radialaxis": {
            "gridcolor": "white",
            "linecolor": "white",
            "ticks": ""
           }
          },
          "scene": {
           "xaxis": {
            "backgroundcolor": "#E5ECF6",
            "gridcolor": "white",
            "gridwidth": 2,
            "linecolor": "white",
            "showbackground": true,
            "ticks": "",
            "zerolinecolor": "white"
           },
           "yaxis": {
            "backgroundcolor": "#E5ECF6",
            "gridcolor": "white",
            "gridwidth": 2,
            "linecolor": "white",
            "showbackground": true,
            "ticks": "",
            "zerolinecolor": "white"
           },
           "zaxis": {
            "backgroundcolor": "#E5ECF6",
            "gridcolor": "white",
            "gridwidth": 2,
            "linecolor": "white",
            "showbackground": true,
            "ticks": "",
            "zerolinecolor": "white"
           }
          },
          "shapedefaults": {
           "line": {
            "color": "#2a3f5f"
           }
          },
          "ternary": {
           "aaxis": {
            "gridcolor": "white",
            "linecolor": "white",
            "ticks": ""
           },
           "baxis": {
            "gridcolor": "white",
            "linecolor": "white",
            "ticks": ""
           },
           "bgcolor": "#E5ECF6",
           "caxis": {
            "gridcolor": "white",
            "linecolor": "white",
            "ticks": ""
           }
          },
          "title": {
           "x": 0.05
          },
          "xaxis": {
           "automargin": true,
           "gridcolor": "white",
           "linecolor": "white",
           "ticks": "",
           "title": {
            "standoff": 15
           },
           "zerolinecolor": "white",
           "zerolinewidth": 2
          },
          "yaxis": {
           "automargin": true,
           "gridcolor": "white",
           "linecolor": "white",
           "ticks": "",
           "title": {
            "standoff": 15
           },
           "zerolinecolor": "white",
           "zerolinewidth": 2
          }
         }
        },
        "title": {
         "text": "Logit Difference From Patched Residual Stream"
        },
        "xaxis": {
         "anchor": "y",
         "constrain": "domain",
         "domain": [
          0,
          1
         ],
         "scaleanchor": "y",
         "title": {
          "text": "Position"
         }
        },
        "yaxis": {
         "anchor": "x",
         "autorange": "reversed",
         "constrain": "domain",
         "domain": [
          0,
          1
         ],
         "title": {
          "text": "Layer"
         }
        }
       }
      },
      "image/png": "[encoded data removed]"
     },
     "metadata": {},
     "output_type": "display_data"
    }
   ],
   "source": [
    "prompt_position_labels = [\n",
    "    f\"{tok}_{i}\" for i, tok in enumerate(model.to_str_tokens(clean_tokens[0]))\n",
    "]\n",
    "imshow(\n",
    "    patched_residual_stream_diff,\n",
    "    x=prompt_position_labels,\n",
    "    title=\"Logit Difference From Patched Residual Stream\",\n",
    "    labels={\"x\": \"Position\", \"y\": \"Layer\"},\n",
    ")"
   ]
  },
  {
   "cell_type": "code",
   "execution_count": 102,
   "metadata": {},
   "outputs": [
    {
     "data": {
      "application/vnd.plotly.v1+json": {
       "config": {
        "plotlyServerURL": "https://plot.ly"
       },
       "data": [
        {
         "coloraxis": "coloraxis",
         "hovertemplate": "Position: %{x}<br>Layer: %{y}<br>color: %{z}<extra></extra>",
         "name": "0",
         "type": "heatmap",
         "x": [
          "<think>_0",
          "\n\n_1",
          "</think>_2",
          " Capital_3",
          " of_4",
          " Canada_5",
          " is_6"
         ],
         "xaxis": "x",
         "yaxis": "y",
         "z": {
          "bdata": "zcxMLc3MTC3NzEwtzcxMLc3MTC0AAIA/zcxMLc3MTC3NzEwtzcxMLc3MTC3NzEwtKgt7P8OabrjNzEwtzcxMLc3MTC3NzEwtzcxMLUq9dz9ymVS3zcxMLc3MTC3NzEwtzcxMLc3MTC3pk4Q/84yJOM3MTC3NzEwtzcxMLc3MTC3NzEwtlqSGP3rJmDjNzEwtzcxMLc3MTC3NzEwtzcxMLfdliD+zDxM5zcxMLc3MTC3NzEwtzcxMLc3MTC2Ax3Q/HflROs3MTC3NzEwtzcxMLc3MTC3NzEwtAFp8P7WS7TrNzEwtzcxMLc3MTC3NzEwtzcxMLVjslj+4LpE7zcxMLc3MTC3NzEwtzcxMLc3MTC2EcJc/mDOJO83MTC3NzEwtzcxMLc3MTC3NzEwtHoidP6JksjvNzEwtzcxMLc3MTC3NzEwtzcxMLSXqlj/a8+87zcxMLc3MTC3NzEwtzcxMLc3MTC2ULJg/jZ0IPM3MTC3NzEwtzcxMLc3MTC3NzEwt7WOYP1QsGDzNzEwtzcxMLc3MTC3NzEwtzcxMLYVfmD/gDA88zcxMLc3MTC3NzEwtzcxMLc3MTC3T8JM/XHkmPM3MTC3NzEwtzcxMLc3MTC3NzEwtp5xWPytSVjzNzEwtzcxMLc3MTC3NzEwtzcxMLZK0+z4E6UQ8zcxMLc3MTC3NzEwtzcxMLc3MTC3/qyA+Nw+KPM3MTC3NzEwtzcxMLc3MTC3NzEwtIzQhPZPc0D3NzEwtzcxMLc3MTC3NzEwtzcxMLbElijyHA/I9zcxMLc3MTC3NzEwtzcxMLc3MTC2FcUU7W/9bP83MTC3NzEwtzcxMLc3MTC3NzEwt6I23OrvihT/NzEwtzcxMLc3MTC3NzEwtzcxMLQ1Oizpv7YE/zcxMLc3MTC3NzEwtzcxMLc3MTC39Pn467TOCP83MTC3NzEwtzcxMLc3MTC3NzEwtiMhUOn8Zgj/NzEwtzcxMLc3MTC3NzEwtzcxMLed7KjowJH4/zcxMLc3MTC3NzEwtzcxMLc3MTC2iuxg4atR+Pw==",
          "dtype": "f4",
          "shape": "28, 7"
         }
        }
       ],
       "layout": {
        "coloraxis": {
         "cmid": 0,
         "colorscale": [
          [
           0,
           "rgb(103,0,31)"
          ],
          [
           0.1,
           "rgb(178,24,43)"
          ],
          [
           0.2,
           "rgb(214,96,77)"
          ],
          [
           0.3,
           "rgb(244,165,130)"
          ],
          [
           0.4,
           "rgb(253,219,199)"
          ],
          [
           0.5,
           "rgb(247,247,247)"
          ],
          [
           0.6,
           "rgb(209,229,240)"
          ],
          [
           0.7,
           "rgb(146,197,222)"
          ],
          [
           0.8,
           "rgb(67,147,195)"
          ],
          [
           0.9,
           "rgb(33,102,172)"
          ],
          [
           1,
           "rgb(5,48,97)"
          ]
         ]
        },
        "template": {
         "data": {
          "bar": [
           {
            "error_x": {
             "color": "#2a3f5f"
            },
            "error_y": {
             "color": "#2a3f5f"
            },
            "marker": {
             "line": {
              "color": "#E5ECF6",
              "width": 0.5
             },
             "pattern": {
              "fillmode": "overlay",
              "size": 10,
              "solidity": 0.2
             }
            },
            "type": "bar"
           }
          ],
          "barpolar": [
           {
            "marker": {
             "line": {
              "color": "#E5ECF6",
              "width": 0.5
             },
             "pattern": {
              "fillmode": "overlay",
              "size": 10,
              "solidity": 0.2
             }
            },
            "type": "barpolar"
           }
          ],
          "carpet": [
           {
            "aaxis": {
             "endlinecolor": "#2a3f5f",
             "gridcolor": "white",
             "linecolor": "white",
             "minorgridcolor": "white",
             "startlinecolor": "#2a3f5f"
            },
            "baxis": {
             "endlinecolor": "#2a3f5f",
             "gridcolor": "white",
             "linecolor": "white",
             "minorgridcolor": "white",
             "startlinecolor": "#2a3f5f"
            },
            "type": "carpet"
           }
          ],
          "choropleth": [
           {
            "colorbar": {
             "outlinewidth": 0,
             "ticks": ""
            },
            "type": "choropleth"
           }
          ],
          "contour": [
           {
            "colorbar": {
             "outlinewidth": 0,
             "ticks": ""
            },
            "colorscale": [
             [
              0,
              "#0d0887"
             ],
             [
              0.1111111111111111,
              "#46039f"
             ],
             [
              0.2222222222222222,
              "#7201a8"
             ],
             [
              0.3333333333333333,
              "#9c179e"
             ],
             [
              0.4444444444444444,
              "#bd3786"
             ],
             [
              0.5555555555555556,
              "#d8576b"
             ],
             [
              0.6666666666666666,
              "#ed7953"
             ],
             [
              0.7777777777777778,
              "#fb9f3a"
             ],
             [
              0.8888888888888888,
              "#fdca26"
             ],
             [
              1,
              "#f0f921"
             ]
            ],
            "type": "contour"
           }
          ],
          "contourcarpet": [
           {
            "colorbar": {
             "outlinewidth": 0,
             "ticks": ""
            },
            "type": "contourcarpet"
           }
          ],
          "heatmap": [
           {
            "colorbar": {
             "outlinewidth": 0,
             "ticks": ""
            },
            "colorscale": [
             [
              0,
              "#0d0887"
             ],
             [
              0.1111111111111111,
              "#46039f"
             ],
             [
              0.2222222222222222,
              "#7201a8"
             ],
             [
              0.3333333333333333,
              "#9c179e"
             ],
             [
              0.4444444444444444,
              "#bd3786"
             ],
             [
              0.5555555555555556,
              "#d8576b"
             ],
             [
              0.6666666666666666,
              "#ed7953"
             ],
             [
              0.7777777777777778,
              "#fb9f3a"
             ],
             [
              0.8888888888888888,
              "#fdca26"
             ],
             [
              1,
              "#f0f921"
             ]
            ],
            "type": "heatmap"
           }
          ],
          "histogram": [
           {
            "marker": {
             "pattern": {
              "fillmode": "overlay",
              "size": 10,
              "solidity": 0.2
             }
            },
            "type": "histogram"
           }
          ],
          "histogram2d": [
           {
            "colorbar": {
             "outlinewidth": 0,
             "ticks": ""
            },
            "colorscale": [
             [
              0,
              "#0d0887"
             ],
             [
              0.1111111111111111,
              "#46039f"
             ],
             [
              0.2222222222222222,
              "#7201a8"
             ],
             [
              0.3333333333333333,
              "#9c179e"
             ],
             [
              0.4444444444444444,
              "#bd3786"
             ],
             [
              0.5555555555555556,
              "#d8576b"
             ],
             [
              0.6666666666666666,
              "#ed7953"
             ],
             [
              0.7777777777777778,
              "#fb9f3a"
             ],
             [
              0.8888888888888888,
              "#fdca26"
             ],
             [
              1,
              "#f0f921"
             ]
            ],
            "type": "histogram2d"
           }
          ],
          "histogram2dcontour": [
           {
            "colorbar": {
             "outlinewidth": 0,
             "ticks": ""
            },
            "colorscale": [
             [
              0,
              "#0d0887"
             ],
             [
              0.1111111111111111,
              "#46039f"
             ],
             [
              0.2222222222222222,
              "#7201a8"
             ],
             [
              0.3333333333333333,
              "#9c179e"
             ],
             [
              0.4444444444444444,
              "#bd3786"
             ],
             [
              0.5555555555555556,
              "#d8576b"
             ],
             [
              0.6666666666666666,
              "#ed7953"
             ],
             [
              0.7777777777777778,
              "#fb9f3a"
             ],
             [
              0.8888888888888888,
              "#fdca26"
             ],
             [
              1,
              "#f0f921"
             ]
            ],
            "type": "histogram2dcontour"
           }
          ],
          "mesh3d": [
           {
            "colorbar": {
             "outlinewidth": 0,
             "ticks": ""
            },
            "type": "mesh3d"
           }
          ],
          "parcoords": [
           {
            "line": {
             "colorbar": {
              "outlinewidth": 0,
              "ticks": ""
             }
            },
            "type": "parcoords"
           }
          ],
          "pie": [
           {
            "automargin": true,
            "type": "pie"
           }
          ],
          "scatter": [
           {
            "fillpattern": {
             "fillmode": "overlay",
             "size": 10,
             "solidity": 0.2
            },
            "type": "scatter"
           }
          ],
          "scatter3d": [
           {
            "line": {
             "colorbar": {
              "outlinewidth": 0,
              "ticks": ""
             }
            },
            "marker": {
             "colorbar": {
              "outlinewidth": 0,
              "ticks": ""
             }
            },
            "type": "scatter3d"
           }
          ],
          "scattercarpet": [
           {
            "marker": {
             "colorbar": {
              "outlinewidth": 0,
              "ticks": ""
             }
            },
            "type": "scattercarpet"
           }
          ],
          "scattergeo": [
           {
            "marker": {
             "colorbar": {
              "outlinewidth": 0,
              "ticks": ""
             }
            },
            "type": "scattergeo"
           }
          ],
          "scattergl": [
           {
            "marker": {
             "colorbar": {
              "outlinewidth": 0,
              "ticks": ""
             }
            },
            "type": "scattergl"
           }
          ],
          "scattermap": [
           {
            "marker": {
             "colorbar": {
              "outlinewidth": 0,
              "ticks": ""
             }
            },
            "type": "scattermap"
           }
          ],
          "scattermapbox": [
           {
            "marker": {
             "colorbar": {
              "outlinewidth": 0,
              "ticks": ""
             }
            },
            "type": "scattermapbox"
           }
          ],
          "scatterpolar": [
           {
            "marker": {
             "colorbar": {
              "outlinewidth": 0,
              "ticks": ""
             }
            },
            "type": "scatterpolar"
           }
          ],
          "scatterpolargl": [
           {
            "marker": {
             "colorbar": {
              "outlinewidth": 0,
              "ticks": ""
             }
            },
            "type": "scatterpolargl"
           }
          ],
          "scatterternary": [
           {
            "marker": {
             "colorbar": {
              "outlinewidth": 0,
              "ticks": ""
             }
            },
            "type": "scatterternary"
           }
          ],
          "surface": [
           {
            "colorbar": {
             "outlinewidth": 0,
             "ticks": ""
            },
            "colorscale": [
             [
              0,
              "#0d0887"
             ],
             [
              0.1111111111111111,
              "#46039f"
             ],
             [
              0.2222222222222222,
              "#7201a8"
             ],
             [
              0.3333333333333333,
              "#9c179e"
             ],
             [
              0.4444444444444444,
              "#bd3786"
             ],
             [
              0.5555555555555556,
              "#d8576b"
             ],
             [
              0.6666666666666666,
              "#ed7953"
             ],
             [
              0.7777777777777778,
              "#fb9f3a"
             ],
             [
              0.8888888888888888,
              "#fdca26"
             ],
             [
              1,
              "#f0f921"
             ]
            ],
            "type": "surface"
           }
          ],
          "table": [
           {
            "cells": {
             "fill": {
              "color": "#EBF0F8"
             },
             "line": {
              "color": "white"
             }
            },
            "header": {
             "fill": {
              "color": "#C8D4E3"
             },
             "line": {
              "color": "white"
             }
            },
            "type": "table"
           }
          ]
         },
         "layout": {
          "annotationdefaults": {
           "arrowcolor": "#2a3f5f",
           "arrowhead": 0,
           "arrowwidth": 1
          },
          "autotypenumbers": "strict",
          "coloraxis": {
           "colorbar": {
            "outlinewidth": 0,
            "ticks": ""
           }
          },
          "colorscale": {
           "diverging": [
            [
             0,
             "#8e0152"
            ],
            [
             0.1,
             "#c51b7d"
            ],
            [
             0.2,
             "#de77ae"
            ],
            [
             0.3,
             "#f1b6da"
            ],
            [
             0.4,
             "#fde0ef"
            ],
            [
             0.5,
             "#f7f7f7"
            ],
            [
             0.6,
             "#e6f5d0"
            ],
            [
             0.7,
             "#b8e186"
            ],
            [
             0.8,
             "#7fbc41"
            ],
            [
             0.9,
             "#4d9221"
            ],
            [
             1,
             "#276419"
            ]
           ],
           "sequential": [
            [
             0,
             "#0d0887"
            ],
            [
             0.1111111111111111,
             "#46039f"
            ],
            [
             0.2222222222222222,
             "#7201a8"
            ],
            [
             0.3333333333333333,
             "#9c179e"
            ],
            [
             0.4444444444444444,
             "#bd3786"
            ],
            [
             0.5555555555555556,
             "#d8576b"
            ],
            [
             0.6666666666666666,
             "#ed7953"
            ],
            [
             0.7777777777777778,
             "#fb9f3a"
            ],
            [
             0.8888888888888888,
             "#fdca26"
            ],
            [
             1,
             "#f0f921"
            ]
           ],
           "sequentialminus": [
            [
             0,
             "#0d0887"
            ],
            [
             0.1111111111111111,
             "#46039f"
            ],
            [
             0.2222222222222222,
             "#7201a8"
            ],
            [
             0.3333333333333333,
             "#9c179e"
            ],
            [
             0.4444444444444444,
             "#bd3786"
            ],
            [
             0.5555555555555556,
             "#d8576b"
            ],
            [
             0.6666666666666666,
             "#ed7953"
            ],
            [
             0.7777777777777778,
             "#fb9f3a"
            ],
            [
             0.8888888888888888,
             "#fdca26"
            ],
            [
             1,
             "#f0f921"
            ]
           ]
          },
          "colorway": [
           "#636efa",
           "#EF553B",
           "#00cc96",
           "#ab63fa",
           "#FFA15A",
           "#19d3f3",
           "#FF6692",
           "#B6E880",
           "#FF97FF",
           "#FECB52"
          ],
          "font": {
           "color": "#2a3f5f"
          },
          "geo": {
           "bgcolor": "white",
           "lakecolor": "white",
           "landcolor": "#E5ECF6",
           "showlakes": true,
           "showland": true,
           "subunitcolor": "white"
          },
          "hoverlabel": {
           "align": "left"
          },
          "hovermode": "closest",
          "mapbox": {
           "style": "light"
          },
          "paper_bgcolor": "white",
          "plot_bgcolor": "#E5ECF6",
          "polar": {
           "angularaxis": {
            "gridcolor": "white",
            "linecolor": "white",
            "ticks": ""
           },
           "bgcolor": "#E5ECF6",
           "radialaxis": {
            "gridcolor": "white",
            "linecolor": "white",
            "ticks": ""
           }
          },
          "scene": {
           "xaxis": {
            "backgroundcolor": "#E5ECF6",
            "gridcolor": "white",
            "gridwidth": 2,
            "linecolor": "white",
            "showbackground": true,
            "ticks": "",
            "zerolinecolor": "white"
           },
           "yaxis": {
            "backgroundcolor": "#E5ECF6",
            "gridcolor": "white",
            "gridwidth": 2,
            "linecolor": "white",
            "showbackground": true,
            "ticks": "",
            "zerolinecolor": "white"
           },
           "zaxis": {
            "backgroundcolor": "#E5ECF6",
            "gridcolor": "white",
            "gridwidth": 2,
            "linecolor": "white",
            "showbackground": true,
            "ticks": "",
            "zerolinecolor": "white"
           }
          },
          "shapedefaults": {
           "line": {
            "color": "#2a3f5f"
           }
          },
          "ternary": {
           "aaxis": {
            "gridcolor": "white",
            "linecolor": "white",
            "ticks": ""
           },
           "baxis": {
            "gridcolor": "white",
            "linecolor": "white",
            "ticks": ""
           },
           "bgcolor": "#E5ECF6",
           "caxis": {
            "gridcolor": "white",
            "linecolor": "white",
            "ticks": ""
           }
          },
          "title": {
           "x": 0.05
          },
          "xaxis": {
           "automargin": true,
           "gridcolor": "white",
           "linecolor": "white",
           "ticks": "",
           "title": {
            "standoff": 15
           },
           "zerolinecolor": "white",
           "zerolinewidth": 2
          },
          "yaxis": {
           "automargin": true,
           "gridcolor": "white",
           "linecolor": "white",
           "ticks": "",
           "title": {
            "standoff": 15
           },
           "zerolinecolor": "white",
           "zerolinewidth": 2
          }
         }
        },
        "title": {
         "text": "Logit Difference From Patched Residual Stream"
        },
        "xaxis": {
         "anchor": "y",
         "constrain": "domain",
         "domain": [
          0,
          1
         ],
         "scaleanchor": "y",
         "title": {
          "text": "Position"
         }
        },
        "yaxis": {
         "anchor": "x",
         "autorange": "reversed",
         "constrain": "domain",
         "domain": [
          0,
          1
         ],
         "title": {
          "text": "Layer"
         }
        }
       }
      },
      "image/png": "[encoded data removed]"
     },
     "metadata": {},
     "output_type": "display_data"
    }
   ],
   "source": [
    "prompt_position_labels = [\n",
    "    f\"{tok}_{i}\" for i, tok in enumerate(model.to_str_tokens(clean_tokens[0]))\n",
    "]\n",
    "imshow(\n",
    "    patched_residual_stream_diff,\n",
    "    x=prompt_position_labels,\n",
    "    title=\"Logit Difference From Patched Residual Stream\",\n",
    "    labels={\"x\": \"Position\", \"y\": \"Layer\"},\n",
    ")"
   ]
  },
  {
   "cell_type": "code",
   "execution_count": 27,
   "metadata": {},
   "outputs": [
    {
     "name": "stderr",
     "output_type": "stream",
     "text": [
      "100%|██████████| 20/20 [07:52<00:00, 23.64s/it]\n"
     ]
    }
   ],
   "source": [
    "patched_attn_diff = torch.zeros(\n",
    "    NUM_SEEDS, model.cfg.n_layers, clean_tokens.shape[1],\n",
    "    device=device, dtype=torch.float32\n",
    ")\n",
    "patched_mlp_diff = torch.zeros(\n",
    "    NUM_SEEDS, model.cfg.n_layers, clean_tokens.shape[1],\n",
    "    device=device, dtype=torch.float32\n",
    ")\n",
    "\n",
    "for seed in tqdm(range(NUM_SEEDS)):\n",
    "    \n",
    "    hook_fn_embed = partial(\n",
    "        corrupt_embedding_hook,\n",
    "        subject_token_indices=subject_token_indices,\n",
    "        seed=seed\n",
    "    )\n",
    "\n",
    "    for layer in range(model.cfg.n_layers):\n",
    "        for position in range(clean_tokens.shape[1]):\n",
    "            hook_fn = partial(patch_residual_component, pos=position, clean_cache=clean_cache)\n",
    "\n",
    "            # Attention patching\n",
    "            patched_attn_logits = model.run_with_hooks(\n",
    "                clean_tokens,\n",
    "                fwd_hooks=[(utils.get_act_name(\"embed\"), hook_fn_embed),(utils.get_act_name(\"attn_out\", layer), hook_fn)],\n",
    "                return_type=\"logits\",\n",
    "            )\n",
    "            patched_attn_logit_diff = causal_tracing_metric(\n",
    "                patched_attn_logits, answer_token\n",
    "            )\n",
    "\n",
    "            # MLP patching\n",
    "            patched_mlp_logits = model.run_with_hooks(\n",
    "                clean_tokens,\n",
    "                fwd_hooks=[(utils.get_act_name(\"embed\"), hook_fn_embed),(utils.get_act_name(\"mlp_out\", layer), hook_fn)],\n",
    "                return_type=\"logits\",\n",
    "            )\n",
    "            patched_mlp_logit_diff = causal_tracing_metric(\n",
    "                patched_mlp_logits, answer_token\n",
    "            )\n",
    "\n",
    "            # Save results for this seed\n",
    "            patched_attn_diff[seed, layer, position] = patched_attn_logit_diff\n",
    "            patched_mlp_diff[seed, layer, position] = patched_mlp_logit_diff\n",
    "\n",
    "    model.reset_hooks(including_permanent=True)\n",
    "\n",
    "# Average across seeds\n",
    "patched_attn_diff_mean = patched_attn_diff.mean(dim=0)  # [layers, positions]\n",
    "patched_mlp_diff_mean  = patched_mlp_diff.mean(dim=0) "
   ]
  },
  {
   "cell_type": "code",
   "execution_count": 28,
   "metadata": {},
   "outputs": [
    {
     "data": {
      "application/vnd.plotly.v1+json": {
       "config": {
        "plotlyServerURL": "https://plot.ly"
       },
       "data": [
        {
         "coloraxis": "coloraxis",
         "hovertemplate": "Position: %{x}<br>Layer: %{y}<br>color: %{z}<extra></extra>",
         "name": "0",
         "type": "heatmap",
         "x": [
          "<think>_0",
          "\n\n_1",
          "</think>_2",
          " Capital_3",
          " of_4",
          " Canada_5",
          " is_6"
         ],
         "xaxis": "x",
         "yaxis": "y",
         "z": {
          "bdata": "AAAAAAAAAAAAAAAAAAAAAAAAAAB4qH8/gAQ/OQAAAAAAAAAAAAAAAAAAAAAAAAAAb39iOwkyyDsAAAAAAAAAAAAAAAAAAAAAAAAAABfr1LpAeAK6AAAAAAAAAAAAAAAAAAAAAAAAAAAqCxW8etYdugAAAAAAAAAAAAAAAAAAAAAAAAAAUDprvIByPDoAAAAAAAAAAAAAAAAAAAAAAAAAABdPFbwX2b47AAAAAAAAAAAAAAAAAAAAAAAAAACnPaK7g7eZOgAAAAAAAAAAAAAAAAAAAAAAAAAAtxlyvAhxjTwAAAAAAAAAAAAAAAAAAAAAAAAAAL7BJT1HVgm7AAAAAAAAAAAAAAAAAAAAAAAAAABaCja8ptMYPAAAAAAAAAAAAAAAAAAAAAAAAAAAO1nju1PSAboAAAAAAAAAAAAAAAAAAAAAAAAAAK6KRT1M2ho8AAAAAAAAAAAAAAAAAAAAAAAAAABNS7C6sCKAOwAAAAAAAAAAAAAAAAAAAAAAAAAAA/khuxrCbrsAAAAAAAAAAAAAAAAAAAAAAAAAAPcpJ7sTFYk7AAAAAAAAAAAAAAAAAAAAAAAAAACHEQU7+Ez+PAAAAAAAAAAAAAAAAAAAAAAAAAAAZwoPOO25FTsAAAAAAAAAAAAAAAAAAAAAAAAAAKekxTlMdpI8AAAAAAAAAAAAAAAAAAAAAAAAAABn+LC5zI02PQAAAAAAAAAAAAAAAAAAAAAAAAAAJ/wWugcNGjwAAAAAAAAAAAAAAAAAAAAAAAAAACI4QTs6wNw9AAAAAAAAAAAAAAAAAAAAAAAAAACNxve5l9kOPAAAAAAAAAAAAAAAAAAAAAAAAAAAIOskui4EETwAAAAAAAAAAAAAAAAAAAAAAAAAACdcGLoDSZi6AAAAAAAAAAAAAAAAAAAAAAAAAAAahKC5UrOgOwAAAAAAAAAAAAAAAAAAAAAAAAAAM+Q4ORqJ5DsAAAAAAAAAAAAAAAAAAAAAAAAAAMAG2zmaZpa5AAAAAAAAAAAAAAAAAAAAAAAAAAAAAAAAXe7Fug==",
          "dtype": "f4",
          "shape": "28, 7"
         }
        }
       ],
       "layout": {
        "coloraxis": {
         "cmid": 0,
         "colorscale": [
          [
           0,
           "rgb(103,0,31)"
          ],
          [
           0.1,
           "rgb(178,24,43)"
          ],
          [
           0.2,
           "rgb(214,96,77)"
          ],
          [
           0.3,
           "rgb(244,165,130)"
          ],
          [
           0.4,
           "rgb(253,219,199)"
          ],
          [
           0.5,
           "rgb(247,247,247)"
          ],
          [
           0.6,
           "rgb(209,229,240)"
          ],
          [
           0.7,
           "rgb(146,197,222)"
          ],
          [
           0.8,
           "rgb(67,147,195)"
          ],
          [
           0.9,
           "rgb(33,102,172)"
          ],
          [
           1,
           "rgb(5,48,97)"
          ]
         ]
        },
        "template": {
         "data": {
          "bar": [
           {
            "error_x": {
             "color": "#2a3f5f"
            },
            "error_y": {
             "color": "#2a3f5f"
            },
            "marker": {
             "line": {
              "color": "#E5ECF6",
              "width": 0.5
             },
             "pattern": {
              "fillmode": "overlay",
              "size": 10,
              "solidity": 0.2
             }
            },
            "type": "bar"
           }
          ],
          "barpolar": [
           {
            "marker": {
             "line": {
              "color": "#E5ECF6",
              "width": 0.5
             },
             "pattern": {
              "fillmode": "overlay",
              "size": 10,
              "solidity": 0.2
             }
            },
            "type": "barpolar"
           }
          ],
          "carpet": [
           {
            "aaxis": {
             "endlinecolor": "#2a3f5f",
             "gridcolor": "white",
             "linecolor": "white",
             "minorgridcolor": "white",
             "startlinecolor": "#2a3f5f"
            },
            "baxis": {
             "endlinecolor": "#2a3f5f",
             "gridcolor": "white",
             "linecolor": "white",
             "minorgridcolor": "white",
             "startlinecolor": "#2a3f5f"
            },
            "type": "carpet"
           }
          ],
          "choropleth": [
           {
            "colorbar": {
             "outlinewidth": 0,
             "ticks": ""
            },
            "type": "choropleth"
           }
          ],
          "contour": [
           {
            "colorbar": {
             "outlinewidth": 0,
             "ticks": ""
            },
            "colorscale": [
             [
              0,
              "#0d0887"
             ],
             [
              0.1111111111111111,
              "#46039f"
             ],
             [
              0.2222222222222222,
              "#7201a8"
             ],
             [
              0.3333333333333333,
              "#9c179e"
             ],
             [
              0.4444444444444444,
              "#bd3786"
             ],
             [
              0.5555555555555556,
              "#d8576b"
             ],
             [
              0.6666666666666666,
              "#ed7953"
             ],
             [
              0.7777777777777778,
              "#fb9f3a"
             ],
             [
              0.8888888888888888,
              "#fdca26"
             ],
             [
              1,
              "#f0f921"
             ]
            ],
            "type": "contour"
           }
          ],
          "contourcarpet": [
           {
            "colorbar": {
             "outlinewidth": 0,
             "ticks": ""
            },
            "type": "contourcarpet"
           }
          ],
          "heatmap": [
           {
            "colorbar": {
             "outlinewidth": 0,
             "ticks": ""
            },
            "colorscale": [
             [
              0,
              "#0d0887"
             ],
             [
              0.1111111111111111,
              "#46039f"
             ],
             [
              0.2222222222222222,
              "#7201a8"
             ],
             [
              0.3333333333333333,
              "#9c179e"
             ],
             [
              0.4444444444444444,
              "#bd3786"
             ],
             [
              0.5555555555555556,
              "#d8576b"
             ],
             [
              0.6666666666666666,
              "#ed7953"
             ],
             [
              0.7777777777777778,
              "#fb9f3a"
             ],
             [
              0.8888888888888888,
              "#fdca26"
             ],
             [
              1,
              "#f0f921"
             ]
            ],
            "type": "heatmap"
           }
          ],
          "histogram": [
           {
            "marker": {
             "pattern": {
              "fillmode": "overlay",
              "size": 10,
              "solidity": 0.2
             }
            },
            "type": "histogram"
           }
          ],
          "histogram2d": [
           {
            "colorbar": {
             "outlinewidth": 0,
             "ticks": ""
            },
            "colorscale": [
             [
              0,
              "#0d0887"
             ],
             [
              0.1111111111111111,
              "#46039f"
             ],
             [
              0.2222222222222222,
              "#7201a8"
             ],
             [
              0.3333333333333333,
              "#9c179e"
             ],
             [
              0.4444444444444444,
              "#bd3786"
             ],
             [
              0.5555555555555556,
              "#d8576b"
             ],
             [
              0.6666666666666666,
              "#ed7953"
             ],
             [
              0.7777777777777778,
              "#fb9f3a"
             ],
             [
              0.8888888888888888,
              "#fdca26"
             ],
             [
              1,
              "#f0f921"
             ]
            ],
            "type": "histogram2d"
           }
          ],
          "histogram2dcontour": [
           {
            "colorbar": {
             "outlinewidth": 0,
             "ticks": ""
            },
            "colorscale": [
             [
              0,
              "#0d0887"
             ],
             [
              0.1111111111111111,
              "#46039f"
             ],
             [
              0.2222222222222222,
              "#7201a8"
             ],
             [
              0.3333333333333333,
              "#9c179e"
             ],
             [
              0.4444444444444444,
              "#bd3786"
             ],
             [
              0.5555555555555556,
              "#d8576b"
             ],
             [
              0.6666666666666666,
              "#ed7953"
             ],
             [
              0.7777777777777778,
              "#fb9f3a"
             ],
             [
              0.8888888888888888,
              "#fdca26"
             ],
             [
              1,
              "#f0f921"
             ]
            ],
            "type": "histogram2dcontour"
           }
          ],
          "mesh3d": [
           {
            "colorbar": {
             "outlinewidth": 0,
             "ticks": ""
            },
            "type": "mesh3d"
           }
          ],
          "parcoords": [
           {
            "line": {
             "colorbar": {
              "outlinewidth": 0,
              "ticks": ""
             }
            },
            "type": "parcoords"
           }
          ],
          "pie": [
           {
            "automargin": true,
            "type": "pie"
           }
          ],
          "scatter": [
           {
            "fillpattern": {
             "fillmode": "overlay",
             "size": 10,
             "solidity": 0.2
            },
            "type": "scatter"
           }
          ],
          "scatter3d": [
           {
            "line": {
             "colorbar": {
              "outlinewidth": 0,
              "ticks": ""
             }
            },
            "marker": {
             "colorbar": {
              "outlinewidth": 0,
              "ticks": ""
             }
            },
            "type": "scatter3d"
           }
          ],
          "scattercarpet": [
           {
            "marker": {
             "colorbar": {
              "outlinewidth": 0,
              "ticks": ""
             }
            },
            "type": "scattercarpet"
           }
          ],
          "scattergeo": [
           {
            "marker": {
             "colorbar": {
              "outlinewidth": 0,
              "ticks": ""
             }
            },
            "type": "scattergeo"
           }
          ],
          "scattergl": [
           {
            "marker": {
             "colorbar": {
              "outlinewidth": 0,
              "ticks": ""
             }
            },
            "type": "scattergl"
           }
          ],
          "scattermap": [
           {
            "marker": {
             "colorbar": {
              "outlinewidth": 0,
              "ticks": ""
             }
            },
            "type": "scattermap"
           }
          ],
          "scattermapbox": [
           {
            "marker": {
             "colorbar": {
              "outlinewidth": 0,
              "ticks": ""
             }
            },
            "type": "scattermapbox"
           }
          ],
          "scatterpolar": [
           {
            "marker": {
             "colorbar": {
              "outlinewidth": 0,
              "ticks": ""
             }
            },
            "type": "scatterpolar"
           }
          ],
          "scatterpolargl": [
           {
            "marker": {
             "colorbar": {
              "outlinewidth": 0,
              "ticks": ""
             }
            },
            "type": "scatterpolargl"
           }
          ],
          "scatterternary": [
           {
            "marker": {
             "colorbar": {
              "outlinewidth": 0,
              "ticks": ""
             }
            },
            "type": "scatterternary"
           }
          ],
          "surface": [
           {
            "colorbar": {
             "outlinewidth": 0,
             "ticks": ""
            },
            "colorscale": [
             [
              0,
              "#0d0887"
             ],
             [
              0.1111111111111111,
              "#46039f"
             ],
             [
              0.2222222222222222,
              "#7201a8"
             ],
             [
              0.3333333333333333,
              "#9c179e"
             ],
             [
              0.4444444444444444,
              "#bd3786"
             ],
             [
              0.5555555555555556,
              "#d8576b"
             ],
             [
              0.6666666666666666,
              "#ed7953"
             ],
             [
              0.7777777777777778,
              "#fb9f3a"
             ],
             [
              0.8888888888888888,
              "#fdca26"
             ],
             [
              1,
              "#f0f921"
             ]
            ],
            "type": "surface"
           }
          ],
          "table": [
           {
            "cells": {
             "fill": {
              "color": "#EBF0F8"
             },
             "line": {
              "color": "white"
             }
            },
            "header": {
             "fill": {
              "color": "#C8D4E3"
             },
             "line": {
              "color": "white"
             }
            },
            "type": "table"
           }
          ]
         },
         "layout": {
          "annotationdefaults": {
           "arrowcolor": "#2a3f5f",
           "arrowhead": 0,
           "arrowwidth": 1
          },
          "autotypenumbers": "strict",
          "coloraxis": {
           "colorbar": {
            "outlinewidth": 0,
            "ticks": ""
           }
          },
          "colorscale": {
           "diverging": [
            [
             0,
             "#8e0152"
            ],
            [
             0.1,
             "#c51b7d"
            ],
            [
             0.2,
             "#de77ae"
            ],
            [
             0.3,
             "#f1b6da"
            ],
            [
             0.4,
             "#fde0ef"
            ],
            [
             0.5,
             "#f7f7f7"
            ],
            [
             0.6,
             "#e6f5d0"
            ],
            [
             0.7,
             "#b8e186"
            ],
            [
             0.8,
             "#7fbc41"
            ],
            [
             0.9,
             "#4d9221"
            ],
            [
             1,
             "#276419"
            ]
           ],
           "sequential": [
            [
             0,
             "#0d0887"
            ],
            [
             0.1111111111111111,
             "#46039f"
            ],
            [
             0.2222222222222222,
             "#7201a8"
            ],
            [
             0.3333333333333333,
             "#9c179e"
            ],
            [
             0.4444444444444444,
             "#bd3786"
            ],
            [
             0.5555555555555556,
             "#d8576b"
            ],
            [
             0.6666666666666666,
             "#ed7953"
            ],
            [
             0.7777777777777778,
             "#fb9f3a"
            ],
            [
             0.8888888888888888,
             "#fdca26"
            ],
            [
             1,
             "#f0f921"
            ]
           ],
           "sequentialminus": [
            [
             0,
             "#0d0887"
            ],
            [
             0.1111111111111111,
             "#46039f"
            ],
            [
             0.2222222222222222,
             "#7201a8"
            ],
            [
             0.3333333333333333,
             "#9c179e"
            ],
            [
             0.4444444444444444,
             "#bd3786"
            ],
            [
             0.5555555555555556,
             "#d8576b"
            ],
            [
             0.6666666666666666,
             "#ed7953"
            ],
            [
             0.7777777777777778,
             "#fb9f3a"
            ],
            [
             0.8888888888888888,
             "#fdca26"
            ],
            [
             1,
             "#f0f921"
            ]
           ]
          },
          "colorway": [
           "#636efa",
           "#EF553B",
           "#00cc96",
           "#ab63fa",
           "#FFA15A",
           "#19d3f3",
           "#FF6692",
           "#B6E880",
           "#FF97FF",
           "#FECB52"
          ],
          "font": {
           "color": "#2a3f5f"
          },
          "geo": {
           "bgcolor": "white",
           "lakecolor": "white",
           "landcolor": "#E5ECF6",
           "showlakes": true,
           "showland": true,
           "subunitcolor": "white"
          },
          "hoverlabel": {
           "align": "left"
          },
          "hovermode": "closest",
          "mapbox": {
           "style": "light"
          },
          "paper_bgcolor": "white",
          "plot_bgcolor": "#E5ECF6",
          "polar": {
           "angularaxis": {
            "gridcolor": "white",
            "linecolor": "white",
            "ticks": ""
           },
           "bgcolor": "#E5ECF6",
           "radialaxis": {
            "gridcolor": "white",
            "linecolor": "white",
            "ticks": ""
           }
          },
          "scene": {
           "xaxis": {
            "backgroundcolor": "#E5ECF6",
            "gridcolor": "white",
            "gridwidth": 2,
            "linecolor": "white",
            "showbackground": true,
            "ticks": "",
            "zerolinecolor": "white"
           },
           "yaxis": {
            "backgroundcolor": "#E5ECF6",
            "gridcolor": "white",
            "gridwidth": 2,
            "linecolor": "white",
            "showbackground": true,
            "ticks": "",
            "zerolinecolor": "white"
           },
           "zaxis": {
            "backgroundcolor": "#E5ECF6",
            "gridcolor": "white",
            "gridwidth": 2,
            "linecolor": "white",
            "showbackground": true,
            "ticks": "",
            "zerolinecolor": "white"
           }
          },
          "shapedefaults": {
           "line": {
            "color": "#2a3f5f"
           }
          },
          "ternary": {
           "aaxis": {
            "gridcolor": "white",
            "linecolor": "white",
            "ticks": ""
           },
           "baxis": {
            "gridcolor": "white",
            "linecolor": "white",
            "ticks": ""
           },
           "bgcolor": "#E5ECF6",
           "caxis": {
            "gridcolor": "white",
            "linecolor": "white",
            "ticks": ""
           }
          },
          "title": {
           "x": 0.05
          },
          "xaxis": {
           "automargin": true,
           "gridcolor": "white",
           "linecolor": "white",
           "ticks": "",
           "title": {
            "standoff": 15
           },
           "zerolinecolor": "white",
           "zerolinewidth": 2
          },
          "yaxis": {
           "automargin": true,
           "gridcolor": "white",
           "linecolor": "white",
           "ticks": "",
           "title": {
            "standoff": 15
           },
           "zerolinecolor": "white",
           "zerolinewidth": 2
          }
         }
        },
        "title": {
         "text": "Logit Difference From Patched Attention Layer"
        },
        "xaxis": {
         "anchor": "y",
         "constrain": "domain",
         "domain": [
          0,
          1
         ],
         "scaleanchor": "y",
         "title": {
          "text": "Position"
         }
        },
        "yaxis": {
         "anchor": "x",
         "autorange": "reversed",
         "constrain": "domain",
         "domain": [
          0,
          1
         ],
         "title": {
          "text": "Layer"
         }
        }
       }
      },
      "image/png": "[encoded data removed]"
     },
     "metadata": {},
     "output_type": "display_data"
    }
   ],
   "source": [
    "imshow(\n",
    "    patched_attn_diff_mean,\n",
    "    x=prompt_position_labels,\n",
    "    title=\"Logit Difference From Patched Attention Layer\",\n",
    "    labels={\"x\": \"Position\", \"y\": \"Layer\"},\n",
    ")"
   ]
  },
  {
   "cell_type": "code",
   "execution_count": 113,
   "metadata": {},
   "outputs": [
    {
     "data": {
      "application/vnd.plotly.v1+json": {
       "config": {
        "plotlyServerURL": "https://plot.ly"
       },
       "data": [
        {
         "coloraxis": "coloraxis",
         "hovertemplate": "Position: %{x}<br>Layer: %{y}<br>color: %{z}<extra></extra>",
         "name": "0",
         "type": "heatmap",
         "x": [
          "<think>_0",
          "\n\n_1",
          "</think>_2",
          " Capital_3",
          " of_4",
          " Canada_5",
          " is_6"
         ],
         "xaxis": "x",
         "yaxis": "y",
         "z": {
          "bdata": "Z2ZmLWdmZi1nZmYtZ2ZmLWdmZi2HSGk/w5puuGdmZi1nZmYtZ2ZmLWdmZi1nZmYtbamROMBIQLdnZmYtZ2ZmLWdmZi1nZmYtZ2ZmLbfTFTfCzH24Z2ZmLWdmZi1nZmYtZ2ZmLWdmZi3qU9y4PyK9N2dmZi1nZmYtZ2ZmLWdmZi1nZmYta6sGuMVstbdnZmYtZ2ZmLWdmZi1nZmYtZ2ZmLWfe7jX/Sl45Z2ZmLWdmZi1nZmYtZ2ZmLWdmZi0zVcG1NbqGN2dmZi1nZmYtZ2ZmLWdmZi1nZmYtK5zWuM1xTjlnZmYtZ2ZmLWdmZi1nZmYtZ2ZmLScm2jlSsco3Z2ZmLWdmZi1nZmYtZ2ZmLWdmZi2t++u4h+t/OWdmZi1nZmYtZ2ZmLWdmZi1nZmYtBzLRtkChHbhnZmYtZ2ZmLWdmZi1nZmYtZ2ZmLU/OmDrERY85Z2ZmLWdmZi1nZmYtZ2ZmLWdmZi0A41Y4y6ByN2dmZi1nZmYtZ2ZmLWdmZi1nZmYtc52MODvcxLhnZmYtZ2ZmLWdmZi1nZmYtZ2ZmLXIp5zdwh/s5Z2ZmLWdmZi1nZmYtZ2ZmLWdmZi2tXMM40BTjOmdmZi1nZmYtZ2ZmLWdmZi1nZmYtPYXYN8I/4TdnZmYtZ2ZmLWdmZi1nZmYtZ2ZmLVNkXjj1yZw6Z2ZmLWdmZi1nZmYtZ2ZmLWdmZi2fqxI4HmUFO2dmZi1nZmYtZ2ZmLWdmZi1nZmYtrdWaNnJ+QjhnZmYtZ2ZmLWdmZi1nZmYtZ2ZmLfvLljhLF787Z2ZmLWdmZi1nZmYtZ2ZmLWdmZi1NC1Y2ELttOWdmZi1nZmYtZ2ZmLWdmZi1nZmYtwK+gNz2yrDlnZmYtZ2ZmLWdmZi1nZmYtZ2ZmLYoz8TZn+ZE2Z2ZmLWdmZi1nZmYtZ2ZmLWdmZi1Hegc2u9YeOWdmZi1nZmYtZ2ZmLWdmZi1nZmYtlaQFNzhwXjhnZmYtZ2ZmLWdmZi1nZmYtZ2ZmLZouRTYqmOU3Z2ZmLWdmZi1nZmYtZ2ZmLWdmZi1nZmYtj7aBOQ==",
          "dtype": "f4",
          "shape": "28, 7"
         }
        }
       ],
       "layout": {
        "coloraxis": {
         "cmid": 0,
         "colorscale": [
          [
           0,
           "rgb(103,0,31)"
          ],
          [
           0.1,
           "rgb(178,24,43)"
          ],
          [
           0.2,
           "rgb(214,96,77)"
          ],
          [
           0.3,
           "rgb(244,165,130)"
          ],
          [
           0.4,
           "rgb(253,219,199)"
          ],
          [
           0.5,
           "rgb(247,247,247)"
          ],
          [
           0.6,
           "rgb(209,229,240)"
          ],
          [
           0.7,
           "rgb(146,197,222)"
          ],
          [
           0.8,
           "rgb(67,147,195)"
          ],
          [
           0.9,
           "rgb(33,102,172)"
          ],
          [
           1,
           "rgb(5,48,97)"
          ]
         ]
        },
        "template": {
         "data": {
          "bar": [
           {
            "error_x": {
             "color": "#2a3f5f"
            },
            "error_y": {
             "color": "#2a3f5f"
            },
            "marker": {
             "line": {
              "color": "#E5ECF6",
              "width": 0.5
             },
             "pattern": {
              "fillmode": "overlay",
              "size": 10,
              "solidity": 0.2
             }
            },
            "type": "bar"
           }
          ],
          "barpolar": [
           {
            "marker": {
             "line": {
              "color": "#E5ECF6",
              "width": 0.5
             },
             "pattern": {
              "fillmode": "overlay",
              "size": 10,
              "solidity": 0.2
             }
            },
            "type": "barpolar"
           }
          ],
          "carpet": [
           {
            "aaxis": {
             "endlinecolor": "#2a3f5f",
             "gridcolor": "white",
             "linecolor": "white",
             "minorgridcolor": "white",
             "startlinecolor": "#2a3f5f"
            },
            "baxis": {
             "endlinecolor": "#2a3f5f",
             "gridcolor": "white",
             "linecolor": "white",
             "minorgridcolor": "white",
             "startlinecolor": "#2a3f5f"
            },
            "type": "carpet"
           }
          ],
          "choropleth": [
           {
            "colorbar": {
             "outlinewidth": 0,
             "ticks": ""
            },
            "type": "choropleth"
           }
          ],
          "contour": [
           {
            "colorbar": {
             "outlinewidth": 0,
             "ticks": ""
            },
            "colorscale": [
             [
              0,
              "#0d0887"
             ],
             [
              0.1111111111111111,
              "#46039f"
             ],
             [
              0.2222222222222222,
              "#7201a8"
             ],
             [
              0.3333333333333333,
              "#9c179e"
             ],
             [
              0.4444444444444444,
              "#bd3786"
             ],
             [
              0.5555555555555556,
              "#d8576b"
             ],
             [
              0.6666666666666666,
              "#ed7953"
             ],
             [
              0.7777777777777778,
              "#fb9f3a"
             ],
             [
              0.8888888888888888,
              "#fdca26"
             ],
             [
              1,
              "#f0f921"
             ]
            ],
            "type": "contour"
           }
          ],
          "contourcarpet": [
           {
            "colorbar": {
             "outlinewidth": 0,
             "ticks": ""
            },
            "type": "contourcarpet"
           }
          ],
          "heatmap": [
           {
            "colorbar": {
             "outlinewidth": 0,
             "ticks": ""
            },
            "colorscale": [
             [
              0,
              "#0d0887"
             ],
             [
              0.1111111111111111,
              "#46039f"
             ],
             [
              0.2222222222222222,
              "#7201a8"
             ],
             [
              0.3333333333333333,
              "#9c179e"
             ],
             [
              0.4444444444444444,
              "#bd3786"
             ],
             [
              0.5555555555555556,
              "#d8576b"
             ],
             [
              0.6666666666666666,
              "#ed7953"
             ],
             [
              0.7777777777777778,
              "#fb9f3a"
             ],
             [
              0.8888888888888888,
              "#fdca26"
             ],
             [
              1,
              "#f0f921"
             ]
            ],
            "type": "heatmap"
           }
          ],
          "histogram": [
           {
            "marker": {
             "pattern": {
              "fillmode": "overlay",
              "size": 10,
              "solidity": 0.2
             }
            },
            "type": "histogram"
           }
          ],
          "histogram2d": [
           {
            "colorbar": {
             "outlinewidth": 0,
             "ticks": ""
            },
            "colorscale": [
             [
              0,
              "#0d0887"
             ],
             [
              0.1111111111111111,
              "#46039f"
             ],
             [
              0.2222222222222222,
              "#7201a8"
             ],
             [
              0.3333333333333333,
              "#9c179e"
             ],
             [
              0.4444444444444444,
              "#bd3786"
             ],
             [
              0.5555555555555556,
              "#d8576b"
             ],
             [
              0.6666666666666666,
              "#ed7953"
             ],
             [
              0.7777777777777778,
              "#fb9f3a"
             ],
             [
              0.8888888888888888,
              "#fdca26"
             ],
             [
              1,
              "#f0f921"
             ]
            ],
            "type": "histogram2d"
           }
          ],
          "histogram2dcontour": [
           {
            "colorbar": {
             "outlinewidth": 0,
             "ticks": ""
            },
            "colorscale": [
             [
              0,
              "#0d0887"
             ],
             [
              0.1111111111111111,
              "#46039f"
             ],
             [
              0.2222222222222222,
              "#7201a8"
             ],
             [
              0.3333333333333333,
              "#9c179e"
             ],
             [
              0.4444444444444444,
              "#bd3786"
             ],
             [
              0.5555555555555556,
              "#d8576b"
             ],
             [
              0.6666666666666666,
              "#ed7953"
             ],
             [
              0.7777777777777778,
              "#fb9f3a"
             ],
             [
              0.8888888888888888,
              "#fdca26"
             ],
             [
              1,
              "#f0f921"
             ]
            ],
            "type": "histogram2dcontour"
           }
          ],
          "mesh3d": [
           {
            "colorbar": {
             "outlinewidth": 0,
             "ticks": ""
            },
            "type": "mesh3d"
           }
          ],
          "parcoords": [
           {
            "line": {
             "colorbar": {
              "outlinewidth": 0,
              "ticks": ""
             }
            },
            "type": "parcoords"
           }
          ],
          "pie": [
           {
            "automargin": true,
            "type": "pie"
           }
          ],
          "scatter": [
           {
            "fillpattern": {
             "fillmode": "overlay",
             "size": 10,
             "solidity": 0.2
            },
            "type": "scatter"
           }
          ],
          "scatter3d": [
           {
            "line": {
             "colorbar": {
              "outlinewidth": 0,
              "ticks": ""
             }
            },
            "marker": {
             "colorbar": {
              "outlinewidth": 0,
              "ticks": ""
             }
            },
            "type": "scatter3d"
           }
          ],
          "scattercarpet": [
           {
            "marker": {
             "colorbar": {
              "outlinewidth": 0,
              "ticks": ""
             }
            },
            "type": "scattercarpet"
           }
          ],
          "scattergeo": [
           {
            "marker": {
             "colorbar": {
              "outlinewidth": 0,
              "ticks": ""
             }
            },
            "type": "scattergeo"
           }
          ],
          "scattergl": [
           {
            "marker": {
             "colorbar": {
              "outlinewidth": 0,
              "ticks": ""
             }
            },
            "type": "scattergl"
           }
          ],
          "scattermap": [
           {
            "marker": {
             "colorbar": {
              "outlinewidth": 0,
              "ticks": ""
             }
            },
            "type": "scattermap"
           }
          ],
          "scattermapbox": [
           {
            "marker": {
             "colorbar": {
              "outlinewidth": 0,
              "ticks": ""
             }
            },
            "type": "scattermapbox"
           }
          ],
          "scatterpolar": [
           {
            "marker": {
             "colorbar": {
              "outlinewidth": 0,
              "ticks": ""
             }
            },
            "type": "scatterpolar"
           }
          ],
          "scatterpolargl": [
           {
            "marker": {
             "colorbar": {
              "outlinewidth": 0,
              "ticks": ""
             }
            },
            "type": "scatterpolargl"
           }
          ],
          "scatterternary": [
           {
            "marker": {
             "colorbar": {
              "outlinewidth": 0,
              "ticks": ""
             }
            },
            "type": "scatterternary"
           }
          ],
          "surface": [
           {
            "colorbar": {
             "outlinewidth": 0,
             "ticks": ""
            },
            "colorscale": [
             [
              0,
              "#0d0887"
             ],
             [
              0.1111111111111111,
              "#46039f"
             ],
             [
              0.2222222222222222,
              "#7201a8"
             ],
             [
              0.3333333333333333,
              "#9c179e"
             ],
             [
              0.4444444444444444,
              "#bd3786"
             ],
             [
              0.5555555555555556,
              "#d8576b"
             ],
             [
              0.6666666666666666,
              "#ed7953"
             ],
             [
              0.7777777777777778,
              "#fb9f3a"
             ],
             [
              0.8888888888888888,
              "#fdca26"
             ],
             [
              1,
              "#f0f921"
             ]
            ],
            "type": "surface"
           }
          ],
          "table": [
           {
            "cells": {
             "fill": {
              "color": "#EBF0F8"
             },
             "line": {
              "color": "white"
             }
            },
            "header": {
             "fill": {
              "color": "#C8D4E3"
             },
             "line": {
              "color": "white"
             }
            },
            "type": "table"
           }
          ]
         },
         "layout": {
          "annotationdefaults": {
           "arrowcolor": "#2a3f5f",
           "arrowhead": 0,
           "arrowwidth": 1
          },
          "autotypenumbers": "strict",
          "coloraxis": {
           "colorbar": {
            "outlinewidth": 0,
            "ticks": ""
           }
          },
          "colorscale": {
           "diverging": [
            [
             0,
             "#8e0152"
            ],
            [
             0.1,
             "#c51b7d"
            ],
            [
             0.2,
             "#de77ae"
            ],
            [
             0.3,
             "#f1b6da"
            ],
            [
             0.4,
             "#fde0ef"
            ],
            [
             0.5,
             "#f7f7f7"
            ],
            [
             0.6,
             "#e6f5d0"
            ],
            [
             0.7,
             "#b8e186"
            ],
            [
             0.8,
             "#7fbc41"
            ],
            [
             0.9,
             "#4d9221"
            ],
            [
             1,
             "#276419"
            ]
           ],
           "sequential": [
            [
             0,
             "#0d0887"
            ],
            [
             0.1111111111111111,
             "#46039f"
            ],
            [
             0.2222222222222222,
             "#7201a8"
            ],
            [
             0.3333333333333333,
             "#9c179e"
            ],
            [
             0.4444444444444444,
             "#bd3786"
            ],
            [
             0.5555555555555556,
             "#d8576b"
            ],
            [
             0.6666666666666666,
             "#ed7953"
            ],
            [
             0.7777777777777778,
             "#fb9f3a"
            ],
            [
             0.8888888888888888,
             "#fdca26"
            ],
            [
             1,
             "#f0f921"
            ]
           ],
           "sequentialminus": [
            [
             0,
             "#0d0887"
            ],
            [
             0.1111111111111111,
             "#46039f"
            ],
            [
             0.2222222222222222,
             "#7201a8"
            ],
            [
             0.3333333333333333,
             "#9c179e"
            ],
            [
             0.4444444444444444,
             "#bd3786"
            ],
            [
             0.5555555555555556,
             "#d8576b"
            ],
            [
             0.6666666666666666,
             "#ed7953"
            ],
            [
             0.7777777777777778,
             "#fb9f3a"
            ],
            [
             0.8888888888888888,
             "#fdca26"
            ],
            [
             1,
             "#f0f921"
            ]
           ]
          },
          "colorway": [
           "#636efa",
           "#EF553B",
           "#00cc96",
           "#ab63fa",
           "#FFA15A",
           "#19d3f3",
           "#FF6692",
           "#B6E880",
           "#FF97FF",
           "#FECB52"
          ],
          "font": {
           "color": "#2a3f5f"
          },
          "geo": {
           "bgcolor": "white",
           "lakecolor": "white",
           "landcolor": "#E5ECF6",
           "showlakes": true,
           "showland": true,
           "subunitcolor": "white"
          },
          "hoverlabel": {
           "align": "left"
          },
          "hovermode": "closest",
          "mapbox": {
           "style": "light"
          },
          "paper_bgcolor": "white",
          "plot_bgcolor": "#E5ECF6",
          "polar": {
           "angularaxis": {
            "gridcolor": "white",
            "linecolor": "white",
            "ticks": ""
           },
           "bgcolor": "#E5ECF6",
           "radialaxis": {
            "gridcolor": "white",
            "linecolor": "white",
            "ticks": ""
           }
          },
          "scene": {
           "xaxis": {
            "backgroundcolor": "#E5ECF6",
            "gridcolor": "white",
            "gridwidth": 2,
            "linecolor": "white",
            "showbackground": true,
            "ticks": "",
            "zerolinecolor": "white"
           },
           "yaxis": {
            "backgroundcolor": "#E5ECF6",
            "gridcolor": "white",
            "gridwidth": 2,
            "linecolor": "white",
            "showbackground": true,
            "ticks": "",
            "zerolinecolor": "white"
           },
           "zaxis": {
            "backgroundcolor": "#E5ECF6",
            "gridcolor": "white",
            "gridwidth": 2,
            "linecolor": "white",
            "showbackground": true,
            "ticks": "",
            "zerolinecolor": "white"
           }
          },
          "shapedefaults": {
           "line": {
            "color": "#2a3f5f"
           }
          },
          "ternary": {
           "aaxis": {
            "gridcolor": "white",
            "linecolor": "white",
            "ticks": ""
           },
           "baxis": {
            "gridcolor": "white",
            "linecolor": "white",
            "ticks": ""
           },
           "bgcolor": "#E5ECF6",
           "caxis": {
            "gridcolor": "white",
            "linecolor": "white",
            "ticks": ""
           }
          },
          "title": {
           "x": 0.05
          },
          "xaxis": {
           "automargin": true,
           "gridcolor": "white",
           "linecolor": "white",
           "ticks": "",
           "title": {
            "standoff": 15
           },
           "zerolinecolor": "white",
           "zerolinewidth": 2
          },
          "yaxis": {
           "automargin": true,
           "gridcolor": "white",
           "linecolor": "white",
           "ticks": "",
           "title": {
            "standoff": 15
           },
           "zerolinecolor": "white",
           "zerolinewidth": 2
          }
         }
        },
        "title": {
         "text": "Logit Difference From Patched Attention Layer"
        },
        "xaxis": {
         "anchor": "y",
         "constrain": "domain",
         "domain": [
          0,
          1
         ],
         "scaleanchor": "y",
         "title": {
          "text": "Position"
         }
        },
        "yaxis": {
         "anchor": "x",
         "autorange": "reversed",
         "constrain": "domain",
         "domain": [
          0,
          1
         ],
         "title": {
          "text": "Layer"
         }
        }
       }
      },
      "image/png": "[encoded data removed]"
     },
     "metadata": {},
     "output_type": "display_data"
    }
   ],
   "source": [
    "imshow(\n",
    "    patched_attn_diff_mean,\n",
    "    x=prompt_position_labels,\n",
    "    title=\"Logit Difference From Patched Attention Layer\",\n",
    "    labels={\"x\": \"Position\", \"y\": \"Layer\"},\n",
    ")"
   ]
  },
  {
   "cell_type": "code",
   "execution_count": 29,
   "metadata": {},
   "outputs": [
    {
     "data": {
      "application/vnd.plotly.v1+json": {
       "config": {
        "plotlyServerURL": "https://plot.ly"
       },
       "data": [
        {
         "coloraxis": "coloraxis",
         "hovertemplate": "Position: %{x}<br>Layer: %{y}<br>color: %{z}<extra></extra>",
         "name": "0",
         "type": "heatmap",
         "x": [
          "<think>_0",
          "\n\n_1",
          "</think>_2",
          " Capital_3",
          " of_4",
          " Canada_5",
          " is_6"
         ],
         "xaxis": "x",
         "yaxis": "y",
         "z": {
          "bdata": "AAAAAAAAAAAAAAAAAAAAAAAAAACl7HE/x1VvugAAAAAAAAAAAAAAAAAAAAAAAAAA6IYfPUon1boAAAAAAAAAAAAAAAAAAAAAAAAAABbmDT8n7gO6AAAAAAAAAAAAAAAAAAAAAAAAAACh2xo+qDQOuwAAAAAAAAAAAAAAAAAAAAAAAAAAXeDJPXBYzLoAAAAAAAAAAAAAAAAAAAAAAAAAAL2wQz69xVS7AAAAAAAAAAAAAAAAAAAAAAAAAAAiHPg+qDgjOwAAAAAAAAAAAAAAAAAAAAAAAAAA+Iw8PNL7BTsAAAAAAAAAAAAAAAAAAAAAAAAAAOL8jj3zowo6AAAAAAAAAAAAAAAAAAAAAAAAAADNgrE8+vglugAAAAAAAAAAAAAAAAAAAAAAAAAARbtXPic2pDwAAAAAAAAAAAAAAAAAAAAAAAAAAMqlZj0IvV88AAAAAAAAAAAAAAAAAAAAAAAAAAAwjlI8A0OFPAAAAAAAAAAAAAAAAAAAAAAAAAAApt2APK22ibsAAAAAAAAAAAAAAAAAAAAAAAAAAFdaeTzNHXi5AAAAAAAAAAAAAAAAAAAAAAAAAACzv5w7aNlUOwAAAAAAAAAAAAAAAAAAAAAAAAAAv+4fPsfesjsAAAAAAAAAAAAAAAAAAAAAAAAAAMXBqD1OZMU8AAAAAAAAAAAAAAAAAAAAAAAAAABN+5a6bfpoPAAAAAAAAAAAAAAAAAAAAAAAAAAA2J02PG062DsAAAAAAAAAAAAAAAAAAAAAAAAAAOcDujzFhWY9AAAAAAAAAAAAAAAAAAAAAAAAAADnlFc5YiFqPAAAAAAAAAAAAAAAAAAAAAAAAAAAzfcKuv9qpzwAAAAAAAAAAAAAAAAAAAAAAAAAAGgWTjuljw4+AAAAAAAAAAAAAAAAAAAAAAAAAABgToK6FWaHPAAAAAAAAAAAAAAAAAAAAAAAAAAATXhquUDoULsAAAAAAAAAAAAAAAAAAAAAAAAAAAft0Lr165e8AAAAAAAAAAAAAAAAAAAAAAAAAAAAAAAAaHhLvA==",
          "dtype": "f4",
          "shape": "28, 7"
         }
        }
       ],
       "layout": {
        "coloraxis": {
         "cmid": 0,
         "colorscale": [
          [
           0,
           "rgb(103,0,31)"
          ],
          [
           0.1,
           "rgb(178,24,43)"
          ],
          [
           0.2,
           "rgb(214,96,77)"
          ],
          [
           0.3,
           "rgb(244,165,130)"
          ],
          [
           0.4,
           "rgb(253,219,199)"
          ],
          [
           0.5,
           "rgb(247,247,247)"
          ],
          [
           0.6,
           "rgb(209,229,240)"
          ],
          [
           0.7,
           "rgb(146,197,222)"
          ],
          [
           0.8,
           "rgb(67,147,195)"
          ],
          [
           0.9,
           "rgb(33,102,172)"
          ],
          [
           1,
           "rgb(5,48,97)"
          ]
         ]
        },
        "template": {
         "data": {
          "bar": [
           {
            "error_x": {
             "color": "#2a3f5f"
            },
            "error_y": {
             "color": "#2a3f5f"
            },
            "marker": {
             "line": {
              "color": "#E5ECF6",
              "width": 0.5
             },
             "pattern": {
              "fillmode": "overlay",
              "size": 10,
              "solidity": 0.2
             }
            },
            "type": "bar"
           }
          ],
          "barpolar": [
           {
            "marker": {
             "line": {
              "color": "#E5ECF6",
              "width": 0.5
             },
             "pattern": {
              "fillmode": "overlay",
              "size": 10,
              "solidity": 0.2
             }
            },
            "type": "barpolar"
           }
          ],
          "carpet": [
           {
            "aaxis": {
             "endlinecolor": "#2a3f5f",
             "gridcolor": "white",
             "linecolor": "white",
             "minorgridcolor": "white",
             "startlinecolor": "#2a3f5f"
            },
            "baxis": {
             "endlinecolor": "#2a3f5f",
             "gridcolor": "white",
             "linecolor": "white",
             "minorgridcolor": "white",
             "startlinecolor": "#2a3f5f"
            },
            "type": "carpet"
           }
          ],
          "choropleth": [
           {
            "colorbar": {
             "outlinewidth": 0,
             "ticks": ""
            },
            "type": "choropleth"
           }
          ],
          "contour": [
           {
            "colorbar": {
             "outlinewidth": 0,
             "ticks": ""
            },
            "colorscale": [
             [
              0,
              "#0d0887"
             ],
             [
              0.1111111111111111,
              "#46039f"
             ],
             [
              0.2222222222222222,
              "#7201a8"
             ],
             [
              0.3333333333333333,
              "#9c179e"
             ],
             [
              0.4444444444444444,
              "#bd3786"
             ],
             [
              0.5555555555555556,
              "#d8576b"
             ],
             [
              0.6666666666666666,
              "#ed7953"
             ],
             [
              0.7777777777777778,
              "#fb9f3a"
             ],
             [
              0.8888888888888888,
              "#fdca26"
             ],
             [
              1,
              "#f0f921"
             ]
            ],
            "type": "contour"
           }
          ],
          "contourcarpet": [
           {
            "colorbar": {
             "outlinewidth": 0,
             "ticks": ""
            },
            "type": "contourcarpet"
           }
          ],
          "heatmap": [
           {
            "colorbar": {
             "outlinewidth": 0,
             "ticks": ""
            },
            "colorscale": [
             [
              0,
              "#0d0887"
             ],
             [
              0.1111111111111111,
              "#46039f"
             ],
             [
              0.2222222222222222,
              "#7201a8"
             ],
             [
              0.3333333333333333,
              "#9c179e"
             ],
             [
              0.4444444444444444,
              "#bd3786"
             ],
             [
              0.5555555555555556,
              "#d8576b"
             ],
             [
              0.6666666666666666,
              "#ed7953"
             ],
             [
              0.7777777777777778,
              "#fb9f3a"
             ],
             [
              0.8888888888888888,
              "#fdca26"
             ],
             [
              1,
              "#f0f921"
             ]
            ],
            "type": "heatmap"
           }
          ],
          "histogram": [
           {
            "marker": {
             "pattern": {
              "fillmode": "overlay",
              "size": 10,
              "solidity": 0.2
             }
            },
            "type": "histogram"
           }
          ],
          "histogram2d": [
           {
            "colorbar": {
             "outlinewidth": 0,
             "ticks": ""
            },
            "colorscale": [
             [
              0,
              "#0d0887"
             ],
             [
              0.1111111111111111,
              "#46039f"
             ],
             [
              0.2222222222222222,
              "#7201a8"
             ],
             [
              0.3333333333333333,
              "#9c179e"
             ],
             [
              0.4444444444444444,
              "#bd3786"
             ],
             [
              0.5555555555555556,
              "#d8576b"
             ],
             [
              0.6666666666666666,
              "#ed7953"
             ],
             [
              0.7777777777777778,
              "#fb9f3a"
             ],
             [
              0.8888888888888888,
              "#fdca26"
             ],
             [
              1,
              "#f0f921"
             ]
            ],
            "type": "histogram2d"
           }
          ],
          "histogram2dcontour": [
           {
            "colorbar": {
             "outlinewidth": 0,
             "ticks": ""
            },
            "colorscale": [
             [
              0,
              "#0d0887"
             ],
             [
              0.1111111111111111,
              "#46039f"
             ],
             [
              0.2222222222222222,
              "#7201a8"
             ],
             [
              0.3333333333333333,
              "#9c179e"
             ],
             [
              0.4444444444444444,
              "#bd3786"
             ],
             [
              0.5555555555555556,
              "#d8576b"
             ],
             [
              0.6666666666666666,
              "#ed7953"
             ],
             [
              0.7777777777777778,
              "#fb9f3a"
             ],
             [
              0.8888888888888888,
              "#fdca26"
             ],
             [
              1,
              "#f0f921"
             ]
            ],
            "type": "histogram2dcontour"
           }
          ],
          "mesh3d": [
           {
            "colorbar": {
             "outlinewidth": 0,
             "ticks": ""
            },
            "type": "mesh3d"
           }
          ],
          "parcoords": [
           {
            "line": {
             "colorbar": {
              "outlinewidth": 0,
              "ticks": ""
             }
            },
            "type": "parcoords"
           }
          ],
          "pie": [
           {
            "automargin": true,
            "type": "pie"
           }
          ],
          "scatter": [
           {
            "fillpattern": {
             "fillmode": "overlay",
             "size": 10,
             "solidity": 0.2
            },
            "type": "scatter"
           }
          ],
          "scatter3d": [
           {
            "line": {
             "colorbar": {
              "outlinewidth": 0,
              "ticks": ""
             }
            },
            "marker": {
             "colorbar": {
              "outlinewidth": 0,
              "ticks": ""
             }
            },
            "type": "scatter3d"
           }
          ],
          "scattercarpet": [
           {
            "marker": {
             "colorbar": {
              "outlinewidth": 0,
              "ticks": ""
             }
            },
            "type": "scattercarpet"
           }
          ],
          "scattergeo": [
           {
            "marker": {
             "colorbar": {
              "outlinewidth": 0,
              "ticks": ""
             }
            },
            "type": "scattergeo"
           }
          ],
          "scattergl": [
           {
            "marker": {
             "colorbar": {
              "outlinewidth": 0,
              "ticks": ""
             }
            },
            "type": "scattergl"
           }
          ],
          "scattermap": [
           {
            "marker": {
             "colorbar": {
              "outlinewidth": 0,
              "ticks": ""
             }
            },
            "type": "scattermap"
           }
          ],
          "scattermapbox": [
           {
            "marker": {
             "colorbar": {
              "outlinewidth": 0,
              "ticks": ""
             }
            },
            "type": "scattermapbox"
           }
          ],
          "scatterpolar": [
           {
            "marker": {
             "colorbar": {
              "outlinewidth": 0,
              "ticks": ""
             }
            },
            "type": "scatterpolar"
           }
          ],
          "scatterpolargl": [
           {
            "marker": {
             "colorbar": {
              "outlinewidth": 0,
              "ticks": ""
             }
            },
            "type": "scatterpolargl"
           }
          ],
          "scatterternary": [
           {
            "marker": {
             "colorbar": {
              "outlinewidth": 0,
              "ticks": ""
             }
            },
            "type": "scatterternary"
           }
          ],
          "surface": [
           {
            "colorbar": {
             "outlinewidth": 0,
             "ticks": ""
            },
            "colorscale": [
             [
              0,
              "#0d0887"
             ],
             [
              0.1111111111111111,
              "#46039f"
             ],
             [
              0.2222222222222222,
              "#7201a8"
             ],
             [
              0.3333333333333333,
              "#9c179e"
             ],
             [
              0.4444444444444444,
              "#bd3786"
             ],
             [
              0.5555555555555556,
              "#d8576b"
             ],
             [
              0.6666666666666666,
              "#ed7953"
             ],
             [
              0.7777777777777778,
              "#fb9f3a"
             ],
             [
              0.8888888888888888,
              "#fdca26"
             ],
             [
              1,
              "#f0f921"
             ]
            ],
            "type": "surface"
           }
          ],
          "table": [
           {
            "cells": {
             "fill": {
              "color": "#EBF0F8"
             },
             "line": {
              "color": "white"
             }
            },
            "header": {
             "fill": {
              "color": "#C8D4E3"
             },
             "line": {
              "color": "white"
             }
            },
            "type": "table"
           }
          ]
         },
         "layout": {
          "annotationdefaults": {
           "arrowcolor": "#2a3f5f",
           "arrowhead": 0,
           "arrowwidth": 1
          },
          "autotypenumbers": "strict",
          "coloraxis": {
           "colorbar": {
            "outlinewidth": 0,
            "ticks": ""
           }
          },
          "colorscale": {
           "diverging": [
            [
             0,
             "#8e0152"
            ],
            [
             0.1,
             "#c51b7d"
            ],
            [
             0.2,
             "#de77ae"
            ],
            [
             0.3,
             "#f1b6da"
            ],
            [
             0.4,
             "#fde0ef"
            ],
            [
             0.5,
             "#f7f7f7"
            ],
            [
             0.6,
             "#e6f5d0"
            ],
            [
             0.7,
             "#b8e186"
            ],
            [
             0.8,
             "#7fbc41"
            ],
            [
             0.9,
             "#4d9221"
            ],
            [
             1,
             "#276419"
            ]
           ],
           "sequential": [
            [
             0,
             "#0d0887"
            ],
            [
             0.1111111111111111,
             "#46039f"
            ],
            [
             0.2222222222222222,
             "#7201a8"
            ],
            [
             0.3333333333333333,
             "#9c179e"
            ],
            [
             0.4444444444444444,
             "#bd3786"
            ],
            [
             0.5555555555555556,
             "#d8576b"
            ],
            [
             0.6666666666666666,
             "#ed7953"
            ],
            [
             0.7777777777777778,
             "#fb9f3a"
            ],
            [
             0.8888888888888888,
             "#fdca26"
            ],
            [
             1,
             "#f0f921"
            ]
           ],
           "sequentialminus": [
            [
             0,
             "#0d0887"
            ],
            [
             0.1111111111111111,
             "#46039f"
            ],
            [
             0.2222222222222222,
             "#7201a8"
            ],
            [
             0.3333333333333333,
             "#9c179e"
            ],
            [
             0.4444444444444444,
             "#bd3786"
            ],
            [
             0.5555555555555556,
             "#d8576b"
            ],
            [
             0.6666666666666666,
             "#ed7953"
            ],
            [
             0.7777777777777778,
             "#fb9f3a"
            ],
            [
             0.8888888888888888,
             "#fdca26"
            ],
            [
             1,
             "#f0f921"
            ]
           ]
          },
          "colorway": [
           "#636efa",
           "#EF553B",
           "#00cc96",
           "#ab63fa",
           "#FFA15A",
           "#19d3f3",
           "#FF6692",
           "#B6E880",
           "#FF97FF",
           "#FECB52"
          ],
          "font": {
           "color": "#2a3f5f"
          },
          "geo": {
           "bgcolor": "white",
           "lakecolor": "white",
           "landcolor": "#E5ECF6",
           "showlakes": true,
           "showland": true,
           "subunitcolor": "white"
          },
          "hoverlabel": {
           "align": "left"
          },
          "hovermode": "closest",
          "mapbox": {
           "style": "light"
          },
          "paper_bgcolor": "white",
          "plot_bgcolor": "#E5ECF6",
          "polar": {
           "angularaxis": {
            "gridcolor": "white",
            "linecolor": "white",
            "ticks": ""
           },
           "bgcolor": "#E5ECF6",
           "radialaxis": {
            "gridcolor": "white",
            "linecolor": "white",
            "ticks": ""
           }
          },
          "scene": {
           "xaxis": {
            "backgroundcolor": "#E5ECF6",
            "gridcolor": "white",
            "gridwidth": 2,
            "linecolor": "white",
            "showbackground": true,
            "ticks": "",
            "zerolinecolor": "white"
           },
           "yaxis": {
            "backgroundcolor": "#E5ECF6",
            "gridcolor": "white",
            "gridwidth": 2,
            "linecolor": "white",
            "showbackground": true,
            "ticks": "",
            "zerolinecolor": "white"
           },
           "zaxis": {
            "backgroundcolor": "#E5ECF6",
            "gridcolor": "white",
            "gridwidth": 2,
            "linecolor": "white",
            "showbackground": true,
            "ticks": "",
            "zerolinecolor": "white"
           }
          },
          "shapedefaults": {
           "line": {
            "color": "#2a3f5f"
           }
          },
          "ternary": {
           "aaxis": {
            "gridcolor": "white",
            "linecolor": "white",
            "ticks": ""
           },
           "baxis": {
            "gridcolor": "white",
            "linecolor": "white",
            "ticks": ""
           },
           "bgcolor": "#E5ECF6",
           "caxis": {
            "gridcolor": "white",
            "linecolor": "white",
            "ticks": ""
           }
          },
          "title": {
           "x": 0.05
          },
          "xaxis": {
           "automargin": true,
           "gridcolor": "white",
           "linecolor": "white",
           "ticks": "",
           "title": {
            "standoff": 15
           },
           "zerolinecolor": "white",
           "zerolinewidth": 2
          },
          "yaxis": {
           "automargin": true,
           "gridcolor": "white",
           "linecolor": "white",
           "ticks": "",
           "title": {
            "standoff": 15
           },
           "zerolinecolor": "white",
           "zerolinewidth": 2
          }
         }
        },
        "title": {
         "text": "Logit Difference From Patched MLP Layer"
        },
        "xaxis": {
         "anchor": "y",
         "constrain": "domain",
         "domain": [
          0,
          1
         ],
         "scaleanchor": "y",
         "title": {
          "text": "Position"
         }
        },
        "yaxis": {
         "anchor": "x",
         "autorange": "reversed",
         "constrain": "domain",
         "domain": [
          0,
          1
         ],
         "title": {
          "text": "Layer"
         }
        }
       }
      },
      "image/png": "[encoded data removed]"
     },
     "metadata": {},
     "output_type": "display_data"
    }
   ],
   "source": [
    "imshow(\n",
    "    patched_mlp_diff_mean,\n",
    "    x=prompt_position_labels,\n",
    "    title=\"Logit Difference From Patched MLP Layer\",\n",
    "    labels={\"x\": \"Position\", \"y\": \"Layer\"},\n",
    ")"
   ]
  },
  {
   "cell_type": "code",
   "execution_count": 115,
   "metadata": {},
   "outputs": [
    {
     "data": {
      "application/vnd.plotly.v1+json": {
       "config": {
        "plotlyServerURL": "https://plot.ly"
       },
       "data": [
        {
         "coloraxis": "coloraxis",
         "hovertemplate": "Position: %{x}<br>Layer: %{y}<br>color: %{z}<extra></extra>",
         "name": "0",
         "type": "heatmap",
         "x": [
          "<think>_0",
          "\n\n_1",
          "</think>_2",
          " Capital_3",
          " of_4",
          " Canada_5",
          " is_6"
         ],
         "xaxis": "x",
         "yaxis": "y",
         "z": {
          "bdata": "Z2ZmLWdmZi1nZmYtZ2ZmLWdmZi0foyc/aOIguGdmZi1nZmYtZ2ZmLWdmZi1nZmYt4aEdO0fwjrhnZmYtZ2ZmLWdmZi1nZmYtZ2ZmLZrzTD6wQS+3Z2ZmLWdmZi1nZmYtZ2ZmLWdmZi1S6907tw+/uGdmZi1nZmYtZ2ZmLWdmZi1nZmYtf3yyPBBa8rhnZmYtZ2ZmLWdmZi1nZmYtZ2ZmLR5eyDsfQnW4Z2ZmLWdmZi1nZmYtZ2ZmLWdmZi1JGJU9mGGrt2dmZi1nZmYtZ2ZmLWdmZi1nZmYt2+vcuAOyvThnZmYtZ2ZmLWdmZi1nZmYtZ2ZmLS+G/TtHG+S3Z2ZmLWdmZi1nZmYtZ2ZmLWdmZi2Rr0Q6hyoCN2dmZi1nZmYtZ2ZmLWdmZi1nZmYtm9kCPDT3ljpnZmYtZ2ZmLWdmZi1nZmYtZ2ZmLR3y2TqFCZ45Z2ZmLWdmZi1nZmYtZ2ZmLWdmZi3TtxM5FUlgOmdmZi1nZmYtZ2ZmLWdmZi1nZmYtu0e9OS36TbhnZmYtZ2ZmLWdmZi1nZmYtZ2ZmLb8kSjnXAU04Z2ZmLWdmZi1nZmYtZ2ZmLWdmZi3I8Nw4A258OGdmZi1nZmYtZ2ZmLWdmZi1nZmYtp1lPO6rlNjlnZmYtZ2ZmLWdmZi1nZmYtZ2ZmLSDNEDumip06Z2ZmLWdmZi1nZmYtZ2ZmLWdmZi1LTJ433AKoOWdmZi1nZmYtZ2ZmLWdmZi1nZmYt52StOZq9GzhnZmYtZ2ZmLWdmZi1nZmYtZ2ZmLfPudjkBT5c7Z2ZmLWdmZi1nZmYtZ2ZmLWdmZi0gHiI5CfI+OmdmZi1nZmYtZ2ZmLWdmZi1nZmYts7zJN7FIljpnZmYtZ2ZmLWdmZi1nZmYtZ2ZmLfYFtThbX7o8Z2ZmLWdmZi1nZmYtZ2ZmLWdmZi0lvXg3QborOWdmZi1nZmYtZ2ZmLWdmZi1nZmYtF5w/t6WyzbhnZmYtZ2ZmLWdmZi1nZmYtZ2ZmLTVEEreOXZ25Z2ZmLWdmZi1nZmYtZ2ZmLWdmZi1nZmYtwNCYuQ==",
          "dtype": "f4",
          "shape": "28, 7"
         }
        }
       ],
       "layout": {
        "coloraxis": {
         "cmid": 0,
         "colorscale": [
          [
           0,
           "rgb(103,0,31)"
          ],
          [
           0.1,
           "rgb(178,24,43)"
          ],
          [
           0.2,
           "rgb(214,96,77)"
          ],
          [
           0.3,
           "rgb(244,165,130)"
          ],
          [
           0.4,
           "rgb(253,219,199)"
          ],
          [
           0.5,
           "rgb(247,247,247)"
          ],
          [
           0.6,
           "rgb(209,229,240)"
          ],
          [
           0.7,
           "rgb(146,197,222)"
          ],
          [
           0.8,
           "rgb(67,147,195)"
          ],
          [
           0.9,
           "rgb(33,102,172)"
          ],
          [
           1,
           "rgb(5,48,97)"
          ]
         ]
        },
        "template": {
         "data": {
          "bar": [
           {
            "error_x": {
             "color": "#2a3f5f"
            },
            "error_y": {
             "color": "#2a3f5f"
            },
            "marker": {
             "line": {
              "color": "#E5ECF6",
              "width": 0.5
             },
             "pattern": {
              "fillmode": "overlay",
              "size": 10,
              "solidity": 0.2
             }
            },
            "type": "bar"
           }
          ],
          "barpolar": [
           {
            "marker": {
             "line": {
              "color": "#E5ECF6",
              "width": 0.5
             },
             "pattern": {
              "fillmode": "overlay",
              "size": 10,
              "solidity": 0.2
             }
            },
            "type": "barpolar"
           }
          ],
          "carpet": [
           {
            "aaxis": {
             "endlinecolor": "#2a3f5f",
             "gridcolor": "white",
             "linecolor": "white",
             "minorgridcolor": "white",
             "startlinecolor": "#2a3f5f"
            },
            "baxis": {
             "endlinecolor": "#2a3f5f",
             "gridcolor": "white",
             "linecolor": "white",
             "minorgridcolor": "white",
             "startlinecolor": "#2a3f5f"
            },
            "type": "carpet"
           }
          ],
          "choropleth": [
           {
            "colorbar": {
             "outlinewidth": 0,
             "ticks": ""
            },
            "type": "choropleth"
           }
          ],
          "contour": [
           {
            "colorbar": {
             "outlinewidth": 0,
             "ticks": ""
            },
            "colorscale": [
             [
              0,
              "#0d0887"
             ],
             [
              0.1111111111111111,
              "#46039f"
             ],
             [
              0.2222222222222222,
              "#7201a8"
             ],
             [
              0.3333333333333333,
              "#9c179e"
             ],
             [
              0.4444444444444444,
              "#bd3786"
             ],
             [
              0.5555555555555556,
              "#d8576b"
             ],
             [
              0.6666666666666666,
              "#ed7953"
             ],
             [
              0.7777777777777778,
              "#fb9f3a"
             ],
             [
              0.8888888888888888,
              "#fdca26"
             ],
             [
              1,
              "#f0f921"
             ]
            ],
            "type": "contour"
           }
          ],
          "contourcarpet": [
           {
            "colorbar": {
             "outlinewidth": 0,
             "ticks": ""
            },
            "type": "contourcarpet"
           }
          ],
          "heatmap": [
           {
            "colorbar": {
             "outlinewidth": 0,
             "ticks": ""
            },
            "colorscale": [
             [
              0,
              "#0d0887"
             ],
             [
              0.1111111111111111,
              "#46039f"
             ],
             [
              0.2222222222222222,
              "#7201a8"
             ],
             [
              0.3333333333333333,
              "#9c179e"
             ],
             [
              0.4444444444444444,
              "#bd3786"
             ],
             [
              0.5555555555555556,
              "#d8576b"
             ],
             [
              0.6666666666666666,
              "#ed7953"
             ],
             [
              0.7777777777777778,
              "#fb9f3a"
             ],
             [
              0.8888888888888888,
              "#fdca26"
             ],
             [
              1,
              "#f0f921"
             ]
            ],
            "type": "heatmap"
           }
          ],
          "histogram": [
           {
            "marker": {
             "pattern": {
              "fillmode": "overlay",
              "size": 10,
              "solidity": 0.2
             }
            },
            "type": "histogram"
           }
          ],
          "histogram2d": [
           {
            "colorbar": {
             "outlinewidth": 0,
             "ticks": ""
            },
            "colorscale": [
             [
              0,
              "#0d0887"
             ],
             [
              0.1111111111111111,
              "#46039f"
             ],
             [
              0.2222222222222222,
              "#7201a8"
             ],
             [
              0.3333333333333333,
              "#9c179e"
             ],
             [
              0.4444444444444444,
              "#bd3786"
             ],
             [
              0.5555555555555556,
              "#d8576b"
             ],
             [
              0.6666666666666666,
              "#ed7953"
             ],
             [
              0.7777777777777778,
              "#fb9f3a"
             ],
             [
              0.8888888888888888,
              "#fdca26"
             ],
             [
              1,
              "#f0f921"
             ]
            ],
            "type": "histogram2d"
           }
          ],
          "histogram2dcontour": [
           {
            "colorbar": {
             "outlinewidth": 0,
             "ticks": ""
            },
            "colorscale": [
             [
              0,
              "#0d0887"
             ],
             [
              0.1111111111111111,
              "#46039f"
             ],
             [
              0.2222222222222222,
              "#7201a8"
             ],
             [
              0.3333333333333333,
              "#9c179e"
             ],
             [
              0.4444444444444444,
              "#bd3786"
             ],
             [
              0.5555555555555556,
              "#d8576b"
             ],
             [
              0.6666666666666666,
              "#ed7953"
             ],
             [
              0.7777777777777778,
              "#fb9f3a"
             ],
             [
              0.8888888888888888,
              "#fdca26"
             ],
             [
              1,
              "#f0f921"
             ]
            ],
            "type": "histogram2dcontour"
           }
          ],
          "mesh3d": [
           {
            "colorbar": {
             "outlinewidth": 0,
             "ticks": ""
            },
            "type": "mesh3d"
           }
          ],
          "parcoords": [
           {
            "line": {
             "colorbar": {
              "outlinewidth": 0,
              "ticks": ""
             }
            },
            "type": "parcoords"
           }
          ],
          "pie": [
           {
            "automargin": true,
            "type": "pie"
           }
          ],
          "scatter": [
           {
            "fillpattern": {
             "fillmode": "overlay",
             "size": 10,
             "solidity": 0.2
            },
            "type": "scatter"
           }
          ],
          "scatter3d": [
           {
            "line": {
             "colorbar": {
              "outlinewidth": 0,
              "ticks": ""
             }
            },
            "marker": {
             "colorbar": {
              "outlinewidth": 0,
              "ticks": ""
             }
            },
            "type": "scatter3d"
           }
          ],
          "scattercarpet": [
           {
            "marker": {
             "colorbar": {
              "outlinewidth": 0,
              "ticks": ""
             }
            },
            "type": "scattercarpet"
           }
          ],
          "scattergeo": [
           {
            "marker": {
             "colorbar": {
              "outlinewidth": 0,
              "ticks": ""
             }
            },
            "type": "scattergeo"
           }
          ],
          "scattergl": [
           {
            "marker": {
             "colorbar": {
              "outlinewidth": 0,
              "ticks": ""
             }
            },
            "type": "scattergl"
           }
          ],
          "scattermap": [
           {
            "marker": {
             "colorbar": {
              "outlinewidth": 0,
              "ticks": ""
             }
            },
            "type": "scattermap"
           }
          ],
          "scattermapbox": [
           {
            "marker": {
             "colorbar": {
              "outlinewidth": 0,
              "ticks": ""
             }
            },
            "type": "scattermapbox"
           }
          ],
          "scatterpolar": [
           {
            "marker": {
             "colorbar": {
              "outlinewidth": 0,
              "ticks": ""
             }
            },
            "type": "scatterpolar"
           }
          ],
          "scatterpolargl": [
           {
            "marker": {
             "colorbar": {
              "outlinewidth": 0,
              "ticks": ""
             }
            },
            "type": "scatterpolargl"
           }
          ],
          "scatterternary": [
           {
            "marker": {
             "colorbar": {
              "outlinewidth": 0,
              "ticks": ""
             }
            },
            "type": "scatterternary"
           }
          ],
          "surface": [
           {
            "colorbar": {
             "outlinewidth": 0,
             "ticks": ""
            },
            "colorscale": [
             [
              0,
              "#0d0887"
             ],
             [
              0.1111111111111111,
              "#46039f"
             ],
             [
              0.2222222222222222,
              "#7201a8"
             ],
             [
              0.3333333333333333,
              "#9c179e"
             ],
             [
              0.4444444444444444,
              "#bd3786"
             ],
             [
              0.5555555555555556,
              "#d8576b"
             ],
             [
              0.6666666666666666,
              "#ed7953"
             ],
             [
              0.7777777777777778,
              "#fb9f3a"
             ],
             [
              0.8888888888888888,
              "#fdca26"
             ],
             [
              1,
              "#f0f921"
             ]
            ],
            "type": "surface"
           }
          ],
          "table": [
           {
            "cells": {
             "fill": {
              "color": "#EBF0F8"
             },
             "line": {
              "color": "white"
             }
            },
            "header": {
             "fill": {
              "color": "#C8D4E3"
             },
             "line": {
              "color": "white"
             }
            },
            "type": "table"
           }
          ]
         },
         "layout": {
          "annotationdefaults": {
           "arrowcolor": "#2a3f5f",
           "arrowhead": 0,
           "arrowwidth": 1
          },
          "autotypenumbers": "strict",
          "coloraxis": {
           "colorbar": {
            "outlinewidth": 0,
            "ticks": ""
           }
          },
          "colorscale": {
           "diverging": [
            [
             0,
             "#8e0152"
            ],
            [
             0.1,
             "#c51b7d"
            ],
            [
             0.2,
             "#de77ae"
            ],
            [
             0.3,
             "#f1b6da"
            ],
            [
             0.4,
             "#fde0ef"
            ],
            [
             0.5,
             "#f7f7f7"
            ],
            [
             0.6,
             "#e6f5d0"
            ],
            [
             0.7,
             "#b8e186"
            ],
            [
             0.8,
             "#7fbc41"
            ],
            [
             0.9,
             "#4d9221"
            ],
            [
             1,
             "#276419"
            ]
           ],
           "sequential": [
            [
             0,
             "#0d0887"
            ],
            [
             0.1111111111111111,
             "#46039f"
            ],
            [
             0.2222222222222222,
             "#7201a8"
            ],
            [
             0.3333333333333333,
             "#9c179e"
            ],
            [
             0.4444444444444444,
             "#bd3786"
            ],
            [
             0.5555555555555556,
             "#d8576b"
            ],
            [
             0.6666666666666666,
             "#ed7953"
            ],
            [
             0.7777777777777778,
             "#fb9f3a"
            ],
            [
             0.8888888888888888,
             "#fdca26"
            ],
            [
             1,
             "#f0f921"
            ]
           ],
           "sequentialminus": [
            [
             0,
             "#0d0887"
            ],
            [
             0.1111111111111111,
             "#46039f"
            ],
            [
             0.2222222222222222,
             "#7201a8"
            ],
            [
             0.3333333333333333,
             "#9c179e"
            ],
            [
             0.4444444444444444,
             "#bd3786"
            ],
            [
             0.5555555555555556,
             "#d8576b"
            ],
            [
             0.6666666666666666,
             "#ed7953"
            ],
            [
             0.7777777777777778,
             "#fb9f3a"
            ],
            [
             0.8888888888888888,
             "#fdca26"
            ],
            [
             1,
             "#f0f921"
            ]
           ]
          },
          "colorway": [
           "#636efa",
           "#EF553B",
           "#00cc96",
           "#ab63fa",
           "#FFA15A",
           "#19d3f3",
           "#FF6692",
           "#B6E880",
           "#FF97FF",
           "#FECB52"
          ],
          "font": {
           "color": "#2a3f5f"
          },
          "geo": {
           "bgcolor": "white",
           "lakecolor": "white",
           "landcolor": "#E5ECF6",
           "showlakes": true,
           "showland": true,
           "subunitcolor": "white"
          },
          "hoverlabel": {
           "align": "left"
          },
          "hovermode": "closest",
          "mapbox": {
           "style": "light"
          },
          "paper_bgcolor": "white",
          "plot_bgcolor": "#E5ECF6",
          "polar": {
           "angularaxis": {
            "gridcolor": "white",
            "linecolor": "white",
            "ticks": ""
           },
           "bgcolor": "#E5ECF6",
           "radialaxis": {
            "gridcolor": "white",
            "linecolor": "white",
            "ticks": ""
           }
          },
          "scene": {
           "xaxis": {
            "backgroundcolor": "#E5ECF6",
            "gridcolor": "white",
            "gridwidth": 2,
            "linecolor": "white",
            "showbackground": true,
            "ticks": "",
            "zerolinecolor": "white"
           },
           "yaxis": {
            "backgroundcolor": "#E5ECF6",
            "gridcolor": "white",
            "gridwidth": 2,
            "linecolor": "white",
            "showbackground": true,
            "ticks": "",
            "zerolinecolor": "white"
           },
           "zaxis": {
            "backgroundcolor": "#E5ECF6",
            "gridcolor": "white",
            "gridwidth": 2,
            "linecolor": "white",
            "showbackground": true,
            "ticks": "",
            "zerolinecolor": "white"
           }
          },
          "shapedefaults": {
           "line": {
            "color": "#2a3f5f"
           }
          },
          "ternary": {
           "aaxis": {
            "gridcolor": "white",
            "linecolor": "white",
            "ticks": ""
           },
           "baxis": {
            "gridcolor": "white",
            "linecolor": "white",
            "ticks": ""
           },
           "bgcolor": "#E5ECF6",
           "caxis": {
            "gridcolor": "white",
            "linecolor": "white",
            "ticks": ""
           }
          },
          "title": {
           "x": 0.05
          },
          "xaxis": {
           "automargin": true,
           "gridcolor": "white",
           "linecolor": "white",
           "ticks": "",
           "title": {
            "standoff": 15
           },
           "zerolinecolor": "white",
           "zerolinewidth": 2
          },
          "yaxis": {
           "automargin": true,
           "gridcolor": "white",
           "linecolor": "white",
           "ticks": "",
           "title": {
            "standoff": 15
           },
           "zerolinecolor": "white",
           "zerolinewidth": 2
          }
         }
        },
        "title": {
         "text": "Logit Difference From Patched MLP Layer"
        },
        "xaxis": {
         "anchor": "y",
         "constrain": "domain",
         "domain": [
          0,
          1
         ],
         "scaleanchor": "y",
         "title": {
          "text": "Position"
         }
        },
        "yaxis": {
         "anchor": "x",
         "autorange": "reversed",
         "constrain": "domain",
         "domain": [
          0,
          1
         ],
         "title": {
          "text": "Layer"
         }
        }
       }
      },
      "image/png": "[encoded data removed]"
     },
     "metadata": {},
     "output_type": "display_data"
    }
   ],
   "source": [
    "imshow(\n",
    "    patched_mlp_diff_mean,\n",
    "    x=prompt_position_labels,\n",
    "    title=\"Logit Difference From Patched MLP Layer\",\n",
    "    labels={\"x\": \"Position\", \"y\": \"Layer\"},\n",
    ")"
   ]
  },
  {
   "cell_type": "code",
   "execution_count": 34,
   "metadata": {},
   "outputs": [],
   "source": [
    "def patch_head_vector(\n",
    "    corrupted_head_vector: Float[torch.Tensor, \"batch pos head_index d_head\"],\n",
    "    hook,\n",
    "    head_index,\n",
    "    clean_cache,\n",
    "):\n",
    "    corrupted_head_vector[:, :, head_index, :] = clean_cache[hook.name][\n",
    "        :, :, head_index, :\n",
    "    ]\n",
    "    return corrupted_head_vector"
   ]
  },
  {
   "cell_type": "code",
   "execution_count": 31,
   "metadata": {},
   "outputs": [
    {
     "name": "stderr",
     "output_type": "stream",
     "text": [
      "Head patching: 100%|██████████| 20/20 [09:00<00:00, 27.04s/it]\n"
     ]
    }
   ],
   "source": [
    "patched_head_z_diff = torch.zeros(\n",
    "    NUM_SEEDS, model.cfg.n_layers, model.cfg.n_heads,\n",
    "    device=device, dtype=torch.float32\n",
    ")\n",
    "\n",
    "for seed in tqdm(range(NUM_SEEDS), desc=\"Head patching\"):\n",
    "    \n",
    "    # corruption hook for embeddings\n",
    "    hook_fn_embed = partial(\n",
    "        corrupt_embedding_hook,\n",
    "        subject_token_indices=subject_token_indices,\n",
    "        seed=seed\n",
    "    )\n",
    "\n",
    "    for layer in range(model.cfg.n_layers):\n",
    "        for head_index in range(model.cfg.n_heads):\n",
    "\n",
    "            # patch specific head's z\n",
    "            hook_fn = partial(\n",
    "                patch_head_vector,\n",
    "                head_index=head_index,\n",
    "                clean_cache=clean_cache\n",
    "            )\n",
    "\n",
    "            patched_logits = model.run_with_hooks(\n",
    "                clean_tokens,\n",
    "                fwd_hooks=[\n",
    "                    (utils.get_act_name(\"embed\"), hook_fn_embed),\n",
    "                    (utils.get_act_name(\"z\", layer, \"attn\"), hook_fn)\n",
    "                ],\n",
    "                return_type=\"logits\",\n",
    "            )\n",
    "\n",
    "            patched_logit_diff = causal_tracing_metric(patched_logits, answer_token)\n",
    "\n",
    "            patched_head_z_diff[seed, layer, head_index] = patched_logit_diff\n",
    "\n",
    "    model.reset_hooks(including_permanent=True)\n",
    "\n",
    "# Average across seeds\n",
    "patched_head_z_diff_mean = patched_head_z_diff.mean(dim=0) "
   ]
  },
  {
   "cell_type": "code",
   "execution_count": 32,
   "metadata": {},
   "outputs": [
    {
     "data": {
      "application/vnd.plotly.v1+json": {
       "config": {
        "plotlyServerURL": "https://plot.ly"
       },
       "data": [
        {
         "coloraxis": "coloraxis",
         "hovertemplate": "Head: %{x}<br>Layer: %{y}<br>color: %{z}<extra></extra>",
         "name": "0",
         "type": "heatmap",
         "xaxis": "x",
         "yaxis": "y",
         "z": {
          "bdata": "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",
          "dtype": "f4",
          "shape": "28, 16"
         }
        }
       ],
       "layout": {
        "coloraxis": {
         "cmid": 0,
         "colorscale": [
          [
           0,
           "rgb(103,0,31)"
          ],
          [
           0.1,
           "rgb(178,24,43)"
          ],
          [
           0.2,
           "rgb(214,96,77)"
          ],
          [
           0.3,
           "rgb(244,165,130)"
          ],
          [
           0.4,
           "rgb(253,219,199)"
          ],
          [
           0.5,
           "rgb(247,247,247)"
          ],
          [
           0.6,
           "rgb(209,229,240)"
          ],
          [
           0.7,
           "rgb(146,197,222)"
          ],
          [
           0.8,
           "rgb(67,147,195)"
          ],
          [
           0.9,
           "rgb(33,102,172)"
          ],
          [
           1,
           "rgb(5,48,97)"
          ]
         ]
        },
        "template": {
         "data": {
          "bar": [
           {
            "error_x": {
             "color": "#2a3f5f"
            },
            "error_y": {
             "color": "#2a3f5f"
            },
            "marker": {
             "line": {
              "color": "#E5ECF6",
              "width": 0.5
             },
             "pattern": {
              "fillmode": "overlay",
              "size": 10,
              "solidity": 0.2
             }
            },
            "type": "bar"
           }
          ],
          "barpolar": [
           {
            "marker": {
             "line": {
              "color": "#E5ECF6",
              "width": 0.5
             },
             "pattern": {
              "fillmode": "overlay",
              "size": 10,
              "solidity": 0.2
             }
            },
            "type": "barpolar"
           }
          ],
          "carpet": [
           {
            "aaxis": {
             "endlinecolor": "#2a3f5f",
             "gridcolor": "white",
             "linecolor": "white",
             "minorgridcolor": "white",
             "startlinecolor": "#2a3f5f"
            },
            "baxis": {
             "endlinecolor": "#2a3f5f",
             "gridcolor": "white",
             "linecolor": "white",
             "minorgridcolor": "white",
             "startlinecolor": "#2a3f5f"
            },
            "type": "carpet"
           }
          ],
          "choropleth": [
           {
            "colorbar": {
             "outlinewidth": 0,
             "ticks": ""
            },
            "type": "choropleth"
           }
          ],
          "contour": [
           {
            "colorbar": {
             "outlinewidth": 0,
             "ticks": ""
            },
            "colorscale": [
             [
              0,
              "#0d0887"
             ],
             [
              0.1111111111111111,
              "#46039f"
             ],
             [
              0.2222222222222222,
              "#7201a8"
             ],
             [
              0.3333333333333333,
              "#9c179e"
             ],
             [
              0.4444444444444444,
              "#bd3786"
             ],
             [
              0.5555555555555556,
              "#d8576b"
             ],
             [
              0.6666666666666666,
              "#ed7953"
             ],
             [
              0.7777777777777778,
              "#fb9f3a"
             ],
             [
              0.8888888888888888,
              "#fdca26"
             ],
             [
              1,
              "#f0f921"
             ]
            ],
            "type": "contour"
           }
          ],
          "contourcarpet": [
           {
            "colorbar": {
             "outlinewidth": 0,
             "ticks": ""
            },
            "type": "contourcarpet"
           }
          ],
          "heatmap": [
           {
            "colorbar": {
             "outlinewidth": 0,
             "ticks": ""
            },
            "colorscale": [
             [
              0,
              "#0d0887"
             ],
             [
              0.1111111111111111,
              "#46039f"
             ],
             [
              0.2222222222222222,
              "#7201a8"
             ],
             [
              0.3333333333333333,
              "#9c179e"
             ],
             [
              0.4444444444444444,
              "#bd3786"
             ],
             [
              0.5555555555555556,
              "#d8576b"
             ],
             [
              0.6666666666666666,
              "#ed7953"
             ],
             [
              0.7777777777777778,
              "#fb9f3a"
             ],
             [
              0.8888888888888888,
              "#fdca26"
             ],
             [
              1,
              "#f0f921"
             ]
            ],
            "type": "heatmap"
           }
          ],
          "histogram": [
           {
            "marker": {
             "pattern": {
              "fillmode": "overlay",
              "size": 10,
              "solidity": 0.2
             }
            },
            "type": "histogram"
           }
          ],
          "histogram2d": [
           {
            "colorbar": {
             "outlinewidth": 0,
             "ticks": ""
            },
            "colorscale": [
             [
              0,
              "#0d0887"
             ],
             [
              0.1111111111111111,
              "#46039f"
             ],
             [
              0.2222222222222222,
              "#7201a8"
             ],
             [
              0.3333333333333333,
              "#9c179e"
             ],
             [
              0.4444444444444444,
              "#bd3786"
             ],
             [
              0.5555555555555556,
              "#d8576b"
             ],
             [
              0.6666666666666666,
              "#ed7953"
             ],
             [
              0.7777777777777778,
              "#fb9f3a"
             ],
             [
              0.8888888888888888,
              "#fdca26"
             ],
             [
              1,
              "#f0f921"
             ]
            ],
            "type": "histogram2d"
           }
          ],
          "histogram2dcontour": [
           {
            "colorbar": {
             "outlinewidth": 0,
             "ticks": ""
            },
            "colorscale": [
             [
              0,
              "#0d0887"
             ],
             [
              0.1111111111111111,
              "#46039f"
             ],
             [
              0.2222222222222222,
              "#7201a8"
             ],
             [
              0.3333333333333333,
              "#9c179e"
             ],
             [
              0.4444444444444444,
              "#bd3786"
             ],
             [
              0.5555555555555556,
              "#d8576b"
             ],
             [
              0.6666666666666666,
              "#ed7953"
             ],
             [
              0.7777777777777778,
              "#fb9f3a"
             ],
             [
              0.8888888888888888,
              "#fdca26"
             ],
             [
              1,
              "#f0f921"
             ]
            ],
            "type": "histogram2dcontour"
           }
          ],
          "mesh3d": [
           {
            "colorbar": {
             "outlinewidth": 0,
             "ticks": ""
            },
            "type": "mesh3d"
           }
          ],
          "parcoords": [
           {
            "line": {
             "colorbar": {
              "outlinewidth": 0,
              "ticks": ""
             }
            },
            "type": "parcoords"
           }
          ],
          "pie": [
           {
            "automargin": true,
            "type": "pie"
           }
          ],
          "scatter": [
           {
            "fillpattern": {
             "fillmode": "overlay",
             "size": 10,
             "solidity": 0.2
            },
            "type": "scatter"
           }
          ],
          "scatter3d": [
           {
            "line": {
             "colorbar": {
              "outlinewidth": 0,
              "ticks": ""
             }
            },
            "marker": {
             "colorbar": {
              "outlinewidth": 0,
              "ticks": ""
             }
            },
            "type": "scatter3d"
           }
          ],
          "scattercarpet": [
           {
            "marker": {
             "colorbar": {
              "outlinewidth": 0,
              "ticks": ""
             }
            },
            "type": "scattercarpet"
           }
          ],
          "scattergeo": [
           {
            "marker": {
             "colorbar": {
              "outlinewidth": 0,
              "ticks": ""
             }
            },
            "type": "scattergeo"
           }
          ],
          "scattergl": [
           {
            "marker": {
             "colorbar": {
              "outlinewidth": 0,
              "ticks": ""
             }
            },
            "type": "scattergl"
           }
          ],
          "scattermap": [
           {
            "marker": {
             "colorbar": {
              "outlinewidth": 0,
              "ticks": ""
             }
            },
            "type": "scattermap"
           }
          ],
          "scattermapbox": [
           {
            "marker": {
             "colorbar": {
              "outlinewidth": 0,
              "ticks": ""
             }
            },
            "type": "scattermapbox"
           }
          ],
          "scatterpolar": [
           {
            "marker": {
             "colorbar": {
              "outlinewidth": 0,
              "ticks": ""
             }
            },
            "type": "scatterpolar"
           }
          ],
          "scatterpolargl": [
           {
            "marker": {
             "colorbar": {
              "outlinewidth": 0,
              "ticks": ""
             }
            },
            "type": "scatterpolargl"
           }
          ],
          "scatterternary": [
           {
            "marker": {
             "colorbar": {
              "outlinewidth": 0,
              "ticks": ""
             }
            },
            "type": "scatterternary"
           }
          ],
          "surface": [
           {
            "colorbar": {
             "outlinewidth": 0,
             "ticks": ""
            },
            "colorscale": [
             [
              0,
              "#0d0887"
             ],
             [
              0.1111111111111111,
              "#46039f"
             ],
             [
              0.2222222222222222,
              "#7201a8"
             ],
             [
              0.3333333333333333,
              "#9c179e"
             ],
             [
              0.4444444444444444,
              "#bd3786"
             ],
             [
              0.5555555555555556,
              "#d8576b"
             ],
             [
              0.6666666666666666,
              "#ed7953"
             ],
             [
              0.7777777777777778,
              "#fb9f3a"
             ],
             [
              0.8888888888888888,
              "#fdca26"
             ],
             [
              1,
              "#f0f921"
             ]
            ],
            "type": "surface"
           }
          ],
          "table": [
           {
            "cells": {
             "fill": {
              "color": "#EBF0F8"
             },
             "line": {
              "color": "white"
             }
            },
            "header": {
             "fill": {
              "color": "#C8D4E3"
             },
             "line": {
              "color": "white"
             }
            },
            "type": "table"
           }
          ]
         },
         "layout": {
          "annotationdefaults": {
           "arrowcolor": "#2a3f5f",
           "arrowhead": 0,
           "arrowwidth": 1
          },
          "autotypenumbers": "strict",
          "coloraxis": {
           "colorbar": {
            "outlinewidth": 0,
            "ticks": ""
           }
          },
          "colorscale": {
           "diverging": [
            [
             0,
             "#8e0152"
            ],
            [
             0.1,
             "#c51b7d"
            ],
            [
             0.2,
             "#de77ae"
            ],
            [
             0.3,
             "#f1b6da"
            ],
            [
             0.4,
             "#fde0ef"
            ],
            [
             0.5,
             "#f7f7f7"
            ],
            [
             0.6,
             "#e6f5d0"
            ],
            [
             0.7,
             "#b8e186"
            ],
            [
             0.8,
             "#7fbc41"
            ],
            [
             0.9,
             "#4d9221"
            ],
            [
             1,
             "#276419"
            ]
           ],
           "sequential": [
            [
             0,
             "#0d0887"
            ],
            [
             0.1111111111111111,
             "#46039f"
            ],
            [
             0.2222222222222222,
             "#7201a8"
            ],
            [
             0.3333333333333333,
             "#9c179e"
            ],
            [
             0.4444444444444444,
             "#bd3786"
            ],
            [
             0.5555555555555556,
             "#d8576b"
            ],
            [
             0.6666666666666666,
             "#ed7953"
            ],
            [
             0.7777777777777778,
             "#fb9f3a"
            ],
            [
             0.8888888888888888,
             "#fdca26"
            ],
            [
             1,
             "#f0f921"
            ]
           ],
           "sequentialminus": [
            [
             0,
             "#0d0887"
            ],
            [
             0.1111111111111111,
             "#46039f"
            ],
            [
             0.2222222222222222,
             "#7201a8"
            ],
            [
             0.3333333333333333,
             "#9c179e"
            ],
            [
             0.4444444444444444,
             "#bd3786"
            ],
            [
             0.5555555555555556,
             "#d8576b"
            ],
            [
             0.6666666666666666,
             "#ed7953"
            ],
            [
             0.7777777777777778,
             "#fb9f3a"
            ],
            [
             0.8888888888888888,
             "#fdca26"
            ],
            [
             1,
             "#f0f921"
            ]
           ]
          },
          "colorway": [
           "#636efa",
           "#EF553B",
           "#00cc96",
           "#ab63fa",
           "#FFA15A",
           "#19d3f3",
           "#FF6692",
           "#B6E880",
           "#FF97FF",
           "#FECB52"
          ],
          "font": {
           "color": "#2a3f5f"
          },
          "geo": {
           "bgcolor": "white",
           "lakecolor": "white",
           "landcolor": "#E5ECF6",
           "showlakes": true,
           "showland": true,
           "subunitcolor": "white"
          },
          "hoverlabel": {
           "align": "left"
          },
          "hovermode": "closest",
          "mapbox": {
           "style": "light"
          },
          "paper_bgcolor": "white",
          "plot_bgcolor": "#E5ECF6",
          "polar": {
           "angularaxis": {
            "gridcolor": "white",
            "linecolor": "white",
            "ticks": ""
           },
           "bgcolor": "#E5ECF6",
           "radialaxis": {
            "gridcolor": "white",
            "linecolor": "white",
            "ticks": ""
           }
          },
          "scene": {
           "xaxis": {
            "backgroundcolor": "#E5ECF6",
            "gridcolor": "white",
            "gridwidth": 2,
            "linecolor": "white",
            "showbackground": true,
            "ticks": "",
            "zerolinecolor": "white"
           },
           "yaxis": {
            "backgroundcolor": "#E5ECF6",
            "gridcolor": "white",
            "gridwidth": 2,
            "linecolor": "white",
            "showbackground": true,
            "ticks": "",
            "zerolinecolor": "white"
           },
           "zaxis": {
            "backgroundcolor": "#E5ECF6",
            "gridcolor": "white",
            "gridwidth": 2,
            "linecolor": "white",
            "showbackground": true,
            "ticks": "",
            "zerolinecolor": "white"
           }
          },
          "shapedefaults": {
           "line": {
            "color": "#2a3f5f"
           }
          },
          "ternary": {
           "aaxis": {
            "gridcolor": "white",
            "linecolor": "white",
            "ticks": ""
           },
           "baxis": {
            "gridcolor": "white",
            "linecolor": "white",
            "ticks": ""
           },
           "bgcolor": "#E5ECF6",
           "caxis": {
            "gridcolor": "white",
            "linecolor": "white",
            "ticks": ""
           }
          },
          "title": {
           "x": 0.05
          },
          "xaxis": {
           "automargin": true,
           "gridcolor": "white",
           "linecolor": "white",
           "ticks": "",
           "title": {
            "standoff": 15
           },
           "zerolinecolor": "white",
           "zerolinewidth": 2
          },
          "yaxis": {
           "automargin": true,
           "gridcolor": "white",
           "linecolor": "white",
           "ticks": "",
           "title": {
            "standoff": 15
           },
           "zerolinecolor": "white",
           "zerolinewidth": 2
          }
         }
        },
        "title": {
         "text": "Logit Difference From Patched Head Output"
        },
        "xaxis": {
         "anchor": "y",
         "domain": [
          0,
          1
         ],
         "title": {
          "text": "Head"
         }
        },
        "yaxis": {
         "anchor": "x",
         "autorange": "reversed",
         "domain": [
          0,
          1
         ],
         "title": {
          "text": "Layer"
         }
        }
       }
      },
      "image/png": "[encoded data removed]"
     },
     "metadata": {},
     "output_type": "display_data"
    }
   ],
   "source": [
    "imshow(\n",
    "    patched_head_z_diff_mean,\n",
    "    title=\"Logit Difference From Patched Head Output\",\n",
    "    labels={\"x\": \"Head\", \"y\": \"Layer\"},\n",
    "    aspect='auto'\n",
    ")"
   ]
  },
  {
   "cell_type": "code",
   "execution_count": 33,
   "metadata": {},
   "outputs": [
    {
     "data": {
      "application/vnd.plotly.v1+json": {
       "config": {
        "plotlyServerURL": "https://plot.ly"
       },
       "data": [
        {
         "coloraxis": "coloraxis",
         "hovertemplate": "Head: %{x}<br>Layer: %{y}<br>color: %{z}<extra></extra>",
         "name": "0",
         "type": "heatmap",
         "xaxis": "x",
         "yaxis": "y",
         "z": {
          "bdata": "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",
          "dtype": "f4",
          "shape": "28, 16"
         }
        }
       ],
       "layout": {
        "coloraxis": {
         "cmid": 0,
         "colorscale": [
          [
           0,
           "rgb(103,0,31)"
          ],
          [
           0.1,
           "rgb(178,24,43)"
          ],
          [
           0.2,
           "rgb(214,96,77)"
          ],
          [
           0.3,
           "rgb(244,165,130)"
          ],
          [
           0.4,
           "rgb(253,219,199)"
          ],
          [
           0.5,
           "rgb(247,247,247)"
          ],
          [
           0.6,
           "rgb(209,229,240)"
          ],
          [
           0.7,
           "rgb(146,197,222)"
          ],
          [
           0.8,
           "rgb(67,147,195)"
          ],
          [
           0.9,
           "rgb(33,102,172)"
          ],
          [
           1,
           "rgb(5,48,97)"
          ]
         ]
        },
        "template": {
         "data": {
          "bar": [
           {
            "error_x": {
             "color": "#2a3f5f"
            },
            "error_y": {
             "color": "#2a3f5f"
            },
            "marker": {
             "line": {
              "color": "#E5ECF6",
              "width": 0.5
             },
             "pattern": {
              "fillmode": "overlay",
              "size": 10,
              "solidity": 0.2
             }
            },
            "type": "bar"
           }
          ],
          "barpolar": [
           {
            "marker": {
             "line": {
              "color": "#E5ECF6",
              "width": 0.5
             },
             "pattern": {
              "fillmode": "overlay",
              "size": 10,
              "solidity": 0.2
             }
            },
            "type": "barpolar"
           }
          ],
          "carpet": [
           {
            "aaxis": {
             "endlinecolor": "#2a3f5f",
             "gridcolor": "white",
             "linecolor": "white",
             "minorgridcolor": "white",
             "startlinecolor": "#2a3f5f"
            },
            "baxis": {
             "endlinecolor": "#2a3f5f",
             "gridcolor": "white",
             "linecolor": "white",
             "minorgridcolor": "white",
             "startlinecolor": "#2a3f5f"
            },
            "type": "carpet"
           }
          ],
          "choropleth": [
           {
            "colorbar": {
             "outlinewidth": 0,
             "ticks": ""
            },
            "type": "choropleth"
           }
          ],
          "contour": [
           {
            "colorbar": {
             "outlinewidth": 0,
             "ticks": ""
            },
            "colorscale": [
             [
              0,
              "#0d0887"
             ],
             [
              0.1111111111111111,
              "#46039f"
             ],
             [
              0.2222222222222222,
              "#7201a8"
             ],
             [
              0.3333333333333333,
              "#9c179e"
             ],
             [
              0.4444444444444444,
              "#bd3786"
             ],
             [
              0.5555555555555556,
              "#d8576b"
             ],
             [
              0.6666666666666666,
              "#ed7953"
             ],
             [
              0.7777777777777778,
              "#fb9f3a"
             ],
             [
              0.8888888888888888,
              "#fdca26"
             ],
             [
              1,
              "#f0f921"
             ]
            ],
            "type": "contour"
           }
          ],
          "contourcarpet": [
           {
            "colorbar": {
             "outlinewidth": 0,
             "ticks": ""
            },
            "type": "contourcarpet"
           }
          ],
          "heatmap": [
           {
            "colorbar": {
             "outlinewidth": 0,
             "ticks": ""
            },
            "colorscale": [
             [
              0,
              "#0d0887"
             ],
             [
              0.1111111111111111,
              "#46039f"
             ],
             [
              0.2222222222222222,
              "#7201a8"
             ],
             [
              0.3333333333333333,
              "#9c179e"
             ],
             [
              0.4444444444444444,
              "#bd3786"
             ],
             [
              0.5555555555555556,
              "#d8576b"
             ],
             [
              0.6666666666666666,
              "#ed7953"
             ],
             [
              0.7777777777777778,
              "#fb9f3a"
             ],
             [
              0.8888888888888888,
              "#fdca26"
             ],
             [
              1,
              "#f0f921"
             ]
            ],
            "type": "heatmap"
           }
          ],
          "histogram": [
           {
            "marker": {
             "pattern": {
              "fillmode": "overlay",
              "size": 10,
              "solidity": 0.2
             }
            },
            "type": "histogram"
           }
          ],
          "histogram2d": [
           {
            "colorbar": {
             "outlinewidth": 0,
             "ticks": ""
            },
            "colorscale": [
             [
              0,
              "#0d0887"
             ],
             [
              0.1111111111111111,
              "#46039f"
             ],
             [
              0.2222222222222222,
              "#7201a8"
             ],
             [
              0.3333333333333333,
              "#9c179e"
             ],
             [
              0.4444444444444444,
              "#bd3786"
             ],
             [
              0.5555555555555556,
              "#d8576b"
             ],
             [
              0.6666666666666666,
              "#ed7953"
             ],
             [
              0.7777777777777778,
              "#fb9f3a"
             ],
             [
              0.8888888888888888,
              "#fdca26"
             ],
             [
              1,
              "#f0f921"
             ]
            ],
            "type": "histogram2d"
           }
          ],
          "histogram2dcontour": [
           {
            "colorbar": {
             "outlinewidth": 0,
             "ticks": ""
            },
            "colorscale": [
             [
              0,
              "#0d0887"
             ],
             [
              0.1111111111111111,
              "#46039f"
             ],
             [
              0.2222222222222222,
              "#7201a8"
             ],
             [
              0.3333333333333333,
              "#9c179e"
             ],
             [
              0.4444444444444444,
              "#bd3786"
             ],
             [
              0.5555555555555556,
              "#d8576b"
             ],
             [
              0.6666666666666666,
              "#ed7953"
             ],
             [
              0.7777777777777778,
              "#fb9f3a"
             ],
             [
              0.8888888888888888,
              "#fdca26"
             ],
             [
              1,
              "#f0f921"
             ]
            ],
            "type": "histogram2dcontour"
           }
          ],
          "mesh3d": [
           {
            "colorbar": {
             "outlinewidth": 0,
             "ticks": ""
            },
            "type": "mesh3d"
           }
          ],
          "parcoords": [
           {
            "line": {
             "colorbar": {
              "outlinewidth": 0,
              "ticks": ""
             }
            },
            "type": "parcoords"
           }
          ],
          "pie": [
           {
            "automargin": true,
            "type": "pie"
           }
          ],
          "scatter": [
           {
            "fillpattern": {
             "fillmode": "overlay",
             "size": 10,
             "solidity": 0.2
            },
            "type": "scatter"
           }
          ],
          "scatter3d": [
           {
            "line": {
             "colorbar": {
              "outlinewidth": 0,
              "ticks": ""
             }
            },
            "marker": {
             "colorbar": {
              "outlinewidth": 0,
              "ticks": ""
             }
            },
            "type": "scatter3d"
           }
          ],
          "scattercarpet": [
           {
            "marker": {
             "colorbar": {
              "outlinewidth": 0,
              "ticks": ""
             }
            },
            "type": "scattercarpet"
           }
          ],
          "scattergeo": [
           {
            "marker": {
             "colorbar": {
              "outlinewidth": 0,
              "ticks": ""
             }
            },
            "type": "scattergeo"
           }
          ],
          "scattergl": [
           {
            "marker": {
             "colorbar": {
              "outlinewidth": 0,
              "ticks": ""
             }
            },
            "type": "scattergl"
           }
          ],
          "scattermap": [
           {
            "marker": {
             "colorbar": {
              "outlinewidth": 0,
              "ticks": ""
             }
            },
            "type": "scattermap"
           }
          ],
          "scattermapbox": [
           {
            "marker": {
             "colorbar": {
              "outlinewidth": 0,
              "ticks": ""
             }
            },
            "type": "scattermapbox"
           }
          ],
          "scatterpolar": [
           {
            "marker": {
             "colorbar": {
              "outlinewidth": 0,
              "ticks": ""
             }
            },
            "type": "scatterpolar"
           }
          ],
          "scatterpolargl": [
           {
            "marker": {
             "colorbar": {
              "outlinewidth": 0,
              "ticks": ""
             }
            },
            "type": "scatterpolargl"
           }
          ],
          "scatterternary": [
           {
            "marker": {
             "colorbar": {
              "outlinewidth": 0,
              "ticks": ""
             }
            },
            "type": "scatterternary"
           }
          ],
          "surface": [
           {
            "colorbar": {
             "outlinewidth": 0,
             "ticks": ""
            },
            "colorscale": [
             [
              0,
              "#0d0887"
             ],
             [
              0.1111111111111111,
              "#46039f"
             ],
             [
              0.2222222222222222,
              "#7201a8"
             ],
             [
              0.3333333333333333,
              "#9c179e"
             ],
             [
              0.4444444444444444,
              "#bd3786"
             ],
             [
              0.5555555555555556,
              "#d8576b"
             ],
             [
              0.6666666666666666,
              "#ed7953"
             ],
             [
              0.7777777777777778,
              "#fb9f3a"
             ],
             [
              0.8888888888888888,
              "#fdca26"
             ],
             [
              1,
              "#f0f921"
             ]
            ],
            "type": "surface"
           }
          ],
          "table": [
           {
            "cells": {
             "fill": {
              "color": "#EBF0F8"
             },
             "line": {
              "color": "white"
             }
            },
            "header": {
             "fill": {
              "color": "#C8D4E3"
             },
             "line": {
              "color": "white"
             }
            },
            "type": "table"
           }
          ]
         },
         "layout": {
          "annotationdefaults": {
           "arrowcolor": "#2a3f5f",
           "arrowhead": 0,
           "arrowwidth": 1
          },
          "autotypenumbers": "strict",
          "coloraxis": {
           "colorbar": {
            "outlinewidth": 0,
            "ticks": ""
           }
          },
          "colorscale": {
           "diverging": [
            [
             0,
             "#8e0152"
            ],
            [
             0.1,
             "#c51b7d"
            ],
            [
             0.2,
             "#de77ae"
            ],
            [
             0.3,
             "#f1b6da"
            ],
            [
             0.4,
             "#fde0ef"
            ],
            [
             0.5,
             "#f7f7f7"
            ],
            [
             0.6,
             "#e6f5d0"
            ],
            [
             0.7,
             "#b8e186"
            ],
            [
             0.8,
             "#7fbc41"
            ],
            [
             0.9,
             "#4d9221"
            ],
            [
             1,
             "#276419"
            ]
           ],
           "sequential": [
            [
             0,
             "#0d0887"
            ],
            [
             0.1111111111111111,
             "#46039f"
            ],
            [
             0.2222222222222222,
             "#7201a8"
            ],
            [
             0.3333333333333333,
             "#9c179e"
            ],
            [
             0.4444444444444444,
             "#bd3786"
            ],
            [
             0.5555555555555556,
             "#d8576b"
            ],
            [
             0.6666666666666666,
             "#ed7953"
            ],
            [
             0.7777777777777778,
             "#fb9f3a"
            ],
            [
             0.8888888888888888,
             "#fdca26"
            ],
            [
             1,
             "#f0f921"
            ]
           ],
           "sequentialminus": [
            [
             0,
             "#0d0887"
            ],
            [
             0.1111111111111111,
             "#46039f"
            ],
            [
             0.2222222222222222,
             "#7201a8"
            ],
            [
             0.3333333333333333,
             "#9c179e"
            ],
            [
             0.4444444444444444,
             "#bd3786"
            ],
            [
             0.5555555555555556,
             "#d8576b"
            ],
            [
             0.6666666666666666,
             "#ed7953"
            ],
            [
             0.7777777777777778,
             "#fb9f3a"
            ],
            [
             0.8888888888888888,
             "#fdca26"
            ],
            [
             1,
             "#f0f921"
            ]
           ]
          },
          "colorway": [
           "#636efa",
           "#EF553B",
           "#00cc96",
           "#ab63fa",
           "#FFA15A",
           "#19d3f3",
           "#FF6692",
           "#B6E880",
           "#FF97FF",
           "#FECB52"
          ],
          "font": {
           "color": "#2a3f5f"
          },
          "geo": {
           "bgcolor": "white",
           "lakecolor": "white",
           "landcolor": "#E5ECF6",
           "showlakes": true,
           "showland": true,
           "subunitcolor": "white"
          },
          "hoverlabel": {
           "align": "left"
          },
          "hovermode": "closest",
          "mapbox": {
           "style": "light"
          },
          "paper_bgcolor": "white",
          "plot_bgcolor": "#E5ECF6",
          "polar": {
           "angularaxis": {
            "gridcolor": "white",
            "linecolor": "white",
            "ticks": ""
           },
           "bgcolor": "#E5ECF6",
           "radialaxis": {
            "gridcolor": "white",
            "linecolor": "white",
            "ticks": ""
           }
          },
          "scene": {
           "xaxis": {
            "backgroundcolor": "#E5ECF6",
            "gridcolor": "white",
            "gridwidth": 2,
            "linecolor": "white",
            "showbackground": true,
            "ticks": "",
            "zerolinecolor": "white"
           },
           "yaxis": {
            "backgroundcolor": "#E5ECF6",
            "gridcolor": "white",
            "gridwidth": 2,
            "linecolor": "white",
            "showbackground": true,
            "ticks": "",
            "zerolinecolor": "white"
           },
           "zaxis": {
            "backgroundcolor": "#E5ECF6",
            "gridcolor": "white",
            "gridwidth": 2,
            "linecolor": "white",
            "showbackground": true,
            "ticks": "",
            "zerolinecolor": "white"
           }
          },
          "shapedefaults": {
           "line": {
            "color": "#2a3f5f"
           }
          },
          "ternary": {
           "aaxis": {
            "gridcolor": "white",
            "linecolor": "white",
            "ticks": ""
           },
           "baxis": {
            "gridcolor": "white",
            "linecolor": "white",
            "ticks": ""
           },
           "bgcolor": "#E5ECF6",
           "caxis": {
            "gridcolor": "white",
            "linecolor": "white",
            "ticks": ""
           }
          },
          "title": {
           "x": 0.05
          },
          "xaxis": {
           "automargin": true,
           "gridcolor": "white",
           "linecolor": "white",
           "ticks": "",
           "title": {
            "standoff": 15
           },
           "zerolinecolor": "white",
           "zerolinewidth": 2
          },
          "yaxis": {
           "automargin": true,
           "gridcolor": "white",
           "linecolor": "white",
           "ticks": "",
           "title": {
            "standoff": 15
           },
           "zerolinecolor": "white",
           "zerolinewidth": 2
          }
         }
        },
        "title": {
         "text": "Logit Difference From Patched Head Output"
        },
        "xaxis": {
         "anchor": "y",
         "domain": [
          0,
          1
         ],
         "title": {
          "text": "Head"
         }
        },
        "yaxis": {
         "anchor": "x",
         "autorange": "reversed",
         "domain": [
          0,
          1
         ],
         "title": {
          "text": "Layer"
         }
        }
       }
      },
      "image/png": "[encoded data removed]"
     },
     "metadata": {},
     "output_type": "display_data"
    }
   ],
   "source": [
    "imshow(\n",
    "    patched_head_z_diff_mean,\n",
    "    title=\"Logit Difference From Patched Head Output\",\n",
    "    labels={\"x\": \"Head\", \"y\": \"Layer\"},\n",
    "    aspect='auto'\n",
    ")"
   ]
  },
  {
   "cell_type": "code",
   "execution_count": 35,
   "metadata": {},
   "outputs": [
    {
     "name": "stderr",
     "output_type": "stream",
     "text": [
      "100%|██████████| 28/28 [00:32<00:00,  1.17s/it]\n"
     ]
    }
   ],
   "source": [
    "patched_head_v_diff = torch.zeros(\n",
    "    model.cfg.n_layers, model.cfg.n_heads, device=device, dtype=torch.float32\n",
    ")\n",
    "\n",
    "n_heads_q = model.cfg.n_heads\n",
    "n_heads_kv = getattr(model.cfg, \"n_key_value_heads\", n_heads_q)  # fallback for non-GQA\n",
    "\n",
    "for layer in tqdm(range(model.cfg.n_layers)):\n",
    "    for head_index in range(n_heads_q):\n",
    "        kv_index = head_index // (n_heads_q // n_heads_kv)  # map query head -> kv head\n",
    "\n",
    "        hook_fn = partial(patch_head_vector, head_index=kv_index, clean_cache=clean_cache)\n",
    "        patched_logits = model.run_with_hooks(\n",
    "            corrupted_tokens,\n",
    "            fwd_hooks=[\n",
    "                # (utils.get_act_name(\"embed\"), emb_hook_fn),\n",
    "                (utils.get_act_name(\"v\", layer, \"attn\"), hook_fn)\n",
    "            ],\n",
    "            return_type=\"logits\",\n",
    "        )\n",
    "        patched_logit_diff = causal_tracing_metric(patched_logits,answer_tokens)\n",
    "        patched_head_v_diff[layer, head_index] = patched_logit_diff"
   ]
  },
  {
   "cell_type": "code",
   "execution_count": 36,
   "metadata": {},
   "outputs": [
    {
     "data": {
      "application/vnd.plotly.v1+json": {
       "config": {
        "plotlyServerURL": "https://plot.ly"
       },
       "data": [
        {
         "coloraxis": "coloraxis",
         "hovertemplate": "Head: %{x}<br>Layer: %{y}<br>color: %{z}<extra></extra>",
         "name": "0",
         "type": "heatmap",
         "xaxis": "x",
         "yaxis": "y",
         "z": {
          "bdata": "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",
          "dtype": "f4",
          "shape": "28, 16"
         }
        }
       ],
       "layout": {
        "coloraxis": {
         "cmid": 0,
         "colorscale": [
          [
           0,
           "rgb(103,0,31)"
          ],
          [
           0.1,
           "rgb(178,24,43)"
          ],
          [
           0.2,
           "rgb(214,96,77)"
          ],
          [
           0.3,
           "rgb(244,165,130)"
          ],
          [
           0.4,
           "rgb(253,219,199)"
          ],
          [
           0.5,
           "rgb(247,247,247)"
          ],
          [
           0.6,
           "rgb(209,229,240)"
          ],
          [
           0.7,
           "rgb(146,197,222)"
          ],
          [
           0.8,
           "rgb(67,147,195)"
          ],
          [
           0.9,
           "rgb(33,102,172)"
          ],
          [
           1,
           "rgb(5,48,97)"
          ]
         ]
        },
        "template": {
         "data": {
          "bar": [
           {
            "error_x": {
             "color": "#2a3f5f"
            },
            "error_y": {
             "color": "#2a3f5f"
            },
            "marker": {
             "line": {
              "color": "#E5ECF6",
              "width": 0.5
             },
             "pattern": {
              "fillmode": "overlay",
              "size": 10,
              "solidity": 0.2
             }
            },
            "type": "bar"
           }
          ],
          "barpolar": [
           {
            "marker": {
             "line": {
              "color": "#E5ECF6",
              "width": 0.5
             },
             "pattern": {
              "fillmode": "overlay",
              "size": 10,
              "solidity": 0.2
             }
            },
            "type": "barpolar"
           }
          ],
          "carpet": [
           {
            "aaxis": {
             "endlinecolor": "#2a3f5f",
             "gridcolor": "white",
             "linecolor": "white",
             "minorgridcolor": "white",
             "startlinecolor": "#2a3f5f"
            },
            "baxis": {
             "endlinecolor": "#2a3f5f",
             "gridcolor": "white",
             "linecolor": "white",
             "minorgridcolor": "white",
             "startlinecolor": "#2a3f5f"
            },
            "type": "carpet"
           }
          ],
          "choropleth": [
           {
            "colorbar": {
             "outlinewidth": 0,
             "ticks": ""
            },
            "type": "choropleth"
           }
          ],
          "contour": [
           {
            "colorbar": {
             "outlinewidth": 0,
             "ticks": ""
            },
            "colorscale": [
             [
              0,
              "#0d0887"
             ],
             [
              0.1111111111111111,
              "#46039f"
             ],
             [
              0.2222222222222222,
              "#7201a8"
             ],
             [
              0.3333333333333333,
              "#9c179e"
             ],
             [
              0.4444444444444444,
              "#bd3786"
             ],
             [
              0.5555555555555556,
              "#d8576b"
             ],
             [
              0.6666666666666666,
              "#ed7953"
             ],
             [
              0.7777777777777778,
              "#fb9f3a"
             ],
             [
              0.8888888888888888,
              "#fdca26"
             ],
             [
              1,
              "#f0f921"
             ]
            ],
            "type": "contour"
           }
          ],
          "contourcarpet": [
           {
            "colorbar": {
             "outlinewidth": 0,
             "ticks": ""
            },
            "type": "contourcarpet"
           }
          ],
          "heatmap": [
           {
            "colorbar": {
             "outlinewidth": 0,
             "ticks": ""
            },
            "colorscale": [
             [
              0,
              "#0d0887"
             ],
             [
              0.1111111111111111,
              "#46039f"
             ],
             [
              0.2222222222222222,
              "#7201a8"
             ],
             [
              0.3333333333333333,
              "#9c179e"
             ],
             [
              0.4444444444444444,
              "#bd3786"
             ],
             [
              0.5555555555555556,
              "#d8576b"
             ],
             [
              0.6666666666666666,
              "#ed7953"
             ],
             [
              0.7777777777777778,
              "#fb9f3a"
             ],
             [
              0.8888888888888888,
              "#fdca26"
             ],
             [
              1,
              "#f0f921"
             ]
            ],
            "type": "heatmap"
           }
          ],
          "histogram": [
           {
            "marker": {
             "pattern": {
              "fillmode": "overlay",
              "size": 10,
              "solidity": 0.2
             }
            },
            "type": "histogram"
           }
          ],
          "histogram2d": [
           {
            "colorbar": {
             "outlinewidth": 0,
             "ticks": ""
            },
            "colorscale": [
             [
              0,
              "#0d0887"
             ],
             [
              0.1111111111111111,
              "#46039f"
             ],
             [
              0.2222222222222222,
              "#7201a8"
             ],
             [
              0.3333333333333333,
              "#9c179e"
             ],
             [
              0.4444444444444444,
              "#bd3786"
             ],
             [
              0.5555555555555556,
              "#d8576b"
             ],
             [
              0.6666666666666666,
              "#ed7953"
             ],
             [
              0.7777777777777778,
              "#fb9f3a"
             ],
             [
              0.8888888888888888,
              "#fdca26"
             ],
             [
              1,
              "#f0f921"
             ]
            ],
            "type": "histogram2d"
           }
          ],
          "histogram2dcontour": [
           {
            "colorbar": {
             "outlinewidth": 0,
             "ticks": ""
            },
            "colorscale": [
             [
              0,
              "#0d0887"
             ],
             [
              0.1111111111111111,
              "#46039f"
             ],
             [
              0.2222222222222222,
              "#7201a8"
             ],
             [
              0.3333333333333333,
              "#9c179e"
             ],
             [
              0.4444444444444444,
              "#bd3786"
             ],
             [
              0.5555555555555556,
              "#d8576b"
             ],
             [
              0.6666666666666666,
              "#ed7953"
             ],
             [
              0.7777777777777778,
              "#fb9f3a"
             ],
             [
              0.8888888888888888,
              "#fdca26"
             ],
             [
              1,
              "#f0f921"
             ]
            ],
            "type": "histogram2dcontour"
           }
          ],
          "mesh3d": [
           {
            "colorbar": {
             "outlinewidth": 0,
             "ticks": ""
            },
            "type": "mesh3d"
           }
          ],
          "parcoords": [
           {
            "line": {
             "colorbar": {
              "outlinewidth": 0,
              "ticks": ""
             }
            },
            "type": "parcoords"
           }
          ],
          "pie": [
           {
            "automargin": true,
            "type": "pie"
           }
          ],
          "scatter": [
           {
            "fillpattern": {
             "fillmode": "overlay",
             "size": 10,
             "solidity": 0.2
            },
            "type": "scatter"
           }
          ],
          "scatter3d": [
           {
            "line": {
             "colorbar": {
              "outlinewidth": 0,
              "ticks": ""
             }
            },
            "marker": {
             "colorbar": {
              "outlinewidth": 0,
              "ticks": ""
             }
            },
            "type": "scatter3d"
           }
          ],
          "scattercarpet": [
           {
            "marker": {
             "colorbar": {
              "outlinewidth": 0,
              "ticks": ""
             }
            },
            "type": "scattercarpet"
           }
          ],
          "scattergeo": [
           {
            "marker": {
             "colorbar": {
              "outlinewidth": 0,
              "ticks": ""
             }
            },
            "type": "scattergeo"
           }
          ],
          "scattergl": [
           {
            "marker": {
             "colorbar": {
              "outlinewidth": 0,
              "ticks": ""
             }
            },
            "type": "scattergl"
           }
          ],
          "scattermap": [
           {
            "marker": {
             "colorbar": {
              "outlinewidth": 0,
              "ticks": ""
             }
            },
            "type": "scattermap"
           }
          ],
          "scattermapbox": [
           {
            "marker": {
             "colorbar": {
              "outlinewidth": 0,
              "ticks": ""
             }
            },
            "type": "scattermapbox"
           }
          ],
          "scatterpolar": [
           {
            "marker": {
             "colorbar": {
              "outlinewidth": 0,
              "ticks": ""
             }
            },
            "type": "scatterpolar"
           }
          ],
          "scatterpolargl": [
           {
            "marker": {
             "colorbar": {
              "outlinewidth": 0,
              "ticks": ""
             }
            },
            "type": "scatterpolargl"
           }
          ],
          "scatterternary": [
           {
            "marker": {
             "colorbar": {
              "outlinewidth": 0,
              "ticks": ""
             }
            },
            "type": "scatterternary"
           }
          ],
          "surface": [
           {
            "colorbar": {
             "outlinewidth": 0,
             "ticks": ""
            },
            "colorscale": [
             [
              0,
              "#0d0887"
             ],
             [
              0.1111111111111111,
              "#46039f"
             ],
             [
              0.2222222222222222,
              "#7201a8"
             ],
             [
              0.3333333333333333,
              "#9c179e"
             ],
             [
              0.4444444444444444,
              "#bd3786"
             ],
             [
              0.5555555555555556,
              "#d8576b"
             ],
             [
              0.6666666666666666,
              "#ed7953"
             ],
             [
              0.7777777777777778,
              "#fb9f3a"
             ],
             [
              0.8888888888888888,
              "#fdca26"
             ],
             [
              1,
              "#f0f921"
             ]
            ],
            "type": "surface"
           }
          ],
          "table": [
           {
            "cells": {
             "fill": {
              "color": "#EBF0F8"
             },
             "line": {
              "color": "white"
             }
            },
            "header": {
             "fill": {
              "color": "#C8D4E3"
             },
             "line": {
              "color": "white"
             }
            },
            "type": "table"
           }
          ]
         },
         "layout": {
          "annotationdefaults": {
           "arrowcolor": "#2a3f5f",
           "arrowhead": 0,
           "arrowwidth": 1
          },
          "autotypenumbers": "strict",
          "coloraxis": {
           "colorbar": {
            "outlinewidth": 0,
            "ticks": ""
           }
          },
          "colorscale": {
           "diverging": [
            [
             0,
             "#8e0152"
            ],
            [
             0.1,
             "#c51b7d"
            ],
            [
             0.2,
             "#de77ae"
            ],
            [
             0.3,
             "#f1b6da"
            ],
            [
             0.4,
             "#fde0ef"
            ],
            [
             0.5,
             "#f7f7f7"
            ],
            [
             0.6,
             "#e6f5d0"
            ],
            [
             0.7,
             "#b8e186"
            ],
            [
             0.8,
             "#7fbc41"
            ],
            [
             0.9,
             "#4d9221"
            ],
            [
             1,
             "#276419"
            ]
           ],
           "sequential": [
            [
             0,
             "#0d0887"
            ],
            [
             0.1111111111111111,
             "#46039f"
            ],
            [
             0.2222222222222222,
             "#7201a8"
            ],
            [
             0.3333333333333333,
             "#9c179e"
            ],
            [
             0.4444444444444444,
             "#bd3786"
            ],
            [
             0.5555555555555556,
             "#d8576b"
            ],
            [
             0.6666666666666666,
             "#ed7953"
            ],
            [
             0.7777777777777778,
             "#fb9f3a"
            ],
            [
             0.8888888888888888,
             "#fdca26"
            ],
            [
             1,
             "#f0f921"
            ]
           ],
           "sequentialminus": [
            [
             0,
             "#0d0887"
            ],
            [
             0.1111111111111111,
             "#46039f"
            ],
            [
             0.2222222222222222,
             "#7201a8"
            ],
            [
             0.3333333333333333,
             "#9c179e"
            ],
            [
             0.4444444444444444,
             "#bd3786"
            ],
            [
             0.5555555555555556,
             "#d8576b"
            ],
            [
             0.6666666666666666,
             "#ed7953"
            ],
            [
             0.7777777777777778,
             "#fb9f3a"
            ],
            [
             0.8888888888888888,
             "#fdca26"
            ],
            [
             1,
             "#f0f921"
            ]
           ]
          },
          "colorway": [
           "#636efa",
           "#EF553B",
           "#00cc96",
           "#ab63fa",
           "#FFA15A",
           "#19d3f3",
           "#FF6692",
           "#B6E880",
           "#FF97FF",
           "#FECB52"
          ],
          "font": {
           "color": "#2a3f5f"
          },
          "geo": {
           "bgcolor": "white",
           "lakecolor": "white",
           "landcolor": "#E5ECF6",
           "showlakes": true,
           "showland": true,
           "subunitcolor": "white"
          },
          "hoverlabel": {
           "align": "left"
          },
          "hovermode": "closest",
          "mapbox": {
           "style": "light"
          },
          "paper_bgcolor": "white",
          "plot_bgcolor": "#E5ECF6",
          "polar": {
           "angularaxis": {
            "gridcolor": "white",
            "linecolor": "white",
            "ticks": ""
           },
           "bgcolor": "#E5ECF6",
           "radialaxis": {
            "gridcolor": "white",
            "linecolor": "white",
            "ticks": ""
           }
          },
          "scene": {
           "xaxis": {
            "backgroundcolor": "#E5ECF6",
            "gridcolor": "white",
            "gridwidth": 2,
            "linecolor": "white",
            "showbackground": true,
            "ticks": "",
            "zerolinecolor": "white"
           },
           "yaxis": {
            "backgroundcolor": "#E5ECF6",
            "gridcolor": "white",
            "gridwidth": 2,
            "linecolor": "white",
            "showbackground": true,
            "ticks": "",
            "zerolinecolor": "white"
           },
           "zaxis": {
            "backgroundcolor": "#E5ECF6",
            "gridcolor": "white",
            "gridwidth": 2,
            "linecolor": "white",
            "showbackground": true,
            "ticks": "",
            "zerolinecolor": "white"
           }
          },
          "shapedefaults": {
           "line": {
            "color": "#2a3f5f"
           }
          },
          "ternary": {
           "aaxis": {
            "gridcolor": "white",
            "linecolor": "white",
            "ticks": ""
           },
           "baxis": {
            "gridcolor": "white",
            "linecolor": "white",
            "ticks": ""
           },
           "bgcolor": "#E5ECF6",
           "caxis": {
            "gridcolor": "white",
            "linecolor": "white",
            "ticks": ""
           }
          },
          "title": {
           "x": 0.05
          },
          "xaxis": {
           "automargin": true,
           "gridcolor": "white",
           "linecolor": "white",
           "ticks": "",
           "title": {
            "standoff": 15
           },
           "zerolinecolor": "white",
           "zerolinewidth": 2
          },
          "yaxis": {
           "automargin": true,
           "gridcolor": "white",
           "linecolor": "white",
           "ticks": "",
           "title": {
            "standoff": 15
           },
           "zerolinecolor": "white",
           "zerolinewidth": 2
          }
         }
        },
        "title": {
         "text": "Logit Difference From Patched Head Value"
        },
        "xaxis": {
         "anchor": "y",
         "domain": [
          0,
          1
         ],
         "title": {
          "text": "Head"
         }
        },
        "yaxis": {
         "anchor": "x",
         "autorange": "reversed",
         "domain": [
          0,
          1
         ],
         "title": {
          "text": "Layer"
         }
        }
       }
      },
      "image/png": "[encoded data removed]"
     },
     "metadata": {},
     "output_type": "display_data"
    }
   ],
   "source": [
    "imshow(\n",
    "    patched_head_v_diff,\n",
    "    title=\"Logit Difference From Patched Head Value\",\n",
    "    labels={\"x\": \"Head\", \"y\": \"Layer\"},\n",
    "    aspect='auto'\n",
    ")"
   ]
  },
  {
   "cell_type": "code",
   "execution_count": 93,
   "metadata": {},
   "outputs": [
    {
     "data": {
      "application/vnd.plotly.v1+json": {
       "config": {
        "plotlyServerURL": "https://plot.ly"
       },
       "data": [
        {
         "hovertemplate": "<b>%{hovertext}</b><br><br>Value Patch=%{x}<br>Output Patch=%{y}<br>Layer=%{marker.color}<extra></extra>",
         "hovertext": [
          "L0H0",
          "L0H1",
          "L0H2",
          "L0H3",
          "L0H4",
          "L0H5",
          "L0H6",
          "L0H7",
          "L0H8",
          "L0H9",
          "L0H10",
          "L0H11",
          "L0H12",
          "L0H13",
          "L0H14",
          "L0H15",
          "L1H0",
          "L1H1",
          "L1H2",
          "L1H3",
          "L1H4",
          "L1H5",
          "L1H6",
          "L1H7",
          "L1H8",
          "L1H9",
          "L1H10",
          "L1H11",
          "L1H12",
          "L1H13",
          "L1H14",
          "L1H15",
          "L2H0",
          "L2H1",
          "L2H2",
          "L2H3",
          "L2H4",
          "L2H5",
          "L2H6",
          "L2H7",
          "L2H8",
          "L2H9",
          "L2H10",
          "L2H11",
          "L2H12",
          "L2H13",
          "L2H14",
          "L2H15",
          "L3H0",
          "L3H1",
          "L3H2",
          "L3H3",
          "L3H4",
          "L3H5",
          "L3H6",
          "L3H7",
          "L3H8",
          "L3H9",
          "L3H10",
          "L3H11",
          "L3H12",
          "L3H13",
          "L3H14",
          "L3H15",
          "L4H0",
          "L4H1",
          "L4H2",
          "L4H3",
          "L4H4",
          "L4H5",
          "L4H6",
          "L4H7",
          "L4H8",
          "L4H9",
          "L4H10",
          "L4H11",
          "L4H12",
          "L4H13",
          "L4H14",
          "L4H15",
          "L5H0",
          "L5H1",
          "L5H2",
          "L5H3",
          "L5H4",
          "L5H5",
          "L5H6",
          "L5H7",
          "L5H8",
          "L5H9",
          "L5H10",
          "L5H11",
          "L5H12",
          "L5H13",
          "L5H14",
          "L5H15",
          "L6H0",
          "L6H1",
          "L6H2",
          "L6H3",
          "L6H4",
          "L6H5",
          "L6H6",
          "L6H7",
          "L6H8",
          "L6H9",
          "L6H10",
          "L6H11",
          "L6H12",
          "L6H13",
          "L6H14",
          "L6H15",
          "L7H0",
          "L7H1",
          "L7H2",
          "L7H3",
          "L7H4",
          "L7H5",
          "L7H6",
          "L7H7",
          "L7H8",
          "L7H9",
          "L7H10",
          "L7H11",
          "L7H12",
          "L7H13",
          "L7H14",
          "L7H15",
          "L8H0",
          "L8H1",
          "L8H2",
          "L8H3",
          "L8H4",
          "L8H5",
          "L8H6",
          "L8H7",
          "L8H8",
          "L8H9",
          "L8H10",
          "L8H11",
          "L8H12",
          "L8H13",
          "L8H14",
          "L8H15",
          "L9H0",
          "L9H1",
          "L9H2",
          "L9H3",
          "L9H4",
          "L9H5",
          "L9H6",
          "L9H7",
          "L9H8",
          "L9H9",
          "L9H10",
          "L9H11",
          "L9H12",
          "L9H13",
          "L9H14",
          "L9H15",
          "L10H0",
          "L10H1",
          "L10H2",
          "L10H3",
          "L10H4",
          "L10H5",
          "L10H6",
          "L10H7",
          "L10H8",
          "L10H9",
          "L10H10",
          "L10H11",
          "L10H12",
          "L10H13",
          "L10H14",
          "L10H15",
          "L11H0",
          "L11H1",
          "L11H2",
          "L11H3",
          "L11H4",
          "L11H5",
          "L11H6",
          "L11H7",
          "L11H8",
          "L11H9",
          "L11H10",
          "L11H11",
          "L11H12",
          "L11H13",
          "L11H14",
          "L11H15",
          "L12H0",
          "L12H1",
          "L12H2",
          "L12H3",
          "L12H4",
          "L12H5",
          "L12H6",
          "L12H7",
          "L12H8",
          "L12H9",
          "L12H10",
          "L12H11",
          "L12H12",
          "L12H13",
          "L12H14",
          "L12H15",
          "L13H0",
          "L13H1",
          "L13H2",
          "L13H3",
          "L13H4",
          "L13H5",
          "L13H6",
          "L13H7",
          "L13H8",
          "L13H9",
          "L13H10",
          "L13H11",
          "L13H12",
          "L13H13",
          "L13H14",
          "L13H15",
          "L14H0",
          "L14H1",
          "L14H2",
          "L14H3",
          "L14H4",
          "L14H5",
          "L14H6",
          "L14H7",
          "L14H8",
          "L14H9",
          "L14H10",
          "L14H11",
          "L14H12",
          "L14H13",
          "L14H14",
          "L14H15",
          "L15H0",
          "L15H1",
          "L15H2",
          "L15H3",
          "L15H4",
          "L15H5",
          "L15H6",
          "L15H7",
          "L15H8",
          "L15H9",
          "L15H10",
          "L15H11",
          "L15H12",
          "L15H13",
          "L15H14",
          "L15H15",
          "L16H0",
          "L16H1",
          "L16H2",
          "L16H3",
          "L16H4",
          "L16H5",
          "L16H6",
          "L16H7",
          "L16H8",
          "L16H9",
          "L16H10",
          "L16H11",
          "L16H12",
          "L16H13",
          "L16H14",
          "L16H15",
          "L17H0",
          "L17H1",
          "L17H2",
          "L17H3",
          "L17H4",
          "L17H5",
          "L17H6",
          "L17H7",
          "L17H8",
          "L17H9",
          "L17H10",
          "L17H11",
          "L17H12",
          "L17H13",
          "L17H14",
          "L17H15",
          "L18H0",
          "L18H1",
          "L18H2",
          "L18H3",
          "L18H4",
          "L18H5",
          "L18H6",
          "L18H7",
          "L18H8",
          "L18H9",
          "L18H10",
          "L18H11",
          "L18H12",
          "L18H13",
          "L18H14",
          "L18H15",
          "L19H0",
          "L19H1",
          "L19H2",
          "L19H3",
          "L19H4",
          "L19H5",
          "L19H6",
          "L19H7",
          "L19H8",
          "L19H9",
          "L19H10",
          "L19H11",
          "L19H12",
          "L19H13",
          "L19H14",
          "L19H15",
          "L20H0",
          "L20H1",
          "L20H2",
          "L20H3",
          "L20H4",
          "L20H5",
          "L20H6",
          "L20H7",
          "L20H8",
          "L20H9",
          "L20H10",
          "L20H11",
          "L20H12",
          "L20H13",
          "L20H14",
          "L20H15",
          "L21H0",
          "L21H1",
          "L21H2",
          "L21H3",
          "L21H4",
          "L21H5",
          "L21H6",
          "L21H7",
          "L21H8",
          "L21H9",
          "L21H10",
          "L21H11",
          "L21H12",
          "L21H13",
          "L21H14",
          "L21H15",
          "L22H0",
          "L22H1",
          "L22H2",
          "L22H3",
          "L22H4",
          "L22H5",
          "L22H6",
          "L22H7",
          "L22H8",
          "L22H9",
          "L22H10",
          "L22H11",
          "L22H12",
          "L22H13",
          "L22H14",
          "L22H15",
          "L23H0",
          "L23H1",
          "L23H2",
          "L23H3",
          "L23H4",
          "L23H5",
          "L23H6",
          "L23H7",
          "L23H8",
          "L23H9",
          "L23H10",
          "L23H11",
          "L23H12",
          "L23H13",
          "L23H14",
          "L23H15",
          "L24H0",
          "L24H1",
          "L24H2",
          "L24H3",
          "L24H4",
          "L24H5",
          "L24H6",
          "L24H7",
          "L24H8",
          "L24H9",
          "L24H10",
          "L24H11",
          "L24H12",
          "L24H13",
          "L24H14",
          "L24H15",
          "L25H0",
          "L25H1",
          "L25H2",
          "L25H3",
          "L25H4",
          "L25H5",
          "L25H6",
          "L25H7",
          "L25H8",
          "L25H9",
          "L25H10",
          "L25H11",
          "L25H12",
          "L25H13",
          "L25H14",
          "L25H15",
          "L26H0",
          "L26H1",
          "L26H2",
          "L26H3",
          "L26H4",
          "L26H5",
          "L26H6",
          "L26H7",
          "L26H8",
          "L26H9",
          "L26H10",
          "L26H11",
          "L26H12",
          "L26H13",
          "L26H14",
          "L26H15",
          "L27H0",
          "L27H1",
          "L27H2",
          "L27H3",
          "L27H4",
          "L27H5",
          "L27H6",
          "L27H7",
          "L27H8",
          "L27H9",
          "L27H10",
          "L27H11",
          "L27H12",
          "L27H13",
          "L27H14",
          "L27H15"
         ],
         "legendgroup": "",
         "marker": {
          "color": {
           "bdata": "AAAAAAAAAAAAAAAAAAAAAAEBAQEBAQEBAQEBAQEBAQECAgICAgICAgICAgICAgICAwMDAwMDAwMDAwMDAwMDAwQEBAQEBAQEBAQEBAQEBAQFBQUFBQUFBQUFBQUFBQUFBgYGBgYGBgYGBgYGBgYGBgcHBwcHBwcHBwcHBwcHBwcICAgICAgICAgICAgICAgICQkJCQkJCQkJCQkJCQkJCQoKCgoKCgoKCgoKCgoKCgoLCwsLCwsLCwsLCwsLCwsLDAwMDAwMDAwMDAwMDAwMDA0NDQ0NDQ0NDQ0NDQ0NDQ0ODg4ODg4ODg4ODg4ODg4ODw8PDw8PDw8PDw8PDw8PDxAQEBAQEBAQEBAQEBAQEBAREREREREREREREREREREREhISEhISEhISEhISEhISEhMTExMTExMTExMTExMTExMUFBQUFBQUFBQUFBQUFBQUFRUVFRUVFRUVFRUVFRUVFRYWFhYWFhYWFhYWFhYWFhYXFxcXFxcXFxcXFxcXFxcXGBgYGBgYGBgYGBgYGBgYGBkZGRkZGRkZGRkZGRkZGRkaGhoaGhoaGhoaGhoaGhoaGxsbGxsbGxsbGxsbGxsbGw==",
           "dtype": "i1"
          },
          "coloraxis": "coloraxis",
          "symbol": "circle"
         },
         "mode": "markers",
         "name": "",
         "orientation": "v",
         "showlegend": false,
         "type": "scatter",
         "x": {
          "bdata": "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",
          "dtype": "f4"
         },
         "xaxis": "x",
         "y": {
          "bdata": "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",
          "dtype": "f4"
         },
         "yaxis": "y"
        }
       ],
       "layout": {
        "coloraxis": {
         "colorbar": {
          "title": {
           "text": "Layer"
          }
         },
         "colorscale": [
          [
           0,
           "#0d0887"
          ],
          [
           0.1111111111111111,
           "#46039f"
          ],
          [
           0.2222222222222222,
           "#7201a8"
          ],
          [
           0.3333333333333333,
           "#9c179e"
          ],
          [
           0.4444444444444444,
           "#bd3786"
          ],
          [
           0.5555555555555556,
           "#d8576b"
          ],
          [
           0.6666666666666666,
           "#ed7953"
          ],
          [
           0.7777777777777778,
           "#fb9f3a"
          ],
          [
           0.8888888888888888,
           "#fdca26"
          ],
          [
           1,
           "#f0f921"
          ]
         ]
        },
        "legend": {
         "tracegroupgap": 0
        },
        "template": {
         "data": {
          "bar": [
           {
            "error_x": {
             "color": "#2a3f5f"
            },
            "error_y": {
             "color": "#2a3f5f"
            },
            "marker": {
             "line": {
              "color": "#E5ECF6",
              "width": 0.5
             },
             "pattern": {
              "fillmode": "overlay",
              "size": 10,
              "solidity": 0.2
             }
            },
            "type": "bar"
           }
          ],
          "barpolar": [
           {
            "marker": {
             "line": {
              "color": "#E5ECF6",
              "width": 0.5
             },
             "pattern": {
              "fillmode": "overlay",
              "size": 10,
              "solidity": 0.2
             }
            },
            "type": "barpolar"
           }
          ],
          "carpet": [
           {
            "aaxis": {
             "endlinecolor": "#2a3f5f",
             "gridcolor": "white",
             "linecolor": "white",
             "minorgridcolor": "white",
             "startlinecolor": "#2a3f5f"
            },
            "baxis": {
             "endlinecolor": "#2a3f5f",
             "gridcolor": "white",
             "linecolor": "white",
             "minorgridcolor": "white",
             "startlinecolor": "#2a3f5f"
            },
            "type": "carpet"
           }
          ],
          "choropleth": [
           {
            "colorbar": {
             "outlinewidth": 0,
             "ticks": ""
            },
            "type": "choropleth"
           }
          ],
          "contour": [
           {
            "colorbar": {
             "outlinewidth": 0,
             "ticks": ""
            },
            "colorscale": [
             [
              0,
              "#0d0887"
             ],
             [
              0.1111111111111111,
              "#46039f"
             ],
             [
              0.2222222222222222,
              "#7201a8"
             ],
             [
              0.3333333333333333,
              "#9c179e"
             ],
             [
              0.4444444444444444,
              "#bd3786"
             ],
             [
              0.5555555555555556,
              "#d8576b"
             ],
             [
              0.6666666666666666,
              "#ed7953"
             ],
             [
              0.7777777777777778,
              "#fb9f3a"
             ],
             [
              0.8888888888888888,
              "#fdca26"
             ],
             [
              1,
              "#f0f921"
             ]
            ],
            "type": "contour"
           }
          ],
          "contourcarpet": [
           {
            "colorbar": {
             "outlinewidth": 0,
             "ticks": ""
            },
            "type": "contourcarpet"
           }
          ],
          "heatmap": [
           {
            "colorbar": {
             "outlinewidth": 0,
             "ticks": ""
            },
            "colorscale": [
             [
              0,
              "#0d0887"
             ],
             [
              0.1111111111111111,
              "#46039f"
             ],
             [
              0.2222222222222222,
              "#7201a8"
             ],
             [
              0.3333333333333333,
              "#9c179e"
             ],
             [
              0.4444444444444444,
              "#bd3786"
             ],
             [
              0.5555555555555556,
              "#d8576b"
             ],
             [
              0.6666666666666666,
              "#ed7953"
             ],
             [
              0.7777777777777778,
              "#fb9f3a"
             ],
             [
              0.8888888888888888,
              "#fdca26"
             ],
             [
              1,
              "#f0f921"
             ]
            ],
            "type": "heatmap"
           }
          ],
          "histogram": [
           {
            "marker": {
             "pattern": {
              "fillmode": "overlay",
              "size": 10,
              "solidity": 0.2
             }
            },
            "type": "histogram"
           }
          ],
          "histogram2d": [
           {
            "colorbar": {
             "outlinewidth": 0,
             "ticks": ""
            },
            "colorscale": [
             [
              0,
              "#0d0887"
             ],
             [
              0.1111111111111111,
              "#46039f"
             ],
             [
              0.2222222222222222,
              "#7201a8"
             ],
             [
              0.3333333333333333,
              "#9c179e"
             ],
             [
              0.4444444444444444,
              "#bd3786"
             ],
             [
              0.5555555555555556,
              "#d8576b"
             ],
             [
              0.6666666666666666,
              "#ed7953"
             ],
             [
              0.7777777777777778,
              "#fb9f3a"
             ],
             [
              0.8888888888888888,
              "#fdca26"
             ],
             [
              1,
              "#f0f921"
             ]
            ],
            "type": "histogram2d"
           }
          ],
          "histogram2dcontour": [
           {
            "colorbar": {
             "outlinewidth": 0,
             "ticks": ""
            },
            "colorscale": [
             [
              0,
              "#0d0887"
             ],
             [
              0.1111111111111111,
              "#46039f"
             ],
             [
              0.2222222222222222,
              "#7201a8"
             ],
             [
              0.3333333333333333,
              "#9c179e"
             ],
             [
              0.4444444444444444,
              "#bd3786"
             ],
             [
              0.5555555555555556,
              "#d8576b"
             ],
             [
              0.6666666666666666,
              "#ed7953"
             ],
             [
              0.7777777777777778,
              "#fb9f3a"
             ],
             [
              0.8888888888888888,
              "#fdca26"
             ],
             [
              1,
              "#f0f921"
             ]
            ],
            "type": "histogram2dcontour"
           }
          ],
          "mesh3d": [
           {
            "colorbar": {
             "outlinewidth": 0,
             "ticks": ""
            },
            "type": "mesh3d"
           }
          ],
          "parcoords": [
           {
            "line": {
             "colorbar": {
              "outlinewidth": 0,
              "ticks": ""
             }
            },
            "type": "parcoords"
           }
          ],
          "pie": [
           {
            "automargin": true,
            "type": "pie"
           }
          ],
          "scatter": [
           {
            "fillpattern": {
             "fillmode": "overlay",
             "size": 10,
             "solidity": 0.2
            },
            "type": "scatter"
           }
          ],
          "scatter3d": [
           {
            "line": {
             "colorbar": {
              "outlinewidth": 0,
              "ticks": ""
             }
            },
            "marker": {
             "colorbar": {
              "outlinewidth": 0,
              "ticks": ""
             }
            },
            "type": "scatter3d"
           }
          ],
          "scattercarpet": [
           {
            "marker": {
             "colorbar": {
              "outlinewidth": 0,
              "ticks": ""
             }
            },
            "type": "scattercarpet"
           }
          ],
          "scattergeo": [
           {
            "marker": {
             "colorbar": {
              "outlinewidth": 0,
              "ticks": ""
             }
            },
            "type": "scattergeo"
           }
          ],
          "scattergl": [
           {
            "marker": {
             "colorbar": {
              "outlinewidth": 0,
              "ticks": ""
             }
            },
            "type": "scattergl"
           }
          ],
          "scattermap": [
           {
            "marker": {
             "colorbar": {
              "outlinewidth": 0,
              "ticks": ""
             }
            },
            "type": "scattermap"
           }
          ],
          "scattermapbox": [
           {
            "marker": {
             "colorbar": {
              "outlinewidth": 0,
              "ticks": ""
             }
            },
            "type": "scattermapbox"
           }
          ],
          "scatterpolar": [
           {
            "marker": {
             "colorbar": {
              "outlinewidth": 0,
              "ticks": ""
             }
            },
            "type": "scatterpolar"
           }
          ],
          "scatterpolargl": [
           {
            "marker": {
             "colorbar": {
              "outlinewidth": 0,
              "ticks": ""
             }
            },
            "type": "scatterpolargl"
           }
          ],
          "scatterternary": [
           {
            "marker": {
             "colorbar": {
              "outlinewidth": 0,
              "ticks": ""
             }
            },
            "type": "scatterternary"
           }
          ],
          "surface": [
           {
            "colorbar": {
             "outlinewidth": 0,
             "ticks": ""
            },
            "colorscale": [
             [
              0,
              "#0d0887"
             ],
             [
              0.1111111111111111,
              "#46039f"
             ],
             [
              0.2222222222222222,
              "#7201a8"
             ],
             [
              0.3333333333333333,
              "#9c179e"
             ],
             [
              0.4444444444444444,
              "#bd3786"
             ],
             [
              0.5555555555555556,
              "#d8576b"
             ],
             [
              0.6666666666666666,
              "#ed7953"
             ],
             [
              0.7777777777777778,
              "#fb9f3a"
             ],
             [
              0.8888888888888888,
              "#fdca26"
             ],
             [
              1,
              "#f0f921"
             ]
            ],
            "type": "surface"
           }
          ],
          "table": [
           {
            "cells": {
             "fill": {
              "color": "#EBF0F8"
             },
             "line": {
              "color": "white"
             }
            },
            "header": {
             "fill": {
              "color": "#C8D4E3"
             },
             "line": {
              "color": "white"
             }
            },
            "type": "table"
           }
          ]
         },
         "layout": {
          "annotationdefaults": {
           "arrowcolor": "#2a3f5f",
           "arrowhead": 0,
           "arrowwidth": 1
          },
          "autotypenumbers": "strict",
          "coloraxis": {
           "colorbar": {
            "outlinewidth": 0,
            "ticks": ""
           }
          },
          "colorscale": {
           "diverging": [
            [
             0,
             "#8e0152"
            ],
            [
             0.1,
             "#c51b7d"
            ],
            [
             0.2,
             "#de77ae"
            ],
            [
             0.3,
             "#f1b6da"
            ],
            [
             0.4,
             "#fde0ef"
            ],
            [
             0.5,
             "#f7f7f7"
            ],
            [
             0.6,
             "#e6f5d0"
            ],
            [
             0.7,
             "#b8e186"
            ],
            [
             0.8,
             "#7fbc41"
            ],
            [
             0.9,
             "#4d9221"
            ],
            [
             1,
             "#276419"
            ]
           ],
           "sequential": [
            [
             0,
             "#0d0887"
            ],
            [
             0.1111111111111111,
             "#46039f"
            ],
            [
             0.2222222222222222,
             "#7201a8"
            ],
            [
             0.3333333333333333,
             "#9c179e"
            ],
            [
             0.4444444444444444,
             "#bd3786"
            ],
            [
             0.5555555555555556,
             "#d8576b"
            ],
            [
             0.6666666666666666,
             "#ed7953"
            ],
            [
             0.7777777777777778,
             "#fb9f3a"
            ],
            [
             0.8888888888888888,
             "#fdca26"
            ],
            [
             1,
             "#f0f921"
            ]
           ],
           "sequentialminus": [
            [
             0,
             "#0d0887"
            ],
            [
             0.1111111111111111,
             "#46039f"
            ],
            [
             0.2222222222222222,
             "#7201a8"
            ],
            [
             0.3333333333333333,
             "#9c179e"
            ],
            [
             0.4444444444444444,
             "#bd3786"
            ],
            [
             0.5555555555555556,
             "#d8576b"
            ],
            [
             0.6666666666666666,
             "#ed7953"
            ],
            [
             0.7777777777777778,
             "#fb9f3a"
            ],
            [
             0.8888888888888888,
             "#fdca26"
            ],
            [
             1,
             "#f0f921"
            ]
           ]
          },
          "colorway": [
           "#636efa",
           "#EF553B",
           "#00cc96",
           "#ab63fa",
           "#FFA15A",
           "#19d3f3",
           "#FF6692",
           "#B6E880",
           "#FF97FF",
           "#FECB52"
          ],
          "font": {
           "color": "#2a3f5f"
          },
          "geo": {
           "bgcolor": "white",
           "lakecolor": "white",
           "landcolor": "#E5ECF6",
           "showlakes": true,
           "showland": true,
           "subunitcolor": "white"
          },
          "hoverlabel": {
           "align": "left"
          },
          "hovermode": "closest",
          "mapbox": {
           "style": "light"
          },
          "paper_bgcolor": "white",
          "plot_bgcolor": "#E5ECF6",
          "polar": {
           "angularaxis": {
            "gridcolor": "white",
            "linecolor": "white",
            "ticks": ""
           },
           "bgcolor": "#E5ECF6",
           "radialaxis": {
            "gridcolor": "white",
            "linecolor": "white",
            "ticks": ""
           }
          },
          "scene": {
           "xaxis": {
            "backgroundcolor": "#E5ECF6",
            "gridcolor": "white",
            "gridwidth": 2,
            "linecolor": "white",
            "showbackground": true,
            "ticks": "",
            "zerolinecolor": "white"
           },
           "yaxis": {
            "backgroundcolor": "#E5ECF6",
            "gridcolor": "white",
            "gridwidth": 2,
            "linecolor": "white",
            "showbackground": true,
            "ticks": "",
            "zerolinecolor": "white"
           },
           "zaxis": {
            "backgroundcolor": "#E5ECF6",
            "gridcolor": "white",
            "gridwidth": 2,
            "linecolor": "white",
            "showbackground": true,
            "ticks": "",
            "zerolinecolor": "white"
           }
          },
          "shapedefaults": {
           "line": {
            "color": "#2a3f5f"
           }
          },
          "ternary": {
           "aaxis": {
            "gridcolor": "white",
            "linecolor": "white",
            "ticks": ""
           },
           "baxis": {
            "gridcolor": "white",
            "linecolor": "white",
            "ticks": ""
           },
           "bgcolor": "#E5ECF6",
           "caxis": {
            "gridcolor": "white",
            "linecolor": "white",
            "ticks": ""
           }
          },
          "title": {
           "x": 0.05
          },
          "xaxis": {
           "automargin": true,
           "gridcolor": "white",
           "linecolor": "white",
           "ticks": "",
           "title": {
            "standoff": 15
           },
           "zerolinecolor": "white",
           "zerolinewidth": 2
          },
          "yaxis": {
           "automargin": true,
           "gridcolor": "white",
           "linecolor": "white",
           "ticks": "",
           "title": {
            "standoff": 15
           },
           "zerolinecolor": "white",
           "zerolinewidth": 2
          }
         }
        },
        "title": {
         "text": "Scatter plot of output patching vs value patching"
        },
        "xaxis": {
         "anchor": "y",
         "domain": [
          0,
          1
         ],
         "range": [
          -0.5,
          0.5
         ],
         "title": {
          "text": "Value Patch"
         }
        },
        "yaxis": {
         "anchor": "x",
         "domain": [
          0,
          1
         ],
         "range": [
          -0.5,
          0.5
         ],
         "title": {
          "text": "Output Patch"
         }
        }
       }
      },
      "image/png": "[encoded data removed]"
     },
     "metadata": {},
     "output_type": "display_data"
    }
   ],
   "source": [
    "head_labels = [\n",
    "    f\"L{l}H{h}\" for l in range(model.cfg.n_layers) for h in range(model.cfg.n_heads)\n",
    "]\n",
    "scatter(\n",
    "    x=utils.to_numpy(patched_head_v_diff.flatten()),\n",
    "    y=utils.to_numpy(patched_head_z_diff.flatten()),\n",
    "    xaxis=\"Value Patch\",\n",
    "    yaxis=\"Output Patch\",\n",
    "    caxis=\"Layer\",\n",
    "    hover_name=head_labels,\n",
    "    color=einops.repeat(\n",
    "        np.arange(model.cfg.n_layers), \"layer -> (layer head)\", head=model.cfg.n_heads\n",
    "    ),\n",
    "    range_x=(-0.5, 0.5),\n",
    "    range_y=(-0.5, 0.5),\n",
    "    title=\"Scatter plot of output patching vs value patching\",\n",
    ")"
   ]
  },
  {
   "cell_type": "code",
   "execution_count": 94,
   "metadata": {},
   "outputs": [],
   "source": [
    "def patch_head_pattern(\n",
    "    corrupted_head_pattern: torch.Tensor,  # [batch, attn_heads, query_pos, key_pos]\n",
    "    hook,\n",
    "    head_index,\n",
    "    clean_cache,\n",
    "):\n",
    "    \"\"\"\n",
    "    Patch a single attention head's pattern from the clean cache into the corrupted run,\n",
    "    handling grouped-query attention (GQA) if n_heads != n_key_value_heads.\n",
    "    \"\"\"\n",
    "    # Extract clean version\n",
    "    clean_pattern = clean_cache[hook.name]  # [batch, attn_heads, query_pos, key_pos]\n",
    "\n",
    "    n_heads = corrupted_head_pattern.size(1)\n",
    "    n_kv_heads = clean_pattern.size(1)  # May be smaller if GQA\n",
    "\n",
    "    if n_heads != n_kv_heads:\n",
    "        # Compute the kv head index for this head\n",
    "        # (MHA: head_index -> kv_index directly, GQA: kv_index = head_index // (n_heads / n_kv_heads))\n",
    "        group_size = n_heads // n_kv_heads\n",
    "        kv_index = head_index // group_size\n",
    "        corrupted_head_pattern[:, kv_index, :, :] = clean_pattern[:, kv_index, :, :]\n",
    "    else:\n",
    "        corrupted_head_pattern[:, head_index, :, :] = clean_pattern[:, head_index, :, :]\n",
    "\n",
    "    return corrupted_head_pattern"
   ]
  },
  {
   "cell_type": "code",
   "execution_count": 95,
   "metadata": {},
   "outputs": [
    {
     "name": "stderr",
     "output_type": "stream",
     "text": [
      "100%|██████████| 28/28 [00:32<00:00,  1.15s/it]\n"
     ]
    }
   ],
   "source": [
    "patched_head_attn_diff = torch.zeros(\n",
    "    model.cfg.n_layers, model.cfg.n_heads, device=device, dtype=torch.float32\n",
    ")\n",
    "\n",
    "for layer in tqdm(range(model.cfg.n_layers)):\n",
    "    for head_index in range(model.cfg.n_heads):\n",
    "        hook_fn = partial(patch_head_pattern, head_index=head_index, clean_cache=clean_cache)\n",
    "        patched_logits = model.run_with_hooks(\n",
    "            corrupted_tokens,\n",
    "            fwd_hooks=[(utils.get_act_name(\"pattern\", layer, \"attn\"), hook_fn)],\n",
    "            return_type=\"logits\",\n",
    "        )\n",
    "        patched_logit_diff = causal_tracing_metric(patched_logits,answer_tokens)\n",
    "\n",
    "        patched_head_attn_diff[layer, head_index] = patched_logit_diff"
   ]
  },
  {
   "cell_type": "code",
   "execution_count": 96,
   "metadata": {},
   "outputs": [
    {
     "data": {
      "application/vnd.plotly.v1+json": {
       "config": {
        "plotlyServerURL": "https://plot.ly"
       },
       "data": [
        {
         "coloraxis": "coloraxis",
         "hovertemplate": "Head: %{x}<br>Layer: %{y}<br>color: %{z}<extra></extra>",
         "name": "0",
         "type": "heatmap",
         "xaxis": "x",
         "yaxis": "y",
         "z": {
          "bdata": "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",
          "dtype": "f4",
          "shape": "28, 16"
         }
        }
       ],
       "layout": {
        "coloraxis": {
         "cmid": 0,
         "colorscale": [
          [
           0,
           "rgb(103,0,31)"
          ],
          [
           0.1,
           "rgb(178,24,43)"
          ],
          [
           0.2,
           "rgb(214,96,77)"
          ],
          [
           0.3,
           "rgb(244,165,130)"
          ],
          [
           0.4,
           "rgb(253,219,199)"
          ],
          [
           0.5,
           "rgb(247,247,247)"
          ],
          [
           0.6,
           "rgb(209,229,240)"
          ],
          [
           0.7,
           "rgb(146,197,222)"
          ],
          [
           0.8,
           "rgb(67,147,195)"
          ],
          [
           0.9,
           "rgb(33,102,172)"
          ],
          [
           1,
           "rgb(5,48,97)"
          ]
         ]
        },
        "template": {
         "data": {
          "bar": [
           {
            "error_x": {
             "color": "#2a3f5f"
            },
            "error_y": {
             "color": "#2a3f5f"
            },
            "marker": {
             "line": {
              "color": "#E5ECF6",
              "width": 0.5
             },
             "pattern": {
              "fillmode": "overlay",
              "size": 10,
              "solidity": 0.2
             }
            },
            "type": "bar"
           }
          ],
          "barpolar": [
           {
            "marker": {
             "line": {
              "color": "#E5ECF6",
              "width": 0.5
             },
             "pattern": {
              "fillmode": "overlay",
              "size": 10,
              "solidity": 0.2
             }
            },
            "type": "barpolar"
           }
          ],
          "carpet": [
           {
            "aaxis": {
             "endlinecolor": "#2a3f5f",
             "gridcolor": "white",
             "linecolor": "white",
             "minorgridcolor": "white",
             "startlinecolor": "#2a3f5f"
            },
            "baxis": {
             "endlinecolor": "#2a3f5f",
             "gridcolor": "white",
             "linecolor": "white",
             "minorgridcolor": "white",
             "startlinecolor": "#2a3f5f"
            },
            "type": "carpet"
           }
          ],
          "choropleth": [
           {
            "colorbar": {
             "outlinewidth": 0,
             "ticks": ""
            },
            "type": "choropleth"
           }
          ],
          "contour": [
           {
            "colorbar": {
             "outlinewidth": 0,
             "ticks": ""
            },
            "colorscale": [
             [
              0,
              "#0d0887"
             ],
             [
              0.1111111111111111,
              "#46039f"
             ],
             [
              0.2222222222222222,
              "#7201a8"
             ],
             [
              0.3333333333333333,
              "#9c179e"
             ],
             [
              0.4444444444444444,
              "#bd3786"
             ],
             [
              0.5555555555555556,
              "#d8576b"
             ],
             [
              0.6666666666666666,
              "#ed7953"
             ],
             [
              0.7777777777777778,
              "#fb9f3a"
             ],
             [
              0.8888888888888888,
              "#fdca26"
             ],
             [
              1,
              "#f0f921"
             ]
            ],
            "type": "contour"
           }
          ],
          "contourcarpet": [
           {
            "colorbar": {
             "outlinewidth": 0,
             "ticks": ""
            },
            "type": "contourcarpet"
           }
          ],
          "heatmap": [
           {
            "colorbar": {
             "outlinewidth": 0,
             "ticks": ""
            },
            "colorscale": [
             [
              0,
              "#0d0887"
             ],
             [
              0.1111111111111111,
              "#46039f"
             ],
             [
              0.2222222222222222,
              "#7201a8"
             ],
             [
              0.3333333333333333,
              "#9c179e"
             ],
             [
              0.4444444444444444,
              "#bd3786"
             ],
             [
              0.5555555555555556,
              "#d8576b"
             ],
             [
              0.6666666666666666,
              "#ed7953"
             ],
             [
              0.7777777777777778,
              "#fb9f3a"
             ],
             [
              0.8888888888888888,
              "#fdca26"
             ],
             [
              1,
              "#f0f921"
             ]
            ],
            "type": "heatmap"
           }
          ],
          "histogram": [
           {
            "marker": {
             "pattern": {
              "fillmode": "overlay",
              "size": 10,
              "solidity": 0.2
             }
            },
            "type": "histogram"
           }
          ],
          "histogram2d": [
           {
            "colorbar": {
             "outlinewidth": 0,
             "ticks": ""
            },
            "colorscale": [
             [
              0,
              "#0d0887"
             ],
             [
              0.1111111111111111,
              "#46039f"
             ],
             [
              0.2222222222222222,
              "#7201a8"
             ],
             [
              0.3333333333333333,
              "#9c179e"
             ],
             [
              0.4444444444444444,
              "#bd3786"
             ],
             [
              0.5555555555555556,
              "#d8576b"
             ],
             [
              0.6666666666666666,
              "#ed7953"
             ],
             [
              0.7777777777777778,
              "#fb9f3a"
             ],
             [
              0.8888888888888888,
              "#fdca26"
             ],
             [
              1,
              "#f0f921"
             ]
            ],
            "type": "histogram2d"
           }
          ],
          "histogram2dcontour": [
           {
            "colorbar": {
             "outlinewidth": 0,
             "ticks": ""
            },
            "colorscale": [
             [
              0,
              "#0d0887"
             ],
             [
              0.1111111111111111,
              "#46039f"
             ],
             [
              0.2222222222222222,
              "#7201a8"
             ],
             [
              0.3333333333333333,
              "#9c179e"
             ],
             [
              0.4444444444444444,
              "#bd3786"
             ],
             [
              0.5555555555555556,
              "#d8576b"
             ],
             [
              0.6666666666666666,
              "#ed7953"
             ],
             [
              0.7777777777777778,
              "#fb9f3a"
             ],
             [
              0.8888888888888888,
              "#fdca26"
             ],
             [
              1,
              "#f0f921"
             ]
            ],
            "type": "histogram2dcontour"
           }
          ],
          "mesh3d": [
           {
            "colorbar": {
             "outlinewidth": 0,
             "ticks": ""
            },
            "type": "mesh3d"
           }
          ],
          "parcoords": [
           {
            "line": {
             "colorbar": {
              "outlinewidth": 0,
              "ticks": ""
             }
            },
            "type": "parcoords"
           }
          ],
          "pie": [
           {
            "automargin": true,
            "type": "pie"
           }
          ],
          "scatter": [
           {
            "fillpattern": {
             "fillmode": "overlay",
             "size": 10,
             "solidity": 0.2
            },
            "type": "scatter"
           }
          ],
          "scatter3d": [
           {
            "line": {
             "colorbar": {
              "outlinewidth": 0,
              "ticks": ""
             }
            },
            "marker": {
             "colorbar": {
              "outlinewidth": 0,
              "ticks": ""
             }
            },
            "type": "scatter3d"
           }
          ],
          "scattercarpet": [
           {
            "marker": {
             "colorbar": {
              "outlinewidth": 0,
              "ticks": ""
             }
            },
            "type": "scattercarpet"
           }
          ],
          "scattergeo": [
           {
            "marker": {
             "colorbar": {
              "outlinewidth": 0,
              "ticks": ""
             }
            },
            "type": "scattergeo"
           }
          ],
          "scattergl": [
           {
            "marker": {
             "colorbar": {
              "outlinewidth": 0,
              "ticks": ""
             }
            },
            "type": "scattergl"
           }
          ],
          "scattermap": [
           {
            "marker": {
             "colorbar": {
              "outlinewidth": 0,
              "ticks": ""
             }
            },
            "type": "scattermap"
           }
          ],
          "scattermapbox": [
           {
            "marker": {
             "colorbar": {
              "outlinewidth": 0,
              "ticks": ""
             }
            },
            "type": "scattermapbox"
           }
          ],
          "scatterpolar": [
           {
            "marker": {
             "colorbar": {
              "outlinewidth": 0,
              "ticks": ""
             }
            },
            "type": "scatterpolar"
           }
          ],
          "scatterpolargl": [
           {
            "marker": {
             "colorbar": {
              "outlinewidth": 0,
              "ticks": ""
             }
            },
            "type": "scatterpolargl"
           }
          ],
          "scatterternary": [
           {
            "marker": {
             "colorbar": {
              "outlinewidth": 0,
              "ticks": ""
             }
            },
            "type": "scatterternary"
           }
          ],
          "surface": [
           {
            "colorbar": {
             "outlinewidth": 0,
             "ticks": ""
            },
            "colorscale": [
             [
              0,
              "#0d0887"
             ],
             [
              0.1111111111111111,
              "#46039f"
             ],
             [
              0.2222222222222222,
              "#7201a8"
             ],
             [
              0.3333333333333333,
              "#9c179e"
             ],
             [
              0.4444444444444444,
              "#bd3786"
             ],
             [
              0.5555555555555556,
              "#d8576b"
             ],
             [
              0.6666666666666666,
              "#ed7953"
             ],
             [
              0.7777777777777778,
              "#fb9f3a"
             ],
             [
              0.8888888888888888,
              "#fdca26"
             ],
             [
              1,
              "#f0f921"
             ]
            ],
            "type": "surface"
           }
          ],
          "table": [
           {
            "cells": {
             "fill": {
              "color": "#EBF0F8"
             },
             "line": {
              "color": "white"
             }
            },
            "header": {
             "fill": {
              "color": "#C8D4E3"
             },
             "line": {
              "color": "white"
             }
            },
            "type": "table"
           }
          ]
         },
         "layout": {
          "annotationdefaults": {
           "arrowcolor": "#2a3f5f",
           "arrowhead": 0,
           "arrowwidth": 1
          },
          "autotypenumbers": "strict",
          "coloraxis": {
           "colorbar": {
            "outlinewidth": 0,
            "ticks": ""
           }
          },
          "colorscale": {
           "diverging": [
            [
             0,
             "#8e0152"
            ],
            [
             0.1,
             "#c51b7d"
            ],
            [
             0.2,
             "#de77ae"
            ],
            [
             0.3,
             "#f1b6da"
            ],
            [
             0.4,
             "#fde0ef"
            ],
            [
             0.5,
             "#f7f7f7"
            ],
            [
             0.6,
             "#e6f5d0"
            ],
            [
             0.7,
             "#b8e186"
            ],
            [
             0.8,
             "#7fbc41"
            ],
            [
             0.9,
             "#4d9221"
            ],
            [
             1,
             "#276419"
            ]
           ],
           "sequential": [
            [
             0,
             "#0d0887"
            ],
            [
             0.1111111111111111,
             "#46039f"
            ],
            [
             0.2222222222222222,
             "#7201a8"
            ],
            [
             0.3333333333333333,
             "#9c179e"
            ],
            [
             0.4444444444444444,
             "#bd3786"
            ],
            [
             0.5555555555555556,
             "#d8576b"
            ],
            [
             0.6666666666666666,
             "#ed7953"
            ],
            [
             0.7777777777777778,
             "#fb9f3a"
            ],
            [
             0.8888888888888888,
             "#fdca26"
            ],
            [
             1,
             "#f0f921"
            ]
           ],
           "sequentialminus": [
            [
             0,
             "#0d0887"
            ],
            [
             0.1111111111111111,
             "#46039f"
            ],
            [
             0.2222222222222222,
             "#7201a8"
            ],
            [
             0.3333333333333333,
             "#9c179e"
            ],
            [
             0.4444444444444444,
             "#bd3786"
            ],
            [
             0.5555555555555556,
             "#d8576b"
            ],
            [
             0.6666666666666666,
             "#ed7953"
            ],
            [
             0.7777777777777778,
             "#fb9f3a"
            ],
            [
             0.8888888888888888,
             "#fdca26"
            ],
            [
             1,
             "#f0f921"
            ]
           ]
          },
          "colorway": [
           "#636efa",
           "#EF553B",
           "#00cc96",
           "#ab63fa",
           "#FFA15A",
           "#19d3f3",
           "#FF6692",
           "#B6E880",
           "#FF97FF",
           "#FECB52"
          ],
          "font": {
           "color": "#2a3f5f"
          },
          "geo": {
           "bgcolor": "white",
           "lakecolor": "white",
           "landcolor": "#E5ECF6",
           "showlakes": true,
           "showland": true,
           "subunitcolor": "white"
          },
          "hoverlabel": {
           "align": "left"
          },
          "hovermode": "closest",
          "mapbox": {
           "style": "light"
          },
          "paper_bgcolor": "white",
          "plot_bgcolor": "#E5ECF6",
          "polar": {
           "angularaxis": {
            "gridcolor": "white",
            "linecolor": "white",
            "ticks": ""
           },
           "bgcolor": "#E5ECF6",
           "radialaxis": {
            "gridcolor": "white",
            "linecolor": "white",
            "ticks": ""
           }
          },
          "scene": {
           "xaxis": {
            "backgroundcolor": "#E5ECF6",
            "gridcolor": "white",
            "gridwidth": 2,
            "linecolor": "white",
            "showbackground": true,
            "ticks": "",
            "zerolinecolor": "white"
           },
           "yaxis": {
            "backgroundcolor": "#E5ECF6",
            "gridcolor": "white",
            "gridwidth": 2,
            "linecolor": "white",
            "showbackground": true,
            "ticks": "",
            "zerolinecolor": "white"
           },
           "zaxis": {
            "backgroundcolor": "#E5ECF6",
            "gridcolor": "white",
            "gridwidth": 2,
            "linecolor": "white",
            "showbackground": true,
            "ticks": "",
            "zerolinecolor": "white"
           }
          },
          "shapedefaults": {
           "line": {
            "color": "#2a3f5f"
           }
          },
          "ternary": {
           "aaxis": {
            "gridcolor": "white",
            "linecolor": "white",
            "ticks": ""
           },
           "baxis": {
            "gridcolor": "white",
            "linecolor": "white",
            "ticks": ""
           },
           "bgcolor": "#E5ECF6",
           "caxis": {
            "gridcolor": "white",
            "linecolor": "white",
            "ticks": ""
           }
          },
          "title": {
           "x": 0.05
          },
          "xaxis": {
           "automargin": true,
           "gridcolor": "white",
           "linecolor": "white",
           "ticks": "",
           "title": {
            "standoff": 15
           },
           "zerolinecolor": "white",
           "zerolinewidth": 2
          },
          "yaxis": {
           "automargin": true,
           "gridcolor": "white",
           "linecolor": "white",
           "ticks": "",
           "title": {
            "standoff": 15
           },
           "zerolinecolor": "white",
           "zerolinewidth": 2
          }
         }
        },
        "title": {
         "text": "Logit Difference From Patched Head Pattern"
        },
        "xaxis": {
         "anchor": "y",
         "domain": [
          0,
          1
         ],
         "title": {
          "text": "Head"
         }
        },
        "yaxis": {
         "anchor": "x",
         "autorange": "reversed",
         "domain": [
          0,
          1
         ],
         "title": {
          "text": "Layer"
         }
        }
       }
      },
      "image/png": "[encoded data removed]"
     },
     "metadata": {},
     "output_type": "display_data"
    },
    {
     "data": {
      "application/vnd.plotly.v1+json": {
       "config": {
        "plotlyServerURL": "https://plot.ly"
       },
       "data": [
        {
         "hovertemplate": "<b>%{hovertext}</b><br><br>Attention Patch=%{x}<br>Output Patch=%{y}<extra></extra>",
         "hovertext": [
          "L0H0",
          "L0H1",
          "L0H2",
          "L0H3",
          "L0H4",
          "L0H5",
          "L0H6",
          "L0H7",
          "L0H8",
          "L0H9",
          "L0H10",
          "L0H11",
          "L0H12",
          "L0H13",
          "L0H14",
          "L0H15",
          "L1H0",
          "L1H1",
          "L1H2",
          "L1H3",
          "L1H4",
          "L1H5",
          "L1H6",
          "L1H7",
          "L1H8",
          "L1H9",
          "L1H10",
          "L1H11",
          "L1H12",
          "L1H13",
          "L1H14",
          "L1H15",
          "L2H0",
          "L2H1",
          "L2H2",
          "L2H3",
          "L2H4",
          "L2H5",
          "L2H6",
          "L2H7",
          "L2H8",
          "L2H9",
          "L2H10",
          "L2H11",
          "L2H12",
          "L2H13",
          "L2H14",
          "L2H15",
          "L3H0",
          "L3H1",
          "L3H2",
          "L3H3",
          "L3H4",
          "L3H5",
          "L3H6",
          "L3H7",
          "L3H8",
          "L3H9",
          "L3H10",
          "L3H11",
          "L3H12",
          "L3H13",
          "L3H14",
          "L3H15",
          "L4H0",
          "L4H1",
          "L4H2",
          "L4H3",
          "L4H4",
          "L4H5",
          "L4H6",
          "L4H7",
          "L4H8",
          "L4H9",
          "L4H10",
          "L4H11",
          "L4H12",
          "L4H13",
          "L4H14",
          "L4H15",
          "L5H0",
          "L5H1",
          "L5H2",
          "L5H3",
          "L5H4",
          "L5H5",
          "L5H6",
          "L5H7",
          "L5H8",
          "L5H9",
          "L5H10",
          "L5H11",
          "L5H12",
          "L5H13",
          "L5H14",
          "L5H15",
          "L6H0",
          "L6H1",
          "L6H2",
          "L6H3",
          "L6H4",
          "L6H5",
          "L6H6",
          "L6H7",
          "L6H8",
          "L6H9",
          "L6H10",
          "L6H11",
          "L6H12",
          "L6H13",
          "L6H14",
          "L6H15",
          "L7H0",
          "L7H1",
          "L7H2",
          "L7H3",
          "L7H4",
          "L7H5",
          "L7H6",
          "L7H7",
          "L7H8",
          "L7H9",
          "L7H10",
          "L7H11",
          "L7H12",
          "L7H13",
          "L7H14",
          "L7H15",
          "L8H0",
          "L8H1",
          "L8H2",
          "L8H3",
          "L8H4",
          "L8H5",
          "L8H6",
          "L8H7",
          "L8H8",
          "L8H9",
          "L8H10",
          "L8H11",
          "L8H12",
          "L8H13",
          "L8H14",
          "L8H15",
          "L9H0",
          "L9H1",
          "L9H2",
          "L9H3",
          "L9H4",
          "L9H5",
          "L9H6",
          "L9H7",
          "L9H8",
          "L9H9",
          "L9H10",
          "L9H11",
          "L9H12",
          "L9H13",
          "L9H14",
          "L9H15",
          "L10H0",
          "L10H1",
          "L10H2",
          "L10H3",
          "L10H4",
          "L10H5",
          "L10H6",
          "L10H7",
          "L10H8",
          "L10H9",
          "L10H10",
          "L10H11",
          "L10H12",
          "L10H13",
          "L10H14",
          "L10H15",
          "L11H0",
          "L11H1",
          "L11H2",
          "L11H3",
          "L11H4",
          "L11H5",
          "L11H6",
          "L11H7",
          "L11H8",
          "L11H9",
          "L11H10",
          "L11H11",
          "L11H12",
          "L11H13",
          "L11H14",
          "L11H15",
          "L12H0",
          "L12H1",
          "L12H2",
          "L12H3",
          "L12H4",
          "L12H5",
          "L12H6",
          "L12H7",
          "L12H8",
          "L12H9",
          "L12H10",
          "L12H11",
          "L12H12",
          "L12H13",
          "L12H14",
          "L12H15",
          "L13H0",
          "L13H1",
          "L13H2",
          "L13H3",
          "L13H4",
          "L13H5",
          "L13H6",
          "L13H7",
          "L13H8",
          "L13H9",
          "L13H10",
          "L13H11",
          "L13H12",
          "L13H13",
          "L13H14",
          "L13H15",
          "L14H0",
          "L14H1",
          "L14H2",
          "L14H3",
          "L14H4",
          "L14H5",
          "L14H6",
          "L14H7",
          "L14H8",
          "L14H9",
          "L14H10",
          "L14H11",
          "L14H12",
          "L14H13",
          "L14H14",
          "L14H15",
          "L15H0",
          "L15H1",
          "L15H2",
          "L15H3",
          "L15H4",
          "L15H5",
          "L15H6",
          "L15H7",
          "L15H8",
          "L15H9",
          "L15H10",
          "L15H11",
          "L15H12",
          "L15H13",
          "L15H14",
          "L15H15",
          "L16H0",
          "L16H1",
          "L16H2",
          "L16H3",
          "L16H4",
          "L16H5",
          "L16H6",
          "L16H7",
          "L16H8",
          "L16H9",
          "L16H10",
          "L16H11",
          "L16H12",
          "L16H13",
          "L16H14",
          "L16H15",
          "L17H0",
          "L17H1",
          "L17H2",
          "L17H3",
          "L17H4",
          "L17H5",
          "L17H6",
          "L17H7",
          "L17H8",
          "L17H9",
          "L17H10",
          "L17H11",
          "L17H12",
          "L17H13",
          "L17H14",
          "L17H15",
          "L18H0",
          "L18H1",
          "L18H2",
          "L18H3",
          "L18H4",
          "L18H5",
          "L18H6",
          "L18H7",
          "L18H8",
          "L18H9",
          "L18H10",
          "L18H11",
          "L18H12",
          "L18H13",
          "L18H14",
          "L18H15",
          "L19H0",
          "L19H1",
          "L19H2",
          "L19H3",
          "L19H4",
          "L19H5",
          "L19H6",
          "L19H7",
          "L19H8",
          "L19H9",
          "L19H10",
          "L19H11",
          "L19H12",
          "L19H13",
          "L19H14",
          "L19H15",
          "L20H0",
          "L20H1",
          "L20H2",
          "L20H3",
          "L20H4",
          "L20H5",
          "L20H6",
          "L20H7",
          "L20H8",
          "L20H9",
          "L20H10",
          "L20H11",
          "L20H12",
          "L20H13",
          "L20H14",
          "L20H15",
          "L21H0",
          "L21H1",
          "L21H2",
          "L21H3",
          "L21H4",
          "L21H5",
          "L21H6",
          "L21H7",
          "L21H8",
          "L21H9",
          "L21H10",
          "L21H11",
          "L21H12",
          "L21H13",
          "L21H14",
          "L21H15",
          "L22H0",
          "L22H1",
          "L22H2",
          "L22H3",
          "L22H4",
          "L22H5",
          "L22H6",
          "L22H7",
          "L22H8",
          "L22H9",
          "L22H10",
          "L22H11",
          "L22H12",
          "L22H13",
          "L22H14",
          "L22H15",
          "L23H0",
          "L23H1",
          "L23H2",
          "L23H3",
          "L23H4",
          "L23H5",
          "L23H6",
          "L23H7",
          "L23H8",
          "L23H9",
          "L23H10",
          "L23H11",
          "L23H12",
          "L23H13",
          "L23H14",
          "L23H15",
          "L24H0",
          "L24H1",
          "L24H2",
          "L24H3",
          "L24H4",
          "L24H5",
          "L24H6",
          "L24H7",
          "L24H8",
          "L24H9",
          "L24H10",
          "L24H11",
          "L24H12",
          "L24H13",
          "L24H14",
          "L24H15",
          "L25H0",
          "L25H1",
          "L25H2",
          "L25H3",
          "L25H4",
          "L25H5",
          "L25H6",
          "L25H7",
          "L25H8",
          "L25H9",
          "L25H10",
          "L25H11",
          "L25H12",
          "L25H13",
          "L25H14",
          "L25H15",
          "L26H0",
          "L26H1",
          "L26H2",
          "L26H3",
          "L26H4",
          "L26H5",
          "L26H6",
          "L26H7",
          "L26H8",
          "L26H9",
          "L26H10",
          "L26H11",
          "L26H12",
          "L26H13",
          "L26H14",
          "L26H15",
          "L27H0",
          "L27H1",
          "L27H2",
          "L27H3",
          "L27H4",
          "L27H5",
          "L27H6",
          "L27H7",
          "L27H8",
          "L27H9",
          "L27H10",
          "L27H11",
          "L27H12",
          "L27H13",
          "L27H14",
          "L27H15"
         ],
         "legendgroup": "",
         "marker": {
          "color": "#636efa",
          "symbol": "circle"
         },
         "mode": "markers",
         "name": "",
         "orientation": "v",
         "showlegend": false,
         "type": "scatter",
         "x": {
          "bdata": "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",
          "dtype": "f4"
         },
         "xaxis": "x",
         "y": {
          "bdata": "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",
          "dtype": "f4"
         },
         "yaxis": "y"
        }
       ],
       "layout": {
        "legend": {
         "tracegroupgap": 0
        },
        "template": {
         "data": {
          "bar": [
           {
            "error_x": {
             "color": "#2a3f5f"
            },
            "error_y": {
             "color": "#2a3f5f"
            },
            "marker": {
             "line": {
              "color": "#E5ECF6",
              "width": 0.5
             },
             "pattern": {
              "fillmode": "overlay",
              "size": 10,
              "solidity": 0.2
             }
            },
            "type": "bar"
           }
          ],
          "barpolar": [
           {
            "marker": {
             "line": {
              "color": "#E5ECF6",
              "width": 0.5
             },
             "pattern": {
              "fillmode": "overlay",
              "size": 10,
              "solidity": 0.2
             }
            },
            "type": "barpolar"
           }
          ],
          "carpet": [
           {
            "aaxis": {
             "endlinecolor": "#2a3f5f",
             "gridcolor": "white",
             "linecolor": "white",
             "minorgridcolor": "white",
             "startlinecolor": "#2a3f5f"
            },
            "baxis": {
             "endlinecolor": "#2a3f5f",
             "gridcolor": "white",
             "linecolor": "white",
             "minorgridcolor": "white",
             "startlinecolor": "#2a3f5f"
            },
            "type": "carpet"
           }
          ],
          "choropleth": [
           {
            "colorbar": {
             "outlinewidth": 0,
             "ticks": ""
            },
            "type": "choropleth"
           }
          ],
          "contour": [
           {
            "colorbar": {
             "outlinewidth": 0,
             "ticks": ""
            },
            "colorscale": [
             [
              0,
              "#0d0887"
             ],
             [
              0.1111111111111111,
              "#46039f"
             ],
             [
              0.2222222222222222,
              "#7201a8"
             ],
             [
              0.3333333333333333,
              "#9c179e"
             ],
             [
              0.4444444444444444,
              "#bd3786"
             ],
             [
              0.5555555555555556,
              "#d8576b"
             ],
             [
              0.6666666666666666,
              "#ed7953"
             ],
             [
              0.7777777777777778,
              "#fb9f3a"
             ],
             [
              0.8888888888888888,
              "#fdca26"
             ],
             [
              1,
              "#f0f921"
             ]
            ],
            "type": "contour"
           }
          ],
          "contourcarpet": [
           {
            "colorbar": {
             "outlinewidth": 0,
             "ticks": ""
            },
            "type": "contourcarpet"
           }
          ],
          "heatmap": [
           {
            "colorbar": {
             "outlinewidth": 0,
             "ticks": ""
            },
            "colorscale": [
             [
              0,
              "#0d0887"
             ],
             [
              0.1111111111111111,
              "#46039f"
             ],
             [
              0.2222222222222222,
              "#7201a8"
             ],
             [
              0.3333333333333333,
              "#9c179e"
             ],
             [
              0.4444444444444444,
              "#bd3786"
             ],
             [
              0.5555555555555556,
              "#d8576b"
             ],
             [
              0.6666666666666666,
              "#ed7953"
             ],
             [
              0.7777777777777778,
              "#fb9f3a"
             ],
             [
              0.8888888888888888,
              "#fdca26"
             ],
             [
              1,
              "#f0f921"
             ]
            ],
            "type": "heatmap"
           }
          ],
          "histogram": [
           {
            "marker": {
             "pattern": {
              "fillmode": "overlay",
              "size": 10,
              "solidity": 0.2
             }
            },
            "type": "histogram"
           }
          ],
          "histogram2d": [
           {
            "colorbar": {
             "outlinewidth": 0,
             "ticks": ""
            },
            "colorscale": [
             [
              0,
              "#0d0887"
             ],
             [
              0.1111111111111111,
              "#46039f"
             ],
             [
              0.2222222222222222,
              "#7201a8"
             ],
             [
              0.3333333333333333,
              "#9c179e"
             ],
             [
              0.4444444444444444,
              "#bd3786"
             ],
             [
              0.5555555555555556,
              "#d8576b"
             ],
             [
              0.6666666666666666,
              "#ed7953"
             ],
             [
              0.7777777777777778,
              "#fb9f3a"
             ],
             [
              0.8888888888888888,
              "#fdca26"
             ],
             [
              1,
              "#f0f921"
             ]
            ],
            "type": "histogram2d"
           }
          ],
          "histogram2dcontour": [
           {
            "colorbar": {
             "outlinewidth": 0,
             "ticks": ""
            },
            "colorscale": [
             [
              0,
              "#0d0887"
             ],
             [
              0.1111111111111111,
              "#46039f"
             ],
             [
              0.2222222222222222,
              "#7201a8"
             ],
             [
              0.3333333333333333,
              "#9c179e"
             ],
             [
              0.4444444444444444,
              "#bd3786"
             ],
             [
              0.5555555555555556,
              "#d8576b"
             ],
             [
              0.6666666666666666,
              "#ed7953"
             ],
             [
              0.7777777777777778,
              "#fb9f3a"
             ],
             [
              0.8888888888888888,
              "#fdca26"
             ],
             [
              1,
              "#f0f921"
             ]
            ],
            "type": "histogram2dcontour"
           }
          ],
          "mesh3d": [
           {
            "colorbar": {
             "outlinewidth": 0,
             "ticks": ""
            },
            "type": "mesh3d"
           }
          ],
          "parcoords": [
           {
            "line": {
             "colorbar": {
              "outlinewidth": 0,
              "ticks": ""
             }
            },
            "type": "parcoords"
           }
          ],
          "pie": [
           {
            "automargin": true,
            "type": "pie"
           }
          ],
          "scatter": [
           {
            "fillpattern": {
             "fillmode": "overlay",
             "size": 10,
             "solidity": 0.2
            },
            "type": "scatter"
           }
          ],
          "scatter3d": [
           {
            "line": {
             "colorbar": {
              "outlinewidth": 0,
              "ticks": ""
             }
            },
            "marker": {
             "colorbar": {
              "outlinewidth": 0,
              "ticks": ""
             }
            },
            "type": "scatter3d"
           }
          ],
          "scattercarpet": [
           {
            "marker": {
             "colorbar": {
              "outlinewidth": 0,
              "ticks": ""
             }
            },
            "type": "scattercarpet"
           }
          ],
          "scattergeo": [
           {
            "marker": {
             "colorbar": {
              "outlinewidth": 0,
              "ticks": ""
             }
            },
            "type": "scattergeo"
           }
          ],
          "scattergl": [
           {
            "marker": {
             "colorbar": {
              "outlinewidth": 0,
              "ticks": ""
             }
            },
            "type": "scattergl"
           }
          ],
          "scattermap": [
           {
            "marker": {
             "colorbar": {
              "outlinewidth": 0,
              "ticks": ""
             }
            },
            "type": "scattermap"
           }
          ],
          "scattermapbox": [
           {
            "marker": {
             "colorbar": {
              "outlinewidth": 0,
              "ticks": ""
             }
            },
            "type": "scattermapbox"
           }
          ],
          "scatterpolar": [
           {
            "marker": {
             "colorbar": {
              "outlinewidth": 0,
              "ticks": ""
             }
            },
            "type": "scatterpolar"
           }
          ],
          "scatterpolargl": [
           {
            "marker": {
             "colorbar": {
              "outlinewidth": 0,
              "ticks": ""
             }
            },
            "type": "scatterpolargl"
           }
          ],
          "scatterternary": [
           {
            "marker": {
             "colorbar": {
              "outlinewidth": 0,
              "ticks": ""
             }
            },
            "type": "scatterternary"
           }
          ],
          "surface": [
           {
            "colorbar": {
             "outlinewidth": 0,
             "ticks": ""
            },
            "colorscale": [
             [
              0,
              "#0d0887"
             ],
             [
              0.1111111111111111,
              "#46039f"
             ],
             [
              0.2222222222222222,
              "#7201a8"
             ],
             [
              0.3333333333333333,
              "#9c179e"
             ],
             [
              0.4444444444444444,
              "#bd3786"
             ],
             [
              0.5555555555555556,
              "#d8576b"
             ],
             [
              0.6666666666666666,
              "#ed7953"
             ],
             [
              0.7777777777777778,
              "#fb9f3a"
             ],
             [
              0.8888888888888888,
              "#fdca26"
             ],
             [
              1,
              "#f0f921"
             ]
            ],
            "type": "surface"
           }
          ],
          "table": [
           {
            "cells": {
             "fill": {
              "color": "#EBF0F8"
             },
             "line": {
              "color": "white"
             }
            },
            "header": {
             "fill": {
              "color": "#C8D4E3"
             },
             "line": {
              "color": "white"
             }
            },
            "type": "table"
           }
          ]
         },
         "layout": {
          "annotationdefaults": {
           "arrowcolor": "#2a3f5f",
           "arrowhead": 0,
           "arrowwidth": 1
          },
          "autotypenumbers": "strict",
          "coloraxis": {
           "colorbar": {
            "outlinewidth": 0,
            "ticks": ""
           }
          },
          "colorscale": {
           "diverging": [
            [
             0,
             "#8e0152"
            ],
            [
             0.1,
             "#c51b7d"
            ],
            [
             0.2,
             "#de77ae"
            ],
            [
             0.3,
             "#f1b6da"
            ],
            [
             0.4,
             "#fde0ef"
            ],
            [
             0.5,
             "#f7f7f7"
            ],
            [
             0.6,
             "#e6f5d0"
            ],
            [
             0.7,
             "#b8e186"
            ],
            [
             0.8,
             "#7fbc41"
            ],
            [
             0.9,
             "#4d9221"
            ],
            [
             1,
             "#276419"
            ]
           ],
           "sequential": [
            [
             0,
             "#0d0887"
            ],
            [
             0.1111111111111111,
             "#46039f"
            ],
            [
             0.2222222222222222,
             "#7201a8"
            ],
            [
             0.3333333333333333,
             "#9c179e"
            ],
            [
             0.4444444444444444,
             "#bd3786"
            ],
            [
             0.5555555555555556,
             "#d8576b"
            ],
            [
             0.6666666666666666,
             "#ed7953"
            ],
            [
             0.7777777777777778,
             "#fb9f3a"
            ],
            [
             0.8888888888888888,
             "#fdca26"
            ],
            [
             1,
             "#f0f921"
            ]
           ],
           "sequentialminus": [
            [
             0,
             "#0d0887"
            ],
            [
             0.1111111111111111,
             "#46039f"
            ],
            [
             0.2222222222222222,
             "#7201a8"
            ],
            [
             0.3333333333333333,
             "#9c179e"
            ],
            [
             0.4444444444444444,
             "#bd3786"
            ],
            [
             0.5555555555555556,
             "#d8576b"
            ],
            [
             0.6666666666666666,
             "#ed7953"
            ],
            [
             0.7777777777777778,
             "#fb9f3a"
            ],
            [
             0.8888888888888888,
             "#fdca26"
            ],
            [
             1,
             "#f0f921"
            ]
           ]
          },
          "colorway": [
           "#636efa",
           "#EF553B",
           "#00cc96",
           "#ab63fa",
           "#FFA15A",
           "#19d3f3",
           "#FF6692",
           "#B6E880",
           "#FF97FF",
           "#FECB52"
          ],
          "font": {
           "color": "#2a3f5f"
          },
          "geo": {
           "bgcolor": "white",
           "lakecolor": "white",
           "landcolor": "#E5ECF6",
           "showlakes": true,
           "showland": true,
           "subunitcolor": "white"
          },
          "hoverlabel": {
           "align": "left"
          },
          "hovermode": "closest",
          "mapbox": {
           "style": "light"
          },
          "paper_bgcolor": "white",
          "plot_bgcolor": "#E5ECF6",
          "polar": {
           "angularaxis": {
            "gridcolor": "white",
            "linecolor": "white",
            "ticks": ""
           },
           "bgcolor": "#E5ECF6",
           "radialaxis": {
            "gridcolor": "white",
            "linecolor": "white",
            "ticks": ""
           }
          },
          "scene": {
           "xaxis": {
            "backgroundcolor": "#E5ECF6",
            "gridcolor": "white",
            "gridwidth": 2,
            "linecolor": "white",
            "showbackground": true,
            "ticks": "",
            "zerolinecolor": "white"
           },
           "yaxis": {
            "backgroundcolor": "#E5ECF6",
            "gridcolor": "white",
            "gridwidth": 2,
            "linecolor": "white",
            "showbackground": true,
            "ticks": "",
            "zerolinecolor": "white"
           },
           "zaxis": {
            "backgroundcolor": "#E5ECF6",
            "gridcolor": "white",
            "gridwidth": 2,
            "linecolor": "white",
            "showbackground": true,
            "ticks": "",
            "zerolinecolor": "white"
           }
          },
          "shapedefaults": {
           "line": {
            "color": "#2a3f5f"
           }
          },
          "ternary": {
           "aaxis": {
            "gridcolor": "white",
            "linecolor": "white",
            "ticks": ""
           },
           "baxis": {
            "gridcolor": "white",
            "linecolor": "white",
            "ticks": ""
           },
           "bgcolor": "#E5ECF6",
           "caxis": {
            "gridcolor": "white",
            "linecolor": "white",
            "ticks": ""
           }
          },
          "title": {
           "x": 0.05
          },
          "xaxis": {
           "automargin": true,
           "gridcolor": "white",
           "linecolor": "white",
           "ticks": "",
           "title": {
            "standoff": 15
           },
           "zerolinecolor": "white",
           "zerolinewidth": 2
          },
          "yaxis": {
           "automargin": true,
           "gridcolor": "white",
           "linecolor": "white",
           "ticks": "",
           "title": {
            "standoff": 15
           },
           "zerolinecolor": "white",
           "zerolinewidth": 2
          }
         }
        },
        "title": {
         "text": "Scatter plot of output patching vs attention patching"
        },
        "xaxis": {
         "anchor": "y",
         "domain": [
          0,
          1
         ],
         "title": {
          "text": "Attention Patch"
         }
        },
        "yaxis": {
         "anchor": "x",
         "domain": [
          0,
          1
         ],
         "title": {
          "text": "Output Patch"
         }
        }
       }
      },
      "image/png": "[encoded data removed]"
     },
     "metadata": {},
     "output_type": "display_data"
    }
   ],
   "source": [
    "imshow(\n",
    "    patched_head_attn_diff,\n",
    "    title=\"Logit Difference From Patched Head Pattern\",\n",
    "    labels={\"x\": \"Head\", \"y\": \"Layer\"},\n",
    "    aspect='auto'\n",
    ")\n",
    "head_labels = [\n",
    "    f\"L{l}H{h}\" for l in range(model.cfg.n_layers) for h in range(model.cfg.n_heads)\n",
    "]\n",
    "scatter(\n",
    "    x=utils.to_numpy(patched_head_attn_diff.flatten()),\n",
    "    y=utils.to_numpy(patched_head_z_diff.flatten()),\n",
    "    hover_name=head_labels,\n",
    "    xaxis=\"Attention Patch\",\n",
    "    yaxis=\"Output Patch\",\n",
    "    title=\"Scatter plot of output patching vs attention patching\",\n",
    ")"
   ]
  },
  {
   "cell_type": "code",
   "execution_count": null,
   "metadata": {},
   "outputs": [],
   "source": []
  }
 ],
 "metadata": {
  "accelerator": "GPU",
  "kernelspec": {
   "display_name": "Python (myenv)",
   "language": "python",
   "name": "myenv"
  },
  "language_info": {
   "codemirror_mode": {
    "name": "ipython",
    "version": 3
   },
   "file_extension": ".py",
   "mimetype": "text/x-python",
   "name": "python",
   "nbconvert_exporter": "python",
   "pygments_lexer": "ipython3",
   "version": "3.10.6"
  },
  "vscode": {
   "interpreter": {
    "hash": "2c3ec9f9cb0aa45979d92499665f4b05f2a3528d3b2ca0efacea2020d32b93f4"
   }
  }
 },
 "nbformat": 4,
 "nbformat_minor": 4
}
