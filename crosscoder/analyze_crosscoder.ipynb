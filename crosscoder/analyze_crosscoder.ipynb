{
 "cells": [
  {
   "cell_type": "code",
   "execution_count": null,
   "id": "23514c47-f650-44ee-9518-3f36d4346208",
   "metadata": {},
   "outputs": [],
   "source": [
    "from torch.nn.functional import cosine_similarity\n",
    "import torch as th\n",
    "import numpy as np\n",
    "import pandas as pd\n",
    "from pathlib import Path\n",
    "\n",
    "import plotly.express as px\n",
    "import plotly.graph_objects as go\n",
    "from pathlib import Path\n",
    "\n",
    "th.set_grad_enabled(False)"
   ]
  },
  {
   "cell_type": "code",
   "execution_count": null,
   "id": "34285b51-93f2-41f7-9f5b-f8ac22a576a4",
   "metadata": {},
   "outputs": [],
   "source": [
    "device = \"cuda\""
   ]
  },
  {
   "cell_type": "code",
   "execution_count": null,
   "id": "f308569c-8553-4fe2-aa0f-ab554e6b23a6",
   "metadata": {},
   "outputs": [],
   "source": [
    "import numpy as np\n",
    "if not hasattr(np, \"bool\"):\n",
    "    np.bool = bool "
   ]
  },
  {
   "cell_type": "code",
   "execution_count": null,
   "id": "dab07849-2782-47e5-8cf2-ef20ae163e59",
   "metadata": {},
   "outputs": [],
   "source": [
    "import json"
   ]
  },
  {
   "cell_type": "code",
   "execution_count": null,
   "id": "86c6eb50-36d3-407d-90ce-33e8e8c5d747",
   "metadata": {},
   "outputs": [],
   "source": [
    "def load_dictionary_model(\n",
    "    model_name: str | Path, is_sae: bool | None = None,\n",
    "):\n",
    "    \"\"\"Load a dictionary model from a local path or HuggingFace Hub.\n",
    "\n",
    "    Args:\n",
    "        model_name: Name or path of the model to load\n",
    "\n",
    "    Returns:\n",
    "        The loaded dictionary model\n",
    "    \"\"\"\n",
    "\n",
    "    # Local model\n",
    "    model_path = Path(model_name)\n",
    "    if not model_path.exists():\n",
    "        raise ValueError(f\"Local model {model_name} does not exist\")\n",
    "\n",
    "    # Load the config\n",
    "    with open(model_path.parent / \"config.json\", \"r\") as f:\n",
    "        config = json.load(f)[\"trainer\"]\n",
    "\n",
    "    # Determine model class based on config\n",
    "    if \"dict_class\" in config and config[\"dict_class\"] in [\n",
    "        \"BatchTopKSAE\",\n",
    "        \"CrossCoder\",\n",
    "        \"BatchTopKCrossCoder\",\n",
    "    ]:\n",
    "        return eval(f\"{config['dict_class']}.from_pretrained(model_path)\")\n",
    "    else:\n",
    "        raise ValueError(f\"Unknown model type: {config['dict_class']}\")\n"
   ]
  },
  {
   "cell_type": "code",
   "execution_count": null,
   "id": "1abeab85-48bb-4d55-b4fc-14f3cba36e69",
   "metadata": {},
   "outputs": [],
   "source": [
    "from dictionary_learning.dictionary import BatchTopKCrossCoder, CrossCoder"
   ]
  },
  {
   "cell_type": "code",
   "execution_count": null,
   "id": "9eaf39ed-0c0b-4195-8acc-5e1f397d01e6",
   "metadata": {},
   "outputs": [],
   "source": [
    "coder = load_dictionary_model(\"crosscoder_checkpoints/Qwen3-1.7B-L20-k100-lr1e-04-ep2-run_1-Crosscoder/checkpoint_90000.pt\")"
   ]
  },
  {
   "cell_type": "code",
   "execution_count": null,
   "id": "a9ddde3f-1949-46cd-848f-7fd515224cd8",
   "metadata": {},
   "outputs": [],
   "source": [
    "base_layer, instruct_layer = 0,1 "
   ]
  },
  {
   "cell_type": "code",
   "execution_count": null,
   "id": "11d66f84-4615-449e-8655-1c490ee37173",
   "metadata": {},
   "outputs": [],
   "source": [
    "df = pd.read_csv(\"latent_df.csv\")"
   ]
  },
  {
   "cell_type": "code",
   "execution_count": null,
   "id": "fd453f96-3019-4584-8540-105dcf16de8a",
   "metadata": {},
   "outputs": [],
   "source": [
    "deads = (df.frequencies_true.values == 0) & (df.frequencies_false.values == 0)"
   ]
  },
  {
   "cell_type": "code",
   "execution_count": null,
   "id": "ccc721cc-082a-4493-a044-7668d71a46dd",
   "metadata": {},
   "outputs": [],
   "source": [
    "num_layers, activation_dim, dict_size = coder.encoder.weight.shape\n",
    "alive_mask = ~deads"
   ]
  },
  {
   "cell_type": "code",
   "execution_count": null,
   "id": "1ba9a58a-a426-42ac-b9f2-556094a10a30",
   "metadata": {},
   "outputs": [],
   "source": [
    "# Create masks for each category\n",
    "finetune_only_mask = norm_diffs[alive_mask] <= 0.2\n",
    "base_only_mask = norm_diffs[alive_mask] >= 0.8\n",
    "shared_mask = (0.4 <= norm_diffs[alive_mask]) & (norm_diffs[alive_mask] <= 0.6)\n",
    "other_mask = ~(finetune_only_mask | base_only_mask | shared_mask)\n",
    "\n",
    "# Create figure\n",
    "fig = go.Figure()\n",
    "\n",
    "# Add histogram traces for each category\n",
    "fig.add_trace(\n",
    "    go.Histogram(\n",
    "        x=norm_diffs[alive_mask][finetune_only_mask],\n",
    "        name=\"Finetune only\",\n",
    "        marker_color=\"green\",\n",
    "        nbinsx=50,\n",
    "    )\n",
    ")\n",
    "\n",
    "fig.add_trace(\n",
    "    go.Histogram(\n",
    "        x=norm_diffs[alive_mask][base_only_mask],\n",
    "        name=\"Base only\",\n",
    "        marker_color=\"orange\",\n",
    "        nbinsx=50,\n",
    "    )\n",
    ")\n",
    "\n",
    "fig.add_trace(\n",
    "    go.Histogram(\n",
    "        x=norm_diffs[alive_mask][shared_mask],\n",
    "        name=\"Shared\",\n",
    "        marker_color=\"blue\",\n",
    "        nbinsx=50,\n",
    "    )\n",
    ")\n",
    "\n",
    "fig.add_trace(\n",
    "    go.Histogram(\n",
    "        x=norm_diffs[alive_mask][other_mask],\n",
    "        name=\"Other\",\n",
    "        marker_color=\"grey\",\n",
    "        nbinsx=50,\n",
    "    )\n",
    ")\n",
    "\n",
    "fig.update_layout(\n",
    "    annotations=[\n",
    "        dict(\n",
    "            x=0,\n",
    "            y=0,\n",
    "            xref=\"x\",\n",
    "            yref=\"paper\",\n",
    "            text=\"  <b>(Finetune only)</b>\",\n",
    "            showarrow=False,\n",
    "            yanchor=\"top\",\n",
    "            xanchor=\"left\",\n",
    "            font=dict(color=\"green\"),\n",
    "        ),\n",
    "        dict(\n",
    "            x=0.5,\n",
    "            y=0,\n",
    "            xref=\"x\",\n",
    "            yref=\"paper\",\n",
    "            text=\"    <b>(shared)</b>\",\n",
    "            showarrow=False,\n",
    "            yanchor=\"top\",\n",
    "            xanchor=\"left\",\n",
    "            font=dict(color=\"blue\"),\n",
    "        ),\n",
    "        dict(\n",
    "            x=1,\n",
    "            y=0,\n",
    "            xref=\"x\",\n",
    "            yref=\"paper\",\n",
    "            text=\"  <b>(Base only)</b>\",\n",
    "            showarrow=False,\n",
    "            yanchor=\"top\",\n",
    "            xanchor=\"left\",\n",
    "            font=dict(color=\"orange\"),\n",
    "        ),\n",
    "    ],\n",
    "    shapes=[\n",
    "        dict(  # Finetune threshold\n",
    "            type=\"line\",\n",
    "            x0=0.2,\n",
    "            y0=0,\n",
    "            x1=0.2,\n",
    "            y1=1,\n",
    "            xref=\"x\",\n",
    "            yref=\"paper\",\n",
    "            line=dict(color=\"green\", width=2),\n",
    "        ),\n",
    "        dict(  # Base threshold\n",
    "            type=\"line\",\n",
    "            x0=0.8,\n",
    "            y0=0,\n",
    "            x1=0.8,\n",
    "            y1=1,\n",
    "            xref=\"x\",\n",
    "            yref=\"paper\",\n",
    "            line=dict(color=\"orange\", width=2),\n",
    "        ),\n",
    "        dict(  # Shared lower\n",
    "            type=\"line\",\n",
    "            x0=0.4,\n",
    "            y0=0,\n",
    "            x1=0.4,\n",
    "            y1=1,\n",
    "            xref=\"x\",\n",
    "            yref=\"paper\",\n",
    "            line=dict(color=\"blue\", width=2),\n",
    "        ),\n",
    "        dict(  # Shared upper\n",
    "            type=\"line\",\n",
    "            x0=0.6,\n",
    "            y0=0,\n",
    "            x1=0.6,\n",
    "            y1=1,\n",
    "            xref=\"x\",\n",
    "            yref=\"paper\",\n",
    "            line=dict(color=\"blue\", width=2),\n",
    "        ),\n",
    "    ],\n",
    "    showlegend=False,\n",
    ")\n",
    "\n",
    "fig.update_xaxes(tickvals=[0, 0.5, 1])\n",
    "fig.update_xaxes(title=\"Sorted Features (Highest to Lowest Difference)\")\n",
    "fig.update_yaxes(title=\"Relative Norm Difference\", range=[0, 50])\n",
    "fig.update_layout(barmode=\"stack\")\n",
    "fig.show()"
   ]
  },
  {
   "cell_type": "code",
   "execution_count": null,
   "id": "7ac43570-abb3-44ee-b949-b2106fbceefa",
   "metadata": {},
   "outputs": [],
   "source": [
    "df['dec_norm_diffs'] = norm_diffs"
   ]
  },
  {
   "cell_type": "code",
   "execution_count": null,
   "id": "4a63417f-0dc2-48f3-8039-ce7b0ce2a364",
   "metadata": {},
   "outputs": [],
   "source": [
    "conditions = [\n",
    "    df[\"dec_norm_diffs\"] <= 0.2,\n",
    "    (df[\"dec_norm_diffs\"] >= 0.4) & (df[\"dec_norm_diffs\"] <= 0.6),\n",
    "    df[\"dec_norm_diffs\"] >= 0.8,\n",
    "]\n",
    "choices = [\"Finetune_only\", \"Shared\", \"Base_only\"]\n",
    "\n",
    "df[\"latent_tag\"] = np.select(conditions, choices, default=\"Other\")"
   ]
  },
  {
   "cell_type": "code",
   "execution_count": null,
   "id": "c2fd60db-e8d0-4cc1-a4aa-cb8aa747aa34",
   "metadata": {},
   "outputs": [],
   "source": [
    "df.to_csv('latent_df.csv',index=False)"
   ]
  },
  {
   "cell_type": "code",
   "execution_count": null,
   "id": "d5681957-c981-4092-b7cb-21a0091106be",
   "metadata": {},
   "outputs": [],
   "source": []
  }
 ],
 "metadata": {
  "kernelspec": {
   "display_name": "Python 3 (ipykernel)",
   "language": "python",
   "name": "python3"
  },
  "language_info": {
   "codemirror_mode": {
    "name": "ipython",
    "version": 3
   },
   "file_extension": ".py",
   "mimetype": "text/x-python",
   "name": "python",
   "nbconvert_exporter": "python",
   "pygments_lexer": "ipython3",
   "version": "3.13.2"
  }
 },
 "nbformat": 4,
 "nbformat_minor": 5
}
